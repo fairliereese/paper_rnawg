{
 "cells": [
  {
   "cell_type": "code",
   "execution_count": 1,
   "metadata": {},
   "outputs": [],
   "source": [
    "import pandas as pd\n",
    "import sys\n",
    "import os\n",
    "import yaml\n",
    "from snakemake.io import expand\n",
    "import pdb\n",
    "import swan_vis as swan\n",
    "import scanpy as sc\n",
    "\n",
    "p = os.path.dirname(os.path.dirname(os.getcwd()))\n",
    "sys.path.append(p)\n",
    "\n",
    "# from scripts.utils import *\n",
    "# from scripts.plotting import *\n",
    "# from scripts.mane_utils import *"
   ]
  },
  {
   "cell_type": "code",
   "execution_count": 2,
   "metadata": {},
   "outputs": [],
   "source": [
    "config_file = '../snakemake/config.yml'\n",
    "with open(config_file) as f:\n",
    "    config = yaml.safe_load(f)"
   ]
  },
  {
   "cell_type": "code",
   "execution_count": 3,
   "metadata": {},
   "outputs": [],
   "source": [
    "ab = '../'+expand(config['data']['ab'], species='human')[0]\n",
    "filt_ab = '../'+expand(config['data']['filt_ab'], species='human')[0]\n",
    "read_annot = '../'+expand(config['data']['read_annot'], species='human')[0]\n",
    "ref_t_metadata = '../'+expand(config['ref']['t_info'], species='human')[0]\n",
    "ref_g_metadata = '../'+expand(config['ref']['g_info'], species='human')[0]\n",
    "t_metadata = '../'+expand(config['ref']['cerberus']['t_info'], species='human')[0]\n",
    "lib_meta = '../'+expand(config['data']['meta'], species='human')[0]\n",
    "swan_file = '../'+expand(config['data']['sg'], species='human')[0]\n",
    "cerberus_h5 = '../'+expand(config['data']['cerb_annot'], species='human')[0]\n",
    "cerb_t_metadata = '../'+expand(config['data']['t_info'], species='human')[0]\n",
    "major_isos = '../'+expand(config['data']['major_isos'], species='human', obs_col='sample')[0]\n",
    "pp_summary = '../'+expand(config['data']['p_pred']['summary'], species='human')[0]\n",
    "\n",
    "ver = 'v40_cerberus'\n",
    "min_tpm = 1\n",
    "gene_subset = 'polya'\n",
    "obs_col = 'sample'\n",
    "\n",
    "m_lib_meta = '../'+expand(config['data']['meta'], species='mouse')[0]\n",
    "m_ab = '../'+expand(config['data']['ab'], species='mouse')[0]\n",
    "m_filt_ab = '../'+expand(config['data']['filt_ab'], species='mouse')[0]\n",
    "m_read_annot = '../'+expand(config['data']['read_annot'], species='mouse')[0]\n",
    "m_ref_t_metadata = '../'+expand(config['ref']['t_info'], species='mouse')[0]\n",
    "m_ref_g_metadata = '../'+expand(config['ref']['g_info'], species='mouse')[0]\n",
    "m_t_metadata = '../'+expand(config['ref']['cerberus']['t_info'], species='mouse')[0]\n",
    "m_lib_meta = '../'+expand(config['data']['meta'], species='mouse')[0]\n",
    "m_swan_file = '../'+expand(config['data']['sg'], species='mouse')[0]\n",
    "m_cerberus_h5 = '../'+expand(config['data']['cerb_annot'], species='mouse')[0]\n",
    "m_cerb_t_metadata = '../'+expand(config['data']['t_info'], species='mouse')[0]\n",
    "m_major_isos = '../'+expand(config['data']['major_isos'], species='mouse', obs_col='sample')[0]\n",
    "m_pp_summary = '../'+expand(config['data']['p_pred']['summary'], species='mouse')[0]\n",
    "\n",
    "\n",
    "mouse_ver = 'vM25_cerberus'"
   ]
  },
  {
   "cell_type": "markdown",
   "metadata": {},
   "source": [
    "## swan stuff 230514"
   ]
  },
  {
   "cell_type": "code",
   "execution_count": 4,
   "metadata": {},
   "outputs": [
    {
     "name": "stdout",
     "output_type": "stream",
     "text": [
      "\n",
      "Adding annotation to the SwanGraph\n",
      "\n",
      "Adding transcriptome to the SwanGraph\n"
     ]
    },
    {
     "name": "stderr",
     "output_type": "stream",
     "text": [
      "/Users/fairliereese/miniconda3/envs/scanpy/lib/python3.7/site-packages/anndata/_core/anndata.py:1094: FutureWarning: is_categorical is deprecated and will be removed in a future version.  Use is_categorical_dtype instead\n",
      "  if not is_categorical(df_full[k]):\n"
     ]
    },
    {
     "name": "stdout",
     "output_type": "stream",
     "text": [
      "\n",
      "Adding abundance for datasets h9_neural_crest_1_1, a673_1_1, h9_chondro_1_3, hl60_m2_24hr_1_2, h9_neural_crest_1_2... (and 133 more) to SwanGraph\n",
      "Calculating TPM...\n",
      "Calculating PI...\n"
     ]
    }
   ],
   "source": [
    "sg = swan.SwanGraph(edge_adata=False, \n",
    "                    end_adata=False,\n",
    "                    ic_adata=False)\n",
    "sg.add_annotation('/Users/fairliereese/mortazavi_lab/ref/gencode.v29/gencode.v29.annotation.gtf')\n",
    "sg.add_transcriptome('/Users/fairliereese/mortazavi_lab/data/paper_rnawg/figures/data/human/cerberus.gtf', include_isms=True)\n",
    "sg.add_abundance(filt_ab)\n",
    "# sg.save_graph(params.prefix)\n"
   ]
  },
  {
   "cell_type": "code",
   "execution_count": 8,
   "metadata": {},
   "outputs": [
    {
     "ename": "AttributeError",
     "evalue": "'AnnData' object has no attribute 'head'",
     "output_type": "error",
     "traceback": [
      "\u001b[0;31m---------------------------------------------------------------------------\u001b[0m",
      "\u001b[0;31mAttributeError\u001b[0m                            Traceback (most recent call last)",
      "\u001b[0;32m<ipython-input-8-d8fb29d7e310>\u001b[0m in \u001b[0;36m<module>\u001b[0;34m\u001b[0m\n\u001b[0;32m----> 1\u001b[0;31m \u001b[0msg\u001b[0m\u001b[0;34m.\u001b[0m\u001b[0mic_adata\u001b[0m\u001b[0;34m.\u001b[0m\u001b[0mhead\u001b[0m\u001b[0;34m(\u001b[0m\u001b[0;34m)\u001b[0m\u001b[0;34m\u001b[0m\u001b[0;34m\u001b[0m\u001b[0m\n\u001b[0m",
      "\u001b[0;31mAttributeError\u001b[0m: 'AnnData' object has no attribute 'head'"
     ]
    }
   ],
   "source": [
    "sg.ic_adata.head()"
   ]
  },
  {
   "cell_type": "code",
   "execution_count": 13,
   "metadata": {},
   "outputs": [
    {
     "data": {
      "text/plain": [
       "'1.6.0'"
      ]
     },
     "execution_count": 13,
     "metadata": {},
     "output_type": "execute_result"
    }
   ],
   "source": [
    "import scanpy as sc\n",
    "sc.__version__"
   ]
  },
  {
   "cell_type": "code",
   "execution_count": 18,
   "metadata": {},
   "outputs": [
    {
     "name": "stdout",
     "output_type": "stream",
     "text": [
      "Object `sc.pp.normalize_total()` not found.\n"
     ]
    }
   ],
   "source": [
    "sc.pp.normalize_total()"
   ]
  },
  {
   "cell_type": "code",
   "execution_count": null,
   "metadata": {},
   "outputs": [],
   "source": []
  },
  {
   "cell_type": "code",
   "execution_count": null,
   "metadata": {},
   "outputs": [],
   "source": []
  },
  {
   "cell_type": "markdown",
   "metadata": {},
   "source": [
    "## Diane's stuff 2 230417"
   ]
  },
  {
   "cell_type": "code",
   "execution_count": 28,
   "metadata": {},
   "outputs": [],
   "source": [
    "from snakemake.io import expand\n",
    "import pandas as pd\n",
    "import yaml\n",
    "import pysam\n",
    "\n",
    "config_file = 'snakemake/config.yml'\n",
    "with open(config_file) as f:\n",
    "    config = yaml.safe_load(f)"
   ]
  },
  {
   "cell_type": "code",
   "execution_count": null,
   "metadata": {},
   "outputs": [],
   "source": []
  },
  {
   "cell_type": "code",
   "execution_count": null,
   "metadata": {},
   "outputs": [],
   "source": []
  },
  {
   "cell_type": "code",
   "execution_count": null,
   "metadata": {},
   "outputs": [],
   "source": []
  },
  {
   "cell_type": "code",
   "execution_count": null,
   "metadata": {},
   "outputs": [],
   "source": []
  },
  {
   "cell_type": "markdown",
   "metadata": {},
   "source": [
    "## Diane's stuff"
   ]
  },
  {
   "cell_type": "code",
   "execution_count": 1,
   "metadata": {},
   "outputs": [
    {
     "name": "stdout",
     "output_type": "stream",
     "text": [
      "Requirement already satisfied: encoded_client in /Users/fairliereese/Documents/programming/mortazavi_lab/bin/encoded_client (0.1.dev119+g590c9c6)\n",
      "Requirement already satisfied: jsonschema in /Users/fairliereese/miniconda3/lib/python3.7/site-packages (from encoded_client) (3.2.0)\n",
      "Requirement already satisfied: pandas in /Users/fairliereese/miniconda3/lib/python3.7/site-packages (from encoded_client) (1.3.5)\n",
      "Requirement already satisfied: requests in /Users/fairliereese/miniconda3/lib/python3.7/site-packages (from encoded_client) (2.25.1)\n",
      "Requirement already satisfied: awscli in /Users/fairliereese/miniconda3/lib/python3.7/site-packages (from encoded_client) (1.19.36)\n",
      "Requirement already satisfied: colorama<0.4.4,>=0.2.5 in /Users/fairliereese/miniconda3/lib/python3.7/site-packages (from awscli->encoded_client) (0.4.3)\n",
      "Requirement already satisfied: rsa<=4.5.0,>=3.1.2 in /Users/fairliereese/miniconda3/lib/python3.7/site-packages (from awscli->encoded_client) (4.0)\n",
      "Requirement already satisfied: s3transfer<0.4.0,>=0.3.0 in /Users/fairliereese/miniconda3/lib/python3.7/site-packages (from awscli->encoded_client) (0.3.6)\n",
      "Requirement already satisfied: botocore==1.20.36 in /Users/fairliereese/miniconda3/lib/python3.7/site-packages (from awscli->encoded_client) (1.20.36)\n",
      "Requirement already satisfied: PyYAML<5.5,>=3.10 in /Users/fairliereese/miniconda3/lib/python3.7/site-packages (from awscli->encoded_client) (5.4.1)\n",
      "Requirement already satisfied: docutils<0.16,>=0.10 in /Users/fairliereese/miniconda3/lib/python3.7/site-packages (from awscli->encoded_client) (0.15.2)\n",
      "Requirement already satisfied: python-dateutil<3.0.0,>=2.1 in /Users/fairliereese/miniconda3/lib/python3.7/site-packages (from botocore==1.20.36->awscli->encoded_client) (2.8.2)\n",
      "Requirement already satisfied: jmespath<1.0.0,>=0.7.1 in /Users/fairliereese/miniconda3/lib/python3.7/site-packages (from botocore==1.20.36->awscli->encoded_client) (0.10.0)\n",
      "Requirement already satisfied: urllib3<1.27,>=1.25.4 in /Users/fairliereese/miniconda3/lib/python3.7/site-packages (from botocore==1.20.36->awscli->encoded_client) (1.26.3)\n",
      "Requirement already satisfied: six>=1.5 in /Users/fairliereese/miniconda3/lib/python3.7/site-packages (from python-dateutil<3.0.0,>=2.1->botocore==1.20.36->awscli->encoded_client) (1.16.0)\n",
      "Requirement already satisfied: pyasn1>=0.1.3 in /Users/fairliereese/miniconda3/lib/python3.7/site-packages (from rsa<=4.5.0,>=3.1.2->awscli->encoded_client) (0.4.8)\n",
      "Requirement already satisfied: importlib-metadata in /Users/fairliereese/miniconda3/lib/python3.7/site-packages (from jsonschema->encoded_client) (1.7.0)\n",
      "Requirement already satisfied: attrs>=17.4.0 in /Users/fairliereese/miniconda3/lib/python3.7/site-packages (from jsonschema->encoded_client) (21.2.0)\n",
      "Requirement already satisfied: setuptools in /Users/fairliereese/miniconda3/lib/python3.7/site-packages (from jsonschema->encoded_client) (52.0.0.post20210125)\n",
      "Requirement already satisfied: pyrsistent>=0.14.0 in /Users/fairliereese/miniconda3/lib/python3.7/site-packages (from jsonschema->encoded_client) (0.17.3)\n",
      "Requirement already satisfied: zipp>=0.5 in /Users/fairliereese/miniconda3/lib/python3.7/site-packages (from importlib-metadata->jsonschema->encoded_client) (3.4.0)\n",
      "Requirement already satisfied: pytz>=2017.3 in /Users/fairliereese/miniconda3/lib/python3.7/site-packages (from pandas->encoded_client) (2022.7.1)\n",
      "Requirement already satisfied: numpy>=1.17.3 in /Users/fairliereese/miniconda3/lib/python3.7/site-packages (from pandas->encoded_client) (1.21.6)\n",
      "Requirement already satisfied: chardet<5,>=3.0.2 in /Users/fairliereese/miniconda3/lib/python3.7/site-packages (from requests->encoded_client) (3.0.4)\n",
      "Requirement already satisfied: certifi>=2017.4.17 in /Users/fairliereese/miniconda3/lib/python3.7/site-packages (from requests->encoded_client) (2022.12.7)\n",
      "Requirement already satisfied: idna<3,>=2.5 in /Users/fairliereese/miniconda3/lib/python3.7/site-packages (from requests->encoded_client) (2.10)\n"
     ]
    }
   ],
   "source": [
    "import sys\n",
    "!$sys.executable -m pip install --user encoded_client"
   ]
  },
  {
   "cell_type": "code",
   "execution_count": null,
   "metadata": {},
   "outputs": [],
   "source": [
    "def get_lr_fastq_ids(output_type='bam'):\n",
    "    \n",
    "    def get_genome_bam(experiment_id, cache_dir=None):\n",
    "        experiment = server.get_json(experiment_id)\n",
    "\n",
    "        metadata = []\n",
    "        default_analysis = experiment[\"default_analysis\"]\n",
    "        for f in experiment[\"files\"]:\n",
    "            analyses = [x[\"@id\"] for x in f[\"analyses\"]]\n",
    "            # this check only applies to processed data not reads (default_analysis in analyses and)\n",
    "            if f[\"output_type\"] in (\"reads\", \"unfiltered alignments\"):\n",
    "                if f[\"output_type\"] == \"unfiltered alignments\" and not default_analysis in analyses:\n",
    "                    # skip alignments for older analyses.\n",
    "                    continue\n",
    "                reps = f[\"technical_replicates\"]\n",
    "                assert len(reps) == 1\n",
    "                reps = reps[0]\n",
    "\n",
    "                extension = {\n",
    "                    \"fastq\": \".fastq.gz\",\n",
    "                    \"bam\": \".bam\",\n",
    "                }[f[\"file_format\"]]\n",
    "                target_name = \"{}_{}_{}_{}{}\".format(experiment[\"accession\"], reps, f[\"accession\"], f[\"output_type\"], extension)\n",
    "                # print(target_name)\n",
    "                if cache_dir is None:\n",
    "                    cache_dir = os.getcwd()\n",
    "                cache_dir = Path(cache_dir)\n",
    "                target = cache_dir / target_name\n",
    "\n",
    "                if not target.exists() or target.lstat().st_size != f[\"file_size\"]:\n",
    "                    with server.get_response(f[\"href\"], stream=True) as response:\n",
    "                        with open(target, 'wb') as outstream:\n",
    "                            shutil.copyfileobj(response.raw, outstream)\n",
    "\n",
    "                metadata.append({\n",
    "                    \"experiment\": experiment[\"accession\"],\n",
    "                    \"description\": experiment[\"description\"],\n",
    "                    \"simple_biosample_summary\": f[\"simple_biosample_summary\"],\n",
    "                    \"file\": f[\"accession\"],\n",
    "                    \"output_type\": f[\"output_type\"],\n",
    "                    \"file_size\": f[\"file_size\"],\n",
    "                    \"bio_rep\": f[\"biological_replicates\"][0],\n",
    "                    \"tech_rep\": f[\"technical_replicates\"][0],\n",
    "                    \"target\": target,\n",
    "                })\n",
    "\n",
    "        return metadata\n",
    "\n",
    "    server = ENCODED(\"www.encodeproject.org\") \n",
    "    cart_url = \"https://www.encodeproject.org/carts/829d339c-913c-4773-8001-80130796a367/\"    \n",
    "    \n",
    "    "
   ]
  },
  {
   "cell_type": "code",
   "execution_count": 2,
   "metadata": {},
   "outputs": [],
   "source": [
    "from encoded_client.encoded import ENCODED\n",
    "import os\n",
    "from pathlib import Path\n",
    "import pandas\n",
    "import shutil\n",
    "from tqdm import tqdm\n",
    "\n"
   ]
  },
  {
   "cell_type": "code",
   "execution_count": 3,
   "metadata": {},
   "outputs": [],
   "source": [
    "import encoded_client\n",
    "# encoded_client.__version__"
   ]
  },
  {
   "cell_type": "code",
   "execution_count": 4,
   "metadata": {},
   "outputs": [],
   "source": [
    "cart_url = \"https://www.encodeproject.org/carts/829d339c-913c-4773-8001-80130796a367/\""
   ]
  },
  {
   "cell_type": "code",
   "execution_count": 26,
   "metadata": {},
   "outputs": [],
   "source": [
    "def get_genome_bam(experiment_id, cache_dir=None):\n",
    "    experiment = server.get_json(experiment_id)\n",
    "\n",
    "    metadata = []\n",
    "    default_analysis = experiment[\"default_analysis\"]\n",
    "    for f in experiment[\"files\"]:\n",
    "        analyses = [x[\"@id\"] for x in f[\"analyses\"]]\n",
    "        # this check only applies to processed data not reads (default_analysis in analyses and)\n",
    "        if f[\"output_type\"] in (\"reads\", \"unfiltered alignments\"):\n",
    "            if f[\"output_type\"] == \"unfiltered alignments\" and not default_analysis in analyses:\n",
    "                # skip alignments for older analyses.\n",
    "                continue\n",
    "            reps = f[\"technical_replicates\"]\n",
    "            assert len(reps) == 1\n",
    "            reps = reps[0]\n",
    "            \n",
    "            extension = {\n",
    "                \"fastq\": \".fastq.gz\",\n",
    "                \"bam\": \".bam\",\n",
    "            }[f[\"file_format\"]]\n",
    "            target_name = \"{}_{}_{}_{}{}\".format(experiment[\"accession\"], reps, f[\"accession\"], f[\"output_type\"], extension)\n",
    "            # print(target_name)\n",
    "            if cache_dir is None:\n",
    "                cache_dir = os.getcwd()\n",
    "            cache_dir = Path(cache_dir)\n",
    "            target = cache_dir / target_name\n",
    "            \n",
    "            # if not target.exists() or target.lstat().st_size != f[\"file_size\"]:\n",
    "            #     with server.get_response(f[\"href\"], stream=True) as response:\n",
    "            #         with open(target, 'wb') as outstream:\n",
    "            #             shutil.copyfileobj(response.raw, outstream)\n",
    "\n",
    "            metadata.append({\n",
    "                \"experiment\": experiment[\"accession\"],\n",
    "                \"description\": experiment[\"description\"],\n",
    "                \"simple_biosample_summary\": f[\"simple_biosample_summary\"],\n",
    "                \"file\": f[\"accession\"],\n",
    "                \"output_type\": f[\"output_type\"],\n",
    "                \"file_size\": f[\"file_size\"],\n",
    "                \"bio_rep\": f[\"biological_replicates\"][0],\n",
    "                \"tech_rep\": f[\"technical_replicates\"][0],\n",
    "                \"target\": target,\n",
    "            })\n",
    "            \n",
    "    return metadata"
   ]
  },
  {
   "cell_type": "code",
   "execution_count": 27,
   "metadata": {},
   "outputs": [
    {
     "ename": "KeyboardInterrupt",
     "evalue": "",
     "output_type": "error",
     "traceback": [
      "\u001b[0;31m---------------------------------------------------------------------------\u001b[0m",
      "\u001b[0;31mKeyboardInterrupt\u001b[0m                         Traceback (most recent call last)",
      "\u001b[0;32m<ipython-input-27-83aae80669a5>\u001b[0m in \u001b[0;36m<module>\u001b[0;34m\u001b[0m\n\u001b[1;32m      6\u001b[0m \u001b[0mmetadata\u001b[0m \u001b[0;34m=\u001b[0m \u001b[0;34m[\u001b[0m\u001b[0;34m]\u001b[0m\u001b[0;34m\u001b[0m\u001b[0;34m\u001b[0m\u001b[0m\n\u001b[1;32m      7\u001b[0m \u001b[0;32mfor\u001b[0m \u001b[0mexperiment_id\u001b[0m \u001b[0;32min\u001b[0m \u001b[0mcart\u001b[0m\u001b[0;34m[\u001b[0m\u001b[0;34m\"elements\"\u001b[0m\u001b[0;34m]\u001b[0m\u001b[0;34m:\u001b[0m\u001b[0;34m\u001b[0m\u001b[0;34m\u001b[0m\u001b[0m\n\u001b[0;32m----> 8\u001b[0;31m     \u001b[0mmetadata\u001b[0m\u001b[0;34m.\u001b[0m\u001b[0mextend\u001b[0m\u001b[0;34m(\u001b[0m\u001b[0mget_genome_bam\u001b[0m\u001b[0;34m(\u001b[0m\u001b[0mexperiment_id\u001b[0m\u001b[0;34m,\u001b[0m \u001b[0mcache_dir\u001b[0m\u001b[0;34m)\u001b[0m\u001b[0;34m)\u001b[0m\u001b[0;34m\u001b[0m\u001b[0;34m\u001b[0m\u001b[0m\n\u001b[0m",
      "\u001b[0;32m<ipython-input-26-b1c20a0e4c12>\u001b[0m in \u001b[0;36mget_genome_bam\u001b[0;34m(experiment_id, cache_dir)\u001b[0m\n\u001b[1;32m     29\u001b[0m                 \u001b[0;32mwith\u001b[0m \u001b[0mserver\u001b[0m\u001b[0;34m.\u001b[0m\u001b[0mget_response\u001b[0m\u001b[0;34m(\u001b[0m\u001b[0mf\u001b[0m\u001b[0;34m[\u001b[0m\u001b[0;34m\"href\"\u001b[0m\u001b[0;34m]\u001b[0m\u001b[0;34m,\u001b[0m \u001b[0mstream\u001b[0m\u001b[0;34m=\u001b[0m\u001b[0;32mTrue\u001b[0m\u001b[0;34m)\u001b[0m \u001b[0;32mas\u001b[0m \u001b[0mresponse\u001b[0m\u001b[0;34m:\u001b[0m\u001b[0;34m\u001b[0m\u001b[0;34m\u001b[0m\u001b[0m\n\u001b[1;32m     30\u001b[0m                     \u001b[0;32mwith\u001b[0m \u001b[0mopen\u001b[0m\u001b[0;34m(\u001b[0m\u001b[0mtarget\u001b[0m\u001b[0;34m,\u001b[0m \u001b[0;34m'wb'\u001b[0m\u001b[0;34m)\u001b[0m \u001b[0;32mas\u001b[0m \u001b[0moutstream\u001b[0m\u001b[0;34m:\u001b[0m\u001b[0;34m\u001b[0m\u001b[0;34m\u001b[0m\u001b[0m\n\u001b[0;32m---> 31\u001b[0;31m                         \u001b[0mshutil\u001b[0m\u001b[0;34m.\u001b[0m\u001b[0mcopyfileobj\u001b[0m\u001b[0;34m(\u001b[0m\u001b[0mresponse\u001b[0m\u001b[0;34m.\u001b[0m\u001b[0mraw\u001b[0m\u001b[0;34m,\u001b[0m \u001b[0moutstream\u001b[0m\u001b[0;34m)\u001b[0m\u001b[0;34m\u001b[0m\u001b[0;34m\u001b[0m\u001b[0m\n\u001b[0m\u001b[1;32m     32\u001b[0m \u001b[0;34m\u001b[0m\u001b[0m\n\u001b[1;32m     33\u001b[0m             metadata.append({\n",
      "\u001b[0;32m~/miniconda3/lib/python3.7/shutil.py\u001b[0m in \u001b[0;36mcopyfileobj\u001b[0;34m(fsrc, fdst, length)\u001b[0m\n\u001b[1;32m     77\u001b[0m     \u001b[0;34m\"\"\"copy data from file-like object fsrc to file-like object fdst\"\"\"\u001b[0m\u001b[0;34m\u001b[0m\u001b[0;34m\u001b[0m\u001b[0m\n\u001b[1;32m     78\u001b[0m     \u001b[0;32mwhile\u001b[0m \u001b[0;36m1\u001b[0m\u001b[0;34m:\u001b[0m\u001b[0;34m\u001b[0m\u001b[0;34m\u001b[0m\u001b[0m\n\u001b[0;32m---> 79\u001b[0;31m         \u001b[0mbuf\u001b[0m \u001b[0;34m=\u001b[0m \u001b[0mfsrc\u001b[0m\u001b[0;34m.\u001b[0m\u001b[0mread\u001b[0m\u001b[0;34m(\u001b[0m\u001b[0mlength\u001b[0m\u001b[0;34m)\u001b[0m\u001b[0;34m\u001b[0m\u001b[0;34m\u001b[0m\u001b[0m\n\u001b[0m\u001b[1;32m     80\u001b[0m         \u001b[0;32mif\u001b[0m \u001b[0;32mnot\u001b[0m \u001b[0mbuf\u001b[0m\u001b[0;34m:\u001b[0m\u001b[0;34m\u001b[0m\u001b[0;34m\u001b[0m\u001b[0m\n\u001b[1;32m     81\u001b[0m             \u001b[0;32mbreak\u001b[0m\u001b[0;34m\u001b[0m\u001b[0;34m\u001b[0m\u001b[0m\n",
      "\u001b[0;32m~/miniconda3/lib/python3.7/site-packages/urllib3/response.py\u001b[0m in \u001b[0;36mread\u001b[0;34m(self, amt, decode_content, cache_content)\u001b[0m\n\u001b[1;32m    517\u001b[0m             \u001b[0;32melse\u001b[0m\u001b[0;34m:\u001b[0m\u001b[0;34m\u001b[0m\u001b[0;34m\u001b[0m\u001b[0m\n\u001b[1;32m    518\u001b[0m                 \u001b[0mcache_content\u001b[0m \u001b[0;34m=\u001b[0m \u001b[0;32mFalse\u001b[0m\u001b[0;34m\u001b[0m\u001b[0;34m\u001b[0m\u001b[0m\n\u001b[0;32m--> 519\u001b[0;31m                 \u001b[0mdata\u001b[0m \u001b[0;34m=\u001b[0m \u001b[0mself\u001b[0m\u001b[0;34m.\u001b[0m\u001b[0m_fp\u001b[0m\u001b[0;34m.\u001b[0m\u001b[0mread\u001b[0m\u001b[0;34m(\u001b[0m\u001b[0mamt\u001b[0m\u001b[0;34m)\u001b[0m \u001b[0;32mif\u001b[0m \u001b[0;32mnot\u001b[0m \u001b[0mfp_closed\u001b[0m \u001b[0;32melse\u001b[0m \u001b[0;34mb\"\"\u001b[0m\u001b[0;34m\u001b[0m\u001b[0;34m\u001b[0m\u001b[0m\n\u001b[0m\u001b[1;32m    520\u001b[0m                 if (\n\u001b[1;32m    521\u001b[0m                     \u001b[0mamt\u001b[0m \u001b[0;34m!=\u001b[0m \u001b[0;36m0\u001b[0m \u001b[0;32mand\u001b[0m \u001b[0;32mnot\u001b[0m \u001b[0mdata\u001b[0m\u001b[0;34m\u001b[0m\u001b[0;34m\u001b[0m\u001b[0m\n",
      "\u001b[0;32m~/miniconda3/lib/python3.7/http/client.py\u001b[0m in \u001b[0;36mread\u001b[0;34m(self, amt)\u001b[0m\n\u001b[1;32m    455\u001b[0m             \u001b[0;31m# Amount is given, implement using readinto\u001b[0m\u001b[0;34m\u001b[0m\u001b[0;34m\u001b[0m\u001b[0;34m\u001b[0m\u001b[0m\n\u001b[1;32m    456\u001b[0m             \u001b[0mb\u001b[0m \u001b[0;34m=\u001b[0m \u001b[0mbytearray\u001b[0m\u001b[0;34m(\u001b[0m\u001b[0mamt\u001b[0m\u001b[0;34m)\u001b[0m\u001b[0;34m\u001b[0m\u001b[0;34m\u001b[0m\u001b[0m\n\u001b[0;32m--> 457\u001b[0;31m             \u001b[0mn\u001b[0m \u001b[0;34m=\u001b[0m \u001b[0mself\u001b[0m\u001b[0;34m.\u001b[0m\u001b[0mreadinto\u001b[0m\u001b[0;34m(\u001b[0m\u001b[0mb\u001b[0m\u001b[0;34m)\u001b[0m\u001b[0;34m\u001b[0m\u001b[0;34m\u001b[0m\u001b[0m\n\u001b[0m\u001b[1;32m    458\u001b[0m             \u001b[0;32mreturn\u001b[0m \u001b[0mmemoryview\u001b[0m\u001b[0;34m(\u001b[0m\u001b[0mb\u001b[0m\u001b[0;34m)\u001b[0m\u001b[0;34m[\u001b[0m\u001b[0;34m:\u001b[0m\u001b[0mn\u001b[0m\u001b[0;34m]\u001b[0m\u001b[0;34m.\u001b[0m\u001b[0mtobytes\u001b[0m\u001b[0;34m(\u001b[0m\u001b[0;34m)\u001b[0m\u001b[0;34m\u001b[0m\u001b[0;34m\u001b[0m\u001b[0m\n\u001b[1;32m    459\u001b[0m         \u001b[0;32melse\u001b[0m\u001b[0;34m:\u001b[0m\u001b[0;34m\u001b[0m\u001b[0;34m\u001b[0m\u001b[0m\n",
      "\u001b[0;32m~/miniconda3/lib/python3.7/http/client.py\u001b[0m in \u001b[0;36mreadinto\u001b[0;34m(self, b)\u001b[0m\n\u001b[1;32m    499\u001b[0m         \u001b[0;31m# connection, and the user is reading more bytes than will be provided\u001b[0m\u001b[0;34m\u001b[0m\u001b[0;34m\u001b[0m\u001b[0;34m\u001b[0m\u001b[0m\n\u001b[1;32m    500\u001b[0m         \u001b[0;31m# (for example, reading in 1k chunks)\u001b[0m\u001b[0;34m\u001b[0m\u001b[0;34m\u001b[0m\u001b[0;34m\u001b[0m\u001b[0m\n\u001b[0;32m--> 501\u001b[0;31m         \u001b[0mn\u001b[0m \u001b[0;34m=\u001b[0m \u001b[0mself\u001b[0m\u001b[0;34m.\u001b[0m\u001b[0mfp\u001b[0m\u001b[0;34m.\u001b[0m\u001b[0mreadinto\u001b[0m\u001b[0;34m(\u001b[0m\u001b[0mb\u001b[0m\u001b[0;34m)\u001b[0m\u001b[0;34m\u001b[0m\u001b[0;34m\u001b[0m\u001b[0m\n\u001b[0m\u001b[1;32m    502\u001b[0m         \u001b[0;32mif\u001b[0m \u001b[0;32mnot\u001b[0m \u001b[0mn\u001b[0m \u001b[0;32mand\u001b[0m \u001b[0mb\u001b[0m\u001b[0;34m:\u001b[0m\u001b[0;34m\u001b[0m\u001b[0;34m\u001b[0m\u001b[0m\n\u001b[1;32m    503\u001b[0m             \u001b[0;31m# Ideally, we would raise IncompleteRead if the content-length\u001b[0m\u001b[0;34m\u001b[0m\u001b[0;34m\u001b[0m\u001b[0;34m\u001b[0m\u001b[0m\n",
      "\u001b[0;32m~/miniconda3/lib/python3.7/socket.py\u001b[0m in \u001b[0;36mreadinto\u001b[0;34m(self, b)\u001b[0m\n\u001b[1;32m    587\u001b[0m         \u001b[0;32mwhile\u001b[0m \u001b[0;32mTrue\u001b[0m\u001b[0;34m:\u001b[0m\u001b[0;34m\u001b[0m\u001b[0;34m\u001b[0m\u001b[0m\n\u001b[1;32m    588\u001b[0m             \u001b[0;32mtry\u001b[0m\u001b[0;34m:\u001b[0m\u001b[0;34m\u001b[0m\u001b[0;34m\u001b[0m\u001b[0m\n\u001b[0;32m--> 589\u001b[0;31m                 \u001b[0;32mreturn\u001b[0m \u001b[0mself\u001b[0m\u001b[0;34m.\u001b[0m\u001b[0m_sock\u001b[0m\u001b[0;34m.\u001b[0m\u001b[0mrecv_into\u001b[0m\u001b[0;34m(\u001b[0m\u001b[0mb\u001b[0m\u001b[0;34m)\u001b[0m\u001b[0;34m\u001b[0m\u001b[0;34m\u001b[0m\u001b[0m\n\u001b[0m\u001b[1;32m    590\u001b[0m             \u001b[0;32mexcept\u001b[0m \u001b[0mtimeout\u001b[0m\u001b[0;34m:\u001b[0m\u001b[0;34m\u001b[0m\u001b[0;34m\u001b[0m\u001b[0m\n\u001b[1;32m    591\u001b[0m                 \u001b[0mself\u001b[0m\u001b[0;34m.\u001b[0m\u001b[0m_timeout_occurred\u001b[0m \u001b[0;34m=\u001b[0m \u001b[0;32mTrue\u001b[0m\u001b[0;34m\u001b[0m\u001b[0;34m\u001b[0m\u001b[0m\n",
      "\u001b[0;32m~/miniconda3/lib/python3.7/ssl.py\u001b[0m in \u001b[0;36mrecv_into\u001b[0;34m(self, buffer, nbytes, flags)\u001b[0m\n\u001b[1;32m   1069\u001b[0m                   \u001b[0;34m\"non-zero flags not allowed in calls to recv_into() on %s\"\u001b[0m \u001b[0;34m%\u001b[0m\u001b[0;34m\u001b[0m\u001b[0;34m\u001b[0m\u001b[0m\n\u001b[1;32m   1070\u001b[0m                   self.__class__)\n\u001b[0;32m-> 1071\u001b[0;31m             \u001b[0;32mreturn\u001b[0m \u001b[0mself\u001b[0m\u001b[0;34m.\u001b[0m\u001b[0mread\u001b[0m\u001b[0;34m(\u001b[0m\u001b[0mnbytes\u001b[0m\u001b[0;34m,\u001b[0m \u001b[0mbuffer\u001b[0m\u001b[0;34m)\u001b[0m\u001b[0;34m\u001b[0m\u001b[0;34m\u001b[0m\u001b[0m\n\u001b[0m\u001b[1;32m   1072\u001b[0m         \u001b[0;32melse\u001b[0m\u001b[0;34m:\u001b[0m\u001b[0;34m\u001b[0m\u001b[0;34m\u001b[0m\u001b[0m\n\u001b[1;32m   1073\u001b[0m             \u001b[0;32mreturn\u001b[0m \u001b[0msuper\u001b[0m\u001b[0;34m(\u001b[0m\u001b[0;34m)\u001b[0m\u001b[0;34m.\u001b[0m\u001b[0mrecv_into\u001b[0m\u001b[0;34m(\u001b[0m\u001b[0mbuffer\u001b[0m\u001b[0;34m,\u001b[0m \u001b[0mnbytes\u001b[0m\u001b[0;34m,\u001b[0m \u001b[0mflags\u001b[0m\u001b[0;34m)\u001b[0m\u001b[0;34m\u001b[0m\u001b[0;34m\u001b[0m\u001b[0m\n",
      "\u001b[0;32m~/miniconda3/lib/python3.7/ssl.py\u001b[0m in \u001b[0;36mread\u001b[0;34m(self, len, buffer)\u001b[0m\n\u001b[1;32m    927\u001b[0m         \u001b[0;32mtry\u001b[0m\u001b[0;34m:\u001b[0m\u001b[0;34m\u001b[0m\u001b[0;34m\u001b[0m\u001b[0m\n\u001b[1;32m    928\u001b[0m             \u001b[0;32mif\u001b[0m \u001b[0mbuffer\u001b[0m \u001b[0;32mis\u001b[0m \u001b[0;32mnot\u001b[0m \u001b[0;32mNone\u001b[0m\u001b[0;34m:\u001b[0m\u001b[0;34m\u001b[0m\u001b[0;34m\u001b[0m\u001b[0m\n\u001b[0;32m--> 929\u001b[0;31m                 \u001b[0;32mreturn\u001b[0m \u001b[0mself\u001b[0m\u001b[0;34m.\u001b[0m\u001b[0m_sslobj\u001b[0m\u001b[0;34m.\u001b[0m\u001b[0mread\u001b[0m\u001b[0;34m(\u001b[0m\u001b[0mlen\u001b[0m\u001b[0;34m,\u001b[0m \u001b[0mbuffer\u001b[0m\u001b[0;34m)\u001b[0m\u001b[0;34m\u001b[0m\u001b[0;34m\u001b[0m\u001b[0m\n\u001b[0m\u001b[1;32m    930\u001b[0m             \u001b[0;32melse\u001b[0m\u001b[0;34m:\u001b[0m\u001b[0;34m\u001b[0m\u001b[0;34m\u001b[0m\u001b[0m\n\u001b[1;32m    931\u001b[0m                 \u001b[0;32mreturn\u001b[0m \u001b[0mself\u001b[0m\u001b[0;34m.\u001b[0m\u001b[0m_sslobj\u001b[0m\u001b[0;34m.\u001b[0m\u001b[0mread\u001b[0m\u001b[0;34m(\u001b[0m\u001b[0mlen\u001b[0m\u001b[0;34m)\u001b[0m\u001b[0;34m\u001b[0m\u001b[0;34m\u001b[0m\u001b[0m\n",
      "\u001b[0;31mKeyboardInterrupt\u001b[0m: "
     ]
    }
   ],
   "source": [
    "cache_dir = Path(\"cache\")\n",
    "cache_dir.mkdir(exist_ok=True)\n",
    "\n",
    "cart = server.get_json(cart_url)\n",
    "\n",
    "metadata = []\n",
    "for experiment_id in cart[\"elements\"]:\n",
    "    metadata.extend(get_genome_bam(experiment_id, cache_dir))"
   ]
  },
  {
   "cell_type": "code",
   "execution_count": 21,
   "metadata": {},
   "outputs": [
    {
     "data": {
      "text/html": [
       "<div>\n",
       "<style scoped>\n",
       "    .dataframe tbody tr th:only-of-type {\n",
       "        vertical-align: middle;\n",
       "    }\n",
       "\n",
       "    .dataframe tbody tr th {\n",
       "        vertical-align: top;\n",
       "    }\n",
       "\n",
       "    .dataframe thead th {\n",
       "        text-align: right;\n",
       "    }\n",
       "</style>\n",
       "<table border=\"1\" class=\"dataframe\">\n",
       "  <thead>\n",
       "    <tr style=\"text-align: right;\">\n",
       "      <th></th>\n",
       "      <th>experiment</th>\n",
       "      <th>description</th>\n",
       "      <th>simple_biosample_summary</th>\n",
       "      <th>file</th>\n",
       "      <th>output_type</th>\n",
       "      <th>file_size</th>\n",
       "      <th>bio_rep</th>\n",
       "      <th>tech_rep</th>\n",
       "      <th>target</th>\n",
       "    </tr>\n",
       "  </thead>\n",
       "  <tbody>\n",
       "    <tr>\n",
       "      <th>0</th>\n",
       "      <td>ENCSR293MOX</td>\n",
       "      <td>W62 right lobe of liver</td>\n",
       "      <td>female child (16 years)</td>\n",
       "      <td>ENCFF318SKH</td>\n",
       "      <td>reads</td>\n",
       "      <td>255510907</td>\n",
       "      <td>1</td>\n",
       "      <td>1_1</td>\n",
       "      <td>cache/ENCSR293MOX_1_1_ENCFF318SKH_reads.fastq.gz</td>\n",
       "    </tr>\n",
       "    <tr>\n",
       "      <th>1</th>\n",
       "      <td>ENCSR293MOX</td>\n",
       "      <td>W62 right lobe of liver</td>\n",
       "      <td>female child (16 years)</td>\n",
       "      <td>ENCFF430RUG</td>\n",
       "      <td>unfiltered alignments</td>\n",
       "      <td>362638099</td>\n",
       "      <td>1</td>\n",
       "      <td>1_1</td>\n",
       "      <td>cache/ENCSR293MOX_1_1_ENCFF430RUG_unfiltered a...</td>\n",
       "    </tr>\n",
       "    <tr>\n",
       "      <th>2</th>\n",
       "      <td>ENCSR081NRO</td>\n",
       "      <td>Adrenal Gland 1-2 ENTEX50</td>\n",
       "      <td>male adult (37 years)</td>\n",
       "      <td>ENCFF211SQY</td>\n",
       "      <td>reads</td>\n",
       "      <td>387217252</td>\n",
       "      <td>1</td>\n",
       "      <td>1_1</td>\n",
       "      <td>cache/ENCSR081NRO_1_1_ENCFF211SQY_reads.fastq.gz</td>\n",
       "    </tr>\n",
       "    <tr>\n",
       "      <th>3</th>\n",
       "      <td>ENCSR081NRO</td>\n",
       "      <td>Adrenal Gland 1-2 ENTEX50</td>\n",
       "      <td>male adult (37 years)</td>\n",
       "      <td>ENCFF967OHL</td>\n",
       "      <td>unfiltered alignments</td>\n",
       "      <td>521377683</td>\n",
       "      <td>1</td>\n",
       "      <td>1_1</td>\n",
       "      <td>cache/ENCSR081NRO_1_1_ENCFF967OHL_unfiltered a...</td>\n",
       "    </tr>\n",
       "    <tr>\n",
       "      <th>4</th>\n",
       "      <td>ENCSR257JBF</td>\n",
       "      <td>excitatory cortical neurons</td>\n",
       "      <td>male adult (53 years)</td>\n",
       "      <td>ENCFF919JFJ</td>\n",
       "      <td>reads</td>\n",
       "      <td>345607718</td>\n",
       "      <td>1</td>\n",
       "      <td>1_1</td>\n",
       "      <td>cache/ENCSR257JBF_1_1_ENCFF919JFJ_reads.fastq.gz</td>\n",
       "    </tr>\n",
       "    <tr>\n",
       "      <th>...</th>\n",
       "      <td>...</td>\n",
       "      <td>...</td>\n",
       "      <td>...</td>\n",
       "      <td>...</td>\n",
       "      <td>...</td>\n",
       "      <td>...</td>\n",
       "      <td>...</td>\n",
       "      <td>...</td>\n",
       "      <td>...</td>\n",
       "    </tr>\n",
       "    <tr>\n",
       "      <th>271</th>\n",
       "      <td>ENCSR462COR</td>\n",
       "      <td>RUSH brain E3348003</td>\n",
       "      <td>female adult (90 or above years) with Alzheime...</td>\n",
       "      <td>ENCFF565SOM</td>\n",
       "      <td>unfiltered alignments</td>\n",
       "      <td>1674565340</td>\n",
       "      <td>1</td>\n",
       "      <td>1_1</td>\n",
       "      <td>cache/ENCSR462COR_1_1_ENCFF565SOM_unfiltered a...</td>\n",
       "    </tr>\n",
       "    <tr>\n",
       "      <th>272</th>\n",
       "      <td>ENCSR257YUB</td>\n",
       "      <td>RUSH brain E4368365</td>\n",
       "      <td>male adult (90 or above years) with Alzheimer'...</td>\n",
       "      <td>ENCFF311CZO</td>\n",
       "      <td>reads</td>\n",
       "      <td>1533309113</td>\n",
       "      <td>1</td>\n",
       "      <td>1_1</td>\n",
       "      <td>cache/ENCSR257YUB_1_1_ENCFF311CZO_reads.fastq.gz</td>\n",
       "    </tr>\n",
       "    <tr>\n",
       "      <th>273</th>\n",
       "      <td>ENCSR257YUB</td>\n",
       "      <td>RUSH brain E4368365</td>\n",
       "      <td>male adult (90 or above years) with Alzheimer'...</td>\n",
       "      <td>ENCFF646VGI</td>\n",
       "      <td>unfiltered alignments</td>\n",
       "      <td>1858836988</td>\n",
       "      <td>1</td>\n",
       "      <td>1_1</td>\n",
       "      <td>cache/ENCSR257YUB_1_1_ENCFF646VGI_unfiltered a...</td>\n",
       "    </tr>\n",
       "    <tr>\n",
       "      <th>274</th>\n",
       "      <td>ENCSR690QHM</td>\n",
       "      <td>RUSH brain E6341028</td>\n",
       "      <td>female adult (90 or above years) with Alzheime...</td>\n",
       "      <td>ENCFF785KVJ</td>\n",
       "      <td>reads</td>\n",
       "      <td>1160071924</td>\n",
       "      <td>1</td>\n",
       "      <td>1_1</td>\n",
       "      <td>cache/ENCSR690QHM_1_1_ENCFF785KVJ_reads.fastq.gz</td>\n",
       "    </tr>\n",
       "    <tr>\n",
       "      <th>275</th>\n",
       "      <td>ENCSR690QHM</td>\n",
       "      <td>RUSH brain E6341028</td>\n",
       "      <td>female adult (90 or above years) with Alzheime...</td>\n",
       "      <td>ENCFF070TEQ</td>\n",
       "      <td>unfiltered alignments</td>\n",
       "      <td>1426865867</td>\n",
       "      <td>1</td>\n",
       "      <td>1_1</td>\n",
       "      <td>cache/ENCSR690QHM_1_1_ENCFF070TEQ_unfiltered a...</td>\n",
       "    </tr>\n",
       "  </tbody>\n",
       "</table>\n",
       "<p>276 rows × 9 columns</p>\n",
       "</div>"
      ],
      "text/plain": [
       "      experiment                  description  \\\n",
       "0    ENCSR293MOX      W62 right lobe of liver   \n",
       "1    ENCSR293MOX      W62 right lobe of liver   \n",
       "2    ENCSR081NRO    Adrenal Gland 1-2 ENTEX50   \n",
       "3    ENCSR081NRO    Adrenal Gland 1-2 ENTEX50   \n",
       "4    ENCSR257JBF  excitatory cortical neurons   \n",
       "..           ...                          ...   \n",
       "271  ENCSR462COR          RUSH brain E3348003   \n",
       "272  ENCSR257YUB          RUSH brain E4368365   \n",
       "273  ENCSR257YUB          RUSH brain E4368365   \n",
       "274  ENCSR690QHM          RUSH brain E6341028   \n",
       "275  ENCSR690QHM          RUSH brain E6341028   \n",
       "\n",
       "                              simple_biosample_summary         file  \\\n",
       "0                              female child (16 years)  ENCFF318SKH   \n",
       "1                              female child (16 years)  ENCFF430RUG   \n",
       "2                                male adult (37 years)  ENCFF211SQY   \n",
       "3                                male adult (37 years)  ENCFF967OHL   \n",
       "4                                male adult (53 years)  ENCFF919JFJ   \n",
       "..                                                 ...          ...   \n",
       "271  female adult (90 or above years) with Alzheime...  ENCFF565SOM   \n",
       "272  male adult (90 or above years) with Alzheimer'...  ENCFF311CZO   \n",
       "273  male adult (90 or above years) with Alzheimer'...  ENCFF646VGI   \n",
       "274  female adult (90 or above years) with Alzheime...  ENCFF785KVJ   \n",
       "275  female adult (90 or above years) with Alzheime...  ENCFF070TEQ   \n",
       "\n",
       "               output_type   file_size  bio_rep tech_rep  \\\n",
       "0                    reads   255510907        1      1_1   \n",
       "1    unfiltered alignments   362638099        1      1_1   \n",
       "2                    reads   387217252        1      1_1   \n",
       "3    unfiltered alignments   521377683        1      1_1   \n",
       "4                    reads   345607718        1      1_1   \n",
       "..                     ...         ...      ...      ...   \n",
       "271  unfiltered alignments  1674565340        1      1_1   \n",
       "272                  reads  1533309113        1      1_1   \n",
       "273  unfiltered alignments  1858836988        1      1_1   \n",
       "274                  reads  1160071924        1      1_1   \n",
       "275  unfiltered alignments  1426865867        1      1_1   \n",
       "\n",
       "                                                target  \n",
       "0     cache/ENCSR293MOX_1_1_ENCFF318SKH_reads.fastq.gz  \n",
       "1    cache/ENCSR293MOX_1_1_ENCFF430RUG_unfiltered a...  \n",
       "2     cache/ENCSR081NRO_1_1_ENCFF211SQY_reads.fastq.gz  \n",
       "3    cache/ENCSR081NRO_1_1_ENCFF967OHL_unfiltered a...  \n",
       "4     cache/ENCSR257JBF_1_1_ENCFF919JFJ_reads.fastq.gz  \n",
       "..                                                 ...  \n",
       "271  cache/ENCSR462COR_1_1_ENCFF565SOM_unfiltered a...  \n",
       "272   cache/ENCSR257YUB_1_1_ENCFF311CZO_reads.fastq.gz  \n",
       "273  cache/ENCSR257YUB_1_1_ENCFF646VGI_unfiltered a...  \n",
       "274   cache/ENCSR690QHM_1_1_ENCFF785KVJ_reads.fastq.gz  \n",
       "275  cache/ENCSR690QHM_1_1_ENCFF070TEQ_unfiltered a...  \n",
       "\n",
       "[276 rows x 9 columns]"
      ]
     },
     "execution_count": 21,
     "metadata": {},
     "output_type": "execute_result"
    }
   ],
   "source": [
    "downloaded_data = pandas.DataFrame(metadata)\n",
    "downloaded_data"
   ]
  },
  {
   "cell_type": "code",
   "execution_count": 23,
   "metadata": {},
   "outputs": [
    {
     "data": {
      "text/plain": [
       "276"
      ]
     },
     "execution_count": 23,
     "metadata": {},
     "output_type": "execute_result"
    }
   ],
   "source": [
    "len(set(downloaded_data[\"target\"]))"
   ]
  },
  {
   "cell_type": "code",
   "execution_count": 24,
   "metadata": {},
   "outputs": [
    {
     "data": {
      "text/html": [
       "<div>\n",
       "<style scoped>\n",
       "    .dataframe tbody tr th:only-of-type {\n",
       "        vertical-align: middle;\n",
       "    }\n",
       "\n",
       "    .dataframe tbody tr th {\n",
       "        vertical-align: top;\n",
       "    }\n",
       "\n",
       "    .dataframe thead th {\n",
       "        text-align: right;\n",
       "    }\n",
       "</style>\n",
       "<table border=\"1\" class=\"dataframe\">\n",
       "  <thead>\n",
       "    <tr style=\"text-align: right;\">\n",
       "      <th></th>\n",
       "      <th>experiment</th>\n",
       "      <th>description</th>\n",
       "      <th>simple_biosample_summary</th>\n",
       "      <th>file</th>\n",
       "      <th>output_type</th>\n",
       "      <th>file_size</th>\n",
       "      <th>bio_rep</th>\n",
       "      <th>tech_rep</th>\n",
       "      <th>target</th>\n",
       "    </tr>\n",
       "  </thead>\n",
       "  <tbody>\n",
       "    <tr>\n",
       "      <th>0</th>\n",
       "      <td>ENCSR293MOX</td>\n",
       "      <td>W62 right lobe of liver</td>\n",
       "      <td>female child (16 years)</td>\n",
       "      <td>ENCFF318SKH</td>\n",
       "      <td>reads</td>\n",
       "      <td>255510907</td>\n",
       "      <td>1</td>\n",
       "      <td>1_1</td>\n",
       "      <td>cache/ENCSR293MOX_1_1_ENCFF318SKH_reads.fastq.gz</td>\n",
       "    </tr>\n",
       "    <tr>\n",
       "      <th>1</th>\n",
       "      <td>ENCSR293MOX</td>\n",
       "      <td>W62 right lobe of liver</td>\n",
       "      <td>female child (16 years)</td>\n",
       "      <td>ENCFF430RUG</td>\n",
       "      <td>unfiltered alignments</td>\n",
       "      <td>362638099</td>\n",
       "      <td>1</td>\n",
       "      <td>1_1</td>\n",
       "      <td>cache/ENCSR293MOX_1_1_ENCFF430RUG_unfiltered a...</td>\n",
       "    </tr>\n",
       "    <tr>\n",
       "      <th>2</th>\n",
       "      <td>ENCSR081NRO</td>\n",
       "      <td>Adrenal Gland 1-2 ENTEX50</td>\n",
       "      <td>male adult (37 years)</td>\n",
       "      <td>ENCFF211SQY</td>\n",
       "      <td>reads</td>\n",
       "      <td>387217252</td>\n",
       "      <td>1</td>\n",
       "      <td>1_1</td>\n",
       "      <td>cache/ENCSR081NRO_1_1_ENCFF211SQY_reads.fastq.gz</td>\n",
       "    </tr>\n",
       "    <tr>\n",
       "      <th>3</th>\n",
       "      <td>ENCSR081NRO</td>\n",
       "      <td>Adrenal Gland 1-2 ENTEX50</td>\n",
       "      <td>male adult (37 years)</td>\n",
       "      <td>ENCFF967OHL</td>\n",
       "      <td>unfiltered alignments</td>\n",
       "      <td>521377683</td>\n",
       "      <td>1</td>\n",
       "      <td>1_1</td>\n",
       "      <td>cache/ENCSR081NRO_1_1_ENCFF967OHL_unfiltered a...</td>\n",
       "    </tr>\n",
       "    <tr>\n",
       "      <th>4</th>\n",
       "      <td>ENCSR257JBF</td>\n",
       "      <td>excitatory cortical neurons</td>\n",
       "      <td>male adult (53 years)</td>\n",
       "      <td>ENCFF919JFJ</td>\n",
       "      <td>reads</td>\n",
       "      <td>345607718</td>\n",
       "      <td>1</td>\n",
       "      <td>1_1</td>\n",
       "      <td>cache/ENCSR257JBF_1_1_ENCFF919JFJ_reads.fastq.gz</td>\n",
       "    </tr>\n",
       "  </tbody>\n",
       "</table>\n",
       "</div>"
      ],
      "text/plain": [
       "    experiment                  description simple_biosample_summary  \\\n",
       "0  ENCSR293MOX      W62 right lobe of liver  female child (16 years)   \n",
       "1  ENCSR293MOX      W62 right lobe of liver  female child (16 years)   \n",
       "2  ENCSR081NRO    Adrenal Gland 1-2 ENTEX50    male adult (37 years)   \n",
       "3  ENCSR081NRO    Adrenal Gland 1-2 ENTEX50    male adult (37 years)   \n",
       "4  ENCSR257JBF  excitatory cortical neurons    male adult (53 years)   \n",
       "\n",
       "          file            output_type  file_size  bio_rep tech_rep  \\\n",
       "0  ENCFF318SKH                  reads  255510907        1      1_1   \n",
       "1  ENCFF430RUG  unfiltered alignments  362638099        1      1_1   \n",
       "2  ENCFF211SQY                  reads  387217252        1      1_1   \n",
       "3  ENCFF967OHL  unfiltered alignments  521377683        1      1_1   \n",
       "4  ENCFF919JFJ                  reads  345607718        1      1_1   \n",
       "\n",
       "                                              target  \n",
       "0   cache/ENCSR293MOX_1_1_ENCFF318SKH_reads.fastq.gz  \n",
       "1  cache/ENCSR293MOX_1_1_ENCFF430RUG_unfiltered a...  \n",
       "2   cache/ENCSR081NRO_1_1_ENCFF211SQY_reads.fastq.gz  \n",
       "3  cache/ENCSR081NRO_1_1_ENCFF967OHL_unfiltered a...  \n",
       "4   cache/ENCSR257JBF_1_1_ENCFF919JFJ_reads.fastq.gz  "
      ]
     },
     "execution_count": 24,
     "metadata": {},
     "output_type": "execute_result"
    }
   ],
   "source": [
    "downloaded_data.head()"
   ]
  },
  {
   "cell_type": "code",
   "execution_count": null,
   "metadata": {},
   "outputs": [],
   "source": []
  },
  {
   "cell_type": "code",
   "execution_count": null,
   "metadata": {},
   "outputs": [],
   "source": []
  },
  {
   "cell_type": "code",
   "execution_count": null,
   "metadata": {},
   "outputs": [],
   "source": []
  },
  {
   "cell_type": "code",
   "execution_count": null,
   "metadata": {},
   "outputs": [],
   "source": []
  },
  {
   "cell_type": "code",
   "execution_count": null,
   "metadata": {},
   "outputs": [],
   "source": []
  },
  {
   "cell_type": "code",
   "execution_count": null,
   "metadata": {},
   "outputs": [],
   "source": []
  },
  {
   "cell_type": "markdown",
   "metadata": {},
   "source": [
    "## 230421"
   ]
  },
  {
   "cell_type": "code",
   "execution_count": 1,
   "metadata": {},
   "outputs": [],
   "source": [
    "from snakemake.io import expand\n",
    "import pandas as pd\n",
    "import yaml"
   ]
  },
  {
   "cell_type": "code",
   "execution_count": 2,
   "metadata": {},
   "outputs": [],
   "source": [
    "config_file = 'snakemake/config.yml'\n",
    "with open(config_file) as f:\n",
    "    config = yaml.safe_load(f)"
   ]
  },
  {
   "cell_type": "code",
   "execution_count": 5,
   "metadata": {},
   "outputs": [
    {
     "data": {
      "text/plain": [
       "['data/human/suppa/cerberus.events_A3_strict.ioe',\n",
       " 'data/human/suppa/cerberus.events_A5_strict.ioe',\n",
       " 'data/human/suppa/cerberus.events_AF_strict.ioe',\n",
       " 'data/human/suppa/cerberus.events_AL_strict.ioe',\n",
       " 'data/human/suppa/cerberus.events_MX_strict.ioe',\n",
       " 'data/human/suppa/cerberus.events_RI_strict.ioe',\n",
       " 'data/human/suppa/cerberus.events_SE_strict.ioe']"
      ]
     },
     "execution_count": 5,
     "metadata": {},
     "output_type": "execute_result"
    }
   ],
   "source": [
    "events = ['A3', 'A5', 'AF', 'AL', 'MX', 'RI', 'SE']\n",
    "expand(config['data']['suppa']['events'],\n",
    "                        event=events,\n",
    "                        species='human')"
   ]
  },
  {
   "cell_type": "code",
   "execution_count": null,
   "metadata": {},
   "outputs": [],
   "source": []
  },
  {
   "cell_type": "code",
   "execution_count": null,
   "metadata": {},
   "outputs": [],
   "source": []
  },
  {
   "cell_type": "markdown",
   "metadata": {},
   "source": [
    "## 230412"
   ]
  },
  {
   "cell_type": "code",
   "execution_count": null,
   "metadata": {},
   "outputs": [],
   "source": []
  },
  {
   "cell_type": "code",
   "execution_count": 3,
   "metadata": {},
   "outputs": [],
   "source": [
    "from snakemake.io import expand\n",
    "import pandas as pd\n",
    "import yaml"
   ]
  },
  {
   "cell_type": "code",
   "execution_count": 4,
   "metadata": {},
   "outputs": [],
   "source": [
    "config_file = 'snakemake/config.yml'\n",
    "with open(config_file) as f:\n",
    "    config = yaml.safe_load(f)"
   ]
  },
  {
   "cell_type": "code",
   "execution_count": 14,
   "metadata": {},
   "outputs": [],
   "source": [
    "df = pd.read_csv(expand(config['data']['mirna']['files'],\n",
    "                     species='human')[0],\n",
    "            sep='\\t',\n",
    "            header=None)\n",
    "df.columns = ['link']\n",
    "\n",
    "# remove first line\n",
    "df = df.loc[~df.link.str.contains('metadata')]\n",
    "\n",
    "df['id'] = df.link.str.rsplit('/', expand=True, n=1)[1]\n",
    "df['id'] = df['id'].str.split('.tsv', expand=True, n=1)[0]"
   ]
  },
  {
   "cell_type": "code",
   "execution_count": 15,
   "metadata": {},
   "outputs": [
    {
     "data": {
      "text/html": [
       "<div>\n",
       "<style scoped>\n",
       "    .dataframe tbody tr th:only-of-type {\n",
       "        vertical-align: middle;\n",
       "    }\n",
       "\n",
       "    .dataframe tbody tr th {\n",
       "        vertical-align: top;\n",
       "    }\n",
       "\n",
       "    .dataframe thead th {\n",
       "        text-align: right;\n",
       "    }\n",
       "</style>\n",
       "<table border=\"1\" class=\"dataframe\">\n",
       "  <thead>\n",
       "    <tr style=\"text-align: right;\">\n",
       "      <th></th>\n",
       "      <th>link</th>\n",
       "      <th>id</th>\n",
       "    </tr>\n",
       "  </thead>\n",
       "  <tbody>\n",
       "    <tr>\n",
       "      <th>1</th>\n",
       "      <td>https://www.encodeproject.org/files/ENCFF645YX...</td>\n",
       "      <td>ENCFF645YXV</td>\n",
       "    </tr>\n",
       "    <tr>\n",
       "      <th>2</th>\n",
       "      <td>https://www.encodeproject.org/files/ENCFF045TD...</td>\n",
       "      <td>ENCFF045TDA</td>\n",
       "    </tr>\n",
       "    <tr>\n",
       "      <th>3</th>\n",
       "      <td>https://www.encodeproject.org/files/ENCFF156WY...</td>\n",
       "      <td>ENCFF156WYO</td>\n",
       "    </tr>\n",
       "    <tr>\n",
       "      <th>4</th>\n",
       "      <td>https://www.encodeproject.org/files/ENCFF596SH...</td>\n",
       "      <td>ENCFF596SHW</td>\n",
       "    </tr>\n",
       "    <tr>\n",
       "      <th>5</th>\n",
       "      <td>https://www.encodeproject.org/files/ENCFF520TS...</td>\n",
       "      <td>ENCFF520TSX</td>\n",
       "    </tr>\n",
       "    <tr>\n",
       "      <th>...</th>\n",
       "      <td>...</td>\n",
       "      <td>...</td>\n",
       "    </tr>\n",
       "    <tr>\n",
       "      <th>250</th>\n",
       "      <td>https://www.encodeproject.org/files/ENCFF392GL...</td>\n",
       "      <td>ENCFF392GLP</td>\n",
       "    </tr>\n",
       "    <tr>\n",
       "      <th>251</th>\n",
       "      <td>https://www.encodeproject.org/files/ENCFF946HW...</td>\n",
       "      <td>ENCFF946HWJ</td>\n",
       "    </tr>\n",
       "    <tr>\n",
       "      <th>252</th>\n",
       "      <td>https://www.encodeproject.org/files/ENCFF639FB...</td>\n",
       "      <td>ENCFF639FBD</td>\n",
       "    </tr>\n",
       "    <tr>\n",
       "      <th>253</th>\n",
       "      <td>https://www.encodeproject.org/files/ENCFF965LN...</td>\n",
       "      <td>ENCFF965LNA</td>\n",
       "    </tr>\n",
       "    <tr>\n",
       "      <th>254</th>\n",
       "      <td>https://www.encodeproject.org/files/ENCFF198MN...</td>\n",
       "      <td>ENCFF198MNR</td>\n",
       "    </tr>\n",
       "  </tbody>\n",
       "</table>\n",
       "<p>254 rows × 2 columns</p>\n",
       "</div>"
      ],
      "text/plain": [
       "                                                  link           id\n",
       "1    https://www.encodeproject.org/files/ENCFF645YX...  ENCFF645YXV\n",
       "2    https://www.encodeproject.org/files/ENCFF045TD...  ENCFF045TDA\n",
       "3    https://www.encodeproject.org/files/ENCFF156WY...  ENCFF156WYO\n",
       "4    https://www.encodeproject.org/files/ENCFF596SH...  ENCFF596SHW\n",
       "5    https://www.encodeproject.org/files/ENCFF520TS...  ENCFF520TSX\n",
       "..                                                 ...          ...\n",
       "250  https://www.encodeproject.org/files/ENCFF392GL...  ENCFF392GLP\n",
       "251  https://www.encodeproject.org/files/ENCFF946HW...  ENCFF946HWJ\n",
       "252  https://www.encodeproject.org/files/ENCFF639FB...  ENCFF639FBD\n",
       "253  https://www.encodeproject.org/files/ENCFF965LN...  ENCFF965LNA\n",
       "254  https://www.encodeproject.org/files/ENCFF198MN...  ENCFF198MNR\n",
       "\n",
       "[254 rows x 2 columns]"
      ]
     },
     "execution_count": 15,
     "metadata": {},
     "output_type": "execute_result"
    }
   ],
   "source": [
    "df"
   ]
  },
  {
   "cell_type": "code",
   "execution_count": null,
   "metadata": {},
   "outputs": [],
   "source": []
  }
 ],
 "metadata": {
  "kernelspec": {
   "display_name": "Python 3",
   "language": "python",
   "name": "python3"
  },
  "language_info": {
   "codemirror_mode": {
    "name": "ipython",
    "version": 3
   },
   "file_extension": ".py",
   "mimetype": "text/x-python",
   "name": "python",
   "nbconvert_exporter": "python",
   "pygments_lexer": "ipython3",
   "version": "3.7.7"
  }
 },
 "nbformat": 4,
 "nbformat_minor": 5
}
