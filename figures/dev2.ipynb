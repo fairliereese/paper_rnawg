{
 "cells": [
  {
   "cell_type": "code",
   "execution_count": 1,
   "id": "3bea4128-5ca7-4afd-97f5-b833d23bd778",
   "metadata": {},
   "outputs": [],
   "source": [
    "from encoded_client.encoded import ENCODED\n",
    "import pdb\n",
    "import pandas as pd\n",
    "import glob\n",
    "import pysam\n",
    "import numpy as np\n",
    "import pandas as pd\n",
    "import numpy as np\n",
    "import scipy.stats as st\n",
    "import seaborn as sns\n",
    "import sys\n",
    "import os\n",
    "import gseapy as gp\n",
    "import matplotlib.pyplot as plt\n",
    "import swan_vis as swan\n",
    "import yaml\n",
    "from snakemake.io import expand\n",
    "p = os.path.dirname(os.getcwd())\n",
    "sys.path.append(p)\n",
    "\n",
    "from scripts.utils import *\n",
    "from scripts.plotting import *"
   ]
  },
  {
   "cell_type": "code",
   "execution_count": 2,
   "id": "0d3062c5-d7e5-4e67-ab79-2914aa1466e6",
   "metadata": {},
   "outputs": [],
   "source": [
    "config_file = 'snakemake/config.yml'\n",
    "with open(config_file) as f:\n",
    "    config = yaml.safe_load(f)"
   ]
  },
  {
   "cell_type": "code",
   "execution_count": 3,
   "id": "f5341805-392d-4b33-8ada-c45886494920",
   "metadata": {},
   "outputs": [],
   "source": [
    "ab = '../'+expand(config['data']['ab'], species='human')[0]\n",
    "filt_ab = expand(config['data']['filt_ab'], species='human')[0]\n",
    "gtf = expand(config['data']['cerb_gtf'], species='human')[0]\n",
    "read_annot = '../'+expand(config['data']['read_annot'], species='human')[0]\n",
    "t_metadata = '../'+expand(config['ref']['cerberus']['t_info'], species='human')[0]\n",
    "lib_meta = '../'+expand(config['data']['meta'], species='human')[0]\n",
    "swan_file = '../'+expand(config['data']['sg'], species='human')[0]\n",
    "cerberus_h5 = expand(config['data']['cerb_annot'], species='human')[0]\n",
    "cerb_t_metadata = '../'+expand(config['data']['t_info'], species='human')[0]\n",
    "major_isos = '../'+expand(config['data']['major_isos'], species='human', obs_col='sample')[0]\n",
    "pp_summary = '../'+expand(config['data']['p_pred']['summary'], species='human')[0]\n",
    "ref_t_metadata = '../'+expand(config['ref']['t_info'], species='human')[0]\n",
    "ref_g_metadata = '../'+expand(config['ref']['g_info'], species='human')[0]\n",
    "\n",
    "ver = 'v40_cerberus'\n",
    "min_tpm = 1\n",
    "gene_subset = 'protein_coding'\n",
    "obs_col = 'sample'\n",
    "go_gene_subset = 'protein_coding'\n",
    "\n",
    "m_lib_meta = '../'+expand(config['data']['meta'], species='mouse')[0]"
   ]
  },
  {
   "cell_type": "markdown",
   "id": "7580d9f3-73f0-40cf-9887-7cf5611ef55d",
   "metadata": {},
   "source": [
    "## 231012 color for new things (10d HC and disease AD brain)"
   ]
  },
  {
   "cell_type": "code",
   "execution_count": 5,
   "id": "eaba0712-ae1c-472c-85cf-e3494894b5b5",
   "metadata": {},
   "outputs": [],
   "source": [
    "c_dict, order = get_tissue_age_colors()"
   ]
  },
  {
   "cell_type": "code",
   "execution_count": 6,
   "id": "83d44095-a8d7-4e05-b73a-2711ee52903d",
   "metadata": {},
   "outputs": [
    {
     "data": {
      "text/plain": [
       "'#edccd2'"
      ]
     },
     "execution_count": 6,
     "metadata": {},
     "output_type": "execute_result"
    }
   ],
   "source": [
    "c_dict['hippocampus_10d']"
   ]
  },
  {
   "cell_type": "code",
   "execution_count": null,
   "id": "efc9b6d6-7b32-4374-ab1f-16062d3758bc",
   "metadata": {},
   "outputs": [],
   "source": []
  },
  {
   "cell_type": "markdown",
   "id": "be9a8420-3af2-40dc-8ff4-da335cbecfcd",
   "metadata": {},
   "source": [
    "## 231009 adding pertinent information to the filtered biggenepred or w/e"
   ]
  },
  {
   "cell_type": "code",
   "execution_count": 136,
   "id": "ba362379-fe05-43ab-b059-3095473ef909",
   "metadata": {},
   "outputs": [],
   "source": [
    "sample = 'huvec'\n",
    "bgp = expand(config['data']['tracks']['sample']['bgp_sort_filt'], species='human', sample='huvec')[0]\n",
    "filt_ab = expand(config['data']['filt_ab'], species='human')[0]\n",
    "swan_file = expand(config['data']['sg'], species='human')[0]\n",
    "meta_file = expand(config['data']['meta'], species='human')[0]\n",
    "ppred_file = expand(config['data']['p_pred']['summary'], species='human')[0]"
   ]
  },
  {
   "cell_type": "code",
   "execution_count": 75,
   "id": "752538eb-3712-42e9-a17d-eb216f3efe8d",
   "metadata": {},
   "outputs": [],
   "source": [
    "df = pd.read_csv(bgp, sep='\\t', header=None)\n",
    "df.rename({3:'transcript_id'}, axis=1, inplace=True)"
   ]
  },
  {
   "cell_type": "code",
   "execution_count": 76,
   "id": "939ada67-784f-4366-aeee-edbfcbfe5b4b",
   "metadata": {},
   "outputs": [],
   "source": [
    "# get transcript name of each thing / novelty / novelty of each of three pieces?\n",
    "ca = cerberus.read(cerberus_h5)\n",
    "t_map = ca.t_map.copy(deep=True)\n",
    "\n",
    "tss = ca.tss.copy(deep=True)\n",
    "tss.rename({'Name': 'tss_id', \n",
    "            'novelty': 'tss_novelty'}, \n",
    "             axis=1, inplace=True)\n",
    "tss = tss[['tss_id', 'tss_novelty']]\n",
    "\n",
    "tes = ca.tes.copy(deep=True)\n",
    "tes.rename({'Name': 'tes_id',\n",
    "            'novelty': 'tes_novelty'}, \n",
    "           axis=1, inplace=True)\n",
    "tes = tes[['tes_id', 'tes_novelty']]\n",
    "\n",
    "ic = ca.ic.copy(deep=True)\n",
    "ic.rename({'Name': 'ic_id', \n",
    "           'novelty': 'ic_novelty'}, \n",
    "          axis=1, inplace=True)\n",
    "ic = ic[['ic_id', 'ic_novelty']]\n",
    "\n",
    "t_map = t_map.merge(tss, how='left', on='tss_id')\n",
    "t_map = t_map.merge(tes, how='left', on='tes_id')\n",
    "t_map = t_map.merge(ic, how='left', on='ic_id')\n",
    "\n",
    "t_map = t_map[['transcript_id', 'gene_name', 'transcript_name',\n",
    "               'tss_id', 'ic_id', 'tes_id', \n",
    "               'tss_novelty', 'ic_novelty', 'tes_novelty']]\n",
    "t_map = t_map.drop_duplicates()"
   ]
  },
  {
   "cell_type": "code",
   "execution_count": 77,
   "id": "280529fa-07c2-4dbe-904e-40e53762bc7d",
   "metadata": {},
   "outputs": [],
   "source": [
    "df = df.merge(t_map,\n",
    "              how='left',\n",
    "              on='transcript_id')"
   ]
  },
  {
   "cell_type": "code",
   "execution_count": 78,
   "id": "984aff58-6edb-4fff-89c2-bc8c9652fe89",
   "metadata": {},
   "outputs": [],
   "source": [
    "# df.head()"
   ]
  },
  {
   "cell_type": "code",
   "execution_count": 79,
   "id": "92eba59b-f46c-4206-8451-610d6c0563b9",
   "metadata": {},
   "outputs": [],
   "source": [
    "# add mane info\n",
    "t_df, _, _ = get_gtf_info(how='iso', ver=ver, add_stable_gid=True)\n",
    "df['gid_stable'] = cerberus.get_stable_gid(df, 18)\n",
    "t_df.rename({'tid':'transcript_id'}, axis=1, inplace=True)\n",
    "df = df.merge(t_df[['MANE_Select', 'MANE_Plus_Clinical', 'transcript_id']],\n",
    "              how='left',\n",
    "              on='transcript_id')\n",
    "df[['MANE_Select', 'MANE_Plus_Clinical']] = df[['MANE_Select', 'MANE_Plus_Clinical']].fillna(False)"
   ]
  },
  {
   "cell_type": "code",
   "execution_count": 80,
   "id": "3565d8cc-0eff-47d5-ba8a-7e2d6c061012",
   "metadata": {},
   "outputs": [],
   "source": [
    "# t_df.loc[t_df.gid_stable=='ENSG00000228794']"
   ]
  },
  {
   "cell_type": "code",
   "execution_count": 81,
   "id": "94f131d3-a7c3-4d87-bd34-57b337b241bf",
   "metadata": {},
   "outputs": [],
   "source": [
    "# df[['ic_novelty', 'MANE_Select', 'MANE_Plus_Clinical', 'transcript_id']].groupby(['ic_novelty', 'MANE_Select', 'MANE_Plus_Clinical'], dropna=False).count()\n",
    "# df.loc[(df.ic_novelty=='Known')&(df.MANE_Select.isnull())]\n",
    "# i think the guys w/ null mane values are likely ic matches but don't match the full length thing"
   ]
  },
  {
   "cell_type": "code",
   "execution_count": 82,
   "id": "09a34ef4-29c0-45b3-8017-4d284f6ceec5",
   "metadata": {},
   "outputs": [],
   "source": [
    "# add gene biotype from gencode\n",
    "gene_df, _, _ = get_gtf_info(how='gene', ver=ver, add_stable_gid=True)\n",
    "df = df.merge(gene_df[['biotype_category', 'biotype', 'gid_stable']],\n",
    "              how='left',\n",
    "              on='gid_stable')"
   ]
  },
  {
   "cell_type": "code",
   "execution_count": 83,
   "id": "d8466eec-3aa9-4130-b08c-194731ebb409",
   "metadata": {},
   "outputs": [
    {
     "data": {
      "text/html": [
       "<div>\n",
       "<style scoped>\n",
       "    .dataframe tbody tr th:only-of-type {\n",
       "        vertical-align: middle;\n",
       "    }\n",
       "\n",
       "    .dataframe tbody tr th {\n",
       "        vertical-align: top;\n",
       "    }\n",
       "\n",
       "    .dataframe thead th {\n",
       "        text-align: right;\n",
       "    }\n",
       "</style>\n",
       "<table border=\"1\" class=\"dataframe\">\n",
       "  <thead>\n",
       "    <tr style=\"text-align: right;\">\n",
       "      <th></th>\n",
       "      <th>0</th>\n",
       "      <th>1</th>\n",
       "      <th>2</th>\n",
       "      <th>transcript_id</th>\n",
       "      <th>4</th>\n",
       "      <th>5</th>\n",
       "      <th>6</th>\n",
       "      <th>7</th>\n",
       "      <th>8</th>\n",
       "      <th>9</th>\n",
       "      <th>...</th>\n",
       "      <th>ic_id</th>\n",
       "      <th>tes_id</th>\n",
       "      <th>tss_novelty</th>\n",
       "      <th>ic_novelty</th>\n",
       "      <th>tes_novelty</th>\n",
       "      <th>gid_stable</th>\n",
       "      <th>MANE_Select</th>\n",
       "      <th>MANE_Plus_Clinical</th>\n",
       "      <th>biotype_category</th>\n",
       "      <th>biotype</th>\n",
       "    </tr>\n",
       "  </thead>\n",
       "  <tbody>\n",
       "    <tr>\n",
       "      <th>0</th>\n",
       "      <td>chr1</td>\n",
       "      <td>14353</td>\n",
       "      <td>29408</td>\n",
       "      <td>ENSG00000227232[2,5,1]</td>\n",
       "      <td>0</td>\n",
       "      <td>-</td>\n",
       "      <td>29408</td>\n",
       "      <td>29408</td>\n",
       "      <td>0</td>\n",
       "      <td>11</td>\n",
       "      <td>...</td>\n",
       "      <td>ENSG00000227232_5</td>\n",
       "      <td>ENSG00000227232_1</td>\n",
       "      <td>Novel</td>\n",
       "      <td>NNC</td>\n",
       "      <td>Known</td>\n",
       "      <td>ENSG00000227232</td>\n",
       "      <td>False</td>\n",
       "      <td>False</td>\n",
       "      <td>pseudogene</td>\n",
       "      <td>unprocessed_pseudogene</td>\n",
       "    </tr>\n",
       "    <tr>\n",
       "      <th>1</th>\n",
       "      <td>chr1</td>\n",
       "      <td>14353</td>\n",
       "      <td>29620</td>\n",
       "      <td>ENSG00000227232[1,2,1]</td>\n",
       "      <td>0</td>\n",
       "      <td>-</td>\n",
       "      <td>29620</td>\n",
       "      <td>29620</td>\n",
       "      <td>0</td>\n",
       "      <td>9</td>\n",
       "      <td>...</td>\n",
       "      <td>ENSG00000227232_2</td>\n",
       "      <td>ENSG00000227232_1</td>\n",
       "      <td>Known</td>\n",
       "      <td>NNC</td>\n",
       "      <td>Known</td>\n",
       "      <td>ENSG00000227232</td>\n",
       "      <td>False</td>\n",
       "      <td>False</td>\n",
       "      <td>pseudogene</td>\n",
       "      <td>unprocessed_pseudogene</td>\n",
       "    </tr>\n",
       "    <tr>\n",
       "      <th>2</th>\n",
       "      <td>chr1</td>\n",
       "      <td>184823</td>\n",
       "      <td>199925</td>\n",
       "      <td>ENSG00000279457[2,6,2]</td>\n",
       "      <td>0</td>\n",
       "      <td>-</td>\n",
       "      <td>199925</td>\n",
       "      <td>199925</td>\n",
       "      <td>0</td>\n",
       "      <td>11</td>\n",
       "      <td>...</td>\n",
       "      <td>ENSG00000279457_6</td>\n",
       "      <td>ENSG00000279457_2</td>\n",
       "      <td>Novel</td>\n",
       "      <td>NNC</td>\n",
       "      <td>Novel</td>\n",
       "      <td>ENSG00000279457</td>\n",
       "      <td>False</td>\n",
       "      <td>False</td>\n",
       "      <td>pseudogene</td>\n",
       "      <td>unprocessed_pseudogene</td>\n",
       "    </tr>\n",
       "    <tr>\n",
       "      <th>3</th>\n",
       "      <td>chr1</td>\n",
       "      <td>184823</td>\n",
       "      <td>199925</td>\n",
       "      <td>ENSG00000279457[2,9,2]</td>\n",
       "      <td>0</td>\n",
       "      <td>-</td>\n",
       "      <td>199925</td>\n",
       "      <td>199925</td>\n",
       "      <td>0</td>\n",
       "      <td>11</td>\n",
       "      <td>...</td>\n",
       "      <td>ENSG00000279457_9</td>\n",
       "      <td>ENSG00000279457_2</td>\n",
       "      <td>Novel</td>\n",
       "      <td>NNC</td>\n",
       "      <td>Novel</td>\n",
       "      <td>ENSG00000279457</td>\n",
       "      <td>False</td>\n",
       "      <td>False</td>\n",
       "      <td>pseudogene</td>\n",
       "      <td>unprocessed_pseudogene</td>\n",
       "    </tr>\n",
       "    <tr>\n",
       "      <th>4</th>\n",
       "      <td>chr1</td>\n",
       "      <td>185166</td>\n",
       "      <td>195461</td>\n",
       "      <td>ENSG00000279457[1,1,1]</td>\n",
       "      <td>0</td>\n",
       "      <td>-</td>\n",
       "      <td>195461</td>\n",
       "      <td>195461</td>\n",
       "      <td>0</td>\n",
       "      <td>10</td>\n",
       "      <td>...</td>\n",
       "      <td>ENSG00000279457_1</td>\n",
       "      <td>ENSG00000279457_1</td>\n",
       "      <td>Known</td>\n",
       "      <td>Known</td>\n",
       "      <td>Known</td>\n",
       "      <td>ENSG00000279457</td>\n",
       "      <td>False</td>\n",
       "      <td>False</td>\n",
       "      <td>pseudogene</td>\n",
       "      <td>unprocessed_pseudogene</td>\n",
       "    </tr>\n",
       "  </tbody>\n",
       "</table>\n",
       "<p>5 rows × 33 columns</p>\n",
       "</div>"
      ],
      "text/plain": [
       "      0       1       2           transcript_id  4  5       6       7  8   9  \\\n",
       "0  chr1   14353   29408  ENSG00000227232[2,5,1]  0  -   29408   29408  0  11   \n",
       "1  chr1   14353   29620  ENSG00000227232[1,2,1]  0  -   29620   29620  0   9   \n",
       "2  chr1  184823  199925  ENSG00000279457[2,6,2]  0  -  199925  199925  0  11   \n",
       "3  chr1  184823  199925  ENSG00000279457[2,9,2]  0  -  199925  199925  0  11   \n",
       "4  chr1  185166  195461  ENSG00000279457[1,1,1]  0  -  195461  195461  0  10   \n",
       "\n",
       "   ...              ic_id             tes_id tss_novelty ic_novelty  \\\n",
       "0  ...  ENSG00000227232_5  ENSG00000227232_1       Novel        NNC   \n",
       "1  ...  ENSG00000227232_2  ENSG00000227232_1       Known        NNC   \n",
       "2  ...  ENSG00000279457_6  ENSG00000279457_2       Novel        NNC   \n",
       "3  ...  ENSG00000279457_9  ENSG00000279457_2       Novel        NNC   \n",
       "4  ...  ENSG00000279457_1  ENSG00000279457_1       Known      Known   \n",
       "\n",
       "  tes_novelty       gid_stable  MANE_Select MANE_Plus_Clinical  \\\n",
       "0       Known  ENSG00000227232        False              False   \n",
       "1       Known  ENSG00000227232        False              False   \n",
       "2       Novel  ENSG00000279457        False              False   \n",
       "3       Novel  ENSG00000279457        False              False   \n",
       "4       Known  ENSG00000279457        False              False   \n",
       "\n",
       "  biotype_category                 biotype  \n",
       "0       pseudogene  unprocessed_pseudogene  \n",
       "1       pseudogene  unprocessed_pseudogene  \n",
       "2       pseudogene  unprocessed_pseudogene  \n",
       "3       pseudogene  unprocessed_pseudogene  \n",
       "4       pseudogene  unprocessed_pseudogene  \n",
       "\n",
       "[5 rows x 33 columns]"
      ]
     },
     "execution_count": 83,
     "metadata": {},
     "output_type": "execute_result"
    }
   ],
   "source": [
    "df.head()"
   ]
  },
  {
   "cell_type": "code",
   "execution_count": 84,
   "id": "56a614cc-5a19-4891-9d94-e2f302f6f6e5",
   "metadata": {},
   "outputs": [
    {
     "name": "stdout",
     "output_type": "stream",
     "text": [
      "Calculating iso TPM values\n"
     ]
    },
    {
     "name": "stderr",
     "output_type": "stream",
     "text": [
      "/Users/fairliereese/Documents/programming/mortazavi_lab/data/paper_rnawg/scripts/utils.py:2176: PerformanceWarning: DataFrame is highly fragmented.  This is usually the result of calling `frame.insert` many times, which has poor performance.  Consider joining all columns at once using pd.concat(axis=1) instead.  To get a de-fragmented frame, use `newframe = frame.copy()`\n",
      "  df[tpm_col] = (df[d]*1000000)/df[total_col]\n",
      "/Users/fairliereese/Documents/programming/mortazavi_lab/data/paper_rnawg/scripts/utils.py:2175: PerformanceWarning: DataFrame is highly fragmented.  This is usually the result of calling `frame.insert` many times, which has poor performance.  Consider joining all columns at once using pd.concat(axis=1) instead.  To get a de-fragmented frame, use `newframe = frame.copy()`\n",
      "  df[total_col] = df[d].sum()\n"
     ]
    },
    {
     "name": "stdout",
     "output_type": "stream",
     "text": [
      "Enforcing minimum TPM\n",
      "Total # isos detected: 231136\n",
      "# isos >= 1 tpm: 210239\n",
      "Averaging over biosample\n",
      "Found 50 total samples\n",
      "Number of isos reported: 210239\n"
     ]
    }
   ],
   "source": [
    "# add tpm\n",
    "min_tpm = 1\n",
    "tpm_df = pd.read_csv(filt_ab, sep='\\t')\n",
    "# df = pd.read_csv(ab, sep='\\t')\n",
    "tpm_df, tids = get_tpm_table(tpm_df,\n",
    "                   groupby='sample',\n",
    "                   how='iso',\n",
    "                   min_tpm=min_tpm)"
   ]
  },
  {
   "cell_type": "code",
   "execution_count": 85,
   "id": "f1ee25ab-7bdf-4ab6-936b-4b9e9d89769e",
   "metadata": {},
   "outputs": [],
   "source": [
    "tpm_df = tpm_df[[sample]]\n",
    "tpm_df.reset_index(inplace=True)\n",
    "tpm_df.rename({'index':'transcript_id',\n",
    "               sample: 'avg_tpm'}, axis=1, inplace=True)\n",
    "df = df.merge(tpm_df, how='left', on='transcript_id')"
   ]
  },
  {
   "cell_type": "code",
   "execution_count": 86,
   "id": "2abeda43-42f3-4bae-8bda-ce4da21190ea",
   "metadata": {},
   "outputs": [],
   "source": [
    "# df.head()"
   ]
  },
  {
   "cell_type": "code",
   "execution_count": 87,
   "id": "17893345-3f97-4f5b-94e6-111cee6c7dd8",
   "metadata": {},
   "outputs": [],
   "source": [
    "# import seaborn as sns\n",
    "# df = df.sort_values(by='avg_tpm', ascending=True)\n",
    "# df['rank'] = [i for i in range(len(df.index))]\n",
    "# sns.scatterplot(df, y='avg_tpm', x='rank')\n",
    "# df.loc[df.tpm<1]"
   ]
  },
  {
   "cell_type": "code",
   "execution_count": 122,
   "id": "914b23ab-3c1b-4e66-87cf-58c1bf4a7312",
   "metadata": {},
   "outputs": [],
   "source": [
    "# pi value w/i gene"
   ]
  },
  {
   "cell_type": "code",
   "execution_count": 88,
   "id": "b53cbb4b-52c5-48db-99e6-4359b3380782",
   "metadata": {},
   "outputs": [],
   "source": [
    "df_back = df.copy(deep=True)"
   ]
  },
  {
   "cell_type": "code",
   "execution_count": 69,
   "id": "11ad7245-a5fc-46f1-b323-12867f1145ab",
   "metadata": {},
   "outputs": [
    {
     "name": "stdout",
     "output_type": "stream",
     "text": [
      "Read in graph from data/human/swan_graph.p\n"
     ]
    }
   ],
   "source": [
    "sg = swan.read(swan_file)"
   ]
  },
  {
   "cell_type": "code",
   "execution_count": 70,
   "id": "eeb5489e-4ac0-4a2e-9de2-24cacc7dfadf",
   "metadata": {},
   "outputs": [],
   "source": [
    "pi_df, _ = swan.calc_pi(sg.adata, sg.t_df, obs_col='sample')"
   ]
  },
  {
   "cell_type": "code",
   "execution_count": 73,
   "id": "9e34925f-61ef-41c4-b97c-2f3e0f3f4198",
   "metadata": {},
   "outputs": [],
   "source": [
    "pi_df = df.sparse.to_dense()"
   ]
  },
  {
   "cell_type": "code",
   "execution_count": 91,
   "id": "04ec8caf-f5e1-42d9-b4d5-a0c79d9a8245",
   "metadata": {},
   "outputs": [],
   "source": [
    "pi_df = pi_df.transpose()"
   ]
  },
  {
   "cell_type": "code",
   "execution_count": 93,
   "id": "46cea87a-bafe-4d41-a851-56571723a6f3",
   "metadata": {},
   "outputs": [],
   "source": [
    "pi_df = pi_df[[sample]]\n",
    "pi_df.reset_index(inplace=True)\n",
    "pi_df.rename({'tid':'transcript_id',\n",
    "              sample: 'percent_isoform'}, axis=1, inplace=True)"
   ]
  },
  {
   "cell_type": "code",
   "execution_count": 95,
   "id": "7d1aa390-076c-4a61-85a8-a045f425d352",
   "metadata": {},
   "outputs": [],
   "source": [
    "pi_df['percent_isoform'] = pi_df['percent_isoform'].fillna(0)"
   ]
  },
  {
   "cell_type": "code",
   "execution_count": 96,
   "id": "59ff0136-f365-480a-8669-8e48287d5bc4",
   "metadata": {},
   "outputs": [],
   "source": [
    "df = df.merge(pi_df, how='left', on='transcript_id')"
   ]
  },
  {
   "cell_type": "code",
   "execution_count": null,
   "id": "b6dfe081-298f-4456-a42e-02ac498be486",
   "metadata": {},
   "outputs": [],
   "source": [
    "# calculate transcript length based on what's already in there"
   ]
  },
  {
   "cell_type": "code",
   "execution_count": 120,
   "id": "380f530e-dc91-4c4e-9af9-c9b9bce963bf",
   "metadata": {},
   "outputs": [
    {
     "data": {
      "text/html": [
       "<div>\n",
       "<style scoped>\n",
       "    .dataframe tbody tr th:only-of-type {\n",
       "        vertical-align: middle;\n",
       "    }\n",
       "\n",
       "    .dataframe tbody tr th {\n",
       "        vertical-align: top;\n",
       "    }\n",
       "\n",
       "    .dataframe thead th {\n",
       "        text-align: right;\n",
       "    }\n",
       "</style>\n",
       "<table border=\"1\" class=\"dataframe\">\n",
       "  <thead>\n",
       "    <tr style=\"text-align: right;\">\n",
       "      <th></th>\n",
       "      <th>0</th>\n",
       "      <th>1</th>\n",
       "      <th>2</th>\n",
       "      <th>transcript_id</th>\n",
       "      <th>4</th>\n",
       "      <th>5</th>\n",
       "      <th>6</th>\n",
       "      <th>7</th>\n",
       "      <th>8</th>\n",
       "      <th>9</th>\n",
       "      <th>...</th>\n",
       "      <th>ic_novelty</th>\n",
       "      <th>tes_novelty</th>\n",
       "      <th>gid_stable</th>\n",
       "      <th>MANE_Select</th>\n",
       "      <th>MANE_Plus_Clinical</th>\n",
       "      <th>biotype_category</th>\n",
       "      <th>biotype</th>\n",
       "      <th>avg_tpm</th>\n",
       "      <th>percent_isoform</th>\n",
       "      <th>transcript_length</th>\n",
       "    </tr>\n",
       "  </thead>\n",
       "  <tbody>\n",
       "    <tr>\n",
       "      <th>0</th>\n",
       "      <td>chr1</td>\n",
       "      <td>14353</td>\n",
       "      <td>29408</td>\n",
       "      <td>ENSG00000227232[2,5,1]</td>\n",
       "      <td>0</td>\n",
       "      <td>-</td>\n",
       "      <td>29408</td>\n",
       "      <td>29408</td>\n",
       "      <td>0</td>\n",
       "      <td>11</td>\n",
       "      <td>...</td>\n",
       "      <td>NNC</td>\n",
       "      <td>Known</td>\n",
       "      <td>ENSG00000227232</td>\n",
       "      <td>False</td>\n",
       "      <td>False</td>\n",
       "      <td>pseudogene</td>\n",
       "      <td>unprocessed_pseudogene</td>\n",
       "      <td>0.569439</td>\n",
       "      <td>25.000000</td>\n",
       "      <td>1815</td>\n",
       "    </tr>\n",
       "    <tr>\n",
       "      <th>1</th>\n",
       "      <td>chr1</td>\n",
       "      <td>14353</td>\n",
       "      <td>29620</td>\n",
       "      <td>ENSG00000227232[1,2,1]</td>\n",
       "      <td>0</td>\n",
       "      <td>-</td>\n",
       "      <td>29620</td>\n",
       "      <td>29620</td>\n",
       "      <td>0</td>\n",
       "      <td>9</td>\n",
       "      <td>...</td>\n",
       "      <td>NNC</td>\n",
       "      <td>Known</td>\n",
       "      <td>ENSG00000227232</td>\n",
       "      <td>False</td>\n",
       "      <td>False</td>\n",
       "      <td>pseudogene</td>\n",
       "      <td>unprocessed_pseudogene</td>\n",
       "      <td>0.854784</td>\n",
       "      <td>37.500000</td>\n",
       "      <td>2165</td>\n",
       "    </tr>\n",
       "    <tr>\n",
       "      <th>2</th>\n",
       "      <td>chr1</td>\n",
       "      <td>184823</td>\n",
       "      <td>199925</td>\n",
       "      <td>ENSG00000279457[2,6,2]</td>\n",
       "      <td>0</td>\n",
       "      <td>-</td>\n",
       "      <td>199925</td>\n",
       "      <td>199925</td>\n",
       "      <td>0</td>\n",
       "      <td>11</td>\n",
       "      <td>...</td>\n",
       "      <td>NNC</td>\n",
       "      <td>Novel</td>\n",
       "      <td>ENSG00000279457</td>\n",
       "      <td>False</td>\n",
       "      <td>False</td>\n",
       "      <td>pseudogene</td>\n",
       "      <td>unprocessed_pseudogene</td>\n",
       "      <td>1.140129</td>\n",
       "      <td>2.985075</td>\n",
       "      <td>1867</td>\n",
       "    </tr>\n",
       "    <tr>\n",
       "      <th>3</th>\n",
       "      <td>chr1</td>\n",
       "      <td>184823</td>\n",
       "      <td>199925</td>\n",
       "      <td>ENSG00000279457[2,9,2]</td>\n",
       "      <td>0</td>\n",
       "      <td>-</td>\n",
       "      <td>199925</td>\n",
       "      <td>199925</td>\n",
       "      <td>0</td>\n",
       "      <td>11</td>\n",
       "      <td>...</td>\n",
       "      <td>NNC</td>\n",
       "      <td>Novel</td>\n",
       "      <td>ENSG00000279457</td>\n",
       "      <td>False</td>\n",
       "      <td>False</td>\n",
       "      <td>pseudogene</td>\n",
       "      <td>unprocessed_pseudogene</td>\n",
       "      <td>29.923062</td>\n",
       "      <td>78.358208</td>\n",
       "      <td>1884</td>\n",
       "    </tr>\n",
       "    <tr>\n",
       "      <th>4</th>\n",
       "      <td>chr1</td>\n",
       "      <td>185166</td>\n",
       "      <td>195461</td>\n",
       "      <td>ENSG00000279457[1,1,1]</td>\n",
       "      <td>0</td>\n",
       "      <td>-</td>\n",
       "      <td>195461</td>\n",
       "      <td>195461</td>\n",
       "      <td>0</td>\n",
       "      <td>10</td>\n",
       "      <td>...</td>\n",
       "      <td>Known</td>\n",
       "      <td>Known</td>\n",
       "      <td>ENSG00000279457</td>\n",
       "      <td>False</td>\n",
       "      <td>False</td>\n",
       "      <td>pseudogene</td>\n",
       "      <td>unprocessed_pseudogene</td>\n",
       "      <td>5.987865</td>\n",
       "      <td>15.671642</td>\n",
       "      <td>1497</td>\n",
       "    </tr>\n",
       "  </tbody>\n",
       "</table>\n",
       "<p>5 rows × 36 columns</p>\n",
       "</div>"
      ],
      "text/plain": [
       "      0       1       2           transcript_id  4  5       6       7  8   9  \\\n",
       "0  chr1   14353   29408  ENSG00000227232[2,5,1]  0  -   29408   29408  0  11   \n",
       "1  chr1   14353   29620  ENSG00000227232[1,2,1]  0  -   29620   29620  0   9   \n",
       "2  chr1  184823  199925  ENSG00000279457[2,6,2]  0  -  199925  199925  0  11   \n",
       "3  chr1  184823  199925  ENSG00000279457[2,9,2]  0  -  199925  199925  0  11   \n",
       "4  chr1  185166  195461  ENSG00000279457[1,1,1]  0  -  195461  195461  0  10   \n",
       "\n",
       "   ... ic_novelty tes_novelty       gid_stable MANE_Select MANE_Plus_Clinical  \\\n",
       "0  ...        NNC       Known  ENSG00000227232       False              False   \n",
       "1  ...        NNC       Known  ENSG00000227232       False              False   \n",
       "2  ...        NNC       Novel  ENSG00000279457       False              False   \n",
       "3  ...        NNC       Novel  ENSG00000279457       False              False   \n",
       "4  ...      Known       Known  ENSG00000279457       False              False   \n",
       "\n",
       "  biotype_category                 biotype    avg_tpm percent_isoform  \\\n",
       "0       pseudogene  unprocessed_pseudogene   0.569439       25.000000   \n",
       "1       pseudogene  unprocessed_pseudogene   0.854784       37.500000   \n",
       "2       pseudogene  unprocessed_pseudogene   1.140129        2.985075   \n",
       "3       pseudogene  unprocessed_pseudogene  29.923062       78.358208   \n",
       "4       pseudogene  unprocessed_pseudogene   5.987865       15.671642   \n",
       "\n",
       "   transcript_length  \n",
       "0               1815  \n",
       "1               2165  \n",
       "2               1867  \n",
       "3               1884  \n",
       "4               1497  \n",
       "\n",
       "[5 rows x 36 columns]"
      ]
     },
     "execution_count": 120,
     "metadata": {},
     "output_type": "execute_result"
    }
   ],
   "source": [
    "lens = df[['transcript_id', 10]]\n",
    "lens['exon_size'] = df[10].str.split(',')\n",
    "lens = lens[['transcript_id', 'exon_size']].explode('exon_size')\n",
    "lens = lens.loc[lens.exon_size!='']\n",
    "lens['exon_size'] = lens['exon_size'].astype(int)\n",
    "lens = lens.groupby('transcript_id').sum().reset_index().rename({'exon_size':'transcript_length'}, axis=1)\n",
    "\n",
    "df = df.merge(lens, how='left', on='transcript_id')\n",
    "df.head()"
   ]
  },
  {
   "cell_type": "code",
   "execution_count": 118,
   "id": "ad668a31-6219-4be5-8de0-f47630fa5e33",
   "metadata": {},
   "outputs": [],
   "source": [
    "# # trying to figure out why I had empty strings; it's because of that last weird comma at \n",
    "# # the end of each string from ucsc. I will filter those entries out\n",
    "# lens.loc[lens.exon_size=='']\n",
    "# lens.loc[lens.transcript_id=='ENSG00000227232[2,5,1]']\n",
    "# df.loc[df.transcript_id=='ENSG00000227232[2,5,1]']\n",
    "# ca.ic.loc[ca.ic.Name=='ENSG00000227232_5']"
   ]
  },
  {
   "cell_type": "code",
   "execution_count": 121,
   "id": "467f4bf2-e819-4177-9a67-bd42b72761bc",
   "metadata": {},
   "outputs": [],
   "source": [
    "# add ENCODE experiment ids that belong to each sample, and I guess the sample name?"
   ]
  },
  {
   "cell_type": "code",
   "execution_count": 134,
   "id": "9ec4f45e-bf03-4057-ac04-54c15682a18d",
   "metadata": {},
   "outputs": [],
   "source": [
    "meta_df = pd.read_csv(meta_file, sep='\\t')\n",
    "meta_df = meta_df.loc[meta_df['sample'] == sample]\n",
    "meta_df = meta_df[['ENCODE_experiment_id', 'sample']].drop_duplicates()\n",
    "meta_df = meta_df.groupby('sample').agg(','.join).reset_index().rename({'ENCODE_experiment_id':'ENCODE_experiment_ids'}, axis=1)\n",
    "\n",
    "assert len(meta_df.index) == 1"
   ]
  },
  {
   "cell_type": "code",
   "execution_count": 135,
   "id": "5e50e82b-3ff2-4fe0-8bdd-bbfa176a3c63",
   "metadata": {},
   "outputs": [],
   "source": [
    "ids = meta_df['ENCODE_experiment_ids'].tolist()[0]\n",
    "samples = meta_df['sample'].tolist()[0]\n",
    "df['ENCODE_experiment_ids'] = ids\n",
    "df['samples'] = samples"
   ]
  },
  {
   "cell_type": "code",
   "execution_count": null,
   "id": "4ea45d2f-f276-438d-8a11-007502e1d17b",
   "metadata": {},
   "outputs": [],
   "source": [
    "# also add predicted CDS start / ends"
   ]
  },
  {
   "cell_type": "code",
   "execution_count": 139,
   "id": "9d11ee4d-7214-41c1-8a0a-cd8bcedcb40a",
   "metadata": {},
   "outputs": [
    {
     "data": {
      "text/html": [
       "<div>\n",
       "<style scoped>\n",
       "    .dataframe tbody tr th:only-of-type {\n",
       "        vertical-align: middle;\n",
       "    }\n",
       "\n",
       "    .dataframe tbody tr th {\n",
       "        vertical-align: top;\n",
       "    }\n",
       "\n",
       "    .dataframe thead th {\n",
       "        text-align: right;\n",
       "    }\n",
       "</style>\n",
       "<table border=\"1\" class=\"dataframe\">\n",
       "  <thead>\n",
       "    <tr style=\"text-align: right;\">\n",
       "      <th></th>\n",
       "      <th>transcript_id</th>\n",
       "      <th>CDS_Start</th>\n",
       "      <th>CDS_Stop</th>\n",
       "      <th>blastp_protein_id</th>\n",
       "      <th>predicted_nmd</th>\n",
       "      <th>predicted_protein_len</th>\n",
       "    </tr>\n",
       "  </thead>\n",
       "  <tbody>\n",
       "    <tr>\n",
       "      <th>0</th>\n",
       "      <td>ENSG00000000460[3,10,3]</td>\n",
       "      <td>169795102</td>\n",
       "      <td>169852984</td>\n",
       "      <td>ENSP00000286031.6</td>\n",
       "      <td>False</td>\n",
       "      <td>911.0</td>\n",
       "    </tr>\n",
       "    <tr>\n",
       "      <th>1</th>\n",
       "      <td>ENSG00000000460[1,10,3]</td>\n",
       "      <td>169795102</td>\n",
       "      <td>169852984</td>\n",
       "      <td>ENSP00000286031.6</td>\n",
       "      <td>False</td>\n",
       "      <td>911.0</td>\n",
       "    </tr>\n",
       "    <tr>\n",
       "      <th>2</th>\n",
       "      <td>ENSG00000000460[1,10,6]</td>\n",
       "      <td>169795102</td>\n",
       "      <td>169852984</td>\n",
       "      <td>ENSP00000286031.6</td>\n",
       "      <td>False</td>\n",
       "      <td>911.0</td>\n",
       "    </tr>\n",
       "    <tr>\n",
       "      <th>3</th>\n",
       "      <td>ENSG00000000460[1,10,1]</td>\n",
       "      <td>169795102</td>\n",
       "      <td>169852984</td>\n",
       "      <td>ENSP00000286031.6</td>\n",
       "      <td>False</td>\n",
       "      <td>911.0</td>\n",
       "    </tr>\n",
       "    <tr>\n",
       "      <th>4</th>\n",
       "      <td>ENSG00000000460[3,11,3]</td>\n",
       "      <td>169802641</td>\n",
       "      <td>169852984</td>\n",
       "      <td>ENSP00000389257.3</td>\n",
       "      <td>False</td>\n",
       "      <td>824.0</td>\n",
       "    </tr>\n",
       "  </tbody>\n",
       "</table>\n",
       "</div>"
      ],
      "text/plain": [
       "             transcript_id  CDS_Start   CDS_Stop  blastp_protein_id  \\\n",
       "0  ENSG00000000460[3,10,3]  169795102  169852984  ENSP00000286031.6   \n",
       "1  ENSG00000000460[1,10,3]  169795102  169852984  ENSP00000286031.6   \n",
       "2  ENSG00000000460[1,10,6]  169795102  169852984  ENSP00000286031.6   \n",
       "3  ENSG00000000460[1,10,1]  169795102  169852984  ENSP00000286031.6   \n",
       "4  ENSG00000000460[3,11,3]  169802641  169852984  ENSP00000389257.3   \n",
       "\n",
       "   predicted_nmd  predicted_protein_len  \n",
       "0          False                  911.0  \n",
       "1          False                  911.0  \n",
       "2          False                  911.0  \n",
       "3          False                  911.0  \n",
       "4          False                  824.0  "
      ]
     },
     "execution_count": 139,
     "metadata": {},
     "output_type": "execute_result"
    }
   ],
   "source": [
    "p_df = pd.read_csv(ppred_file, sep='\\t')\n",
    "keep_cols = ['tid', 'CDS_Start', 'CDS_Stop', 'pid', 'nmd', 'len']\n",
    "rename_d = {'tid': 'transcript_id', 'pid': 'blastp_protein_id',\n",
    "            'nmd': 'predicted_nmd', 'len': 'predicted_protein_len'}\n",
    "p_df = p_df[keep_cols].rename(rename_d, axis=1)\n",
    "p_df.head()"
   ]
  },
  {
   "cell_type": "code",
   "execution_count": 140,
   "id": "0908af04-c940-415a-9418-55c3bf89ecb7",
   "metadata": {},
   "outputs": [
    {
     "data": {
      "text/html": [
       "<div>\n",
       "<style scoped>\n",
       "    .dataframe tbody tr th:only-of-type {\n",
       "        vertical-align: middle;\n",
       "    }\n",
       "\n",
       "    .dataframe tbody tr th {\n",
       "        vertical-align: top;\n",
       "    }\n",
       "\n",
       "    .dataframe thead th {\n",
       "        text-align: right;\n",
       "    }\n",
       "</style>\n",
       "<table border=\"1\" class=\"dataframe\">\n",
       "  <thead>\n",
       "    <tr style=\"text-align: right;\">\n",
       "      <th></th>\n",
       "      <th>0</th>\n",
       "      <th>1</th>\n",
       "      <th>2</th>\n",
       "      <th>transcript_id</th>\n",
       "      <th>4</th>\n",
       "      <th>5</th>\n",
       "      <th>6</th>\n",
       "      <th>7</th>\n",
       "      <th>8</th>\n",
       "      <th>9</th>\n",
       "      <th>...</th>\n",
       "      <th>avg_tpm</th>\n",
       "      <th>percent_isoform</th>\n",
       "      <th>transcript_length</th>\n",
       "      <th>ENCODE_experiment_ids</th>\n",
       "      <th>samples</th>\n",
       "      <th>CDS_Start</th>\n",
       "      <th>CDS_Stop</th>\n",
       "      <th>blastp_protein_id</th>\n",
       "      <th>predicted_nmd</th>\n",
       "      <th>predicted_protein_len</th>\n",
       "    </tr>\n",
       "  </thead>\n",
       "  <tbody>\n",
       "    <tr>\n",
       "      <th>0</th>\n",
       "      <td>chr1</td>\n",
       "      <td>14353</td>\n",
       "      <td>29408</td>\n",
       "      <td>ENSG00000227232[2,5,1]</td>\n",
       "      <td>0</td>\n",
       "      <td>-</td>\n",
       "      <td>29408</td>\n",
       "      <td>29408</td>\n",
       "      <td>0</td>\n",
       "      <td>11</td>\n",
       "      <td>...</td>\n",
       "      <td>0.569439</td>\n",
       "      <td>25.000000</td>\n",
       "      <td>1815</td>\n",
       "      <td>ENCSR687RWI</td>\n",
       "      <td>huvec</td>\n",
       "      <td>16747</td>\n",
       "      <td>17310</td>\n",
       "      <td>none</td>\n",
       "      <td>True</td>\n",
       "      <td>98.0</td>\n",
       "    </tr>\n",
       "    <tr>\n",
       "      <th>1</th>\n",
       "      <td>chr1</td>\n",
       "      <td>14353</td>\n",
       "      <td>29620</td>\n",
       "      <td>ENSG00000227232[1,2,1]</td>\n",
       "      <td>0</td>\n",
       "      <td>-</td>\n",
       "      <td>29620</td>\n",
       "      <td>29620</td>\n",
       "      <td>0</td>\n",
       "      <td>9</td>\n",
       "      <td>...</td>\n",
       "      <td>0.854784</td>\n",
       "      <td>37.500000</td>\n",
       "      <td>2165</td>\n",
       "      <td>ENCSR687RWI</td>\n",
       "      <td>huvec</td>\n",
       "      <td>17735</td>\n",
       "      <td>24886</td>\n",
       "      <td>ENSP00000512442.1</td>\n",
       "      <td>True</td>\n",
       "      <td>101.0</td>\n",
       "    </tr>\n",
       "    <tr>\n",
       "      <th>2</th>\n",
       "      <td>chr1</td>\n",
       "      <td>184823</td>\n",
       "      <td>199925</td>\n",
       "      <td>ENSG00000279457[2,6,2]</td>\n",
       "      <td>0</td>\n",
       "      <td>-</td>\n",
       "      <td>199925</td>\n",
       "      <td>199925</td>\n",
       "      <td>0</td>\n",
       "      <td>11</td>\n",
       "      <td>...</td>\n",
       "      <td>1.140129</td>\n",
       "      <td>2.985075</td>\n",
       "      <td>1867</td>\n",
       "      <td>ENCSR687RWI</td>\n",
       "      <td>huvec</td>\n",
       "      <td>187800</td>\n",
       "      <td>188538</td>\n",
       "      <td>none</td>\n",
       "      <td>True</td>\n",
       "      <td>109.0</td>\n",
       "    </tr>\n",
       "    <tr>\n",
       "      <th>3</th>\n",
       "      <td>chr1</td>\n",
       "      <td>184823</td>\n",
       "      <td>199925</td>\n",
       "      <td>ENSG00000279457[2,9,2]</td>\n",
       "      <td>0</td>\n",
       "      <td>-</td>\n",
       "      <td>199925</td>\n",
       "      <td>199925</td>\n",
       "      <td>0</td>\n",
       "      <td>11</td>\n",
       "      <td>...</td>\n",
       "      <td>29.923062</td>\n",
       "      <td>78.358208</td>\n",
       "      <td>1884</td>\n",
       "      <td>ENCSR687RWI</td>\n",
       "      <td>huvec</td>\n",
       "      <td>188259</td>\n",
       "      <td>195411</td>\n",
       "      <td>ENSP00000512441.1</td>\n",
       "      <td>True</td>\n",
       "      <td>138.0</td>\n",
       "    </tr>\n",
       "    <tr>\n",
       "      <th>4</th>\n",
       "      <td>chr1</td>\n",
       "      <td>185166</td>\n",
       "      <td>195461</td>\n",
       "      <td>ENSG00000279457[1,1,1]</td>\n",
       "      <td>0</td>\n",
       "      <td>-</td>\n",
       "      <td>195461</td>\n",
       "      <td>195461</td>\n",
       "      <td>0</td>\n",
       "      <td>10</td>\n",
       "      <td>...</td>\n",
       "      <td>5.987865</td>\n",
       "      <td>15.671642</td>\n",
       "      <td>1497</td>\n",
       "      <td>ENCSR687RWI</td>\n",
       "      <td>huvec</td>\n",
       "      <td>188259</td>\n",
       "      <td>195438</td>\n",
       "      <td>ENSP00000512441.1</td>\n",
       "      <td>True</td>\n",
       "      <td>147.0</td>\n",
       "    </tr>\n",
       "  </tbody>\n",
       "</table>\n",
       "<p>5 rows × 43 columns</p>\n",
       "</div>"
      ],
      "text/plain": [
       "      0       1       2           transcript_id  4  5       6       7  8   9  \\\n",
       "0  chr1   14353   29408  ENSG00000227232[2,5,1]  0  -   29408   29408  0  11   \n",
       "1  chr1   14353   29620  ENSG00000227232[1,2,1]  0  -   29620   29620  0   9   \n",
       "2  chr1  184823  199925  ENSG00000279457[2,6,2]  0  -  199925  199925  0  11   \n",
       "3  chr1  184823  199925  ENSG00000279457[2,9,2]  0  -  199925  199925  0  11   \n",
       "4  chr1  185166  195461  ENSG00000279457[1,1,1]  0  -  195461  195461  0  10   \n",
       "\n",
       "   ...    avg_tpm percent_isoform transcript_length ENCODE_experiment_ids  \\\n",
       "0  ...   0.569439       25.000000              1815           ENCSR687RWI   \n",
       "1  ...   0.854784       37.500000              2165           ENCSR687RWI   \n",
       "2  ...   1.140129        2.985075              1867           ENCSR687RWI   \n",
       "3  ...  29.923062       78.358208              1884           ENCSR687RWI   \n",
       "4  ...   5.987865       15.671642              1497           ENCSR687RWI   \n",
       "\n",
       "  samples CDS_Start  CDS_Stop  blastp_protein_id predicted_nmd  \\\n",
       "0   huvec     16747     17310               none          True   \n",
       "1   huvec     17735     24886  ENSP00000512442.1          True   \n",
       "2   huvec    187800    188538               none          True   \n",
       "3   huvec    188259    195411  ENSP00000512441.1          True   \n",
       "4   huvec    188259    195438  ENSP00000512441.1          True   \n",
       "\n",
       "   predicted_protein_len  \n",
       "0                   98.0  \n",
       "1                  101.0  \n",
       "2                  109.0  \n",
       "3                  138.0  \n",
       "4                  147.0  \n",
       "\n",
       "[5 rows x 43 columns]"
      ]
     },
     "execution_count": 140,
     "metadata": {},
     "output_type": "execute_result"
    }
   ],
   "source": [
    "df = df.merge(p_df, how='left', on='transcript_id')\n",
    "df.head()"
   ]
  },
  {
   "cell_type": "code",
   "execution_count": null,
   "id": "bb5f1f72-80e6-4e85-b990-08301b69d6ba",
   "metadata": {},
   "outputs": [],
   "source": [
    "# now reorganize columns"
   ]
  },
  {
   "cell_type": "code",
   "execution_count": 145,
   "id": "f1baf602-d94c-4f37-9e6d-2c3c876ceb25",
   "metadata": {},
   "outputs": [],
   "source": [
    "# make columns 6 and 7 the CDS starts and remove those columns\n",
    "assert len(df.loc[df[7]<df[6]]) == 0\n",
    "df[6] = df[['CDS_Start', 'CDS_Stop']].min(axis=1)\n",
    "df[7] = df[['CDS_Start', 'CDS_Stop']].max(axis=1)\n",
    "assert len(df.loc[df[7]<df[6]]) == 0\n",
    "df.drop(['CDS_Start', 'CDS_Stop'], axis=1, inplace=True)"
   ]
  },
  {
   "cell_type": "code",
   "execution_count": null,
   "id": "61065958-f328-4c12-ad66-74f22e566173",
   "metadata": {},
   "outputs": [],
   "source": []
  },
  {
   "cell_type": "code",
   "execution_count": null,
   "id": "43dbfcc0-5271-4b6d-8924-e05fe927999d",
   "metadata": {},
   "outputs": [],
   "source": []
  },
  {
   "cell_type": "code",
   "execution_count": null,
   "id": "b6cf2308-92b3-4a48-b5a9-2b4b460fdf48",
   "metadata": {},
   "outputs": [],
   "source": []
  },
  {
   "cell_type": "code",
   "execution_count": null,
   "id": "fd358f1c-8174-4b96-bb0a-008ea3750ea1",
   "metadata": {},
   "outputs": [],
   "source": []
  },
  {
   "cell_type": "code",
   "execution_count": null,
   "id": "3effa5a6-2b77-4b76-9d66-7472d8b45911",
   "metadata": {},
   "outputs": [],
   "source": []
  },
  {
   "cell_type": "code",
   "execution_count": null,
   "id": "67d5c8cc-aecc-44b3-bff3-db937ded4ed7",
   "metadata": {},
   "outputs": [],
   "source": []
  },
  {
   "cell_type": "code",
   "execution_count": null,
   "id": "40092ea1-6942-4a6d-bc9a-3c536cff4877",
   "metadata": {},
   "outputs": [],
   "source": [
    "# add ENCODE annotation link (ie to the human and mouse analysis overviews) ? "
   ]
  },
  {
   "cell_type": "markdown",
   "id": "8f07809e-7154-4c56-ad1f-d8b912881751",
   "metadata": {},
   "source": [
    "## 231004 making a GTF for each sample"
   ]
  },
  {
   "cell_type": "code",
   "execution_count": 8,
   "id": "19deb6c5-e482-4496-88f2-ff6109b5b1d3",
   "metadata": {},
   "outputs": [
    {
     "name": "stdout",
     "output_type": "stream",
     "text": [
      "Calculating iso TPM values\n"
     ]
    },
    {
     "name": "stderr",
     "output_type": "stream",
     "text": [
      "/Users/fairliereese/Documents/programming/mortazavi_lab/data/paper_rnawg/scripts/utils.py:2176: PerformanceWarning: DataFrame is highly fragmented.  This is usually the result of calling `frame.insert` many times, which has poor performance.  Consider joining all columns at once using pd.concat(axis=1) instead.  To get a de-fragmented frame, use `newframe = frame.copy()`\n",
      "  df[tpm_col] = (df[d]*1000000)/df[total_col]\n",
      "/Users/fairliereese/Documents/programming/mortazavi_lab/data/paper_rnawg/scripts/utils.py:2175: PerformanceWarning: DataFrame is highly fragmented.  This is usually the result of calling `frame.insert` many times, which has poor performance.  Consider joining all columns at once using pd.concat(axis=1) instead.  To get a de-fragmented frame, use `newframe = frame.copy()`\n",
      "  df[total_col] = df[d].sum()\n"
     ]
    },
    {
     "name": "stdout",
     "output_type": "stream",
     "text": [
      "Enforcing minimum TPM\n",
      "Total # isos detected: 231136\n",
      "# isos >= 1 tpm: 210239\n",
      "Number of isos reported: 210239\n",
      "Found 50 total samples\n"
     ]
    }
   ],
   "source": [
    "df = pd.read_csv(filt_ab, sep='\\t')\n",
    "df = get_det_table(df,\n",
    "                   groupby=obs_col,\n",
    "                   how='iso',\n",
    "                   min_tpm=min_tpm)"
   ]
  },
  {
   "cell_type": "code",
   "execution_count": 10,
   "id": "7037026a-80a4-4189-a2f7-8b0f9442db28",
   "metadata": {},
   "outputs": [],
   "source": [
    "df = df.transpose()"
   ]
  },
  {
   "cell_type": "code",
   "execution_count": 13,
   "id": "782a7e86-c7c3-47b6-a2d8-c89b40ee9ccd",
   "metadata": {},
   "outputs": [
    {
     "name": "stdout",
     "output_type": "stream",
     "text": [
      "210239\n",
      "56341\n",
      "['ENSG00000279457[1,1,1]', 'ENSG00000279457[2,4,2]', 'ENSG00000279457[2,6,2]', 'ENSG00000279457[2,9,2]', 'ENSG00000225880[1,1,1]']\n"
     ]
    }
   ],
   "source": [
    "print(len(df.index))\n",
    "for c in df.columns:\n",
    "    tids = df.loc[df[c]==True].index.tolist()\n",
    "    # print(len(tids))\n",
    "    # print(tids[:5])\n",
    "    # break\n",
    "    "
   ]
  },
  {
   "cell_type": "code",
   "execution_count": 15,
   "id": "d91d27c9-17b4-4603-aed7-f78eeed6d4c7",
   "metadata": {},
   "outputs": [
    {
     "name": "stdout",
     "output_type": "stream",
     "text": [
      "Found attributes with reserved names: ['source'].\n",
      "Renaming attributes with suffix '_attr'\n"
     ]
    }
   ],
   "source": [
    "gtf_df = pr.read_gtf(gtf, rename_attr=True).as_df()"
   ]
  },
  {
   "cell_type": "code",
   "execution_count": 17,
   "id": "ccd725cb-6e4c-4020-b21d-7aa6e64bec63",
   "metadata": {},
   "outputs": [],
   "source": [
    "gids = gtf_df.loc[gtf_df.transcript_id.isin(tids), 'gene_id'].tolist()"
   ]
  },
  {
   "cell_type": "code",
   "execution_count": 19,
   "id": "f3d99d1f-c92e-4288-907d-4ca9c7b7546b",
   "metadata": {},
   "outputs": [],
   "source": [
    "# gids[:5]"
   ]
  },
  {
   "cell_type": "code",
   "execution_count": 20,
   "id": "f02bea40-99be-434d-8d0b-c420256fad66",
   "metadata": {},
   "outputs": [],
   "source": [
    "gtf_df = gtf_df.loc[gtf_df.transcript_id.isin(tids)]"
   ]
  },
  {
   "cell_type": "code",
   "execution_count": 21,
   "id": "8618e710-7aa5-413f-87f0-e4c7e7f8ba69",
   "metadata": {},
   "outputs": [],
   "source": [
    "gtf_df = pr.PyRanges(gtf_df)"
   ]
  },
  {
   "cell_type": "code",
   "execution_count": 22,
   "id": "c2db2bd9-222a-4f00-8268-e9a3ee41d9cf",
   "metadata": {},
   "outputs": [],
   "source": [
    "gtf_df.to_gtf('test_sample_gtf.gtf')"
   ]
  },
  {
   "cell_type": "code",
   "execution_count": null,
   "id": "8ab40c2c-8704-4e82-a3a4-b9cb43e21c38",
   "metadata": {},
   "outputs": [],
   "source": []
  },
  {
   "cell_type": "code",
   "execution_count": null,
   "id": "26906d89-ba78-4b3f-b8d3-fa73a21728fa",
   "metadata": {},
   "outputs": [],
   "source": []
  },
  {
   "cell_type": "code",
   "execution_count": null,
   "id": "883ecef5-2ddb-4bbc-a98f-7881b5886a61",
   "metadata": {},
   "outputs": [],
   "source": []
  },
  {
   "cell_type": "code",
   "execution_count": null,
   "id": "b584464e-a8b8-4676-85ac-c39cb08ad20a",
   "metadata": {},
   "outputs": [],
   "source": []
  },
  {
   "cell_type": "markdown",
   "id": "6129eafe-71c5-4d9a-8243-b5961f5911a8",
   "metadata": {},
   "source": [
    "## snakemake debug"
   ]
  },
  {
   "cell_type": "code",
   "execution_count": 5,
   "id": "e1b2df4c-45db-44eb-b575-4e107ad713da",
   "metadata": {},
   "outputs": [],
   "source": [
    "species = ['human', 'mouse']\n",
    "meta_df = get_meta_df(config, species)"
   ]
  },
  {
   "cell_type": "code",
   "execution_count": 7,
   "id": "f45209f0-dbcb-4ec9-8ded-2a38877c33d3",
   "metadata": {},
   "outputs": [
    {
     "data": {
      "text/html": [
       "<div>\n",
       "<style scoped>\n",
       "    .dataframe tbody tr th:only-of-type {\n",
       "        vertical-align: middle;\n",
       "    }\n",
       "\n",
       "    .dataframe tbody tr th {\n",
       "        vertical-align: top;\n",
       "    }\n",
       "\n",
       "    .dataframe thead th {\n",
       "        text-align: right;\n",
       "    }\n",
       "</style>\n",
       "<table border=\"1\" class=\"dataframe\">\n",
       "  <thead>\n",
       "    <tr style=\"text-align: right;\">\n",
       "      <th></th>\n",
       "      <th>ENCODE_experiment_id</th>\n",
       "      <th>dataset</th>\n",
       "      <th>sample</th>\n",
       "      <th>sample_display</th>\n",
       "      <th>general_tissue_cell_type</th>\n",
       "      <th>fig1_tissue_label</th>\n",
       "      <th>health_status</th>\n",
       "      <th>tissue_or_cell_line</th>\n",
       "      <th>sample_color_hex_code</th>\n",
       "      <th>matching_mouse_samples</th>\n",
       "      <th>...</th>\n",
       "      <th>document_labels</th>\n",
       "      <th>platform</th>\n",
       "      <th>RIN</th>\n",
       "      <th>spikeins</th>\n",
       "      <th>species</th>\n",
       "      <th>age</th>\n",
       "      <th>adult</th>\n",
       "      <th>sex</th>\n",
       "      <th>genotype</th>\n",
       "      <th>matching_human_samples</th>\n",
       "    </tr>\n",
       "  </thead>\n",
       "  <tbody>\n",
       "    <tr>\n",
       "      <th>19</th>\n",
       "      <td>ENCSR242UEB</td>\n",
       "      <td>adrenal_36d_m_2</td>\n",
       "      <td>adrenal_36d</td>\n",
       "      <td>Adrenal gland PND36</td>\n",
       "      <td>adrenal gland</td>\n",
       "      <td>adrenal gland</td>\n",
       "      <td>NaN</td>\n",
       "      <td>tissue</td>\n",
       "      <td>#c87961</td>\n",
       "      <td>NaN</td>\n",
       "      <td>...</td>\n",
       "      <td>'PacBio libraries v3 (October, 2020) Protocol ...</td>\n",
       "      <td>Pacific Biosciences Sequel II</td>\n",
       "      <td>6.4</td>\n",
       "      <td>True</td>\n",
       "      <td>mouse</td>\n",
       "      <td>36d</td>\n",
       "      <td>True</td>\n",
       "      <td>m</td>\n",
       "      <td>b6/cast</td>\n",
       "      <td>['adrenal gland']</td>\n",
       "    </tr>\n",
       "    <tr>\n",
       "      <th>20</th>\n",
       "      <td>ENCSR242UEB</td>\n",
       "      <td>adrenal_36d_m_1</td>\n",
       "      <td>adrenal_36d</td>\n",
       "      <td>Adrenal gland PND36</td>\n",
       "      <td>adrenal gland</td>\n",
       "      <td>adrenal gland</td>\n",
       "      <td>NaN</td>\n",
       "      <td>tissue</td>\n",
       "      <td>#c87961</td>\n",
       "      <td>NaN</td>\n",
       "      <td>...</td>\n",
       "      <td>'PacBio libraries v3 (October, 2020) Protocol ...</td>\n",
       "      <td>Pacific Biosciences Sequel II</td>\n",
       "      <td>6.4</td>\n",
       "      <td>True</td>\n",
       "      <td>mouse</td>\n",
       "      <td>36d</td>\n",
       "      <td>True</td>\n",
       "      <td>m</td>\n",
       "      <td>b6/cast</td>\n",
       "      <td>['adrenal gland']</td>\n",
       "    </tr>\n",
       "  </tbody>\n",
       "</table>\n",
       "<p>2 rows × 25 columns</p>\n",
       "</div>"
      ],
      "text/plain": [
       "   ENCODE_experiment_id          dataset       sample       sample_display  \\\n",
       "19          ENCSR242UEB  adrenal_36d_m_2  adrenal_36d  Adrenal gland PND36   \n",
       "20          ENCSR242UEB  adrenal_36d_m_1  adrenal_36d  Adrenal gland PND36   \n",
       "\n",
       "   general_tissue_cell_type fig1_tissue_label health_status  \\\n",
       "19            adrenal gland     adrenal gland           NaN   \n",
       "20            adrenal gland     adrenal gland           NaN   \n",
       "\n",
       "   tissue_or_cell_line sample_color_hex_code matching_mouse_samples  ...  \\\n",
       "19              tissue               #c87961                    NaN  ...   \n",
       "20              tissue               #c87961                    NaN  ...   \n",
       "\n",
       "                                      document_labels  \\\n",
       "19  'PacBio libraries v3 (October, 2020) Protocol ...   \n",
       "20  'PacBio libraries v3 (October, 2020) Protocol ...   \n",
       "\n",
       "                         platform  RIN spikeins species  age adult  sex  \\\n",
       "19  Pacific Biosciences Sequel II  6.4     True   mouse  36d  True    m   \n",
       "20  Pacific Biosciences Sequel II  6.4     True   mouse  36d  True    m   \n",
       "\n",
       "    genotype matching_human_samples  \n",
       "19   b6/cast      ['adrenal gland']  \n",
       "20   b6/cast      ['adrenal gland']  \n",
       "\n",
       "[2 rows x 25 columns]"
      ]
     },
     "execution_count": 7,
     "metadata": {},
     "output_type": "execute_result"
    }
   ],
   "source": [
    "meta_df.loc[meta_df.dataset.str.contains('adrenal_36d_m')]"
   ]
  },
  {
   "cell_type": "code",
   "execution_count": null,
   "id": "d4ef8dfb-9dfd-416a-a0da-c7591f630d9b",
   "metadata": {},
   "outputs": [],
   "source": []
  },
  {
   "cell_type": "code",
   "execution_count": null,
   "id": "65c12e33-612f-4569-bbb5-4731bc42e03e",
   "metadata": {},
   "outputs": [],
   "source": []
  },
  {
   "cell_type": "code",
   "execution_count": null,
   "id": "fef9d399-04e8-435e-beee-3d50d780d9d2",
   "metadata": {},
   "outputs": [],
   "source": []
  },
  {
   "cell_type": "code",
   "execution_count": null,
   "id": "f8515750-361b-4a90-8514-bd0f218d75ec",
   "metadata": {},
   "outputs": [],
   "source": []
  },
  {
   "cell_type": "code",
   "execution_count": null,
   "id": "dcd9484a-f569-433c-903d-47647728d658",
   "metadata": {},
   "outputs": [],
   "source": []
  },
  {
   "cell_type": "code",
   "execution_count": null,
   "id": "fd3e1a8f-15a9-4038-8e07-6c0777997e8b",
   "metadata": {},
   "outputs": [],
   "source": []
  },
  {
   "cell_type": "code",
   "execution_count": null,
   "id": "a34c55ce-40c4-44e9-a68a-51ef21748340",
   "metadata": {},
   "outputs": [],
   "source": [
    "# 230722 test get_lr_ids"
   ]
  },
  {
   "cell_type": "code",
   "execution_count": null,
   "id": "6cd92997-6f53-41f9-b049-fe8d77a19113",
   "metadata": {},
   "outputs": [],
   "source": []
  },
  {
   "cell_type": "code",
   "execution_count": null,
   "id": "8eb51c13-d12d-41b2-8806-4ea51e65e33f",
   "metadata": {},
   "outputs": [],
   "source": []
  },
  {
   "cell_type": "code",
   "execution_count": null,
   "id": "2a728589-1ceb-4e2e-8733-4e8824d49a44",
   "metadata": {},
   "outputs": [],
   "source": []
  },
  {
   "cell_type": "code",
   "execution_count": null,
   "id": "65adb8a5-c2a2-4971-b2c2-185ed4ea1bee",
   "metadata": {},
   "outputs": [],
   "source": []
  },
  {
   "cell_type": "code",
   "execution_count": 13,
   "id": "6940d5ce-1a98-4ae6-a818-5f22968fae7a",
   "metadata": {},
   "outputs": [],
   "source": [
    "def get_lr_exp_meta():\n",
    "    def get_genome_bam(experiment_id):\n",
    "        experiment = server.get_json(experiment_id)\n",
    "\n",
    "        metadata = []\n",
    "        default_analysis = experiment[\"default_analysis\"]\n",
    "        for f in experiment[\"files\"]:\n",
    "            analyses = [x[\"@id\"] for x in f[\"analyses\"]]\n",
    "            # this check only applies to processed data not reads (default_analysis in analyses and)\n",
    "            if f[\"output_type\"] in (\"reads\", \"unfiltered alignments\"):\n",
    "                if f[\"output_type\"] == \"unfiltered alignments\" and not default_analysis in analyses:\n",
    "                    # skip alignments for older analyses.\n",
    "                    continue\n",
    "                reps = f[\"technical_replicates\"]\n",
    "                assert len(reps) == 1\n",
    "                reps = reps[0]\n",
    "\n",
    "                extension = {\n",
    "                    \"fastq\": \".fastq.gz\",\n",
    "                    \"bam\": \".bam\",\n",
    "                }[f[\"file_format\"]]\n",
    "    \n",
    "                metadata.append({\n",
    "                    \"experiment\": experiment[\"accession\"],\n",
    "                    \"description\": experiment[\"description\"],\n",
    "                    \"simple_biosample_summary\": f[\"simple_biosample_summary\"],\n",
    "                    \"file\": f[\"accession\"],\n",
    "                    \"output_type\": f[\"output_type\"],\n",
    "                    \"file_size\": f[\"file_size\"],\n",
    "                    \"bio_rep\": f[\"biological_replicates\"][0],\n",
    "                    \"tech_rep\": f[\"technical_replicates\"][0]\n",
    "                })\n",
    "\n",
    "        return metadata\n",
    "\n",
    "    server = ENCODED(\"www.encodeproject.org\") \n",
    "    cart_url = \"https://www.encodeproject.org/carts/829d339c-913c-4773-8001-80130796a367/\"    \n",
    "    \n",
    "    cart = server.get_json(cart_url)\n",
    "\n",
    "    metadata = []\n",
    "    for experiment_id in cart[\"elements\"]:\n",
    "        metadata.extend(get_genome_bam(experiment_id))\n",
    "        \n",
    "    metadata = pd.DataFrame(metadata)\n",
    "    metadata['name'] = metadata['experiment']+'_'+metadata['tech_rep']\n",
    "    return metadata    "
   ]
  },
  {
   "cell_type": "code",
   "execution_count": 5,
   "id": "5a1d9ff8-cfd4-423e-9b13-f46d03bd42e8",
   "metadata": {},
   "outputs": [],
   "source": [
    "def get_lr_fastq_ids(file_format='bam'):\n",
    "    metadata = get_lr_exp_meta()\n",
    "    if file_format == 'bam':\n",
    "        metadata = metadata.loc[metadata.output_type=='unfiltered alignments']\n",
    "    elif file_format == 'fastq':\n",
    "        metadata = metadata.loc[metadata.output_type=='reads']\n",
    "    \n",
    "    return metadata.file.tolist()"
   ]
  },
  {
   "cell_type": "code",
   "execution_count": 6,
   "id": "d1e14952-4609-42ec-a4fe-139694753d44",
   "metadata": {},
   "outputs": [],
   "source": [
    "ids = get_lr_fastq_ids(file_format='bam')"
   ]
  },
  {
   "cell_type": "code",
   "execution_count": 7,
   "id": "55c8d7fb-323f-4cff-9a18-0b57b3a7a349",
   "metadata": {},
   "outputs": [
    {
     "data": {
      "text/plain": [
       "138"
      ]
     },
     "execution_count": 7,
     "metadata": {},
     "output_type": "execute_result"
    }
   ],
   "source": [
    "len(ids)"
   ]
  },
  {
   "cell_type": "code",
   "execution_count": 25,
   "id": "d227f142-803d-4268-9bbb-fb4cd43712c7",
   "metadata": {},
   "outputs": [],
   "source": [
    "ids = get_lr_fastq_ids(file_format='fastq')"
   ]
  },
  {
   "cell_type": "code",
   "execution_count": 26,
   "id": "6bd85c45-a301-4109-a2c0-097ad3a618bc",
   "metadata": {},
   "outputs": [
    {
     "data": {
      "text/plain": [
       "138"
      ]
     },
     "execution_count": 26,
     "metadata": {},
     "output_type": "execute_result"
    }
   ],
   "source": [
    "len(ids)"
   ]
  },
  {
   "cell_type": "code",
   "execution_count": 33,
   "id": "abfe10e7-6cf7-4ce0-87a0-1cb224a30e32",
   "metadata": {},
   "outputs": [],
   "source": [
    "def score_aligned_reads(filename):\n",
    "    with pysam.AlignmentFile(filename, \"rb\") as inbam:\n",
    "        aligned_reads = 0\n",
    "        aligned_query_len = []\n",
    "        aligned_positions = []\n",
    "\n",
    "        for read in inbam:\n",
    "            if not read.is_unmapped:\n",
    "                aligned_reads += 1\n",
    "                aligned_query_len.append(read.query_length)\n",
    "                aligned_positions.append(len(read.positions))\n",
    "\n",
    "        return {\n",
    "            \"aligned_reads\": len(aligned_query_len),\n",
    "            \"query_len_median\": np.median(aligned_query_len),\n",
    "            \"query_len\": aligned_query_len,\n",
    "            \"positions_median\": np.median(aligned_positions),\n",
    "            \"positions_len\": aligned_positions,\n",
    "        }\n",
    "def score_fastq_reads(filename):\n",
    "    read_len = []\n",
    "    with xopen(filename, \"rt\") as instream:\n",
    "        for record in SeqIO.parse(instream, \"fastq\"):\n",
    "            read_len.append(len(record))\n",
    "    \n",
    "    return {\n",
    "        \"raw_reads\": len(read_len),\n",
    "        \"read_len_median\": np.median(read_len),\n",
    "        \"read_len\": read_len,\n",
    "    }"
   ]
  },
  {
   "cell_type": "code",
   "execution_count": 34,
   "id": "9d5c6375-bf24-48dc-89db-02e5ea348c32",
   "metadata": {},
   "outputs": [
    {
     "data": {
      "text/html": [
       "<div>\n",
       "<style scoped>\n",
       "    .dataframe tbody tr th:only-of-type {\n",
       "        vertical-align: middle;\n",
       "    }\n",
       "\n",
       "    .dataframe tbody tr th {\n",
       "        vertical-align: top;\n",
       "    }\n",
       "\n",
       "    .dataframe thead th {\n",
       "        text-align: right;\n",
       "    }\n",
       "</style>\n",
       "<table border=\"1\" class=\"dataframe\">\n",
       "  <thead>\n",
       "    <tr style=\"text-align: right;\">\n",
       "      <th></th>\n",
       "      <th>experiment</th>\n",
       "      <th>description</th>\n",
       "      <th>simple_biosample_summary</th>\n",
       "      <th>file</th>\n",
       "      <th>output_type</th>\n",
       "      <th>file_size</th>\n",
       "      <th>bio_rep</th>\n",
       "      <th>tech_rep</th>\n",
       "      <th>name</th>\n",
       "    </tr>\n",
       "  </thead>\n",
       "  <tbody>\n",
       "    <tr>\n",
       "      <th>0</th>\n",
       "      <td>ENCSR293MOX</td>\n",
       "      <td>W62 right lobe of liver</td>\n",
       "      <td>female child (16 years)</td>\n",
       "      <td>ENCFF318SKH</td>\n",
       "      <td>reads</td>\n",
       "      <td>255510907</td>\n",
       "      <td>1</td>\n",
       "      <td>1_1</td>\n",
       "      <td>ENCSR293MOX_1_1</td>\n",
       "    </tr>\n",
       "    <tr>\n",
       "      <th>1</th>\n",
       "      <td>ENCSR293MOX</td>\n",
       "      <td>W62 right lobe of liver</td>\n",
       "      <td>female child (16 years)</td>\n",
       "      <td>ENCFF430RUG</td>\n",
       "      <td>unfiltered alignments</td>\n",
       "      <td>362638099</td>\n",
       "      <td>1</td>\n",
       "      <td>1_1</td>\n",
       "      <td>ENCSR293MOX_1_1</td>\n",
       "    </tr>\n",
       "    <tr>\n",
       "      <th>2</th>\n",
       "      <td>ENCSR081NRO</td>\n",
       "      <td>Adrenal Gland 1-2 ENTEX50</td>\n",
       "      <td>male adult (37 years)</td>\n",
       "      <td>ENCFF211SQY</td>\n",
       "      <td>reads</td>\n",
       "      <td>387217252</td>\n",
       "      <td>1</td>\n",
       "      <td>1_1</td>\n",
       "      <td>ENCSR081NRO_1_1</td>\n",
       "    </tr>\n",
       "    <tr>\n",
       "      <th>3</th>\n",
       "      <td>ENCSR081NRO</td>\n",
       "      <td>Adrenal Gland 1-2 ENTEX50</td>\n",
       "      <td>male adult (37 years)</td>\n",
       "      <td>ENCFF967OHL</td>\n",
       "      <td>unfiltered alignments</td>\n",
       "      <td>521377683</td>\n",
       "      <td>1</td>\n",
       "      <td>1_1</td>\n",
       "      <td>ENCSR081NRO_1_1</td>\n",
       "    </tr>\n",
       "    <tr>\n",
       "      <th>4</th>\n",
       "      <td>ENCSR257JBF</td>\n",
       "      <td>excitatory cortical neurons</td>\n",
       "      <td>male adult (53 years)</td>\n",
       "      <td>ENCFF919JFJ</td>\n",
       "      <td>reads</td>\n",
       "      <td>345607718</td>\n",
       "      <td>1</td>\n",
       "      <td>1_1</td>\n",
       "      <td>ENCSR257JBF_1_1</td>\n",
       "    </tr>\n",
       "  </tbody>\n",
       "</table>\n",
       "</div>"
      ],
      "text/plain": [
       "    experiment                  description simple_biosample_summary  \\\n",
       "0  ENCSR293MOX      W62 right lobe of liver  female child (16 years)   \n",
       "1  ENCSR293MOX      W62 right lobe of liver  female child (16 years)   \n",
       "2  ENCSR081NRO    Adrenal Gland 1-2 ENTEX50    male adult (37 years)   \n",
       "3  ENCSR081NRO    Adrenal Gland 1-2 ENTEX50    male adult (37 years)   \n",
       "4  ENCSR257JBF  excitatory cortical neurons    male adult (53 years)   \n",
       "\n",
       "          file            output_type  file_size  bio_rep tech_rep  \\\n",
       "0  ENCFF318SKH                  reads  255510907        1      1_1   \n",
       "1  ENCFF430RUG  unfiltered alignments  362638099        1      1_1   \n",
       "2  ENCFF211SQY                  reads  387217252        1      1_1   \n",
       "3  ENCFF967OHL  unfiltered alignments  521377683        1      1_1   \n",
       "4  ENCFF919JFJ                  reads  345607718        1      1_1   \n",
       "\n",
       "              name  \n",
       "0  ENCSR293MOX_1_1  \n",
       "1  ENCSR293MOX_1_1  \n",
       "2  ENCSR081NRO_1_1  \n",
       "3  ENCSR081NRO_1_1  \n",
       "4  ENCSR257JBF_1_1  "
      ]
     },
     "execution_count": 34,
     "metadata": {},
     "output_type": "execute_result"
    }
   ],
   "source": [
    "metadata = get_lr_exp_meta()\n",
    "metadata.head()"
   ]
  },
  {
   "cell_type": "code",
   "execution_count": 35,
   "id": "941e82e6-bb39-4fc1-8c10-564133c39173",
   "metadata": {},
   "outputs": [
    {
     "ename": "OSError",
     "evalue": "no BGZF EOF marker; file may be truncated",
     "output_type": "error",
     "traceback": [
      "\u001b[0;31m---------------------------------------------------------------------------\u001b[0m",
      "\u001b[0;31mOSError\u001b[0m                                   Traceback (most recent call last)",
      "\u001b[0;32m<ipython-input-35-d3a4e377bb78>\u001b[0m in \u001b[0;36m<module>\u001b[0;34m\u001b[0m\n\u001b[1;32m      6\u001b[0m     \u001b[0mname\u001b[0m \u001b[0;34m=\u001b[0m \u001b[0mtemp\u001b[0m\u001b[0;34m.\u001b[0m\u001b[0mname\u001b[0m\u001b[0;34m\u001b[0m\u001b[0;34m\u001b[0m\u001b[0m\n\u001b[1;32m      7\u001b[0m     \u001b[0;32mif\u001b[0m \u001b[0mtemp\u001b[0m\u001b[0;34m.\u001b[0m\u001b[0moutput_type\u001b[0m \u001b[0;34m==\u001b[0m \u001b[0;34m'unfiltered alignments'\u001b[0m\u001b[0;34m:\u001b[0m\u001b[0;34m\u001b[0m\u001b[0;34m\u001b[0m\u001b[0m\n\u001b[0;32m----> 8\u001b[0;31m         \u001b[0mresult\u001b[0m \u001b[0;34m=\u001b[0m \u001b[0mscore_aligned_reads\u001b[0m\u001b[0;34m(\u001b[0m\u001b[0mf\u001b[0m\u001b[0;34m)\u001b[0m\u001b[0;34m\u001b[0m\u001b[0;34m\u001b[0m\u001b[0m\n\u001b[0m\u001b[1;32m      9\u001b[0m     \u001b[0;32melif\u001b[0m \u001b[0mtemp\u001b[0m\u001b[0;34m.\u001b[0m\u001b[0moutput_type\u001b[0m \u001b[0;34m==\u001b[0m \u001b[0;34m'reads'\u001b[0m\u001b[0;34m:\u001b[0m\u001b[0;34m\u001b[0m\u001b[0;34m\u001b[0m\u001b[0m\n\u001b[1;32m     10\u001b[0m         \u001b[0mresult\u001b[0m \u001b[0;34m=\u001b[0m \u001b[0mscore_fastq_reads\u001b[0m\u001b[0;34m(\u001b[0m\u001b[0mf\u001b[0m\u001b[0;34m)\u001b[0m\u001b[0;34m\u001b[0m\u001b[0;34m\u001b[0m\u001b[0m\n",
      "\u001b[0;32m<ipython-input-33-b4d4b5920659>\u001b[0m in \u001b[0;36mscore_aligned_reads\u001b[0;34m(filename)\u001b[0m\n\u001b[1;32m      1\u001b[0m \u001b[0;32mdef\u001b[0m \u001b[0mscore_aligned_reads\u001b[0m\u001b[0;34m(\u001b[0m\u001b[0mfilename\u001b[0m\u001b[0;34m)\u001b[0m\u001b[0;34m:\u001b[0m\u001b[0;34m\u001b[0m\u001b[0;34m\u001b[0m\u001b[0m\n\u001b[0;32m----> 2\u001b[0;31m     \u001b[0;32mwith\u001b[0m \u001b[0mpysam\u001b[0m\u001b[0;34m.\u001b[0m\u001b[0mAlignmentFile\u001b[0m\u001b[0;34m(\u001b[0m\u001b[0mfilename\u001b[0m\u001b[0;34m,\u001b[0m \u001b[0;34m\"rb\"\u001b[0m\u001b[0;34m)\u001b[0m \u001b[0;32mas\u001b[0m \u001b[0minbam\u001b[0m\u001b[0;34m:\u001b[0m\u001b[0;34m\u001b[0m\u001b[0;34m\u001b[0m\u001b[0m\n\u001b[0m\u001b[1;32m      3\u001b[0m         \u001b[0maligned_reads\u001b[0m \u001b[0;34m=\u001b[0m \u001b[0;36m0\u001b[0m\u001b[0;34m\u001b[0m\u001b[0;34m\u001b[0m\u001b[0m\n\u001b[1;32m      4\u001b[0m         \u001b[0maligned_query_len\u001b[0m \u001b[0;34m=\u001b[0m \u001b[0;34m[\u001b[0m\u001b[0;34m]\u001b[0m\u001b[0;34m\u001b[0m\u001b[0;34m\u001b[0m\u001b[0m\n\u001b[1;32m      5\u001b[0m         \u001b[0maligned_positions\u001b[0m \u001b[0;34m=\u001b[0m \u001b[0;34m[\u001b[0m\u001b[0;34m]\u001b[0m\u001b[0;34m\u001b[0m\u001b[0;34m\u001b[0m\u001b[0m\n",
      "\u001b[0;32mpysam/libcalignmentfile.pyx\u001b[0m in \u001b[0;36mpysam.libcalignmentfile.AlignmentFile.__cinit__\u001b[0;34m()\u001b[0m\n",
      "\u001b[0;32mpysam/libcalignmentfile.pyx\u001b[0m in \u001b[0;36mpysam.libcalignmentfile.AlignmentFile._open\u001b[0;34m()\u001b[0m\n",
      "\u001b[0;32mpysam/libchtslib.pyx\u001b[0m in \u001b[0;36mpysam.libchtslib.HTSFile.check_truncation\u001b[0;34m()\u001b[0m\n",
      "\u001b[0;31mOSError\u001b[0m: no BGZF EOF marker; file may be truncated"
     ]
    }
   ],
   "source": [
    "counts = {}\n",
    "d = 'data/human/bam/*bam'\n",
    "for f in glob.glob(d):\n",
    "    encid = f.rsplit('/', maxsplit=1)[1].split('.')[0]\n",
    "    temp = metadata.loc[metadata.file == encid].iloc[0]\n",
    "    name = temp.name\n",
    "    if temp.output_type == 'unfiltered alignments':\n",
    "        result = score_aligned_reads(f)\n",
    "    elif temp.output_type == 'reads':\n",
    "        result = score_fastq_reads(f)\n",
    "    counts.setdefault(name, {}).update(result)"
   ]
  },
  {
   "cell_type": "code",
   "execution_count": null,
   "id": "feb575af-b8d7-400a-a3d7-dbbc70941536",
   "metadata": {},
   "outputs": [],
   "source": [
    "array_attributes = ['read_len', 'query_len', 'positions_len']\n",
    "lengths = {}\n",
    "\n",
    "medians = {}\n",
    "for name in counts:\n",
    "    for k in counts[name]:\n",
    "        if k in array_attributes:\n",
    "            lengths[(k, name)] = counts[name][k]\n",
    "        else:\n",
    "            medians.setdefault(k, {})[name] = counts[name][k]"
   ]
  },
  {
   "cell_type": "code",
   "execution_count": null,
   "id": "44279e69-8597-459c-9ba1-079d79d53434",
   "metadata": {},
   "outputs": [],
   "source": [
    "def get_lr_read_lens(bams, fastqs, out):\n",
    "    \n",
    "    def score_aligned_reads(filename):\n",
    "        with pysam.AlignmentFile(filename, \"rb\") as inbam:\n",
    "            aligned_reads = 0\n",
    "            aligned_query_len = []\n",
    "            aligned_positions = []\n",
    "\n",
    "            for read in inbam:\n",
    "                if not read.is_unmapped:\n",
    "                    aligned_reads += 1\n",
    "                    aligned_query_len.append(read.query_length)\n",
    "                    aligned_positions.append(len(read.positions))\n",
    "\n",
    "            return {\n",
    "                \"aligned_reads\": len(aligned_query_len),\n",
    "                \"query_len_median\": np.median(aligned_query_len),\n",
    "                \"query_len\": aligned_query_len,\n",
    "                \"positions_median\": np.median(aligned_positions),\n",
    "                \"positions_len\": aligned_positions,\n",
    "            }\n",
    "    def score_fastq_reads(filename):\n",
    "        read_len = []\n",
    "        with xopen(filename, \"rt\") as instream:\n",
    "            for record in SeqIO.parse(instream, \"fastq\"):\n",
    "                read_len.append(len(record))\n",
    "\n",
    "        return {\n",
    "            \"raw_reads\": len(read_len),\n",
    "            \"read_len_median\": np.median(read_len),\n",
    "            \"read_len\": read_len,\n",
    "        }\n",
    "    \n",
    "    counts = {}\n",
    "    for f in bams+fastqs:\n",
    "        encid = f.rsplit('/', maxsplit=1)[1].split('.')[0]\n",
    "        temp = metadata.loc[metadata.file == encid].iloc[0]\n",
    "        name = temp.name\n",
    "        if temp.output_type == 'unfiltered alignments':\n",
    "            result = score_aligned_reads(f)\n",
    "        elif temp.output_type == 'reads':\n",
    "            result = score_fastq_reads(f)\n",
    "        counts.setdefault(name, {}).update(result)\n",
    "        \n",
    "    array_attributes = ['read_len', 'query_len', 'positions_len']\n",
    "    lengths = {}\n",
    "\n",
    "    medians = {}\n",
    "    for name in counts:\n",
    "        for k in counts[name]:\n",
    "            if k in array_attributes:\n",
    "                lengths[(k, name)] = counts[name][k]\n",
    "            else:\n",
    "                medians.setdefault(k, {})[name] = counts[name][k]\n",
    "                \n",
    "    various_counts = pd.DataFrame(medians)\n",
    "    various_counts.to_csv(out, sep='\\t')\n"
   ]
  }
 ],
 "metadata": {
  "kernelspec": {
   "display_name": "Python 3",
   "language": "python",
   "name": "python3"
  },
  "language_info": {
   "codemirror_mode": {
    "name": "ipython",
    "version": 3
   },
   "file_extension": ".py",
   "mimetype": "text/x-python",
   "name": "python",
   "nbconvert_exporter": "python",
   "pygments_lexer": "ipython3",
   "version": "3.7.12"
  }
 },
 "nbformat": 4,
 "nbformat_minor": 5
}
