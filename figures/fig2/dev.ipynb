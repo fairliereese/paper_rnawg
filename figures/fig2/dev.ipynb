{
 "cells": [
  {
   "cell_type": "code",
   "execution_count": 35,
   "id": "95b343f5-ba40-42a9-b399-9c07bff5ca12",
   "metadata": {},
   "outputs": [],
   "source": [
    "import pandas as pd\n",
    "import numpy as np\n",
    "import scipy.stats as st\n",
    "import seaborn as sns\n",
    "import sys\n",
    "import os\n",
    "import gseapy as gp\n",
    "import matplotlib.pyplot as plt\n",
    "import swan_vis as swan\n",
    "import yaml\n",
    "from snakemake.io import expand\n",
    "\n",
    "p = os.path.dirname(os.path.dirname(os.getcwd()))\n",
    "sys.path.append(p)\n",
    "\n",
    "from scripts.utils import *\n",
    "from scripts.plotting import *\n",
    "from scripts.mane_utils import *"
   ]
  },
  {
   "cell_type": "code",
   "execution_count": 36,
   "id": "7054de98-06a8-43aa-a8a4-37156b14cb8e",
   "metadata": {},
   "outputs": [],
   "source": [
    "config_file = '../snakemake/config.yml'\n",
    "with open(config_file) as f:\n",
    "    config = yaml.safe_load(f)"
   ]
  },
  {
   "cell_type": "code",
   "execution_count": 46,
   "id": "7f83a46f-9f8a-473e-b8a2-3a357c56ff25",
   "metadata": {},
   "outputs": [],
   "source": [
    "ab = '../'+expand(config['data']['ab'], species='human')[0]\n",
    "filt_ab = '../'+expand(config['data']['filt_ab'], species='human')[0]\n",
    "read_annot = '../'+expand(config['data']['read_annot'], species='human')[0]\n",
    "t_metadata = '../'+expand(config['ref']['cerberus']['t_info'], species='human')[0]\n",
    "lib_meta = '../'+expand(config['data']['meta'], species='human')[0]\n",
    "swan_file = '../'+expand(config['data']['sg'], species='human')[0]\n",
    "cerberus_h5 = '../'+expand(config['data']['cerb_annot'], species='human')[0]\n",
    "cerb_t_metadata = '../'+expand(config['data']['t_info'], species='human')[0]\n",
    "major_isos = '../'+expand(config['data']['major_isos'], species='human', obs_col='sample')[0]\n",
    "pi_tpm_table = '../'+expand(config['data']['pi_tpm']['triplet'], species='human', obs_col='sample')[0]\n",
    "pp_summary = '../'+expand(config['data']['p_pred']['summary'], species='human')[0]\n",
    "ref_t_metadata = '../'+expand(config['ref']['t_info'], species='human')[0]\n",
    "ref_g_metadata = '../'+expand(config['ref']['g_info'], species='human')[0]\n",
    "\n",
    "ver = 'v40_cerberus'\n",
    "min_tpm = 1\n",
    "gene_subset = 'polya'\n",
    "obs_col = 'sample'\n",
    "go_gene_subset = 'protein_coding'\n",
    "predom_iso_subset = 'protein_coding'\n",
    "\n",
    "m_lib_meta = '../'+expand(config['data']['meta'], species='mouse')[0]\n",
    "m_ab = '../'+expand(config['data']['ab'], species='mouse')[0]\n",
    "m_filt_ab = '../'+expand(config['data']['filt_ab'], species='mouse')[0]\n",
    "m_read_annot = '../'+expand(config['data']['read_annot'], species='mouse')[0]\n",
    "m_t_metadata = '../'+expand(config['ref']['cerberus']['t_info'], species='mouse')[0]\n",
    "m_swan_file = '../'+expand(config['data']['sg'], species='mouse')[0]\n",
    "m_cerberus_h5 = '../'+expand(config['data']['cerb_annot'], species='mouse')[0]\n",
    "m_pi_tpm_table = '../'+expand(config['data']['pi_tpm']['triplet'], species='mouse', obs_col='sample')[0]\n",
    "m_pp_summary = '../'+expand(config['data']['p_pred']['summary'], species='mouse')[0]\n",
    "m_ref_t_metadata = '../'+expand(config['ref']['t_info'], species='mouse')[0]\n",
    "m_ref_g_metadata = '../'+expand(config['ref']['g_info'], species='mouse')[0]\n",
    "m_major_isos = '../'+expand(config['data']['major_isos'], species='mouse', obs_col='sample')[0]\n",
    "\n",
    "\n",
    "mouse_ver = 'vM25_cerberus'"
   ]
  },
  {
   "cell_type": "code",
   "execution_count": 59,
   "id": "be7455f8-9f93-4b49-9d61-bb15a4ce5946",
   "metadata": {},
   "outputs": [],
   "source": [
    "def get_cds(exons, orf_start, orf_end, strand):\n",
    "    # ChatGPT wrote most of this thx friend\n",
    "    \n",
    "    def rev_exons(exons):\n",
    "        return [(e[1],e[0]) for e in exons[::-1]]\n",
    "    \n",
    "    if strand == '-':\n",
    "        exons = rev_exons(exons)\n",
    "        orf_start, orf_end = orf_end, orf_start\n",
    "        \n",
    "    cds = []\n",
    "    for exon_start, exon_end in exons:\n",
    "       \n",
    "        # determine the overlap between the current exon and the ORF\n",
    "        overlap_start = max(exon_start, orf_start)\n",
    "        overlap_end = min(exon_end, orf_end)\n",
    "        \n",
    "        # if there is no overlap, skip this exon\n",
    "        if overlap_start > overlap_end:\n",
    "            continue\n",
    "        \n",
    "        # add the CDS range for this exon to the list\n",
    "        cds.append((overlap_start, overlap_end))\n",
    "        \n",
    "    if strand == '-':\n",
    "        cds = rev_exons(cds)\n",
    "    \n",
    "    return cds\n",
    "\n",
    "def add_bool_heatmap(tpm_df, ax, species):\n",
    "    # tpm_df['is_mane_orf'] = False\n",
    "    keep_cols = ['triplet', 'gene_name', 'is_mane_orf',\n",
    "                 'full_orf', 'nmd', 'Known']\n",
    "    temp = tpm_df[keep_cols]\n",
    "    temp['iso_trip'] = temp.gene_name+' '+temp.triplet\n",
    "    temp.drop(['triplet', 'gene_name'], axis=1, inplace=True)\n",
    "    temp.set_index('iso_trip', inplace=True)\n",
    "    temp.index.name = ''\n",
    "    temp.rename({'is_mane_orf': 'MANE ORF',\n",
    "                 'full_orf': 'Full ORF',\n",
    "                 'nmd': 'NMD'}, axis=1, inplace=True)\n",
    "    # bool_cols = ['is_mane_orf', 'full_orf', 'nmd', 'Known']\n",
    "    bool_cols = ['Known', 'MANE ORF', 'Full ORF', 'NMD']\n",
    "    temp = temp[bool_cols]\n",
    "    temp2 = pd.DataFrame()\n",
    "    \n",
    "    m = {True: '*', False: ''}\n",
    "    for c in bool_cols:\n",
    "        temp2[c] = temp[c].map(m)\n",
    "    \n",
    "    pdb.set_trace()\n",
    "    \n",
    "    if species == 'mouse':\n",
    "        temp.drop('MANE ORF', axis=1, inplace=True)\n",
    "        temp2.drop('MANE ORF', axis=1, inplace=True)\n",
    "\n",
    "    ax = sns.heatmap(temp, cbar=False, cmap='Purples',\n",
    "                     linewidths=0.5, linecolor='k',\n",
    "                     annot=temp2, square=True, \n",
    "                     fmt='', ax=ax)\n",
    "    ax.tick_params(left=False,\n",
    "                   right=False, labelright=False,\n",
    "                   bottom=False, labelbottom=False,\n",
    "                   labeltop=True)\n",
    "    ax.set_xticklabels(ax.get_xticklabels(), rotation=90)\n",
    "    ax.set_yticklabels(ax.get_yticklabels(), rotation=0)\n",
    "    \n",
    "    return ax\n",
    "\n",
    "def plot_browser_isos(ca, sg, gene,\n",
    "                      obs_col, obs_condition, \n",
    "                      filt_ab, pp_summary, \n",
    "                      major_set,\n",
    "                      h=0.1, w=56, fig_w=14, species='human',\n",
    "                      add_tss=False,\n",
    "                      add_ccre=False,\n",
    "                      major=False,\n",
    "                      order='expression',\n",
    "                      light_shade=None,\n",
    "                      dark_shade=None):\n",
    "    \"\"\"\n",
    "    Plot browser style isoform models for a given sample\n",
    "    \"\"\"\n",
    "\n",
    "    def plot_tss(ca, sg, tpm_df, x, y, h, ax):\n",
    "        tpm_df = add_feat(tpm_df, kind='tss', col='transcript_id')\n",
    "        tpm_df.head()\n",
    "        tss_df = ca.tss.loc[ca.tss.Name.isin(tpm_df.tss.tolist())]\n",
    "        tss_df.head()\n",
    "        regions = [(entry.Start, entry.End) for ind, entry in tss_df.iterrows()]\n",
    "        color = get_sector_colors()[0]['tss']\n",
    "        ax = sg.pg.plot_regions(regions, sg.pg.scale, sg.pg.strand, sg.pg.g_min, sg.pg.g_max, x, y, h, color, ax)\n",
    "        return ax\n",
    "    \n",
    "    def plot_cds(entry, sg, x, y, h, ax, color):\n",
    "        c_dict, order = get_sector_colors()\n",
    "        \n",
    "        def get_inc_region(entry, how, scale):\n",
    "            inc = 80\n",
    "            if how == 'start' and entry.Strand == '+':\n",
    "                col = 'CDS_Start'\n",
    "            elif how == 'stop' and entry.Strand == '+':\n",
    "                col = 'CDS_Stop'\n",
    "            elif how == 'start' and entry.Strand == '-':\n",
    "                col = 'CDS_Stop'\n",
    "            elif how == 'stop' and entry.Strand == '-':\n",
    "                col = 'CDS_Start'\n",
    "            if entry.Strand == '+':\n",
    "                regions = (entry[col],entry[col]+inc)\n",
    "            elif entry.Strand == '-':\n",
    "                regions = (entry[col],entry[col]-inc)\n",
    "            regions = [regions]\n",
    "            # print(f'Scale: {scale}')\n",
    "            # print(f'CDS inc: {inc}')\n",
    "            \n",
    "            return regions \n",
    "\n",
    "        # get start and stop \n",
    "        strand = entry.Strand\n",
    "        if strand == '+':\n",
    "            orf_start = entry['CDS_Start']\n",
    "            orf_end = entry['CDS_Stop']\n",
    "        elif strand == '-':\n",
    "            orf_end = entry['CDS_Start']\n",
    "            orf_start = entry['CDS_Stop']\n",
    "        loc_path = sg.pg.loc_path\n",
    "        exons = [(sg.pg.loc_df.loc[v1, 'coord'],\n",
    "            sg.pg.loc_df.loc[v2, 'coord']) \\\n",
    "            for v1,v2 in zip(loc_path[:-1],loc_path[1:])][::2]\n",
    "        cds = get_cds(exons, orf_start, orf_end, strand)\n",
    "        ax = sg.pg.plot_regions(cds, sg.pg.scale, sg.pg.strand, sg.pg.g_min, sg.pg.g_max, x, y, h, color, ax)\n",
    "        \n",
    "        # start codon\n",
    "        color = c_dict['tss']\n",
    "        regions = get_inc_region(entry, 'start', sg.pg.scale)\n",
    "        ax = sg.pg.plot_regions(regions, sg.pg.scale, sg.pg.strand, sg.pg.g_min, sg.pg.g_max, x, y, h, color, ax)\n",
    "        \n",
    "        # stop codon\n",
    "        color = c_dict['tes']\n",
    "        regions = get_inc_region(entry, 'stop', sg.pg.scale)\n",
    "        ax = sg.pg.plot_regions(regions, sg.pg.scale, sg.pg.strand, sg.pg.g_min, sg.pg.g_max, x, y, h, color, ax)\n",
    "       \n",
    "        return ax\n",
    "        \n",
    "\n",
    "    def plot_ccre(ca, sg, x, y, h, ax):\n",
    "\n",
    "        # ccre regions\n",
    "        sources = ['pls', 'pels', 'dels']\n",
    "        ccre = ca.tss_map.loc[ca.tss_map.source.isin(sources)].copy(deep=True)\n",
    "\n",
    "        # get ranges w/i this region\n",
    "        min_coord = sg.pg.g_min\n",
    "        max_coord = sg.pg.g_max\n",
    "        chrom = sg.pg.chrom\n",
    "\n",
    "        ccre['min_coord'] = ccre[['Start', 'End']].min(axis=1)\n",
    "        ccre['max_coord'] = ccre[['Start', 'End']].max(axis=1)\n",
    "\n",
    "        # subset on regions\n",
    "        ccre = pr.PyRanges(ccre)\n",
    "        region = pr.from_dict({'Chromosome': [chrom],\n",
    "                                        'Start': [min_coord],\n",
    "                                        'End': [max_coord]})\n",
    "        ccre = ccre.intersect(region, strandedness=None)\n",
    "        ccre = ccre.as_df()\n",
    "\n",
    "        # colors\n",
    "        c_dict, _ = get_ccre_colors()\n",
    "        colors = [c_dict[s] for s in ccre.source.tolist()]\n",
    "        regions = [(entry.Start, entry.End) for ind, entry in ccre.iterrows()]\n",
    "        ax = sg.pg.plot_regions(regions, sg.pg.scale, sg.pg.strand, sg.pg.g_min, sg.pg.g_max, x, y, h, colors, ax)\n",
    "\n",
    "        return ax\n",
    "\n",
    "    def get_major_isos(major_set, gene, sample=None):\n",
    "        \"\"\"\n",
    "        Get list of major isfoorms in a given sample\n",
    "        \"\"\"\n",
    "        df = pd.read_csv(major_set, sep='\\t')\n",
    "        df = df.loc[df.gname == gene]\n",
    "        if sample:\n",
    "            df = df.loc[df['sample'] == sample]\n",
    "        tids = df.tid.unique().tolist()\n",
    "        return tids\n",
    "\n",
    "    def get_isos(ca, filt_ab, gene, sample, species):\n",
    "        df = pd.read_csv(filt_ab, sep='\\t')\n",
    "        df = get_det_table(df,\n",
    "                       groupby='sample',\n",
    "                       how='iso',\n",
    "                       min_tpm=1,\n",
    "                       gene_subset='polya',\n",
    "                       species=species)\n",
    "        df = df.loc[sample]\n",
    "        df = df.to_frame()\n",
    "        df = df.loc[df[sample]==True]\n",
    "        gid = ca.triplets.loc[ca.triplets.gname==gene, 'gid'].values[0]\n",
    "        df.reset_index(inplace=True)\n",
    "        df['gid'] = df['index'].str.split('[', expand=True)[0]\n",
    "        df = df.loc[df.gid == gid]\n",
    "        tids = df['index'].tolist()\n",
    "        return tids\n",
    "\n",
    "\n",
    "    def get_tpm_df(sg, tids, obs_col, obs_condition):\n",
    "        tpm_df = swan.calc_tpm(sg.adata, obs_col=obs_col).sparse.to_dense()\n",
    "        tpm_df = tpm_df.transpose()\n",
    "        tpm_df = tpm_df.loc[tids, obs_condition].to_frame()\n",
    "        return tpm_df\n",
    "\n",
    "    if major:\n",
    "        tids = get_major_isos(major_set, gene, obs_condition)\n",
    "    else:\n",
    "        tids = get_isos(ca, filt_ab, gene, obs_condition, species)\n",
    "    tpm_df = get_tpm_df(sg, tids, obs_col, obs_condition)\n",
    "\n",
    "    # colormap definition\n",
    "    if not light_shade:\n",
    "        light_shade = get_sector_colors()[0]['mixed']\n",
    "    if not dark_shade:\n",
    "        dark_shade = get_sector_colors()[0]['simple']\n",
    "    cmap = mpl.colors.LinearSegmentedColormap.from_list('', [light_shade, dark_shade])\n",
    "    \n",
    "    # figure / subplot settings\n",
    "    fig_h = len(tids)/4\n",
    "    w1_rat = (fig_w/6)*2\n",
    "    w2_rat = (fig_w/6)*4\n",
    "    fig, (ax, ax2) = plt.subplots(1,2, figsize=(fig_w, fig_h),\n",
    "                                  gridspec_kw={'width_ratios':(w1_rat, w2_rat)},\n",
    "                                  frameon=False, sharey=True)\n",
    "    fig.subplots_adjust(wspace=0.00)\n",
    "    fig.subplots_adjust(hspace=0.00)\n",
    "    \n",
    "    mpl.rcParams['font.family'] = 'Arial'\n",
    "    mpl.rcParams['pdf.fonttype'] = 42\n",
    "\n",
    "    # plotting order\n",
    "    tpm_df = tpm_df.sort_values(by=obs_condition, ascending=False)\n",
    "    tpm_df = tpm_df[[obs_condition]]\n",
    "\n",
    "    if order == 'tss':\n",
    "        tpm_df = add_feat(tpm_df, kind='tss', col='index')\n",
    "        tpm_df.sort_values(by=['tss', obs_condition], ascending=[True, False], inplace=True)\n",
    "        tpm_df.drop('tss', axis=1, inplace=True)\n",
    "\n",
    "    # add reference ids\n",
    "    if species == 'human':\n",
    "        ref_source = 'v40'\n",
    "    elif species == 'mouse':\n",
    "        ref_source = 'vM25'\n",
    "    df = ca.t_map.loc[ca.t_map.source == ref_source]\n",
    "    df = df[['transcript_id','original_transcript_id', 'original_transcript_name']]\n",
    "    tpm_df = tpm_df.merge(df, how='left', left_index=True, right_on='transcript_id')\n",
    "\n",
    "    # clean up for transcripts that aren't known\n",
    "    df = ca.t_map.loc[ca.t_map.source == 'lapa']\n",
    "    df = df[['gene_name', 'transcript_id', 'transcript_name',\n",
    "             'tss_id', 'ic_id', 'tes_id']].drop_duplicates()\n",
    "    tpm_df = tpm_df.merge(df, how='left', on='transcript_id')\n",
    "    tpm_df.fillna('N/A', inplace=True)\n",
    "\n",
    "    if species == 'human':\n",
    "        refs = ['v40', 'v29']\n",
    "    elif species == 'mouse':\n",
    "        refs = ['vM21', 'vM25']\n",
    "    known_tids = ca.t_map.loc[ca.t_map.source.isin(refs)].transcript_id.unique().tolist()\n",
    "    tpm_df['Known'] = tpm_df.transcript_id.isin(known_tids)\n",
    "\n",
    "    # triplets rather than entire transcript name\n",
    "    tpm_df['triplet'] = tpm_df.transcript_id.str.split('[', n=1, expand=True)[1]\n",
    "    tpm_df['triplet'] = tpm_df.triplet.str.split(']', n=1, expand=True)[0]\n",
    "    tpm_df['triplet'] = '['+tpm_df.triplet+']'\n",
    "    \n",
    "    # NMD and ORF \n",
    "    pp_df = pd.read_csv(pp_summary, sep='\\t')\n",
    "    pp_df.rename({'tid': 'transcript_id'}, axis=1, inplace=True)\n",
    "    tpm_df = tpm_df.merge(pp_df[['transcript_id', 'nmd', 'full_orf', \n",
    "                                 'seq', 'Strand', 'CDS_Start', 'CDS_Stop']], \n",
    "                          how='left', \n",
    "                          on='transcript_id')\n",
    "    \n",
    "    # are these the mane orf\n",
    "    if species == 'human':\n",
    "        tpm_df['gid'] = tpm_df['ic_id'].str.split('_', expand=True)[0]\n",
    "        gid = tpm_df.gid.values[0]\n",
    "        mane_orf = get_mane_orf(pp_summary,\n",
    "                                'v40_cerberus',\n",
    "                                gid=gid).seq.values[0]\n",
    "        tpm_df['is_mane_orf'] = tpm_df['seq'] == mane_orf \n",
    "    \n",
    "    # first add the labels\n",
    "    ax = add_bool_heatmap(tpm_df, ax, species)\n",
    "    \n",
    "    # get y coords from heatmap\n",
    "    y_locs = ax.get_yticks()\n",
    "    \n",
    "    # get x coords from heatmap\n",
    "    x = 0    \n",
    "    i = 0\n",
    "    \n",
    "    # get height of cdss\n",
    "    h_cds = h*2\n",
    "    \n",
    "    linewidth = 1.5\n",
    "    \n",
    "    for index, entry in tpm_df.iterrows():\n",
    "        \n",
    "        y_ytick = y_locs[i]\n",
    "\n",
    "        # y coords\n",
    "        y = y_ytick-(h/2)\n",
    "        y_cds = y_ytick-(h_cds/2)\n",
    "\n",
    "        # tid\n",
    "        tid = entry['transcript_id']\n",
    "        \n",
    "        # color by TPM\n",
    "        if len(tpm_df.index) == 1:\n",
    "            norm_val = entry[obs_condition]\n",
    "        else:\n",
    "            norm_val = (entry[obs_condition]-tpm_df[obs_condition].min())/(tpm_df[obs_condition].max()-tpm_df[obs_condition].min())\n",
    "        color = cmap(norm_val)\n",
    "        \n",
    "        # plot models + cds\n",
    "        ax2 = sg.plot_browser(tid, y=y, x=x, h=h, w=w, color=color,\n",
    "                              ax=ax2, linewidth=linewidth)\n",
    "        ax2 = plot_cds(entry, sg, x, y_cds, h_cds, ax2, color)\n",
    "        \n",
    "        i+=1\n",
    "    \n",
    "    y_space=0.5\n",
    "    \n",
    "    i = 1\n",
    "    if add_tss:\n",
    "        y_ytick = (len(tpm_df.index) + i)\n",
    "        y = y_ytick-(h_cds/2)\n",
    "        ax2 = plot_tss(ca, sg, tpm_df, x, y, h_cds, ax2)\n",
    "        i += 1\n",
    "\n",
    "    if add_ccre:\n",
    "        y_ytick = (len(tpm_df.index) + i)\n",
    "        y = y_ytick-(h_cds/2)\n",
    "        ax2 = plot_ccre(ca, sg, x, y, h_cds, ax2)\n",
    "        i += 1\n",
    "\n",
    "    # add scale\n",
    "    y_ytick = (len(tpm_df.index) + i)\n",
    "    y = y_ytick-(h_cds/2)\n",
    "    ax2 = sg.pg.plot_scale(x, y, h_cds, w, ax2, linewidth=linewidth)\n",
    "    \n",
    "    print(sg.pg.scale*(250000))\n",
    "        \n",
    "    plt.tight_layout()\n",
    "    ax2.get_xaxis().set_visible(False)\n",
    "    ax2.get_yaxis().set_visible(False)\n",
    "    ax2.set_frame_on(False)     \n",
    "    \n",
    "    return ax, tpm_df"
   ]
  },
  {
   "cell_type": "code",
   "execution_count": 56,
   "id": "912be149-5a8d-443b-b3eb-288b67eb09e0",
   "metadata": {},
   "outputs": [],
   "source": [
    "def plot_browser_isos_2(h5,\n",
    "                        swan_file,\n",
    "                        filt_ab,\n",
    "                        pp_summary,\n",
    "                        major_isos,\n",
    "                        gene,\n",
    "                        obs_col,\n",
    "                        obs_condition,\n",
    "                        ofile,\n",
    "                        **kwargs):\n",
    "    \n",
    "    ca = cerberus.read(h5)\n",
    "    sg = swan.read(swan_file)\n",
    "\n",
    "    ax, tpm_df = plot_browser_isos(ca,\n",
    "                                   sg,\n",
    "                                   gene,\n",
    "                                   obs_col,\n",
    "                                   obs_condition,\n",
    "                                   filt_ab,\n",
    "                                   pp_summary,\n",
    "                                   major_isos,\n",
    "                                   h=0.4,\n",
    "                                   w=10,\n",
    "                                   fig_w=6,\n",
    "                                   **kwargs)\n",
    "    plt.savefig(ofile, dpi=500, bbox_inches='tight')\n",
    "\n",
    "    return ax, tpm_df"
   ]
  },
  {
   "cell_type": "code",
   "execution_count": 49,
   "id": "18a31173-4a1b-4d9e-84ae-cbcfcc8df896",
   "metadata": {},
   "outputs": [],
   "source": [
    "# trying to fix scale issues -- do l8r\n",
    "# try adj. ax2 ylim to get the scale, ccres, \n",
    "# and tsss plotted on there"
   ]
  },
  {
   "cell_type": "code",
   "execution_count": 50,
   "id": "908cee69-d120-47fe-9994-832f298e1ec3",
   "metadata": {},
   "outputs": [],
   "source": [
    "# _ = plot_browser_isos_2(cerberus_h5,\n",
    "#                         swan_file,\n",
    "#                         filt_ab,\n",
    "#                         pp_summary,\n",
    "#                         major_isos,\n",
    "#                         'ACTA1',\n",
    "#                         obs_col,\n",
    "#                         'heart',\n",
    "#                         'acta1.pdf')"
   ]
  },
  {
   "cell_type": "code",
   "execution_count": 51,
   "id": "7da033b4-df30-4f3d-84ba-f7cb425785c8",
   "metadata": {},
   "outputs": [
    {
     "name": "stdout",
     "output_type": "stream",
     "text": [
      "Read in graph from ../data/human/swan_graph.p\n",
      "Calculating iso TPM values\n",
      "Subsetting for polya genes\n"
     ]
    },
    {
     "name": "stderr",
     "output_type": "stream",
     "text": [
      "/Users/fairliereese/Documents/programming/mortazavi_lab/data/paper_rnawg/scripts/utils.py:2069: PerformanceWarning: DataFrame is highly fragmented.  This is usually the result of calling `frame.insert` many times, which has poor performance.  Consider joining all columns at once using pd.concat(axis=1) instead.  To get a de-fragmented frame, use `newframe = frame.copy()`\n",
      "  df[tpm_col] = (df[d]*1000000)/df[total_col]\n",
      "/Users/fairliereese/Documents/programming/mortazavi_lab/data/paper_rnawg/scripts/utils.py:2068: PerformanceWarning: DataFrame is highly fragmented.  This is usually the result of calling `frame.insert` many times, which has poor performance.  Consider joining all columns at once using pd.concat(axis=1) instead.  To get a de-fragmented frame, use `newframe = frame.copy()`\n",
      "  df[total_col] = df[d].sum()\n"
     ]
    },
    {
     "name": "stdout",
     "output_type": "stream",
     "text": [
      "Enforcing minimum TPM\n",
      "Total # isos detected: 231136\n",
      "# isos >= 1 tpm: 210239\n",
      "Applying gene type and novelty subset\n",
      "Number of isos reported: 206806\n",
      "Found 50 total samples\n",
      "> \u001b[0;32m<ipython-input-47-5809fb885a5b>\u001b[0m(293)\u001b[0;36mplot_browser_isos\u001b[0;34m()\u001b[0m\n",
      "\u001b[0;32m    291 \u001b[0;31m\u001b[0;34m\u001b[0m\u001b[0m\n",
      "\u001b[0m\u001b[0;32m    292 \u001b[0;31m    \u001b[0;31m# first add the labels\u001b[0m\u001b[0;34m\u001b[0m\u001b[0;34m\u001b[0m\u001b[0;34m\u001b[0m\u001b[0m\n",
      "\u001b[0m\u001b[0;32m--> 293 \u001b[0;31m    \u001b[0max\u001b[0m \u001b[0;34m=\u001b[0m \u001b[0madd_bool_heatmap\u001b[0m\u001b[0;34m(\u001b[0m\u001b[0mtpm_df\u001b[0m\u001b[0;34m,\u001b[0m \u001b[0max\u001b[0m\u001b[0;34m,\u001b[0m \u001b[0mspecies\u001b[0m\u001b[0;34m)\u001b[0m\u001b[0;34m\u001b[0m\u001b[0;34m\u001b[0m\u001b[0m\n",
      "\u001b[0m\u001b[0;32m    294 \u001b[0;31m\u001b[0;34m\u001b[0m\u001b[0m\n",
      "\u001b[0m\u001b[0;32m    295 \u001b[0;31m    \u001b[0;31m# get y coords from heatmap\u001b[0m\u001b[0;34m\u001b[0m\u001b[0;34m\u001b[0m\u001b[0;34m\u001b[0m\u001b[0m\n",
      "\u001b[0m\n"
     ]
    },
    {
     "name": "stdin",
     "output_type": "stream",
     "text": [
      "ipdb>  c\n"
     ]
    },
    {
     "name": "stdout",
     "output_type": "stream",
     "text": [
      "> \u001b[0;32m<ipython-input-47-5809fb885a5b>\u001b[0m(48)\u001b[0;36madd_bool_heatmap\u001b[0;34m()\u001b[0m\n",
      "\u001b[0;32m     46 \u001b[0;31m    \u001b[0mpdb\u001b[0m\u001b[0;34m.\u001b[0m\u001b[0mset_trace\u001b[0m\u001b[0;34m(\u001b[0m\u001b[0;34m)\u001b[0m\u001b[0;34m\u001b[0m\u001b[0;34m\u001b[0m\u001b[0m\n",
      "\u001b[0m\u001b[0;32m     47 \u001b[0;31m\u001b[0;34m\u001b[0m\u001b[0m\n",
      "\u001b[0m\u001b[0;32m---> 48 \u001b[0;31m    \u001b[0mm\u001b[0m \u001b[0;34m=\u001b[0m \u001b[0;34m{\u001b[0m\u001b[0;32mTrue\u001b[0m\u001b[0;34m:\u001b[0m \u001b[0;34m'*'\u001b[0m\u001b[0;34m,\u001b[0m \u001b[0;32mFalse\u001b[0m\u001b[0;34m:\u001b[0m \u001b[0;34m''\u001b[0m\u001b[0;34m}\u001b[0m\u001b[0;34m\u001b[0m\u001b[0;34m\u001b[0m\u001b[0m\n",
      "\u001b[0m\u001b[0;32m     49 \u001b[0;31m    \u001b[0;32mfor\u001b[0m \u001b[0mc\u001b[0m \u001b[0;32min\u001b[0m \u001b[0mbool_cols\u001b[0m\u001b[0;34m:\u001b[0m\u001b[0;34m\u001b[0m\u001b[0;34m\u001b[0m\u001b[0m\n",
      "\u001b[0m\u001b[0;32m     50 \u001b[0;31m        \u001b[0mtemp2\u001b[0m\u001b[0;34m[\u001b[0m\u001b[0mc\u001b[0m\u001b[0;34m]\u001b[0m \u001b[0;34m=\u001b[0m \u001b[0mtemp\u001b[0m\u001b[0;34m[\u001b[0m\u001b[0mc\u001b[0m\u001b[0;34m]\u001b[0m\u001b[0;34m.\u001b[0m\u001b[0mmap\u001b[0m\u001b[0;34m(\u001b[0m\u001b[0mm\u001b[0m\u001b[0;34m)\u001b[0m\u001b[0;34m\u001b[0m\u001b[0;34m\u001b[0m\u001b[0m\n",
      "\u001b[0m\n"
     ]
    },
    {
     "name": "stdin",
     "output_type": "stream",
     "text": [
      "ipdb>  temp\n"
     ]
    },
    {
     "name": "stdout",
     "output_type": "stream",
     "text": [
      "              Known  MANE ORF  Full ORF    NMD\n",
      "                                              \n",
      "PKM [1,1,1]    True      True      True  False\n",
      "PKM [1,46,1]  False     False      True  False\n",
      "PKM [3,50,1]  False      True      True  False\n",
      "PKM [1,40,1]  False     False      True   True\n",
      "PKM [3,51,1]  False     False      True  False\n",
      "PKM [5,8,1]    True     False      True  False\n",
      "PKM [1,26,1]  False     False      True  False\n",
      "PKM [4,7,1]    True     False      True  False\n",
      "PKM [1,41,1]  False     False      True   True\n",
      "PKM [1,31,1]  False     False      True  False\n",
      "PKM [1,27,1]  False      True      True  False\n",
      "PKM [1,42,1]  False     False      True   True\n",
      "PKM [1,44,1]  False     False      True   True\n",
      "PKM [1,3,1]   False     False      True  False\n",
      "PKM [1,37,1]  False     False      True   True\n",
      "PKM [2,2,2]    True     False      True  False\n",
      "PKM [3,46,1]  False     False      True  False\n",
      "PKM [1,43,1]  False     False      True   True\n"
     ]
    },
    {
     "name": "stdin",
     "output_type": "stream",
     "text": [
      "ipdb>  n\n"
     ]
    },
    {
     "name": "stdout",
     "output_type": "stream",
     "text": [
      "> \u001b[0;32m<ipython-input-47-5809fb885a5b>\u001b[0m(49)\u001b[0;36madd_bool_heatmap\u001b[0;34m()\u001b[0m\n",
      "\u001b[0;32m     47 \u001b[0;31m\u001b[0;34m\u001b[0m\u001b[0m\n",
      "\u001b[0m\u001b[0;32m     48 \u001b[0;31m    \u001b[0mm\u001b[0m \u001b[0;34m=\u001b[0m \u001b[0;34m{\u001b[0m\u001b[0;32mTrue\u001b[0m\u001b[0;34m:\u001b[0m \u001b[0;34m'*'\u001b[0m\u001b[0;34m,\u001b[0m \u001b[0;32mFalse\u001b[0m\u001b[0;34m:\u001b[0m \u001b[0;34m''\u001b[0m\u001b[0;34m}\u001b[0m\u001b[0;34m\u001b[0m\u001b[0;34m\u001b[0m\u001b[0m\n",
      "\u001b[0m\u001b[0;32m---> 49 \u001b[0;31m    \u001b[0;32mfor\u001b[0m \u001b[0mc\u001b[0m \u001b[0;32min\u001b[0m \u001b[0mbool_cols\u001b[0m\u001b[0;34m:\u001b[0m\u001b[0;34m\u001b[0m\u001b[0;34m\u001b[0m\u001b[0m\n",
      "\u001b[0m\u001b[0;32m     50 \u001b[0;31m        \u001b[0mtemp2\u001b[0m\u001b[0;34m[\u001b[0m\u001b[0mc\u001b[0m\u001b[0;34m]\u001b[0m \u001b[0;34m=\u001b[0m \u001b[0mtemp\u001b[0m\u001b[0;34m[\u001b[0m\u001b[0mc\u001b[0m\u001b[0;34m]\u001b[0m\u001b[0;34m.\u001b[0m\u001b[0mmap\u001b[0m\u001b[0;34m(\u001b[0m\u001b[0mm\u001b[0m\u001b[0;34m)\u001b[0m\u001b[0;34m\u001b[0m\u001b[0;34m\u001b[0m\u001b[0m\n",
      "\u001b[0m\u001b[0;32m     51 \u001b[0;31m\u001b[0;34m\u001b[0m\u001b[0m\n",
      "\u001b[0m\n"
     ]
    },
    {
     "name": "stdin",
     "output_type": "stream",
     "text": [
      "ipdb>  n\n"
     ]
    },
    {
     "name": "stdout",
     "output_type": "stream",
     "text": [
      "> \u001b[0;32m<ipython-input-47-5809fb885a5b>\u001b[0m(50)\u001b[0;36madd_bool_heatmap\u001b[0;34m()\u001b[0m\n",
      "\u001b[0;32m     48 \u001b[0;31m    \u001b[0mm\u001b[0m \u001b[0;34m=\u001b[0m \u001b[0;34m{\u001b[0m\u001b[0;32mTrue\u001b[0m\u001b[0;34m:\u001b[0m \u001b[0;34m'*'\u001b[0m\u001b[0;34m,\u001b[0m \u001b[0;32mFalse\u001b[0m\u001b[0;34m:\u001b[0m \u001b[0;34m''\u001b[0m\u001b[0;34m}\u001b[0m\u001b[0;34m\u001b[0m\u001b[0;34m\u001b[0m\u001b[0m\n",
      "\u001b[0m\u001b[0;32m     49 \u001b[0;31m    \u001b[0;32mfor\u001b[0m \u001b[0mc\u001b[0m \u001b[0;32min\u001b[0m \u001b[0mbool_cols\u001b[0m\u001b[0;34m:\u001b[0m\u001b[0;34m\u001b[0m\u001b[0;34m\u001b[0m\u001b[0m\n",
      "\u001b[0m\u001b[0;32m---> 50 \u001b[0;31m        \u001b[0mtemp2\u001b[0m\u001b[0;34m[\u001b[0m\u001b[0mc\u001b[0m\u001b[0;34m]\u001b[0m \u001b[0;34m=\u001b[0m \u001b[0mtemp\u001b[0m\u001b[0;34m[\u001b[0m\u001b[0mc\u001b[0m\u001b[0;34m]\u001b[0m\u001b[0;34m.\u001b[0m\u001b[0mmap\u001b[0m\u001b[0;34m(\u001b[0m\u001b[0mm\u001b[0m\u001b[0;34m)\u001b[0m\u001b[0;34m\u001b[0m\u001b[0;34m\u001b[0m\u001b[0m\n",
      "\u001b[0m\u001b[0;32m     51 \u001b[0;31m\u001b[0;34m\u001b[0m\u001b[0m\n",
      "\u001b[0m\u001b[0;32m     52 \u001b[0;31m    \u001b[0;32mif\u001b[0m \u001b[0mspecies\u001b[0m \u001b[0;34m==\u001b[0m \u001b[0;34m'mouse'\u001b[0m\u001b[0;34m:\u001b[0m\u001b[0;34m\u001b[0m\u001b[0;34m\u001b[0m\u001b[0m\n",
      "\u001b[0m\n"
     ]
    },
    {
     "name": "stdin",
     "output_type": "stream",
     "text": [
      "ipdb>  n\n"
     ]
    },
    {
     "name": "stdout",
     "output_type": "stream",
     "text": [
      "> \u001b[0;32m<ipython-input-47-5809fb885a5b>\u001b[0m(49)\u001b[0;36madd_bool_heatmap\u001b[0;34m()\u001b[0m\n",
      "\u001b[0;32m     47 \u001b[0;31m\u001b[0;34m\u001b[0m\u001b[0m\n",
      "\u001b[0m\u001b[0;32m     48 \u001b[0;31m    \u001b[0mm\u001b[0m \u001b[0;34m=\u001b[0m \u001b[0;34m{\u001b[0m\u001b[0;32mTrue\u001b[0m\u001b[0;34m:\u001b[0m \u001b[0;34m'*'\u001b[0m\u001b[0;34m,\u001b[0m \u001b[0;32mFalse\u001b[0m\u001b[0;34m:\u001b[0m \u001b[0;34m''\u001b[0m\u001b[0;34m}\u001b[0m\u001b[0;34m\u001b[0m\u001b[0;34m\u001b[0m\u001b[0m\n",
      "\u001b[0m\u001b[0;32m---> 49 \u001b[0;31m    \u001b[0;32mfor\u001b[0m \u001b[0mc\u001b[0m \u001b[0;32min\u001b[0m \u001b[0mbool_cols\u001b[0m\u001b[0;34m:\u001b[0m\u001b[0;34m\u001b[0m\u001b[0;34m\u001b[0m\u001b[0m\n",
      "\u001b[0m\u001b[0;32m     50 \u001b[0;31m        \u001b[0mtemp2\u001b[0m\u001b[0;34m[\u001b[0m\u001b[0mc\u001b[0m\u001b[0;34m]\u001b[0m \u001b[0;34m=\u001b[0m \u001b[0mtemp\u001b[0m\u001b[0;34m[\u001b[0m\u001b[0mc\u001b[0m\u001b[0;34m]\u001b[0m\u001b[0;34m.\u001b[0m\u001b[0mmap\u001b[0m\u001b[0;34m(\u001b[0m\u001b[0mm\u001b[0m\u001b[0;34m)\u001b[0m\u001b[0;34m\u001b[0m\u001b[0;34m\u001b[0m\u001b[0m\n",
      "\u001b[0m\u001b[0;32m     51 \u001b[0;31m\u001b[0;34m\u001b[0m\u001b[0m\n",
      "\u001b[0m\n"
     ]
    },
    {
     "name": "stdin",
     "output_type": "stream",
     "text": [
      "ipdb>  n\n"
     ]
    },
    {
     "name": "stdout",
     "output_type": "stream",
     "text": [
      "> \u001b[0;32m<ipython-input-47-5809fb885a5b>\u001b[0m(50)\u001b[0;36madd_bool_heatmap\u001b[0;34m()\u001b[0m\n",
      "\u001b[0;32m     48 \u001b[0;31m    \u001b[0mm\u001b[0m \u001b[0;34m=\u001b[0m \u001b[0;34m{\u001b[0m\u001b[0;32mTrue\u001b[0m\u001b[0;34m:\u001b[0m \u001b[0;34m'*'\u001b[0m\u001b[0;34m,\u001b[0m \u001b[0;32mFalse\u001b[0m\u001b[0;34m:\u001b[0m \u001b[0;34m''\u001b[0m\u001b[0;34m}\u001b[0m\u001b[0;34m\u001b[0m\u001b[0;34m\u001b[0m\u001b[0m\n",
      "\u001b[0m\u001b[0;32m     49 \u001b[0;31m    \u001b[0;32mfor\u001b[0m \u001b[0mc\u001b[0m \u001b[0;32min\u001b[0m \u001b[0mbool_cols\u001b[0m\u001b[0;34m:\u001b[0m\u001b[0;34m\u001b[0m\u001b[0;34m\u001b[0m\u001b[0m\n",
      "\u001b[0m\u001b[0;32m---> 50 \u001b[0;31m        \u001b[0mtemp2\u001b[0m\u001b[0;34m[\u001b[0m\u001b[0mc\u001b[0m\u001b[0;34m]\u001b[0m \u001b[0;34m=\u001b[0m \u001b[0mtemp\u001b[0m\u001b[0;34m[\u001b[0m\u001b[0mc\u001b[0m\u001b[0;34m]\u001b[0m\u001b[0;34m.\u001b[0m\u001b[0mmap\u001b[0m\u001b[0;34m(\u001b[0m\u001b[0mm\u001b[0m\u001b[0;34m)\u001b[0m\u001b[0;34m\u001b[0m\u001b[0;34m\u001b[0m\u001b[0m\n",
      "\u001b[0m\u001b[0;32m     51 \u001b[0;31m\u001b[0;34m\u001b[0m\u001b[0m\n",
      "\u001b[0m\u001b[0;32m     52 \u001b[0;31m    \u001b[0;32mif\u001b[0m \u001b[0mspecies\u001b[0m \u001b[0;34m==\u001b[0m \u001b[0;34m'mouse'\u001b[0m\u001b[0;34m:\u001b[0m\u001b[0;34m\u001b[0m\u001b[0;34m\u001b[0m\u001b[0m\n",
      "\u001b[0m\n"
     ]
    },
    {
     "name": "stdin",
     "output_type": "stream",
     "text": [
      "ipdb>  n\n"
     ]
    },
    {
     "name": "stdout",
     "output_type": "stream",
     "text": [
      "> \u001b[0;32m<ipython-input-47-5809fb885a5b>\u001b[0m(49)\u001b[0;36madd_bool_heatmap\u001b[0;34m()\u001b[0m\n",
      "\u001b[0;32m     47 \u001b[0;31m\u001b[0;34m\u001b[0m\u001b[0m\n",
      "\u001b[0m\u001b[0;32m     48 \u001b[0;31m    \u001b[0mm\u001b[0m \u001b[0;34m=\u001b[0m \u001b[0;34m{\u001b[0m\u001b[0;32mTrue\u001b[0m\u001b[0;34m:\u001b[0m \u001b[0;34m'*'\u001b[0m\u001b[0;34m,\u001b[0m \u001b[0;32mFalse\u001b[0m\u001b[0;34m:\u001b[0m \u001b[0;34m''\u001b[0m\u001b[0;34m}\u001b[0m\u001b[0;34m\u001b[0m\u001b[0;34m\u001b[0m\u001b[0m\n",
      "\u001b[0m\u001b[0;32m---> 49 \u001b[0;31m    \u001b[0;32mfor\u001b[0m \u001b[0mc\u001b[0m \u001b[0;32min\u001b[0m \u001b[0mbool_cols\u001b[0m\u001b[0;34m:\u001b[0m\u001b[0;34m\u001b[0m\u001b[0;34m\u001b[0m\u001b[0m\n",
      "\u001b[0m\u001b[0;32m     50 \u001b[0;31m        \u001b[0mtemp2\u001b[0m\u001b[0;34m[\u001b[0m\u001b[0mc\u001b[0m\u001b[0;34m]\u001b[0m \u001b[0;34m=\u001b[0m \u001b[0mtemp\u001b[0m\u001b[0;34m[\u001b[0m\u001b[0mc\u001b[0m\u001b[0;34m]\u001b[0m\u001b[0;34m.\u001b[0m\u001b[0mmap\u001b[0m\u001b[0;34m(\u001b[0m\u001b[0mm\u001b[0m\u001b[0;34m)\u001b[0m\u001b[0;34m\u001b[0m\u001b[0;34m\u001b[0m\u001b[0m\n",
      "\u001b[0m\u001b[0;32m     51 \u001b[0;31m\u001b[0;34m\u001b[0m\u001b[0m\n",
      "\u001b[0m\n"
     ]
    },
    {
     "name": "stdin",
     "output_type": "stream",
     "text": [
      "ipdb>  n\n"
     ]
    },
    {
     "name": "stdout",
     "output_type": "stream",
     "text": [
      "> \u001b[0;32m<ipython-input-47-5809fb885a5b>\u001b[0m(50)\u001b[0;36madd_bool_heatmap\u001b[0;34m()\u001b[0m\n",
      "\u001b[0;32m     48 \u001b[0;31m    \u001b[0mm\u001b[0m \u001b[0;34m=\u001b[0m \u001b[0;34m{\u001b[0m\u001b[0;32mTrue\u001b[0m\u001b[0;34m:\u001b[0m \u001b[0;34m'*'\u001b[0m\u001b[0;34m,\u001b[0m \u001b[0;32mFalse\u001b[0m\u001b[0;34m:\u001b[0m \u001b[0;34m''\u001b[0m\u001b[0;34m}\u001b[0m\u001b[0;34m\u001b[0m\u001b[0;34m\u001b[0m\u001b[0m\n",
      "\u001b[0m\u001b[0;32m     49 \u001b[0;31m    \u001b[0;32mfor\u001b[0m \u001b[0mc\u001b[0m \u001b[0;32min\u001b[0m \u001b[0mbool_cols\u001b[0m\u001b[0;34m:\u001b[0m\u001b[0;34m\u001b[0m\u001b[0;34m\u001b[0m\u001b[0m\n",
      "\u001b[0m\u001b[0;32m---> 50 \u001b[0;31m        \u001b[0mtemp2\u001b[0m\u001b[0;34m[\u001b[0m\u001b[0mc\u001b[0m\u001b[0;34m]\u001b[0m \u001b[0;34m=\u001b[0m \u001b[0mtemp\u001b[0m\u001b[0;34m[\u001b[0m\u001b[0mc\u001b[0m\u001b[0;34m]\u001b[0m\u001b[0;34m.\u001b[0m\u001b[0mmap\u001b[0m\u001b[0;34m(\u001b[0m\u001b[0mm\u001b[0m\u001b[0;34m)\u001b[0m\u001b[0;34m\u001b[0m\u001b[0;34m\u001b[0m\u001b[0m\n",
      "\u001b[0m\u001b[0;32m     51 \u001b[0;31m\u001b[0;34m\u001b[0m\u001b[0m\n",
      "\u001b[0m\u001b[0;32m     52 \u001b[0;31m    \u001b[0;32mif\u001b[0m \u001b[0mspecies\u001b[0m \u001b[0;34m==\u001b[0m \u001b[0;34m'mouse'\u001b[0m\u001b[0;34m:\u001b[0m\u001b[0;34m\u001b[0m\u001b[0;34m\u001b[0m\u001b[0m\n",
      "\u001b[0m\n"
     ]
    },
    {
     "name": "stdin",
     "output_type": "stream",
     "text": [
      "ipdb>  n\n"
     ]
    },
    {
     "name": "stdout",
     "output_type": "stream",
     "text": [
      "> \u001b[0;32m<ipython-input-47-5809fb885a5b>\u001b[0m(49)\u001b[0;36madd_bool_heatmap\u001b[0;34m()\u001b[0m\n",
      "\u001b[0;32m     47 \u001b[0;31m\u001b[0;34m\u001b[0m\u001b[0m\n",
      "\u001b[0m\u001b[0;32m     48 \u001b[0;31m    \u001b[0mm\u001b[0m \u001b[0;34m=\u001b[0m \u001b[0;34m{\u001b[0m\u001b[0;32mTrue\u001b[0m\u001b[0;34m:\u001b[0m \u001b[0;34m'*'\u001b[0m\u001b[0;34m,\u001b[0m \u001b[0;32mFalse\u001b[0m\u001b[0;34m:\u001b[0m \u001b[0;34m''\u001b[0m\u001b[0;34m}\u001b[0m\u001b[0;34m\u001b[0m\u001b[0;34m\u001b[0m\u001b[0m\n",
      "\u001b[0m\u001b[0;32m---> 49 \u001b[0;31m    \u001b[0;32mfor\u001b[0m \u001b[0mc\u001b[0m \u001b[0;32min\u001b[0m \u001b[0mbool_cols\u001b[0m\u001b[0;34m:\u001b[0m\u001b[0;34m\u001b[0m\u001b[0;34m\u001b[0m\u001b[0m\n",
      "\u001b[0m\u001b[0;32m     50 \u001b[0;31m        \u001b[0mtemp2\u001b[0m\u001b[0;34m[\u001b[0m\u001b[0mc\u001b[0m\u001b[0;34m]\u001b[0m \u001b[0;34m=\u001b[0m \u001b[0mtemp\u001b[0m\u001b[0;34m[\u001b[0m\u001b[0mc\u001b[0m\u001b[0;34m]\u001b[0m\u001b[0;34m.\u001b[0m\u001b[0mmap\u001b[0m\u001b[0;34m(\u001b[0m\u001b[0mm\u001b[0m\u001b[0;34m)\u001b[0m\u001b[0;34m\u001b[0m\u001b[0;34m\u001b[0m\u001b[0m\n",
      "\u001b[0m\u001b[0;32m     51 \u001b[0;31m\u001b[0;34m\u001b[0m\u001b[0m\n",
      "\u001b[0m\n"
     ]
    },
    {
     "name": "stdin",
     "output_type": "stream",
     "text": [
      "ipdb>  n\n"
     ]
    },
    {
     "name": "stdout",
     "output_type": "stream",
     "text": [
      "> \u001b[0;32m<ipython-input-47-5809fb885a5b>\u001b[0m(50)\u001b[0;36madd_bool_heatmap\u001b[0;34m()\u001b[0m\n",
      "\u001b[0;32m     48 \u001b[0;31m    \u001b[0mm\u001b[0m \u001b[0;34m=\u001b[0m \u001b[0;34m{\u001b[0m\u001b[0;32mTrue\u001b[0m\u001b[0;34m:\u001b[0m \u001b[0;34m'*'\u001b[0m\u001b[0;34m,\u001b[0m \u001b[0;32mFalse\u001b[0m\u001b[0;34m:\u001b[0m \u001b[0;34m''\u001b[0m\u001b[0;34m}\u001b[0m\u001b[0;34m\u001b[0m\u001b[0;34m\u001b[0m\u001b[0m\n",
      "\u001b[0m\u001b[0;32m     49 \u001b[0;31m    \u001b[0;32mfor\u001b[0m \u001b[0mc\u001b[0m \u001b[0;32min\u001b[0m \u001b[0mbool_cols\u001b[0m\u001b[0;34m:\u001b[0m\u001b[0;34m\u001b[0m\u001b[0;34m\u001b[0m\u001b[0m\n",
      "\u001b[0m\u001b[0;32m---> 50 \u001b[0;31m        \u001b[0mtemp2\u001b[0m\u001b[0;34m[\u001b[0m\u001b[0mc\u001b[0m\u001b[0;34m]\u001b[0m \u001b[0;34m=\u001b[0m \u001b[0mtemp\u001b[0m\u001b[0;34m[\u001b[0m\u001b[0mc\u001b[0m\u001b[0;34m]\u001b[0m\u001b[0;34m.\u001b[0m\u001b[0mmap\u001b[0m\u001b[0;34m(\u001b[0m\u001b[0mm\u001b[0m\u001b[0;34m)\u001b[0m\u001b[0;34m\u001b[0m\u001b[0;34m\u001b[0m\u001b[0m\n",
      "\u001b[0m\u001b[0;32m     51 \u001b[0;31m\u001b[0;34m\u001b[0m\u001b[0m\n",
      "\u001b[0m\u001b[0;32m     52 \u001b[0;31m    \u001b[0;32mif\u001b[0m \u001b[0mspecies\u001b[0m \u001b[0;34m==\u001b[0m \u001b[0;34m'mouse'\u001b[0m\u001b[0;34m:\u001b[0m\u001b[0;34m\u001b[0m\u001b[0;34m\u001b[0m\u001b[0m\n",
      "\u001b[0m\n"
     ]
    },
    {
     "name": "stdin",
     "output_type": "stream",
     "text": [
      "ipdb>  n\n"
     ]
    },
    {
     "name": "stdout",
     "output_type": "stream",
     "text": [
      "> \u001b[0;32m<ipython-input-47-5809fb885a5b>\u001b[0m(49)\u001b[0;36madd_bool_heatmap\u001b[0;34m()\u001b[0m\n",
      "\u001b[0;32m     47 \u001b[0;31m\u001b[0;34m\u001b[0m\u001b[0m\n",
      "\u001b[0m\u001b[0;32m     48 \u001b[0;31m    \u001b[0mm\u001b[0m \u001b[0;34m=\u001b[0m \u001b[0;34m{\u001b[0m\u001b[0;32mTrue\u001b[0m\u001b[0;34m:\u001b[0m \u001b[0;34m'*'\u001b[0m\u001b[0;34m,\u001b[0m \u001b[0;32mFalse\u001b[0m\u001b[0;34m:\u001b[0m \u001b[0;34m''\u001b[0m\u001b[0;34m}\u001b[0m\u001b[0;34m\u001b[0m\u001b[0;34m\u001b[0m\u001b[0m\n",
      "\u001b[0m\u001b[0;32m---> 49 \u001b[0;31m    \u001b[0;32mfor\u001b[0m \u001b[0mc\u001b[0m \u001b[0;32min\u001b[0m \u001b[0mbool_cols\u001b[0m\u001b[0;34m:\u001b[0m\u001b[0;34m\u001b[0m\u001b[0;34m\u001b[0m\u001b[0m\n",
      "\u001b[0m\u001b[0;32m     50 \u001b[0;31m        \u001b[0mtemp2\u001b[0m\u001b[0;34m[\u001b[0m\u001b[0mc\u001b[0m\u001b[0;34m]\u001b[0m \u001b[0;34m=\u001b[0m \u001b[0mtemp\u001b[0m\u001b[0;34m[\u001b[0m\u001b[0mc\u001b[0m\u001b[0;34m]\u001b[0m\u001b[0;34m.\u001b[0m\u001b[0mmap\u001b[0m\u001b[0;34m(\u001b[0m\u001b[0mm\u001b[0m\u001b[0;34m)\u001b[0m\u001b[0;34m\u001b[0m\u001b[0;34m\u001b[0m\u001b[0m\n",
      "\u001b[0m\u001b[0;32m     51 \u001b[0;31m\u001b[0;34m\u001b[0m\u001b[0m\n",
      "\u001b[0m\n"
     ]
    },
    {
     "name": "stdin",
     "output_type": "stream",
     "text": [
      "ipdb>  n\n"
     ]
    },
    {
     "name": "stdout",
     "output_type": "stream",
     "text": [
      "> \u001b[0;32m<ipython-input-47-5809fb885a5b>\u001b[0m(52)\u001b[0;36madd_bool_heatmap\u001b[0;34m()\u001b[0m\n",
      "\u001b[0;32m     50 \u001b[0;31m        \u001b[0mtemp2\u001b[0m\u001b[0;34m[\u001b[0m\u001b[0mc\u001b[0m\u001b[0;34m]\u001b[0m \u001b[0;34m=\u001b[0m \u001b[0mtemp\u001b[0m\u001b[0;34m[\u001b[0m\u001b[0mc\u001b[0m\u001b[0;34m]\u001b[0m\u001b[0;34m.\u001b[0m\u001b[0mmap\u001b[0m\u001b[0;34m(\u001b[0m\u001b[0mm\u001b[0m\u001b[0;34m)\u001b[0m\u001b[0;34m\u001b[0m\u001b[0;34m\u001b[0m\u001b[0m\n",
      "\u001b[0m\u001b[0;32m     51 \u001b[0;31m\u001b[0;34m\u001b[0m\u001b[0m\n",
      "\u001b[0m\u001b[0;32m---> 52 \u001b[0;31m    \u001b[0;32mif\u001b[0m \u001b[0mspecies\u001b[0m \u001b[0;34m==\u001b[0m \u001b[0;34m'mouse'\u001b[0m\u001b[0;34m:\u001b[0m\u001b[0;34m\u001b[0m\u001b[0;34m\u001b[0m\u001b[0m\n",
      "\u001b[0m\u001b[0;32m     53 \u001b[0;31m        \u001b[0mtemp\u001b[0m\u001b[0;34m.\u001b[0m\u001b[0mdrop\u001b[0m\u001b[0;34m(\u001b[0m\u001b[0;34m'MANE ORF'\u001b[0m\u001b[0;34m,\u001b[0m \u001b[0maxis\u001b[0m\u001b[0;34m=\u001b[0m\u001b[0;36m1\u001b[0m\u001b[0;34m,\u001b[0m \u001b[0minplace\u001b[0m\u001b[0;34m=\u001b[0m\u001b[0;32mTrue\u001b[0m\u001b[0;34m)\u001b[0m\u001b[0;34m\u001b[0m\u001b[0;34m\u001b[0m\u001b[0m\n",
      "\u001b[0m\u001b[0;32m     54 \u001b[0;31m        \u001b[0mtemp2\u001b[0m\u001b[0;34m.\u001b[0m\u001b[0mdrop\u001b[0m\u001b[0;34m(\u001b[0m\u001b[0;34m'MANE ORF'\u001b[0m\u001b[0;34m,\u001b[0m \u001b[0maxis\u001b[0m\u001b[0;34m=\u001b[0m\u001b[0;36m1\u001b[0m\u001b[0;34m,\u001b[0m \u001b[0minplace\u001b[0m\u001b[0;34m=\u001b[0m\u001b[0;32mTrue\u001b[0m\u001b[0;34m)\u001b[0m\u001b[0;34m\u001b[0m\u001b[0;34m\u001b[0m\u001b[0m\n",
      "\u001b[0m\n"
     ]
    },
    {
     "name": "stdin",
     "output_type": "stream",
     "text": [
      "ipdb>  n\n"
     ]
    },
    {
     "name": "stdout",
     "output_type": "stream",
     "text": [
      "> \u001b[0;32m<ipython-input-47-5809fb885a5b>\u001b[0m(56)\u001b[0;36madd_bool_heatmap\u001b[0;34m()\u001b[0m\n",
      "\u001b[0;32m     54 \u001b[0;31m        \u001b[0mtemp2\u001b[0m\u001b[0;34m.\u001b[0m\u001b[0mdrop\u001b[0m\u001b[0;34m(\u001b[0m\u001b[0;34m'MANE ORF'\u001b[0m\u001b[0;34m,\u001b[0m \u001b[0maxis\u001b[0m\u001b[0;34m=\u001b[0m\u001b[0;36m1\u001b[0m\u001b[0;34m,\u001b[0m \u001b[0minplace\u001b[0m\u001b[0;34m=\u001b[0m\u001b[0;32mTrue\u001b[0m\u001b[0;34m)\u001b[0m\u001b[0;34m\u001b[0m\u001b[0;34m\u001b[0m\u001b[0m\n",
      "\u001b[0m\u001b[0;32m     55 \u001b[0;31m\u001b[0;34m\u001b[0m\u001b[0m\n",
      "\u001b[0m\u001b[0;32m---> 56 \u001b[0;31m    ax = sns.heatmap(temp, cbar=False, cmap='Purples',\n",
      "\u001b[0m\u001b[0;32m     57 \u001b[0;31m                     \u001b[0mlinewidths\u001b[0m\u001b[0;34m=\u001b[0m\u001b[0;36m0.5\u001b[0m\u001b[0;34m,\u001b[0m \u001b[0mlinecolor\u001b[0m\u001b[0;34m=\u001b[0m\u001b[0;34m'k'\u001b[0m\u001b[0;34m,\u001b[0m\u001b[0;34m\u001b[0m\u001b[0;34m\u001b[0m\u001b[0m\n",
      "\u001b[0m\u001b[0;32m     58 \u001b[0;31m                     \u001b[0mannot\u001b[0m\u001b[0;34m=\u001b[0m\u001b[0mtemp2\u001b[0m\u001b[0;34m,\u001b[0m \u001b[0msquare\u001b[0m\u001b[0;34m=\u001b[0m\u001b[0;32mTrue\u001b[0m\u001b[0;34m,\u001b[0m\u001b[0;34m\u001b[0m\u001b[0;34m\u001b[0m\u001b[0m\n",
      "\u001b[0m\n"
     ]
    },
    {
     "name": "stdin",
     "output_type": "stream",
     "text": [
      "ipdb>  temp2\n"
     ]
    },
    {
     "name": "stdout",
     "output_type": "stream",
     "text": [
      "             Known MANE ORF Full ORF NMD\n",
      "                                        \n",
      "PKM [1,1,1]      *        *        *    \n",
      "PKM [1,46,1]                       *    \n",
      "PKM [3,50,1]              *        *    \n",
      "PKM [1,40,1]                       *   *\n",
      "PKM [3,51,1]                       *    \n",
      "PKM [5,8,1]      *                 *    \n",
      "PKM [1,26,1]                       *    \n",
      "PKM [4,7,1]      *                 *    \n",
      "PKM [1,41,1]                       *   *\n",
      "PKM [1,31,1]                       *    \n",
      "PKM [1,27,1]              *        *    \n",
      "PKM [1,42,1]                       *   *\n",
      "PKM [1,44,1]                       *   *\n",
      "PKM [1,3,1]                        *    \n",
      "PKM [1,37,1]                       *   *\n",
      "PKM [2,2,2]      *                 *    \n",
      "PKM [3,46,1]                       *    \n",
      "PKM [1,43,1]                       *   *\n"
     ]
    },
    {
     "name": "stdin",
     "output_type": "stream",
     "text": [
      "ipdb>  c\n"
     ]
    },
    {
     "name": "stdout",
     "output_type": "stream",
     "text": [
      "76.01094557616297\n"
     ]
    },
    {
     "data": {
      "image/png": "[encoded data removed]",
      "text/plain": [
       "<Figure size 432x324 with 2 Axes>"
      ]
     },
     "metadata": {
      "needs_background": "light"
     },
     "output_type": "display_data"
    }
   ],
   "source": [
    "_ = plot_browser_isos_2(cerberus_h5,\n",
    "                        swan_file,\n",
    "                        filt_ab,\n",
    "                        pp_summary,\n",
    "                        major_isos,\n",
    "                        'PKM',\n",
    "                        obs_col,\n",
    "                        'ovary',\n",
    "                        'pkm.pdf')"
   ]
  },
  {
   "cell_type": "code",
   "execution_count": 52,
   "id": "ceeb74d8-eb5d-4bf4-8066-4c6aed7c81a1",
   "metadata": {},
   "outputs": [
    {
     "name": "stdout",
     "output_type": "stream",
     "text": [
      "Read in graph from ../data/human/swan_graph.p\n",
      "Calculating iso TPM values\n",
      "Subsetting for polya genes\n"
     ]
    },
    {
     "name": "stderr",
     "output_type": "stream",
     "text": [
      "/Users/fairliereese/Documents/programming/mortazavi_lab/data/paper_rnawg/scripts/utils.py:2069: PerformanceWarning: DataFrame is highly fragmented.  This is usually the result of calling `frame.insert` many times, which has poor performance.  Consider joining all columns at once using pd.concat(axis=1) instead.  To get a de-fragmented frame, use `newframe = frame.copy()`\n",
      "  df[tpm_col] = (df[d]*1000000)/df[total_col]\n",
      "/Users/fairliereese/Documents/programming/mortazavi_lab/data/paper_rnawg/scripts/utils.py:2068: PerformanceWarning: DataFrame is highly fragmented.  This is usually the result of calling `frame.insert` many times, which has poor performance.  Consider joining all columns at once using pd.concat(axis=1) instead.  To get a de-fragmented frame, use `newframe = frame.copy()`\n",
      "  df[total_col] = df[d].sum()\n"
     ]
    },
    {
     "name": "stdout",
     "output_type": "stream",
     "text": [
      "Enforcing minimum TPM\n",
      "Total # isos detected: 231136\n",
      "# isos >= 1 tpm: 210239\n",
      "Applying gene type and novelty subset\n",
      "Number of isos reported: 206806\n",
      "Found 50 total samples\n",
      "> \u001b[0;32m<ipython-input-47-5809fb885a5b>\u001b[0m(293)\u001b[0;36mplot_browser_isos\u001b[0;34m()\u001b[0m\n",
      "\u001b[0;32m    291 \u001b[0;31m\u001b[0;34m\u001b[0m\u001b[0m\n",
      "\u001b[0m\u001b[0;32m    292 \u001b[0;31m    \u001b[0;31m# first add the labels\u001b[0m\u001b[0;34m\u001b[0m\u001b[0;34m\u001b[0m\u001b[0;34m\u001b[0m\u001b[0m\n",
      "\u001b[0m\u001b[0;32m--> 293 \u001b[0;31m    \u001b[0max\u001b[0m \u001b[0;34m=\u001b[0m \u001b[0madd_bool_heatmap\u001b[0m\u001b[0;34m(\u001b[0m\u001b[0mtpm_df\u001b[0m\u001b[0;34m,\u001b[0m \u001b[0max\u001b[0m\u001b[0;34m,\u001b[0m \u001b[0mspecies\u001b[0m\u001b[0;34m)\u001b[0m\u001b[0;34m\u001b[0m\u001b[0;34m\u001b[0m\u001b[0m\n",
      "\u001b[0m\u001b[0;32m    294 \u001b[0;31m\u001b[0;34m\u001b[0m\u001b[0m\n",
      "\u001b[0m\u001b[0;32m    295 \u001b[0;31m    \u001b[0;31m# get y coords from heatmap\u001b[0m\u001b[0;34m\u001b[0m\u001b[0;34m\u001b[0m\u001b[0;34m\u001b[0m\u001b[0m\n",
      "\u001b[0m\n"
     ]
    },
    {
     "name": "stdin",
     "output_type": "stream",
     "text": [
      "ipdb>  c\n"
     ]
    },
    {
     "name": "stdout",
     "output_type": "stream",
     "text": [
      "> \u001b[0;32m<ipython-input-47-5809fb885a5b>\u001b[0m(48)\u001b[0;36madd_bool_heatmap\u001b[0;34m()\u001b[0m\n",
      "\u001b[0;32m     46 \u001b[0;31m    \u001b[0mpdb\u001b[0m\u001b[0;34m.\u001b[0m\u001b[0mset_trace\u001b[0m\u001b[0;34m(\u001b[0m\u001b[0;34m)\u001b[0m\u001b[0;34m\u001b[0m\u001b[0;34m\u001b[0m\u001b[0m\n",
      "\u001b[0m\u001b[0;32m     47 \u001b[0;31m\u001b[0;34m\u001b[0m\u001b[0m\n",
      "\u001b[0m\u001b[0;32m---> 48 \u001b[0;31m    \u001b[0mm\u001b[0m \u001b[0;34m=\u001b[0m \u001b[0;34m{\u001b[0m\u001b[0;32mTrue\u001b[0m\u001b[0;34m:\u001b[0m \u001b[0;34m'*'\u001b[0m\u001b[0;34m,\u001b[0m \u001b[0;32mFalse\u001b[0m\u001b[0;34m:\u001b[0m \u001b[0;34m''\u001b[0m\u001b[0;34m}\u001b[0m\u001b[0;34m\u001b[0m\u001b[0;34m\u001b[0m\u001b[0m\n",
      "\u001b[0m\u001b[0;32m     49 \u001b[0;31m    \u001b[0;32mfor\u001b[0m \u001b[0mc\u001b[0m \u001b[0;32min\u001b[0m \u001b[0mbool_cols\u001b[0m\u001b[0;34m:\u001b[0m\u001b[0;34m\u001b[0m\u001b[0;34m\u001b[0m\u001b[0m\n",
      "\u001b[0m\u001b[0;32m     50 \u001b[0;31m        \u001b[0mtemp2\u001b[0m\u001b[0;34m[\u001b[0m\u001b[0mc\u001b[0m\u001b[0;34m]\u001b[0m \u001b[0;34m=\u001b[0m \u001b[0mtemp\u001b[0m\u001b[0;34m[\u001b[0m\u001b[0mc\u001b[0m\u001b[0;34m]\u001b[0m\u001b[0;34m.\u001b[0m\u001b[0mmap\u001b[0m\u001b[0;34m(\u001b[0m\u001b[0mm\u001b[0m\u001b[0;34m)\u001b[0m\u001b[0;34m\u001b[0m\u001b[0;34m\u001b[0m\u001b[0m\n",
      "\u001b[0m\n"
     ]
    },
    {
     "name": "stdin",
     "output_type": "stream",
     "text": [
      "ipdb>  c\n"
     ]
    },
    {
     "name": "stdout",
     "output_type": "stream",
     "text": [
      "135.55278425418857\n"
     ]
    },
    {
     "name": "stderr",
     "output_type": "stream",
     "text": [
      "/Users/fairliereese/miniconda3/lib/python3.7/site-packages/ipykernel_launcher.py:354: UserWarning: Tight layout not applied. The bottom and top margins cannot be made large enough to accommodate all axes decorations.\n"
     ]
    },
    {
     "data": {
      "image/png": "[encoded data removed]",
      "text/plain": [
       "<Figure size 432x18 with 2 Axes>"
      ]
     },
     "metadata": {
      "needs_background": "light"
     },
     "output_type": "display_data"
    }
   ],
   "source": [
    "_ = plot_browser_isos_2(cerberus_h5,\n",
    "                        swan_file,\n",
    "                        filt_ab,\n",
    "                        pp_summary,\n",
    "                        major_isos,\n",
    "                        'COL1A1',\n",
    "                        obs_col,\n",
    "                        'ovary',\n",
    "                        'col1a1.pdf')"
   ]
  },
  {
   "cell_type": "code",
   "execution_count": 53,
   "id": "a711fe47-e560-4128-816a-e6ad7492a876",
   "metadata": {},
   "outputs": [
    {
     "name": "stdout",
     "output_type": "stream",
     "text": [
      "Read in graph from ../data/human/swan_graph.p\n",
      "Calculating iso TPM values\n",
      "Subsetting for polya genes\n",
      "Enforcing minimum TPM\n",
      "Total # isos detected: 231136\n",
      "# isos >= 1 tpm: 210239\n",
      "Applying gene type and novelty subset\n",
      "Number of isos reported: 206806\n",
      "Found 50 total samples\n",
      "> \u001b[0;32m<ipython-input-47-5809fb885a5b>\u001b[0m(293)\u001b[0;36mplot_browser_isos\u001b[0;34m()\u001b[0m\n",
      "\u001b[0;32m    291 \u001b[0;31m\u001b[0;34m\u001b[0m\u001b[0m\n",
      "\u001b[0m\u001b[0;32m    292 \u001b[0;31m    \u001b[0;31m# first add the labels\u001b[0m\u001b[0;34m\u001b[0m\u001b[0;34m\u001b[0m\u001b[0;34m\u001b[0m\u001b[0m\n",
      "\u001b[0m\u001b[0;32m--> 293 \u001b[0;31m    \u001b[0max\u001b[0m \u001b[0;34m=\u001b[0m \u001b[0madd_bool_heatmap\u001b[0m\u001b[0;34m(\u001b[0m\u001b[0mtpm_df\u001b[0m\u001b[0;34m,\u001b[0m \u001b[0max\u001b[0m\u001b[0;34m,\u001b[0m \u001b[0mspecies\u001b[0m\u001b[0;34m)\u001b[0m\u001b[0;34m\u001b[0m\u001b[0;34m\u001b[0m\u001b[0m\n",
      "\u001b[0m\u001b[0;32m    294 \u001b[0;31m\u001b[0;34m\u001b[0m\u001b[0m\n",
      "\u001b[0m\u001b[0;32m    295 \u001b[0;31m    \u001b[0;31m# get y coords from heatmap\u001b[0m\u001b[0;34m\u001b[0m\u001b[0;34m\u001b[0m\u001b[0;34m\u001b[0m\u001b[0m\n",
      "\u001b[0m\n"
     ]
    },
    {
     "name": "stdin",
     "output_type": "stream",
     "text": [
      "ipdb>  c\n"
     ]
    },
    {
     "name": "stdout",
     "output_type": "stream",
     "text": [
      "> \u001b[0;32m<ipython-input-47-5809fb885a5b>\u001b[0m(48)\u001b[0;36madd_bool_heatmap\u001b[0;34m()\u001b[0m\n",
      "\u001b[0;32m     46 \u001b[0;31m    \u001b[0mpdb\u001b[0m\u001b[0;34m.\u001b[0m\u001b[0mset_trace\u001b[0m\u001b[0;34m(\u001b[0m\u001b[0;34m)\u001b[0m\u001b[0;34m\u001b[0m\u001b[0;34m\u001b[0m\u001b[0m\n",
      "\u001b[0m\u001b[0;32m     47 \u001b[0;31m\u001b[0;34m\u001b[0m\u001b[0m\n",
      "\u001b[0m\u001b[0;32m---> 48 \u001b[0;31m    \u001b[0mm\u001b[0m \u001b[0;34m=\u001b[0m \u001b[0;34m{\u001b[0m\u001b[0;32mTrue\u001b[0m\u001b[0;34m:\u001b[0m \u001b[0;34m'*'\u001b[0m\u001b[0;34m,\u001b[0m \u001b[0;32mFalse\u001b[0m\u001b[0;34m:\u001b[0m \u001b[0;34m''\u001b[0m\u001b[0;34m}\u001b[0m\u001b[0;34m\u001b[0m\u001b[0;34m\u001b[0m\u001b[0m\n",
      "\u001b[0m\u001b[0;32m     49 \u001b[0;31m    \u001b[0;32mfor\u001b[0m \u001b[0mc\u001b[0m \u001b[0;32min\u001b[0m \u001b[0mbool_cols\u001b[0m\u001b[0;34m:\u001b[0m\u001b[0;34m\u001b[0m\u001b[0;34m\u001b[0m\u001b[0m\n",
      "\u001b[0m\u001b[0;32m     50 \u001b[0;31m        \u001b[0mtemp2\u001b[0m\u001b[0;34m[\u001b[0m\u001b[0mc\u001b[0m\u001b[0;34m]\u001b[0m \u001b[0;34m=\u001b[0m \u001b[0mtemp\u001b[0m\u001b[0;34m[\u001b[0m\u001b[0mc\u001b[0m\u001b[0;34m]\u001b[0m\u001b[0;34m.\u001b[0m\u001b[0mmap\u001b[0m\u001b[0;34m(\u001b[0m\u001b[0mm\u001b[0m\u001b[0;34m)\u001b[0m\u001b[0;34m\u001b[0m\u001b[0;34m\u001b[0m\u001b[0m\n",
      "\u001b[0m\n"
     ]
    },
    {
     "name": "stdin",
     "output_type": "stream",
     "text": [
      "ipdb>  c\n"
     ]
    },
    {
     "name": "stdout",
     "output_type": "stream",
     "text": [
      "63.79015590314102\n"
     ]
    },
    {
     "name": "stderr",
     "output_type": "stream",
     "text": [
      "/Users/fairliereese/miniconda3/lib/python3.7/site-packages/ipykernel_launcher.py:354: UserWarning: Tight layout not applied. The bottom and top margins cannot be made large enough to accommodate all axes decorations.\n"
     ]
    },
    {
     "data": {
      "image/png": "[encoded data removed]",
      "text/plain": [
       "<Figure size 432x54 with 2 Axes>"
      ]
     },
     "metadata": {
      "needs_background": "light"
     },
     "output_type": "display_data"
    }
   ],
   "source": [
    "_ = plot_browser_isos_2(cerberus_h5,\n",
    "                        swan_file,\n",
    "                        filt_ab,\n",
    "                        pp_summary,\n",
    "                        major_isos,\n",
    "                        'AKAP8L',\n",
    "                        obs_col,\n",
    "                        'h9',\n",
    "                        'akap8l_h9.pdf')"
   ]
  },
  {
   "cell_type": "code",
   "execution_count": 54,
   "id": "c569146e-6a01-4f6e-8ab2-b5ba6a80dedb",
   "metadata": {},
   "outputs": [
    {
     "name": "stdout",
     "output_type": "stream",
     "text": [
      "Read in graph from ../data/human/swan_graph.p\n",
      "Calculating iso TPM values\n",
      "Subsetting for polya genes\n",
      "Enforcing minimum TPM\n",
      "Total # isos detected: 231136\n",
      "# isos >= 1 tpm: 210239\n",
      "Applying gene type and novelty subset\n",
      "Number of isos reported: 206806\n",
      "Found 50 total samples\n",
      "> \u001b[0;32m<ipython-input-47-5809fb885a5b>\u001b[0m(293)\u001b[0;36mplot_browser_isos\u001b[0;34m()\u001b[0m\n",
      "\u001b[0;32m    291 \u001b[0;31m\u001b[0;34m\u001b[0m\u001b[0m\n",
      "\u001b[0m\u001b[0;32m    292 \u001b[0;31m    \u001b[0;31m# first add the labels\u001b[0m\u001b[0;34m\u001b[0m\u001b[0;34m\u001b[0m\u001b[0;34m\u001b[0m\u001b[0m\n",
      "\u001b[0m\u001b[0;32m--> 293 \u001b[0;31m    \u001b[0max\u001b[0m \u001b[0;34m=\u001b[0m \u001b[0madd_bool_heatmap\u001b[0m\u001b[0;34m(\u001b[0m\u001b[0mtpm_df\u001b[0m\u001b[0;34m,\u001b[0m \u001b[0max\u001b[0m\u001b[0;34m,\u001b[0m \u001b[0mspecies\u001b[0m\u001b[0;34m)\u001b[0m\u001b[0;34m\u001b[0m\u001b[0;34m\u001b[0m\u001b[0m\n",
      "\u001b[0m\u001b[0;32m    294 \u001b[0;31m\u001b[0;34m\u001b[0m\u001b[0m\n",
      "\u001b[0m\u001b[0;32m    295 \u001b[0;31m    \u001b[0;31m# get y coords from heatmap\u001b[0m\u001b[0;34m\u001b[0m\u001b[0;34m\u001b[0m\u001b[0;34m\u001b[0m\u001b[0m\n",
      "\u001b[0m\n"
     ]
    },
    {
     "name": "stdin",
     "output_type": "stream",
     "text": [
      "ipdb>  c\n"
     ]
    },
    {
     "name": "stdout",
     "output_type": "stream",
     "text": [
      "> \u001b[0;32m<ipython-input-47-5809fb885a5b>\u001b[0m(48)\u001b[0;36madd_bool_heatmap\u001b[0;34m()\u001b[0m\n",
      "\u001b[0;32m     46 \u001b[0;31m    \u001b[0mpdb\u001b[0m\u001b[0;34m.\u001b[0m\u001b[0mset_trace\u001b[0m\u001b[0;34m(\u001b[0m\u001b[0;34m)\u001b[0m\u001b[0;34m\u001b[0m\u001b[0;34m\u001b[0m\u001b[0m\n",
      "\u001b[0m\u001b[0;32m     47 \u001b[0;31m\u001b[0;34m\u001b[0m\u001b[0m\n",
      "\u001b[0m\u001b[0;32m---> 48 \u001b[0;31m    \u001b[0mm\u001b[0m \u001b[0;34m=\u001b[0m \u001b[0;34m{\u001b[0m\u001b[0;32mTrue\u001b[0m\u001b[0;34m:\u001b[0m \u001b[0;34m'*'\u001b[0m\u001b[0;34m,\u001b[0m \u001b[0;32mFalse\u001b[0m\u001b[0;34m:\u001b[0m \u001b[0;34m''\u001b[0m\u001b[0;34m}\u001b[0m\u001b[0;34m\u001b[0m\u001b[0;34m\u001b[0m\u001b[0m\n",
      "\u001b[0m\u001b[0;32m     49 \u001b[0;31m    \u001b[0;32mfor\u001b[0m \u001b[0mc\u001b[0m \u001b[0;32min\u001b[0m \u001b[0mbool_cols\u001b[0m\u001b[0;34m:\u001b[0m\u001b[0;34m\u001b[0m\u001b[0;34m\u001b[0m\u001b[0m\n",
      "\u001b[0m\u001b[0;32m     50 \u001b[0;31m        \u001b[0mtemp2\u001b[0m\u001b[0;34m[\u001b[0m\u001b[0mc\u001b[0m\u001b[0;34m]\u001b[0m \u001b[0;34m=\u001b[0m \u001b[0mtemp\u001b[0m\u001b[0;34m[\u001b[0m\u001b[0mc\u001b[0m\u001b[0;34m]\u001b[0m\u001b[0;34m.\u001b[0m\u001b[0mmap\u001b[0m\u001b[0;34m(\u001b[0m\u001b[0mm\u001b[0m\u001b[0;34m)\u001b[0m\u001b[0;34m\u001b[0m\u001b[0;34m\u001b[0m\u001b[0m\n",
      "\u001b[0m\n"
     ]
    },
    {
     "name": "stdin",
     "output_type": "stream",
     "text": [
      "ipdb>  c\n"
     ]
    },
    {
     "name": "stdout",
     "output_type": "stream",
     "text": [
      "63.79015590314102\n"
     ]
    },
    {
     "name": "stderr",
     "output_type": "stream",
     "text": [
      "/Users/fairliereese/miniconda3/lib/python3.7/site-packages/ipykernel_launcher.py:354: UserWarning: Tight layout not applied. The bottom and top margins cannot be made large enough to accommodate all axes decorations.\n"
     ]
    },
    {
     "data": {
      "image/png": "[encoded data removed]",
      "text/plain": [
       "<Figure size 432x72 with 2 Axes>"
      ]
     },
     "metadata": {
      "needs_background": "light"
     },
     "output_type": "display_data"
    }
   ],
   "source": [
    "_ = plot_browser_isos_2(cerberus_h5,\n",
    "                        swan_file,\n",
    "                        filt_ab,\n",
    "                        pp_summary,\n",
    "                        major_isos,\n",
    "                        'AKAP8L',\n",
    "                        obs_col,\n",
    "                        'h9_panc_progen',\n",
    "                        'akap8l_h9_panc_progen.pdf')"
   ]
  },
  {
   "cell_type": "code",
   "execution_count": 57,
   "id": "1f51575f-322c-46a1-9032-b0e7954d833e",
   "metadata": {},
   "outputs": [
    {
     "name": "stdout",
     "output_type": "stream",
     "text": [
      "Read in graph from ../data/human/swan_graph.p\n",
      "32.54784533263898\n"
     ]
    },
    {
     "name": "stderr",
     "output_type": "stream",
     "text": [
      "/Users/fairliereese/miniconda3/lib/python3.7/site-packages/ipykernel_launcher.py:352: UserWarning: Tight layout not applied. The bottom and top margins cannot be made large enough to accommodate all axes decorations.\n"
     ]
    },
    {
     "data": {
      "image/png": "[encoded data removed]",
      "text/plain": [
       "<Figure size 432x72 with 2 Axes>"
      ]
     },
     "metadata": {
      "needs_background": "light"
     },
     "output_type": "display_data"
    }
   ],
   "source": [
    "_ = plot_browser_isos_2(cerberus_h5,\n",
    "                        swan_file,\n",
    "                        filt_ab,\n",
    "                        pp_summary,\n",
    "                        major_isos,\n",
    "                        'CTCF',\n",
    "                        obs_col,\n",
    "                        'lung',\n",
    "                        'ctcf.pdf',\n",
    "                        add_tss=True,\n",
    "                        add_ccre=True,\n",
    "                        major=True)"
   ]
  },
  {
   "cell_type": "code",
   "execution_count": 60,
   "id": "d0a7cf4f-8969-4609-a9ee-f1dde1c00881",
   "metadata": {},
   "outputs": [
    {
     "name": "stdout",
     "output_type": "stream",
     "text": [
      "Read in graph from ../data/human/swan_graph.p\n"
     ]
    },
    {
     "name": "stderr",
     "output_type": "stream",
     "text": [
      "/Users/fairliereese/miniconda3/lib/python3.7/site-packages/ipykernel_launcher.py:35: SettingWithCopyWarning: \n",
      "A value is trying to be set on a copy of a slice from a DataFrame.\n",
      "Try using .loc[row_indexer,col_indexer] = value instead\n",
      "\n",
      "See the caveats in the documentation: https://pandas.pydata.org/pandas-docs/stable/user_guide/indexing.html#returning-a-view-versus-a-copy\n"
     ]
    },
    {
     "name": "stdout",
     "output_type": "stream",
     "text": [
      "> \u001b[0;32m<ipython-input-59-09c874e2854b>\u001b[0m(53)\u001b[0;36madd_bool_heatmap\u001b[0;34m()\u001b[0m\n",
      "\u001b[0;32m     51 \u001b[0;31m    \u001b[0mpdb\u001b[0m\u001b[0;34m.\u001b[0m\u001b[0mset_trace\u001b[0m\u001b[0;34m(\u001b[0m\u001b[0;34m)\u001b[0m\u001b[0;34m\u001b[0m\u001b[0;34m\u001b[0m\u001b[0m\n",
      "\u001b[0m\u001b[0;32m     52 \u001b[0;31m\u001b[0;34m\u001b[0m\u001b[0m\n",
      "\u001b[0m\u001b[0;32m---> 53 \u001b[0;31m    \u001b[0;32mif\u001b[0m \u001b[0mspecies\u001b[0m \u001b[0;34m==\u001b[0m \u001b[0;34m'mouse'\u001b[0m\u001b[0;34m:\u001b[0m\u001b[0;34m\u001b[0m\u001b[0;34m\u001b[0m\u001b[0m\n",
      "\u001b[0m\u001b[0;32m     54 \u001b[0;31m        \u001b[0mtemp\u001b[0m\u001b[0;34m.\u001b[0m\u001b[0mdrop\u001b[0m\u001b[0;34m(\u001b[0m\u001b[0;34m'MANE ORF'\u001b[0m\u001b[0;34m,\u001b[0m \u001b[0maxis\u001b[0m\u001b[0;34m=\u001b[0m\u001b[0;36m1\u001b[0m\u001b[0;34m,\u001b[0m \u001b[0minplace\u001b[0m\u001b[0;34m=\u001b[0m\u001b[0;32mTrue\u001b[0m\u001b[0;34m)\u001b[0m\u001b[0;34m\u001b[0m\u001b[0;34m\u001b[0m\u001b[0m\n",
      "\u001b[0m\u001b[0;32m     55 \u001b[0;31m        \u001b[0mtemp2\u001b[0m\u001b[0;34m.\u001b[0m\u001b[0mdrop\u001b[0m\u001b[0;34m(\u001b[0m\u001b[0;34m'MANE ORF'\u001b[0m\u001b[0;34m,\u001b[0m \u001b[0maxis\u001b[0m\u001b[0;34m=\u001b[0m\u001b[0;36m1\u001b[0m\u001b[0;34m,\u001b[0m \u001b[0minplace\u001b[0m\u001b[0;34m=\u001b[0m\u001b[0;32mTrue\u001b[0m\u001b[0;34m)\u001b[0m\u001b[0;34m\u001b[0m\u001b[0;34m\u001b[0m\u001b[0m\n",
      "\u001b[0m\n"
     ]
    },
    {
     "name": "stdin",
     "output_type": "stream",
     "text": [
      "ipdb>  temp.head()\n"
     ]
    },
    {
     "name": "stdout",
     "output_type": "stream",
     "text": [
      "              Known  MANE ORF  Full ORF    NMD\n",
      "                                              \n",
      "ELN [1,1,3]   False      True     False  False\n",
      "ELN [1,2,3]   False     False     False  False\n",
      "ELN [1,76,3]  False     False     False  False\n",
      "ELN [1,8,3]    True     False     False  False\n",
      "ELN [1,2,1]   False     False     False  False\n"
     ]
    },
    {
     "name": "stdin",
     "output_type": "stream",
     "text": [
      "ipdb>  c\n"
     ]
    },
    {
     "name": "stdout",
     "output_type": "stream",
     "text": [
      "59.21644796058553\n"
     ]
    },
    {
     "data": {
      "image/png": "[encoded data removed]",
      "text/plain": [
       "<Figure size 432x576 with 2 Axes>"
      ]
     },
     "metadata": {
      "needs_background": "light"
     },
     "output_type": "display_data"
    }
   ],
   "source": [
    "_ = plot_browser_isos_2(cerberus_h5,\n",
    "                        swan_file,\n",
    "                        filt_ab,\n",
    "                        pp_summary,\n",
    "                        major_isos,\n",
    "                        'ELN',\n",
    "                        obs_col,\n",
    "                        'lung',\n",
    "                        'eln.pdf',\n",
    "                        major=True)"
   ]
  },
  {
   "cell_type": "code",
   "execution_count": 62,
   "id": "afe931a9-f579-465e-861a-d22bb4b49438",
   "metadata": {},
   "outputs": [],
   "source": [
    "ca = cerberus.read(cerberus_h5)"
   ]
  },
  {
   "cell_type": "code",
   "execution_count": 64,
   "id": "b2d82f33-e0cc-49fd-9100-8e12a7a90de0",
   "metadata": {},
   "outputs": [
    {
     "data": {
      "text/html": [
       "<div>\n",
       "<style scoped>\n",
       "    .dataframe tbody tr th:only-of-type {\n",
       "        vertical-align: middle;\n",
       "    }\n",
       "\n",
       "    .dataframe tbody tr th {\n",
       "        vertical-align: top;\n",
       "    }\n",
       "\n",
       "    .dataframe thead th {\n",
       "        text-align: right;\n",
       "    }\n",
       "</style>\n",
       "<table border=\"1\" class=\"dataframe\">\n",
       "  <thead>\n",
       "    <tr style=\"text-align: right;\">\n",
       "      <th></th>\n",
       "      <th>Chromosome</th>\n",
       "      <th>Start</th>\n",
       "      <th>End</th>\n",
       "      <th>Strand</th>\n",
       "      <th>Name</th>\n",
       "      <th>source</th>\n",
       "      <th>novelty</th>\n",
       "      <th>gene_id</th>\n",
       "      <th>tss</th>\n",
       "    </tr>\n",
       "  </thead>\n",
       "  <tbody>\n",
       "    <tr>\n",
       "      <th>55218</th>\n",
       "      <td>chr7</td>\n",
       "      <td>74028050</td>\n",
       "      <td>74028238</td>\n",
       "      <td>+</td>\n",
       "      <td>ENSG00000049540_1</td>\n",
       "      <td>v40,v29,lapa,gtex,encode_cage,fantom_cage,enco...</td>\n",
       "      <td>Known</td>\n",
       "      <td>ENSG00000049540</td>\n",
       "      <td>1</td>\n",
       "    </tr>\n",
       "  </tbody>\n",
       "</table>\n",
       "</div>"
      ],
      "text/plain": [
       "      Chromosome     Start       End Strand               Name  \\\n",
       "55218       chr7  74028050  74028238      +  ENSG00000049540_1   \n",
       "\n",
       "                                                  source novelty  \\\n",
       "55218  v40,v29,lapa,gtex,encode_cage,fantom_cage,enco...   Known   \n",
       "\n",
       "               gene_id  tss  \n",
       "55218  ENSG00000049540    1  "
      ]
     },
     "execution_count": 64,
     "metadata": {},
     "output_type": "execute_result"
    }
   ],
   "source": [
    "ca.tss.loc[ca.tss.Name=='ENSG00000049540_1']"
   ]
  },
  {
   "cell_type": "code",
   "execution_count": null,
   "id": "07654ae0-9d3d-4e5f-b2c1-c67e6cf3411b",
   "metadata": {},
   "outputs": [],
   "source": [
    "\"chr7:74028050-74028238\""
   ]
  },
  {
   "cell_type": "code",
   "execution_count": null,
   "id": "266588e3-b728-4625-8a04-75c574bf4e79",
   "metadata": {},
   "outputs": [],
   "source": []
  },
  {
   "cell_type": "code",
   "execution_count": 65,
   "id": "f61434b7-8aa9-410c-9b0d-ef5f2b72293c",
   "metadata": {},
   "outputs": [
    {
     "name": "stdout",
     "output_type": "stream",
     "text": [
      "Read in graph from ../data/human/swan_graph.p\n",
      "Calculating iso TPM values\n",
      "Subsetting for polya genes\n"
     ]
    },
    {
     "name": "stderr",
     "output_type": "stream",
     "text": [
      "/Users/fairliereese/Documents/programming/mortazavi_lab/data/paper_rnawg/scripts/utils.py:2069: PerformanceWarning: DataFrame is highly fragmented.  This is usually the result of calling `frame.insert` many times, which has poor performance.  Consider joining all columns at once using pd.concat(axis=1) instead.  To get a de-fragmented frame, use `newframe = frame.copy()`\n",
      "  df[tpm_col] = (df[d]*1000000)/df[total_col]\n",
      "/Users/fairliereese/Documents/programming/mortazavi_lab/data/paper_rnawg/scripts/utils.py:2068: PerformanceWarning: DataFrame is highly fragmented.  This is usually the result of calling `frame.insert` many times, which has poor performance.  Consider joining all columns at once using pd.concat(axis=1) instead.  To get a de-fragmented frame, use `newframe = frame.copy()`\n",
      "  df[total_col] = df[d].sum()\n"
     ]
    },
    {
     "name": "stdout",
     "output_type": "stream",
     "text": [
      "Enforcing minimum TPM\n",
      "Total # isos detected: 231136\n",
      "# isos >= 1 tpm: 210239\n",
      "Applying gene type and novelty subset\n",
      "Number of isos reported: 206806\n",
      "Found 50 total samples\n"
     ]
    },
    {
     "name": "stderr",
     "output_type": "stream",
     "text": [
      "/Users/fairliereese/miniconda3/lib/python3.7/site-packages/ipykernel_launcher.py:35: SettingWithCopyWarning: \n",
      "A value is trying to be set on a copy of a slice from a DataFrame.\n",
      "Try using .loc[row_indexer,col_indexer] = value instead\n",
      "\n",
      "See the caveats in the documentation: https://pandas.pydata.org/pandas-docs/stable/user_guide/indexing.html#returning-a-view-versus-a-copy\n",
      "/Users/fairliereese/miniconda3/lib/python3.7/site-packages/pandas/core/frame.py:4913: SettingWithCopyWarning: \n",
      "A value is trying to be set on a copy of a slice from a DataFrame\n",
      "\n",
      "See the caveats in the documentation: https://pandas.pydata.org/pandas-docs/stable/user_guide/indexing.html#returning-a-view-versus-a-copy\n",
      "  errors=errors,\n",
      "/Users/fairliereese/miniconda3/lib/python3.7/site-packages/pandas/core/frame.py:5047: SettingWithCopyWarning: \n",
      "A value is trying to be set on a copy of a slice from a DataFrame\n",
      "\n",
      "See the caveats in the documentation: https://pandas.pydata.org/pandas-docs/stable/user_guide/indexing.html#returning-a-view-versus-a-copy\n",
      "  errors=errors,\n"
     ]
    },
    {
     "name": "stdout",
     "output_type": "stream",
     "text": [
      "> \u001b[0;32m<ipython-input-59-09c874e2854b>\u001b[0m(53)\u001b[0;36madd_bool_heatmap\u001b[0;34m()\u001b[0m\n",
      "\u001b[0;32m     51 \u001b[0;31m    \u001b[0mpdb\u001b[0m\u001b[0;34m.\u001b[0m\u001b[0mset_trace\u001b[0m\u001b[0;34m(\u001b[0m\u001b[0;34m)\u001b[0m\u001b[0;34m\u001b[0m\u001b[0;34m\u001b[0m\u001b[0m\n",
      "\u001b[0m\u001b[0;32m     52 \u001b[0;31m\u001b[0;34m\u001b[0m\u001b[0m\n",
      "\u001b[0m\u001b[0;32m---> 53 \u001b[0;31m    \u001b[0;32mif\u001b[0m \u001b[0mspecies\u001b[0m \u001b[0;34m==\u001b[0m \u001b[0;34m'mouse'\u001b[0m\u001b[0;34m:\u001b[0m\u001b[0;34m\u001b[0m\u001b[0;34m\u001b[0m\u001b[0m\n",
      "\u001b[0m\u001b[0;32m     54 \u001b[0;31m        \u001b[0mtemp\u001b[0m\u001b[0;34m.\u001b[0m\u001b[0mdrop\u001b[0m\u001b[0;34m(\u001b[0m\u001b[0;34m'MANE ORF'\u001b[0m\u001b[0;34m,\u001b[0m \u001b[0maxis\u001b[0m\u001b[0;34m=\u001b[0m\u001b[0;36m1\u001b[0m\u001b[0;34m,\u001b[0m \u001b[0minplace\u001b[0m\u001b[0;34m=\u001b[0m\u001b[0;32mTrue\u001b[0m\u001b[0;34m)\u001b[0m\u001b[0;34m\u001b[0m\u001b[0;34m\u001b[0m\u001b[0m\n",
      "\u001b[0m\u001b[0;32m     55 \u001b[0;31m        \u001b[0mtemp2\u001b[0m\u001b[0;34m.\u001b[0m\u001b[0mdrop\u001b[0m\u001b[0;34m(\u001b[0m\u001b[0;34m'MANE ORF'\u001b[0m\u001b[0;34m,\u001b[0m \u001b[0maxis\u001b[0m\u001b[0;34m=\u001b[0m\u001b[0;36m1\u001b[0m\u001b[0;34m,\u001b[0m \u001b[0minplace\u001b[0m\u001b[0;34m=\u001b[0m\u001b[0;32mTrue\u001b[0m\u001b[0;34m)\u001b[0m\u001b[0;34m\u001b[0m\u001b[0;34m\u001b[0m\u001b[0m\n",
      "\u001b[0m\n"
     ]
    },
    {
     "name": "stdin",
     "output_type": "stream",
     "text": [
      "ipdb>  c\n"
     ]
    },
    {
     "name": "stdout",
     "output_type": "stream",
     "text": [
      "651.2112529304507\n"
     ]
    },
    {
     "data": {
      "image/png": "[encoded data removed]",
      "text/plain": [
       "<Figure size 432x324 with 2 Axes>"
      ]
     },
     "metadata": {
      "needs_background": "light"
     },
     "output_type": "display_data"
    }
   ],
   "source": [
    "_ = plot_browser_isos_2(cerberus_h5,\n",
    "                        swan_file,\n",
    "                        filt_ab,\n",
    "                        pp_summary,\n",
    "                        major_isos,\n",
    "                        'ACTA1',\n",
    "                        obs_col,\n",
    "                        'heart',\n",
    "                        'acta1.pdf')"
   ]
  },
  {
   "cell_type": "code",
   "execution_count": 18,
   "id": "7ca9fd86-c1d7-4300-a867-b0ba21ef83bb",
   "metadata": {},
   "outputs": [
    {
     "name": "stdout",
     "output_type": "stream",
     "text": [
      "Read in graph from ../data/human/swan_graph.p\n",
      "Calculating iso TPM values\n",
      "Subsetting for polya genes\n",
      "Enforcing minimum TPM\n",
      "Total # isos detected: 231136\n",
      "# isos >= 1 tpm: 210239\n",
      "Applying gene type and novelty subset\n",
      "Number of isos reported: 206806\n",
      "Found 50 total samples\n",
      "92.7402900916274\n"
     ]
    },
    {
     "name": "stderr",
     "output_type": "stream",
     "text": [
      "/Users/fairliereese/miniconda3/lib/python3.7/site-packages/ipykernel_launcher.py:349: UserWarning: Tight layout not applied. The bottom and top margins cannot be made large enough to accommodate all axes decorations.\n"
     ]
    },
    {
     "data": {
      "image/png": "[encoded data removed]",
      "text/plain": [
       "<Figure size 432x54 with 2 Axes>"
      ]
     },
     "metadata": {
      "needs_background": "light"
     },
     "output_type": "display_data"
    }
   ],
   "source": [
    "_ = plot_browser_isos_2(cerberus_h5,\n",
    "                        swan_file,\n",
    "                        filt_ab,\n",
    "                        pp_summary,\n",
    "                        major_isos,\n",
    "                        'ARF4',\n",
    "                        obs_col,\n",
    "                        'h1',\n",
    "                        'arf4_human.pdf')"
   ]
  },
  {
   "cell_type": "code",
   "execution_count": 33,
   "id": "4bb0a985-362a-43fc-8d04-9a3f5b5671b1",
   "metadata": {},
   "outputs": [
    {
     "name": "stdout",
     "output_type": "stream",
     "text": [
      "Read in graph from ../data/mouse/swan_graph.p\n",
      "Calculating iso TPM values\n",
      "Subsetting for polya genes\n",
      "Enforcing minimum TPM\n",
      "Total # isos detected: 149463\n",
      "# isos >= 1 tpm: 138642\n",
      "Applying gene type and novelty subset\n",
      "Number of isos reported: 135450\n",
      "Found 37 total samples\n",
      "92.21689413500553\n"
     ]
    },
    {
     "name": "stderr",
     "output_type": "stream",
     "text": [
      "/Users/fairliereese/miniconda3/lib/python3.7/site-packages/ipykernel_launcher.py:353: UserWarning: Tight layout not applied. The bottom and top margins cannot be made large enough to accommodate all axes decorations.\n"
     ]
    },
    {
     "data": {
      "image/png": "[encoded data removed]",
      "text/plain": [
       "<Figure size 432x54 with 2 Axes>"
      ]
     },
     "metadata": {
      "needs_background": "light"
     },
     "output_type": "display_data"
    }
   ],
   "source": [
    "_ = plot_browser_isos_2(m_cerberus_h5,\n",
    "                        m_swan_file,\n",
    "                        m_filt_ab,\n",
    "                        m_pp_summary,\n",
    "                        m_major_isos,\n",
    "                        'Arf4',\n",
    "                        obs_col,\n",
    "                        'f1219',\n",
    "                        'arf4_mouse.pdf',\n",
    "                        species='mouse')"
   ]
  },
  {
   "cell_type": "code",
   "execution_count": null,
   "id": "b526f8ab-9ed5-49a7-80b0-430838a1fa37",
   "metadata": {},
   "outputs": [],
   "source": []
  },
  {
   "cell_type": "code",
   "execution_count": null,
   "id": "5552b35a-7afa-4bc6-bd6a-6a6adbe961c0",
   "metadata": {},
   "outputs": [],
   "source": []
  },
  {
   "cell_type": "code",
   "execution_count": null,
   "id": "715db747-1678-4d79-8da7-49fe6dd7426f",
   "metadata": {},
   "outputs": [],
   "source": []
  },
  {
   "cell_type": "code",
   "execution_count": 38,
   "id": "eb561a89-cb40-42d5-866d-a116a9e3fa6f",
   "metadata": {},
   "outputs": [],
   "source": [
    "# # within the same exon\n",
    "# exons = [(-2, -1),(0,2),(3,5),(6,7)]\n",
    "# orf_start = 1\n",
    "# orf_end = 1.5\n",
    "# strand = '+'\n",
    "# ctrl_cds = [(1, 1.5)] \n",
    "# cds = get_cds(exons, orf_start, orf_end, strand)\n",
    "# assert cds == ctrl_cds\n",
    "\n",
    "# # skipping first and last exon the same exon\n",
    "# exons = [(-2, -1),(0,2),(3,5),(6,7)]\n",
    "# orf_start = 1\n",
    "# orf_end = 4\n",
    "# strand = '+'\n",
    "# ctrl_cds = [(1,2),(3,4)] \n",
    "# cds = get_cds(exons, orf_start, orf_end, strand)\n",
    "# assert cds == ctrl_cds\n",
    "\n",
    "# # in the first and last exons\n",
    "# exons = [(0,2),(3,5)]\n",
    "# orf_start = 1\n",
    "# orf_end = 4\n",
    "# strand = '+'\n",
    "# ctrl_cds = [(1,2),(3,4)] \n",
    "# cds = get_cds(exons, orf_start, orf_end, strand)\n",
    "# assert cds == ctrl_cds\n",
    "\n",
    "# # minus strand\n",
    "# exons = [(5,3),(2,0)]\n",
    "# orf_start = 4\n",
    "# orf_end = 1\n",
    "# strand = '-'\n",
    "# ctrl_cds = [(4,3),(2,1)] \n",
    "# cds = get_cds(exons, orf_start, orf_end, strand)\n",
    "# assert cds == ctrl_cds\n",
    "\n",
    "# # within the same exon\n",
    "# exons = [(7,6),(5,3),(2,0),(-1,-2)]\n",
    "# orf_start = 1.5\n",
    "# orf_end = 1\n",
    "# strand = '-'\n",
    "# ctrl_cds = [(1.5, 1)] \n",
    "# cds = get_cds(exons, orf_start, orf_end, strand)\n",
    "# assert cds == ctrl_cds\n",
    "\n",
    "# # skipping first and last exon the same exon\n",
    "# exons = [(7,6),(5,3),(2,0),(-1,-2)]\n",
    "# orf_start = 4\n",
    "# orf_end = 1\n",
    "# strand = '-'\n",
    "# ctrl_cds = [(4,3),(2,1)] \n",
    "# cds = get_cds(exons, orf_start, orf_end, strand)\n",
    "# assert cds == ctrl_cds"
   ]
  },
  {
   "cell_type": "code",
   "execution_count": null,
   "id": "30489b12-5251-4be3-a408-fbf8aa31da7e",
   "metadata": {},
   "outputs": [],
   "source": []
  }
 ],
 "metadata": {
  "kernelspec": {
   "display_name": "Python 3",
   "language": "python",
   "name": "python3"
  },
  "language_info": {
   "codemirror_mode": {
    "name": "ipython",
    "version": 3
   },
   "file_extension": ".py",
   "mimetype": "text/x-python",
   "name": "python",
   "nbconvert_exporter": "python",
   "pygments_lexer": "ipython3",
   "version": "3.7.12"
  }
 },
 "nbformat": 4,
 "nbformat_minor": 5
}
