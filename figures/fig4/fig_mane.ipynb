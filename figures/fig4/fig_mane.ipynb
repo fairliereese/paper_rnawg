{
 "cells": [
  {
   "cell_type": "code",
   "execution_count": 1,
   "id": "86e63b6e-b3f3-4247-b1ca-71322dfd037e",
   "metadata": {},
   "outputs": [],
   "source": [
    "import pandas as pd\n",
    "import numpy as np\n",
    "import scipy.stats as st\n",
    "import seaborn as sns\n",
    "import sys\n",
    "import os\n",
    "import gseapy as gp\n",
    "import matplotlib.pyplot as plt\n",
    "import swan_vis as swan\n",
    "import yaml\n",
    "from snakemake.io import expand\n",
    "\n",
    "p = os.path.dirname(os.path.dirname(os.getcwd()))\n",
    "sys.path.append(p)\n",
    "\n",
    "from scripts.utils import *\n",
    "from scripts.mane_utils import *\n",
    "from scripts.plotting import *"
   ]
  },
  {
   "cell_type": "code",
   "execution_count": 2,
   "id": "59d82494-0f0b-4af1-8a0e-efef9b5396c3",
   "metadata": {},
   "outputs": [],
   "source": [
    "config_file = '../snakemake/config.yml'\n",
    "with open(config_file) as f:\n",
    "    config = yaml.safe_load(f)"
   ]
  },
  {
   "cell_type": "code",
   "execution_count": 3,
   "id": "4053df9d-5b65-4252-aa9e-4cc18d217bd6",
   "metadata": {},
   "outputs": [],
   "source": [
    "ab = '../'+expand(config['data']['ab'], species='human')[0]\n",
    "filt_ab = '../'+expand(config['data']['filt_ab'], species='human')[0]\n",
    "read_annot = '../'+expand(config['data']['read_annot'], species='human')[0]\n",
    "ref_t_metadata = '../'+expand(config['ref']['t_info'], species='human')[0]\n",
    "ref_g_metadata = '../'+expand(config['ref']['g_info'], species='human')[0]\n",
    "t_metadata = '../'+expand(config['ref']['cerberus']['t_info'], species='human')[0]\n",
    "lib_meta = '../'+expand(config['data']['meta'], species='human')[0]\n",
    "swan_file = '../'+expand(config['data']['sg'], species='human')[0]\n",
    "cerberus_h5 = '../'+expand(config['data']['cerb_annot'], species='human')[0]\n",
    "cerb_t_metadata = '../'+expand(config['data']['t_info'], species='human')[0]\n",
    "major_isos = '../'+expand(config['data']['major_isos'], species='human', obs_col='sample')[0]\n",
    "\n",
    "ver = 'v40_cerberus'\n",
    "min_tpm = 1\n",
    "gene_subset = 'protein_coding'\n",
    "obs_col = 'sample'\n",
    "go_gene_subset = 'protein_coding'\n",
    "\n",
    "m_lib_meta = '../'+expand(config['data']['meta'], species='mouse')[0]"
   ]
  },
  {
   "cell_type": "markdown",
   "id": "e54f3f40-4c17-4808-aa36-98a777484bbc",
   "metadata": {},
   "source": [
    "## MANE analyses using libraries"
   ]
  },
  {
   "cell_type": "code",
   "execution_count": 4,
   "id": "9cfb65f0-cf25-4bfe-936e-91caca868661",
   "metadata": {},
   "outputs": [
    {
     "name": "stdout",
     "output_type": "stream",
     "text": [
      "Read in graph from ../data/human/swan_graph.p\n",
      "triplet\n"
     ]
    },
    {
     "ename": "TypeError",
     "evalue": "get_exp_mane_genes() got an unexpected keyword argument 'mane_file'",
     "output_type": "error",
     "traceback": [
      "\u001b[0;31m---------------------------------------------------------------------------\u001b[0m",
      "\u001b[0;31mTypeError\u001b[0m                                 Traceback (most recent call last)",
      "\u001b[0;32m<ipython-input-4-a11c5f9a885b>\u001b[0m in \u001b[0;36m<module>\u001b[0;34m\u001b[0m\n\u001b[1;32m      5\u001b[0m                        \u001b[0mref_g_metadata\u001b[0m\u001b[0;34m,\u001b[0m\u001b[0;34m\u001b[0m\u001b[0;34m\u001b[0m\u001b[0m\n\u001b[1;32m      6\u001b[0m                        \u001b[0;34m'dataset'\u001b[0m\u001b[0;34m,\u001b[0m\u001b[0;34m\u001b[0m\u001b[0;34m\u001b[0m\u001b[0m\n\u001b[0;32m----> 7\u001b[0;31m                        min_tpm)\n\u001b[0m",
      "\u001b[0;32m~/Documents/programming/mortazavi_lab/data/paper_rnawg/scripts/mane_utils.py\u001b[0m in \u001b[0;36mmane_analysis\u001b[0;34m(sg, ca, t_orig_metadata, mane_file, obs_col, min_feat_tpm, feats)\u001b[0m\n\u001b[1;32m    521\u001b[0m \u001b[0;34m\u001b[0m\u001b[0m\n\u001b[1;32m    522\u001b[0m         \u001b[0;31m# remove genes that don't have annotated, expressed MANE genes in this sample\u001b[0m\u001b[0;34m\u001b[0m\u001b[0;34m\u001b[0m\u001b[0;34m\u001b[0m\u001b[0m\n\u001b[0;32m--> 523\u001b[0;31m         \u001b[0mexp_mane_genes\u001b[0m \u001b[0;34m=\u001b[0m \u001b[0mget_exp_mane_genes\u001b[0m\u001b[0;34m(\u001b[0m\u001b[0mobs_col\u001b[0m\u001b[0;34m=\u001b[0m\u001b[0mobs_col\u001b[0m\u001b[0;34m,\u001b[0m \u001b[0mmane_file\u001b[0m\u001b[0;34m=\u001b[0m\u001b[0mmane_file\u001b[0m\u001b[0;34m)\u001b[0m\u001b[0;34m\u001b[0m\u001b[0;34m\u001b[0m\u001b[0m\n\u001b[0m\u001b[1;32m    524\u001b[0m         \u001b[0mmp_df\u001b[0m \u001b[0;34m=\u001b[0m \u001b[0mmp_df\u001b[0m\u001b[0;34m.\u001b[0m\u001b[0mmerge\u001b[0m\u001b[0;34m(\u001b[0m\u001b[0mexp_mane_genes\u001b[0m\u001b[0;34m,\u001b[0m \u001b[0mhow\u001b[0m\u001b[0;34m=\u001b[0m\u001b[0;34m'inner'\u001b[0m\u001b[0;34m,\u001b[0m \u001b[0mon\u001b[0m\u001b[0;34m=\u001b[0m\u001b[0;34m[\u001b[0m\u001b[0;34m'gid'\u001b[0m\u001b[0;34m,\u001b[0m \u001b[0mobs_col\u001b[0m\u001b[0;34m]\u001b[0m\u001b[0;34m)\u001b[0m\u001b[0;34m\u001b[0m\u001b[0;34m\u001b[0m\u001b[0m\n\u001b[1;32m    525\u001b[0m \u001b[0;34m\u001b[0m\u001b[0m\n",
      "\u001b[0;31mTypeError\u001b[0m: get_exp_mane_genes() got an unexpected keyword argument 'mane_file'"
     ]
    }
   ],
   "source": [
    "sg = swan.read(swan_file)\n",
    "ca = cerberus.read(cerberus_h5)\n",
    "mp_dfs = mane_analysis(sg, ca, \n",
    "                       ref_t_metadata,\n",
    "                       ref_g_metadata,\n",
    "                       'dataset',\n",
    "                       min_tpm)"
   ]
  },
  {
   "cell_type": "markdown",
   "id": "3012ceb2-e464-41b7-b68c-000f39a708d4",
   "metadata": {},
   "source": [
    "## MANE analyses using samples"
   ]
  },
  {
   "cell_type": "code",
   "execution_count": null,
   "id": "34ce9ff4-ed90-4e47-9b8b-103e118419e7",
   "metadata": {},
   "outputs": [],
   "source": [
    "sg = swan.read(swan_file)\n",
    "ca = cerberus.read(cerberus_h5)\n",
    "mp_dfs = mane_analysis(sg, ca, \n",
    "                       ref_t_metadata,\n",
    "                       ref_g_metadata,\n",
    "                       'sample',\n",
    "                       min_tpm)"
   ]
  },
  {
   "cell_type": "code",
   "execution_count": null,
   "id": "383202c4-cad4-4c02-80dd-10af1212b0ed",
   "metadata": {},
   "outputs": [],
   "source": []
  },
  {
   "cell_type": "code",
   "execution_count": null,
   "id": "2b885c93-a451-4b2f-aacb-d2fd281ce394",
   "metadata": {},
   "outputs": [],
   "source": []
  },
  {
   "cell_type": "code",
   "execution_count": null,
   "id": "7e426775-b1ff-4ab2-abd1-8f00d3595925",
   "metadata": {},
   "outputs": [],
   "source": []
  },
  {
   "cell_type": "code",
   "execution_count": null,
   "id": "cde4aa04-ddeb-4aa5-845f-2083817842c3",
   "metadata": {},
   "outputs": [],
   "source": []
  }
 ],
 "metadata": {
  "kernelspec": {
   "display_name": "Python 3",
   "language": "python",
   "name": "python3"
  },
  "language_info": {
   "codemirror_mode": {
    "name": "ipython",
    "version": 3
   },
   "file_extension": ".py",
   "mimetype": "text/x-python",
   "name": "python",
   "nbconvert_exporter": "python",
   "pygments_lexer": "ipython3",
   "version": "3.7.4"
  }
 },
 "nbformat": 4,
 "nbformat_minor": 5
}
