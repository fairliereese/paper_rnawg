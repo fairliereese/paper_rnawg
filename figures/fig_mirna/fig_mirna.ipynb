{
 "cells": [
  {
   "cell_type": "code",
   "execution_count": 1,
   "metadata": {},
   "outputs": [
    {
     "name": "stderr",
     "output_type": "stream",
     "text": [
      "── \u001b[1mAttaching packages\u001b[22m ─────────────────────────────────────── tidyverse 1.3.0 ──\n",
      "\n",
      "\u001b[32m✔\u001b[39m \u001b[34mggplot2\u001b[39m 3.3.3     \u001b[32m✔\u001b[39m \u001b[34mpurrr  \u001b[39m 0.3.4\n",
      "\u001b[32m✔\u001b[39m \u001b[34mtibble \u001b[39m 3.1.0     \u001b[32m✔\u001b[39m \u001b[34mdplyr  \u001b[39m 1.0.5\n",
      "\u001b[32m✔\u001b[39m \u001b[34mtidyr  \u001b[39m 1.1.3     \u001b[32m✔\u001b[39m \u001b[34mstringr\u001b[39m 1.4.0\n",
      "\u001b[32m✔\u001b[39m \u001b[34mreadr  \u001b[39m 1.4.0     \u001b[32m✔\u001b[39m \u001b[34mforcats\u001b[39m 0.5.1\n",
      "\n",
      "── \u001b[1mConflicts\u001b[22m ────────────────────────────────────────── tidyverse_conflicts() ──\n",
      "\u001b[31m✖\u001b[39m \u001b[34mdplyr\u001b[39m::\u001b[32mfilter()\u001b[39m masks \u001b[34mstats\u001b[39m::filter()\n",
      "\u001b[31m✖\u001b[39m \u001b[34mdplyr\u001b[39m::\u001b[32mlag()\u001b[39m    masks \u001b[34mstats\u001b[39m::lag()\n",
      "\n",
      "Registered S3 method overwritten by 'spatstat':\n",
      "  method     from\n",
      "  print.boxx cli \n",
      "\n",
      "Loading required package: grid\n",
      "\n",
      "Loading required package: futile.logger\n",
      "\n",
      "------------------------------------------------------------------------------\n",
      "\n",
      "You have loaded plyr after dplyr - this is likely to cause problems.\n",
      "If you need functions from both plyr and dplyr, please load plyr first, then dplyr:\n",
      "library(plyr); library(dplyr)\n",
      "\n",
      "------------------------------------------------------------------------------\n",
      "\n",
      "\n",
      "Attaching package: ‘plyr’\n",
      "\n",
      "\n",
      "The following objects are masked from ‘package:dplyr’:\n",
      "\n",
      "    arrange, count, desc, failwith, id, mutate, rename, summarise,\n",
      "    summarize\n",
      "\n",
      "\n",
      "The following object is masked from ‘package:purrr’:\n",
      "\n",
      "    compact\n",
      "\n",
      "\n"
     ]
    }
   ],
   "source": [
    "library(tidyverse)\n",
    "library(ggplot2)\n",
    "library(RColorBrewer)\n",
    "library(Seurat)\n",
    "library(VennDiagram)\n",
    "library(plyr)"
   ]
  },
  {
   "cell_type": "code",
   "execution_count": 2,
   "metadata": {},
   "outputs": [],
   "source": [
    "meta_file = '../data/human/mirna/metadata.tsv'\n",
    "lib_meta_file = '../data/human/mirna/mirna_human_library_data_summary.tsv'"
   ]
  },
  {
   "cell_type": "markdown",
   "metadata": {},
   "source": [
    "# microRNA figure"
   ]
  },
  {
   "cell_type": "code",
   "execution_count": 13,
   "metadata": {},
   "outputs": [],
   "source": [
    "meta = read.delim(meta_file)\n",
    "meta$Biosample_type = meta$Biosample.type\n",
    "meta$Biosample_type = gsub(\"cell line\",\"Cell line\",meta$Biosample_type)\n",
    "meta$Biosample_type = gsub(\"in vitro differentiated cells\",\"Cell line\",meta$Biosample_type)\n",
    "meta$Biosample_type = gsub(\"primary cell\",\"Cell line\",meta$Biosample_type)\n",
    "meta$Biosample_type = gsub(\"tissue\",\"Tissue\",meta$Biosample_type)\n",
    "meta$Biosample_type_brain = meta$Biosample_type\n",
    "\n",
    "for (i in 1:nrow(meta)){\n",
    "    if (meta$Biosample.term.name[i] == \"dorsolateral prefrontal cortex\"){\n",
    "        meta$Biosample_type_brain[i] = \"Brain\"\n",
    "    } else {\n",
    "        meta$Biosample_type_brain[i] = meta$Biosample_type_brain[i]\n",
    "    }\n",
    "}"
   ]
  },
  {
   "cell_type": "code",
   "execution_count": 14,
   "metadata": {},
   "outputs": [
    {
     "data": {
      "text/html": [
       "<style>\n",
       ".list-inline {list-style: none; margin:0; padding: 0}\n",
       ".list-inline>li {display: inline-block}\n",
       ".list-inline>li:not(:last-child)::after {content: \"\\00b7\"; padding: 0 .5ex}\n",
       "</style>\n",
       "<ol class=list-inline><li>254</li><li>61</li></ol>\n"
      ],
      "text/latex": [
       "\\begin{enumerate*}\n",
       "\\item 254\n",
       "\\item 61\n",
       "\\end{enumerate*}\n"
      ],
      "text/markdown": [
       "1. 254\n",
       "2. 61\n",
       "\n",
       "\n"
      ],
      "text/plain": [
       "[1] 254  61"
      ]
     },
     "metadata": {},
     "output_type": "display_data"
    }
   ],
   "source": [
    "path = '../data/human/mirna/'\n",
    "samples = dir(path)\n",
    "samples = samples[grepl('ENCFF', samples)]\n",
    "\n",
    "thisMat=read.table(paste0(path,samples[1]),sep=\"\",head=FALSE)\n",
    "counts=thisMat[-c(1:4),c(1,2)]\n",
    "\n",
    "for(i in 2:length(samples)){\n",
    "    thisMat=read.table(paste0(path,samples[i]),sep=\"\",head=FALSE)\n",
    "    thisMat=thisMat[na.omit(match(counts$V1,thisMat$V1)),]\n",
    "    counts=cbind(counts,thisMat[,\"V2\"])\n",
    "}\n",
    "\n",
    "colnames(counts) = c(\"miRNA_ID\",do.call(\"rbind\", strsplit(samples, \".tsv\"))[,1])\n",
    "rownames(counts) = counts$miRNA_ID\n",
    "counts$miRNA_ID = NULL\n",
    "\n",
    "# Sort metadata\n",
    "meta = meta[match(colnames(counts), meta$File.accession),]\n",
    "dim(meta)"
   ]
  },
  {
   "cell_type": "code",
   "execution_count": 15,
   "metadata": {},
   "outputs": [
    {
     "name": "stderr",
     "output_type": "stream",
     "text": [
      "Joining, by = \"File.accession\"\n",
      "\n"
     ]
    }
   ],
   "source": [
    "# Convert to CPM (counts per million)\n",
    "cpm_func <- function(counts) {\n",
    "  cpm <- apply(counts,2, function(x) (x/sum(x))*1000000)\n",
    "  cpm = as.matrix(cpm)\n",
    "  rownames(cpm) = rownames(counts)\n",
    "  colnames(cpm) = colnames(counts)\n",
    "  return(cpm)\n",
    "}             \n",
    "               \n",
    "cpm = cpm_func(counts[rowSums(counts)>0,])\n",
    "cpm2 = as.data.frame(colSums(cpm >= 2))\n",
    "colnames(cpm2) = \"Expressed_miRNAs\"\n",
    "cpm2$File.accession = rownames(cpm2)\n",
    "cpm2 = left_join(cpm2, meta)\n",
    "cpm2$Biosample_type_brain = factor(cpm2$Biosample_type_brain,\n",
    "                                  levels = c(\"Cell line\",\"Tissue\",\"Brain\"))"
   ]
  },
  {
   "cell_type": "markdown",
   "metadata": {},
   "source": [
    "## miRNA detection by biotype"
   ]
  },
  {
   "cell_type": "code",
   "execution_count": 16,
   "metadata": {},
   "outputs": [
    {
     "name": "stderr",
     "output_type": "stream",
     "text": [
      "Warning message:\n",
      "“Removed 1 rows containing non-finite values (stat_ydensity).”\n",
      "Warning message:\n",
      "“Removed 1 rows containing missing values (geom_point).”\n"
     ]
    }
   ],
   "source": [
    "ggsave(\"figures/mirna_detection_by_biotype_brain_0.png\",\n",
    "plot = ggplot(cpm2, aes(x=Biosample_type_brain, y=Expressed_miRNAs, fill=Biosample_type_brain)) + \n",
    "  geom_violin(size=0.1) + \n",
    "    geom_jitter(size=0.2,shape=16, position=position_jitter(0.2))+ \n",
    "    theme_minimal() +\n",
    "    theme(axis.text.x = element_text(angle = 45, hjust = 1, size =7)) + \n",
    "    theme(axis.title.x = element_blank())+ ylab(\"MicroRNAs detected     \\nCPM >= 2     \")+\n",
    "    xlab(\"Biosample type\")+ylim(0,600)+\n",
    "    theme(axis.title.y = element_text(size = 7),\n",
    "         axis.text.y = element_text(size =7),\n",
    "         legend.text=element_text(size=7),\n",
    "         legend.title=element_blank(),\n",
    "         axis.ticks.x=element_blank())+\n",
    "    scale_fill_manual(values = c(\"#7680E8\",\"#E39F24\",\"#B0799A\"))+\n",
    "     theme(axis.text.x = element_text(margin = margin(t = -5, r = 0, b = 0, l = 0))) +\n",
    "    theme(legend.position = \"none\"),\n",
    "   #theme(legend.position = c(0.8, 0.85)), \n",
    "       dpi = 1000,\n",
    "       width = 45,\n",
    "       height = 45,\n",
    "       units =\"mm\")"
   ]
  },
  {
   "cell_type": "markdown",
   "metadata": {},
   "source": [
    "## miRNA detection by sample type"
   ]
  },
  {
   "cell_type": "code",
   "execution_count": 17,
   "metadata": {},
   "outputs": [],
   "source": [
    "cpm_tissue = as.data.frame(cpm_func(counts[,colnames(counts) %in% meta$File.accession[meta$Biosample_type_brain == \"Tissue\"]]))\n",
    "expressed=c()\n",
    "for (i in 1:nrow(cpm_tissue)){\n",
    "    if (max(cpm_tissue[i,]) >= 2){\n",
    "        expressed[i] = \"Detected >= 2 CPM\"\n",
    "    } else if (max(cpm_tissue[i,]) > 0) {\n",
    "        expressed[i] = \"Detected\"\n",
    "    } else {\n",
    "        expressed[i] = \"Not detected\"\n",
    "    }\n",
    "    \n",
    "}\n",
    "df = data.frame(expressed = expressed)\n",
    "df$Biosample_type_brain = \"Tissue\"\n",
    "df$expressed = factor(df$expressed, levels = c(\"Not detected\",\"Detected\",\"Detected >= 2 CPM\"))\n",
    "\n",
    "\n",
    "cpm_cells = as.data.frame(cpm_func(counts[,colnames(counts) %in% meta$File.accession[meta$Biosample_type_brain == \"Cell line\"]]))\n",
    "expressed=c()\n",
    "for (i in 1:nrow(cpm_cells)){\n",
    "    if (max(cpm_cells[i,]) >= 2){\n",
    "        expressed[i] = \"Detected >= 2 CPM\"\n",
    "    } else if (max(cpm_cells[i,]) > 0) {\n",
    "        expressed[i] = \"Detected\"\n",
    "    } else {\n",
    "        expressed[i] = \"Not detected\"\n",
    "    }\n",
    "    \n",
    "}\n",
    "df2 = data.frame(expressed = expressed)\n",
    "df2$Biosample_type_brain = \"Cell line\"\n",
    "df2$expressed = factor(df2$expressed, levels = c(\"Not detected\",\"Detected\",\"Detected >= 2 CPM\"))\n",
    "\n",
    "\n",
    "cpm_brain = as.data.frame(cpm_func(counts[,colnames(counts) %in% meta$File.accession[meta$Biosample_type_brain == \"Brain\"]]))\n",
    "expressed=c()\n",
    "for (i in 1:nrow(cpm_brain)){\n",
    "    if (max(cpm_brain[i,]) >= 2){\n",
    "        expressed[i] = \"Detected >= 2 CPM\"\n",
    "    } else if (max(cpm_brain[i,]) > 0) {\n",
    "        expressed[i] = \"Detected\"\n",
    "    } else {\n",
    "        expressed[i] = \"Not detected\"\n",
    "    }\n",
    "    \n",
    "}\n",
    "df3 = data.frame(expressed = expressed)\n",
    "df3$Biosample_type_brain = \"Brain\"\n",
    "df3$expressed = factor(df3$expressed, levels = c(\"Not detected\",\"Detected\",\"Detected >= 2 CPM\"))\n",
    "\n",
    "\n",
    "df = rbind(df,df2,df3)\n",
    "\n",
    "df$Biosample_type_brain = factor(df$Biosample_type_brain, levels = c(\"Brain\",\"Tissue\",\"Cell line\"))\n",
    "\n",
    "ggsave(\"figures/mirna_detection_pct_by_biotype_brain.png\",\n",
    "plot = ggplot(df, aes(x=Biosample_type_brain, fill=expressed)) + \n",
    "    geom_bar(position = \"fill\") + theme_minimal() +\n",
    "    scale_fill_manual(values = c(\"#e4ecf6\",\"#fef0d9\",\"#fdcc8a\")) + \n",
    "    coord_flip() + ylab(\"% of GENCODE V29 microRNAs\") + \n",
    "    theme(axis.title.y = element_blank(),\n",
    "          axis.text.y = element_text(size = 7),\n",
    "          axis.title.x = element_text(size = 7),\n",
    "          legend.text=element_text(size=7),\n",
    "          legend.title=element_blank(),\n",
    "          axis.text.x=element_text(size = 7))+#,\n",
    "          #legend.background = element_rect(color = NA,fill=alpha('white', 1)))+  \n",
    "    theme(legend.key.size = unit(2, 'mm')) +\n",
    "    theme(axis.title.x = element_text(margin = margin(t = 5, r = 0, b = 0, l = 0))) +\n",
    "    scale_y_continuous(labels = scales::percent_format())+\n",
    "    theme(legend.position=\"top\",\n",
    "       legend.justification=\"right\", \n",
    "       legend.box.spacing = unit(0, \"pt\"),# The spacing between the plotting area and the legend box (unit)\n",
    "       legend.margin=margin(0,0,5,0)),# the margin around each legend\n",
    "       dpi = 1000,\n",
    "       width = 80,\n",
    "       height = 40,\n",
    "       units =\"mm\")\n"
   ]
  },
  {
   "cell_type": "markdown",
   "metadata": {},
   "source": [
    "## miRNA detection by sample\n"
   ]
  },
  {
   "cell_type": "code",
   "execution_count": 18,
   "metadata": {},
   "outputs": [],
   "source": [
    "file_to_sample = read.delim(lib_meta_file)\n",
    "meta = left_join(meta, file_to_sample, by = c('File.accession'='ENCODE_file_id'))\n",
    "meta = meta[match(colnames(counts),meta$File.accession),]\n",
    "               \n",
    "# collapse counts per sample\n",
    "counts_collapsed = as.data.frame(t(as.matrix(counts)))\n",
    "counts_collapsed$sample = meta$sample\n",
    "counts_collapsed = ddply(counts_collapsed,\"sample\",numcolwise(sum)) # sum up libraries per sample\n",
    "rn = counts_collapsed$sample\n",
    "counts_collapsed$sample = NULL\n",
    "counts_collapsed = as.matrix(counts_collapsed)\n",
    "rownames(counts_collapsed) = rn\n",
    "counts_collapsed = t(counts_collapsed)\n",
    "\n",
    "cpm_collapsed = as.data.frame(cpm_func(counts_collapsed[rowSums(counts_collapsed) > 0,]))\n",
    "\n",
    "cpm_greaterthan2_func <- function(cpm_0) {\n",
    "  check_max_cpm = max(cpm_0[1,])\n",
    "  for (i in 2:dim(cpm_0)[1]) {\n",
    "    check_max_cpm = c(check_max_cpm, max(cpm_0[i,]))\n",
    "  }\n",
    "  cpm_2 = cpm_0[which(check_max_cpm>2),]\n",
    "  return(cpm_2)\n",
    "}\n",
    "\n",
    "\n",
    "cpm2_collapsed = cpm_greaterthan2_func(cpm_collapsed)\n",
    "\n",
    "df = data.frame(nSample = rowSums(1*(cpm2_collapsed>2)))\n",
    "df$sample = \"all_samples\"\n",
    "\n",
    "options(repr.plot.width = 10, repr.plot.height = 5)\n",
    "\n",
    "ggsave(\"figures/mirna_specificity_cpm2.png\",\n",
    "plot = ggplot(df) + geom_histogram(\n",
    "    position = \"dodge\", aes(x = nSample, fill = sample), \n",
    "    binwidth=2) + \n",
    "    theme_minimal() + \n",
    "    scale_fill_manual(values = c(\"#fdcc8a\")) +\n",
    "    ylab(\"Number of microRNAs\") +\n",
    "    xlab(\"Number of samples\") + \n",
    "    ggtitle(\"Distribution of microRNAs detected >= 2 CPM\")+\n",
    "    theme(legend.key.size = unit(1, 'lines'),\n",
    "          axis.title.x = element_text(size = 8),\n",
    "          axis.text.x = element_text(size = 8),\n",
    "          axis.title.y = element_text(size = 8),\n",
    "          axis.text.y = element_text(size = 8),\n",
    "          legend.text=element_text(size=8),\n",
    "          legend.title=element_blank(),\n",
    "          legend.background = element_rect(color = 'white',fill=alpha('white', 0.5)),  \n",
    "          plot.title = element_text(hjust = 0.5, size = 8))+ \n",
    "           theme(legend.position = c(0.8, 0.7))+ theme(legend.position = \"none\"),\n",
    "       dpi = 1000,\n",
    "       width = 120,\n",
    "       height = 40,\n",
    "       units =\"mm\")"
   ]
  },
  {
   "cell_type": "markdown",
   "metadata": {},
   "source": [
    "## Sample specificity Venn diagram"
   ]
  },
  {
   "cell_type": "code",
   "execution_count": 19,
   "metadata": {},
   "outputs": [
    {
     "name": "stderr",
     "output_type": "stream",
     "text": [
      "Warning message:\n",
      "“attributes are not identical across measure variables;\n",
      "they will be dropped”\n"
     ]
    },
    {
     "data": {
      "text/plain": [
       "NULL"
      ]
     },
     "metadata": {},
     "output_type": "display_data"
    },
    {
     "data": {
      "text/html": [
       "1"
      ],
      "text/latex": [
       "1"
      ],
      "text/markdown": [
       "1"
      ],
      "text/plain": [
       "[1] 1"
      ]
     },
     "metadata": {},
     "output_type": "display_data"
    }
   ],
   "source": [
    "cpm = cpm_func(counts[rowSums(counts)>0,])\n",
    "cpm_long = as.data.frame(cbind(miRNA = rownames(cpm), cpm))\n",
    "cpm_long =  gather(cpm_long, File.accession, cpm, ENCFF006ELI:ENCFF995TKW)\n",
    "cpm_long$cpm = as.numeric(cpm_long$cpm)\n",
    "cpm_long$cpm0 = 1*(cpm_long$cpm > 0)\n",
    "cpm_long$cpm2 = 1*(cpm_long$cpm >= 2)\n",
    "\n",
    "cpm_long = left_join(cpm_long, meta[,c(\"File.accession\",\"Biosample_type_brain\")], by = \"File.accession\")\n",
    "\n",
    "venn_cpm2 = cpm_long[cpm_long$cpm2 > 0,]\n",
    "venn_cpm2$File.accession = NULL\n",
    "venn_cpm2$cpm = NULL\n",
    "venn_cpm2$cpm0 = NULL\n",
    "venn_cpm2 = unique(venn_cpm2)\n",
    "venn_cpm2 = spread(venn_cpm2, key = Biosample_type_brain, value = cpm2)\n",
    "venn_cpm2[is.na(venn_cpm2)] <- 0\n",
    "\n",
    "venn_cpm2_tissue_mirnas = venn_cpm2$miRNA[venn_cpm2$Tissue == 1]\n",
    "\n",
    "venn_cpm2_brain_mirnas = venn_cpm2$miRNA[venn_cpm2$Brain == 1]\n",
    "\n",
    "venn_cpm2_cell_mirnas = venn_cpm2$miRNA[venn_cpm2$`Cell line` == 1]\n",
    "\n",
    "venn_cpm2 = list(Tissue_only = venn_cpm2_tissue_mirnas,\n",
    "                Cells_only = venn_cpm2_cell_mirnas,\n",
    "                Brain_only = venn_cpm2_brain_mirnas)\n",
    "\n",
    "futile.logger::flog.threshold(futile.logger::ERROR, name = \"VennDiagramLogger\")\n",
    "venn.diagram(\n",
    "    x = venn_cpm2,\n",
    "    category.names = c(\"Tissue\",\"Cell line\" ,\"Brain\"),\n",
    "    scaled = FALSE ,\n",
    "    height = 40 , \n",
    "    width = 40 ,\n",
    "    units = \"mm\", \n",
    "    lwd = 2,\n",
    "    lty = 'blank',\n",
    "    fill = c(\"#E39F24\",\"#7680E8\",\"pink\"),\n",
    "    filename = 'figures/cpm2_venn_diagram_brain.png',\n",
    "    output=TRUE,\n",
    "    # Numbers\n",
    "    cex = .6,\n",
    "    fontface = \"bold\",\n",
    "    fontfamily = \"sans\",\n",
    "    # Set names\n",
    "    cat.cex = 0.6,imagetype = \"png\",\n",
    "    cat.fontface = \"bold\",\n",
    "    #cat.default.pos = \"outer\",\n",
    "    cat.pos = c(-30, 30, 0),\n",
    "    cat.dist = c(-0.05, -0.05,-0.36),\n",
    "    cat.fontfamily = \"sans\"\n",
    ")"
   ]
  },
  {
   "cell_type": "markdown",
   "metadata": {},
   "source": [
    "## PCA plot of libraries"
   ]
  },
  {
   "cell_type": "code",
   "execution_count": 25,
   "metadata": {},
   "outputs": [
    {
     "name": "stderr",
     "output_type": "stream",
     "text": [
      "Joining by: File.accession\n",
      "\n",
      "Warning message:\n",
      "“`legend.margin` must be specified using `margin()`. For the old behavior use legend.spacing”\n"
     ]
    }
   ],
   "source": [
    "cpm_greaterthan2_func <- function(cpm_0) {\n",
    "  check_max_cpm = max(cpm_0[1,])\n",
    "  for (i in 2:dim(cpm_0)[1]) {\n",
    "    check_max_cpm = c(check_max_cpm, max(cpm_0[i,]))\n",
    "  }\n",
    "  cpm_2 = cpm_0[which(check_max_cpm>=2),]\n",
    "  return(cpm_2)\n",
    "}\n",
    "\n",
    "cpm2 = cpm_greaterthan2_func(cpm)\n",
    "\n",
    "cpm2_pca <- prcomp(t(log2(cpm2+1)))\n",
    "cpm2_pca_out <- as.data.frame(cpm2_pca$x)\n",
    "cpm2_pca_out$File.accession = rownames(cpm2_pca_out)\n",
    "cpm2_pca_out$var_explained = (cpm2_pca$sdev/sum(cpm2_pca$sdev))*100\n",
    "cpm_2_pca_plus_metadata = join(cpm2_pca_out, meta)\n",
    "cpm_2_pca_plus_metadata$Biosample_type_brain = factor(cpm_2_pca_plus_metadata$Biosample_type_brain,\n",
    "                                                     levels=c(\"Cell line\",\"Tissue\",\"Brain\"))\n",
    "\n",
    "p=ggplot(cpm_2_pca_plus_metadata,\n",
    "       aes(x=PC1,y=PC2,color=Biosample_type_brain)) + geom_point(size = 0.5) + \n",
    "theme_bw() + xlab(paste0(\"PC1 (\", round(cpm_2_pca_plus_metadata$var_explained[1],2), \"%)\"))+ \n",
    "ylab(paste0(\"PC2 (\", round(cpm_2_pca_plus_metadata$var_explained[2],2), \"%)\"))+ \n",
    "theme(panel.grid.major = element_blank(), panel.grid.minor = element_blank())+\n",
    "scale_color_manual(values = c(\"#7680E8\",\"#E39F24\",\"#B0799A\"))+ theme(legend.margin=unit(-0.6,\"cm\"))\n",
    "\n",
    "options(repr.plot.width = 6, repr.plot.height = 5)\n",
    "\n",
    "ggsave(\"figures/mirna_pca.png\",\n",
    "plot = p +\n",
    "  theme(\n",
    "        legend.key.size = unit(0.5, 'lines')) +\n",
    "    theme(legend.text=element_text(size=8),\n",
    "          axis.title.x = element_text(size = 8),\n",
    "          axis.title.y = element_text(size = 8),\n",
    "          legend.title = element_blank(),\n",
    "          axis.ticks.x = element_blank(),\n",
    "          axis.ticks.y = element_blank(),\n",
    "          axis.text.y = element_blank(),\n",
    "          axis.text.x = element_blank(),\n",
    "          plot.title = element_blank())+\n",
    "    theme(plot.margin = unit(c(0,2,1,1), \"mm\"))+ \n",
    "    guides(color = guide_legend(override.aes = list(size=1.5)))+\n",
    "    theme(legend.position = c(0.21, 0.8)),\n",
    "       dpi = 1000,\n",
    "       width = 50,\n",
    "       height = 40,\n",
    "       units =\"mm\") "
   ]
  },
  {
   "cell_type": "code",
   "execution_count": null,
   "metadata": {},
   "outputs": [],
   "source": []
  }
 ],
 "metadata": {
  "kernelspec": {
   "display_name": "R",
   "language": "R",
   "name": "ir"
  },
  "language_info": {
   "codemirror_mode": "r",
   "file_extension": ".r",
   "mimetype": "text/x-r-source",
   "name": "R",
   "pygments_lexer": "r",
   "version": "3.6.1"
  }
 },
 "nbformat": 4,
 "nbformat_minor": 4
}
