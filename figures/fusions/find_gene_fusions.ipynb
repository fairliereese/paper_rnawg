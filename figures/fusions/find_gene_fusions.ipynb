{
 "cells": [
  {
   "cell_type": "code",
   "execution_count": 1,
   "id": "c711a6cc-e326-4061-af4c-186ad4cbb6d6",
   "metadata": {},
   "outputs": [],
   "source": [
    "import pandas as pd\n",
    "import pyranges as pr\n",
    "import sys\n",
    "import os\n",
    "from Bio import SearchIO\n",
    "import yaml\n",
    "from snakemake.io import expand\n",
    "import pdb\n",
    "import swan_vis as swan\n",
    "\n",
    "p = os.path.dirname(os.path.dirname(os.getcwd()))\n",
    "sys.path.append(p)\n",
    "\n",
    "from scripts.utils import *\n",
    "from scripts.plotting import *\n",
    "from scripts.mane_utils import *"
   ]
  },
  {
   "cell_type": "code",
   "execution_count": 2,
   "id": "90a49224-0249-4215-8e56-bd31deae72c6",
   "metadata": {},
   "outputs": [],
   "source": [
    "config_file = '../snakemake/config.yml'\n",
    "with open(config_file) as f:\n",
    "    config = yaml.safe_load(f)"
   ]
  },
  {
   "cell_type": "code",
   "execution_count": 3,
   "id": "12e77f56-fb55-4b5d-b717-c25b29e7c375",
   "metadata": {},
   "outputs": [],
   "source": [
    "ab = '../'+expand(config['data']['ab'], species='human')[0]\n",
    "filt_ab = '../'+expand(config['data']['filt_ab'], species='human')[0]\n",
    "read_annot = '../'+expand(config['data']['read_annot'], species='human')[0]\n",
    "ref_t_metadata = '../'+expand(config['ref']['t_info'], species='human')[0]\n",
    "ref_g_metadata = '../'+expand(config['ref']['g_info'], species='human')[0]\n",
    "t_metadata = '../'+expand(config['ref']['cerberus']['t_info'], species='human')[0]\n",
    "lib_meta = '../'+expand(config['data']['meta'], species='human')[0]\n",
    "swan_file = '../'+expand(config['data']['sg'], species='human')[0]\n",
    "cerberus_h5 = '../'+expand(config['data']['cerb_annot'], species='human')[0]\n",
    "cerb_t_metadata = '../'+expand(config['data']['t_info'], species='human')[0]\n",
    "major_isos = '../'+expand(config['data']['major_isos'], species='human', obs_col='sample')[0]\n",
    "pp_summary = '../'+expand(config['data']['p_pred']['summary'], species='human')[0]\n",
    "\n",
    "ver = 'v40_cerberus'\n",
    "min_tpm = 1\n",
    "gene_subset = 'polya'\n",
    "obs_col = 'sample'\n",
    "\n",
    "m_lib_meta = '../'+expand(config['data']['meta'], species='mouse')[0]\n",
    "m_ab = '../'+expand(config['data']['ab'], species='mouse')[0]\n",
    "m_filt_ab = '../'+expand(config['data']['filt_ab'], species='mouse')[0]\n",
    "m_read_annot = '../'+expand(config['data']['read_annot'], species='mouse')[0]\n",
    "m_ref_t_metadata = '../'+expand(config['ref']['t_info'], species='mouse')[0]\n",
    "m_ref_g_metadata = '../'+expand(config['ref']['g_info'], species='mouse')[0]\n",
    "m_t_metadata = '../'+expand(config['ref']['cerberus']['t_info'], species='mouse')[0]\n",
    "m_lib_meta = '../'+expand(config['data']['meta'], species='mouse')[0]\n",
    "m_swan_file = '../'+expand(config['data']['sg'], species='mouse')[0]\n",
    "m_cerberus_h5 = '../'+expand(config['data']['cerb_annot'], species='mouse')[0]\n",
    "m_cerb_t_metadata = '../'+expand(config['data']['t_info'], species='mouse')[0]\n",
    "m_major_isos = '../'+expand(config['data']['major_isos'], species='mouse', obs_col='sample')[0]\n",
    "m_pp_summary = '../'+expand(config['data']['p_pred']['summary'], species='mouse')[0]\n",
    "\n",
    "\n",
    "mouse_ver = 'vM25_cerberus'"
   ]
  },
  {
   "cell_type": "markdown",
   "id": "c4ea0cf8-7b80-42a4-847b-8c21ef0a1b67",
   "metadata": {},
   "source": [
    "## Save TPMs of transcripts expressed in 16 cell lines"
   ]
  },
  {
   "cell_type": "code",
   "execution_count": 55,
   "id": "67aa2dc2-dd6f-448e-8c0d-0b7b995e9bf0",
   "metadata": {},
   "outputs": [
    {
     "name": "stdout",
     "output_type": "stream",
     "text": [
      "Calculating iso TPM values\n",
      "Subsetting for polya genes\n"
     ]
    },
    {
     "name": "stderr",
     "output_type": "stream",
     "text": [
      "/Users/fairliereese/Documents/programming/mortazavi_lab/data/paper_rnawg/scripts/utils.py:2096: PerformanceWarning: DataFrame is highly fragmented.  This is usually the result of calling `frame.insert` many times, which has poor performance.  Consider joining all columns at once using pd.concat(axis=1) instead.  To get a de-fragmented frame, use `newframe = frame.copy()`\n",
      "  df[tpm_col] = (df[d]*1000000)/df[total_col]\n",
      "/Users/fairliereese/Documents/programming/mortazavi_lab/data/paper_rnawg/scripts/utils.py:2095: PerformanceWarning: DataFrame is highly fragmented.  This is usually the result of calling `frame.insert` many times, which has poor performance.  Consider joining all columns at once using pd.concat(axis=1) instead.  To get a de-fragmented frame, use `newframe = frame.copy()`\n",
      "  df[total_col] = df[d].sum()\n"
     ]
    },
    {
     "name": "stdout",
     "output_type": "stream",
     "text": [
      "Enforcing minimum TPM\n",
      "Total # isos detected: 231136\n",
      "# isos >= 1 tpm: 210239\n",
      "Applying gene type and novelty subset\n",
      "Number of isos reported: 206806\n"
     ]
    }
   ],
   "source": [
    "datasets = get_ljungman_datasets()\n",
    "\n",
    "ab_df = pd.read_csv(filt_ab, sep='\\t')\n",
    "ab_df, _ = get_tpm_table(ab_df,\n",
    "               how='iso',\n",
    "               min_tpm=min_tpm,\n",
    "               gene_subset=gene_subset)\n",
    "ab_df = ab_df[datasets]\n",
    "ab_df.to_csv('transcript_abundance.tsv', sep='\\t')"
   ]
  },
  {
   "cell_type": "markdown",
   "id": "b1a159a6-e930-4bab-8574-97ca4f45df72",
   "metadata": {},
   "source": [
    "## Get transcripts expressed in 16 cell lines"
   ]
  },
  {
   "cell_type": "code",
   "execution_count": 56,
   "id": "9acc9873-fa6e-45e9-b2a3-7941c22fc82c",
   "metadata": {},
   "outputs": [
    {
     "name": "stdout",
     "output_type": "stream",
     "text": [
      "Calculating iso TPM values\n",
      "Subsetting for polya genes\n",
      "Enforcing minimum TPM\n",
      "Total # isos detected: 231136\n",
      "# isos >= 1 tpm: 210239\n",
      "Applying gene type and novelty subset\n",
      "Number of isos reported: 206806\n",
      "Found 138 total libraries\n"
     ]
    }
   ],
   "source": [
    "# get tids that are expressed in ljungman datasets\n",
    "datasets = get_ljungman_datasets()\n",
    "df = pd.read_csv(filt_ab, sep='\\t')\n",
    "df = get_det_table(df,\n",
    "               how='iso',\n",
    "               min_tpm=min_tpm,\n",
    "               gene_subset=gene_subset)"
   ]
  },
  {
   "cell_type": "code",
   "execution_count": 57,
   "id": "c4d93bf6-d4b4-4cda-98ed-4ae1a23fd1fa",
   "metadata": {},
   "outputs": [],
   "source": [
    "# limit to 16 cell lines\n",
    "df = df.loc[datasets]"
   ]
  },
  {
   "cell_type": "code",
   "execution_count": 58,
   "id": "5297dbc0-3253-420f-9215-c924643dc5ca",
   "metadata": {},
   "outputs": [],
   "source": [
    "df = df.transpose()\n",
    "df = df.loc[df.sum(axis=1)>=1]"
   ]
  },
  {
   "cell_type": "code",
   "execution_count": 59,
   "id": "b4d6f9c8-fd5a-452e-82a4-a69ebc2173a4",
   "metadata": {},
   "outputs": [],
   "source": [
    "tids = df.index.tolist()"
   ]
  },
  {
   "cell_type": "markdown",
   "id": "c2ec11f2-c575-4b5a-b6e0-a7d0b59286ef",
   "metadata": {},
   "source": [
    "## Get v29 transcripts"
   ]
  },
  {
   "cell_type": "code",
   "execution_count": 60,
   "id": "bc510b60-b80e-40bd-990c-60ec66c9c4bd",
   "metadata": {},
   "outputs": [],
   "source": [
    "ca = cerberus.read(cerberus_h5)"
   ]
  },
  {
   "cell_type": "code",
   "execution_count": 61,
   "id": "38878795-9313-4a7d-87b6-b49f1703a1e8",
   "metadata": {},
   "outputs": [],
   "source": [
    "ref_df = ca.t_map.loc[ca.t_map.source=='v29']\n",
    "ref_tids = ref_df.transcript_id.unique().tolist()"
   ]
  },
  {
   "cell_type": "markdown",
   "id": "9303e1b9-995d-48fc-9860-e50bb8776f40",
   "metadata": {},
   "source": [
    "## Find transcripts w/ evidence of fusion"
   ]
  },
  {
   "cell_type": "code",
   "execution_count": 62,
   "id": "9f87b1a9-f2f0-403d-b2a7-91e62c80ad73",
   "metadata": {},
   "outputs": [
    {
     "name": "stdout",
     "output_type": "stream",
     "text": [
      "Read in graph from ../data/human/swan_graph.p\n"
     ]
    }
   ],
   "source": [
    "sg = swan.read(swan_file)"
   ]
  },
  {
   "cell_type": "code",
   "execution_count": 63,
   "id": "b9a49270-a7c5-4669-a845-4167d533dc51",
   "metadata": {},
   "outputs": [],
   "source": [
    "# get the edges for each transcript\n",
    "# get the genes associated with each edge\n",
    "# get the transcripts that have edges assc. w/ more than 1 gene"
   ]
  },
  {
   "cell_type": "code",
   "execution_count": 64,
   "id": "60dcfc02-3c5e-447e-b979-be8b106da081",
   "metadata": {},
   "outputs": [],
   "source": [
    "# get a list of exons / introns\n",
    "df = swan.pivot_path_list(sg.t_df, 'path')\n",
    "df.reset_index(inplace=True)\n",
    "df = df.merge(sg.t_df[['gid', 'gname']].reset_index(), on='tid', how='left')"
   ]
  },
  {
   "cell_type": "code",
   "execution_count": 65,
   "id": "6e3f9915-7e4c-4d08-bd12-398f40c27b82",
   "metadata": {},
   "outputs": [],
   "source": [
    "# get a table of edge:gid\n",
    "eg_df = df[['edge_id', 'gid']].drop_duplicates()"
   ]
  },
  {
   "cell_type": "code",
   "execution_count": 66,
   "id": "6cc6fc46-9473-430e-9eaf-27b3696d0ce1",
   "metadata": {},
   "outputs": [],
   "source": [
    "# merge in the edge:gid to the tid:edge table\n",
    "df.drop(['gid', 'gname'], axis=1, inplace=True)\n",
    "df = df.merge(eg_df[['edge_id', 'gid']], how='left', on='edge_id')"
   ]
  },
  {
   "cell_type": "code",
   "execution_count": 67,
   "id": "dcf78f71-a83f-43c1-be80-088bc2183f87",
   "metadata": {},
   "outputs": [],
   "source": [
    "# how many genes are represented by the edges of each transcript?\n",
    "gt_df = df.drop('edge_id', axis=1).copy(deep=True)\n",
    "gt_df = gt_df.groupby('tid').nunique().rename({'gid':'n_genes'}, axis=1).reset_index()\n",
    "\n",
    "# get gene ids and gene names assc. with this as well and merge in\n",
    "temp = df.drop('edge_id', axis=1).copy(deep=True)\n",
    "temp = temp.merge(sg.t_df[['gname', 'gid']].drop_duplicates(), how='left', on='gid').drop_duplicates()\n",
    "temp = temp.groupby('tid').agg(','.join).reset_index()\n",
    "gt_df = gt_df.merge(temp, on='tid', how='left')\n",
    "\n",
    "# limit to transcripts w/ >1 gene\n",
    "gt_df = gt_df.loc[gt_df.n_genes>1]"
   ]
  },
  {
   "cell_type": "code",
   "execution_count": 68,
   "id": "2000c5b8-390a-45af-9c90-b499c6bbe78a",
   "metadata": {},
   "outputs": [],
   "source": [
    "# limit entries in to those expressed in the 16 cell lines\n",
    "gt_df = gt_df.loc[gt_df.tid.isin(tids)]\n",
    "\n",
    "# label v29 annotated transcripts\n",
    "gt_df['Known'] = gt_df.tid.isin(ref_tids)"
   ]
  },
  {
   "cell_type": "code",
   "execution_count": 69,
   "id": "dd4991de-88be-497a-9878-8a97902ccb9d",
   "metadata": {},
   "outputs": [],
   "source": [
    "gt_df.to_csv('spliced_fusion_transcripts.tsv', sep='\\t', index=False)"
   ]
  },
  {
   "cell_type": "markdown",
   "id": "ff996449-f404-4271-b358-8cf18fbbb369",
   "metadata": {},
   "source": [
    "## Get all unspliced transcripts w/ gene name, gene id"
   ]
  },
  {
   "cell_type": "code",
   "execution_count": 70,
   "id": "a13c0e86-4432-44ea-ac81-0f2198cbad29",
   "metadata": {},
   "outputs": [],
   "source": [
    "# label monoexonic transcripts\n",
    "t_df = sg.t_df.copy(deep=True)\n",
    "t_df = t_df[['tid', 'gid', 'gname', 'path']].reset_index(drop=True)\n",
    "t_df['unspliced'] = t_df.apply(lambda x: len(x.path)==1, axis=1)\n",
    "t_df = t_df.loc[t_df.unspliced==True]\n",
    "t_df.set_index('tid', inplace=True)\n",
    "\n",
    "# get edges used in each monoexonic transcript\n",
    "ue_t_df = swan.pivot_path_list(t_df, path_col='path')\n",
    "ue_df = sg.edge_df.loc[ue_t_df.edge_id.tolist()]\n",
    "\n",
    "# add coords for these edges\n",
    "ue_df = ue_df.merge(sg.loc_df[['chrom', 'coord']],\n",
    "            how='left', left_on='v1', right_on='vertex_id')\n",
    "ue_df.rename({'coord': 'start'}, axis=1, inplace=True)\n",
    "ue_df = ue_df.merge(sg.loc_df[['coord']],\n",
    "            how='left', left_on='v2', right_on='vertex_id')\n",
    "ue_df.rename({'coord': 'stop'}, axis=1, inplace=True)\n",
    "ue_df.drop(['v1', 'v2'], axis=1, inplace=True)\n",
    "\n",
    "# merge info in with transcript info\n",
    "ue_t_df.reset_index(inplace=True)\n",
    "ue_t_df = ue_t_df.merge(ue_df, on='edge_id', how='left')\n",
    "ue_t_df = ue_t_df.merge(sg.t_df.reset_index(drop=True)[['tid', 'gid', 'gname']], on='tid', how='left')"
   ]
  },
  {
   "cell_type": "code",
   "execution_count": 71,
   "id": "30267bd9-e116-46a2-8dee-6731a0a9da2d",
   "metadata": {},
   "outputs": [],
   "source": [
    "# limit entries in to those expressed in the 16 cell lines\n",
    "ue_t_df = ue_t_df.loc[ue_t_df.tid.isin(tids)]\n",
    "\n",
    "# label v29 annotated transcripts\n",
    "ue_t_df['Known'] = ue_t_df.tid.isin(ref_tids)"
   ]
  },
  {
   "cell_type": "code",
   "execution_count": 72,
   "id": "9223e303-31ee-43bc-a9f5-2418ae8f9965",
   "metadata": {},
   "outputs": [],
   "source": [
    "ue_t_df.to_csv('unspliced_transcripts.tsv', sep='\\t', index=False)"
   ]
  },
  {
   "cell_type": "code",
   "execution_count": 74,
   "id": "c3eb37c4-6a92-4c23-b784-ffcd658203a6",
   "metadata": {},
   "outputs": [
    {
     "data": {
      "text/html": [
       "<div>\n",
       "<style scoped>\n",
       "    .dataframe tbody tr th:only-of-type {\n",
       "        vertical-align: middle;\n",
       "    }\n",
       "\n",
       "    .dataframe tbody tr th {\n",
       "        vertical-align: top;\n",
       "    }\n",
       "\n",
       "    .dataframe thead th {\n",
       "        text-align: right;\n",
       "    }\n",
       "</style>\n",
       "<table border=\"1\" class=\"dataframe\">\n",
       "  <thead>\n",
       "    <tr style=\"text-align: right;\">\n",
       "      <th></th>\n",
       "      <th>tid</th>\n",
       "      <th>edge_id</th>\n",
       "      <th>strand</th>\n",
       "      <th>edge_type</th>\n",
       "      <th>annotation</th>\n",
       "      <th>chrom</th>\n",
       "      <th>start</th>\n",
       "      <th>stop</th>\n",
       "      <th>gid</th>\n",
       "      <th>gname</th>\n",
       "      <th>Known</th>\n",
       "    </tr>\n",
       "  </thead>\n",
       "  <tbody>\n",
       "    <tr>\n",
       "      <th>0</th>\n",
       "      <td>ENSG00000001460[12,13,1]</td>\n",
       "      <td>947924</td>\n",
       "      <td>-</td>\n",
       "      <td>exon</td>\n",
       "      <td>False</td>\n",
       "      <td>chr1</td>\n",
       "      <td>24357356</td>\n",
       "      <td>24356949</td>\n",
       "      <td>ENSG00000001460</td>\n",
       "      <td>STPG1</td>\n",
       "      <td>False</td>\n",
       "    </tr>\n",
       "    <tr>\n",
       "      <th>3</th>\n",
       "      <td>ENSG00000002834[9,9,1]</td>\n",
       "      <td>974058</td>\n",
       "      <td>+</td>\n",
       "      <td>exon</td>\n",
       "      <td>False</td>\n",
       "      <td>chr17</td>\n",
       "      <td>38919325</td>\n",
       "      <td>38921820</td>\n",
       "      <td>ENSG00000002834</td>\n",
       "      <td>LASP1</td>\n",
       "      <td>False</td>\n",
       "    </tr>\n",
       "    <tr>\n",
       "      <th>4</th>\n",
       "      <td>ENSG00000003249[5,6,1]</td>\n",
       "      <td>339329</td>\n",
       "      <td>-</td>\n",
       "      <td>exon</td>\n",
       "      <td>True</td>\n",
       "      <td>chr16</td>\n",
       "      <td>90007811</td>\n",
       "      <td>90004821</td>\n",
       "      <td>ENSG00000003249</td>\n",
       "      <td>DBNDD1</td>\n",
       "      <td>True</td>\n",
       "    </tr>\n",
       "    <tr>\n",
       "      <th>5</th>\n",
       "      <td>ENSG00000004399[17,17,1]</td>\n",
       "      <td>997925</td>\n",
       "      <td>-</td>\n",
       "      <td>exon</td>\n",
       "      <td>False</td>\n",
       "      <td>chr3</td>\n",
       "      <td>129555524</td>\n",
       "      <td>129555164</td>\n",
       "      <td>ENSG00000004399</td>\n",
       "      <td>PLXND1</td>\n",
       "      <td>False</td>\n",
       "    </tr>\n",
       "    <tr>\n",
       "      <th>6</th>\n",
       "      <td>ENSG00000004487[11,18,1]</td>\n",
       "      <td>287</td>\n",
       "      <td>+</td>\n",
       "      <td>exon</td>\n",
       "      <td>True</td>\n",
       "      <td>chr1</td>\n",
       "      <td>23080823</td>\n",
       "      <td>23083739</td>\n",
       "      <td>ENSG00000004487</td>\n",
       "      <td>KDM1A</td>\n",
       "      <td>True</td>\n",
       "    </tr>\n",
       "  </tbody>\n",
       "</table>\n",
       "</div>"
      ],
      "text/plain": [
       "                        tid edge_id strand edge_type  annotation  chrom  \\\n",
       "0  ENSG00000001460[12,13,1]  947924      -      exon       False   chr1   \n",
       "3    ENSG00000002834[9,9,1]  974058      +      exon       False  chr17   \n",
       "4    ENSG00000003249[5,6,1]  339329      -      exon        True  chr16   \n",
       "5  ENSG00000004399[17,17,1]  997925      -      exon       False   chr3   \n",
       "6  ENSG00000004487[11,18,1]     287      +      exon        True   chr1   \n",
       "\n",
       "       start       stop              gid   gname  Known  \n",
       "0   24357356   24356949  ENSG00000001460   STPG1  False  \n",
       "3   38919325   38921820  ENSG00000002834   LASP1  False  \n",
       "4   90007811   90004821  ENSG00000003249  DBNDD1   True  \n",
       "5  129555524  129555164  ENSG00000004399  PLXND1  False  \n",
       "6   23080823   23083739  ENSG00000004487   KDM1A   True  "
      ]
     },
     "execution_count": 74,
     "metadata": {},
     "output_type": "execute_result"
    }
   ],
   "source": [
    "ue_t_df.head()"
   ]
  },
  {
   "cell_type": "code",
   "execution_count": null,
   "id": "663320e8-5a5f-4544-ad35-86b4c79930d1",
   "metadata": {},
   "outputs": [],
   "source": []
  }
 ],
 "metadata": {
  "kernelspec": {
   "display_name": "Python 3",
   "language": "python",
   "name": "python3"
  },
  "language_info": {
   "codemirror_mode": {
    "name": "ipython",
    "version": 3
   },
   "file_extension": ".py",
   "mimetype": "text/x-python",
   "name": "python",
   "nbconvert_exporter": "python",
   "pygments_lexer": "ipython3",
   "version": "3.7.12"
  }
 },
 "nbformat": 4,
 "nbformat_minor": 5
}
