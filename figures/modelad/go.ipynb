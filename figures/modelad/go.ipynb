{
 "cells": [
  {
   "cell_type": "code",
   "execution_count": 26,
   "id": "a611f9dc-9dcd-4bb6-bc6d-dccde947fb90",
   "metadata": {},
   "outputs": [],
   "source": [
    "import pandas as pd\n",
    "import numpy as np\n",
    "import scipy.stats as st\n",
    "import seaborn as sns\n",
    "import sys\n",
    "import os\n",
    "import gseapy as gp"
   ]
  },
  {
   "cell_type": "code",
   "execution_count": 28,
   "id": "883284fc-68dc-4bda-adfe-1708dc07f35c",
   "metadata": {},
   "outputs": [
    {
     "ename": "AttributeError",
     "evalue": "module 'gseapy.parser' has no attribute 'Biomart'",
     "output_type": "error",
     "traceback": [
      "\u001b[0;31m---------------------------------------------------------------------------\u001b[0m",
      "\u001b[0;31mAttributeError\u001b[0m                            Traceback (most recent call last)",
      "\u001b[0;32m<ipython-input-28-fd61d27efc8c>\u001b[0m in \u001b[0;36m<module>\u001b[0;34m\u001b[0m\n\u001b[1;32m      1\u001b[0m \u001b[0;31m# bm = gp.parser.Biomart()\u001b[0m\u001b[0;34m\u001b[0m\u001b[0;34m\u001b[0m\u001b[0;34m\u001b[0m\u001b[0m\n\u001b[0;32m----> 2\u001b[0;31m \u001b[0mbm\u001b[0m \u001b[0;34m=\u001b[0m \u001b[0mgp\u001b[0m\u001b[0;34m.\u001b[0m\u001b[0mparser\u001b[0m\u001b[0;34m.\u001b[0m\u001b[0mBiomart\u001b[0m\u001b[0;34m(\u001b[0m\u001b[0;34m)\u001b[0m\u001b[0;34m\u001b[0m\u001b[0;34m\u001b[0m\u001b[0m\n\u001b[0m",
      "\u001b[0;31mAttributeError\u001b[0m: module 'gseapy.parser' has no attribute 'Biomart'"
     ]
    }
   ],
   "source": [
    "# bm = gp.parser.Biomart()\n",
    "bm = gp.parser.Biomart()"
   ]
  },
  {
   "cell_type": "code",
   "execution_count": 40,
   "id": "32cc4b91-4690-42c0-ba4a-e1d299b2cfd9",
   "metadata": {},
   "outputs": [],
   "source": [
    "def do_go_thing(fname, p_val_thresh, dpi_thresh, desc):\n",
    "    \n",
    "    df = pd.read_csv(fname, sep='\\t')    \n",
    "    df = df.loc[(df.dpi>=dpi_thresh)&\\\n",
    "            (df.adj_p_val<=p_val_thresh)]\n",
    "    \n",
    "    dbs = ['GO_Biological_Process_2021',\n",
    "           'GO_Cellular_Component_2021',\n",
    "           'GO_Molecular_Function_2021',\n",
    "           'KEGG_2021_Human']\n",
    "    # bm = gp.parser.Biomart()\n",
    "    bm = gp.Biomart()\n",
    "    datasets = bm.get_datasets(mart='ENSEMBL_MART_ENSEMBL')\n",
    "    datasets.loc[datasets.Description.str.contains('Mouse')]\n",
    "    \n",
    "    desc = '{}_genes'.format(desc)\n",
    "    odir = '{}_genes_GO'.format(desc)\n",
    "    gids = df.gid.tolist()\n",
    "    print(len(gids))\n",
    "    gids = bm.query(dataset='mmusculus_gene_ensembl',\n",
    "           attributes=['ensembl_gene_id', 'external_gene_name'],\n",
    "           filters={'ensembl_gene_id': gids})\n",
    "    print(gids.sample(10))\n",
    "    gids = gids.loc[~gids.external_gene_name.isna()]\n",
    "    print(gids[:5])\n",
    "    gnames = gids.external_gene_name.squeeze().str.strip().tolist()\n",
    "    print(gnames[:5])\n",
    "    go = gp.enrichr(gene_list=gnames,\n",
    "                    gene_sets=dbs,\n",
    "                    organism='Mouse',\n",
    "                    description=desc,\n",
    "                    outdir=odir,\n",
    "                    cutoff=0.5)"
   ]
  },
  {
   "cell_type": "code",
   "execution_count": 35,
   "id": "1c7e98b1-b936-4862-9c0d-49d9cac0b292",
   "metadata": {},
   "outputs": [],
   "source": [
    "dpi_thresh = 15\n",
    "p_val_thresh = 0.05"
   ]
  },
  {
   "cell_type": "code",
   "execution_count": 36,
   "id": "98eda4e3-e52a-445a-8fe8-12587d00c4bd",
   "metadata": {},
   "outputs": [],
   "source": [
    "df = pd.read_csv('die_results.tsv', sep='\\t')"
   ]
  },
  {
   "cell_type": "code",
   "execution_count": 37,
   "id": "01daaa8f-9d81-4f66-a584-7bf58222ed79",
   "metadata": {},
   "outputs": [],
   "source": [
    "df = df.loc[df.feat=='iso']\n",
    "df.to_csv('iso_die_results.tsv', sep='\\t', index=False)"
   ]
  },
  {
   "cell_type": "code",
   "execution_count": 41,
   "id": "25322332-44be-4c81-ad78-b6fe4b39018a",
   "metadata": {},
   "outputs": [
    {
     "name": "stdout",
     "output_type": "stream",
     "text": [
      "1173\n",
      "<!DOCTYPE HTML PUBLIC \"-//IETF//DTD HTML 2.0//EN\">\n",
      "<html><head>\n",
      "<title>414 Request-URI Too Large</title>\n",
      "</head><body>\n",
      "<h1>Request-URI Too Large</h1>\n",
      "<p>The requested URL's length exceeds the capacity\n",
      "limit for this server.<br />\n",
      "</p>\n",
      "</body></html>\n",
      "\n"
     ]
    },
    {
     "ename": "AttributeError",
     "evalue": "'str' object has no attribute 'sample'",
     "output_type": "error",
     "traceback": [
      "\u001b[0;31m---------------------------------------------------------------------------\u001b[0m",
      "\u001b[0;31mAttributeError\u001b[0m                            Traceback (most recent call last)",
      "\u001b[0;32m<ipython-input-41-6e2a6ff7971d>\u001b[0m in \u001b[0;36m<module>\u001b[0;34m\u001b[0m\n\u001b[1;32m      4\u001b[0m             \u001b[0mp_val_thresh\u001b[0m\u001b[0;34m,\u001b[0m\u001b[0;34m\u001b[0m\u001b[0;34m\u001b[0m\u001b[0m\n\u001b[1;32m      5\u001b[0m             \u001b[0mdpi_thresh\u001b[0m\u001b[0;34m,\u001b[0m\u001b[0;34m\u001b[0m\u001b[0;34m\u001b[0m\u001b[0m\n\u001b[0;32m----> 6\u001b[0;31m             desc)\n\u001b[0m",
      "\u001b[0;32m<ipython-input-40-553cc6849d26>\u001b[0m in \u001b[0;36mdo_go_thing\u001b[0;34m(fname, p_val_thresh, dpi_thresh, desc)\u001b[0m\n\u001b[1;32m     21\u001b[0m            \u001b[0mattributes\u001b[0m\u001b[0;34m=\u001b[0m\u001b[0;34m[\u001b[0m\u001b[0;34m'ensembl_gene_id'\u001b[0m\u001b[0;34m,\u001b[0m \u001b[0;34m'external_gene_name'\u001b[0m\u001b[0;34m]\u001b[0m\u001b[0;34m,\u001b[0m\u001b[0;34m\u001b[0m\u001b[0;34m\u001b[0m\u001b[0m\n\u001b[1;32m     22\u001b[0m            filters={'ensembl_gene_id': gids})\n\u001b[0;32m---> 23\u001b[0;31m     \u001b[0mprint\u001b[0m\u001b[0;34m(\u001b[0m\u001b[0mgids\u001b[0m\u001b[0;34m.\u001b[0m\u001b[0msample\u001b[0m\u001b[0;34m(\u001b[0m\u001b[0;36m10\u001b[0m\u001b[0;34m)\u001b[0m\u001b[0;34m)\u001b[0m\u001b[0;34m\u001b[0m\u001b[0;34m\u001b[0m\u001b[0m\n\u001b[0m\u001b[1;32m     24\u001b[0m     \u001b[0mgids\u001b[0m \u001b[0;34m=\u001b[0m \u001b[0mgids\u001b[0m\u001b[0;34m.\u001b[0m\u001b[0mloc\u001b[0m\u001b[0;34m[\u001b[0m\u001b[0;34m~\u001b[0m\u001b[0mgids\u001b[0m\u001b[0;34m.\u001b[0m\u001b[0mexternal_gene_name\u001b[0m\u001b[0;34m.\u001b[0m\u001b[0misna\u001b[0m\u001b[0;34m(\u001b[0m\u001b[0;34m)\u001b[0m\u001b[0;34m]\u001b[0m\u001b[0;34m\u001b[0m\u001b[0;34m\u001b[0m\u001b[0m\n\u001b[1;32m     25\u001b[0m     \u001b[0mprint\u001b[0m\u001b[0;34m(\u001b[0m\u001b[0mgids\u001b[0m\u001b[0;34m[\u001b[0m\u001b[0;34m:\u001b[0m\u001b[0;36m5\u001b[0m\u001b[0;34m]\u001b[0m\u001b[0;34m)\u001b[0m\u001b[0;34m\u001b[0m\u001b[0;34m\u001b[0m\u001b[0m\n",
      "\u001b[0;31mAttributeError\u001b[0m: 'str' object has no attribute 'sample'"
     ]
    }
   ],
   "source": [
    "fname = 'iso_die_results.tsv'\n",
    "desc = 'wt_v_5xfad'\n",
    "do_go_thing(fname,\n",
    "            p_val_thresh,\n",
    "            dpi_thresh,\n",
    "            desc)"
   ]
  },
  {
   "cell_type": "code",
   "execution_count": null,
   "id": "3b713c97-8d4b-4fc9-b0e5-b267308b04a2",
   "metadata": {},
   "outputs": [],
   "source": []
  }
 ],
 "metadata": {
  "kernelspec": {
   "display_name": "Python 3",
   "language": "python",
   "name": "python3"
  },
  "language_info": {
   "codemirror_mode": {
    "name": "ipython",
    "version": 3
   },
   "file_extension": ".py",
   "mimetype": "text/x-python",
   "name": "python",
   "nbconvert_exporter": "python",
   "pygments_lexer": "ipython3",
   "version": "3.7.12"
  }
 },
 "nbformat": 4,
 "nbformat_minor": 5
}
