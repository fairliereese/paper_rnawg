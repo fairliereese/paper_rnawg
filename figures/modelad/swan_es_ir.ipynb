{
 "cells": [
  {
   "cell_type": "code",
   "execution_count": 3,
   "id": "83ec4eee-a4fa-4977-885a-54dbddecf345",
   "metadata": {},
   "outputs": [],
   "source": [
    "import pandas as pd\n",
    "import swan_vis as swan"
   ]
  },
  {
   "cell_type": "code",
   "execution_count": 5,
   "id": "fdc39488-77c2-4539-a19a-24e8d92337b2",
   "metadata": {},
   "outputs": [],
   "source": [
    "# run `ir_es.py`"
   ]
  },
  {
   "cell_type": "code",
   "execution_count": 4,
   "id": "46da3303-cda8-40f5-a2a9-d2e11d6fb4be",
   "metadata": {},
   "outputs": [
    {
     "name": "stdout",
     "output_type": "stream",
     "text": [
      "Read in graph from swan_modelad.p\n"
     ]
    }
   ],
   "source": [
    "sg = swan.read('swan_modelad.p')"
   ]
  },
  {
   "cell_type": "code",
   "execution_count": 6,
   "id": "1154092e-e4ad-42fd-ba05-c7d8d1a6b1be",
   "metadata": {},
   "outputs": [
    {
     "data": {
      "text/plain": [
       "103153"
      ]
     },
     "execution_count": 6,
     "metadata": {},
     "output_type": "execute_result"
    }
   ],
   "source": [
    "# transcripts that are expressed in the modelad dataset\n",
    "tids = sg.adata.var.index.tolist()\n",
    "len(tids)"
   ]
  },
  {
   "cell_type": "code",
   "execution_count": 14,
   "id": "3f705036-5dc0-401a-8a11-db1a6a5db5fc",
   "metadata": {},
   "outputs": [
    {
     "name": "stdout",
     "output_type": "stream",
     "text": [
      "Found 1466 novel exon skipping events\n"
     ]
    }
   ],
   "source": [
    "df = pd.read_csv('novel_es_events.tsv', sep='\\t')\n",
    "\n",
    "# limit to expressed transcripts\n",
    "df = df.loc[df.tid.isin(tids)]\n",
    "\n",
    "n = len(df.edge_id.unique())\n",
    "print(f'Found {n} novel exon skipping events')"
   ]
  },
  {
   "cell_type": "code",
   "execution_count": 9,
   "id": "76b39fc0-30f1-47a4-8956-0ebc38907f74",
   "metadata": {},
   "outputs": [
    {
     "data": {
      "text/html": [
       "<div>\n",
       "<style scoped>\n",
       "    .dataframe tbody tr th:only-of-type {\n",
       "        vertical-align: middle;\n",
       "    }\n",
       "\n",
       "    .dataframe tbody tr th {\n",
       "        vertical-align: top;\n",
       "    }\n",
       "\n",
       "    .dataframe thead th {\n",
       "        text-align: right;\n",
       "    }\n",
       "</style>\n",
       "<table border=\"1\" class=\"dataframe\">\n",
       "  <thead>\n",
       "    <tr style=\"text-align: right;\">\n",
       "      <th></th>\n",
       "      <th>Unnamed: 0</th>\n",
       "      <th>gid</th>\n",
       "      <th>tid</th>\n",
       "      <th>edge_id</th>\n",
       "    </tr>\n",
       "  </thead>\n",
       "  <tbody>\n",
       "    <tr>\n",
       "      <th>0</th>\n",
       "      <td>0</td>\n",
       "      <td>ENSMUSG00000033793</td>\n",
       "      <td>ENSMUSG00000033793[1,10,1]</td>\n",
       "      <td>691009</td>\n",
       "    </tr>\n",
       "    <tr>\n",
       "      <th>1</th>\n",
       "      <td>0</td>\n",
       "      <td>ENSMUSG00000033793</td>\n",
       "      <td>ENSMUSG00000033793[1,10,6]</td>\n",
       "      <td>691009</td>\n",
       "    </tr>\n",
       "    <tr>\n",
       "      <th>2</th>\n",
       "      <td>0</td>\n",
       "      <td>ENSMUSG00000033793</td>\n",
       "      <td>ENSMUSG00000033793[1,9,1]</td>\n",
       "      <td>691009</td>\n",
       "    </tr>\n",
       "    <tr>\n",
       "      <th>3</th>\n",
       "      <td>0</td>\n",
       "      <td>ENSMUSG00000033793</td>\n",
       "      <td>ENSMUSG00000033793[1,9,6]</td>\n",
       "      <td>691009</td>\n",
       "    </tr>\n",
       "    <tr>\n",
       "      <th>4</th>\n",
       "      <td>0</td>\n",
       "      <td>ENSMUSG00000025911</td>\n",
       "      <td>ENSMUSG00000025911[1,7,4]</td>\n",
       "      <td>690282</td>\n",
       "    </tr>\n",
       "  </tbody>\n",
       "</table>\n",
       "</div>"
      ],
      "text/plain": [
       "   Unnamed: 0                 gid                         tid  edge_id\n",
       "0           0  ENSMUSG00000033793  ENSMUSG00000033793[1,10,1]   691009\n",
       "1           0  ENSMUSG00000033793  ENSMUSG00000033793[1,10,6]   691009\n",
       "2           0  ENSMUSG00000033793   ENSMUSG00000033793[1,9,1]   691009\n",
       "3           0  ENSMUSG00000033793   ENSMUSG00000033793[1,9,6]   691009\n",
       "4           0  ENSMUSG00000025911   ENSMUSG00000025911[1,7,4]   690282"
      ]
     },
     "execution_count": 9,
     "metadata": {},
     "output_type": "execute_result"
    }
   ],
   "source": [
    "df = pd.read_csv('novel_ir_events.tsv', sep='\\t')\n",
    "\n",
    "# limit to expressed transcripts\n",
    "df = df.loc[df.tid.isin(tids)]\n",
    "\n",
    "n = len(df.edge_id.unique())\n",
    "print(f'Found {n} novel intron retention events')"
   ]
  },
  {
   "cell_type": "code",
   "execution_count": null,
   "id": "1e36dc02-bb61-4e25-a8ac-57f19cc470cb",
   "metadata": {},
   "outputs": [],
   "source": []
  }
 ],
 "metadata": {
  "kernelspec": {
   "display_name": "Python 3",
   "language": "python",
   "name": "python3"
  },
  "language_info": {
   "codemirror_mode": {
    "name": "ipython",
    "version": 3
   },
   "file_extension": ".py",
   "mimetype": "text/x-python",
   "name": "python",
   "nbconvert_exporter": "python",
   "pygments_lexer": "ipython3",
   "version": "3.7.12"
  }
 },
 "nbformat": 4,
 "nbformat_minor": 5
}
