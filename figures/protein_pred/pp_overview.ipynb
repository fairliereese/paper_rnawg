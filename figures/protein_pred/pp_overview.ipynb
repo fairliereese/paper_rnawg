{
 "cells": [
  {
   "cell_type": "code",
   "execution_count": 3,
   "id": "f8d5a371-7520-4342-9a0d-a8bf43e8fbca",
   "metadata": {},
   "outputs": [],
   "source": [
    "import pandas as pd\n",
    "import pyranges as pr\n",
    "import sys\n",
    "import os\n",
    "from Bio import SearchIO\n",
    "import yaml\n",
    "from snakemake.io import expand\n",
    "import pdb\n",
    "import swan_vis as swan\n",
    "\n",
    "p = os.path.dirname(os.path.dirname(os.getcwd()))\n",
    "sys.path.append(p)\n",
    "\n",
    "from scripts.utils import *\n",
    "from scripts.plotting import *\n",
    "from scripts.mane_utils import *"
   ]
  },
  {
   "cell_type": "code",
   "execution_count": 4,
   "id": "a0569d6c-9e6c-440c-83c9-903ea18b9238",
   "metadata": {},
   "outputs": [],
   "source": [
    "config_file = '../snakemake/config.yml'\n",
    "with open(config_file) as f:\n",
    "    config = yaml.safe_load(f)"
   ]
  },
  {
   "cell_type": "code",
   "execution_count": 5,
   "id": "67482374-1fca-4236-89d3-5c7cea8cc194",
   "metadata": {},
   "outputs": [],
   "source": [
    "ab = '../'+expand(config['data']['ab'], species='human')[0]\n",
    "filt_ab = '../'+expand(config['data']['filt_ab'], species='human')[0]\n",
    "read_annot = '../'+expand(config['data']['read_annot'], species='human')[0]\n",
    "ref_t_metadata = '../'+expand(config['ref']['t_info'], species='human')[0]\n",
    "ref_g_metadata = '../'+expand(config['ref']['g_info'], species='human')[0]\n",
    "t_metadata = '../'+expand(config['ref']['cerberus']['t_info'], species='human')[0]\n",
    "lib_meta = '../'+expand(config['data']['meta'], species='human')[0]\n",
    "swan_file = '../'+expand(config['data']['sg'], species='human')[0]\n",
    "cerberus_h5 = '../'+expand(config['data']['cerb_annot'], species='human')[0]\n",
    "cerb_t_metadata = '../'+expand(config['data']['t_info'], species='human')[0]\n",
    "major_isos = '../'+expand(config['data']['major_isos'], species='human', obs_col='sample')[0]\n",
    "orf_fa = '../'+expand(config['data']['p_pred']['orf_fa'], species='human')[0]\n",
    "pp_bed = '../'+expand(config['data']['p_pred']['cds_bed'], species='human')[0]\n",
    "\n",
    "ver = 'v40_cerberus'\n",
    "min_tpm = 1\n",
    "gene_subset = 'protein_coding'\n",
    "obs_col = 'sample'\n",
    "\n",
    "m_lib_meta = '../'+expand(config['data']['meta'], species='mouse')[0]\n",
    "m_ab = '../'+expand(config['data']['ab'], species='mouse')[0]\n",
    "m_filt_ab = '../'+expand(config['data']['filt_ab'], species='mouse')[0]\n",
    "m_read_annot = '../'+expand(config['data']['read_annot'], species='mouse')[0]\n",
    "m_ref_t_metadata = '../'+expand(config['ref']['t_info'], species='mouse')[0]\n",
    "m_ref_g_metadata = '../'+expand(config['ref']['g_info'], species='mouse')[0]\n",
    "m_t_metadata = '../'+expand(config['ref']['cerberus']['t_info'], species='mouse')[0]\n",
    "m_lib_meta = '../'+expand(config['data']['meta'], species='mouse')[0]\n",
    "m_swan_file = '../'+expand(config['data']['sg'], species='mouse')[0]\n",
    "m_cerberus_h5 = '../'+expand(config['data']['cerb_annot'], species='mouse')[0]\n",
    "m_cerb_t_metadata = '../'+expand(config['data']['t_info'], species='mouse')[0]\n",
    "m_major_isos = '../'+expand(config['data']['major_isos'], species='mouse', obs_col='sample')[0]\n",
    "m_orf_fa = '../'+expand(config['data']['p_pred']['orf_fa'], species='mouse')[0]\n",
    "m_pp_bed = '../'+expand(config['data']['p_pred']['cds_bed'], species='mouse')[0]\n",
    "\n",
    "mouse_ver = 'vM25_cerberus'"
   ]
  },
  {
   "cell_type": "markdown",
   "id": "91ee4eba-fa6e-4e36-ac77-0f6d4b8913d6",
   "metadata": {},
   "source": [
    "# Human "
   ]
  },
  {
   "cell_type": "markdown",
   "id": "c2b683a2-8a04-42ac-bd56-794de02c4236",
   "metadata": {},
   "source": [
    "## What % of novel IC protein coding transcripts are predicted to be NMD?"
   ]
  },
  {
   "cell_type": "code",
   "execution_count": 20,
   "id": "a3c9a63e-4906-46ed-8e7c-518ed6dc032c",
   "metadata": {},
   "outputs": [
    {
     "name": "stdout",
     "output_type": "stream",
     "text": [
      "Calculating iso TPM values\n",
      "Subsetting for protein_coding genes\n",
      "Enforcing minimum TPM\n",
      "Total # isos detected: 231136\n",
      "# isos >= 1 tpm: 210239\n",
      "Applying gene type and novelty subset\n",
      "Number of isos reported: 187945\n"
     ]
    },
    {
     "data": {
      "text/plain": [
       "187945"
      ]
     },
     "execution_count": 20,
     "metadata": {},
     "output_type": "execute_result"
    }
   ],
   "source": [
    "ca = cerberus.read(cerberus_h5)\n",
    "df = read_pred(pp_bed)\n",
    "iso_df = pd.read_csv(filt_ab, sep='\\t')\n",
    "iso_df, tids = get_tpm_table(iso_df,\n",
    "                           how='iso',\n",
    "                           min_tpm=min_tpm,\n",
    "                           gene_subset=gene_subset)\n",
    "# get tids for each protein pred\n",
    "df = df.loc[df.tid.isin(tids)]\n",
    "len(df.index)"
   ]
  },
  {
   "cell_type": "code",
   "execution_count": 21,
   "id": "a12f4fcd-d027-4780-a5a4-55becd3d1ebc",
   "metadata": {},
   "outputs": [],
   "source": [
    "feat = 'ic'\n",
    "df = add_feat(df, col='tid', kind=feat)\n",
    "feat_df = get_ca_table(cerberus_h5, feat)\n",
    "feat_df = feat_df[['Name', 'novelty']]\n",
    "feat_df.rename({'novelty': '{}_novelty'.format(feat),\n",
    "                'Name': feat}, axis=1, inplace=True)\n",
    "df = df.merge(feat_df, how='left', on=feat)"
   ]
  },
  {
   "cell_type": "code",
   "execution_count": 26,
   "id": "7f3dcc45-8535-445a-902c-0a5d0a8629cf",
   "metadata": {},
   "outputs": [
    {
     "name": "stdout",
     "output_type": "stream",
     "text": [
      "26.70% (19647/73582) of protein coding transcripts with novel ICs are predicted NMD\n"
     ]
    }
   ],
   "source": [
    "n = len(df.loc[df.ic_novelty != 'Known'].index)\n",
    "n_num = len(df.loc[(df.ic_novelty != 'Known')&(df.nmd == True)].index)\n",
    "print(f'{(n_num/n)*100:.2f}% ({n_num}/{n}) of protein coding transcripts with novel ICs are predicted NMD')"
   ]
  },
  {
   "cell_type": "code",
   "execution_count": 37,
   "id": "3b45cb39-dac7-4e4b-9aeb-b082010bba78",
   "metadata": {},
   "outputs": [
    {
     "name": "stdout",
     "output_type": "stream",
     "text": [
      "21.90% (25494/116395) of novel protein coding transcripts are predicted NMD\n"
     ]
    }
   ],
   "source": [
    "# number of novel transcripts (including 5' / 3' end)\n",
    "refs = ['v40', 'v29']\n",
    "ref = ca.t_map.loc[ca.t_map.source.isin(refs)]\n",
    "ref_tids = ref.transcript_id.unique().tolist()\n",
    "\n",
    "n = len(df.loc[~df.tid.isin(ref_tids)].index)\n",
    "n_num = len(df.loc[~(df.tid.isin(ref_tids))&(df.nmd==True)].index)\n",
    "print(f'{(n_num/n)*100:.2f}% ({n_num}/{n}) of novel protein coding transcripts are predicted NMD')"
   ]
  },
  {
   "cell_type": "markdown",
   "id": "ca2e5664-8b4f-400c-a27c-5dfabdcb479d",
   "metadata": {},
   "source": [
    "## How often does a non-MANE predominant isoform have the same ORF as the MANE isoform?"
   ]
  },
  {
   "cell_type": "code",
   "execution_count": 10,
   "id": "41d0b24f-e192-4f78-8958-b9be60fc15ea",
   "metadata": {},
   "outputs": [
    {
     "name": "stdout",
     "output_type": "stream",
     "text": [
      "Read in graph from ../data/human/swan_graph.p\n"
     ]
    }
   ],
   "source": [
    "sg = swan.read(swan_file)\n",
    "ca = cerberus.read(cerberus_h5)\n",
    "mp_df = get_mp_df_table(sg, ca, \n",
    "                       ref_t_metadata,\n",
    "                       ref_g_metadata,\n",
    "                       'dataset',\n",
    "                       min_tpm,\n",
    "                       feat='triplet')\n",
    "\n",
    "orf_df = read_orf_fa(orf_fa)\n",
    "pp_df = read_pred(pp_bed)"
   ]
  },
  {
   "cell_type": "code",
   "execution_count": 11,
   "id": "c149e50a-3a9e-4c85-8e47-6813a7480fa4",
   "metadata": {},
   "outputs": [],
   "source": [
    "temp = mp_df.merge(orf_df[['tid', 'seq', 'len']],\n",
    "                    how='left',\n",
    "                    left_on='tid_princ',\n",
    "                    right_on='tid',\n",
    "                    suffixes=('', '_orf_princ'))\n",
    "temp = temp.merge(orf_df[['tid', 'seq', 'len']],\n",
    "                    how='left',\n",
    "                    left_on='tid_mane',\n",
    "                    right_on='tid',\n",
    "                    suffixes=('', '_orf_mane'))"
   ]
  },
  {
   "cell_type": "code",
   "execution_count": 12,
   "id": "42edcc0a-f067-448c-b2c6-6208d7920be2",
   "metadata": {},
   "outputs": [],
   "source": [
    "temp = temp.merge(pp_df[['tid', 'nmd']],\n",
    "            how='left', \n",
    "            left_on='tid_princ',\n",
    "            right_on='tid',\n",
    "            suffixes=('', '_pp_princ'))\n",
    "temp = temp.merge(pp_df[['tid', 'nmd']],\n",
    "            how='left', \n",
    "            left_on='tid_mane',\n",
    "            right_on='tid',\n",
    "            suffixes=('', '_pp_mane'))"
   ]
  },
  {
   "cell_type": "code",
   "execution_count": 13,
   "id": "3b49f234-3af6-4f14-be9a-0036f71ef598",
   "metadata": {},
   "outputs": [],
   "source": [
    "temp['triplet_princ_orf_is_mane'] = temp['seq'] == temp['seq_orf_mane']"
   ]
  },
  {
   "cell_type": "code",
   "execution_count": 14,
   "id": "931b56f4-a037-4395-bdb9-75eae996e158",
   "metadata": {},
   "outputs": [
    {
     "name": "stdout",
     "output_type": "stream",
     "text": [
      "37.47% (20114/53686) of non-MANE predominant transcripts have the same ORF as MANE\n"
     ]
    }
   ],
   "source": [
    "n = len(temp.loc[temp.triplet_princ_is_mane==False, 'tid_princ'].unique().tolist())\n",
    "n_num = len(temp.loc[(temp.triplet_princ_is_mane==False)&(temp.triplet_princ_orf_is_mane==True), 'tid_princ'].unique().tolist())\n",
    "print(f'{(n_num/n)*100:.2f}% ({n_num}/{n}) of non-MANE predominant transcripts have the same ORF as MANE')\n"
   ]
  },
  {
   "cell_type": "markdown",
   "id": "b1a07a85-d1e9-4f8a-98ce-db9f96c6fc33",
   "metadata": {},
   "source": [
    "## How often is non-MANE predominant transcript NMD?"
   ]
  },
  {
   "cell_type": "code",
   "execution_count": 15,
   "id": "36b51f49-1e86-4e67-800c-9641a10bf1c7",
   "metadata": {},
   "outputs": [
    {
     "name": "stdout",
     "output_type": "stream",
     "text": [
      "15.25% (8185/53686) of non-MANE predominant transcripts are predicted NMD\n"
     ]
    }
   ],
   "source": [
    "n = len(temp.loc[temp.triplet_princ_is_mane==False, 'tid_princ'].unique().tolist())\n",
    "n_num = len(temp.loc[(temp.triplet_princ_is_mane==False)&(temp.nmd==True), 'tid_princ'].unique().tolist())\n",
    "print(f'{(n_num/n)*100:.2f}% ({n_num}/{n}) of non-MANE predominant transcripts are predicted NMD')\n"
   ]
  },
  {
   "cell_type": "markdown",
   "id": "37d501d8-43cd-45b8-93a4-3c42a3b4e585",
   "metadata": {},
   "source": [
    "# Mouse"
   ]
  },
  {
   "cell_type": "markdown",
   "id": "537b4401-7738-4c8f-8003-5806e44b5467",
   "metadata": {},
   "source": [
    "## What % of novel IC protein coding transcripts are predicted to be NMD?"
   ]
  },
  {
   "cell_type": "code",
   "execution_count": 38,
   "id": "018472b5-7dac-4be6-a90b-5cf555788595",
   "metadata": {},
   "outputs": [
    {
     "name": "stdout",
     "output_type": "stream",
     "text": [
      "Calculating iso TPM values\n",
      "Subsetting for protein_coding genes\n"
     ]
    },
    {
     "name": "stderr",
     "output_type": "stream",
     "text": [
      "/Users/fairliereese/Documents/programming/mortazavi_lab/data/paper_rnawg/scripts/utils.py:2069: PerformanceWarning: DataFrame is highly fragmented.  This is usually the result of calling `frame.insert` many times, which has poor performance.  Consider joining all columns at once using pd.concat(axis=1) instead.  To get a de-fragmented frame, use `newframe = frame.copy()`\n",
      "  df[tpm_col] = (df[d]*1000000)/df[total_col]\n",
      "/Users/fairliereese/Documents/programming/mortazavi_lab/data/paper_rnawg/scripts/utils.py:2068: PerformanceWarning: DataFrame is highly fragmented.  This is usually the result of calling `frame.insert` many times, which has poor performance.  Consider joining all columns at once using pd.concat(axis=1) instead.  To get a de-fragmented frame, use `newframe = frame.copy()`\n",
      "  df[total_col] = df[d].sum()\n"
     ]
    },
    {
     "name": "stdout",
     "output_type": "stream",
     "text": [
      "Enforcing minimum TPM\n",
      "Total # isos detected: 149463\n",
      "# isos >= 1 tpm: 138642\n",
      "Applying gene type and novelty subset\n",
      "Number of isos reported: 127084\n"
     ]
    },
    {
     "data": {
      "text/plain": [
       "127084"
      ]
     },
     "execution_count": 38,
     "metadata": {},
     "output_type": "execute_result"
    }
   ],
   "source": [
    "ca = cerberus.read(m_cerberus_h5)\n",
    "df = read_pred(m_pp_bed)\n",
    "iso_df = pd.read_csv(m_filt_ab, sep='\\t')\n",
    "iso_df, tids = get_tpm_table(iso_df,\n",
    "                           how='iso',\n",
    "                           min_tpm=min_tpm,\n",
    "                           gene_subset=gene_subset,\n",
    "                           species='mouse')\n",
    "# get tids for each protein pred\n",
    "df = df.loc[df.tid.isin(tids)]\n",
    "len(df.index)"
   ]
  },
  {
   "cell_type": "code",
   "execution_count": 39,
   "id": "fd4f28a5-35ce-4e18-9512-14f74e0c8e70",
   "metadata": {},
   "outputs": [],
   "source": [
    "feat = 'ic'\n",
    "df = add_feat(df, col='tid', kind=feat)\n",
    "feat_df = get_ca_table(m_cerberus_h5, feat)\n",
    "feat_df = feat_df[['Name', 'novelty']]\n",
    "feat_df.rename({'novelty': '{}_novelty'.format(feat),\n",
    "                'Name': feat}, axis=1, inplace=True)\n",
    "df = df.merge(feat_df, how='left', on=feat)"
   ]
  },
  {
   "cell_type": "code",
   "execution_count": 40,
   "id": "9f601136-6759-4f8d-846b-dc39628162e9",
   "metadata": {},
   "outputs": [
    {
     "name": "stdout",
     "output_type": "stream",
     "text": [
      "28.86% (14271/49448) of protein coding transcripts with novel ICs are predicted NMD\n"
     ]
    }
   ],
   "source": [
    "n = len(df.loc[df.ic_novelty != 'Known'].index)\n",
    "n_num = len(df.loc[(df.ic_novelty != 'Known')&(df.nmd == True)].index)\n",
    "print(f'{(n_num/n)*100:.2f}% ({n_num}/{n}) of protein coding transcripts with novel ICs are predicted NMD')"
   ]
  },
  {
   "cell_type": "code",
   "execution_count": 41,
   "id": "04b3684d-e013-4155-9485-3c930a2f7d56",
   "metadata": {},
   "outputs": [
    {
     "name": "stdout",
     "output_type": "stream",
     "text": [
      "22.42% (17752/79169) of novel protein coding transcripts are predicted NMD\n"
     ]
    }
   ],
   "source": [
    "# number of novel transcripts (including 5' / 3' end)\n",
    "refs = ['vM21', 'vM25']\n",
    "ref = ca.t_map.loc[ca.t_map.source.isin(refs)]\n",
    "ref_tids = ref.transcript_id.unique().tolist()\n",
    "\n",
    "n = len(df.loc[~df.tid.isin(ref_tids)].index)\n",
    "n_num = len(df.loc[~(df.tid.isin(ref_tids))&(df.nmd==True)].index)\n",
    "print(f'{(n_num/n)*100:.2f}% ({n_num}/{n}) of novel protein coding transcripts are predicted NMD')"
   ]
  }
 ],
 "metadata": {
  "kernelspec": {
   "display_name": "Python 3",
   "language": "python",
   "name": "python3"
  },
  "language_info": {
   "codemirror_mode": {
    "name": "ipython",
    "version": 3
   },
   "file_extension": ".py",
   "mimetype": "text/x-python",
   "name": "python",
   "nbconvert_exporter": "python",
   "pygments_lexer": "ipython3",
   "version": "3.7.12"
  }
 },
 "nbformat": 4,
 "nbformat_minor": 5
}
