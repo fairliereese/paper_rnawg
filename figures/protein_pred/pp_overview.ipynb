{
 "cells": [
  {
   "cell_type": "code",
   "execution_count": 1,
   "id": "f8d5a371-7520-4342-9a0d-a8bf43e8fbca",
   "metadata": {},
   "outputs": [],
   "source": [
    "import pandas as pd\n",
    "import pyranges as pr\n",
    "import sys\n",
    "import os\n",
    "from Bio import SearchIO\n",
    "import yaml\n",
    "from snakemake.io import expand\n",
    "import pdb\n",
    "import swan_vis as swan\n",
    "\n",
    "p = os.path.dirname(os.path.dirname(os.getcwd()))\n",
    "sys.path.append(p)\n",
    "\n",
    "from scripts.utils import *\n",
    "from scripts.plotting import *\n",
    "from scripts.mane_utils import *"
   ]
  },
  {
   "cell_type": "code",
   "execution_count": 2,
   "id": "a0569d6c-9e6c-440c-83c9-903ea18b9238",
   "metadata": {},
   "outputs": [],
   "source": [
    "config_file = '../snakemake/config.yml'\n",
    "with open(config_file) as f:\n",
    "    config = yaml.safe_load(f)"
   ]
  },
  {
   "cell_type": "code",
   "execution_count": 3,
   "id": "67482374-1fca-4236-89d3-5c7cea8cc194",
   "metadata": {},
   "outputs": [],
   "source": [
    "ab = '../'+expand(config['data']['ab'], species='human')[0]\n",
    "filt_ab = '../'+expand(config['data']['filt_ab'], species='human')[0]\n",
    "read_annot = '../'+expand(config['data']['read_annot'], species='human')[0]\n",
    "ref_t_metadata = '../'+expand(config['ref']['t_info'], species='human')[0]\n",
    "ref_g_metadata = '../'+expand(config['ref']['g_info'], species='human')[0]\n",
    "t_metadata = '../'+expand(config['ref']['cerberus']['t_info'], species='human')[0]\n",
    "lib_meta = '../'+expand(config['data']['meta'], species='human')[0]\n",
    "swan_file = '../'+expand(config['data']['sg'], species='human')[0]\n",
    "cerberus_h5 = '../'+expand(config['data']['cerb_annot'], species='human')[0]\n",
    "cerb_t_metadata = '../'+expand(config['data']['t_info'], species='human')[0]\n",
    "major_isos = '../'+expand(config['data']['major_isos'], species='human', obs_col='sample')[0]\n",
    "pp_summary = '../'+expand(config['data']['p_pred']['summary'], species='human')[0]\n",
    "\n",
    "ver = 'v40_cerberus'\n",
    "min_tpm = 1\n",
    "gene_subset = 'protein_coding'\n",
    "obs_col = 'sample'\n",
    "\n",
    "m_lib_meta = '../'+expand(config['data']['meta'], species='mouse')[0]\n",
    "m_ab = '../'+expand(config['data']['ab'], species='mouse')[0]\n",
    "m_filt_ab = '../'+expand(config['data']['filt_ab'], species='mouse')[0]\n",
    "m_read_annot = '../'+expand(config['data']['read_annot'], species='mouse')[0]\n",
    "m_ref_t_metadata = '../'+expand(config['ref']['t_info'], species='mouse')[0]\n",
    "m_ref_g_metadata = '../'+expand(config['ref']['g_info'], species='mouse')[0]\n",
    "m_t_metadata = '../'+expand(config['ref']['cerberus']['t_info'], species='mouse')[0]\n",
    "m_lib_meta = '../'+expand(config['data']['meta'], species='mouse')[0]\n",
    "m_swan_file = '../'+expand(config['data']['sg'], species='mouse')[0]\n",
    "m_cerberus_h5 = '../'+expand(config['data']['cerb_annot'], species='mouse')[0]\n",
    "m_cerb_t_metadata = '../'+expand(config['data']['t_info'], species='mouse')[0]\n",
    "m_major_isos = '../'+expand(config['data']['major_isos'], species='mouse', obs_col='sample')[0]\n",
    "m_pp_summary = '../'+expand(config['data']['p_pred']['summary'], species='mouse')[0]\n",
    "\n",
    "\n",
    "mouse_ver = 'vM25_cerberus'"
   ]
  },
  {
   "cell_type": "markdown",
   "id": "91ee4eba-fa6e-4e36-ac77-0f6d4b8913d6",
   "metadata": {},
   "source": [
    "# Human "
   ]
  },
  {
   "cell_type": "markdown",
   "id": "c2b683a2-8a04-42ac-bd56-794de02c4236",
   "metadata": {},
   "source": [
    "## What % of novel IC protein coding transcripts are predicted to be NMD or non-coding?"
   ]
  },
  {
   "cell_type": "code",
   "execution_count": 4,
   "id": "a341e7ed-126d-4b1e-a251-a15dd9c514b2",
   "metadata": {},
   "outputs": [],
   "source": [
    "def find_pc_tids(h5,\n",
    "                 pp_file,\n",
    "                 filt_ab,\n",
    "                 species,\n",
    "                 min_tpm):\n",
    "    ca = cerberus.read(h5)\n",
    "    df = pd.read_csv(pp_file, sep='\\t')\n",
    "    iso_df = pd.read_csv(filt_ab, sep='\\t')\n",
    "    iso_df, tids = get_tpm_table(iso_df,\n",
    "                               how='iso',\n",
    "                               min_tpm=min_tpm,\n",
    "                               gene_subset=gene_subset,\n",
    "                               species=species)\n",
    "    # get tids for each protein pred\n",
    "    df = df.loc[df.tid.isin(tids)]\n",
    "    len(df.index)\n",
    "    \n",
    "    feat = 'ic'\n",
    "    df = add_feat(df, col='tid', kind=feat)\n",
    "    feat_df = get_ca_table(h5, feat)\n",
    "    feat_df = feat_df[['Name', 'novelty']]\n",
    "    feat_df.rename({'novelty': '{}_novelty'.format(feat),\n",
    "                    'Name': feat}, axis=1, inplace=True)\n",
    "    df = df.merge(feat_df, how='left', on=feat)\n",
    "    \n",
    "    temp = df.loc[df.ic_novelty != 'Known']\n",
    "    n = len(temp.index)\n",
    "    n_num = len(temp.loc[(temp.full_orf == True)&(temp.nmd == False)].index)\n",
    "    print(f'{(n_num/n)*100:.2f}% ({n_num}/{n}) of protein coding transcripts with novel ICs have a full ORF and no NMD')\n",
    "    \n",
    "    if species == 'human':\n",
    "        refs = ['v40', 'v29']\n",
    "    elif species == 'mouse':\n",
    "        refs = ['vM21', 'vM25']\n",
    "    \n",
    "    # number of novel transcripts (including 5' / 3' end)\n",
    "    ref = ca.t_map.loc[ca.t_map.source.isin(refs)]\n",
    "    ref_tids = ref.transcript_id.unique().tolist()\n",
    "    temp = df.loc[~df.tid.isin(ref_tids)]\n",
    "    n = len(temp.index)\n",
    "    n_num = len(temp.loc[(temp.nmd == False)&(temp.full_orf == True)].index)\n",
    "    print(f'{(n_num/n)*100:.2f}% ({n_num}/{n}) of novel protein coding transcripts have a full ORF and no NMD')"
   ]
  },
  {
   "cell_type": "code",
   "execution_count": 5,
   "id": "3a042f55-7779-428a-9f6e-18588f5beca1",
   "metadata": {},
   "outputs": [
    {
     "name": "stdout",
     "output_type": "stream",
     "text": [
      "Calculating iso TPM values\n",
      "Subsetting for protein_coding genes\n"
     ]
    },
    {
     "name": "stderr",
     "output_type": "stream",
     "text": [
      "/Users/fairliereese/Documents/programming/mortazavi_lab/data/paper_rnawg/scripts/utils.py:2069: PerformanceWarning: DataFrame is highly fragmented.  This is usually the result of calling `frame.insert` many times, which has poor performance.  Consider joining all columns at once using pd.concat(axis=1) instead.  To get a de-fragmented frame, use `newframe = frame.copy()`\n",
      "  df[tpm_col] = (df[d]*1000000)/df[total_col]\n",
      "/Users/fairliereese/Documents/programming/mortazavi_lab/data/paper_rnawg/scripts/utils.py:2068: PerformanceWarning: DataFrame is highly fragmented.  This is usually the result of calling `frame.insert` many times, which has poor performance.  Consider joining all columns at once using pd.concat(axis=1) instead.  To get a de-fragmented frame, use `newframe = frame.copy()`\n",
      "  df[total_col] = df[d].sum()\n"
     ]
    },
    {
     "name": "stdout",
     "output_type": "stream",
     "text": [
      "Enforcing minimum TPM\n",
      "Total # isos detected: 231136\n",
      "# isos >= 1 tpm: 210239\n",
      "Applying gene type and novelty subset\n",
      "Number of isos reported: 187945\n",
      "72.59% (53412/73582) of protein coding transcripts with novel ICs have a full ORF and no NMD\n",
      "77.57% (90283/116395) of novel protein coding transcripts have a full ORF and no NMD\n"
     ]
    }
   ],
   "source": [
    "find_pc_tids(cerberus_h5,\n",
    "             pp_summary,\n",
    "             filt_ab,\n",
    "             'human',\n",
    "             min_tpm=min_tpm)"
   ]
  },
  {
   "cell_type": "markdown",
   "id": "ca2e5664-8b4f-400c-a27c-5dfabdcb479d",
   "metadata": {},
   "source": [
    "## How often does a non-MANE predominant isoform have the same ORF as the MANE isoform?"
   ]
  },
  {
   "cell_type": "code",
   "execution_count": 6,
   "id": "537896e8-5b5d-4e15-af08-787b903b7d36",
   "metadata": {},
   "outputs": [],
   "source": [
    "def get_mp_orf_table(sg,\n",
    "                    ca,\n",
    "                    pp_summary,\n",
    "                    ref_t_metadata,\n",
    "                    ref_g_metadata,\n",
    "                    obs_col,\n",
    "                    min_feat_tpm):\n",
    "\n",
    "    mp_df = get_mp_df_table(sg, ca, \n",
    "                           ref_t_metadata,\n",
    "                           ref_g_metadata,\n",
    "                           obs_col,\n",
    "                           min_feat_tpm,\n",
    "                           feat='triplet')\n",
    "\n",
    "    pp_df = pd.read_csv(pp_summary, sep='\\t')\n",
    "\n",
    "    temp = mp_df.merge(pp_df[['tid', 'seq', 'len', 'nmd', 'full_orf']],\n",
    "                        how='left',\n",
    "                        left_on='tid_princ',\n",
    "                        right_on='tid',\n",
    "                        suffixes=('', '_orf_princ'))\n",
    "    temp = temp.merge(pp_df[['tid', 'seq', 'len', 'nmd', 'full_orf']],\n",
    "                        how='left',\n",
    "                        left_on='tid_mane',\n",
    "                        right_on='tid',\n",
    "                        suffixes=('', '_orf_mane'))\n",
    "\n",
    "    return temp"
   ]
  },
  {
   "cell_type": "code",
   "execution_count": 7,
   "id": "45eb0b79-9727-4281-add8-e7e63928e7c1",
   "metadata": {},
   "outputs": [
    {
     "name": "stdout",
     "output_type": "stream",
     "text": [
      "Read in graph from ../data/human/swan_graph.p\n"
     ]
    }
   ],
   "source": [
    "sg = swan.read(swan_file)\n",
    "ca = cerberus.read(cerberus_h5)\n",
    "temp = get_mp_orf_table(sg,\n",
    "                ca,\n",
    "                pp_summary,\n",
    "                ref_t_metadata,\n",
    "                ref_g_metadata,\n",
    "                'dataset',\n",
    "                min_tpm)\n"
   ]
  },
  {
   "cell_type": "code",
   "execution_count": 8,
   "id": "3b49f234-3af6-4f14-be9a-0036f71ef598",
   "metadata": {},
   "outputs": [],
   "source": [
    "temp['triplet_princ_orf_is_mane'] = temp['seq'] == temp['seq_orf_mane']"
   ]
  },
  {
   "cell_type": "code",
   "execution_count": 9,
   "id": "931b56f4-a037-4395-bdb9-75eae996e158",
   "metadata": {},
   "outputs": [
    {
     "name": "stdout",
     "output_type": "stream",
     "text": [
      "18.79% (10086/53686) of non-MANE predominant transcripts have the same ORF as MANE\n"
     ]
    }
   ],
   "source": [
    "n = len(temp.loc[temp.triplet_princ_is_mane==False, 'tid_princ'].unique().tolist())\n",
    "n_num = len(temp.loc[(temp.triplet_princ_is_mane==False)&(temp.triplet_princ_orf_is_mane==True), 'tid_princ'].unique().tolist())\n",
    "print(f'{(n_num/n)*100:.2f}% ({n_num}/{n}) of non-MANE predominant transcripts have the same ORF as MANE')\n"
   ]
  },
  {
   "cell_type": "markdown",
   "id": "b1a07a85-d1e9-4f8a-98ce-db9f96c6fc33",
   "metadata": {},
   "source": [
    "## How often is non-MANE predominant transcript NMD?"
   ]
  },
  {
   "cell_type": "code",
   "execution_count": 10,
   "id": "36b51f49-1e86-4e67-800c-9641a10bf1c7",
   "metadata": {},
   "outputs": [
    {
     "name": "stdout",
     "output_type": "stream",
     "text": [
      "84.40% (45311/53686) of non-MANE predominant transcripts have a full ORF and no NMD\n"
     ]
    }
   ],
   "source": [
    "temp2 = temp.loc[temp.triplet_princ_is_mane==False]\n",
    "n = len(temp2['tid_princ'].unique().tolist())\n",
    "n_num = len(temp2.loc[(temp2.nmd==False)&(temp2.full_orf==True), 'tid_princ'].unique().tolist())\n",
    "print(f'{(n_num/n)*100:.2f}% ({n_num}/{n}) of non-MANE predominant transcripts have a full ORF and no NMD')\n"
   ]
  },
  {
   "cell_type": "markdown",
   "id": "37d501d8-43cd-45b8-93a4-3c42a3b4e585",
   "metadata": {},
   "source": [
    "# Mouse"
   ]
  },
  {
   "cell_type": "markdown",
   "id": "537b4401-7738-4c8f-8003-5806e44b5467",
   "metadata": {},
   "source": [
    "## What % of novel IC protein coding transcripts are predicted to be NMD?"
   ]
  },
  {
   "cell_type": "code",
   "execution_count": 11,
   "id": "9851302c-d5ab-47b8-ba79-9fb7906d3521",
   "metadata": {},
   "outputs": [
    {
     "name": "stdout",
     "output_type": "stream",
     "text": [
      "Calculating iso TPM values\n",
      "Subsetting for protein_coding genes\n",
      "Enforcing minimum TPM\n",
      "Total # isos detected: 149463\n",
      "# isos >= 1 tpm: 138642\n",
      "Applying gene type and novelty subset\n",
      "Number of isos reported: 127084\n",
      "70.58% (34900/49448) of protein coding transcripts with novel ICs have a full ORF and no NMD\n",
      "77.13% (61066/79169) of novel protein coding transcripts have a full ORF and no NMD\n"
     ]
    }
   ],
   "source": [
    "find_pc_tids(m_cerberus_h5,\n",
    "             m_pp_summary,\n",
    "             m_filt_ab,\n",
    "             'mouse',\n",
    "             min_tpm=min_tpm)"
   ]
  }
 ],
 "metadata": {
  "kernelspec": {
   "display_name": "Python 3",
   "language": "python",
   "name": "python3"
  },
  "language_info": {
   "codemirror_mode": {
    "name": "ipython",
    "version": 3
   },
   "file_extension": ".py",
   "mimetype": "text/x-python",
   "name": "python",
   "nbconvert_exporter": "python",
   "pygments_lexer": "ipython3",
   "version": "3.7.12"
  }
 },
 "nbformat": 4,
 "nbformat_minor": 5
}
