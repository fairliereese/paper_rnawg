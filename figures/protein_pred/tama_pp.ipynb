{
 "cells": [
  {
   "cell_type": "code",
   "execution_count": 13,
   "id": "9d732eae-9e29-4a7f-9ff1-368389e57e6d",
   "metadata": {},
   "outputs": [],
   "source": [
    "import pandas as pd\n",
    "import pyranges as pr\n",
    "import sys\n",
    "import os\n",
    "from Bio import SearchIO\n",
    "import yaml\n",
    "from snakemake.io import expand\n",
    "import pdb\n",
    "import swan_vis as swan\n",
    "\n",
    "p = os.path.dirname(os.path.dirname(os.getcwd()))\n",
    "sys.path.append(p)\n",
    "\n",
    "from scripts.utils import *\n",
    "from scripts.plotting import *\n",
    "from scripts.mane_utils import *"
   ]
  },
  {
   "cell_type": "code",
   "execution_count": 14,
   "id": "557af674-0937-401a-adaf-755137b16fa6",
   "metadata": {},
   "outputs": [],
   "source": [
    "config_file = '../snakemake/config.yml'\n",
    "with open(config_file) as f:\n",
    "    config = yaml.safe_load(f)"
   ]
  },
  {
   "cell_type": "code",
   "execution_count": 17,
   "id": "6b68d2bc-cae1-4784-8011-3332ef4ae235",
   "metadata": {},
   "outputs": [],
   "source": [
    "ab = '../'+expand(config['data']['ab'], species='human')[0]\n",
    "filt_ab = '../'+expand(config['data']['filt_ab'], species='human')[0]\n",
    "read_annot = '../'+expand(config['data']['read_annot'], species='human')[0]\n",
    "ref_t_metadata = '../'+expand(config['ref']['t_info'], species='human')[0]\n",
    "ref_g_metadata = '../'+expand(config['ref']['g_info'], species='human')[0]\n",
    "t_metadata = '../'+expand(config['ref']['cerberus']['t_info'], species='human')[0]\n",
    "lib_meta = '../'+expand(config['data']['meta'], species='human')[0]\n",
    "swan_file = '../'+expand(config['data']['sg'], species='human')[0]\n",
    "cerberus_h5 = '../'+expand(config['data']['cerb_annot'], species='human')[0]\n",
    "cerb_t_metadata = '../'+expand(config['data']['t_info'], species='human')[0]\n",
    "major_isos = '../'+expand(config['data']['major_isos'], species='human', obs_col='sample')[0]\n",
    "orf_fa = '../'+expand(config['data']['p_pred']['orf_fa'], species='human')[0]\n",
    "pp_bed = '../'+expand(config['data']['p_pred']['cds_bed'], species='human')[0]\n",
    "\n",
    "ver = 'v40_cerberus'\n",
    "min_tpm = 1\n",
    "gene_subset = 'protein_coding'\n",
    "obs_col = 'sample'\n",
    "\n",
    "m_lib_meta = '../'+expand(config['data']['meta'], species='mouse')[0]\n",
    "m_ab = '../'+expand(config['data']['ab'], species='mouse')[0]\n",
    "m_filt_ab = '../'+expand(config['data']['filt_ab'], species='mouse')[0]\n",
    "m_read_annot = '../'+expand(config['data']['read_annot'], species='mouse')[0]\n",
    "m_ref_t_metadata = '../'+expand(config['ref']['t_info'], species='mouse')[0]\n",
    "m_ref_g_metadata = '../'+expand(config['ref']['g_info'], species='mouse')[0]\n",
    "m_t_metadata = '../'+expand(config['ref']['cerberus']['t_info'], species='mouse')[0]\n",
    "m_lib_meta = '../'+expand(config['data']['meta'], species='mouse')[0]\n",
    "m_swan_file = '../'+expand(config['data']['sg'], species='mouse')[0]\n",
    "m_cerberus_h5 = '../'+expand(config['data']['cerb_annot'], species='mouse')[0]\n",
    "m_cerb_t_metadata = '../'+expand(config['data']['t_info'], species='mouse')[0]\n",
    "m_major_isos = '../'+expand(config['data']['major_isos'], species='mouse', obs_col='sample')[0]\n",
    "m_orf_fa = '../'+expand(config['data']['p_pred']['orf_fa'], species='mouse')[0]\n",
    "m_pp_bed = '../'+expand(config['data']['p_pred']['cds_bed'], species='mouse')[0]\n",
    "\n",
    "mouse_ver = 'vM25_cerberus'"
   ]
  },
  {
   "cell_type": "code",
   "execution_count": null,
   "id": "c94b8835-3c63-45a5-b26c-07ea8971bfb9",
   "metadata": {},
   "outputs": [],
   "source": []
  },
  {
   "cell_type": "code",
   "execution_count": 6,
   "id": "a7fc0ce4-4d3c-4e6b-8774-ff53cb811386",
   "metadata": {},
   "outputs": [
    {
     "data": {
      "text/html": [
       "<div>\n",
       "<style scoped>\n",
       "    .dataframe tbody tr th:only-of-type {\n",
       "        vertical-align: middle;\n",
       "    }\n",
       "\n",
       "    .dataframe tbody tr th {\n",
       "        vertical-align: top;\n",
       "    }\n",
       "\n",
       "    .dataframe thead th {\n",
       "        text-align: right;\n",
       "    }\n",
       "</style>\n",
       "<table border=\"1\" class=\"dataframe\">\n",
       "  <thead>\n",
       "    <tr style=\"text-align: right;\">\n",
       "      <th></th>\n",
       "      <th>id</th>\n",
       "      <th>tid</th>\n",
       "      <th>seq</th>\n",
       "      <th>len</th>\n",
       "    </tr>\n",
       "  </thead>\n",
       "  <tbody>\n",
       "    <tr>\n",
       "      <th>0</th>\n",
       "      <td>&gt;ENSG00000000460.16;ENSG00000000460[3,10,3];NA...</td>\n",
       "      <td>ENSG00000000460[3,10,3]</td>\n",
       "      <td>MSQEGAVPASAVPLEELSSWPEELCRRELPSVLPRLLSLSQHSDSW...</td>\n",
       "      <td>911</td>\n",
       "    </tr>\n",
       "    <tr>\n",
       "      <th>1</th>\n",
       "      <td>&gt;ENSG00000000460.16;ENSG00000000460[3,10,3];NA...</td>\n",
       "      <td>ENSG00000000460[3,10,3]</td>\n",
       "      <td>SFLSHHAARLGVTSGCRSRNKSDPRSGDFWPSPPHLNVMFTVIQTW...</td>\n",
       "      <td>157</td>\n",
       "    </tr>\n",
       "    <tr>\n",
       "      <th>2</th>\n",
       "      <td>&gt;ENSG00000000460.16;ENSG00000000460[3,10,3];NA...</td>\n",
       "      <td>ENSG00000000460[3,10,3]</td>\n",
       "      <td>MFTVIQTWGCLLPDVSWDRASEKAHLTTPPPDLNRAPVSRVLQGLE...</td>\n",
       "      <td>119</td>\n",
       "    </tr>\n",
       "    <tr>\n",
       "      <th>3</th>\n",
       "      <td>&gt;ENSG00000000460.16;ENSG00000000460[3,10,3];NA...</td>\n",
       "      <td>ENSG00000000460[3,10,3]</td>\n",
       "      <td>MHRIMLTTDYFRKHSNCVVFLPTPFCTTLRNFFLSSLILAVLCTNC...</td>\n",
       "      <td>70</td>\n",
       "    </tr>\n",
       "    <tr>\n",
       "      <th>4</th>\n",
       "      <td>&gt;ENSG00000000460.16;ENSG00000000460[1,10,3];NA...</td>\n",
       "      <td>ENSG00000000460[1,10,3]</td>\n",
       "      <td>PLYGFGAGGERARVGGTASFRSGLWRVWFEALLFDESMSQEGAVPA...</td>\n",
       "      <td>948</td>\n",
       "    </tr>\n",
       "  </tbody>\n",
       "</table>\n",
       "</div>"
      ],
      "text/plain": [
       "                                                  id                      tid  \\\n",
       "0  >ENSG00000000460.16;ENSG00000000460[3,10,3];NA...  ENSG00000000460[3,10,3]   \n",
       "1  >ENSG00000000460.16;ENSG00000000460[3,10,3];NA...  ENSG00000000460[3,10,3]   \n",
       "2  >ENSG00000000460.16;ENSG00000000460[3,10,3];NA...  ENSG00000000460[3,10,3]   \n",
       "3  >ENSG00000000460.16;ENSG00000000460[3,10,3];NA...  ENSG00000000460[3,10,3]   \n",
       "4  >ENSG00000000460.16;ENSG00000000460[1,10,3];NA...  ENSG00000000460[1,10,3]   \n",
       "\n",
       "                                                 seq  len  \n",
       "0  MSQEGAVPASAVPLEELSSWPEELCRRELPSVLPRLLSLSQHSDSW...  911  \n",
       "1  SFLSHHAARLGVTSGCRSRNKSDPRSGDFWPSPPHLNVMFTVIQTW...  157  \n",
       "2  MFTVIQTWGCLLPDVSWDRASEKAHLTTPPPDLNRAPVSRVLQGLE...  119  \n",
       "3  MHRIMLTTDYFRKHSNCVVFLPTPFCTTLRNFFLSSLILAVLCTNC...   70  \n",
       "4  PLYGFGAGGERARVGGTASFRSGLWRVWFEALLFDESMSQEGAVPA...  948  "
      ]
     },
     "execution_count": 6,
     "metadata": {},
     "output_type": "execute_result"
    }
   ],
   "source": [
    "df = read_pred(pp_bed)\n",
    "df = read_orf_fa(orf_fa)\n",
    "\n",
    "df.head()"
   ]
  },
  {
   "cell_type": "code",
   "execution_count": 7,
   "id": "34ccf681-2d5e-45b1-9659-eb9feb36c71a",
   "metadata": {},
   "outputs": [
    {
     "name": "stdout",
     "output_type": "stream",
     "text": [
      "Calculating iso TPM values\n",
      "Subsetting for protein_coding genes\n"
     ]
    },
    {
     "name": "stderr",
     "output_type": "stream",
     "text": [
      "/Users/fairliereese/Documents/programming/mortazavi_lab/data/paper_rnawg/scripts/utils.py:2069: PerformanceWarning: DataFrame is highly fragmented.  This is usually the result of calling `frame.insert` many times, which has poor performance.  Consider joining all columns at once using pd.concat(axis=1) instead.  To get a de-fragmented frame, use `newframe = frame.copy()`\n",
      "  df[tpm_col] = (df[d]*1000000)/df[total_col]\n",
      "/Users/fairliereese/Documents/programming/mortazavi_lab/data/paper_rnawg/scripts/utils.py:2068: PerformanceWarning: DataFrame is highly fragmented.  This is usually the result of calling `frame.insert` many times, which has poor performance.  Consider joining all columns at once using pd.concat(axis=1) instead.  To get a de-fragmented frame, use `newframe = frame.copy()`\n",
      "  df[total_col] = df[d].sum()\n"
     ]
    },
    {
     "name": "stdout",
     "output_type": "stream",
     "text": [
      "Enforcing minimum TPM\n",
      "Total # isos detected: 231136\n",
      "# isos >= 1 tpm: 210239\n",
      "Applying gene type and novelty subset\n",
      "Number of isos reported: 187945\n"
     ]
    },
    {
     "data": {
      "text/plain": [
       "187945"
      ]
     },
     "execution_count": 7,
     "metadata": {},
     "output_type": "execute_result"
    }
   ],
   "source": [
    "iso_df = pd.read_csv(filt_ab, sep='\\t')\n",
    "iso_df, tids = get_tpm_table(iso_df,\n",
    "                           how='iso',\n",
    "                           min_tpm=min_tpm,\n",
    "                           gene_subset=gene_subset)\n",
    "len(tids)"
   ]
  },
  {
   "cell_type": "code",
   "execution_count": 8,
   "id": "4bc50483-ce1b-4f3e-90a4-89a1f5c4740b",
   "metadata": {},
   "outputs": [
    {
     "data": {
      "text/plain": [
       "770999"
      ]
     },
     "execution_count": 8,
     "metadata": {},
     "output_type": "execute_result"
    }
   ],
   "source": [
    "# get tids for each protein pred\n",
    "df = df.loc[df.tid.isin(tids)]\n",
    "len(df.index)"
   ]
  },
  {
   "cell_type": "code",
   "execution_count": null,
   "id": "f47ef567-3dac-477b-b115-88d02ffa1fa3",
   "metadata": {},
   "outputs": [],
   "source": [
    "ca = cerberus.read(cerberus_h5)"
   ]
  },
  {
   "cell_type": "code",
   "execution_count": null,
   "id": "4f6361b5-ccd0-45c0-b7b9-b7fcbfabb36f",
   "metadata": {},
   "outputs": [],
   "source": [
    "sg = swan.read(swan_file)"
   ]
  },
  {
   "cell_type": "code",
   "execution_count": null,
   "id": "a48ab684-6155-4c59-ba6b-cbd23ba48255",
   "metadata": {},
   "outputs": [],
   "source": [
    "# get the acta1 transcripts from heart\n",
    "def get_isos(ca, filt_ab, gene, sample, species):\n",
    "    df = pd.read_csv(filt_ab, sep='\\t')\n",
    "    df = get_det_table(df,\n",
    "                   groupby='sample',\n",
    "                   how='iso',\n",
    "                   min_tpm=1,\n",
    "                   gene_subset='polya',\n",
    "                   species=species)\n",
    "    df = df.loc[sample]\n",
    "    df = df.to_frame()\n",
    "    df = df.loc[df[sample]==True]\n",
    "    gid = ca.triplets.loc[ca.triplets.gname==gene, 'gid'].values[0]\n",
    "    df.reset_index(inplace=True)\n",
    "    df['gid'] = df['index'].str.split('[', expand=True)[0]\n",
    "    df = df.loc[df.gid == gid]\n",
    "    tids = df['index'].tolist()\n",
    "    return tids\n",
    "\n",
    "def get_tpm_df(sg, tids, obs_col, obs_condition):\n",
    "    # get tpm df\n",
    "    tpm_df = swan.calc_tpm(sg.adata, obs_col=obs_col).sparse.to_dense()\n",
    "    tpm_df = tpm_df.transpose()\n",
    "    tpm_df = tpm_df.loc[tids, obs_condition].to_frame()\n",
    "    return tpm_df\n"
   ]
  },
  {
   "cell_type": "code",
   "execution_count": null,
   "id": "5613a76e-54df-43e4-99a1-757f28b7acf2",
   "metadata": {},
   "outputs": [],
   "source": [
    "obs_condition = 'heart'\n",
    "tids = get_isos(ca, filt_ab, 'ACTA1', obs_condition, 'human')\n",
    "tpm_df = get_tpm_df(sg, tids, obs_col, obs_condition)\n",
    "tpm_df = tpm_df.sort_values(by=obs_condition, ascending=False)\n"
   ]
  },
  {
   "cell_type": "code",
   "execution_count": null,
   "id": "68f9469a-6d9d-4dbc-8a00-918937753f71",
   "metadata": {},
   "outputs": [],
   "source": [
    "tpm_df.head()\n",
    "tids = tpm_df.index.tolist()"
   ]
  },
  {
   "cell_type": "code",
   "execution_count": null,
   "id": "523e2987-8754-4bf4-adb9-bbfb45037037",
   "metadata": {},
   "outputs": [],
   "source": [
    "# df.set_index('tid', inplace=True)\n",
    "df.loc[tids][['CDS_Start', 'CDS_Stop', 'frame', 'nmd']]"
   ]
  },
  {
   "cell_type": "code",
   "execution_count": null,
   "id": "50d6b15b-4a2b-4344-a510-0cad361dc24a",
   "metadata": {},
   "outputs": [],
   "source": [
    "a_df = df.loc[df.tid.isin(tids)]\n",
    "a_df[['tid', 'CDS_Start', 'CDS_Stop', 'frame', 'nmd']].sort_values(['CDS_Start', 'frame'])\n"
   ]
  },
  {
   "cell_type": "markdown",
   "id": "402f93e3-85b6-41b3-a158-2ba9f55442a0",
   "metadata": {},
   "source": [
    "## Okay, what are the actual ORF sequences for all these ACTA transcripts?"
   ]
  },
  {
   "cell_type": "code",
   "execution_count": null,
   "id": "95a9b464-6c36-46a3-9bc5-0e83c3240d7c",
   "metadata": {},
   "outputs": [],
   "source": [
    "df = read_orf_fa(orf_fa)\n",
    "# df.set_index('tid', inplace=True)"
   ]
  },
  {
   "cell_type": "code",
   "execution_count": null,
   "id": "d3193bd6-4a5b-44ee-9d30-1bbbed1c7927",
   "metadata": {},
   "outputs": [],
   "source": [
    "len(tids)\n",
    "tids"
   ]
  },
  {
   "cell_type": "code",
   "execution_count": null,
   "id": "20b011a5-681e-49bf-8593-0777b4e74f40",
   "metadata": {},
   "outputs": [],
   "source": [
    "# df.loc[tids][['seq', 'len']]\n",
    "temp = df.sort_values(by='len', ascending=False).drop_duplicates(subset='tid', keep='first')\n",
    "temp.set_index('tid', inplace=True)\n",
    "temp.loc[tids][['seq', 'len']]"
   ]
  },
  {
   "cell_type": "code",
   "execution_count": null,
   "id": "aad98a55-3f5c-4c03-bcac-d4d7efb5dbc9",
   "metadata": {},
   "outputs": [],
   "source": [
    "mane_orf = temp.loc['ENSG00000143632[1,1,1]', 'seq']\n",
    "temp['mane_orf'] = temp.seq==mane_orf"
   ]
  },
  {
   "cell_type": "code",
   "execution_count": null,
   "id": "42f17d4b-910f-4bf6-857a-4a8e9fcd1ac5",
   "metadata": {},
   "outputs": [],
   "source": [
    "temp = temp.merge(a_df, how='left', left_index=True, right_on='tid')"
   ]
  },
  {
   "cell_type": "code",
   "execution_count": null,
   "id": "0c706de0-fd31-49e9-8c3c-8186ddc52c93",
   "metadata": {},
   "outputs": [],
   "source": [
    "temp.set_index('tid', inplace=True)"
   ]
  },
  {
   "cell_type": "code",
   "execution_count": null,
   "id": "b909413a-a8fb-47f4-9139-5e4839a2797e",
   "metadata": {},
   "outputs": [],
   "source": [
    "temp.loc[tids][['seq', 'len', 'mane_orf', 'CDS_Start', 'CDS_Stop', 'frame', 'nmd']]"
   ]
  },
  {
   "cell_type": "code",
   "execution_count": null,
   "id": "ccd36467-24bd-40cd-a423-fa8ba79779f9",
   "metadata": {},
   "outputs": [],
   "source": [
    "# plot some isoforms using swan\n",
    "tid = 'ENSG00000143632[1,1,1]' \n",
    "sg.plot_transcript_path(tid, indicate_novel=True)"
   ]
  },
  {
   "cell_type": "code",
   "execution_count": null,
   "id": "01390f33-8566-4df7-bca2-2ad396d3b0f6",
   "metadata": {},
   "outputs": [],
   "source": [
    "tid = 'ENSG00000143632[1,7,1]'\n",
    "sg.plot_transcript_path(tid, indicate_novel=True)"
   ]
  },
  {
   "cell_type": "code",
   "execution_count": null,
   "id": "1f4150e5-6260-4acd-91cf-dbbfdd1c913a",
   "metadata": {},
   "outputs": [],
   "source": [
    "tid = 'ENSG00000143632[1,6,1]'\n",
    "sg.plot_transcript_path(tid, indicate_novel=True)"
   ]
  },
  {
   "cell_type": "markdown",
   "id": "61614f98-63ed-4464-b5b6-4461cac043e8",
   "metadata": {},
   "source": [
    "## What % of novel IC transcripts are predicted to be NMD?"
   ]
  },
  {
   "cell_type": "code",
   "execution_count": 9,
   "id": "5063be79-dcce-4bf6-b5eb-4bf61b0f463f",
   "metadata": {},
   "outputs": [],
   "source": [
    "ca = cerberus.read(cerberus_h5)"
   ]
  },
  {
   "cell_type": "code",
   "execution_count": 4,
   "id": "f71c396e-9cf5-4420-9382-d93eaa37205d",
   "metadata": {},
   "outputs": [
    {
     "name": "stdout",
     "output_type": "stream",
     "text": [
      "Calculating iso TPM values\n",
      "Subsetting for protein_coding genes\n"
     ]
    },
    {
     "name": "stderr",
     "output_type": "stream",
     "text": [
      "/Users/fairliereese/Documents/programming/mortazavi_lab/data/paper_rnawg/scripts/utils.py:2069: PerformanceWarning: DataFrame is highly fragmented.  This is usually the result of calling `frame.insert` many times, which has poor performance.  Consider joining all columns at once using pd.concat(axis=1) instead.  To get a de-fragmented frame, use `newframe = frame.copy()`\n",
      "  df[tpm_col] = (df[d]*1000000)/df[total_col]\n",
      "/Users/fairliereese/Documents/programming/mortazavi_lab/data/paper_rnawg/scripts/utils.py:2068: PerformanceWarning: DataFrame is highly fragmented.  This is usually the result of calling `frame.insert` many times, which has poor performance.  Consider joining all columns at once using pd.concat(axis=1) instead.  To get a de-fragmented frame, use `newframe = frame.copy()`\n",
      "  df[total_col] = df[d].sum()\n"
     ]
    },
    {
     "name": "stdout",
     "output_type": "stream",
     "text": [
      "Enforcing minimum TPM\n",
      "Total # isos detected: 231136\n",
      "# isos >= 1 tpm: 210239\n",
      "Applying gene type and novelty subset\n",
      "Number of isos reported: 187945\n"
     ]
    },
    {
     "data": {
      "text/plain": [
       "187945"
      ]
     },
     "execution_count": 4,
     "metadata": {},
     "output_type": "execute_result"
    }
   ],
   "source": [
    "df = read_pred(pp_bed)\n",
    "iso_df = pd.read_csv(filt_ab, sep='\\t')\n",
    "iso_df, tids = get_tpm_table(iso_df,\n",
    "                           how='iso',\n",
    "                           min_tpm=min_tpm,\n",
    "                           gene_subset=gene_subset)\n",
    "# get tids for each protein pred\n",
    "df = df.loc[df.tid.isin(tids)]\n",
    "len(df.index)"
   ]
  },
  {
   "cell_type": "code",
   "execution_count": 5,
   "id": "ebf9311d-2ab6-4129-bad7-065c3b8b8bca",
   "metadata": {},
   "outputs": [],
   "source": [
    "for feat in ['tss', 'ic', 'tes']:\n",
    "    df = add_feat(df, col='tid', kind=feat)\n",
    "    feat_df = get_ca_table(cerberus_h5, feat)\n",
    "    feat_df = feat_df[['Name', 'novelty']]\n",
    "    feat_df.rename({'novelty': '{}_novelty'.format(feat),\n",
    "                    'Name': feat}, axis=1, inplace=True)\n",
    "    df = df.merge(feat_df, how='left', on=feat)"
   ]
  },
  {
   "cell_type": "code",
   "execution_count": 7,
   "id": "2e61d631-fb9b-463b-a7db-7498d204c560",
   "metadata": {},
   "outputs": [
    {
     "name": "stdout",
     "output_type": "stream",
     "text": [
      "26.70% (19647/73582) of transcripts with novel ICs are predicted NMD\n"
     ]
    }
   ],
   "source": [
    "n = len(df.loc[df.ic_novelty != 'Known'].index)\n",
    "n_num = len(df.loc[(df.ic_novelty != 'Known')&(df.nmd == True)].index)\n",
    "print(f'{(n_num/n)*100:.2f}% ({n_num}/{n}) of protein coding transcripts with novel ICs are predicted NMD')"
   ]
  },
  {
   "cell_type": "code",
   "execution_count": 10,
   "id": "b8225aea-85b5-4ed8-86c6-31b573772a6e",
   "metadata": {},
   "outputs": [
    {
     "name": "stdout",
     "output_type": "stream",
     "text": [
      "18.83% (13475/71550) of novel transcripts are predicted NMD\n"
     ]
    }
   ],
   "source": [
    "# number of novel transcripts (including 5' / 3' end)\n",
    "refs = ['v40', 'v29']\n",
    "ref = ca.t_map.loc[ca.t_map.source.isin(refs)]\n",
    "ref_tids = ref.transcript_id.unique().tolist()\n",
    "\n",
    "n = len(df.loc[df.tid.isin(ref_tids)].index)\n",
    "n_num = len(df.loc[(df.tid.isin(ref_tids))&(df.nmd==True)].index)\n",
    "print(f'{(n_num/n)*100:.2f}% ({n_num}/{n}) of protein coding novel transcripts are predicted NMD')"
   ]
  },
  {
   "cell_type": "markdown",
   "id": "08317b14-c51d-4a8c-be26-02f744e685e4",
   "metadata": {},
   "source": [
    "## How often does a non-MANE predominant isoform have the same ORF as the MANE isoform?"
   ]
  },
  {
   "cell_type": "code",
   "execution_count": 11,
   "id": "462e28c2-ca30-4bfe-bfdb-acb7a9a394ce",
   "metadata": {},
   "outputs": [
    {
     "name": "stdout",
     "output_type": "stream",
     "text": [
      "Read in graph from ../data/human/swan_graph.p\n"
     ]
    }
   ],
   "source": [
    "sg = swan.read(swan_file)\n",
    "ca = cerberus.read(cerberus_h5)\n",
    "mp_df = get_mp_df_table(sg, ca, \n",
    "                       ref_t_metadata,\n",
    "                       ref_g_metadata,\n",
    "                       'dataset',\n",
    "                       min_tpm,\n",
    "                       feat='triplet')\n",
    "\n",
    "orf_df = read_orf_fa(orf_fa)\n",
    "pp_df = read_pred(pp_bed)"
   ]
  },
  {
   "cell_type": "code",
   "execution_count": 12,
   "id": "4fc7af61-d829-499c-9724-7206274282f5",
   "metadata": {},
   "outputs": [],
   "source": [
    "temp = mp_df.merge(orf_df[['tid', 'seq', 'len']],\n",
    "                    how='left',\n",
    "                    left_on='tid_princ',\n",
    "                    right_on='tid',\n",
    "                    suffixes=('', '_orf_princ'))\n",
    "temp = temp.merge(orf_df[['tid', 'seq', 'len']],\n",
    "                    how='left',\n",
    "                    left_on='tid_mane',\n",
    "                    right_on='tid',\n",
    "                    suffixes=('', '_orf_mane'))"
   ]
  },
  {
   "cell_type": "code",
   "execution_count": 45,
   "id": "46dc4fc4-c18b-418a-9247-47760f0d400e",
   "metadata": {},
   "outputs": [],
   "source": [
    "temp = temp.merge(pp_df[['tid', 'nmd']],\n",
    "            how='left', \n",
    "            left_on='tid_princ',\n",
    "            right_on='tid',\n",
    "            suffixes=('', '_pp_princ'))\n",
    "temp = temp.merge(pp_df[['tid', 'nmd']],\n",
    "            how='left', \n",
    "            left_on='tid_mane',\n",
    "            right_on='tid',\n",
    "            suffixes=('', '_pp_mane'))"
   ]
  },
  {
   "cell_type": "code",
   "execution_count": 47,
   "id": "3803e064-9e9a-48ab-b12c-8bdb5116538a",
   "metadata": {},
   "outputs": [],
   "source": [
    "temp['triplet_princ_orf_is_mane'] = temp['seq'] == temp['seq_orf_mane']"
   ]
  },
  {
   "cell_type": "code",
   "execution_count": 49,
   "id": "0a05cec8-a2e8-43a0-94a0-2750e0de54c3",
   "metadata": {},
   "outputs": [
    {
     "data": {
      "text/plain": [
       "Index(['tid_princ', 'dataset', 'triplet_tpm_princ', 'triplet_pi_princ', 'gid',\n",
       "       'gname', 'triplet_rank_princ', 'tid_mane', 'triplet_tpm_mane',\n",
       "       'triplet_pi_mane', 'triplet_rank_mane', 'tid_sec', 'triplet_tpm_sec',\n",
       "       'triplet_pi_sec', 'triplet_rank_sec', 'triplet_princ_is_mane',\n",
       "       'triplet_sec_is_mane', 'tid', 'seq', 'len', 'tid_orf_mane',\n",
       "       'seq_orf_mane', 'len_orf_mane', 'tid_pp_princ', 'nmd', 'tid_pp_mane',\n",
       "       'nmd_pp_mane', 'triplet_princ_orf_is_mane'],\n",
       "      dtype='object')"
      ]
     },
     "execution_count": 49,
     "metadata": {},
     "output_type": "execute_result"
    }
   ],
   "source": [
    "temp.columns"
   ]
  },
  {
   "cell_type": "code",
   "execution_count": 51,
   "id": "536f0010-4329-4ddc-91c6-3ad7a7b463d2",
   "metadata": {},
   "outputs": [
    {
     "name": "stdout",
     "output_type": "stream",
     "text": [
      "37.47% (20114/53686) of non-MANE predominant transcripts have the same ORF as MANE\n"
     ]
    }
   ],
   "source": [
    "n = len(temp.loc[temp.triplet_princ_is_mane==False, 'tid_princ'].unique().tolist())\n",
    "n_num = len(temp.loc[(temp.triplet_princ_is_mane==False)&(temp.triplet_princ_orf_is_mane==True), 'tid_princ'].unique().tolist())\n",
    "print(f'{(n_num/n)*100:.2f}% ({n_num}/{n}) of non-MANE predominant transcripts have the same ORF as MANE')\n"
   ]
  },
  {
   "cell_type": "markdown",
   "id": "7f3cc734-299c-457e-a0f2-ad3cd09c2a61",
   "metadata": {},
   "source": [
    "## How often is non-MANE predominant transcript NMD?"
   ]
  },
  {
   "cell_type": "code",
   "execution_count": 52,
   "id": "3fa208c9-01fb-4e7a-b661-704d5bd1140d",
   "metadata": {},
   "outputs": [
    {
     "name": "stdout",
     "output_type": "stream",
     "text": [
      "15.25% (8185/53686) of non-MANE predominant transcripts are predicted NMD\n"
     ]
    }
   ],
   "source": [
    "n = len(temp.loc[temp.triplet_princ_is_mane==False, 'tid_princ'].unique().tolist())\n",
    "n_num = len(temp.loc[(temp.triplet_princ_is_mane==False)&(temp.nmd==True), 'tid_princ'].unique().tolist())\n",
    "print(f'{(n_num/n)*100:.2f}% ({n_num}/{n}) of non-MANE predominant transcripts are predicted NMD')\n"
   ]
  },
  {
   "cell_type": "code",
   "execution_count": null,
   "id": "11bc0761-10a6-4d09-80ec-3f201d707f2e",
   "metadata": {},
   "outputs": [],
   "source": []
  }
 ],
 "metadata": {
  "kernelspec": {
   "display_name": "Python 3",
   "language": "python",
   "name": "python3"
  },
  "language_info": {
   "codemirror_mode": {
    "name": "ipython",
    "version": 3
   },
   "file_extension": ".py",
   "mimetype": "text/x-python",
   "name": "python",
   "nbconvert_exporter": "python",
   "pygments_lexer": "ipython3",
   "version": "3.7.12"
  }
 },
 "nbformat": 4,
 "nbformat_minor": 5
}
