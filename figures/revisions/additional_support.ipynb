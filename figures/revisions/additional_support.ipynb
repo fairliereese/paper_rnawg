{
 "cells": [
  {
   "cell_type": "code",
   "execution_count": 1,
   "id": "8f1e18c5-41cd-4f5f-ad7f-8bbf4e8a59aa",
   "metadata": {},
   "outputs": [],
   "source": [
    "import pandas as pd\n",
    "import numpy as np\n",
    "import scipy.stats as st\n",
    "import seaborn as sns\n",
    "import sys\n",
    "import os\n",
    "import gseapy as gp\n",
    "import matplotlib.pyplot as plt\n",
    "import swan_vis as swan\n",
    "import yaml\n",
    "from snakemake.io import expand\n",
    "\n",
    "p = os.path.dirname(os.path.dirname(os.getcwd()))\n",
    "sys.path.append(p)\n",
    "\n",
    "from scripts.utils import *\n",
    "from scripts.plotting import *"
   ]
  },
  {
   "cell_type": "code",
   "execution_count": 2,
   "id": "877870bd-c54b-455d-8120-fa89daf3c274",
   "metadata": {},
   "outputs": [],
   "source": [
    "config_file = '../snakemake/config.yml'\n",
    "with open(config_file) as f:\n",
    "    config = yaml.safe_load(f)"
   ]
  },
  {
   "cell_type": "code",
   "execution_count": 3,
   "id": "4d0e7748-3c2b-4cef-843e-158e338d41dd",
   "metadata": {},
   "outputs": [],
   "source": [
    "filt_ab = '../'+expand(config['data']['filt_ab'], species='human')[0]\n",
    "lib_meta = '../'+expand(config['data']['meta'], species='human')[0]\n",
    "cerberus_h5 = '../'+expand(config['data']['cerb_annot'], species='human')[0]\n",
    "\n",
    "gene_subset = 'polya'\n",
    "\n",
    "biosamp_name_map = '../'+expand(config['ref']['biosamp_map'])[0]\n",
    "\n",
    "cage_meta = '../'+expand(config['cage']['meta'], species='human')[0]\n",
    "rampage_meta = '../'+expand(config['rampage']['meta'], species='human')[0]"
   ]
  },
  {
   "cell_type": "code",
   "execution_count": 4,
   "id": "36e57498-b9a2-42d7-8bbe-9e2b46bd1564",
   "metadata": {},
   "outputs": [],
   "source": [
    "def convert_encode_desc(df, col):\n",
    "    \"\"\"\n",
    "    Convert encode desc. of a sample into something more parseable\n",
    "    \"\"\"\n",
    "    df[col] = df[col].str.lower()\n",
    "    df[col] = df[col].str.replace(', ', '_')\n",
    "    df[col] = df[col].str.replace(' ', '_')\n",
    "    df[col] = df[col].str.replace('-', '_')\n",
    "    \n",
    "    return df"
   ]
  },
  {
   "cell_type": "code",
   "execution_count": 5,
   "id": "737f17c6-7fef-45fd-8fce-fc82db6fc030",
   "metadata": {},
   "outputs": [],
   "source": [
    "def get_sample_names_from_dl_meta(meta_file, biosamp_map_file):\n",
    "    \"\"\"\n",
    "    Get a list of samples present from an input ENCODE download file\n",
    "    \"\"\"\n",
    "    df = pd.read_csv(meta_file, sep='\\t')    \n",
    "    df = df[['File accession', 'Experiment accession', 'Biosample term name', 'Biosample type', 'Technical replicate(s)', 'Biological replicate(s)']]\n",
    "    df['classification'] = 'cell_line'\n",
    "    df.loc[df['Biosample type']=='tissue', 'classification'] = 'tissue'\n",
    "    df = convert_encode_desc(df, 'Biosample term name')\n",
    "    \n",
    "    # convert hyphenated cell line names\n",
    "    term_map = pd.read_csv(biosamp_map_file, sep='\\t',\n",
    "                           header=None, names=['eid', 'old_name', 'idk1', 'idk2', 'new_name'])\n",
    "    term_map = convert_encode_desc(term_map, 'old_name')\n",
    "    term_map = convert_encode_desc(term_map, 'new_name')\n",
    "    term_map = term_map[['old_name', 'new_name']]\n",
    "    term_map.drop_duplicates(inplace=True)\n",
    "    n1 = len(df.index)\n",
    "    # print(n1)\n",
    "    df = df.merge(term_map, how='left', left_on='Biosample term name', right_on='old_name')\n",
    "    n2 = len(df.index)\n",
    "    # print(n2)\n",
    "    if n1 != n2:\n",
    "        print('Duplicated thingies, check for DE samples')\n",
    "    df.rename({'Biosample term name': 'sample'}, axis=1, inplace=True)\n",
    "    df.loc[~df.new_name.isnull(), 'sample'] = df.loc[~df.new_name.isnull(), 'new_name']\n",
    "    \n",
    "    return df['sample'].unique().tolist()\n",
    "    \n",
    "    "
   ]
  },
  {
   "cell_type": "code",
   "execution_count": 6,
   "id": "b18abd95-974c-4090-9dba-a682398069a7",
   "metadata": {},
   "outputs": [
    {
     "data": {
      "text/plain": [
       "['mcf7',\n",
       " 'h1',\n",
       " 'k562',\n",
       " 'huvec',\n",
       " 'pc3',\n",
       " 'imr90',\n",
       " 'pgp1',\n",
       " 'ocily7',\n",
       " 'lung',\n",
       " 'liver',\n",
       " 'gm12878',\n",
       " 'hepg2',\n",
       " 'heart']"
      ]
     },
     "execution_count": 6,
     "metadata": {},
     "output_type": "execute_result"
    }
   ],
   "source": [
    "# get the samples that we have in cage and in LR\n",
    "cage_samples = get_sample_names_from_dl_meta(cage_meta, biosamp_name_map)\n",
    "rampage_samples = get_sample_names_from_dl_meta(rampage_meta, biosamp_name_map)\n",
    "tss_samples = set(cage_samples+rampage_samples)\n",
    "lr_samples = pd.read_csv(lib_meta, sep='\\t')['sample'].unique().tolist()\n",
    "tss_lr_samples = list(set(lr_samples)&set(tss_samples))\n",
    "tss_lr_samples"
   ]
  },
  {
   "cell_type": "code",
   "execution_count": 13,
   "id": "aa2ac079-58a0-450c-8c00-19d73ddbc0a4",
   "metadata": {},
   "outputs": [
    {
     "name": "stdout",
     "output_type": "stream",
     "text": [
      "Calculating tss TPM values\n",
      "Subsetting for ['mcf7', 'h1', 'k562', 'huvec', 'pc3', 'imr90', 'pgp1', 'ocily7', 'lung', 'liver', 'gm12878', 'hepg2', 'heart'] samples\n",
      "Subsetting for polya genes\n"
     ]
    },
    {
     "name": "stderr",
     "output_type": "stream",
     "text": [
      "/Users/fairliereese/Documents/programming/mortazavi_lab/data/paper_rnawg/scripts/utils.py:2104: PerformanceWarning: DataFrame is highly fragmented.  This is usually the result of calling `frame.insert` many times, which has poor performance.  Consider joining all columns at once using pd.concat(axis=1) instead.  To get a de-fragmented frame, use `newframe = frame.copy()`\n",
      "  df[tpm_col] = (df[d]*1000000)/df[total_col]\n",
      "/Users/fairliereese/Documents/programming/mortazavi_lab/data/paper_rnawg/scripts/utils.py:2103: PerformanceWarning: DataFrame is highly fragmented.  This is usually the result of calling `frame.insert` many times, which has poor performance.  Consider joining all columns at once using pd.concat(axis=1) instead.  To get a de-fragmented frame, use `newframe = frame.copy()`\n",
      "  df[total_col] = df[d].sum()\n"
     ]
    },
    {
     "name": "stdout",
     "output_type": "stream",
     "text": [
      "Enforcing minimum TPM\n",
      "Total # tsss detected: 76487\n",
      "# tsss >= 1 tpm: 53019\n",
      "Applying gene type and novelty subset\n",
      "Number of tsss reported: 51063\n",
      "153941\n",
      "51063\n",
      "     support  counts\n",
      "0      Known   43483\n",
      "1      Novel    4033\n",
      "2  Supported    3547\n",
      "14.84% (7580/51063) of tsss are novel\n",
      "46.79% (3547/7580) of novel tsss are supported\n",
      "\n"
     ]
    },
    {
     "data": {
      "image/png": "[encoded data removed]",
      "text/plain": [
       "<Figure size 216x216 with 1 Axes>"
      ]
     },
     "metadata": {
      "needs_background": "light"
     },
     "output_type": "display_data"
    }
   ],
   "source": [
    "feat = 'tss'\n",
    "ref_source = ['v29', 'v40']\n",
    "support_source = ['encode_cage', 'fantom_cage', 'encode_rampage', 'pls']\n",
    "\n",
    "plt.figure(figsize=(3,3))\n",
    "sns.set_context('paper', font_scale=2)\n",
    "mpl.rcParams['font.family'] = 'Arial'\n",
    "mpl.rcParams['pdf.fonttype'] = 42\n",
    "\n",
    "ax = plt.gca()\n",
    "\n",
    "plot_supported_feats_2(filt_ab=filt_ab,\n",
    "                     h5=cerberus_h5,\n",
    "                     feat=feat,\n",
    "                     ref_sources=ref_source,\n",
    "                     support_sources=support_source,\n",
    "                     how=feat,\n",
    "                     opref='figures/human',\n",
    "                     gene_subset=gene_subset,\n",
    "                     min_tpm=1,\n",
    "                     ax=ax,\n",
    "                     sample=tss_lr_samples)\n",
    "\n",
    "plt.subplots_adjust(wspace=0.35)\n",
    "# plt.savefig(ofile, dpi=500, layout='tight', bbox_inches='tight')"
   ]
  },
  {
   "cell_type": "code",
   "execution_count": null,
   "id": "15011c8b-1295-4579-aac1-e79cb80e865d",
   "metadata": {},
   "outputs": [],
   "source": []
  }
 ],
 "metadata": {
  "kernelspec": {
   "display_name": "Python 3",
   "language": "python",
   "name": "python3"
  },
  "language_info": {
   "codemirror_mode": {
    "name": "ipython",
    "version": 3
   },
   "file_extension": ".py",
   "mimetype": "text/x-python",
   "name": "python",
   "nbconvert_exporter": "python",
   "pygments_lexer": "ipython3",
   "version": "3.7.12"
  }
 },
 "nbformat": 4,
 "nbformat_minor": 5
}
