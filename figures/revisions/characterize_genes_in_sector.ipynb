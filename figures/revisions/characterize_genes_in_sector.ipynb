{
 "cells": [
  {
   "cell_type": "code",
   "execution_count": 2,
   "id": "bbd98835-ce12-4f82-8daf-c943729c1f7b",
   "metadata": {},
   "outputs": [],
   "source": [
    "import pandas as pd\n",
    "import numpy as np\n",
    "import scipy.stats as st\n",
    "import seaborn as sns\n",
    "import sys\n",
    "import os\n",
    "import gseapy as gp\n",
    "import matplotlib.pyplot as plt\n",
    "import swan_vis as swan\n",
    "import yaml\n",
    "from snakemake.io import expand\n",
    "\n",
    "p = os.path.dirname(os.path.dirname(os.getcwd()))\n",
    "sys.path.append(p)\n",
    "\n",
    "from scripts.utils import *\n",
    "from scripts.plotting import *"
   ]
  },
  {
   "cell_type": "code",
   "execution_count": 3,
   "id": "204c48fd-01ae-4cac-8c07-cac8f64882b7",
   "metadata": {},
   "outputs": [],
   "source": [
    "config_file = '../snakemake/config.yml'\n",
    "with open(config_file) as f:\n",
    "    config = yaml.safe_load(f)"
   ]
  },
  {
   "cell_type": "code",
   "execution_count": 4,
   "id": "ec8e64cb-efb4-4253-b604-8d74a0161865",
   "metadata": {},
   "outputs": [],
   "source": [
    "filt_ab = '../'+expand(config['data']['filt_ab'], species='human')[0]\n",
    "lib_meta = '../'+expand(config['data']['meta'], species='human')[0]\n",
    "cerberus_h5 = '../'+expand(config['data']['cerb_annot'], species='human')[0]\n",
    "ca_plus = '../'+expand(config['data']['ca_plus'], species='human')[0]\n",
    "swan_file = '../'+expand(config['data']['sg'], species='human')[0]\n",
    "gtf = '../'+expand(config['data']['cerb_gtf'], species='human')[0]\n",
    "\n",
    "phastcons = '../'+config['ref']['phastcons100']['txt']\n",
    "\n",
    "gene_subset = 'polya'\n",
    "\n",
    "biosamp_name_map = '../'+expand(config['ref']['biosamp_map'])[0]\n",
    "\n",
    "cage_meta = '../'+expand(config['cage']['meta'], species='human')[0]\n",
    "rampage_meta = '../'+expand(config['rampage']['meta'], species='human')[0]\n",
    "\n",
    "min_tpm = 1\n",
    "gene_subset = 'polya'"
   ]
  },
  {
   "cell_type": "markdown",
   "id": "ac9312d3-c5a9-4614-95bc-ae8cf30ef7d6",
   "metadata": {},
   "source": [
    "## Conservation"
   ]
  },
  {
   "cell_type": "code",
   "execution_count": 24,
   "id": "c1389da9-6a5d-42df-8efc-039fca312f4f",
   "metadata": {},
   "outputs": [],
   "source": [
    "# \"parameters\"\n",
    "min_cons_score = 250"
   ]
  },
  {
   "cell_type": "code",
   "execution_count": 27,
   "id": "66bef49d-83de-4c9d-81eb-c6be4c3015ae",
   "metadata": {},
   "outputs": [],
   "source": [
    "# read conserved elements in, threshold for a certain score\n",
    "cons = pd.read_csv(phastcons, sep='\\t', header=None,\n",
    "                 names=['bin', 'Chromosome', 'Start', 'End', 'idk1', 'score'])\n",
    "cons = cons[['Chromosome', 'Start', 'End', 'score']]\n",
    "cons = cons.loc[cons.score >= min_cons_score]\n",
    "# sns.displot(cons, x='score', kind='kde')\n",
    "cons = pr.PyRanges(df)"
   ]
  },
  {
   "cell_type": "code",
   "execution_count": 43,
   "id": "969b33f2-f0f0-477a-b381-ea4d3c8163d3",
   "metadata": {},
   "outputs": [
    {
     "name": "stdout",
     "output_type": "stream",
     "text": [
      "Found attributes with reserved names: ['source'].\n",
      "Renaming attributes with suffix '_attr'\n"
     ]
    }
   ],
   "source": [
    "# read gtf, limit to relevant columns\n",
    "# only look at exons, calc exon len\n",
    "gtf_df = pr.read_gtf(gtf, duplicate_attr=True, rename_attr=True).as_df()\n",
    "gtf_df = gtf_df[['Chromosome', 'Start', 'End', 'gene_name',\n",
    "                 'gene_id', 'transcript_id', 'Feature']]\n",
    "gtf_df = gtf_df.loc[gtf_df.Feature=='exon']\n",
    "gtf_df['exon_len'] = (gtf_df.Start-gtf_df.End).abs()"
   ]
  },
  {
   "cell_type": "code",
   "execution_count": 49,
   "id": "14a719b3-2dec-4b23-ad9f-96013347aa41",
   "metadata": {},
   "outputs": [],
   "source": [
    "# temporary - limit to one gene\n",
    "myog_df = gtf_df.loc[gtf_df.gene_name=='MYOG']"
   ]
  },
  {
   "cell_type": "code",
   "execution_count": 50,
   "id": "2994e75e-0771-4f60-9d56-98eab78b9673",
   "metadata": {},
   "outputs": [],
   "source": [
    "myog_df = pr.PyRanges(myog_df)"
   ]
  },
  {
   "cell_type": "code",
   "execution_count": 51,
   "id": "2f3c7cae-a65f-4c39-a955-89a0f8799dc8",
   "metadata": {},
   "outputs": [
    {
     "data": {
      "text/html": [
       "<div>\n",
       "<style scoped>\n",
       "    .dataframe tbody tr th:only-of-type {\n",
       "        vertical-align: middle;\n",
       "    }\n",
       "\n",
       "    .dataframe tbody tr th {\n",
       "        vertical-align: top;\n",
       "    }\n",
       "\n",
       "    .dataframe thead th {\n",
       "        text-align: right;\n",
       "    }\n",
       "</style>\n",
       "<table border=\"1\" class=\"dataframe\">\n",
       "  <thead>\n",
       "    <tr style=\"text-align: right;\">\n",
       "      <th></th>\n",
       "      <th>Chromosome</th>\n",
       "      <th>Start</th>\n",
       "      <th>End</th>\n",
       "      <th>gene_name</th>\n",
       "      <th>gene_id</th>\n",
       "      <th>transcript_id</th>\n",
       "      <th>Feature</th>\n",
       "      <th>exon_len</th>\n",
       "    </tr>\n",
       "  </thead>\n",
       "  <tbody>\n",
       "    <tr>\n",
       "      <th>0</th>\n",
       "      <td>chr1</td>\n",
       "      <td>203087286</td>\n",
       "      <td>203087483</td>\n",
       "      <td>MYOG</td>\n",
       "      <td>ENSG00000122180.4</td>\n",
       "      <td>ENSG00000122180[2,3,1]</td>\n",
       "      <td>exon</td>\n",
       "      <td>197</td>\n",
       "    </tr>\n",
       "    <tr>\n",
       "      <th>1</th>\n",
       "      <td>chr1</td>\n",
       "      <td>203085490</td>\n",
       "      <td>203085877</td>\n",
       "      <td>MYOG</td>\n",
       "      <td>ENSG00000122180.4</td>\n",
       "      <td>ENSG00000122180[2,3,1]</td>\n",
       "      <td>exon</td>\n",
       "      <td>387</td>\n",
       "    </tr>\n",
       "    <tr>\n",
       "      <th>2</th>\n",
       "      <td>chr1</td>\n",
       "      <td>203084646</td>\n",
       "      <td>203084728</td>\n",
       "      <td>MYOG</td>\n",
       "      <td>ENSG00000122180.4</td>\n",
       "      <td>ENSG00000122180[2,3,1]</td>\n",
       "      <td>exon</td>\n",
       "      <td>82</td>\n",
       "    </tr>\n",
       "    <tr>\n",
       "      <th>3</th>\n",
       "      <td>chr1</td>\n",
       "      <td>203083078</td>\n",
       "      <td>203084031</td>\n",
       "      <td>MYOG</td>\n",
       "      <td>ENSG00000122180.4</td>\n",
       "      <td>ENSG00000122180[2,3,1]</td>\n",
       "      <td>exon</td>\n",
       "      <td>953</td>\n",
       "    </tr>\n",
       "    <tr>\n",
       "      <th>4</th>\n",
       "      <td>chr1</td>\n",
       "      <td>203084646</td>\n",
       "      <td>203086062</td>\n",
       "      <td>MYOG</td>\n",
       "      <td>ENSG00000122180.4</td>\n",
       "      <td>ENSG00000122180[1,2,1]</td>\n",
       "      <td>exon</td>\n",
       "      <td>1416</td>\n",
       "    </tr>\n",
       "    <tr>\n",
       "      <th>5</th>\n",
       "      <td>chr1</td>\n",
       "      <td>203083078</td>\n",
       "      <td>203084031</td>\n",
       "      <td>MYOG</td>\n",
       "      <td>ENSG00000122180.4</td>\n",
       "      <td>ENSG00000122180[1,2,1]</td>\n",
       "      <td>exon</td>\n",
       "      <td>953</td>\n",
       "    </tr>\n",
       "    <tr>\n",
       "      <th>6</th>\n",
       "      <td>chr1</td>\n",
       "      <td>203085490</td>\n",
       "      <td>203086062</td>\n",
       "      <td>MYOG</td>\n",
       "      <td>ENSG00000122180.4</td>\n",
       "      <td>ENSG00000122180[1,1,1]</td>\n",
       "      <td>exon</td>\n",
       "      <td>572</td>\n",
       "    </tr>\n",
       "    <tr>\n",
       "      <th>7</th>\n",
       "      <td>chr1</td>\n",
       "      <td>203084646</td>\n",
       "      <td>203084728</td>\n",
       "      <td>MYOG</td>\n",
       "      <td>ENSG00000122180.4</td>\n",
       "      <td>ENSG00000122180[1,1,1]</td>\n",
       "      <td>exon</td>\n",
       "      <td>82</td>\n",
       "    </tr>\n",
       "    <tr>\n",
       "      <th>8</th>\n",
       "      <td>chr1</td>\n",
       "      <td>203083078</td>\n",
       "      <td>203084031</td>\n",
       "      <td>MYOG</td>\n",
       "      <td>ENSG00000122180.4</td>\n",
       "      <td>ENSG00000122180[1,1,1]</td>\n",
       "      <td>exon</td>\n",
       "      <td>953</td>\n",
       "    </tr>\n",
       "  </tbody>\n",
       "</table>\n",
       "</div>"
      ],
      "text/plain": [
       "+--------------+-----------+-----------+-------------+-------------------+-------+\n",
       "| Chromosome   | Start     | End       | gene_name   | gene_id           | +3    |\n",
       "| (category)   | (int64)   | (int64)   | (object)    | (object)          | ...   |\n",
       "|--------------+-----------+-----------+-------------+-------------------+-------|\n",
       "| chr1         | 203087286 | 203087483 | MYOG        | ENSG00000122180.4 | ...   |\n",
       "| chr1         | 203085490 | 203085877 | MYOG        | ENSG00000122180.4 | ...   |\n",
       "| chr1         | 203084646 | 203084728 | MYOG        | ENSG00000122180.4 | ...   |\n",
       "| chr1         | 203083078 | 203084031 | MYOG        | ENSG00000122180.4 | ...   |\n",
       "| ...          | ...       | ...       | ...         | ...               | ...   |\n",
       "| chr1         | 203083078 | 203084031 | MYOG        | ENSG00000122180.4 | ...   |\n",
       "| chr1         | 203085490 | 203086062 | MYOG        | ENSG00000122180.4 | ...   |\n",
       "| chr1         | 203084646 | 203084728 | MYOG        | ENSG00000122180.4 | ...   |\n",
       "| chr1         | 203083078 | 203084031 | MYOG        | ENSG00000122180.4 | ...   |\n",
       "+--------------+-----------+-----------+-------------+-------------------+-------+\n",
       "Unstranded PyRanges object has 9 rows and 8 columns from 1 chromosomes.\n",
       "For printing, the PyRanges was sorted on Chromosome.\n",
       "3 hidden columns: transcript_id, Feature, exon_len"
      ]
     },
     "execution_count": 51,
     "metadata": {},
     "output_type": "execute_result"
    }
   ],
   "source": [
    "myog_df"
   ]
  },
  {
   "cell_type": "code",
   "execution_count": 52,
   "id": "4b2ec058-bf89-4763-8496-825629ed64f0",
   "metadata": {},
   "outputs": [],
   "source": [
    "myog_df = myog_df.join(cons, report_overlap=True)"
   ]
  },
  {
   "cell_type": "code",
   "execution_count": 53,
   "id": "68718f34-adff-4f0a-926f-69a45e17d375",
   "metadata": {},
   "outputs": [
    {
     "data": {
      "text/html": [
       "<div>\n",
       "<style scoped>\n",
       "    .dataframe tbody tr th:only-of-type {\n",
       "        vertical-align: middle;\n",
       "    }\n",
       "\n",
       "    .dataframe tbody tr th {\n",
       "        vertical-align: top;\n",
       "    }\n",
       "\n",
       "    .dataframe thead th {\n",
       "        text-align: right;\n",
       "    }\n",
       "</style>\n",
       "<table border=\"1\" class=\"dataframe\">\n",
       "  <thead>\n",
       "    <tr style=\"text-align: right;\">\n",
       "      <th></th>\n",
       "      <th>Chromosome</th>\n",
       "      <th>Start</th>\n",
       "      <th>End</th>\n",
       "      <th>gene_name</th>\n",
       "      <th>gene_id</th>\n",
       "      <th>transcript_id</th>\n",
       "      <th>Feature</th>\n",
       "      <th>exon_len</th>\n",
       "      <th>bin</th>\n",
       "      <th>Start_b</th>\n",
       "      <th>End_b</th>\n",
       "      <th>idk1</th>\n",
       "      <th>score</th>\n",
       "      <th>Overlap</th>\n",
       "    </tr>\n",
       "  </thead>\n",
       "  <tbody>\n",
       "    <tr>\n",
       "      <th>0</th>\n",
       "      <td>chr1</td>\n",
       "      <td>203085490</td>\n",
       "      <td>203085877</td>\n",
       "      <td>MYOG</td>\n",
       "      <td>ENSG00000122180.4</td>\n",
       "      <td>ENSG00000122180[2,3,1]</td>\n",
       "      <td>exon</td>\n",
       "      <td>387</td>\n",
       "      <td>2134</td>\n",
       "      <td>203085480</td>\n",
       "      <td>203085493</td>\n",
       "      <td>lod=44</td>\n",
       "      <td>368</td>\n",
       "      <td>3</td>\n",
       "    </tr>\n",
       "    <tr>\n",
       "      <th>1</th>\n",
       "      <td>chr1</td>\n",
       "      <td>203085490</td>\n",
       "      <td>203085877</td>\n",
       "      <td>MYOG</td>\n",
       "      <td>ENSG00000122180.4</td>\n",
       "      <td>ENSG00000122180[2,3,1]</td>\n",
       "      <td>exon</td>\n",
       "      <td>387</td>\n",
       "      <td>2134</td>\n",
       "      <td>203085494</td>\n",
       "      <td>203085499</td>\n",
       "      <td>lod=35</td>\n",
       "      <td>345</td>\n",
       "      <td>5</td>\n",
       "    </tr>\n",
       "    <tr>\n",
       "      <th>2</th>\n",
       "      <td>chr1</td>\n",
       "      <td>203085490</td>\n",
       "      <td>203085877</td>\n",
       "      <td>MYOG</td>\n",
       "      <td>ENSG00000122180.4</td>\n",
       "      <td>ENSG00000122180[2,3,1]</td>\n",
       "      <td>exon</td>\n",
       "      <td>387</td>\n",
       "      <td>2134</td>\n",
       "      <td>203085517</td>\n",
       "      <td>203085529</td>\n",
       "      <td>lod=91</td>\n",
       "      <td>440</td>\n",
       "      <td>12</td>\n",
       "    </tr>\n",
       "    <tr>\n",
       "      <th>3</th>\n",
       "      <td>chr1</td>\n",
       "      <td>203085490</td>\n",
       "      <td>203085877</td>\n",
       "      <td>MYOG</td>\n",
       "      <td>ENSG00000122180.4</td>\n",
       "      <td>ENSG00000122180[2,3,1]</td>\n",
       "      <td>exon</td>\n",
       "      <td>387</td>\n",
       "      <td>2134</td>\n",
       "      <td>203085530</td>\n",
       "      <td>203085559</td>\n",
       "      <td>lod=334</td>\n",
       "      <td>568</td>\n",
       "      <td>29</td>\n",
       "    </tr>\n",
       "    <tr>\n",
       "      <th>4</th>\n",
       "      <td>chr1</td>\n",
       "      <td>203085490</td>\n",
       "      <td>203085877</td>\n",
       "      <td>MYOG</td>\n",
       "      <td>ENSG00000122180.4</td>\n",
       "      <td>ENSG00000122180[2,3,1]</td>\n",
       "      <td>exon</td>\n",
       "      <td>387</td>\n",
       "      <td>2134</td>\n",
       "      <td>203085560</td>\n",
       "      <td>203085636</td>\n",
       "      <td>lod=927</td>\n",
       "      <td>669</td>\n",
       "      <td>76</td>\n",
       "    </tr>\n",
       "    <tr>\n",
       "      <th>...</th>\n",
       "      <td>...</td>\n",
       "      <td>...</td>\n",
       "      <td>...</td>\n",
       "      <td>...</td>\n",
       "      <td>...</td>\n",
       "      <td>...</td>\n",
       "      <td>...</td>\n",
       "      <td>...</td>\n",
       "      <td>...</td>\n",
       "      <td>...</td>\n",
       "      <td>...</td>\n",
       "      <td>...</td>\n",
       "      <td>...</td>\n",
       "      <td>...</td>\n",
       "    </tr>\n",
       "    <tr>\n",
       "      <th>182</th>\n",
       "      <td>chr1</td>\n",
       "      <td>203083078</td>\n",
       "      <td>203084031</td>\n",
       "      <td>MYOG</td>\n",
       "      <td>ENSG00000122180.4</td>\n",
       "      <td>ENSG00000122180[1,1,1]</td>\n",
       "      <td>exon</td>\n",
       "      <td>953</td>\n",
       "      <td>2134</td>\n",
       "      <td>203084003</td>\n",
       "      <td>203084005</td>\n",
       "      <td>lod=29</td>\n",
       "      <td>327</td>\n",
       "      <td>2</td>\n",
       "    </tr>\n",
       "    <tr>\n",
       "      <th>183</th>\n",
       "      <td>chr1</td>\n",
       "      <td>203083078</td>\n",
       "      <td>203084031</td>\n",
       "      <td>MYOG</td>\n",
       "      <td>ENSG00000122180.4</td>\n",
       "      <td>ENSG00000122180[1,1,1]</td>\n",
       "      <td>exon</td>\n",
       "      <td>953</td>\n",
       "      <td>2134</td>\n",
       "      <td>203084006</td>\n",
       "      <td>203084007</td>\n",
       "      <td>lod=15</td>\n",
       "      <td>262</td>\n",
       "      <td>1</td>\n",
       "    </tr>\n",
       "    <tr>\n",
       "      <th>184</th>\n",
       "      <td>chr1</td>\n",
       "      <td>203083078</td>\n",
       "      <td>203084031</td>\n",
       "      <td>MYOG</td>\n",
       "      <td>ENSG00000122180.4</td>\n",
       "      <td>ENSG00000122180[1,1,1]</td>\n",
       "      <td>exon</td>\n",
       "      <td>953</td>\n",
       "      <td>2134</td>\n",
       "      <td>203084009</td>\n",
       "      <td>203084014</td>\n",
       "      <td>lod=49</td>\n",
       "      <td>379</td>\n",
       "      <td>5</td>\n",
       "    </tr>\n",
       "    <tr>\n",
       "      <th>185</th>\n",
       "      <td>chr1</td>\n",
       "      <td>203083078</td>\n",
       "      <td>203084031</td>\n",
       "      <td>MYOG</td>\n",
       "      <td>ENSG00000122180.4</td>\n",
       "      <td>ENSG00000122180[1,1,1]</td>\n",
       "      <td>exon</td>\n",
       "      <td>953</td>\n",
       "      <td>2134</td>\n",
       "      <td>203084015</td>\n",
       "      <td>203084017</td>\n",
       "      <td>lod=19</td>\n",
       "      <td>285</td>\n",
       "      <td>2</td>\n",
       "    </tr>\n",
       "    <tr>\n",
       "      <th>186</th>\n",
       "      <td>chr1</td>\n",
       "      <td>203083078</td>\n",
       "      <td>203084031</td>\n",
       "      <td>MYOG</td>\n",
       "      <td>ENSG00000122180.4</td>\n",
       "      <td>ENSG00000122180[1,1,1]</td>\n",
       "      <td>exon</td>\n",
       "      <td>953</td>\n",
       "      <td>2134</td>\n",
       "      <td>203084021</td>\n",
       "      <td>203084034</td>\n",
       "      <td>lod=122</td>\n",
       "      <td>469</td>\n",
       "      <td>10</td>\n",
       "    </tr>\n",
       "  </tbody>\n",
       "</table>\n",
       "<p>187 rows × 14 columns</p>\n",
       "</div>"
      ],
      "text/plain": [
       "+--------------+-----------+-----------+-------------+-------------------+-------+\n",
       "| Chromosome   | Start     | End       | gene_name   | gene_id           | +9    |\n",
       "| (category)   | (int64)   | (int64)   | (object)    | (object)          | ...   |\n",
       "|--------------+-----------+-----------+-------------+-------------------+-------|\n",
       "| chr1         | 203085490 | 203085877 | MYOG        | ENSG00000122180.4 | ...   |\n",
       "| chr1         | 203085490 | 203085877 | MYOG        | ENSG00000122180.4 | ...   |\n",
       "| chr1         | 203085490 | 203085877 | MYOG        | ENSG00000122180.4 | ...   |\n",
       "| chr1         | 203085490 | 203085877 | MYOG        | ENSG00000122180.4 | ...   |\n",
       "| ...          | ...       | ...       | ...         | ...               | ...   |\n",
       "| chr1         | 203083078 | 203084031 | MYOG        | ENSG00000122180.4 | ...   |\n",
       "| chr1         | 203083078 | 203084031 | MYOG        | ENSG00000122180.4 | ...   |\n",
       "| chr1         | 203083078 | 203084031 | MYOG        | ENSG00000122180.4 | ...   |\n",
       "| chr1         | 203083078 | 203084031 | MYOG        | ENSG00000122180.4 | ...   |\n",
       "+--------------+-----------+-----------+-------------+-------------------+-------+\n",
       "Unstranded PyRanges object has 187 rows and 14 columns from 1 chromosomes.\n",
       "For printing, the PyRanges was sorted on Chromosome.\n",
       "9 hidden columns: transcript_id, Feature, exon_len, bin, Start_b, End_b, idk1, score, ... (+ 1 more.)"
      ]
     },
     "execution_count": 53,
     "metadata": {},
     "output_type": "execute_result"
    }
   ],
   "source": [
    "myog_df"
   ]
  },
  {
   "cell_type": "code",
   "execution_count": 81,
   "id": "bc665cb7-2b23-4766-ad02-b5ca90c4f1c2",
   "metadata": {},
   "outputs": [],
   "source": [
    "# myog_df = myog_df.df\n",
    "\n",
    "# get len covered in each exon\n",
    "keep_cols = ['Chromosome', 'Start', 'End', 'gene_name', 'gene_id', 'transcript_id', 'exon_len', 'Overlap']\n",
    "gb_cols = ['Chromosome', 'Start', 'End', 'gene_name', 'gene_id', 'transcript_id', 'exon_len']\n",
    "temp = myog_df[keep_cols].groupby(gb_cols, observed=True).sum().reset_index().rename({'Overlap': 'cons_len'}, axis=1)"
   ]
  },
  {
   "cell_type": "code",
   "execution_count": 83,
   "id": "b8382358-5bcc-4086-8cea-9f366cebe67e",
   "metadata": {},
   "outputs": [],
   "source": [
    "# get total len of transcript and len covered of each transcript \n",
    "keep_cols = ['gene_name', 'gene_id', 'transcript_id', 'exon_len', 'cons_len']\n",
    "gb_cols = ['gene_name', 'gene_id', 'transcript_id']\n",
    "temp = temp[keep_cols].groupby(gb_cols,observed=True).sum().reset_index().rename({'exon_len': 't_len'}, axis=1)"
   ]
  },
  {
   "cell_type": "code",
   "execution_count": 84,
   "id": "6ba79c2b-e0fa-4994-aec6-ade0f8693924",
   "metadata": {},
   "outputs": [
    {
     "data": {
      "text/html": [
       "<div>\n",
       "<style scoped>\n",
       "    .dataframe tbody tr th:only-of-type {\n",
       "        vertical-align: middle;\n",
       "    }\n",
       "\n",
       "    .dataframe tbody tr th {\n",
       "        vertical-align: top;\n",
       "    }\n",
       "\n",
       "    .dataframe thead th {\n",
       "        text-align: right;\n",
       "    }\n",
       "</style>\n",
       "<table border=\"1\" class=\"dataframe\">\n",
       "  <thead>\n",
       "    <tr style=\"text-align: right;\">\n",
       "      <th></th>\n",
       "      <th>gene_name</th>\n",
       "      <th>gene_id</th>\n",
       "      <th>transcript_id</th>\n",
       "      <th>t_len</th>\n",
       "      <th>cons_len</th>\n",
       "    </tr>\n",
       "  </thead>\n",
       "  <tbody>\n",
       "    <tr>\n",
       "      <th>0</th>\n",
       "      <td>MYOG</td>\n",
       "      <td>ENSG00000122180.4</td>\n",
       "      <td>ENSG00000122180[1,1,1]</td>\n",
       "      <td>1607</td>\n",
       "      <td>1019</td>\n",
       "    </tr>\n",
       "    <tr>\n",
       "      <th>1</th>\n",
       "      <td>MYOG</td>\n",
       "      <td>ENSG00000122180.4</td>\n",
       "      <td>ENSG00000122180[1,2,1]</td>\n",
       "      <td>2369</td>\n",
       "      <td>1039</td>\n",
       "    </tr>\n",
       "    <tr>\n",
       "      <th>2</th>\n",
       "      <td>MYOG</td>\n",
       "      <td>ENSG00000122180.4</td>\n",
       "      <td>ENSG00000122180[2,3,1]</td>\n",
       "      <td>1422</td>\n",
       "      <td>849</td>\n",
       "    </tr>\n",
       "  </tbody>\n",
       "</table>\n",
       "</div>"
      ],
      "text/plain": [
       "  gene_name            gene_id           transcript_id  t_len  cons_len\n",
       "0      MYOG  ENSG00000122180.4  ENSG00000122180[1,1,1]   1607      1019\n",
       "1      MYOG  ENSG00000122180.4  ENSG00000122180[1,2,1]   2369      1039\n",
       "2      MYOG  ENSG00000122180.4  ENSG00000122180[2,3,1]   1422       849"
      ]
     },
     "execution_count": 84,
     "metadata": {},
     "output_type": "execute_result"
    }
   ],
   "source": [
    "temp.head()"
   ]
  },
  {
   "cell_type": "code",
   "execution_count": null,
   "id": "8075bfe8-45d5-4c49-9035-c6d1ffff19a1",
   "metadata": {},
   "outputs": [],
   "source": [
    "# now get median % exonic conservation per gene\n",
    "temp['perc_cons'] = (temp['cons_len']/temp['t_len'])*100\n",
    "keep_cols = ['gene_name', 'gene_id', 'perc_cons']\n",
    "gb_cols = ['gene_name', 'gene_id']\n",
    "temp = temp[keep_cols].groupby(gb_cols).median().reset_index().rename({'perc_cons':'med_perc_cons'}, axis=1)"
   ]
  },
  {
   "cell_type": "code",
   "execution_count": null,
   "id": "3cd2f435-5d37-44ae-a31d-3f0f48db6fad",
   "metadata": {},
   "outputs": [],
   "source": []
  },
  {
   "cell_type": "code",
   "execution_count": null,
   "id": "7ad6eb50-07b2-45be-b466-61825e8fe33e",
   "metadata": {},
   "outputs": [],
   "source": []
  },
  {
   "cell_type": "code",
   "execution_count": null,
   "id": "a9cf1be2-377f-47a7-8416-124db8c23078",
   "metadata": {},
   "outputs": [],
   "source": []
  },
  {
   "cell_type": "code",
   "execution_count": null,
   "id": "c11923a9-a673-4b62-a88f-5a83d7d4287e",
   "metadata": {},
   "outputs": [],
   "source": []
  },
  {
   "cell_type": "code",
   "execution_count": null,
   "id": "fb5b5ede-2aa3-40cf-b814-a716f99c757e",
   "metadata": {},
   "outputs": [],
   "source": []
  },
  {
   "cell_type": "code",
   "execution_count": null,
   "id": "09244102-11eb-4234-a5f0-a0eccad3474f",
   "metadata": {},
   "outputs": [],
   "source": []
  },
  {
   "cell_type": "code",
   "execution_count": 28,
   "id": "a576f65a-b663-4ef8-944b-af55b4acbbc7",
   "metadata": {},
   "outputs": [],
   "source": [
    "# myog_df = gtf_df.loc[gtf_df.gene_name == 'MYOG']\n",
    "# myog_df = myog_df.loc[myog_df.Feature=='exon'][['Chromosome', 'Start', 'End']]\n",
    "# myog_df = pr.PyRanges(myog_df)\n",
    "# temp = myog_df.join(cons, report_overlap=True)\n",
    "# sns.displot(temp, x='score')"
   ]
  },
  {
   "cell_type": "code",
   "execution_count": null,
   "id": "6002950b-2d6b-4ab4-857a-dad80dcd4e4e",
   "metadata": {},
   "outputs": [],
   "source": []
  },
  {
   "cell_type": "code",
   "execution_count": null,
   "id": "02fa6c74-de57-4c01-b57d-9be3469984df",
   "metadata": {},
   "outputs": [],
   "source": []
  },
  {
   "cell_type": "code",
   "execution_count": null,
   "id": "4db47caf-ba78-45d8-8fc8-1281bfd7e85c",
   "metadata": {},
   "outputs": [],
   "source": []
  },
  {
   "cell_type": "code",
   "execution_count": null,
   "id": "050b526c-785d-4419-9b05-0220f6dfbb1f",
   "metadata": {},
   "outputs": [],
   "source": []
  },
  {
   "cell_type": "code",
   "execution_count": null,
   "id": "b18e8127-9295-4bb9-bc83-c51151344f83",
   "metadata": {},
   "outputs": [],
   "source": []
  },
  {
   "cell_type": "code",
   "execution_count": null,
   "id": "996e40d5-3bf6-4894-a8c2-280f49ed1b1b",
   "metadata": {},
   "outputs": [],
   "source": []
  },
  {
   "cell_type": "code",
   "execution_count": null,
   "id": "06ecfe30-95d0-4f51-b454-06a785a00a08",
   "metadata": {},
   "outputs": [],
   "source": []
  },
  {
   "cell_type": "code",
   "execution_count": null,
   "id": "c810a696-a948-44c6-b05d-11afd6f5e689",
   "metadata": {},
   "outputs": [],
   "source": []
  },
  {
   "cell_type": "code",
   "execution_count": null,
   "id": "806f3e78-825e-4a33-b1ea-b3bdf9f5496e",
   "metadata": {},
   "outputs": [],
   "source": []
  },
  {
   "cell_type": "code",
   "execution_count": 23,
   "id": "73df2569-dea6-4d31-9eb6-691e4567facf",
   "metadata": {},
   "outputs": [
    {
     "data": {
      "text/html": [
       "<div>\n",
       "<style scoped>\n",
       "    .dataframe tbody tr th:only-of-type {\n",
       "        vertical-align: middle;\n",
       "    }\n",
       "\n",
       "    .dataframe tbody tr th {\n",
       "        vertical-align: top;\n",
       "    }\n",
       "\n",
       "    .dataframe thead th {\n",
       "        text-align: right;\n",
       "    }\n",
       "</style>\n",
       "<table border=\"1\" class=\"dataframe\">\n",
       "  <thead>\n",
       "    <tr style=\"text-align: right;\">\n",
       "      <th></th>\n",
       "      <th>bin</th>\n",
       "      <th>Chromosome</th>\n",
       "      <th>Start</th>\n",
       "      <th>End</th>\n",
       "      <th>idk1</th>\n",
       "      <th>score</th>\n",
       "    </tr>\n",
       "  </thead>\n",
       "  <tbody>\n",
       "    <tr>\n",
       "      <th>12</th>\n",
       "      <td>585</td>\n",
       "      <td>chr1</td>\n",
       "      <td>12985</td>\n",
       "      <td>12992</td>\n",
       "      <td>lod=13</td>\n",
       "      <td>247</td>\n",
       "    </tr>\n",
       "    <tr>\n",
       "      <th>18</th>\n",
       "      <td>585</td>\n",
       "      <td>chr1</td>\n",
       "      <td>13060</td>\n",
       "      <td>13062</td>\n",
       "      <td>lod=13</td>\n",
       "      <td>247</td>\n",
       "    </tr>\n",
       "    <tr>\n",
       "      <th>31</th>\n",
       "      <td>585</td>\n",
       "      <td>chr1</td>\n",
       "      <td>14118</td>\n",
       "      <td>14127</td>\n",
       "      <td>lod=13</td>\n",
       "      <td>247</td>\n",
       "    </tr>\n",
       "    <tr>\n",
       "      <th>33</th>\n",
       "      <td>585</td>\n",
       "      <td>chr1</td>\n",
       "      <td>14179</td>\n",
       "      <td>14184</td>\n",
       "      <td>lod=13</td>\n",
       "      <td>247</td>\n",
       "    </tr>\n",
       "    <tr>\n",
       "      <th>46</th>\n",
       "      <td>585</td>\n",
       "      <td>chr1</td>\n",
       "      <td>14798</td>\n",
       "      <td>14800</td>\n",
       "      <td>lod=12</td>\n",
       "      <td>240</td>\n",
       "    </tr>\n",
       "    <tr>\n",
       "      <th>...</th>\n",
       "      <td>...</td>\n",
       "      <td>...</td>\n",
       "      <td>...</td>\n",
       "      <td>...</td>\n",
       "      <td>...</td>\n",
       "      <td>...</td>\n",
       "    </tr>\n",
       "    <tr>\n",
       "      <th>10350657</th>\n",
       "      <td>1021</td>\n",
       "      <td>chrY</td>\n",
       "      <td>57195484</td>\n",
       "      <td>57195541</td>\n",
       "      <td>lod=13</td>\n",
       "      <td>247</td>\n",
       "    </tr>\n",
       "    <tr>\n",
       "      <th>10350660</th>\n",
       "      <td>1021</td>\n",
       "      <td>chrY</td>\n",
       "      <td>57196338</td>\n",
       "      <td>57196341</td>\n",
       "      <td>lod=13</td>\n",
       "      <td>247</td>\n",
       "    </tr>\n",
       "    <tr>\n",
       "      <th>10350673</th>\n",
       "      <td>1021</td>\n",
       "      <td>chrY</td>\n",
       "      <td>57208720</td>\n",
       "      <td>57208727</td>\n",
       "      <td>lod=13</td>\n",
       "      <td>247</td>\n",
       "    </tr>\n",
       "    <tr>\n",
       "      <th>10350705</th>\n",
       "      <td>1021</td>\n",
       "      <td>chrY</td>\n",
       "      <td>57211798</td>\n",
       "      <td>57211800</td>\n",
       "      <td>lod=13</td>\n",
       "      <td>247</td>\n",
       "    </tr>\n",
       "    <tr>\n",
       "      <th>10350728</th>\n",
       "      <td>1021</td>\n",
       "      <td>chrY</td>\n",
       "      <td>57214853</td>\n",
       "      <td>57214875</td>\n",
       "      <td>lod=13</td>\n",
       "      <td>247</td>\n",
       "    </tr>\n",
       "  </tbody>\n",
       "</table>\n",
       "<p>1260046 rows × 6 columns</p>\n",
       "</div>"
      ],
      "text/plain": [
       "           bin Chromosome     Start       End    idk1  score\n",
       "12         585       chr1     12985     12992  lod=13    247\n",
       "18         585       chr1     13060     13062  lod=13    247\n",
       "31         585       chr1     14118     14127  lod=13    247\n",
       "33         585       chr1     14179     14184  lod=13    247\n",
       "46         585       chr1     14798     14800  lod=12    240\n",
       "...        ...        ...       ...       ...     ...    ...\n",
       "10350657  1021       chrY  57195484  57195541  lod=13    247\n",
       "10350660  1021       chrY  57196338  57196341  lod=13    247\n",
       "10350673  1021       chrY  57208720  57208727  lod=13    247\n",
       "10350705  1021       chrY  57211798  57211800  lod=13    247\n",
       "10350728  1021       chrY  57214853  57214875  lod=13    247\n",
       "\n",
       "[1260046 rows x 6 columns]"
      ]
     },
     "execution_count": 23,
     "metadata": {},
     "output_type": "execute_result"
    }
   ],
   "source": [
    "cons.loc[cons.score<250]"
   ]
  },
  {
   "cell_type": "code",
   "execution_count": 16,
   "id": "9f39dbb1-148c-40ba-93ab-4fb6dc3328b4",
   "metadata": {},
   "outputs": [],
   "source": []
  },
  {
   "cell_type": "code",
   "execution_count": 18,
   "id": "e5013293-1d3c-4388-bce0-23fda1008f85",
   "metadata": {},
   "outputs": [],
   "source": [
    "temp = temp.df"
   ]
  },
  {
   "cell_type": "code",
   "execution_count": 19,
   "id": "e3f4a730-0bd5-4c3c-9cc5-e9e3e6418427",
   "metadata": {},
   "outputs": [
    {
     "data": {
      "text/plain": [
       "<seaborn.axisgrid.FacetGrid at 0x7fd6a0a19a90>"
      ]
     },
     "execution_count": 19,
     "metadata": {},
     "output_type": "execute_result"
    },
    {
     "data": {
      "image/png": "[encoded data removed]",
      "text/plain": [
       "<Figure size 360x360 with 1 Axes>"
      ]
     },
     "metadata": {
      "needs_background": "light"
     },
     "output_type": "display_data"
    }
   ],
   "source": [
    "\n"
   ]
  },
  {
   "cell_type": "code",
   "execution_count": null,
   "id": "c8c77362-57df-4195-94e0-4354575e6e82",
   "metadata": {},
   "outputs": [],
   "source": []
  },
  {
   "cell_type": "code",
   "execution_count": null,
   "id": "91b6fea5-45da-42eb-ae63-cc1791651717",
   "metadata": {},
   "outputs": [],
   "source": []
  },
  {
   "cell_type": "code",
   "execution_count": 20,
   "id": "c15234d2-6fe4-48db-aa6e-adf1ad8af8ad",
   "metadata": {},
   "outputs": [
    {
     "name": "stdout",
     "output_type": "stream",
     "text": [
      "Found attributes with reserved names: ['source'].\n",
      "Renaming attributes with suffix '_attr'\n"
     ]
    }
   ],
   "source": [
    "# get the exons from the reference GTF\n",
    "gtf_df = pr.read_gtf(gtf, as_df=True, duplicate_attr=True, rename_attr=True)"
   ]
  },
  {
   "cell_type": "code",
   "execution_count": 15,
   "id": "718c0d2b-81fa-426b-b97d-d0065ec2db68",
   "metadata": {},
   "outputs": [],
   "source": [
    "s = 'splicing'\n",
    "source = 'obs_major'\n",
    "df = ca.triplets.loc[(ca.triplets.source==source)&(ca.triplets.sector==s)]"
   ]
  },
  {
   "cell_type": "code",
   "execution_count": 16,
   "id": "620b21a9-5bbd-42a2-adf7-0d9068661d85",
   "metadata": {},
   "outputs": [
    {
     "data": {
      "text/html": [
       "<div>\n",
       "<style scoped>\n",
       "    .dataframe tbody tr th:only-of-type {\n",
       "        vertical-align: middle;\n",
       "    }\n",
       "\n",
       "    .dataframe tbody tr th {\n",
       "        vertical-align: top;\n",
       "    }\n",
       "\n",
       "    .dataframe thead th {\n",
       "        text-align: right;\n",
       "    }\n",
       "</style>\n",
       "<table border=\"1\" class=\"dataframe\">\n",
       "  <thead>\n",
       "    <tr style=\"text-align: right;\">\n",
       "      <th></th>\n",
       "      <th>source</th>\n",
       "      <th>gid</th>\n",
       "      <th>n_tss</th>\n",
       "      <th>n_tes</th>\n",
       "      <th>n_ic</th>\n",
       "      <th>n_iso</th>\n",
       "      <th>splicing_ratio</th>\n",
       "      <th>tss_ratio</th>\n",
       "      <th>tes_ratio</th>\n",
       "      <th>spl_ratio</th>\n",
       "      <th>sector</th>\n",
       "      <th>gname</th>\n",
       "      <th>sample</th>\n",
       "      <th>gene_tpm</th>\n",
       "      <th>dataset</th>\n",
       "    </tr>\n",
       "  </thead>\n",
       "  <tbody>\n",
       "    <tr>\n",
       "      <th>12</th>\n",
       "      <td>obs_major</td>\n",
       "      <td>ENSG00000001497</td>\n",
       "      <td>1.0</td>\n",
       "      <td>2.0</td>\n",
       "      <td>7.0</td>\n",
       "      <td>7.0</td>\n",
       "      <td>4.666667</td>\n",
       "      <td>0.130435</td>\n",
       "      <td>0.260870</td>\n",
       "      <td>0.608696</td>\n",
       "      <td>splicing</td>\n",
       "      <td>LAS1L</td>\n",
       "      <td>NaN</td>\n",
       "      <td>NaN</td>\n",
       "      <td>NaN</td>\n",
       "    </tr>\n",
       "    <tr>\n",
       "      <th>20</th>\n",
       "      <td>obs_major</td>\n",
       "      <td>ENSG00000002330</td>\n",
       "      <td>1.0</td>\n",
       "      <td>1.0</td>\n",
       "      <td>3.0</td>\n",
       "      <td>3.0</td>\n",
       "      <td>3.000000</td>\n",
       "      <td>0.200000</td>\n",
       "      <td>0.200000</td>\n",
       "      <td>0.600000</td>\n",
       "      <td>splicing</td>\n",
       "      <td>BAD</td>\n",
       "      <td>NaN</td>\n",
       "      <td>NaN</td>\n",
       "      <td>NaN</td>\n",
       "    </tr>\n",
       "    <tr>\n",
       "      <th>22</th>\n",
       "      <td>obs_major</td>\n",
       "      <td>ENSG00000002586</td>\n",
       "      <td>1.0</td>\n",
       "      <td>2.0</td>\n",
       "      <td>5.0</td>\n",
       "      <td>5.0</td>\n",
       "      <td>3.333333</td>\n",
       "      <td>0.157895</td>\n",
       "      <td>0.315789</td>\n",
       "      <td>0.526316</td>\n",
       "      <td>splicing</td>\n",
       "      <td>CD99</td>\n",
       "      <td>NaN</td>\n",
       "      <td>NaN</td>\n",
       "      <td>NaN</td>\n",
       "    </tr>\n",
       "    <tr>\n",
       "      <th>51</th>\n",
       "      <td>obs_major</td>\n",
       "      <td>ENSG00000004487</td>\n",
       "      <td>2.0</td>\n",
       "      <td>1.0</td>\n",
       "      <td>7.0</td>\n",
       "      <td>7.0</td>\n",
       "      <td>4.666667</td>\n",
       "      <td>0.260870</td>\n",
       "      <td>0.130435</td>\n",
       "      <td>0.608696</td>\n",
       "      <td>splicing</td>\n",
       "      <td>KDM1A</td>\n",
       "      <td>NaN</td>\n",
       "      <td>NaN</td>\n",
       "      <td>NaN</td>\n",
       "    </tr>\n",
       "    <tr>\n",
       "      <th>84</th>\n",
       "      <td>obs_major</td>\n",
       "      <td>ENSG00000005189</td>\n",
       "      <td>1.0</td>\n",
       "      <td>2.0</td>\n",
       "      <td>8.0</td>\n",
       "      <td>9.0</td>\n",
       "      <td>5.333333</td>\n",
       "      <td>0.120000</td>\n",
       "      <td>0.240000</td>\n",
       "      <td>0.640000</td>\n",
       "      <td>splicing</td>\n",
       "      <td>REXO5</td>\n",
       "      <td>NaN</td>\n",
       "      <td>NaN</td>\n",
       "      <td>NaN</td>\n",
       "    </tr>\n",
       "  </tbody>\n",
       "</table>\n",
       "</div>"
      ],
      "text/plain": [
       "       source              gid  n_tss  n_tes  n_ic  n_iso  splicing_ratio  \\\n",
       "12  obs_major  ENSG00000001497    1.0    2.0   7.0    7.0        4.666667   \n",
       "20  obs_major  ENSG00000002330    1.0    1.0   3.0    3.0        3.000000   \n",
       "22  obs_major  ENSG00000002586    1.0    2.0   5.0    5.0        3.333333   \n",
       "51  obs_major  ENSG00000004487    2.0    1.0   7.0    7.0        4.666667   \n",
       "84  obs_major  ENSG00000005189    1.0    2.0   8.0    9.0        5.333333   \n",
       "\n",
       "    tss_ratio  tes_ratio  spl_ratio    sector  gname sample  gene_tpm dataset  \n",
       "12   0.130435   0.260870   0.608696  splicing  LAS1L    NaN       NaN     NaN  \n",
       "20   0.200000   0.200000   0.600000  splicing    BAD    NaN       NaN     NaN  \n",
       "22   0.157895   0.315789   0.526316  splicing   CD99    NaN       NaN     NaN  \n",
       "51   0.260870   0.130435   0.608696  splicing  KDM1A    NaN       NaN     NaN  \n",
       "84   0.120000   0.240000   0.640000  splicing  REXO5    NaN       NaN     NaN  "
      ]
     },
     "execution_count": 16,
     "metadata": {},
     "output_type": "execute_result"
    }
   ],
   "source": [
    "df.head()"
   ]
  },
  {
   "cell_type": "code",
   "execution_count": 20,
   "id": "a311a970-fbbd-46f4-8f39-d07ab69c2e9b",
   "metadata": {},
   "outputs": [],
   "source": [
    "cons = cons.df"
   ]
  },
  {
   "cell_type": "code",
   "execution_count": 22,
   "id": "0b21292b-f031-4b46-b951-41cc06059435",
   "metadata": {},
   "outputs": [
    {
     "data": {
      "text/plain": [
       "186"
      ]
     },
     "execution_count": 22,
     "metadata": {},
     "output_type": "execute_result"
    }
   ],
   "source": [
    "cons.loc[cons.score < 300]\n",
    "cons.score.min()"
   ]
  },
  {
   "cell_type": "code",
   "execution_count": null,
   "id": "4159f957-543d-475b-aba9-2c6f637f8271",
   "metadata": {},
   "outputs": [],
   "source": []
  },
  {
   "cell_type": "code",
   "execution_count": null,
   "id": "d8521c02-f4b0-412e-9831-632c22629c76",
   "metadata": {},
   "outputs": [],
   "source": []
  },
  {
   "cell_type": "code",
   "execution_count": null,
   "id": "c48386a0-e635-4684-a3d1-27d3cc00d1a5",
   "metadata": {},
   "outputs": [],
   "source": []
  },
  {
   "cell_type": "code",
   "execution_count": null,
   "id": "06e6503c-bb18-4133-971f-6516ded5cc81",
   "metadata": {},
   "outputs": [],
   "source": []
  },
  {
   "cell_type": "code",
   "execution_count": null,
   "id": "c739f12c-8a0d-49d9-adaa-802266fa8a57",
   "metadata": {},
   "outputs": [],
   "source": []
  },
  {
   "cell_type": "code",
   "execution_count": null,
   "id": "e1f594f4-c850-450c-8ed5-465ee8e503e3",
   "metadata": {},
   "outputs": [],
   "source": []
  },
  {
   "cell_type": "code",
   "execution_count": null,
   "id": "7033649a-da41-4dfb-ba4c-6abe5137cca6",
   "metadata": {},
   "outputs": [],
   "source": []
  },
  {
   "cell_type": "code",
   "execution_count": null,
   "id": "8aa800ab-8314-4dd5-a188-2d9d255ebb71",
   "metadata": {},
   "outputs": [],
   "source": []
  },
  {
   "cell_type": "markdown",
   "id": "09083dd0-dfd0-49b6-9e79-2f0e8ab45b57",
   "metadata": {},
   "source": [
    "## GO terms"
   ]
  },
  {
   "cell_type": "code",
   "execution_count": 4,
   "id": "99072135-0c10-4505-b06b-a0fa837782bc",
   "metadata": {},
   "outputs": [],
   "source": [
    "def do_go_thing(df, opref):\n",
    "    dbs = ['GO_Biological_Process_2021',\n",
    "       'GO_Cellular_Component_2021',\n",
    "       'GO_Molecular_Function_2021',\n",
    "       'KEGG_2021_Human']\n",
    "    bm = gp.parser.Biomart()\n",
    "    datasets = bm.get_datasets(mart='ENSEMBL_MART_ENSEMBL')\n",
    "    datasets.loc[datasets.Description.str.contains('Human')]\n",
    "    \n",
    "    for s in df.sector.unique():\n",
    "        print(s)\n",
    "        desc = '{} genes'.format(s)\n",
    "        odir = '{}{}_genes_GO'.format(opref, s)\n",
    "        gids = df.loc[df.sector == s, 'gid'].tolist()\n",
    "        gids = bm.query(dataset='hsapiens_gene_ensembl',\n",
    "               attributes=['ensembl_gene_id', 'external_gene_name'],\n",
    "               filters={'ensembl_gene_id': gids})\n",
    "        gids = gids.loc[~gids.external_gene_name.isna()]\n",
    "        gnames = gids.external_gene_name.squeeze().str.strip().tolist()\n",
    "        go = gp.enrichr(gene_list=gnames,\n",
    "                        gene_sets=dbs,\n",
    "                        organism='Human',\n",
    "                        description=desc,\n",
    "                        outdir=odir,\n",
    "                        cutoff=0.5)"
   ]
  },
  {
   "cell_type": "code",
   "execution_count": 5,
   "id": "946471f4-10b6-404a-bff4-6213d6011a42",
   "metadata": {},
   "outputs": [],
   "source": [
    "ca = cerberus.read(cerberus_h5)"
   ]
  },
  {
   "cell_type": "code",
   "execution_count": 8,
   "id": "8d29c820-34ef-452b-955d-8125f36b76f6",
   "metadata": {},
   "outputs": [
    {
     "name": "stdout",
     "output_type": "stream",
     "text": [
      "26781\n",
      "17523\n"
     ]
    }
   ],
   "source": [
    "source = 'obs_major'\n",
    "df = ca.triplets.loc[ca.triplets.source == source]\n",
    "\n",
    "# limit to protein coding genes\n",
    "gtf_df, _, _ = get_gtf_info(how='gene', ver='v40_cerberus')\n",
    "gtf_df['gid_stable'] = cerberus.get_stable_gid(gtf_df, col='gid')\n",
    "gids = gtf_df.loc[gtf_df.biotype_category=='protein_coding', 'gid_stable'].tolist()\n",
    "print(len(df.index))\n",
    "df = df.loc[df.gid.isin(gids)]\n",
    "print(len(df.index))"
   ]
  },
  {
   "cell_type": "code",
   "execution_count": 9,
   "id": "3e7a3544-ca41-48be-8372-b502d7e1077a",
   "metadata": {},
   "outputs": [
    {
     "name": "stdout",
     "output_type": "stream",
     "text": [
      "tes\n",
      "simple\n",
      "mixed\n",
      "tss\n",
      "splicing\n"
     ]
    }
   ],
   "source": [
    "do_go_thing(df, 'obs_major_')"
   ]
  },
  {
   "cell_type": "code",
   "execution_count": 10,
   "id": "39cbff70-7889-4e60-b626-e443efdf1a83",
   "metadata": {},
   "outputs": [],
   "source": [
    "def rm_go_number(df):\n",
    "    df['term'] = df['Term'].str.split('\\(GO', expand=True)[0]\n",
    "    return df"
   ]
  },
  {
   "cell_type": "code",
   "execution_count": 11,
   "id": "1792c0ac-f53e-442a-835e-7068bfd10d0e",
   "metadata": {},
   "outputs": [
    {
     "data": {
      "image/png": "[encoded data removed]",
      "text/plain": [
       "<Figure size 216x288 with 1 Axes>"
      ]
     },
     "metadata": {
      "needs_background": "light"
     },
     "output_type": "display_data"
    }
   ],
   "source": [
    "# tes - show molecular function\n",
    "df = pd.read_csv('obs_major_tes_genes_GO/GO_Molecular_Function_2021.Human.enrichr.reports.txt', sep='\\t')\n",
    "n = 4\n",
    "kind = 'tes'\n",
    "df = df.head(n)\n",
    "df = rm_go_number(df)\n",
    "color = get_sector_colors()[0][kind]\n",
    "\n",
    "\n",
    "sns.set_context('paper', font_scale=2.2)\n",
    "mpl.rcParams['font.family'] = 'Arial'\n",
    "mpl.rcParams['pdf.fonttype'] = 42\n",
    "plt.figure(figsize=(3,4))\n",
    "ax = sns.barplot(data=df, x='Combined Score', y='term', color=color, saturation=1)\n",
    "ax.spines['right'].set_visible(False)\n",
    "ax.spines['top'].set_visible(False)\n",
    "ax.set(title='GO Molecular Component')\n",
    "\n",
    "xlabel = 'Enrichr Combined Score'\n",
    "ylabel = 'TES-high genes'\n",
    "\n",
    "_ = ax.set(xlabel=xlabel, ylabel=ylabel)\n",
    "fname = 'obs_major_tes_genes_GO/molecular_component_bar.pdf'\n",
    "plt.savefig(fname, dpi=500, bbox_inches='tight')"
   ]
  },
  {
   "cell_type": "code",
   "execution_count": 12,
   "id": "5e6e5b4a-ae6b-425e-bc1d-7e6449d779d9",
   "metadata": {},
   "outputs": [
    {
     "data": {
      "image/png": "[encoded data removed]",
      "text/plain": [
       "<Figure size 216x288 with 1 Axes>"
      ]
     },
     "metadata": {
      "needs_background": "light"
     },
     "output_type": "display_data"
    }
   ],
   "source": [
    "# tes - show molecular function\n",
    "df = pd.read_csv('obs_major_tes_genes_GO/GO_Molecular_Function_2021.Human.enrichr.reports.txt', sep='\\t')\n",
    "n = 2\n",
    "kind = 'tes'\n",
    "df = df.head(n)\n",
    "df = rm_go_number(df)\n",
    "color = get_sector_colors()[0][kind]\n",
    "\n",
    "\n",
    "sns.set_context('paper', font_scale=2.2)\n",
    "mpl.rcParams['font.family'] = 'Arial'\n",
    "mpl.rcParams['pdf.fonttype'] = 42\n",
    "plt.figure(figsize=(3,4))\n",
    "ax = sns.barplot(data=df, x='Combined Score', y='term', color=color, saturation=1)\n",
    "ax.spines['right'].set_visible(False)\n",
    "ax.spines['top'].set_visible(False)\n",
    "ax.set(title='GO Molecular Component')\n",
    "\n",
    "xlabel = 'Enrichr Combined Score'\n",
    "ylabel = 'TES-high genes'\n",
    "\n",
    "_ = ax.set(xlabel=xlabel, ylabel=ylabel)\n",
    "fname = 'obs_major_tes_genes_GO/molecular_component_bar.pdf'\n",
    "plt.savefig(fname, dpi=500, bbox_inches='tight')"
   ]
  },
  {
   "cell_type": "code",
   "execution_count": 13,
   "id": "ca2603e4-0d8c-45e0-84f5-be6e200281b7",
   "metadata": {},
   "outputs": [
    {
     "data": {
      "image/png": "[encoded data removed]",
      "text/plain": [
       "<Figure size 216x288 with 1 Axes>"
      ]
     },
     "metadata": {
      "needs_background": "light"
     },
     "output_type": "display_data"
    }
   ],
   "source": [
    "# simple - show molecular function\n",
    "df = pd.read_csv('obs_major_simple_genes_GO/GO_Molecular_Function_2021.Human.enrichr.reports.txt', sep='\\t')\n",
    "n = 5\n",
    "kind = 'simple'\n",
    "df = df.head(n)\n",
    "df = rm_go_number(df)\n",
    "df = df.sort_values(by='Combined Score', ascending=False)\n",
    "color = get_sector_colors()[0][kind]\n",
    "\n",
    "\n",
    "sns.set_context('paper', font_scale=2.2)\n",
    "mpl.rcParams['font.family'] = 'Arial'\n",
    "mpl.rcParams['pdf.fonttype'] = 42\n",
    "plt.figure(figsize=(3,4))\n",
    "ax = sns.barplot(data=df, x='Combined Score', y='term', color=color, saturation=1)\n",
    "ax.spines['right'].set_visible(False)\n",
    "ax.spines['top'].set_visible(False)\n",
    "ax.set(title='GO Molecular Component')\n",
    "\n",
    "xlabel = 'Enrichr Combined Score'\n",
    "ylabel = 'Simple genes'\n",
    "\n",
    "_ = ax.set(xlabel=xlabel, ylabel=ylabel)\n",
    "fname = 'obs_major_simple_genes_GO/molecular_component_bar.pdf'\n",
    "plt.savefig(fname, dpi=500, bbox_inches='tight')"
   ]
  },
  {
   "cell_type": "code",
   "execution_count": 14,
   "id": "5f3783d3-acf1-4ae6-9a66-8551e665c3cc",
   "metadata": {},
   "outputs": [
    {
     "data": {
      "image/png": "[encoded data removed]",
      "text/plain": [
       "<Figure size 216x288 with 1 Axes>"
      ]
     },
     "metadata": {
      "needs_background": "light"
     },
     "output_type": "display_data"
    }
   ],
   "source": [
    "# simple - show molecular function\n",
    "df = pd.read_csv('obs_major_tss_genes_GO/GO_Molecular_Function_2021.Human.enrichr.reports.txt', sep='\\t')\n",
    "n = 6\n",
    "kind = 'tss'\n",
    "df = df.iloc[[0,3]]\n",
    "df = rm_go_number(df)\n",
    "df = df.sort_values(by='Combined Score', ascending=False)\n",
    "color = get_sector_colors()[0][kind]\n",
    "\n",
    "\n",
    "sns.set_context('paper', font_scale=2.2)\n",
    "mpl.rcParams['font.family'] = 'Arial'\n",
    "mpl.rcParams['pdf.fonttype'] = 42\n",
    "plt.figure(figsize=(3,4))\n",
    "ax = sns.barplot(data=df, x='Combined Score', y='term', color=color, saturation=1)\n",
    "ax.spines['right'].set_visible(False)\n",
    "ax.spines['top'].set_visible(False)\n",
    "ax.set(title='GO Molecular Component')\n",
    "\n",
    "xlabel = 'Enrichr Combined Score'\n",
    "ylabel = 'TSS-high genes'\n",
    "\n",
    "_ = ax.set(xlabel=xlabel, ylabel=ylabel)\n",
    "fname = 'obs_major_tss_genes_GO/molecular_component_bar.pdf'\n",
    "plt.savefig(fname, dpi=500, bbox_inches='tight')"
   ]
  },
  {
   "cell_type": "code",
   "execution_count": null,
   "id": "ba034253-78a3-4944-a81c-fd3dd919cc4a",
   "metadata": {},
   "outputs": [],
   "source": []
  }
 ],
 "metadata": {
  "kernelspec": {
   "display_name": "Python 3",
   "language": "python",
   "name": "python3"
  },
  "language_info": {
   "codemirror_mode": {
    "name": "ipython",
    "version": 3
   },
   "file_extension": ".py",
   "mimetype": "text/x-python",
   "name": "python",
   "nbconvert_exporter": "python",
   "pygments_lexer": "ipython3",
   "version": "3.7.12"
  }
 },
 "nbformat": 4,
 "nbformat_minor": 5
}
