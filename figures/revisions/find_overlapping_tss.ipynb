{
 "cells": [
  {
   "cell_type": "code",
   "execution_count": 2,
   "id": "39a990b9-d0a7-4c94-bea4-24925ac5dce1",
   "metadata": {},
   "outputs": [],
   "source": [
    "import pandas as pd\n",
    "import numpy as np\n",
    "import scipy.stats as st\n",
    "import seaborn as sns\n",
    "import sys\n",
    "import os\n",
    "import gseapy as gp\n",
    "import matplotlib.pyplot as plt\n",
    "import swan_vis as swan\n",
    "import yaml\n",
    "from snakemake.io import expand\n",
    "import itertools\n",
    "\n",
    "p = os.path.dirname(os.path.dirname(os.getcwd()))\n",
    "sys.path.append(p)\n",
    "\n",
    "from scripts.utils import *\n",
    "from scripts.plotting import *"
   ]
  },
  {
   "cell_type": "code",
   "execution_count": 3,
   "id": "e7c197f5-02b2-40c3-ac8e-f7edb5eba418",
   "metadata": {},
   "outputs": [],
   "source": [
    "config_file = '../snakemake/config.yml'\n",
    "with open(config_file) as f:\n",
    "    config = yaml.safe_load(f)"
   ]
  },
  {
   "cell_type": "code",
   "execution_count": 5,
   "id": "21db4294-92ff-497e-9b92-3b976819f368",
   "metadata": {},
   "outputs": [],
   "source": [
    "filt_ab = '../'+expand(config['data']['filt_ab'], species='human')[0]\n",
    "lib_meta = '../'+expand(config['data']['meta'], species='human')[0]\n",
    "cerberus_h5 = '../'+expand(config['data']['cerb_annot'], species='human')[0]\n",
    "ca_plus = '../'+expand(config['data']['ca_plus'], species='human')[0]\n",
    "swan_file = '../'+expand(config['data']['sg'], species='human')[0]\n",
    "gtf = '../'+expand(config['data']['cerb_gtf'], species='human')[0]\n",
    "sfs = '../'+expand(config['ref']['sfs'], species='human')[0]\n",
    "ver = 'v40_cerberus'\n",
    "\n",
    "phastcons = '../'+config['ref']['phastcons100']['txt']\n",
    "\n",
    "gene_subset = 'polya'\n",
    "\n",
    "biosamp_name_map = '../'+expand(config['ref']['biosamp_map'])[0]\n",
    "\n",
    "cage_meta = '../'+expand(config['cage']['meta'], species='human')[0]\n",
    "rampage_meta = '../'+expand(config['rampage']['meta'], species='human')[0]\n",
    "\n",
    "min_tpm = 1"
   ]
  },
  {
   "cell_type": "code",
   "execution_count": 29,
   "id": "8dcd7f4c-cdb3-4978-98a8-3abca5bc8c5b",
   "metadata": {},
   "outputs": [],
   "source": [
    "df, _, _ = get_gtf_info(how='gene',\n",
    "                        subset=gene_subset,\n",
    "                        ver=ver,\n",
    "                        add_stable_gid=True)\n",
    "df = df[['gid_stable', 'gname']]"
   ]
  },
  {
   "cell_type": "code",
   "execution_count": 32,
   "id": "906294c0-4fcf-4935-b6f4-fbcacdd177b6",
   "metadata": {},
   "outputs": [],
   "source": [
    "ca = cerberus.read(cerberus_h5)\n",
    "tss_df = ca.tss.loc[(ca.tss.source.str.contains('lapa'))]"
   ]
  },
  {
   "cell_type": "code",
   "execution_count": 34,
   "id": "b03eba82-2974-48c4-92c8-0ca04de4842b",
   "metadata": {},
   "outputs": [
    {
     "name": "stdout",
     "output_type": "stream",
     "text": [
      "76347\n",
      "71895\n"
     ]
    }
   ],
   "source": [
    "# limit to polya genes\n",
    "print(len(tss_df))\n",
    "tss_df = tss_df.loc[tss_df.gene_id.isin(df.gid_stable.tolist())]\n",
    "print(len(tss_df))\n",
    "\n",
    "# add gname \n",
    "tss_df = tss_df.merge(df, how='left', left_on='gene_id', right_on='gid_stable')\n",
    "tss_df.drop('gid_stable', axis=1, inplace=True)"
   ]
  },
  {
   "cell_type": "code",
   "execution_count": 39,
   "id": "37e87e02-f9ce-48a1-a38d-56bb731f6885",
   "metadata": {},
   "outputs": [],
   "source": [
    "# get two duplicate pyranges objects to merge\n",
    "tss1 = pr.PyRanges(tss_df)\n",
    "tss2 = pr.PyRanges(tss_df)\n",
    "\n",
    "tss1 = tss1.join(tss2,\n",
    "                 how=None,\n",
    "                 strandedness='same',\n",
    "                 slack=0,\n",
    "                 suffix='_other')\n",
    "\n",
    "df = tss1.df\n",
    "df = df.loc[df.gene_id!=df.gene_id_other]"
   ]
  },
  {
   "cell_type": "code",
   "execution_count": null,
   "id": "1139da95-af96-46f5-ba75-e8c2db11e0f2",
   "metadata": {},
   "outputs": [
    {
     "data": {
      "text/plain": [
       "1890"
      ]
     },
     "execution_count": 42,
     "metadata": {},
     "output_type": "execute_result"
    }
   ],
   "source": [
    "len(df.index)"
   ]
  },
  {
   "cell_type": "code",
   "execution_count": 47,
   "id": "d67bb88c-713a-4398-88a1-a4f7e27fd7a7",
   "metadata": {},
   "outputs": [
    {
     "data": {
      "text/plain": [
       "1448"
      ]
     },
     "execution_count": 47,
     "metadata": {},
     "output_type": "execute_result"
    }
   ],
   "source": [
    "gene_ids = list(set(df.gene_id.tolist()+df.gene_id_other.tolist()))\n",
    "len(gene_ids)"
   ]
  },
  {
   "cell_type": "code",
   "execution_count": 46,
   "id": "28ac5b76-6d86-4d02-a0ab-2be18cd7bf78",
   "metadata": {},
   "outputs": [],
   "source": [
    "df.to_csv('readthrough_genes.tsv', sep='\\t')"
   ]
  },
  {
   "cell_type": "code",
   "execution_count": 58,
   "id": "abd89873-f255-446c-ab5c-587ffd7a313e",
   "metadata": {},
   "outputs": [],
   "source": [
    "## how many gencode polya genes are there w/ overlapping tsss\n",
    "df, _, _ = get_gtf_info(how='gene',\n",
    "                        subset=gene_subset,\n",
    "                        ver=ver,\n",
    "                        add_stable_gid=True)\n",
    "df = df[['gid_stable', 'gname']]"
   ]
  },
  {
   "cell_type": "code",
   "execution_count": 59,
   "id": "73f7005c-b494-451c-989f-107c44012065",
   "metadata": {},
   "outputs": [
    {
     "name": "stdout",
     "output_type": "stream",
     "text": [
      "52274\n"
     ]
    }
   ],
   "source": [
    "print(len(df.gid_stable.unique().tolist()))"
   ]
  },
  {
   "cell_type": "code",
   "execution_count": 60,
   "id": "33e50dce-94be-4e56-a3f4-60a6fbca1859",
   "metadata": {},
   "outputs": [],
   "source": [
    "ca = cerberus.read(cerberus_h5)\n",
    "tss_df = ca.tss.loc[(ca.tss.source.str.contains('v40'))]"
   ]
  },
  {
   "cell_type": "code",
   "execution_count": 61,
   "id": "007e39b8-52e7-4fe4-9ad0-eaeb7e75f995",
   "metadata": {},
   "outputs": [
    {
     "data": {
      "text/plain": [
       "2.77001951256839"
      ]
     },
     "execution_count": 61,
     "metadata": {},
     "output_type": "execute_result"
    }
   ],
   "source": [
    "(1448/52274)*100"
   ]
  },
  {
   "cell_type": "code",
   "execution_count": 62,
   "id": "09f3b509-681c-45a4-b000-c1d12e91616e",
   "metadata": {},
   "outputs": [
    {
     "name": "stdout",
     "output_type": "stream",
     "text": [
      "135780\n",
      "126506\n"
     ]
    }
   ],
   "source": [
    "# limit to polya genes\n",
    "print(len(tss_df))\n",
    "tss_df = tss_df.loc[tss_df.gene_id.isin(df.gid_stable.tolist())]\n",
    "print(len(tss_df))\n",
    "\n",
    "# add gname \n",
    "tss_df = tss_df.merge(df, how='left', left_on='gene_id', right_on='gid_stable')\n",
    "tss_df.drop('gid_stable', axis=1, inplace=True)"
   ]
  },
  {
   "cell_type": "code",
   "execution_count": 63,
   "id": "877c7e5b-03d8-40b6-84d0-ee2756917969",
   "metadata": {},
   "outputs": [],
   "source": [
    "# get two duplicate pyranges objects to merge\n",
    "tss1 = pr.PyRanges(tss_df)\n",
    "tss2 = pr.PyRanges(tss_df)\n",
    "\n",
    "tss1 = tss1.join(tss2,\n",
    "                 how=None,\n",
    "                 strandedness='same',\n",
    "                 slack=0,\n",
    "                 suffix='_other')\n",
    "\n",
    "df = tss1.df\n",
    "df = df.loc[df.gene_id!=df.gene_id_other]"
   ]
  },
  {
   "cell_type": "code",
   "execution_count": 65,
   "id": "9b65de67-8745-48f3-adbf-b84cacf6dad6",
   "metadata": {},
   "outputs": [
    {
     "data": {
      "text/plain": [
       "1882"
      ]
     },
     "execution_count": 65,
     "metadata": {},
     "output_type": "execute_result"
    }
   ],
   "source": [
    "gene_ids = list(set(df.gene_id.tolist()+df.gene_id_other.tolist()))\n",
    "len(gene_ids)"
   ]
  },
  {
   "cell_type": "code",
   "execution_count": 66,
   "id": "858671b9-5593-40b9-9007-652afdd3a481",
   "metadata": {},
   "outputs": [],
   "source": [
    "df.to_csv('gencode_readthrough_genes.tsv', sep='\\t')"
   ]
  },
  {
   "cell_type": "code",
   "execution_count": 67,
   "id": "2bd524b8-c72e-4e17-98e5-c2cf8ce9183c",
   "metadata": {},
   "outputs": [],
   "source": [
    "## what's the intersection of gencode read through and observed read through?\n",
    "df1 = pd.read_csv('readthrough_genes.tsv', sep='\\t')\n",
    "df2 = pd.read_csv('gencode_readthrough_genes.tsv', sep='\\t')"
   ]
  },
  {
   "cell_type": "code",
   "execution_count": 99,
   "id": "5b31f88c-db8d-4bc7-b218-bd72e83c5043",
   "metadata": {},
   "outputs": [],
   "source": [
    "def sort_gnames_name_fusion(df):\n",
    "    df = df[['gene_id', 'gname', 'gene_id_other', 'gname_other']]\n",
    "    df['gid_1'] = df[['gene_id', 'gene_id_other']].min(axis=1)\n",
    "    df['gname_1'] = df[['gname', 'gname_other']].min(axis=1)\n",
    "    df['gid_2'] = df[['gene_id', 'gene_id_other']].max(axis=1)\n",
    "    df['gname_2'] = df[['gname', 'gname_other']].max(axis=1)\n",
    "    \n",
    "    df['fusion_name'] = df.gid_1+'-'+df.gid_2\n",
    "    \n",
    "    return df"
   ]
  },
  {
   "cell_type": "code",
   "execution_count": 100,
   "id": "bce97f7e-2abb-4536-b8cd-b1823d4ff4fd",
   "metadata": {},
   "outputs": [],
   "source": [
    "df1 = sort_gnames_name_fusion(df1)\n",
    "df2 = sort_gnames_name_fusion(df2)"
   ]
  },
  {
   "cell_type": "code",
   "execution_count": 101,
   "id": "97237bd3-ad8f-4051-9ff6-a33819de9e22",
   "metadata": {},
   "outputs": [],
   "source": [
    "# for df in [df1, df2]:\n",
    "#     df = df[['gene_id', 'gname', 'gene_id_other', 'gname_other']]\n",
    "#     df['gid_1'] = df[['gene_id', 'gene_id_other']].min(axis=1)\n",
    "#     df['gname_1'] = df[['gname', 'gname_other']].min(axis=1)\n",
    "#     df['gid_2'] = df[['gene_id', 'gene_id_other']].max(axis=1)\n",
    "#     df['gname_2'] = df[['gname', 'gname_other']].max(axis=1)"
   ]
  },
  {
   "cell_type": "code",
   "execution_count": 102,
   "id": "97510853-3840-4d28-a074-54f3384aad44",
   "metadata": {},
   "outputs": [],
   "source": [
    "# df1 = df1[['gene_id', 'gname', 'gene_id_other', 'gname_other']]\n",
    "# df1['gid_1'] = df1[['gene_id', 'gene_id_other']].min(axis=1)\n",
    "# df1['gname_1'] = df1[['gname', 'gname_other']].min(axis=1)\n",
    "# df1['gid_2'] = df1[['gene_id', 'gene_id_other']].max(axis=1)\n",
    "# df1['gname_2'] = df1[['gname', 'gname_other']].max(axis=1)\n",
    "# # df2 = df2[['gene_id', 'gname', 'gene_id_other', 'gname_other']]"
   ]
  },
  {
   "cell_type": "code",
   "execution_count": 107,
   "id": "ed48f5d3-f01e-4d87-b82d-6396343a689f",
   "metadata": {},
   "outputs": [
    {
     "name": "stdout",
     "output_type": "stream",
     "text": [
      "48.90% (708/1448) readthrough events we detect have an equivalent in GENCODE\n"
     ]
    }
   ],
   "source": [
    "# what % of readthrough events that we detect have an equivalent gencode event?\n",
    "n = len(set(df1.gene_id.tolist()+df1.gene_id_other.tolist()))\n",
    "temp = df1.loc[df1.fusion_name.isin(df2.fusion_name.tolist())]\n",
    "n_num = len(set(temp.gene_id.tolist()+temp.gene_id_other.tolist()))\n",
    "print(f'{(n_num/n)*100:.2f}% ({n_num}/{n}) readthrough events we detect have an equivalent in GENCODE')"
   ]
  },
  {
   "cell_type": "code",
   "execution_count": null,
   "id": "08f38cbc-fe05-4d54-8056-3b95adae9e4c",
   "metadata": {},
   "outputs": [],
   "source": []
  },
  {
   "cell_type": "code",
   "execution_count": null,
   "id": "f2a2cedf-8ac5-477f-af34-eb19ac56ae21",
   "metadata": {},
   "outputs": [],
   "source": []
  },
  {
   "cell_type": "code",
   "execution_count": null,
   "id": "5b41c034-8445-44da-8ce4-969e34e6cf21",
   "metadata": {},
   "outputs": [],
   "source": []
  },
  {
   "cell_type": "code",
   "execution_count": null,
   "id": "1c32dd48-6fe7-4ea4-acde-8fdc887b7971",
   "metadata": {},
   "outputs": [],
   "source": []
  },
  {
   "cell_type": "code",
   "execution_count": null,
   "id": "9c19dd0a-045c-4815-b2cb-e08ada65bea9",
   "metadata": {},
   "outputs": [],
   "source": []
  }
 ],
 "metadata": {
  "kernelspec": {
   "display_name": "Python 3",
   "language": "python",
   "name": "python3"
  },
  "language_info": {
   "codemirror_mode": {
    "name": "ipython",
    "version": 3
   },
   "file_extension": ".py",
   "mimetype": "text/x-python",
   "name": "python",
   "nbconvert_exporter": "python",
   "pygments_lexer": "ipython3",
   "version": "3.7.12"
  }
 },
 "nbformat": 4,
 "nbformat_minor": 5
}
