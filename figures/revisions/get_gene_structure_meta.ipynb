{
 "cells": [
  {
   "cell_type": "code",
   "execution_count": 1,
   "id": "9f9045d0-6fd7-4b09-922a-365a72b6b06a",
   "metadata": {},
   "outputs": [],
   "source": [
    "import pandas as pd\n",
    "import numpy as np\n",
    "import scipy.stats as st\n",
    "import seaborn as sns\n",
    "import sys\n",
    "import os\n",
    "import gseapy as gp\n",
    "import matplotlib.pyplot as plt\n",
    "import swan_vis as swan\n",
    "import yaml\n",
    "from snakemake.io import expand\n",
    "import itertools\n",
    "\n",
    "p = os.path.dirname(os.path.dirname(os.getcwd()))\n",
    "sys.path.append(p)\n",
    "\n",
    "from scripts.utils import *\n",
    "from scripts.plotting import *"
   ]
  },
  {
   "cell_type": "code",
   "execution_count": 2,
   "id": "10818620-52ba-4b42-b6ae-6044de2bb977",
   "metadata": {},
   "outputs": [],
   "source": [
    "config_file = '../snakemake/config.yml'\n",
    "with open(config_file) as f:\n",
    "    config = yaml.safe_load(f)"
   ]
  },
  {
   "cell_type": "code",
   "execution_count": 3,
   "id": "7d9fcd93-f652-44d9-836d-b8d1ce968585",
   "metadata": {},
   "outputs": [],
   "source": [
    "filt_ab = '../'+expand(config['data']['filt_ab'], species='human')[0]\n",
    "lib_meta = '../'+expand(config['data']['meta'], species='human')[0]\n",
    "cerberus_h5 = '../'+expand(config['data']['cerb_annot'], species='human')[0]\n",
    "ca_plus = '../'+expand(config['data']['ca_plus'], species='human')[0]\n",
    "swan_file = '../'+expand(config['data']['sg'], species='human')[0]\n",
    "gtf = '../'+expand(config['data']['cerb_gtf'], species='human')[0]\n",
    "\n",
    "phastcons = '../'+config['ref']['phastcons100']['txt']\n",
    "\n",
    "gene_subset = 'polya'\n",
    "\n",
    "biosamp_name_map = '../'+expand(config['ref']['biosamp_map'])[0]\n",
    "\n",
    "cage_meta = '../'+expand(config['cage']['meta'], species='human')[0]\n",
    "rampage_meta = '../'+expand(config['rampage']['meta'], species='human')[0]\n",
    "\n",
    "min_tpm = 1\n",
    "gene_subset = 'protein_coding'"
   ]
  },
  {
   "cell_type": "code",
   "execution_count": 4,
   "id": "7159eb68-02e2-4f5a-95b7-9f2b3f7f9563",
   "metadata": {},
   "outputs": [],
   "source": [
    "filt_ab = '../'+expand(config['data']['filt_ab'], species='human')[0]\n",
    "lib_meta = '../'+expand(config['data']['meta'], species='human')[0]\n",
    "cerberus_h5 = '../'+expand(config['data']['cerb_annot'], species='human')[0]\n",
    "ca_plus = '../'+expand(config['data']['ca_plus'], species='human')[0]\n",
    "swan_file = '../'+expand(config['data']['sg'], species='human')[0]\n",
    "gtf = '../'+expand(config['data']['cerb_gtf'], species='human')[0]\n",
    "\n",
    "phastcons = '../'+config['ref']['phastcons100']['txt']\n",
    "\n",
    "gene_subset = 'polya'\n",
    "\n",
    "biosamp_name_map = '../'+expand(config['ref']['biosamp_map'])[0]\n",
    "\n",
    "cage_meta = '../'+expand(config['cage']['meta'], species='human')[0]\n",
    "rampage_meta = '../'+expand(config['rampage']['meta'], species='human')[0]\n",
    "\n",
    "min_tpm = 1\n",
    "gene_subset = 'protein_coding'"
   ]
  },
  {
   "cell_type": "code",
   "execution_count": null,
   "id": "9e64c07d-daa4-419e-989e-3c8551cd52ee",
   "metadata": {},
   "outputs": [],
   "source": []
  },
  {
   "cell_type": "code",
   "execution_count": 5,
   "id": "37db4253-5b18-4900-bbe5-199bfd136ea0",
   "metadata": {},
   "outputs": [
    {
     "name": "stdout",
     "output_type": "stream",
     "text": [
      "Found attributes with reserved names: ['source'].\n",
      "Renaming attributes with suffix '_attr'\n"
     ]
    }
   ],
   "source": [
    "gtf_df = pr.read_gtf(gtf, rename_attr=True, duplicate_attr=True)"
   ]
  },
  {
   "cell_type": "code",
   "execution_count": 6,
   "id": "7b615c31-47c9-43d9-bf24-0a5c69d3b05d",
   "metadata": {},
   "outputs": [],
   "source": [
    "gene_df = gtf_df.df\n",
    "gene_df = gene_df.loc[gene_df.Feature=='gene']\n",
    "gene_df = gene_df[['gene_id', 'gene_name']]"
   ]
  },
  {
   "cell_type": "code",
   "execution_count": null,
   "id": "bb810bd4-0827-4679-8793-eae11c547865",
   "metadata": {},
   "outputs": [],
   "source": []
  },
  {
   "cell_type": "code",
   "execution_count": null,
   "id": "fee98c7f-9b2a-4857-be4c-62a97b16abc5",
   "metadata": {},
   "outputs": [],
   "source": []
  },
  {
   "cell_type": "code",
   "execution_count": 12,
   "id": "c7a856e0-c3cf-4907-8bf3-acd4132c8495",
   "metadata": {},
   "outputs": [],
   "source": [
    "## mean intron length\n",
    "introns = gtf_df.features.introns(by='transcript').df\n",
    "introns['len'] = (introns.Start-introns.End).abs()\n",
    "temp = introns[['gene_id', 'transcript_id', 'len']].groupby(['gene_id', 'transcript_id']).sum().reset_index()\n",
    "temp = temp[['gene_id', 'len']].groupby('gene_id').mean().reset_index().rename({'len':'mean_intron_len'}, axis=1)\n",
    "temp = cerberus.add_stable_gid(temp)\n",
    "gene_df = gene_df.merge(temp, how='left', on='gene_id')"
   ]
  },
  {
   "cell_type": "code",
   "execution_count": 19,
   "id": "4366a556-4d82-4bfe-91e5-ac43dc53883a",
   "metadata": {},
   "outputs": [],
   "source": [
    "## mean # introns\n",
    "temp = introns[['gene_id', 'transcript_id', 'len']].groupby(['gene_id', 'transcript_id']).count().reset_index()\n",
    "temp = temp[['gene_id', 'len']].groupby('gene_id').mean().reset_index().rename({'len':'mean_n_intron'}, axis=1)\n",
    "temp = cerberus.add_stable_gid(temp)\n",
    "gene_df = gene_df.merge(temp, how='left', on='gene_id')"
   ]
  },
  {
   "cell_type": "code",
   "execution_count": 20,
   "id": "87b5b9fd-03a2-4a1d-b855-8cf7a1db2c51",
   "metadata": {},
   "outputs": [
    {
     "data": {
      "text/html": [
       "<div>\n",
       "<style scoped>\n",
       "    .dataframe tbody tr th:only-of-type {\n",
       "        vertical-align: middle;\n",
       "    }\n",
       "\n",
       "    .dataframe tbody tr th {\n",
       "        vertical-align: top;\n",
       "    }\n",
       "\n",
       "    .dataframe thead th {\n",
       "        text-align: right;\n",
       "    }\n",
       "</style>\n",
       "<table border=\"1\" class=\"dataframe\">\n",
       "  <thead>\n",
       "    <tr style=\"text-align: right;\">\n",
       "      <th></th>\n",
       "      <th>gene_id</th>\n",
       "      <th>gene_name</th>\n",
       "      <th>mean_intron_len</th>\n",
       "      <th>mean_n_intron</th>\n",
       "    </tr>\n",
       "  </thead>\n",
       "  <tbody>\n",
       "    <tr>\n",
       "      <th>0</th>\n",
       "      <td>ENSG00000000460.16</td>\n",
       "      <td>C1orf112</td>\n",
       "      <td>NaN</td>\n",
       "      <td>NaN</td>\n",
       "    </tr>\n",
       "    <tr>\n",
       "      <th>1</th>\n",
       "      <td>ENSG00000000971.15</td>\n",
       "      <td>CFH</td>\n",
       "      <td>NaN</td>\n",
       "      <td>NaN</td>\n",
       "    </tr>\n",
       "    <tr>\n",
       "      <th>2</th>\n",
       "      <td>ENSG00000001461.16</td>\n",
       "      <td>NIPAL3</td>\n",
       "      <td>NaN</td>\n",
       "      <td>NaN</td>\n",
       "    </tr>\n",
       "    <tr>\n",
       "      <th>3</th>\n",
       "      <td>ENSG00000004487.16</td>\n",
       "      <td>KDM1A</td>\n",
       "      <td>NaN</td>\n",
       "      <td>NaN</td>\n",
       "    </tr>\n",
       "    <tr>\n",
       "      <th>4</th>\n",
       "      <td>ENSG00000007933.12</td>\n",
       "      <td>FMO3</td>\n",
       "      <td>NaN</td>\n",
       "      <td>NaN</td>\n",
       "    </tr>\n",
       "  </tbody>\n",
       "</table>\n",
       "</div>"
      ],
      "text/plain": [
       "              gene_id gene_name  mean_intron_len  mean_n_intron\n",
       "0  ENSG00000000460.16  C1orf112              NaN            NaN\n",
       "1  ENSG00000000971.15       CFH              NaN            NaN\n",
       "2  ENSG00000001461.16    NIPAL3              NaN            NaN\n",
       "3  ENSG00000004487.16     KDM1A              NaN            NaN\n",
       "4  ENSG00000007933.12      FMO3              NaN            NaN"
      ]
     },
     "execution_count": 20,
     "metadata": {},
     "output_type": "execute_result"
    }
   ],
   "source": [
    "gene_df.head()"
   ]
  },
  {
   "cell_type": "code",
   "execution_count": null,
   "id": "d806c49e-2227-4981-85c1-86b3ca1da17d",
   "metadata": {},
   "outputs": [],
   "source": [
    "temp.he"
   ]
  }
 ],
 "metadata": {
  "kernelspec": {
   "display_name": "Python 3",
   "language": "python",
   "name": "python3"
  },
  "language_info": {
   "codemirror_mode": {
    "name": "ipython",
    "version": 3
   },
   "file_extension": ".py",
   "mimetype": "text/x-python",
   "name": "python",
   "nbconvert_exporter": "python",
   "pygments_lexer": "ipython3",
   "version": "3.7.12"
  }
 },
 "nbformat": 4,
 "nbformat_minor": 5
}
