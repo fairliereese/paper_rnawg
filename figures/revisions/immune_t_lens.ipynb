{
 "cells": [
  {
   "cell_type": "code",
   "execution_count": 5,
   "id": "421f8516-f1f2-4e87-95a8-d4c9b4a60067",
   "metadata": {},
   "outputs": [],
   "source": [
    "import pandas as pd\n",
    "import seaborn as sns"
   ]
  },
  {
   "cell_type": "code",
   "execution_count": 3,
   "id": "2399c8a6-de32-44b0-9140-5155ea0e9bb7",
   "metadata": {},
   "outputs": [],
   "source": [
    "df  = pd.read_csv('../ref/human/gencode_t_metadata.tsv', sep='\\t')"
   ]
  },
  {
   "cell_type": "code",
   "execution_count": 4,
   "id": "8567edaa-9d8a-4ef4-9781-9bb2a13ec99b",
   "metadata": {},
   "outputs": [
    {
     "data": {
      "text/plain": [
       "655"
      ]
     },
     "execution_count": 4,
     "metadata": {},
     "output_type": "execute_result"
    }
   ],
   "source": [
    "inds = df.loc[df.biotype.str.contains('IG_')].index.tolist()\n",
    "inds += df.loc[df.biotype.str.contains('TR_')].index.tolist()\n",
    "len(inds)"
   ]
  },
  {
   "cell_type": "code",
   "execution_count": 6,
   "id": "875f3271-a0a5-43a8-afa6-3e4508b5543c",
   "metadata": {},
   "outputs": [
    {
     "data": {
      "text/html": [
       "<div>\n",
       "<style scoped>\n",
       "    .dataframe tbody tr th:only-of-type {\n",
       "        vertical-align: middle;\n",
       "    }\n",
       "\n",
       "    .dataframe tbody tr th {\n",
       "        vertical-align: top;\n",
       "    }\n",
       "\n",
       "    .dataframe thead th {\n",
       "        text-align: right;\n",
       "    }\n",
       "</style>\n",
       "<table border=\"1\" class=\"dataframe\">\n",
       "  <thead>\n",
       "    <tr style=\"text-align: right;\">\n",
       "      <th></th>\n",
       "      <th>tid</th>\n",
       "      <th>t_len</th>\n",
       "      <th>gid</th>\n",
       "      <th>gname</th>\n",
       "      <th>biotype</th>\n",
       "      <th>biotype_category</th>\n",
       "      <th>MANE_Select</th>\n",
       "      <th>MANE_Plus_Clinical</th>\n",
       "      <th>tf</th>\n",
       "    </tr>\n",
       "  </thead>\n",
       "  <tbody>\n",
       "    <tr>\n",
       "      <th>13127</th>\n",
       "      <td>ENST00000338912.5</td>\n",
       "      <td>355</td>\n",
       "      <td>ENSG00000188403.7</td>\n",
       "      <td>IGHV1OR15-9</td>\n",
       "      <td>IG_V_gene</td>\n",
       "      <td>other</td>\n",
       "      <td>False</td>\n",
       "      <td>False</td>\n",
       "      <td>False</td>\n",
       "    </tr>\n",
       "    <tr>\n",
       "      <th>15556</th>\n",
       "      <td>ENST00000354689.6</td>\n",
       "      <td>295</td>\n",
       "      <td>ENSG00000270472.3</td>\n",
       "      <td>IGHV3OR16-9</td>\n",
       "      <td>IG_V_gene</td>\n",
       "      <td>other</td>\n",
       "      <td>False</td>\n",
       "      <td>False</td>\n",
       "      <td>False</td>\n",
       "    </tr>\n",
       "    <tr>\n",
       "      <th>16440</th>\n",
       "      <td>ENST00000357453.2</td>\n",
       "      <td>299</td>\n",
       "      <td>ENSG00000197794.2</td>\n",
       "      <td>IGKV7-3</td>\n",
       "      <td>IG_V_pseudogene</td>\n",
       "      <td>other</td>\n",
       "      <td>False</td>\n",
       "      <td>False</td>\n",
       "      <td>False</td>\n",
       "    </tr>\n",
       "    <tr>\n",
       "      <th>25369</th>\n",
       "      <td>ENST00000377032.5</td>\n",
       "      <td>373</td>\n",
       "      <td>ENSG00000278857.1</td>\n",
       "      <td>IGKV1D-12</td>\n",
       "      <td>IG_V_gene</td>\n",
       "      <td>other</td>\n",
       "      <td>False</td>\n",
       "      <td>False</td>\n",
       "      <td>False</td>\n",
       "    </tr>\n",
       "    <tr>\n",
       "      <th>29490</th>\n",
       "      <td>ENST00000390237.2</td>\n",
       "      <td>524</td>\n",
       "      <td>ENSG00000211592.8</td>\n",
       "      <td>IGKC</td>\n",
       "      <td>IG_C_gene</td>\n",
       "      <td>other</td>\n",
       "      <td>False</td>\n",
       "      <td>False</td>\n",
       "      <td>False</td>\n",
       "    </tr>\n",
       "  </tbody>\n",
       "</table>\n",
       "</div>"
      ],
      "text/plain": [
       "                     tid  t_len                gid        gname  \\\n",
       "13127  ENST00000338912.5    355  ENSG00000188403.7  IGHV1OR15-9   \n",
       "15556  ENST00000354689.6    295  ENSG00000270472.3  IGHV3OR16-9   \n",
       "16440  ENST00000357453.2    299  ENSG00000197794.2      IGKV7-3   \n",
       "25369  ENST00000377032.5    373  ENSG00000278857.1    IGKV1D-12   \n",
       "29490  ENST00000390237.2    524  ENSG00000211592.8         IGKC   \n",
       "\n",
       "               biotype biotype_category  MANE_Select  MANE_Plus_Clinical  \\\n",
       "13127        IG_V_gene            other        False               False   \n",
       "15556        IG_V_gene            other        False               False   \n",
       "16440  IG_V_pseudogene            other        False               False   \n",
       "25369        IG_V_gene            other        False               False   \n",
       "29490        IG_C_gene            other        False               False   \n",
       "\n",
       "          tf  \n",
       "13127  False  \n",
       "15556  False  \n",
       "16440  False  \n",
       "25369  False  \n",
       "29490  False  "
      ]
     },
     "execution_count": 6,
     "metadata": {},
     "output_type": "execute_result"
    }
   ],
   "source": [
    "df = df.loc[inds]\n",
    "df.head()"
   ]
  },
  {
   "cell_type": "code",
   "execution_count": 7,
   "id": "8eeb2068-bdeb-4633-9e70-fe8851dcc01f",
   "metadata": {},
   "outputs": [
    {
     "data": {
      "text/plain": [
       "<seaborn.axisgrid.FacetGrid at 0x7fd0f99eb3d0>"
      ]
     },
     "execution_count": 7,
     "metadata": {},
     "output_type": "execute_result"
    },
    {
     "data": {
      "image/png": "[encoded data removed]",
      "text/plain": [
       "<Figure size 360x360 with 1 Axes>"
      ]
     },
     "metadata": {
      "needs_background": "light"
     },
     "output_type": "display_data"
    }
   ],
   "source": [
    "sns.displot(data=df, x='t_len')"
   ]
  },
  {
   "cell_type": "code",
   "execution_count": 8,
   "id": "88411a56-be6a-407e-8fd9-7e6ce18f2a74",
   "metadata": {},
   "outputs": [
    {
     "data": {
      "text/plain": [
       "['IG_V_gene',\n",
       " 'IG_V_pseudogene',\n",
       " 'IG_C_gene',\n",
       " 'IG_J_gene',\n",
       " 'IG_C_pseudogene',\n",
       " 'IG_D_gene',\n",
       " 'IG_J_pseudogene',\n",
       " 'IG_pseudogene',\n",
       " 'TR_V_pseudogene',\n",
       " 'TR_V_gene',\n",
       " 'TR_J_gene',\n",
       " 'TR_C_gene',\n",
       " 'TR_J_pseudogene',\n",
       " 'TR_D_gene']"
      ]
     },
     "execution_count": 8,
     "metadata": {},
     "output_type": "execute_result"
    }
   ],
   "source": [
    "df.biotype.unique().tolist()"
   ]
  },
  {
   "cell_type": "code",
   "execution_count": null,
   "id": "39bb8060-069b-4aee-ad4d-c7942e5deccb",
   "metadata": {},
   "outputs": [],
   "source": []
  }
 ],
 "metadata": {
  "kernelspec": {
   "display_name": "Python 3",
   "language": "python",
   "name": "python3"
  },
  "language_info": {
   "codemirror_mode": {
    "name": "ipython",
    "version": 3
   },
   "file_extension": ".py",
   "mimetype": "text/x-python",
   "name": "python",
   "nbconvert_exporter": "python",
   "pygments_lexer": "ipython3",
   "version": "3.7.12"
  }
 },
 "nbformat": 4,
 "nbformat_minor": 5
}
