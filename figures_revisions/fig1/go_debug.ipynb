{
 "cells": [
  {
   "cell_type": "code",
   "execution_count": 1,
   "id": "a5913608-197a-4715-961f-7da1ae81babe",
   "metadata": {},
   "outputs": [],
   "source": [
    "import gseapy as gp\n",
    "import pandas as pd\n",
    "import os\n",
    "import sys\n",
    "\n",
    "p = os.path.dirname(os.path.dirname(os.getcwd()))\n",
    "sys.path.append(p)\n",
    "\n",
    "from proc_revisions.utils import *\n",
    "from proc_revisions.plotting import *"
   ]
  },
  {
   "cell_type": "code",
   "execution_count": 2,
   "id": "4dbcb7c4-1445-4a6e-981e-f46b05e6a3dd",
   "metadata": {},
   "outputs": [
    {
     "data": {
      "text/html": [
       "<div>\n",
       "<style scoped>\n",
       "    .dataframe tbody tr th:only-of-type {\n",
       "        vertical-align: middle;\n",
       "    }\n",
       "\n",
       "    .dataframe tbody tr th {\n",
       "        vertical-align: top;\n",
       "    }\n",
       "\n",
       "    .dataframe thead th {\n",
       "        text-align: right;\n",
       "    }\n",
       "</style>\n",
       "<table border=\"1\" class=\"dataframe\">\n",
       "  <thead>\n",
       "    <tr style=\"text-align: right;\">\n",
       "      <th></th>\n",
       "      <th>gid</th>\n",
       "    </tr>\n",
       "  </thead>\n",
       "  <tbody>\n",
       "    <tr>\n",
       "      <th>0</th>\n",
       "      <td>ENSG00000116726</td>\n",
       "    </tr>\n",
       "    <tr>\n",
       "      <th>1</th>\n",
       "      <td>ENSG00000121634</td>\n",
       "    </tr>\n",
       "    <tr>\n",
       "      <th>2</th>\n",
       "      <td>ENSG00000143006</td>\n",
       "    </tr>\n",
       "    <tr>\n",
       "      <th>3</th>\n",
       "      <td>ENSG00000153230</td>\n",
       "    </tr>\n",
       "    <tr>\n",
       "      <th>4</th>\n",
       "      <td>ENSG00000159455</td>\n",
       "    </tr>\n",
       "  </tbody>\n",
       "</table>\n",
       "</div>"
      ],
      "text/plain": [
       "               gid\n",
       "0  ENSG00000116726\n",
       "1  ENSG00000121634\n",
       "2  ENSG00000143006\n",
       "3  ENSG00000153230\n",
       "4  ENSG00000159455"
      ]
     },
     "execution_count": 2,
     "metadata": {},
     "output_type": "execute_result"
    }
   ],
   "source": [
    "df = pd.read_csv('undet_gids_human.tsv')\n",
    "df.head()"
   ]
  },
  {
   "cell_type": "code",
   "execution_count": 4,
   "id": "95ea877a-4d0c-495b-8d31-f9807269b594",
   "metadata": {},
   "outputs": [
    {
     "data": {
      "text/html": [
       "<div>\n",
       "<style scoped>\n",
       "    .dataframe tbody tr th:only-of-type {\n",
       "        vertical-align: middle;\n",
       "    }\n",
       "\n",
       "    .dataframe tbody tr th {\n",
       "        vertical-align: top;\n",
       "    }\n",
       "\n",
       "    .dataframe thead th {\n",
       "        text-align: right;\n",
       "    }\n",
       "</style>\n",
       "<table border=\"1\" class=\"dataframe\">\n",
       "  <thead>\n",
       "    <tr style=\"text-align: right;\">\n",
       "      <th></th>\n",
       "      <th>gid</th>\n",
       "      <th>gid_stable</th>\n",
       "      <th>gname</th>\n",
       "    </tr>\n",
       "  </thead>\n",
       "  <tbody>\n",
       "    <tr>\n",
       "      <th>0</th>\n",
       "      <td>ENSG00000116726</td>\n",
       "      <td>ENSG00000116726</td>\n",
       "      <td>PRAMEF12</td>\n",
       "    </tr>\n",
       "    <tr>\n",
       "      <th>1</th>\n",
       "      <td>ENSG00000121634</td>\n",
       "      <td>ENSG00000121634</td>\n",
       "      <td>GJA8</td>\n",
       "    </tr>\n",
       "    <tr>\n",
       "      <th>2</th>\n",
       "      <td>ENSG00000143006</td>\n",
       "      <td>ENSG00000143006</td>\n",
       "      <td>DMRTB1</td>\n",
       "    </tr>\n",
       "    <tr>\n",
       "      <th>3</th>\n",
       "      <td>ENSG00000153230</td>\n",
       "      <td>ENSG00000153230</td>\n",
       "      <td>OR14K1</td>\n",
       "    </tr>\n",
       "    <tr>\n",
       "      <th>4</th>\n",
       "      <td>ENSG00000159455</td>\n",
       "      <td>ENSG00000159455</td>\n",
       "      <td>LCE2B</td>\n",
       "    </tr>\n",
       "  </tbody>\n",
       "</table>\n",
       "</div>"
      ],
      "text/plain": [
       "               gid       gid_stable     gname\n",
       "0  ENSG00000116726  ENSG00000116726  PRAMEF12\n",
       "1  ENSG00000121634  ENSG00000121634      GJA8\n",
       "2  ENSG00000143006  ENSG00000143006    DMRTB1\n",
       "3  ENSG00000153230  ENSG00000153230    OR14K1\n",
       "4  ENSG00000159455  ENSG00000159455     LCE2B"
      ]
     },
     "execution_count": 4,
     "metadata": {},
     "output_type": "execute_result"
    }
   ],
   "source": [
    "gene_df, _, _ = get_gtf_info(how='gene', ver='v40_cerberus', add_stable_gid=True)\n",
    "gene_df.head()\n",
    "df = df.merge(gene_df[['gid_stable', 'gname']], how='left', left_on='gid', right_on='gid_stable')\n",
    "df.head()\n"
   ]
  },
  {
   "cell_type": "code",
   "execution_count": 7,
   "id": "f4ce05df-d009-4e4c-8cf0-476a8ae4b383",
   "metadata": {},
   "outputs": [],
   "source": [
    "# bm = gp.Biomart()\n",
    "# queries ={'ensembl_gene_id': [gids] } \n",
    "# results = bm.query(dataset='hsapiens_gene_ensembl',\n",
    "#                    attributes=['ensembl_gene_id', 'external_gene_name'],\n",
    "                   # filters=queries)"
   ]
  },
  {
   "cell_type": "code",
   "execution_count": 9,
   "id": "248df66b-68b9-4609-b534-ed3ed5eb7d14",
   "metadata": {},
   "outputs": [],
   "source": [
    "# db = 'GO_Biological_Process_2021'\n",
    "# go_bp = gp.get_library(name=db)"
   ]
  },
  {
   "cell_type": "code",
   "execution_count": 9,
   "id": "bda8862d-c452-4e57-adbb-cd8f37da5601",
   "metadata": {},
   "outputs": [],
   "source": [
    "gnames = df.gname.tolist()\n",
    "dbs = ['GO_Biological_Process_2021']"
   ]
  },
  {
   "cell_type": "code",
   "execution_count": 11,
   "id": "cf280d02-a401-4cfe-b136-63366ac12f3a",
   "metadata": {},
   "outputs": [],
   "source": [
    "go = gp.enrichr(gene_list=gnames,\n",
    "                gene_sets=dbs,\n",
    "                organism='Human',\n",
    "                outdir='undet_genes_GO',\n",
    "                cutoff=0.5)"
   ]
  },
  {
   "cell_type": "code",
   "execution_count": null,
   "id": "2dd84c80-710b-4685-9e47-feddc019a6bc",
   "metadata": {},
   "outputs": [],
   "source": [
    "go = gp.enrich(gene_list=gnames,\n",
    "                    gene_sets=go_bp,\n",
    "                    organism='Human',\n",
    "                    description='undet_genes',\n",
    "                    outdir='undet_genes_GO',\n",
    "                    cutoff=0.5)"
   ]
  }
 ],
 "metadata": {
  "kernelspec": {
   "display_name": "Python 3",
   "language": "python",
   "name": "python3"
  },
  "language_info": {
   "codemirror_mode": {
    "name": "ipython",
    "version": 3
   },
   "file_extension": ".py",
   "mimetype": "text/x-python",
   "name": "python",
   "nbconvert_exporter": "python",
   "pygments_lexer": "ipython3",
   "version": "3.7.12"
  }
 },
 "nbformat": 4,
 "nbformat_minor": 5
}
