{
 "cells": [
  {
   "cell_type": "code",
   "execution_count": 2,
   "id": "86e63b6e-b3f3-4247-b1ca-71322dfd037e",
   "metadata": {},
   "outputs": [],
   "source": [
    "import pandas as pd\n",
    "import numpy as np\n",
    "import scipy.stats as st\n",
    "import seaborn as sns\n",
    "import sys\n",
    "import os\n",
    "import gseapy as gp\n",
    "import matplotlib.pyplot as plt\n",
    "import swan_vis as swan\n",
    "import yaml\n",
    "from snakemake.io import expand\n",
    "\n",
    "p = os.path.dirname(os.path.dirname(os.getcwd()))\n",
    "sys.path.append(p)\n",
    "\n",
    "from proc_revisions.utils import *\n",
    "from proc_revisions.mane_utils import *\n",
    "from proc_revisions.plotting import *"
   ]
  },
  {
   "cell_type": "code",
   "execution_count": 3,
   "id": "59d82494-0f0b-4af1-8a0e-efef9b5396c3",
   "metadata": {},
   "outputs": [],
   "source": [
    "od = '../../proc_revisions/'\n",
    "config_file = f'{od}/config.yml'\n",
    "with open(config_file) as f:\n",
    "    config = yaml.safe_load(f)"
   ]
  },
  {
   "cell_type": "code",
   "execution_count": 4,
   "id": "4053df9d-5b65-4252-aa9e-4cc18d217bd6",
   "metadata": {},
   "outputs": [],
   "source": [
    "ab = od+expand(config['lr']['talon']['fusion_fix']['ab'], species='human')[0]\n",
    "filt_ab = od+expand(config['lr']['cerberus']['filt_ab'], species='human')[0]\n",
    "read_annot = od+expand(config['lr']['talon']['full_annot'], species='human')[0]\n",
    "t_metadata = od+expand(config['ref']['cerberus']['new_gtf_t_info'], species='human')[0]\n",
    "lib_meta = od+expand(config['lr']['meta'], species='human')[0]\n",
    "swan_file = od+expand(config['lr']['swan']['sg'], species='human')[0]\n",
    "cerberus_h5 = od+expand(config['lr']['cerberus']['ca_triplets'], species='human', obs_col='sample')[0]\n",
    "cerb_t_metadata = od+expand(config['lr']['cerberus']['gtf_t_info'], species='human')[0]\n",
    "major_isos = od+expand(config['lr']['analysis']['major_isos'], species='human', obs_col='sample')[0]\n",
    "pi_tpm_table = od+expand(config['lr']['mane']['pi_tpm']['triplet'], species='human', obs_col='sample')[0]\n",
    "dataset_exp_gene = od+expand(config['lr']['mane']['exp_gene_subset'], species='human', obs_col='dataset')[0]\n",
    "sample_exp_gene = od+expand(config['lr']['mane']['exp_gene_subset'], species='human', obs_col='sample')[0]\n",
    "pp_summary = od+expand(config['lr']['protein_pred']['summary'], species='human')[0]\n",
    "\n",
    "\n",
    "ref_t_metadata = od+expand(config['ref']['new_gtf_t_info'], species='human')[0]\n",
    "ref_g_metadata = od+expand(config['ref']['new_gtf_g_info'], species='human')[0]\n",
    "\n",
    "# pp_summary = '../'+expand(config['data']['p_pred']['summary'], species='human')[0]\n",
    "\n",
    "m_lib_meta = od+expand(config['lr']['meta'], species='mouse')[0]\n",
    "\n",
    "# orf_fa = '../'+expand(config['data']['p_pred']['orf_fa'], species='human')[0]\n",
    "# pp_bed = '../'+expand(config['data']['p_pred']['cds_bed'], species='human')[0]\n",
    "\n",
    "ver = 'v40_cerberus'\n",
    "min_tpm = 1\n",
    "gene_subset = 'protein_coding'\n",
    "obs_col = 'sample'\n",
    "go_gene_subset = 'protein_coding'\n"
   ]
  },
  {
   "cell_type": "markdown",
   "id": "be86518f-2619-4497-82cc-abc28dfdc94b",
   "metadata": {},
   "source": [
    "# Figures 4 and S11"
   ]
  },
  {
   "cell_type": "markdown",
   "id": "e54f3f40-4c17-4808-aa36-98a777484bbc",
   "metadata": {},
   "source": [
    "## MANE analyses using libraries"
   ]
  },
  {
   "cell_type": "code",
   "execution_count": 4,
   "id": "317e97b0-4e7f-4468-bdc5-686b7f032706",
   "metadata": {},
   "outputs": [],
   "source": [
    "# sg = swan.read(swan_file)\n",
    "# ca = cerberus.read(cerberus_h5)\n",
    "# mp_dfs = mane_analysis(sg, ca, \n",
    "#                        ref_t_metadata,\n",
    "#                        ref_g_metadata,\n",
    "#                        'dataset',\n",
    "#                        min_tpm,\n",
    "#                        dataset_exp_gene,\n",
    "#                        config['lr']['mane']['pi_tpm'])"
   ]
  },
  {
   "cell_type": "code",
   "execution_count": 5,
   "id": "e2694bfa-00bd-4f59-9c41-4f5e5ac6de3e",
   "metadata": {},
   "outputs": [],
   "source": [
    "# get mane and non-mane intron chain IDs\n",
    "df = mp_dfs['ic']\n",
    "\n",
    "nm_df = df.loc[df.ic_princ_is_mane==False].copy(deep=True)[['ic_id_princ']].drop_duplicates()\n",
    "nm_df.rename({'ic_id_princ': 'Name'}, axis=1, inplace=True)\n",
    "nm_df = cerberus.split_cerberus_id(nm_df, 'ic')"
   ]
  },
  {
   "cell_type": "code",
   "execution_count": 6,
   "id": "0183d673-f8a5-497b-9330-a991e6ab948d",
   "metadata": {},
   "outputs": [],
   "source": [
    "mane_df = nm_df[['gene_id']].drop_duplicates()\n",
    "mane_df['Name'] = mane_df['gene_id']+'_'+'1'"
   ]
  },
  {
   "cell_type": "code",
   "execution_count": 7,
   "id": "8c55a608-b565-476e-8bd8-9f03be6309b3",
   "metadata": {},
   "outputs": [],
   "source": [
    "# get ic coords for each non mane predom ic and for mane ics\n",
    "ca = cerberus.read(cerberus_h5)"
   ]
  },
  {
   "cell_type": "code",
   "execution_count": 8,
   "id": "dae8c1a6-b01e-4407-ac3d-32ea4b1f6b39",
   "metadata": {},
   "outputs": [],
   "source": [
    "ic_df = ca.ic.copy(deep=True)\n",
    "ic_df.drop('gene_id', axis=1, inplace=True)\n",
    "nm_df = nm_df.merge(ic_df, how='left', on='Name')\n",
    "mane_df = mane_df.merge(ic_df, how='left', on='Name')"
   ]
  },
  {
   "cell_type": "code",
   "execution_count": 9,
   "id": "81637501-3357-41b5-8e3a-fbe02103474a",
   "metadata": {},
   "outputs": [],
   "source": [
    "nm_df = nm_df[['Name', 'Coordinates', 'novelty', 'gene_id']]\n",
    "mane_df = mane_df[['Name', 'Coordinates', 'gene_id']]\n",
    "df = nm_df.merge(mane_df, on=['gene_id'], how='left', suffixes=('_predom', '_mane'))"
   ]
  },
  {
   "cell_type": "code",
   "execution_count": 10,
   "id": "fd50a38c-5635-478b-8120-c5fd7c403131",
   "metadata": {},
   "outputs": [],
   "source": [
    "# remove unspliced transcripts as definitionally they cannot\n",
    "df['predom_subset_of_mane'] = df.apply(lambda x: x['Coordinates_predom'] in x['Coordinates_mane'] and x['Coordinates_predom'] != '-', axis=1)"
   ]
  },
  {
   "cell_type": "code",
   "execution_count": 11,
   "id": "464b7d8d-f1e6-4752-99f6-ea1b823f997a",
   "metadata": {},
   "outputs": [
    {
     "name": "stdout",
     "output_type": "stream",
     "text": [
      "30.68% of non-mane predom ICs (10301/33580) are partial splice matches to MANE ICs\n"
     ]
    }
   ],
   "source": [
    "temp = df[['Name_predom', 'predom_subset_of_mane']].groupby('predom_subset_of_mane').count().reset_index()\n",
    "n = len(nm_df)\n",
    "n_num = temp.loc[temp.predom_subset_of_mane==True, 'Name_predom'].values[0]\n",
    "print(f'{(n_num/n)*100:.2f}% of non-mane predom ICs ({n_num}/{n}) are partial splice matches to MANE ICs')"
   ]
  },
  {
   "cell_type": "code",
   "execution_count": 12,
   "id": "c21730df-e3da-415f-b9fa-a957741a39fd",
   "metadata": {},
   "outputs": [
    {
     "name": "stdout",
     "output_type": "stream",
     "text": [
      "56.71% of non-MANE subset predom ICs (5842/10301) are annotated\n"
     ]
    }
   ],
   "source": [
    "temp = df[['Name_predom', 'novelty', 'predom_subset_of_mane']].groupby(['predom_subset_of_mane', 'novelty']).count().reset_index()\n",
    "n_num_2 = temp.loc[(temp.novelty=='Known')&(temp.predom_subset_of_mane==True), 'Name_predom'].values[0]\n",
    "print(f'{(n_num_2/n_num)*100:.2f}% of non-MANE subset predom ICs ({n_num_2}/{n_num}) are annotated')"
   ]
  },
  {
   "cell_type": "code",
   "execution_count": 13,
   "id": "24be8f0d-91f5-4159-957a-e3189d889113",
   "metadata": {},
   "outputs": [],
   "source": [
    "## how often are non-mane predominant isoforms from mane clinical?"
   ]
  },
  {
   "cell_type": "code",
   "execution_count": 14,
   "id": "601bc18a-8ec2-4a8e-81df-a6c00b9e366e",
   "metadata": {},
   "outputs": [],
   "source": [
    "df = mp_dfs['triplet']"
   ]
  },
  {
   "cell_type": "code",
   "execution_count": 15,
   "id": "c8602b45-e888-4339-8ff7-a1645717baa9",
   "metadata": {},
   "outputs": [],
   "source": [
    "# get list of non-mane predom tids\n",
    "df = df[['tid_princ']].drop_duplicates()\n",
    "df = df.rename({'tid_princ': 'predom_tid'}, axis=1)\n",
    "df['gid'] = df.predom_tid.str.split('[', n=1, expand=True)[0]"
   ]
  },
  {
   "cell_type": "code",
   "execution_count": 16,
   "id": "38241d8f-9296-4477-bb36-fd3c64492f95",
   "metadata": {},
   "outputs": [],
   "source": [
    "gtf_df, _, _ = get_gtf_info(how='iso', ver='v40_cerberus')"
   ]
  },
  {
   "cell_type": "code",
   "execution_count": 17,
   "id": "16f2fbc7-a9f2-4375-9b9b-ef10d2c79641",
   "metadata": {},
   "outputs": [
    {
     "name": "stdout",
     "output_type": "stream",
     "text": [
      "18600\n",
      "18656\n"
     ]
    }
   ],
   "source": [
    "# get all mane tids, including select and plus clinical\n",
    "mane_tids = gtf_df.loc[(gtf_df.MANE_Select==True)].tid.tolist()\n",
    "print(len(mane_tids))\n",
    "mane_tids = gtf_df.loc[(gtf_df.MANE_Select==True)|(gtf_df.MANE_Plus_Clinical==True)].tid.tolist()\n",
    "print(len(mane_tids))\n",
    "df['not_mane'] = ~df.predom_tid.isin(mane_tids)"
   ]
  },
  {
   "cell_type": "code",
   "execution_count": 18,
   "id": "43a4b312-c789-426c-80b9-811571db4095",
   "metadata": {},
   "outputs": [
    {
     "name": "stdout",
     "output_type": "stream",
     "text": [
      "85.61% of MANE genes (14396/16816) have >=1 library where predom iso != MANE\n"
     ]
    }
   ],
   "source": [
    "temp = df[['gid', 'not_mane']].groupby('gid').any().reset_index().groupby('not_mane').count().reset_index()\n",
    "n = temp['gid'].sum()\n",
    "n_num = temp.loc[temp.not_mane==True, 'gid'].values[0]\n",
    "print(f'{(n_num/n)*100:.2f}% of MANE genes ({n_num}/{n}) have >=1 library where predom iso != MANE')"
   ]
  },
  {
   "cell_type": "code",
   "execution_count": 19,
   "id": "a9352959-17d3-40bc-ba39-10bd31661113",
   "metadata": {},
   "outputs": [
    {
     "name": "stdout",
     "output_type": "stream",
     "text": [
      "85.61% of MANE genes (14396/16816) have >=1 library where predom iso != MANE\n"
     ]
    }
   ],
   "source": [
    "temp = df[['gid', 'not_mane']].groupby('gid').any().reset_index().groupby('not_mane').count().reset_index()\n",
    "n = temp['gid'].sum()\n",
    "n_num = temp.loc[temp.not_mane==True, 'gid'].values[0]\n",
    "print(f'{(n_num/n)*100:.2f}% of MANE genes ({n_num}/{n}) have >=1 library where predom iso != MANE')"
   ]
  },
  {
   "cell_type": "markdown",
   "id": "e67f5540-8ed7-43ae-b1d9-c041778b0d1f",
   "metadata": {},
   "source": [
    "## How many non MANE predominant isoforms encode for a different ORF than MANE?\n",
    "\"For non-MANE predominant transcripts, only 17.0\\% were predicted to have the same ORF as the MANE transcript. Furthermore, 62.1\\% of non-MANE predominant transcripts are predicted to encode for a full ORF that does not undergo NMD.\""
   ]
  },
  {
   "cell_type": "code",
   "execution_count": 1,
   "id": "66d5990d-276f-4b18-9622-7e3e96023b65",
   "metadata": {},
   "outputs": [],
   "source": [
    "import pandas as pd\n",
    "import numpy as np\n",
    "import scipy.stats as st\n",
    "import seaborn as sns\n",
    "import sys\n",
    "import os\n",
    "import gseapy as gp\n",
    "import matplotlib.pyplot as plt\n",
    "import swan_vis as swan\n",
    "import yaml\n",
    "from snakemake.io import expand\n",
    "\n",
    "p = os.path.dirname(os.path.dirname(os.getcwd()))\n",
    "sys.path.append(p)\n",
    "\n",
    "from proc_revisions.utils import *\n",
    "from proc_revisions.mane_utils import *\n",
    "from proc_revisions.plotting import *\n",
    "od = '../../proc_revisions/'\n",
    "config_file = f'{od}/config.yml'\n",
    "with open(config_file) as f:\n",
    "    config = yaml.safe_load(f)\n",
    "ab = od+expand(config['lr']['talon']['fusion_fix']['ab'], species='human')[0]\n",
    "filt_ab = od+expand(config['lr']['cerberus']['filt_ab'], species='human')[0]\n",
    "read_annot = od+expand(config['lr']['talon']['full_annot'], species='human')[0]\n",
    "t_metadata = od+expand(config['ref']['cerberus']['new_gtf_t_info'], species='human')[0]\n",
    "lib_meta = od+expand(config['lr']['meta'], species='human')[0]\n",
    "swan_file = od+expand(config['lr']['swan']['sg'], species='human')[0]\n",
    "cerberus_h5 = od+expand(config['lr']['cerberus']['ca_triplets'], species='human', obs_col='sample')[0]\n",
    "cerb_t_metadata = od+expand(config['lr']['cerberus']['gtf_t_info'], species='human')[0]\n",
    "major_isos = od+expand(config['lr']['analysis']['major_isos'], species='human', obs_col='sample')[0]\n",
    "pi_tpm_table = od+expand(config['lr']['mane']['pi_tpm']['triplet'], species='human', obs_col='sample')[0]\n",
    "dataset_exp_gene = od+expand(config['lr']['mane']['exp_gene_subset'], species='human', obs_col='dataset')[0]\n",
    "sample_exp_gene = od+expand(config['lr']['mane']['exp_gene_subset'], species='human', obs_col='sample')[0]\n",
    "pp_summary = od+expand(config['lr']['protein_pred']['summary'], species='human')[0]\n",
    "\n",
    "\n",
    "ref_t_metadata = od+expand(config['ref']['new_gtf_t_info'], species='human')[0]\n",
    "ref_g_metadata = od+expand(config['ref']['new_gtf_g_info'], species='human')[0]\n",
    "\n",
    "# pp_summary = '../'+expand(config['data']['p_pred']['summary'], species='human')[0]\n",
    "\n",
    "m_lib_meta = od+expand(config['lr']['meta'], species='mouse')[0]\n",
    "\n",
    "# orf_fa = '../'+expand(config['data']['p_pred']['orf_fa'], species='human')[0]\n",
    "# pp_bed = '../'+expand(config['data']['p_pred']['cds_bed'], species='human')[0]\n",
    "\n",
    "ver = 'v40_cerberus'\n",
    "min_tpm = 1\n",
    "gene_subset = 'protein_coding'\n",
    "obs_col = 'sample'\n",
    "go_gene_subset = 'protein_coding'\n",
    "\n"
   ]
  },
  {
   "cell_type": "code",
   "execution_count": 2,
   "id": "7107cdeb-4571-4d7a-a699-058ff63c138d",
   "metadata": {},
   "outputs": [
    {
     "name": "stdout",
     "output_type": "stream",
     "text": [
      "Read in graph from ../../proc_revisions/data/human/lr/swan/swan_graph.p\n",
      "triplet\n",
      "# genes: 16816\n",
      "68.57% (11531/16816) of genes have a non-MANE predominant triplet in 80% of expressed datasets\n",
      "14.38% of genes (2418/16816) have predom == mane in all datasets\n",
      "28.28% of genes (4756/16816) have predom != mane in all datasets\n",
      "32.87% (291184/885967) ranked gene / library combinations where predominant isoform is not MANE\n",
      "72.90% (433602/594783) of gene / dataset combos where MANE is predominant triplet also have a secondary expressed triplet\n",
      "33.74% (255313/756666) of gene / dataset combos  where predominant triplet is not MANE have MANE expression\n",
      "66.26% (501353/756666) of gene / dataset combos  where predominant triplet is not MANE have NO MANE expression\n",
      "85.62% (14398/16816) of genes have >= 1 dataset where the predominant triplet is not MANE\n",
      "71.72% (12060/16816) of genes have >= 1 dataset where the predominant triplet is MANE\n",
      "\n",
      "tss\n",
      "ic\n",
      "tes\n"
     ]
    },
    {
     "data": {
      "image/png": "[encoded data removed]",
      "text/plain": [
       "<Figure size 383.99x220.003 with 1 Axes>"
      ]
     },
     "metadata": {
      "needs_background": "light"
     },
     "output_type": "display_data"
    },
    {
     "data": {
      "image/png": "[encoded data removed]",
      "text/plain": [
       "<Figure size 575.986x275.004 with 1 Axes>"
      ]
     },
     "metadata": {
      "needs_background": "light"
     },
     "output_type": "display_data"
    },
    {
     "data": {
      "text/plain": [
       "<Figure size 288x324 with 0 Axes>"
      ]
     },
     "metadata": {},
     "output_type": "display_data"
    },
    {
     "data": {
      "image/png": "[encoded data removed]",
      "text/plain": [
       "<Figure size 288x324 with 1 Axes>"
      ]
     },
     "metadata": {
      "needs_background": "light"
     },
     "output_type": "display_data"
    },
    {
     "data": {
      "image/png": "[encoded data removed]",
      "text/plain": [
       "<Figure size 432x432 with 3 Axes>"
      ]
     },
     "metadata": {
      "needs_background": "light"
     },
     "output_type": "display_data"
    },
    {
     "data": {
      "image/png": "[encoded data removed]",
      "text/plain": [
       "<Figure size 432x432 with 3 Axes>"
      ]
     },
     "metadata": {
      "needs_background": "light"
     },
     "output_type": "display_data"
    },
    {
     "data": {
      "image/png": "[encoded data removed]",
      "text/plain": [
       "<Figure size 432x432 with 3 Axes>"
      ]
     },
     "metadata": {
      "needs_background": "light"
     },
     "output_type": "display_data"
    },
    {
     "data": {
      "image/png": "[encoded data removed]",
      "text/plain": [
       "<Figure size 360x360 with 1 Axes>"
      ]
     },
     "metadata": {
      "needs_background": "light"
     },
     "output_type": "display_data"
    },
    {
     "data": {
      "image/png": "[encoded data removed]",
      "text/plain": [
       "<Figure size 360x360 with 1 Axes>"
      ]
     },
     "metadata": {
      "needs_background": "light"
     },
     "output_type": "display_data"
    }
   ],
   "source": [
    "sg = swan.read(swan_file)\n",
    "ca = cerberus.read(cerberus_h5)\n",
    "mp_dfs = mane_analysis(sg, ca, \n",
    "                       ref_t_metadata,\n",
    "                       ref_g_metadata,\n",
    "                       'dataset',\n",
    "                       min_tpm,\n",
    "                       dataset_exp_gene,\n",
    "                       config['lr']['mane']['pi_tpm'],\n",
    "                       feats=['triplet'])"
   ]
  },
  {
   "cell_type": "code",
   "execution_count": 3,
   "id": "d223b65d-6f30-400d-92f6-f1c2c286fe23",
   "metadata": {},
   "outputs": [],
   "source": [
    "temp = mp_dfs['triplet'].copy(deep=True)"
   ]
  },
  {
   "cell_type": "code",
   "execution_count": 4,
   "id": "659a9488-d00b-4e32-8918-a3b8c7ed2aba",
   "metadata": {},
   "outputs": [
    {
     "data": {
      "text/html": [
       "<div>\n",
       "<style scoped>\n",
       "    .dataframe tbody tr th:only-of-type {\n",
       "        vertical-align: middle;\n",
       "    }\n",
       "\n",
       "    .dataframe tbody tr th {\n",
       "        vertical-align: top;\n",
       "    }\n",
       "\n",
       "    .dataframe thead th {\n",
       "        text-align: right;\n",
       "    }\n",
       "</style>\n",
       "<table border=\"1\" class=\"dataframe\">\n",
       "  <thead>\n",
       "    <tr style=\"text-align: right;\">\n",
       "      <th></th>\n",
       "      <th>tid_princ</th>\n",
       "      <th>dataset</th>\n",
       "      <th>triplet_tpm_princ</th>\n",
       "      <th>triplet_pi_princ</th>\n",
       "      <th>gid</th>\n",
       "      <th>gname</th>\n",
       "      <th>triplet_rank_princ</th>\n",
       "      <th>tid_mane</th>\n",
       "      <th>triplet_tpm_mane</th>\n",
       "      <th>triplet_pi_mane</th>\n",
       "      <th>triplet_rank_mane</th>\n",
       "      <th>tid_sec</th>\n",
       "      <th>triplet_tpm_sec</th>\n",
       "      <th>triplet_pi_sec</th>\n",
       "      <th>triplet_rank_sec</th>\n",
       "      <th>triplet_princ_is_mane</th>\n",
       "      <th>triplet_sec_is_mane</th>\n",
       "    </tr>\n",
       "  </thead>\n",
       "  <tbody>\n",
       "    <tr>\n",
       "      <th>0</th>\n",
       "      <td>ENSG00000285043[5,14,1]</td>\n",
       "      <td>wtc11_1_3</td>\n",
       "      <td>243.88269</td>\n",
       "      <td>97.440580</td>\n",
       "      <td>ENSG00000285043</td>\n",
       "      <td>ENSG00000285043</td>\n",
       "      <td>1</td>\n",
       "      <td>ENSG00000285043[1,1,1]</td>\n",
       "      <td>0.000000</td>\n",
       "      <td>0.365631</td>\n",
       "      <td>4.0</td>\n",
       "      <td>ENSG00000285043[6,15,1]</td>\n",
       "      <td>3.202962</td>\n",
       "      <td>1.279708</td>\n",
       "      <td>2.0</td>\n",
       "      <td>False</td>\n",
       "      <td>False</td>\n",
       "    </tr>\n",
       "    <tr>\n",
       "      <th>1</th>\n",
       "      <td>ENSG00000285043[5,14,1]</td>\n",
       "      <td>wtc11_1_2</td>\n",
       "      <td>408.38892</td>\n",
       "      <td>97.247710</td>\n",
       "      <td>ENSG00000285043</td>\n",
       "      <td>ENSG00000285043</td>\n",
       "      <td>1</td>\n",
       "      <td>ENSG00000285043[1,1,1]</td>\n",
       "      <td>0.000000</td>\n",
       "      <td>0.229358</td>\n",
       "      <td>5.0</td>\n",
       "      <td>ENSG00000285043[4,14,1]</td>\n",
       "      <td>5.779089</td>\n",
       "      <td>1.376147</td>\n",
       "      <td>2.0</td>\n",
       "      <td>False</td>\n",
       "      <td>False</td>\n",
       "    </tr>\n",
       "    <tr>\n",
       "      <th>2</th>\n",
       "      <td>ENSG00000285043[5,14,1]</td>\n",
       "      <td>wtc11_1_1</td>\n",
       "      <td>209.99948</td>\n",
       "      <td>97.889180</td>\n",
       "      <td>ENSG00000285043</td>\n",
       "      <td>ENSG00000285043</td>\n",
       "      <td>1</td>\n",
       "      <td>ENSG00000285043[1,1,1]</td>\n",
       "      <td>2.264145</td>\n",
       "      <td>1.055409</td>\n",
       "      <td>2.0</td>\n",
       "      <td>ENSG00000285043[1,1,1]</td>\n",
       "      <td>2.264145</td>\n",
       "      <td>1.055409</td>\n",
       "      <td>2.0</td>\n",
       "      <td>False</td>\n",
       "      <td>True</td>\n",
       "    </tr>\n",
       "    <tr>\n",
       "      <th>3</th>\n",
       "      <td>ENSG00000285043[5,14,1]</td>\n",
       "      <td>upper_lobe_of_right_lung_1_1</td>\n",
       "      <td>60.49463</td>\n",
       "      <td>91.803276</td>\n",
       "      <td>ENSG00000285043</td>\n",
       "      <td>ENSG00000285043</td>\n",
       "      <td>1</td>\n",
       "      <td>ENSG00000285043[1,1,1]</td>\n",
       "      <td>2.160522</td>\n",
       "      <td>3.278688</td>\n",
       "      <td>2.0</td>\n",
       "      <td>ENSG00000285043[1,1,1]</td>\n",
       "      <td>2.160522</td>\n",
       "      <td>3.278688</td>\n",
       "      <td>2.0</td>\n",
       "      <td>False</td>\n",
       "      <td>True</td>\n",
       "    </tr>\n",
       "    <tr>\n",
       "      <th>4</th>\n",
       "      <td>ENSG00000285043[5,14,1]</td>\n",
       "      <td>right_ventricle_myocardium_superior_1_1</td>\n",
       "      <td>542.48620</td>\n",
       "      <td>98.964490</td>\n",
       "      <td>ENSG00000285043</td>\n",
       "      <td>ENSG00000285043</td>\n",
       "      <td>1</td>\n",
       "      <td>NaN</td>\n",
       "      <td>0.000000</td>\n",
       "      <td>NaN</td>\n",
       "      <td>NaN</td>\n",
       "      <td>ENSG00000285043[5,13,1]</td>\n",
       "      <td>3.243565</td>\n",
       "      <td>0.591716</td>\n",
       "      <td>2.0</td>\n",
       "      <td>False</td>\n",
       "      <td>False</td>\n",
       "    </tr>\n",
       "  </tbody>\n",
       "</table>\n",
       "</div>"
      ],
      "text/plain": [
       "                 tid_princ                                  dataset  \\\n",
       "0  ENSG00000285043[5,14,1]                                wtc11_1_3   \n",
       "1  ENSG00000285043[5,14,1]                                wtc11_1_2   \n",
       "2  ENSG00000285043[5,14,1]                                wtc11_1_1   \n",
       "3  ENSG00000285043[5,14,1]             upper_lobe_of_right_lung_1_1   \n",
       "4  ENSG00000285043[5,14,1]  right_ventricle_myocardium_superior_1_1   \n",
       "\n",
       "   triplet_tpm_princ  triplet_pi_princ              gid            gname  \\\n",
       "0          243.88269         97.440580  ENSG00000285043  ENSG00000285043   \n",
       "1          408.38892         97.247710  ENSG00000285043  ENSG00000285043   \n",
       "2          209.99948         97.889180  ENSG00000285043  ENSG00000285043   \n",
       "3           60.49463         91.803276  ENSG00000285043  ENSG00000285043   \n",
       "4          542.48620         98.964490  ENSG00000285043  ENSG00000285043   \n",
       "\n",
       "   triplet_rank_princ                tid_mane  triplet_tpm_mane  \\\n",
       "0                   1  ENSG00000285043[1,1,1]          0.000000   \n",
       "1                   1  ENSG00000285043[1,1,1]          0.000000   \n",
       "2                   1  ENSG00000285043[1,1,1]          2.264145   \n",
       "3                   1  ENSG00000285043[1,1,1]          2.160522   \n",
       "4                   1                     NaN          0.000000   \n",
       "\n",
       "   triplet_pi_mane  triplet_rank_mane                  tid_sec  \\\n",
       "0         0.365631                4.0  ENSG00000285043[6,15,1]   \n",
       "1         0.229358                5.0  ENSG00000285043[4,14,1]   \n",
       "2         1.055409                2.0   ENSG00000285043[1,1,1]   \n",
       "3         3.278688                2.0   ENSG00000285043[1,1,1]   \n",
       "4              NaN                NaN  ENSG00000285043[5,13,1]   \n",
       "\n",
       "   triplet_tpm_sec  triplet_pi_sec  triplet_rank_sec  triplet_princ_is_mane  \\\n",
       "0         3.202962        1.279708               2.0                  False   \n",
       "1         5.779089        1.376147               2.0                  False   \n",
       "2         2.264145        1.055409               2.0                  False   \n",
       "3         2.160522        3.278688               2.0                  False   \n",
       "4         3.243565        0.591716               2.0                  False   \n",
       "\n",
       "   triplet_sec_is_mane  \n",
       "0                False  \n",
       "1                False  \n",
       "2                 True  \n",
       "3                 True  \n",
       "4                False  "
      ]
     },
     "execution_count": 4,
     "metadata": {},
     "output_type": "execute_result"
    }
   ],
   "source": [
    "temp.head()"
   ]
  },
  {
   "cell_type": "code",
   "execution_count": 5,
   "id": "d562df63-36b6-4849-837e-53fbe49bae89",
   "metadata": {},
   "outputs": [
    {
     "data": {
      "text/html": [
       "<div>\n",
       "<style scoped>\n",
       "    .dataframe tbody tr th:only-of-type {\n",
       "        vertical-align: middle;\n",
       "    }\n",
       "\n",
       "    .dataframe tbody tr th {\n",
       "        vertical-align: top;\n",
       "    }\n",
       "\n",
       "    .dataframe thead th {\n",
       "        text-align: right;\n",
       "    }\n",
       "</style>\n",
       "<table border=\"1\" class=\"dataframe\">\n",
       "  <thead>\n",
       "    <tr style=\"text-align: right;\">\n",
       "      <th></th>\n",
       "      <th>tid</th>\n",
       "      <th>t_len</th>\n",
       "      <th>gid</th>\n",
       "      <th>gname</th>\n",
       "      <th>biotype</th>\n",
       "      <th>biotype_category</th>\n",
       "      <th>readthrough_transcript</th>\n",
       "      <th>MANE_Select</th>\n",
       "      <th>MANE_Plus_Clinical</th>\n",
       "      <th>tf</th>\n",
       "    </tr>\n",
       "  </thead>\n",
       "  <tbody>\n",
       "    <tr>\n",
       "      <th>0</th>\n",
       "      <td>ENST00000000233.10</td>\n",
       "      <td>1038</td>\n",
       "      <td>ENSG00000004059.11</td>\n",
       "      <td>ARF5</td>\n",
       "      <td>protein_coding</td>\n",
       "      <td>protein_coding</td>\n",
       "      <td>False</td>\n",
       "      <td>True</td>\n",
       "      <td>False</td>\n",
       "      <td>False</td>\n",
       "    </tr>\n",
       "    <tr>\n",
       "      <th>1</th>\n",
       "      <td>ENST00000000412.8</td>\n",
       "      <td>2457</td>\n",
       "      <td>ENSG00000003056.8</td>\n",
       "      <td>M6PR</td>\n",
       "      <td>protein_coding</td>\n",
       "      <td>protein_coding</td>\n",
       "      <td>False</td>\n",
       "      <td>True</td>\n",
       "      <td>False</td>\n",
       "      <td>False</td>\n",
       "    </tr>\n",
       "    <tr>\n",
       "      <th>2</th>\n",
       "      <td>ENST00000000442.11</td>\n",
       "      <td>2281</td>\n",
       "      <td>ENSG00000173153.17</td>\n",
       "      <td>ESRRA</td>\n",
       "      <td>protein_coding</td>\n",
       "      <td>protein_coding</td>\n",
       "      <td>False</td>\n",
       "      <td>True</td>\n",
       "      <td>False</td>\n",
       "      <td>True</td>\n",
       "    </tr>\n",
       "    <tr>\n",
       "      <th>3</th>\n",
       "      <td>ENST00000001008.6</td>\n",
       "      <td>3725</td>\n",
       "      <td>ENSG00000004478.8</td>\n",
       "      <td>FKBP4</td>\n",
       "      <td>protein_coding</td>\n",
       "      <td>protein_coding</td>\n",
       "      <td>False</td>\n",
       "      <td>True</td>\n",
       "      <td>False</td>\n",
       "      <td>False</td>\n",
       "    </tr>\n",
       "    <tr>\n",
       "      <th>4</th>\n",
       "      <td>ENST00000001146.7</td>\n",
       "      <td>4562</td>\n",
       "      <td>ENSG00000003137.9</td>\n",
       "      <td>CYP26B1</td>\n",
       "      <td>protein_coding</td>\n",
       "      <td>protein_coding</td>\n",
       "      <td>False</td>\n",
       "      <td>True</td>\n",
       "      <td>False</td>\n",
       "      <td>False</td>\n",
       "    </tr>\n",
       "  </tbody>\n",
       "</table>\n",
       "</div>"
      ],
      "text/plain": [
       "                  tid  t_len                 gid    gname         biotype  \\\n",
       "0  ENST00000000233.10   1038  ENSG00000004059.11     ARF5  protein_coding   \n",
       "1   ENST00000000412.8   2457   ENSG00000003056.8     M6PR  protein_coding   \n",
       "2  ENST00000000442.11   2281  ENSG00000173153.17    ESRRA  protein_coding   \n",
       "3   ENST00000001008.6   3725   ENSG00000004478.8    FKBP4  protein_coding   \n",
       "4   ENST00000001146.7   4562   ENSG00000003137.9  CYP26B1  protein_coding   \n",
       "\n",
       "  biotype_category readthrough_transcript  MANE_Select  MANE_Plus_Clinical  \\\n",
       "0   protein_coding                  False         True               False   \n",
       "1   protein_coding                  False         True               False   \n",
       "2   protein_coding                  False         True               False   \n",
       "3   protein_coding                  False         True               False   \n",
       "4   protein_coding                  False         True               False   \n",
       "\n",
       "      tf  \n",
       "0  False  \n",
       "1  False  \n",
       "2   True  \n",
       "3  False  \n",
       "4  False  "
      ]
     },
     "execution_count": 5,
     "metadata": {},
     "output_type": "execute_result"
    }
   ],
   "source": [
    "meta_df = pd.read_csv(ref_t_metadata, sep='\\t')\n",
    "meta_df.head()"
   ]
  },
  {
   "cell_type": "code",
   "execution_count": 15,
   "id": "6d439c1b-77dd-4823-bc05-3d9c51ba1767",
   "metadata": {},
   "outputs": [],
   "source": [
    "assert len(temp.loc[(temp.tid_princ.str.contains('\\[1,1,1\\]'))&(temp.triplet_princ_is_mane==False)]) == 0"
   ]
  },
  {
   "cell_type": "code",
   "execution_count": 8,
   "id": "a499ea41-e3c0-41f6-92f8-e304a90ce38d",
   "metadata": {},
   "outputs": [
    {
     "data": {
      "text/html": [
       "<div>\n",
       "<style scoped>\n",
       "    .dataframe tbody tr th:only-of-type {\n",
       "        vertical-align: middle;\n",
       "    }\n",
       "\n",
       "    .dataframe tbody tr th {\n",
       "        vertical-align: top;\n",
       "    }\n",
       "\n",
       "    .dataframe thead th {\n",
       "        text-align: right;\n",
       "    }\n",
       "</style>\n",
       "<table border=\"1\" class=\"dataframe\">\n",
       "  <thead>\n",
       "    <tr style=\"text-align: right;\">\n",
       "      <th></th>\n",
       "      <th>tid_princ</th>\n",
       "      <th>dataset</th>\n",
       "      <th>triplet_tpm_princ</th>\n",
       "      <th>triplet_pi_princ</th>\n",
       "      <th>gid</th>\n",
       "      <th>gname</th>\n",
       "      <th>triplet_rank_princ</th>\n",
       "      <th>tid_mane</th>\n",
       "      <th>triplet_tpm_mane</th>\n",
       "      <th>triplet_pi_mane</th>\n",
       "      <th>triplet_rank_mane</th>\n",
       "      <th>tid_sec</th>\n",
       "      <th>triplet_tpm_sec</th>\n",
       "      <th>triplet_pi_sec</th>\n",
       "      <th>triplet_rank_sec</th>\n",
       "      <th>triplet_princ_is_mane</th>\n",
       "      <th>triplet_sec_is_mane</th>\n",
       "    </tr>\n",
       "  </thead>\n",
       "  <tbody>\n",
       "    <tr>\n",
       "      <th>143</th>\n",
       "      <td>ENSG00000284791[1,1,1]</td>\n",
       "      <td>upper_lobe_of_right_lung_1_1</td>\n",
       "      <td>4.321045</td>\n",
       "      <td>50.0</td>\n",
       "      <td>ENSG00000284791</td>\n",
       "      <td>SMIM41</td>\n",
       "      <td>1</td>\n",
       "      <td>ENSG00000284791[1,1,1]</td>\n",
       "      <td>4.321045</td>\n",
       "      <td>50.0</td>\n",
       "      <td>1.0</td>\n",
       "      <td>ENSG00000284791[1,1,2]</td>\n",
       "      <td>4.321045</td>\n",
       "      <td>50.0</td>\n",
       "      <td>2.0</td>\n",
       "      <td>True</td>\n",
       "      <td>False</td>\n",
       "    </tr>\n",
       "    <tr>\n",
       "      <th>145</th>\n",
       "      <td>ENSG00000284791[1,1,1]</td>\n",
       "      <td>posterior_vena_cava_1_1</td>\n",
       "      <td>1.032485</td>\n",
       "      <td>100.0</td>\n",
       "      <td>ENSG00000284791</td>\n",
       "      <td>SMIM41</td>\n",
       "      <td>1</td>\n",
       "      <td>ENSG00000284791[1,1,1]</td>\n",
       "      <td>1.032485</td>\n",
       "      <td>100.0</td>\n",
       "      <td>1.0</td>\n",
       "      <td>NaN</td>\n",
       "      <td>0.000000</td>\n",
       "      <td>NaN</td>\n",
       "      <td>NaN</td>\n",
       "      <td>True</td>\n",
       "      <td>False</td>\n",
       "    </tr>\n",
       "    <tr>\n",
       "      <th>147</th>\n",
       "      <td>ENSG00000284791[1,1,1]</td>\n",
       "      <td>ovary_3_1</td>\n",
       "      <td>3.407201</td>\n",
       "      <td>100.0</td>\n",
       "      <td>ENSG00000284791</td>\n",
       "      <td>SMIM41</td>\n",
       "      <td>1</td>\n",
       "      <td>ENSG00000284791[1,1,1]</td>\n",
       "      <td>3.407201</td>\n",
       "      <td>100.0</td>\n",
       "      <td>1.0</td>\n",
       "      <td>NaN</td>\n",
       "      <td>0.000000</td>\n",
       "      <td>NaN</td>\n",
       "      <td>NaN</td>\n",
       "      <td>True</td>\n",
       "      <td>False</td>\n",
       "    </tr>\n",
       "    <tr>\n",
       "      <th>148</th>\n",
       "      <td>ENSG00000284791[1,1,1]</td>\n",
       "      <td>ovary_2_1</td>\n",
       "      <td>4.543627</td>\n",
       "      <td>100.0</td>\n",
       "      <td>ENSG00000284791</td>\n",
       "      <td>SMIM41</td>\n",
       "      <td>1</td>\n",
       "      <td>ENSG00000284791[1,1,1]</td>\n",
       "      <td>4.543627</td>\n",
       "      <td>100.0</td>\n",
       "      <td>1.0</td>\n",
       "      <td>NaN</td>\n",
       "      <td>0.000000</td>\n",
       "      <td>NaN</td>\n",
       "      <td>NaN</td>\n",
       "      <td>True</td>\n",
       "      <td>False</td>\n",
       "    </tr>\n",
       "    <tr>\n",
       "      <th>149</th>\n",
       "      <td>ENSG00000284791[1,1,1]</td>\n",
       "      <td>ovary_1_1</td>\n",
       "      <td>1.988835</td>\n",
       "      <td>100.0</td>\n",
       "      <td>ENSG00000284791</td>\n",
       "      <td>SMIM41</td>\n",
       "      <td>1</td>\n",
       "      <td>ENSG00000284791[1,1,1]</td>\n",
       "      <td>1.988835</td>\n",
       "      <td>100.0</td>\n",
       "      <td>1.0</td>\n",
       "      <td>NaN</td>\n",
       "      <td>0.000000</td>\n",
       "      <td>NaN</td>\n",
       "      <td>NaN</td>\n",
       "      <td>True</td>\n",
       "      <td>False</td>\n",
       "    </tr>\n",
       "  </tbody>\n",
       "</table>\n",
       "</div>"
      ],
      "text/plain": [
       "                  tid_princ                       dataset  triplet_tpm_princ  \\\n",
       "143  ENSG00000284791[1,1,1]  upper_lobe_of_right_lung_1_1           4.321045   \n",
       "145  ENSG00000284791[1,1,1]       posterior_vena_cava_1_1           1.032485   \n",
       "147  ENSG00000284791[1,1,1]                     ovary_3_1           3.407201   \n",
       "148  ENSG00000284791[1,1,1]                     ovary_2_1           4.543627   \n",
       "149  ENSG00000284791[1,1,1]                     ovary_1_1           1.988835   \n",
       "\n",
       "     triplet_pi_princ              gid   gname  triplet_rank_princ  \\\n",
       "143              50.0  ENSG00000284791  SMIM41                   1   \n",
       "145             100.0  ENSG00000284791  SMIM41                   1   \n",
       "147             100.0  ENSG00000284791  SMIM41                   1   \n",
       "148             100.0  ENSG00000284791  SMIM41                   1   \n",
       "149             100.0  ENSG00000284791  SMIM41                   1   \n",
       "\n",
       "                   tid_mane  triplet_tpm_mane  triplet_pi_mane  \\\n",
       "143  ENSG00000284791[1,1,1]          4.321045             50.0   \n",
       "145  ENSG00000284791[1,1,1]          1.032485            100.0   \n",
       "147  ENSG00000284791[1,1,1]          3.407201            100.0   \n",
       "148  ENSG00000284791[1,1,1]          4.543627            100.0   \n",
       "149  ENSG00000284791[1,1,1]          1.988835            100.0   \n",
       "\n",
       "     triplet_rank_mane                 tid_sec  triplet_tpm_sec  \\\n",
       "143                1.0  ENSG00000284791[1,1,2]         4.321045   \n",
       "145                1.0                     NaN         0.000000   \n",
       "147                1.0                     NaN         0.000000   \n",
       "148                1.0                     NaN         0.000000   \n",
       "149                1.0                     NaN         0.000000   \n",
       "\n",
       "     triplet_pi_sec  triplet_rank_sec  triplet_princ_is_mane  \\\n",
       "143            50.0               2.0                   True   \n",
       "145             NaN               NaN                   True   \n",
       "147             NaN               NaN                   True   \n",
       "148             NaN               NaN                   True   \n",
       "149             NaN               NaN                   True   \n",
       "\n",
       "     triplet_sec_is_mane  \n",
       "143                False  \n",
       "145                False  \n",
       "147                False  \n",
       "148                False  \n",
       "149                False  "
      ]
     },
     "execution_count": 8,
     "metadata": {},
     "output_type": "execute_result"
    }
   ],
   "source": [
    "temp.loc[temp.tid_princ.str.contains('1,1,1')].head()"
   ]
  },
  {
   "cell_type": "code",
   "execution_count": null,
   "id": "1f358785-1512-4b64-8312-6e224e3686db",
   "metadata": {},
   "outputs": [],
   "source": []
  },
  {
   "cell_type": "code",
   "execution_count": null,
   "id": "db1c4aa1-00b2-4afa-84ee-cfcfbb82b1a7",
   "metadata": {},
   "outputs": [],
   "source": [
    "# gtf_df, _, _ = get_gtf_info(ver='v40_cerberus', how='iso')\n",
    "# gtf_df = gtf_df.loc[gtf_df.MANE_Select==True]\n",
    "# gtf_df['gid_stable'] = cerberus.get_stable_gid(gtf_df, 'gid')\n",
    "# gtf_df = gtf_df[['tid', 'gid_stable']]\n",
    "# gtf_df.rename({'tid': 'tid_mane'},\n",
    "#               axis=1,\n",
    "#               inplace=True)\n",
    "# gtf_df.head()"
   ]
  },
  {
   "cell_type": "code",
   "execution_count": 44,
   "id": "d57e988e-1257-4e5f-afe6-56a0dc189232",
   "metadata": {},
   "outputs": [],
   "source": [
    "# temp = mp_dfs['triplet'].copy(deep=True)\n",
    "# temp = temp[['tid_princ', 'gid']].drop_duplicates()\n",
    "# temp = temp.merge(gtf_df, \n",
    "#                   how='left',\n",
    "#                   left_on='gid',\n",
    "#                   right_on='gid_stable')\n"
   ]
  },
  {
   "cell_type": "code",
   "execution_count": 45,
   "id": "dc0cebe6-ee2c-4056-b856-db9e89c649b8",
   "metadata": {},
   "outputs": [],
   "source": [
    "# temp.loc[temp.tid_mane.isnull()]"
   ]
  },
  {
   "cell_type": "code",
   "execution_count": 46,
   "id": "8563dca8-c431-4692-84cb-7357cc3a31e5",
   "metadata": {},
   "outputs": [],
   "source": [
    "# temp.head()"
   ]
  },
  {
   "cell_type": "code",
   "execution_count": 47,
   "id": "a6d918c9-3ac9-44fe-a875-6f01c23899d0",
   "metadata": {},
   "outputs": [],
   "source": [
    "# # limit to non-MANE predominant transcripts\n",
    "# print(len(temp.index))\n",
    "# temp = temp.loc[temp.tid_princ!=temp.tid_mane]\n",
    "# print(len(temp.index))\n",
    "            "
   ]
  },
  {
   "cell_type": "code",
   "execution_count": 48,
   "id": "89132b65-4344-4439-8c7e-1a53a595cdd8",
   "metadata": {},
   "outputs": [],
   "source": [
    "# # merge in seqs for the MANE and non-MANE ORFs\n",
    "# pp = pd.read_csv(pp_summary, sep='\\t')"
   ]
  },
  {
   "cell_type": "code",
   "execution_count": 49,
   "id": "f3374c97-a416-4c67-b89a-e8ca6ab48f48",
   "metadata": {},
   "outputs": [],
   "source": [
    "# temp"
   ]
  },
  {
   "cell_type": "code",
   "execution_count": 50,
   "id": "d4fef3b0-75c5-497d-a6ec-222755b048f1",
   "metadata": {},
   "outputs": [],
   "source": [
    "# pp"
   ]
  },
  {
   "cell_type": "code",
   "execution_count": 51,
   "id": "ad01b073-d561-42ad-ab03-dcff79efb8a7",
   "metadata": {},
   "outputs": [],
   "source": [
    "# # predominant orf stuff\n",
    "# temp = temp.merge(pp[['tid', 'seq', 'nmd']],\n",
    "#                   how='left', \n",
    "#                   left_on='tid_princ', \n",
    "#                   right_on='tid')\n",
    "# temp.drop('tid', axis=1, inplace=True)\n",
    "# temp.rename({'seq':'orf_seq_princ',\n",
    "#              'nmd':'nmd_princ'}, axis=1, inplace=True)\n",
    "\n",
    "# # mane orf stuff\n",
    "# temp = temp.merge(pp[['tid', 'seq', 'nmd']],\n",
    "#                   how='left',\n",
    "#                   left_on='tid_mane', \n",
    "#                   right_on='tid')\n",
    "# temp.drop('tid', axis=1, inplace=True)\n",
    "# temp.rename({'seq':'orf_seq_mane',\n",
    "#              'nmd':'nmd_mane'}, axis=1, inplace=True)\n",
    "# temp.head()"
   ]
  },
  {
   "cell_type": "code",
   "execution_count": null,
   "id": "ef48403b-9660-4292-ad51-206504150f0f",
   "metadata": {},
   "outputs": [],
   "source": []
  },
  {
   "cell_type": "code",
   "execution_count": null,
   "id": "7a29b9e0-b0b5-45d8-8180-83d94f5916dc",
   "metadata": {},
   "outputs": [],
   "source": []
  },
  {
   "cell_type": "code",
   "execution_count": null,
   "id": "59137701-7c47-454e-8491-adb43e4d5619",
   "metadata": {},
   "outputs": [],
   "source": []
  },
  {
   "cell_type": "markdown",
   "id": "3012ceb2-e464-41b7-b68c-000f39a708d4",
   "metadata": {},
   "source": [
    "## MANE analyses using samples"
   ]
  },
  {
   "cell_type": "code",
   "execution_count": 5,
   "id": "34ce9ff4-ed90-4e47-9b8b-103e118419e7",
   "metadata": {},
   "outputs": [],
   "source": [
    "sg = swan.read(swan_file)\n",
    "ca = cerberus.read(cerberus_h5)\n",
    "mp_dfs = mane_analysis(sg, ca, \n",
    "                       ref_t_metadata,\n",
    "                       ref_g_metadata,\n",
    "                       'sample',\n",
    "                       min_tpm,\n",
    "                       sample_exp_gene,\n",
    "                       config['lr']['mane']['pi_tpm'],\n",
    "                       feats=['triplet'])"
   ]
  },
  {
   "cell_type": "code",
   "execution_count": null,
   "id": "2f04adc4-dce6-418d-a909-e39e46e1fe67",
   "metadata": {},
   "outputs": [],
   "source": []
  }
 ],
 "metadata": {
  "kernelspec": {
   "display_name": "Python 3",
   "language": "python",
   "name": "python3"
  },
  "language_info": {
   "codemirror_mode": {
    "name": "ipython",
    "version": 3
   },
   "file_extension": ".py",
   "mimetype": "text/x-python",
   "name": "python",
   "nbconvert_exporter": "python",
   "pygments_lexer": "ipython3",
   "version": "3.7.12"
  }
 },
 "nbformat": 4,
 "nbformat_minor": 5
}
