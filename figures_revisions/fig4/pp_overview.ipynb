{
 "cells": [
  {
   "cell_type": "code",
   "execution_count": 1,
   "id": "f8d5a371-7520-4342-9a0d-a8bf43e8fbca",
   "metadata": {},
   "outputs": [],
   "source": [
    "import pandas as pd\n",
    "import numpy as np\n",
    "import scipy.stats as st\n",
    "import seaborn as sns\n",
    "import sys\n",
    "import os\n",
    "import gseapy as gp\n",
    "import matplotlib.pyplot as plt\n",
    "import swan_vis as swan\n",
    "import yaml\n",
    "from snakemake.io import expand\n",
    "from Bio import SeqIO\n",
    "\n",
    "p = os.path.dirname(os.path.dirname(os.getcwd()))\n",
    "sys.path.append(p)\n",
    "\n",
    "from proc_revisions.utils import *\n",
    "from proc_revisions.mane_utils import *\n",
    "from proc_revisions.plotting import *"
   ]
  },
  {
   "cell_type": "code",
   "execution_count": 16,
   "id": "a0569d6c-9e6c-440c-83c9-903ea18b9238",
   "metadata": {},
   "outputs": [],
   "source": [
    "od = '../../proc_revisions/'\n",
    "config_file = f'{od}/config.yml'\n",
    "with open(config_file) as f:\n",
    "    config = yaml.safe_load(f)"
   ]
  },
  {
   "cell_type": "code",
   "execution_count": 22,
   "id": "67482374-1fca-4236-89d3-5c7cea8cc194",
   "metadata": {},
   "outputs": [],
   "source": [
    "ab = od+expand(config['lr']['talon']['fusion_fix']['ab'], species='human')[0]\n",
    "filt_ab = od+expand(config['lr']['cerberus']['filt_ab'], species='human')[0]\n",
    "read_annot = od+expand(config['lr']['talon']['full_annot'], species='human')[0]\n",
    "t_metadata = od+expand(config['ref']['cerberus']['new_gtf_t_info'], species='human')[0]\n",
    "lib_meta = od+expand(config['lr']['meta'], species='human')[0]\n",
    "swan_file = od+expand(config['lr']['swan']['sg'], species='human')[0]\n",
    "cerberus_h5 = od+expand(config['lr']['cerberus']['ca_triplets'], species='human', obs_col='sample')[0]\n",
    "cerb_t_metadata = od+expand(config['lr']['cerberus']['gtf_t_info'], species='human')[0]\n",
    "major_isos = od+expand(config['lr']['analysis']['major_isos'], species='human', obs_col='sample')[0]\n",
    "pi_tpm_table = od+expand(config['lr']['mane']['pi_tpm']['triplet'], species='human', obs_col='sample')[0]\n",
    "dataset_exp_gene = od+expand(config['lr']['mane']['exp_gene_subset'], species='human', obs_col='dataset')[0]\n",
    "sample_exp_gene = od+expand(config['lr']['mane']['exp_gene_subset'], species='human', obs_col='sample')[0]\n",
    "pp_summary = od+expand(config['lr']['protein_pred']['summary'], species='human')[0]\n",
    "mane_pp = od+expand(config['ref']['new_gtf_aa'], species='human')[0]\n",
    "\n",
    "ref_t_metadata = od+expand(config['ref']['new_gtf_t_info'], species='human')[0]\n",
    "ref_g_metadata = od+expand(config['ref']['new_gtf_g_info'], species='human')[0]\n",
    "\n",
    "# pp_summary = '../'+expand(config['data']['p_pred']['summary'], species='human')[0]\n",
    "\n",
    "m_lib_meta = od+expand(config['lr']['meta'], species='mouse')[0]\n",
    "\n",
    "# orf_fa = '../'+expand(config['data']['p_pred']['orf_fa'], species='human')[0]\n",
    "# pp_bed = '../'+expand(config['data']['p_pred']['cds_bed'], species='human')[0]\n",
    "\n",
    "ver = 'v40_cerberus'\n",
    "min_tpm = 1\n",
    "gene_subset = 'protein_coding'\n",
    "obs_col = 'sample'\n",
    "go_gene_subset = 'protein_coding'\n",
    "\n",
    "m_ab = od+expand(config['lr']['talon']['fusion_fix']['ab'], species='mouse')[0]\n",
    "m_filt_ab = od+expand(config['lr']['cerberus']['filt_ab'], species='mouse')[0]\n",
    "m_read_annot = od+expand(config['lr']['talon']['full_annot'], species='mouse')[0]\n",
    "m_t_metadata = od+expand(config['ref']['cerberus']['new_gtf_t_info'], species='mouse')[0]\n",
    "m_lib_meta = od+expand(config['lr']['meta'], species='mouse')[0]\n",
    "m_swan_file = od+expand(config['lr']['swan']['sg'], species='mouse')[0]\n",
    "m_cerberus_h5 = od+expand(config['lr']['cerberus']['ca_triplets'], species='mouse', obs_col='sample')[0]\n",
    "cerb_t_metadata = od+expand(config['lr']['cerberus']['gtf_t_info'], species='mouse')[0]\n",
    "m_major_isos = od+expand(config['lr']['analysis']['major_isos'], species='mouse', obs_col='sample')[0]\n",
    "m_pi_tpm_table = od+expand(config['lr']['mane']['pi_tpm']['triplet'], species='mouse', obs_col='sample')[0]\n",
    "m_pp_summary = od+expand(config['lr']['protein_pred']['summary'], species='mouse')[0]\n",
    "\n",
    "\n",
    "m_ref_t_metadata = od+expand(config['ref']['new_gtf_t_info'], species='mouse')[0]\n",
    "m_ref_g_metadata = od+expand(config['ref']['new_gtf_g_info'], species='mouse')[0]\n",
    "\n",
    "mouse_ver = 'vM25_cerberus'"
   ]
  },
  {
   "cell_type": "markdown",
   "id": "91ee4eba-fa6e-4e36-ac77-0f6d4b8913d6",
   "metadata": {},
   "source": [
    "# Human "
   ]
  },
  {
   "cell_type": "markdown",
   "id": "c2b683a2-8a04-42ac-bd56-794de02c4236",
   "metadata": {},
   "source": [
    "## What % of novel IC protein coding transcripts are predicted to be NMD or non-coding?"
   ]
  },
  {
   "cell_type": "code",
   "execution_count": 92,
   "id": "a341e7ed-126d-4b1e-a251-a15dd9c514b2",
   "metadata": {},
   "outputs": [],
   "source": [
    "def find_pc_tids(h5,\n",
    "                 pp_file,\n",
    "                 filt_ab,\n",
    "                 species,\n",
    "                 min_tpm):\n",
    "    ca = cerberus.read(h5)\n",
    "    df = pd.read_csv(pp_file, sep='\\t')\n",
    "    iso_df = pd.read_csv(filt_ab, sep='\\t')\n",
    "    iso_df, tids = get_tpm_table(iso_df,\n",
    "                               how='iso',\n",
    "                               min_tpm=min_tpm,\n",
    "                               gene_subset=gene_subset,\n",
    "                               species=species)\n",
    "    \n",
    "    # add novelty to iso df\n",
    "    feat = 'ic'\n",
    "    ca = cerberus.read(cerberus_h5)\n",
    "    temp = ca.ic.copy(deep=True)\n",
    "    temp = temp[['Name', 'novelty']]\n",
    "    temp.rename({'Name':'ic'}, axis=1, inplace=True)\n",
    "    iso_df = add_feat(iso_df, col='index', kind='ic')\n",
    "    iso_df = iso_df.merge(temp[['Name', 'novelty']], how='left', on='ic')\n",
    "    temp = iso_df.loc[iso_df.ic_novelty != 'Known']\n",
    "    \n",
    "    import pdb; pdb.set_trace()\n",
    "    \n",
    "    \n",
    "    # get tids for each protein pred\n",
    "    df = df.loc[df.tid.isin(tids)]\n",
    "    len(df.index)\n",
    "    \n",
    "    n = len(temp.index)\n",
    "    n_num = len(temp.loc[(temp.full_orf == True)&(temp.nmd == False)].index)\n",
    "    print(f'{(n_num/n)*100:.2f}% ({n_num}/{n}) of protein coding transcripts with novel ICs have a full ORF and no NMD')\n",
    "    \n",
    "    if species == 'human':\n",
    "        refs = ['v40', 'v29']\n",
    "    elif species == 'mouse':\n",
    "        refs = ['vM21', 'vM25']\n",
    "    \n",
    "    # number of novel transcripts (including 5' / 3' end)\n",
    "    ref = ca.t_map.loc[ca.t_map.source.isin(refs)]\n",
    "    ref_tids = ref.transcript_id.unique().tolist()\n",
    "    temp = df.loc[~df.tid.isin(ref_tids)]\n",
    "    n = len(temp.index)\n",
    "    n_num = len(temp.loc[(temp.nmd == False)&(temp.full_orf == True)].index)\n",
    "    print(f'{(n_num/n)*100:.2f}% ({n_num}/{n}) of novel protein coding transcripts have a full ORF and no NMD')"
   ]
  },
  {
   "cell_type": "code",
   "execution_count": null,
   "id": "1297be31-c4b1-40f4-9ecf-e88031b72f6e",
   "metadata": {},
   "outputs": [
    {
     "name": "stdout",
     "output_type": "stream",
     "text": [
      "Calculating iso TPM values\n",
      "Subsetting for protein_coding genes\n"
     ]
    },
    {
     "name": "stderr",
     "output_type": "stream",
     "text": [
      "/Users/fairliereese/Documents/programming/mortazavi_lab/data/paper_rnawg/proc_revisions/utils.py:2087: PerformanceWarning: DataFrame is highly fragmented.  This is usually the result of calling `frame.insert` many times, which has poor performance.  Consider joining all columns at once using pd.concat(axis=1) instead.  To get a de-fragmented frame, use `newframe = frame.copy()`\n",
      "  df[tpm_col] = (df[d]*1000000)/df[total_col]\n",
      "/Users/fairliereese/Documents/programming/mortazavi_lab/data/paper_rnawg/proc_revisions/utils.py:2086: PerformanceWarning: DataFrame is highly fragmented.  This is usually the result of calling `frame.insert` many times, which has poor performance.  Consider joining all columns at once using pd.concat(axis=1) instead.  To get a de-fragmented frame, use `newframe = frame.copy()`\n",
      "  df[total_col] = df[d].sum()\n"
     ]
    },
    {
     "name": "stdout",
     "output_type": "stream",
     "text": [
      "Enforcing minimum TPM\n",
      "Total # isos detected: 236615\n",
      "# isos >= 1 tpm: 213476\n",
      "Applying gene type and novelty subset\n",
      "Number of isos reported: 191325\n"
     ]
    }
   ],
   "source": [
    "df = find_pc_tids(cerberus_h5,\n",
    "             pp_summary,\n",
    "             filt_ab,\n",
    "             'human',\n",
    "             min_tpm=min_tpm)"
   ]
  },
  {
   "cell_type": "code",
   "execution_count": 83,
   "id": "48a2e153-b48c-4230-823b-91cb530cc46e",
   "metadata": {},
   "outputs": [],
   "source": [
    "## whadda hecc is happening here\n",
    "df.head()\n"
   ]
  },
  {
   "cell_type": "code",
   "execution_count": 86,
   "id": "d6279d57-7299-4317-80f7-ce080442ede8",
   "metadata": {},
   "outputs": [],
   "source": [
    "ca = cerberus.read(cerberus_h5)\n",
    "temp = ca.ic.copy(deep=True)\n",
    "df = add_feat(df, col='index', kind='ic')\n",
    "df = df.merge(temp[['Name', 'novelty']], how='left', left_on='ic', right_on='Name')\n"
   ]
  },
  {
   "cell_type": "code",
   "execution_count": 90,
   "id": "d756203b-e6ac-4131-a9cb-a6498b1d82cd",
   "metadata": {},
   "outputs": [
    {
     "data": {
      "text/html": [
       "<div>\n",
       "<style scoped>\n",
       "    .dataframe tbody tr th:only-of-type {\n",
       "        vertical-align: middle;\n",
       "    }\n",
       "\n",
       "    .dataframe tbody tr th {\n",
       "        vertical-align: top;\n",
       "    }\n",
       "\n",
       "    .dataframe thead th {\n",
       "        text-align: right;\n",
       "    }\n",
       "</style>\n",
       "<table border=\"1\" class=\"dataframe\">\n",
       "  <thead>\n",
       "    <tr style=\"text-align: right;\">\n",
       "      <th></th>\n",
       "      <th>hffc6_1_2</th>\n",
       "      <th>mucosa_of_descending_colon_1_1</th>\n",
       "      <th>hl60_m1_12hr_1_2</th>\n",
       "      <th>ovary_3_1</th>\n",
       "      <th>hct116_1_1</th>\n",
       "      <th>hl60_m2_24hr_1_2</th>\n",
       "      <th>calu3_1_1</th>\n",
       "      <th>caco2_1_2</th>\n",
       "      <th>huvec_1_1</th>\n",
       "      <th>cardiac_septum_1_1</th>\n",
       "      <th>...</th>\n",
       "      <th>ocily7_1_2</th>\n",
       "      <th>heart_left_ventricle_4_1</th>\n",
       "      <th>h9_chondro_1_1</th>\n",
       "      <th>pgp1_1_1</th>\n",
       "      <th>lower_lobe_of_right_lung_1_1</th>\n",
       "      <th>a673_1_2</th>\n",
       "      <th>hepg2_1_1</th>\n",
       "      <th>ic</th>\n",
       "      <th>Name</th>\n",
       "      <th>novelty</th>\n",
       "    </tr>\n",
       "  </thead>\n",
       "  <tbody>\n",
       "    <tr>\n",
       "      <th>0</th>\n",
       "      <td>0.000000</td>\n",
       "      <td>0.000000</td>\n",
       "      <td>0.0</td>\n",
       "      <td>0.000000</td>\n",
       "      <td>1.078233</td>\n",
       "      <td>0.0</td>\n",
       "      <td>1.868680</td>\n",
       "      <td>10.064443</td>\n",
       "      <td>0.000000</td>\n",
       "      <td>0.000000</td>\n",
       "      <td>...</td>\n",
       "      <td>0.0</td>\n",
       "      <td>0.000000</td>\n",
       "      <td>0.837785</td>\n",
       "      <td>0.000000</td>\n",
       "      <td>1.169899</td>\n",
       "      <td>2.510343</td>\n",
       "      <td>3.089794</td>\n",
       "      <td>ENSG00000000003_1</td>\n",
       "      <td>ENSG00000000003_1</td>\n",
       "      <td>Known</td>\n",
       "    </tr>\n",
       "    <tr>\n",
       "      <th>1</th>\n",
       "      <td>9.581481</td>\n",
       "      <td>68.713567</td>\n",
       "      <td>0.0</td>\n",
       "      <td>20.443209</td>\n",
       "      <td>8.625867</td>\n",
       "      <td>0.0</td>\n",
       "      <td>36.439267</td>\n",
       "      <td>84.541318</td>\n",
       "      <td>9.831176</td>\n",
       "      <td>0.000000</td>\n",
       "      <td>...</td>\n",
       "      <td>0.0</td>\n",
       "      <td>4.362171</td>\n",
       "      <td>5.864493</td>\n",
       "      <td>25.636599</td>\n",
       "      <td>5.849493</td>\n",
       "      <td>33.471235</td>\n",
       "      <td>43.257112</td>\n",
       "      <td>ENSG00000000003_1</td>\n",
       "      <td>ENSG00000000003_1</td>\n",
       "      <td>Known</td>\n",
       "    </tr>\n",
       "    <tr>\n",
       "      <th>2</th>\n",
       "      <td>1.596913</td>\n",
       "      <td>1.908710</td>\n",
       "      <td>0.0</td>\n",
       "      <td>0.000000</td>\n",
       "      <td>3.234700</td>\n",
       "      <td>0.0</td>\n",
       "      <td>1.868680</td>\n",
       "      <td>8.051554</td>\n",
       "      <td>0.578304</td>\n",
       "      <td>0.000000</td>\n",
       "      <td>...</td>\n",
       "      <td>0.0</td>\n",
       "      <td>0.000000</td>\n",
       "      <td>0.000000</td>\n",
       "      <td>0.000000</td>\n",
       "      <td>1.169899</td>\n",
       "      <td>0.836781</td>\n",
       "      <td>3.089794</td>\n",
       "      <td>ENSG00000000003_1</td>\n",
       "      <td>ENSG00000000003_1</td>\n",
       "      <td>Known</td>\n",
       "    </tr>\n",
       "    <tr>\n",
       "      <th>3</th>\n",
       "      <td>30.341356</td>\n",
       "      <td>114.522612</td>\n",
       "      <td>0.0</td>\n",
       "      <td>23.850410</td>\n",
       "      <td>26.955834</td>\n",
       "      <td>0.0</td>\n",
       "      <td>102.777420</td>\n",
       "      <td>168.076192</td>\n",
       "      <td>35.854876</td>\n",
       "      <td>4.412956</td>\n",
       "      <td>...</td>\n",
       "      <td>0.0</td>\n",
       "      <td>5.816228</td>\n",
       "      <td>15.917910</td>\n",
       "      <td>51.273199</td>\n",
       "      <td>7.019391</td>\n",
       "      <td>46.022948</td>\n",
       "      <td>82.188513</td>\n",
       "      <td>ENSG00000000003_1</td>\n",
       "      <td>ENSG00000000003_1</td>\n",
       "      <td>Known</td>\n",
       "    </tr>\n",
       "    <tr>\n",
       "      <th>4</th>\n",
       "      <td>25.550616</td>\n",
       "      <td>169.875209</td>\n",
       "      <td>0.0</td>\n",
       "      <td>20.443209</td>\n",
       "      <td>17.251734</td>\n",
       "      <td>0.0</td>\n",
       "      <td>74.747214</td>\n",
       "      <td>181.159967</td>\n",
       "      <td>45.686051</td>\n",
       "      <td>0.000000</td>\n",
       "      <td>...</td>\n",
       "      <td>0.0</td>\n",
       "      <td>4.362171</td>\n",
       "      <td>16.755695</td>\n",
       "      <td>34.182133</td>\n",
       "      <td>7.019391</td>\n",
       "      <td>27.613769</td>\n",
       "      <td>40.167319</td>\n",
       "      <td>ENSG00000000003_1</td>\n",
       "      <td>ENSG00000000003_1</td>\n",
       "      <td>Known</td>\n",
       "    </tr>\n",
       "  </tbody>\n",
       "</table>\n",
       "<p>5 rows × 141 columns</p>\n",
       "</div>"
      ],
      "text/plain": [
       "   hffc6_1_2  mucosa_of_descending_colon_1_1  hl60_m1_12hr_1_2  ovary_3_1  \\\n",
       "0   0.000000                        0.000000               0.0   0.000000   \n",
       "1   9.581481                       68.713567               0.0  20.443209   \n",
       "2   1.596913                        1.908710               0.0   0.000000   \n",
       "3  30.341356                      114.522612               0.0  23.850410   \n",
       "4  25.550616                      169.875209               0.0  20.443209   \n",
       "\n",
       "   hct116_1_1  hl60_m2_24hr_1_2   calu3_1_1   caco2_1_2  huvec_1_1  \\\n",
       "0    1.078233               0.0    1.868680   10.064443   0.000000   \n",
       "1    8.625867               0.0   36.439267   84.541318   9.831176   \n",
       "2    3.234700               0.0    1.868680    8.051554   0.578304   \n",
       "3   26.955834               0.0  102.777420  168.076192  35.854876   \n",
       "4   17.251734               0.0   74.747214  181.159967  45.686051   \n",
       "\n",
       "   cardiac_septum_1_1  ...  ocily7_1_2  heart_left_ventricle_4_1  \\\n",
       "0            0.000000  ...         0.0                  0.000000   \n",
       "1            0.000000  ...         0.0                  4.362171   \n",
       "2            0.000000  ...         0.0                  0.000000   \n",
       "3            4.412956  ...         0.0                  5.816228   \n",
       "4            0.000000  ...         0.0                  4.362171   \n",
       "\n",
       "   h9_chondro_1_1   pgp1_1_1  lower_lobe_of_right_lung_1_1   a673_1_2  \\\n",
       "0        0.837785   0.000000                      1.169899   2.510343   \n",
       "1        5.864493  25.636599                      5.849493  33.471235   \n",
       "2        0.000000   0.000000                      1.169899   0.836781   \n",
       "3       15.917910  51.273199                      7.019391  46.022948   \n",
       "4       16.755695  34.182133                      7.019391  27.613769   \n",
       "\n",
       "   hepg2_1_1                 ic               Name  novelty  \n",
       "0   3.089794  ENSG00000000003_1  ENSG00000000003_1    Known  \n",
       "1  43.257112  ENSG00000000003_1  ENSG00000000003_1    Known  \n",
       "2   3.089794  ENSG00000000003_1  ENSG00000000003_1    Known  \n",
       "3  82.188513  ENSG00000000003_1  ENSG00000000003_1    Known  \n",
       "4  40.167319  ENSG00000000003_1  ENSG00000000003_1    Known  \n",
       "\n",
       "[5 rows x 141 columns]"
      ]
     },
     "execution_count": 90,
     "metadata": {},
     "output_type": "execute_result"
    }
   ],
   "source": [
    "df.head()"
   ]
  },
  {
   "cell_type": "code",
   "execution_count": 91,
   "id": "c7dfc878-7756-4ece-84d4-1f7322b84e56",
   "metadata": {},
   "outputs": [
    {
     "data": {
      "text/plain": [
       "array(['Known', 'NIC', 'ISM', 'NNC'], dtype=object)"
      ]
     },
     "execution_count": 91,
     "metadata": {},
     "output_type": "execute_result"
    }
   ],
   "source": [
    "df.novelty.unique()"
   ]
  },
  {
   "cell_type": "code",
   "execution_count": null,
   "id": "46fbb4ee-55d3-4ad6-812f-ccea7f026e3b",
   "metadata": {},
   "outputs": [],
   "source": []
  },
  {
   "cell_type": "code",
   "execution_count": null,
   "id": "a95e507d-4894-4341-9131-92aecc837195",
   "metadata": {},
   "outputs": [],
   "source": []
  },
  {
   "cell_type": "code",
   "execution_count": null,
   "id": "ad2df68b-0a90-4e66-beda-b2a980fca28c",
   "metadata": {},
   "outputs": [],
   "source": []
  },
  {
   "cell_type": "code",
   "execution_count": null,
   "id": "7f44ee97-bdc0-4a27-8f3d-94fc8e92e063",
   "metadata": {},
   "outputs": [],
   "source": []
  },
  {
   "cell_type": "code",
   "execution_count": null,
   "id": "1df9fec2-7671-4452-887d-a3655600a10e",
   "metadata": {},
   "outputs": [],
   "source": []
  },
  {
   "cell_type": "code",
   "execution_count": null,
   "id": "a039e657-07cb-44b5-a7ca-6993b19a668a",
   "metadata": {},
   "outputs": [],
   "source": []
  },
  {
   "cell_type": "code",
   "execution_count": null,
   "id": "d4eca01f-391a-43cc-965f-64cb7c7abaca",
   "metadata": {},
   "outputs": [],
   "source": []
  },
  {
   "cell_type": "code",
   "execution_count": 70,
   "id": "3a042f55-7779-428a-9f6e-18588f5beca1",
   "metadata": {},
   "outputs": [],
   "source": [
    "# old numbers\n",
    "# 72.59% (53412/73582) of protein coding transcripts with novel ICs have a full ORF and no NMD\n",
    "# 77.57% (90283/116395) of novel protein coding transcripts have a full ORF and no NMD"
   ]
  },
  {
   "cell_type": "markdown",
   "id": "ca2e5664-8b4f-400c-a27c-5dfabdcb479d",
   "metadata": {},
   "source": [
    "## How often does a non-MANE predominant isoform have the same ORF as the MANE isoform?"
   ]
  },
  {
   "cell_type": "code",
   "execution_count": 4,
   "id": "537896e8-5b5d-4e15-af08-787b903b7d36",
   "metadata": {},
   "outputs": [],
   "source": [
    "def get_mp_orf_table(sg,\n",
    "                    ca,\n",
    "                    pp_summary,\n",
    "                    ref_t_metadata,\n",
    "                    ref_g_metadata,\n",
    "                    obs_col,\n",
    "                    min_feat_tpm):\n",
    "\n",
    "    mp_df = get_mp_df_table(sg, ca, \n",
    "                           ref_t_metadata,\n",
    "                           ref_g_metadata,\n",
    "                           obs_col,\n",
    "                           min_feat_tpm,\n",
    "                           feat='triplet')\n",
    "\n",
    "    pp_df = pd.read_csv(pp_summary, sep='\\t')\n",
    "\n",
    "    temp = mp_df.merge(pp_df[['tid', 'seq', 'len', 'nmd', 'full_orf']],\n",
    "                        how='left',\n",
    "                        left_on='tid_princ',\n",
    "                        right_on='tid',\n",
    "                        suffixes=('', '_orf_princ'))\n",
    "    temp = temp.merge(pp_df[['tid', 'seq', 'len', 'nmd', 'full_orf']],\n",
    "                        how='left',\n",
    "                        left_on='tid_mane',\n",
    "                        right_on='tid',\n",
    "                        suffixes=('', '_orf_mane'))\n",
    "\n",
    "    return temp"
   ]
  },
  {
   "cell_type": "code",
   "execution_count": 5,
   "id": "45eb0b79-9727-4281-add8-e7e63928e7c1",
   "metadata": {},
   "outputs": [
    {
     "name": "stdout",
     "output_type": "stream",
     "text": [
      "Read in graph from ../../proc_revisions/data/human/lr/swan/swan_graph.p\n",
      "/Users/fairliereese/Documents/programming/mortazavi_lab/data/paper_rnawg/proc_revisions/../proc_revisions/data/human/lr/exp_gids_dataset.tsv\n",
      "/Users/fairliereese/Documents/programming/mortazavi_lab/data/paper_rnawg/proc_revisions/../proc_revisions/data/human/lr/triplet_dataset_pi_tpm.tsv\n"
     ]
    }
   ],
   "source": [
    "sg = swan.read(swan_file)\n",
    "ca = cerberus.read(cerberus_h5)\n",
    "temp = get_mp_orf_table(sg,\n",
    "                ca,\n",
    "                pp_summary,\n",
    "                ref_t_metadata,\n",
    "                ref_g_metadata,\n",
    "                'dataset',\n",
    "                min_tpm)"
   ]
  },
  {
   "cell_type": "code",
   "execution_count": 6,
   "id": "e633cabe-cf76-40e0-88b5-9ab8c161c6df",
   "metadata": {},
   "outputs": [],
   "source": [
    "temp_back = temp.copy(deep=True)"
   ]
  },
  {
   "cell_type": "code",
   "execution_count": 64,
   "id": "e259464b-befc-4b7a-9c77-8d63f3fb704c",
   "metadata": {},
   "outputs": [],
   "source": [
    "temp = temp_back.copy(deep=True)"
   ]
  },
  {
   "cell_type": "code",
   "execution_count": 65,
   "id": "cec2bb1a-8215-4c84-a050-c5f3ee457ffd",
   "metadata": {},
   "outputs": [
    {
     "name": "stdout",
     "output_type": "stream",
     "text": [
      "1351449\n",
      "756666\n"
     ]
    }
   ],
   "source": [
    "# ensure no entries make it through where tid == [1,1,1] and the mane == princ == True\n",
    "assert len(temp.loc[(temp.tid_princ.str.contains('\\[1,1,1\\]'))&(temp.triplet_princ_is_mane==False)]) == 0\n",
    "\n",
    "# restrict to isos where predominant iso != mane\n",
    "print(len(temp.index))\n",
    "temp = temp.loc[temp.triplet_princ_is_mane==False]\n",
    "print(len(temp.index))\n",
    "\n",
    "# merge in mane info separately because some entries are null\n",
    "temp = temp[['tid_princ', 'gid']].drop_duplicates()\n",
    "meta, _, _ = get_gtf_info(ver='v40_cerberus', how='iso', add_stable_gid=True)\n",
    "meta = meta.loc[meta.MANE_Select == True]\n",
    "\n",
    "temp = temp.merge(meta[['tid', 'gid_stable']],\n",
    "                  how='left',\n",
    "                  left_on='gid', \n",
    "                  right_on='gid_stable')\n",
    "temp.drop('gid_stable', axis=1, inplace=True)\n",
    "temp.rename({'tid':'tid_mane'}, axis=1, inplace=True)\n",
    "\n",
    "pp = pd.read_csv(pp_summary, sep='\\t')\n",
    "pp['gid_stable'] = cerberus.get_stable_gid(pp, 'gid')\n",
    "\n",
    "# predominant orf\n",
    "temp = temp.merge(pp[['tid', 'nmd', 'seq', 'full_orf']], how='left', left_on='tid_princ', right_on='tid')\n",
    "temp.rename({'nmd': 'princ_nmd',\n",
    "             'seq': 'princ_seq'}, \n",
    "            axis=1, inplace=True)"
   ]
  },
  {
   "cell_type": "code",
   "execution_count": 66,
   "id": "e304ed9d-1a52-44d3-839b-db5ad3c5611d",
   "metadata": {},
   "outputs": [],
   "source": [
    "# mane orf\n",
    "fasta_sequences = SeqIO.parse(open(mane_pp),'fasta')\n",
    "tids = []\n",
    "seqs = []\n",
    "for fasta in fasta_sequences:\n",
    "    tid, seq = fasta.id, str(fasta.seq)\n",
    "    tids.append(tid)\n",
    "    seqs.append(seq)\n",
    "mane_df = pd.DataFrame()\n",
    "mane_df['tid'] = tids\n",
    "mane_df['seq'] = seqs\n",
    "mane_df['tid'] = mane_df.tid.str.split('|', expand=True)[1]\n",
    "ca = cerberus.read(cerberus_h5)\n",
    "t_map = ca.t_map.loc[ca.t_map.source=='v40']\n",
    "\n",
    "mane_df = mane_df.merge(t_map[['original_transcript_id', 'transcript_id']],\n",
    "                        how='left',\n",
    "                        left_on='tid', \n",
    "                        right_on='original_transcript_id')\n",
    "mane_df.head()\n",
    "mane_df = mane_df[['transcript_id', 'seq']]\n",
    "mane_df.rename({'transcript_id':'tid_mane',\n",
    "                'seq':'seq_mane'}, axis=1, inplace=True)\n",
    "\n",
    "temp = temp.merge(mane_df, how='left', on='tid_mane')\n",
    "assert len(temp.loc[temp.seq_mane.isnull()])==0\n",
    "\n",
    "temp['triplet_princ_orf_is_mane'] = temp['princ_seq'] == temp['seq_mane']\n"
   ]
  },
  {
   "cell_type": "code",
   "execution_count": 67,
   "id": "53e7900e-d69b-44e3-8e13-33f68dd9ecd7",
   "metadata": {},
   "outputs": [
    {
     "name": "stdout",
     "output_type": "stream",
     "text": [
      "34.98% (20511/58633) of non-MANE predominant transcripts have the same ORF as MANE\n"
     ]
    }
   ],
   "source": [
    "# n = len(temp.loc[temp.triplet_princ_is_mane==False, 'tid_princ'].unique().tolist())\n",
    "n = len(temp.tid_princ.unique().tolist())\n",
    "n_num = len(temp.loc[temp.triplet_princ_orf_is_mane==True, 'tid_princ'].unique().tolist())\n",
    "print(f'{(n_num/n)*100:.2f}% ({n_num}/{n}) of non-MANE predominant transcripts have the same ORF as MANE')"
   ]
  },
  {
   "cell_type": "code",
   "execution_count": 68,
   "id": "53a20d0d-da91-4bdd-a068-c48be02d37c6",
   "metadata": {},
   "outputs": [
    {
     "data": {
      "text/html": [
       "<div>\n",
       "<style scoped>\n",
       "    .dataframe tbody tr th:only-of-type {\n",
       "        vertical-align: middle;\n",
       "    }\n",
       "\n",
       "    .dataframe tbody tr th {\n",
       "        vertical-align: top;\n",
       "    }\n",
       "\n",
       "    .dataframe thead th {\n",
       "        text-align: right;\n",
       "    }\n",
       "</style>\n",
       "<table border=\"1\" class=\"dataframe\">\n",
       "  <thead>\n",
       "    <tr style=\"text-align: right;\">\n",
       "      <th></th>\n",
       "      <th>tid_princ</th>\n",
       "      <th>gid</th>\n",
       "      <th>tid_mane</th>\n",
       "      <th>tid</th>\n",
       "      <th>princ_nmd</th>\n",
       "      <th>princ_seq</th>\n",
       "      <th>full_orf</th>\n",
       "      <th>seq_mane</th>\n",
       "      <th>triplet_princ_orf_is_mane</th>\n",
       "    </tr>\n",
       "  </thead>\n",
       "  <tbody>\n",
       "    <tr>\n",
       "      <th>0</th>\n",
       "      <td>ENSG00000285043[5,14,1]</td>\n",
       "      <td>ENSG00000285043</td>\n",
       "      <td>ENSG00000285043[1,1,1]</td>\n",
       "      <td>ENSG00000285043[5,14,1]</td>\n",
       "      <td>False</td>\n",
       "      <td>MPYQYPALTPEQKKELSDIAHRIVAPGKGILAADESTGSIAKRLQS...</td>\n",
       "      <td>True</td>\n",
       "      <td>MDASSSPWNPTPAPVSSPPLLLPIPAIVFIAVGIYLLLLGLVLLTR...</td>\n",
       "      <td>False</td>\n",
       "    </tr>\n",
       "    <tr>\n",
       "      <th>1</th>\n",
       "      <td>ENSG00000284862[1,1,8]</td>\n",
       "      <td>ENSG00000284862</td>\n",
       "      <td>ENSG00000284862[1,1,1]</td>\n",
       "      <td>ENSG00000284862[1,1,8]</td>\n",
       "      <td>False</td>\n",
       "      <td>MSSEFLAELHWEDGFAIPVANEENKLLEDQLSKLKDERASLQDELR...</td>\n",
       "      <td>True</td>\n",
       "      <td>MSSEFLAELHWEDGFAIPVANEENKLLEDQLSKLKDERASLQDELR...</td>\n",
       "      <td>True</td>\n",
       "    </tr>\n",
       "    <tr>\n",
       "      <th>2</th>\n",
       "      <td>ENSG00000284791[1,1,2]</td>\n",
       "      <td>ENSG00000284791</td>\n",
       "      <td>ENSG00000284791[1,1,1]</td>\n",
       "      <td>ENSG00000284791[1,1,2]</td>\n",
       "      <td>True</td>\n",
       "      <td>MNGSQAGAAAQAAWLSSCCNQSASPPEPPEGPRAVQAVVLGVLSLL...</td>\n",
       "      <td>True</td>\n",
       "      <td>MNGSQAGAAAQAAWLSSCCNQSASPPEPPEGPRAVQAVVLGVLSLL...</td>\n",
       "      <td>True</td>\n",
       "    </tr>\n",
       "    <tr>\n",
       "      <th>3</th>\n",
       "      <td>ENSG00000284770[1,1,2]</td>\n",
       "      <td>ENSG00000284770</td>\n",
       "      <td>ENSG00000284770[1,1,1]</td>\n",
       "      <td>ENSG00000284770[1,1,2]</td>\n",
       "      <td>False</td>\n",
       "      <td>MSDTLTADVIGRRVEVNGEHATVRFAGVVPPVAGPWLGVEWDNPER...</td>\n",
       "      <td>True</td>\n",
       "      <td>MSDTLTADVIGRRVEVNGEHATVRFAGVVPPVAGPWLGVEWDNPER...</td>\n",
       "      <td>True</td>\n",
       "    </tr>\n",
       "    <tr>\n",
       "      <th>4</th>\n",
       "      <td>ENSG00000284770[1,2,2]</td>\n",
       "      <td>ENSG00000284770</td>\n",
       "      <td>ENSG00000284770[1,1,1]</td>\n",
       "      <td>ENSG00000284770[1,2,2]</td>\n",
       "      <td>False</td>\n",
       "      <td>MSDTLTADVIGRRVEVNGEHATVRFAGVVPPVAGPWLGVEWDNPER...</td>\n",
       "      <td>True</td>\n",
       "      <td>MSDTLTADVIGRRVEVNGEHATVRFAGVVPPVAGPWLGVEWDNPER...</td>\n",
       "      <td>True</td>\n",
       "    </tr>\n",
       "  </tbody>\n",
       "</table>\n",
       "</div>"
      ],
      "text/plain": [
       "                 tid_princ              gid                tid_mane  \\\n",
       "0  ENSG00000285043[5,14,1]  ENSG00000285043  ENSG00000285043[1,1,1]   \n",
       "1   ENSG00000284862[1,1,8]  ENSG00000284862  ENSG00000284862[1,1,1]   \n",
       "2   ENSG00000284791[1,1,2]  ENSG00000284791  ENSG00000284791[1,1,1]   \n",
       "3   ENSG00000284770[1,1,2]  ENSG00000284770  ENSG00000284770[1,1,1]   \n",
       "4   ENSG00000284770[1,2,2]  ENSG00000284770  ENSG00000284770[1,1,1]   \n",
       "\n",
       "                       tid princ_nmd  \\\n",
       "0  ENSG00000285043[5,14,1]     False   \n",
       "1   ENSG00000284862[1,1,8]     False   \n",
       "2   ENSG00000284791[1,1,2]      True   \n",
       "3   ENSG00000284770[1,1,2]     False   \n",
       "4   ENSG00000284770[1,2,2]     False   \n",
       "\n",
       "                                           princ_seq full_orf  \\\n",
       "0  MPYQYPALTPEQKKELSDIAHRIVAPGKGILAADESTGSIAKRLQS...     True   \n",
       "1  MSSEFLAELHWEDGFAIPVANEENKLLEDQLSKLKDERASLQDELR...     True   \n",
       "2  MNGSQAGAAAQAAWLSSCCNQSASPPEPPEGPRAVQAVVLGVLSLL...     True   \n",
       "3  MSDTLTADVIGRRVEVNGEHATVRFAGVVPPVAGPWLGVEWDNPER...     True   \n",
       "4  MSDTLTADVIGRRVEVNGEHATVRFAGVVPPVAGPWLGVEWDNPER...     True   \n",
       "\n",
       "                                            seq_mane  \\\n",
       "0  MDASSSPWNPTPAPVSSPPLLLPIPAIVFIAVGIYLLLLGLVLLTR...   \n",
       "1  MSSEFLAELHWEDGFAIPVANEENKLLEDQLSKLKDERASLQDELR...   \n",
       "2  MNGSQAGAAAQAAWLSSCCNQSASPPEPPEGPRAVQAVVLGVLSLL...   \n",
       "3  MSDTLTADVIGRRVEVNGEHATVRFAGVVPPVAGPWLGVEWDNPER...   \n",
       "4  MSDTLTADVIGRRVEVNGEHATVRFAGVVPPVAGPWLGVEWDNPER...   \n",
       "\n",
       "   triplet_princ_orf_is_mane  \n",
       "0                      False  \n",
       "1                       True  \n",
       "2                       True  \n",
       "3                       True  \n",
       "4                       True  "
      ]
     },
     "execution_count": 68,
     "metadata": {},
     "output_type": "execute_result"
    }
   ],
   "source": [
    "temp.head()"
   ]
  },
  {
   "cell_type": "markdown",
   "id": "b1a07a85-d1e9-4f8a-98ce-db9f96c6fc33",
   "metadata": {},
   "source": [
    "## How often is non-MANE predominant transcript NMD?"
   ]
  },
  {
   "cell_type": "code",
   "execution_count": 69,
   "id": "36b51f49-1e86-4e67-800c-9641a10bf1c7",
   "metadata": {},
   "outputs": [
    {
     "name": "stdout",
     "output_type": "stream",
     "text": [
      "92.06% (53977/58633) of non-MANE predominant transcripts have a full ORF and no NMD\n"
     ]
    }
   ],
   "source": [
    "n = len(temp.tid_princ.unique().tolist())\n",
    "n_num = len(temp.loc[(temp.princ_nmd==False)&(temp.full_orf==True), 'tid_princ'].unique().tolist())\n",
    "print(f'{(n_num/n)*100:.2f}% ({n_num}/{n}) of non-MANE predominant transcripts have a full ORF and no NMD')\n"
   ]
  },
  {
   "cell_type": "markdown",
   "id": "165acdd0-c0ae-4ed6-92e3-f4f0fdb51654",
   "metadata": {},
   "source": [
    "## How frequently do predominant transcripts encode for the same ORF?"
   ]
  },
  {
   "cell_type": "code",
   "execution_count": 5,
   "id": "4203a0cc-fdc5-4b0a-9652-3b07bbe36618",
   "metadata": {},
   "outputs": [
    {
     "name": "stdout",
     "output_type": "stream",
     "text": [
      "Read in graph from ../data/human/swan_graph.p\n",
      "/Users/fairliereese/Documents/programming/mortazavi_lab/data/paper_rnawg/scripts/../figures/data/human/exp_gids_sample.tsv\n",
      "/Users/fairliereese/Documents/programming/mortazavi_lab/data/paper_rnawg/scripts/../figures/data/human/triplet_sample_pi_tpm.tsv\n"
     ]
    }
   ],
   "source": [
    "sg = swan.read(swan_file)\n",
    "ca = cerberus.read(cerberus_h5)\n",
    "temp = get_mp_orf_table(sg,\n",
    "                ca,\n",
    "                pp_summary,\n",
    "                ref_t_metadata,\n",
    "                ref_g_metadata,\n",
    "                'sample',\n",
    "                min_tpm)\n"
   ]
  },
  {
   "cell_type": "code",
   "execution_count": null,
   "id": "6c89a523-cd7a-48b0-acaa-4fc55d36dd10",
   "metadata": {},
   "outputs": [],
   "source": []
  },
  {
   "cell_type": "code",
   "execution_count": 7,
   "id": "3c5c159d-d8cb-4b02-bc69-5b79bdda26ab",
   "metadata": {},
   "outputs": [],
   "source": [
    "temp_back = temp.copy(deep=True)"
   ]
  },
  {
   "cell_type": "code",
   "execution_count": 28,
   "id": "76d2996b-f6c1-4a38-af15-ff0678148ff7",
   "metadata": {},
   "outputs": [],
   "source": [
    "temp = temp_back.copy(deep=True)"
   ]
  },
  {
   "cell_type": "code",
   "execution_count": 29,
   "id": "f464c564-bba2-4775-bdfb-834eed23e1d7",
   "metadata": {},
   "outputs": [],
   "source": [
    "temp = temp[['tid_princ', 'gid', 'gname', 'seq']]\n",
    "temp = temp.drop_duplicates()\n",
    "temp = temp.groupby(['gid', 'gname']).nunique().reset_index()"
   ]
  },
  {
   "cell_type": "code",
   "execution_count": 33,
   "id": "1a2c2be1-8700-47f3-b75b-fc86a40ce88d",
   "metadata": {},
   "outputs": [
    {
     "data": {
      "image/png": "[encoded data removed]",
      "text/plain": [
       "<Figure size 432x432 with 3 Axes>"
      ]
     },
     "metadata": {
      "needs_background": "light"
     },
     "output_type": "display_data"
    }
   ],
   "source": [
    "ax = sns.jointplot(temp, x = 'tid_princ', y = 'seq')\n",
    "# ax.ax_joint.set_xlabel('Number of predominant transcripts')\n",
    "# ax.set_ylabel('Number of ORFs')"
   ]
  },
  {
   "cell_type": "markdown",
   "id": "37d501d8-43cd-45b8-93a4-3c42a3b4e585",
   "metadata": {},
   "source": [
    "# Mouse"
   ]
  },
  {
   "cell_type": "markdown",
   "id": "537b4401-7738-4c8f-8003-5806e44b5467",
   "metadata": {},
   "source": [
    "## What % of novel IC protein coding transcripts are predicted to be NMD?"
   ]
  },
  {
   "cell_type": "code",
   "execution_count": 11,
   "id": "9851302c-d5ab-47b8-ba79-9fb7906d3521",
   "metadata": {},
   "outputs": [
    {
     "name": "stdout",
     "output_type": "stream",
     "text": [
      "Calculating iso TPM values\n",
      "Subsetting for protein_coding genes\n",
      "Enforcing minimum TPM\n",
      "Total # isos detected: 149463\n",
      "# isos >= 1 tpm: 138642\n",
      "Applying gene type and novelty subset\n",
      "Number of isos reported: 127084\n",
      "70.58% (34900/49448) of protein coding transcripts with novel ICs have a full ORF and no NMD\n",
      "77.13% (61066/79169) of novel protein coding transcripts have a full ORF and no NMD\n"
     ]
    }
   ],
   "source": [
    "find_pc_tids(m_cerberus_h5,\n",
    "             m_pp_summary,\n",
    "             m_filt_ab,\n",
    "             'mouse',\n",
    "             min_tpm=min_tpm)"
   ]
  }
 ],
 "metadata": {
  "kernelspec": {
   "display_name": "Python 3",
   "language": "python",
   "name": "python3"
  },
  "language_info": {
   "codemirror_mode": {
    "name": "ipython",
    "version": 3
   },
   "file_extension": ".py",
   "mimetype": "text/x-python",
   "name": "python",
   "nbconvert_exporter": "python",
   "pygments_lexer": "ipython3",
   "version": "3.7.12"
  }
 },
 "nbformat": 4,
 "nbformat_minor": 5
}
