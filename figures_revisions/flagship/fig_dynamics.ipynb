{
 "cells": [
  {
   "cell_type": "code",
   "execution_count": 1,
   "id": "e3b7bff0-f802-40d8-8e8b-4aabbda38c99",
   "metadata": {},
   "outputs": [],
   "source": [
    "import pandas as pd\n",
    "import numpy as np\n",
    "import scipy.stats as st\n",
    "import seaborn as sns\n",
    "import sys\n",
    "import os\n",
    "import gseapy as gp\n",
    "import matplotlib.pyplot as plt\n",
    "import swan_vis as swan\n",
    "import yaml\n",
    "from snakemake.io import expand\n",
    "\n",
    "p = os.path.dirname(os.path.dirname(os.getcwd()))\n",
    "sys.path.append(p)\n",
    "\n",
    "from proc_revisions.utils import *\n",
    "from proc_revisions.plotting import *"
   ]
  },
  {
   "cell_type": "code",
   "execution_count": 2,
   "id": "f2388956-5cb7-426d-8819-93562db5b0bc",
   "metadata": {},
   "outputs": [],
   "source": [
    "od = '../../proc_revisions/'\n",
    "config_file = f'{od}/config.yml'\n",
    "with open(config_file) as f:\n",
    "    config = yaml.safe_load(f)"
   ]
  },
  {
   "cell_type": "code",
   "execution_count": 3,
   "id": "84c670bf-5fba-4197-ab38-c4c8892458ae",
   "metadata": {},
   "outputs": [],
   "source": [
    "ab = od+expand(config['lr']['talon']['fusion_fix']['ab'], species='human')[0]\n",
    "unfilt_ab = od+expand(config['lr']['cerberus']['ab'], species='human')[0] \n",
    "filt_ab = od+expand(config['lr']['cerberus']['filt_ab'], species='human')[0]\n",
    "read_annot = od+expand(config['lr']['talon']['full_annot'], species='human')[0]\n",
    "t_metadata = od+expand(config['ref']['cerberus']['new_gtf_t_info'], species='human')[0]\n",
    "lib_meta = od+expand(config['lr']['meta'], species='human')[0]\n",
    "swan_file = od+expand(config['lr']['swan']['sg'], species='human')[0]\n",
    "cerberus_h5 = od+expand(config['lr']['cerberus']['ca_triplets'], species='human', obs_col='sample')[0]\n",
    "cerb_t_metadata = od+expand(config['lr']['cerberus']['gtf_t_info'], species='human')[0]\n",
    "major_isos = od+expand(config['lr']['analysis']['major_isos'], species='human', obs_col='sample')[0]\n",
    "pi_tpm_table = od+expand(config['lr']['mane']['pi_tpm']['triplet'], species='human', obs_col='sample')[0]\n",
    "\n",
    "ref_t_metadata = od+expand(config['ref']['new_gtf_t_info'], species='human')[0]\n",
    "ref_g_metadata = od+expand(config['ref']['new_gtf_g_info'], species='human')[0]\n",
    "\n",
    "ver = 'v40_cerberus'\n",
    "min_tpm = 1\n",
    "gene_subset = 'polya'\n",
    "obs_col = 'sample'\n",
    "go_gene_subset = 'protein_coding'\n",
    "predom_iso_subset = 'protein_coding'\n",
    "\n",
    "m_lib_meta = od+expand(config['lr']['meta'], species='mouse')[0]\n",
    "\n",
    "gtex_cerb_gtf = od+expand(config['gtex']['cerberus']['gtf'], species='human')[0]"
   ]
  },
  {
   "cell_type": "code",
   "execution_count": 4,
   "id": "f33c00ac-4acb-4074-ad31-0ea9c8f5156d",
   "metadata": {},
   "outputs": [
    {
     "data": {
      "image/png": "[encoded data removed]",
      "text/plain": [
       "<Figure size 154.31x144 with 1 Axes>"
      ]
     },
     "metadata": {},
     "output_type": "display_data"
    }
   ],
   "source": [
    "plot_obs_human_simplex_with_centroid(cerberus_h5,\n",
    "                  'CTNNB1',\n",
    "                  'figures/', \n",
    "                  source='sample_det',\n",
    "                  gene_subset=gene_subset,\n",
    "                  ver=ver)"
   ]
  },
  {
   "cell_type": "code",
   "execution_count": 8,
   "id": "57e5b1b9-de12-44bb-9fe6-9e9b17bdd41a",
   "metadata": {},
   "outputs": [
    {
     "data": {
      "text/html": [
       "<div>\n",
       "<style scoped>\n",
       "    .dataframe tbody tr th:only-of-type {\n",
       "        vertical-align: middle;\n",
       "    }\n",
       "\n",
       "    .dataframe tbody tr th {\n",
       "        vertical-align: top;\n",
       "    }\n",
       "\n",
       "    .dataframe thead th {\n",
       "        text-align: right;\n",
       "    }\n",
       "</style>\n",
       "<table border=\"1\" class=\"dataframe\">\n",
       "  <thead>\n",
       "    <tr style=\"text-align: right;\">\n",
       "      <th></th>\n",
       "      <th>source</th>\n",
       "      <th>gid</th>\n",
       "      <th>n_tss</th>\n",
       "      <th>n_tes</th>\n",
       "      <th>n_ic</th>\n",
       "      <th>n_iso</th>\n",
       "      <th>splicing_ratio</th>\n",
       "      <th>tss_ratio</th>\n",
       "      <th>tes_ratio</th>\n",
       "      <th>spl_ratio</th>\n",
       "      <th>sector</th>\n",
       "      <th>gname</th>\n",
       "      <th>sample</th>\n",
       "      <th>gene_tpm</th>\n",
       "    </tr>\n",
       "  </thead>\n",
       "  <tbody>\n",
       "    <tr>\n",
       "      <th>99774</th>\n",
       "      <td>sample_det</td>\n",
       "      <td>ENSG00000168036</td>\n",
       "      <td>8.0</td>\n",
       "      <td>4.0</td>\n",
       "      <td>17.0</td>\n",
       "      <td>20.0</td>\n",
       "      <td>2.833333</td>\n",
       "      <td>0.539326</td>\n",
       "      <td>0.269663</td>\n",
       "      <td>0.191011</td>\n",
       "      <td>tss</td>\n",
       "      <td>CTNNB1</td>\n",
       "      <td>caco2</td>\n",
       "      <td>124.906631</td>\n",
       "    </tr>\n",
       "    <tr>\n",
       "      <th>476583</th>\n",
       "      <td>sample_det</td>\n",
       "      <td>ENSG00000168036</td>\n",
       "      <td>2.0</td>\n",
       "      <td>1.0</td>\n",
       "      <td>8.0</td>\n",
       "      <td>8.0</td>\n",
       "      <td>5.333333</td>\n",
       "      <td>0.240000</td>\n",
       "      <td>0.120000</td>\n",
       "      <td>0.640000</td>\n",
       "      <td>splicing</td>\n",
       "      <td>CTNNB1</td>\n",
       "      <td>mcf10a</td>\n",
       "      <td>76.340820</td>\n",
       "    </tr>\n",
       "  </tbody>\n",
       "</table>\n",
       "</div>"
      ],
      "text/plain": [
       "            source              gid  n_tss  n_tes  n_ic  n_iso  \\\n",
       "99774   sample_det  ENSG00000168036    8.0    4.0  17.0   20.0   \n",
       "476583  sample_det  ENSG00000168036    2.0    1.0   8.0    8.0   \n",
       "\n",
       "        splicing_ratio  tss_ratio  tes_ratio  spl_ratio    sector   gname  \\\n",
       "99774         2.833333   0.539326   0.269663   0.191011       tss  CTNNB1   \n",
       "476583        5.333333   0.240000   0.120000   0.640000  splicing  CTNNB1   \n",
       "\n",
       "        sample    gene_tpm  \n",
       "99774    caco2  124.906631  \n",
       "476583  mcf10a   76.340820  "
      ]
     },
     "execution_count": 8,
     "metadata": {},
     "output_type": "execute_result"
    }
   ],
   "source": [
    "# get the coords of the two samples\n",
    "ca = cerberus.read(cerberus_h5)\n",
    "samples = ['mcf10a', 'caco2']\n",
    "ca.triplets.loc[(ca.triplets['sample'].isin(samples))&\\\n",
    "                (ca.triplets.source=='sample_det')&\\\n",
    "                (ca.triplets.gname=='CTNNB1')]"
   ]
  },
  {
   "cell_type": "code",
   "execution_count": 17,
   "id": "e9023810-ece8-4b2a-8808-883073f2d2f8",
   "metadata": {},
   "outputs": [
    {
     "name": "stdout",
     "output_type": "stream",
     "text": [
      "Read in graph from ../../proc_revisions/data/human/lr/swan/swan_graph.p\n",
      "Calculating iso TPM values\n",
      "Subsetting for polya genes\n",
      "Enforcing minimum TPM\n",
      "Total # isos detected: 236615\n",
      "# isos >= 1 tpm: 213476\n",
      "Applying gene type and novelty subset\n",
      "Number of isos reported: 209819\n",
      "Found 51 total samples\n",
      "PLEASE UPDATE ME WHEN U HAVE PROTEIN RESULTS\n",
      "TODO - also add this back in\n",
      "TODO - also add this back in\n",
      "TODO - also add this back in\n",
      "TODO - also add this back in\n",
      "TODO - also add this back in\n",
      "TODO - also add this back in\n",
      "TODO - also add this back in\n",
      "TODO - also add this back in\n"
     ]
    },
    {
     "data": {
      "image/png": "[encoded data removed]",
      "text/plain": [
       "<Figure size 432x144 with 2 Axes>"
      ]
     },
     "metadata": {
      "needs_background": "light"
     },
     "output_type": "display_data"
    }
   ],
   "source": [
    "gene = 'CTNNB1'\n",
    "obs_col = 'sample'\n",
    "obs_condition = 'mcf10a'\n",
    "light_shade = '#9bc3c9'\n",
    "dark_shade= '#022a30'\n",
    "\n",
    "_ = plot_browser_isos_2(cerberus_h5,\n",
    "                        swan_file,\n",
    "                        filt_ab,\n",
    "                        None,#pp_summary,\n",
    "                        major_isos,\n",
    "                        gene,\n",
    "                        obs_col,\n",
    "                        obs_condition,\n",
    "                        light_shade=light_shade,\n",
    "                        dark_shade=dark_shade,\n",
    "                        order='tss',\n",
    "                        ofile=f'figures/ctnnb_{obs_condition}_browser_isos.pdf')\n",
    "# ax, tpm_df = plot_browser_isos(ca, sg, gene,\n",
    "#                              obs_col, obs_condition,\n",
    "#                              filt_ab, major_isos,\n",
    "#                              h=0.2, min_tpm=1,\n",
    "#                              light_shade=light_shade, dark_shade=dark_shade)\n",
    "# fname = '{}{}_{}_isos_browser.pdf'.format('figures/', gene.lower(), obs_condition)\n",
    "# plt.savefig(fname, dpi=500)"
   ]
  },
  {
   "cell_type": "code",
   "execution_count": 4,
   "id": "eaed40a4-5f36-4393-a1d8-8d3e94ef9b5d",
   "metadata": {},
   "outputs": [
    {
     "name": "stdout",
     "output_type": "stream",
     "text": [
      "Read in graph from ../../proc_revisions/data/human/lr/swan/swan_graph.p\n",
      "Calculating iso TPM values\n",
      "Subsetting for polya genes\n"
     ]
    },
    {
     "name": "stderr",
     "output_type": "stream",
     "text": [
      "/Users/fairliereese/Documents/programming/mortazavi_lab/data/paper_rnawg/proc_revisions/utils.py:2087: PerformanceWarning: DataFrame is highly fragmented.  This is usually the result of calling `frame.insert` many times, which has poor performance.  Consider joining all columns at once using pd.concat(axis=1) instead.  To get a de-fragmented frame, use `newframe = frame.copy()`\n",
      "  df[tpm_col] = (df[d]*1000000)/df[total_col]\n",
      "/Users/fairliereese/Documents/programming/mortazavi_lab/data/paper_rnawg/proc_revisions/utils.py:2086: PerformanceWarning: DataFrame is highly fragmented.  This is usually the result of calling `frame.insert` many times, which has poor performance.  Consider joining all columns at once using pd.concat(axis=1) instead.  To get a de-fragmented frame, use `newframe = frame.copy()`\n",
      "  df[total_col] = df[d].sum()\n"
     ]
    },
    {
     "name": "stdout",
     "output_type": "stream",
     "text": [
      "Enforcing minimum TPM\n",
      "Total # isos detected: 236615\n",
      "# isos >= 1 tpm: 213476\n",
      "Applying gene type and novelty subset\n",
      "Number of isos reported: 209819\n",
      "Found 51 total samples\n",
      "PLEASE UPDATE ME WHEN U HAVE PROTEIN RESULTS\n",
      "TODO - also add this back in\n",
      "TODO - also add this back in\n",
      "TODO - also add this back in\n",
      "TODO - also add this back in\n",
      "TODO - also add this back in\n",
      "TODO - also add this back in\n",
      "TODO - also add this back in\n",
      "TODO - also add this back in\n",
      "TODO - also add this back in\n",
      "TODO - also add this back in\n",
      "TODO - also add this back in\n",
      "TODO - also add this back in\n",
      "TODO - also add this back in\n",
      "TODO - also add this back in\n",
      "TODO - also add this back in\n",
      "TODO - also add this back in\n",
      "TODO - also add this back in\n",
      "TODO - also add this back in\n",
      "TODO - also add this back in\n",
      "TODO - also add this back in\n"
     ]
    },
    {
     "data": {
      "image/png": "[encoded data removed]",
      "text/plain": [
       "<Figure size 432x360 with 2 Axes>"
      ]
     },
     "metadata": {
      "needs_background": "light"
     },
     "output_type": "display_data"
    }
   ],
   "source": [
    "gene = 'CTNNB1'\n",
    "obs_col = 'sample'\n",
    "obs_condition = 'caco2'\n",
    "light_shade = '#ffdeb3'\n",
    "dark_shade = '#804800'\n",
    "_ = plot_browser_isos_2(cerberus_h5,\n",
    "                        swan_file,\n",
    "                        filt_ab,\n",
    "                        None,#pp_summary,\n",
    "                        major_isos,\n",
    "                        gene,\n",
    "                        obs_col,\n",
    "                        obs_condition,\n",
    "                        light_shade=light_shade,\n",
    "                        dark_shade=dark_shade,\n",
    "                        order='tss',\n",
    "                        add_tss=True,\n",
    "                        ofile=f'figures/ctnnb_{obs_condition}_browser_isos.pdf')\n",
    "# ax, tpm_df = plot_browser_isos(ca, sg, gene,\n",
    "#                              obs_col, obs_condition,\n",
    "#                              filt_ab, major_isos,\n",
    "#                              h=0.2,\n",
    "#                              add_tss=True, order='tss',\n",
    "#                              light_shade=light_shade, \n",
    "#                              dark_shade=dark_shade)\n",
    "\n",
    "# fname = '{}{}_{}_isos_browser.pdf'.format('figures/', gene.lower(), obs_condition)\n",
    "# plt.savefig(fname, dpi=500)"
   ]
  },
  {
   "cell_type": "code",
   "execution_count": null,
   "id": "fbaa1ad1-ba65-4998-ba00-c38c8cb3b3ea",
   "metadata": {},
   "outputs": [],
   "source": []
  }
 ],
 "metadata": {
  "kernelspec": {
   "display_name": "Python 3",
   "language": "python",
   "name": "python3"
  },
  "language_info": {
   "codemirror_mode": {
    "name": "ipython",
    "version": 3
   },
   "file_extension": ".py",
   "mimetype": "text/x-python",
   "name": "python",
   "nbconvert_exporter": "python",
   "pygments_lexer": "ipython3",
   "version": "3.7.12"
  }
 },
 "nbformat": 4,
 "nbformat_minor": 5
}
