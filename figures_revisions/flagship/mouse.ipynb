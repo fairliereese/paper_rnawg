{
 "cells": [
  {
   "cell_type": "code",
   "execution_count": 20,
   "id": "48172e72-2514-41db-af37-a2b79fa44c59",
   "metadata": {},
   "outputs": [],
   "source": [
    "import pandas as pd\n",
    "import numpy as np\n",
    "import scipy.stats as st\n",
    "import seaborn as sns\n",
    "import sys\n",
    "import os\n",
    "import gseapy as gp\n",
    "import matplotlib.pyplot as plt\n",
    "import swan_vis as swan\n",
    "import yaml\n",
    "from snakemake.io import expand\n",
    "import itertools\n",
    "import glob\n",
    "import matplotlib as mpl\n",
    "import upsetplot\n",
    "\n",
    "p = os.path.dirname(os.path.dirname(os.getcwd()))\n",
    "sys.path.append(p)\n",
    "\n",
    "from proc_revisions.utils import *\n",
    "from proc_revisions.plotting import *"
   ]
  },
  {
   "cell_type": "code",
   "execution_count": 2,
   "id": "610f7990-89c4-4531-88a2-ee291466c749",
   "metadata": {},
   "outputs": [],
   "source": [
    "od = '../../proc_revisions/'\n",
    "config_file = f'{od}/config.yml'\n",
    "with open(config_file) as f:\n",
    "    config = yaml.safe_load(f)"
   ]
  },
  {
   "cell_type": "code",
   "execution_count": 3,
   "id": "79242d40-0edb-4c2e-8fbc-41c18858c423",
   "metadata": {},
   "outputs": [],
   "source": [
    "ab = od+expand(config['lr']['talon']['fusion_fix']['ab'], species='human')[0]\n",
    "filt_ab = od+expand(config['lr']['cerberus']['filt_ab'], species='human')[0]\n",
    "read_annot = od+expand(config['lr']['talon']['full_annot'], species='human')[0]\n",
    "t_metadata = od+expand(config['ref']['cerberus']['new_gtf_t_info'], species='human')[0]\n",
    "lib_meta = od+expand(config['lr']['meta'], species='human')[0]\n",
    "swan_file = od+expand(config['lr']['swan']['sg'], species='human')[0]\n",
    "cerberus_h5 = od+expand(config['lr']['cerberus']['ca_triplets'], species='human', obs_col='sample')[0]\n",
    "cerb_t_metadata = od+expand(config['lr']['cerberus']['gtf_t_info'], species='human')[0]\n",
    "major_isos = od+expand(config['lr']['analysis']['major_isos'], species='human', obs_col='sample')[0]\n",
    "pi_tpm_table = od+expand(config['lr']['mane']['pi_tpm']['triplet'], species='human', obs_col='sample')[0]\n",
    "pp_summary = od+expand(config['lr']['protein_pred']['summary'], species='human')[0]\n",
    "\n",
    "ref_t_metadata = od+expand(config['ref']['new_gtf_t_info'], species='human')[0]\n",
    "ref_g_metadata = od+expand(config['ref']['new_gtf_g_info'], species='human')[0]\n",
    "\n",
    "sr_ab = '../'+config['sr']['ab']\n",
    "\n",
    "\n",
    "ver = 'v40_cerberus'\n",
    "min_tpm = 1\n",
    "gene_subset = 'protein_coding'\n",
    "obs_col = 'sample'\n",
    "go_gene_subset = 'protein_coding'\n",
    "\n",
    "m_ab = od+expand(config['lr']['talon']['fusion_fix']['ab'], species='mouse')[0]\n",
    "m_filt_ab = od+expand(config['lr']['cerberus']['filt_ab'], species='mouse')[0]\n",
    "m_read_annot = od+expand(config['lr']['talon']['full_annot'], species='mouse')[0]\n",
    "m_t_metadata = od+expand(config['ref']['cerberus']['new_gtf_t_info'], species='mouse')[0]\n",
    "m_lib_meta = od+expand(config['lr']['meta'], species='mouse')[0]\n",
    "m_swan_file = od+expand(config['lr']['swan']['sg'], species='mouse')[0]\n",
    "m_cerberus_h5 = od+expand(config['lr']['cerberus']['ca_triplets'], species='mouse', obs_col='sample')[0]\n",
    "cerb_t_metadata = od+expand(config['lr']['cerberus']['gtf_t_info'], species='mouse')[0]\n",
    "m_major_isos = od+expand(config['lr']['analysis']['major_isos'], species='mouse', obs_col='sample')[0]\n",
    "m_pi_tpm_table = od+expand(config['lr']['mane']['pi_tpm']['triplet'], species='mouse', obs_col='sample')[0]\n",
    "m_pp_summary = od+expand(config['lr']['protein_pred']['summary'], species='mouse')[0]\n",
    "\n",
    "\n",
    "m_ref_t_metadata = od+expand(config['ref']['new_gtf_t_info'], species='mouse')[0]\n",
    "m_ref_g_metadata = od+expand(config['ref']['new_gtf_g_info'], species='mouse')[0]\n",
    "\n",
    "\n",
    "orth_table = '../../proc_revisions/ref/biomart_human_to_mouse.tsv'\n",
    "mouse_ver = 'vM25_cerberus'"
   ]
  },
  {
   "cell_type": "markdown",
   "id": "a13d144c-f8f1-45d7-a714-62625a0469dc",
   "metadata": {},
   "source": [
    "## get the number of DU TSS w/ predominant TSS switching between in each tissue"
   ]
  },
  {
   "cell_type": "code",
   "execution_count": 93,
   "id": "aa23ef6d-d435-4724-8c4d-7a9b863a6194",
   "metadata": {},
   "outputs": [],
   "source": [
    "def get_tc_mouse_samples(config, times=None):\n",
    "    m_lib_meta = expand(config['lr']['meta'], species='mouse')[0]\n",
    "    temp = pd.read_csv('../../proc_revisions/'+m_lib_meta, sep='\\t')\n",
    "    tc_tissues = ['muscle', 'hippocampus', 'cortex', 'adrenal gland', 'heart']\n",
    "    tc_times = ['18-20mo', '2mo', '4d', '25d', '14d', '36d', '10d']\n",
    "    if times:\n",
    "        tc_times = [t for t in tc_times if t in times]\n",
    "    s = temp.loc[(temp.general_tissue_cell_type.isin(tc_tissues))&\\\n",
    "             (temp.age.isin(tc_times)), 'sample'].unique().tolist()\n",
    "    return s"
   ]
  },
  {
   "cell_type": "code",
   "execution_count": 94,
   "id": "b45436fc-dc53-4b9f-bd26-7d00918af3d6",
   "metadata": {},
   "outputs": [],
   "source": [
    "df = pd.read_csv('filt_tc_du.tsv', sep='\\t')"
   ]
  },
  {
   "cell_type": "code",
   "execution_count": 95,
   "id": "cf383fc4-347b-4a43-8fdf-2525e8879f25",
   "metadata": {},
   "outputs": [
    {
     "name": "stdout",
     "output_type": "stream",
     "text": [
      "749190\n"
     ]
    }
   ],
   "source": [
    "tissue = 'cortex'\n",
    "feat = 'tss'\n",
    "# timepts = ['14d', '2mo']\n",
    "m_tss_pi_tpm_table = od+expand(config['lr']['mane']['pi_tpm']['tss'], species='mouse', obs_col='sample')[0]\n",
    "df2 = pd.read_csv(m_tss_pi_tpm_table, sep='\\t')\n",
    "\n",
    "# limit to tc samples\n",
    "print(len(df2))\n",
    "df2 = df2.loc[df2['sample'].isin(get_tc_mouse_samples(config))]\n",
    "df2[['tissue', 'age']] = df2['sample'].str.split('_', expand=True)\n",
    "\n",
    "# limit to predom\n",
    "df2 = df2.loc[df2.tss_rank==1]\n",
    "\n",
    "# # get number of unique predom tss / gene / tissue\n",
    "# df3 = df2[['tss_id', 'gname', 'gid', 'tissue']].groupby(['gid', 'gname', 'tissue']).nunique().reset_index().rename({'tss_id':'n_predom_tss'}, axis=1)\n",
    "# df3 = df3.loc[df3.n_predom_tss > 1]"
   ]
  },
  {
   "cell_type": "code",
   "execution_count": 96,
   "id": "d8f1ec57-de8a-4a6f-9153-ec0228b478e3",
   "metadata": {},
   "outputs": [
    {
     "name": "stdout",
     "output_type": "stream",
     "text": [
      "5014\n",
      "1202\n",
      "5014\n",
      "1322\n",
      "7578\n",
      "2272\n",
      "7578\n",
      "1322\n",
      "552\n",
      "128\n",
      "648\n",
      "218\n",
      "1146\n",
      "224\n"
     ]
    }
   ],
   "source": [
    "# get the number of switching events for each thing\n",
    "df4 = pd.DataFrame()\n",
    "g_df = pd.DataFrame()\n",
    "tissues = ['adrenal', 'adrenal', 'gastroc', 'gastroc', 'heart', 'cortex', 'hippocampus']\n",
    "timepts = [('4d', '2mo'), ('14d', '2mo'), ('4d', '2mo'), ('14d', '2mo'), ('14d', '2mo'), ('14d', '2mo'), ('14d', '2mo')]\n",
    "for tissue, time in zip(tissues, timepts):\n",
    "    # for feat in df.feat.unique().tolist():\n",
    "    for feat in ['tss']:\n",
    "\n",
    "        temp = df.loc[(df.tissue==tissue)&\\\n",
    "                      (df.feat==feat)]\n",
    "        \n",
    "        # limit to gene / tissue combinations that also have a predominant TSS change\n",
    "        df3 = df2[['tss_id', 'gname', 'gid', 'tissue', 'age']].copy(deep=True)\n",
    "        df3 = df3.loc[(df3.tissue==tissue)&(df3.age.isin(list(time)))]\n",
    "        df3.drop('age', axis=1, inplace=True)        \n",
    "        df3 = df3.groupby(['gname','gid', 'tissue']).nunique().reset_index().rename({'tss_id':'n_predom_tss'}, axis=1)\n",
    "        df3 = df3.loc[df3.n_predom_tss>1]\n",
    "        print(len(temp))\n",
    "        temp = temp.loc[temp.gid.isin(df3.gid.tolist())]\n",
    "        print(len(temp))\n",
    "        \n",
    "                         \n",
    "        order = time\n",
    "        cat = pd.CategoricalDtype(categories=order, ordered=True)\n",
    "        temp['time1'] = temp['time1'].astype(cat)\n",
    "        temp['time2'] = temp['time2'].astype(cat)\n",
    "        temp2 = temp[['time1', 'time2', 'gid']].groupby(['time1', 'time2'], observed=False).count().reset_index()\n",
    "        temp2 = temp2.pivot(index='time1', columns='time2')\n",
    "        temp2.columns = temp2.columns.droplevel(level=0)    \n",
    "        \n",
    "        # make a df\n",
    "        gids = temp.gid.unique().tolist()\n",
    "        temp_g_df = pd.DataFrame()\n",
    "        temp_g_df['gid'] = gids\n",
    "        temp_g_df['tissue'] = tissue\n",
    "        temp_g_df['time1'] = time[0]\n",
    "        temp_g_df['time2'] = time[1]\n",
    "        g_df = pd.concat([g_df, temp_g_df], axis=0)\n",
    "        \n",
    "        # make a df\n",
    "        n = temp2.loc[time[0], time[1]]\n",
    "        data = [tissue, time[0], time[1], n]\n",
    "        temp4 = pd.DataFrame(data=[data], columns=['tissue', 'time1', 'time2', 'n_du_tss'])\n",
    "        df4 = pd.concat([df4, temp4], axis=0)"
   ]
  },
  {
   "cell_type": "code",
   "execution_count": 97,
   "id": "69abaaac-cbdb-4a04-9cb7-2f3454c3f35e",
   "metadata": {},
   "outputs": [],
   "source": [
    "df4['thing'] = df4.tissue+'_'+df4.time1+'_'+df4.time2"
   ]
  },
  {
   "cell_type": "code",
   "execution_count": 98,
   "id": "bd8d9bb5-63dd-49f5-8e14-d151cb5e672a",
   "metadata": {},
   "outputs": [
    {
     "data": {
      "image/png": "[encoded data removed]",
      "text/plain": [
       "<Figure size 432x288 with 1 Axes>"
      ]
     },
     "metadata": {
      "needs_background": "light"
     },
     "output_type": "display_data"
    }
   ],
   "source": [
    "mpl.rcParams['font.family'] = 'Arial'\n",
    "mpl.rcParams['pdf.fonttype'] = 42\n",
    "sns.set_context('paper', font_scale=2)\n",
    "\n",
    "ax = sns.barplot(df4, y='n_du_tss', x='thing')\n",
    "ax.tick_params(axis=\"x\", rotation=45)\n",
    "ax.spines['right'].set_visible(False)\n",
    "ax.spines['top'].set_visible(False)\n",
    "_ = ax.set(ylabel='# genes w/ DU and\\nchanging predominant TSS')"
   ]
  },
  {
   "cell_type": "code",
   "execution_count": 105,
   "id": "843f3d13-1ca8-416a-b77f-b3780e59e4e1",
   "metadata": {},
   "outputs": [
    {
     "name": "stdout",
     "output_type": "stream",
     "text": [
      "321\n"
     ]
    },
    {
     "data": {
      "image/png": "[encoded data removed]",
      "text/plain": [
       "<Figure size 896x352 with 4 Axes>"
      ]
     },
     "metadata": {
      "needs_background": "light"
     },
     "output_type": "display_data"
    }
   ],
   "source": [
    "# get upsetplot of all genes from above plot for the 14d guys\n",
    "temp = g_df.loc[g_df.time1=='14d']\n",
    "print(len(temp.gid.unique()))\n",
    "temp.drop(['time1', 'time2'], axis=1, inplace=True)\n",
    "temp = temp.groupby('gid').agg(','.join).reset_index()\n",
    "temp.loc[temp.tissue.str.contains(',')]\n",
    "# temp.pivot(columns='tissue', index='gid') \n",
    "temp.head()\n",
    "beep = upsetplot.from_memberships(temp.tissue.str.split(','), data=temp)\n",
    "# beep.loc[beep.gid.duplicated()]\n",
    "p = upsetplot.plot(beep, sort_by='cardinality', show_counts='%d')"
   ]
  },
  {
   "cell_type": "code",
   "execution_count": 107,
   "id": "36024610-b038-412e-906b-949921d2cf50",
   "metadata": {},
   "outputs": [
    {
     "data": {
      "image/png": "[encoded data removed]",
      "text/plain": [
       "<Figure size 288x256 with 4 Axes>"
      ]
     },
     "metadata": {
      "needs_background": "light"
     },
     "output_type": "display_data"
    },
    {
     "data": {
      "image/png": "[encoded data removed]",
      "text/plain": [
       "<Figure size 288x256 with 4 Axes>"
      ]
     },
     "metadata": {
      "needs_background": "light"
     },
     "output_type": "display_data"
    }
   ],
   "source": [
    "# how mush overlap is there between the 4d and 14d stuff\n",
    "tissues = ['gastroc', 'adrenal']\n",
    "for t in tissues:\n",
    "    temp = g_df.loc[g_df.tissue==t]\n",
    "    temp['time_comp'] = temp.time1+'_'+temp.time2\n",
    "    temp.drop(['tissue', 'time1', 'time2'], axis=1, inplace=True)\n",
    "    temp = temp.groupby('gid').agg(','.join).reset_index()\n",
    "\n",
    "    beep = upsetplot.from_memberships(temp.time_comp.str.split(','), data=temp)\n",
    "    p = upsetplot.plot(beep, show_counts='%d', sort_by='cardinality')\n",
    "    title = u'DU-TSSand Δ predominant TSS'\n",
    "    title = t.capitalize()+' '+title\n",
    "    plt.suptitle(title)\n",
    "    p['intersections'].set_ylabel('# genes')\n"
   ]
  },
  {
   "cell_type": "markdown",
   "id": "13ba20e9-30e4-4bde-9656-a8a4f9ab0d69",
   "metadata": {},
   "source": [
    "## looking at things"
   ]
  },
  {
   "cell_type": "code",
   "execution_count": 11,
   "id": "a61a7a75-8a9c-42c2-b8d6-1e9835bfa2ba",
   "metadata": {},
   "outputs": [],
   "source": [
    "ca = cerberus.read(m_cerberus_h5)"
   ]
  },
  {
   "cell_type": "code",
   "execution_count": 14,
   "id": "ce2290ee-901d-4a9f-8424-be6866c99465",
   "metadata": {},
   "outputs": [
    {
     "data": {
      "text/html": [
       "<div>\n",
       "<style scoped>\n",
       "    .dataframe tbody tr th:only-of-type {\n",
       "        vertical-align: middle;\n",
       "    }\n",
       "\n",
       "    .dataframe tbody tr th {\n",
       "        vertical-align: top;\n",
       "    }\n",
       "\n",
       "    .dataframe thead th {\n",
       "        text-align: right;\n",
       "    }\n",
       "</style>\n",
       "<table border=\"1\" class=\"dataframe\">\n",
       "  <thead>\n",
       "    <tr style=\"text-align: right;\">\n",
       "      <th></th>\n",
       "      <th>source</th>\n",
       "      <th>gid</th>\n",
       "      <th>n_tss</th>\n",
       "      <th>n_tes</th>\n",
       "      <th>n_ic</th>\n",
       "      <th>n_iso</th>\n",
       "      <th>splicing_ratio</th>\n",
       "      <th>tss_ratio</th>\n",
       "      <th>tes_ratio</th>\n",
       "      <th>spl_ratio</th>\n",
       "      <th>sector</th>\n",
       "      <th>gname</th>\n",
       "      <th>sample</th>\n",
       "      <th>gene_tpm</th>\n",
       "    </tr>\n",
       "  </thead>\n",
       "  <tbody>\n",
       "    <tr>\n",
       "      <th>7965</th>\n",
       "      <td>vM25</td>\n",
       "      <td>ENSMUSG00000030695</td>\n",
       "      <td>6.0</td>\n",
       "      <td>4.0</td>\n",
       "      <td>12.0</td>\n",
       "      <td>12.0</td>\n",
       "      <td>2.400000</td>\n",
       "      <td>0.483871</td>\n",
       "      <td>0.322581</td>\n",
       "      <td>0.193548</td>\n",
       "      <td>mixed</td>\n",
       "      <td>Aldoa</td>\n",
       "      <td>NaN</td>\n",
       "      <td>NaN</td>\n",
       "    </tr>\n",
       "    <tr>\n",
       "      <th>51644</th>\n",
       "      <td>vM25</td>\n",
       "      <td>ENSMUSG00000114515</td>\n",
       "      <td>1.0</td>\n",
       "      <td>1.0</td>\n",
       "      <td>2.0</td>\n",
       "      <td>2.0</td>\n",
       "      <td>2.000000</td>\n",
       "      <td>0.250000</td>\n",
       "      <td>0.250000</td>\n",
       "      <td>0.500000</td>\n",
       "      <td>mixed</td>\n",
       "      <td>Aldoa</td>\n",
       "      <td>NaN</td>\n",
       "      <td>NaN</td>\n",
       "    </tr>\n",
       "    <tr>\n",
       "      <th>62954</th>\n",
       "      <td>lapa</td>\n",
       "      <td>ENSMUSG00000030695</td>\n",
       "      <td>4.0</td>\n",
       "      <td>3.0</td>\n",
       "      <td>31.0</td>\n",
       "      <td>39.0</td>\n",
       "      <td>8.857143</td>\n",
       "      <td>0.252252</td>\n",
       "      <td>0.189189</td>\n",
       "      <td>0.558559</td>\n",
       "      <td>splicing</td>\n",
       "      <td>Aldoa</td>\n",
       "      <td>NaN</td>\n",
       "      <td>NaN</td>\n",
       "    </tr>\n",
       "    <tr>\n",
       "      <th>90600</th>\n",
       "      <td>vM21</td>\n",
       "      <td>ENSMUSG00000030695</td>\n",
       "      <td>6.0</td>\n",
       "      <td>4.0</td>\n",
       "      <td>12.0</td>\n",
       "      <td>12.0</td>\n",
       "      <td>2.400000</td>\n",
       "      <td>0.483871</td>\n",
       "      <td>0.322581</td>\n",
       "      <td>0.193548</td>\n",
       "      <td>mixed</td>\n",
       "      <td>Aldoa</td>\n",
       "      <td>NaN</td>\n",
       "      <td>NaN</td>\n",
       "    </tr>\n",
       "    <tr>\n",
       "      <th>134670</th>\n",
       "      <td>vM21</td>\n",
       "      <td>ENSMUSG00000114515</td>\n",
       "      <td>1.0</td>\n",
       "      <td>1.0</td>\n",
       "      <td>2.0</td>\n",
       "      <td>2.0</td>\n",
       "      <td>2.000000</td>\n",
       "      <td>0.250000</td>\n",
       "      <td>0.250000</td>\n",
       "      <td>0.500000</td>\n",
       "      <td>mixed</td>\n",
       "      <td>Aldoa</td>\n",
       "      <td>NaN</td>\n",
       "      <td>NaN</td>\n",
       "    </tr>\n",
       "    <tr>\n",
       "      <th>...</th>\n",
       "      <td>...</td>\n",
       "      <td>...</td>\n",
       "      <td>...</td>\n",
       "      <td>...</td>\n",
       "      <td>...</td>\n",
       "      <td>...</td>\n",
       "      <td>...</td>\n",
       "      <td>...</td>\n",
       "      <td>...</td>\n",
       "      <td>...</td>\n",
       "      <td>...</td>\n",
       "      <td>...</td>\n",
       "      <td>...</td>\n",
       "      <td>...</td>\n",
       "    </tr>\n",
       "    <tr>\n",
       "      <th>394477</th>\n",
       "      <td>sample_major</td>\n",
       "      <td>ENSMUSG00000030695</td>\n",
       "      <td>1.0</td>\n",
       "      <td>1.0</td>\n",
       "      <td>1.0</td>\n",
       "      <td>1.0</td>\n",
       "      <td>1.000000</td>\n",
       "      <td>0.333333</td>\n",
       "      <td>0.333333</td>\n",
       "      <td>0.333333</td>\n",
       "      <td>simple</td>\n",
       "      <td>Aldoa</td>\n",
       "      <td>cortex_18-20mo</td>\n",
       "      <td>3118.457764</td>\n",
       "    </tr>\n",
       "    <tr>\n",
       "      <th>409167</th>\n",
       "      <td>sample_major</td>\n",
       "      <td>ENSMUSG00000030695</td>\n",
       "      <td>2.0</td>\n",
       "      <td>1.0</td>\n",
       "      <td>2.0</td>\n",
       "      <td>2.0</td>\n",
       "      <td>1.333333</td>\n",
       "      <td>0.461538</td>\n",
       "      <td>0.230769</td>\n",
       "      <td>0.307692</td>\n",
       "      <td>mixed</td>\n",
       "      <td>Aldoa</td>\n",
       "      <td>c2c12_myotube</td>\n",
       "      <td>3002.706543</td>\n",
       "    </tr>\n",
       "    <tr>\n",
       "      <th>421826</th>\n",
       "      <td>sample_major</td>\n",
       "      <td>ENSMUSG00000030695</td>\n",
       "      <td>1.0</td>\n",
       "      <td>1.0</td>\n",
       "      <td>1.0</td>\n",
       "      <td>1.0</td>\n",
       "      <td>1.000000</td>\n",
       "      <td>0.333333</td>\n",
       "      <td>0.333333</td>\n",
       "      <td>0.333333</td>\n",
       "      <td>simple</td>\n",
       "      <td>Aldoa</td>\n",
       "      <td>adrenal_10d</td>\n",
       "      <td>2755.041260</td>\n",
       "    </tr>\n",
       "    <tr>\n",
       "      <th>436686</th>\n",
       "      <td>sample_major</td>\n",
       "      <td>ENSMUSG00000030695</td>\n",
       "      <td>1.0</td>\n",
       "      <td>1.0</td>\n",
       "      <td>1.0</td>\n",
       "      <td>1.0</td>\n",
       "      <td>1.000000</td>\n",
       "      <td>0.333333</td>\n",
       "      <td>0.333333</td>\n",
       "      <td>0.333333</td>\n",
       "      <td>simple</td>\n",
       "      <td>Aldoa</td>\n",
       "      <td>forelimb_e13</td>\n",
       "      <td>575.816589</td>\n",
       "    </tr>\n",
       "    <tr>\n",
       "      <th>449828</th>\n",
       "      <td>sample_major</td>\n",
       "      <td>ENSMUSG00000030695</td>\n",
       "      <td>1.0</td>\n",
       "      <td>1.0</td>\n",
       "      <td>1.0</td>\n",
       "      <td>1.0</td>\n",
       "      <td>1.000000</td>\n",
       "      <td>0.333333</td>\n",
       "      <td>0.333333</td>\n",
       "      <td>0.333333</td>\n",
       "      <td>simple</td>\n",
       "      <td>Aldoa</td>\n",
       "      <td>forelimb_e11</td>\n",
       "      <td>796.354248</td>\n",
       "    </tr>\n",
       "  </tbody>\n",
       "</table>\n",
       "<p>73 rows × 14 columns</p>\n",
       "</div>"
      ],
      "text/plain": [
       "              source                 gid  n_tss  n_tes  n_ic  n_iso  \\\n",
       "7965            vM25  ENSMUSG00000030695    6.0    4.0  12.0   12.0   \n",
       "51644           vM25  ENSMUSG00000114515    1.0    1.0   2.0    2.0   \n",
       "62954           lapa  ENSMUSG00000030695    4.0    3.0  31.0   39.0   \n",
       "90600           vM21  ENSMUSG00000030695    6.0    4.0  12.0   12.0   \n",
       "134670          vM21  ENSMUSG00000114515    1.0    1.0   2.0    2.0   \n",
       "...              ...                 ...    ...    ...   ...    ...   \n",
       "394477  sample_major  ENSMUSG00000030695    1.0    1.0   1.0    1.0   \n",
       "409167  sample_major  ENSMUSG00000030695    2.0    1.0   2.0    2.0   \n",
       "421826  sample_major  ENSMUSG00000030695    1.0    1.0   1.0    1.0   \n",
       "436686  sample_major  ENSMUSG00000030695    1.0    1.0   1.0    1.0   \n",
       "449828  sample_major  ENSMUSG00000030695    1.0    1.0   1.0    1.0   \n",
       "\n",
       "        splicing_ratio  tss_ratio  tes_ratio  spl_ratio    sector  gname  \\\n",
       "7965          2.400000   0.483871   0.322581   0.193548     mixed  Aldoa   \n",
       "51644         2.000000   0.250000   0.250000   0.500000     mixed  Aldoa   \n",
       "62954         8.857143   0.252252   0.189189   0.558559  splicing  Aldoa   \n",
       "90600         2.400000   0.483871   0.322581   0.193548     mixed  Aldoa   \n",
       "134670        2.000000   0.250000   0.250000   0.500000     mixed  Aldoa   \n",
       "...                ...        ...        ...        ...       ...    ...   \n",
       "394477        1.000000   0.333333   0.333333   0.333333    simple  Aldoa   \n",
       "409167        1.333333   0.461538   0.230769   0.307692     mixed  Aldoa   \n",
       "421826        1.000000   0.333333   0.333333   0.333333    simple  Aldoa   \n",
       "436686        1.000000   0.333333   0.333333   0.333333    simple  Aldoa   \n",
       "449828        1.000000   0.333333   0.333333   0.333333    simple  Aldoa   \n",
       "\n",
       "                sample     gene_tpm  \n",
       "7965               NaN          NaN  \n",
       "51644              NaN          NaN  \n",
       "62954              NaN          NaN  \n",
       "90600              NaN          NaN  \n",
       "134670             NaN          NaN  \n",
       "...                ...          ...  \n",
       "394477  cortex_18-20mo  3118.457764  \n",
       "409167   c2c12_myotube  3002.706543  \n",
       "421826     adrenal_10d  2755.041260  \n",
       "436686    forelimb_e13   575.816589  \n",
       "449828    forelimb_e11   796.354248  \n",
       "\n",
       "[73 rows x 14 columns]"
      ]
     },
     "execution_count": 14,
     "metadata": {},
     "output_type": "execute_result"
    }
   ],
   "source": [
    "ca.triplets.loc[ca.triplets.gname=='Aldoa']"
   ]
  },
  {
   "cell_type": "code",
   "execution_count": 19,
   "id": "45c0423b-262d-4fc5-8e36-bcccd957e4de",
   "metadata": {},
   "outputs": [],
   "source": [
    "temp = ca.tss.loc[ca.tss.gene_id=='ENSMUSG00000030695']\n",
    "pr.PyRanges(temp).to_bed('aldoa_tss.bed')"
   ]
  },
  {
   "cell_type": "code",
   "execution_count": 17,
   "id": "94d33e42-0f3f-438d-af46-3857111eaa23",
   "metadata": {},
   "outputs": [
    {
     "data": {
      "text/html": [
       "<div>\n",
       "<style scoped>\n",
       "    .dataframe tbody tr th:only-of-type {\n",
       "        vertical-align: middle;\n",
       "    }\n",
       "\n",
       "    .dataframe tbody tr th {\n",
       "        vertical-align: top;\n",
       "    }\n",
       "\n",
       "    .dataframe thead th {\n",
       "        text-align: right;\n",
       "    }\n",
       "</style>\n",
       "<table border=\"1\" class=\"dataframe\">\n",
       "  <thead>\n",
       "    <tr style=\"text-align: right;\">\n",
       "      <th></th>\n",
       "      <th>Chromosome</th>\n",
       "      <th>Start</th>\n",
       "      <th>End</th>\n",
       "      <th>Strand</th>\n",
       "      <th>Name</th>\n",
       "      <th>source</th>\n",
       "      <th>novelty</th>\n",
       "      <th>gene_id</th>\n",
       "      <th>tss</th>\n",
       "    </tr>\n",
       "  </thead>\n",
       "  <tbody>\n",
       "    <tr>\n",
       "      <th>48322</th>\n",
       "      <td>chr7</td>\n",
       "      <td>126809057</td>\n",
       "      <td>126809158</td>\n",
       "      <td>-</td>\n",
       "      <td>ENSMUSG00000114515_1</td>\n",
       "      <td>vM25,vM21,fantom_cage,pls,pol2</td>\n",
       "      <td>Known</td>\n",
       "      <td>ENSMUSG00000114515</td>\n",
       "      <td>1</td>\n",
       "    </tr>\n",
       "  </tbody>\n",
       "</table>\n",
       "</div>"
      ],
      "text/plain": [
       "      Chromosome      Start        End Strand                  Name  \\\n",
       "48322       chr7  126809057  126809158      -  ENSMUSG00000114515_1   \n",
       "\n",
       "                               source novelty             gene_id  tss  \n",
       "48322  vM25,vM21,fantom_cage,pls,pol2   Known  ENSMUSG00000114515    1  "
      ]
     },
     "execution_count": 17,
     "metadata": {},
     "output_type": "execute_result"
    }
   ],
   "source": [
    "ca.tss.loc[ca.tss.gene_id=='ENSMUSG00000114515']"
   ]
  },
  {
   "cell_type": "code",
   "execution_count": null,
   "id": "ca45bb5e-be38-4141-850c-fbd992bb5623",
   "metadata": {},
   "outputs": [],
   "source": []
  },
  {
   "cell_type": "code",
   "execution_count": null,
   "id": "ff73dbbc-53f7-4d36-88db-54e66b74b3cc",
   "metadata": {},
   "outputs": [],
   "source": []
  },
  {
   "cell_type": "markdown",
   "id": "db0e3d17-de4d-4608-933c-15f70e9689de",
   "metadata": {},
   "source": [
    "# look at timecourse DIE results"
   ]
  },
  {
   "cell_type": "code",
   "execution_count": 22,
   "id": "e44e5dd1-e90d-447b-a9b0-26a29746095b",
   "metadata": {},
   "outputs": [],
   "source": [
    "files = glob.glob('../../proc_revisions/data/mouse/lr/du/*du*tsv')\n",
    "\n",
    "# filter\n",
    "p = 0.01\n",
    "dpi = 10\n",
    "\n",
    "df = pd.DataFrame()\n",
    "for f in files:\n",
    "    tissue = f.rsplit('/', maxsplit=1)[1].split('_', maxsplit=1)[0]\n",
    "    timept = f.rsplit('/', maxsplit=1)[1].split('_vs_', maxsplit=1)[0].split('_', maxsplit=1)[1]\n",
    "    timept2 = f.rsplit('/', maxsplit=1)[1].split(tissue, maxsplit=2)[2].split('_', maxsplit=2)[1]\n",
    "    feat = f.rsplit('_', maxsplit=1)[1].rsplit('.tsv', maxsplit=1)[0]\n",
    "    \n",
    "    def make_add_temp(f, df, rev=False):\n",
    "        temp = pd.read_csv(f, sep='\\t')\n",
    "        temp['tissue'] = tissue\n",
    "        if not rev:\n",
    "            temp['time1'] = timept\n",
    "            temp['time2'] = timept2    \n",
    "        else:\n",
    "            temp['time1'] = timept2\n",
    "            temp['time2'] = timept    \n",
    "        temp['feat'] = feat\n",
    "        temp['fname'] = f\n",
    "        df = pd.concat([temp, df], axis=0)            \n",
    "        return df\n",
    "    df = make_add_temp(f, df)\n",
    "    df = make_add_temp(f, df, rev=True)\n",
    "    df = df.loc[(df.dpi.abs()>=dpi)&(df.adj_p_val<=p)]\n",
    "    "
   ]
  },
  {
   "cell_type": "code",
   "execution_count": 23,
   "id": "7684c375-ffc0-4110-887d-3b44adc26d53",
   "metadata": {},
   "outputs": [],
   "source": [
    "# list(set(df.time1.tolist())&set(df.time2.tolist()))\n",
    "# order = ['4d', '10d', '14d', '25d', '36d', '2mo', '18-20mo']\n",
    "# cat = pd.CategoricalDtype(categories=order, ordered=True)\n",
    "# df['time1'] = df['time1'].astype(cat)\n",
    "# df['time2'] = df['time2'].astype(cat)"
   ]
  },
  {
   "cell_type": "code",
   "execution_count": 24,
   "id": "6d62fcb4-1017-4ca9-ab4a-d5e7976c1850",
   "metadata": {},
   "outputs": [
    {
     "data": {
      "text/plain": [
       "[]"
      ]
     },
     "execution_count": 24,
     "metadata": {},
     "output_type": "execute_result"
    }
   ],
   "source": [
    "df.loc[df.time2.isnull()]['fname'].unique().tolist()"
   ]
  },
  {
   "cell_type": "code",
   "execution_count": 25,
   "id": "587a04e8-6929-471e-8362-de65ce6e8248",
   "metadata": {},
   "outputs": [
    {
     "data": {
      "text/plain": [
       "[]"
      ]
     },
     "execution_count": 25,
     "metadata": {},
     "output_type": "execute_result"
    }
   ],
   "source": [
    "df.loc[df.time1.isnull()]['fname'].unique().tolist()"
   ]
  },
  {
   "cell_type": "code",
   "execution_count": 26,
   "id": "54e37292-6a39-45fd-8495-886766be1d57",
   "metadata": {},
   "outputs": [],
   "source": [
    "# # limit just to isos for now\n",
    "# df = df.loc[df.feat=='iso']"
   ]
  },
  {
   "cell_type": "code",
   "execution_count": 27,
   "id": "d7fdd43e-4990-4f73-b9f7-33b002d95d0b",
   "metadata": {},
   "outputs": [
    {
     "name": "stdout",
     "output_type": "stream",
     "text": [
      "106574\n",
      "106574\n"
     ]
    }
   ],
   "source": [
    "# filter\n",
    "p = 0.01\n",
    "dpi = 10\n",
    "print(len(df.index))\n",
    "df = df.loc[(df.dpi.abs()>=dpi)&(df.adj_p_val<=p)]\n",
    "print(len(df.index))"
   ]
  },
  {
   "cell_type": "code",
   "execution_count": 28,
   "id": "3625331d-bc44-4c4f-9390-773612d9d782",
   "metadata": {},
   "outputs": [],
   "source": [
    "df.to_csv('filt_tc_du.tsv', sep='\\t')"
   ]
  },
  {
   "cell_type": "code",
   "execution_count": 136,
   "id": "0f8b6923-a2c0-45ef-be88-2d354163e7df",
   "metadata": {},
   "outputs": [],
   "source": [
    "# df.loc[df.tissue=='gastroc'][['time1', 'time2']].drop_duplicates()"
   ]
  },
  {
   "cell_type": "code",
   "execution_count": 11,
   "id": "7a568cba-2329-41c0-a3f4-ca3e3d8672d8",
   "metadata": {},
   "outputs": [
    {
     "data": {
      "image/png": "[encoded data removed]",
      "text/plain": [
       "<Figure size 432x288 with 2 Axes>"
      ]
     },
     "metadata": {
      "needs_background": "light"
     },
     "output_type": "display_data"
    },
    {
     "data": {
      "image/png": "[encoded data removed]",
      "text/plain": [
       "<Figure size 432x288 with 2 Axes>"
      ]
     },
     "metadata": {
      "needs_background": "light"
     },
     "output_type": "display_data"
    },
    {
     "data": {
      "image/png": "[encoded data removed]",
      "text/plain": [
       "<Figure size 432x288 with 2 Axes>"
      ]
     },
     "metadata": {
      "needs_background": "light"
     },
     "output_type": "display_data"
    },
    {
     "data": {
      "image/png": "[encoded data removed]",
      "text/plain": [
       "<Figure size 432x288 with 2 Axes>"
      ]
     },
     "metadata": {
      "needs_background": "light"
     },
     "output_type": "display_data"
    },
    {
     "data": {
      "image/png": "[encoded data removed]",
      "text/plain": [
       "<Figure size 432x288 with 2 Axes>"
      ]
     },
     "metadata": {
      "needs_background": "light"
     },
     "output_type": "display_data"
    },
    {
     "data": {
      "image/png": "[encoded data removed]",
      "text/plain": [
       "<Figure size 432x288 with 2 Axes>"
      ]
     },
     "metadata": {
      "needs_background": "light"
     },
     "output_type": "display_data"
    },
    {
     "data": {
      "image/png": "[encoded data removed]",
      "text/plain": [
       "<Figure size 432x288 with 2 Axes>"
      ]
     },
     "metadata": {
      "needs_background": "light"
     },
     "output_type": "display_data"
    },
    {
     "data": {
      "image/png": "[encoded data removed]",
      "text/plain": [
       "<Figure size 432x288 with 2 Axes>"
      ]
     },
     "metadata": {
      "needs_background": "light"
     },
     "output_type": "display_data"
    },
    {
     "data": {
      "image/png": "[encoded data removed]",
      "text/plain": [
       "<Figure size 432x288 with 2 Axes>"
      ]
     },
     "metadata": {
      "needs_background": "light"
     },
     "output_type": "display_data"
    },
    {
     "data": {
      "image/png": "[encoded data removed]",
      "text/plain": [
       "<Figure size 432x288 with 2 Axes>"
      ]
     },
     "metadata": {
      "needs_background": "light"
     },
     "output_type": "display_data"
    },
    {
     "data": {
      "image/png": "[encoded data removed]",
      "text/plain": [
       "<Figure size 432x288 with 2 Axes>"
      ]
     },
     "metadata": {
      "needs_background": "light"
     },
     "output_type": "display_data"
    },
    {
     "data": {
      "image/png": "[encoded data removed]",
      "text/plain": [
       "<Figure size 432x288 with 2 Axes>"
      ]
     },
     "metadata": {
      "needs_background": "light"
     },
     "output_type": "display_data"
    },
    {
     "data": {
      "image/png": "[encoded data removed]",
      "text/plain": [
       "<Figure size 432x288 with 2 Axes>"
      ]
     },
     "metadata": {
      "needs_background": "light"
     },
     "output_type": "display_data"
    },
    {
     "data": {
      "image/png": "[encoded data removed]",
      "text/plain": [
       "<Figure size 432x288 with 2 Axes>"
      ]
     },
     "metadata": {
      "needs_background": "light"
     },
     "output_type": "display_data"
    },
    {
     "data": {
      "image/png": "[encoded data removed]",
      "text/plain": [
       "<Figure size 432x288 with 2 Axes>"
      ]
     },
     "metadata": {
      "needs_background": "light"
     },
     "output_type": "display_data"
    },
    {
     "data": {
      "image/png": "[encoded data removed]",
      "text/plain": [
       "<Figure size 432x288 with 2 Axes>"
      ]
     },
     "metadata": {
      "needs_background": "light"
     },
     "output_type": "display_data"
    },
    {
     "data": {
      "image/png": "[encoded data removed]",
      "text/plain": [
       "<Figure size 432x288 with 2 Axes>"
      ]
     },
     "metadata": {
      "needs_background": "light"
     },
     "output_type": "display_data"
    },
    {
     "data": {
      "image/png": "[encoded data removed]",
      "text/plain": [
       "<Figure size 432x288 with 2 Axes>"
      ]
     },
     "metadata": {
      "needs_background": "light"
     },
     "output_type": "display_data"
    },
    {
     "data": {
      "image/png": "[encoded data removed]",
      "text/plain": [
       "<Figure size 432x288 with 2 Axes>"
      ]
     },
     "metadata": {
      "needs_background": "light"
     },
     "output_type": "display_data"
    },
    {
     "data": {
      "image/png": "[encoded data removed]",
      "text/plain": [
       "<Figure size 432x288 with 2 Axes>"
      ]
     },
     "metadata": {
      "needs_background": "light"
     },
     "output_type": "display_data"
    },
    {
     "data": {
      "text/plain": [
       "<Figure size 432x288 with 0 Axes>"
      ]
     },
     "metadata": {},
     "output_type": "display_data"
    }
   ],
   "source": [
    "# get the number of switching events for each thing\n",
    "for tissue in df.tissue.unique().tolist():\n",
    "    for feat in df.feat.unique().tolist():\n",
    "        temp = df.loc[(df.tissue==tissue)&\\\n",
    "                      (df.feat==feat)]\n",
    "        order = ['4d', '10d', '14d', '25d', '36d', '2mo', '18-20mo']\n",
    "        order = [c for c in order if c in temp.time1.tolist()+temp.time2.tolist()]\n",
    "        cat = pd.CategoricalDtype(categories=order, ordered=True)\n",
    "        temp['time1'] = temp['time1'].astype(cat)\n",
    "        temp['time2'] = temp['time2'].astype(cat)\n",
    "        temp2 = temp[['time1', 'time2', 'gid']].groupby(['time1', 'time2'], observed=False).count().reset_index()\n",
    "        temp2 = temp2.pivot(index='time1', columns='time2')\n",
    "        temp2.columns = temp2.columns.droplevel(level=0)    \n",
    "        \n",
    "        mask = np.tril(temp2)\n",
    "        ax = sns.heatmap(temp2, mask=mask)\n",
    "        \n",
    "        if feat == 'iso':\n",
    "            feat_label = 'T'\n",
    "        else:\n",
    "            feat_label = feat.upper()\n",
    "        ax.set(ylabel='', xlabel='', title=f'# DU-{feat_label} events in {tissue.capitalize()}')\n",
    "        plt.show()\n",
    "        fname = f'figures/n_du_heatmap_{feat}_{tissue}.pdf'\n",
    "        plt.savefig(fname, dpi=500)\n",
    "        plt.clf()"
   ]
  },
  {
   "cell_type": "code",
   "execution_count": 16,
   "id": "0e9a4274-34cb-4126-b0d4-460993e4d255",
   "metadata": {},
   "outputs": [
    {
     "data": {
      "text/html": [
       "<div>\n",
       "<style scoped>\n",
       "    .dataframe tbody tr th:only-of-type {\n",
       "        vertical-align: middle;\n",
       "    }\n",
       "\n",
       "    .dataframe tbody tr th {\n",
       "        vertical-align: top;\n",
       "    }\n",
       "\n",
       "    .dataframe thead th {\n",
       "        text-align: right;\n",
       "    }\n",
       "</style>\n",
       "<table border=\"1\" class=\"dataframe\">\n",
       "  <thead>\n",
       "    <tr style=\"text-align: right;\">\n",
       "      <th></th>\n",
       "      <th>Unnamed: 0</th>\n",
       "      <th>gid</th>\n",
       "      <th>p_val</th>\n",
       "      <th>dpi</th>\n",
       "      <th>pos_iso_1</th>\n",
       "      <th>pos_iso_2</th>\n",
       "      <th>pos_iso_1_dpi</th>\n",
       "      <th>pos_iso_2_dpi</th>\n",
       "      <th>neg_iso_1</th>\n",
       "      <th>neg_iso_2</th>\n",
       "      <th>neg_iso_1_dpi</th>\n",
       "      <th>neg_iso_2_dpi</th>\n",
       "      <th>adj_p_val</th>\n",
       "      <th>gname</th>\n",
       "      <th>tissue</th>\n",
       "      <th>time1</th>\n",
       "      <th>time2</th>\n",
       "      <th>feat</th>\n",
       "      <th>fname</th>\n",
       "    </tr>\n",
       "  </thead>\n",
       "  <tbody>\n",
       "    <tr>\n",
       "      <th>24</th>\n",
       "      <td>24</td>\n",
       "      <td>ENSMUSG00000025920</td>\n",
       "      <td>5.692659e-08</td>\n",
       "      <td>19.040332</td>\n",
       "      <td>ENSMUSG00000025920[1,4,1]</td>\n",
       "      <td>ENSMUSG00000025920[1,1,1]</td>\n",
       "      <td>9.643312</td>\n",
       "      <td>4.921989</td>\n",
       "      <td>ENSMUSG00000025920[1,3,3]</td>\n",
       "      <td>ENSMUSG00000025920[1,5,3]</td>\n",
       "      <td>-14.209599</td>\n",
       "      <td>-4.830733</td>\n",
       "      <td>1.591217e-06</td>\n",
       "      <td>Stau2</td>\n",
       "      <td>cortex</td>\n",
       "      <td>2mo</td>\n",
       "      <td>14d</td>\n",
       "      <td>iso</td>\n",
       "      <td>../../proc_revisions/data/mouse/lr/du/cortex_1...</td>\n",
       "    </tr>\n",
       "    <tr>\n",
       "      <th>30</th>\n",
       "      <td>30</td>\n",
       "      <td>ENSMUSG00000025931</td>\n",
       "      <td>1.565806e-04</td>\n",
       "      <td>24.105629</td>\n",
       "      <td>ENSMUSG00000025931[1,1,4]</td>\n",
       "      <td>ENSMUSG00000025931[1,6,5]</td>\n",
       "      <td>18.300949</td>\n",
       "      <td>5.535626</td>\n",
       "      <td>ENSMUSG00000025931[1,1,2]</td>\n",
       "      <td>ENSMUSG00000025931[1,1,3]</td>\n",
       "      <td>-15.092177</td>\n",
       "      <td>-9.013453</td>\n",
       "      <td>1.943931e-03</td>\n",
       "      <td>Paqr8</td>\n",
       "      <td>cortex</td>\n",
       "      <td>2mo</td>\n",
       "      <td>14d</td>\n",
       "      <td>iso</td>\n",
       "      <td>../../proc_revisions/data/mouse/lr/du/cortex_1...</td>\n",
       "    </tr>\n",
       "    <tr>\n",
       "      <th>32</th>\n",
       "      <td>32</td>\n",
       "      <td>ENSMUSG00000026158</td>\n",
       "      <td>6.026570e-06</td>\n",
       "      <td>11.476848</td>\n",
       "      <td>ENSMUSG00000026158[1,1,2]</td>\n",
       "      <td>ENSMUSG00000026158[1,1,7]</td>\n",
       "      <td>8.889259</td>\n",
       "      <td>1.318485</td>\n",
       "      <td>ENSMUSG00000026158[1,1,1]</td>\n",
       "      <td>ENSMUSG00000026158[1,5,1]</td>\n",
       "      <td>-8.594835</td>\n",
       "      <td>-2.882013</td>\n",
       "      <td>1.082001e-04</td>\n",
       "      <td>Ogfrl1</td>\n",
       "      <td>cortex</td>\n",
       "      <td>2mo</td>\n",
       "      <td>14d</td>\n",
       "      <td>iso</td>\n",
       "      <td>../../proc_revisions/data/mouse/lr/du/cortex_1...</td>\n",
       "    </tr>\n",
       "    <tr>\n",
       "      <th>36</th>\n",
       "      <td>36</td>\n",
       "      <td>ENSMUSG00000073725</td>\n",
       "      <td>8.278251e-09</td>\n",
       "      <td>15.504169</td>\n",
       "      <td>ENSMUSG00000073725[1,1,7]</td>\n",
       "      <td>ENSMUSG00000073725[1,10,7]</td>\n",
       "      <td>13.009205</td>\n",
       "      <td>2.494964</td>\n",
       "      <td>ENSMUSG00000073725[1,1,3]</td>\n",
       "      <td>ENSMUSG00000073725[1,1,1]</td>\n",
       "      <td>-8.038863</td>\n",
       "      <td>-2.325699</td>\n",
       "      <td>2.692883e-07</td>\n",
       "      <td>Lmbrd1</td>\n",
       "      <td>cortex</td>\n",
       "      <td>2mo</td>\n",
       "      <td>14d</td>\n",
       "      <td>iso</td>\n",
       "      <td>../../proc_revisions/data/mouse/lr/du/cortex_1...</td>\n",
       "    </tr>\n",
       "    <tr>\n",
       "      <th>51</th>\n",
       "      <td>51</td>\n",
       "      <td>ENSMUSG00000045216</td>\n",
       "      <td>1.203394e-07</td>\n",
       "      <td>24.005287</td>\n",
       "      <td>ENSMUSG00000045216[3,2,1]</td>\n",
       "      <td>ENSMUSG00000045216[2,2,2]</td>\n",
       "      <td>13.559322</td>\n",
       "      <td>7.056137</td>\n",
       "      <td>ENSMUSG00000045216[1,1,1]</td>\n",
       "      <td>NaN</td>\n",
       "      <td>-24.005287</td>\n",
       "      <td>NaN</td>\n",
       "      <td>3.164757e-06</td>\n",
       "      <td>Hs6st1</td>\n",
       "      <td>cortex</td>\n",
       "      <td>2mo</td>\n",
       "      <td>14d</td>\n",
       "      <td>iso</td>\n",
       "      <td>../../proc_revisions/data/mouse/lr/du/cortex_1...</td>\n",
       "    </tr>\n",
       "  </tbody>\n",
       "</table>\n",
       "</div>"
      ],
      "text/plain": [
       "    Unnamed: 0                 gid         p_val        dpi  \\\n",
       "24          24  ENSMUSG00000025920  5.692659e-08  19.040332   \n",
       "30          30  ENSMUSG00000025931  1.565806e-04  24.105629   \n",
       "32          32  ENSMUSG00000026158  6.026570e-06  11.476848   \n",
       "36          36  ENSMUSG00000073725  8.278251e-09  15.504169   \n",
       "51          51  ENSMUSG00000045216  1.203394e-07  24.005287   \n",
       "\n",
       "                    pos_iso_1                   pos_iso_2  pos_iso_1_dpi  \\\n",
       "24  ENSMUSG00000025920[1,4,1]   ENSMUSG00000025920[1,1,1]       9.643312   \n",
       "30  ENSMUSG00000025931[1,1,4]   ENSMUSG00000025931[1,6,5]      18.300949   \n",
       "32  ENSMUSG00000026158[1,1,2]   ENSMUSG00000026158[1,1,7]       8.889259   \n",
       "36  ENSMUSG00000073725[1,1,7]  ENSMUSG00000073725[1,10,7]      13.009205   \n",
       "51  ENSMUSG00000045216[3,2,1]   ENSMUSG00000045216[2,2,2]      13.559322   \n",
       "\n",
       "    pos_iso_2_dpi                  neg_iso_1                  neg_iso_2  \\\n",
       "24       4.921989  ENSMUSG00000025920[1,3,3]  ENSMUSG00000025920[1,5,3]   \n",
       "30       5.535626  ENSMUSG00000025931[1,1,2]  ENSMUSG00000025931[1,1,3]   \n",
       "32       1.318485  ENSMUSG00000026158[1,1,1]  ENSMUSG00000026158[1,5,1]   \n",
       "36       2.494964  ENSMUSG00000073725[1,1,3]  ENSMUSG00000073725[1,1,1]   \n",
       "51       7.056137  ENSMUSG00000045216[1,1,1]                        NaN   \n",
       "\n",
       "    neg_iso_1_dpi  neg_iso_2_dpi     adj_p_val   gname  tissue time1 time2  \\\n",
       "24     -14.209599      -4.830733  1.591217e-06   Stau2  cortex   2mo   14d   \n",
       "30     -15.092177      -9.013453  1.943931e-03   Paqr8  cortex   2mo   14d   \n",
       "32      -8.594835      -2.882013  1.082001e-04  Ogfrl1  cortex   2mo   14d   \n",
       "36      -8.038863      -2.325699  2.692883e-07  Lmbrd1  cortex   2mo   14d   \n",
       "51     -24.005287            NaN  3.164757e-06  Hs6st1  cortex   2mo   14d   \n",
       "\n",
       "   feat                                              fname  \n",
       "24  iso  ../../proc_revisions/data/mouse/lr/du/cortex_1...  \n",
       "30  iso  ../../proc_revisions/data/mouse/lr/du/cortex_1...  \n",
       "32  iso  ../../proc_revisions/data/mouse/lr/du/cortex_1...  \n",
       "36  iso  ../../proc_revisions/data/mouse/lr/du/cortex_1...  \n",
       "51  iso  ../../proc_revisions/data/mouse/lr/du/cortex_1...  "
      ]
     },
     "execution_count": 16,
     "metadata": {},
     "output_type": "execute_result"
    }
   ],
   "source": [
    "# DU-T in corex\n",
    "temp = df.loc[(df.feat=='iso')&\\\n",
    "              (df.tissue=='cortex')]\n",
    "temp.head()"
   ]
  },
  {
   "cell_type": "code",
   "execution_count": 17,
   "id": "1845b6a6-8908-418f-bc5d-7f2140c0db4f",
   "metadata": {},
   "outputs": [
    {
     "data": {
      "text/html": [
       "<div>\n",
       "<style scoped>\n",
       "    .dataframe tbody tr th:only-of-type {\n",
       "        vertical-align: middle;\n",
       "    }\n",
       "\n",
       "    .dataframe tbody tr th {\n",
       "        vertical-align: top;\n",
       "    }\n",
       "\n",
       "    .dataframe thead th {\n",
       "        text-align: right;\n",
       "    }\n",
       "</style>\n",
       "<table border=\"1\" class=\"dataframe\">\n",
       "  <thead>\n",
       "    <tr style=\"text-align: right;\">\n",
       "      <th></th>\n",
       "      <th>Unnamed: 0</th>\n",
       "      <th>gid</th>\n",
       "      <th>p_val</th>\n",
       "      <th>dpi</th>\n",
       "      <th>pos_iso_1</th>\n",
       "      <th>pos_iso_2</th>\n",
       "      <th>pos_iso_1_dpi</th>\n",
       "      <th>pos_iso_2_dpi</th>\n",
       "      <th>neg_iso_1</th>\n",
       "      <th>neg_iso_2</th>\n",
       "      <th>neg_iso_1_dpi</th>\n",
       "      <th>neg_iso_2_dpi</th>\n",
       "      <th>adj_p_val</th>\n",
       "      <th>gname</th>\n",
       "      <th>tissue</th>\n",
       "      <th>time1</th>\n",
       "      <th>time2</th>\n",
       "      <th>feat</th>\n",
       "      <th>fname</th>\n",
       "    </tr>\n",
       "  </thead>\n",
       "  <tbody>\n",
       "    <tr>\n",
       "      <th>1438</th>\n",
       "      <td>1438</td>\n",
       "      <td>ENSMUSG00000033981</td>\n",
       "      <td>1.919912e-17</td>\n",
       "      <td>15.111123</td>\n",
       "      <td>ENSMUSG00000033981[1,2,2]</td>\n",
       "      <td>ENSMUSG00000033981[1,2,3]</td>\n",
       "      <td>11.265692</td>\n",
       "      <td>3.845431</td>\n",
       "      <td>ENSMUSG00000033981[1,2,12]</td>\n",
       "      <td>ENSMUSG00000033981[1,1,12]</td>\n",
       "      <td>-7.363565</td>\n",
       "      <td>-7.015085</td>\n",
       "      <td>1.847866e-15</td>\n",
       "      <td>Gria2</td>\n",
       "      <td>cortex</td>\n",
       "      <td>2mo</td>\n",
       "      <td>14d</td>\n",
       "      <td>iso</td>\n",
       "      <td>../../proc_revisions/data/mouse/lr/du/cortex_1...</td>\n",
       "    </tr>\n",
       "    <tr>\n",
       "      <th>1438</th>\n",
       "      <td>1438</td>\n",
       "      <td>ENSMUSG00000033981</td>\n",
       "      <td>1.919912e-17</td>\n",
       "      <td>15.111123</td>\n",
       "      <td>ENSMUSG00000033981[1,2,2]</td>\n",
       "      <td>ENSMUSG00000033981[1,2,3]</td>\n",
       "      <td>11.265692</td>\n",
       "      <td>3.845431</td>\n",
       "      <td>ENSMUSG00000033981[1,2,12]</td>\n",
       "      <td>ENSMUSG00000033981[1,1,12]</td>\n",
       "      <td>-7.363565</td>\n",
       "      <td>-7.015085</td>\n",
       "      <td>1.847866e-15</td>\n",
       "      <td>Gria2</td>\n",
       "      <td>cortex</td>\n",
       "      <td>14d</td>\n",
       "      <td>2mo</td>\n",
       "      <td>iso</td>\n",
       "      <td>../../proc_revisions/data/mouse/lr/du/cortex_1...</td>\n",
       "    </tr>\n",
       "    <tr>\n",
       "      <th>1460</th>\n",
       "      <td>1460</td>\n",
       "      <td>ENSMUSG00000033981</td>\n",
       "      <td>3.804127e-07</td>\n",
       "      <td>12.560241</td>\n",
       "      <td>ENSMUSG00000033981[1,2,2]</td>\n",
       "      <td>ENSMUSG00000033981[1,2,3]</td>\n",
       "      <td>9.942516</td>\n",
       "      <td>2.617725</td>\n",
       "      <td>ENSMUSG00000033981[1,2,12]</td>\n",
       "      <td>ENSMUSG00000033981[1,1,12]</td>\n",
       "      <td>-5.835447</td>\n",
       "      <td>-5.172546</td>\n",
       "      <td>3.353620e-05</td>\n",
       "      <td>Gria2</td>\n",
       "      <td>cortex</td>\n",
       "      <td>18-20mo</td>\n",
       "      <td>14d</td>\n",
       "      <td>iso</td>\n",
       "      <td>../../proc_revisions/data/mouse/lr/du/cortex_1...</td>\n",
       "    </tr>\n",
       "    <tr>\n",
       "      <th>1460</th>\n",
       "      <td>1460</td>\n",
       "      <td>ENSMUSG00000033981</td>\n",
       "      <td>3.804127e-07</td>\n",
       "      <td>12.560241</td>\n",
       "      <td>ENSMUSG00000033981[1,2,2]</td>\n",
       "      <td>ENSMUSG00000033981[1,2,3]</td>\n",
       "      <td>9.942516</td>\n",
       "      <td>2.617725</td>\n",
       "      <td>ENSMUSG00000033981[1,2,12]</td>\n",
       "      <td>ENSMUSG00000033981[1,1,12]</td>\n",
       "      <td>-5.835447</td>\n",
       "      <td>-5.172546</td>\n",
       "      <td>3.353620e-05</td>\n",
       "      <td>Gria2</td>\n",
       "      <td>cortex</td>\n",
       "      <td>14d</td>\n",
       "      <td>18-20mo</td>\n",
       "      <td>iso</td>\n",
       "      <td>../../proc_revisions/data/mouse/lr/du/cortex_1...</td>\n",
       "    </tr>\n",
       "  </tbody>\n",
       "</table>\n",
       "</div>"
      ],
      "text/plain": [
       "      Unnamed: 0                 gid         p_val        dpi  \\\n",
       "1438        1438  ENSMUSG00000033981  1.919912e-17  15.111123   \n",
       "1438        1438  ENSMUSG00000033981  1.919912e-17  15.111123   \n",
       "1460        1460  ENSMUSG00000033981  3.804127e-07  12.560241   \n",
       "1460        1460  ENSMUSG00000033981  3.804127e-07  12.560241   \n",
       "\n",
       "                      pos_iso_1                  pos_iso_2  pos_iso_1_dpi  \\\n",
       "1438  ENSMUSG00000033981[1,2,2]  ENSMUSG00000033981[1,2,3]      11.265692   \n",
       "1438  ENSMUSG00000033981[1,2,2]  ENSMUSG00000033981[1,2,3]      11.265692   \n",
       "1460  ENSMUSG00000033981[1,2,2]  ENSMUSG00000033981[1,2,3]       9.942516   \n",
       "1460  ENSMUSG00000033981[1,2,2]  ENSMUSG00000033981[1,2,3]       9.942516   \n",
       "\n",
       "      pos_iso_2_dpi                   neg_iso_1                   neg_iso_2  \\\n",
       "1438       3.845431  ENSMUSG00000033981[1,2,12]  ENSMUSG00000033981[1,1,12]   \n",
       "1438       3.845431  ENSMUSG00000033981[1,2,12]  ENSMUSG00000033981[1,1,12]   \n",
       "1460       2.617725  ENSMUSG00000033981[1,2,12]  ENSMUSG00000033981[1,1,12]   \n",
       "1460       2.617725  ENSMUSG00000033981[1,2,12]  ENSMUSG00000033981[1,1,12]   \n",
       "\n",
       "      neg_iso_1_dpi  neg_iso_2_dpi     adj_p_val  gname  tissue    time1  \\\n",
       "1438      -7.363565      -7.015085  1.847866e-15  Gria2  cortex      2mo   \n",
       "1438      -7.363565      -7.015085  1.847866e-15  Gria2  cortex      14d   \n",
       "1460      -5.835447      -5.172546  3.353620e-05  Gria2  cortex  18-20mo   \n",
       "1460      -5.835447      -5.172546  3.353620e-05  Gria2  cortex      14d   \n",
       "\n",
       "        time2 feat                                              fname  \n",
       "1438      14d  iso  ../../proc_revisions/data/mouse/lr/du/cortex_1...  \n",
       "1438      2mo  iso  ../../proc_revisions/data/mouse/lr/du/cortex_1...  \n",
       "1460      14d  iso  ../../proc_revisions/data/mouse/lr/du/cortex_1...  \n",
       "1460  18-20mo  iso  ../../proc_revisions/data/mouse/lr/du/cortex_1...  "
      ]
     },
     "execution_count": 17,
     "metadata": {},
     "output_type": "execute_result"
    }
   ],
   "source": [
    "temp.loc[temp.gname=='Gria2']"
   ]
  },
  {
   "cell_type": "code",
   "execution_count": 137,
   "id": "fd2b145e-677c-4f8f-8aca-d52e6a979f9e",
   "metadata": {},
   "outputs": [
    {
     "data": {
      "text/html": [
       "<div>\n",
       "<style scoped>\n",
       "    .dataframe tbody tr th:only-of-type {\n",
       "        vertical-align: middle;\n",
       "    }\n",
       "\n",
       "    .dataframe tbody tr th {\n",
       "        vertical-align: top;\n",
       "    }\n",
       "\n",
       "    .dataframe thead th {\n",
       "        text-align: right;\n",
       "    }\n",
       "</style>\n",
       "<table border=\"1\" class=\"dataframe\">\n",
       "  <thead>\n",
       "    <tr style=\"text-align: right;\">\n",
       "      <th></th>\n",
       "      <th>Unnamed: 0</th>\n",
       "      <th>gid</th>\n",
       "      <th>p_val</th>\n",
       "      <th>dpi</th>\n",
       "      <th>pos_iso_1</th>\n",
       "      <th>pos_iso_2</th>\n",
       "      <th>pos_iso_1_dpi</th>\n",
       "      <th>pos_iso_2_dpi</th>\n",
       "      <th>neg_iso_1</th>\n",
       "      <th>neg_iso_2</th>\n",
       "      <th>neg_iso_1_dpi</th>\n",
       "      <th>neg_iso_2_dpi</th>\n",
       "      <th>adj_p_val</th>\n",
       "      <th>gname</th>\n",
       "      <th>tissue</th>\n",
       "      <th>time1</th>\n",
       "      <th>time2</th>\n",
       "      <th>feat</th>\n",
       "      <th>fname</th>\n",
       "    </tr>\n",
       "  </thead>\n",
       "  <tbody>\n",
       "    <tr>\n",
       "      <th>89</th>\n",
       "      <td>89</td>\n",
       "      <td>ENSMUSG00000001089</td>\n",
       "      <td>1.015970e-04</td>\n",
       "      <td>28.428964</td>\n",
       "      <td>ENSMUSG00000001089_4</td>\n",
       "      <td>ENSMUSG00000001089_9</td>\n",
       "      <td>13.756831</td>\n",
       "      <td>8.169399</td>\n",
       "      <td>ENSMUSG00000001089_1</td>\n",
       "      <td>ENSMUSG00000001089_2</td>\n",
       "      <td>-16.693990</td>\n",
       "      <td>-11.734974</td>\n",
       "      <td>5.994224e-03</td>\n",
       "      <td>Luzp1</td>\n",
       "      <td>cortex</td>\n",
       "      <td>2mo</td>\n",
       "      <td>18-20mo</td>\n",
       "      <td>ic</td>\n",
       "      <td>../../proc_revisions/data/mouse/lr/du/cortex_1...</td>\n",
       "    </tr>\n",
       "    <tr>\n",
       "      <th>195</th>\n",
       "      <td>195</td>\n",
       "      <td>ENSMUSG00000002052</td>\n",
       "      <td>2.441175e-07</td>\n",
       "      <td>25.556616</td>\n",
       "      <td>ENSMUSG00000002052_3</td>\n",
       "      <td>NaN</td>\n",
       "      <td>25.556616</td>\n",
       "      <td>NaN</td>\n",
       "      <td>ENSMUSG00000002052_1</td>\n",
       "      <td>NaN</td>\n",
       "      <td>-25.556610</td>\n",
       "      <td>NaN</td>\n",
       "      <td>3.113575e-05</td>\n",
       "      <td>Supt6</td>\n",
       "      <td>cortex</td>\n",
       "      <td>2mo</td>\n",
       "      <td>18-20mo</td>\n",
       "      <td>ic</td>\n",
       "      <td>../../proc_revisions/data/mouse/lr/du/cortex_1...</td>\n",
       "    </tr>\n",
       "    <tr>\n",
       "      <th>250</th>\n",
       "      <td>250</td>\n",
       "      <td>ENSMUSG00000002625</td>\n",
       "      <td>7.166751e-11</td>\n",
       "      <td>20.935278</td>\n",
       "      <td>NaN</td>\n",
       "      <td>NaN</td>\n",
       "      <td>16.323660</td>\n",
       "      <td>4.611618</td>\n",
       "      <td>NaN</td>\n",
       "      <td>NaN</td>\n",
       "      <td>-7.976919</td>\n",
       "      <td>-6.567979</td>\n",
       "      <td>1.942414e-08</td>\n",
       "      <td>Akap8l</td>\n",
       "      <td>cortex</td>\n",
       "      <td>2mo</td>\n",
       "      <td>18-20mo</td>\n",
       "      <td>ic</td>\n",
       "      <td>../../proc_revisions/data/mouse/lr/du/cortex_1...</td>\n",
       "    </tr>\n",
       "    <tr>\n",
       "      <th>258</th>\n",
       "      <td>258</td>\n",
       "      <td>ENSMUSG00000002748</td>\n",
       "      <td>2.972069e-10</td>\n",
       "      <td>50.264552</td>\n",
       "      <td>ENSMUSG00000002748_2</td>\n",
       "      <td>NaN</td>\n",
       "      <td>50.264552</td>\n",
       "      <td>NaN</td>\n",
       "      <td>ENSMUSG00000002748_1</td>\n",
       "      <td>ENSMUSG00000002748_9</td>\n",
       "      <td>-49.055172</td>\n",
       "      <td>-1.020408</td>\n",
       "      <td>7.581399e-08</td>\n",
       "      <td>Baz1b</td>\n",
       "      <td>cortex</td>\n",
       "      <td>2mo</td>\n",
       "      <td>18-20mo</td>\n",
       "      <td>ic</td>\n",
       "      <td>../../proc_revisions/data/mouse/lr/du/cortex_1...</td>\n",
       "    </tr>\n",
       "    <tr>\n",
       "      <th>279</th>\n",
       "      <td>279</td>\n",
       "      <td>ENSMUSG00000002949</td>\n",
       "      <td>9.787948e-05</td>\n",
       "      <td>26.255493</td>\n",
       "      <td>ENSMUSG00000002949_1</td>\n",
       "      <td>NaN</td>\n",
       "      <td>26.255493</td>\n",
       "      <td>NaN</td>\n",
       "      <td>ENSMUSG00000002949_11</td>\n",
       "      <td>ENSMUSG00000002949_7</td>\n",
       "      <td>-8.909279</td>\n",
       "      <td>-8.567241</td>\n",
       "      <td>5.854543e-03</td>\n",
       "      <td>Timm44</td>\n",
       "      <td>cortex</td>\n",
       "      <td>2mo</td>\n",
       "      <td>18-20mo</td>\n",
       "      <td>ic</td>\n",
       "      <td>../../proc_revisions/data/mouse/lr/du/cortex_1...</td>\n",
       "    </tr>\n",
       "  </tbody>\n",
       "</table>\n",
       "</div>"
      ],
      "text/plain": [
       "     Unnamed: 0                 gid         p_val        dpi  \\\n",
       "89           89  ENSMUSG00000001089  1.015970e-04  28.428964   \n",
       "195         195  ENSMUSG00000002052  2.441175e-07  25.556616   \n",
       "250         250  ENSMUSG00000002625  7.166751e-11  20.935278   \n",
       "258         258  ENSMUSG00000002748  2.972069e-10  50.264552   \n",
       "279         279  ENSMUSG00000002949  9.787948e-05  26.255493   \n",
       "\n",
       "                pos_iso_1             pos_iso_2  pos_iso_1_dpi  pos_iso_2_dpi  \\\n",
       "89   ENSMUSG00000001089_4  ENSMUSG00000001089_9      13.756831       8.169399   \n",
       "195  ENSMUSG00000002052_3                   NaN      25.556616            NaN   \n",
       "250                   NaN                   NaN      16.323660       4.611618   \n",
       "258  ENSMUSG00000002748_2                   NaN      50.264552            NaN   \n",
       "279  ENSMUSG00000002949_1                   NaN      26.255493            NaN   \n",
       "\n",
       "                 neg_iso_1             neg_iso_2  neg_iso_1_dpi  \\\n",
       "89    ENSMUSG00000001089_1  ENSMUSG00000001089_2     -16.693990   \n",
       "195   ENSMUSG00000002052_1                   NaN     -25.556610   \n",
       "250                    NaN                   NaN      -7.976919   \n",
       "258   ENSMUSG00000002748_1  ENSMUSG00000002748_9     -49.055172   \n",
       "279  ENSMUSG00000002949_11  ENSMUSG00000002949_7      -8.909279   \n",
       "\n",
       "     neg_iso_2_dpi     adj_p_val   gname  tissue time1    time2 feat  \\\n",
       "89      -11.734974  5.994224e-03   Luzp1  cortex   2mo  18-20mo   ic   \n",
       "195            NaN  3.113575e-05   Supt6  cortex   2mo  18-20mo   ic   \n",
       "250      -6.567979  1.942414e-08  Akap8l  cortex   2mo  18-20mo   ic   \n",
       "258      -1.020408  7.581399e-08   Baz1b  cortex   2mo  18-20mo   ic   \n",
       "279      -8.567241  5.854543e-03  Timm44  cortex   2mo  18-20mo   ic   \n",
       "\n",
       "                                                 fname  \n",
       "89   ../../proc_revisions/data/mouse/lr/du/cortex_1...  \n",
       "195  ../../proc_revisions/data/mouse/lr/du/cortex_1...  \n",
       "250  ../../proc_revisions/data/mouse/lr/du/cortex_1...  \n",
       "258  ../../proc_revisions/data/mouse/lr/du/cortex_1...  \n",
       "279  ../../proc_revisions/data/mouse/lr/du/cortex_1...  "
      ]
     },
     "execution_count": 137,
     "metadata": {},
     "output_type": "execute_result"
    }
   ],
   "source": [
    "# DU-IC in corex\n",
    "temp = df.loc[(df.feat=='ic')&\\\n",
    "              (df.tissue=='cortex')]\n",
    "temp.head()"
   ]
  },
  {
   "cell_type": "code",
   "execution_count": 141,
   "id": "a6e86175-98d5-49ff-a037-f2f6a8358837",
   "metadata": {},
   "outputs": [
    {
     "data": {
      "text/html": [
       "<div>\n",
       "<style scoped>\n",
       "    .dataframe tbody tr th:only-of-type {\n",
       "        vertical-align: middle;\n",
       "    }\n",
       "\n",
       "    .dataframe tbody tr th {\n",
       "        vertical-align: top;\n",
       "    }\n",
       "\n",
       "    .dataframe thead th {\n",
       "        text-align: right;\n",
       "    }\n",
       "</style>\n",
       "<table border=\"1\" class=\"dataframe\">\n",
       "  <thead>\n",
       "    <tr style=\"text-align: right;\">\n",
       "      <th></th>\n",
       "      <th>gname</th>\n",
       "      <th>dpi</th>\n",
       "      <th>adj_p_val</th>\n",
       "      <th>pos_iso_1</th>\n",
       "      <th>neg_iso_1</th>\n",
       "      <th>feat</th>\n",
       "    </tr>\n",
       "  </thead>\n",
       "  <tbody>\n",
       "    <tr>\n",
       "      <th>7365</th>\n",
       "      <td>Aak1</td>\n",
       "      <td>77.358490</td>\n",
       "      <td>2.185089e-14</td>\n",
       "      <td>ENSMUSG00000057230_3</td>\n",
       "      <td>ENSMUSG00000057230_2</td>\n",
       "      <td>ic</td>\n",
       "    </tr>\n",
       "    <tr>\n",
       "      <th>7365</th>\n",
       "      <td>Aak1</td>\n",
       "      <td>77.358490</td>\n",
       "      <td>2.185089e-14</td>\n",
       "      <td>ENSMUSG00000057230_3</td>\n",
       "      <td>ENSMUSG00000057230_2</td>\n",
       "      <td>ic</td>\n",
       "    </tr>\n",
       "    <tr>\n",
       "      <th>6085</th>\n",
       "      <td>Dnm3</td>\n",
       "      <td>76.993046</td>\n",
       "      <td>5.038267e-09</td>\n",
       "      <td>ENSMUSG00000040265_14</td>\n",
       "      <td>ENSMUSG00000040265_13</td>\n",
       "      <td>ic</td>\n",
       "    </tr>\n",
       "    <tr>\n",
       "      <th>6085</th>\n",
       "      <td>Dnm3</td>\n",
       "      <td>76.993046</td>\n",
       "      <td>5.038267e-09</td>\n",
       "      <td>ENSMUSG00000040265_14</td>\n",
       "      <td>ENSMUSG00000040265_13</td>\n",
       "      <td>ic</td>\n",
       "    </tr>\n",
       "    <tr>\n",
       "      <th>7476</th>\n",
       "      <td>Aak1</td>\n",
       "      <td>74.233490</td>\n",
       "      <td>2.883725e-07</td>\n",
       "      <td>ENSMUSG00000057230_3</td>\n",
       "      <td>ENSMUSG00000057230_2</td>\n",
       "      <td>ic</td>\n",
       "    </tr>\n",
       "    <tr>\n",
       "      <th>7476</th>\n",
       "      <td>Aak1</td>\n",
       "      <td>74.233490</td>\n",
       "      <td>2.883725e-07</td>\n",
       "      <td>ENSMUSG00000057230_3</td>\n",
       "      <td>ENSMUSG00000057230_2</td>\n",
       "      <td>ic</td>\n",
       "    </tr>\n",
       "    <tr>\n",
       "      <th>7197</th>\n",
       "      <td>Gon4l</td>\n",
       "      <td>73.684212</td>\n",
       "      <td>7.081561e-03</td>\n",
       "      <td>ENSMUSG00000054199_11</td>\n",
       "      <td>ENSMUSG00000054199_7</td>\n",
       "      <td>ic</td>\n",
       "    </tr>\n",
       "    <tr>\n",
       "      <th>7197</th>\n",
       "      <td>Gon4l</td>\n",
       "      <td>73.684212</td>\n",
       "      <td>7.081561e-03</td>\n",
       "      <td>ENSMUSG00000054199_11</td>\n",
       "      <td>ENSMUSG00000054199_7</td>\n",
       "      <td>ic</td>\n",
       "    </tr>\n",
       "    <tr>\n",
       "      <th>7041</th>\n",
       "      <td>Usp29</td>\n",
       "      <td>71.904767</td>\n",
       "      <td>6.005886e-04</td>\n",
       "      <td>ENSMUSG00000051527_8</td>\n",
       "      <td>ENSMUSG00000051527_9</td>\n",
       "      <td>ic</td>\n",
       "    </tr>\n",
       "    <tr>\n",
       "      <th>7041</th>\n",
       "      <td>Usp29</td>\n",
       "      <td>71.904767</td>\n",
       "      <td>6.005886e-04</td>\n",
       "      <td>ENSMUSG00000051527_8</td>\n",
       "      <td>ENSMUSG00000051527_9</td>\n",
       "      <td>ic</td>\n",
       "    </tr>\n",
       "  </tbody>\n",
       "</table>\n",
       "</div>"
      ],
      "text/plain": [
       "      gname        dpi     adj_p_val              pos_iso_1  \\\n",
       "7365   Aak1  77.358490  2.185089e-14   ENSMUSG00000057230_3   \n",
       "7365   Aak1  77.358490  2.185089e-14   ENSMUSG00000057230_3   \n",
       "6085   Dnm3  76.993046  5.038267e-09  ENSMUSG00000040265_14   \n",
       "6085   Dnm3  76.993046  5.038267e-09  ENSMUSG00000040265_14   \n",
       "7476   Aak1  74.233490  2.883725e-07   ENSMUSG00000057230_3   \n",
       "7476   Aak1  74.233490  2.883725e-07   ENSMUSG00000057230_3   \n",
       "7197  Gon4l  73.684212  7.081561e-03  ENSMUSG00000054199_11   \n",
       "7197  Gon4l  73.684212  7.081561e-03  ENSMUSG00000054199_11   \n",
       "7041  Usp29  71.904767  6.005886e-04   ENSMUSG00000051527_8   \n",
       "7041  Usp29  71.904767  6.005886e-04   ENSMUSG00000051527_8   \n",
       "\n",
       "                  neg_iso_1 feat  \n",
       "7365   ENSMUSG00000057230_2   ic  \n",
       "7365   ENSMUSG00000057230_2   ic  \n",
       "6085  ENSMUSG00000040265_13   ic  \n",
       "6085  ENSMUSG00000040265_13   ic  \n",
       "7476   ENSMUSG00000057230_2   ic  \n",
       "7476   ENSMUSG00000057230_2   ic  \n",
       "7197   ENSMUSG00000054199_7   ic  \n",
       "7197   ENSMUSG00000054199_7   ic  \n",
       "7041   ENSMUSG00000051527_9   ic  \n",
       "7041   ENSMUSG00000051527_9   ic  "
      ]
     },
     "execution_count": 141,
     "metadata": {},
     "output_type": "execute_result"
    }
   ],
   "source": [
    "temp.sort_values(by='dpi', ascending=False).head(20).tail(10)[['gname', 'dpi', 'adj_p_val', 'pos_iso_1', 'neg_iso_1', 'feat']]"
   ]
  },
  {
   "cell_type": "markdown",
   "id": "c9233442-b925-4f4d-8eb9-a0b577cb22d2",
   "metadata": {},
   "source": [
    "## Some line plots"
   ]
  },
  {
   "cell_type": "code",
   "execution_count": 111,
   "id": "7463c9a9-5159-4d6c-a5d9-85718cb938ac",
   "metadata": {},
   "outputs": [],
   "source": [
    "# if feat == 'ic':\n",
    "pi_df = swan.calc_pi(sg.ic_adata, sg.ic_adata.var, obs_col='dataset')\n",
    "pi_df = pi_df[0].sparse.to_dense()"
   ]
  },
  {
   "cell_type": "code",
   "execution_count": 126,
   "id": "88d3c6e3-0d11-463f-878e-cbfa32e43bfa",
   "metadata": {},
   "outputs": [],
   "source": [
    "def make_pi_line_plot(pi_df, gene, tissue, feat, feat_ids=None):\n",
    "    gid = sg.t_df.loc[sg.t_df.gname==gene, 'gid'].values[0]\n",
    "    \n",
    "    if feat_ids:\n",
    "        ids = [f'{gid}_{f}' for f in feat_ids]\n",
    "    \n",
    "    temp = pi_df.copy(deep=True)\n",
    "    temp = temp[[c for c in temp.columns if gid in c]]\n",
    "    temp.fillna(0, inplace=True)\n",
    "    temp = temp.melt(ignore_index=False, var_name=feat, value_name='pi')\n",
    "    temp = temp.merge(sg.adata.obs[['age', 'tissue']], left_index=True, right_index=True)\n",
    "    temp = temp.loc[temp.tissue==tissue]\n",
    "    \n",
    "    if feat_ids:\n",
    "        temp = temp.loc[temp[feat].isin(ids)]\n",
    "    \n",
    "    order = ['4d', '10d', '14d', '25d', '36d', '2mo', '18-20mo']\n",
    "    order = [c for c in order if c in temp.age.tolist()]\n",
    "    cat = pd.CategoricalDtype(categories=order, ordered=True)\n",
    "    temp['age'] = temp['age'].astype(cat)\n",
    "    \n",
    "    sns.set_context('paper', font_scale=2)\n",
    "    mpl.rcParams['font.family'] = 'Arial'\n",
    "    mpl.rcParams['pdf.fonttype'] = 42\n",
    "    \n",
    "    ax = sns.lineplot(data=temp, x='age', y='pi', hue=feat)    \n",
    "    ax.spines['right'].set_visible(False)\n",
    "    ax.spines['top'].set_visible(False)\n",
    "    ax.set(title=f'{gene} in {tissue}')\n",
    "    plt.legend(bbox_to_anchor=(.6, 1.05))    \n"
   ]
  },
  {
   "cell_type": "code",
   "execution_count": 127,
   "id": "3e33d541-4856-4c51-a6f8-ea492be01477",
   "metadata": {},
   "outputs": [
    {
     "data": {
      "image/png": "[encoded data removed]",
      "text/plain": [
       "<Figure size 432x288 with 1 Axes>"
      ]
     },
     "metadata": {
      "needs_background": "light"
     },
     "output_type": "display_data"
    }
   ],
   "source": [
    "gene = 'Gria2'\n",
    "tissue = 'cortex'\n",
    "feat = 'ic'\n",
    "feat_ids = [1, 2]\n",
    "make_pi_line_plot(pi_df, gene, tissue, feat, feat_ids=feat_ids)"
   ]
  },
  {
   "cell_type": "code",
   "execution_count": 95,
   "id": "fcf9e294-3cd0-418b-ac77-d62e90b74019",
   "metadata": {},
   "outputs": [],
   "source": []
  },
  {
   "cell_type": "code",
   "execution_count": 97,
   "id": "724d1665-bcdb-444b-bd68-680a50dcd459",
   "metadata": {},
   "outputs": [],
   "source": []
  },
  {
   "cell_type": "code",
   "execution_count": 104,
   "id": "28cb251a-1414-41ab-9868-a6ad337ff029",
   "metadata": {},
   "outputs": [],
   "source": []
  },
  {
   "cell_type": "code",
   "execution_count": 106,
   "id": "560a76bd-00e4-4120-95b2-aadcee9dcaaa",
   "metadata": {},
   "outputs": [],
   "source": []
  },
  {
   "cell_type": "code",
   "execution_count": 107,
   "id": "92a25e0a-858e-42d5-9c6e-3329afe23cb2",
   "metadata": {},
   "outputs": [
    {
     "data": {
      "text/html": [
       "<div>\n",
       "<style scoped>\n",
       "    .dataframe tbody tr th:only-of-type {\n",
       "        vertical-align: middle;\n",
       "    }\n",
       "\n",
       "    .dataframe tbody tr th {\n",
       "        vertical-align: top;\n",
       "    }\n",
       "\n",
       "    .dataframe thead th {\n",
       "        text-align: right;\n",
       "    }\n",
       "</style>\n",
       "<table border=\"1\" class=\"dataframe\">\n",
       "  <thead>\n",
       "    <tr style=\"text-align: right;\">\n",
       "      <th></th>\n",
       "      <th>ic</th>\n",
       "      <th>pi</th>\n",
       "      <th>age</th>\n",
       "      <th>tissue</th>\n",
       "    </tr>\n",
       "  </thead>\n",
       "  <tbody>\n",
       "    <tr>\n",
       "      <th>cortex_14d_f_1</th>\n",
       "      <td>ENSMUSG00000033981_1</td>\n",
       "      <td>36.666668</td>\n",
       "      <td>14d</td>\n",
       "      <td>cortex</td>\n",
       "    </tr>\n",
       "    <tr>\n",
       "      <th>cortex_14d_f_1</th>\n",
       "      <td>ENSMUSG00000033981_2</td>\n",
       "      <td>43.333332</td>\n",
       "      <td>14d</td>\n",
       "      <td>cortex</td>\n",
       "    </tr>\n",
       "    <tr>\n",
       "      <th>cortex_14d_f_2</th>\n",
       "      <td>ENSMUSG00000033981_1</td>\n",
       "      <td>26.589596</td>\n",
       "      <td>14d</td>\n",
       "      <td>cortex</td>\n",
       "    </tr>\n",
       "    <tr>\n",
       "      <th>cortex_14d_f_2</th>\n",
       "      <td>ENSMUSG00000033981_2</td>\n",
       "      <td>49.710983</td>\n",
       "      <td>14d</td>\n",
       "      <td>cortex</td>\n",
       "    </tr>\n",
       "    <tr>\n",
       "      <th>cortex_14d_m_1</th>\n",
       "      <td>ENSMUSG00000033981_1</td>\n",
       "      <td>30.188679</td>\n",
       "      <td>14d</td>\n",
       "      <td>cortex</td>\n",
       "    </tr>\n",
       "    <tr>\n",
       "      <th>cortex_14d_m_1</th>\n",
       "      <td>ENSMUSG00000033981_2</td>\n",
       "      <td>49.528301</td>\n",
       "      <td>14d</td>\n",
       "      <td>cortex</td>\n",
       "    </tr>\n",
       "    <tr>\n",
       "      <th>cortex_14d_m_2</th>\n",
       "      <td>ENSMUSG00000033981_1</td>\n",
       "      <td>22.522522</td>\n",
       "      <td>14d</td>\n",
       "      <td>cortex</td>\n",
       "    </tr>\n",
       "    <tr>\n",
       "      <th>cortex_14d_m_2</th>\n",
       "      <td>ENSMUSG00000033981_2</td>\n",
       "      <td>59.009010</td>\n",
       "      <td>14d</td>\n",
       "      <td>cortex</td>\n",
       "    </tr>\n",
       "    <tr>\n",
       "      <th>cortex_18-20mo_f_1</th>\n",
       "      <td>ENSMUSG00000033981_1</td>\n",
       "      <td>35.766422</td>\n",
       "      <td>18-20mo</td>\n",
       "      <td>cortex</td>\n",
       "    </tr>\n",
       "    <tr>\n",
       "      <th>cortex_18-20mo_f_1</th>\n",
       "      <td>ENSMUSG00000033981_2</td>\n",
       "      <td>43.065693</td>\n",
       "      <td>18-20mo</td>\n",
       "      <td>cortex</td>\n",
       "    </tr>\n",
       "    <tr>\n",
       "      <th>cortex_18-20mo_f_2</th>\n",
       "      <td>ENSMUSG00000033981_1</td>\n",
       "      <td>36.477985</td>\n",
       "      <td>18-20mo</td>\n",
       "      <td>cortex</td>\n",
       "    </tr>\n",
       "    <tr>\n",
       "      <th>cortex_18-20mo_f_2</th>\n",
       "      <td>ENSMUSG00000033981_2</td>\n",
       "      <td>44.654091</td>\n",
       "      <td>18-20mo</td>\n",
       "      <td>cortex</td>\n",
       "    </tr>\n",
       "    <tr>\n",
       "      <th>cortex_18-20mo_m_1</th>\n",
       "      <td>ENSMUSG00000033981_1</td>\n",
       "      <td>34.099617</td>\n",
       "      <td>18-20mo</td>\n",
       "      <td>cortex</td>\n",
       "    </tr>\n",
       "    <tr>\n",
       "      <th>cortex_18-20mo_m_1</th>\n",
       "      <td>ENSMUSG00000033981_2</td>\n",
       "      <td>42.528736</td>\n",
       "      <td>18-20mo</td>\n",
       "      <td>cortex</td>\n",
       "    </tr>\n",
       "    <tr>\n",
       "      <th>cortex_18-20mo_m_2</th>\n",
       "      <td>ENSMUSG00000033981_1</td>\n",
       "      <td>35.690235</td>\n",
       "      <td>18-20mo</td>\n",
       "      <td>cortex</td>\n",
       "    </tr>\n",
       "    <tr>\n",
       "      <th>cortex_18-20mo_m_2</th>\n",
       "      <td>ENSMUSG00000033981_2</td>\n",
       "      <td>45.454548</td>\n",
       "      <td>18-20mo</td>\n",
       "      <td>cortex</td>\n",
       "    </tr>\n",
       "    <tr>\n",
       "      <th>cortex_2mo_f_1</th>\n",
       "      <td>ENSMUSG00000033981_1</td>\n",
       "      <td>37.906136</td>\n",
       "      <td>2mo</td>\n",
       "      <td>cortex</td>\n",
       "    </tr>\n",
       "    <tr>\n",
       "      <th>cortex_2mo_f_1</th>\n",
       "      <td>ENSMUSG00000033981_2</td>\n",
       "      <td>43.321301</td>\n",
       "      <td>2mo</td>\n",
       "      <td>cortex</td>\n",
       "    </tr>\n",
       "    <tr>\n",
       "      <th>cortex_2mo_f_2</th>\n",
       "      <td>ENSMUSG00000033981_1</td>\n",
       "      <td>38.162544</td>\n",
       "      <td>2mo</td>\n",
       "      <td>cortex</td>\n",
       "    </tr>\n",
       "    <tr>\n",
       "      <th>cortex_2mo_f_2</th>\n",
       "      <td>ENSMUSG00000033981_2</td>\n",
       "      <td>41.696114</td>\n",
       "      <td>2mo</td>\n",
       "      <td>cortex</td>\n",
       "    </tr>\n",
       "    <tr>\n",
       "      <th>cortex_2mo_m_1</th>\n",
       "      <td>ENSMUSG00000033981_1</td>\n",
       "      <td>37.438423</td>\n",
       "      <td>2mo</td>\n",
       "      <td>cortex</td>\n",
       "    </tr>\n",
       "    <tr>\n",
       "      <th>cortex_2mo_m_1</th>\n",
       "      <td>ENSMUSG00000033981_2</td>\n",
       "      <td>43.103447</td>\n",
       "      <td>2mo</td>\n",
       "      <td>cortex</td>\n",
       "    </tr>\n",
       "    <tr>\n",
       "      <th>cortex_2mo_m_2</th>\n",
       "      <td>ENSMUSG00000033981_1</td>\n",
       "      <td>26.315790</td>\n",
       "      <td>2mo</td>\n",
       "      <td>cortex</td>\n",
       "    </tr>\n",
       "    <tr>\n",
       "      <th>cortex_2mo_m_2</th>\n",
       "      <td>ENSMUSG00000033981_2</td>\n",
       "      <td>47.953217</td>\n",
       "      <td>2mo</td>\n",
       "      <td>cortex</td>\n",
       "    </tr>\n",
       "  </tbody>\n",
       "</table>\n",
       "</div>"
      ],
      "text/plain": [
       "                                      ic         pi      age  tissue\n",
       "cortex_14d_f_1      ENSMUSG00000033981_1  36.666668      14d  cortex\n",
       "cortex_14d_f_1      ENSMUSG00000033981_2  43.333332      14d  cortex\n",
       "cortex_14d_f_2      ENSMUSG00000033981_1  26.589596      14d  cortex\n",
       "cortex_14d_f_2      ENSMUSG00000033981_2  49.710983      14d  cortex\n",
       "cortex_14d_m_1      ENSMUSG00000033981_1  30.188679      14d  cortex\n",
       "cortex_14d_m_1      ENSMUSG00000033981_2  49.528301      14d  cortex\n",
       "cortex_14d_m_2      ENSMUSG00000033981_1  22.522522      14d  cortex\n",
       "cortex_14d_m_2      ENSMUSG00000033981_2  59.009010      14d  cortex\n",
       "cortex_18-20mo_f_1  ENSMUSG00000033981_1  35.766422  18-20mo  cortex\n",
       "cortex_18-20mo_f_1  ENSMUSG00000033981_2  43.065693  18-20mo  cortex\n",
       "cortex_18-20mo_f_2  ENSMUSG00000033981_1  36.477985  18-20mo  cortex\n",
       "cortex_18-20mo_f_2  ENSMUSG00000033981_2  44.654091  18-20mo  cortex\n",
       "cortex_18-20mo_m_1  ENSMUSG00000033981_1  34.099617  18-20mo  cortex\n",
       "cortex_18-20mo_m_1  ENSMUSG00000033981_2  42.528736  18-20mo  cortex\n",
       "cortex_18-20mo_m_2  ENSMUSG00000033981_1  35.690235  18-20mo  cortex\n",
       "cortex_18-20mo_m_2  ENSMUSG00000033981_2  45.454548  18-20mo  cortex\n",
       "cortex_2mo_f_1      ENSMUSG00000033981_1  37.906136      2mo  cortex\n",
       "cortex_2mo_f_1      ENSMUSG00000033981_2  43.321301      2mo  cortex\n",
       "cortex_2mo_f_2      ENSMUSG00000033981_1  38.162544      2mo  cortex\n",
       "cortex_2mo_f_2      ENSMUSG00000033981_2  41.696114      2mo  cortex\n",
       "cortex_2mo_m_1      ENSMUSG00000033981_1  37.438423      2mo  cortex\n",
       "cortex_2mo_m_1      ENSMUSG00000033981_2  43.103447      2mo  cortex\n",
       "cortex_2mo_m_2      ENSMUSG00000033981_1  26.315790      2mo  cortex\n",
       "cortex_2mo_m_2      ENSMUSG00000033981_2  47.953217      2mo  cortex"
      ]
     },
     "execution_count": 107,
     "metadata": {},
     "output_type": "execute_result"
    }
   ],
   "source": [
    "temp"
   ]
  },
  {
   "cell_type": "code",
   "execution_count": 109,
   "id": "8f8664ee-8745-472b-a158-fd62f26a2cdc",
   "metadata": {},
   "outputs": [
    {
     "data": {
      "text/plain": [
       "<AxesSubplot:xlabel='age', ylabel='pi'>"
      ]
     },
     "execution_count": 109,
     "metadata": {},
     "output_type": "execute_result"
    },
    {
     "data": {
      "image/png": "[encoded data removed]",
      "text/plain": [
       "<Figure size 432x288 with 1 Axes>"
      ]
     },
     "metadata": {
      "needs_background": "light"
     },
     "output_type": "display_data"
    }
   ],
   "source": []
  },
  {
   "cell_type": "code",
   "execution_count": null,
   "id": "0c106aee-7623-4d5b-b442-f4f5b039bfb3",
   "metadata": {},
   "outputs": [],
   "source": []
  },
  {
   "cell_type": "code",
   "execution_count": null,
   "id": "e47cafcd-1257-42f6-9617-5233e8393da9",
   "metadata": {},
   "outputs": [],
   "source": []
  },
  {
   "cell_type": "code",
   "execution_count": null,
   "id": "7468ad88-a95d-4d7e-ac68-42f76a4681af",
   "metadata": {},
   "outputs": [],
   "source": []
  },
  {
   "cell_type": "markdown",
   "id": "7f7eb4fc-9e62-495c-8f30-6681a31437ad",
   "metadata": {},
   "source": [
    "## swan"
   ]
  },
  {
   "cell_type": "code",
   "execution_count": 42,
   "id": "d7751e78-383a-4074-80e4-a5c9f2d50d06",
   "metadata": {},
   "outputs": [],
   "source": [
    "def get_flagship_timepoint_colors():\n",
    "    c_dict = {\n",
    "    '4d': '#fcfdff',\n",
    "    '10d': '#e8f0fa',\n",
    "    '14d': '#d3e3f2',\n",
    "    '25d': '#accfe6',\n",
    "    '36d': '#75b2dc',\n",
    "    '2mo': '#4693c8',\n",
    "    '18-20mo': '#164894'}\n",
    "    order = ['4d', '10d', '14d', '25d', '36d', '2mo', '18-20mo']\n",
    "    return c_dict, order\n",
    "\n",
    "def get_flagship_tissue_colors():\n",
    "    c_dict  = {\n",
    "    'adrenal': '#ff9458',\n",
    "    'cortex': '#ffe578',\n",
    "    'hippocampus': '#967add',\n",
    "    'gastroc': '#34b0d8',\n",
    "    'heart': '#ff9aaf'}\n",
    "    order = ['adrenal', 'cortex', 'hippocampus', 'gastroc', 'heart']\n",
    "    return c_dict, order"
   ]
  },
  {
   "cell_type": "code",
   "execution_count": 21,
   "id": "c283f9d6-806b-4fc8-bbf9-b6df07dc51f7",
   "metadata": {},
   "outputs": [
    {
     "name": "stdout",
     "output_type": "stream",
     "text": [
      "Read in graph from ../../proc_revisions/data/mouse/lr/swan/swan_graph.p\n"
     ]
    }
   ],
   "source": [
    "sg = swan.read(m_swan_file)"
   ]
  },
  {
   "cell_type": "code",
   "execution_count": 31,
   "id": "80b9d79c-d620-46c2-9933-41d741210321",
   "metadata": {},
   "outputs": [
    {
     "data": {
      "text/plain": [
       "View of AnnData object with n_obs × n_vars = 92 × 152164\n",
       "    obs: 'dataset', 'total_counts', 'ENCODE_experiment_id', 'sample', 'sample_display', 'general_tissue_cell_type', 'fig1_tissue_label', 'age', 'sex', 'genotype', 'tissue_or_cell_line', 'sample_color_hex_code', 'matching_human_samples', 'reads_post_talon', 'ENCODE_alignments_id', 'ENCODE_reads_id', 'ENCODE_unfiltered_alignments_id', 'document_urls', 'document_labels', 'platform', 'RIN', 'spikeins'\n",
       "    var: 'tid'\n",
       "    uns: 'sample_colors', 'sample_dict'\n",
       "    layers: 'counts', 'tpm', 'pi'"
      ]
     },
     "execution_count": 31,
     "metadata": {},
     "output_type": "execute_result"
    }
   ],
   "source": [
    "# limit to the timecourse\n",
    "inds = sg.adata.obs[sg.adata.obs.genotype=='b6/cast'].index\n",
    "sg.adata = sg.adata[inds, :]\n",
    "sg.adata"
   ]
  },
  {
   "cell_type": "code",
   "execution_count": 32,
   "id": "d22e7df4-c349-4412-81f9-149eff2cb04e",
   "metadata": {},
   "outputs": [
    {
     "name": "stderr",
     "output_type": "stream",
     "text": [
      "/Users/fairliereese/miniconda3/lib/python3.7/site-packages/swan_vis/swangraph.py:2436: ImplicitModificationWarning: Trying to modify attribute `.obs` of view, initializing view as actual.\n",
      "  self.adata.obs[obs_col] = self.adata.obs[obs_col].astype('category')\n"
     ]
    }
   ],
   "source": [
    "c_dict, order = get_flagship_timepoint_colors()\n",
    "sg.set_metadata_colors('age', c_dict)"
   ]
  },
  {
   "cell_type": "code",
   "execution_count": 40,
   "id": "daf341e4-c3b9-4dfe-9d0c-43f1a939c403",
   "metadata": {},
   "outputs": [],
   "source": [
    "sg.adata.obs['tissue'] = sg.adata.obs['sample'].str.split('_', expand=True)[0]"
   ]
  },
  {
   "cell_type": "code",
   "execution_count": 43,
   "id": "8b0e9eea-18fc-46f5-9cc3-17847a44ff68",
   "metadata": {},
   "outputs": [],
   "source": [
    "c_dict, order = get_flagship_tissue_colors()\n",
    "sg.set_metadata_colors('tissue', c_dict)"
   ]
  },
  {
   "cell_type": "code",
   "execution_count": null,
   "id": "c64fb0cf-a03c-4163-a89b-ff8ff4acf9d7",
   "metadata": {},
   "outputs": [],
   "source": [
    "g = 'Clu'\n",
    "sg.gen_report(g,\n",
    "              f'figures/{g}',\n",
    "              novelty=True,\n",
    "              cmap='viridis',\n",
    "              indicate_novel=True,\n",
    "              transcript_col='tname',\n",
    "              metadata_cols=['genotype', 'sex', 'tissue', 'age'],\n",
    "              datasets={'genotype': sg.adata.obs.genotype.unique().tolist()})\n",
    "sg.gen_report(g,\n",
    "              f'figures/{g}',\n",
    "              novelty=True,\n",
    "              cmap='magma',\n",
    "              transcript_col='tname',\n",
    "              display_numbers=True,\n",
    "              browser=True,\n",
    "              layer='pi',\n",
    "              metadata_cols=['genotype', 'sex', 'tissue', 'age'],\n",
    "              datasets={'genotype': sg.adata.obs.genotype.unique().tolist()})"
   ]
  },
  {
   "cell_type": "code",
   "execution_count": null,
   "id": "ccef9a6b-a853-4595-9852-fefc1092c412",
   "metadata": {},
   "outputs": [],
   "source": []
  },
  {
   "cell_type": "code",
   "execution_count": null,
   "id": "f4ceb979-9c86-4757-b89f-16f73a8f246f",
   "metadata": {},
   "outputs": [],
   "source": []
  },
  {
   "cell_type": "markdown",
   "id": "58503e0b-a090-4611-b510-334832ca3fb4",
   "metadata": {},
   "source": [
    "## older"
   ]
  },
  {
   "cell_type": "code",
   "execution_count": 38,
   "id": "8b6bd5fd-2275-4d43-9a0c-e9b92faff27d",
   "metadata": {},
   "outputs": [],
   "source": [
    "# sg = swan.read(m_swan_file)"
   ]
  },
  {
   "cell_type": "code",
   "execution_count": 35,
   "id": "24e6587c-d702-4cf4-bebc-d37a3ca4554c",
   "metadata": {},
   "outputs": [],
   "source": [
    "# def get_tc_mouse_samples(config):\n",
    "#     m_lib_meta = expand(config['lr']['meta'], species='mouse')[0]\n",
    "#     df = pd.read_csv(m_lib_meta, sep='\\t')\n",
    "#     tc_tissues = ['muscle', 'hippocampus', 'cortex', 'adrenal gland', 'heart']\n",
    "#     tc_times = ['18-20mo', '2mo', '4d', '25d', '14d', '36d', '10d']\n",
    "#     meta.head()\n",
    "#     s = meta.loc[(meta.general_tissue_cell_type.isin(tc_tissues))&\\\n",
    "#              (meta.age.isin(tc_times)), 'sample'].unique().tolist()\n",
    "#     return s\n",
    "\n",
    "# def get_du_tc_cfg_entries():\n",
    "#     \"\"\"\n",
    "#     Get the cfg entries for running du tests\n",
    "#     \"\"\"\n",
    "#     obs_col = 'sample'\n",
    "#     feats = ['tss', 'tes', 'ic', 'iso']\n",
    "#     combos = [c for c in itertools.combinations(s, 2) if c[0].split('_')[0]==c[1].split('_')[0]]\n",
    "#     obs_cond1 = [c[0] for c in combos]\n",
    "#     obs_cond2 = [c[1] for c in combos]\n",
    "#     files = expand(expand(config['lr']['analysis']['du'],\n",
    "#                   zip,\n",
    "#                   obs_cond1=obs_cond1,\n",
    "#                   obs_cond2=obs_cond2,\n",
    "#                   allow_missing=True),\n",
    "#                   obs_col='sample',\n",
    "#                   species='mouse',\n",
    "#                   feat=feats)\n",
    "#     return files"
   ]
  },
  {
   "cell_type": "code",
   "execution_count": 34,
   "id": "2f64730b-16b3-4241-9455-2b978919c32a",
   "metadata": {},
   "outputs": [],
   "source": [
    "# get_du_tc_cfg_entries()"
   ]
  },
  {
   "cell_type": "code",
   "execution_count": 36,
   "id": "0df28c91-1665-403d-a453-93ba2e2fc91f",
   "metadata": {},
   "outputs": [],
   "source": [
    "# def get_tc_mouse_samples():\n",
    "#     m_lib_meta = od+expand(config['lr']['meta'], species='mouse')[0]\n",
    "#     df = pd.read_csv(m_lib_meta, sep='\\t')\n",
    "#     tc_tissues = ['muscle', 'hippocampus', 'cortex', 'adrenal gland', 'heart']\n",
    "#     tc_times = ['18-20mo', '2mo', '4d', '25d', '14d', '36d', '10d']\n",
    "#     meta.head()\n",
    "#     s = meta.loc[(meta.general_tissue_cell_type.isin(tc_tissues))&\\\n",
    "#              (meta.age.isin(tc_times)), 'sample'].unique().tolist()\n",
    "#     return s\n",
    "\n",
    "# # meta = sg.adata.obs.copy(deep=True)\n",
    "# # meta.head()\n",
    "# # tc_tissues = ['muscle', 'hippocampus', 'cortex', 'adrenal gland', 'heart']\n",
    "# # tc_times = ['18-20mo', '2mo', '4d', '25d', '14d', '36d', '10d']\n",
    "# # meta.head()\n",
    "# # s = meta.loc[(meta.general_tissue_cell_type.isin(tc_tissues))&\\\n",
    "# #          (meta.age.isin(tc_times))]\n",
    "# s = get_tc_mouse_samples()\n",
    "# print(s)\n",
    "    "
   ]
  },
  {
   "cell_type": "code",
   "execution_count": 37,
   "id": "92fff93e-e967-4795-b357-52085d561b18",
   "metadata": {},
   "outputs": [],
   "source": [
    "# combos = [c for c in itertools.combinations(s, 2) if c[0].split('_')[0]==c[1].split('_')[0]]\n",
    "# combos\n",
    "# # obs_cond1 = [c[0] for c in combos]\n",
    "# # obs_cond2 = [c[1] for c in combos]"
   ]
  },
  {
   "cell_type": "code",
   "execution_count": null,
   "id": "944c3d38-37b6-4de3-95fb-78971cb4b02d",
   "metadata": {},
   "outputs": [],
   "source": []
  },
  {
   "cell_type": "code",
   "execution_count": null,
   "id": "e7456b75-7f37-42b8-b6e0-8be869672270",
   "metadata": {},
   "outputs": [],
   "source": [
    "tp_palette = c('PND_04' = '#fcfdff',\n",
    "                'PND_10' = '#e8f0fa',\n",
    "                'PND_14' = '#d3e3f2',\n",
    "                'PND_25' = '#accfe6',\n",
    "                'PND_36' = '#75b2dc',\n",
    "                'PNM_02' = '#4693c8',\n",
    "                'PNM_08-14' = '#246db2',\n",
    "                'PNM_18' = '#164894')"
   ]
  }
 ],
 "metadata": {
  "kernelspec": {
   "display_name": "Python 3",
   "language": "python",
   "name": "python3"
  },
  "language_info": {
   "codemirror_mode": {
    "name": "ipython",
    "version": 3
   },
   "file_extension": ".py",
   "mimetype": "text/x-python",
   "name": "python",
   "nbconvert_exporter": "python",
   "pygments_lexer": "ipython3",
   "version": "3.7.12"
  }
 },
 "nbformat": 4,
 "nbformat_minor": 5
}
