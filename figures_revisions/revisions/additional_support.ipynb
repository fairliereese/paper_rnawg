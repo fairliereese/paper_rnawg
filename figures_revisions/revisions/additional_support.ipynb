{
 "cells": [
  {
   "cell_type": "code",
   "execution_count": 1,
   "id": "8f1e18c5-41cd-4f5f-ad7f-8bbf4e8a59aa",
   "metadata": {},
   "outputs": [],
   "source": [
    "import pandas as pd\n",
    "import numpy as np\n",
    "import scipy.stats as st\n",
    "import seaborn as sns\n",
    "import sys\n",
    "import os\n",
    "import gseapy as gp\n",
    "import matplotlib.pyplot as plt\n",
    "import swan_vis as swan\n",
    "import yaml\n",
    "from snakemake.io import expand\n",
    "import matplotlib as mpl\n",
    "\n",
    "p = os.path.dirname(os.path.dirname(os.getcwd()))\n",
    "sys.path.append(p)\n",
    "\n",
    "from proc_revisions.utils import *\n",
    "from proc_revisions.plotting import *"
   ]
  },
  {
   "cell_type": "code",
   "execution_count": 2,
   "id": "877870bd-c54b-455d-8120-fa89daf3c274",
   "metadata": {},
   "outputs": [],
   "source": [
    "od = '../../proc_revisions/'\n",
    "config_file = f'{od}/config.yml'\n",
    "with open(config_file) as f:\n",
    "    config = yaml.safe_load(f)"
   ]
  },
  {
   "cell_type": "code",
   "execution_count": 3,
   "id": "4d0e7748-3c2b-4cef-843e-158e338d41dd",
   "metadata": {},
   "outputs": [],
   "source": [
    "filt_ab = od+expand(config['lr']['cerberus']['ab'], species='human')[0]\n",
    "lib_meta = od+expand(config['lr']['meta'], species='human')[0]\n",
    "cerberus_h5 = od+expand(config['lr']['cerberus']['ca_triplets'], species='human', obs_col='sample')[0]\n",
    "swan_file = od+expand(config['lr']['swan']['sg'], species='human')[0]\n",
    "\n",
    "gene_subset = 'polya'\n",
    "\n",
    "# biosamp_name_map = '../'+expand(config['ref']['biosamp_map'])[0]\n",
    "\n",
    "# cage_meta = '../'+expand(config['cage']['meta'], species='human')[0]\n",
    "# rampage_meta = '../'+expand(config['rampage']['meta'], species='human')[0]\n",
    "\n",
    "min_tpm = 1\n",
    "gene_subset = 'polya'"
   ]
  },
  {
   "cell_type": "code",
   "execution_count": 4,
   "id": "d517a23b-5c9c-48d3-8c0a-efb916d850e1",
   "metadata": {},
   "outputs": [],
   "source": [
    "# def get_feat_support(filt_ab,\n",
    "#                      h5, \n",
    "#                      feat, \n",
    "#                      ref_sources,\n",
    "#                      support_sources,\n",
    "#                      **kwargs):\n",
    "    \n",
    "#     # get detected features\n",
    "#     df = pd.read_csv(filt_ab, sep='\\t')\n",
    "#     df, ids = get_tpm_table(df, **kwargs)\n",
    "\n",
    "#     # get these features from cerberus\n",
    "#     ca = cerberus.read(h5)\n",
    "#     if feat == 'tss':\n",
    "#         ca_df = ca.tss\n",
    "#     elif feat == 'tes':\n",
    "#         ca_df = ca.tes\n",
    "#     elif feat == 'ic':\n",
    "#         ca_df = ca.ic\n",
    "#     print(len(ca_df.index))\n",
    "#     df = ca_df.loc[ca_df.Name.isin(ids)]\n",
    "#     print(len(df.index))\n",
    "\n",
    "\n",
    "#     # get T/F detection of each feat by each source\n",
    "#     df = upsetplot.from_memberships(df.source.str.split(','), data=df)\n",
    "#     df.reset_index(inplace=True)\n",
    "\n",
    "#     # which sources are observed, which are supported, and which are known\n",
    "#     sources = ca.get_sources(df)\n",
    "\n",
    "#     df['support'] = 'Novel'\n",
    "#     if support_sources:\n",
    "#         df.loc[df[support_sources].any(axis=1), 'support'] = 'Supported'\n",
    "#     df.loc[df[ref_sources].any(axis=1), 'support'] = 'Known'\n",
    "#     df = df[['Name', 'support']]\n",
    "    \n",
    "#     return df\n",
    "    \n",
    "# def plot_end_support_by_ic_novelty(filt_ab, \n",
    "#                                    h5,\n",
    "#                                    feat,\n",
    "#                                    ref_sources,\n",
    "#                                    support_sources,\n",
    "#                                    min_tpm,\n",
    "#                                    gene_subset,\n",
    "#                                    ofile,\n",
    "#                                    **kwargs):\n",
    "#     end_df = get_feat_support(filt_ab,\n",
    "#                               h5, \n",
    "#                               feat, \n",
    "#                               ref_sources,\n",
    "#                               support_sources,\n",
    "#                               min_tpm=min_tpm,\n",
    "#                               gene_subset=gene_subset,\n",
    "#                               how=feat)\n",
    "    \n",
    "#     # get df of transcripts that pass filtering too\n",
    "#     ab_df = pd.read_csv(filt_ab, sep='\\t')\n",
    "#     ca = cerberus.read(h5)\n",
    "#     t_df, ids = get_tpm_table(ab_df,\n",
    "#                             gene_subset=gene_subset,\n",
    "#                             min_tpm=1,\n",
    "#                             how='iso',\n",
    "#                             **kwargs)\n",
    "#     t_df = add_feat(t_df, kind=feat, col='index')\n",
    "#     t_df = add_feat(t_df, kind='ic', col='index')\n",
    "#     t_df = t_df.merge(ca.ic[['Name', 'novelty']], how='left', left_on='ic', right_on='Name')\n",
    "    \n",
    "#     # merge on support info\n",
    "#     t_df = t_df.merge(end_df, how='left', left_on=feat, right_on='Name')    \n",
    "    \n",
    "    \n",
    "#     temp = t_df[['novelty', 'support']]\n",
    "#     temp.reset_index(inplace=True)\n",
    "#     temp = temp.groupby(['novelty', 'support']).count().reset_index().rename({'index':'n_transcripts'}, axis=1)\n",
    "    \n",
    "#     # remove known things\n",
    "#     temp = temp.loc[temp.support.isin(['Novel', 'Supported'])]\n",
    "    \n",
    "#     temp2 = temp[['novelty', 'n_transcripts']].groupby('novelty').sum().reset_index()\n",
    "    \n",
    "#     temp2.rename({'n_transcripts':'n_total_transcripts'}, axis=1, inplace=True)\n",
    "#     temp = temp.merge(temp2, how='left', on='novelty')\n",
    "#     temp['perc'] = (temp['n_transcripts']/temp['n_total_transcripts'])*100\n",
    "\n",
    "\n",
    "#     # sns.barplot(data=temp, x='novelty', y='n_transcripts', hue='support')\n",
    "#     sns.barplot(data=temp, x='novelty', y='perc', hue='support')\n",
    "    \n",
    "#     plt.savefig(ofile, dpi=500)\n",
    "    \n"
   ]
  },
  {
   "cell_type": "markdown",
   "id": "fef64dd4-4f63-422f-b60a-3b10ad01c42b",
   "metadata": {},
   "source": [
    "## What does TSS support look like compared to PI / TPM value (on the tss level)\n",
    "## split by novelty"
   ]
  },
  {
   "cell_type": "code",
   "execution_count": 5,
   "id": "f4a63a91-4f42-434a-ac3c-4a26170cb011",
   "metadata": {},
   "outputs": [],
   "source": [
    "# ca = cerberus.read(cerberus_h5)\n",
    "# ca.tss_sources"
   ]
  },
  {
   "cell_type": "code",
   "execution_count": 6,
   "id": "f123e881-d2cd-45a2-8bae-2d367b7a52d2",
   "metadata": {},
   "outputs": [],
   "source": [
    "# this is the default that was used in the paper\n",
    "feats = ['tss', 'ic', 'tes']\n",
    "ref_sources = [['v29', 'v40'],\n",
    "               ['v29', 'v40'],\n",
    "               ['v29', 'v40']]\n",
    "support_sources = [['encode_cage', 'fantom_cage', 'encode_rampage', 'gtex'],\n",
    "                   ['gtex'],\n",
    "                   ['pas', 'polya_atlas', 'gtex']]\n",
    "feat = 'tss'\n",
    "ref_sources = ref_source = ['v29', 'v40']\n",
    "support_sources = support_source = ['encode_cage', 'fantom_cage', 'encode_rampage', 'gtex']"
   ]
  },
  {
   "cell_type": "code",
   "execution_count": 7,
   "id": "d15848e5-d01a-469e-a7f9-0432e10b1698",
   "metadata": {},
   "outputs": [
    {
     "name": "stdout",
     "output_type": "stream",
     "text": [
      "Calculating tss TPM values\n",
      "Subsetting for polya genes\n"
     ]
    },
    {
     "name": "stderr",
     "output_type": "stream",
     "text": [
      "/Users/fairliereese/Documents/programming/mortazavi_lab/data/paper_rnawg/proc_revisions/utils.py:2053: PerformanceWarning: DataFrame is highly fragmented.  This is usually the result of calling `frame.insert` many times, which has poor performance.  Consider joining all columns at once using pd.concat(axis=1) instead.  To get a de-fragmented frame, use `newframe = frame.copy()`\n",
      "  df[tpm_col] = (df[d]*1000000)/df[total_col]\n",
      "/Users/fairliereese/Documents/programming/mortazavi_lab/data/paper_rnawg/proc_revisions/utils.py:2052: PerformanceWarning: DataFrame is highly fragmented.  This is usually the result of calling `frame.insert` many times, which has poor performance.  Consider joining all columns at once using pd.concat(axis=1) instead.  To get a de-fragmented frame, use `newframe = frame.copy()`\n",
      "  df[total_col] = df[d].sum()\n"
     ]
    },
    {
     "name": "stdout",
     "output_type": "stream",
     "text": [
      "Enforcing minimum TPM\n",
      "Total # tsss detected: 78644\n",
      "# tsss >= 1 tpm: 69194\n",
      "Applying gene type and novelty subset\n",
      "Number of tsss reported: 65989\n",
      "156214\n",
      "65989\n",
      "     support  counts\n",
      "0      Known   52329\n",
      "1      Novel    8963\n",
      "2  Supported    4697\n",
      "   support_2  counts\n",
      "0      Novel   28490\n",
      "1  Supported   37499\n",
      "20.70% (13660/65989) of tsss are novel\n",
      "34.39% (4697/13660) of novel tsss are supported\n",
      "13.58% (8963/65989) of tsss are novel and not supported by orthogonal data\n",
      "56.83% (37499/65989) of tsss are supported by orthogonal data, regardless of novelty\n"
     ]
    },
    {
     "name": "stderr",
     "output_type": "stream",
     "text": [
      "/Users/fairliereese/Documents/programming/mortazavi_lab/data/paper_rnawg/proc_revisions/plotting.py:1059: UserWarning: FixedFormatter should only be used together with FixedLocator\n",
      "  ax.set_xticklabels(labels)\n"
     ]
    },
    {
     "name": "stdout",
     "output_type": "stream",
     "text": [
      "\n"
     ]
    },
    {
     "data": {
      "image/png": "[encoded data removed]",
      "text/plain": [
       "<Figure size 216x216 with 1 Axes>"
      ]
     },
     "metadata": {
      "needs_background": "light"
     },
     "output_type": "display_data"
    }
   ],
   "source": [
    "feat = 'tss'\n",
    "ref_sources = ref_source = ['v29', 'v40']\n",
    "support_sources = support_source = ['encode_cage', 'fantom_cage', 'encode_rampage', 'gtex']\n",
    "\n",
    "plt.figure(figsize=(3,3))\n",
    "sns.set_context('paper', font_scale=2)\n",
    "mpl.rcParams['font.family'] = 'Arial'\n",
    "mpl.rcParams['pdf.fonttype'] = 42\n",
    "\n",
    "ax = plt.gca()\n",
    "\n",
    "plot_supported_feats_2(filt_ab=filt_ab,\n",
    "                     h5=cerberus_h5,\n",
    "                     feat=feat,\n",
    "                     ref_sources=ref_source,\n",
    "                     support_sources=support_source,\n",
    "                     how=feat,\n",
    "                     opref='figures/human',\n",
    "                     gene_subset=gene_subset,\n",
    "                     min_tpm=1,\n",
    "                     ax=ax)\n",
    "\n",
    "plt.subplots_adjust(wspace=0.35)"
   ]
  },
  {
   "cell_type": "code",
   "execution_count": 8,
   "id": "2d78b5f8-e542-414c-a284-62321e06343a",
   "metadata": {},
   "outputs": [
    {
     "name": "stdout",
     "output_type": "stream",
     "text": [
      "Calculating tss TPM values\n",
      "Subsetting for polya genes\n"
     ]
    },
    {
     "name": "stderr",
     "output_type": "stream",
     "text": [
      "/Users/fairliereese/Documents/programming/mortazavi_lab/data/paper_rnawg/proc_revisions/utils.py:2053: PerformanceWarning: DataFrame is highly fragmented.  This is usually the result of calling `frame.insert` many times, which has poor performance.  Consider joining all columns at once using pd.concat(axis=1) instead.  To get a de-fragmented frame, use `newframe = frame.copy()`\n",
      "  df[tpm_col] = (df[d]*1000000)/df[total_col]\n",
      "/Users/fairliereese/Documents/programming/mortazavi_lab/data/paper_rnawg/proc_revisions/utils.py:2052: PerformanceWarning: DataFrame is highly fragmented.  This is usually the result of calling `frame.insert` many times, which has poor performance.  Consider joining all columns at once using pd.concat(axis=1) instead.  To get a de-fragmented frame, use `newframe = frame.copy()`\n",
      "  df[total_col] = df[d].sum()\n"
     ]
    },
    {
     "name": "stdout",
     "output_type": "stream",
     "text": [
      "Enforcing minimum TPM\n",
      "Total # tsss detected: 78644\n",
      "# tsss >= 1 tpm: 69194\n",
      "Applying gene type and novelty subset\n",
      "Number of tsss reported: 65989\n",
      "156214\n",
      "65989\n",
      "     support  counts\n",
      "0      Known   52329\n",
      "1      Novel    8678\n",
      "2  Supported    4982\n",
      "   support_2  counts\n",
      "0      Novel   24349\n",
      "1  Supported   41640\n",
      "20.70% (13660/65989) of tsss are novel\n",
      "36.47% (4982/13660) of novel tsss are supported\n",
      "13.15% (8678/65989) of tsss are novel and not supported by orthogonal data\n",
      "63.10% (41640/65989) of tsss are supported by orthogonal data, regardless of novelty\n"
     ]
    },
    {
     "name": "stderr",
     "output_type": "stream",
     "text": [
      "/Users/fairliereese/Documents/programming/mortazavi_lab/data/paper_rnawg/proc_revisions/plotting.py:1059: UserWarning: FixedFormatter should only be used together with FixedLocator\n",
      "  ax.set_xticklabels(labels)\n"
     ]
    },
    {
     "name": "stdout",
     "output_type": "stream",
     "text": [
      "\n"
     ]
    },
    {
     "data": {
      "image/png": "[encoded data removed]",
      "text/plain": [
       "<Figure size 216x216 with 1 Axes>"
      ]
     },
     "metadata": {
      "needs_background": "light"
     },
     "output_type": "display_data"
    }
   ],
   "source": [
    "# add in pls\n",
    "feat = 'tss'\n",
    "ref_sources = ref_source = ['v29', 'v40']\n",
    "support_sources = support_source = ['encode_cage', 'fantom_cage', 'encode_rampage', 'gtex', 'pls']\n",
    "\n",
    "plt.figure(figsize=(3,3))\n",
    "sns.set_context('paper', font_scale=2)\n",
    "mpl.rcParams['font.family'] = 'Arial'\n",
    "mpl.rcParams['pdf.fonttype'] = 42\n",
    "\n",
    "ax = plt.gca()\n",
    "\n",
    "plot_supported_feats_2(filt_ab=filt_ab,\n",
    "                     h5=cerberus_h5,\n",
    "                     feat=feat,\n",
    "                     ref_sources=ref_source,\n",
    "                     support_sources=support_source,\n",
    "                     how=feat,\n",
    "                     opref='figures/human',\n",
    "                     gene_subset=gene_subset,\n",
    "                     min_tpm=1,\n",
    "                     ax=ax)\n",
    "\n",
    "plt.subplots_adjust(wspace=0.35)"
   ]
  },
  {
   "cell_type": "code",
   "execution_count": 9,
   "id": "c4677b8e-e4b8-487d-8f2d-256f15f49484",
   "metadata": {},
   "outputs": [
    {
     "name": "stdout",
     "output_type": "stream",
     "text": [
      "Calculating tss TPM values\n",
      "Subsetting for polya genes\n"
     ]
    },
    {
     "name": "stderr",
     "output_type": "stream",
     "text": [
      "/Users/fairliereese/Documents/programming/mortazavi_lab/data/paper_rnawg/proc_revisions/utils.py:2053: PerformanceWarning: DataFrame is highly fragmented.  This is usually the result of calling `frame.insert` many times, which has poor performance.  Consider joining all columns at once using pd.concat(axis=1) instead.  To get a de-fragmented frame, use `newframe = frame.copy()`\n",
      "  df[tpm_col] = (df[d]*1000000)/df[total_col]\n",
      "/Users/fairliereese/Documents/programming/mortazavi_lab/data/paper_rnawg/proc_revisions/utils.py:2052: PerformanceWarning: DataFrame is highly fragmented.  This is usually the result of calling `frame.insert` many times, which has poor performance.  Consider joining all columns at once using pd.concat(axis=1) instead.  To get a de-fragmented frame, use `newframe = frame.copy()`\n",
      "  df[total_col] = df[d].sum()\n"
     ]
    },
    {
     "name": "stdout",
     "output_type": "stream",
     "text": [
      "Enforcing minimum TPM\n",
      "Total # tsss detected: 78644\n",
      "# tsss >= 1 tpm: 69194\n",
      "Applying gene type and novelty subset\n",
      "Number of tsss reported: 65989\n",
      "156214\n",
      "65989\n",
      "     support  counts\n",
      "0      Known   52329\n",
      "1      Novel    6337\n",
      "2  Supported    7323\n",
      "   support_2  counts\n",
      "0      Novel   19015\n",
      "1  Supported   46974\n",
      "20.70% (13660/65989) of tsss are novel\n",
      "53.61% (7323/13660) of novel tsss are supported\n",
      "9.60% (6337/65989) of tsss are novel and not supported by orthogonal data\n",
      "71.18% (46974/65989) of tsss are supported by orthogonal data, regardless of novelty\n"
     ]
    },
    {
     "name": "stderr",
     "output_type": "stream",
     "text": [
      "/Users/fairliereese/Documents/programming/mortazavi_lab/data/paper_rnawg/proc_revisions/plotting.py:1059: UserWarning: FixedFormatter should only be used together with FixedLocator\n",
      "  ax.set_xticklabels(labels)\n"
     ]
    },
    {
     "name": "stdout",
     "output_type": "stream",
     "text": [
      "\n"
     ]
    },
    {
     "data": {
      "image/png": "[encoded data removed]",
      "text/plain": [
       "<Figure size 216x216 with 1 Axes>"
      ]
     },
     "metadata": {
      "needs_background": "light"
     },
     "output_type": "display_data"
    }
   ],
   "source": [
    "# add in pls + other cage / rampage / procap\n",
    "\n",
    "['encode_procap',\n",
    " 'v40',\n",
    " 'encode_cage',\n",
    " 'pls',\n",
    " 'lrgasp_cage',\n",
    " 'pol2',\n",
    " 'dels',\n",
    " 'ca_h3k4me3',\n",
    " 'gtex',\n",
    " 'encode_rampage',\n",
    " 'pels',\n",
    " 'lapa',\n",
    " 'fantom_cage',\n",
    " 'v29']\n",
    "\n",
    "feat = 'tss'\n",
    "ref_sources = ref_source = ['v29', 'v40']\n",
    "support_sources = support_source = ['encode_cage', 'fantom_cage', 'encode_rampage', 'gtex', 'pls',\n",
    "                                    'encode_procap', 'lrgasp_cage']\n",
    "\n",
    "plt.figure(figsize=(3,3))\n",
    "sns.set_context('paper', font_scale=2)\n",
    "mpl.rcParams['font.family'] = 'Arial'\n",
    "mpl.rcParams['pdf.fonttype'] = 42\n",
    "\n",
    "ax = plt.gca()\n",
    "\n",
    "plot_supported_feats_2(filt_ab=filt_ab,\n",
    "                     h5=cerberus_h5,\n",
    "                     feat=feat,\n",
    "                     ref_sources=ref_source,\n",
    "                     support_sources=support_source,\n",
    "                     how=feat,\n",
    "                     opref='figures/human',\n",
    "                     gene_subset=gene_subset,\n",
    "                     min_tpm=1,\n",
    "                     ax=ax)\n",
    "\n",
    "plt.subplots_adjust(wspace=0.35)"
   ]
  },
  {
   "cell_type": "code",
   "execution_count": 10,
   "id": "20397d3d-bec6-460b-aefa-075a8266b0b6",
   "metadata": {},
   "outputs": [
    {
     "name": "stdout",
     "output_type": "stream",
     "text": [
      "Calculating tss TPM values\n",
      "Subsetting for polya genes\n"
     ]
    },
    {
     "name": "stderr",
     "output_type": "stream",
     "text": [
      "/Users/fairliereese/Documents/programming/mortazavi_lab/data/paper_rnawg/proc_revisions/utils.py:2053: PerformanceWarning: DataFrame is highly fragmented.  This is usually the result of calling `frame.insert` many times, which has poor performance.  Consider joining all columns at once using pd.concat(axis=1) instead.  To get a de-fragmented frame, use `newframe = frame.copy()`\n",
      "  df[tpm_col] = (df[d]*1000000)/df[total_col]\n",
      "/Users/fairliereese/Documents/programming/mortazavi_lab/data/paper_rnawg/proc_revisions/utils.py:2052: PerformanceWarning: DataFrame is highly fragmented.  This is usually the result of calling `frame.insert` many times, which has poor performance.  Consider joining all columns at once using pd.concat(axis=1) instead.  To get a de-fragmented frame, use `newframe = frame.copy()`\n",
      "  df[total_col] = df[d].sum()\n"
     ]
    },
    {
     "name": "stdout",
     "output_type": "stream",
     "text": [
      "Enforcing minimum TPM\n",
      "Total # tsss detected: 78644\n",
      "# tsss >= 1 tpm: 69194\n",
      "Applying gene type and novelty subset\n",
      "Number of tsss reported: 65989\n",
      "156214\n",
      "65989\n",
      "     support  counts\n",
      "0      Known   52329\n",
      "1      Novel    5088\n",
      "2  Supported    8572\n",
      "   support_2  counts\n",
      "0      Novel   15731\n",
      "1  Supported   50258\n",
      "20.70% (13660/65989) of tsss are novel\n",
      "62.75% (8572/13660) of novel tsss are supported\n",
      "7.71% (5088/65989) of tsss are novel and not supported by orthogonal data\n",
      "76.16% (50258/65989) of tsss are supported by orthogonal data, regardless of novelty\n"
     ]
    },
    {
     "name": "stderr",
     "output_type": "stream",
     "text": [
      "/Users/fairliereese/Documents/programming/mortazavi_lab/data/paper_rnawg/proc_revisions/plotting.py:1059: UserWarning: FixedFormatter should only be used together with FixedLocator\n",
      "  ax.set_xticklabels(labels)\n"
     ]
    },
    {
     "name": "stdout",
     "output_type": "stream",
     "text": [
      "\n"
     ]
    },
    {
     "data": {
      "image/png": "[encoded data removed]",
      "text/plain": [
       "<Figure size 216x216 with 1 Axes>"
      ]
     },
     "metadata": {
      "needs_background": "light"
     },
     "output_type": "display_data"
    }
   ],
   "source": [
    "# add in pol2 chip + pls + other cage / rampage / procap\n",
    "\n",
    "['encode_procap',\n",
    " 'v40',\n",
    " 'encode_cage',\n",
    " 'pls',\n",
    " 'lrgasp_cage',\n",
    " 'pol2',\n",
    " 'dels',\n",
    " 'ca_h3k4me3',\n",
    " 'gtex',\n",
    " 'encode_rampage',\n",
    " 'pels',\n",
    " 'lapa',\n",
    " 'fantom_cage',\n",
    " 'v29']\n",
    "\n",
    "feat = 'tss'\n",
    "ref_sources = ref_source = ['v29', 'v40']\n",
    "support_sources = support_source = ['encode_cage', 'fantom_cage', 'encode_rampage', 'gtex', 'pls',\n",
    "                                    'encode_procap', 'lrgasp_cage', 'pol2']\n",
    "\n",
    "plt.figure(figsize=(3,3))\n",
    "sns.set_context('paper', font_scale=2)\n",
    "mpl.rcParams['font.family'] = 'Arial'\n",
    "mpl.rcParams['pdf.fonttype'] = 42\n",
    "\n",
    "ax = plt.gca()\n",
    "\n",
    "plot_supported_feats_2(filt_ab=filt_ab,\n",
    "                     h5=cerberus_h5,\n",
    "                     feat=feat,\n",
    "                     ref_sources=ref_source,\n",
    "                     support_sources=support_source,\n",
    "                     how=feat,\n",
    "                     opref='figures/human',\n",
    "                     gene_subset=gene_subset,\n",
    "                     min_tpm=1,\n",
    "                     ax=ax)\n",
    "\n",
    "plt.subplots_adjust(wspace=0.35)"
   ]
  },
  {
   "cell_type": "code",
   "execution_count": 11,
   "id": "4020a5a9-4bf2-4a06-a45b-e855196d4a6c",
   "metadata": {},
   "outputs": [
    {
     "name": "stdout",
     "output_type": "stream",
     "text": [
      "Calculating tss TPM values\n",
      "Subsetting for polya genes\n"
     ]
    },
    {
     "name": "stderr",
     "output_type": "stream",
     "text": [
      "/Users/fairliereese/Documents/programming/mortazavi_lab/data/paper_rnawg/proc_revisions/utils.py:2053: PerformanceWarning: DataFrame is highly fragmented.  This is usually the result of calling `frame.insert` many times, which has poor performance.  Consider joining all columns at once using pd.concat(axis=1) instead.  To get a de-fragmented frame, use `newframe = frame.copy()`\n",
      "  df[tpm_col] = (df[d]*1000000)/df[total_col]\n",
      "/Users/fairliereese/Documents/programming/mortazavi_lab/data/paper_rnawg/proc_revisions/utils.py:2052: PerformanceWarning: DataFrame is highly fragmented.  This is usually the result of calling `frame.insert` many times, which has poor performance.  Consider joining all columns at once using pd.concat(axis=1) instead.  To get a de-fragmented frame, use `newframe = frame.copy()`\n",
      "  df[total_col] = df[d].sum()\n"
     ]
    },
    {
     "name": "stdout",
     "output_type": "stream",
     "text": [
      "Enforcing minimum TPM\n",
      "Total # tsss detected: 78644\n",
      "# tsss >= 1 tpm: 69194\n",
      "Applying gene type and novelty subset\n",
      "Number of tsss reported: 65989\n",
      "156214\n",
      "65989\n",
      "     support  counts\n",
      "0      Known   52329\n",
      "1      Novel    4960\n",
      "2  Supported    8700\n",
      "   support_2  counts\n",
      "0      Novel   15480\n",
      "1  Supported   50509\n",
      "20.70% (13660/65989) of tsss are novel\n",
      "63.69% (8700/13660) of novel tsss are supported\n",
      "7.52% (4960/65989) of tsss are novel and not supported by orthogonal data\n",
      "76.54% (50509/65989) of tsss are supported by orthogonal data, regardless of novelty\n"
     ]
    },
    {
     "name": "stderr",
     "output_type": "stream",
     "text": [
      "/Users/fairliereese/Documents/programming/mortazavi_lab/data/paper_rnawg/proc_revisions/plotting.py:1059: UserWarning: FixedFormatter should only be used together with FixedLocator\n",
      "  ax.set_xticklabels(labels)\n"
     ]
    },
    {
     "name": "stdout",
     "output_type": "stream",
     "text": [
      "\n"
     ]
    },
    {
     "data": {
      "image/png": "[encoded data removed]",
      "text/plain": [
       "<Figure size 216x216 with 1 Axes>"
      ]
     },
     "metadata": {
      "needs_background": "light"
     },
     "output_type": "display_data"
    }
   ],
   "source": [
    "# add in h3k4me3 ccres + pol2 chip + pls + other cage / rampage / procap\n",
    "\n",
    "['encode_procap',\n",
    " 'v40',\n",
    " 'encode_cage',\n",
    " 'pls',\n",
    " 'lrgasp_cage',\n",
    " 'pol2',\n",
    " 'dels',\n",
    " 'ca_h3k4me3',\n",
    " 'gtex',\n",
    " 'encode_rampage',\n",
    " 'pels',\n",
    " 'lapa',\n",
    " 'fantom_cage',\n",
    " 'v29']\n",
    "\n",
    "feat = 'tss'\n",
    "ref_sources = ref_source = ['v29', 'v40']\n",
    "support_sources = support_source = ['encode_cage', 'fantom_cage', 'encode_rampage', 'gtex', 'pls',\n",
    "                                    'encode_procap', 'lrgasp_cage', 'pol2', 'ca_h3k4me3']\n",
    "\n",
    "plt.figure(figsize=(3,3))\n",
    "sns.set_context('paper', font_scale=2)\n",
    "mpl.rcParams['font.family'] = 'Arial'\n",
    "mpl.rcParams['pdf.fonttype'] = 42\n",
    "\n",
    "ax = plt.gca()\n",
    "\n",
    "plot_supported_feats_2(filt_ab=filt_ab,\n",
    "                     h5=cerberus_h5,\n",
    "                     feat=feat,\n",
    "                     ref_sources=ref_source,\n",
    "                     support_sources=support_source,\n",
    "                     how=feat,\n",
    "                     opref='figures/human',\n",
    "                     gene_subset=gene_subset,\n",
    "                     min_tpm=1,\n",
    "                     ax=ax)\n",
    "\n",
    "plt.subplots_adjust(wspace=0.35)"
   ]
  },
  {
   "cell_type": "markdown",
   "id": "1220066e-0008-4c9e-9ccb-3360dcdfe163",
   "metadata": {},
   "source": [
    "## What does the support look like at either end for different IC novelties? \n",
    "## -- double check whether this is plotting all vs just novel\n",
    "## -- it's just novel"
   ]
  },
  {
   "cell_type": "code",
   "execution_count": 4,
   "id": "ea9b365f-dcb5-44fd-90fa-45967bfc9990",
   "metadata": {},
   "outputs": [
    {
     "name": "stdout",
     "output_type": "stream",
     "text": [
      "Calculating tss TPM values\n",
      "Subsetting for polya genes\n"
     ]
    },
    {
     "name": "stderr",
     "output_type": "stream",
     "text": [
      "/Users/fairliereese/Documents/programming/mortazavi_lab/data/paper_rnawg/proc_revisions/utils.py:2053: PerformanceWarning: DataFrame is highly fragmented.  This is usually the result of calling `frame.insert` many times, which has poor performance.  Consider joining all columns at once using pd.concat(axis=1) instead.  To get a de-fragmented frame, use `newframe = frame.copy()`\n",
      "  df[tpm_col] = (df[d]*1000000)/df[total_col]\n",
      "/Users/fairliereese/Documents/programming/mortazavi_lab/data/paper_rnawg/proc_revisions/utils.py:2052: PerformanceWarning: DataFrame is highly fragmented.  This is usually the result of calling `frame.insert` many times, which has poor performance.  Consider joining all columns at once using pd.concat(axis=1) instead.  To get a de-fragmented frame, use `newframe = frame.copy()`\n",
      "  df[total_col] = df[d].sum()\n"
     ]
    },
    {
     "name": "stdout",
     "output_type": "stream",
     "text": [
      "Enforcing minimum TPM\n",
      "Total # tsss detected: 78644\n",
      "# tsss >= 1 tpm: 69194\n",
      "Applying gene type and novelty subset\n",
      "Number of tsss reported: 65989\n",
      "156214\n",
      "65989\n",
      "Calculating iso TPM values\n",
      "Subsetting for polya genes\n",
      "Enforcing minimum TPM\n",
      "Total # isos detected: 246059\n",
      "# isos >= 1 tpm: 220849\n",
      "Applying gene type and novelty subset\n",
      "Number of isos reported: 217231\n",
      "     novelty    support  n_transcripts  n_total_transcripts       perc\n",
      "0        ISM      Novel           4047                10070  40.188679\n",
      "1        ISM  Supported           6023                10070  59.811321\n",
      "2      Known      Novel           1238                 6707  18.458327\n",
      "3      Known  Supported           5469                 6707  81.541673\n",
      "4        NIC      Novel            274                 1780  15.393258\n",
      "5        NIC  Supported           1506                 1780  84.606742\n",
      "6        NNC      Novel            736                 3733  19.716046\n",
      "7        NNC  Supported           2997                 3733  80.283954\n",
      "8  Unspliced      Novel           1999                 3885  51.454311\n",
      "9  Unspliced  Supported           1886                 3885  48.545689\n"
     ]
    },
    {
     "data": {
      "image/png": "[encoded data removed]",
      "text/plain": [
       "<Figure size 432x288 with 1 Axes>"
      ]
     },
     "metadata": {
      "needs_background": "light"
     },
     "output_type": "display_data"
    }
   ],
   "source": [
    "## What does TSS support look like for transcripts w/ ECs of different novelty?\n",
    "feat = 'tss'\n",
    "ref_sources = ref_source = ['v29', 'v40']\n",
    "support_sources = support_source = ['encode_cage', 'fantom_cage', 'encode_rampage', 'gtex', 'pls',\n",
    "                                    'encode_procap', 'lrgasp_cage', 'pol2', 'ca_h3k4me3']\n",
    "\n",
    "plot_end_support_by_ic_novelty(filt_ab, \n",
    "                               cerberus_h5,\n",
    "                               feat,\n",
    "                               ref_sources,\n",
    "                               support_sources,\n",
    "                               min_tpm,\n",
    "                               gene_subset, \n",
    "                               ofile='figures/tss_support_by_ec_novelty.pdf')\n",
    "\n"
   ]
  },
  {
   "cell_type": "markdown",
   "id": "70d88bd2-bc58-46a0-8c75-325828b925d0",
   "metadata": {},
   "source": [
    "## TSS support just in WTC11"
   ]
  },
  {
   "cell_type": "code",
   "execution_count": 13,
   "id": "3363dc6b-4bf8-462f-9582-b532c081a218",
   "metadata": {},
   "outputs": [
    {
     "name": "stdout",
     "output_type": "stream",
     "text": [
      "Calculating tss TPM values\n",
      "Subsetting for ['wtc11'] samples\n",
      "Subsetting for polya genes\n",
      "Enforcing minimum TPM\n",
      "Total # tsss detected: 78644\n",
      "# tsss >= 1 tpm: 23734\n",
      "Applying gene type and novelty subset\n",
      "Number of tsss reported: 23544\n",
      "156214\n",
      "23544\n",
      "     support  counts\n",
      "0      Known   20461\n",
      "1      Novel     594\n",
      "2  Supported    2489\n",
      "   support_2  counts\n",
      "0      Novel    2032\n",
      "1  Supported   21512\n",
      "13.09% (3083/23544) of tsss are novel\n",
      "80.73% (2489/3083) of novel tsss are supported\n",
      "2.52% (594/23544) of tsss are novel and not supported by orthogonal data\n",
      "91.37% (21512/23544) of tsss are supported by orthogonal data, regardless of novelty\n"
     ]
    },
    {
     "name": "stderr",
     "output_type": "stream",
     "text": [
      "/Users/fairliereese/Documents/programming/mortazavi_lab/data/paper_rnawg/proc_revisions/plotting.py:1059: UserWarning: FixedFormatter should only be used together with FixedLocator\n",
      "  ax.set_xticklabels(labels)\n"
     ]
    },
    {
     "name": "stdout",
     "output_type": "stream",
     "text": [
      "\n"
     ]
    },
    {
     "data": {
      "image/png": "[encoded data removed]",
      "text/plain": [
       "<Figure size 216x216 with 1 Axes>"
      ]
     },
     "metadata": {
      "needs_background": "light"
     },
     "output_type": "display_data"
    }
   ],
   "source": [
    "# what about tss support just in wtc11?\n",
    "feat = 'tss'\n",
    "ref_sources = ref_source = ['v29', 'v40']\n",
    "support_sources = support_source = ['encode_cage', 'fantom_cage', 'encode_rampage', 'gtex', 'pls',\n",
    "                                    'encode_procap', 'lrgasp_cage', 'pol2', 'ca_h3k4me3']\n",
    "\n",
    "plt.figure(figsize=(3,3))\n",
    "sns.set_context('paper', font_scale=2)\n",
    "mpl.rcParams['font.family'] = 'Arial'\n",
    "mpl.rcParams['pdf.fonttype'] = 42\n",
    "\n",
    "ax = plt.gca()\n",
    "\n",
    "plot_supported_feats_2(filt_ab=filt_ab,\n",
    "                     h5=cerberus_h5,\n",
    "                     feat=feat,\n",
    "                     ref_sources=ref_source,\n",
    "                     support_sources=support_source,\n",
    "                     how=feat,\n",
    "                     opref='figures/human',\n",
    "                     gene_subset=gene_subset,\n",
    "                     min_tpm=1,\n",
    "                     ax=ax,\n",
    "                     sample=['wtc11'])\n",
    "\n",
    "plt.subplots_adjust(wspace=0.35)\n",
    "# plt.savefig(ofile, dpi=500, layout='tight', bbox_inches='tight')"
   ]
  },
  {
   "cell_type": "code",
   "execution_count": 14,
   "id": "7b39f6f5-8259-472b-9838-728035b6ba97",
   "metadata": {},
   "outputs": [
    {
     "name": "stdout",
     "output_type": "stream",
     "text": [
      "Calculating tss TPM values\n",
      "Subsetting for polya genes\n"
     ]
    },
    {
     "name": "stderr",
     "output_type": "stream",
     "text": [
      "/Users/fairliereese/Documents/programming/mortazavi_lab/data/paper_rnawg/proc_revisions/utils.py:2053: PerformanceWarning: DataFrame is highly fragmented.  This is usually the result of calling `frame.insert` many times, which has poor performance.  Consider joining all columns at once using pd.concat(axis=1) instead.  To get a de-fragmented frame, use `newframe = frame.copy()`\n",
      "  df[tpm_col] = (df[d]*1000000)/df[total_col]\n",
      "/Users/fairliereese/Documents/programming/mortazavi_lab/data/paper_rnawg/proc_revisions/utils.py:2052: PerformanceWarning: DataFrame is highly fragmented.  This is usually the result of calling `frame.insert` many times, which has poor performance.  Consider joining all columns at once using pd.concat(axis=1) instead.  To get a de-fragmented frame, use `newframe = frame.copy()`\n",
      "  df[total_col] = df[d].sum()\n"
     ]
    },
    {
     "name": "stdout",
     "output_type": "stream",
     "text": [
      "Enforcing minimum TPM\n",
      "Total # tsss detected: 78644\n",
      "# tsss >= 1 tpm: 69194\n",
      "Applying gene type and novelty subset\n",
      "Number of tsss reported: 65989\n",
      "156214\n",
      "65989\n",
      "Calculating iso TPM values\n",
      "Subsetting for ['wtc11'] samples\n",
      "Subsetting for polya genes\n",
      "Enforcing minimum TPM\n",
      "Total # isos detected: 246059\n",
      "# isos >= 1 tpm: 64921\n",
      "Applying gene type and novelty subset\n",
      "Number of isos reported: 64673\n"
     ]
    },
    {
     "data": {
      "image/png": "[encoded data removed]",
      "text/plain": [
       "<Figure size 432x288 with 1 Axes>"
      ]
     },
     "metadata": {
      "needs_background": "light"
     },
     "output_type": "display_data"
    }
   ],
   "source": [
    "## What does TSS support look like for transcripts w/ ECs of different novelty?\n",
    "plot_end_support_by_ic_novelty(filt_ab, \n",
    "                               cerberus_h5,\n",
    "                               feat,\n",
    "                               ref_sources,\n",
    "                               support_sources,\n",
    "                               min_tpm,\n",
    "                               gene_subset, \n",
    "                               sample=['wtc11'],\n",
    "                               ofile='figures/tss_support_by_ec_novelty.pdf')"
   ]
  },
  {
   "cell_type": "code",
   "execution_count": 15,
   "id": "7b883ea1-b15c-41f2-9cfb-c35d3d64a155",
   "metadata": {},
   "outputs": [
    {
     "name": "stdout",
     "output_type": "stream",
     "text": [
      "Calculating tss TPM values\n",
      "Subsetting for ['wtc11'] samples\n",
      "Subsetting for polya genes\n",
      "Enforcing minimum TPM\n",
      "Total # tsss detected: 78644\n",
      "# tsss >= 1 tpm: 23734\n",
      "Applying gene type and novelty subset\n",
      "Number of tsss reported: 23544\n",
      "156214\n",
      "23544\n",
      "     support  counts\n",
      "0      Known   20461\n",
      "1      Novel    1200\n",
      "2  Supported    1883\n",
      "   support_2  counts\n",
      "0      Novel    5491\n",
      "1  Supported   18053\n",
      "13.09% (3083/23544) of tsss are novel\n",
      "61.08% (1883/3083) of novel tsss are supported\n",
      "5.10% (1200/23544) of tsss are novel and not supported by orthogonal data\n",
      "76.68% (18053/23544) of tsss are supported by orthogonal data, regardless of novelty\n"
     ]
    },
    {
     "name": "stderr",
     "output_type": "stream",
     "text": [
      "/Users/fairliereese/Documents/programming/mortazavi_lab/data/paper_rnawg/proc_revisions/plotting.py:1059: UserWarning: FixedFormatter should only be used together with FixedLocator\n",
      "  ax.set_xticklabels(labels)\n"
     ]
    },
    {
     "name": "stdout",
     "output_type": "stream",
     "text": [
      "\n"
     ]
    },
    {
     "data": {
      "image/png": "[encoded data removed]",
      "text/plain": [
       "<Figure size 216x216 with 1 Axes>"
      ]
     },
     "metadata": {
      "needs_background": "light"
     },
     "output_type": "display_data"
    }
   ],
   "source": [
    "# what about tss support just in wtc11? just by the wtc11 cage\n",
    "feat = 'tss'\n",
    "ref_sources = ref_source = ['v29', 'v40']\n",
    "support_sources = support_source = ['lrgasp_cage']\n",
    "\n",
    "plt.figure(figsize=(3,3))\n",
    "sns.set_context('paper', font_scale=2)\n",
    "mpl.rcParams['font.family'] = 'Arial'\n",
    "mpl.rcParams['pdf.fonttype'] = 42\n",
    "\n",
    "ax = plt.gca()\n",
    "\n",
    "plot_supported_feats_2(filt_ab=filt_ab,\n",
    "                     h5=cerberus_h5,\n",
    "                     feat=feat,\n",
    "                     ref_sources=ref_source,\n",
    "                     support_sources=support_source,\n",
    "                     how=feat,\n",
    "                     opref='figures/human',\n",
    "                     gene_subset=gene_subset,\n",
    "                     min_tpm=1,\n",
    "                     ax=ax,\n",
    "                     sample=['wtc11'])\n",
    "\n",
    "plt.subplots_adjust(wspace=0.35)\n",
    "# plt.savefig(ofile, dpi=500, layout='tight', bbox_inches='tight')"
   ]
  },
  {
   "cell_type": "code",
   "execution_count": 16,
   "id": "fcf19d2e-5db5-4c5d-a220-ad5e6c639508",
   "metadata": {},
   "outputs": [
    {
     "name": "stdout",
     "output_type": "stream",
     "text": [
      "Calculating tss TPM values\n",
      "Subsetting for polya genes\n"
     ]
    },
    {
     "name": "stderr",
     "output_type": "stream",
     "text": [
      "/Users/fairliereese/Documents/programming/mortazavi_lab/data/paper_rnawg/proc_revisions/utils.py:2053: PerformanceWarning: DataFrame is highly fragmented.  This is usually the result of calling `frame.insert` many times, which has poor performance.  Consider joining all columns at once using pd.concat(axis=1) instead.  To get a de-fragmented frame, use `newframe = frame.copy()`\n",
      "  df[tpm_col] = (df[d]*1000000)/df[total_col]\n",
      "/Users/fairliereese/Documents/programming/mortazavi_lab/data/paper_rnawg/proc_revisions/utils.py:2052: PerformanceWarning: DataFrame is highly fragmented.  This is usually the result of calling `frame.insert` many times, which has poor performance.  Consider joining all columns at once using pd.concat(axis=1) instead.  To get a de-fragmented frame, use `newframe = frame.copy()`\n",
      "  df[total_col] = df[d].sum()\n"
     ]
    },
    {
     "name": "stdout",
     "output_type": "stream",
     "text": [
      "Enforcing minimum TPM\n",
      "Total # tsss detected: 78644\n",
      "# tsss >= 1 tpm: 69194\n",
      "Applying gene type and novelty subset\n",
      "Number of tsss reported: 65989\n",
      "156214\n",
      "65989\n",
      "Calculating iso TPM values\n",
      "Subsetting for ['wtc11'] samples\n",
      "Subsetting for polya genes\n",
      "Enforcing minimum TPM\n",
      "Total # isos detected: 246059\n",
      "# isos >= 1 tpm: 64921\n",
      "Applying gene type and novelty subset\n",
      "Number of isos reported: 64673\n"
     ]
    },
    {
     "data": {
      "image/png": "[encoded data removed]",
      "text/plain": [
       "<Figure size 432x288 with 1 Axes>"
      ]
     },
     "metadata": {
      "needs_background": "light"
     },
     "output_type": "display_data"
    }
   ],
   "source": [
    "## What does TSS support look like for transcripts w/ ECs of different novelty?\n",
    "plot_end_support_by_ic_novelty(filt_ab, \n",
    "                               cerberus_h5,\n",
    "                               feat,\n",
    "                               ref_sources,\n",
    "                               support_sources,\n",
    "                               min_tpm,\n",
    "                               gene_subset, \n",
    "                               sample=['wtc11'],\n",
    "                               ofile='figures/tss_support_by_ec_novelty.pdf')"
   ]
  },
  {
   "cell_type": "code",
   "execution_count": null,
   "id": "ace29633-fec6-4ae0-960c-29c43c20eb8b",
   "metadata": {},
   "outputs": [],
   "source": []
  },
  {
   "cell_type": "code",
   "execution_count": null,
   "id": "3d41fa08-11f8-4ba8-85db-51181f4e772e",
   "metadata": {},
   "outputs": [],
   "source": []
  },
  {
   "cell_type": "code",
   "execution_count": null,
   "id": "a3f04bfb-96f8-4219-8ba2-028289232b26",
   "metadata": {},
   "outputs": [],
   "source": []
  },
  {
   "cell_type": "code",
   "execution_count": null,
   "id": "25d56176-bdb8-4b11-8626-53217963233c",
   "metadata": {},
   "outputs": [],
   "source": []
  },
  {
   "cell_type": "code",
   "execution_count": null,
   "id": "734eb240-ca54-4541-b08b-3395b69973ec",
   "metadata": {},
   "outputs": [],
   "source": []
  },
  {
   "cell_type": "code",
   "execution_count": null,
   "id": "eeaa7c9f-b426-45dd-8b3a-aa3c177ba662",
   "metadata": {},
   "outputs": [],
   "source": []
  },
  {
   "cell_type": "code",
   "execution_count": null,
   "id": "54fc42a9-14ea-43dc-bb21-27da4ef1a816",
   "metadata": {},
   "outputs": [],
   "source": []
  },
  {
   "cell_type": "code",
   "execution_count": null,
   "id": "336c1b23-c151-4f5d-a143-3f891ea69283",
   "metadata": {},
   "outputs": [],
   "source": []
  },
  {
   "cell_type": "code",
   "execution_count": null,
   "id": "2ad8be92-381e-43fb-8602-a8d4a10eb2fd",
   "metadata": {},
   "outputs": [],
   "source": []
  },
  {
   "cell_type": "code",
   "execution_count": null,
   "id": "dfc41535-20cb-4a1f-8716-6cc03cc45f28",
   "metadata": {},
   "outputs": [],
   "source": []
  },
  {
   "cell_type": "code",
   "execution_count": null,
   "id": "2da653ec-30f2-405d-9c0b-8631384b9a8b",
   "metadata": {},
   "outputs": [],
   "source": []
  },
  {
   "cell_type": "code",
   "execution_count": null,
   "id": "c9ccdfad-bd5c-4440-bc10-3437c7b3499a",
   "metadata": {},
   "outputs": [],
   "source": []
  },
  {
   "cell_type": "markdown",
   "id": "fab523b6-20e5-4fe2-96be-c566ebd6d1de",
   "metadata": {},
   "source": [
    "## IDK "
   ]
  },
  {
   "cell_type": "code",
   "execution_count": 8,
   "id": "f2f08753-9d1e-4a6f-b4ef-91f2c71ef496",
   "metadata": {},
   "outputs": [
    {
     "name": "stdout",
     "output_type": "stream",
     "text": [
      "Calculating tss TPM values\n",
      "Subsetting for polya genes\n",
      "Enforcing minimum TPM\n",
      "Total # tsss detected: 76667\n",
      "# tsss >= 1 tpm: 67260\n",
      "Applying gene type and novelty subset\n",
      "Number of tsss reported: 63934\n"
     ]
    }
   ],
   "source": [
    "# get exp of each tss\n",
    "df = pd.read_csv(filt_ab, sep='\\t')\n",
    "t_df, ids = get_tpm_table(df,\n",
    "                          gene_subset=gene_subset,\n",
    "                          min_tpm=1,\n",
    "                          how='tss')"
   ]
  },
  {
   "cell_type": "code",
   "execution_count": 9,
   "id": "0e1bd32c-0fad-49a0-9774-0b1af1ecda6c",
   "metadata": {},
   "outputs": [],
   "source": [
    "temp = t_df.copy(deep=True)\n",
    "temp['max_tpm'] = temp.max(axis=1)\n",
    "temp = temp[['max_tpm']].reset_index()"
   ]
  },
  {
   "cell_type": "code",
   "execution_count": 10,
   "id": "6f34ed48-957a-460e-9481-ea2434ff2a06",
   "metadata": {},
   "outputs": [],
   "source": [
    "temp = t_df.copy(deep=True)\n",
    "temp['avg_tpm'] = temp.max(axis=1)\n",
    "temp = temp[['avg_tpm']].reset_index()"
   ]
  },
  {
   "cell_type": "code",
   "execution_count": 11,
   "id": "caa3c719-06f7-40ff-be64-834bb456d0fd",
   "metadata": {},
   "outputs": [],
   "source": [
    "temp = temp.merge(end_df,\n",
    "                  how='left',\n",
    "                  left_on='tss',\n",
    "                  right_on='Name')"
   ]
  },
  {
   "cell_type": "code",
   "execution_count": 12,
   "id": "14cde15f-ac8c-43c9-974a-c10fac52cf7c",
   "metadata": {},
   "outputs": [
    {
     "data": {
      "image/png": "[encoded data removed]",
      "text/plain": [
       "<Figure size 432x288 with 1 Axes>"
      ]
     },
     "metadata": {
      "needs_background": "light"
     },
     "output_type": "display_data"
    }
   ],
   "source": [
    "# ax = sns.boxplot(data=temp, x='support', y='max_tpm',\n",
    "#                      saturation=1)\n",
    "ax = sns.boxplot(data=temp, x='support', y='avg_tpm',\n",
    "                     saturation=1)\n",
    "# ax.set_ylim((0,200))"
   ]
  },
  {
   "cell_type": "code",
   "execution_count": 7,
   "id": "6cc96df4-6c58-43d1-b7f0-eae2dc2319e1",
   "metadata": {},
   "outputs": [],
   "source": [
    "ca = cerberus.read(ca_plus)"
   ]
  },
  {
   "cell_type": "code",
   "execution_count": 8,
   "id": "59786b4f-1f67-4962-972f-73c65445c6bf",
   "metadata": {},
   "outputs": [],
   "source": [
    "cage = [s for s in ca.tss_sources if '_lrgasp_cage' in s]\n",
    "procap = [s for s in ca.tss_sources if '_procap' in s]\n",
    "ss_plus = cage+procap\n",
    "\n"
   ]
  },
  {
   "cell_type": "code",
   "execution_count": null,
   "id": "ea856606-b7ee-449f-be91-38fdba66e6b5",
   "metadata": {},
   "outputs": [],
   "source": []
  },
  {
   "cell_type": "code",
   "execution_count": null,
   "id": "5d8357ef-d584-4dc6-b6f6-f7bc552d9cd9",
   "metadata": {},
   "outputs": [],
   "source": []
  },
  {
   "cell_type": "code",
   "execution_count": null,
   "id": "d16beae1-739e-4fe4-b040-f284dbfe418b",
   "metadata": {},
   "outputs": [],
   "source": []
  },
  {
   "cell_type": "code",
   "execution_count": null,
   "id": "44f76fea-19a6-4840-8ebe-31c4541f4e81",
   "metadata": {},
   "outputs": [],
   "source": []
  },
  {
   "cell_type": "code",
   "execution_count": 12,
   "id": "d4b8e35a-1acd-43ab-b33d-2a4bdb7862e8",
   "metadata": {},
   "outputs": [
    {
     "name": "stdout",
     "output_type": "stream",
     "text": [
      "Calculating tss TPM values\n",
      "Subsetting for polya genes\n"
     ]
    },
    {
     "name": "stderr",
     "output_type": "stream",
     "text": [
      "/Users/fairliereese/Documents/programming/mortazavi_lab/data/paper_rnawg/scripts/utils.py:2106: PerformanceWarning: DataFrame is highly fragmented.  This is usually the result of calling `frame.insert` many times, which has poor performance.  Consider joining all columns at once using pd.concat(axis=1) instead.  To get a de-fragmented frame, use `newframe = frame.copy()`\n",
      "  df[tpm_col] = (df[d]*1000000)/df[total_col]\n",
      "/Users/fairliereese/Documents/programming/mortazavi_lab/data/paper_rnawg/scripts/utils.py:2105: PerformanceWarning: DataFrame is highly fragmented.  This is usually the result of calling `frame.insert` many times, which has poor performance.  Consider joining all columns at once using pd.concat(axis=1) instead.  To get a de-fragmented frame, use `newframe = frame.copy()`\n",
      "  df[total_col] = df[d].sum()\n"
     ]
    },
    {
     "name": "stdout",
     "output_type": "stream",
     "text": [
      "Enforcing minimum TPM\n",
      "Total # tsss detected: 76487\n",
      "# tsss >= 1 tpm: 67730\n",
      "Applying gene type and novelty subset\n",
      "Number of tsss reported: 64664\n",
      "153941\n",
      "64664\n",
      "     support  counts\n",
      "0      Known   53018\n",
      "1      Novel    5197\n",
      "2  Supported    6449\n",
      "18.01% (11646/64664) of tsss are novel\n",
      "55.38% (6449/11646) of novel tsss are supported\n",
      "\n"
     ]
    },
    {
     "data": {
      "image/png": "[encoded data removed]",
      "text/plain": [
       "<Figure size 216x216 with 1 Axes>"
      ]
     },
     "metadata": {
      "needs_background": "light"
     },
     "output_type": "display_data"
    }
   ],
   "source": [
    "feat = 'tss'\n",
    "ref_source = ['v29', 'v40']\n",
    "support_source = ['encode_cage', 'fantom_cage', 'encode_rampage', 'pls']+cage\n",
    "\n",
    "plt.figure(figsize=(3,3))\n",
    "sns.set_context('paper', font_scale=2)\n",
    "mpl.rcParams['font.family'] = 'Arial'\n",
    "mpl.rcParams['pdf.fonttype'] = 42\n",
    "\n",
    "ax = plt.gca()\n",
    "\n",
    "plot_supported_feats_2(filt_ab=filt_ab,\n",
    "                     h5=ca_plus,\n",
    "                     feat=feat,\n",
    "                     ref_sources=ref_source,\n",
    "                     support_sources=support_source,\n",
    "                     how=feat,\n",
    "                     opref='figures/human',\n",
    "                     gene_subset=gene_subset,\n",
    "                     min_tpm=1,\n",
    "                     ax=ax)\n",
    "\n",
    "plt.subplots_adjust(wspace=0.35)\n",
    "# plt.savefig(ofile, dpi=500, layout='tight', bbox_inches='tight')"
   ]
  },
  {
   "cell_type": "code",
   "execution_count": 13,
   "id": "773e5b58-719d-4d7e-9d55-f046c9f1f032",
   "metadata": {},
   "outputs": [
    {
     "name": "stdout",
     "output_type": "stream",
     "text": [
      "Calculating tss TPM values\n",
      "Subsetting for polya genes\n"
     ]
    },
    {
     "name": "stderr",
     "output_type": "stream",
     "text": [
      "/Users/fairliereese/Documents/programming/mortazavi_lab/data/paper_rnawg/scripts/utils.py:2106: PerformanceWarning: DataFrame is highly fragmented.  This is usually the result of calling `frame.insert` many times, which has poor performance.  Consider joining all columns at once using pd.concat(axis=1) instead.  To get a de-fragmented frame, use `newframe = frame.copy()`\n",
      "  df[tpm_col] = (df[d]*1000000)/df[total_col]\n",
      "/Users/fairliereese/Documents/programming/mortazavi_lab/data/paper_rnawg/scripts/utils.py:2105: PerformanceWarning: DataFrame is highly fragmented.  This is usually the result of calling `frame.insert` many times, which has poor performance.  Consider joining all columns at once using pd.concat(axis=1) instead.  To get a de-fragmented frame, use `newframe = frame.copy()`\n",
      "  df[total_col] = df[d].sum()\n"
     ]
    },
    {
     "name": "stdout",
     "output_type": "stream",
     "text": [
      "Enforcing minimum TPM\n",
      "Total # tsss detected: 76487\n",
      "# tsss >= 1 tpm: 67730\n",
      "Applying gene type and novelty subset\n",
      "Number of tsss reported: 64664\n",
      "153941\n",
      "64664\n",
      "     support  counts\n",
      "0      Known   53018\n",
      "1      Novel    5491\n",
      "2  Supported    6155\n",
      "18.01% (11646/64664) of tsss are novel\n",
      "52.85% (6155/11646) of novel tsss are supported\n",
      "\n"
     ]
    },
    {
     "data": {
      "image/png": "[encoded data removed]",
      "text/plain": [
       "<Figure size 216x216 with 1 Axes>"
      ]
     },
     "metadata": {
      "needs_background": "light"
     },
     "output_type": "display_data"
    }
   ],
   "source": [
    "feat = 'tss'\n",
    "ref_source = ['v29', 'v40']\n",
    "support_source = ['encode_cage', 'fantom_cage', 'encode_rampage', 'pls']+procap\n",
    "\n",
    "plt.figure(figsize=(3,3))\n",
    "sns.set_context('paper', font_scale=2)\n",
    "mpl.rcParams['font.family'] = 'Arial'\n",
    "mpl.rcParams['pdf.fonttype'] = 42\n",
    "\n",
    "ax = plt.gca()\n",
    "\n",
    "plot_supported_feats_2(filt_ab=filt_ab,\n",
    "                     h5=ca_plus,\n",
    "                     feat=feat,\n",
    "                     ref_sources=ref_source,\n",
    "                     support_sources=support_source,\n",
    "                     how=feat,\n",
    "                     opref='figures/human',\n",
    "                     gene_subset=gene_subset,\n",
    "                     min_tpm=1,\n",
    "                     ax=ax)\n",
    "\n",
    "plt.subplots_adjust(wspace=0.35)\n",
    "# plt.savefig(ofile, dpi=500, layout='tight', bbox_inches='tight')"
   ]
  },
  {
   "cell_type": "code",
   "execution_count": 10,
   "id": "8233356b-b118-4708-a613-ae281ebf39a0",
   "metadata": {},
   "outputs": [
    {
     "name": "stdout",
     "output_type": "stream",
     "text": [
      "Calculating tss TPM values\n",
      "Subsetting for polya genes\n"
     ]
    },
    {
     "name": "stderr",
     "output_type": "stream",
     "text": [
      "/Users/fairliereese/Documents/programming/mortazavi_lab/data/paper_rnawg/scripts/utils.py:2106: PerformanceWarning: DataFrame is highly fragmented.  This is usually the result of calling `frame.insert` many times, which has poor performance.  Consider joining all columns at once using pd.concat(axis=1) instead.  To get a de-fragmented frame, use `newframe = frame.copy()`\n",
      "  df[tpm_col] = (df[d]*1000000)/df[total_col]\n",
      "/Users/fairliereese/Documents/programming/mortazavi_lab/data/paper_rnawg/scripts/utils.py:2105: PerformanceWarning: DataFrame is highly fragmented.  This is usually the result of calling `frame.insert` many times, which has poor performance.  Consider joining all columns at once using pd.concat(axis=1) instead.  To get a de-fragmented frame, use `newframe = frame.copy()`\n",
      "  df[total_col] = df[d].sum()\n"
     ]
    },
    {
     "name": "stdout",
     "output_type": "stream",
     "text": [
      "Enforcing minimum TPM\n",
      "Total # tsss detected: 76487\n",
      "# tsss >= 1 tpm: 67730\n",
      "Applying gene type and novelty subset\n",
      "Number of tsss reported: 64664\n",
      "153941\n",
      "64664\n",
      "     support  counts\n",
      "0      Known   53018\n",
      "1      Novel    4537\n",
      "2  Supported    7109\n",
      "18.01% (11646/64664) of tsss are novel\n",
      "61.04% (7109/11646) of novel tsss are supported\n",
      "\n"
     ]
    },
    {
     "data": {
      "image/png": "[encoded data removed]",
      "text/plain": [
       "<Figure size 216x216 with 1 Axes>"
      ]
     },
     "metadata": {
      "needs_background": "light"
     },
     "output_type": "display_data"
    }
   ],
   "source": [
    "feat = 'tss'\n",
    "ref_source = ['v29', 'v40']\n",
    "support_source = ['encode_cage', 'fantom_cage', 'encode_rampage', 'pls']+ss_plus\n",
    "\n",
    "plt.figure(figsize=(3,3))\n",
    "sns.set_context('paper', font_scale=2)\n",
    "mpl.rcParams['font.family'] = 'Arial'\n",
    "mpl.rcParams['pdf.fonttype'] = 42\n",
    "\n",
    "ax = plt.gca()\n",
    "\n",
    "plot_supported_feats_2(filt_ab=filt_ab,\n",
    "                     h5=ca_plus,\n",
    "                     feat=feat,\n",
    "                     ref_sources=ref_source,\n",
    "                     support_sources=support_source,\n",
    "                     how=feat,\n",
    "                     opref='figures/human',\n",
    "                     gene_subset=gene_subset,\n",
    "                     min_tpm=1,\n",
    "                     ax=ax)\n",
    "\n",
    "plt.subplots_adjust(wspace=0.35)\n",
    "# plt.savefig(ofile, dpi=500, layout='tight', bbox_inches='tight')"
   ]
  },
  {
   "cell_type": "code",
   "execution_count": 17,
   "id": "19e5a332-3843-4732-a7aa-2d0b12192b22",
   "metadata": {},
   "outputs": [
    {
     "name": "stdout",
     "output_type": "stream",
     "text": [
      "Calculating tss TPM values\n",
      "Subsetting for polya genes\n"
     ]
    },
    {
     "name": "stderr",
     "output_type": "stream",
     "text": [
      "/Users/fairliereese/Documents/programming/mortazavi_lab/data/paper_rnawg/scripts/utils.py:2106: PerformanceWarning: DataFrame is highly fragmented.  This is usually the result of calling `frame.insert` many times, which has poor performance.  Consider joining all columns at once using pd.concat(axis=1) instead.  To get a de-fragmented frame, use `newframe = frame.copy()`\n",
      "  df[tpm_col] = (df[d]*1000000)/df[total_col]\n",
      "/Users/fairliereese/Documents/programming/mortazavi_lab/data/paper_rnawg/scripts/utils.py:2105: PerformanceWarning: DataFrame is highly fragmented.  This is usually the result of calling `frame.insert` many times, which has poor performance.  Consider joining all columns at once using pd.concat(axis=1) instead.  To get a de-fragmented frame, use `newframe = frame.copy()`\n",
      "  df[total_col] = df[d].sum()\n"
     ]
    },
    {
     "name": "stdout",
     "output_type": "stream",
     "text": [
      "Enforcing minimum TPM\n",
      "Total # tsss detected: 76487\n",
      "# tsss >= 1 tpm: 67730\n",
      "Applying gene type and novelty subset\n",
      "Number of tsss reported: 64664\n",
      "153941\n",
      "64664\n",
      "Calculating iso TPM values\n",
      "Subsetting for polya genes\n",
      "Enforcing minimum TPM\n",
      "Total # isos detected: 231136\n",
      "# isos >= 1 tpm: 210239\n",
      "Applying gene type and novelty subset\n",
      "Number of isos reported: 206806\n"
     ]
    },
    {
     "data": {
      "image/png": "[encoded data removed]",
      "text/plain": [
       "<Figure size 432x288 with 1 Axes>"
      ]
     },
     "metadata": {
      "needs_background": "light"
     },
     "output_type": "display_data"
    }
   ],
   "source": [
    "## What does TSS support look like for transcripts w/ ECs of different novelty?\n",
    "## this is with the procap and the lrgasp data added\n",
    "feat = 'tss'\n",
    "ref_sources = ['v29', 'v40']\n",
    "support_sources = ['encode_cage', 'fantom_cage', 'encode_rampage', 'pls']+ss_plus\n",
    "\n",
    "plot_end_support_by_ic_novelty(filt_ab, \n",
    "                               ca_plus,\n",
    "                               feat,\n",
    "                               ref_sources,\n",
    "                               support_sources,\n",
    "                               min_tpm,\n",
    "                               gene_subset)\n",
    "\n"
   ]
  },
  {
   "cell_type": "code",
   "execution_count": 9,
   "id": "b8226620-d664-4b55-a347-6e421ad99964",
   "metadata": {},
   "outputs": [
    {
     "name": "stdout",
     "output_type": "stream",
     "text": [
      "Calculating tss TPM values\n",
      "Subsetting for polya genes\n"
     ]
    },
    {
     "name": "stderr",
     "output_type": "stream",
     "text": [
      "/Users/fairliereese/Documents/programming/mortazavi_lab/data/paper_rnawg/scripts/utils.py:2176: PerformanceWarning: DataFrame is highly fragmented.  This is usually the result of calling `frame.insert` many times, which has poor performance.  Consider joining all columns at once using pd.concat(axis=1) instead.  To get a de-fragmented frame, use `newframe = frame.copy()`\n",
      "  df[tpm_col] = (df[d]*1000000)/df[total_col]\n",
      "/Users/fairliereese/Documents/programming/mortazavi_lab/data/paper_rnawg/scripts/utils.py:2175: PerformanceWarning: DataFrame is highly fragmented.  This is usually the result of calling `frame.insert` many times, which has poor performance.  Consider joining all columns at once using pd.concat(axis=1) instead.  To get a de-fragmented frame, use `newframe = frame.copy()`\n",
      "  df[total_col] = df[d].sum()\n"
     ]
    },
    {
     "name": "stdout",
     "output_type": "stream",
     "text": [
      "Enforcing minimum TPM\n",
      "Total # tsss detected: 76487\n",
      "# tsss >= 1 tpm: 67730\n",
      "Applying gene type and novelty subset\n",
      "Number of tsss reported: 64664\n",
      "153941\n",
      "64664\n",
      "Calculating iso TPM values\n",
      "Subsetting for polya genes\n",
      "Enforcing minimum TPM\n",
      "Total # isos detected: 231136\n",
      "# isos >= 1 tpm: 210239\n",
      "Applying gene type and novelty subset\n",
      "Number of isos reported: 206806\n"
     ]
    },
    {
     "data": {
      "image/png": "[encoded data removed]",
      "text/plain": [
       "<Figure size 432x288 with 1 Axes>"
      ]
     },
     "metadata": {
      "needs_background": "light"
     },
     "output_type": "display_data"
    }
   ],
   "source": [
    "## What does TSS support look like for transcripts w/ ECs of different novelty?\n",
    "## this is with the procap and the lrgasp data added\n",
    "feat = 'tss'\n",
    "ref_sources = ['v29', 'v40']\n",
    "support_sources = ['encode_cage', 'fantom_cage', 'encode_rampage', 'pls']+ss_plus\n",
    "\n",
    "plot_end_support_by_ic_novelty(filt_ab, \n",
    "                               ca_plus,\n",
    "                               feat,\n",
    "                               ref_sources,\n",
    "                               support_sources,\n",
    "                               min_tpm,\n",
    "                               gene_subset,\n",
    "                               ofile='figures/tss_support_by_ec_novelty.pdf')\n",
    "\n"
   ]
  },
  {
   "cell_type": "code",
   "execution_count": 4,
   "id": "0ba83264-fd14-4f89-aefb-727bb924f940",
   "metadata": {},
   "outputs": [],
   "source": [
    "ca = cerberus.read(ca_plus)\n"
   ]
  },
  {
   "cell_type": "code",
   "execution_count": 9,
   "id": "50b7545f-574d-4551-a073-07e5e484637f",
   "metadata": {},
   "outputs": [
    {
     "name": "stdout",
     "output_type": "stream",
     "text": [
      "Calculating tss TPM values\n",
      "Subsetting for ['wtc11'] samples\n",
      "Subsetting for polya genes\n",
      "Enforcing minimum TPM\n",
      "Total # tsss detected: 76487\n",
      "# tsss >= 1 tpm: 22034\n",
      "Applying gene type and novelty subset\n",
      "Number of tsss reported: 21896\n",
      "153941\n",
      "21896\n",
      "     support  counts\n",
      "0      Known   20367\n",
      "1      Novel     147\n",
      "2  Supported    1382\n",
      "6.98% (1529/21896) of tsss are novel\n",
      "90.39% (1382/1529) of novel tsss are supported\n",
      "\n"
     ]
    },
    {
     "data": {
      "image/png": "[encoded data removed]",
      "text/plain": [
       "<Figure size 216x216 with 1 Axes>"
      ]
     },
     "metadata": {
      "needs_background": "light"
     },
     "output_type": "display_data"
    }
   ],
   "source": [
    "# what about tss support just in wtc11?\n",
    "feat = 'tss'\n",
    "ref_source = ['v29', 'v40']\n",
    "wtc11 = [s for s in ca.tss_sources if 'wtc11' in s]\n",
    "support_source = ['encode_cage', 'fantom_cage', 'encode_rampage', 'pls']+wtc11\n",
    "support_source\n",
    "\n",
    "plt.figure(figsize=(3,3))\n",
    "sns.set_context('paper', font_scale=2)\n",
    "mpl.rcParams['font.family'] = 'Arial'\n",
    "mpl.rcParams['pdf.fonttype'] = 42\n",
    "\n",
    "ax = plt.gca()\n",
    "\n",
    "plot_supported_feats_2(filt_ab=filt_ab,\n",
    "                     h5=ca_plus,\n",
    "                     feat=feat,\n",
    "                     ref_sources=ref_source,\n",
    "                     support_sources=support_source,\n",
    "                     how=feat,\n",
    "                     opref='figures/human',\n",
    "                     gene_subset=gene_subset,\n",
    "                     min_tpm=1,\n",
    "                     ax=ax,\n",
    "                     sample=['wtc11'])\n",
    "\n",
    "plt.subplots_adjust(wspace=0.35)\n",
    "# plt.savefig(ofile, dpi=500, layout='tight', bbox_inches='tight')"
   ]
  },
  {
   "cell_type": "code",
   "execution_count": null,
   "id": "f71820f6-8d58-40af-a385-0bb8eb07a039",
   "metadata": {},
   "outputs": [],
   "source": [
    "## What does TSS support look like for transcripts w/ ECs of different novelty?\n",
    "## this is with the procap and the lrgasp data added -- Just WTC11\n",
    "feat = 'tss'\n",
    "ref_sources = ['v29', 'v40']\n",
    "support_sources = ['encode_cage', 'fantom_cage', 'encode_rampage', 'pls']+ss_plus\n",
    "\n",
    "plot_end_support_by_ic_novelty(filt_ab, \n",
    "                               ca_plus,\n",
    "                               feat,\n",
    "                               ref_sources,\n",
    "                               support_sources,\n",
    "                               min_tpm,\n",
    "                               gene_subset)"
   ]
  },
  {
   "cell_type": "code",
   "execution_count": 10,
   "id": "a5abb894-552e-4de6-874e-0b1efb673da5",
   "metadata": {},
   "outputs": [
    {
     "name": "stdout",
     "output_type": "stream",
     "text": [
      "Calculating tss TPM values\n",
      "Subsetting for ['wtc11'] samples\n",
      "Subsetting for polya genes\n",
      "Enforcing minimum TPM\n",
      "Total # tsss detected: 76487\n",
      "# tsss >= 1 tpm: 22034\n",
      "Applying gene type and novelty subset\n",
      "Number of tsss reported: 21896\n",
      "153941\n",
      "21896\n",
      "     support  counts\n",
      "0      Known   20367\n",
      "1      Novel     290\n",
      "2  Supported    1239\n",
      "6.98% (1529/21896) of tsss are novel\n",
      "81.03% (1239/1529) of novel tsss are supported\n",
      "\n"
     ]
    },
    {
     "data": {
      "image/png": "[encoded data removed]",
      "text/plain": [
       "<Figure size 216x216 with 1 Axes>"
      ]
     },
     "metadata": {
      "needs_background": "light"
     },
     "output_type": "display_data"
    }
   ],
   "source": [
    "# what about tss support just in wtc11?\n",
    "feat = 'tss'\n",
    "ref_source = ['v29', 'v40']\n",
    "wtc11 = [s for s in ca.tss_sources if 'wtc11' in s]\n",
    "support_source = []+wtc11\n",
    "support_source\n",
    "\n",
    "plt.figure(figsize=(3,3))\n",
    "sns.set_context('paper', font_scale=2)\n",
    "mpl.rcParams['font.family'] = 'Arial'\n",
    "mpl.rcParams['pdf.fonttype'] = 42\n",
    "\n",
    "ax = plt.gca()\n",
    "\n",
    "plot_supported_feats_2(filt_ab=filt_ab,\n",
    "                     h5=ca_plus,\n",
    "                     feat=feat,\n",
    "                     ref_sources=ref_source,\n",
    "                     support_sources=support_source,\n",
    "                     how=feat,\n",
    "                     opref='figures/human',\n",
    "                     gene_subset=gene_subset,\n",
    "                     min_tpm=1,\n",
    "                     ax=ax,\n",
    "                     sample=['wtc11'])\n",
    "\n",
    "plt.subplots_adjust(wspace=0.35)\n",
    "# plt.savefig(ofile, dpi=500, layout='tight', bbox_inches='tight')"
   ]
  },
  {
   "cell_type": "code",
   "execution_count": null,
   "id": "c237e9e8-e7ca-4557-a217-c081736fc27a",
   "metadata": {},
   "outputs": [],
   "source": []
  },
  {
   "cell_type": "code",
   "execution_count": null,
   "id": "0ecbb369-5f43-4ce4-94fb-3ea3b1d510f3",
   "metadata": {},
   "outputs": [],
   "source": []
  },
  {
   "cell_type": "code",
   "execution_count": null,
   "id": "1457e5ea-0ac9-47b2-b96f-d388d404ffc7",
   "metadata": {},
   "outputs": [],
   "source": []
  },
  {
   "cell_type": "code",
   "execution_count": null,
   "id": "53d92ec9-718a-443f-a21d-4f0e0ed473a4",
   "metadata": {},
   "outputs": [],
   "source": []
  },
  {
   "cell_type": "code",
   "execution_count": null,
   "id": "36e57498-b9a2-42d7-8bbe-9e2b46bd1564",
   "metadata": {},
   "outputs": [],
   "source": [
    "def convert_encode_desc(df, col):\n",
    "    \"\"\"\n",
    "    Convert encode desc. of a sample into something more parseable\n",
    "    \"\"\"\n",
    "    df[col] = df[col].str.lower()\n",
    "    df[col] = df[col].str.replace(', ', '_')\n",
    "    df[col] = df[col].str.replace(' ', '_')\n",
    "    df[col] = df[col].str.replace('-', '_')\n",
    "    \n",
    "    return df"
   ]
  },
  {
   "cell_type": "code",
   "execution_count": null,
   "id": "eb1bee5c-c7fa-4bab-a5a9-97e645dd50f4",
   "metadata": {},
   "outputs": [],
   "source": [
    "def add_dataset_names_from_metadata(meta_file, biosamp_map_file):\n",
    "    \"\"\"\n",
    "    Add a dataset name for each file in an ENCODE download metadata file\n",
    "    \"\"\"\n",
    "    df = pd.read_csv(meta_file, sep='\\t')    \n",
    "    df = df[['File accession', 'Experiment accession', 'Biosample term name', 'Biosample type', 'Technical replicate(s)', 'Biological replicate(s)']]\n",
    "    df['classification'] = 'cell_line'\n",
    "    df.loc[df['Biosample type']=='tissue', 'classification'] = 'tissue'\n",
    "    df = convert_encode_desc(df, 'Biosample term name')\n",
    "    \n",
    "    # convert hyphenated cell line names\n",
    "    term_map = pd.read_csv(biosamp_map_file, sep='\\t',\n",
    "                           header=None, names=['eid', 'old_name', 'idk1', 'idk2', 'new_name'])\n",
    "    term_map = convert_encode_desc(term_map, 'old_name')\n",
    "    term_map = convert_encode_desc(term_map, 'new_name')\n",
    "    term_map = term_map[['old_name', 'new_name']]\n",
    "    term_map.drop_duplicates(inplace=True)\n",
    "    n1 = len(df.index)\n",
    "    # print(n1)\n",
    "    df = df.merge(term_map, how='left', left_on='Biosample term name', right_on='old_name')\n",
    "    n2 = len(df.index)\n",
    "    # print(n2)\n",
    "    if n1 != n2:\n",
    "        print('Duplicated thingies, check for DE samples')\n",
    "    df.rename({'Biosample term name': 'sample'}, axis=1, inplace=True)\n",
    "    df.loc[~df.new_name.isnull(), 'sample'] = df.loc[~df.new_name.isnull(), 'new_name']\n",
    "    \n",
    "    return df\n",
    "    \n",
    "    "
   ]
  },
  {
   "cell_type": "code",
   "execution_count": null,
   "id": "737f17c6-7fef-45fd-8fce-fc82db6fc030",
   "metadata": {},
   "outputs": [],
   "source": [
    "def get_sample_names_from_dl_meta(meta_file, biosamp_map_file):\n",
    "    \"\"\"\n",
    "    Get a list of samples present from an input ENCODE download file\n",
    "    \"\"\"\n",
    "    df = pd.read_csv(meta_file, sep='\\t')    \n",
    "    df = df[['File accession', 'Experiment accession', 'Biosample term name', 'Biosample type', 'Technical replicate(s)', 'Biological replicate(s)']]\n",
    "    df['classification'] = 'cell_line'\n",
    "    df.loc[df['Biosample type']=='tissue', 'classification'] = 'tissue'\n",
    "    df = convert_encode_desc(df, 'Biosample term name')\n",
    "    \n",
    "    # convert hyphenated cell line names\n",
    "    term_map = pd.read_csv(biosamp_map_file, sep='\\t',\n",
    "                           header=None, names=['eid', 'old_name', 'idk1', 'idk2', 'new_name'])\n",
    "    term_map = convert_encode_desc(term_map, 'old_name')\n",
    "    term_map = convert_encode_desc(term_map, 'new_name')\n",
    "    term_map = term_map[['old_name', 'new_name']]\n",
    "    term_map.drop_duplicates(inplace=True)\n",
    "    n1 = len(df.index)\n",
    "    # print(n1)\n",
    "    df = df.merge(term_map, how='left', left_on='Biosample term name', right_on='old_name')\n",
    "    n2 = len(df.index)\n",
    "    # print(n2)\n",
    "    if n1 != n2:\n",
    "        print('Duplicated thingies, check for DE samples')\n",
    "    df.rename({'Biosample term name': 'sample'}, axis=1, inplace=True)\n",
    "    df.loc[~df.new_name.isnull(), 'sample'] = df.loc[~df.new_name.isnull(), 'new_name']\n",
    "    \n",
    "    return df['sample'].unique().tolist()\n",
    "    \n",
    "    "
   ]
  },
  {
   "cell_type": "code",
   "execution_count": 6,
   "id": "b18abd95-974c-4090-9dba-a682398069a7",
   "metadata": {},
   "outputs": [
    {
     "data": {
      "text/plain": [
       "['mcf7',\n",
       " 'h1',\n",
       " 'k562',\n",
       " 'huvec',\n",
       " 'pc3',\n",
       " 'imr90',\n",
       " 'pgp1',\n",
       " 'ocily7',\n",
       " 'lung',\n",
       " 'liver',\n",
       " 'gm12878',\n",
       " 'hepg2',\n",
       " 'heart']"
      ]
     },
     "execution_count": 6,
     "metadata": {},
     "output_type": "execute_result"
    }
   ],
   "source": [
    "# get the samples that we have in cage and in LR\n",
    "cage_samples = get_sample_names_from_dl_meta(cage_meta, biosamp_name_map)\n",
    "rampage_samples = get_sample_names_from_dl_meta(rampage_meta, biosamp_name_map)\n",
    "tss_samples = set(cage_samples+rampage_samples)\n",
    "lr_samples = pd.read_csv(lib_meta, sep='\\t')['sample'].unique().tolist()\n",
    "tss_lr_samples = list(set(lr_samples)&set(tss_samples))\n",
    "tss_lr_samples"
   ]
  },
  {
   "cell_type": "code",
   "execution_count": 13,
   "id": "aa2ac079-58a0-450c-8c00-19d73ddbc0a4",
   "metadata": {},
   "outputs": [
    {
     "name": "stdout",
     "output_type": "stream",
     "text": [
      "Calculating tss TPM values\n",
      "Subsetting for ['mcf7', 'h1', 'k562', 'huvec', 'pc3', 'imr90', 'pgp1', 'ocily7', 'lung', 'liver', 'gm12878', 'hepg2', 'heart'] samples\n",
      "Subsetting for polya genes\n"
     ]
    },
    {
     "name": "stderr",
     "output_type": "stream",
     "text": [
      "/Users/fairliereese/Documents/programming/mortazavi_lab/data/paper_rnawg/scripts/utils.py:2104: PerformanceWarning: DataFrame is highly fragmented.  This is usually the result of calling `frame.insert` many times, which has poor performance.  Consider joining all columns at once using pd.concat(axis=1) instead.  To get a de-fragmented frame, use `newframe = frame.copy()`\n",
      "  df[tpm_col] = (df[d]*1000000)/df[total_col]\n",
      "/Users/fairliereese/Documents/programming/mortazavi_lab/data/paper_rnawg/scripts/utils.py:2103: PerformanceWarning: DataFrame is highly fragmented.  This is usually the result of calling `frame.insert` many times, which has poor performance.  Consider joining all columns at once using pd.concat(axis=1) instead.  To get a de-fragmented frame, use `newframe = frame.copy()`\n",
      "  df[total_col] = df[d].sum()\n"
     ]
    },
    {
     "name": "stdout",
     "output_type": "stream",
     "text": [
      "Enforcing minimum TPM\n",
      "Total # tsss detected: 76487\n",
      "# tsss >= 1 tpm: 53019\n",
      "Applying gene type and novelty subset\n",
      "Number of tsss reported: 51063\n",
      "153941\n",
      "51063\n",
      "     support  counts\n",
      "0      Known   43483\n",
      "1      Novel    4033\n",
      "2  Supported    3547\n",
      "14.84% (7580/51063) of tsss are novel\n",
      "46.79% (3547/7580) of novel tsss are supported\n",
      "\n"
     ]
    },
    {
     "data": {
      "image/png": "[encoded data removed]",
      "text/plain": [
       "<Figure size 216x216 with 1 Axes>"
      ]
     },
     "metadata": {
      "needs_background": "light"
     },
     "output_type": "display_data"
    }
   ],
   "source": [
    "feat = 'tss'\n",
    "ref_source = ['v29', 'v40']\n",
    "support_source = ['encode_cage', 'fantom_cage', 'encode_rampage', 'pls']\n",
    "\n",
    "plt.figure(figsize=(3,3))\n",
    "sns.set_context('paper', font_scale=2)\n",
    "mpl.rcParams['font.family'] = 'Arial'\n",
    "mpl.rcParams['pdf.fonttype'] = 42\n",
    "\n",
    "ax = plt.gca()\n",
    "\n",
    "plot_supported_feats_2(filt_ab=filt_ab,\n",
    "                     h5=cerberus_h5,\n",
    "                     feat=feat,\n",
    "                     ref_sources=ref_source,\n",
    "                     support_sources=support_source,\n",
    "                     how=feat,\n",
    "                     opref='figures/human',\n",
    "                     gene_subset=gene_subset,\n",
    "                     min_tpm=1,\n",
    "                     ax=ax,\n",
    "                     sample=tss_lr_samples)\n",
    "\n",
    "plt.subplots_adjust(wspace=0.35)\n",
    "# plt.savefig(ofile, dpi=500, layout='tight', bbox_inches='tight')"
   ]
  },
  {
   "cell_type": "code",
   "execution_count": 14,
   "id": "9ba2381c-74de-42c8-8997-2ac1187577e4",
   "metadata": {},
   "outputs": [
    {
     "data": {
      "text/plain": [
       "['h9_de',\n",
       " 'hct116',\n",
       " 'h1_de',\n",
       " 'pgp1_astro',\n",
       " 'hmec',\n",
       " 'pc9',\n",
       " 'hl60_m1_72hr',\n",
       " 'hl60_m2_24hr',\n",
       " 'hl60_m2_12hr',\n",
       " 'hl60_m2_72hr',\n",
       " 'brain',\n",
       " 'h9_osteocyte',\n",
       " 'pgp1_excite_neuron',\n",
       " 'caco2',\n",
       " 'hl60_m1_24hr',\n",
       " 'hl60_m0',\n",
       " 'muscle',\n",
       " 'h9_chondro',\n",
       " 'a673',\n",
       " 'h9',\n",
       " 'h9_panc_beta',\n",
       " 'hl60_m1_12hr',\n",
       " 'h9_panc_progen',\n",
       " 'pgp1_endo',\n",
       " 'h9_neural_crest',\n",
       " 'panc1',\n",
       " 'ovary',\n",
       " 'adipose',\n",
       " 'hffc6',\n",
       " 'wtc11',\n",
       " 'adrenal gland',\n",
       " 'hl60',\n",
       " 'colon',\n",
       " 'calu3',\n",
       " 'vessels',\n",
       " 'mcf10a',\n",
       " 'kidney']"
      ]
     },
     "execution_count": 14,
     "metadata": {},
     "output_type": "execute_result"
    }
   ],
   "source": [
    "# what about the inverse?\n",
    "# get the samples that we have in LR but NOT in cage\n",
    "cage_samples = get_sample_names_from_dl_meta(cage_meta, biosamp_name_map)\n",
    "rampage_samples = get_sample_names_from_dl_meta(rampage_meta, biosamp_name_map)\n",
    "tss_samples = set(cage_samples+rampage_samples)\n",
    "lr_samples = pd.read_csv(lib_meta, sep='\\t')['sample'].unique().tolist()\n",
    "tss_lr_samples = list(set(lr_samples)-set(tss_samples))\n",
    "tss_lr_samples"
   ]
  },
  {
   "cell_type": "code",
   "execution_count": 15,
   "id": "15011c8b-1295-4579-aac1-e79cb80e865d",
   "metadata": {},
   "outputs": [
    {
     "name": "stdout",
     "output_type": "stream",
     "text": [
      "Calculating tss TPM values\n",
      "Subsetting for ['h9_de', 'hct116', 'h1_de', 'pgp1_astro', 'hmec', 'pc9', 'hl60_m1_72hr', 'hl60_m2_24hr', 'hl60_m2_12hr', 'hl60_m2_72hr', 'brain', 'h9_osteocyte', 'pgp1_excite_neuron', 'caco2', 'hl60_m1_24hr', 'hl60_m0', 'muscle', 'h9_chondro', 'a673', 'h9', 'h9_panc_beta', 'hl60_m1_12hr', 'h9_panc_progen', 'pgp1_endo', 'h9_neural_crest', 'panc1', 'ovary', 'adipose', 'hffc6', 'wtc11', 'adrenal gland', 'hl60', 'colon', 'calu3', 'vessels', 'mcf10a', 'kidney'] samples\n",
      "Subsetting for polya genes\n"
     ]
    },
    {
     "name": "stderr",
     "output_type": "stream",
     "text": [
      "/Users/fairliereese/Documents/programming/mortazavi_lab/data/paper_rnawg/scripts/utils.py:2104: PerformanceWarning: DataFrame is highly fragmented.  This is usually the result of calling `frame.insert` many times, which has poor performance.  Consider joining all columns at once using pd.concat(axis=1) instead.  To get a de-fragmented frame, use `newframe = frame.copy()`\n",
      "  df[tpm_col] = (df[d]*1000000)/df[total_col]\n",
      "/Users/fairliereese/Documents/programming/mortazavi_lab/data/paper_rnawg/scripts/utils.py:2103: PerformanceWarning: DataFrame is highly fragmented.  This is usually the result of calling `frame.insert` many times, which has poor performance.  Consider joining all columns at once using pd.concat(axis=1) instead.  To get a de-fragmented frame, use `newframe = frame.copy()`\n",
      "  df[total_col] = df[d].sum()\n"
     ]
    },
    {
     "name": "stdout",
     "output_type": "stream",
     "text": [
      "Enforcing minimum TPM\n",
      "Total # tsss detected: 76487\n",
      "# tsss >= 1 tpm: 60673\n",
      "Applying gene type and novelty subset\n",
      "Number of tsss reported: 58268\n",
      "153941\n",
      "58268\n",
      "     support  counts\n",
      "0      Known   48639\n",
      "1      Novel    5106\n",
      "2  Supported    4523\n",
      "16.53% (9629/58268) of tsss are novel\n",
      "46.97% (4523/9629) of novel tsss are supported\n",
      "\n"
     ]
    },
    {
     "data": {
      "image/png": "[encoded data removed]",
      "text/plain": [
       "<Figure size 216x216 with 1 Axes>"
      ]
     },
     "metadata": {
      "needs_background": "light"
     },
     "output_type": "display_data"
    }
   ],
   "source": [
    "feat = 'tss'\n",
    "ref_source = ['v29', 'v40']\n",
    "support_source = ['encode_cage', 'fantom_cage', 'encode_rampage', 'pls']\n",
    "\n",
    "plt.figure(figsize=(3,3))\n",
    "sns.set_context('paper', font_scale=2)\n",
    "mpl.rcParams['font.family'] = 'Arial'\n",
    "mpl.rcParams['pdf.fonttype'] = 42\n",
    "\n",
    "ax = plt.gca()\n",
    "\n",
    "plot_supported_feats_2(filt_ab=filt_ab,\n",
    "                     h5=cerberus_h5,\n",
    "                     feat=feat,\n",
    "                     ref_sources=ref_source,\n",
    "                     support_sources=support_source,\n",
    "                     how=feat,\n",
    "                     opref='figures/human',\n",
    "                     gene_subset=gene_subset,\n",
    "                     min_tpm=1,\n",
    "                     ax=ax,\n",
    "                     sample=tss_lr_samples)\n",
    "\n",
    "plt.subplots_adjust(wspace=0.35)\n",
    "# plt.savefig(ofile, dpi=500, layout='tight', bbox_inches='tight')"
   ]
  },
  {
   "cell_type": "code",
   "execution_count": 1,
   "id": "b78a7b63-c4b1-4808-bea1-b4ae95a37b3e",
   "metadata": {},
   "outputs": [],
   "source": [
    "# def get_feat_support(filt_ab,\n",
    "#                      h5, \n",
    "#                      feat, \n",
    "#                      ref_sources,\n",
    "#                      support_sources,\n",
    "#                      **kwargs):\n",
    "    \n",
    "#     # get detected features\n",
    "#     df = pd.read_csv(filt_ab, sep='\\t')\n",
    "#     df, ids = get_tpm_table(df, **kwargs)\n",
    "\n",
    "#     # get these features from cerberus\n",
    "#     ca = cerberus.read(h5)\n",
    "#     if feat == 'tss':\n",
    "#         ca_df = ca.tss\n",
    "#     elif feat == 'tes':\n",
    "#         ca_df = ca.tes\n",
    "#     elif feat == 'ic':\n",
    "#         ca_df = ca.ic\n",
    "#     print(len(ca_df.index))\n",
    "#     df = ca_df.loc[ca_df.Name.isin(ids)]\n",
    "#     print(len(df.index))\n",
    "\n",
    "\n",
    "#     # get T/F detection of each feat by each source\n",
    "#     df = upsetplot.from_memberships(df.source.str.split(','), data=df)\n",
    "#     df.reset_index(inplace=True)\n",
    "\n",
    "#     # which sources are observed, which are supported, and which are known\n",
    "#     sources = ca.get_sources(df)\n",
    "\n",
    "#     df['support'] = 'Novel'\n",
    "#     if support_sources:\n",
    "#         df.loc[df[support_sources].any(axis=1), 'support'] = 'Supported'\n",
    "#     df.loc[df[ref_sources].any(axis=1), 'support'] = 'Known'\n",
    "#     df = df[['Name', 'support']]\n",
    "    \n",
    "#     return df\n",
    "    \n",
    "# def plot_end_support_by_ic_novelty(filt_ab, \n",
    "#                                    h5,\n",
    "#                                    feat,\n",
    "#                                    ref_sources,\n",
    "#                                    support_sources,\n",
    "#                                    min_tpm,\n",
    "#                                    gene_subset,\n",
    "#                                    ofile,\n",
    "#                                    **kwargs):\n",
    "#     end_df = get_feat_support(filt_ab,\n",
    "#                               h5, \n",
    "#                               feat, \n",
    "#                               ref_sources,\n",
    "#                               support_sources,\n",
    "#                               min_tpm=min_tpm,\n",
    "#                               gene_subset=gene_subset,\n",
    "#                               how=feat)\n",
    "    \n",
    "#     # get df of transcripts that pass filtering too\n",
    "#     ab_df = pd.read_csv(filt_ab, sep='\\t')\n",
    "#     ca = cerberus.read(h5)\n",
    "#     t_df, ids = get_tpm_table(ab_df,\n",
    "#                             gene_subset=gene_subset,\n",
    "#                             min_tpm=1,\n",
    "#                             how='iso',\n",
    "#                             **kwargs)\n",
    "#     t_df = add_feat(t_df, kind=feat, col='index')\n",
    "#     t_df = add_feat(t_df, kind='ic', col='index')\n",
    "#     t_df = t_df.merge(ca.ic[['Name', 'novelty']], how='left', left_on='ic', right_on='Name')\n",
    "    \n",
    "#     # merge on support info\n",
    "#     t_df = t_df.merge(end_df, how='left', left_on=feat, right_on='Name')    \n",
    "    \n",
    "    \n",
    "#     temp = t_df[['novelty', 'support']]\n",
    "#     temp.reset_index(inplace=True)\n",
    "#     temp = temp.groupby(['novelty', 'support']).count().reset_index().rename({'index':'n_transcripts'}, axis=1)\n",
    "    \n",
    "#     # remove known things\n",
    "#     temp = temp.loc[temp.support.isin(['Novel', 'Supported'])]\n",
    "    \n",
    "#     temp2 = temp[['novelty', 'n_transcripts']].groupby('novelty').sum().reset_index()\n",
    "    \n",
    "#     temp2.rename({'n_transcripts':'n_total_transcripts'}, axis=1, inplace=True)\n",
    "#     temp = temp.merge(temp2, how='left', on='novelty')\n",
    "#     temp['perc'] = (temp['n_transcripts']/temp['n_total_transcripts'])*100\n",
    "\n",
    "\n",
    "#     # sns.barplot(data=temp, x='novelty', y='n_transcripts', hue='support')\n",
    "#     sns.barplot(data=temp, x='novelty', y='perc', hue='support')\n",
    "    \n",
    "#     plt.savefig(ofile, dpi=500)\n",
    "    \n"
   ]
  },
  {
   "cell_type": "code",
   "execution_count": null,
   "id": "4a9adebb-51da-48f5-9bce-6a6312e567a9",
   "metadata": {},
   "outputs": [],
   "source": []
  },
  {
   "cell_type": "code",
   "execution_count": 29,
   "id": "fd996be2-10bd-4b5e-b4c5-1182b92de141",
   "metadata": {},
   "outputs": [
    {
     "name": "stdout",
     "output_type": "stream",
     "text": [
      "Calculating tss TPM values\n",
      "Subsetting for polya genes\n",
      "Enforcing minimum TPM\n",
      "Total # tsss detected: 76487\n",
      "# tsss >= 1 tpm: 67730\n",
      "Applying gene type and novelty subset\n",
      "Number of tsss reported: 64664\n",
      "153941\n",
      "64664\n",
      "Calculating iso TPM values\n",
      "Subsetting for polya genes\n",
      "Enforcing minimum TPM\n",
      "Total # isos detected: 231136\n",
      "# isos >= 1 tpm: 210239\n",
      "Applying gene type and novelty subset\n",
      "Number of isos reported: 206806\n"
     ]
    },
    {
     "data": {
      "image/png": "[encoded data removed]",
      "text/plain": [
       "<Figure size 432x288 with 1 Axes>"
      ]
     },
     "metadata": {
      "needs_background": "light"
     },
     "output_type": "display_data"
    }
   ],
   "source": [
    "## What does TSS support look like for transcripts w/ ECs of different novelty?\n",
    "feat = 'tss'\n",
    "ref_sources = ['v29', 'v40']\n",
    "support_sources = ['encode_cage', 'fantom_cage', 'encode_rampage', 'gtex']\n",
    "plot_end_support_by_ic_novelty(filt_ab, \n",
    "                               cerberus_h5,\n",
    "                               feat,\n",
    "                               ref_sources,\n",
    "                               support_sources,\n",
    "                               min_tpm,\n",
    "                               gene_subset)\n",
    "\n"
   ]
  },
  {
   "cell_type": "code",
   "execution_count": 30,
   "id": "6a42d0c3-533e-4515-b263-c44fb08e083e",
   "metadata": {},
   "outputs": [
    {
     "name": "stdout",
     "output_type": "stream",
     "text": [
      "Calculating tes TPM values\n",
      "Subsetting for polya genes\n"
     ]
    },
    {
     "name": "stderr",
     "output_type": "stream",
     "text": [
      "/Users/fairliereese/Documents/programming/mortazavi_lab/data/paper_rnawg/scripts/utils.py:2104: PerformanceWarning: DataFrame is highly fragmented.  This is usually the result of calling `frame.insert` many times, which has poor performance.  Consider joining all columns at once using pd.concat(axis=1) instead.  To get a de-fragmented frame, use `newframe = frame.copy()`\n",
      "  df[tpm_col] = (df[d]*1000000)/df[total_col]\n",
      "/Users/fairliereese/Documents/programming/mortazavi_lab/data/paper_rnawg/scripts/utils.py:2103: PerformanceWarning: DataFrame is highly fragmented.  This is usually the result of calling `frame.insert` many times, which has poor performance.  Consider joining all columns at once using pd.concat(axis=1) instead.  To get a de-fragmented frame, use `newframe = frame.copy()`\n",
      "  df[total_col] = df[d].sum()\n"
     ]
    },
    {
     "name": "stdout",
     "output_type": "stream",
     "text": [
      "Enforcing minimum TPM\n",
      "Total # tess detected: 87670\n",
      "# tess >= 1 tpm: 77369\n",
      "Applying gene type and novelty subset\n",
      "Number of tess reported: 74318\n",
      "186735\n",
      "74318\n",
      "Calculating iso TPM values\n",
      "Subsetting for polya genes\n",
      "Enforcing minimum TPM\n",
      "Total # isos detected: 231136\n",
      "# isos >= 1 tpm: 210239\n",
      "Applying gene type and novelty subset\n",
      "Number of isos reported: 206806\n"
     ]
    },
    {
     "data": {
      "image/png": "[encoded data removed]",
      "text/plain": [
       "<Figure size 432x288 with 1 Axes>"
      ]
     },
     "metadata": {
      "needs_background": "light"
     },
     "output_type": "display_data"
    }
   ],
   "source": [
    "feat = 'tes'\n",
    "ref_sources = ['v29', 'v40']\n",
    "support_sources = ['pas', 'polya_atlas', 'gtex']\n",
    "plot_end_support_by_ic_novelty(filt_ab, \n",
    "                               cerberus_h5,\n",
    "                               feat,\n",
    "                               ref_sources,\n",
    "                               support_sources,\n",
    "                               min_tpm,\n",
    "                               gene_subset)"
   ]
  },
  {
   "cell_type": "code",
   "execution_count": 11,
   "id": "3517580b-e2cc-4de9-bc7d-86b9f98ae557",
   "metadata": {},
   "outputs": [],
   "source": [
    "ca = cerberus.read(ca_plus)"
   ]
  },
  {
   "cell_type": "code",
   "execution_count": 13,
   "id": "0a3cba90-8fa8-4ae3-a8c7-8ec04bd20ba2",
   "metadata": {},
   "outputs": [
    {
     "name": "stdout",
     "output_type": "stream",
     "text": [
      "Calculating tss TPM values\n",
      "Subsetting for polya genes\n"
     ]
    },
    {
     "name": "stderr",
     "output_type": "stream",
     "text": [
      "/Users/fairliereese/Documents/programming/mortazavi_lab/data/paper_rnawg/scripts/utils.py:2106: PerformanceWarning: DataFrame is highly fragmented.  This is usually the result of calling `frame.insert` many times, which has poor performance.  Consider joining all columns at once using pd.concat(axis=1) instead.  To get a de-fragmented frame, use `newframe = frame.copy()`\n",
      "  df[tpm_col] = (df[d]*1000000)/df[total_col]\n",
      "/Users/fairliereese/Documents/programming/mortazavi_lab/data/paper_rnawg/scripts/utils.py:2105: PerformanceWarning: DataFrame is highly fragmented.  This is usually the result of calling `frame.insert` many times, which has poor performance.  Consider joining all columns at once using pd.concat(axis=1) instead.  To get a de-fragmented frame, use `newframe = frame.copy()`\n",
      "  df[total_col] = df[d].sum()\n"
     ]
    },
    {
     "name": "stdout",
     "output_type": "stream",
     "text": [
      "Enforcing minimum TPM\n",
      "Total # tsss detected: 76487\n",
      "# tsss >= 1 tpm: 67730\n",
      "Applying gene type and novelty subset\n",
      "Number of tsss reported: 64664\n",
      "153941\n",
      "64664\n",
      "Calculating iso TPM values\n",
      "Subsetting for ['wtc11'] samples\n",
      "Subsetting for polya genes\n",
      "Enforcing minimum TPM\n",
      "Total # isos detected: 231136\n",
      "# isos >= 1 tpm: 64113\n",
      "Applying gene type and novelty subset\n",
      "Number of isos reported: 63926\n"
     ]
    },
    {
     "data": {
      "image/png": "[encoded data removed]",
      "text/plain": [
       "<Figure size 432x288 with 1 Axes>"
      ]
     },
     "metadata": {
      "needs_background": "light"
     },
     "output_type": "display_data"
    }
   ],
   "source": [
    "# what about tss support just in wtc11? (just by the corresponding cage\n",
    "# and gencode)\n",
    "feat = 'tss'\n",
    "ref_sources = ['v29', 'v40']\n",
    "wtc11 = [s for s in ca.tss_sources if 'wtc11' in s]\n",
    "support_sources = []+wtc11\n",
    "plot_end_support_by_ic_novelty(filt_ab, \n",
    "                               ca_plus,\n",
    "                               feat,\n",
    "                               ref_sources,\n",
    "                               support_sources,\n",
    "                               min_tpm,\n",
    "                               gene_subset,\n",
    "                               sample=['wtc11'])\n"
   ]
  },
  {
   "cell_type": "code",
   "execution_count": 14,
   "id": "07331053-769c-47d9-8efd-13d59d7ffe93",
   "metadata": {},
   "outputs": [
    {
     "name": "stdout",
     "output_type": "stream",
     "text": [
      "Calculating tss TPM values\n",
      "Subsetting for polya genes\n"
     ]
    },
    {
     "name": "stderr",
     "output_type": "stream",
     "text": [
      "/Users/fairliereese/Documents/programming/mortazavi_lab/data/paper_rnawg/scripts/utils.py:2106: PerformanceWarning: DataFrame is highly fragmented.  This is usually the result of calling `frame.insert` many times, which has poor performance.  Consider joining all columns at once using pd.concat(axis=1) instead.  To get a de-fragmented frame, use `newframe = frame.copy()`\n",
      "  df[tpm_col] = (df[d]*1000000)/df[total_col]\n",
      "/Users/fairliereese/Documents/programming/mortazavi_lab/data/paper_rnawg/scripts/utils.py:2105: PerformanceWarning: DataFrame is highly fragmented.  This is usually the result of calling `frame.insert` many times, which has poor performance.  Consider joining all columns at once using pd.concat(axis=1) instead.  To get a de-fragmented frame, use `newframe = frame.copy()`\n",
      "  df[total_col] = df[d].sum()\n"
     ]
    },
    {
     "name": "stdout",
     "output_type": "stream",
     "text": [
      "Enforcing minimum TPM\n",
      "Total # tsss detected: 76487\n",
      "# tsss >= 1 tpm: 67730\n",
      "Applying gene type and novelty subset\n",
      "Number of tsss reported: 64664\n",
      "153941\n",
      "64664\n",
      "Calculating iso TPM values\n",
      "Subsetting for ['wtc11'] samples\n",
      "Subsetting for polya genes\n",
      "Enforcing minimum TPM\n",
      "Total # isos detected: 231136\n",
      "# isos >= 1 tpm: 64113\n",
      "Applying gene type and novelty subset\n",
      "Number of isos reported: 63926\n"
     ]
    },
    {
     "data": {
      "image/png": "[encoded data removed]",
      "text/plain": [
       "<Figure size 432x288 with 1 Axes>"
      ]
     },
     "metadata": {
      "needs_background": "light"
     },
     "output_type": "display_data"
    }
   ],
   "source": [
    "# what about tss support just in wtc11? (by all external supports used \n",
    "# before + wtc11 cage)\n",
    "feat = 'tss'\n",
    "ref_sources = ['v29', 'v40']\n",
    "wtc11 = [s for s in ca.tss_sources if 'wtc11' in s]\n",
    "support_sources = ['encode_cage', 'fantom_cage', 'encode_rampage', 'gtex', 'pls']+wtc11\n",
    "plot_end_support_by_ic_novelty(filt_ab, \n",
    "                               ca_plus,\n",
    "                               feat,\n",
    "                               ref_sources,\n",
    "                               support_sources,\n",
    "                               min_tpm,\n",
    "                               gene_subset,\n",
    "                               sample=['wtc11'])\n"
   ]
  },
  {
   "cell_type": "code",
   "execution_count": 38,
   "id": "c2fbbaea-4f40-4743-8485-182ea0262be1",
   "metadata": {},
   "outputs": [
    {
     "name": "stdout",
     "output_type": "stream",
     "text": [
      "Calculating iso TPM values\n",
      "Subsetting for polya genes\n",
      "Enforcing minimum TPM\n",
      "Total # isos detected: 231136\n",
      "# isos >= 1 tpm: 210239\n",
      "Applying gene type and novelty subset\n",
      "Number of isos reported: 206806\n"
     ]
    }
   ],
   "source": [
    "# # get df of transcripts that pass filtering too\n",
    "# ab_df = pd.read_csv(filt_ab, sep='\\t')\n",
    "# t_df, ids = get_tpm_table(ab_df,\n",
    "#                         gene_subset=gene_subset,\n",
    "#                         min_tpm=1,\n",
    "#                         how='iso')"
   ]
  },
  {
   "cell_type": "code",
   "execution_count": 45,
   "id": "bb7545a5-66dd-4e0b-90a9-52941d86bb0d",
   "metadata": {},
   "outputs": [],
   "source": [
    "# t_df = add_feat(t_df, kind='tss', col='index')\n",
    "# t_df = add_feat(t_df, kind='ic', col='index')\n",
    "# t_df = t_df.merge(ca.ic[['Name', 'novelty']], how='left', left_on='ic', right_on='Name')"
   ]
  },
  {
   "cell_type": "code",
   "execution_count": 46,
   "id": "14ef9bfb-5008-493d-88f6-61f0a4cd0803",
   "metadata": {},
   "outputs": [
    {
     "data": {
      "text/html": [
       "<div>\n",
       "<style scoped>\n",
       "    .dataframe tbody tr th:only-of-type {\n",
       "        vertical-align: middle;\n",
       "    }\n",
       "\n",
       "    .dataframe tbody tr th {\n",
       "        vertical-align: top;\n",
       "    }\n",
       "\n",
       "    .dataframe thead th {\n",
       "        text-align: right;\n",
       "    }\n",
       "</style>\n",
       "<table border=\"1\" class=\"dataframe\">\n",
       "  <thead>\n",
       "    <tr style=\"text-align: right;\">\n",
       "      <th></th>\n",
       "      <th>a673_1_1</th>\n",
       "      <th>a673_1_2</th>\n",
       "      <th>adrenal_gland_1_1</th>\n",
       "      <th>adrenal_gland_2_1</th>\n",
       "      <th>adrenal_gland_3_1</th>\n",
       "      <th>aorta_1_1</th>\n",
       "      <th>aorta_2_1</th>\n",
       "      <th>brodmann_area_46_1_1</th>\n",
       "      <th>brodmann_area_46_2_1</th>\n",
       "      <th>brodmann_area_46_3_1</th>\n",
       "      <th>...</th>\n",
       "      <th>right_ventricle_myocardium_inferior_1_1</th>\n",
       "      <th>right_ventricle_myocardium_superior_1_1</th>\n",
       "      <th>upper_lobe_of_right_lung_1_1</th>\n",
       "      <th>wtc11_1_1</th>\n",
       "      <th>wtc11_1_2</th>\n",
       "      <th>wtc11_1_3</th>\n",
       "      <th>tss</th>\n",
       "      <th>ic</th>\n",
       "      <th>Name</th>\n",
       "      <th>novelty</th>\n",
       "    </tr>\n",
       "  </thead>\n",
       "  <tbody>\n",
       "    <tr>\n",
       "      <th>0</th>\n",
       "      <td>0.0</td>\n",
       "      <td>0.834033</td>\n",
       "      <td>0.0</td>\n",
       "      <td>0.784424</td>\n",
       "      <td>0.0</td>\n",
       "      <td>0.806143</td>\n",
       "      <td>3.184764</td>\n",
       "      <td>0.0</td>\n",
       "      <td>4.028859</td>\n",
       "      <td>2.030242</td>\n",
       "      <td>...</td>\n",
       "      <td>0.000000</td>\n",
       "      <td>0.000000</td>\n",
       "      <td>0.000000</td>\n",
       "      <td>0.000000</td>\n",
       "      <td>0.000000</td>\n",
       "      <td>0.000000</td>\n",
       "      <td>ENSG00000227232_1</td>\n",
       "      <td>ENSG00000227232_2</td>\n",
       "      <td>ENSG00000227232_2</td>\n",
       "      <td>NNC</td>\n",
       "    </tr>\n",
       "    <tr>\n",
       "      <th>1</th>\n",
       "      <td>0.0</td>\n",
       "      <td>0.000000</td>\n",
       "      <td>0.0</td>\n",
       "      <td>0.000000</td>\n",
       "      <td>0.0</td>\n",
       "      <td>0.806143</td>\n",
       "      <td>3.184764</td>\n",
       "      <td>0.0</td>\n",
       "      <td>3.021644</td>\n",
       "      <td>0.000000</td>\n",
       "      <td>...</td>\n",
       "      <td>0.000000</td>\n",
       "      <td>0.808313</td>\n",
       "      <td>1.082538</td>\n",
       "      <td>0.000000</td>\n",
       "      <td>0.959934</td>\n",
       "      <td>1.370045</td>\n",
       "      <td>ENSG00000227232_1</td>\n",
       "      <td>ENSG00000227232_3</td>\n",
       "      <td>ENSG00000227232_3</td>\n",
       "      <td>NNC</td>\n",
       "    </tr>\n",
       "    <tr>\n",
       "      <th>2</th>\n",
       "      <td>0.0</td>\n",
       "      <td>0.000000</td>\n",
       "      <td>0.0</td>\n",
       "      <td>0.000000</td>\n",
       "      <td>0.0</td>\n",
       "      <td>0.000000</td>\n",
       "      <td>0.000000</td>\n",
       "      <td>0.0</td>\n",
       "      <td>3.021644</td>\n",
       "      <td>0.000000</td>\n",
       "      <td>...</td>\n",
       "      <td>0.000000</td>\n",
       "      <td>0.000000</td>\n",
       "      <td>0.000000</td>\n",
       "      <td>0.000000</td>\n",
       "      <td>0.959934</td>\n",
       "      <td>0.000000</td>\n",
       "      <td>ENSG00000227232_1</td>\n",
       "      <td>ENSG00000227232_4</td>\n",
       "      <td>ENSG00000227232_4</td>\n",
       "      <td>NNC</td>\n",
       "    </tr>\n",
       "    <tr>\n",
       "      <th>3</th>\n",
       "      <td>0.0</td>\n",
       "      <td>0.000000</td>\n",
       "      <td>0.0</td>\n",
       "      <td>0.784424</td>\n",
       "      <td>0.0</td>\n",
       "      <td>1.612287</td>\n",
       "      <td>6.369528</td>\n",
       "      <td>0.0</td>\n",
       "      <td>5.036073</td>\n",
       "      <td>0.000000</td>\n",
       "      <td>...</td>\n",
       "      <td>1.989749</td>\n",
       "      <td>3.233253</td>\n",
       "      <td>1.082538</td>\n",
       "      <td>0.564576</td>\n",
       "      <td>0.959934</td>\n",
       "      <td>0.456682</td>\n",
       "      <td>ENSG00000227232_1</td>\n",
       "      <td>ENSG00000227232_5</td>\n",
       "      <td>ENSG00000227232_5</td>\n",
       "      <td>NNC</td>\n",
       "    </tr>\n",
       "    <tr>\n",
       "      <th>4</th>\n",
       "      <td>0.0</td>\n",
       "      <td>0.000000</td>\n",
       "      <td>0.0</td>\n",
       "      <td>0.000000</td>\n",
       "      <td>0.0</td>\n",
       "      <td>0.000000</td>\n",
       "      <td>0.000000</td>\n",
       "      <td>0.0</td>\n",
       "      <td>0.000000</td>\n",
       "      <td>0.000000</td>\n",
       "      <td>...</td>\n",
       "      <td>0.000000</td>\n",
       "      <td>0.000000</td>\n",
       "      <td>1.082538</td>\n",
       "      <td>0.000000</td>\n",
       "      <td>0.000000</td>\n",
       "      <td>0.000000</td>\n",
       "      <td>ENSG00000227232_2</td>\n",
       "      <td>ENSG00000227232_3</td>\n",
       "      <td>ENSG00000227232_3</td>\n",
       "      <td>NNC</td>\n",
       "    </tr>\n",
       "  </tbody>\n",
       "</table>\n",
       "<p>5 rows × 142 columns</p>\n",
       "</div>"
      ],
      "text/plain": [
       "   a673_1_1  a673_1_2  adrenal_gland_1_1  adrenal_gland_2_1  \\\n",
       "0       0.0  0.834033                0.0           0.784424   \n",
       "1       0.0  0.000000                0.0           0.000000   \n",
       "2       0.0  0.000000                0.0           0.000000   \n",
       "3       0.0  0.000000                0.0           0.784424   \n",
       "4       0.0  0.000000                0.0           0.000000   \n",
       "\n",
       "   adrenal_gland_3_1  aorta_1_1  aorta_2_1  brodmann_area_46_1_1  \\\n",
       "0                0.0   0.806143   3.184764                   0.0   \n",
       "1                0.0   0.806143   3.184764                   0.0   \n",
       "2                0.0   0.000000   0.000000                   0.0   \n",
       "3                0.0   1.612287   6.369528                   0.0   \n",
       "4                0.0   0.000000   0.000000                   0.0   \n",
       "\n",
       "   brodmann_area_46_2_1  brodmann_area_46_3_1  ...  \\\n",
       "0              4.028859              2.030242  ...   \n",
       "1              3.021644              0.000000  ...   \n",
       "2              3.021644              0.000000  ...   \n",
       "3              5.036073              0.000000  ...   \n",
       "4              0.000000              0.000000  ...   \n",
       "\n",
       "   right_ventricle_myocardium_inferior_1_1  \\\n",
       "0                                 0.000000   \n",
       "1                                 0.000000   \n",
       "2                                 0.000000   \n",
       "3                                 1.989749   \n",
       "4                                 0.000000   \n",
       "\n",
       "   right_ventricle_myocardium_superior_1_1  upper_lobe_of_right_lung_1_1  \\\n",
       "0                                 0.000000                      0.000000   \n",
       "1                                 0.808313                      1.082538   \n",
       "2                                 0.000000                      0.000000   \n",
       "3                                 3.233253                      1.082538   \n",
       "4                                 0.000000                      1.082538   \n",
       "\n",
       "   wtc11_1_1  wtc11_1_2  wtc11_1_3                tss                 ic  \\\n",
       "0   0.000000   0.000000   0.000000  ENSG00000227232_1  ENSG00000227232_2   \n",
       "1   0.000000   0.959934   1.370045  ENSG00000227232_1  ENSG00000227232_3   \n",
       "2   0.000000   0.959934   0.000000  ENSG00000227232_1  ENSG00000227232_4   \n",
       "3   0.564576   0.959934   0.456682  ENSG00000227232_1  ENSG00000227232_5   \n",
       "4   0.000000   0.000000   0.000000  ENSG00000227232_2  ENSG00000227232_3   \n",
       "\n",
       "                Name  novelty  \n",
       "0  ENSG00000227232_2      NNC  \n",
       "1  ENSG00000227232_3      NNC  \n",
       "2  ENSG00000227232_4      NNC  \n",
       "3  ENSG00000227232_5      NNC  \n",
       "4  ENSG00000227232_3      NNC  \n",
       "\n",
       "[5 rows x 142 columns]"
      ]
     },
     "execution_count": 46,
     "metadata": {},
     "output_type": "execute_result"
    }
   ],
   "source": [
    "t_df.head()"
   ]
  },
  {
   "cell_type": "code",
   "execution_count": 41,
   "id": "d1f3f867-a817-4f16-be81-23a854258ed4",
   "metadata": {},
   "outputs": [
    {
     "data": {
      "text/plain": [
       "array(['Known', 'Supported', 'Novel'], dtype=object)"
      ]
     },
     "execution_count": 41,
     "metadata": {},
     "output_type": "execute_result"
    }
   ],
   "source": [
    "df.support.unique()"
   ]
  },
  {
   "cell_type": "code",
   "execution_count": 42,
   "id": "42f84885-5437-4804-9d3c-fd2c46706072",
   "metadata": {},
   "outputs": [
    {
     "data": {
      "text/html": [
       "<div>\n",
       "<style scoped>\n",
       "    .dataframe tbody tr th:only-of-type {\n",
       "        vertical-align: middle;\n",
       "    }\n",
       "\n",
       "    .dataframe tbody tr th {\n",
       "        vertical-align: top;\n",
       "    }\n",
       "\n",
       "    .dataframe thead th {\n",
       "        text-align: right;\n",
       "    }\n",
       "</style>\n",
       "<table border=\"1\" class=\"dataframe\">\n",
       "  <thead>\n",
       "    <tr style=\"text-align: right;\">\n",
       "      <th></th>\n",
       "      <th>Name</th>\n",
       "      <th>support</th>\n",
       "    </tr>\n",
       "  </thead>\n",
       "  <tbody>\n",
       "    <tr>\n",
       "      <th>0</th>\n",
       "      <td>ENSG00000000460_1</td>\n",
       "      <td>Known</td>\n",
       "    </tr>\n",
       "    <tr>\n",
       "      <th>1</th>\n",
       "      <td>ENSG00000000460_2</td>\n",
       "      <td>Known</td>\n",
       "    </tr>\n",
       "    <tr>\n",
       "      <th>2</th>\n",
       "      <td>ENSG00000000460_3</td>\n",
       "      <td>Known</td>\n",
       "    </tr>\n",
       "    <tr>\n",
       "      <th>3</th>\n",
       "      <td>ENSG00000000971_1</td>\n",
       "      <td>Known</td>\n",
       "    </tr>\n",
       "    <tr>\n",
       "      <th>4</th>\n",
       "      <td>ENSG00000000971_3</td>\n",
       "      <td>Known</td>\n",
       "    </tr>\n",
       "  </tbody>\n",
       "</table>\n",
       "</div>"
      ],
      "text/plain": [
       "                Name support\n",
       "0  ENSG00000000460_1   Known\n",
       "1  ENSG00000000460_2   Known\n",
       "2  ENSG00000000460_3   Known\n",
       "3  ENSG00000000971_1   Known\n",
       "4  ENSG00000000971_3   Known"
      ]
     },
     "execution_count": 42,
     "metadata": {},
     "output_type": "execute_result"
    }
   ],
   "source": [
    "df.head()"
   ]
  },
  {
   "cell_type": "code",
   "execution_count": 43,
   "id": "ea4d0fd4-1302-4cc0-8446-d7d6a6f21b11",
   "metadata": {},
   "outputs": [
    {
     "data": {
      "text/html": [
       "<div>\n",
       "<style scoped>\n",
       "    .dataframe tbody tr th:only-of-type {\n",
       "        vertical-align: middle;\n",
       "    }\n",
       "\n",
       "    .dataframe tbody tr th {\n",
       "        vertical-align: top;\n",
       "    }\n",
       "\n",
       "    .dataframe thead th {\n",
       "        text-align: right;\n",
       "    }\n",
       "</style>\n",
       "<table border=\"1\" class=\"dataframe\">\n",
       "  <thead>\n",
       "    <tr style=\"text-align: right;\">\n",
       "      <th></th>\n",
       "      <th>a673_1_1</th>\n",
       "      <th>a673_1_2</th>\n",
       "      <th>adrenal_gland_1_1</th>\n",
       "      <th>adrenal_gland_2_1</th>\n",
       "      <th>adrenal_gland_3_1</th>\n",
       "      <th>aorta_1_1</th>\n",
       "      <th>aorta_2_1</th>\n",
       "      <th>brodmann_area_46_1_1</th>\n",
       "      <th>brodmann_area_46_2_1</th>\n",
       "      <th>brodmann_area_46_3_1</th>\n",
       "      <th>...</th>\n",
       "      <th>right_lobe_of_liver_1_1</th>\n",
       "      <th>right_lobe_of_liver_2_1</th>\n",
       "      <th>right_ventricle_myocardium_inferior_1_1</th>\n",
       "      <th>right_ventricle_myocardium_superior_1_1</th>\n",
       "      <th>upper_lobe_of_right_lung_1_1</th>\n",
       "      <th>wtc11_1_1</th>\n",
       "      <th>wtc11_1_2</th>\n",
       "      <th>wtc11_1_3</th>\n",
       "      <th>tss</th>\n",
       "      <th>ic</th>\n",
       "    </tr>\n",
       "    <tr>\n",
       "      <th>annot_transcript_id</th>\n",
       "      <th></th>\n",
       "      <th></th>\n",
       "      <th></th>\n",
       "      <th></th>\n",
       "      <th></th>\n",
       "      <th></th>\n",
       "      <th></th>\n",
       "      <th></th>\n",
       "      <th></th>\n",
       "      <th></th>\n",
       "      <th></th>\n",
       "      <th></th>\n",
       "      <th></th>\n",
       "      <th></th>\n",
       "      <th></th>\n",
       "      <th></th>\n",
       "      <th></th>\n",
       "      <th></th>\n",
       "      <th></th>\n",
       "      <th></th>\n",
       "      <th></th>\n",
       "    </tr>\n",
       "  </thead>\n",
       "  <tbody>\n",
       "    <tr>\n",
       "      <th>ENSG00000227232[1,2,1]</th>\n",
       "      <td>0.0</td>\n",
       "      <td>0.834033</td>\n",
       "      <td>0.0</td>\n",
       "      <td>0.784424</td>\n",
       "      <td>0.0</td>\n",
       "      <td>0.806143</td>\n",
       "      <td>3.184764</td>\n",
       "      <td>0.0</td>\n",
       "      <td>4.028859</td>\n",
       "      <td>2.030242</td>\n",
       "      <td>...</td>\n",
       "      <td>0.0</td>\n",
       "      <td>0.0</td>\n",
       "      <td>0.000000</td>\n",
       "      <td>0.000000</td>\n",
       "      <td>0.000000</td>\n",
       "      <td>0.000000</td>\n",
       "      <td>0.000000</td>\n",
       "      <td>0.000000</td>\n",
       "      <td>ENSG00000227232_1</td>\n",
       "      <td>ENSG00000227232_2</td>\n",
       "    </tr>\n",
       "    <tr>\n",
       "      <th>ENSG00000227232[1,3,1]</th>\n",
       "      <td>0.0</td>\n",
       "      <td>0.000000</td>\n",
       "      <td>0.0</td>\n",
       "      <td>0.000000</td>\n",
       "      <td>0.0</td>\n",
       "      <td>0.806143</td>\n",
       "      <td>3.184764</td>\n",
       "      <td>0.0</td>\n",
       "      <td>3.021644</td>\n",
       "      <td>0.000000</td>\n",
       "      <td>...</td>\n",
       "      <td>0.0</td>\n",
       "      <td>0.0</td>\n",
       "      <td>0.000000</td>\n",
       "      <td>0.808313</td>\n",
       "      <td>1.082538</td>\n",
       "      <td>0.000000</td>\n",
       "      <td>0.959934</td>\n",
       "      <td>1.370045</td>\n",
       "      <td>ENSG00000227232_1</td>\n",
       "      <td>ENSG00000227232_3</td>\n",
       "    </tr>\n",
       "    <tr>\n",
       "      <th>ENSG00000227232[1,4,1]</th>\n",
       "      <td>0.0</td>\n",
       "      <td>0.000000</td>\n",
       "      <td>0.0</td>\n",
       "      <td>0.000000</td>\n",
       "      <td>0.0</td>\n",
       "      <td>0.000000</td>\n",
       "      <td>0.000000</td>\n",
       "      <td>0.0</td>\n",
       "      <td>3.021644</td>\n",
       "      <td>0.000000</td>\n",
       "      <td>...</td>\n",
       "      <td>0.0</td>\n",
       "      <td>0.0</td>\n",
       "      <td>0.000000</td>\n",
       "      <td>0.000000</td>\n",
       "      <td>0.000000</td>\n",
       "      <td>0.000000</td>\n",
       "      <td>0.959934</td>\n",
       "      <td>0.000000</td>\n",
       "      <td>ENSG00000227232_1</td>\n",
       "      <td>ENSG00000227232_4</td>\n",
       "    </tr>\n",
       "    <tr>\n",
       "      <th>ENSG00000227232[1,5,1]</th>\n",
       "      <td>0.0</td>\n",
       "      <td>0.000000</td>\n",
       "      <td>0.0</td>\n",
       "      <td>0.784424</td>\n",
       "      <td>0.0</td>\n",
       "      <td>1.612287</td>\n",
       "      <td>6.369528</td>\n",
       "      <td>0.0</td>\n",
       "      <td>5.036073</td>\n",
       "      <td>0.000000</td>\n",
       "      <td>...</td>\n",
       "      <td>0.0</td>\n",
       "      <td>0.0</td>\n",
       "      <td>1.989749</td>\n",
       "      <td>3.233253</td>\n",
       "      <td>1.082538</td>\n",
       "      <td>0.564576</td>\n",
       "      <td>0.959934</td>\n",
       "      <td>0.456682</td>\n",
       "      <td>ENSG00000227232_1</td>\n",
       "      <td>ENSG00000227232_5</td>\n",
       "    </tr>\n",
       "    <tr>\n",
       "      <th>ENSG00000227232[2,3,1]</th>\n",
       "      <td>0.0</td>\n",
       "      <td>0.000000</td>\n",
       "      <td>0.0</td>\n",
       "      <td>0.000000</td>\n",
       "      <td>0.0</td>\n",
       "      <td>0.000000</td>\n",
       "      <td>0.000000</td>\n",
       "      <td>0.0</td>\n",
       "      <td>0.000000</td>\n",
       "      <td>0.000000</td>\n",
       "      <td>...</td>\n",
       "      <td>0.0</td>\n",
       "      <td>0.0</td>\n",
       "      <td>0.000000</td>\n",
       "      <td>0.000000</td>\n",
       "      <td>1.082538</td>\n",
       "      <td>0.000000</td>\n",
       "      <td>0.000000</td>\n",
       "      <td>0.000000</td>\n",
       "      <td>ENSG00000227232_2</td>\n",
       "      <td>ENSG00000227232_3</td>\n",
       "    </tr>\n",
       "  </tbody>\n",
       "</table>\n",
       "<p>5 rows × 140 columns</p>\n",
       "</div>"
      ],
      "text/plain": [
       "                        a673_1_1  a673_1_2  adrenal_gland_1_1  \\\n",
       "annot_transcript_id                                             \n",
       "ENSG00000227232[1,2,1]       0.0  0.834033                0.0   \n",
       "ENSG00000227232[1,3,1]       0.0  0.000000                0.0   \n",
       "ENSG00000227232[1,4,1]       0.0  0.000000                0.0   \n",
       "ENSG00000227232[1,5,1]       0.0  0.000000                0.0   \n",
       "ENSG00000227232[2,3,1]       0.0  0.000000                0.0   \n",
       "\n",
       "                        adrenal_gland_2_1  adrenal_gland_3_1  aorta_1_1  \\\n",
       "annot_transcript_id                                                       \n",
       "ENSG00000227232[1,2,1]           0.784424                0.0   0.806143   \n",
       "ENSG00000227232[1,3,1]           0.000000                0.0   0.806143   \n",
       "ENSG00000227232[1,4,1]           0.000000                0.0   0.000000   \n",
       "ENSG00000227232[1,5,1]           0.784424                0.0   1.612287   \n",
       "ENSG00000227232[2,3,1]           0.000000                0.0   0.000000   \n",
       "\n",
       "                        aorta_2_1  brodmann_area_46_1_1  brodmann_area_46_2_1  \\\n",
       "annot_transcript_id                                                             \n",
       "ENSG00000227232[1,2,1]   3.184764                   0.0              4.028859   \n",
       "ENSG00000227232[1,3,1]   3.184764                   0.0              3.021644   \n",
       "ENSG00000227232[1,4,1]   0.000000                   0.0              3.021644   \n",
       "ENSG00000227232[1,5,1]   6.369528                   0.0              5.036073   \n",
       "ENSG00000227232[2,3,1]   0.000000                   0.0              0.000000   \n",
       "\n",
       "                        brodmann_area_46_3_1  ...  right_lobe_of_liver_1_1  \\\n",
       "annot_transcript_id                           ...                            \n",
       "ENSG00000227232[1,2,1]              2.030242  ...                      0.0   \n",
       "ENSG00000227232[1,3,1]              0.000000  ...                      0.0   \n",
       "ENSG00000227232[1,4,1]              0.000000  ...                      0.0   \n",
       "ENSG00000227232[1,5,1]              0.000000  ...                      0.0   \n",
       "ENSG00000227232[2,3,1]              0.000000  ...                      0.0   \n",
       "\n",
       "                        right_lobe_of_liver_2_1  \\\n",
       "annot_transcript_id                               \n",
       "ENSG00000227232[1,2,1]                      0.0   \n",
       "ENSG00000227232[1,3,1]                      0.0   \n",
       "ENSG00000227232[1,4,1]                      0.0   \n",
       "ENSG00000227232[1,5,1]                      0.0   \n",
       "ENSG00000227232[2,3,1]                      0.0   \n",
       "\n",
       "                        right_ventricle_myocardium_inferior_1_1  \\\n",
       "annot_transcript_id                                               \n",
       "ENSG00000227232[1,2,1]                                 0.000000   \n",
       "ENSG00000227232[1,3,1]                                 0.000000   \n",
       "ENSG00000227232[1,4,1]                                 0.000000   \n",
       "ENSG00000227232[1,5,1]                                 1.989749   \n",
       "ENSG00000227232[2,3,1]                                 0.000000   \n",
       "\n",
       "                        right_ventricle_myocardium_superior_1_1  \\\n",
       "annot_transcript_id                                               \n",
       "ENSG00000227232[1,2,1]                                 0.000000   \n",
       "ENSG00000227232[1,3,1]                                 0.808313   \n",
       "ENSG00000227232[1,4,1]                                 0.000000   \n",
       "ENSG00000227232[1,5,1]                                 3.233253   \n",
       "ENSG00000227232[2,3,1]                                 0.000000   \n",
       "\n",
       "                        upper_lobe_of_right_lung_1_1  wtc11_1_1  wtc11_1_2  \\\n",
       "annot_transcript_id                                                          \n",
       "ENSG00000227232[1,2,1]                      0.000000   0.000000   0.000000   \n",
       "ENSG00000227232[1,3,1]                      1.082538   0.000000   0.959934   \n",
       "ENSG00000227232[1,4,1]                      0.000000   0.000000   0.959934   \n",
       "ENSG00000227232[1,5,1]                      1.082538   0.564576   0.959934   \n",
       "ENSG00000227232[2,3,1]                      1.082538   0.000000   0.000000   \n",
       "\n",
       "                        wtc11_1_3                tss                 ic  \n",
       "annot_transcript_id                                                      \n",
       "ENSG00000227232[1,2,1]   0.000000  ENSG00000227232_1  ENSG00000227232_2  \n",
       "ENSG00000227232[1,3,1]   1.370045  ENSG00000227232_1  ENSG00000227232_3  \n",
       "ENSG00000227232[1,4,1]   0.000000  ENSG00000227232_1  ENSG00000227232_4  \n",
       "ENSG00000227232[1,5,1]   0.456682  ENSG00000227232_1  ENSG00000227232_5  \n",
       "ENSG00000227232[2,3,1]   0.000000  ENSG00000227232_2  ENSG00000227232_3  \n",
       "\n",
       "[5 rows x 140 columns]"
      ]
     },
     "execution_count": 43,
     "metadata": {},
     "output_type": "execute_result"
    }
   ],
   "source": [
    "t_df.head()"
   ]
  },
  {
   "cell_type": "code",
   "execution_count": 47,
   "id": "8ab87d05-b4ce-42e2-b2d4-1e66201a3771",
   "metadata": {},
   "outputs": [],
   "source": [
    "t_df = t_df.merge(df, how='left', left_on='tss', right_on='Name')"
   ]
  },
  {
   "cell_type": "code",
   "execution_count": 48,
   "id": "2705e3f7-bdf1-4b1f-ac65-eff55862a70f",
   "metadata": {},
   "outputs": [
    {
     "data": {
      "text/html": [
       "<div>\n",
       "<style scoped>\n",
       "    .dataframe tbody tr th:only-of-type {\n",
       "        vertical-align: middle;\n",
       "    }\n",
       "\n",
       "    .dataframe tbody tr th {\n",
       "        vertical-align: top;\n",
       "    }\n",
       "\n",
       "    .dataframe thead th {\n",
       "        text-align: right;\n",
       "    }\n",
       "</style>\n",
       "<table border=\"1\" class=\"dataframe\">\n",
       "  <thead>\n",
       "    <tr style=\"text-align: right;\">\n",
       "      <th></th>\n",
       "      <th>a673_1_1</th>\n",
       "      <th>a673_1_2</th>\n",
       "      <th>adrenal_gland_1_1</th>\n",
       "      <th>adrenal_gland_2_1</th>\n",
       "      <th>adrenal_gland_3_1</th>\n",
       "      <th>aorta_1_1</th>\n",
       "      <th>aorta_2_1</th>\n",
       "      <th>brodmann_area_46_1_1</th>\n",
       "      <th>brodmann_area_46_2_1</th>\n",
       "      <th>brodmann_area_46_3_1</th>\n",
       "      <th>...</th>\n",
       "      <th>upper_lobe_of_right_lung_1_1</th>\n",
       "      <th>wtc11_1_1</th>\n",
       "      <th>wtc11_1_2</th>\n",
       "      <th>wtc11_1_3</th>\n",
       "      <th>tss</th>\n",
       "      <th>ic</th>\n",
       "      <th>Name_x</th>\n",
       "      <th>novelty</th>\n",
       "      <th>Name_y</th>\n",
       "      <th>support</th>\n",
       "    </tr>\n",
       "  </thead>\n",
       "  <tbody>\n",
       "    <tr>\n",
       "      <th>0</th>\n",
       "      <td>0.0</td>\n",
       "      <td>0.834033</td>\n",
       "      <td>0.0</td>\n",
       "      <td>0.784424</td>\n",
       "      <td>0.0</td>\n",
       "      <td>0.806143</td>\n",
       "      <td>3.184764</td>\n",
       "      <td>0.0</td>\n",
       "      <td>4.028859</td>\n",
       "      <td>2.030242</td>\n",
       "      <td>...</td>\n",
       "      <td>0.000000</td>\n",
       "      <td>0.000000</td>\n",
       "      <td>0.000000</td>\n",
       "      <td>0.000000</td>\n",
       "      <td>ENSG00000227232_1</td>\n",
       "      <td>ENSG00000227232_2</td>\n",
       "      <td>ENSG00000227232_2</td>\n",
       "      <td>NNC</td>\n",
       "      <td>ENSG00000227232_1</td>\n",
       "      <td>Known</td>\n",
       "    </tr>\n",
       "    <tr>\n",
       "      <th>1</th>\n",
       "      <td>0.0</td>\n",
       "      <td>0.000000</td>\n",
       "      <td>0.0</td>\n",
       "      <td>0.000000</td>\n",
       "      <td>0.0</td>\n",
       "      <td>0.806143</td>\n",
       "      <td>3.184764</td>\n",
       "      <td>0.0</td>\n",
       "      <td>3.021644</td>\n",
       "      <td>0.000000</td>\n",
       "      <td>...</td>\n",
       "      <td>1.082538</td>\n",
       "      <td>0.000000</td>\n",
       "      <td>0.959934</td>\n",
       "      <td>1.370045</td>\n",
       "      <td>ENSG00000227232_1</td>\n",
       "      <td>ENSG00000227232_3</td>\n",
       "      <td>ENSG00000227232_3</td>\n",
       "      <td>NNC</td>\n",
       "      <td>ENSG00000227232_1</td>\n",
       "      <td>Known</td>\n",
       "    </tr>\n",
       "    <tr>\n",
       "      <th>2</th>\n",
       "      <td>0.0</td>\n",
       "      <td>0.000000</td>\n",
       "      <td>0.0</td>\n",
       "      <td>0.000000</td>\n",
       "      <td>0.0</td>\n",
       "      <td>0.000000</td>\n",
       "      <td>0.000000</td>\n",
       "      <td>0.0</td>\n",
       "      <td>3.021644</td>\n",
       "      <td>0.000000</td>\n",
       "      <td>...</td>\n",
       "      <td>0.000000</td>\n",
       "      <td>0.000000</td>\n",
       "      <td>0.959934</td>\n",
       "      <td>0.000000</td>\n",
       "      <td>ENSG00000227232_1</td>\n",
       "      <td>ENSG00000227232_4</td>\n",
       "      <td>ENSG00000227232_4</td>\n",
       "      <td>NNC</td>\n",
       "      <td>ENSG00000227232_1</td>\n",
       "      <td>Known</td>\n",
       "    </tr>\n",
       "    <tr>\n",
       "      <th>3</th>\n",
       "      <td>0.0</td>\n",
       "      <td>0.000000</td>\n",
       "      <td>0.0</td>\n",
       "      <td>0.784424</td>\n",
       "      <td>0.0</td>\n",
       "      <td>1.612287</td>\n",
       "      <td>6.369528</td>\n",
       "      <td>0.0</td>\n",
       "      <td>5.036073</td>\n",
       "      <td>0.000000</td>\n",
       "      <td>...</td>\n",
       "      <td>1.082538</td>\n",
       "      <td>0.564576</td>\n",
       "      <td>0.959934</td>\n",
       "      <td>0.456682</td>\n",
       "      <td>ENSG00000227232_1</td>\n",
       "      <td>ENSG00000227232_5</td>\n",
       "      <td>ENSG00000227232_5</td>\n",
       "      <td>NNC</td>\n",
       "      <td>ENSG00000227232_1</td>\n",
       "      <td>Known</td>\n",
       "    </tr>\n",
       "    <tr>\n",
       "      <th>4</th>\n",
       "      <td>0.0</td>\n",
       "      <td>0.000000</td>\n",
       "      <td>0.0</td>\n",
       "      <td>0.000000</td>\n",
       "      <td>0.0</td>\n",
       "      <td>0.000000</td>\n",
       "      <td>0.000000</td>\n",
       "      <td>0.0</td>\n",
       "      <td>0.000000</td>\n",
       "      <td>0.000000</td>\n",
       "      <td>...</td>\n",
       "      <td>1.082538</td>\n",
       "      <td>0.000000</td>\n",
       "      <td>0.000000</td>\n",
       "      <td>0.000000</td>\n",
       "      <td>ENSG00000227232_2</td>\n",
       "      <td>ENSG00000227232_3</td>\n",
       "      <td>ENSG00000227232_3</td>\n",
       "      <td>NNC</td>\n",
       "      <td>ENSG00000227232_2</td>\n",
       "      <td>Novel</td>\n",
       "    </tr>\n",
       "  </tbody>\n",
       "</table>\n",
       "<p>5 rows × 144 columns</p>\n",
       "</div>"
      ],
      "text/plain": [
       "   a673_1_1  a673_1_2  adrenal_gland_1_1  adrenal_gland_2_1  \\\n",
       "0       0.0  0.834033                0.0           0.784424   \n",
       "1       0.0  0.000000                0.0           0.000000   \n",
       "2       0.0  0.000000                0.0           0.000000   \n",
       "3       0.0  0.000000                0.0           0.784424   \n",
       "4       0.0  0.000000                0.0           0.000000   \n",
       "\n",
       "   adrenal_gland_3_1  aorta_1_1  aorta_2_1  brodmann_area_46_1_1  \\\n",
       "0                0.0   0.806143   3.184764                   0.0   \n",
       "1                0.0   0.806143   3.184764                   0.0   \n",
       "2                0.0   0.000000   0.000000                   0.0   \n",
       "3                0.0   1.612287   6.369528                   0.0   \n",
       "4                0.0   0.000000   0.000000                   0.0   \n",
       "\n",
       "   brodmann_area_46_2_1  brodmann_area_46_3_1  ...  \\\n",
       "0              4.028859              2.030242  ...   \n",
       "1              3.021644              0.000000  ...   \n",
       "2              3.021644              0.000000  ...   \n",
       "3              5.036073              0.000000  ...   \n",
       "4              0.000000              0.000000  ...   \n",
       "\n",
       "   upper_lobe_of_right_lung_1_1  wtc11_1_1  wtc11_1_2  wtc11_1_3  \\\n",
       "0                      0.000000   0.000000   0.000000   0.000000   \n",
       "1                      1.082538   0.000000   0.959934   1.370045   \n",
       "2                      0.000000   0.000000   0.959934   0.000000   \n",
       "3                      1.082538   0.564576   0.959934   0.456682   \n",
       "4                      1.082538   0.000000   0.000000   0.000000   \n",
       "\n",
       "                 tss                 ic             Name_x  novelty  \\\n",
       "0  ENSG00000227232_1  ENSG00000227232_2  ENSG00000227232_2      NNC   \n",
       "1  ENSG00000227232_1  ENSG00000227232_3  ENSG00000227232_3      NNC   \n",
       "2  ENSG00000227232_1  ENSG00000227232_4  ENSG00000227232_4      NNC   \n",
       "3  ENSG00000227232_1  ENSG00000227232_5  ENSG00000227232_5      NNC   \n",
       "4  ENSG00000227232_2  ENSG00000227232_3  ENSG00000227232_3      NNC   \n",
       "\n",
       "              Name_y  support  \n",
       "0  ENSG00000227232_1    Known  \n",
       "1  ENSG00000227232_1    Known  \n",
       "2  ENSG00000227232_1    Known  \n",
       "3  ENSG00000227232_1    Known  \n",
       "4  ENSG00000227232_2    Novel  \n",
       "\n",
       "[5 rows x 144 columns]"
      ]
     },
     "execution_count": 48,
     "metadata": {},
     "output_type": "execute_result"
    }
   ],
   "source": [
    "t_df.head()"
   ]
  },
  {
   "cell_type": "code",
   "execution_count": 50,
   "id": "2aa9a256-f94a-4c71-8786-9f3d217ac259",
   "metadata": {},
   "outputs": [
    {
     "data": {
      "text/plain": [
       "<matplotlib.axes._subplots.AxesSubplot at 0x7f8282a7b790>"
      ]
     },
     "execution_count": 50,
     "metadata": {},
     "output_type": "execute_result"
    },
    {
     "data": {
      "image/png": "[encoded data removed]",
      "text/plain": [
       "<Figure size 432x288 with 1 Axes>"
      ]
     },
     "metadata": {
      "needs_background": "light"
     },
     "output_type": "display_data"
    }
   ],
   "source": [
    "\n",
    "temp = t_df[['novelty', 'support']]\n",
    "temp.reset_index(inplace=True)\n",
    "temp = temp.groupby(['novelty', 'support']).count().reset_index().rename({'index':'n_transcripts'}, axis=1)\n",
    "\n",
    "sns.barplot(data=temp, x='novelty', y='n_transcripts', hue='support')"
   ]
  },
  {
   "cell_type": "code",
   "execution_count": null,
   "id": "f2912dce-b64d-4202-a864-843a8454f252",
   "metadata": {},
   "outputs": [],
   "source": []
  }
 ],
 "metadata": {
  "kernelspec": {
   "display_name": "Python 3",
   "language": "python",
   "name": "python3"
  },
  "language_info": {
   "codemirror_mode": {
    "name": "ipython",
    "version": 3
   },
   "file_extension": ".py",
   "mimetype": "text/x-python",
   "name": "python",
   "nbconvert_exporter": "python",
   "pygments_lexer": "ipython3",
   "version": "3.7.12"
  }
 },
 "nbformat": 4,
 "nbformat_minor": 5
}
