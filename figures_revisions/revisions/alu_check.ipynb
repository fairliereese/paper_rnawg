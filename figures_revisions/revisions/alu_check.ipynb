{
 "cells": [
  {
   "cell_type": "code",
   "execution_count": 4,
   "id": "5c9aa848-9f98-4193-b89f-4bff0b25eb10",
   "metadata": {},
   "outputs": [],
   "source": [
    "import pandas as pd\n",
    "import numpy as np\n",
    "import scipy.stats as st\n",
    "import seaborn as sns\n",
    "import sys\n",
    "import os\n",
    "# import gseapy as gp\n",
    "import matplotlib.pyplot as plt\n",
    "import swan_vis as swan\n",
    "import yaml\n",
    "from snakemake.io import expand\n",
    "import cerberus\n",
    "\n",
    "p = os.path.dirname(os.path.dirname(os.getcwd()))\n",
    "sys.path.append(p)\n",
    "\n",
    "from proc_revisions.utils import *\n",
    "from proc_revisions.plotting import *\n"
   ]
  },
  {
   "cell_type": "code",
   "execution_count": 5,
   "id": "261f56e3-cf19-4a7b-bf6d-e8df346eba47",
   "metadata": {},
   "outputs": [],
   "source": [
    "od = '../../proc_revisions/'\n",
    "config_file = f'{od}/config.yml'\n",
    "with open(config_file) as f:\n",
    "    config = yaml.safe_load(f)"
   ]
  },
  {
   "cell_type": "code",
   "execution_count": 6,
   "id": "2c657595-a1c0-4bd0-8a07-a545e4defe51",
   "metadata": {},
   "outputs": [],
   "source": [
    "ab = od+expand(config['lr']['talon']['fusion_fix']['ab'], species='human')[0]\n",
    "filt_ab = od+expand(config['lr']['cerberus']['filt_ab'], species='human')[0]\n",
    "read_annot = od+expand(config['lr']['talon']['full_annot'], species='human')[0]\n",
    "t_metadata = od+expand(config['ref']['cerberus']['new_gtf_t_info'], species='human')[0]\n",
    "lib_meta = od+expand(config['lr']['meta'], species='human')[0]\n",
    "swan_file = od+expand(config['lr']['swan']['sg'], species='human')[0]\n",
    "cerberus_h5 = od+expand(config['lr']['cerberus']['ca_triplets'], species='human', obs_col='sample')[0]\n",
    "cerb_t_metadata = od+expand(config['lr']['cerberus']['gtf_t_info'], species='human')[0]\n",
    "major_isos = od+expand(config['lr']['analysis']['major_isos'], species='human', obs_col='sample')[0]\n",
    "pi_tpm_table = od+expand(config['lr']['mane']['pi_tpm']['triplet'], species='human', obs_col='sample')[0]\n",
    "pp_summary = od+expand(config['lr']['protein_pred']['summary'], species='human')[0]\n",
    "gtf = od+expand(config['lr']['cerberus']['gtf'], species='human')[0]\n",
    "alu = od+config['ref']['repeats']['alu_bed']\n",
    "\n",
    "ref_t_metadata = od+expand(config['ref']['new_gtf_t_info'], species='human')[0]\n",
    "ref_g_metadata = od+expand(config['ref']['new_gtf_g_info'], species='human')[0]\n",
    "\n",
    "\n",
    "ver = 'v40_cerberus'\n",
    "min_tpm = 1\n",
    "gene_subset = 'protein_coding'\n",
    "obs_col = 'sample'\n",
    "go_gene_subset = 'protein_coding'\n",
    "\n",
    "m_ab = od+expand(config['lr']['talon']['fusion_fix']['ab'], species='mouse')[0]\n",
    "m_filt_ab = od+expand(config['lr']['cerberus']['filt_ab'], species='mouse')[0]\n",
    "m_read_annot = od+expand(config['lr']['talon']['full_annot'], species='mouse')[0]\n",
    "m_t_metadata = od+expand(config['ref']['cerberus']['new_gtf_t_info'], species='mouse')[0]\n",
    "m_lib_meta = od+expand(config['lr']['meta'], species='mouse')[0]\n",
    "m_swan_file = od+expand(config['lr']['swan']['sg'], species='mouse')[0]\n",
    "m_cerberus_h5 = od+expand(config['lr']['cerberus']['ca_triplets'], species='mouse', obs_col='sample')[0]\n",
    "cerb_t_metadata = od+expand(config['lr']['cerberus']['gtf_t_info'], species='mouse')[0]\n",
    "m_major_isos = od+expand(config['lr']['analysis']['major_isos'], species='mouse', obs_col='sample')[0]\n",
    "m_pi_tpm_table = od+expand(config['lr']['mane']['pi_tpm']['triplet'], species='mouse', obs_col='sample')[0]\n",
    "m_pp_summary = od+expand(config['lr']['protein_pred']['summary'], species='mouse')[0]\n",
    "\n",
    "\n",
    "m_ref_t_metadata = od+expand(config['ref']['new_gtf_t_info'], species='mouse')[0]\n",
    "m_ref_g_metadata = od+expand(config['ref']['new_gtf_g_info'], species='mouse')[0]\n",
    "\n",
    "\n",
    "orth_table = od+config['ref']['orth_genes']\n",
    "\n",
    "mouse_ver = 'vM25_cerberus'\n",
    "\n",
    "# #######################\n",
    "# ab = '../'+expand(config['data']['ab'], species='human')[0]\n",
    "# filt_ab = '../'+expand(config['data']['filt_ab'], species='human')[0]\n",
    "# read_annot = '../'+expand(config['data']['read_annot'], species='human')[0]\n",
    "# t_metadata = '../'+expand(config['ref']['cerberus']['t_info'], species='human')[0]\n",
    "# lib_meta = '../'+expand(config['data']['meta'], species='human')[0]\n",
    "# swan_file = '../'+expand(config['data']['sg'], species='human')[0]\n",
    "# cerberus_h5 = '../'+expand(config['data']['cerb_annot'], species='human')[0]\n",
    "# major_isos = '../'+expand(config['data']['major_isos'], species='human', obs_col='sample')[0]\n",
    "# pp_summary = '../'+expand(config['data']['p_pred']['summary'], species='human')[0]\n",
    "# ref_t_metadata = '../'+expand(config['ref']['t_info'], species='human')[0]\n",
    "# ref_g_metadata = '../'+expand(config['ref']['g_info'], species='human')[0]\n",
    "# gtf = '../'+expand(config['data']['cerb_gtf'], species='human')[0]\n",
    "# alu = '../'+config['ref']['repeats']['alu_bed']\n",
    "\n",
    "# sr_ab = '../'+config['sr']['ab']\n",
    "\n",
    "\n",
    "# ver = 'v40_cerberus'\n",
    "# min_tpm = 1\n",
    "# gene_subset = 'protein_coding'\n",
    "# obs_col = 'sample'\n",
    "# go_gene_subset = 'protein_coding'\n",
    "\n",
    "# m_lib_meta = '../'+expand(config['data']['meta'], species='mouse')[0]\n",
    "# m_ab = '../'+expand(config['data']['ab'], species='mouse')[0]\n",
    "# m_filt_ab = '../'+expand(config['data']['filt_ab'], species='mouse')[0]\n",
    "# m_read_annot = '../'+expand(config['data']['read_annot'], species='mouse')[0]\n",
    "# m_t_metadata = '../'+expand(config['ref']['cerberus']['t_info'], species='mouse')[0]\n",
    "# m_swan_file = '../'+expand(config['data']['sg'], species='mouse')[0]\n",
    "# m_cerberus_h5 = '../'+expand(config['data']['cerb_annot'], species='mouse')[0]\n",
    "# m_pi_tpm_table = '../'+expand(config['data']['pi_tpm']['triplet'], species='mouse', obs_col='sample')[0]\n",
    "# m_major_isos = '../'+expand(config['data']['major_isos'], species='mouse', obs_col='sample')[0]\n",
    "# m_pp_summary = '../'+expand(config['data']['p_pred']['summary'], species='mouse')[0]\n",
    "# m_ref_t_metadata = '../'+expand(config['ref']['t_info'], species='mouse')[0]\n",
    "# m_ref_g_metadata = '../'+expand(config['ref']['g_info'], species='mouse')[0]\n",
    "\n",
    "\n",
    "# mouse_ver = 'vM25_cerberus'"
   ]
  },
  {
   "cell_type": "markdown",
   "id": "c81ceb4e-5d73-4f68-9420-b91f8d364435",
   "metadata": {},
   "source": [
    "## Get the genes that are splicing high in human and not in mouse"
   ]
  },
  {
   "cell_type": "code",
   "execution_count": 15,
   "id": "7369e16c-0053-4a78-98d3-9a32a7183396",
   "metadata": {},
   "outputs": [
    {
     "name": "stdout",
     "output_type": "stream",
     "text": [
      "13494\n",
      "858\n"
     ]
    },
    {
     "data": {
      "text/plain": [
       "pyranges.pyranges_main.PyRanges"
      ]
     },
     "execution_count": 15,
     "metadata": {},
     "output_type": "execute_result"
    }
   ],
   "source": [
    "# major isoform triplets mouse match \n",
    "h_source = 'obs_mm_major'\n",
    "m_source = 'obs_major'\n",
    "gene_subset = ['protein_coding']\n",
    "h_ver='v40_cerberus'\n",
    "m_ver='vM25_cerberus'\n",
    "\n",
    "# read in triplets and limit to source\n",
    "ca = cerberus.read(cerberus_h5)\n",
    "h_df = ca.triplets.loc[ca.triplets.source == h_source]\n",
    "\n",
    "ca = cerberus.read(m_cerberus_h5)\n",
    "m_df = ca.triplets.loc[ca.triplets.source == m_source]\n",
    "\n",
    "def subset_on_dict(df, subset):\n",
    "    for col, val in subset.items():\n",
    "            if type(val) != list:\n",
    "                val = [val]\n",
    "            df = df.loc[df[col].isin(val)]\n",
    "    return df\n",
    "\n",
    "# # limit to samples if given\n",
    "# if h_subset:\n",
    "#     h_df = subset_on_dict(h_df, h_subset)\n",
    "# if m_subset:\n",
    "#     m_df = subset_on_dict(m_df, m_subset)\n",
    "\n",
    "# get sectors for each gene\n",
    "h_df = assign_gisx_sector(h_df)\n",
    "m_df = assign_gisx_sector(m_df)\n",
    "\n",
    "# merge in gene info and subset\n",
    "if gene_subset:\n",
    "    gene_df, _, _ = get_gtf_info(how='gene', ver=h_ver)\n",
    "    gene_df['gid'] = cerberus.get_stable_gid(gene_df, 'gid')\n",
    "    h_df = h_df.merge(gene_df[['gid', 'biotype_category']],\n",
    "                      how='left', on='gid')\n",
    "    gene_df, _, _ = get_gtf_info(how='gene', ver=m_ver)\n",
    "    gene_df['gid'] = cerberus.get_stable_gid(gene_df, 'gid')\n",
    "    m_df = m_df.merge(gene_df[['gid', 'biotype_category']],\n",
    "                      how='left', on='gid')\n",
    "    h_df = h_df.loc[h_df.biotype_category.isin(gene_subset)]\n",
    "    m_df = m_df.loc[m_df.biotype_category.isin(gene_subset)]\n",
    "\n",
    "# get matching gids from human and mouse\n",
    "# d = os.path.dirname(__file__)\n",
    "# fname = '../ref/biomart_human_to_mouse.tsv'\n",
    "df = get_human_mouse_gid_table(orth_table)\n",
    "\n",
    "df = df.merge(h_df, how='right', left_on='Gene stable ID',\n",
    "              right_on='gid')\n",
    "\n",
    "df = df.merge(m_df, how='right', left_on='Mouse gene stable ID',\n",
    "              right_on='gid', suffixes=('_human', '_mouse'))\n",
    "\n",
    "# get only genes that are both expressed\n",
    "df = df.loc[~(df.sector_human.isnull())&~(df.sector_mouse.isnull())]\n",
    "\n",
    "\n",
    "# get all ortholog calls\n",
    "all_gids = df['Gene stable ID'].tolist()\n",
    "print(len(all_gids))\n",
    "\n",
    "# limit to splicing-->!splicing\n",
    "gids = df.loc[(df.sector_human=='splicing')&(df.sector_mouse!='splicing')]['Gene stable ID'].tolist() \n",
    "print(len(gids))\n",
    "\n",
    "## get boundaries for each gene\n",
    "gtf_df = pr.read_gtf(gtf, as_df=True, duplicate_attr=True, rename_attr=True)\n",
    "\n",
    "# read in alus\n",
    "alu_df = pr.read_bed(alu)\n",
    "\n",
    "alu_df = alu_df.df\n",
    "alu_df['alu_len'] = (alu_df['Start']-alu_df['End']).abs()\n",
    "\n",
    "# sns.displot(alu_df, x='alu_len', kind='hist')\n",
    "\n",
    "alu_df = pr.PyRanges(alu_df)\n",
    "gtf_df = cerberus.add_stable_gid(gtf_df)\n",
    "gtf_df = gtf_df.loc[gtf_df.Feature == 'gene']\n",
    "gtf_df.head()\n",
    "type(gtf_df)\n",
    "alu_df.head()\n",
    "type(alu_df)\n",
    "\n",
    "# # intersect gene boundaries w/ alu elements and count up alus / kb\n",
    "# gtf_df = pr.PyRanges(gtf_df)\n",
    "# temp = gtf_df.join(alu_df,\n",
    "#                    strandedness='same',\n",
    "#                    how='left',\n",
    "#                    report_overlap=True,\n",
    "#                    slack=0)"
   ]
  },
  {
   "cell_type": "code",
   "execution_count": 16,
   "id": "b9086456-a645-45b5-8cf5-cc95b6fb3309",
   "metadata": {},
   "outputs": [],
   "source": [
    "# temp = temp.df\n",
    "temp = pd.read_csv('alu_gtf_intersect.tsv', sep='\\t')"
   ]
  },
  {
   "cell_type": "code",
   "execution_count": 17,
   "id": "56f5ab85-4b5d-4c10-b354-f66323b32a52",
   "metadata": {},
   "outputs": [
    {
     "data": {
      "text/plain": [
       "34176"
      ]
     },
     "execution_count": 17,
     "metadata": {},
     "output_type": "execute_result"
    }
   ],
   "source": [
    "len(temp.gene_id.unique())"
   ]
  },
  {
   "cell_type": "code",
   "execution_count": 18,
   "id": "c6cf84b1-438a-4d15-9d76-ab8e47366e15",
   "metadata": {},
   "outputs": [],
   "source": [
    "temp['overlaps_alu'] = temp.Overlap==temp.alu_len"
   ]
  },
  {
   "cell_type": "code",
   "execution_count": 19,
   "id": "7866f0b2-8259-4931-bb76-3cc86ef8a5ea",
   "metadata": {},
   "outputs": [],
   "source": [
    "# temp.loc[temp.gene_id.duplicated(keep=False)].sort_values(by='gene_id').head()"
   ]
  },
  {
   "cell_type": "code",
   "execution_count": 20,
   "id": "97a3e1db-e975-4498-9d9e-7eb8c277d8f1",
   "metadata": {},
   "outputs": [],
   "source": [
    "temp['gene_len'] = (temp.Start-temp.End).abs()\n",
    "temp2 = temp[['gene_id', 'gene_name', 'gene_len', 'overlaps_alu']].groupby(['gene_id', 'gene_name', 'gene_len']).sum().reset_index().rename({'overlaps_alu': 'n_overlapping_alu'}, axis=1)"
   ]
  },
  {
   "cell_type": "code",
   "execution_count": 21,
   "id": "3ecc7075-5614-476e-a674-8690c76e2d81",
   "metadata": {},
   "outputs": [
    {
     "name": "stdout",
     "output_type": "stream",
     "text": [
      "13494\n"
     ]
    }
   ],
   "source": [
    "# limit just to the orthologs\n",
    "# get all ortholog calls\n",
    "all_gids = df['Gene stable ID'].tolist()\n",
    "print(len(all_gids))\n",
    "temp2 = temp2.loc[temp2.gene_id.isin(all_gids)]"
   ]
  },
  {
   "cell_type": "code",
   "execution_count": 22,
   "id": "baec236c-9ef7-4078-8646-256d0a005298",
   "metadata": {},
   "outputs": [],
   "source": [
    "temp2['changed_sect'] = temp2.gene_id.isin(gids)"
   ]
  },
  {
   "cell_type": "code",
   "execution_count": 23,
   "id": "b1d783de-5d58-4b51-9910-89fcbd74417e",
   "metadata": {},
   "outputs": [
    {
     "data": {
      "text/html": [
       "<div>\n",
       "<style scoped>\n",
       "    .dataframe tbody tr th:only-of-type {\n",
       "        vertical-align: middle;\n",
       "    }\n",
       "\n",
       "    .dataframe tbody tr th {\n",
       "        vertical-align: top;\n",
       "    }\n",
       "\n",
       "    .dataframe thead th {\n",
       "        text-align: right;\n",
       "    }\n",
       "</style>\n",
       "<table border=\"1\" class=\"dataframe\">\n",
       "  <thead>\n",
       "    <tr style=\"text-align: right;\">\n",
       "      <th></th>\n",
       "      <th>gene_id</th>\n",
       "      <th>gene_name</th>\n",
       "      <th>gene_len</th>\n",
       "      <th>n_overlapping_alu</th>\n",
       "      <th>changed_sect</th>\n",
       "    </tr>\n",
       "  </thead>\n",
       "  <tbody>\n",
       "    <tr>\n",
       "      <th>0</th>\n",
       "      <td>ENSG00000000003</td>\n",
       "      <td>TSPAN6</td>\n",
       "      <td>10097</td>\n",
       "      <td>2</td>\n",
       "      <td>False</td>\n",
       "    </tr>\n",
       "    <tr>\n",
       "      <th>1</th>\n",
       "      <td>ENSG00000000005</td>\n",
       "      <td>TNMD</td>\n",
       "      <td>15184</td>\n",
       "      <td>1</td>\n",
       "      <td>False</td>\n",
       "    </tr>\n",
       "    <tr>\n",
       "      <th>3</th>\n",
       "      <td>ENSG00000000457</td>\n",
       "      <td>SCYL3</td>\n",
       "      <td>44737</td>\n",
       "      <td>7</td>\n",
       "      <td>False</td>\n",
       "    </tr>\n",
       "    <tr>\n",
       "      <th>4</th>\n",
       "      <td>ENSG00000000460</td>\n",
       "      <td>C1orf112</td>\n",
       "      <td>59451</td>\n",
       "      <td>12</td>\n",
       "      <td>False</td>\n",
       "    </tr>\n",
       "    <tr>\n",
       "      <th>5</th>\n",
       "      <td>ENSG00000000938</td>\n",
       "      <td>FGR</td>\n",
       "      <td>23903</td>\n",
       "      <td>7</td>\n",
       "      <td>False</td>\n",
       "    </tr>\n",
       "  </tbody>\n",
       "</table>\n",
       "</div>"
      ],
      "text/plain": [
       "           gene_id gene_name  gene_len  n_overlapping_alu  changed_sect\n",
       "0  ENSG00000000003    TSPAN6     10097                  2         False\n",
       "1  ENSG00000000005      TNMD     15184                  1         False\n",
       "3  ENSG00000000457     SCYL3     44737                  7         False\n",
       "4  ENSG00000000460  C1orf112     59451                 12         False\n",
       "5  ENSG00000000938       FGR     23903                  7         False"
      ]
     },
     "execution_count": 23,
     "metadata": {},
     "output_type": "execute_result"
    }
   ],
   "source": [
    "temp2.head()"
   ]
  },
  {
   "cell_type": "code",
   "execution_count": 24,
   "id": "a1548728-19f5-4070-a9e6-90c86fe55528",
   "metadata": {},
   "outputs": [
    {
     "data": {
      "text/plain": [
       "<seaborn.axisgrid.FacetGrid at 0x7fb3e93e0290>"
      ]
     },
     "execution_count": 24,
     "metadata": {},
     "output_type": "execute_result"
    },
    {
     "data": {
      "image/png": "[encoded data removed]",
      "text/plain": [
       "<Figure size 437x360 with 1 Axes>"
      ]
     },
     "metadata": {
      "needs_background": "light"
     },
     "output_type": "display_data"
    }
   ],
   "source": [
    "sns.displot(temp2, x='n_overlapping_alu', hue='changed_sect', kind='kde', common_norm=False)"
   ]
  },
  {
   "cell_type": "code",
   "execution_count": 25,
   "id": "3680450a-afe3-4d8a-8b61-12a360de23ac",
   "metadata": {},
   "outputs": [],
   "source": [
    "temp2['alus_per_kb'] = ((temp2.n_overlapping_alu)*1000)/temp2.gene_len"
   ]
  },
  {
   "cell_type": "code",
   "execution_count": 26,
   "id": "e36edf5b-dbeb-4614-a81d-1d33a1a3ef86",
   "metadata": {},
   "outputs": [
    {
     "data": {
      "text/html": [
       "<div>\n",
       "<style scoped>\n",
       "    .dataframe tbody tr th:only-of-type {\n",
       "        vertical-align: middle;\n",
       "    }\n",
       "\n",
       "    .dataframe tbody tr th {\n",
       "        vertical-align: top;\n",
       "    }\n",
       "\n",
       "    .dataframe thead th {\n",
       "        text-align: right;\n",
       "    }\n",
       "</style>\n",
       "<table border=\"1\" class=\"dataframe\">\n",
       "  <thead>\n",
       "    <tr style=\"text-align: right;\">\n",
       "      <th></th>\n",
       "      <th>gene_id</th>\n",
       "      <th>gene_name</th>\n",
       "      <th>gene_len</th>\n",
       "      <th>n_overlapping_alu</th>\n",
       "      <th>changed_sect</th>\n",
       "      <th>alus_per_kb</th>\n",
       "    </tr>\n",
       "  </thead>\n",
       "  <tbody>\n",
       "    <tr>\n",
       "      <th>649</th>\n",
       "      <td>ENSG00000049540</td>\n",
       "      <td>ELN</td>\n",
       "      <td>42219</td>\n",
       "      <td>30</td>\n",
       "      <td>True</td>\n",
       "      <td>0.710581</td>\n",
       "    </tr>\n",
       "  </tbody>\n",
       "</table>\n",
       "</div>"
      ],
      "text/plain": [
       "             gene_id gene_name  gene_len  n_overlapping_alu  changed_sect  \\\n",
       "649  ENSG00000049540       ELN     42219                 30          True   \n",
       "\n",
       "     alus_per_kb  \n",
       "649     0.710581  "
      ]
     },
     "execution_count": 26,
     "metadata": {},
     "output_type": "execute_result"
    }
   ],
   "source": [
    "temp2.loc[temp2.gene_name=='ELN']"
   ]
  },
  {
   "cell_type": "code",
   "execution_count": 27,
   "id": "82e7bcd4-d99b-42ac-84c0-e4eaa5c366f6",
   "metadata": {},
   "outputs": [
    {
     "data": {
      "text/plain": [
       "<seaborn.axisgrid.FacetGrid at 0x7fb3c97e5110>"
      ]
     },
     "execution_count": 27,
     "metadata": {},
     "output_type": "execute_result"
    },
    {
     "data": {
      "image/png": "[encoded data removed]",
      "text/plain": [
       "<Figure size 437x360 with 1 Axes>"
      ]
     },
     "metadata": {
      "needs_background": "light"
     },
     "output_type": "display_data"
    }
   ],
   "source": [
    "sns.displot(temp2, x='alus_per_kb', hue='changed_sect', kind='kde', common_norm=False)"
   ]
  },
  {
   "cell_type": "code",
   "execution_count": 28,
   "id": "135f0a63-1035-4a80-81f5-6f622e2c6c1c",
   "metadata": {},
   "outputs": [
    {
     "data": {
      "text/html": [
       "<div>\n",
       "<style scoped>\n",
       "    .dataframe tbody tr th:only-of-type {\n",
       "        vertical-align: middle;\n",
       "    }\n",
       "\n",
       "    .dataframe tbody tr th {\n",
       "        vertical-align: top;\n",
       "    }\n",
       "\n",
       "    .dataframe thead th {\n",
       "        text-align: right;\n",
       "    }\n",
       "</style>\n",
       "<table border=\"1\" class=\"dataframe\">\n",
       "  <thead>\n",
       "    <tr style=\"text-align: right;\">\n",
       "      <th></th>\n",
       "      <th>alus_per_kb</th>\n",
       "    </tr>\n",
       "    <tr>\n",
       "      <th>changed_sect</th>\n",
       "      <th></th>\n",
       "    </tr>\n",
       "  </thead>\n",
       "  <tbody>\n",
       "    <tr>\n",
       "      <th>False</th>\n",
       "      <td>0.256255</td>\n",
       "    </tr>\n",
       "    <tr>\n",
       "      <th>True</th>\n",
       "      <td>0.308133</td>\n",
       "    </tr>\n",
       "  </tbody>\n",
       "</table>\n",
       "</div>"
      ],
      "text/plain": [
       "              alus_per_kb\n",
       "changed_sect             \n",
       "False            0.256255\n",
       "True             0.308133"
      ]
     },
     "execution_count": 28,
     "metadata": {},
     "output_type": "execute_result"
    }
   ],
   "source": [
    "temp2[['alus_per_kb', 'changed_sect']].groupby('changed_sect').mean()"
   ]
  },
  {
   "cell_type": "code",
   "execution_count": 29,
   "id": "9a0d16a3-d8f0-4640-ab1c-283153ee3071",
   "metadata": {},
   "outputs": [
    {
     "data": {
      "text/plain": [
       "KstestResult(statistic=0.11790267345822902, pvalue=3.4964091865816716e-10)"
      ]
     },
     "execution_count": 29,
     "metadata": {},
     "output_type": "execute_result"
    }
   ],
   "source": [
    "a = temp2.loc[temp2.changed_sect==True].alus_per_kb.tolist()\n",
    "b = temp2.loc[temp2.changed_sect==False].alus_per_kb.tolist()\n",
    "st.kstest(a,b,alternative='two-sided')"
   ]
  },
  {
   "cell_type": "code",
   "execution_count": 30,
   "id": "41835f0a-2d3b-48ee-8dd9-0b918a2ed49a",
   "metadata": {},
   "outputs": [
    {
     "data": {
      "text/plain": [
       "MannwhitneyuResult(statistic=5976743.0, pvalue=4.570313866588192e-07)"
      ]
     },
     "execution_count": 30,
     "metadata": {},
     "output_type": "execute_result"
    }
   ],
   "source": [
    "a = temp2.loc[temp2.changed_sect==True].alus_per_kb.tolist()\n",
    "b = temp2.loc[temp2.changed_sect==False].alus_per_kb.tolist()\n",
    "st.mannwhitneyu(a,b,alternative='two-sided')"
   ]
  },
  {
   "cell_type": "code",
   "execution_count": 31,
   "id": "8c546ebc-c28b-4b61-96b7-3b9781203ed0",
   "metadata": {},
   "outputs": [
    {
     "data": {
      "text/plain": [
       "Ttest_indResult(statistic=6.168347318155988, pvalue=7.097883158127631e-10)"
      ]
     },
     "execution_count": 31,
     "metadata": {},
     "output_type": "execute_result"
    }
   ],
   "source": [
    "a = temp2.loc[temp2.changed_sect==True].alus_per_kb.tolist()\n",
    "b = temp2.loc[temp2.changed_sect==False].alus_per_kb.tolist()\n",
    "st.ttest_ind(a,b,alternative='two-sided')"
   ]
  },
  {
   "cell_type": "code",
   "execution_count": 32,
   "id": "13cebf34-35c9-44f8-9068-f16fa1cef2a4",
   "metadata": {},
   "outputs": [],
   "source": [
    "# scatter plot of splicing_ratio, n_ic vs. alus_per_kb, also for sectors\n",
    "source = 'obs_det'\n",
    "ca = cerberus.read(cerberus_h5)\n",
    "temp3 = ca.triplets.loc[ca.triplets.source==source]"
   ]
  },
  {
   "cell_type": "code",
   "execution_count": 33,
   "id": "13ece54e-2049-4dfd-9ab3-9bc4b6144583",
   "metadata": {},
   "outputs": [
    {
     "data": {
      "text/plain": [
       "26544"
      ]
     },
     "execution_count": 33,
     "metadata": {},
     "output_type": "execute_result"
    }
   ],
   "source": [
    "len(temp3.gid.unique())"
   ]
  },
  {
   "cell_type": "code",
   "execution_count": 34,
   "id": "a7304f04-c9a7-4401-9bf9-41751933eb1a",
   "metadata": {},
   "outputs": [],
   "source": [
    "temp['gene_len'] = (temp.Start-temp.End).abs()\n",
    "temp2 = temp[['gene_id', 'gene_name', 'gene_len', 'overlaps_alu']].groupby(['gene_id', 'gene_name', 'gene_len']).sum().reset_index().rename({'overlaps_alu': 'n_overlapping_alu'}, axis=1)\n",
    "temp2['alus_per_kb'] = ((temp2.n_overlapping_alu)*1000)/temp2.gene_len"
   ]
  },
  {
   "cell_type": "code",
   "execution_count": 35,
   "id": "00dd1f49-3511-431f-b973-f70da0387813",
   "metadata": {},
   "outputs": [
    {
     "data": {
      "text/html": [
       "<div>\n",
       "<style scoped>\n",
       "    .dataframe tbody tr th:only-of-type {\n",
       "        vertical-align: middle;\n",
       "    }\n",
       "\n",
       "    .dataframe tbody tr th {\n",
       "        vertical-align: top;\n",
       "    }\n",
       "\n",
       "    .dataframe thead th {\n",
       "        text-align: right;\n",
       "    }\n",
       "</style>\n",
       "<table border=\"1\" class=\"dataframe\">\n",
       "  <thead>\n",
       "    <tr style=\"text-align: right;\">\n",
       "      <th></th>\n",
       "      <th>gene_id</th>\n",
       "      <th>gene_name</th>\n",
       "      <th>gene_len</th>\n",
       "      <th>n_overlapping_alu</th>\n",
       "      <th>alus_per_kb</th>\n",
       "    </tr>\n",
       "  </thead>\n",
       "  <tbody>\n",
       "    <tr>\n",
       "      <th>0</th>\n",
       "      <td>ENSG00000000003</td>\n",
       "      <td>TSPAN6</td>\n",
       "      <td>10097</td>\n",
       "      <td>2</td>\n",
       "      <td>0.198079</td>\n",
       "    </tr>\n",
       "    <tr>\n",
       "      <th>1</th>\n",
       "      <td>ENSG00000000005</td>\n",
       "      <td>TNMD</td>\n",
       "      <td>15184</td>\n",
       "      <td>1</td>\n",
       "      <td>0.065859</td>\n",
       "    </tr>\n",
       "    <tr>\n",
       "      <th>2</th>\n",
       "      <td>ENSG00000000419</td>\n",
       "      <td>DPM1</td>\n",
       "      <td>25738</td>\n",
       "      <td>11</td>\n",
       "      <td>0.427384</td>\n",
       "    </tr>\n",
       "    <tr>\n",
       "      <th>3</th>\n",
       "      <td>ENSG00000000457</td>\n",
       "      <td>SCYL3</td>\n",
       "      <td>44737</td>\n",
       "      <td>7</td>\n",
       "      <td>0.156470</td>\n",
       "    </tr>\n",
       "    <tr>\n",
       "      <th>4</th>\n",
       "      <td>ENSG00000000460</td>\n",
       "      <td>C1orf112</td>\n",
       "      <td>59451</td>\n",
       "      <td>12</td>\n",
       "      <td>0.201847</td>\n",
       "    </tr>\n",
       "  </tbody>\n",
       "</table>\n",
       "</div>"
      ],
      "text/plain": [
       "           gene_id gene_name  gene_len  n_overlapping_alu  alus_per_kb\n",
       "0  ENSG00000000003    TSPAN6     10097                  2     0.198079\n",
       "1  ENSG00000000005      TNMD     15184                  1     0.065859\n",
       "2  ENSG00000000419      DPM1     25738                 11     0.427384\n",
       "3  ENSG00000000457     SCYL3     44737                  7     0.156470\n",
       "4  ENSG00000000460  C1orf112     59451                 12     0.201847"
      ]
     },
     "execution_count": 35,
     "metadata": {},
     "output_type": "execute_result"
    }
   ],
   "source": [
    "temp2.head()"
   ]
  },
  {
   "cell_type": "code",
   "execution_count": 36,
   "id": "9878f767-599e-4a91-806c-bc30f9891266",
   "metadata": {},
   "outputs": [
    {
     "data": {
      "text/html": [
       "<div>\n",
       "<style scoped>\n",
       "    .dataframe tbody tr th:only-of-type {\n",
       "        vertical-align: middle;\n",
       "    }\n",
       "\n",
       "    .dataframe tbody tr th {\n",
       "        vertical-align: top;\n",
       "    }\n",
       "\n",
       "    .dataframe thead th {\n",
       "        text-align: right;\n",
       "    }\n",
       "</style>\n",
       "<table border=\"1\" class=\"dataframe\">\n",
       "  <thead>\n",
       "    <tr style=\"text-align: right;\">\n",
       "      <th></th>\n",
       "      <th>source</th>\n",
       "      <th>gid</th>\n",
       "      <th>n_tss</th>\n",
       "      <th>n_tes</th>\n",
       "      <th>n_ic</th>\n",
       "      <th>n_iso</th>\n",
       "      <th>splicing_ratio</th>\n",
       "      <th>tss_ratio</th>\n",
       "      <th>tes_ratio</th>\n",
       "      <th>spl_ratio</th>\n",
       "      <th>sector</th>\n",
       "      <th>gname</th>\n",
       "      <th>sample</th>\n",
       "      <th>gene_tpm</th>\n",
       "    </tr>\n",
       "  </thead>\n",
       "  <tbody>\n",
       "    <tr>\n",
       "      <th>0</th>\n",
       "      <td>obs_det</td>\n",
       "      <td>ENSG00000000003</td>\n",
       "      <td>1.0</td>\n",
       "      <td>6.0</td>\n",
       "      <td>9.0</td>\n",
       "      <td>29.0</td>\n",
       "      <td>2.571429</td>\n",
       "      <td>0.104478</td>\n",
       "      <td>0.626866</td>\n",
       "      <td>0.268657</td>\n",
       "      <td>tes</td>\n",
       "      <td>TSPAN6</td>\n",
       "      <td>NaN</td>\n",
       "      <td>NaN</td>\n",
       "    </tr>\n",
       "    <tr>\n",
       "      <th>1</th>\n",
       "      <td>obs_det</td>\n",
       "      <td>ENSG00000000005</td>\n",
       "      <td>1.0</td>\n",
       "      <td>1.0</td>\n",
       "      <td>1.0</td>\n",
       "      <td>1.0</td>\n",
       "      <td>1.000000</td>\n",
       "      <td>0.333333</td>\n",
       "      <td>0.333333</td>\n",
       "      <td>0.333333</td>\n",
       "      <td>simple</td>\n",
       "      <td>TNMD</td>\n",
       "      <td>NaN</td>\n",
       "      <td>NaN</td>\n",
       "    </tr>\n",
       "    <tr>\n",
       "      <th>2</th>\n",
       "      <td>obs_det</td>\n",
       "      <td>ENSG00000000419</td>\n",
       "      <td>2.0</td>\n",
       "      <td>3.0</td>\n",
       "      <td>8.0</td>\n",
       "      <td>10.0</td>\n",
       "      <td>3.200000</td>\n",
       "      <td>0.243902</td>\n",
       "      <td>0.365854</td>\n",
       "      <td>0.390244</td>\n",
       "      <td>mixed</td>\n",
       "      <td>DPM1</td>\n",
       "      <td>NaN</td>\n",
       "      <td>NaN</td>\n",
       "    </tr>\n",
       "    <tr>\n",
       "      <th>3</th>\n",
       "      <td>obs_det</td>\n",
       "      <td>ENSG00000000457</td>\n",
       "      <td>3.0</td>\n",
       "      <td>4.0</td>\n",
       "      <td>5.0</td>\n",
       "      <td>7.0</td>\n",
       "      <td>1.428571</td>\n",
       "      <td>0.355932</td>\n",
       "      <td>0.474576</td>\n",
       "      <td>0.169492</td>\n",
       "      <td>mixed</td>\n",
       "      <td>SCYL3</td>\n",
       "      <td>NaN</td>\n",
       "      <td>NaN</td>\n",
       "    </tr>\n",
       "    <tr>\n",
       "      <th>4</th>\n",
       "      <td>obs_det</td>\n",
       "      <td>ENSG00000000460</td>\n",
       "      <td>3.0</td>\n",
       "      <td>4.0</td>\n",
       "      <td>6.0</td>\n",
       "      <td>17.0</td>\n",
       "      <td>1.714286</td>\n",
       "      <td>0.344262</td>\n",
       "      <td>0.459016</td>\n",
       "      <td>0.196721</td>\n",
       "      <td>mixed</td>\n",
       "      <td>C1orf112</td>\n",
       "      <td>NaN</td>\n",
       "      <td>NaN</td>\n",
       "    </tr>\n",
       "  </tbody>\n",
       "</table>\n",
       "</div>"
      ],
      "text/plain": [
       "    source              gid  n_tss  n_tes  n_ic  n_iso  splicing_ratio  \\\n",
       "0  obs_det  ENSG00000000003    1.0    6.0   9.0   29.0        2.571429   \n",
       "1  obs_det  ENSG00000000005    1.0    1.0   1.0    1.0        1.000000   \n",
       "2  obs_det  ENSG00000000419    2.0    3.0   8.0   10.0        3.200000   \n",
       "3  obs_det  ENSG00000000457    3.0    4.0   5.0    7.0        1.428571   \n",
       "4  obs_det  ENSG00000000460    3.0    4.0   6.0   17.0        1.714286   \n",
       "\n",
       "   tss_ratio  tes_ratio  spl_ratio  sector     gname sample  gene_tpm  \n",
       "0   0.104478   0.626866   0.268657     tes    TSPAN6    NaN       NaN  \n",
       "1   0.333333   0.333333   0.333333  simple      TNMD    NaN       NaN  \n",
       "2   0.243902   0.365854   0.390244   mixed      DPM1    NaN       NaN  \n",
       "3   0.355932   0.474576   0.169492   mixed     SCYL3    NaN       NaN  \n",
       "4   0.344262   0.459016   0.196721   mixed  C1orf112    NaN       NaN  "
      ]
     },
     "execution_count": 36,
     "metadata": {},
     "output_type": "execute_result"
    }
   ],
   "source": [
    "temp3.head()"
   ]
  },
  {
   "cell_type": "code",
   "execution_count": 37,
   "id": "71ed6890-b961-4308-bd8b-a66e0daf954d",
   "metadata": {},
   "outputs": [],
   "source": [
    "temp3 = temp3.merge(temp2, how='left', left_on='gid', right_on='gene_id')"
   ]
  },
  {
   "cell_type": "code",
   "execution_count": 38,
   "id": "4129415a-6a5b-4d82-a856-bd43b5f0cd02",
   "metadata": {},
   "outputs": [
    {
     "data": {
      "text/html": [
       "<div>\n",
       "<style scoped>\n",
       "    .dataframe tbody tr th:only-of-type {\n",
       "        vertical-align: middle;\n",
       "    }\n",
       "\n",
       "    .dataframe tbody tr th {\n",
       "        vertical-align: top;\n",
       "    }\n",
       "\n",
       "    .dataframe thead th {\n",
       "        text-align: right;\n",
       "    }\n",
       "</style>\n",
       "<table border=\"1\" class=\"dataframe\">\n",
       "  <thead>\n",
       "    <tr style=\"text-align: right;\">\n",
       "      <th></th>\n",
       "      <th>source</th>\n",
       "      <th>gid</th>\n",
       "      <th>n_tss</th>\n",
       "      <th>n_tes</th>\n",
       "      <th>n_ic</th>\n",
       "      <th>n_iso</th>\n",
       "      <th>splicing_ratio</th>\n",
       "      <th>tss_ratio</th>\n",
       "      <th>tes_ratio</th>\n",
       "      <th>spl_ratio</th>\n",
       "      <th>sector</th>\n",
       "      <th>gname</th>\n",
       "      <th>sample</th>\n",
       "      <th>gene_tpm</th>\n",
       "      <th>gene_id</th>\n",
       "      <th>gene_name</th>\n",
       "      <th>gene_len</th>\n",
       "      <th>n_overlapping_alu</th>\n",
       "      <th>alus_per_kb</th>\n",
       "    </tr>\n",
       "  </thead>\n",
       "  <tbody>\n",
       "    <tr>\n",
       "      <th>0</th>\n",
       "      <td>obs_det</td>\n",
       "      <td>ENSG00000000003</td>\n",
       "      <td>1.0</td>\n",
       "      <td>6.0</td>\n",
       "      <td>9.0</td>\n",
       "      <td>29.0</td>\n",
       "      <td>2.571429</td>\n",
       "      <td>0.104478</td>\n",
       "      <td>0.626866</td>\n",
       "      <td>0.268657</td>\n",
       "      <td>tes</td>\n",
       "      <td>TSPAN6</td>\n",
       "      <td>NaN</td>\n",
       "      <td>NaN</td>\n",
       "      <td>ENSG00000000003</td>\n",
       "      <td>TSPAN6</td>\n",
       "      <td>10097</td>\n",
       "      <td>2</td>\n",
       "      <td>0.198079</td>\n",
       "    </tr>\n",
       "    <tr>\n",
       "      <th>1</th>\n",
       "      <td>obs_det</td>\n",
       "      <td>ENSG00000000005</td>\n",
       "      <td>1.0</td>\n",
       "      <td>1.0</td>\n",
       "      <td>1.0</td>\n",
       "      <td>1.0</td>\n",
       "      <td>1.000000</td>\n",
       "      <td>0.333333</td>\n",
       "      <td>0.333333</td>\n",
       "      <td>0.333333</td>\n",
       "      <td>simple</td>\n",
       "      <td>TNMD</td>\n",
       "      <td>NaN</td>\n",
       "      <td>NaN</td>\n",
       "      <td>ENSG00000000005</td>\n",
       "      <td>TNMD</td>\n",
       "      <td>15184</td>\n",
       "      <td>1</td>\n",
       "      <td>0.065859</td>\n",
       "    </tr>\n",
       "    <tr>\n",
       "      <th>2</th>\n",
       "      <td>obs_det</td>\n",
       "      <td>ENSG00000000419</td>\n",
       "      <td>2.0</td>\n",
       "      <td>3.0</td>\n",
       "      <td>8.0</td>\n",
       "      <td>10.0</td>\n",
       "      <td>3.200000</td>\n",
       "      <td>0.243902</td>\n",
       "      <td>0.365854</td>\n",
       "      <td>0.390244</td>\n",
       "      <td>mixed</td>\n",
       "      <td>DPM1</td>\n",
       "      <td>NaN</td>\n",
       "      <td>NaN</td>\n",
       "      <td>ENSG00000000419</td>\n",
       "      <td>DPM1</td>\n",
       "      <td>25738</td>\n",
       "      <td>11</td>\n",
       "      <td>0.427384</td>\n",
       "    </tr>\n",
       "    <tr>\n",
       "      <th>3</th>\n",
       "      <td>obs_det</td>\n",
       "      <td>ENSG00000000457</td>\n",
       "      <td>3.0</td>\n",
       "      <td>4.0</td>\n",
       "      <td>5.0</td>\n",
       "      <td>7.0</td>\n",
       "      <td>1.428571</td>\n",
       "      <td>0.355932</td>\n",
       "      <td>0.474576</td>\n",
       "      <td>0.169492</td>\n",
       "      <td>mixed</td>\n",
       "      <td>SCYL3</td>\n",
       "      <td>NaN</td>\n",
       "      <td>NaN</td>\n",
       "      <td>ENSG00000000457</td>\n",
       "      <td>SCYL3</td>\n",
       "      <td>44737</td>\n",
       "      <td>7</td>\n",
       "      <td>0.156470</td>\n",
       "    </tr>\n",
       "    <tr>\n",
       "      <th>4</th>\n",
       "      <td>obs_det</td>\n",
       "      <td>ENSG00000000460</td>\n",
       "      <td>3.0</td>\n",
       "      <td>4.0</td>\n",
       "      <td>6.0</td>\n",
       "      <td>17.0</td>\n",
       "      <td>1.714286</td>\n",
       "      <td>0.344262</td>\n",
       "      <td>0.459016</td>\n",
       "      <td>0.196721</td>\n",
       "      <td>mixed</td>\n",
       "      <td>C1orf112</td>\n",
       "      <td>NaN</td>\n",
       "      <td>NaN</td>\n",
       "      <td>ENSG00000000460</td>\n",
       "      <td>C1orf112</td>\n",
       "      <td>59451</td>\n",
       "      <td>12</td>\n",
       "      <td>0.201847</td>\n",
       "    </tr>\n",
       "  </tbody>\n",
       "</table>\n",
       "</div>"
      ],
      "text/plain": [
       "    source              gid  n_tss  n_tes  n_ic  n_iso  splicing_ratio  \\\n",
       "0  obs_det  ENSG00000000003    1.0    6.0   9.0   29.0        2.571429   \n",
       "1  obs_det  ENSG00000000005    1.0    1.0   1.0    1.0        1.000000   \n",
       "2  obs_det  ENSG00000000419    2.0    3.0   8.0   10.0        3.200000   \n",
       "3  obs_det  ENSG00000000457    3.0    4.0   5.0    7.0        1.428571   \n",
       "4  obs_det  ENSG00000000460    3.0    4.0   6.0   17.0        1.714286   \n",
       "\n",
       "   tss_ratio  tes_ratio  spl_ratio  sector     gname sample  gene_tpm  \\\n",
       "0   0.104478   0.626866   0.268657     tes    TSPAN6    NaN       NaN   \n",
       "1   0.333333   0.333333   0.333333  simple      TNMD    NaN       NaN   \n",
       "2   0.243902   0.365854   0.390244   mixed      DPM1    NaN       NaN   \n",
       "3   0.355932   0.474576   0.169492   mixed     SCYL3    NaN       NaN   \n",
       "4   0.344262   0.459016   0.196721   mixed  C1orf112    NaN       NaN   \n",
       "\n",
       "           gene_id gene_name  gene_len  n_overlapping_alu  alus_per_kb  \n",
       "0  ENSG00000000003    TSPAN6     10097                  2     0.198079  \n",
       "1  ENSG00000000005      TNMD     15184                  1     0.065859  \n",
       "2  ENSG00000000419      DPM1     25738                 11     0.427384  \n",
       "3  ENSG00000000457     SCYL3     44737                  7     0.156470  \n",
       "4  ENSG00000000460  C1orf112     59451                 12     0.201847  "
      ]
     },
     "execution_count": 38,
     "metadata": {},
     "output_type": "execute_result"
    }
   ],
   "source": [
    "temp3.head()"
   ]
  },
  {
   "cell_type": "code",
   "execution_count": 39,
   "id": "2f93091c-6b50-457f-ac14-135c27dd727e",
   "metadata": {},
   "outputs": [
    {
     "data": {
      "text/plain": [
       "<AxesSubplot:xlabel='sector', ylabel='alus_per_kb'>"
      ]
     },
     "execution_count": 39,
     "metadata": {},
     "output_type": "execute_result"
    },
    {
     "data": {
      "image/png": "[encoded data removed]",
      "text/plain": [
       "<Figure size 432x288 with 1 Axes>"
      ]
     },
     "metadata": {
      "needs_background": "light"
     },
     "output_type": "display_data"
    }
   ],
   "source": [
    "sns.violinplot(temp3, y='alus_per_kb', x='sector')"
   ]
  },
  {
   "cell_type": "code",
   "execution_count": 40,
   "id": "7de26a8f-a2ed-4736-ab0e-60f433428bc0",
   "metadata": {},
   "outputs": [],
   "source": [
    "import itertools\n",
    "pairs = list(itertools.combinations(temp3.sector.unique().tolist(), 2))\n",
    "c1 = [c[0] for c in pairs]\n",
    "c2 = [c[1] for c in pairs]"
   ]
  },
  {
   "cell_type": "code",
   "execution_count": 41,
   "id": "04ea38cf-cde9-4e48-a916-b32b37b7d063",
   "metadata": {},
   "outputs": [
    {
     "name": "stdout",
     "output_type": "stream",
     "text": [
      "tes vs. simple: p=0.0, stat=35863779.5\n",
      "tes vs. simple: p=0.0\n",
      "\n",
      "tes vs. mixed: p=1.427955841842466e-10, stat=25111508.5\n",
      "tes vs. mixed: p=1.427955841842466e-10\n",
      "\n",
      "tes vs. splicing: p=3.069370055264327e-05, stat=3294872.5\n",
      "tes vs. splicing: p=3.069370055264327e-05\n",
      "\n",
      "tes vs. tss: p=1.3903959070565127e-39, stat=7163257.5\n",
      "tes vs. tss: p=1.3903959070565127e-39\n",
      "\n",
      "simple vs. mixed: p=0.0, stat=19571588.0\n",
      "simple vs. mixed: p=0.0\n",
      "\n",
      "simple vs. splicing: p=8.194274003941285e-191, stat=2840187.0\n",
      "simple vs. splicing: p=8.194274003941285e-191\n",
      "\n",
      "simple vs. tss: p=1.7035610869101985e-261, stat=6010414.5\n",
      "simple vs. tss: p=1.7035610869101985e-261\n",
      "\n",
      "mixed vs. splicing: p=0.29350592758585425, stat=5490654.0\n",
      "mixed vs. splicing: p=0.29350592758585425\n",
      "\n",
      "mixed vs. tss: p=3.6396376919590537e-19, stat=11884342.5\n",
      "mixed vs. tss: p=3.6396376919590537e-19\n",
      "\n",
      "splicing vs. tss: p=8.406709495566682e-06, stat=1501058.5\n",
      "splicing vs. tss: p=8.406709495566682e-06\n",
      "\n"
     ]
    }
   ],
   "source": [
    "# t test\n",
    "for sect1, sect2 in zip(c1, c2):\n",
    "    v1 = temp3.loc[temp3.sector==sect1, 'alus_per_kb'].tolist()\n",
    "    v2 = temp3.loc[temp3.sector==sect2, 'alus_per_kb'].tolist()\n",
    "    result = st.mannwhitneyu(v1, v2, alternative='two-sided')\n",
    "    p = result.pvalue\n",
    "    stat = result.statistic\n",
    "    print(f'{sect1} vs. {sect2}: p={p}, stat={stat}')\n",
    "    print(f'{sect1} vs. {sect2}: p={p}')\n",
    "    print()"
   ]
  },
  {
   "cell_type": "code",
   "execution_count": null,
   "id": "ad6b216f-e5a3-4227-a80d-80f106e2651c",
   "metadata": {},
   "outputs": [],
   "source": []
  },
  {
   "cell_type": "code",
   "execution_count": null,
   "id": "2697158c-a79d-4526-b75c-ca13ef31d3fa",
   "metadata": {},
   "outputs": [],
   "source": []
  },
  {
   "cell_type": "code",
   "execution_count": null,
   "id": "e31bec0b-cf36-4541-8e13-837b7f3d9207",
   "metadata": {},
   "outputs": [],
   "source": []
  },
  {
   "cell_type": "code",
   "execution_count": null,
   "id": "036bd36f-9640-42ea-a9de-aada840c9b0e",
   "metadata": {},
   "outputs": [],
   "source": []
  },
  {
   "cell_type": "code",
   "execution_count": null,
   "id": "e8b7bfef-76e7-4a83-acd9-8e64a5e4bd37",
   "metadata": {},
   "outputs": [],
   "source": []
  },
  {
   "cell_type": "code",
   "execution_count": null,
   "id": "9c67dcee-096a-430d-a290-c5ea1420b3ee",
   "metadata": {},
   "outputs": [],
   "source": []
  },
  {
   "cell_type": "code",
   "execution_count": null,
   "id": "37b81513-829d-4873-bae9-5978e5a963df",
   "metadata": {},
   "outputs": [],
   "source": []
  },
  {
   "cell_type": "code",
   "execution_count": null,
   "id": "73b1d04c-41ab-4d82-bed9-a83e2b1d0ad8",
   "metadata": {},
   "outputs": [],
   "source": []
  },
  {
   "cell_type": "code",
   "execution_count": null,
   "id": "70cb67a7-cede-4efb-be59-12f8fe88c0bf",
   "metadata": {},
   "outputs": [],
   "source": []
  },
  {
   "cell_type": "code",
   "execution_count": null,
   "id": "820b49cb-0fb8-414f-a78b-f80f41907182",
   "metadata": {},
   "outputs": [],
   "source": []
  },
  {
   "cell_type": "code",
   "execution_count": null,
   "id": "37f0d60d-038f-4b4e-b725-0183e263d8fc",
   "metadata": {},
   "outputs": [],
   "source": []
  },
  {
   "cell_type": "code",
   "execution_count": null,
   "id": "0425a35f-8bbe-4b30-b0a8-e95fa65b007b",
   "metadata": {},
   "outputs": [],
   "source": []
  },
  {
   "cell_type": "code",
   "execution_count": null,
   "id": "14f0132c-d57a-4e6f-90c6-ea59743d1446",
   "metadata": {},
   "outputs": [],
   "source": []
  },
  {
   "cell_type": "code",
   "execution_count": null,
   "id": "8d4bb27e-8761-43ca-805b-8b00e549c684",
   "metadata": {},
   "outputs": [],
   "source": []
  },
  {
   "cell_type": "code",
   "execution_count": null,
   "id": "ffc23a7c-15a2-4dde-961d-bd71bd769c73",
   "metadata": {},
   "outputs": [],
   "source": []
  },
  {
   "cell_type": "code",
   "execution_count": null,
   "id": "8e9a08be-84a4-4602-9a36-8bcfe0ed37bf",
   "metadata": {},
   "outputs": [],
   "source": []
  },
  {
   "cell_type": "code",
   "execution_count": null,
   "id": "80980b59-7bd6-4cac-9eea-5ee6155c140f",
   "metadata": {},
   "outputs": [],
   "source": []
  },
  {
   "cell_type": "code",
   "execution_count": null,
   "id": "8b7d098b-2a36-43de-a832-305313926969",
   "metadata": {},
   "outputs": [],
   "source": []
  }
 ],
 "metadata": {
  "kernelspec": {
   "display_name": "Python 3",
   "language": "python",
   "name": "python3"
  },
  "language_info": {
   "codemirror_mode": {
    "name": "ipython",
    "version": 3
   },
   "file_extension": ".py",
   "mimetype": "text/x-python",
   "name": "python",
   "nbconvert_exporter": "python",
   "pygments_lexer": "ipython3",
   "version": "3.7.12"
  }
 },
 "nbformat": 4,
 "nbformat_minor": 5
}
