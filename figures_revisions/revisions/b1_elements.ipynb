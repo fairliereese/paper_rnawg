{
 "cells": [
  {
   "cell_type": "code",
   "execution_count": 2,
   "id": "dec2849d-5b49-41d5-a0a0-7a1f0c19a772",
   "metadata": {},
   "outputs": [],
   "source": [
    "import pandas as pd\n",
    "import numpy as np\n",
    "import scipy.stats as st\n",
    "import seaborn as sns\n",
    "import sys\n",
    "import os\n",
    "# import gseapy as gp\n",
    "import matplotlib.pyplot as plt\n",
    "import swan_vis as swan\n",
    "import yaml\n",
    "from snakemake.io import expand\n",
    "import cerberus\n",
    "\n",
    "p = os.path.dirname(os.path.dirname(os.getcwd()))\n",
    "sys.path.append(p)\n",
    "\n",
    "from proc_revisions.utils import *\n",
    "from proc_revisions.plotting import *\n",
    "from proc_revisions.ss_sj_utils import *"
   ]
  },
  {
   "cell_type": "code",
   "execution_count": 3,
   "id": "8c9c165a-417b-44a6-98c5-890b5f8bc8a2",
   "metadata": {},
   "outputs": [],
   "source": [
    "od = '../../proc_revisions/'\n",
    "config_file = f'{od}/config.yml'\n",
    "with open(config_file) as f:\n",
    "    config = yaml.safe_load(f)"
   ]
  },
  {
   "cell_type": "code",
   "execution_count": 4,
   "id": "65f349dc-01f9-483e-8296-40ebe980f2d4",
   "metadata": {},
   "outputs": [],
   "source": [
    "# repeats = od+config['ref']['repeats']['txt']\n",
    "repeats = '../../proc_revisions/ref/mouse/rmsk.txt'"
   ]
  },
  {
   "cell_type": "markdown",
   "id": "c85a8744-4b0e-474f-ab89-324b162d43ca",
   "metadata": {},
   "source": [
    "## Look for B1 elements"
   ]
  },
  {
   "cell_type": "code",
   "execution_count": 5,
   "id": "9115a421-c83c-4539-9a3a-8b1b8d613ee8",
   "metadata": {},
   "outputs": [
    {
     "data": {
      "text/plain": [
       "'../../proc_revisions/ref/mouse/rmsk.txt'"
      ]
     },
     "execution_count": 5,
     "metadata": {},
     "output_type": "execute_result"
    }
   ],
   "source": [
    "repeats"
   ]
  },
  {
   "cell_type": "code",
   "execution_count": 6,
   "id": "c0ac774d-6fda-4045-8800-a0332f7b19f3",
   "metadata": {},
   "outputs": [
    {
     "data": {
      "text/html": [
       "<div>\n",
       "<style scoped>\n",
       "    .dataframe tbody tr th:only-of-type {\n",
       "        vertical-align: middle;\n",
       "    }\n",
       "\n",
       "    .dataframe tbody tr th {\n",
       "        vertical-align: top;\n",
       "    }\n",
       "\n",
       "    .dataframe thead th {\n",
       "        text-align: right;\n",
       "    }\n",
       "</style>\n",
       "<table border=\"1\" class=\"dataframe\">\n",
       "  <thead>\n",
       "    <tr style=\"text-align: right;\">\n",
       "      <th></th>\n",
       "      <th>0</th>\n",
       "      <th>1</th>\n",
       "      <th>2</th>\n",
       "      <th>3</th>\n",
       "      <th>4</th>\n",
       "      <th>5</th>\n",
       "      <th>6</th>\n",
       "      <th>7</th>\n",
       "      <th>8</th>\n",
       "      <th>9</th>\n",
       "      <th>10</th>\n",
       "      <th>11</th>\n",
       "      <th>12</th>\n",
       "      <th>13</th>\n",
       "      <th>14</th>\n",
       "      <th>15</th>\n",
       "      <th>16</th>\n",
       "    </tr>\n",
       "  </thead>\n",
       "  <tbody>\n",
       "    <tr>\n",
       "      <th>0</th>\n",
       "      <td>607</td>\n",
       "      <td>12955</td>\n",
       "      <td>105</td>\n",
       "      <td>9</td>\n",
       "      <td>10</td>\n",
       "      <td>chr1</td>\n",
       "      <td>3000000</td>\n",
       "      <td>3002128</td>\n",
       "      <td>-192469843</td>\n",
       "      <td>-</td>\n",
       "      <td>L1_Mus3</td>\n",
       "      <td>LINE</td>\n",
       "      <td>L1</td>\n",
       "      <td>-3055</td>\n",
       "      <td>3592</td>\n",
       "      <td>1466</td>\n",
       "      <td>1</td>\n",
       "    </tr>\n",
       "    <tr>\n",
       "      <th>1</th>\n",
       "      <td>607</td>\n",
       "      <td>1216</td>\n",
       "      <td>268</td>\n",
       "      <td>31</td>\n",
       "      <td>105</td>\n",
       "      <td>chr1</td>\n",
       "      <td>3003152</td>\n",
       "      <td>3003994</td>\n",
       "      <td>-192467977</td>\n",
       "      <td>-</td>\n",
       "      <td>L1Md_F</td>\n",
       "      <td>LINE</td>\n",
       "      <td>L1</td>\n",
       "      <td>-5902</td>\n",
       "      <td>617</td>\n",
       "      <td>1</td>\n",
       "      <td>2</td>\n",
       "    </tr>\n",
       "    <tr>\n",
       "      <th>2</th>\n",
       "      <td>607</td>\n",
       "      <td>234</td>\n",
       "      <td>279</td>\n",
       "      <td>0</td>\n",
       "      <td>0</td>\n",
       "      <td>chr1</td>\n",
       "      <td>3003993</td>\n",
       "      <td>3004054</td>\n",
       "      <td>-192467917</td>\n",
       "      <td>-</td>\n",
       "      <td>L1_Mus3</td>\n",
       "      <td>LINE</td>\n",
       "      <td>L1</td>\n",
       "      <td>-6034</td>\n",
       "      <td>297</td>\n",
       "      <td>237</td>\n",
       "      <td>3</td>\n",
       "    </tr>\n",
       "    <tr>\n",
       "      <th>3</th>\n",
       "      <td>607</td>\n",
       "      <td>3685</td>\n",
       "      <td>199</td>\n",
       "      <td>21</td>\n",
       "      <td>14</td>\n",
       "      <td>chr1</td>\n",
       "      <td>3004040</td>\n",
       "      <td>3004206</td>\n",
       "      <td>-192467765</td>\n",
       "      <td>+</td>\n",
       "      <td>L1_Rod</td>\n",
       "      <td>LINE</td>\n",
       "      <td>L1</td>\n",
       "      <td>1321</td>\n",
       "      <td>1492</td>\n",
       "      <td>-4355</td>\n",
       "      <td>4</td>\n",
       "    </tr>\n",
       "    <tr>\n",
       "      <th>4</th>\n",
       "      <td>607</td>\n",
       "      <td>376</td>\n",
       "      <td>62</td>\n",
       "      <td>31</td>\n",
       "      <td>0</td>\n",
       "      <td>chr1</td>\n",
       "      <td>3004206</td>\n",
       "      <td>3004270</td>\n",
       "      <td>-192467701</td>\n",
       "      <td>+</td>\n",
       "      <td>(CAAA)n</td>\n",
       "      <td>Simple_repeat</td>\n",
       "      <td>Simple_repeat</td>\n",
       "      <td>4</td>\n",
       "      <td>69</td>\n",
       "      <td>0</td>\n",
       "      <td>5</td>\n",
       "    </tr>\n",
       "  </tbody>\n",
       "</table>\n",
       "</div>"
      ],
      "text/plain": [
       "    0      1    2   3    4     5        6        7          8  9        10  \\\n",
       "0  607  12955  105   9   10  chr1  3000000  3002128 -192469843  -  L1_Mus3   \n",
       "1  607   1216  268  31  105  chr1  3003152  3003994 -192467977  -   L1Md_F   \n",
       "2  607    234  279   0    0  chr1  3003993  3004054 -192467917  -  L1_Mus3   \n",
       "3  607   3685  199  21   14  chr1  3004040  3004206 -192467765  +   L1_Rod   \n",
       "4  607    376   62  31    0  chr1  3004206  3004270 -192467701  +  (CAAA)n   \n",
       "\n",
       "              11             12    13    14    15  16  \n",
       "0           LINE             L1 -3055  3592  1466   1  \n",
       "1           LINE             L1 -5902   617     1   2  \n",
       "2           LINE             L1 -6034   297   237   3  \n",
       "3           LINE             L1  1321  1492 -4355   4  \n",
       "4  Simple_repeat  Simple_repeat     4    69     0   5  "
      ]
     },
     "execution_count": 6,
     "metadata": {},
     "output_type": "execute_result"
    }
   ],
   "source": [
    "df = pd.read_csv(repeats, sep='\\t', header=None)\n",
    "df.head()\n",
    "# df = pd.read_csv(repeats, sep='\\t', header=None,\n",
    "#                  usecols=[5,6,7,9,12],\n",
    "#                  names=['Chromosome', 'Start', 'End','Strand', 'Name'])"
   ]
  },
  {
   "cell_type": "code",
   "execution_count": null,
   "id": "6a7ccdb5-0716-49b9-9ddf-735f8c69d4b7",
   "metadata": {},
   "outputs": [],
   "source": []
  },
  {
   "cell_type": "code",
   "execution_count": 34,
   "id": "300861b9-491b-47cf-b22f-88245bf97c5f",
   "metadata": {},
   "outputs": [
    {
     "data": {
      "text/plain": [
       "array(['LINE', 'Simple_repeat', 'LTR', 'SINE', 'Low_complexity', 'DNA',\n",
       "       'snRNA', 'Other', 'Satellite', 'Unknown', 'SINE?', 'srpRNA',\n",
       "       'tRNA', 'LTR?', 'RNA', 'scRNA', 'RC', 'rRNA', 'DNA?', 'RC?',\n",
       "       'LINE?', 'Retroposon'], dtype=object)"
      ]
     },
     "execution_count": 34,
     "metadata": {},
     "output_type": "execute_result"
    }
   ],
   "source": [
    "df[11].unique()"
   ]
  },
  {
   "cell_type": "code",
   "execution_count": 7,
   "id": "05670256-3f97-44cc-b0d9-88186c4f3ebf",
   "metadata": {},
   "outputs": [
    {
     "data": {
      "text/plain": [
       "array(['B2', 'B4', 'ID', 'Alu', 'MIR', 'tRNA', 'Deu', 'tRNA-RTE',\n",
       "       '5S-Deu-L2', 'tRNA-Deu'], dtype=object)"
      ]
     },
     "execution_count": 7,
     "metadata": {},
     "output_type": "execute_result"
    }
   ],
   "source": [
    "df.loc[df[11]=='SINE'][12].unique()"
   ]
  },
  {
   "cell_type": "code",
   "execution_count": 8,
   "id": "b438743e-bdfd-4934-a9c1-abe85228220f",
   "metadata": {},
   "outputs": [
    {
     "data": {
      "text/plain": [
       "601652"
      ]
     },
     "execution_count": 8,
     "metadata": {},
     "output_type": "execute_result"
    }
   ],
   "source": [
    "len(df.loc[df[12]=='Alu'].index)"
   ]
  },
  {
   "cell_type": "code",
   "execution_count": 9,
   "id": "df5e9fa8-1672-4071-9a73-a3c0771fee46",
   "metadata": {},
   "outputs": [
    {
     "data": {
      "text/plain": [
       "1406140"
      ]
     },
     "execution_count": 9,
     "metadata": {},
     "output_type": "execute_result"
    }
   ],
   "source": [
    "len(df.loc[df[12].isin(['Alu', 'B2', 'B4'])].index)"
   ]
  },
  {
   "cell_type": "code",
   "execution_count": 35,
   "id": "41803d45-fa85-4635-bdd9-8a6c6fbda423",
   "metadata": {},
   "outputs": [
    {
     "data": {
      "text/plain": [
       "array(['L1', 'Simple_repeat', 'ERVK', 'B2', 'Low_complexity', 'ERV1',\n",
       "       'B4', 'TcMar-Tigger', 'ERVL', 'ID', 'ERVL-MaLR', 'Alu',\n",
       "       'hAT-Charlie', 'L2', 'snRNA', 'Other', 'RTE-X', 'hAT-Tip100',\n",
       "       'Gypsy', 'MIR', 'Satellite', 'ERVK?', 'Unknown', 'SINE?', 'srpRNA',\n",
       "       'RTE-BovB', 'CR1', 'tRNA', 'Gypsy?', 'LTR?', 'TcMar-Mariner',\n",
       "       'LTR', 'RNA', 'scRNA', 'TcMar-Tc2', 'Y-chromosome', 'Helitron',\n",
       "       'PiggyBac', 'Deu', 'ERVL?', 'MULE-MuDR', 'hAT', 'TcMar?',\n",
       "       'hAT-Blackjack', 'rRNA', 'DNA', 'ERV1?', 'DNA?', 'Helitron?',\n",
       "       'hAT?', 'hAT-Tip100?', 'PiggyBac?', 'L1?', 'Penelope?', 'Dong-R4',\n",
       "       'TcMar', 'MuDR', 'TcMar-Pogo', 'centr', 'I-Jockey', 'L1-dep?',\n",
       "       'hAT-Ac', 'tRNA-RTE', '5S-Deu-L2', 'Penelope', 'tRNA-Deu',\n",
       "       'hAT-Tag1', 'TcMar-Tc1', 'Merlin', 'PIF-Harbinger', 'Kolobok',\n",
       "       'Crypton', 'Crypton-A?'], dtype=object)"
      ]
     },
     "execution_count": 35,
     "metadata": {},
     "output_type": "execute_result"
    }
   ],
   "source": [
    "df[12].unique()"
   ]
  },
  {
   "cell_type": "code",
   "execution_count": 36,
   "id": "030589a4-a71a-40c9-8a61-e0d091bb583a",
   "metadata": {},
   "outputs": [
    {
     "data": {
      "text/plain": [
       "['PIF-Harbinger', 'Kolobok']"
      ]
     },
     "execution_count": 36,
     "metadata": {},
     "output_type": "execute_result"
    }
   ],
   "source": [
    "[c for c in df[12].unique() if 'b' in c]"
   ]
  },
  {
   "cell_type": "code",
   "execution_count": 37,
   "id": "55b3efda-9b3d-47fc-adfb-9a8edc52be6f",
   "metadata": {},
   "outputs": [
    {
     "data": {
      "text/plain": [
       "['B2', 'B4', 'RTE-BovB', 'PiggyBac', 'hAT-Blackjack', 'PiggyBac?']"
      ]
     },
     "execution_count": 37,
     "metadata": {},
     "output_type": "execute_result"
    }
   ],
   "source": [
    "[c for c in df[12].unique() if 'B' in c]"
   ]
  },
  {
   "cell_type": "code",
   "execution_count": null,
   "id": "d81b2e85-5574-4738-a6e5-bbbd5d0421e0",
   "metadata": {},
   "outputs": [],
   "source": []
  }
 ],
 "metadata": {
  "kernelspec": {
   "display_name": "Python 3",
   "language": "python",
   "name": "python3"
  },
  "language_info": {
   "codemirror_mode": {
    "name": "ipython",
    "version": 3
   },
   "file_extension": ".py",
   "mimetype": "text/x-python",
   "name": "python",
   "nbconvert_exporter": "python",
   "pygments_lexer": "ipython3",
   "version": "3.7.12"
  }
 },
 "nbformat": 4,
 "nbformat_minor": 5
}
