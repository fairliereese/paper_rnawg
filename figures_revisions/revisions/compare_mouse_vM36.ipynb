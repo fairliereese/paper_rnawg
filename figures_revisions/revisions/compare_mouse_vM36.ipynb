{
 "cells": [
  {
   "cell_type": "code",
   "execution_count": 1,
   "id": "daee176a-895b-4b29-a0c9-35a896d22c21",
   "metadata": {},
   "outputs": [],
   "source": [
    "import pandas as pd\n",
    "import numpy as np\n",
    "import scipy.stats as st\n",
    "import seaborn as sns\n",
    "import sys\n",
    "import os\n",
    "import gseapy as gp\n",
    "import matplotlib.pyplot as plt\n",
    "import swan_vis as swan\n",
    "import yaml\n",
    "from snakemake.io import expand\n",
    "\n",
    "p = os.path.dirname(os.path.dirname(os.getcwd()))\n",
    "sys.path.append(p)\n",
    "\n",
    "from proc_revisions.utils import *\n",
    "from proc_revisions.plotting import *\n",
    "# from proc_revisions.mane_utils import *"
   ]
  },
  {
   "cell_type": "code",
   "execution_count": 2,
   "id": "9bfcb75f-49ed-43e8-8c88-b4dc58baf720",
   "metadata": {},
   "outputs": [],
   "source": [
    "od = '../../proc_revisions/'\n",
    "config_file = f'{od}/config.yml'\n",
    "with open(config_file) as f:\n",
    "    config = yaml.safe_load(f)"
   ]
  },
  {
   "cell_type": "code",
   "execution_count": 3,
   "id": "e525eca7-eaa8-4081-a165-f55f0eaf5560",
   "metadata": {},
   "outputs": [],
   "source": [
    "species = 'human'\n",
    "ab = od+expand(config['lr']['talon']['fusion_fix']['ab'], species='human')[0]\n",
    "filt_ab = od+expand(config['lr']['cerberus']['filt_ab'], species=species)[0]\n",
    "gtf = od+expand(config['lr']['cerberus']['gtf'], species=species)[0]\n",
    "lib_meta = od+expand(config['lr']['meta'], species=species)[0]\n",
    "cerberus_h5 = od+expand(config['lr']['cerberus']['ca_triplets'], species=species, obs_col='sample')[0]\n",
    "swan_file = od+expand(config['lr']['swan']['sg'], species=species)[0]\n",
    "ref_gtf = od+expand(config['ref']['new_gtf'], species=species)[0]\n",
    "pp_summary = od+expand(config['lr']['protein_pred']['summary'], species='human')[0]\n",
    "gtf_file = od+expand(config['lr']['cerberus']['gtf'], species='human')[0]\n",
    "\n",
    "gtex_gtf_file = od+expand(config['gtex']['gtf'], species='human')[0]\n",
    "\n",
    "gene_subset = 'polya'\n",
    "min_tpm = 1\n",
    "\n",
    "species = 'mouse'\n",
    "m_filt_ab = od+expand(config['lr']['cerberus']['filt_ab'], species=species)[0]\n",
    "m_gtf = od+expand(config['lr']['cerberus']['gtf'], species=species)[0]\n",
    "m_lib_meta = od+expand(config['lr']['meta'], species=species)[0]\n",
    "m_cerberus_h5 = od+expand(config['lr']['cerberus']['ca_triplets'], species=species, obs_col='sample')[0]\n",
    "m_swan_file = od+expand(config['lr']['swan']['sg'], species=species)[0]\n",
    "m_ref_gtf = od+expand(config['ref']['new_gtf'], species=species)[0]\n"
   ]
  },
  {
   "cell_type": "markdown",
   "id": "512aca54-ff77-48e2-91e1-e6ac2c602c1a",
   "metadata": {},
   "source": [
    "## Get novel transcripts in BED format"
   ]
  },
  {
   "cell_type": "code",
   "execution_count": 7,
   "id": "3e0958f5-f006-4f71-b346-c29fc4ece9ca",
   "metadata": {},
   "outputs": [],
   "source": [
    "gtf_df = pr.read_gtf(m_gtf).df"
   ]
  },
  {
   "cell_type": "code",
   "execution_count": 8,
   "id": "b5789ad5-ec98-4b27-a896-617cf91fb1b5",
   "metadata": {},
   "outputs": [
    {
     "name": "stdout",
     "output_type": "stream",
     "text": [
      "Calculating iso TPM values\n"
     ]
    },
    {
     "name": "stderr",
     "output_type": "stream",
     "text": [
      "/Users/fairliereese/Documents/programming/mortazavi_lab/data/paper_rnawg/proc_revisions/utils.py:2110: PerformanceWarning: DataFrame is highly fragmented.  This is usually the result of calling `frame.insert` many times, which has poor performance.  Consider joining all columns at once using pd.concat(axis=1) instead.  To get a de-fragmented frame, use `newframe = frame.copy()`\n",
      "  df[tpm_col] = (df[d]*1000000)/df[total_col]\n",
      "/Users/fairliereese/Documents/programming/mortazavi_lab/data/paper_rnawg/proc_revisions/utils.py:2109: PerformanceWarning: DataFrame is highly fragmented.  This is usually the result of calling `frame.insert` many times, which has poor performance.  Consider joining all columns at once using pd.concat(axis=1) instead.  To get a de-fragmented frame, use `newframe = frame.copy()`\n",
      "  df[total_col] = df[d].sum()\n"
     ]
    },
    {
     "name": "stdout",
     "output_type": "stream",
     "text": [
      "Enforcing minimum TPM\n",
      "Total # isos detected: 153398\n",
      "# isos >= 1 tpm: 142504\n",
      "Number of isos reported: 142504\n"
     ]
    },
    {
     "data": {
      "text/html": [
       "<div>\n",
       "<style scoped>\n",
       "    .dataframe tbody tr th:only-of-type {\n",
       "        vertical-align: middle;\n",
       "    }\n",
       "\n",
       "    .dataframe tbody tr th {\n",
       "        vertical-align: top;\n",
       "    }\n",
       "\n",
       "    .dataframe thead th {\n",
       "        text-align: right;\n",
       "    }\n",
       "</style>\n",
       "<table border=\"1\" class=\"dataframe\">\n",
       "  <thead>\n",
       "    <tr style=\"text-align: right;\">\n",
       "      <th></th>\n",
       "      <th>index</th>\n",
       "      <th>annot_transcript_id</th>\n",
       "      <th>adrenal_14d_f_2</th>\n",
       "      <th>hippocampus_18-20mo_m_1</th>\n",
       "      <th>hippocampus_2mo_f_1</th>\n",
       "      <th>cortex_wt_m_2_2</th>\n",
       "      <th>adrenal_gland_2_2</th>\n",
       "      <th>adrenal_4d_f_1</th>\n",
       "      <th>adrenal_36d_m_1</th>\n",
       "      <th>cortex_14d_f_2</th>\n",
       "      <th>...</th>\n",
       "      <th>gastroc_2mo_f_1</th>\n",
       "      <th>gastroc_14d_f_2</th>\n",
       "      <th>hippocampus_wt_f_1_2</th>\n",
       "      <th>gastroc_25d_m_2</th>\n",
       "      <th>hippocampus_5x_f_1_1</th>\n",
       "      <th>heart_2mo_m_1</th>\n",
       "      <th>adrenal_4d_m_1</th>\n",
       "      <th>adrenal_18-20mo_m_1</th>\n",
       "      <th>gid</th>\n",
       "      <th>gene_novelty</th>\n",
       "    </tr>\n",
       "  </thead>\n",
       "  <tbody>\n",
       "    <tr>\n",
       "      <th>0</th>\n",
       "      <td>0</td>\n",
       "      <td>ENSMUSG00000051951[2,2,3]</td>\n",
       "      <td>0.0</td>\n",
       "      <td>0.0</td>\n",
       "      <td>0.0</td>\n",
       "      <td>0.451524</td>\n",
       "      <td>0.0</td>\n",
       "      <td>0.0</td>\n",
       "      <td>0.0</td>\n",
       "      <td>0.0</td>\n",
       "      <td>...</td>\n",
       "      <td>0.0</td>\n",
       "      <td>0.000000</td>\n",
       "      <td>0.629709</td>\n",
       "      <td>0.0</td>\n",
       "      <td>0.0</td>\n",
       "      <td>0.0</td>\n",
       "      <td>0.0</td>\n",
       "      <td>0.0</td>\n",
       "      <td>ENSMUSG00000051951</td>\n",
       "      <td>Known</td>\n",
       "    </tr>\n",
       "    <tr>\n",
       "      <th>1</th>\n",
       "      <td>1</td>\n",
       "      <td>ENSMUSG00000089699[1,1,1]</td>\n",
       "      <td>0.0</td>\n",
       "      <td>0.0</td>\n",
       "      <td>0.0</td>\n",
       "      <td>0.000000</td>\n",
       "      <td>0.0</td>\n",
       "      <td>0.0</td>\n",
       "      <td>0.0</td>\n",
       "      <td>0.0</td>\n",
       "      <td>...</td>\n",
       "      <td>0.0</td>\n",
       "      <td>1.123974</td>\n",
       "      <td>0.000000</td>\n",
       "      <td>0.0</td>\n",
       "      <td>0.0</td>\n",
       "      <td>0.0</td>\n",
       "      <td>0.0</td>\n",
       "      <td>0.0</td>\n",
       "      <td>ENSMUSG00000089699</td>\n",
       "      <td>Known</td>\n",
       "    </tr>\n",
       "    <tr>\n",
       "      <th>2</th>\n",
       "      <td>2</td>\n",
       "      <td>ENSMUSG00000103161[1,1,1]</td>\n",
       "      <td>0.0</td>\n",
       "      <td>0.0</td>\n",
       "      <td>0.0</td>\n",
       "      <td>0.000000</td>\n",
       "      <td>0.0</td>\n",
       "      <td>0.0</td>\n",
       "      <td>0.0</td>\n",
       "      <td>0.0</td>\n",
       "      <td>...</td>\n",
       "      <td>0.0</td>\n",
       "      <td>0.000000</td>\n",
       "      <td>0.629709</td>\n",
       "      <td>0.0</td>\n",
       "      <td>0.0</td>\n",
       "      <td>0.0</td>\n",
       "      <td>0.0</td>\n",
       "      <td>0.0</td>\n",
       "      <td>ENSMUSG00000103161</td>\n",
       "      <td>Known</td>\n",
       "    </tr>\n",
       "    <tr>\n",
       "      <th>3</th>\n",
       "      <td>3</td>\n",
       "      <td>ENSMUSG00000025902[1,2,1]</td>\n",
       "      <td>0.0</td>\n",
       "      <td>0.0</td>\n",
       "      <td>0.0</td>\n",
       "      <td>0.000000</td>\n",
       "      <td>0.0</td>\n",
       "      <td>0.0</td>\n",
       "      <td>0.0</td>\n",
       "      <td>0.0</td>\n",
       "      <td>...</td>\n",
       "      <td>0.0</td>\n",
       "      <td>0.000000</td>\n",
       "      <td>0.000000</td>\n",
       "      <td>0.0</td>\n",
       "      <td>0.0</td>\n",
       "      <td>0.0</td>\n",
       "      <td>0.0</td>\n",
       "      <td>0.0</td>\n",
       "      <td>ENSMUSG00000025902</td>\n",
       "      <td>Known</td>\n",
       "    </tr>\n",
       "    <tr>\n",
       "      <th>4</th>\n",
       "      <td>4</td>\n",
       "      <td>ENSMUSG00000025902[1,2,3]</td>\n",
       "      <td>0.0</td>\n",
       "      <td>0.0</td>\n",
       "      <td>0.0</td>\n",
       "      <td>0.000000</td>\n",
       "      <td>0.0</td>\n",
       "      <td>0.0</td>\n",
       "      <td>0.0</td>\n",
       "      <td>0.0</td>\n",
       "      <td>...</td>\n",
       "      <td>0.0</td>\n",
       "      <td>1.123974</td>\n",
       "      <td>1.259419</td>\n",
       "      <td>0.0</td>\n",
       "      <td>0.0</td>\n",
       "      <td>0.0</td>\n",
       "      <td>0.0</td>\n",
       "      <td>0.0</td>\n",
       "      <td>ENSMUSG00000025902</td>\n",
       "      <td>Known</td>\n",
       "    </tr>\n",
       "  </tbody>\n",
       "</table>\n",
       "<p>5 rows × 131 columns</p>\n",
       "</div>"
      ],
      "text/plain": [
       "   index        annot_transcript_id  adrenal_14d_f_2  hippocampus_18-20mo_m_1  \\\n",
       "0      0  ENSMUSG00000051951[2,2,3]              0.0                      0.0   \n",
       "1      1  ENSMUSG00000089699[1,1,1]              0.0                      0.0   \n",
       "2      2  ENSMUSG00000103161[1,1,1]              0.0                      0.0   \n",
       "3      3  ENSMUSG00000025902[1,2,1]              0.0                      0.0   \n",
       "4      4  ENSMUSG00000025902[1,2,3]              0.0                      0.0   \n",
       "\n",
       "   hippocampus_2mo_f_1  cortex_wt_m_2_2  adrenal_gland_2_2  adrenal_4d_f_1  \\\n",
       "0                  0.0         0.451524                0.0             0.0   \n",
       "1                  0.0         0.000000                0.0             0.0   \n",
       "2                  0.0         0.000000                0.0             0.0   \n",
       "3                  0.0         0.000000                0.0             0.0   \n",
       "4                  0.0         0.000000                0.0             0.0   \n",
       "\n",
       "   adrenal_36d_m_1  cortex_14d_f_2  ...  gastroc_2mo_f_1  gastroc_14d_f_2  \\\n",
       "0              0.0             0.0  ...              0.0         0.000000   \n",
       "1              0.0             0.0  ...              0.0         1.123974   \n",
       "2              0.0             0.0  ...              0.0         0.000000   \n",
       "3              0.0             0.0  ...              0.0         0.000000   \n",
       "4              0.0             0.0  ...              0.0         1.123974   \n",
       "\n",
       "   hippocampus_wt_f_1_2  gastroc_25d_m_2  hippocampus_5x_f_1_1  heart_2mo_m_1  \\\n",
       "0              0.629709              0.0                   0.0            0.0   \n",
       "1              0.000000              0.0                   0.0            0.0   \n",
       "2              0.629709              0.0                   0.0            0.0   \n",
       "3              0.000000              0.0                   0.0            0.0   \n",
       "4              1.259419              0.0                   0.0            0.0   \n",
       "\n",
       "   adrenal_4d_m_1  adrenal_18-20mo_m_1                 gid  gene_novelty  \n",
       "0             0.0                  0.0  ENSMUSG00000051951         Known  \n",
       "1             0.0                  0.0  ENSMUSG00000089699         Known  \n",
       "2             0.0                  0.0  ENSMUSG00000103161         Known  \n",
       "3             0.0                  0.0  ENSMUSG00000025902         Known  \n",
       "4             0.0                  0.0  ENSMUSG00000025902         Known  \n",
       "\n",
       "[5 rows x 131 columns]"
      ]
     },
     "execution_count": 8,
     "metadata": {},
     "output_type": "execute_result"
    }
   ],
   "source": [
    "# get expressed novel genes\n",
    "df = pd.read_csv(m_filt_ab, sep='\\t')\n",
    "df, _ = get_tpm_table(df, \n",
    "                      how='iso',\n",
    "                      min_tpm=1,\n",
    "                      gene_subset=None,\n",
    "                      species='mouse')\n",
    "\n",
    "df.reset_index(inplace=True)\n",
    "df['gid'] = df.annot_transcript_id.str.split('[', expand=True)[0]\n",
    "df.head()\n",
    "df.reset_index(inplace=True)\n",
    "df.rename({'gid_stable':'gid'}, axis=1, inplace=True)\n",
    "ab_df = pd.read_csv(m_filt_ab, sep='\\t')\n",
    "ab_df['gid'] = ab_df.annot_transcript_id.str.split('[', expand=True)[0]\n",
    "ab_df = ab_df[['gid', 'gene_novelty']].drop_duplicates()\n",
    "ab_df.loc[ab_df.gid.duplicated(keep=False)].sort_values(by='gid')\n",
    "assert len(ab_df.loc[ab_df.gid.duplicated(keep=False)].index) == 0\n",
    "df = df.merge(ab_df, how='left', on='gid')\n",
    "df.loc[df.gene_novelty=='Fusion', 'gene_novelty'] = 'Readthrough'\n",
    "df.head()"
   ]
  },
  {
   "cell_type": "code",
   "execution_count": 10,
   "id": "19fb8c02-26be-4989-b4ac-cef8d374d896",
   "metadata": {},
   "outputs": [],
   "source": [
    "# get novelty types of each IC from cerberus\n",
    "ca = cerberus.read(m_cerberus_h5)\n",
    "temp = ca.ic.copy(deep=True)"
   ]
  },
  {
   "cell_type": "code",
   "execution_count": 13,
   "id": "e92d251c-f6e8-4de0-987e-cf3698c8c187",
   "metadata": {},
   "outputs": [],
   "source": [
    "df['ic_id'] = df['gid']+'_'+\\\n",
    "    df.annot_transcript_id.str.split('[',expand=True)[1].str.split(',', expand=True)[1]"
   ]
  },
  {
   "cell_type": "code",
   "execution_count": 21,
   "id": "d15cc448-c6a0-45b4-8c75-9cf3192a711d",
   "metadata": {},
   "outputs": [],
   "source": [
    "df = df.merge(temp[['Name', 'novelty']],\n",
    "              how='left',\n",
    "              left_on='ic_id',\n",
    "              right_on='Name')"
   ]
  },
  {
   "cell_type": "code",
   "execution_count": 24,
   "id": "053e65ee-9093-446b-b7b7-66ee016b2f99",
   "metadata": {},
   "outputs": [
    {
     "data": {
      "text/html": [
       "<div>\n",
       "<style scoped>\n",
       "    .dataframe tbody tr th:only-of-type {\n",
       "        vertical-align: middle;\n",
       "    }\n",
       "\n",
       "    .dataframe tbody tr th {\n",
       "        vertical-align: top;\n",
       "    }\n",
       "\n",
       "    .dataframe thead th {\n",
       "        text-align: right;\n",
       "    }\n",
       "</style>\n",
       "<table border=\"1\" class=\"dataframe\">\n",
       "  <thead>\n",
       "    <tr style=\"text-align: right;\">\n",
       "      <th></th>\n",
       "      <th>annot_transcript_id</th>\n",
       "    </tr>\n",
       "    <tr>\n",
       "      <th>novelty</th>\n",
       "      <th></th>\n",
       "    </tr>\n",
       "  </thead>\n",
       "  <tbody>\n",
       "    <tr>\n",
       "      <th>ISM</th>\n",
       "      <td>7275</td>\n",
       "    </tr>\n",
       "    <tr>\n",
       "      <th>Known</th>\n",
       "      <td>93866</td>\n",
       "    </tr>\n",
       "    <tr>\n",
       "      <th>NIC</th>\n",
       "      <td>22847</td>\n",
       "    </tr>\n",
       "    <tr>\n",
       "      <th>NNC</th>\n",
       "      <td>18516</td>\n",
       "    </tr>\n",
       "  </tbody>\n",
       "</table>\n",
       "</div>"
      ],
      "text/plain": [
       "         annot_transcript_id\n",
       "novelty                     \n",
       "ISM                     7275\n",
       "Known                  93866\n",
       "NIC                    22847\n",
       "NNC                    18516"
      ]
     },
     "execution_count": 24,
     "metadata": {},
     "output_type": "execute_result"
    }
   ],
   "source": [
    "df[['annot_transcript_id', 'novelty']].groupby('novelty').nunique()"
   ]
  },
  {
   "cell_type": "code",
   "execution_count": 25,
   "id": "448e2f44-553a-4407-8962-e8b84885de10",
   "metadata": {},
   "outputs": [
    {
     "data": {
      "text/html": [
       "<div>\n",
       "<style scoped>\n",
       "    .dataframe tbody tr th:only-of-type {\n",
       "        vertical-align: middle;\n",
       "    }\n",
       "\n",
       "    .dataframe tbody tr th {\n",
       "        vertical-align: top;\n",
       "    }\n",
       "\n",
       "    .dataframe thead th {\n",
       "        text-align: right;\n",
       "    }\n",
       "</style>\n",
       "<table border=\"1\" class=\"dataframe\">\n",
       "  <thead>\n",
       "    <tr style=\"text-align: right;\">\n",
       "      <th></th>\n",
       "      <th>annot_transcript_id</th>\n",
       "    </tr>\n",
       "    <tr>\n",
       "      <th>gene_novelty</th>\n",
       "      <th></th>\n",
       "    </tr>\n",
       "  </thead>\n",
       "  <tbody>\n",
       "    <tr>\n",
       "      <th>Intergenic</th>\n",
       "      <td>29</td>\n",
       "    </tr>\n",
       "    <tr>\n",
       "      <th>Known</th>\n",
       "      <td>142366</td>\n",
       "    </tr>\n",
       "    <tr>\n",
       "      <th>Readthrough</th>\n",
       "      <td>109</td>\n",
       "    </tr>\n",
       "  </tbody>\n",
       "</table>\n",
       "</div>"
      ],
      "text/plain": [
       "              annot_transcript_id\n",
       "gene_novelty                     \n",
       "Intergenic                     29\n",
       "Known                      142366\n",
       "Readthrough                   109"
      ]
     },
     "execution_count": 25,
     "metadata": {},
     "output_type": "execute_result"
    }
   ],
   "source": [
    "df[['annot_transcript_id', 'gene_novelty']].groupby('gene_novelty').nunique()"
   ]
  },
  {
   "cell_type": "code",
   "execution_count": 26,
   "id": "4840a809-b99c-4d61-994a-9c313a6df284",
   "metadata": {},
   "outputs": [
    {
     "data": {
      "text/html": [
       "<div>\n",
       "<style scoped>\n",
       "    .dataframe tbody tr th:only-of-type {\n",
       "        vertical-align: middle;\n",
       "    }\n",
       "\n",
       "    .dataframe tbody tr th {\n",
       "        vertical-align: top;\n",
       "    }\n",
       "\n",
       "    .dataframe thead th {\n",
       "        text-align: right;\n",
       "    }\n",
       "</style>\n",
       "<table border=\"1\" class=\"dataframe\">\n",
       "  <thead>\n",
       "    <tr style=\"text-align: right;\">\n",
       "      <th></th>\n",
       "      <th></th>\n",
       "      <th>annot_transcript_id</th>\n",
       "    </tr>\n",
       "    <tr>\n",
       "      <th>gene_novelty</th>\n",
       "      <th>novelty</th>\n",
       "      <th></th>\n",
       "    </tr>\n",
       "  </thead>\n",
       "  <tbody>\n",
       "    <tr>\n",
       "      <th>Intergenic</th>\n",
       "      <th>NNC</th>\n",
       "      <td>29</td>\n",
       "    </tr>\n",
       "    <tr>\n",
       "      <th rowspan=\"4\" valign=\"top\">Known</th>\n",
       "      <th>ISM</th>\n",
       "      <td>7275</td>\n",
       "    </tr>\n",
       "    <tr>\n",
       "      <th>Known</th>\n",
       "      <td>93866</td>\n",
       "    </tr>\n",
       "    <tr>\n",
       "      <th>NIC</th>\n",
       "      <td>22847</td>\n",
       "    </tr>\n",
       "    <tr>\n",
       "      <th>NNC</th>\n",
       "      <td>18378</td>\n",
       "    </tr>\n",
       "    <tr>\n",
       "      <th>Readthrough</th>\n",
       "      <th>NNC</th>\n",
       "      <td>109</td>\n",
       "    </tr>\n",
       "  </tbody>\n",
       "</table>\n",
       "</div>"
      ],
      "text/plain": [
       "                      annot_transcript_id\n",
       "gene_novelty novelty                     \n",
       "Intergenic   NNC                       29\n",
       "Known        ISM                     7275\n",
       "             Known                  93866\n",
       "             NIC                    22847\n",
       "             NNC                    18378\n",
       "Readthrough  NNC                      109"
      ]
     },
     "execution_count": 26,
     "metadata": {},
     "output_type": "execute_result"
    }
   ],
   "source": [
    "df[['annot_transcript_id', 'gene_novelty', 'novelty']].groupby(['gene_novelty', 'novelty']).nunique()"
   ]
  },
  {
   "cell_type": "code",
   "execution_count": 30,
   "id": "03c913be-21fe-45cf-9ce3-a1784b437fb5",
   "metadata": {},
   "outputs": [
    {
     "name": "stdout",
     "output_type": "stream",
     "text": [
      "48638\n"
     ]
    }
   ],
   "source": [
    "# list of detected, novel transcripts\n",
    "tids = df.loc[df.novelty!='Known'].annot_transcript_id.tolist()\n",
    "print(len(tids))"
   ]
  },
  {
   "cell_type": "code",
   "execution_count": 32,
   "id": "c3c7c740-bbc1-44eb-aec5-579045d06d67",
   "metadata": {},
   "outputs": [
    {
     "name": "stdout",
     "output_type": "stream",
     "text": [
      "48638\n"
     ]
    }
   ],
   "source": [
    "# filter gtf and save\n",
    "gtf_df = gtf_df.loc[gtf_df.transcript_id.isin(tids)]\n",
    "print(len(gtf_df.transcript_id.unique()))\n",
    "\n",
    "pr.PyRanges(gtf_df).to_gtf('mouse_novel_transcripts.gtf')"
   ]
  },
  {
   "cell_type": "code",
   "execution_count": null,
   "id": "98f62c5d-21d5-4403-87b0-7dfa87d5c48d",
   "metadata": {},
   "outputs": [],
   "source": [
    "# convert to BED\n"
   ]
  },
  {
   "cell_type": "code",
   "execution_count": null,
   "id": "ce4a26f2-99cd-4893-8515-21b6c86a83d4",
   "metadata": {},
   "outputs": [],
   "source": []
  },
  {
   "cell_type": "code",
   "execution_count": null,
   "id": "43f93af9-4fc6-407f-8eea-71bc477453d4",
   "metadata": {},
   "outputs": [],
   "source": []
  },
  {
   "cell_type": "markdown",
   "id": "fc1be107-c11b-4208-859a-5bba1860fa26",
   "metadata": {},
   "source": [
    "## Liftover"
   ]
  },
  {
   "cell_type": "code",
   "execution_count": 6,
   "id": "2bdc6fad-3477-452d-aa25-54cf6f4b4c02",
   "metadata": {},
   "outputs": [],
   "source": [
    "# download the chain file\n",
    "# !wget https://hgdownload.soe.ucsc.edu/goldenPath/mm39/liftOver/mm39ToMm10.over.chain.gz -O /Users/fairliereese/Documents/programming/mortazavi_lab/data/paper_rnawg/proc_revisions/ref/mouse/mm39ToMm10.over.chain.gz"
   ]
  },
  {
   "cell_type": "code",
   "execution_count": null,
   "id": "d3f26cd6-4cea-4d96-b0cf-6be7b7db13a2",
   "metadata": {},
   "outputs": [],
   "source": []
  }
 ],
 "metadata": {
  "kernelspec": {
   "display_name": "Python 3",
   "language": "python",
   "name": "python3"
  },
  "language_info": {
   "codemirror_mode": {
    "name": "ipython",
    "version": 3
   },
   "file_extension": ".py",
   "mimetype": "text/x-python",
   "name": "python",
   "nbconvert_exporter": "python",
   "pygments_lexer": "ipython3",
   "version": "3.7.12"
  }
 },
 "nbformat": 4,
 "nbformat_minor": 5
}
