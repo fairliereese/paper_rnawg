{
 "cells": [
  {
   "cell_type": "code",
   "execution_count": 1,
   "id": "460e29c5-1880-4cca-a671-c0ea66056bb5",
   "metadata": {},
   "outputs": [],
   "source": [
    "import pandas as pd\n",
    "import numpy as np\n",
    "import scipy.stats as st\n",
    "import seaborn as sns\n",
    "import sys\n",
    "import os\n",
    "import gseapy as gp\n",
    "import matplotlib.pyplot as plt\n",
    "import swan_vis as swan\n",
    "import yaml\n",
    "from snakemake.io import expand\n",
    "\n",
    "p = os.path.dirname(os.path.dirname(os.getcwd()))\n",
    "sys.path.append(p)\n",
    "\n",
    "from proc_revisions.utils import *\n",
    "from proc_revisions.plotting import *\n",
    "# from proc_revisions.mane_utils import *"
   ]
  },
  {
   "cell_type": "code",
   "execution_count": 2,
   "id": "3602f5f3-4332-487d-be6f-1dd13c183b81",
   "metadata": {},
   "outputs": [],
   "source": [
    "od = '../../proc_revisions/'\n",
    "config_file = f'{od}/config.yml'\n",
    "with open(config_file) as f:\n",
    "    config = yaml.safe_load(f)"
   ]
  },
  {
   "cell_type": "code",
   "execution_count": 3,
   "id": "e1ed9148-6ff0-4385-a61c-73441c406ef2",
   "metadata": {},
   "outputs": [],
   "source": [
    "species = 'human'\n",
    "ab = od+expand(config['lr']['talon']['fusion_fix']['ab'], species='human')[0]\n",
    "filt_ab = od+expand(config['lr']['cerberus']['filt_ab'], species=species)[0]\n",
    "gtf = od+expand(config['lr']['cerberus']['gtf'], species=species)[0]\n",
    "lib_meta = od+expand(config['lr']['meta'], species=species)[0]\n",
    "cerberus_h5 = od+expand(config['lr']['cerberus']['ca_triplets'], species=species, obs_col='sample')[0]\n",
    "swan_file = od+expand(config['lr']['swan']['sg'], species=species)[0]\n",
    "ref_gtf = od+expand(config['ref']['new_gtf'], species=species)[0]\n",
    "pp_summary = od+expand(config['lr']['protein_pred']['summary'], species='human')[0]\n",
    "gtf_file = od+expand(config['lr']['cerberus']['gtf'], species='human')[0]\n",
    "\n",
    "gtex_gtf_file = od+expand(config['gtex']['gtf'], species='human')[0]\n",
    "\n",
    "gene_subset = 'polya'\n",
    "min_tpm = 1\n",
    "\n",
    "species = 'mouse'\n",
    "m_filt_ab = od+expand(config['lr']['cerberus']['filt_ab'], species=species)[0]\n",
    "m_gtf = od+expand(config['lr']['cerberus']['gtf'], species=species)[0]\n",
    "m_lib_meta = od+expand(config['lr']['meta'], species=species)[0]\n",
    "m_cerberus_h5 = od+expand(config['lr']['cerberus']['ca_triplets'], species=species, obs_col='sample')[0]\n",
    "m_swan_file = od+expand(config['lr']['swan']['sg'], species=species)[0]\n",
    "m_ref_gtf = od+expand(config['ref']['new_gtf'], species=species)[0]\n"
   ]
  },
  {
   "cell_type": "markdown",
   "id": "756df5df-349d-4152-8053-b7eb69842356",
   "metadata": {},
   "source": [
    "## Mouse -- how many vM36 transcripts do we detect by biotype, novelty?"
   ]
  },
  {
   "cell_type": "code",
   "execution_count": 4,
   "id": "9dd7ad60-4e3b-49f4-b9bb-4d419bd54b18",
   "metadata": {},
   "outputs": [],
   "source": [
    "def get_ic_id(df):\n",
    "    coord_col = 'ic'\n",
    "    if 'ic' not in df.columns:\n",
    "        coord_col = 'Coordinates'\n",
    "    df['ic_id'] = df.Chromosome.astype(str)+'_'+\\\n",
    "                  df.Strand.astype(str)+'_'+\\\n",
    "                  df[coord_col].astype(str)\n",
    "    return df"
   ]
  },
  {
   "cell_type": "code",
   "execution_count": 5,
   "id": "913f0109-1ece-46bb-9fe1-26976af57c38",
   "metadata": {},
   "outputs": [],
   "source": [
    "ref_gtf = '/Users/fairliereese/Documents/programming/mortazavi_lab/data/paper_rnawg/proc_revisions/ref/human/gencode.vM36.annotation.gtf'\n",
    "ref_gtf_df = pr.read_gtf(ref_gtf)\n",
    "ref_ics = cerberus.get_ic(ref_gtf_df)"
   ]
  },
  {
   "cell_type": "code",
   "execution_count": 6,
   "id": "9bf1d41b-eca4-40e4-91a1-e991c58a7d46",
   "metadata": {},
   "outputs": [],
   "source": [
    "ref_gtf_df = ref_gtf_df.df"
   ]
  },
  {
   "cell_type": "code",
   "execution_count": 7,
   "id": "273a0b24-ebdd-45e5-8b92-ab62a9f93adf",
   "metadata": {},
   "outputs": [],
   "source": [
    "# add biotype \n",
    "ref_gtf_df[['gene_id', 'gene_type']].groupby('gene_type').nunique()\n",
    "ref_ics = ref_ics.merge(ref_gtf_df[['gene_id', 'gene_type']].drop_duplicates(),\n",
    "                        how='left', \n",
    "                        on='gene_id')"
   ]
  },
  {
   "cell_type": "code",
   "execution_count": 8,
   "id": "573c19c2-b2f5-425f-b24e-7f024ae337e9",
   "metadata": {},
   "outputs": [],
   "source": [
    "gtf_df = pr.read_gtf(m_gtf)\n",
    "ics = cerberus.get_ic(gtf_df)"
   ]
  },
  {
   "cell_type": "code",
   "execution_count": 9,
   "id": "d370bbd6-fd23-4e5e-a87e-96b6e6cbf2ca",
   "metadata": {},
   "outputs": [],
   "source": [
    "# get ids for uniq chr+strand+ic pairs\n",
    "ref_ics = get_ic_id(ref_ics)\n",
    "ics = get_ic_id(ics)"
   ]
  },
  {
   "cell_type": "code",
   "execution_count": 23,
   "id": "afcf9c87-efb2-418c-99f8-46e1e1aa5b44",
   "metadata": {},
   "outputs": [
    {
     "name": "stdout",
     "output_type": "stream",
     "text": [
      "Calculating iso TPM values\n"
     ]
    },
    {
     "name": "stderr",
     "output_type": "stream",
     "text": [
      "/Users/fairliereese/Documents/programming/mortazavi_lab/data/paper_rnawg/proc_revisions/utils.py:2110: PerformanceWarning: DataFrame is highly fragmented.  This is usually the result of calling `frame.insert` many times, which has poor performance.  Consider joining all columns at once using pd.concat(axis=1) instead.  To get a de-fragmented frame, use `newframe = frame.copy()`\n",
      "  df[tpm_col] = (df[d]*1000000)/df[total_col]\n",
      "/Users/fairliereese/Documents/programming/mortazavi_lab/data/paper_rnawg/proc_revisions/utils.py:2109: PerformanceWarning: DataFrame is highly fragmented.  This is usually the result of calling `frame.insert` many times, which has poor performance.  Consider joining all columns at once using pd.concat(axis=1) instead.  To get a de-fragmented frame, use `newframe = frame.copy()`\n",
      "  df[total_col] = df[d].sum()\n"
     ]
    },
    {
     "name": "stdout",
     "output_type": "stream",
     "text": [
      "Enforcing minimum TPM\n",
      "Total # isos detected: 153398\n",
      "# isos >= 1 tpm: 142504\n",
      "Number of isos reported: 142504\n"
     ]
    },
    {
     "data": {
      "text/html": [
       "<div>\n",
       "<style scoped>\n",
       "    .dataframe tbody tr th:only-of-type {\n",
       "        vertical-align: middle;\n",
       "    }\n",
       "\n",
       "    .dataframe tbody tr th {\n",
       "        vertical-align: top;\n",
       "    }\n",
       "\n",
       "    .dataframe thead th {\n",
       "        text-align: right;\n",
       "    }\n",
       "</style>\n",
       "<table border=\"1\" class=\"dataframe\">\n",
       "  <thead>\n",
       "    <tr style=\"text-align: right;\">\n",
       "      <th></th>\n",
       "      <th>index</th>\n",
       "      <th>annot_transcript_id</th>\n",
       "      <th>cortex_2mo_f_1</th>\n",
       "      <th>gastroc_10d_f_2</th>\n",
       "      <th>hippocampus_2mo_f_1</th>\n",
       "      <th>hippocampus_wt_m_1_1</th>\n",
       "      <th>hippocampus_5x_m_1_2</th>\n",
       "      <th>adrenal_2mo_m_1</th>\n",
       "      <th>cortex_wt_m_1_2</th>\n",
       "      <th>adrenal_4d_m_2</th>\n",
       "      <th>...</th>\n",
       "      <th>cortex_2mo_m_1</th>\n",
       "      <th>gastroc_36d_f_2</th>\n",
       "      <th>adrenal_18-20mo_f_1</th>\n",
       "      <th>adrenal_36d_m_1</th>\n",
       "      <th>adrenal_gland_1_2</th>\n",
       "      <th>cortex_14d_f_1</th>\n",
       "      <th>gastroc_2mo_m_2</th>\n",
       "      <th>gastroc_2mo_f_1</th>\n",
       "      <th>gid</th>\n",
       "      <th>gene_novelty</th>\n",
       "    </tr>\n",
       "  </thead>\n",
       "  <tbody>\n",
       "    <tr>\n",
       "      <th>0</th>\n",
       "      <td>0</td>\n",
       "      <td>ENSMUSG00000051951[2,2,3]</td>\n",
       "      <td>0.0</td>\n",
       "      <td>0.0</td>\n",
       "      <td>0.0</td>\n",
       "      <td>0.998864</td>\n",
       "      <td>0.431823</td>\n",
       "      <td>0.0</td>\n",
       "      <td>0.0</td>\n",
       "      <td>0.0</td>\n",
       "      <td>...</td>\n",
       "      <td>2.658793</td>\n",
       "      <td>0.0</td>\n",
       "      <td>0.0</td>\n",
       "      <td>0.0</td>\n",
       "      <td>0.0</td>\n",
       "      <td>0.0</td>\n",
       "      <td>0.0</td>\n",
       "      <td>0.0</td>\n",
       "      <td>ENSMUSG00000051951</td>\n",
       "      <td>Known</td>\n",
       "    </tr>\n",
       "    <tr>\n",
       "      <th>1</th>\n",
       "      <td>1</td>\n",
       "      <td>ENSMUSG00000089699[1,1,1]</td>\n",
       "      <td>0.0</td>\n",
       "      <td>0.0</td>\n",
       "      <td>0.0</td>\n",
       "      <td>0.000000</td>\n",
       "      <td>0.000000</td>\n",
       "      <td>0.0</td>\n",
       "      <td>0.0</td>\n",
       "      <td>0.0</td>\n",
       "      <td>...</td>\n",
       "      <td>0.000000</td>\n",
       "      <td>0.0</td>\n",
       "      <td>0.0</td>\n",
       "      <td>0.0</td>\n",
       "      <td>0.0</td>\n",
       "      <td>0.0</td>\n",
       "      <td>0.0</td>\n",
       "      <td>0.0</td>\n",
       "      <td>ENSMUSG00000089699</td>\n",
       "      <td>Known</td>\n",
       "    </tr>\n",
       "    <tr>\n",
       "      <th>2</th>\n",
       "      <td>2</td>\n",
       "      <td>ENSMUSG00000103161[1,1,1]</td>\n",
       "      <td>0.0</td>\n",
       "      <td>0.0</td>\n",
       "      <td>0.0</td>\n",
       "      <td>0.998864</td>\n",
       "      <td>0.000000</td>\n",
       "      <td>0.0</td>\n",
       "      <td>0.0</td>\n",
       "      <td>0.0</td>\n",
       "      <td>...</td>\n",
       "      <td>0.000000</td>\n",
       "      <td>0.0</td>\n",
       "      <td>0.0</td>\n",
       "      <td>0.0</td>\n",
       "      <td>0.0</td>\n",
       "      <td>0.0</td>\n",
       "      <td>0.0</td>\n",
       "      <td>0.0</td>\n",
       "      <td>ENSMUSG00000103161</td>\n",
       "      <td>Known</td>\n",
       "    </tr>\n",
       "    <tr>\n",
       "      <th>3</th>\n",
       "      <td>3</td>\n",
       "      <td>ENSMUSG00000025902[1,2,1]</td>\n",
       "      <td>0.0</td>\n",
       "      <td>0.0</td>\n",
       "      <td>0.0</td>\n",
       "      <td>0.000000</td>\n",
       "      <td>0.000000</td>\n",
       "      <td>0.0</td>\n",
       "      <td>0.0</td>\n",
       "      <td>0.0</td>\n",
       "      <td>...</td>\n",
       "      <td>0.000000</td>\n",
       "      <td>0.0</td>\n",
       "      <td>0.0</td>\n",
       "      <td>0.0</td>\n",
       "      <td>0.0</td>\n",
       "      <td>0.0</td>\n",
       "      <td>0.0</td>\n",
       "      <td>0.0</td>\n",
       "      <td>ENSMUSG00000025902</td>\n",
       "      <td>Known</td>\n",
       "    </tr>\n",
       "    <tr>\n",
       "      <th>4</th>\n",
       "      <td>4</td>\n",
       "      <td>ENSMUSG00000025902[1,2,3]</td>\n",
       "      <td>0.0</td>\n",
       "      <td>0.0</td>\n",
       "      <td>0.0</td>\n",
       "      <td>0.000000</td>\n",
       "      <td>0.431823</td>\n",
       "      <td>0.0</td>\n",
       "      <td>0.0</td>\n",
       "      <td>0.0</td>\n",
       "      <td>...</td>\n",
       "      <td>0.000000</td>\n",
       "      <td>0.0</td>\n",
       "      <td>0.0</td>\n",
       "      <td>0.0</td>\n",
       "      <td>0.0</td>\n",
       "      <td>0.0</td>\n",
       "      <td>0.0</td>\n",
       "      <td>0.0</td>\n",
       "      <td>ENSMUSG00000025902</td>\n",
       "      <td>Known</td>\n",
       "    </tr>\n",
       "  </tbody>\n",
       "</table>\n",
       "<p>5 rows × 131 columns</p>\n",
       "</div>"
      ],
      "text/plain": [
       "   index        annot_transcript_id  cortex_2mo_f_1  gastroc_10d_f_2  \\\n",
       "0      0  ENSMUSG00000051951[2,2,3]             0.0              0.0   \n",
       "1      1  ENSMUSG00000089699[1,1,1]             0.0              0.0   \n",
       "2      2  ENSMUSG00000103161[1,1,1]             0.0              0.0   \n",
       "3      3  ENSMUSG00000025902[1,2,1]             0.0              0.0   \n",
       "4      4  ENSMUSG00000025902[1,2,3]             0.0              0.0   \n",
       "\n",
       "   hippocampus_2mo_f_1  hippocampus_wt_m_1_1  hippocampus_5x_m_1_2  \\\n",
       "0                  0.0              0.998864              0.431823   \n",
       "1                  0.0              0.000000              0.000000   \n",
       "2                  0.0              0.998864              0.000000   \n",
       "3                  0.0              0.000000              0.000000   \n",
       "4                  0.0              0.000000              0.431823   \n",
       "\n",
       "   adrenal_2mo_m_1  cortex_wt_m_1_2  adrenal_4d_m_2  ...  cortex_2mo_m_1  \\\n",
       "0              0.0              0.0             0.0  ...        2.658793   \n",
       "1              0.0              0.0             0.0  ...        0.000000   \n",
       "2              0.0              0.0             0.0  ...        0.000000   \n",
       "3              0.0              0.0             0.0  ...        0.000000   \n",
       "4              0.0              0.0             0.0  ...        0.000000   \n",
       "\n",
       "   gastroc_36d_f_2  adrenal_18-20mo_f_1  adrenal_36d_m_1  adrenal_gland_1_2  \\\n",
       "0              0.0                  0.0              0.0                0.0   \n",
       "1              0.0                  0.0              0.0                0.0   \n",
       "2              0.0                  0.0              0.0                0.0   \n",
       "3              0.0                  0.0              0.0                0.0   \n",
       "4              0.0                  0.0              0.0                0.0   \n",
       "\n",
       "   cortex_14d_f_1  gastroc_2mo_m_2  gastroc_2mo_f_1                 gid  \\\n",
       "0             0.0              0.0              0.0  ENSMUSG00000051951   \n",
       "1             0.0              0.0              0.0  ENSMUSG00000089699   \n",
       "2             0.0              0.0              0.0  ENSMUSG00000103161   \n",
       "3             0.0              0.0              0.0  ENSMUSG00000025902   \n",
       "4             0.0              0.0              0.0  ENSMUSG00000025902   \n",
       "\n",
       "   gene_novelty  \n",
       "0         Known  \n",
       "1         Known  \n",
       "2         Known  \n",
       "3         Known  \n",
       "4         Known  \n",
       "\n",
       "[5 rows x 131 columns]"
      ]
     },
     "execution_count": 23,
     "metadata": {},
     "output_type": "execute_result"
    }
   ],
   "source": [
    "# get expressed novel genes\n",
    "df = pd.read_csv(m_filt_ab, sep='\\t')\n",
    "df, _ = get_tpm_table(df, \n",
    "                      how='iso',\n",
    "                      min_tpm=1,\n",
    "                      gene_subset=None, # no gene subset cause we want novel genes\n",
    "                      species='mouse')\n",
    "\n",
    "df.reset_index(inplace=True)\n",
    "df['gid'] = df.annot_transcript_id.str.split('[', expand=True)[0]\n",
    "df.head()\n",
    "df.reset_index(inplace=True)\n",
    "df.rename({'gid_stable':'gid'}, axis=1, inplace=True)\n",
    "ab_df = pd.read_csv(m_filt_ab, sep='\\t')\n",
    "ab_df['gid'] = ab_df.annot_transcript_id.str.split('[', expand=True)[0]\n",
    "ab_df = ab_df[['gid', 'gene_novelty']].drop_duplicates()\n",
    "ab_df.loc[ab_df.gid.duplicated(keep=False)].sort_values(by='gid')\n",
    "assert len(ab_df.loc[ab_df.gid.duplicated(keep=False)].index) == 0\n",
    "df = df.merge(ab_df, how='left', on='gid')\n",
    "df.loc[df.gene_novelty=='Fusion', 'gene_novelty'] = 'Readthrough'\n",
    "df.head()"
   ]
  },
  {
   "cell_type": "code",
   "execution_count": 24,
   "id": "92b265bd-fe37-4cd7-868e-11798edba661",
   "metadata": {},
   "outputs": [
    {
     "data": {
      "text/plain": [
       "array(['Known', 'Fusion', 'Intergenic'], dtype=object)"
      ]
     },
     "execution_count": 24,
     "metadata": {},
     "output_type": "execute_result"
    }
   ],
   "source": [
    "ab_df = pd.read_csv(m_filt_ab, sep='\\t')\n",
    "ab_df.gene_novelty.unique()"
   ]
  },
  {
   "cell_type": "code",
   "execution_count": 25,
   "id": "8a7b18d1-58b9-4955-8294-54152855cb74",
   "metadata": {},
   "outputs": [
    {
     "data": {
      "text/plain": [
       "array(['Known', 'Readthrough', 'Intergenic'], dtype=object)"
      ]
     },
     "execution_count": 25,
     "metadata": {},
     "output_type": "execute_result"
    }
   ],
   "source": [
    "df.gene_novelty.unique()"
   ]
  },
  {
   "cell_type": "code",
   "execution_count": 26,
   "id": "46292b9a-9765-4d1c-a8cb-a5d1dbe70e01",
   "metadata": {},
   "outputs": [
    {
     "data": {
      "text/html": [
       "<div>\n",
       "<style scoped>\n",
       "    .dataframe tbody tr th:only-of-type {\n",
       "        vertical-align: middle;\n",
       "    }\n",
       "\n",
       "    .dataframe tbody tr th {\n",
       "        vertical-align: top;\n",
       "    }\n",
       "\n",
       "    .dataframe thead th {\n",
       "        text-align: right;\n",
       "    }\n",
       "</style>\n",
       "<table border=\"1\" class=\"dataframe\">\n",
       "  <thead>\n",
       "    <tr style=\"text-align: right;\">\n",
       "      <th></th>\n",
       "      <th>n_t</th>\n",
       "    </tr>\n",
       "    <tr>\n",
       "      <th>gene_novelty</th>\n",
       "      <th></th>\n",
       "    </tr>\n",
       "  </thead>\n",
       "  <tbody>\n",
       "    <tr>\n",
       "      <th>Intergenic</th>\n",
       "      <td>29</td>\n",
       "    </tr>\n",
       "    <tr>\n",
       "      <th>Known</th>\n",
       "      <td>142366</td>\n",
       "    </tr>\n",
       "    <tr>\n",
       "      <th>Readthrough</th>\n",
       "      <td>109</td>\n",
       "    </tr>\n",
       "  </tbody>\n",
       "</table>\n",
       "</div>"
      ],
      "text/plain": [
       "                 n_t\n",
       "gene_novelty        \n",
       "Intergenic        29\n",
       "Known         142366\n",
       "Readthrough      109"
      ]
     },
     "execution_count": 26,
     "metadata": {},
     "output_type": "execute_result"
    }
   ],
   "source": [
    "df[['gene_novelty', 'annot_transcript_id']].groupby('gene_novelty').nunique().rename({'annot_transcript_id':'n_t'}, axis=1)"
   ]
  },
  {
   "cell_type": "code",
   "execution_count": 27,
   "id": "0c5734fa-f1ce-4f11-8d14-97390f43394a",
   "metadata": {},
   "outputs": [
    {
     "data": {
      "text/html": [
       "<div>\n",
       "<style scoped>\n",
       "    .dataframe tbody tr th:only-of-type {\n",
       "        vertical-align: middle;\n",
       "    }\n",
       "\n",
       "    .dataframe tbody tr th {\n",
       "        vertical-align: top;\n",
       "    }\n",
       "\n",
       "    .dataframe thead th {\n",
       "        text-align: right;\n",
       "    }\n",
       "</style>\n",
       "<table border=\"1\" class=\"dataframe\">\n",
       "  <thead>\n",
       "    <tr style=\"text-align: right;\">\n",
       "      <th></th>\n",
       "      <th>n_g</th>\n",
       "    </tr>\n",
       "    <tr>\n",
       "      <th>gene_novelty</th>\n",
       "      <th></th>\n",
       "    </tr>\n",
       "  </thead>\n",
       "  <tbody>\n",
       "    <tr>\n",
       "      <th>Intergenic</th>\n",
       "      <td>24</td>\n",
       "    </tr>\n",
       "    <tr>\n",
       "      <th>Known</th>\n",
       "      <td>24913</td>\n",
       "    </tr>\n",
       "    <tr>\n",
       "      <th>Readthrough</th>\n",
       "      <td>55</td>\n",
       "    </tr>\n",
       "  </tbody>\n",
       "</table>\n",
       "</div>"
      ],
      "text/plain": [
       "                n_g\n",
       "gene_novelty       \n",
       "Intergenic       24\n",
       "Known         24913\n",
       "Readthrough      55"
      ]
     },
     "execution_count": 27,
     "metadata": {},
     "output_type": "execute_result"
    }
   ],
   "source": [
    "df[['gene_novelty', 'gid']].groupby('gene_novelty').nunique().rename({'gid':'n_g'}, axis=1)"
   ]
  },
  {
   "cell_type": "code",
   "execution_count": 28,
   "id": "be71a979-5600-4e73-a1aa-5a666071bafa",
   "metadata": {},
   "outputs": [],
   "source": [
    "df.rename({'annot_transcript_id':'transcript_id'}, axis=1, inplace=True)"
   ]
  },
  {
   "cell_type": "code",
   "execution_count": 29,
   "id": "3701943e-8510-47f2-9658-1977531dfa20",
   "metadata": {},
   "outputs": [],
   "source": [
    "# add gene novelties to each ic\n",
    "ics = ics.merge(df[['gene_novelty', 'transcript_id']],\n",
    "                how='inner', \n",
    "                on='transcript_id')"
   ]
  },
  {
   "cell_type": "code",
   "execution_count": 30,
   "id": "e87da22e-8ce8-4374-b4d7-133e3bd875be",
   "metadata": {},
   "outputs": [],
   "source": [
    "# ics.rename({'gene_novelty_x':'gene_novelty'}, axis=1, inplace=True)\n",
    "# ics.drop('gene_novelty_y', axis=1, inplace=True)"
   ]
  },
  {
   "cell_type": "code",
   "execution_count": 31,
   "id": "b076361d-887e-41af-b1d7-ed13f7647607",
   "metadata": {},
   "outputs": [],
   "source": [
    "# ics.head()"
   ]
  },
  {
   "cell_type": "code",
   "execution_count": 32,
   "id": "d8c4e0ba-a313-4633-9a88-537118603882",
   "metadata": {},
   "outputs": [
    {
     "name": "stdout",
     "output_type": "stream",
     "text": [
      "142504\n"
     ]
    }
   ],
   "source": [
    "print(len(ics.loc[ics.gene_novelty.notnull()].transcript_id.unique()))\n",
    "ics = ics.loc[ics.gene_novelty.notnull()]"
   ]
  },
  {
   "cell_type": "code",
   "execution_count": 33,
   "id": "802573b8-4cba-4e69-8196-82a1df68a12e",
   "metadata": {},
   "outputs": [],
   "source": [
    "# limit to non-monoexonic\n",
    "ics.loc[ics.ic_id.str.endswith('-')].head()\n",
    "ics = ics.loc[~ics.ic_id.str.endswith('-')]"
   ]
  },
  {
   "cell_type": "code",
   "execution_count": 34,
   "id": "b8e28aa4-3016-41f0-8758-428d36d481c7",
   "metadata": {},
   "outputs": [],
   "source": [
    "# limit to non dupe\n",
    "temp = ics[['gene_novelty', 'ic_id']].drop_duplicates()\n",
    "temp = temp.loc[temp.ic_id.duplicated(keep=False)].sort_values(by='ic_id')\n",
    "assert len(temp.index) == 0\n",
    "\n",
    "ics = ics[['gene_novelty', 'ic_id']].drop_duplicates()"
   ]
  },
  {
   "cell_type": "code",
   "execution_count": 35,
   "id": "efcadb43-10f8-4565-b7b0-d45dd19c82f4",
   "metadata": {},
   "outputs": [],
   "source": [
    "merge = ics[['ic_id', 'gene_novelty']].merge(\n",
    "            ref_ics[['ic_id', 'gene_type']].drop_duplicates(),\n",
    "            how='left',\n",
    "            on='ic_id')"
   ]
  },
  {
   "cell_type": "code",
   "execution_count": 36,
   "id": "084536be-32d6-4f7b-9f32-7797026a2ae5",
   "metadata": {},
   "outputs": [
    {
     "data": {
      "text/html": [
       "<div>\n",
       "<style scoped>\n",
       "    .dataframe tbody tr th:only-of-type {\n",
       "        vertical-align: middle;\n",
       "    }\n",
       "\n",
       "    .dataframe tbody tr th {\n",
       "        vertical-align: top;\n",
       "    }\n",
       "\n",
       "    .dataframe thead th {\n",
       "        text-align: right;\n",
       "    }\n",
       "</style>\n",
       "<table border=\"1\" class=\"dataframe\">\n",
       "  <thead>\n",
       "    <tr style=\"text-align: right;\">\n",
       "      <th></th>\n",
       "      <th>ic_id</th>\n",
       "      <th>gene_novelty</th>\n",
       "      <th>gene_type</th>\n",
       "    </tr>\n",
       "  </thead>\n",
       "  <tbody>\n",
       "  </tbody>\n",
       "</table>\n",
       "</div>"
      ],
      "text/plain": [
       "Empty DataFrame\n",
       "Columns: [ic_id, gene_novelty, gene_type]\n",
       "Index: []"
      ]
     },
     "execution_count": 36,
     "metadata": {},
     "output_type": "execute_result"
    }
   ],
   "source": [
    "# where are dupes coming from?\n",
    "merge.loc[merge.ic_id.duplicated(keep=False)].sort_values(by='ic_id')\n",
    "merge.loc[merge.ic_id.duplicated(keep=False)][['gene_type', 'ic_id']].groupby('gene_type').count().rename({'ic_id':'counts'}, axis=1)\n",
    "\n",
    "# so just try limiting it to lncs and protein coding\n",
    "merge = merge.loc[(merge.gene_type.isin(['protein_coding', 'lncRNA']))|\\\n",
    "                  (merge.gene_type.isnull())]\n",
    "merge.loc[merge.ic_id.duplicated(keep=False)][['gene_type', 'ic_id']].groupby('gene_type').count().rename({'ic_id':'counts'}, axis=1)\n",
    "\n",
    "merge.loc[merge.ic_id.duplicated(keep=False)].sort_values(by='ic_id')\n",
    "\n",
    "# who cares cause they're not from novel genes anyway right?"
   ]
  },
  {
   "cell_type": "code",
   "execution_count": 37,
   "id": "b239018f-a2c9-4cdb-9e3b-9dfaa1787791",
   "metadata": {},
   "outputs": [],
   "source": [
    "merge['in_v47'] = merge.gene_type.notnull()"
   ]
  },
  {
   "cell_type": "code",
   "execution_count": 38,
   "id": "5e3c5b78-dfb5-48e8-8969-37a300e013f8",
   "metadata": {},
   "outputs": [
    {
     "data": {
      "text/html": [
       "<div>\n",
       "<style scoped>\n",
       "    .dataframe tbody tr th:only-of-type {\n",
       "        vertical-align: middle;\n",
       "    }\n",
       "\n",
       "    .dataframe tbody tr th {\n",
       "        vertical-align: top;\n",
       "    }\n",
       "\n",
       "    .dataframe thead th {\n",
       "        text-align: right;\n",
       "    }\n",
       "</style>\n",
       "<table border=\"1\" class=\"dataframe\">\n",
       "  <thead>\n",
       "    <tr style=\"text-align: right;\">\n",
       "      <th></th>\n",
       "      <th></th>\n",
       "      <th>n_ic</th>\n",
       "    </tr>\n",
       "    <tr>\n",
       "      <th>gene_novelty</th>\n",
       "      <th>in_v47</th>\n",
       "      <th></th>\n",
       "    </tr>\n",
       "  </thead>\n",
       "  <tbody>\n",
       "    <tr>\n",
       "      <th>Intergenic</th>\n",
       "      <th>False</th>\n",
       "      <td>29</td>\n",
       "    </tr>\n",
       "    <tr>\n",
       "      <th>Readthrough</th>\n",
       "      <th>False</th>\n",
       "      <td>84</td>\n",
       "    </tr>\n",
       "  </tbody>\n",
       "</table>\n",
       "</div>"
      ],
      "text/plain": [
       "                     n_ic\n",
       "gene_novelty in_v47      \n",
       "Intergenic   False     29\n",
       "Readthrough  False     84"
      ]
     },
     "execution_count": 38,
     "metadata": {},
     "output_type": "execute_result"
    }
   ],
   "source": [
    "nov = merge.loc[merge.gene_novelty!='Known'].copy(deep=True)\n",
    "nov[['ic_id', 'gene_novelty', 'in_v47']].groupby(['gene_novelty', 'in_v47']).nunique().rename({'ic_id':'n_ic'}, axis=1)"
   ]
  },
  {
   "cell_type": "code",
   "execution_count": 39,
   "id": "1a902e77-0068-4c77-b696-729ae694a1d8",
   "metadata": {},
   "outputs": [],
   "source": [
    "# 34/(79+34)"
   ]
  },
  {
   "cell_type": "markdown",
   "id": "e4e48e65-13e5-4586-a08f-99df88630c6c",
   "metadata": {},
   "source": [
    "## What about by novelty category and GENCODE gene biotype?"
   ]
  },
  {
   "cell_type": "code",
   "execution_count": 40,
   "id": "1f0ecb38-4b39-456d-a6a6-f45790928ecf",
   "metadata": {},
   "outputs": [],
   "source": [
    "# get novelty types of each IC from cerberus\n",
    "ca = cerberus.read(m_cerberus_h5)"
   ]
  },
  {
   "cell_type": "code",
   "execution_count": 42,
   "id": "23867d93-0bdb-401a-95be-07e7c5660811",
   "metadata": {},
   "outputs": [
    {
     "data": {
      "text/html": [
       "<div>\n",
       "<style scoped>\n",
       "    .dataframe tbody tr th:only-of-type {\n",
       "        vertical-align: middle;\n",
       "    }\n",
       "\n",
       "    .dataframe tbody tr th {\n",
       "        vertical-align: top;\n",
       "    }\n",
       "\n",
       "    .dataframe thead th {\n",
       "        text-align: right;\n",
       "    }\n",
       "</style>\n",
       "<table border=\"1\" class=\"dataframe\">\n",
       "  <thead>\n",
       "    <tr style=\"text-align: right;\">\n",
       "      <th></th>\n",
       "      <th>ic_id</th>\n",
       "      <th>gene_novelty</th>\n",
       "      <th>gene_type</th>\n",
       "      <th>in_v47</th>\n",
       "    </tr>\n",
       "  </thead>\n",
       "  <tbody>\n",
       "    <tr>\n",
       "      <th>0</th>\n",
       "      <td>chr1_-_36445049-36443609-36443490-36439726-364...</td>\n",
       "      <td>Known</td>\n",
       "      <td>NaN</td>\n",
       "      <td>False</td>\n",
       "    </tr>\n",
       "    <tr>\n",
       "      <th>1</th>\n",
       "      <td>chr1_-_36445049-36443609-36443490-36439726-364...</td>\n",
       "      <td>Known</td>\n",
       "      <td>NaN</td>\n",
       "      <td>False</td>\n",
       "    </tr>\n",
       "    <tr>\n",
       "      <th>2</th>\n",
       "      <td>chr1_-_36445049-36443609-36443490-36439726-364...</td>\n",
       "      <td>Known</td>\n",
       "      <td>NaN</td>\n",
       "      <td>False</td>\n",
       "    </tr>\n",
       "    <tr>\n",
       "      <th>3</th>\n",
       "      <td>chr1_-_36445049-36443609-36443490-36439726-364...</td>\n",
       "      <td>Known</td>\n",
       "      <td>NaN</td>\n",
       "      <td>False</td>\n",
       "    </tr>\n",
       "    <tr>\n",
       "      <th>4</th>\n",
       "      <td>chr1_-_36445049-36443609-36443519-36439726-364...</td>\n",
       "      <td>Known</td>\n",
       "      <td>NaN</td>\n",
       "      <td>False</td>\n",
       "    </tr>\n",
       "  </tbody>\n",
       "</table>\n",
       "</div>"
      ],
      "text/plain": [
       "                                               ic_id gene_novelty gene_type  \\\n",
       "0  chr1_-_36445049-36443609-36443490-36439726-364...        Known       NaN   \n",
       "1  chr1_-_36445049-36443609-36443490-36439726-364...        Known       NaN   \n",
       "2  chr1_-_36445049-36443609-36443490-36439726-364...        Known       NaN   \n",
       "3  chr1_-_36445049-36443609-36443490-36439726-364...        Known       NaN   \n",
       "4  chr1_-_36445049-36443609-36443519-36439726-364...        Known       NaN   \n",
       "\n",
       "   in_v47  \n",
       "0   False  \n",
       "1   False  \n",
       "2   False  \n",
       "3   False  \n",
       "4   False  "
      ]
     },
     "execution_count": 42,
     "metadata": {},
     "output_type": "execute_result"
    }
   ],
   "source": [
    "merge.head()"
   ]
  },
  {
   "cell_type": "code",
   "execution_count": 43,
   "id": "a4ad1c53-e907-4ed3-a26a-7512b856d2e8",
   "metadata": {},
   "outputs": [],
   "source": [
    "temp = ca.ic.copy(deep=True)\n",
    "temp.drop('ic', axis=1, inplace=True)\n",
    "temp.rename({'Coordinates':'ic'}, axis=1, inplace=True)\n",
    "temp = get_ic_id(temp)"
   ]
  },
  {
   "cell_type": "code",
   "execution_count": 44,
   "id": "4ec405d4-7b35-47a3-b572-07665494b77e",
   "metadata": {},
   "outputs": [],
   "source": [
    "merge = merge.merge(temp[['ic_id', 'novelty']], \n",
    "                    how='left',\n",
    "                    on='ic_id')"
   ]
  },
  {
   "cell_type": "code",
   "execution_count": 45,
   "id": "b1f38724-85f5-44d2-8dbe-710bae115416",
   "metadata": {},
   "outputs": [],
   "source": [
    "# merge.drop('novelty_x', axis=1, inplace=True)\n",
    "# merge.rename({'novelty_y': 'novelty'}, axis=1, inplace=True)"
   ]
  },
  {
   "cell_type": "code",
   "execution_count": 46,
   "id": "2cfb571f-e94b-4b9a-8dfa-a18a91597ce3",
   "metadata": {},
   "outputs": [
    {
     "data": {
      "text/plain": [
       "array([False,  True])"
      ]
     },
     "execution_count": 46,
     "metadata": {},
     "output_type": "execute_result"
    }
   ],
   "source": [
    "merge.in_v47.unique()"
   ]
  },
  {
   "cell_type": "code",
   "execution_count": 47,
   "id": "438025e8-37a6-4206-a3ab-83225d064ab3",
   "metadata": {},
   "outputs": [
    {
     "data": {
      "text/html": [
       "<div>\n",
       "<style scoped>\n",
       "    .dataframe tbody tr th:only-of-type {\n",
       "        vertical-align: middle;\n",
       "    }\n",
       "\n",
       "    .dataframe tbody tr th {\n",
       "        vertical-align: top;\n",
       "    }\n",
       "\n",
       "    .dataframe thead th {\n",
       "        text-align: right;\n",
       "    }\n",
       "</style>\n",
       "<table border=\"1\" class=\"dataframe\">\n",
       "  <thead>\n",
       "    <tr style=\"text-align: right;\">\n",
       "      <th></th>\n",
       "      <th>ic_id</th>\n",
       "      <th>gene_novelty</th>\n",
       "      <th>gene_type</th>\n",
       "      <th>in_v47</th>\n",
       "      <th>novelty</th>\n",
       "    </tr>\n",
       "  </thead>\n",
       "  <tbody>\n",
       "    <tr>\n",
       "      <th>0</th>\n",
       "      <td>chr1_-_36445049-36443609-36443490-36439726-364...</td>\n",
       "      <td>Known</td>\n",
       "      <td>NaN</td>\n",
       "      <td>False</td>\n",
       "      <td>Known</td>\n",
       "    </tr>\n",
       "    <tr>\n",
       "      <th>1</th>\n",
       "      <td>chr1_-_36445049-36443609-36443490-36439726-364...</td>\n",
       "      <td>Known</td>\n",
       "      <td>NaN</td>\n",
       "      <td>False</td>\n",
       "      <td>NNC</td>\n",
       "    </tr>\n",
       "    <tr>\n",
       "      <th>2</th>\n",
       "      <td>chr1_-_36445049-36443609-36443490-36439726-364...</td>\n",
       "      <td>Known</td>\n",
       "      <td>NaN</td>\n",
       "      <td>False</td>\n",
       "      <td>NNC</td>\n",
       "    </tr>\n",
       "    <tr>\n",
       "      <th>3</th>\n",
       "      <td>chr1_-_36445049-36443609-36443490-36439726-364...</td>\n",
       "      <td>Known</td>\n",
       "      <td>NaN</td>\n",
       "      <td>False</td>\n",
       "      <td>NNC</td>\n",
       "    </tr>\n",
       "    <tr>\n",
       "      <th>4</th>\n",
       "      <td>chr1_-_36445049-36443609-36443519-36439726-364...</td>\n",
       "      <td>Known</td>\n",
       "      <td>NaN</td>\n",
       "      <td>False</td>\n",
       "      <td>NIC</td>\n",
       "    </tr>\n",
       "  </tbody>\n",
       "</table>\n",
       "</div>"
      ],
      "text/plain": [
       "                                               ic_id gene_novelty gene_type  \\\n",
       "0  chr1_-_36445049-36443609-36443490-36439726-364...        Known       NaN   \n",
       "1  chr1_-_36445049-36443609-36443490-36439726-364...        Known       NaN   \n",
       "2  chr1_-_36445049-36443609-36443490-36439726-364...        Known       NaN   \n",
       "3  chr1_-_36445049-36443609-36443490-36439726-364...        Known       NaN   \n",
       "4  chr1_-_36445049-36443609-36443519-36439726-364...        Known       NaN   \n",
       "\n",
       "   in_v47 novelty  \n",
       "0   False   Known  \n",
       "1   False     NNC  \n",
       "2   False     NNC  \n",
       "3   False     NNC  \n",
       "4   False     NIC  "
      ]
     },
     "execution_count": 47,
     "metadata": {},
     "output_type": "execute_result"
    }
   ],
   "source": [
    "merge.loc[merge.in_v47==False].head()"
   ]
  },
  {
   "cell_type": "code",
   "execution_count": 51,
   "id": "3e2143be-4e51-41c6-b684-d6c47c5b9275",
   "metadata": {},
   "outputs": [
    {
     "ename": "AttributeError",
     "evalue": "'NoneType' object has no attribute 'loc'",
     "output_type": "error",
     "traceback": [
      "\u001b[0;31m---------------------------------------------------------------------------\u001b[0m",
      "\u001b[0;31mAttributeError\u001b[0m                            Traceback (most recent call last)",
      "\u001b[0;32m<ipython-input-51-ae2b0302f84c>\u001b[0m in \u001b[0;36m<module>\u001b[0;34m\u001b[0m\n\u001b[1;32m      2\u001b[0m \u001b[0mmerge\u001b[0m\u001b[0;34m.\u001b[0m\u001b[0mloc\u001b[0m\u001b[0;34m[\u001b[0m\u001b[0mmerge\u001b[0m\u001b[0;34m.\u001b[0m\u001b[0mic_id\u001b[0m\u001b[0;34m.\u001b[0m\u001b[0mduplicated\u001b[0m\u001b[0;34m(\u001b[0m\u001b[0mkeep\u001b[0m\u001b[0;34m=\u001b[0m\u001b[0;32mFalse\u001b[0m\u001b[0;34m)\u001b[0m\u001b[0;34m]\u001b[0m\u001b[0;34m.\u001b[0m\u001b[0msort_values\u001b[0m\u001b[0;34m(\u001b[0m\u001b[0mby\u001b[0m\u001b[0;34m=\u001b[0m\u001b[0;34m'ic_id'\u001b[0m\u001b[0;34m)\u001b[0m\u001b[0;34m.\u001b[0m\u001b[0mhead\u001b[0m\u001b[0;34m(\u001b[0m\u001b[0;34m)\u001b[0m\u001b[0;34m\u001b[0m\u001b[0;34m\u001b[0m\u001b[0m\n\u001b[1;32m      3\u001b[0m \u001b[0mmerge\u001b[0m \u001b[0;34m=\u001b[0m \u001b[0mmerge\u001b[0m\u001b[0;34m.\u001b[0m\u001b[0mdrop_duplicates\u001b[0m\u001b[0;34m(\u001b[0m\u001b[0minplace\u001b[0m\u001b[0;34m=\u001b[0m\u001b[0;32mTrue\u001b[0m\u001b[0;34m)\u001b[0m\u001b[0;34m\u001b[0m\u001b[0;34m\u001b[0m\u001b[0m\n\u001b[0;32m----> 4\u001b[0;31m \u001b[0mmerge\u001b[0m\u001b[0;34m.\u001b[0m\u001b[0mloc\u001b[0m\u001b[0;34m[\u001b[0m\u001b[0mmerge\u001b[0m\u001b[0;34m.\u001b[0m\u001b[0mic_id\u001b[0m\u001b[0;34m.\u001b[0m\u001b[0mduplicated\u001b[0m\u001b[0;34m(\u001b[0m\u001b[0mkeep\u001b[0m\u001b[0;34m=\u001b[0m\u001b[0;32mFalse\u001b[0m\u001b[0;34m)\u001b[0m\u001b[0;34m]\u001b[0m\u001b[0;34m.\u001b[0m\u001b[0msort_values\u001b[0m\u001b[0;34m(\u001b[0m\u001b[0mby\u001b[0m\u001b[0;34m=\u001b[0m\u001b[0;34m'ic_id'\u001b[0m\u001b[0;34m)\u001b[0m\u001b[0;34m.\u001b[0m\u001b[0mhead\u001b[0m\u001b[0;34m(\u001b[0m\u001b[0;34m)\u001b[0m\u001b[0;34m\u001b[0m\u001b[0;34m\u001b[0m\u001b[0m\n\u001b[0m",
      "\u001b[0;31mAttributeError\u001b[0m: 'NoneType' object has no attribute 'loc'"
     ]
    }
   ],
   "source": [
    "# CHECK FOR DUPES\n",
    "merge.loc[merge.ic_id.duplicated(keep=False)].sort_values(by='ic_id').head()\n",
    "merge.drop_duplicates(inplace=True)\n",
    "merge.loc[merge.ic_id.duplicated(keep=False)].sort_values(by='ic_id').head()"
   ]
  },
  {
   "cell_type": "code",
   "execution_count": 49,
   "id": "06041f22-d028-427e-887e-d1c57ec7c662",
   "metadata": {},
   "outputs": [
    {
     "data": {
      "text/html": [
       "<div>\n",
       "<style scoped>\n",
       "    .dataframe tbody tr th:only-of-type {\n",
       "        vertical-align: middle;\n",
       "    }\n",
       "\n",
       "    .dataframe tbody tr th {\n",
       "        vertical-align: top;\n",
       "    }\n",
       "\n",
       "    .dataframe thead th {\n",
       "        text-align: right;\n",
       "    }\n",
       "</style>\n",
       "<table border=\"1\" class=\"dataframe\">\n",
       "  <thead>\n",
       "    <tr style=\"text-align: right;\">\n",
       "      <th></th>\n",
       "      <th></th>\n",
       "      <th></th>\n",
       "      <th>ic_id</th>\n",
       "    </tr>\n",
       "    <tr>\n",
       "      <th>gene_type</th>\n",
       "      <th>novelty</th>\n",
       "      <th>in_v47</th>\n",
       "      <th></th>\n",
       "    </tr>\n",
       "  </thead>\n",
       "  <tbody>\n",
       "    <tr>\n",
       "      <th rowspan=\"3\" valign=\"top\">lncRNA</th>\n",
       "      <th>Known</th>\n",
       "      <th>True</th>\n",
       "      <td>57</td>\n",
       "    </tr>\n",
       "    <tr>\n",
       "      <th>NIC</th>\n",
       "      <th>True</th>\n",
       "      <td>1</td>\n",
       "    </tr>\n",
       "    <tr>\n",
       "      <th>NNC</th>\n",
       "      <th>True</th>\n",
       "      <td>7</td>\n",
       "    </tr>\n",
       "    <tr>\n",
       "      <th>protein_coding</th>\n",
       "      <th>Known</th>\n",
       "      <th>True</th>\n",
       "      <td>962</td>\n",
       "    </tr>\n",
       "    <tr>\n",
       "      <th rowspan=\"4\" valign=\"top\">NaN</th>\n",
       "      <th>ISM</th>\n",
       "      <th>False</th>\n",
       "      <td>4908</td>\n",
       "    </tr>\n",
       "    <tr>\n",
       "      <th>Known</th>\n",
       "      <th>False</th>\n",
       "      <td>48619</td>\n",
       "    </tr>\n",
       "    <tr>\n",
       "      <th>NIC</th>\n",
       "      <th>False</th>\n",
       "      <td>13020</td>\n",
       "    </tr>\n",
       "    <tr>\n",
       "      <th>NNC</th>\n",
       "      <th>False</th>\n",
       "      <td>12115</td>\n",
       "    </tr>\n",
       "  </tbody>\n",
       "</table>\n",
       "</div>"
      ],
      "text/plain": [
       "                               ic_id\n",
       "gene_type      novelty in_v47       \n",
       "lncRNA         Known   True       57\n",
       "               NIC     True        1\n",
       "               NNC     True        7\n",
       "protein_coding Known   True      962\n",
       "NaN            ISM     False    4908\n",
       "               Known   False   48619\n",
       "               NIC     False   13020\n",
       "               NNC     False   12115"
      ]
     },
     "execution_count": 49,
     "metadata": {},
     "output_type": "execute_result"
    }
   ],
   "source": [
    "merge[['ic_id', 'gene_type', 'novelty', 'in_v47']].groupby(['gene_type', 'novelty', 'in_v47'], dropna=False).nunique()"
   ]
  },
  {
   "cell_type": "code",
   "execution_count": null,
   "id": "d57c0ea4-75e6-44a8-b6fb-8ea6cf16f211",
   "metadata": {},
   "outputs": [],
   "source": []
  },
  {
   "cell_type": "code",
   "execution_count": null,
   "id": "822e2ed3-6505-43fe-8ff7-577fc5d29feb",
   "metadata": {},
   "outputs": [],
   "source": []
  },
  {
   "cell_type": "code",
   "execution_count": null,
   "id": "c7a99b41-00c0-4769-9389-9ebee5a56249",
   "metadata": {},
   "outputs": [],
   "source": []
  }
 ],
 "metadata": {
  "kernelspec": {
   "display_name": "Python 3",
   "language": "python",
   "name": "python3"
  },
  "language_info": {
   "codemirror_mode": {
    "name": "ipython",
    "version": 3
   },
   "file_extension": ".py",
   "mimetype": "text/x-python",
   "name": "python",
   "nbconvert_exporter": "python",
   "pygments_lexer": "ipython3",
   "version": "3.7.12"
  }
 },
 "nbformat": 4,
 "nbformat_minor": 5
}
