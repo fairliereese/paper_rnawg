{
 "cells": [
  {
   "cell_type": "code",
   "execution_count": 1,
   "id": "460e29c5-1880-4cca-a671-c0ea66056bb5",
   "metadata": {},
   "outputs": [],
   "source": [
    "import pandas as pd\n",
    "import numpy as np\n",
    "import scipy.stats as st\n",
    "import seaborn as sns\n",
    "import sys\n",
    "import os\n",
    "import gseapy as gp\n",
    "import matplotlib.pyplot as plt\n",
    "import swan_vis as swan\n",
    "import yaml\n",
    "from snakemake.io import expand\n",
    "\n",
    "p = os.path.dirname(os.path.dirname(os.getcwd()))\n",
    "sys.path.append(p)\n",
    "\n",
    "from proc_revisions.utils import *\n",
    "from proc_revisions.plotting import *\n",
    "# from proc_revisions.mane_utils import *"
   ]
  },
  {
   "cell_type": "code",
   "execution_count": 2,
   "id": "3602f5f3-4332-487d-be6f-1dd13c183b81",
   "metadata": {},
   "outputs": [],
   "source": [
    "od = '../../proc_revisions/'\n",
    "config_file = f'{od}/config.yml'\n",
    "with open(config_file) as f:\n",
    "    config = yaml.safe_load(f)"
   ]
  },
  {
   "cell_type": "code",
   "execution_count": 3,
   "id": "e1ed9148-6ff0-4385-a61c-73441c406ef2",
   "metadata": {},
   "outputs": [],
   "source": [
    "species = 'human'\n",
    "ab = od+expand(config['lr']['talon']['fusion_fix']['ab'], species='human')[0]\n",
    "filt_ab = od+expand(config['lr']['cerberus']['filt_ab'], species=species)[0]\n",
    "gtf = od+expand(config['lr']['cerberus']['gtf'], species=species)[0]\n",
    "lib_meta = od+expand(config['lr']['meta'], species=species)[0]\n",
    "cerberus_h5 = od+expand(config['lr']['cerberus']['ca_triplets'], species=species, obs_col='sample')[0]\n",
    "swan_file = od+expand(config['lr']['swan']['sg'], species=species)[0]\n",
    "ref_gtf = od+expand(config['ref']['new_gtf'], species=species)[0]\n",
    "pp_summary = od+expand(config['lr']['protein_pred']['summary'], species='human')[0]\n",
    "gtf_file = od+expand(config['lr']['cerberus']['gtf'], species='human')[0]\n",
    "\n",
    "gtex_gtf_file = od+expand(config['gtex']['gtf'], species='human')[0]\n",
    "\n",
    "gene_subset = 'polya'\n",
    "min_tpm = 1\n",
    "\n",
    "species = 'mouse'\n",
    "m_filt_ab = od+expand(config['lr']['cerberus']['filt_ab'], species=species)[0]\n",
    "m_gtf = od+expand(config['lr']['cerberus']['gtf'], species=species)[0]\n",
    "m_lib_meta = od+expand(config['lr']['meta'], species=species)[0]\n",
    "m_cerberus_h5 = od+expand(config['lr']['cerberus']['ca_triplets'], species=species, obs_col='sample')[0]\n",
    "m_swan_file = od+expand(config['lr']['swan']['sg'], species=species)[0]\n",
    "m_ref_gtf = od+expand(config['ref']['new_gtf'], species=species)[0]\n"
   ]
  },
  {
   "cell_type": "markdown",
   "id": "756df5df-349d-4152-8053-b7eb69842356",
   "metadata": {},
   "source": [
    "## Human -- how many v47 transcripts do we detect by biotype, novelty?"
   ]
  },
  {
   "cell_type": "code",
   "execution_count": 4,
   "id": "9dd7ad60-4e3b-49f4-b9bb-4d419bd54b18",
   "metadata": {},
   "outputs": [],
   "source": [
    "def get_ic_id(df):\n",
    "    coord_col = 'ic'\n",
    "    if 'ic' not in df.columns:\n",
    "        coord_col = 'Coordinates'\n",
    "    df['ic_id'] = df.Chromosome.astype(str)+'_'+\\\n",
    "                  df.Strand.astype(str)+'_'+\\\n",
    "                  df[coord_col].astype(str)\n",
    "    return df"
   ]
  },
  {
   "cell_type": "code",
   "execution_count": 5,
   "id": "913f0109-1ece-46bb-9fe1-26976af57c38",
   "metadata": {},
   "outputs": [],
   "source": [
    "ref_gtf = '/Users/fairliereese/Documents/programming/mortazavi_lab/data/paper_rnawg/proc_revisions/ref/human/gencode.v47.annotation.gtf'\n",
    "ref_gtf_df = pr.read_gtf(ref_gtf)\n",
    "ref_ics = cerberus.get_ic(ref_gtf_df)"
   ]
  },
  {
   "cell_type": "code",
   "execution_count": 6,
   "id": "9bf1d41b-eca4-40e4-91a1-e991c58a7d46",
   "metadata": {},
   "outputs": [],
   "source": [
    "ref_gtf_df = ref_gtf_df.df"
   ]
  },
  {
   "cell_type": "code",
   "execution_count": 7,
   "id": "273a0b24-ebdd-45e5-8b92-ab62a9f93adf",
   "metadata": {},
   "outputs": [],
   "source": [
    "# add biotype \n",
    "ref_gtf_df[['gene_id', 'gene_type']].groupby('gene_type').nunique()\n",
    "ref_ics = ref_ics.merge(ref_gtf_df[['gene_id', 'gene_type']].drop_duplicates(),\n",
    "                        how='left', \n",
    "                        on='gene_id')"
   ]
  },
  {
   "cell_type": "code",
   "execution_count": 8,
   "id": "573c19c2-b2f5-425f-b24e-7f024ae337e9",
   "metadata": {},
   "outputs": [],
   "source": [
    "gtf\n",
    "gtf_df = pr.read_gtf(gtf)\n",
    "ics = cerberus.get_ic(gtf_df)"
   ]
  },
  {
   "cell_type": "code",
   "execution_count": 9,
   "id": "d370bbd6-fd23-4e5e-a87e-96b6e6cbf2ca",
   "metadata": {},
   "outputs": [],
   "source": [
    "# get ids for uniq chr+strand+ic pairs\n",
    "ref_ics = get_ic_id(ref_ics)\n",
    "ics = get_ic_id(ics)"
   ]
  },
  {
   "cell_type": "code",
   "execution_count": 10,
   "id": "e1620e83-3d8e-42c2-bb2f-b4871dab09fc",
   "metadata": {},
   "outputs": [],
   "source": [
    "# # whats happening to my ics\n",
    "# ics = cerberus.get_ic(gtf_df)"
   ]
  },
  {
   "cell_type": "code",
   "execution_count": 11,
   "id": "d1ee5fc4-befd-461f-b329-5abe291e23f3",
   "metadata": {},
   "outputs": [],
   "source": [
    "# temp.head()"
   ]
  },
  {
   "cell_type": "code",
   "execution_count": 12,
   "id": "5dcde867-e104-4ded-b19a-63d7cbabdc4b",
   "metadata": {},
   "outputs": [],
   "source": [
    "# temp.loc[temp.gene_id=='ENSG00000000457'].head()"
   ]
  },
  {
   "cell_type": "code",
   "execution_count": 13,
   "id": "d2b231a8-d685-4ea7-b079-2e0e5f861124",
   "metadata": {},
   "outputs": [],
   "source": [
    "# ics.head()"
   ]
  },
  {
   "cell_type": "code",
   "execution_count": null,
   "id": "c9b5f2b2-894d-43d2-8f7d-4d2da6f306c2",
   "metadata": {},
   "outputs": [],
   "source": []
  },
  {
   "cell_type": "code",
   "execution_count": null,
   "id": "f1258b00-1d18-46b2-873c-52d631c9d0c8",
   "metadata": {},
   "outputs": [],
   "source": []
  },
  {
   "cell_type": "code",
   "execution_count": null,
   "id": "06f33cb2-2286-4f48-84d2-c9b38118e54a",
   "metadata": {},
   "outputs": [],
   "source": []
  },
  {
   "cell_type": "code",
   "execution_count": 14,
   "id": "afcf9c87-efb2-418c-99f8-46e1e1aa5b44",
   "metadata": {},
   "outputs": [
    {
     "name": "stdout",
     "output_type": "stream",
     "text": [
      "Calculating iso TPM values\n"
     ]
    },
    {
     "name": "stderr",
     "output_type": "stream",
     "text": [
      "/Users/fairliereese/Documents/programming/mortazavi_lab/data/paper_rnawg/proc_revisions/utils.py:2110: PerformanceWarning: DataFrame is highly fragmented.  This is usually the result of calling `frame.insert` many times, which has poor performance.  Consider joining all columns at once using pd.concat(axis=1) instead.  To get a de-fragmented frame, use `newframe = frame.copy()`\n",
      "  df[tpm_col] = (df[d]*1000000)/df[total_col]\n",
      "/Users/fairliereese/Documents/programming/mortazavi_lab/data/paper_rnawg/proc_revisions/utils.py:2109: PerformanceWarning: DataFrame is highly fragmented.  This is usually the result of calling `frame.insert` many times, which has poor performance.  Consider joining all columns at once using pd.concat(axis=1) instead.  To get a de-fragmented frame, use `newframe = frame.copy()`\n",
      "  df[total_col] = df[d].sum()\n"
     ]
    },
    {
     "name": "stdout",
     "output_type": "stream",
     "text": [
      "Enforcing minimum TPM\n",
      "Total # isos detected: 236615\n",
      "# isos >= 1 tpm: 213476\n",
      "Number of isos reported: 213476\n"
     ]
    },
    {
     "data": {
      "text/html": [
       "<div>\n",
       "<style scoped>\n",
       "    .dataframe tbody tr th:only-of-type {\n",
       "        vertical-align: middle;\n",
       "    }\n",
       "\n",
       "    .dataframe tbody tr th {\n",
       "        vertical-align: top;\n",
       "    }\n",
       "\n",
       "    .dataframe thead th {\n",
       "        text-align: right;\n",
       "    }\n",
       "</style>\n",
       "<table border=\"1\" class=\"dataframe\">\n",
       "  <thead>\n",
       "    <tr style=\"text-align: right;\">\n",
       "      <th></th>\n",
       "      <th>index</th>\n",
       "      <th>annot_transcript_id</th>\n",
       "      <th>gm12878_1_4</th>\n",
       "      <th>hl60_1_2</th>\n",
       "      <th>brodmann_area_46_9_1</th>\n",
       "      <th>right_cardiac_atrium_3_1</th>\n",
       "      <th>hl60_1_1</th>\n",
       "      <th>hl60_m2_24hr_1_1</th>\n",
       "      <th>hl60_m2_72hr_1_2</th>\n",
       "      <th>brodmann_area_46_8_1</th>\n",
       "      <th>...</th>\n",
       "      <th>mucosa_of_descending_colon_2_1</th>\n",
       "      <th>hl60_m1_12hr_1_2</th>\n",
       "      <th>k562_1_1</th>\n",
       "      <th>left_lung_2_1</th>\n",
       "      <th>pgp1_astro_1_1</th>\n",
       "      <th>hepg2_2_1</th>\n",
       "      <th>gm12878_1_1</th>\n",
       "      <th>pgp1_astro_1_2</th>\n",
       "      <th>gid</th>\n",
       "      <th>gene_novelty</th>\n",
       "    </tr>\n",
       "  </thead>\n",
       "  <tbody>\n",
       "    <tr>\n",
       "      <th>0</th>\n",
       "      <td>0</td>\n",
       "      <td>ENSG00000000003[1,1,1]</td>\n",
       "      <td>0.0</td>\n",
       "      <td>0.0</td>\n",
       "      <td>0.000000</td>\n",
       "      <td>0.000000</td>\n",
       "      <td>0.0</td>\n",
       "      <td>0.0</td>\n",
       "      <td>0.0</td>\n",
       "      <td>0.812232</td>\n",
       "      <td>...</td>\n",
       "      <td>2.755743</td>\n",
       "      <td>0.0</td>\n",
       "      <td>0.0</td>\n",
       "      <td>0.000000</td>\n",
       "      <td>1.672048</td>\n",
       "      <td>0.000000</td>\n",
       "      <td>0.000000</td>\n",
       "      <td>0.000000</td>\n",
       "      <td>ENSG00000000003</td>\n",
       "      <td>Known</td>\n",
       "    </tr>\n",
       "    <tr>\n",
       "      <th>1</th>\n",
       "      <td>1</td>\n",
       "      <td>ENSG00000000003[1,1,5]</td>\n",
       "      <td>0.0</td>\n",
       "      <td>0.0</td>\n",
       "      <td>2.029236</td>\n",
       "      <td>5.753204</td>\n",
       "      <td>0.0</td>\n",
       "      <td>0.0</td>\n",
       "      <td>0.0</td>\n",
       "      <td>3.248926</td>\n",
       "      <td>...</td>\n",
       "      <td>15.156588</td>\n",
       "      <td>0.0</td>\n",
       "      <td>0.0</td>\n",
       "      <td>0.000000</td>\n",
       "      <td>20.064574</td>\n",
       "      <td>56.523920</td>\n",
       "      <td>0.000000</td>\n",
       "      <td>17.065041</td>\n",
       "      <td>ENSG00000000003</td>\n",
       "      <td>Known</td>\n",
       "    </tr>\n",
       "    <tr>\n",
       "      <th>2</th>\n",
       "      <td>2</td>\n",
       "      <td>ENSG00000000003[1,1,6]</td>\n",
       "      <td>0.0</td>\n",
       "      <td>0.0</td>\n",
       "      <td>0.000000</td>\n",
       "      <td>0.000000</td>\n",
       "      <td>0.0</td>\n",
       "      <td>0.0</td>\n",
       "      <td>0.0</td>\n",
       "      <td>0.000000</td>\n",
       "      <td>...</td>\n",
       "      <td>4.133615</td>\n",
       "      <td>0.0</td>\n",
       "      <td>0.0</td>\n",
       "      <td>0.000000</td>\n",
       "      <td>0.000000</td>\n",
       "      <td>1.177582</td>\n",
       "      <td>0.000000</td>\n",
       "      <td>0.000000</td>\n",
       "      <td>ENSG00000000003</td>\n",
       "      <td>Known</td>\n",
       "    </tr>\n",
       "    <tr>\n",
       "      <th>3</th>\n",
       "      <td>3</td>\n",
       "      <td>ENSG00000000003[1,1,7]</td>\n",
       "      <td>0.0</td>\n",
       "      <td>0.0</td>\n",
       "      <td>4.734884</td>\n",
       "      <td>8.054485</td>\n",
       "      <td>0.0</td>\n",
       "      <td>0.0</td>\n",
       "      <td>0.0</td>\n",
       "      <td>10.559010</td>\n",
       "      <td>...</td>\n",
       "      <td>39.958278</td>\n",
       "      <td>0.0</td>\n",
       "      <td>0.0</td>\n",
       "      <td>12.297724</td>\n",
       "      <td>61.865771</td>\n",
       "      <td>120.113330</td>\n",
       "      <td>1.686719</td>\n",
       "      <td>42.662601</td>\n",
       "      <td>ENSG00000000003</td>\n",
       "      <td>Known</td>\n",
       "    </tr>\n",
       "    <tr>\n",
       "      <th>4</th>\n",
       "      <td>4</td>\n",
       "      <td>ENSG00000000003[1,1,8]</td>\n",
       "      <td>0.0</td>\n",
       "      <td>0.0</td>\n",
       "      <td>1.352824</td>\n",
       "      <td>4.602563</td>\n",
       "      <td>0.0</td>\n",
       "      <td>0.0</td>\n",
       "      <td>0.0</td>\n",
       "      <td>4.873389</td>\n",
       "      <td>...</td>\n",
       "      <td>33.068920</td>\n",
       "      <td>0.0</td>\n",
       "      <td>0.0</td>\n",
       "      <td>17.568178</td>\n",
       "      <td>18.392527</td>\n",
       "      <td>98.916860</td>\n",
       "      <td>0.000000</td>\n",
       "      <td>34.130081</td>\n",
       "      <td>ENSG00000000003</td>\n",
       "      <td>Known</td>\n",
       "    </tr>\n",
       "  </tbody>\n",
       "</table>\n",
       "<p>5 rows × 142 columns</p>\n",
       "</div>"
      ],
      "text/plain": [
       "   index     annot_transcript_id  gm12878_1_4  hl60_1_2  brodmann_area_46_9_1  \\\n",
       "0      0  ENSG00000000003[1,1,1]          0.0       0.0              0.000000   \n",
       "1      1  ENSG00000000003[1,1,5]          0.0       0.0              2.029236   \n",
       "2      2  ENSG00000000003[1,1,6]          0.0       0.0              0.000000   \n",
       "3      3  ENSG00000000003[1,1,7]          0.0       0.0              4.734884   \n",
       "4      4  ENSG00000000003[1,1,8]          0.0       0.0              1.352824   \n",
       "\n",
       "   right_cardiac_atrium_3_1  hl60_1_1  hl60_m2_24hr_1_1  hl60_m2_72hr_1_2  \\\n",
       "0                  0.000000       0.0               0.0               0.0   \n",
       "1                  5.753204       0.0               0.0               0.0   \n",
       "2                  0.000000       0.0               0.0               0.0   \n",
       "3                  8.054485       0.0               0.0               0.0   \n",
       "4                  4.602563       0.0               0.0               0.0   \n",
       "\n",
       "   brodmann_area_46_8_1  ...  mucosa_of_descending_colon_2_1  \\\n",
       "0              0.812232  ...                        2.755743   \n",
       "1              3.248926  ...                       15.156588   \n",
       "2              0.000000  ...                        4.133615   \n",
       "3             10.559010  ...                       39.958278   \n",
       "4              4.873389  ...                       33.068920   \n",
       "\n",
       "   hl60_m1_12hr_1_2  k562_1_1  left_lung_2_1  pgp1_astro_1_1   hepg2_2_1  \\\n",
       "0               0.0       0.0       0.000000        1.672048    0.000000   \n",
       "1               0.0       0.0       0.000000       20.064574   56.523920   \n",
       "2               0.0       0.0       0.000000        0.000000    1.177582   \n",
       "3               0.0       0.0      12.297724       61.865771  120.113330   \n",
       "4               0.0       0.0      17.568178       18.392527   98.916860   \n",
       "\n",
       "   gm12878_1_1  pgp1_astro_1_2              gid  gene_novelty  \n",
       "0     0.000000        0.000000  ENSG00000000003         Known  \n",
       "1     0.000000       17.065041  ENSG00000000003         Known  \n",
       "2     0.000000        0.000000  ENSG00000000003         Known  \n",
       "3     1.686719       42.662601  ENSG00000000003         Known  \n",
       "4     0.000000       34.130081  ENSG00000000003         Known  \n",
       "\n",
       "[5 rows x 142 columns]"
      ]
     },
     "execution_count": 14,
     "metadata": {},
     "output_type": "execute_result"
    }
   ],
   "source": [
    "# get expressed novel genes\n",
    "df = pd.read_csv(filt_ab, sep='\\t')\n",
    "df, _ = get_tpm_table(df, \n",
    "                      how='iso',\n",
    "                      min_tpm=1,\n",
    "                      gene_subset=None)\n",
    "\n",
    "df.reset_index(inplace=True)\n",
    "df['gid'] = df.annot_transcript_id.str.split('[', expand=True)[0]\n",
    "df.head()\n",
    "df.reset_index(inplace=True)\n",
    "df.rename({'gid_stable':'gid'}, axis=1, inplace=True)\n",
    "ab_df = pd.read_csv(filt_ab, sep='\\t')\n",
    "ab_df['gid'] = ab_df.annot_transcript_id.str.split('[', expand=True)[0]\n",
    "ab_df = ab_df[['gid', 'gene_novelty']].drop_duplicates()\n",
    "ab_df.loc[ab_df.gid.duplicated(keep=False)].sort_values(by='gid')\n",
    "assert len(ab_df.loc[ab_df.gid.duplicated(keep=False)].index) == 0\n",
    "df = df.merge(ab_df, how='left', on='gid')\n",
    "df.loc[df.gene_novelty=='Fusion', 'gene_novelty'] = 'Readthrough'\n",
    "df.head()"
   ]
  },
  {
   "cell_type": "code",
   "execution_count": 15,
   "id": "8a7b18d1-58b9-4955-8294-54152855cb74",
   "metadata": {},
   "outputs": [
    {
     "data": {
      "text/plain": [
       "array(['Known', 'Intergenic', 'Readthrough'], dtype=object)"
      ]
     },
     "execution_count": 15,
     "metadata": {},
     "output_type": "execute_result"
    }
   ],
   "source": [
    "df.gene_novelty.unique()"
   ]
  },
  {
   "cell_type": "code",
   "execution_count": 16,
   "id": "46292b9a-9765-4d1c-a8cb-a5d1dbe70e01",
   "metadata": {},
   "outputs": [
    {
     "data": {
      "text/html": [
       "<div>\n",
       "<style scoped>\n",
       "    .dataframe tbody tr th:only-of-type {\n",
       "        vertical-align: middle;\n",
       "    }\n",
       "\n",
       "    .dataframe tbody tr th {\n",
       "        vertical-align: top;\n",
       "    }\n",
       "\n",
       "    .dataframe thead th {\n",
       "        text-align: right;\n",
       "    }\n",
       "</style>\n",
       "<table border=\"1\" class=\"dataframe\">\n",
       "  <thead>\n",
       "    <tr style=\"text-align: right;\">\n",
       "      <th></th>\n",
       "      <th>n_t</th>\n",
       "    </tr>\n",
       "    <tr>\n",
       "      <th>gene_novelty</th>\n",
       "      <th></th>\n",
       "    </tr>\n",
       "  </thead>\n",
       "  <tbody>\n",
       "    <tr>\n",
       "      <th>Intergenic</th>\n",
       "      <td>113</td>\n",
       "    </tr>\n",
       "    <tr>\n",
       "      <th>Known</th>\n",
       "      <td>213179</td>\n",
       "    </tr>\n",
       "    <tr>\n",
       "      <th>Readthrough</th>\n",
       "      <td>184</td>\n",
       "    </tr>\n",
       "  </tbody>\n",
       "</table>\n",
       "</div>"
      ],
      "text/plain": [
       "                 n_t\n",
       "gene_novelty        \n",
       "Intergenic       113\n",
       "Known         213179\n",
       "Readthrough      184"
      ]
     },
     "execution_count": 16,
     "metadata": {},
     "output_type": "execute_result"
    }
   ],
   "source": [
    "df[['gene_novelty', 'annot_transcript_id']].groupby('gene_novelty').nunique().rename({'annot_transcript_id':'n_t'}, axis=1)"
   ]
  },
  {
   "cell_type": "code",
   "execution_count": 17,
   "id": "0c5734fa-f1ce-4f11-8d14-97390f43394a",
   "metadata": {},
   "outputs": [
    {
     "data": {
      "text/html": [
       "<div>\n",
       "<style scoped>\n",
       "    .dataframe tbody tr th:only-of-type {\n",
       "        vertical-align: middle;\n",
       "    }\n",
       "\n",
       "    .dataframe tbody tr th {\n",
       "        vertical-align: top;\n",
       "    }\n",
       "\n",
       "    .dataframe thead th {\n",
       "        text-align: right;\n",
       "    }\n",
       "</style>\n",
       "<table border=\"1\" class=\"dataframe\">\n",
       "  <thead>\n",
       "    <tr style=\"text-align: right;\">\n",
       "      <th></th>\n",
       "      <th>n_g</th>\n",
       "    </tr>\n",
       "    <tr>\n",
       "      <th>gene_novelty</th>\n",
       "      <th></th>\n",
       "    </tr>\n",
       "  </thead>\n",
       "  <tbody>\n",
       "    <tr>\n",
       "      <th>Intergenic</th>\n",
       "      <td>68</td>\n",
       "    </tr>\n",
       "    <tr>\n",
       "      <th>Known</th>\n",
       "      <td>29386</td>\n",
       "    </tr>\n",
       "    <tr>\n",
       "      <th>Readthrough</th>\n",
       "      <td>79</td>\n",
       "    </tr>\n",
       "  </tbody>\n",
       "</table>\n",
       "</div>"
      ],
      "text/plain": [
       "                n_g\n",
       "gene_novelty       \n",
       "Intergenic       68\n",
       "Known         29386\n",
       "Readthrough      79"
      ]
     },
     "execution_count": 17,
     "metadata": {},
     "output_type": "execute_result"
    }
   ],
   "source": [
    "df[['gene_novelty', 'gid']].groupby('gene_novelty').nunique().rename({'gid':'n_g'}, axis=1)"
   ]
  },
  {
   "cell_type": "code",
   "execution_count": 18,
   "id": "be71a979-5600-4e73-a1aa-5a666071bafa",
   "metadata": {},
   "outputs": [],
   "source": [
    "df.rename({'annot_transcript_id':'transcript_id'}, axis=1, inplace=True)"
   ]
  },
  {
   "cell_type": "code",
   "execution_count": 19,
   "id": "3701943e-8510-47f2-9658-1977531dfa20",
   "metadata": {},
   "outputs": [],
   "source": [
    "# add gene novelties to each ic\n",
    "ics = ics.merge(df[['gene_novelty', 'transcript_id']],\n",
    "                how='inner', \n",
    "                on='transcript_id')"
   ]
  },
  {
   "cell_type": "code",
   "execution_count": 20,
   "id": "e87da22e-8ce8-4374-b4d7-133e3bd875be",
   "metadata": {},
   "outputs": [],
   "source": [
    "# ics.rename({'gene_novelty_x':'gene_novelty'}, axis=1, inplace=True)\n",
    "# ics.drop('gene_novelty_y', axis=1, inplace=True)"
   ]
  },
  {
   "cell_type": "code",
   "execution_count": 21,
   "id": "b076361d-887e-41af-b1d7-ed13f7647607",
   "metadata": {},
   "outputs": [],
   "source": [
    "# ics.head()"
   ]
  },
  {
   "cell_type": "code",
   "execution_count": 22,
   "id": "d8c4e0ba-a313-4633-9a88-537118603882",
   "metadata": {},
   "outputs": [
    {
     "name": "stdout",
     "output_type": "stream",
     "text": [
      "213476\n"
     ]
    }
   ],
   "source": [
    "print(len(ics.loc[ics.gene_novelty.notnull()].transcript_id.unique()))\n",
    "ics = ics.loc[ics.gene_novelty.notnull()]"
   ]
  },
  {
   "cell_type": "code",
   "execution_count": 23,
   "id": "802573b8-4cba-4e69-8196-82a1df68a12e",
   "metadata": {},
   "outputs": [],
   "source": [
    "# limit to non-monoexonic\n",
    "ics.loc[ics.ic_id.str.endswith('-')].head()\n",
    "ics = ics.loc[~ics.ic_id.str.endswith('-')]"
   ]
  },
  {
   "cell_type": "code",
   "execution_count": 24,
   "id": "b8e28aa4-3016-41f0-8758-428d36d481c7",
   "metadata": {},
   "outputs": [],
   "source": [
    "# limit to non dupe\n",
    "temp = ics[['gene_novelty', 'ic_id']].drop_duplicates()\n",
    "temp = temp.loc[temp.ic_id.duplicated(keep=False)].sort_values(by='ic_id')\n",
    "assert len(temp.index) == 0\n",
    "\n",
    "ics = ics[['gene_novelty', 'ic_id']].drop_duplicates()"
   ]
  },
  {
   "cell_type": "code",
   "execution_count": 46,
   "id": "efcadb43-10f8-4565-b7b0-d45dd19c82f4",
   "metadata": {},
   "outputs": [],
   "source": [
    "merge = ics[['ic_id', 'gene_novelty']].merge(\n",
    "            ref_ics[['ic_id', 'gene_type']].drop_duplicates(),\n",
    "            how='left',\n",
    "            on='ic_id')"
   ]
  },
  {
   "cell_type": "code",
   "execution_count": 47,
   "id": "084536be-32d6-4f7b-9f32-7797026a2ae5",
   "metadata": {},
   "outputs": [
    {
     "data": {
      "text/html": [
       "<div>\n",
       "<style scoped>\n",
       "    .dataframe tbody tr th:only-of-type {\n",
       "        vertical-align: middle;\n",
       "    }\n",
       "\n",
       "    .dataframe tbody tr th {\n",
       "        vertical-align: top;\n",
       "    }\n",
       "\n",
       "    .dataframe thead th {\n",
       "        text-align: right;\n",
       "    }\n",
       "</style>\n",
       "<table border=\"1\" class=\"dataframe\">\n",
       "  <thead>\n",
       "    <tr style=\"text-align: right;\">\n",
       "      <th></th>\n",
       "      <th>ic_id</th>\n",
       "      <th>gene_novelty</th>\n",
       "      <th>gene_type</th>\n",
       "    </tr>\n",
       "  </thead>\n",
       "  <tbody>\n",
       "    <tr>\n",
       "      <th>111544</th>\n",
       "      <td>chr8_-_144314925-144314820</td>\n",
       "      <td>Known</td>\n",
       "      <td>lncRNA</td>\n",
       "    </tr>\n",
       "    <tr>\n",
       "      <th>111545</th>\n",
       "      <td>chr8_-_144314925-144314820</td>\n",
       "      <td>Known</td>\n",
       "      <td>protein_coding</td>\n",
       "    </tr>\n",
       "  </tbody>\n",
       "</table>\n",
       "</div>"
      ],
      "text/plain": [
       "                             ic_id gene_novelty       gene_type\n",
       "111544  chr8_-_144314925-144314820        Known          lncRNA\n",
       "111545  chr8_-_144314925-144314820        Known  protein_coding"
      ]
     },
     "execution_count": 47,
     "metadata": {},
     "output_type": "execute_result"
    }
   ],
   "source": [
    "# where are dupes coming from?\n",
    "merge.loc[merge.ic_id.duplicated(keep=False)].sort_values(by='ic_id')\n",
    "merge.loc[merge.ic_id.duplicated(keep=False)][['gene_type', 'ic_id']].groupby('gene_type').count().rename({'ic_id':'counts'}, axis=1)\n",
    "\n",
    "# so just try limiting it to lncs and protein coding\n",
    "merge = merge.loc[(merge.gene_type.isin(['protein_coding', 'lncRNA']))|\\\n",
    "                  (merge.gene_type.isnull())]\n",
    "merge.loc[merge.ic_id.duplicated(keep=False)][['gene_type', 'ic_id']].groupby('gene_type').count().rename({'ic_id':'counts'}, axis=1)\n",
    "\n",
    "merge.loc[merge.ic_id.duplicated(keep=False)].sort_values(by='ic_id')\n",
    "\n",
    "# who cares cause they're not from novel genes anyway right?"
   ]
  },
  {
   "cell_type": "code",
   "execution_count": 48,
   "id": "b239018f-a2c9-4cdb-9e3b-9dfaa1787791",
   "metadata": {},
   "outputs": [],
   "source": [
    "merge['in_v47'] = merge.gene_type.notnull()"
   ]
  },
  {
   "cell_type": "code",
   "execution_count": 49,
   "id": "5e3c5b78-dfb5-48e8-8969-37a300e013f8",
   "metadata": {},
   "outputs": [
    {
     "data": {
      "text/html": [
       "<div>\n",
       "<style scoped>\n",
       "    .dataframe tbody tr th:only-of-type {\n",
       "        vertical-align: middle;\n",
       "    }\n",
       "\n",
       "    .dataframe tbody tr th {\n",
       "        vertical-align: top;\n",
       "    }\n",
       "\n",
       "    .dataframe thead th {\n",
       "        text-align: right;\n",
       "    }\n",
       "</style>\n",
       "<table border=\"1\" class=\"dataframe\">\n",
       "  <thead>\n",
       "    <tr style=\"text-align: right;\">\n",
       "      <th></th>\n",
       "      <th></th>\n",
       "      <th>n_ic</th>\n",
       "    </tr>\n",
       "    <tr>\n",
       "      <th>gene_novelty</th>\n",
       "      <th>in_v47</th>\n",
       "      <th></th>\n",
       "    </tr>\n",
       "  </thead>\n",
       "  <tbody>\n",
       "    <tr>\n",
       "      <th rowspan=\"2\" valign=\"top\">Intergenic</th>\n",
       "      <th>False</th>\n",
       "      <td>79</td>\n",
       "    </tr>\n",
       "    <tr>\n",
       "      <th>True</th>\n",
       "      <td>34</td>\n",
       "    </tr>\n",
       "    <tr>\n",
       "      <th rowspan=\"2\" valign=\"top\">Readthrough</th>\n",
       "      <th>False</th>\n",
       "      <td>114</td>\n",
       "    </tr>\n",
       "    <tr>\n",
       "      <th>True</th>\n",
       "      <td>17</td>\n",
       "    </tr>\n",
       "  </tbody>\n",
       "</table>\n",
       "</div>"
      ],
      "text/plain": [
       "                     n_ic\n",
       "gene_novelty in_v47      \n",
       "Intergenic   False     79\n",
       "             True      34\n",
       "Readthrough  False    114\n",
       "             True      17"
      ]
     },
     "execution_count": 49,
     "metadata": {},
     "output_type": "execute_result"
    }
   ],
   "source": [
    "nov = merge.loc[merge.gene_novelty!='Known'].copy(deep=True)\n",
    "nov[['ic_id', 'gene_novelty', 'in_v47']].groupby(['gene_novelty', 'in_v47']).nunique().rename({'ic_id':'n_ic'}, axis=1)"
   ]
  },
  {
   "cell_type": "code",
   "execution_count": 50,
   "id": "1a902e77-0068-4c77-b696-729ae694a1d8",
   "metadata": {},
   "outputs": [
    {
     "data": {
      "text/plain": [
       "0.3008849557522124"
      ]
     },
     "execution_count": 50,
     "metadata": {},
     "output_type": "execute_result"
    }
   ],
   "source": [
    "34/(79+34)"
   ]
  },
  {
   "cell_type": "markdown",
   "id": "e4e48e65-13e5-4586-a08f-99df88630c6c",
   "metadata": {},
   "source": [
    "## What about by novelty category and GENCODE gene biotype?"
   ]
  },
  {
   "cell_type": "code",
   "execution_count": 51,
   "id": "1f0ecb38-4b39-456d-a6a6-f45790928ecf",
   "metadata": {},
   "outputs": [],
   "source": [
    "# get novelty types of each IC from cerberus\n",
    "ca = cerberus.read(cerberus_h5)"
   ]
  },
  {
   "cell_type": "code",
   "execution_count": 52,
   "id": "23867d93-0bdb-401a-95be-07e7c5660811",
   "metadata": {},
   "outputs": [
    {
     "data": {
      "text/html": [
       "<div>\n",
       "<style scoped>\n",
       "    .dataframe tbody tr th:only-of-type {\n",
       "        vertical-align: middle;\n",
       "    }\n",
       "\n",
       "    .dataframe tbody tr th {\n",
       "        vertical-align: top;\n",
       "    }\n",
       "\n",
       "    .dataframe thead th {\n",
       "        text-align: right;\n",
       "    }\n",
       "</style>\n",
       "<table border=\"1\" class=\"dataframe\">\n",
       "  <thead>\n",
       "    <tr style=\"text-align: right;\">\n",
       "      <th></th>\n",
       "      <th>ic_id</th>\n",
       "      <th>gene_novelty</th>\n",
       "      <th>gene_type</th>\n",
       "      <th>in_v47</th>\n",
       "    </tr>\n",
       "  </thead>\n",
       "  <tbody>\n",
       "    <tr>\n",
       "      <th>0</th>\n",
       "      <td>chr1_-_169893787-169888890-169888675-169878819...</td>\n",
       "      <td>Known</td>\n",
       "      <td>protein_coding</td>\n",
       "      <td>True</td>\n",
       "    </tr>\n",
       "    <tr>\n",
       "      <th>1</th>\n",
       "      <td>chr1_-_169893787-169888890-169888675-169878819...</td>\n",
       "      <td>Known</td>\n",
       "      <td>protein_coding</td>\n",
       "      <td>True</td>\n",
       "    </tr>\n",
       "    <tr>\n",
       "      <th>2</th>\n",
       "      <td>chr1_-_169893787-169888890-169888675-169878819...</td>\n",
       "      <td>Known</td>\n",
       "      <td>NaN</td>\n",
       "      <td>False</td>\n",
       "    </tr>\n",
       "    <tr>\n",
       "      <th>3</th>\n",
       "      <td>chr1_-_169888675-169878819-169878633-169876091...</td>\n",
       "      <td>Known</td>\n",
       "      <td>protein_coding</td>\n",
       "      <td>True</td>\n",
       "    </tr>\n",
       "    <tr>\n",
       "      <th>4</th>\n",
       "      <td>chr1_-_169894006-169888890-169888675-169878819...</td>\n",
       "      <td>Known</td>\n",
       "      <td>protein_coding</td>\n",
       "      <td>True</td>\n",
       "    </tr>\n",
       "  </tbody>\n",
       "</table>\n",
       "</div>"
      ],
      "text/plain": [
       "                                               ic_id gene_novelty  \\\n",
       "0  chr1_-_169893787-169888890-169888675-169878819...        Known   \n",
       "1  chr1_-_169893787-169888890-169888675-169878819...        Known   \n",
       "2  chr1_-_169893787-169888890-169888675-169878819...        Known   \n",
       "3  chr1_-_169888675-169878819-169878633-169876091...        Known   \n",
       "4  chr1_-_169894006-169888890-169888675-169878819...        Known   \n",
       "\n",
       "        gene_type  in_v47  \n",
       "0  protein_coding    True  \n",
       "1  protein_coding    True  \n",
       "2             NaN   False  \n",
       "3  protein_coding    True  \n",
       "4  protein_coding    True  "
      ]
     },
     "execution_count": 52,
     "metadata": {},
     "output_type": "execute_result"
    }
   ],
   "source": [
    "merge.head()"
   ]
  },
  {
   "cell_type": "code",
   "execution_count": 53,
   "id": "a4ad1c53-e907-4ed3-a26a-7512b856d2e8",
   "metadata": {},
   "outputs": [],
   "source": [
    "temp = ca.ic.copy(deep=True)\n",
    "temp.drop('ic', axis=1, inplace=True)\n",
    "temp.rename({'Coordinates':'ic'}, axis=1, inplace=True)\n",
    "temp = get_ic_id(temp)"
   ]
  },
  {
   "cell_type": "code",
   "execution_count": 54,
   "id": "4ec405d4-7b35-47a3-b572-07665494b77e",
   "metadata": {},
   "outputs": [],
   "source": [
    "merge = merge.merge(temp[['ic_id', 'novelty']], \n",
    "                    how='left',\n",
    "                    on='ic_id')"
   ]
  },
  {
   "cell_type": "code",
   "execution_count": 55,
   "id": "b1f38724-85f5-44d2-8dbe-710bae115416",
   "metadata": {},
   "outputs": [],
   "source": [
    "# merge.drop('novelty_x', axis=1, inplace=True)\n",
    "# merge.rename({'novelty_y': 'novelty'}, axis=1, inplace=True)"
   ]
  },
  {
   "cell_type": "code",
   "execution_count": 56,
   "id": "2cfb571f-e94b-4b9a-8dfa-a18a91597ce3",
   "metadata": {},
   "outputs": [
    {
     "data": {
      "text/plain": [
       "array([ True, False])"
      ]
     },
     "execution_count": 56,
     "metadata": {},
     "output_type": "execute_result"
    }
   ],
   "source": [
    "merge.in_v47.unique()"
   ]
  },
  {
   "cell_type": "code",
   "execution_count": 57,
   "id": "438025e8-37a6-4206-a3ab-83225d064ab3",
   "metadata": {},
   "outputs": [
    {
     "data": {
      "text/html": [
       "<div>\n",
       "<style scoped>\n",
       "    .dataframe tbody tr th:only-of-type {\n",
       "        vertical-align: middle;\n",
       "    }\n",
       "\n",
       "    .dataframe tbody tr th {\n",
       "        vertical-align: top;\n",
       "    }\n",
       "\n",
       "    .dataframe thead th {\n",
       "        text-align: right;\n",
       "    }\n",
       "</style>\n",
       "<table border=\"1\" class=\"dataframe\">\n",
       "  <thead>\n",
       "    <tr style=\"text-align: right;\">\n",
       "      <th></th>\n",
       "      <th>ic_id</th>\n",
       "      <th>gene_novelty</th>\n",
       "      <th>gene_type</th>\n",
       "      <th>in_v47</th>\n",
       "      <th>novelty</th>\n",
       "    </tr>\n",
       "  </thead>\n",
       "  <tbody>\n",
       "    <tr>\n",
       "      <th>2</th>\n",
       "      <td>chr1_-_169893787-169888890-169888675-169878819...</td>\n",
       "      <td>Known</td>\n",
       "      <td>NaN</td>\n",
       "      <td>False</td>\n",
       "      <td>NIC</td>\n",
       "    </tr>\n",
       "    <tr>\n",
       "      <th>6</th>\n",
       "      <td>chr1_-_27635064-27625151-27625088-27623926-276...</td>\n",
       "      <td>Known</td>\n",
       "      <td>NaN</td>\n",
       "      <td>False</td>\n",
       "      <td>NNC</td>\n",
       "    </tr>\n",
       "    <tr>\n",
       "      <th>7</th>\n",
       "      <td>chr1_-_27635064-27625151-27625088-27623929-276...</td>\n",
       "      <td>Known</td>\n",
       "      <td>NaN</td>\n",
       "      <td>False</td>\n",
       "      <td>NIC</td>\n",
       "    </tr>\n",
       "    <tr>\n",
       "      <th>8</th>\n",
       "      <td>chr1_-_27635064-27625151-27625088-27623929-276...</td>\n",
       "      <td>Known</td>\n",
       "      <td>NaN</td>\n",
       "      <td>False</td>\n",
       "      <td>NIC</td>\n",
       "    </tr>\n",
       "    <tr>\n",
       "      <th>9</th>\n",
       "      <td>chr1_-_27635064-27625151-27625088-27623929-276...</td>\n",
       "      <td>Known</td>\n",
       "      <td>NaN</td>\n",
       "      <td>False</td>\n",
       "      <td>NNC</td>\n",
       "    </tr>\n",
       "  </tbody>\n",
       "</table>\n",
       "</div>"
      ],
      "text/plain": [
       "                                               ic_id gene_novelty gene_type  \\\n",
       "2  chr1_-_169893787-169888890-169888675-169878819...        Known       NaN   \n",
       "6  chr1_-_27635064-27625151-27625088-27623926-276...        Known       NaN   \n",
       "7  chr1_-_27635064-27625151-27625088-27623929-276...        Known       NaN   \n",
       "8  chr1_-_27635064-27625151-27625088-27623929-276...        Known       NaN   \n",
       "9  chr1_-_27635064-27625151-27625088-27623929-276...        Known       NaN   \n",
       "\n",
       "   in_v47 novelty  \n",
       "2   False     NIC  \n",
       "6   False     NNC  \n",
       "7   False     NIC  \n",
       "8   False     NIC  \n",
       "9   False     NNC  "
      ]
     },
     "execution_count": 57,
     "metadata": {},
     "output_type": "execute_result"
    }
   ],
   "source": [
    "merge.loc[merge.in_v47==False].head()"
   ]
  },
  {
   "cell_type": "code",
   "execution_count": 58,
   "id": "3e2143be-4e51-41c6-b684-d6c47c5b9275",
   "metadata": {},
   "outputs": [
    {
     "data": {
      "text/html": [
       "<div>\n",
       "<style scoped>\n",
       "    .dataframe tbody tr th:only-of-type {\n",
       "        vertical-align: middle;\n",
       "    }\n",
       "\n",
       "    .dataframe tbody tr th {\n",
       "        vertical-align: top;\n",
       "    }\n",
       "\n",
       "    .dataframe thead th {\n",
       "        text-align: right;\n",
       "    }\n",
       "</style>\n",
       "<table border=\"1\" class=\"dataframe\">\n",
       "  <thead>\n",
       "    <tr style=\"text-align: right;\">\n",
       "      <th></th>\n",
       "      <th>ic_id</th>\n",
       "      <th>gene_novelty</th>\n",
       "      <th>gene_type</th>\n",
       "      <th>in_v47</th>\n",
       "      <th>novelty</th>\n",
       "    </tr>\n",
       "  </thead>\n",
       "  <tbody>\n",
       "    <tr>\n",
       "      <th>16383</th>\n",
       "      <td>chr10_+_14838459-14839904-14839985-14840074-14...</td>\n",
       "      <td>Known</td>\n",
       "      <td>protein_coding</td>\n",
       "      <td>True</td>\n",
       "      <td>NNC</td>\n",
       "    </tr>\n",
       "    <tr>\n",
       "      <th>16382</th>\n",
       "      <td>chr10_+_14838459-14839904-14839985-14840074-14...</td>\n",
       "      <td>Known</td>\n",
       "      <td>protein_coding</td>\n",
       "      <td>True</td>\n",
       "      <td>Known</td>\n",
       "    </tr>\n",
       "    <tr>\n",
       "      <th>14040</th>\n",
       "      <td>chr10_-_5617930-5617400-5617300-5617187</td>\n",
       "      <td>Known</td>\n",
       "      <td>lncRNA</td>\n",
       "      <td>True</td>\n",
       "      <td>Known</td>\n",
       "    </tr>\n",
       "    <tr>\n",
       "      <th>14041</th>\n",
       "      <td>chr10_-_5617930-5617400-5617300-5617187</td>\n",
       "      <td>Known</td>\n",
       "      <td>lncRNA</td>\n",
       "      <td>True</td>\n",
       "      <td>Known</td>\n",
       "    </tr>\n",
       "    <tr>\n",
       "      <th>14180</th>\n",
       "      <td>chr10_-_73252469-73252023-73251762-73250991-73...</td>\n",
       "      <td>Readthrough</td>\n",
       "      <td>NaN</td>\n",
       "      <td>False</td>\n",
       "      <td>NNC</td>\n",
       "    </tr>\n",
       "  </tbody>\n",
       "</table>\n",
       "</div>"
      ],
      "text/plain": [
       "                                                   ic_id gene_novelty  \\\n",
       "16383  chr10_+_14838459-14839904-14839985-14840074-14...        Known   \n",
       "16382  chr10_+_14838459-14839904-14839985-14840074-14...        Known   \n",
       "14040            chr10_-_5617930-5617400-5617300-5617187        Known   \n",
       "14041            chr10_-_5617930-5617400-5617300-5617187        Known   \n",
       "14180  chr10_-_73252469-73252023-73251762-73250991-73...  Readthrough   \n",
       "\n",
       "            gene_type  in_v47 novelty  \n",
       "16383  protein_coding    True     NNC  \n",
       "16382  protein_coding    True   Known  \n",
       "14040          lncRNA    True   Known  \n",
       "14041          lncRNA    True   Known  \n",
       "14180             NaN   False     NNC  "
      ]
     },
     "execution_count": 58,
     "metadata": {},
     "output_type": "execute_result"
    }
   ],
   "source": [
    "# CHECK FOR DUPES\n",
    "merge.loc[merge.ic_id.duplicated(keep=False)].sort_values(by='ic_id').head()\n",
    "# merge.drop_duplicates(inplace=True)\n",
    "# merge.loc[merge.ic_id.duplicated(keep=False)].sort_values(by='ic_id').head()"
   ]
  },
  {
   "cell_type": "code",
   "execution_count": 59,
   "id": "1d9993ca-d591-463a-abe1-3e3b5465f176",
   "metadata": {},
   "outputs": [],
   "source": [
    "# deduplicate using 1 and 0 for known and novel. ANy time \n",
    "# an intron chain is called known, regardless of gene its assigned to, call \n",
    "# it known\n",
    "merge['gb_known_col'] = 0\n",
    "merge.loc[merge.novelty == 'Known', 'gb_known_col'] = 1\n",
    "merge = merge[['ic_id', 'gene_type',\n",
    "               'in_v47', 'gb_known_col']].groupby(['ic_id',\n",
    "                                                   'gene_type',\n",
    "                                                   'in_v47'],\n",
    "                                                  dropna=False).max().reset_index()"
   ]
  },
  {
   "cell_type": "code",
   "execution_count": 60,
   "id": "2d388e5e-e252-41fe-8320-a0b38cd114f8",
   "metadata": {},
   "outputs": [
    {
     "data": {
      "text/html": [
       "<div>\n",
       "<style scoped>\n",
       "    .dataframe tbody tr th:only-of-type {\n",
       "        vertical-align: middle;\n",
       "    }\n",
       "\n",
       "    .dataframe tbody tr th {\n",
       "        vertical-align: top;\n",
       "    }\n",
       "\n",
       "    .dataframe thead th {\n",
       "        text-align: right;\n",
       "    }\n",
       "</style>\n",
       "<table border=\"1\" class=\"dataframe\">\n",
       "  <thead>\n",
       "    <tr style=\"text-align: right;\">\n",
       "      <th></th>\n",
       "      <th>ic_id</th>\n",
       "      <th>gene_type</th>\n",
       "      <th>in_v47</th>\n",
       "      <th>gb_known_col</th>\n",
       "    </tr>\n",
       "  </thead>\n",
       "  <tbody>\n",
       "    <tr>\n",
       "      <th>112049</th>\n",
       "      <td>chr8_-_144314925-144314820</td>\n",
       "      <td>lncRNA</td>\n",
       "      <td>True</td>\n",
       "      <td>1</td>\n",
       "    </tr>\n",
       "    <tr>\n",
       "      <th>112050</th>\n",
       "      <td>chr8_-_144314925-144314820</td>\n",
       "      <td>protein_coding</td>\n",
       "      <td>True</td>\n",
       "      <td>1</td>\n",
       "    </tr>\n",
       "  </tbody>\n",
       "</table>\n",
       "</div>"
      ],
      "text/plain": [
       "                             ic_id       gene_type  in_v47  gb_known_col\n",
       "112049  chr8_-_144314925-144314820          lncRNA    True             1\n",
       "112050  chr8_-_144314925-144314820  protein_coding    True             1"
      ]
     },
     "execution_count": 60,
     "metadata": {},
     "output_type": "execute_result"
    }
   ],
   "source": [
    "merge.loc[merge.ic_id.duplicated(keep=False)].sort_values(by='ic_id').head()"
   ]
  },
  {
   "cell_type": "code",
   "execution_count": 61,
   "id": "1be87bd3-688e-40f0-9b64-aadc0f5e665c",
   "metadata": {},
   "outputs": [],
   "source": [
    "# add known or novel this way\n",
    "merge['novelty'] = 'Known'\n",
    "merge.loc[merge.gb_known_col==0, 'novelty'] = 'Novel'"
   ]
  },
  {
   "cell_type": "code",
   "execution_count": 62,
   "id": "06041f22-d028-427e-887e-d1c57ec7c662",
   "metadata": {},
   "outputs": [
    {
     "data": {
      "text/html": [
       "<div>\n",
       "<style scoped>\n",
       "    .dataframe tbody tr th:only-of-type {\n",
       "        vertical-align: middle;\n",
       "    }\n",
       "\n",
       "    .dataframe tbody tr th {\n",
       "        vertical-align: top;\n",
       "    }\n",
       "\n",
       "    .dataframe thead th {\n",
       "        text-align: right;\n",
       "    }\n",
       "</style>\n",
       "<table border=\"1\" class=\"dataframe\">\n",
       "  <thead>\n",
       "    <tr style=\"text-align: right;\">\n",
       "      <th></th>\n",
       "      <th></th>\n",
       "      <th></th>\n",
       "      <th>ic_id</th>\n",
       "    </tr>\n",
       "    <tr>\n",
       "      <th>gene_type</th>\n",
       "      <th>novelty</th>\n",
       "      <th>in_v47</th>\n",
       "      <th></th>\n",
       "    </tr>\n",
       "  </thead>\n",
       "  <tbody>\n",
       "    <tr>\n",
       "      <th rowspan=\"2\" valign=\"top\">lncRNA</th>\n",
       "      <th>Known</th>\n",
       "      <th>True</th>\n",
       "      <td>7051</td>\n",
       "    </tr>\n",
       "    <tr>\n",
       "      <th>Novel</th>\n",
       "      <th>True</th>\n",
       "      <td>695</td>\n",
       "    </tr>\n",
       "    <tr>\n",
       "      <th rowspan=\"2\" valign=\"top\">protein_coding</th>\n",
       "      <th>Known</th>\n",
       "      <th>True</th>\n",
       "      <td>66755</td>\n",
       "    </tr>\n",
       "    <tr>\n",
       "      <th>Novel</th>\n",
       "      <th>True</th>\n",
       "      <td>689</td>\n",
       "    </tr>\n",
       "    <tr>\n",
       "      <th rowspan=\"2\" valign=\"top\">NaN</th>\n",
       "      <th>Known</th>\n",
       "      <th>False</th>\n",
       "      <td>2000</td>\n",
       "    </tr>\n",
       "    <tr>\n",
       "      <th>Novel</th>\n",
       "      <th>False</th>\n",
       "      <td>44563</td>\n",
       "    </tr>\n",
       "  </tbody>\n",
       "</table>\n",
       "</div>"
      ],
      "text/plain": [
       "                               ic_id\n",
       "gene_type      novelty in_v47       \n",
       "lncRNA         Known   True     7051\n",
       "               Novel   True      695\n",
       "protein_coding Known   True    66755\n",
       "               Novel   True      689\n",
       "NaN            Known   False    2000\n",
       "               Novel   False   44563"
      ]
     },
     "execution_count": 62,
     "metadata": {},
     "output_type": "execute_result"
    }
   ],
   "source": [
    "merge[['ic_id', 'gene_type', 'novelty', 'in_v47']].groupby(['gene_type', 'novelty', 'in_v47'], dropna=False).nunique()"
   ]
  }
 ],
 "metadata": {
  "kernelspec": {
   "display_name": "Python 3",
   "language": "python",
   "name": "python3"
  },
  "language_info": {
   "codemirror_mode": {
    "name": "ipython",
    "version": 3
   },
   "file_extension": ".py",
   "mimetype": "text/x-python",
   "name": "python",
   "nbconvert_exporter": "python",
   "pygments_lexer": "ipython3",
   "version": "3.7.12"
  }
 },
 "nbformat": 4,
 "nbformat_minor": 5
}
