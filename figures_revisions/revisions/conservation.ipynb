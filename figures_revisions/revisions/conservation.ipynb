{
 "cells": [
  {
   "cell_type": "code",
   "execution_count": 1,
   "id": "dc769a7c-f7aa-4153-be7e-2230d844bd31",
   "metadata": {},
   "outputs": [],
   "source": [
    "import pandas as pd\n",
    "import numpy as np\n",
    "import scipy.stats as st\n",
    "import seaborn as sns\n",
    "import sys\n",
    "import os\n",
    "import gseapy as gp\n",
    "import matplotlib.pyplot as plt\n",
    "import swan_vis as swan\n",
    "import yaml\n",
    "from snakemake.io import expand\n",
    "import itertools\n",
    "\n",
    "p = os.path.dirname(os.path.dirname(os.getcwd()))\n",
    "sys.path.append(p)\n",
    "\n",
    "from scripts.utils import *\n",
    "from scripts.plotting import *\n",
    "from scripts.plotting import *"
   ]
  },
  {
   "cell_type": "code",
   "execution_count": 2,
   "id": "a357ac6b-d08d-4809-8dc1-196f6d25ab9f",
   "metadata": {},
   "outputs": [],
   "source": [
    "od = '../../proc_revisions/'\n",
    "config_file = f'{od}/config.yml'\n",
    "with open(config_file) as f:\n",
    "    config = yaml.safe_load(f)"
   ]
  },
  {
   "cell_type": "code",
   "execution_count": 3,
   "id": "d3b97beb-a6f7-4dfe-8bda-6f3e73917fa7",
   "metadata": {},
   "outputs": [],
   "source": [
    "ab = od+expand(config['lr']['talon']['fusion_fix']['ab'], species='human')[0]\n",
    "filt_ab = od+expand(config['lr']['cerberus']['filt_ab'], species='human')[0]\n",
    "read_annot = od+expand(config['lr']['talon']['full_annot'], species='human')[0]\n",
    "t_metadata = od+expand(config['ref']['cerberus']['new_gtf_t_info'], species='human')[0]\n",
    "lib_meta = od+expand(config['lr']['meta'], species='human')[0]\n",
    "swan_file = od+expand(config['lr']['swan']['sg'], species='human')[0]\n",
    "cerberus_h5 = od+expand(config['lr']['cerberus']['ca_triplets'], species='human', obs_col='sample')[0]\n",
    "cerb_t_metadata = od+expand(config['lr']['cerberus']['gtf_t_info'], species='human')[0]\n",
    "major_isos = od+expand(config['lr']['analysis']['major_isos'], species='human', obs_col='sample')[0]\n",
    "pi_tpm_table = od+expand(config['lr']['mane']['pi_tpm']['triplet'], species='human', obs_col='sample')[0]\n",
    "pp_summary = od+expand(config['lr']['protein_pred']['summary'], species='human')[0]\n",
    "gtf = od+expand(config['lr']['cerberus']['gtf'], species='human')[0]\n",
    "phastcons = od+expand(config['ref']['phastcons100']['txt'])[0]\n",
    "\n",
    "\n",
    "ref_t_metadata = od+expand(config['ref']['new_gtf_t_info'], species='human')[0]\n",
    "ref_g_metadata = od+expand(config['ref']['new_gtf_g_info'], species='human')[0]\n",
    "\n",
    "sr_ab = '../'+config['sr']['ab']\n",
    "\n",
    "\n",
    "ver = 'v40_cerberus'\n",
    "min_tpm = 1\n",
    "gene_subset = 'protein_coding'\n",
    "obs_col = 'sample'\n",
    "go_gene_subset = 'protein_coding'\n",
    "\n",
    "m_ab = od+expand(config['lr']['talon']['fusion_fix']['ab'], species='mouse')[0]\n",
    "m_filt_ab = od+expand(config['lr']['cerberus']['filt_ab'], species='mouse')[0]\n",
    "m_read_annot = od+expand(config['lr']['talon']['full_annot'], species='mouse')[0]\n",
    "m_t_metadata = od+expand(config['ref']['cerberus']['new_gtf_t_info'], species='mouse')[0]\n",
    "m_lib_meta = od+expand(config['lr']['meta'], species='mouse')[0]\n",
    "m_swan_file = od+expand(config['lr']['swan']['sg'], species='mouse')[0]\n",
    "m_cerberus_h5 = od+expand(config['lr']['cerberus']['ca_triplets'], species='mouse', obs_col='sample')[0]\n",
    "cerb_t_metadata = od+expand(config['lr']['cerberus']['gtf_t_info'], species='mouse')[0]\n",
    "m_major_isos = od+expand(config['lr']['analysis']['major_isos'], species='mouse', obs_col='sample')[0]\n",
    "m_pi_tpm_table = od+expand(config['lr']['mane']['pi_tpm']['triplet'], species='mouse', obs_col='sample')[0]\n",
    "m_pp_summary = od+expand(config['lr']['protein_pred']['summary'], species='mouse')[0]\n",
    "\n",
    "\n",
    "m_ref_t_metadata = od+expand(config['ref']['new_gtf_t_info'], species='mouse')[0]\n",
    "m_ref_g_metadata = od+expand(config['ref']['new_gtf_g_info'], species='mouse')[0]\n",
    "\n",
    "\n",
    "orth_table = '../../proc_revisions/ref/biomart_human_to_mouse.tsv'\n",
    "mouse_ver = 'vM25_cerberus'"
   ]
  },
  {
   "cell_type": "code",
   "execution_count": 4,
   "id": "d4c4c252-421c-4331-a69e-bb70cd08e06c",
   "metadata": {},
   "outputs": [],
   "source": [
    "source = 'obs_major'"
   ]
  },
  {
   "cell_type": "code",
   "execution_count": 5,
   "id": "b76b4e8d-5715-4bbb-8d00-a560ef87b4dd",
   "metadata": {},
   "outputs": [
    {
     "name": "stdout",
     "output_type": "stream",
     "text": [
      "186\n"
     ]
    },
    {
     "data": {
      "image/png": "[encoded data removed]",
      "text/plain": [
       "<Figure size 432x288 with 1 Axes>"
      ]
     },
     "metadata": {
      "needs_background": "light"
     },
     "output_type": "display_data"
    }
   ],
   "source": [
    "# read conserved elements in, threshold for a certain score\n",
    "min_cons_score = 250\n",
    "cons = pd.read_csv(phastcons, sep='\\t', header=None,\n",
    "                 names=['bin', 'Chromosome', 'Start', 'End', 'idk1', 'score'])\n",
    "cons = cons[['Chromosome', 'Start', 'End', 'score']]\n",
    "print(cons.score.min())\n",
    "ax = sns.kdeplot(cons, x='score')\n",
    "ylims = ax.get_ylim()\n",
    "ax.vlines(min_cons_score, ylims[0], ylims[1],\n",
    "                      colors='k', linestyles='dashed',\n",
    "                      linewidth=2)\n",
    "cons = cons.loc[cons.score >= min_cons_score]\n",
    "cons = pr.PyRanges(cons)"
   ]
  },
  {
   "cell_type": "code",
   "execution_count": 6,
   "id": "7852c62d-3852-4d5c-8f0e-61678441123f",
   "metadata": {},
   "outputs": [],
   "source": [
    "# read gtf, limit to relevant columns\n",
    "# only look at exons, calc exon len\n",
    "gtf_df = pr.read_gtf(gtf, duplicate_attr=True).as_df()\n",
    "gtf_df = gtf_df[['Chromosome', 'Start', 'End', 'gene_name',\n",
    "                 'gene_id', 'transcript_id', 'Feature']]\n",
    "gtf_df = gtf_df.loc[gtf_df.Feature=='exon']\n",
    "gtf_df['exon_len'] = (gtf_df.Start-gtf_df.End).abs()\n",
    "\n",
    "# get length of each transcript\n",
    "gb_cols = ['transcript_id']\n",
    "keep_cols = gb_cols + ['exon_len']\n",
    "temp3 = gtf_df[keep_cols].groupby(gb_cols).sum().reset_index().rename({'exon_len':'t_len'}, axis=1)"
   ]
  },
  {
   "cell_type": "code",
   "execution_count": 7,
   "id": "d9eeba8c-9db1-4cf9-8705-c641a9277972",
   "metadata": {},
   "outputs": [],
   "source": [
    "gtf_df = pr.PyRanges(gtf_df)\n",
    "gtf_df = gtf_df.join(cons, report_overlap=True)"
   ]
  },
  {
   "cell_type": "code",
   "execution_count": 8,
   "id": "6d06d435-e611-4959-bd9b-b5c0901182bd",
   "metadata": {},
   "outputs": [],
   "source": [
    "# ensure that phastcons things are non-overlapping\n",
    "cons = cons.df\n",
    "cons['region_id'] = cons.Chromosome.astype(str)+'_'+cons.Start.astype(str)+'_'+cons.End.astype(str)\n",
    "cons = pr.PyRanges(cons)\n",
    "temp = cons.join(cons)\n",
    "temp.head()\n",
    "temp = temp.df\n",
    "assert len(temp.loc[temp.region_id!=temp.region_id_b]) == 0"
   ]
  },
  {
   "cell_type": "code",
   "execution_count": 9,
   "id": "a8448139-5866-4a4c-ae32-36bb05bc97f4",
   "metadata": {},
   "outputs": [
    {
     "data": {
      "text/plain": [
       "64"
      ]
     },
     "execution_count": 9,
     "metadata": {},
     "output_type": "execute_result"
    }
   ],
   "source": [
    "import sys\n",
    "sys.getsizeof(cons)"
   ]
  },
  {
   "cell_type": "code",
   "execution_count": 10,
   "id": "cc981204-c03f-4bc1-9ade-5e5b2e5aa3eb",
   "metadata": {},
   "outputs": [
    {
     "data": {
      "text/plain": [
       "64"
      ]
     },
     "execution_count": 10,
     "metadata": {},
     "output_type": "execute_result"
    }
   ],
   "source": [
    "import sys\n",
    "sys.getsizeof(gtf_df)"
   ]
  },
  {
   "cell_type": "code",
   "execution_count": 11,
   "id": "8491007f-8e54-4341-809b-beaf838ccc7d",
   "metadata": {},
   "outputs": [],
   "source": [
    "# gtf_df_back = gtf_df.df.copy(deep=True)"
   ]
  },
  {
   "cell_type": "code",
   "execution_count": 12,
   "id": "7c001ec6-57ee-4322-8fd5-cfb66d1b8133",
   "metadata": {},
   "outputs": [],
   "source": [
    "# gtf_df = gtf_df_back"
   ]
  },
  {
   "cell_type": "code",
   "execution_count": 13,
   "id": "4e4e0393-1764-4589-800e-4eb9574a0eea",
   "metadata": {},
   "outputs": [],
   "source": [
    "# gtf_df = gtf_df_back\n",
    "gtf_df = gtf_df.df\n",
    "\n",
    "# # get bp overlap / exon\n",
    "gb_cols = ['transcript_id']\n",
    "keep_cols = gb_cols+['Overlap']\n",
    "temp2 = gtf_df[keep_cols].groupby(gb_cols).sum().reset_index().rename({'overlap':'cons_len'}, axis=1)\n",
    "\n",
    "temp = temp3.merge(temp2, how='left', on=['transcript_id'])"
   ]
  },
  {
   "cell_type": "code",
   "execution_count": 14,
   "id": "a71e0ade-4558-41ef-9d42-2414e626accc",
   "metadata": {},
   "outputs": [],
   "source": [
    "# add in gene info\n",
    "temp = temp.merge(gtf_df[['gene_id', 'gene_name', 'transcript_id']].drop_duplicates(),\n",
    "                  how='left',\n",
    "                  on='transcript_id')\n",
    "\n",
    "del gtf_df"
   ]
  },
  {
   "cell_type": "code",
   "execution_count": 15,
   "id": "5b014f00-d1d0-484d-9e2b-5a0058a5d475",
   "metadata": {},
   "outputs": [],
   "source": [
    "# compute % conservation\n",
    "temp['perc_cons'] = (temp['Overlap']/temp['t_len'])*100"
   ]
  },
  {
   "cell_type": "code",
   "execution_count": 16,
   "id": "2aa6a386-c189-4f7e-9a08-e8aa4bd2120e",
   "metadata": {},
   "outputs": [
    {
     "data": {
      "text/html": [
       "<div>\n",
       "<style scoped>\n",
       "    .dataframe tbody tr th:only-of-type {\n",
       "        vertical-align: middle;\n",
       "    }\n",
       "\n",
       "    .dataframe tbody tr th {\n",
       "        vertical-align: top;\n",
       "    }\n",
       "\n",
       "    .dataframe thead th {\n",
       "        text-align: right;\n",
       "    }\n",
       "</style>\n",
       "<table border=\"1\" class=\"dataframe\">\n",
       "  <thead>\n",
       "    <tr style=\"text-align: right;\">\n",
       "      <th></th>\n",
       "      <th>transcript_id</th>\n",
       "      <th>t_len</th>\n",
       "      <th>Overlap</th>\n",
       "      <th>gene_id</th>\n",
       "      <th>gene_name</th>\n",
       "      <th>perc_cons</th>\n",
       "    </tr>\n",
       "  </thead>\n",
       "  <tbody>\n",
       "    <tr>\n",
       "      <th>0</th>\n",
       "      <td>ENSG00000000003[1,1,1]</td>\n",
       "      <td>3868</td>\n",
       "      <td>1033.0</td>\n",
       "      <td>ENSG00000000003.14</td>\n",
       "      <td>TSPAN6</td>\n",
       "      <td>26.706308</td>\n",
       "    </tr>\n",
       "    <tr>\n",
       "      <th>1</th>\n",
       "      <td>ENSG00000000003[1,1,5]</td>\n",
       "      <td>2306</td>\n",
       "      <td>951.0</td>\n",
       "      <td>ENSG00000000003.14</td>\n",
       "      <td>TSPAN6</td>\n",
       "      <td>41.240243</td>\n",
       "    </tr>\n",
       "    <tr>\n",
       "      <th>2</th>\n",
       "      <td>ENSG00000000003[1,1,6]</td>\n",
       "      <td>3225</td>\n",
       "      <td>958.0</td>\n",
       "      <td>ENSG00000000003.14</td>\n",
       "      <td>TSPAN6</td>\n",
       "      <td>29.705426</td>\n",
       "    </tr>\n",
       "    <tr>\n",
       "      <th>3</th>\n",
       "      <td>ENSG00000000003[1,1,7]</td>\n",
       "      <td>2096</td>\n",
       "      <td>951.0</td>\n",
       "      <td>ENSG00000000003.14</td>\n",
       "      <td>TSPAN6</td>\n",
       "      <td>45.372137</td>\n",
       "    </tr>\n",
       "    <tr>\n",
       "      <th>4</th>\n",
       "      <td>ENSG00000000003[1,1,8]</td>\n",
       "      <td>1282</td>\n",
       "      <td>827.0</td>\n",
       "      <td>ENSG00000000003.14</td>\n",
       "      <td>TSPAN6</td>\n",
       "      <td>64.508580</td>\n",
       "    </tr>\n",
       "  </tbody>\n",
       "</table>\n",
       "</div>"
      ],
      "text/plain": [
       "            transcript_id  t_len  Overlap             gene_id gene_name  \\\n",
       "0  ENSG00000000003[1,1,1]   3868   1033.0  ENSG00000000003.14    TSPAN6   \n",
       "1  ENSG00000000003[1,1,5]   2306    951.0  ENSG00000000003.14    TSPAN6   \n",
       "2  ENSG00000000003[1,1,6]   3225    958.0  ENSG00000000003.14    TSPAN6   \n",
       "3  ENSG00000000003[1,1,7]   2096    951.0  ENSG00000000003.14    TSPAN6   \n",
       "4  ENSG00000000003[1,1,8]   1282    827.0  ENSG00000000003.14    TSPAN6   \n",
       "\n",
       "   perc_cons  \n",
       "0  26.706308  \n",
       "1  41.240243  \n",
       "2  29.705426  \n",
       "3  45.372137  \n",
       "4  64.508580  "
      ]
     },
     "execution_count": 16,
     "metadata": {},
     "output_type": "execute_result"
    }
   ],
   "source": [
    "temp.head()"
   ]
  },
  {
   "cell_type": "code",
   "execution_count": 17,
   "id": "85bc16ed-329f-48fc-bdbc-cbcd919f7f46",
   "metadata": {},
   "outputs": [
    {
     "data": {
      "text/html": [
       "<div>\n",
       "<style scoped>\n",
       "    .dataframe tbody tr th:only-of-type {\n",
       "        vertical-align: middle;\n",
       "    }\n",
       "\n",
       "    .dataframe tbody tr th {\n",
       "        vertical-align: top;\n",
       "    }\n",
       "\n",
       "    .dataframe thead th {\n",
       "        text-align: right;\n",
       "    }\n",
       "</style>\n",
       "<table border=\"1\" class=\"dataframe\">\n",
       "  <thead>\n",
       "    <tr style=\"text-align: right;\">\n",
       "      <th></th>\n",
       "      <th>transcript_id</th>\n",
       "      <th>t_len</th>\n",
       "      <th>Overlap</th>\n",
       "      <th>gene_id</th>\n",
       "      <th>gene_name</th>\n",
       "      <th>perc_cons</th>\n",
       "    </tr>\n",
       "  </thead>\n",
       "  <tbody>\n",
       "    <tr>\n",
       "      <th>185276</th>\n",
       "      <td>ENSG00000182700[3,1,2]</td>\n",
       "      <td>356</td>\n",
       "      <td>356.0</td>\n",
       "      <td>ENSG00000182700.4</td>\n",
       "      <td>IGIP</td>\n",
       "      <td>100.0</td>\n",
       "    </tr>\n",
       "    <tr>\n",
       "      <th>244113</th>\n",
       "      <td>ENSG00000280800[2,2,2]</td>\n",
       "      <td>1643</td>\n",
       "      <td>1643.0</td>\n",
       "      <td>ENSG00000280800.1</td>\n",
       "      <td>ENSG00000280800</td>\n",
       "      <td>100.0</td>\n",
       "    </tr>\n",
       "    <tr>\n",
       "      <th>185026</th>\n",
       "      <td>ENSG00000182568[14,6,15]</td>\n",
       "      <td>366</td>\n",
       "      <td>366.0</td>\n",
       "      <td>ENSG00000182568.16</td>\n",
       "      <td>SATB1</td>\n",
       "      <td>100.0</td>\n",
       "    </tr>\n",
       "    <tr>\n",
       "      <th>220911</th>\n",
       "      <td>ENSG00000231940[2,1,1]</td>\n",
       "      <td>135</td>\n",
       "      <td>135.0</td>\n",
       "      <td>ENSG00000231940.1</td>\n",
       "      <td>RPS7P3</td>\n",
       "      <td>100.0</td>\n",
       "    </tr>\n",
       "    <tr>\n",
       "      <th>244032</th>\n",
       "      <td>ENSG00000280614[1,1,1]</td>\n",
       "      <td>1023</td>\n",
       "      <td>1023.0</td>\n",
       "      <td>ENSG00000280614.1</td>\n",
       "      <td>ENSG00000280614</td>\n",
       "      <td>100.0</td>\n",
       "    </tr>\n",
       "    <tr>\n",
       "      <th>...</th>\n",
       "      <td>...</td>\n",
       "      <td>...</td>\n",
       "      <td>...</td>\n",
       "      <td>...</td>\n",
       "      <td>...</td>\n",
       "      <td>...</td>\n",
       "    </tr>\n",
       "    <tr>\n",
       "      <th>245870</th>\n",
       "      <td>TALONG000277403[1,1,1]</td>\n",
       "      <td>699</td>\n",
       "      <td>NaN</td>\n",
       "      <td>NaN</td>\n",
       "      <td>NaN</td>\n",
       "      <td>NaN</td>\n",
       "    </tr>\n",
       "    <tr>\n",
       "      <th>245871</th>\n",
       "      <td>TALONG000277403[1,2,2]</td>\n",
       "      <td>2144</td>\n",
       "      <td>NaN</td>\n",
       "      <td>NaN</td>\n",
       "      <td>NaN</td>\n",
       "      <td>NaN</td>\n",
       "    </tr>\n",
       "    <tr>\n",
       "      <th>245874</th>\n",
       "      <td>TALONG000281814[1,1,1]</td>\n",
       "      <td>1418</td>\n",
       "      <td>NaN</td>\n",
       "      <td>NaN</td>\n",
       "      <td>NaN</td>\n",
       "      <td>NaN</td>\n",
       "    </tr>\n",
       "    <tr>\n",
       "      <th>245878</th>\n",
       "      <td>TALONG000285649[1,1,1]</td>\n",
       "      <td>1015</td>\n",
       "      <td>NaN</td>\n",
       "      <td>NaN</td>\n",
       "      <td>NaN</td>\n",
       "      <td>NaN</td>\n",
       "    </tr>\n",
       "    <tr>\n",
       "      <th>245881</th>\n",
       "      <td>TALONG000299720[1,3,2]</td>\n",
       "      <td>1497</td>\n",
       "      <td>NaN</td>\n",
       "      <td>NaN</td>\n",
       "      <td>NaN</td>\n",
       "      <td>NaN</td>\n",
       "    </tr>\n",
       "  </tbody>\n",
       "</table>\n",
       "<p>245889 rows × 6 columns</p>\n",
       "</div>"
      ],
      "text/plain": [
       "                   transcript_id  t_len  Overlap             gene_id  \\\n",
       "185276    ENSG00000182700[3,1,2]    356    356.0   ENSG00000182700.4   \n",
       "244113    ENSG00000280800[2,2,2]   1643   1643.0   ENSG00000280800.1   \n",
       "185026  ENSG00000182568[14,6,15]    366    366.0  ENSG00000182568.16   \n",
       "220911    ENSG00000231940[2,1,1]    135    135.0   ENSG00000231940.1   \n",
       "244032    ENSG00000280614[1,1,1]   1023   1023.0   ENSG00000280614.1   \n",
       "...                          ...    ...      ...                 ...   \n",
       "245870    TALONG000277403[1,1,1]    699      NaN                 NaN   \n",
       "245871    TALONG000277403[1,2,2]   2144      NaN                 NaN   \n",
       "245874    TALONG000281814[1,1,1]   1418      NaN                 NaN   \n",
       "245878    TALONG000285649[1,1,1]   1015      NaN                 NaN   \n",
       "245881    TALONG000299720[1,3,2]   1497      NaN                 NaN   \n",
       "\n",
       "              gene_name  perc_cons  \n",
       "185276             IGIP      100.0  \n",
       "244113  ENSG00000280800      100.0  \n",
       "185026            SATB1      100.0  \n",
       "220911           RPS7P3      100.0  \n",
       "244032  ENSG00000280614      100.0  \n",
       "...                 ...        ...  \n",
       "245870              NaN        NaN  \n",
       "245871              NaN        NaN  \n",
       "245874              NaN        NaN  \n",
       "245878              NaN        NaN  \n",
       "245881              NaN        NaN  \n",
       "\n",
       "[245889 rows x 6 columns]"
      ]
     },
     "execution_count": 17,
     "metadata": {},
     "output_type": "execute_result"
    }
   ],
   "source": [
    "temp.sort_values(by='perc_cons', ascending=False)"
   ]
  },
  {
   "cell_type": "code",
   "execution_count": 18,
   "id": "7adfa04f-5bba-4dcf-ad46-6e10814b92cf",
   "metadata": {},
   "outputs": [],
   "source": [
    "# get median % exonic conservation per gene across transcripts\n",
    "temp = temp[['gene_name',\n",
    "             'gene_id',\n",
    "             'perc_cons']].groupby(['gene_name',\n",
    "                                    'gene_id']).median().reset_index().rename({'perc_cons':'med_perc_cons'}, axis=1)"
   ]
  },
  {
   "cell_type": "code",
   "execution_count": 19,
   "id": "d9a4a9a8-e2b9-406b-a742-69b1698cc4eb",
   "metadata": {},
   "outputs": [
    {
     "data": {
      "text/html": [
       "<div>\n",
       "<style scoped>\n",
       "    .dataframe tbody tr th:only-of-type {\n",
       "        vertical-align: middle;\n",
       "    }\n",
       "\n",
       "    .dataframe tbody tr th {\n",
       "        vertical-align: top;\n",
       "    }\n",
       "\n",
       "    .dataframe thead th {\n",
       "        text-align: right;\n",
       "    }\n",
       "</style>\n",
       "<table border=\"1\" class=\"dataframe\">\n",
       "  <thead>\n",
       "    <tr style=\"text-align: right;\">\n",
       "      <th></th>\n",
       "      <th>gene_name</th>\n",
       "      <th>gene_id</th>\n",
       "      <th>med_perc_cons</th>\n",
       "    </tr>\n",
       "  </thead>\n",
       "  <tbody>\n",
       "    <tr>\n",
       "      <th>17380</th>\n",
       "      <td>MIR1306</td>\n",
       "      <td>ENSG00000284464.1</td>\n",
       "      <td>100.000000</td>\n",
       "    </tr>\n",
       "    <tr>\n",
       "      <th>22700</th>\n",
       "      <td>RNA5SP108</td>\n",
       "      <td>ENSG00000271924.1</td>\n",
       "      <td>100.000000</td>\n",
       "    </tr>\n",
       "    <tr>\n",
       "      <th>17745</th>\n",
       "      <td>MIR744</td>\n",
       "      <td>ENSG00000266297.1</td>\n",
       "      <td>100.000000</td>\n",
       "    </tr>\n",
       "    <tr>\n",
       "      <th>10279</th>\n",
       "      <td>ENSG00000278752</td>\n",
       "      <td>ENSG00000278752.1</td>\n",
       "      <td>100.000000</td>\n",
       "    </tr>\n",
       "    <tr>\n",
       "      <th>10825</th>\n",
       "      <td>ENSG00000280614</td>\n",
       "      <td>ENSG00000280614.1</td>\n",
       "      <td>100.000000</td>\n",
       "    </tr>\n",
       "    <tr>\n",
       "      <th>...</th>\n",
       "      <td>...</td>\n",
       "      <td>...</td>\n",
       "      <td>...</td>\n",
       "    </tr>\n",
       "    <tr>\n",
       "      <th>15723</th>\n",
       "      <td>LINC00205</td>\n",
       "      <td>ENSG00000223768.2</td>\n",
       "      <td>0.085741</td>\n",
       "    </tr>\n",
       "    <tr>\n",
       "      <th>13532</th>\n",
       "      <td>HEXA-AS1</td>\n",
       "      <td>ENSG00000260339.1</td>\n",
       "      <td>0.072046</td>\n",
       "    </tr>\n",
       "    <tr>\n",
       "      <th>6165</th>\n",
       "      <td>ENSG00000218672</td>\n",
       "      <td>ENSG00000218672.1</td>\n",
       "      <td>0.060569</td>\n",
       "    </tr>\n",
       "    <tr>\n",
       "      <th>10074</th>\n",
       "      <td>ENSG00000276791</td>\n",
       "      <td>ENSG00000276791.1</td>\n",
       "      <td>0.059701</td>\n",
       "    </tr>\n",
       "    <tr>\n",
       "      <th>10376</th>\n",
       "      <td>ENSG00000279114</td>\n",
       "      <td>ENSG00000279114.1</td>\n",
       "      <td>0.015314</td>\n",
       "    </tr>\n",
       "  </tbody>\n",
       "</table>\n",
       "<p>30222 rows × 3 columns</p>\n",
       "</div>"
      ],
      "text/plain": [
       "             gene_name            gene_id  med_perc_cons\n",
       "17380          MIR1306  ENSG00000284464.1     100.000000\n",
       "22700        RNA5SP108  ENSG00000271924.1     100.000000\n",
       "17745           MIR744  ENSG00000266297.1     100.000000\n",
       "10279  ENSG00000278752  ENSG00000278752.1     100.000000\n",
       "10825  ENSG00000280614  ENSG00000280614.1     100.000000\n",
       "...                ...                ...            ...\n",
       "15723        LINC00205  ENSG00000223768.2       0.085741\n",
       "13532         HEXA-AS1  ENSG00000260339.1       0.072046\n",
       "6165   ENSG00000218672  ENSG00000218672.1       0.060569\n",
       "10074  ENSG00000276791  ENSG00000276791.1       0.059701\n",
       "10376  ENSG00000279114  ENSG00000279114.1       0.015314\n",
       "\n",
       "[30222 rows x 3 columns]"
      ]
     },
     "execution_count": 19,
     "metadata": {},
     "output_type": "execute_result"
    }
   ],
   "source": [
    "temp.sort_values(by='med_perc_cons', ascending=False)\n"
   ]
  },
  {
   "cell_type": "code",
   "execution_count": 32,
   "id": "8869c442-95af-44c8-bfe8-b7511c2b4309",
   "metadata": {},
   "outputs": [],
   "source": [
    "hm_gids = get_human_mouse_gid_table(orth_table)\n",
    "\n",
    "# ca = cerberus.read(cerberus_h5)\n",
    "# m_ca = cerberus.read(m_cerberus_h5)\n",
    "\n",
    "# restrict sample triplets to mm ones\n",
    "ca = cerberus.read(cerberus_h5)\n",
    "samples = get_mouse_match_samples()\n",
    "inds = ca.triplets.loc[(ca.triplets.source == 'sample_det')&\\\n",
    "                       ~(ca.triplets['sample'].isin(samples))].index\n",
    "ca.triplets.drop(inds, axis=0, inplace=True)\n",
    "ca.triplets.loc[ca.triplets.source == 'sample_det', 'source'] = 'sample_mm_det'\n",
    "ca = get_centroids(ca, \n",
    "                   source='sample_mm_det',\n",
    "                   gene_subset=gene_subset,\n",
    "                   ver=ver)\n",
    "\n",
    "# add suffix to mouse sources\n",
    "m_ca = cerberus.read(m_cerberus_h5)\n",
    "m_ca.triplets.loc[m_ca.triplets.source == 'sample_det', 'source'] ='sample_det_mouse'\n",
    "m_ca = get_centroids(m_ca,\n",
    "                     source='sample_det_mouse',\n",
    "                     gene_subset=gene_subset,\n",
    "                     ver=mouse_ver)\n",
    "\n",
    "# merge in mouse gids that we need\n",
    "ca.triplets = ca.triplets.merge(hm_gids, how='inner', left_on='gid', right_on='Gene stable ID')\n",
    "\n",
    "# merge in mouse data\n",
    "m_ca.triplets = m_ca.triplets.merge(hm_gids, how='inner', left_on='gid', right_on='Mouse gene stable ID')\n",
    "\n",
    "df = compute_dists([ca, m_ca],\n",
    "                   ['sample_mm_det_centroid', \n",
    "                   'sample_det_mouse_centroid'],\n",
    "                   gene_subsets=[gene_subset, gene_subset],\n",
    "                   ver=[ver,  mouse_ver],\n",
    "                   gene_merge=['Gene stable ID'])"
   ]
  },
  {
   "cell_type": "code",
   "execution_count": 34,
   "id": "2dc8d153-fc37-4bdc-8408-c11bec016155",
   "metadata": {},
   "outputs": [
    {
     "data": {
      "text/plain": [
       "['sector_sample_mm_det_centroid', 'sector_sample_det_mouse_centroid']"
      ]
     },
     "execution_count": 34,
     "metadata": {},
     "output_type": "execute_result"
    }
   ],
   "source": [
    "[c for c in df.columns if 'sector' in c]"
   ]
  },
  {
   "cell_type": "code",
   "execution_count": 35,
   "id": "ea6cf368-9c89-4c37-9e9a-2e0fa61100e2",
   "metadata": {},
   "outputs": [
    {
     "data": {
      "text/html": [
       "<div>\n",
       "<style scoped>\n",
       "    .dataframe tbody tr th:only-of-type {\n",
       "        vertical-align: middle;\n",
       "    }\n",
       "\n",
       "    .dataframe tbody tr th {\n",
       "        vertical-align: top;\n",
       "    }\n",
       "\n",
       "    .dataframe thead th {\n",
       "        text-align: right;\n",
       "    }\n",
       "</style>\n",
       "<table border=\"1\" class=\"dataframe\">\n",
       "  <thead>\n",
       "    <tr style=\"text-align: right;\">\n",
       "      <th></th>\n",
       "      <th>gid</th>\n",
       "      <th>dist</th>\n",
       "      <th>z_score</th>\n",
       "      <th>sector_human</th>\n",
       "      <th>sector_mouse</th>\n",
       "    </tr>\n",
       "  </thead>\n",
       "  <tbody>\n",
       "    <tr>\n",
       "      <th>0</th>\n",
       "      <td>ENSG00000112699</td>\n",
       "      <td>0.026948</td>\n",
       "      <td>-1.166066</td>\n",
       "      <td>mixed</td>\n",
       "      <td>mixed</td>\n",
       "    </tr>\n",
       "    <tr>\n",
       "      <th>1</th>\n",
       "      <td>ENSG00000112936</td>\n",
       "      <td>0.044918</td>\n",
       "      <td>-0.914363</td>\n",
       "      <td>mixed</td>\n",
       "      <td>simple</td>\n",
       "    </tr>\n",
       "    <tr>\n",
       "      <th>2</th>\n",
       "      <td>ENSG00000147650</td>\n",
       "      <td>0.123386</td>\n",
       "      <td>0.184709</td>\n",
       "      <td>mixed</td>\n",
       "      <td>mixed</td>\n",
       "    </tr>\n",
       "    <tr>\n",
       "      <th>3</th>\n",
       "      <td>ENSG00000157593</td>\n",
       "      <td>0.155535</td>\n",
       "      <td>0.635010</td>\n",
       "      <td>splicing</td>\n",
       "      <td>splicing</td>\n",
       "    </tr>\n",
       "    <tr>\n",
       "      <th>4</th>\n",
       "      <td>ENSG00000157600</td>\n",
       "      <td>0.082907</td>\n",
       "      <td>-0.382270</td>\n",
       "      <td>mixed</td>\n",
       "      <td>mixed</td>\n",
       "    </tr>\n",
       "  </tbody>\n",
       "</table>\n",
       "</div>"
      ],
      "text/plain": [
       "               gid      dist   z_score sector_human sector_mouse\n",
       "0  ENSG00000112699  0.026948 -1.166066        mixed        mixed\n",
       "1  ENSG00000112936  0.044918 -0.914363        mixed       simple\n",
       "2  ENSG00000147650  0.123386  0.184709        mixed        mixed\n",
       "3  ENSG00000157593  0.155535  0.635010     splicing     splicing\n",
       "4  ENSG00000157600  0.082907 -0.382270        mixed        mixed"
      ]
     },
     "execution_count": 35,
     "metadata": {},
     "output_type": "execute_result"
    }
   ],
   "source": [
    "# merge the conservation scores in with the distance df\n",
    "temp['gid'] = cerberus.get_stable_gid(temp, 'gene_id')\n",
    "df2 = df[['gid_sample_mm_det_centroid', 'dist', 'z_score']+\\\n",
    "         [c for c in df.columns if 'sector' in c]].copy(deep=True)\n",
    "df2.rename({'gid_sample_mm_det_centroid':'gid',\n",
    "            'sector_sample_mm_det_centroid': 'sector_human',\n",
    "            'sector_sample_det_mouse_centroid': 'sector_mouse'}, axis=1, inplace=True)\n",
    "df2.head()\n"
   ]
  },
  {
   "cell_type": "code",
   "execution_count": 36,
   "id": "fc716120-a29e-415f-8f2b-d024566cb070",
   "metadata": {},
   "outputs": [
    {
     "data": {
      "text/html": [
       "<div>\n",
       "<style scoped>\n",
       "    .dataframe tbody tr th:only-of-type {\n",
       "        vertical-align: middle;\n",
       "    }\n",
       "\n",
       "    .dataframe tbody tr th {\n",
       "        vertical-align: top;\n",
       "    }\n",
       "\n",
       "    .dataframe thead th {\n",
       "        text-align: right;\n",
       "    }\n",
       "</style>\n",
       "<table border=\"1\" class=\"dataframe\">\n",
       "  <thead>\n",
       "    <tr style=\"text-align: right;\">\n",
       "      <th></th>\n",
       "      <th>gene_name</th>\n",
       "      <th>gene_id</th>\n",
       "      <th>med_perc_cons</th>\n",
       "      <th>gid</th>\n",
       "    </tr>\n",
       "  </thead>\n",
       "  <tbody>\n",
       "    <tr>\n",
       "      <th>0</th>\n",
       "      <td>5_8S_rRNA</td>\n",
       "      <td>ENSG00000277739.1</td>\n",
       "      <td>69.565217</td>\n",
       "      <td>ENSG00000277739</td>\n",
       "    </tr>\n",
       "    <tr>\n",
       "      <th>1</th>\n",
       "      <td>7SK</td>\n",
       "      <td>ENSG00000202198.1</td>\n",
       "      <td>79.118329</td>\n",
       "      <td>ENSG00000202198</td>\n",
       "    </tr>\n",
       "    <tr>\n",
       "      <th>2</th>\n",
       "      <td>7SK</td>\n",
       "      <td>ENSG00000271394.1</td>\n",
       "      <td>10.662824</td>\n",
       "      <td>ENSG00000271394</td>\n",
       "    </tr>\n",
       "    <tr>\n",
       "      <th>3</th>\n",
       "      <td>7SK</td>\n",
       "      <td>ENSG00000276626.1</td>\n",
       "      <td>0.872093</td>\n",
       "      <td>ENSG00000276626</td>\n",
       "    </tr>\n",
       "    <tr>\n",
       "      <th>4</th>\n",
       "      <td>A1BG</td>\n",
       "      <td>ENSG00000121410.11</td>\n",
       "      <td>4.353443</td>\n",
       "      <td>ENSG00000121410</td>\n",
       "    </tr>\n",
       "  </tbody>\n",
       "</table>\n",
       "</div>"
      ],
      "text/plain": [
       "   gene_name             gene_id  med_perc_cons              gid\n",
       "0  5_8S_rRNA   ENSG00000277739.1      69.565217  ENSG00000277739\n",
       "1        7SK   ENSG00000202198.1      79.118329  ENSG00000202198\n",
       "2        7SK   ENSG00000271394.1      10.662824  ENSG00000271394\n",
       "3        7SK   ENSG00000276626.1       0.872093  ENSG00000276626\n",
       "4       A1BG  ENSG00000121410.11       4.353443  ENSG00000121410"
      ]
     },
     "execution_count": 36,
     "metadata": {},
     "output_type": "execute_result"
    }
   ],
   "source": [
    "temp.head()"
   ]
  },
  {
   "cell_type": "code",
   "execution_count": 37,
   "id": "591beeec-f616-43b3-ba14-5d9bd8a1b541",
   "metadata": {},
   "outputs": [
    {
     "data": {
      "text/html": [
       "<div>\n",
       "<style scoped>\n",
       "    .dataframe tbody tr th:only-of-type {\n",
       "        vertical-align: middle;\n",
       "    }\n",
       "\n",
       "    .dataframe tbody tr th {\n",
       "        vertical-align: top;\n",
       "    }\n",
       "\n",
       "    .dataframe thead th {\n",
       "        text-align: right;\n",
       "    }\n",
       "</style>\n",
       "<table border=\"1\" class=\"dataframe\">\n",
       "  <thead>\n",
       "    <tr style=\"text-align: right;\">\n",
       "      <th></th>\n",
       "      <th>gid</th>\n",
       "      <th>dist</th>\n",
       "      <th>z_score</th>\n",
       "      <th>sector_human</th>\n",
       "      <th>sector_mouse</th>\n",
       "    </tr>\n",
       "  </thead>\n",
       "  <tbody>\n",
       "    <tr>\n",
       "      <th>0</th>\n",
       "      <td>ENSG00000112699</td>\n",
       "      <td>0.026948</td>\n",
       "      <td>-1.166066</td>\n",
       "      <td>mixed</td>\n",
       "      <td>mixed</td>\n",
       "    </tr>\n",
       "    <tr>\n",
       "      <th>1</th>\n",
       "      <td>ENSG00000112936</td>\n",
       "      <td>0.044918</td>\n",
       "      <td>-0.914363</td>\n",
       "      <td>mixed</td>\n",
       "      <td>simple</td>\n",
       "    </tr>\n",
       "    <tr>\n",
       "      <th>2</th>\n",
       "      <td>ENSG00000147650</td>\n",
       "      <td>0.123386</td>\n",
       "      <td>0.184709</td>\n",
       "      <td>mixed</td>\n",
       "      <td>mixed</td>\n",
       "    </tr>\n",
       "    <tr>\n",
       "      <th>3</th>\n",
       "      <td>ENSG00000157593</td>\n",
       "      <td>0.155535</td>\n",
       "      <td>0.635010</td>\n",
       "      <td>splicing</td>\n",
       "      <td>splicing</td>\n",
       "    </tr>\n",
       "    <tr>\n",
       "      <th>4</th>\n",
       "      <td>ENSG00000157600</td>\n",
       "      <td>0.082907</td>\n",
       "      <td>-0.382270</td>\n",
       "      <td>mixed</td>\n",
       "      <td>mixed</td>\n",
       "    </tr>\n",
       "  </tbody>\n",
       "</table>\n",
       "</div>"
      ],
      "text/plain": [
       "               gid      dist   z_score sector_human sector_mouse\n",
       "0  ENSG00000112699  0.026948 -1.166066        mixed        mixed\n",
       "1  ENSG00000112936  0.044918 -0.914363        mixed       simple\n",
       "2  ENSG00000147650  0.123386  0.184709        mixed        mixed\n",
       "3  ENSG00000157593  0.155535  0.635010     splicing     splicing\n",
       "4  ENSG00000157600  0.082907 -0.382270        mixed        mixed"
      ]
     },
     "execution_count": 37,
     "metadata": {},
     "output_type": "execute_result"
    }
   ],
   "source": [
    "df2.head()"
   ]
  },
  {
   "cell_type": "code",
   "execution_count": 38,
   "id": "bc0c1b36-83e6-4a2c-9b8e-6f6e8fab5338",
   "metadata": {},
   "outputs": [],
   "source": [
    "df2 = df2.merge(temp, how='left', on='gid')"
   ]
  },
  {
   "cell_type": "code",
   "execution_count": 39,
   "id": "56bef65c-75ea-45e3-8fec-c8787e96d949",
   "metadata": {},
   "outputs": [
    {
     "data": {
      "text/html": [
       "<div>\n",
       "<style scoped>\n",
       "    .dataframe tbody tr th:only-of-type {\n",
       "        vertical-align: middle;\n",
       "    }\n",
       "\n",
       "    .dataframe tbody tr th {\n",
       "        vertical-align: top;\n",
       "    }\n",
       "\n",
       "    .dataframe thead th {\n",
       "        text-align: right;\n",
       "    }\n",
       "</style>\n",
       "<table border=\"1\" class=\"dataframe\">\n",
       "  <thead>\n",
       "    <tr style=\"text-align: right;\">\n",
       "      <th></th>\n",
       "      <th>gid</th>\n",
       "      <th>dist</th>\n",
       "      <th>z_score</th>\n",
       "      <th>sector_human</th>\n",
       "      <th>sector_mouse</th>\n",
       "      <th>gene_name</th>\n",
       "      <th>gene_id</th>\n",
       "      <th>med_perc_cons</th>\n",
       "    </tr>\n",
       "  </thead>\n",
       "  <tbody>\n",
       "    <tr>\n",
       "      <th>0</th>\n",
       "      <td>ENSG00000112699</td>\n",
       "      <td>0.026948</td>\n",
       "      <td>-1.166066</td>\n",
       "      <td>mixed</td>\n",
       "      <td>mixed</td>\n",
       "      <td>GMDS</td>\n",
       "      <td>ENSG00000112699.10</td>\n",
       "      <td>42.312218</td>\n",
       "    </tr>\n",
       "    <tr>\n",
       "      <th>1</th>\n",
       "      <td>ENSG00000112936</td>\n",
       "      <td>0.044918</td>\n",
       "      <td>-0.914363</td>\n",
       "      <td>mixed</td>\n",
       "      <td>simple</td>\n",
       "      <td>C7</td>\n",
       "      <td>ENSG00000112936.18</td>\n",
       "      <td>43.197279</td>\n",
       "    </tr>\n",
       "    <tr>\n",
       "      <th>2</th>\n",
       "      <td>ENSG00000147650</td>\n",
       "      <td>0.123386</td>\n",
       "      <td>0.184709</td>\n",
       "      <td>mixed</td>\n",
       "      <td>mixed</td>\n",
       "      <td>LRP12</td>\n",
       "      <td>ENSG00000147650.11</td>\n",
       "      <td>85.569772</td>\n",
       "    </tr>\n",
       "    <tr>\n",
       "      <th>3</th>\n",
       "      <td>ENSG00000157593</td>\n",
       "      <td>0.155535</td>\n",
       "      <td>0.635010</td>\n",
       "      <td>splicing</td>\n",
       "      <td>splicing</td>\n",
       "      <td>SLC35B2</td>\n",
       "      <td>ENSG00000157593.18</td>\n",
       "      <td>56.379260</td>\n",
       "    </tr>\n",
       "    <tr>\n",
       "      <th>4</th>\n",
       "      <td>ENSG00000157600</td>\n",
       "      <td>0.082907</td>\n",
       "      <td>-0.382270</td>\n",
       "      <td>mixed</td>\n",
       "      <td>mixed</td>\n",
       "      <td>TMEM164</td>\n",
       "      <td>ENSG00000157600.11</td>\n",
       "      <td>37.698012</td>\n",
       "    </tr>\n",
       "  </tbody>\n",
       "</table>\n",
       "</div>"
      ],
      "text/plain": [
       "               gid      dist   z_score sector_human sector_mouse gene_name  \\\n",
       "0  ENSG00000112699  0.026948 -1.166066        mixed        mixed      GMDS   \n",
       "1  ENSG00000112936  0.044918 -0.914363        mixed       simple        C7   \n",
       "2  ENSG00000147650  0.123386  0.184709        mixed        mixed     LRP12   \n",
       "3  ENSG00000157593  0.155535  0.635010     splicing     splicing   SLC35B2   \n",
       "4  ENSG00000157600  0.082907 -0.382270        mixed        mixed   TMEM164   \n",
       "\n",
       "              gene_id  med_perc_cons  \n",
       "0  ENSG00000112699.10      42.312218  \n",
       "1  ENSG00000112936.18      43.197279  \n",
       "2  ENSG00000147650.11      85.569772  \n",
       "3  ENSG00000157593.18      56.379260  \n",
       "4  ENSG00000157600.11      37.698012  "
      ]
     },
     "execution_count": 39,
     "metadata": {},
     "output_type": "execute_result"
    }
   ],
   "source": [
    "df2.head()"
   ]
  },
  {
   "cell_type": "code",
   "execution_count": 40,
   "id": "dc125542-fbeb-4fbe-834d-a476455f88f7",
   "metadata": {},
   "outputs": [
    {
     "data": {
      "text/plain": [
       "<seaborn.axisgrid.JointGrid at 0x7ff1f4662710>"
      ]
     },
     "execution_count": 40,
     "metadata": {},
     "output_type": "execute_result"
    },
    {
     "data": {
      "image/png": "[encoded data removed]",
      "text/plain": [
       "<Figure size 432x432 with 3 Axes>"
      ]
     },
     "metadata": {
      "needs_background": "light"
     },
     "output_type": "display_data"
    }
   ],
   "source": [
    "sns.jointplot(df2, x='dist', y='med_perc_cons', s=3)"
   ]
  },
  {
   "cell_type": "code",
   "execution_count": 41,
   "id": "eddec290-9fbb-4a62-8d4c-effa4b7d8c81",
   "metadata": {},
   "outputs": [
    {
     "name": "stdout",
     "output_type": "stream",
     "text": [
      "Rho=0.01\n",
      "R=0.00\n"
     ]
    }
   ],
   "source": [
    "rho, p = st.spearmanr(df2['dist'].tolist(), df2['med_perc_cons'].tolist())\n",
    "r, p2 = st.pearsonr(df2['dist'].tolist(), df2['med_perc_cons'].tolist())\n",
    "print('Rho={:.2f}\\nR={:.2f}'.format(rho,r))"
   ]
  },
  {
   "cell_type": "code",
   "execution_count": 42,
   "id": "9e3601ef-afd1-4d1e-82ad-8e786e336ae3",
   "metadata": {},
   "outputs": [
    {
     "data": {
      "text/html": [
       "<div>\n",
       "<style scoped>\n",
       "    .dataframe tbody tr th:only-of-type {\n",
       "        vertical-align: middle;\n",
       "    }\n",
       "\n",
       "    .dataframe tbody tr th {\n",
       "        vertical-align: top;\n",
       "    }\n",
       "\n",
       "    .dataframe thead th {\n",
       "        text-align: right;\n",
       "    }\n",
       "</style>\n",
       "<table border=\"1\" class=\"dataframe\">\n",
       "  <thead>\n",
       "    <tr style=\"text-align: right;\">\n",
       "      <th></th>\n",
       "      <th>gid</th>\n",
       "      <th>dist</th>\n",
       "      <th>z_score</th>\n",
       "      <th>sector_human</th>\n",
       "      <th>sector_mouse</th>\n",
       "      <th>gene_name</th>\n",
       "      <th>gene_id</th>\n",
       "      <th>med_perc_cons</th>\n",
       "    </tr>\n",
       "  </thead>\n",
       "  <tbody>\n",
       "    <tr>\n",
       "      <th>0</th>\n",
       "      <td>ENSG00000112699</td>\n",
       "      <td>0.026948</td>\n",
       "      <td>-1.166066</td>\n",
       "      <td>mixed</td>\n",
       "      <td>mixed</td>\n",
       "      <td>GMDS</td>\n",
       "      <td>ENSG00000112699.10</td>\n",
       "      <td>42.312218</td>\n",
       "    </tr>\n",
       "    <tr>\n",
       "      <th>1</th>\n",
       "      <td>ENSG00000112936</td>\n",
       "      <td>0.044918</td>\n",
       "      <td>-0.914363</td>\n",
       "      <td>mixed</td>\n",
       "      <td>simple</td>\n",
       "      <td>C7</td>\n",
       "      <td>ENSG00000112936.18</td>\n",
       "      <td>43.197279</td>\n",
       "    </tr>\n",
       "    <tr>\n",
       "      <th>2</th>\n",
       "      <td>ENSG00000147650</td>\n",
       "      <td>0.123386</td>\n",
       "      <td>0.184709</td>\n",
       "      <td>mixed</td>\n",
       "      <td>mixed</td>\n",
       "      <td>LRP12</td>\n",
       "      <td>ENSG00000147650.11</td>\n",
       "      <td>85.569772</td>\n",
       "    </tr>\n",
       "    <tr>\n",
       "      <th>3</th>\n",
       "      <td>ENSG00000157593</td>\n",
       "      <td>0.155535</td>\n",
       "      <td>0.635010</td>\n",
       "      <td>splicing</td>\n",
       "      <td>splicing</td>\n",
       "      <td>SLC35B2</td>\n",
       "      <td>ENSG00000157593.18</td>\n",
       "      <td>56.379260</td>\n",
       "    </tr>\n",
       "    <tr>\n",
       "      <th>4</th>\n",
       "      <td>ENSG00000157600</td>\n",
       "      <td>0.082907</td>\n",
       "      <td>-0.382270</td>\n",
       "      <td>mixed</td>\n",
       "      <td>mixed</td>\n",
       "      <td>TMEM164</td>\n",
       "      <td>ENSG00000157600.11</td>\n",
       "      <td>37.698012</td>\n",
       "    </tr>\n",
       "  </tbody>\n",
       "</table>\n",
       "</div>"
      ],
      "text/plain": [
       "               gid      dist   z_score sector_human sector_mouse gene_name  \\\n",
       "0  ENSG00000112699  0.026948 -1.166066        mixed        mixed      GMDS   \n",
       "1  ENSG00000112936  0.044918 -0.914363        mixed       simple        C7   \n",
       "2  ENSG00000147650  0.123386  0.184709        mixed        mixed     LRP12   \n",
       "3  ENSG00000157593  0.155535  0.635010     splicing     splicing   SLC35B2   \n",
       "4  ENSG00000157600  0.082907 -0.382270        mixed        mixed   TMEM164   \n",
       "\n",
       "              gene_id  med_perc_cons  \n",
       "0  ENSG00000112699.10      42.312218  \n",
       "1  ENSG00000112936.18      43.197279  \n",
       "2  ENSG00000147650.11      85.569772  \n",
       "3  ENSG00000157593.18      56.379260  \n",
       "4  ENSG00000157600.11      37.698012  "
      ]
     },
     "execution_count": 42,
     "metadata": {},
     "output_type": "execute_result"
    }
   ],
   "source": [
    "df2.head()"
   ]
  },
  {
   "cell_type": "code",
   "execution_count": 29,
   "id": "f9cd34b9-61f8-46b8-b27e-196007563f92",
   "metadata": {},
   "outputs": [],
   "source": [
    "df2.to_csv('median_perc_cons_human_mouse_dist.tsv', sep='\\t', index=False)"
   ]
  },
  {
   "cell_type": "code",
   "execution_count": 55,
   "id": "76667f5e-4eab-4f90-8e04-9a916d5d1510",
   "metadata": {},
   "outputs": [
    {
     "name": "stdout",
     "output_type": "stream",
     "text": [
      "T-test for cons vs non cons mixed sector genes based on median % sequence conserved: 4.962689902856966, p=7.091361649696876e-07\n",
      "T-test for cons vs non cons splicing sector genes based on median % sequence conserved: 2.936328186435895, p=0.0033789105065158503\n",
      "T-test for cons vs non cons simple sector genes based on median % sequence conserved: -3.702345755697338, p=0.00022271290324443082\n",
      "T-test for cons vs non cons tes sector genes based on median % sequence conserved: 5.520870472114569, p=3.8179397129510555e-08\n",
      "T-test for cons vs non cons tss sector genes based on median % sequence conserved: 2.6072793469752122, p=0.009358122649235101\n"
     ]
    },
    {
     "data": {
      "image/png": "[encoded data removed]",
      "text/plain": [
       "<Figure size 432x288 with 1 Axes>"
      ]
     },
     "metadata": {
      "needs_background": "light"
     },
     "output_type": "display_data"
    }
   ],
   "source": [
    "# for each sector, compare the median % conservation of the gene for sector\n",
    "# conserved and sector non-conserved\n",
    "c_dict, order = get_sector_colors()\n",
    "df2['sector_conserved'] = df2.sector_human==df2.sector_mouse\n",
    "ax = sns.boxplot(df2, x='sector_human', hue='sector_conserved', y='med_perc_cons',\n",
    "                 hue_order=[True, False], order=order)\n",
    "for s in df2.sector_human.unique().tolist():\n",
    "    temp = df2.loc[df2.sector_human == s].copy(deep=True)\n",
    "    a = temp.loc[temp.sector_conserved==True, 'med_perc_cons'].tolist()\n",
    "    b = temp.loc[temp.sector_conserved==False, 'med_perc_cons'].tolist()\n",
    "    \n",
    "    result, p = scipy.stats.ttest_ind(a, b)\n",
    "    print(f'T-test for cons vs non cons {s} sector genes based on median % sequence conserved: {result}, p={p}')\n",
    "    "
   ]
  },
  {
   "cell_type": "code",
   "execution_count": 51,
   "id": "b87bc845-b635-4d94-b4ab-2c3bd0ff00cd",
   "metadata": {},
   "outputs": [
    {
     "data": {
      "text/plain": [
       "<AxesSubplot:xlabel='med_perc_cons', ylabel='Density'>"
      ]
     },
     "execution_count": 51,
     "metadata": {},
     "output_type": "execute_result"
    },
    {
     "data": {
      "image/png": "[encoded data removed]",
      "text/plain": [
       "<Figure size 432x288 with 1 Axes>"
      ]
     },
     "metadata": {
      "needs_background": "light"
     },
     "output_type": "display_data"
    }
   ],
   "source": [
    "sns.kdeplot(df2, x='med_perc_cons', hue='sector_conserved', common_norm=False)"
   ]
  },
  {
   "cell_type": "markdown",
   "id": "8bca0a68-3fc0-4060-b9d0-2921e1d17299",
   "metadata": {},
   "source": [
    "## How correlated is the total number of unique exons for genes that are conserved vs. not conserved?"
   ]
  },
  {
   "cell_type": "code",
   "execution_count": 11,
   "id": "733baa5e-b578-49f5-981e-937622d15471",
   "metadata": {},
   "outputs": [
    {
     "name": "stdout",
     "output_type": "stream",
     "text": [
      "13494\n"
     ]
    }
   ],
   "source": [
    "# major isoform triplets mouse match \n",
    "h_source = 'obs_mm_major'\n",
    "m_source = 'obs_major'\n",
    "gene_subset = ['protein_coding']\n",
    "h_ver='v40_cerberus'\n",
    "m_ver='vM25_cerberus'\n",
    "\n",
    "# read in triplets and limit to source\n",
    "ca = cerberus.read(cerberus_h5)\n",
    "h_df = ca.triplets.loc[ca.triplets.source == h_source]\n",
    "\n",
    "ca = cerberus.read(m_cerberus_h5)\n",
    "m_df = ca.triplets.loc[ca.triplets.source == m_source]\n",
    "\n",
    "def subset_on_dict(df, subset):\n",
    "    for col, val in subset.items():\n",
    "            if type(val) != list:\n",
    "                val = [val]\n",
    "            df = df.loc[df[col].isin(val)]\n",
    "    return df\n",
    "\n",
    "# # limit to samples if given\n",
    "# if h_subset:\n",
    "#     h_df = subset_on_dict(h_df, h_subset)\n",
    "# if m_subset:\n",
    "#     m_df = subset_on_dict(m_df, m_subset)\n",
    "\n",
    "# get sectors for each gene\n",
    "h_df = assign_gisx_sector(h_df)\n",
    "m_df = assign_gisx_sector(m_df)\n",
    "\n",
    "# merge in gene info and subset\n",
    "if gene_subset:\n",
    "    gene_df, _, _ = get_gtf_info(how='gene', ver=h_ver)\n",
    "    gene_df['gid'] = cerberus.get_stable_gid(gene_df, 'gid')\n",
    "    h_df = h_df.merge(gene_df[['gid', 'biotype_category']],\n",
    "                      how='left', on='gid')\n",
    "    gene_df, _, _ = get_gtf_info(how='gene', ver=m_ver)\n",
    "    gene_df['gid'] = cerberus.get_stable_gid(gene_df, 'gid')\n",
    "    m_df = m_df.merge(gene_df[['gid', 'biotype_category']],\n",
    "                      how='left', on='gid')\n",
    "    h_df = h_df.loc[h_df.biotype_category.isin(gene_subset)]\n",
    "    m_df = m_df.loc[m_df.biotype_category.isin(gene_subset)]\n",
    "\n",
    "# get matching gids from human and mouse\n",
    "# d = os.path.dirname(__file__)\n",
    "# fname = '../ref/biomart_human_to_mouse.tsv'\n",
    "df = get_human_mouse_gid_table(orth_table)\n",
    "\n",
    "df = df.merge(h_df, how='right', left_on='Gene stable ID',\n",
    "              right_on='gid')\n",
    "\n",
    "df = df.merge(m_df, how='right', left_on='Mouse gene stable ID',\n",
    "              right_on='gid', suffixes=('_human', '_mouse'))\n",
    "\n",
    "# get only genes that are both expressed\n",
    "df = df.loc[~(df.sector_human.isnull())&~(df.sector_mouse.isnull())]\n",
    "\n",
    "\n",
    "# get all ortholog calls\n",
    "all_gids = df['Gene stable ID'].tolist()\n",
    "print(len(all_gids))"
   ]
  },
  {
   "cell_type": "code",
   "execution_count": 10,
   "id": "19782511-58df-497f-b2fa-a1ae7aab1811",
   "metadata": {},
   "outputs": [
    {
     "data": {
      "text/plain": [
       "['sector_sample_mm_det_centroid', 'sector_sample_det_mouse_centroid']"
      ]
     },
     "execution_count": 10,
     "metadata": {},
     "output_type": "execute_result"
    }
   ],
   "source": [
    "[c for c in df.columns if 'sector' in c]"
   ]
  },
  {
   "cell_type": "code",
   "execution_count": 12,
   "id": "3a296e30-3c0c-495b-b3e0-b07238648891",
   "metadata": {},
   "outputs": [],
   "source": [
    "df['same_sector'] = df.sector_human==df.sector_mouse"
   ]
  },
  {
   "cell_type": "code",
   "execution_count": 19,
   "id": "da1dd796-fea5-48d8-a639-8ec50e23582e",
   "metadata": {},
   "outputs": [
    {
     "data": {
      "text/plain": [
       "0    ENSMUSG00000000001\n",
       "1    ENSMUSG00000000028\n",
       "2    ENSMUSG00000000037\n",
       "4    ENSMUSG00000000056\n",
       "5    ENSMUSG00000000058\n",
       "Name: gid_mouse, dtype: object"
      ]
     },
     "execution_count": 19,
     "metadata": {},
     "output_type": "execute_result"
    }
   ],
   "source": [
    "df.gid_mouse.head()"
   ]
  },
  {
   "cell_type": "code",
   "execution_count": 20,
   "id": "3fdc44cf-a3ca-49e7-a90f-5ffb3ad18ec2",
   "metadata": {},
   "outputs": [
    {
     "data": {
      "text/html": [
       "<div>\n",
       "<style scoped>\n",
       "    .dataframe tbody tr th:only-of-type {\n",
       "        vertical-align: middle;\n",
       "    }\n",
       "\n",
       "    .dataframe tbody tr th {\n",
       "        vertical-align: top;\n",
       "    }\n",
       "\n",
       "    .dataframe thead th {\n",
       "        text-align: right;\n",
       "    }\n",
       "</style>\n",
       "<table border=\"1\" class=\"dataframe\">\n",
       "  <thead>\n",
       "    <tr style=\"text-align: right;\">\n",
       "      <th></th>\n",
       "      <th>Chromosome</th>\n",
       "      <th>Strand</th>\n",
       "      <th>Coordinates</th>\n",
       "      <th>Name</th>\n",
       "      <th>source</th>\n",
       "      <th>novelty</th>\n",
       "      <th>gene_id</th>\n",
       "      <th>ic</th>\n",
       "    </tr>\n",
       "  </thead>\n",
       "  <tbody>\n",
       "    <tr>\n",
       "      <th>0</th>\n",
       "      <td>chr1</td>\n",
       "      <td>+</td>\n",
       "      <td>-</td>\n",
       "      <td>ENSG00000004487_18</td>\n",
       "      <td>v40,v29,lapa</td>\n",
       "      <td>Known</td>\n",
       "      <td>ENSG00000004487</td>\n",
       "      <td>18</td>\n",
       "    </tr>\n",
       "    <tr>\n",
       "      <th>1</th>\n",
       "      <td>chr1</td>\n",
       "      <td>+</td>\n",
       "      <td>-</td>\n",
       "      <td>ENSG00000033122_5</td>\n",
       "      <td>v40,v29,lapa</td>\n",
       "      <td>Known</td>\n",
       "      <td>ENSG00000033122</td>\n",
       "      <td>5</td>\n",
       "    </tr>\n",
       "    <tr>\n",
       "      <th>2</th>\n",
       "      <td>chr1</td>\n",
       "      <td>+</td>\n",
       "      <td>-</td>\n",
       "      <td>ENSG00000049246_6</td>\n",
       "      <td>v40,v29,lapa</td>\n",
       "      <td>Known</td>\n",
       "      <td>ENSG00000049246</td>\n",
       "      <td>6</td>\n",
       "    </tr>\n",
       "    <tr>\n",
       "      <th>3</th>\n",
       "      <td>chr1</td>\n",
       "      <td>+</td>\n",
       "      <td>-</td>\n",
       "      <td>ENSG00000077157_8</td>\n",
       "      <td>v40,v29,lapa</td>\n",
       "      <td>Known</td>\n",
       "      <td>ENSG00000077157</td>\n",
       "      <td>8</td>\n",
       "    </tr>\n",
       "    <tr>\n",
       "      <th>4</th>\n",
       "      <td>chr1</td>\n",
       "      <td>+</td>\n",
       "      <td>-</td>\n",
       "      <td>ENSG00000099260_3</td>\n",
       "      <td>v40,v29,lapa</td>\n",
       "      <td>Known</td>\n",
       "      <td>ENSG00000099260</td>\n",
       "      <td>3</td>\n",
       "    </tr>\n",
       "  </tbody>\n",
       "</table>\n",
       "</div>"
      ],
      "text/plain": [
       "  Chromosome Strand Coordinates                Name        source novelty  \\\n",
       "0       chr1      +           -  ENSG00000004487_18  v40,v29,lapa   Known   \n",
       "1       chr1      +           -   ENSG00000033122_5  v40,v29,lapa   Known   \n",
       "2       chr1      +           -   ENSG00000049246_6  v40,v29,lapa   Known   \n",
       "3       chr1      +           -   ENSG00000077157_8  v40,v29,lapa   Known   \n",
       "4       chr1      +           -   ENSG00000099260_3  v40,v29,lapa   Known   \n",
       "\n",
       "           gene_id  ic  \n",
       "0  ENSG00000004487  18  \n",
       "1  ENSG00000033122   5  \n",
       "2  ENSG00000049246   6  \n",
       "3  ENSG00000077157   8  \n",
       "4  ENSG00000099260   3  "
      ]
     },
     "execution_count": 20,
     "metadata": {},
     "output_type": "execute_result"
    }
   ],
   "source": [
    "ca = cerberus.read(cerberus_h5)\n",
    "ic_h = ca.ic.loc[ca.ic.gene_id.isin(df.gid_human.tolist())]\n",
    "# ic_h.head()"
   ]
  },
  {
   "cell_type": "code",
   "execution_count": 22,
   "id": "44354283-366d-430b-b99b-12c82e9e70b6",
   "metadata": {},
   "outputs": [
    {
     "ename": "NameError",
     "evalue": "name 'get_exon_from_ic' is not defined",
     "output_type": "error",
     "traceback": [
      "\u001b[0;31m---------------------------------------------------------------------------\u001b[0m",
      "\u001b[0;31mNameError\u001b[0m                                 Traceback (most recent call last)",
      "\u001b[0;32m<ipython-input-22-5e725ceaaa05>\u001b[0m in \u001b[0;36m<module>\u001b[0;34m\u001b[0m\n\u001b[0;32m----> 1\u001b[0;31m \u001b[0mh_df\u001b[0m\u001b[0;34m,\u001b[0m \u001b[0mh_df2\u001b[0m \u001b[0;34m=\u001b[0m \u001b[0mget_exon_from_ic\u001b[0m\u001b[0;34m(\u001b[0m\u001b[0mic_h\u001b[0m\u001b[0;34m,\u001b[0m \u001b[0mref_sources\u001b[0m\u001b[0;34m=\u001b[0m\u001b[0;34m[\u001b[0m\u001b[0;34m'v40'\u001b[0m\u001b[0;34m,\u001b[0m \u001b[0;34m'v29'\u001b[0m\u001b[0;34m]\u001b[0m\u001b[0;34m)\u001b[0m\u001b[0;34m\u001b[0m\u001b[0;34m\u001b[0m\u001b[0m\n\u001b[0m",
      "\u001b[0;31mNameError\u001b[0m: name 'get_exon_from_ic' is not defined"
     ]
    }
   ],
   "source": [
    "h_df, h_df2 = get_exon_from_ic(ic_h, ref_sources=['v40', 'v29'])"
   ]
  },
  {
   "cell_type": "code",
   "execution_count": 21,
   "id": "94d3f40a-b244-44c4-b945-f3cd9d80155c",
   "metadata": {},
   "outputs": [
    {
     "data": {
      "text/html": [
       "<div>\n",
       "<style scoped>\n",
       "    .dataframe tbody tr th:only-of-type {\n",
       "        vertical-align: middle;\n",
       "    }\n",
       "\n",
       "    .dataframe tbody tr th {\n",
       "        vertical-align: top;\n",
       "    }\n",
       "\n",
       "    .dataframe thead th {\n",
       "        text-align: right;\n",
       "    }\n",
       "</style>\n",
       "<table border=\"1\" class=\"dataframe\">\n",
       "  <thead>\n",
       "    <tr style=\"text-align: right;\">\n",
       "      <th></th>\n",
       "      <th>Chromosome</th>\n",
       "      <th>Strand</th>\n",
       "      <th>Coordinates</th>\n",
       "      <th>Name</th>\n",
       "      <th>source</th>\n",
       "      <th>novelty</th>\n",
       "      <th>gene_id</th>\n",
       "      <th>ic</th>\n",
       "    </tr>\n",
       "  </thead>\n",
       "  <tbody>\n",
       "    <tr>\n",
       "      <th>0</th>\n",
       "      <td>chr1</td>\n",
       "      <td>+</td>\n",
       "      <td>-</td>\n",
       "      <td>ENSMUSG00000001138_3</td>\n",
       "      <td>vM25,vM21,lapa</td>\n",
       "      <td>Known</td>\n",
       "      <td>ENSMUSG00000001138</td>\n",
       "      <td>3</td>\n",
       "    </tr>\n",
       "    <tr>\n",
       "      <th>1</th>\n",
       "      <td>chr1</td>\n",
       "      <td>+</td>\n",
       "      <td>-</td>\n",
       "      <td>ENSMUSG00000007805_1</td>\n",
       "      <td>vM25,vM21,lapa</td>\n",
       "      <td>Known</td>\n",
       "      <td>ENSMUSG00000007805</td>\n",
       "      <td>1</td>\n",
       "    </tr>\n",
       "    <tr>\n",
       "      <th>2</th>\n",
       "      <td>chr1</td>\n",
       "      <td>+</td>\n",
       "      <td>-</td>\n",
       "      <td>ENSMUSG00000015314_4</td>\n",
       "      <td>vM25,vM21,lapa</td>\n",
       "      <td>Known</td>\n",
       "      <td>ENSMUSG00000015314</td>\n",
       "      <td>4</td>\n",
       "    </tr>\n",
       "    <tr>\n",
       "      <th>3</th>\n",
       "      <td>chr1</td>\n",
       "      <td>+</td>\n",
       "      <td>-</td>\n",
       "      <td>ENSMUSG00000016494_3</td>\n",
       "      <td>vM25,vM21,lapa</td>\n",
       "      <td>Known</td>\n",
       "      <td>ENSMUSG00000016494</td>\n",
       "      <td>3</td>\n",
       "    </tr>\n",
       "    <tr>\n",
       "      <th>6</th>\n",
       "      <td>chr1</td>\n",
       "      <td>+</td>\n",
       "      <td>-</td>\n",
       "      <td>ENSMUSG00000025777_2</td>\n",
       "      <td>vM25,vM21,lapa</td>\n",
       "      <td>Known</td>\n",
       "      <td>ENSMUSG00000025777</td>\n",
       "      <td>2</td>\n",
       "    </tr>\n",
       "  </tbody>\n",
       "</table>\n",
       "</div>"
      ],
      "text/plain": [
       "  Chromosome Strand Coordinates                  Name          source novelty  \\\n",
       "0       chr1      +           -  ENSMUSG00000001138_3  vM25,vM21,lapa   Known   \n",
       "1       chr1      +           -  ENSMUSG00000007805_1  vM25,vM21,lapa   Known   \n",
       "2       chr1      +           -  ENSMUSG00000015314_4  vM25,vM21,lapa   Known   \n",
       "3       chr1      +           -  ENSMUSG00000016494_3  vM25,vM21,lapa   Known   \n",
       "6       chr1      +           -  ENSMUSG00000025777_2  vM25,vM21,lapa   Known   \n",
       "\n",
       "              gene_id  ic  \n",
       "0  ENSMUSG00000001138   3  \n",
       "1  ENSMUSG00000007805   1  \n",
       "2  ENSMUSG00000015314   4  \n",
       "3  ENSMUSG00000016494   3  \n",
       "6  ENSMUSG00000025777   2  "
      ]
     },
     "execution_count": 21,
     "metadata": {},
     "output_type": "execute_result"
    }
   ],
   "source": [
    "ca = cerberus.read(m_cerberus_h5)\n",
    "ic_m = ca.ic.loc[ca.ic.gene_id.isin(df.gid_mouse.tolist())]\n",
    "ic_m.head()"
   ]
  },
  {
   "cell_type": "code",
   "execution_count": null,
   "id": "8d8fe190-e498-42c4-8739-b2011f655874",
   "metadata": {},
   "outputs": [],
   "source": []
  }
 ],
 "metadata": {
  "kernelspec": {
   "display_name": "Python 3",
   "language": "python",
   "name": "python3"
  },
  "language_info": {
   "codemirror_mode": {
    "name": "ipython",
    "version": 3
   },
   "file_extension": ".py",
   "mimetype": "text/x-python",
   "name": "python",
   "nbconvert_exporter": "python",
   "pygments_lexer": "ipython3",
   "version": "3.7.12"
  }
 },
 "nbformat": 4,
 "nbformat_minor": 5
}
