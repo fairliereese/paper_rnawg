{
 "cells": [
  {
   "cell_type": "code",
   "execution_count": 1,
   "id": "09495976-4d19-4419-92e2-153171baac3a",
   "metadata": {},
   "outputs": [],
   "source": [
    "import pandas as pd\n",
    "import numpy as np\n",
    "import scipy.stats as st\n",
    "import seaborn as sns\n",
    "import sys\n",
    "import os\n",
    "# import gseapy as gp\n",
    "import matplotlib.pyplot as plt\n",
    "import swan_vis as swan\n",
    "import yaml\n",
    "from snakemake.io import expand\n",
    "import cerberus\n",
    "\n",
    "p = os.path.dirname(os.path.dirname(os.getcwd()))\n",
    "sys.path.append(p)\n",
    "\n",
    "from proc_revisions.utils import *\n",
    "from proc_revisions.plotting import *\n",
    "from proc_revisions.ss_sj_utils import *"
   ]
  },
  {
   "cell_type": "code",
   "execution_count": 2,
   "id": "41b4c769-7b0a-4bdf-b48c-544791a953e1",
   "metadata": {},
   "outputs": [],
   "source": [
    "od = '../../proc_revisions/'\n",
    "config_file = f'{od}/config.yml'\n",
    "with open(config_file) as f:\n",
    "    config = yaml.safe_load(f)"
   ]
  },
  {
   "cell_type": "code",
   "execution_count": 3,
   "id": "ff5aeab2-d539-46bc-8440-5cb6164818bd",
   "metadata": {},
   "outputs": [],
   "source": [
    "ab = od+expand(config['lr']['talon']['fusion_fix']['ab'], species='human')[0]\n",
    "cerb_gtf = od+expand(config['lr']['cerberus']['gtf'], species='human')[0]\n",
    "filt_ab = od+expand(config['lr']['cerberus']['filt_ab'], species='human')[0]\n",
    "read_annot = od+expand(config['lr']['talon']['full_annot'], species='human')[0]\n",
    "t_metadata = od+expand(config['ref']['cerberus']['new_gtf_t_info'], species='human')[0]\n",
    "lib_meta = od+expand(config['lr']['meta'], species='human')[0]\n",
    "swan_file = od+expand(config['lr']['swan']['sg'], species='human')[0]\n",
    "cerberus_h5 = od+expand(config['lr']['cerberus']['ca_triplets'], species='human', obs_col='sample')[0]\n",
    "cerb_t_metadata = od+expand(config['lr']['cerberus']['gtf_t_info'], species='human')[0]\n",
    "major_isos = od+expand(config['lr']['analysis']['major_isos'], species='human', obs_col='sample')[0]\n",
    "pi_tpm_table = od+expand(config['lr']['mane']['pi_tpm']['triplet'], species='human', obs_col='sample')[0]\n",
    "pp_summary = od+expand(config['lr']['protein_pred']['summary'], species='human')[0]\n",
    "gtf = od+expand(config['lr']['cerberus']['gtf'], species='human')[0]\n",
    "alu = od+config['ref']['repeats']['alu_bed']\n",
    "phastcons = od+config['ref']['phastcons100']['txt']\n",
    "\n",
    "\n",
    "ref_t_metadata = od+expand(config['ref']['new_gtf_t_info'], species='human')[0]\n",
    "ref_g_metadata = od+expand(config['ref']['new_gtf_g_info'], species='human')[0]\n",
    "\n",
    "\n",
    "ver = 'v40_cerberus'\n",
    "min_tpm = 1\n",
    "gene_subset = 'protein_coding'\n",
    "obs_col = 'sample'\n",
    "go_gene_subset = 'protein_coding'\n",
    "\n",
    "m_ab = od+expand(config['lr']['talon']['fusion_fix']['ab'], species='mouse')[0]\n",
    "m_filt_ab = od+expand(config['lr']['cerberus']['filt_ab'], species='mouse')[0]\n",
    "m_read_annot = od+expand(config['lr']['talon']['full_annot'], species='mouse')[0]\n",
    "m_t_metadata = od+expand(config['ref']['cerberus']['new_gtf_t_info'], species='mouse')[0]\n",
    "m_lib_meta = od+expand(config['lr']['meta'], species='mouse')[0]\n",
    "m_swan_file = od+expand(config['lr']['swan']['sg'], species='mouse')[0]\n",
    "m_cerberus_h5 = od+expand(config['lr']['cerberus']['ca_triplets'], species='mouse', obs_col='sample')[0]\n",
    "cerb_t_metadata = od+expand(config['lr']['cerberus']['gtf_t_info'], species='mouse')[0]\n",
    "m_major_isos = od+expand(config['lr']['analysis']['major_isos'], species='mouse', obs_col='sample')[0]\n",
    "m_pi_tpm_table = od+expand(config['lr']['mane']['pi_tpm']['triplet'], species='mouse', obs_col='sample')[0]\n",
    "m_pp_summary = od+expand(config['lr']['protein_pred']['summary'], species='mouse')[0]\n",
    "m_cerb_gtf = od+expand(config['lr']['cerberus']['gtf'], species='mouse')[0]\n",
    "human_mouse_sect_cons = '../fig5/human_mouse_sect_cons.tsv'\n",
    "\n",
    "\n",
    "m_ref_t_metadata = od+expand(config['ref']['new_gtf_t_info'], species='mouse')[0]\n",
    "m_ref_g_metadata = od+expand(config['ref']['new_gtf_g_info'], species='mouse')[0]\n",
    "\n",
    "\n",
    "orth_table = od+config['ref']['orth_genes']\n",
    "\n",
    "mouse_ver = 'vM25_cerberus'"
   ]
  },
  {
   "cell_type": "code",
   "execution_count": 5,
   "id": "1c8131dd-44d2-42c6-beda-e897258d8c5a",
   "metadata": {},
   "outputs": [],
   "source": [
    "def read_cons_table():\n",
    "    df = pd.read_csv(human_mouse_sect_cons, sep='\\t')\n",
    "    print(len(df.index))\n",
    "    df['sector_conserved'] = df.sector_human == df.sector_mouse\n",
    "    df['splicing_conserved']  = (df.sector_human=='splicing')&(df.sector_mouse=='splicing')\n",
    "    gids = df.loc[(df.sector_human=='splicing')&(df.sector_mouse!='splicing')]['Gene stable ID'].tolist()\n",
    "    \n",
    "    # df['cons_cat'] = np.nan\n",
    "\n",
    "#     # tss\n",
    "#     df.loc[(df.sector_human=='tss')&\\\n",
    "#            (df.sector_mouse=='tss'), 'cons_cat'] = 'TSS_cons'\n",
    "#     df.loc[(df.sector_human=='tss')&\\\n",
    "#        (df.sector_mouse!='tss'), 'cons_cat'] = 'TSS_not_cons'\n",
    "    \n",
    "#     # splicing\n",
    "#     df.loc[(df.sector_human=='splicing')&\\\n",
    "#            (df.sector_mouse=='splicing'), 'cons_cat'] = 'Splicing_cons'\n",
    "#     df.loc[(df.sector_human=='splicing')&\\\n",
    "#        (df.sector_mouse!='splicing'), 'cons_cat'] = 'TSS_not_cons\n",
    "    return df\n",
    "\n",
    "def test_print_stat(df, test_col, test='mannwhitneyu'):\n",
    "    # means of each dist and mann whitney u for each pair\n",
    "    for s in df.sector_human.unique().tolist():\n",
    "        print()\n",
    "        for c in df.sector_conserved.unique().tolist():\n",
    "            temp = df.loc[(df.sector_human==s)&\\\n",
    "                          (df.sector_conserved==c)].copy(deep=True)\n",
    "            print(f\"Mean of human {s} {c} sector conserved genes: {temp[test_col].mean()}\")\n",
    "\n",
    "\n",
    "    for s in df.sector_human.unique().tolist():\n",
    "        print()\n",
    "        for c in df.sector_conserved.unique().tolist():\n",
    "            temp = df.loc[(df.sector_human==s)&\\\n",
    "                          (df.sector_conserved==c)].copy(deep=True)\n",
    "            print(f\"Median of human {s} {c} sector conserved genes: {temp[test_col].median()}\")\n",
    "\n",
    "    print()\n",
    "    for s in df.sector_human.unique().tolist():  \n",
    "        temp = df.loc[df.sector_human==s].copy(deep=True)\n",
    "        a = temp.loc[temp.sector_conserved==True][test_col].tolist()\n",
    "        b = temp.loc[temp.sector_conserved==False][test_col].tolist()\n",
    "        if test=='mannwhitneyu':\n",
    "            stat, pval = st.mannwhitneyu(a,b,alternative='two-sided')   \n",
    "            print(f'Mann whitney u human {s} cons vs not cons: {stat}, p={pval}')\n",
    "        elif test=='ttest_ind':\n",
    "            stat, pval = st.ttest_ind(a,b,alternative='two-sided')\n",
    "            print(f'Ttest ind human {s} cons vs not cons: {stat}, p={pval}')"
   ]
  },
  {
   "cell_type": "markdown",
   "id": "25271cd0-0a29-4dc9-846f-fddd4408042f",
   "metadata": {},
   "source": [
    "## Splicing"
   ]
  },
  {
   "cell_type": "code",
   "execution_count": 15,
   "id": "983ba1dd-2304-4e2b-8384-0b4bc13352c3",
   "metadata": {},
   "outputs": [],
   "source": [
    "df = pd.read_csv('splice_flank_conservation.tsv', sep='\\t')"
   ]
  },
  {
   "cell_type": "code",
   "execution_count": 16,
   "id": "b353cd8e-3d57-40ce-ac07-5d7c2b21e790",
   "metadata": {},
   "outputs": [
    {
     "name": "stdout",
     "output_type": "stream",
     "text": [
      "13494\n"
     ]
    },
    {
     "data": {
      "text/html": [
       "<div>\n",
       "<style scoped>\n",
       "    .dataframe tbody tr th:only-of-type {\n",
       "        vertical-align: middle;\n",
       "    }\n",
       "\n",
       "    .dataframe tbody tr th {\n",
       "        vertical-align: top;\n",
       "    }\n",
       "\n",
       "    .dataframe thead th {\n",
       "        text-align: right;\n",
       "    }\n",
       "</style>\n",
       "<table border=\"1\" class=\"dataframe\">\n",
       "  <thead>\n",
       "    <tr style=\"text-align: right;\">\n",
       "      <th></th>\n",
       "      <th>gid</th>\n",
       "      <th>sector_mouse</th>\n",
       "      <th>sector_human</th>\n",
       "      <th>avg_score_per_bp_for_ics</th>\n",
       "      <th>sector_conserved</th>\n",
       "      <th>splicing_ratio_human</th>\n",
       "      <th>splicing_ratio_mouse</th>\n",
       "      <th>delta_spl_ratio</th>\n",
       "    </tr>\n",
       "  </thead>\n",
       "  <tbody>\n",
       "    <tr>\n",
       "      <th>0</th>\n",
       "      <td>ENSG00000065135</td>\n",
       "      <td>simple</td>\n",
       "      <td>tes</td>\n",
       "      <td>0.135110</td>\n",
       "      <td>False</td>\n",
       "      <td>0.500000</td>\n",
       "      <td>1.000000</td>\n",
       "      <td>-0.500000</td>\n",
       "    </tr>\n",
       "    <tr>\n",
       "      <th>1</th>\n",
       "      <td>ENSG00000093009</td>\n",
       "      <td>mixed</td>\n",
       "      <td>splicing</td>\n",
       "      <td>0.095199</td>\n",
       "      <td>False</td>\n",
       "      <td>6.000000</td>\n",
       "      <td>2.400000</td>\n",
       "      <td>3.600000</td>\n",
       "    </tr>\n",
       "    <tr>\n",
       "      <th>2</th>\n",
       "      <td>ENSG00000102098</td>\n",
       "      <td>mixed</td>\n",
       "      <td>mixed</td>\n",
       "      <td>0.180351</td>\n",
       "      <td>True</td>\n",
       "      <td>2.000000</td>\n",
       "      <td>3.200000</td>\n",
       "      <td>-1.200000</td>\n",
       "    </tr>\n",
       "    <tr>\n",
       "      <th>3</th>\n",
       "      <td>ENSG00000141562</td>\n",
       "      <td>mixed</td>\n",
       "      <td>mixed</td>\n",
       "      <td>0.080690</td>\n",
       "      <td>True</td>\n",
       "      <td>4.000000</td>\n",
       "      <td>1.333333</td>\n",
       "      <td>2.666667</td>\n",
       "    </tr>\n",
       "    <tr>\n",
       "      <th>4</th>\n",
       "      <td>ENSG00000105971</td>\n",
       "      <td>simple</td>\n",
       "      <td>tes</td>\n",
       "      <td>0.045654</td>\n",
       "      <td>False</td>\n",
       "      <td>0.857143</td>\n",
       "      <td>1.000000</td>\n",
       "      <td>-0.142857</td>\n",
       "    </tr>\n",
       "  </tbody>\n",
       "</table>\n",
       "</div>"
      ],
      "text/plain": [
       "               gid sector_mouse sector_human  avg_score_per_bp_for_ics  \\\n",
       "0  ENSG00000065135       simple          tes                  0.135110   \n",
       "1  ENSG00000093009        mixed     splicing                  0.095199   \n",
       "2  ENSG00000102098        mixed        mixed                  0.180351   \n",
       "3  ENSG00000141562        mixed        mixed                  0.080690   \n",
       "4  ENSG00000105971       simple          tes                  0.045654   \n",
       "\n",
       "   sector_conserved  splicing_ratio_human  splicing_ratio_mouse  \\\n",
       "0             False              0.500000              1.000000   \n",
       "1             False              6.000000              2.400000   \n",
       "2              True              2.000000              3.200000   \n",
       "3              True              4.000000              1.333333   \n",
       "4             False              0.857143              1.000000   \n",
       "\n",
       "   delta_spl_ratio  \n",
       "0        -0.500000  \n",
       "1         3.600000  \n",
       "2        -1.200000  \n",
       "3         2.666667  \n",
       "4        -0.142857  "
      ]
     },
     "execution_count": 16,
     "metadata": {},
     "output_type": "execute_result"
    }
   ],
   "source": [
    "df2 = read_cons_table()\n",
    "df2['delta_spl_ratio'] = df2.splicing_ratio_human-df2.splicing_ratio_mouse\n",
    "df2.rename({'Gene stable ID': 'gid'}, axis=1, inplace=True)\n",
    "df2 = df2[['gid', 'splicing_ratio_human',\n",
    "           'splicing_ratio_mouse', 'delta_spl_ratio']]\n",
    "df = df.merge(df2, how='left', on='gid')\n",
    "df.head()"
   ]
  },
  {
   "cell_type": "code",
   "execution_count": 22,
   "id": "f78d6fad-511f-4847-8cb2-cb0d3e6038db",
   "metadata": {},
   "outputs": [
    {
     "name": "stdout",
     "output_type": "stream",
     "text": [
      "Corr. between splice flank cons score and delta splicing ratio, pearson r=-0.025277581411155273 and pval=0.003699478395181807\n",
      "\n",
      "Corr. between splice flank cons score and delta splicing ratio, spearman rho=-0.02275691093772317 and pval=0.00897054421765124\n"
     ]
    }
   ],
   "source": [
    "x = df.avg_score_per_bp_for_ics.tolist()\n",
    "y = df.delta_spl_ratio.tolist()\n",
    "\n",
    "r, pval = stats.pearsonr(x,y)\n",
    "print(f'Corr. between splice flank cons score and delta splicing ratio, pearson r={r} and pval={pval}')\n",
    "\n",
    "print()\n",
    "\n",
    "rho, pval = stats.spearmanr(x,y)\n",
    "print(f'Corr. between splice flank cons score and delta splicing ratio, spearman rho={rho} and pval={pval}')\n",
    "\n",
    "\n"
   ]
  },
  {
   "cell_type": "code",
   "execution_count": 18,
   "id": "745c74b3-422e-4c3b-b529-2c6d4e2ebad9",
   "metadata": {},
   "outputs": [
    {
     "data": {
      "text/plain": [
       "<seaborn.axisgrid.JointGrid at 0x7fd2b0d9ce90>"
      ]
     },
     "execution_count": 18,
     "metadata": {},
     "output_type": "execute_result"
    },
    {
     "data": {
      "image/png": "[encoded data removed]",
      "text/plain": [
       "<Figure size 432x432 with 3 Axes>"
      ]
     },
     "metadata": {
      "needs_background": "light"
     },
     "output_type": "display_data"
    }
   ],
   "source": [
    "sns.jointplot(df, x='delta_spl_ratio',\n",
    "              y='avg_score_per_bp_for_ics')"
   ]
  },
  {
   "cell_type": "code",
   "execution_count": null,
   "id": "be1f94ef-59d9-4eac-9669-ce6638cf1ed0",
   "metadata": {},
   "outputs": [],
   "source": []
  }
 ],
 "metadata": {
  "kernelspec": {
   "display_name": "Python 3",
   "language": "python",
   "name": "python3"
  },
  "language_info": {
   "codemirror_mode": {
    "name": "ipython",
    "version": 3
   },
   "file_extension": ".py",
   "mimetype": "text/x-python",
   "name": "python",
   "nbconvert_exporter": "python",
   "pygments_lexer": "ipython3",
   "version": "3.7.12"
  }
 },
 "nbformat": 4,
 "nbformat_minor": 5
}
