{
 "cells": [
  {
   "cell_type": "code",
   "execution_count": 1,
   "id": "d29778ca-e6c1-4018-8a0b-ae5e3f72fbe4",
   "metadata": {},
   "outputs": [],
   "source": [
    "import pandas as pd\n",
    "import numpy as np\n",
    "import scipy.stats as st\n",
    "import seaborn as sns\n",
    "import sys\n",
    "import os\n",
    "import gseapy as gp\n",
    "import matplotlib.pyplot as plt\n",
    "import swan_vis as swan\n",
    "import yaml\n",
    "from snakemake.io import expand\n",
    "\n",
    "p = os.path.dirname(os.path.dirname(os.getcwd()))\n",
    "sys.path.append(p)\n",
    "\n",
    "from proc_revisions.utils import *\n",
    "from proc_revisions.plotting import *"
   ]
  },
  {
   "cell_type": "code",
   "execution_count": 2,
   "id": "4c199a76-0756-40bc-ba3d-d3a4831907d9",
   "metadata": {},
   "outputs": [],
   "source": [
    "od = '../../proc_revisions/'\n",
    "config_file = f'{od}/config.yml'\n",
    "with open(config_file) as f:\n",
    "    config = yaml.safe_load(f)"
   ]
  },
  {
   "cell_type": "code",
   "execution_count": 3,
   "id": "e454d32d-2d79-4450-8e8b-f0bfc0a94a52",
   "metadata": {},
   "outputs": [],
   "source": [
    "ab = od+expand(config['lr']['talon']['fusion_fix']['ab'], species='human')[0]\n",
    "unfilt_ab = od+expand(config['lr']['cerberus']['ab'], species='human')[0] \n",
    "filt_ab = od+expand(config['lr']['cerberus']['filt_ab'], species='human')[0]\n",
    "read_annot = od+expand(config['lr']['talon']['full_annot'], species='human')[0]\n",
    "t_metadata = od+expand(config['ref']['cerberus']['new_gtf_t_info'], species='human')[0]\n",
    "lib_meta = od+expand(config['lr']['meta'], species='human')[0]\n",
    "swan_file = od+expand(config['lr']['swan']['sg'], species='human')[0]\n",
    "cerberus_h5 = od+expand(config['lr']['cerberus']['ca_triplets'], species='human', obs_col='sample')[0]\n",
    "cerb_t_metadata = od+expand(config['lr']['cerberus']['gtf_t_info'], species='human')[0]\n",
    "major_isos = od+expand(config['lr']['analysis']['major_isos'], species='human', obs_col='sample')[0]\n",
    "pi_tpm_table = od+expand(config['lr']['mane']['pi_tpm']['triplet'], species='human', obs_col='sample')[0]\n",
    "\n",
    "ref_t_metadata = od+expand(config['ref']['new_gtf_t_info'], species='human')[0]\n",
    "ref_g_metadata = od+expand(config['ref']['new_gtf_g_info'], species='human')[0]\n",
    "\n",
    "ver = 'v40_cerberus'\n",
    "min_tpm = 1\n",
    "gene_subset = 'polya'\n",
    "obs_col = 'sample'\n",
    "go_gene_subset = 'protein_coding'\n",
    "predom_iso_subset = 'protein_coding'\n",
    "\n",
    "m_lib_meta = od+expand(config['lr']['meta'], species='mouse')[0]\n",
    "m_cerberus_h5 = od+expand(config['lr']['cerberus']['ca_triplets'], species='mouse', obs_col='sample')[0]\n",
    "m_swan_file = od+expand(config['lr']['swan']['sg'], species='mouse')[0]\n",
    "m_filt_ab = od+expand(config['lr']['cerberus']['filt_ab'], species='mouse')[0]\n",
    "\n"
   ]
  },
  {
   "cell_type": "markdown",
   "id": "247f9a85-f528-4267-9329-482f2633cffd",
   "metadata": {},
   "source": [
    "One of the reviewers is worried about how our observations that many genes only have one transcript \n",
    "called might be affected by sequencing depth. To double check this, we'll take the library that the reviewer called out, and ask how often transcripts that only had one transcript in this library also have only one transcript in replicates for the same sample * condition, as well as from the same sample type (brain)."
   ]
  },
  {
   "cell_type": "code",
   "execution_count": 10,
   "id": "bdf02183-9cee-4b53-8e6a-ce201dae6e9b",
   "metadata": {},
   "outputs": [
    {
     "name": "stdout",
     "output_type": "stream",
     "text": [
      "Read in graph from ../../proc_revisions/data/mouse/lr/swan/swan_graph.p\n"
     ]
    }
   ],
   "source": [
    "ca = cerberus.read(m_cerberus_h5)\n",
    "sg = swan.read(m_swan_file)\n",
    "filt_ab_df = pd.read_csv(m_filt_ab, sep='\\t')\n",
    "obs_col = 'dataset'\n",
    "min_tpm = 1\n",
    "dataset = 'cortex_14d_f_1'"
   ]
  },
  {
   "cell_type": "code",
   "execution_count": 5,
   "id": "dd7bb0c4-4259-421d-ae26-e7af70f09d3e",
   "metadata": {},
   "outputs": [],
   "source": [
    "# library-level observed triplets\n",
    "df = ca.get_expressed_triplets(sg,\n",
    "                               obs_col=obs_col,\n",
    "                               min_tpm=min_tpm,\n",
    "                               source='dataset_det')"
   ]
  },
  {
   "cell_type": "code",
   "execution_count": 20,
   "id": "9ff46afb-88d4-49c0-887a-41166b1cf3ca",
   "metadata": {},
   "outputs": [],
   "source": [
    "# get just the stuff with cortex_14d_f_1\n",
    "subset_df = df.loc[df.dataset==dataset].copy(deep=True)\n",
    "subset_df.head()\n",
    "\n",
    "# which genes only had one isoform?\n",
    "gids = subset_df.loc[subset_df.n_iso==1, 'gid'].tolist()"
   ]
  },
  {
   "cell_type": "code",
   "execution_count": 27,
   "id": "8f0c7eb8-7174-4522-bf78-7a29818e8497",
   "metadata": {},
   "outputs": [],
   "source": [
    "# now get the gene triplets for the entire sample\n",
    "# (expressed genes from any replicate; ie higher sampling depth)\n",
    "meta = pd.read_csv(m_lib_meta, sep='\\t')\n",
    "sample = meta.loc[meta.dataset == dataset, 'sample'].values[0]\n",
    "\n",
    "rep_df = ca.triplets.loc[ca.triplets['sample'] == sample].copy(deep=True)"
   ]
  },
  {
   "cell_type": "code",
   "execution_count": 30,
   "id": "ebddbd89-c427-4407-ba49-718b7bc9cac2",
   "metadata": {},
   "outputs": [
    {
     "name": "stdout",
     "output_type": "stream",
     "text": [
      "30506\n",
      "7976\n"
     ]
    },
    {
     "data": {
      "text/html": [
       "<div>\n",
       "<style scoped>\n",
       "    .dataframe tbody tr th:only-of-type {\n",
       "        vertical-align: middle;\n",
       "    }\n",
       "\n",
       "    .dataframe tbody tr th {\n",
       "        vertical-align: top;\n",
       "    }\n",
       "\n",
       "    .dataframe thead th {\n",
       "        text-align: right;\n",
       "    }\n",
       "</style>\n",
       "<table border=\"1\" class=\"dataframe\">\n",
       "  <thead>\n",
       "    <tr style=\"text-align: right;\">\n",
       "      <th></th>\n",
       "      <th>n_iso</th>\n",
       "      <th>n_genes</th>\n",
       "    </tr>\n",
       "  </thead>\n",
       "  <tbody>\n",
       "    <tr>\n",
       "      <th>0</th>\n",
       "      <td>1.0</td>\n",
       "      <td>5182</td>\n",
       "    </tr>\n",
       "    <tr>\n",
       "      <th>1</th>\n",
       "      <td>2.0</td>\n",
       "      <td>1814</td>\n",
       "    </tr>\n",
       "    <tr>\n",
       "      <th>2</th>\n",
       "      <td>3.0</td>\n",
       "      <td>643</td>\n",
       "    </tr>\n",
       "    <tr>\n",
       "      <th>3</th>\n",
       "      <td>4.0</td>\n",
       "      <td>215</td>\n",
       "    </tr>\n",
       "    <tr>\n",
       "      <th>4</th>\n",
       "      <td>5.0</td>\n",
       "      <td>87</td>\n",
       "    </tr>\n",
       "  </tbody>\n",
       "</table>\n",
       "</div>"
      ],
      "text/plain": [
       "   n_iso  n_genes\n",
       "0    1.0     5182\n",
       "1    2.0     1814\n",
       "2    3.0      643\n",
       "3    4.0      215\n",
       "4    5.0       87"
      ]
     },
     "execution_count": 30,
     "metadata": {},
     "output_type": "execute_result"
    }
   ],
   "source": [
    "# limit to the gids where we only had one isoform in the lowly-sequenced library\n",
    "print(len(rep_df.index))\n",
    "rep_df = rep_df.loc[rep_df.gid.isin(gids)]\n",
    "print(len(rep_df.index))\n",
    "\n",
    "# count the genes that still have 1 transcript / gene and those that now have more \n",
    "# when upscaling like this\n",
    "rep_df = rep_df[['gid', 'n_iso']].groupby('n_iso').count().reset_index().rename({'gid':'n_genes'}, axis=1)\n",
    "rep_df.head()"
   ]
  },
  {
   "cell_type": "code",
   "execution_count": 34,
   "id": "ca97529b-1b57-48cf-9c16-c43ffc65800c",
   "metadata": {},
   "outputs": [],
   "source": [
    "rep_df['n_iso'] = rep_df.n_iso.astype('int')"
   ]
  },
  {
   "cell_type": "code",
   "execution_count": 36,
   "id": "abbe6acc-526a-420f-9c82-aba8c03ce850",
   "metadata": {},
   "outputs": [
    {
     "data": {
      "text/plain": [
       "[Text(0.5, 0, '# transcripts / gene'), Text(0, 0.5, '# genes')]"
      ]
     },
     "execution_count": 36,
     "metadata": {},
     "output_type": "execute_result"
    },
    {
     "data": {
      "image/png": "[encoded data removed]",
      "text/plain": [
       "<Figure size 432x288 with 1 Axes>"
      ]
     },
     "metadata": {
      "needs_background": "light"
     },
     "output_type": "display_data"
    }
   ],
   "source": [
    "sns.set_context('paper', font_scale=2)\n",
    "mpl.rcParams['font.family'] = 'Arial'\n",
    "mpl.rcParams['pdf.fonttype'] = 42\n",
    "\n",
    "c_dict, order = get_biosample_colors(species='mouse')\n",
    "c = c_dict[sample]\n",
    "ax = sns.barplot(data=rep_df, x='n_iso', y='n_genes', color=c)\n",
    "\n",
    "ax.spines['top'].set_visible(False)\n",
    "ax.spines['right'].set_visible(False)\n",
    "ax.set(xlabel='# transcripts / gene', ylabel='# genes')"
   ]
  },
  {
   "cell_type": "code",
   "execution_count": 38,
   "id": "2a4431fd-25c1-4342-8e58-e05aac52d8e3",
   "metadata": {},
   "outputs": [
    {
     "name": "stdout",
     "output_type": "stream",
     "text": [
      "64.97% (5182/7976) of genes w/ 1 isoform from cortex_14d_f_1 still have 1 isoform in entire cortex_14d sample * condition\n"
     ]
    }
   ],
   "source": [
    "n_1 = rep_df.loc[rep_df.n_iso==1, 'n_genes'].values[0]\n",
    "n_more = rep_df.loc[rep_df.n_iso!=1, 'n_genes'].sum(axis=0)\n",
    "n_num = n_1\n",
    "n = n_1+n_more\n",
    "print('{:.2f}% ({}/{}) of genes w/ 1 isoform from {} still have 1 isoform in entire {} sample * condition'.format((n_num/n)*100, n_num, n, dataset, sample))"
   ]
  },
  {
   "cell_type": "code",
   "execution_count": 49,
   "id": "9ddd436e-67d0-46d2-ab64-4c76908d232a",
   "metadata": {},
   "outputs": [
    {
     "name": "stdout",
     "output_type": "stream",
     "text": [
      "1087280\n",
      "3567229\n",
      "2479949\n"
     ]
    }
   ],
   "source": [
    "# how many more reads did we gain when we looked at entire sample versus just this one dataset?\n",
    "meta = pd.read_csv(m_lib_meta, sep='\\t')\n",
    "n_reads = meta.loc[meta.dataset==dataset, 'reads_post_talon'].values[0]\n",
    "n_reads_tot = meta.loc[meta['sample']==sample, 'reads_post_talon'].sum(axis=0)\n",
    "print(n_reads)\n",
    "print(n_reads_tot)\n",
    "print(n_reads_tot-n_reads)"
   ]
  },
  {
   "cell_type": "code",
   "execution_count": null,
   "id": "1e219ad4-9c82-474c-b231-fdd7fa87f081",
   "metadata": {},
   "outputs": [],
   "source": []
  }
 ],
 "metadata": {
  "kernelspec": {
   "display_name": "Python 3",
   "language": "python",
   "name": "python3"
  },
  "language_info": {
   "codemirror_mode": {
    "name": "ipython",
    "version": 3
   },
   "file_extension": ".py",
   "mimetype": "text/x-python",
   "name": "python",
   "nbconvert_exporter": "python",
   "pygments_lexer": "ipython3",
   "version": "3.7.12"
  }
 },
 "nbformat": 4,
 "nbformat_minor": 5
}
