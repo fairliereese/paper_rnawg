{
 "cells": [
  {
   "cell_type": "code",
   "execution_count": 1,
   "id": "d29778ca-e6c1-4018-8a0b-ae5e3f72fbe4",
   "metadata": {},
   "outputs": [],
   "source": [
    "import pandas as pd\n",
    "import numpy as np\n",
    "import scipy.stats as st\n",
    "import seaborn as sns\n",
    "import sys\n",
    "import os\n",
    "import gseapy as gp\n",
    "import matplotlib.pyplot as plt\n",
    "import swan_vis as swan\n",
    "import yaml\n",
    "from snakemake.io import expand\n",
    "\n",
    "p = os.path.dirname(os.path.dirname(os.getcwd()))\n",
    "sys.path.append(p)\n",
    "\n",
    "from proc_revisions.utils import *\n",
    "from proc_revisions.plotting import *"
   ]
  },
  {
   "cell_type": "code",
   "execution_count": 2,
   "id": "4c199a76-0756-40bc-ba3d-d3a4831907d9",
   "metadata": {},
   "outputs": [],
   "source": [
    "od = '../../proc_revisions/'\n",
    "config_file = f'{od}/config.yml'\n",
    "with open(config_file) as f:\n",
    "    config = yaml.safe_load(f)"
   ]
  },
  {
   "cell_type": "code",
   "execution_count": 3,
   "id": "e454d32d-2d79-4450-8e8b-f0bfc0a94a52",
   "metadata": {},
   "outputs": [],
   "source": [
    "ab = od+expand(config['lr']['talon']['fusion_fix']['ab'], species='human')[0]\n",
    "unfilt_ab = od+expand(config['lr']['cerberus']['ab'], species='human')[0] \n",
    "filt_ab = od+expand(config['lr']['cerberus']['filt_ab'], species='human')[0]\n",
    "read_annot = od+expand(config['lr']['talon']['full_annot'], species='human')[0]\n",
    "t_metadata = od+expand(config['ref']['cerberus']['new_gtf_t_info'], species='human')[0]\n",
    "lib_meta = od+expand(config['lr']['meta'], species='human')[0]\n",
    "swan_file = od+expand(config['lr']['swan']['sg'], species='human')[0]\n",
    "cerberus_h5 = od+expand(config['lr']['cerberus']['ca_triplets'], species='human', obs_col='sample')[0]\n",
    "cerb_t_metadata = od+expand(config['lr']['cerberus']['gtf_t_info'], species='human')[0]\n",
    "major_isos = od+expand(config['lr']['analysis']['major_isos'], species='human', obs_col='sample')[0]\n",
    "pi_tpm_table = od+expand(config['lr']['mane']['pi_tpm']['triplet'], species='human', obs_col='sample')[0]\n",
    "\n",
    "ref_t_metadata = od+expand(config['ref']['new_gtf_t_info'], species='human')[0]\n",
    "ref_g_metadata = od+expand(config['ref']['new_gtf_g_info'], species='human')[0]\n",
    "\n",
    "ver = 'v40_cerberus'\n",
    "min_tpm = 1\n",
    "gene_subset = 'polya'\n",
    "obs_col = 'sample'\n",
    "go_gene_subset = 'protein_coding'\n",
    "predom_iso_subset = 'protein_coding'\n",
    "\n",
    "m_lib_meta = od+expand(config['lr']['meta'], species='mouse')[0]\n",
    "m_cerberus_h5 = od+expand(config['lr']['cerberus']['ca_triplets'], species='mouse', obs_col='sample')[0]\n",
    "m_swan_file = od+expand(config['lr']['swan']['sg'], species='mouse')[0]\n",
    "m_filt_ab = od+expand(config['lr']['cerberus']['filt_ab'], species='mouse')[0]\n",
    "\n"
   ]
  },
  {
   "cell_type": "markdown",
   "id": "247f9a85-f528-4267-9329-482f2633cffd",
   "metadata": {},
   "source": [
    "One of the reviewers is worried about how our observations that many genes only have one transcript \n",
    "called might be affected by sequencing depth. To double check this, we'll take the library that the reviewer called out, and ask how often transcripts that only had one transcript in this library also have only one transcript in replicates for the same sample * condition, as well as from the same sample type (brain)."
   ]
  },
  {
   "cell_type": "code",
   "execution_count": 10,
   "id": "bdf02183-9cee-4b53-8e6a-ce201dae6e9b",
   "metadata": {},
   "outputs": [
    {
     "name": "stdout",
     "output_type": "stream",
     "text": [
      "Read in graph from ../../proc_revisions/data/mouse/lr/swan/swan_graph.p\n"
     ]
    }
   ],
   "source": [
    "ca = cerberus.read(m_cerberus_h5)\n",
    "sg = swan.read(m_swan_file)\n",
    "filt_ab_df = pd.read_csv(m_filt_ab, sep='\\t')\n",
    "obs_col = 'dataset'\n",
    "min_tpm = 1\n",
    "dataset = 'cortex_14d_f_1'"
   ]
  },
  {
   "cell_type": "code",
   "execution_count": 5,
   "id": "dd7bb0c4-4259-421d-ae26-e7af70f09d3e",
   "metadata": {},
   "outputs": [],
   "source": [
    "# library-level observed triplets\n",
    "df = ca.get_expressed_triplets(sg,\n",
    "                               obs_col=obs_col,\n",
    "                               min_tpm=min_tpm,\n",
    "                               source='dataset_det')"
   ]
  },
  {
   "cell_type": "code",
   "execution_count": 20,
   "id": "9ff46afb-88d4-49c0-887a-41166b1cf3ca",
   "metadata": {},
   "outputs": [],
   "source": [
    "# get just the stuff with cortex_14d_f_1\n",
    "subset_df = df.loc[df.dataset==dataset].copy(deep=True)\n",
    "subset_df.head()\n",
    "\n",
    "# which genes only had one isoform?\n",
    "gids = subset_df.loc[subset_df.n_iso==1, 'gid'].tolist()"
   ]
  },
  {
   "cell_type": "code",
   "execution_count": 21,
   "id": "8f0c7eb8-7174-4522-bf78-7a29818e8497",
   "metadata": {},
   "outputs": [
    {
     "ename": "AttributeError",
     "evalue": "'DataFrame' object has no attribute 'dataset'",
     "output_type": "error",
     "traceback": [
      "\u001b[0;31m-----------------------------------------------------------------------\u001b[0m",
      "\u001b[0;31mAttributeError\u001b[0m                        Traceback (most recent call last)",
      "\u001b[0;32m<ipython-input-24-be1c0e678012>\u001b[0m in \u001b[0;36m<module>\u001b[0;34m\u001b[0m\n\u001b[1;32m      7\u001b[0m \u001b[0;34m\u001b[0m\u001b[0m\n\u001b[1;32m      8\u001b[0m \u001b[0mrep_df\u001b[0m \u001b[0;34m=\u001b[0m \u001b[0mca\u001b[0m\u001b[0;34m.\u001b[0m\u001b[0mtriplets\u001b[0m\u001b[0;34m.\u001b[0m\u001b[0mloc\u001b[0m\u001b[0;34m[\u001b[0m\u001b[0mca\u001b[0m\u001b[0;34m.\u001b[0m\u001b[0mtriplets\u001b[0m\u001b[0;34m[\u001b[0m\u001b[0;34m'sample'\u001b[0m\u001b[0;34m]\u001b[0m\u001b[0;34m==\u001b[0m\u001b[0;34m'cortex_14d'\u001b[0m\u001b[0;34m]\u001b[0m\u001b[0;34m.\u001b[0m\u001b[0mcopy\u001b[0m\u001b[0;34m(\u001b[0m\u001b[0mdeep\u001b[0m\u001b[0;34m=\u001b[0m\u001b[0;32mTrue\u001b[0m\u001b[0;34m)\u001b[0m\u001b[0;34m\u001b[0m\u001b[0;34m\u001b[0m\u001b[0m\n\u001b[0;32m----> 9\u001b[0;31m \u001b[0mrep_df\u001b[0m\u001b[0;34m.\u001b[0m\u001b[0mdataset\u001b[0m\u001b[0;34m.\u001b[0m\u001b[0munique\u001b[0m\u001b[0;34m(\u001b[0m\u001b[0;34m)\u001b[0m\u001b[0;34m.\u001b[0m\u001b[0mtolist\u001b[0m\u001b[0;34m(\u001b[0m\u001b[0;34m)\u001b[0m\u001b[0;34m\u001b[0m\u001b[0;34m\u001b[0m\u001b[0m\n\u001b[0m",
      "\u001b[0;32m~/miniconda3/lib/python3.7/site-packages/pandas/core/generic.py\u001b[0m in \u001b[0;36m__getattr__\u001b[0;34m(self, name)\u001b[0m\n\u001b[1;32m   5485\u001b[0m         ):\n\u001b[1;32m   5486\u001b[0m             \u001b[0;32mreturn\u001b[0m \u001b[0mself\u001b[0m\u001b[0;34m[\u001b[0m\u001b[0mname\u001b[0m\u001b[0;34m]\u001b[0m\u001b[0;34m\u001b[0m\u001b[0;34m\u001b[0m\u001b[0m\n\u001b[0;32m-> 5487\u001b[0;31m         \u001b[0;32mreturn\u001b[0m \u001b[0mobject\u001b[0m\u001b[0;34m.\u001b[0m\u001b[0m__getattribute__\u001b[0m\u001b[0;34m(\u001b[0m\u001b[0mself\u001b[0m\u001b[0;34m,\u001b[0m \u001b[0mname\u001b[0m\u001b[0;34m)\u001b[0m\u001b[0;34m\u001b[0m\u001b[0;34m\u001b[0m\u001b[0m\n\u001b[0m\u001b[1;32m   5488\u001b[0m \u001b[0;34m\u001b[0m\u001b[0m\n\u001b[1;32m   5489\u001b[0m     \u001b[0;32mdef\u001b[0m \u001b[0m__setattr__\u001b[0m\u001b[0;34m(\u001b[0m\u001b[0mself\u001b[0m\u001b[0;34m,\u001b[0m \u001b[0mname\u001b[0m\u001b[0;34m:\u001b[0m \u001b[0mstr\u001b[0m\u001b[0;34m,\u001b[0m \u001b[0mvalue\u001b[0m\u001b[0;34m)\u001b[0m \u001b[0;34m->\u001b[0m \u001b[0;32mNone\u001b[0m\u001b[0;34m:\u001b[0m\u001b[0;34m\u001b[0m\u001b[0;34m\u001b[0m\u001b[0m\n",
      "\u001b[0;31mAttributeError\u001b[0m: 'DataFrame' object has no attribute 'dataset'"
     ]
    }
   ],
   "source": [
    "# now get the replicates for this sample * condition\n",
    "# actually, I should be doing this using the sample-level triplets that I already started calculating\n",
    "meta = pd.read_csv(m_lib_meta, sep='\\t')\n",
    "sample = meta.loc[meta.dataset == dataset, 'sample'].values[0]\n",
    "datasets = meta.loc[meta['sample'] == sample, 'dataset'].tolist()\n",
    "datasets = list(set(datasets) - set([dataset]))\n",
    "\n",
    "rep_df = ca.triplets.loc[ca.triplets.dataset.isin(datasets)].copy(deep=True)\n",
    "rep_df.dataset.unique().tolist()"
   ]
  },
  {
   "cell_type": "code",
   "execution_count": 22,
   "id": "69a237e9-2a73-414b-b67b-7e4420695c32",
   "metadata": {},
   "outputs": [
    {
     "data": {
      "text/html": [
       "<div>\n",
       "<style scoped>\n",
       "    .dataframe tbody tr th:only-of-type {\n",
       "        vertical-align: middle;\n",
       "    }\n",
       "\n",
       "    .dataframe tbody tr th {\n",
       "        vertical-align: top;\n",
       "    }\n",
       "\n",
       "    .dataframe thead th {\n",
       "        text-align: right;\n",
       "    }\n",
       "</style>\n",
       "<table border=\"1\" class=\"dataframe\">\n",
       "  <thead>\n",
       "    <tr style=\"text-align: right;\">\n",
       "      <th></th>\n",
       "      <th>gid</th>\n",
       "      <th>dataset</th>\n",
       "      <th>n_iso</th>\n",
       "      <th>n_tss</th>\n",
       "      <th>n_ic</th>\n",
       "      <th>n_tes</th>\n",
       "      <th>splicing_ratio</th>\n",
       "      <th>tss_ratio</th>\n",
       "      <th>tes_ratio</th>\n",
       "      <th>spl_ratio</th>\n",
       "      <th>sector</th>\n",
       "      <th>gene_tpm</th>\n",
       "      <th>gname</th>\n",
       "      <th>source</th>\n",
       "    </tr>\n",
       "  </thead>\n",
       "  <tbody>\n",
       "    <tr>\n",
       "      <th>456886</th>\n",
       "      <td>ENSMUSG00000000001</td>\n",
       "      <td>cortex_14d_f_2</td>\n",
       "      <td>1</td>\n",
       "      <td>1</td>\n",
       "      <td>1</td>\n",
       "      <td>1</td>\n",
       "      <td>1.000000</td>\n",
       "      <td>0.333333</td>\n",
       "      <td>0.333333</td>\n",
       "      <td>0.333333</td>\n",
       "      <td>simple</td>\n",
       "      <td>47.220791</td>\n",
       "      <td>Gnai3</td>\n",
       "      <td>dataset_det</td>\n",
       "    </tr>\n",
       "    <tr>\n",
       "      <th>456887</th>\n",
       "      <td>ENSMUSG00000000028</td>\n",
       "      <td>cortex_14d_f_2</td>\n",
       "      <td>2</td>\n",
       "      <td>2</td>\n",
       "      <td>1</td>\n",
       "      <td>1</td>\n",
       "      <td>0.666667</td>\n",
       "      <td>0.545455</td>\n",
       "      <td>0.272727</td>\n",
       "      <td>0.181818</td>\n",
       "      <td>tss</td>\n",
       "      <td>3.935066</td>\n",
       "      <td>Cdc45</td>\n",
       "      <td>dataset_det</td>\n",
       "    </tr>\n",
       "    <tr>\n",
       "      <th>456888</th>\n",
       "      <td>ENSMUSG00000000056</td>\n",
       "      <td>cortex_14d_f_2</td>\n",
       "      <td>4</td>\n",
       "      <td>1</td>\n",
       "      <td>3</td>\n",
       "      <td>2</td>\n",
       "      <td>2.000000</td>\n",
       "      <td>0.200000</td>\n",
       "      <td>0.400000</td>\n",
       "      <td>0.400000</td>\n",
       "      <td>mixed</td>\n",
       "      <td>106.246780</td>\n",
       "      <td>Narf</td>\n",
       "      <td>dataset_det</td>\n",
       "    </tr>\n",
       "    <tr>\n",
       "      <th>456889</th>\n",
       "      <td>ENSMUSG00000000058</td>\n",
       "      <td>cortex_14d_f_2</td>\n",
       "      <td>1</td>\n",
       "      <td>1</td>\n",
       "      <td>1</td>\n",
       "      <td>1</td>\n",
       "      <td>1.000000</td>\n",
       "      <td>0.333333</td>\n",
       "      <td>0.333333</td>\n",
       "      <td>0.333333</td>\n",
       "      <td>simple</td>\n",
       "      <td>106.246780</td>\n",
       "      <td>Cav2</td>\n",
       "      <td>dataset_det</td>\n",
       "    </tr>\n",
       "    <tr>\n",
       "      <th>456890</th>\n",
       "      <td>ENSMUSG00000000078</td>\n",
       "      <td>cortex_14d_f_2</td>\n",
       "      <td>2</td>\n",
       "      <td>1</td>\n",
       "      <td>1</td>\n",
       "      <td>2</td>\n",
       "      <td>0.666667</td>\n",
       "      <td>0.272727</td>\n",
       "      <td>0.545455</td>\n",
       "      <td>0.181818</td>\n",
       "      <td>tes</td>\n",
       "      <td>41.974037</td>\n",
       "      <td>Klf6</td>\n",
       "      <td>dataset_det</td>\n",
       "    </tr>\n",
       "  </tbody>\n",
       "</table>\n",
       "</div>"
      ],
      "text/plain": [
       "                       gid         dataset  n_iso  n_tss  n_ic  n_tes  \\\n",
       "456886  ENSMUSG00000000001  cortex_14d_f_2      1      1     1      1   \n",
       "456887  ENSMUSG00000000028  cortex_14d_f_2      2      2     1      1   \n",
       "456888  ENSMUSG00000000056  cortex_14d_f_2      4      1     3      2   \n",
       "456889  ENSMUSG00000000058  cortex_14d_f_2      1      1     1      1   \n",
       "456890  ENSMUSG00000000078  cortex_14d_f_2      2      1     1      2   \n",
       "\n",
       "        splicing_ratio  tss_ratio  tes_ratio  spl_ratio  sector    gene_tpm  \\\n",
       "456886        1.000000   0.333333   0.333333   0.333333  simple   47.220791   \n",
       "456887        0.666667   0.545455   0.272727   0.181818     tss    3.935066   \n",
       "456888        2.000000   0.200000   0.400000   0.400000   mixed  106.246780   \n",
       "456889        1.000000   0.333333   0.333333   0.333333  simple  106.246780   \n",
       "456890        0.666667   0.272727   0.545455   0.181818     tes   41.974037   \n",
       "\n",
       "        gname       source  \n",
       "456886  Gnai3  dataset_det  \n",
       "456887  Cdc45  dataset_det  \n",
       "456888   Narf  dataset_det  \n",
       "456889   Cav2  dataset_det  \n",
       "456890   Klf6  dataset_det  "
      ]
     },
     "execution_count": 22,
     "metadata": {},
     "output_type": "execute_result"
    }
   ],
   "source": [
    "rep_df.head()"
   ]
  },
  {
   "cell_type": "code",
   "execution_count": 23,
   "id": "ebddbd89-c427-4407-ba49-718b7bc9cac2",
   "metadata": {},
   "outputs": [
    {
     "name": "stdout",
     "output_type": "stream",
     "text": [
      "39371\n",
      "8810\n"
     ]
    }
   ],
   "source": [
    "# limit to the gids where we only had one isoform in the lowly-sequenced library\n",
    "print(len(rep_df.index))\n",
    "rep_df = rep_df.loc[rep_df.gid.isin(gids)]\n",
    "print(len(rep_df.index))"
   ]
  },
  {
   "cell_type": "code",
   "execution_count": null,
   "id": "abbe6acc-526a-420f-9c82-aba8c03ce850",
   "metadata": {},
   "outputs": [],
   "source": [
    "# count the genes that still have 1 transcript / gene and those that now have more \n",
    "# when upscaling like this"
   ]
  },
  {
   "cell_type": "code",
   "execution_count": null,
   "id": "2a4431fd-25c1-4342-8e58-e05aac52d8e3",
   "metadata": {},
   "outputs": [],
   "source": []
  },
  {
   "cell_type": "code",
   "execution_count": null,
   "id": "339573e1-9316-4d2c-8754-8b3be45b4ffd",
   "metadata": {},
   "outputs": [],
   "source": []
  },
  {
   "cell_type": "code",
   "execution_count": null,
   "id": "37be4adc-4101-421e-be47-e4d4fdb0b5f1",
   "metadata": {},
   "outputs": [],
   "source": []
  }
 ],
 "metadata": {
  "kernelspec": {
   "display_name": "Python 3",
   "language": "python",
   "name": "python3"
  },
  "language_info": {
   "codemirror_mode": {
    "name": "ipython",
    "version": 3
   },
   "file_extension": ".py",
   "mimetype": "text/x-python",
   "name": "python",
   "nbconvert_exporter": "python",
   "pygments_lexer": "ipython3",
   "version": "3.7.12"
  }
 },
 "nbformat": 4,
 "nbformat_minor": 5
}
