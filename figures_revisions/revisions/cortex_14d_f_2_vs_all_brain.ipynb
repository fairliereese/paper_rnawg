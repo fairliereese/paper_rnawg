{
 "cells": [
  {
   "cell_type": "code",
   "execution_count": 3,
   "id": "d29778ca-e6c1-4018-8a0b-ae5e3f72fbe4",
   "metadata": {},
   "outputs": [],
   "source": [
    "import pandas as pd\n",
    "import numpy as np\n",
    "import scipy.stats as st\n",
    "import seaborn as sns\n",
    "import sys\n",
    "import os\n",
    "import gseapy as gp\n",
    "import matplotlib.pyplot as plt\n",
    "import swan_vis as swan\n",
    "import yaml\n",
    "from snakemake.io import expand\n",
    "\n",
    "p = os.path.dirname(os.path.dirname(os.getcwd()))\n",
    "sys.path.append(p)\n",
    "\n",
    "from proc_revisions.utils import *\n",
    "from proc_revisions.plotting import *"
   ]
  },
  {
   "cell_type": "code",
   "execution_count": 4,
   "id": "4c199a76-0756-40bc-ba3d-d3a4831907d9",
   "metadata": {},
   "outputs": [],
   "source": [
    "od = '../../proc_revisions/'\n",
    "config_file = f'{od}/config.yml'\n",
    "with open(config_file) as f:\n",
    "    config = yaml.safe_load(f)"
   ]
  },
  {
   "cell_type": "code",
   "execution_count": 5,
   "id": "e454d32d-2d79-4450-8e8b-f0bfc0a94a52",
   "metadata": {},
   "outputs": [],
   "source": [
    "ab = od+expand(config['lr']['talon']['fusion_fix']['ab'], species='human')[0]\n",
    "unfilt_ab = od+expand(config['lr']['cerberus']['ab'], species='human')[0] \n",
    "filt_ab = od+expand(config['lr']['cerberus']['filt_ab'], species='human')[0]\n",
    "read_annot = od+expand(config['lr']['talon']['full_annot'], species='human')[0]\n",
    "t_metadata = od+expand(config['ref']['cerberus']['new_gtf_t_info'], species='human')[0]\n",
    "lib_meta = od+expand(config['lr']['meta'], species='human')[0]\n",
    "swan_file = od+expand(config['lr']['swan']['sg'], species='human')[0]\n",
    "cerberus_h5 = od+expand(config['lr']['cerberus']['ca_triplets'], species='human', obs_col='sample')[0]\n",
    "cerb_t_metadata = od+expand(config['lr']['cerberus']['gtf_t_info'], species='human')[0]\n",
    "major_isos = od+expand(config['lr']['analysis']['major_isos'], species='human', obs_col='sample')[0]\n",
    "pi_tpm_table = od+expand(config['lr']['mane']['pi_tpm']['triplet'], species='human', obs_col='sample')[0]\n",
    "\n",
    "ref_t_metadata = od+expand(config['ref']['new_gtf_t_info'], species='human')[0]\n",
    "ref_g_metadata = od+expand(config['ref']['new_gtf_g_info'], species='human')[0]\n",
    "\n",
    "ver = 'v40_cerberus'\n",
    "min_tpm = 1\n",
    "gene_subset = 'polya'\n",
    "obs_col = 'sample'\n",
    "go_gene_subset = 'protein_coding'\n",
    "predom_iso_subset = 'protein_coding'\n",
    "\n",
    "m_lib_meta = od+expand(config['lr']['meta'], species='mouse')[0]\n",
    "m_cerberus_h5 = od+expand(config['lr']['cerberus']['ca_triplets'], species='mouse', obs_col='sample')[0]\n",
    "m_swan_file = od+expand(config['lr']['swan']['sg'], species='mouse')[0]\n",
    "m_filt_ab = od+expand(config['lr']['cerberus']['filt_ab'], species='mouse')[0]\n",
    "\n"
   ]
  },
  {
   "cell_type": "markdown",
   "id": "247f9a85-f528-4267-9329-482f2633cffd",
   "metadata": {},
   "source": [
    "## Dist. of # reads / library"
   ]
  },
  {
   "cell_type": "code",
   "execution_count": 6,
   "id": "b95d1588-2c3e-4b08-8ff6-6effed9308f5",
   "metadata": {},
   "outputs": [],
   "source": [
    "meta = pd.read_csv(lib_meta, sep='\\t')\n",
    "meta = pd.concat([meta, pd.read_csv(m_lib_meta, sep='\\t')], axis=0)"
   ]
  },
  {
   "cell_type": "code",
   "execution_count": 7,
   "id": "647d40b0-9563-43cf-9846-2d8e35fd9191",
   "metadata": {},
   "outputs": [
    {
     "name": "stdout",
     "output_type": "stream",
     "text": [
      "21.51% (57/265) of libraries have fewer reads than cortex_14d_f_2\n"
     ]
    }
   ],
   "source": [
    "# sns.displot(meta, x='reads_post_talon', kind='hist', binwidth=100000)\n",
    "dataset = 'cortex_14d_f_2'\n",
    "n = len(meta.index)\n",
    "n_num = len(meta.loc[meta.reads_post_talon<meta.loc[meta.dataset==dataset, 'reads_post_talon'].values[0]].index)\n",
    "print(f'{perc(n_num, n):.2f}% ({n_num}/{n}) of libraries have fewer reads than {dataset}')"
   ]
  },
  {
   "cell_type": "code",
   "execution_count": 8,
   "id": "bdf02183-9cee-4b53-8e6a-ce201dae6e9b",
   "metadata": {},
   "outputs": [
    {
     "name": "stdout",
     "output_type": "stream",
     "text": [
      "Read in graph from ../../proc_revisions/data/mouse/lr/swan/swan_graph.p\n"
     ]
    }
   ],
   "source": [
    "ca = cerberus.read(m_cerberus_h5)\n",
    "sg = swan.read(m_swan_file)\n",
    "filt_ab_df = pd.read_csv(m_filt_ab, sep='\\t')\n",
    "obs_col = 'dataset'\n",
    "min_tpm = 1\n",
    "dataset = 'cortex_14d_f_2'"
   ]
  },
  {
   "cell_type": "code",
   "execution_count": 5,
   "id": "dd7bb0c4-4259-421d-ae26-e7af70f09d3e",
   "metadata": {},
   "outputs": [],
   "source": [
    "# # library-level observed triplets\n",
    "# df = ca.get_expressed_triplets(sg,\n",
    "#                                obs_col=obs_col,\n",
    "#                                min_tpm=min_tpm,\n",
    "#                                source='dataset_det')\n",
    "# df.to_csv(f'dataset_triplets.tsv', sep='\\t')"
   ]
  },
  {
   "cell_type": "code",
   "execution_count": 10,
   "id": "4595b532-f9cb-444a-b97b-3cfb71f8a6b9",
   "metadata": {},
   "outputs": [],
   "source": [
    "df = pd.read_csv('dataset_triplets.tsv', sep='\\t')"
   ]
  },
  {
   "cell_type": "code",
   "execution_count": 11,
   "id": "9ff46afb-88d4-49c0-887a-41166b1cf3ca",
   "metadata": {},
   "outputs": [],
   "source": [
    "# get just the stuff with cortex_14d_f_2\n",
    "subset_df = df.loc[df.dataset==dataset].copy(deep=True)\n",
    "subset_df.head()\n",
    "\n",
    "# which genes only had one isoform?\n",
    "gids = subset_df.loc[subset_df.n_iso==1, 'gid'].tolist()"
   ]
  },
  {
   "cell_type": "code",
   "execution_count": 12,
   "id": "8f0c7eb8-7174-4522-bf78-7a29818e8497",
   "metadata": {},
   "outputs": [],
   "source": [
    "# now get the gene triplets for the entire sample\n",
    "# (expressed genes from any replicate; ie higher sampling depth)\n",
    "meta = pd.read_csv(m_lib_meta, sep='\\t')\n",
    "sample = meta.loc[meta.dataset == dataset, 'sample'].values[0]\n",
    "\n",
    "rep_df = ca.triplets.loc[ca.triplets['sample'] == sample].copy(deep=True)"
   ]
  },
  {
   "cell_type": "code",
   "execution_count": 13,
   "id": "b9404c73-a809-4f4c-99c8-cf67aada1e5f",
   "metadata": {},
   "outputs": [
    {
     "name": "stdout",
     "output_type": "stream",
     "text": [
      "30506\n",
      "7998\n"
     ]
    }
   ],
   "source": [
    "# limit to the gids where we only had one isoform in the lowly-sequenced library\n",
    "print(len(rep_df.index))\n",
    "rep_df = rep_df.loc[rep_df.gid.isin(gids)]\n",
    "print(len(rep_df.index))"
   ]
  },
  {
   "cell_type": "code",
   "execution_count": 14,
   "id": "ebddbd89-c427-4407-ba49-718b7bc9cac2",
   "metadata": {},
   "outputs": [
    {
     "data": {
      "text/html": [
       "<div>\n",
       "<style scoped>\n",
       "    .dataframe tbody tr th:only-of-type {\n",
       "        vertical-align: middle;\n",
       "    }\n",
       "\n",
       "    .dataframe tbody tr th {\n",
       "        vertical-align: top;\n",
       "    }\n",
       "\n",
       "    .dataframe thead th {\n",
       "        text-align: right;\n",
       "    }\n",
       "</style>\n",
       "<table border=\"1\" class=\"dataframe\">\n",
       "  <thead>\n",
       "    <tr style=\"text-align: right;\">\n",
       "      <th></th>\n",
       "      <th>n_iso</th>\n",
       "      <th>n_genes</th>\n",
       "    </tr>\n",
       "  </thead>\n",
       "  <tbody>\n",
       "    <tr>\n",
       "      <th>0</th>\n",
       "      <td>1.0</td>\n",
       "      <td>4692</td>\n",
       "    </tr>\n",
       "    <tr>\n",
       "      <th>1</th>\n",
       "      <td>2.0</td>\n",
       "      <td>1933</td>\n",
       "    </tr>\n",
       "    <tr>\n",
       "      <th>2</th>\n",
       "      <td>3.0</td>\n",
       "      <td>822</td>\n",
       "    </tr>\n",
       "    <tr>\n",
       "      <th>3</th>\n",
       "      <td>4.0</td>\n",
       "      <td>342</td>\n",
       "    </tr>\n",
       "    <tr>\n",
       "      <th>4</th>\n",
       "      <td>5.0</td>\n",
       "      <td>135</td>\n",
       "    </tr>\n",
       "  </tbody>\n",
       "</table>\n",
       "</div>"
      ],
      "text/plain": [
       "   n_iso  n_genes\n",
       "0    1.0     4692\n",
       "1    2.0     1933\n",
       "2    3.0      822\n",
       "3    4.0      342\n",
       "4    5.0      135"
      ]
     },
     "execution_count": 14,
     "metadata": {},
     "output_type": "execute_result"
    }
   ],
   "source": [
    "# count the genes that still have 1 transcript / gene and those that now have more \n",
    "# when upscaling like this\n",
    "rep_df = rep_df[['gid', 'n_iso']].groupby('n_iso').count().reset_index().rename({'gid':'n_genes'}, axis=1)\n",
    "rep_df.head()"
   ]
  },
  {
   "cell_type": "code",
   "execution_count": 15,
   "id": "2f931d12-b849-4df6-b48d-0d3be1377f21",
   "metadata": {},
   "outputs": [],
   "source": [
    "rep_df['total'] = rep_df.n_genes.sum(axis=0)\n",
    "rep_df['perc'] = (rep_df.n_genes/rep_df.total)*100\n",
    "rep_df.head()\n",
    "rep_df['cumsum'] = rep_df.perc.cumsum(axis=0)"
   ]
  },
  {
   "cell_type": "code",
   "execution_count": 16,
   "id": "bdb919cb-dc25-4d75-aba9-4024b8dfc4f3",
   "metadata": {},
   "outputs": [
    {
     "data": {
      "text/html": [
       "<div>\n",
       "<style scoped>\n",
       "    .dataframe tbody tr th:only-of-type {\n",
       "        vertical-align: middle;\n",
       "    }\n",
       "\n",
       "    .dataframe tbody tr th {\n",
       "        vertical-align: top;\n",
       "    }\n",
       "\n",
       "    .dataframe thead th {\n",
       "        text-align: right;\n",
       "    }\n",
       "</style>\n",
       "<table border=\"1\" class=\"dataframe\">\n",
       "  <thead>\n",
       "    <tr style=\"text-align: right;\">\n",
       "      <th></th>\n",
       "      <th>n_iso</th>\n",
       "      <th>n_genes</th>\n",
       "      <th>total</th>\n",
       "      <th>perc</th>\n",
       "      <th>cumsum</th>\n",
       "    </tr>\n",
       "  </thead>\n",
       "  <tbody>\n",
       "    <tr>\n",
       "      <th>0</th>\n",
       "      <td>1</td>\n",
       "      <td>4692</td>\n",
       "      <td>7998</td>\n",
       "      <td>58.664666</td>\n",
       "      <td>58.664666</td>\n",
       "    </tr>\n",
       "    <tr>\n",
       "      <th>1</th>\n",
       "      <td>2</td>\n",
       "      <td>1933</td>\n",
       "      <td>7998</td>\n",
       "      <td>24.168542</td>\n",
       "      <td>82.833208</td>\n",
       "    </tr>\n",
       "    <tr>\n",
       "      <th>2</th>\n",
       "      <td>3</td>\n",
       "      <td>822</td>\n",
       "      <td>7998</td>\n",
       "      <td>10.277569</td>\n",
       "      <td>93.110778</td>\n",
       "    </tr>\n",
       "    <tr>\n",
       "      <th>3</th>\n",
       "      <td>4</td>\n",
       "      <td>342</td>\n",
       "      <td>7998</td>\n",
       "      <td>4.276069</td>\n",
       "      <td>97.386847</td>\n",
       "    </tr>\n",
       "    <tr>\n",
       "      <th>4</th>\n",
       "      <td>5</td>\n",
       "      <td>135</td>\n",
       "      <td>7998</td>\n",
       "      <td>1.687922</td>\n",
       "      <td>99.074769</td>\n",
       "    </tr>\n",
       "    <tr>\n",
       "      <th>5</th>\n",
       "      <td>6</td>\n",
       "      <td>42</td>\n",
       "      <td>7998</td>\n",
       "      <td>0.525131</td>\n",
       "      <td>99.599900</td>\n",
       "    </tr>\n",
       "    <tr>\n",
       "      <th>6</th>\n",
       "      <td>7</td>\n",
       "      <td>18</td>\n",
       "      <td>7998</td>\n",
       "      <td>0.225056</td>\n",
       "      <td>99.824956</td>\n",
       "    </tr>\n",
       "    <tr>\n",
       "      <th>7</th>\n",
       "      <td>8</td>\n",
       "      <td>9</td>\n",
       "      <td>7998</td>\n",
       "      <td>0.112528</td>\n",
       "      <td>99.937484</td>\n",
       "    </tr>\n",
       "    <tr>\n",
       "      <th>8</th>\n",
       "      <td>9</td>\n",
       "      <td>4</td>\n",
       "      <td>7998</td>\n",
       "      <td>0.050013</td>\n",
       "      <td>99.987497</td>\n",
       "    </tr>\n",
       "    <tr>\n",
       "      <th>9</th>\n",
       "      <td>10</td>\n",
       "      <td>1</td>\n",
       "      <td>7998</td>\n",
       "      <td>0.012503</td>\n",
       "      <td>100.000000</td>\n",
       "    </tr>\n",
       "  </tbody>\n",
       "</table>\n",
       "</div>"
      ],
      "text/plain": [
       "   n_iso  n_genes  total       perc      cumsum\n",
       "0      1     4692   7998  58.664666   58.664666\n",
       "1      2     1933   7998  24.168542   82.833208\n",
       "2      3      822   7998  10.277569   93.110778\n",
       "3      4      342   7998   4.276069   97.386847\n",
       "4      5      135   7998   1.687922   99.074769\n",
       "5      6       42   7998   0.525131   99.599900\n",
       "6      7       18   7998   0.225056   99.824956\n",
       "7      8        9   7998   0.112528   99.937484\n",
       "8      9        4   7998   0.050013   99.987497\n",
       "9     10        1   7998   0.012503  100.000000"
      ]
     },
     "execution_count": 16,
     "metadata": {},
     "output_type": "execute_result"
    }
   ],
   "source": [
    "rep_df['n_iso'] = rep_df.n_iso.astype('int')\n",
    "rep_df"
   ]
  },
  {
   "cell_type": "code",
   "execution_count": 17,
   "id": "52487ddc-65cc-4b9c-a3bc-c8275cfbdbff",
   "metadata": {},
   "outputs": [
    {
     "data": {
      "text/html": [
       "<div>\n",
       "<style scoped>\n",
       "    .dataframe tbody tr th:only-of-type {\n",
       "        vertical-align: middle;\n",
       "    }\n",
       "\n",
       "    .dataframe tbody tr th {\n",
       "        vertical-align: top;\n",
       "    }\n",
       "\n",
       "    .dataframe thead th {\n",
       "        text-align: right;\n",
       "    }\n",
       "</style>\n",
       "<table border=\"1\" class=\"dataframe\">\n",
       "  <thead>\n",
       "    <tr style=\"text-align: right;\">\n",
       "      <th></th>\n",
       "      <th>n_iso</th>\n",
       "      <th>4+</th>\n",
       "      <th>n_genes</th>\n",
       "      <th>total</th>\n",
       "      <th>perc</th>\n",
       "      <th>cumsum</th>\n",
       "    </tr>\n",
       "  </thead>\n",
       "  <tbody>\n",
       "    <tr>\n",
       "      <th>0</th>\n",
       "      <td>1</td>\n",
       "      <td>False</td>\n",
       "      <td>4692</td>\n",
       "      <td>7998</td>\n",
       "      <td>58.664666</td>\n",
       "      <td>58.664666</td>\n",
       "    </tr>\n",
       "    <tr>\n",
       "      <th>1</th>\n",
       "      <td>2</td>\n",
       "      <td>False</td>\n",
       "      <td>1933</td>\n",
       "      <td>7998</td>\n",
       "      <td>24.168542</td>\n",
       "      <td>82.833208</td>\n",
       "    </tr>\n",
       "    <tr>\n",
       "      <th>2</th>\n",
       "      <td>3</td>\n",
       "      <td>False</td>\n",
       "      <td>822</td>\n",
       "      <td>7998</td>\n",
       "      <td>10.277569</td>\n",
       "      <td>93.110778</td>\n",
       "    </tr>\n",
       "    <tr>\n",
       "      <th>3</th>\n",
       "      <td>4+</td>\n",
       "      <td>True</td>\n",
       "      <td>551</td>\n",
       "      <td>7998</td>\n",
       "      <td>6.889222</td>\n",
       "      <td>100.000000</td>\n",
       "    </tr>\n",
       "  </tbody>\n",
       "</table>\n",
       "</div>"
      ],
      "text/plain": [
       "  n_iso     4+  n_genes  total       perc      cumsum\n",
       "0     1  False     4692   7998  58.664666   58.664666\n",
       "1     2  False     1933   7998  24.168542   82.833208\n",
       "2     3  False      822   7998  10.277569   93.110778\n",
       "3    4+   True      551   7998   6.889222  100.000000"
      ]
     },
     "execution_count": 17,
     "metadata": {},
     "output_type": "execute_result"
    }
   ],
   "source": [
    "max_n = 4\n",
    "col = f'{max_n}+'\n",
    "rep_df[col] = rep_df.n_iso>=max_n\n",
    "rep_df_2 = rep_df.copy(deep=True)\n",
    "rep_df_2.loc[rep_df[col]==True, 'n_iso'] = col\n",
    "rep_df_2 = rep_df_2.groupby(['n_iso', col]).sum().reset_index()\n",
    "rep_df_2['total'] = rep_df_2.n_genes.sum(axis=0)\n",
    "rep_df_2['perc'] = (rep_df_2.n_genes/rep_df_2.total)*100\n",
    "rep_df_2['cumsum'] = rep_df_2.perc.cumsum(axis=0)\n",
    "rep_df_2"
   ]
  },
  {
   "cell_type": "code",
   "execution_count": 18,
   "id": "5fb65915-4f90-4fed-8ec7-aef7379a8628",
   "metadata": {},
   "outputs": [
    {
     "data": {
      "text/html": [
       "<div>\n",
       "<style scoped>\n",
       "    .dataframe tbody tr th:only-of-type {\n",
       "        vertical-align: middle;\n",
       "    }\n",
       "\n",
       "    .dataframe tbody tr th {\n",
       "        vertical-align: top;\n",
       "    }\n",
       "\n",
       "    .dataframe thead th {\n",
       "        text-align: right;\n",
       "    }\n",
       "</style>\n",
       "<table border=\"1\" class=\"dataframe\">\n",
       "  <thead>\n",
       "    <tr style=\"text-align: right;\">\n",
       "      <th></th>\n",
       "      <th>n_iso</th>\n",
       "      <th>n_genes</th>\n",
       "      <th>total</th>\n",
       "      <th>perc</th>\n",
       "      <th>cumsum</th>\n",
       "      <th>4+</th>\n",
       "    </tr>\n",
       "  </thead>\n",
       "  <tbody>\n",
       "    <tr>\n",
       "      <th>0</th>\n",
       "      <td>1</td>\n",
       "      <td>4692</td>\n",
       "      <td>7998</td>\n",
       "      <td>58.664666</td>\n",
       "      <td>58.664666</td>\n",
       "      <td>False</td>\n",
       "    </tr>\n",
       "    <tr>\n",
       "      <th>1</th>\n",
       "      <td>2</td>\n",
       "      <td>1933</td>\n",
       "      <td>7998</td>\n",
       "      <td>24.168542</td>\n",
       "      <td>82.833208</td>\n",
       "      <td>False</td>\n",
       "    </tr>\n",
       "    <tr>\n",
       "      <th>2</th>\n",
       "      <td>3</td>\n",
       "      <td>822</td>\n",
       "      <td>7998</td>\n",
       "      <td>10.277569</td>\n",
       "      <td>93.110778</td>\n",
       "      <td>False</td>\n",
       "    </tr>\n",
       "    <tr>\n",
       "      <th>3</th>\n",
       "      <td>4</td>\n",
       "      <td>342</td>\n",
       "      <td>7998</td>\n",
       "      <td>4.276069</td>\n",
       "      <td>97.386847</td>\n",
       "      <td>True</td>\n",
       "    </tr>\n",
       "    <tr>\n",
       "      <th>4</th>\n",
       "      <td>5</td>\n",
       "      <td>135</td>\n",
       "      <td>7998</td>\n",
       "      <td>1.687922</td>\n",
       "      <td>99.074769</td>\n",
       "      <td>True</td>\n",
       "    </tr>\n",
       "  </tbody>\n",
       "</table>\n",
       "</div>"
      ],
      "text/plain": [
       "   n_iso  n_genes  total       perc     cumsum     4+\n",
       "0      1     4692   7998  58.664666  58.664666  False\n",
       "1      2     1933   7998  24.168542  82.833208  False\n",
       "2      3      822   7998  10.277569  93.110778  False\n",
       "3      4      342   7998   4.276069  97.386847   True\n",
       "4      5      135   7998   1.687922  99.074769   True"
      ]
     },
     "execution_count": 18,
     "metadata": {},
     "output_type": "execute_result"
    }
   ],
   "source": [
    "rep_df.head()"
   ]
  },
  {
   "cell_type": "code",
   "execution_count": 19,
   "id": "abbe6acc-526a-420f-9c82-aba8c03ce850",
   "metadata": {},
   "outputs": [
    {
     "data": {
      "text/plain": [
       "[Text(0.5, 0, '# transcripts / gene'), Text(0, 0.5, '# genes')]"
      ]
     },
     "execution_count": 19,
     "metadata": {},
     "output_type": "execute_result"
    },
    {
     "data": {
      "image/png": "[encoded data removed]",
      "text/plain": [
       "<Figure size 432x288 with 1 Axes>"
      ]
     },
     "metadata": {
      "needs_background": "light"
     },
     "output_type": "display_data"
    }
   ],
   "source": [
    "sns.set_context('paper', font_scale=2)\n",
    "mpl.rcParams['font.family'] = 'Arial'\n",
    "mpl.rcParams['pdf.fonttype'] = 42\n",
    "\n",
    "c_dict, order = get_biosample_colors(species='mouse')\n",
    "c = c_dict[sample]\n",
    "ax = sns.barplot(data=rep_df, x='n_iso', y='n_genes', color=c)\n",
    "\n",
    "ax.spines['top'].set_visible(False)\n",
    "ax.spines['right'].set_visible(False)\n",
    "ax.set(xlabel='# transcripts / gene', ylabel='# genes')"
   ]
  },
  {
   "cell_type": "code",
   "execution_count": 20,
   "id": "cc3ea9c9-e0e0-454e-83dd-c07fc3af455a",
   "metadata": {},
   "outputs": [
    {
     "data": {
      "image/png": "[encoded data removed]",
      "text/plain": [
       "<Figure size 432x288 with 1 Axes>"
      ]
     },
     "metadata": {
      "needs_background": "light"
     },
     "output_type": "display_data"
    }
   ],
   "source": [
    "sns.set_context('paper', font_scale=2)\n",
    "mpl.rcParams['font.family'] = 'Arial'\n",
    "mpl.rcParams['pdf.fonttype'] = 42\n",
    "\n",
    "c_dict, order = get_biosample_colors(species='mouse')\n",
    "c = c_dict[sample]\n",
    "ax = sns.barplot(data=rep_df_2, x='n_iso', y='n_genes', color=c)\n",
    "\n",
    "ax.spines['top'].set_visible(False)\n",
    "ax.spines['right'].set_visible(False)\n",
    "ax.set(xlabel='# transcripts / gene', ylabel='# genes')\n",
    "\n",
    "fname = 'figures/cortex_14d_f_2_n_isos_per_gene_for_1_iso_library_genes.pdf'\n",
    "plt.savefig(fname, dpi=500)"
   ]
  },
  {
   "cell_type": "code",
   "execution_count": 21,
   "id": "2a4431fd-25c1-4342-8e58-e05aac52d8e3",
   "metadata": {},
   "outputs": [
    {
     "name": "stdout",
     "output_type": "stream",
     "text": [
      "58.66% (4692/7998) of genes w/ 1 isoform from cortex_14d_f_2 still have 1 isoform in entire cortex_14d sample * condition\n"
     ]
    }
   ],
   "source": [
    "n_1 = rep_df.loc[rep_df.n_iso==1, 'n_genes'].values[0]\n",
    "n_more = rep_df.loc[rep_df.n_iso!=1, 'n_genes'].sum(axis=0)\n",
    "n_num = n_1\n",
    "n = n_1+n_more\n",
    "print('{:.2f}% ({}/{}) of genes w/ 1 isoform from {} still have 1 isoform in entire {} sample * condition'.format((n_num/n)*100, n_num, n, dataset, sample))"
   ]
  },
  {
   "cell_type": "code",
   "execution_count": 22,
   "id": "9ddd436e-67d0-46d2-ab64-4c76908d232a",
   "metadata": {},
   "outputs": [
    {
     "name": "stdout",
     "output_type": "stream",
     "text": [
      "762376\n",
      "3567229\n",
      "2804853\n"
     ]
    }
   ],
   "source": [
    "# how many more reads did we gain when we looked at entire sample versus just this one dataset?\n",
    "meta = pd.read_csv(m_lib_meta, sep='\\t')\n",
    "n_reads = meta.loc[meta.dataset==dataset, 'reads_post_talon'].values[0]\n",
    "n_reads_tot = meta.loc[meta['sample']==sample, 'reads_post_talon'].sum(axis=0)\n",
    "print(n_reads)\n",
    "print(n_reads_tot)\n",
    "print(n_reads_tot-n_reads)"
   ]
  },
  {
   "cell_type": "markdown",
   "id": "e0ee5f5c-8810-4350-af03-eda097282dd1",
   "metadata": {},
   "source": [
    "## Now make the above plot but binned by TPM to see how highly expressed the newly added transcripts are by rank"
   ]
  },
  {
   "cell_type": "code",
   "execution_count": 23,
   "id": "485ee548-0100-473c-9eb4-ea79a127f382",
   "metadata": {},
   "outputs": [
    {
     "name": "stdout",
     "output_type": "stream",
     "text": [
      "Calculating iso TPM values\n",
      "Subsetting for polya genes\n"
     ]
    },
    {
     "name": "stderr",
     "output_type": "stream",
     "text": [
      "/Users/fairliereese/Documents/programming/mortazavi_lab/data/paper_rnawg/proc_revisions/utils.py:2087: PerformanceWarning: DataFrame is highly fragmented.  This is usually the result of calling `frame.insert` many times, which has poor performance.  Consider joining all columns at once using pd.concat(axis=1) instead.  To get a de-fragmented frame, use `newframe = frame.copy()`\n",
      "  df[tpm_col] = (df[d]*1000000)/df[total_col]\n",
      "/Users/fairliereese/Documents/programming/mortazavi_lab/data/paper_rnawg/proc_revisions/utils.py:2086: PerformanceWarning: DataFrame is highly fragmented.  This is usually the result of calling `frame.insert` many times, which has poor performance.  Consider joining all columns at once using pd.concat(axis=1) instead.  To get a de-fragmented frame, use `newframe = frame.copy()`\n",
      "  df[total_col] = df[d].sum()\n"
     ]
    },
    {
     "name": "stdout",
     "output_type": "stream",
     "text": [
      "Enforcing minimum TPM\n",
      "Total # isos detected: 153398\n",
      "# isos >= 1 tpm: 142504\n",
      "Applying gene type and novelty subset\n",
      "Averaging over biosample\n",
      "Found 32 total samples\n",
      "Number of isos reported: 139335\n"
     ]
    }
   ],
   "source": [
    "ab_df = pd.read_csv(m_filt_ab, sep='\\t')\n",
    "ab_df, ic_ids = get_tpm_table(ab_df,\n",
    "               how='iso',\n",
    "               species='mouse',\n",
    "               gene_subset=gene_subset,\n",
    "               min_tpm=min_tpm,\n",
    "               groupby='sample',\n",
    "               sample=sample)\n",
    "\n",
    "samp_df = ab_df[[sample]]\n",
    "samp_df = samp_df[samp_df[sample]>=min_tpm]"
   ]
  },
  {
   "cell_type": "code",
   "execution_count": 24,
   "id": "48de8ef9-af9e-48f7-9f64-7b369d07758a",
   "metadata": {},
   "outputs": [],
   "source": [
    "samp_df = samp_df.reset_index().rename({'index':'tid'}, axis=1)\n",
    "samp_df['gid'] = samp_df.tid.str.split('[', expand=True)[0]\n",
    "# samp_df.head()"
   ]
  },
  {
   "cell_type": "code",
   "execution_count": 25,
   "id": "480e9d31-f085-4dc0-ab43-4ab0b9060165",
   "metadata": {},
   "outputs": [],
   "source": [
    "# samp_df.loc[samp_df.gid.duplicated()]\n",
    "# samp_df.loc[samp_df.gid=='ENSMUSG00000045216']"
   ]
  },
  {
   "cell_type": "code",
   "execution_count": 26,
   "id": "32247f1f-2926-4c5c-9d6a-239c61bd15bc",
   "metadata": {},
   "outputs": [
    {
     "data": {
      "text/html": [
       "<div>\n",
       "<style scoped>\n",
       "    .dataframe tbody tr th:only-of-type {\n",
       "        vertical-align: middle;\n",
       "    }\n",
       "\n",
       "    .dataframe tbody tr th {\n",
       "        vertical-align: top;\n",
       "    }\n",
       "\n",
       "    .dataframe thead th {\n",
       "        text-align: right;\n",
       "    }\n",
       "</style>\n",
       "<table border=\"1\" class=\"dataframe\">\n",
       "  <thead>\n",
       "    <tr style=\"text-align: right;\">\n",
       "      <th>biosample</th>\n",
       "      <th>tid</th>\n",
       "      <th>cortex_14d</th>\n",
       "      <th>gid</th>\n",
       "      <th>iso_rank</th>\n",
       "    </tr>\n",
       "  </thead>\n",
       "  <tbody>\n",
       "    <tr>\n",
       "      <th>235</th>\n",
       "      <td>ENSMUSG00000045216[1,1,1]</td>\n",
       "      <td>33.787410</td>\n",
       "      <td>ENSMUSG00000045216</td>\n",
       "      <td>1</td>\n",
       "    </tr>\n",
       "    <tr>\n",
       "      <th>237</th>\n",
       "      <td>ENSMUSG00000045216[3,2,1]</td>\n",
       "      <td>7.166481</td>\n",
       "      <td>ENSMUSG00000045216</td>\n",
       "      <td>2</td>\n",
       "    </tr>\n",
       "    <tr>\n",
       "      <th>236</th>\n",
       "      <td>ENSMUSG00000045216[2,2,2]</td>\n",
       "      <td>4.479051</td>\n",
       "      <td>ENSMUSG00000045216</td>\n",
       "      <td>3</td>\n",
       "    </tr>\n",
       "    <tr>\n",
       "      <th>238</th>\n",
       "      <td>ENSMUSG00000045216[4,2,1]</td>\n",
       "      <td>1.791620</td>\n",
       "      <td>ENSMUSG00000045216</td>\n",
       "      <td>4</td>\n",
       "    </tr>\n",
       "  </tbody>\n",
       "</table>\n",
       "</div>"
      ],
      "text/plain": [
       "biosample                        tid  cortex_14d                 gid  iso_rank\n",
       "235        ENSMUSG00000045216[1,1,1]   33.787410  ENSMUSG00000045216         1\n",
       "237        ENSMUSG00000045216[3,2,1]    7.166481  ENSMUSG00000045216         2\n",
       "236        ENSMUSG00000045216[2,2,2]    4.479051  ENSMUSG00000045216         3\n",
       "238        ENSMUSG00000045216[4,2,1]    1.791620  ENSMUSG00000045216         4"
      ]
     },
     "execution_count": 26,
     "metadata": {},
     "output_type": "execute_result"
    }
   ],
   "source": [
    "## samp_df = samp_df.loc[samp_df.gid.isin(gids)]\n",
    "samp_df = samp_df.sort_values(by=sample, ascending=False)\n",
    "\n",
    "samp_df['iso_rank'] = samp_df.groupby('gid').cumcount()+1\n",
    "samp_df.loc[samp_df.gid=='ENSMUSG00000045216']"
   ]
  },
  {
   "cell_type": "code",
   "execution_count": 27,
   "id": "0c1a2922-b175-4bbe-b3ca-dedace1f1243",
   "metadata": {},
   "outputs": [
    {
     "data": {
      "text/plain": [
       "array([1, 2, 3, '4+'], dtype=object)"
      ]
     },
     "execution_count": 27,
     "metadata": {},
     "output_type": "execute_result"
    }
   ],
   "source": [
    "samp_df.loc[samp_df.iso_rank>=max_n, 'iso_rank'] = col\n",
    "samp_df.iso_rank.unique()"
   ]
  },
  {
   "cell_type": "code",
   "execution_count": 28,
   "id": "6c5561db-c22d-4473-bc27-78abd696fd8f",
   "metadata": {},
   "outputs": [],
   "source": [
    "samp_df['log_tpm'] = np.log2(samp_df[sample])"
   ]
  },
  {
   "cell_type": "code",
   "execution_count": 29,
   "id": "b379f6b5-e717-4171-bb11-41cffa408874",
   "metadata": {
    "tags": []
   },
   "outputs": [
    {
     "data": {
      "image/png": "[encoded data removed]",
      "text/plain": [
       "<Figure size 432x288 with 1 Axes>"
      ]
     },
     "metadata": {
      "needs_background": "light"
     },
     "output_type": "display_data"
    }
   ],
   "source": [
    "ax = sns.boxplot(samp_df, y='log_tpm', x='iso_rank',\n",
    "                 color=c_dict[sample])\n",
    "\n",
    "ax.set(xlabel='Transcript rank',\n",
    "       ylabel='log2(TPM)',\n",
    "       title='Genes w/ one transcript in cortex PND14 F2')\n",
    "\n",
    "ax.spines['right'].set_visible(False)\n",
    "ax.spines['top'].set_visible(False)"
   ]
  },
  {
   "cell_type": "markdown",
   "id": "655ca67a-a38d-47df-b56f-86c722f2ae24",
   "metadata": {},
   "source": [
    "## How highly-expressed are the isoforms that we added by considering the entire sample vs just one library?"
   ]
  },
  {
   "cell_type": "code",
   "execution_count": 30,
   "id": "13029cbd-893e-4ca8-bbba-4105ed3a617e",
   "metadata": {},
   "outputs": [
    {
     "name": "stdout",
     "output_type": "stream",
     "text": [
      "Calculating iso TPM values\n",
      "Subsetting for polya genes\n"
     ]
    },
    {
     "name": "stderr",
     "output_type": "stream",
     "text": [
      "/Users/fairliereese/Documents/programming/mortazavi_lab/data/paper_rnawg/proc_revisions/utils.py:2087: PerformanceWarning: DataFrame is highly fragmented.  This is usually the result of calling `frame.insert` many times, which has poor performance.  Consider joining all columns at once using pd.concat(axis=1) instead.  To get a de-fragmented frame, use `newframe = frame.copy()`\n",
      "  df[tpm_col] = (df[d]*1000000)/df[total_col]\n",
      "/Users/fairliereese/Documents/programming/mortazavi_lab/data/paper_rnawg/proc_revisions/utils.py:2086: PerformanceWarning: DataFrame is highly fragmented.  This is usually the result of calling `frame.insert` many times, which has poor performance.  Consider joining all columns at once using pd.concat(axis=1) instead.  To get a de-fragmented frame, use `newframe = frame.copy()`\n",
      "  df[total_col] = df[d].sum()\n"
     ]
    },
    {
     "name": "stdout",
     "output_type": "stream",
     "text": [
      "Enforcing minimum TPM\n",
      "Total # isos detected: 153398\n",
      "# isos >= 1 tpm: 142504\n",
      "Applying gene type and novelty subset\n",
      "Number of isos reported: 139335\n",
      "Calculating iso TPM values\n",
      "Subsetting for polya genes\n",
      "Enforcing minimum TPM\n",
      "Total # isos detected: 153398\n",
      "# isos >= 1 tpm: 142504\n",
      "Applying gene type and novelty subset\n",
      "Averaging over biosample\n",
      "Found 32 total samples\n",
      "Number of isos reported: 139335\n"
     ]
    }
   ],
   "source": [
    "ab_df = pd.read_csv(m_filt_ab, sep='\\t')\n",
    "ab_df, ic_ids = get_tpm_table(ab_df,\n",
    "               how='iso',\n",
    "                species='mouse',\n",
    "               gene_subset=gene_subset,\n",
    "               min_tpm=min_tpm,\n",
    "               groupby='library')\n",
    "\n",
    "lib_df = ab_df[[dataset]]\n",
    "lib_df = lib_df[lib_df[dataset]>=min_tpm]\n",
    "\n",
    "meta = pd.read_csv(m_lib_meta, sep='\\t')\n",
    "sample = meta.loc[meta.dataset == dataset, 'sample'].values[0]\n",
    "\n",
    "ab_df = pd.read_csv(m_filt_ab, sep='\\t')\n",
    "ab_df, ic_ids = get_tpm_table(ab_df,\n",
    "               how='iso',\n",
    "               species='mouse',\n",
    "               gene_subset=gene_subset,\n",
    "               min_tpm=min_tpm,\n",
    "               groupby='sample',\n",
    "               sample=sample)\n",
    "\n",
    "samp_df = ab_df[[sample]]\n",
    "samp_df = samp_df[samp_df[sample]>=min_tpm]\n",
    "\n",
    "lib_df = lib_df.reset_index().rename({'annot_transcript_id':'tid',\n",
    "                                       dataset: 'tpm'}, axis=1)\n",
    "samp_df = samp_df.reset_index().rename({'index':'tid',\n",
    "                                        sample: 'tpm'}, axis=1)\n",
    "\n",
    "lib_df['source'] = dataset \n",
    "samp_df['source'] = sample\n",
    "\n",
    "# which isoforms were added (ie weren't in the library-level quantification)\n",
    "new_tids = list(set(samp_df.tid.tolist())-set(lib_df.tid.tolist()))\n",
    "samp_df['t_in_lib'] = True\n",
    "samp_df.loc[samp_df.tid.isin(new_tids), 't_in_lib'] = False\n",
    "\n",
    "df = pd.concat([samp_df, lib_df], axis=0)\n",
    "df['log_tpm'] = np.log2(df.tpm)"
   ]
  },
  {
   "cell_type": "code",
   "execution_count": 31,
   "id": "a43bdd79-c35a-441c-bb2a-13ebcb8da964",
   "metadata": {},
   "outputs": [
    {
     "data": {
      "text/plain": [
       "<AxesSubplot:xlabel='source', ylabel='log_tpm'>"
      ]
     },
     "execution_count": 31,
     "metadata": {},
     "output_type": "execute_result"
    },
    {
     "data": {
      "image/png": "[encoded data removed]",
      "text/plain": [
       "<Figure size 432x288 with 1 Axes>"
      ]
     },
     "metadata": {
      "needs_background": "light"
     },
     "output_type": "display_data"
    }
   ],
   "source": [
    "\n",
    "sns.boxplot(df, x='source', hue='t_in_lib', y='log_tpm')"
   ]
  },
  {
   "cell_type": "code",
   "execution_count": 32,
   "id": "2a8651ca-cbc0-488e-a8f1-4764070dcbdf",
   "metadata": {},
   "outputs": [
    {
     "data": {
      "image/png": "[encoded data removed]",
      "text/plain": [
       "<Figure size 720x360 with 2 Axes>"
      ]
     },
     "metadata": {
      "needs_background": "light"
     },
     "output_type": "display_data"
    }
   ],
   "source": [
    "sns.set_context('paper', font_scale=2)\n",
    "mpl.rcParams['font.family'] = 'Arial'\n",
    "mpl.rcParams['pdf.fonttype'] = 42\n",
    "\n",
    "fig, axes = plt.subplots(1, 2, sharex=True, figsize=(10,5), sharey=True)\n",
    "\n",
    "temp = df.loc[df.source == dataset].copy(deep=True)\n",
    "sns.boxplot(temp, x='source', y='log_tpm', ax=axes[0], color=c_dict[sample])\n",
    "\n",
    "temp = df.loc[df.source == sample].copy(deep=True)\n",
    "temp.t_in_lib = temp.t_in_lib.astype('category').cat.reorder_categories([True, False], ordered=True)\n",
    "c_dict_2, order_2 = get_shade_colors(c_dict[sample], [True, False])\n",
    "sns.boxplot(temp, x='source', hue='t_in_lib', y='log_tpm',\n",
    "            palette=c_dict_2, ax=axes[1])\n",
    "\n",
    "axes[0].set(xlabel='Cortex PND14 F1 library')\n",
    "axes[0].set(ylabel='log2(TPM)')\n",
    "\n",
    "axes[1].set(ylabel='')\n",
    "axes[1].set(xlabel='Cortex PND14 sample * condition')\n",
    "\n",
    "plt.sca(axes[0])\n",
    "plt.xticks(range(1), [''])\n",
    "\n",
    "plt.sca(axes[1])\n",
    "plt.xticks(range(1), [''])\n",
    "\n",
    "plt.legend(title='Transcript detected in single library', loc='upper left')\n",
    "\n",
    "for ax in axes: \n",
    "    ax.spines['right'].set_visible(False)\n",
    "    ax.spines['top'].set_visible(False)"
   ]
  },
  {
   "cell_type": "code",
   "execution_count": 33,
   "id": "6165f226-f1b8-4012-aa0e-27c50645825f",
   "metadata": {},
   "outputs": [
    {
     "data": {
      "text/plain": [
       "'#c7b5cf'"
      ]
     },
     "execution_count": 33,
     "metadata": {},
     "output_type": "execute_result"
    }
   ],
   "source": [
    "c_dict[sample]"
   ]
  },
  {
   "cell_type": "code",
   "execution_count": 34,
   "id": "5372c558-ccdf-4967-b5bc-4fa7ad651535",
   "metadata": {},
   "outputs": [],
   "source": [
    "# df['cat'] = np.nan\n",
    "# df.loc[df.source==dataset, 'cat'] = 'Cortex PND14 F1 library'\n",
    "# df.loc[df.new_t == False, 'cat'] = 'Cortex PND14 sample * condition transcripts'\n",
    "# df.loc[df.new_t == False, 'cat'] = 'Cortex PND14 sample * condition added transcripts'"
   ]
  },
  {
   "cell_type": "code",
   "execution_count": 35,
   "id": "f0fe0246-f17d-4570-a403-7f990ba883db",
   "metadata": {},
   "outputs": [],
   "source": [
    "# df.source"
   ]
  },
  {
   "cell_type": "code",
   "execution_count": 36,
   "id": "cf759fec-f019-46af-89a6-f3ccc7124029",
   "metadata": {},
   "outputs": [],
   "source": [
    "# meta.loc[meta.dataset==dataset]"
   ]
  },
  {
   "cell_type": "markdown",
   "id": "d5aaaa9a-9603-4e95-8dae-893e7cc250f1",
   "metadata": {},
   "source": [
    "## How often are the new transcripts added part of the major set?"
   ]
  },
  {
   "cell_type": "code",
   "execution_count": null,
   "id": "c05cafbc-8e86-4096-845a-0e5472851a35",
   "metadata": {},
   "outputs": [],
   "source": []
  },
  {
   "cell_type": "code",
   "execution_count": null,
   "id": "d891924c-0b81-4cc5-a001-d800ecc0a368",
   "metadata": {},
   "outputs": [],
   "source": []
  },
  {
   "cell_type": "code",
   "execution_count": null,
   "id": "29a6027f-0830-43e4-88bb-849b771ae3a4",
   "metadata": {},
   "outputs": [],
   "source": []
  },
  {
   "cell_type": "code",
   "execution_count": null,
   "id": "bb2ffd51-52e9-4bd4-89ad-d72c9f9900d7",
   "metadata": {},
   "outputs": [],
   "source": []
  },
  {
   "cell_type": "code",
   "execution_count": null,
   "id": "f00c3172-76d5-463d-9313-ff9c20bb0503",
   "metadata": {},
   "outputs": [],
   "source": []
  },
  {
   "cell_type": "code",
   "execution_count": null,
   "id": "e579c0b9-8a22-48ef-90fd-8f7845022348",
   "metadata": {},
   "outputs": [],
   "source": []
  },
  {
   "cell_type": "code",
   "execution_count": null,
   "id": "abe15a21-7d77-4b79-afa0-5aac1fadebdf",
   "metadata": {},
   "outputs": [],
   "source": []
  },
  {
   "cell_type": "code",
   "execution_count": null,
   "id": "7625a64b-a822-45f8-ab38-82aaac3d8c1c",
   "metadata": {},
   "outputs": [],
   "source": []
  },
  {
   "cell_type": "code",
   "execution_count": null,
   "id": "9f32f48c-f063-4606-b3ff-0dce9aab6da4",
   "metadata": {},
   "outputs": [],
   "source": []
  },
  {
   "cell_type": "code",
   "execution_count": null,
   "id": "db050bb3-3c40-4978-9e8c-414f5b1225b4",
   "metadata": {},
   "outputs": [],
   "source": []
  },
  {
   "cell_type": "code",
   "execution_count": null,
   "id": "181abb5b-2d72-47a6-a09f-c91da6e13aff",
   "metadata": {},
   "outputs": [],
   "source": []
  },
  {
   "cell_type": "code",
   "execution_count": null,
   "id": "92e510cb-83fc-4712-93fc-d495ebd45561",
   "metadata": {},
   "outputs": [],
   "source": []
  },
  {
   "cell_type": "code",
   "execution_count": null,
   "id": "9aa11992-1be9-4f6b-9f46-667b8c66510c",
   "metadata": {},
   "outputs": [],
   "source": []
  },
  {
   "cell_type": "markdown",
   "id": "50991855-a23d-4acc-a833-de9c4b427a0c",
   "metadata": {},
   "source": [
    "## How often are the new transcripts added part now predominant transcripts?"
   ]
  },
  {
   "cell_type": "code",
   "execution_count": 37,
   "id": "27959082-fed4-4530-9e4b-6e360753eab4",
   "metadata": {},
   "outputs": [
    {
     "name": "stdout",
     "output_type": "stream",
     "text": [
      "Calculating iso TPM values\n",
      "Subsetting for polya genes\n"
     ]
    },
    {
     "name": "stderr",
     "output_type": "stream",
     "text": [
      "/Users/fairliereese/Documents/programming/mortazavi_lab/data/paper_rnawg/proc_revisions/utils.py:2087: PerformanceWarning: DataFrame is highly fragmented.  This is usually the result of calling `frame.insert` many times, which has poor performance.  Consider joining all columns at once using pd.concat(axis=1) instead.  To get a de-fragmented frame, use `newframe = frame.copy()`\n",
      "  df[tpm_col] = (df[d]*1000000)/df[total_col]\n",
      "/Users/fairliereese/Documents/programming/mortazavi_lab/data/paper_rnawg/proc_revisions/utils.py:2086: PerformanceWarning: DataFrame is highly fragmented.  This is usually the result of calling `frame.insert` many times, which has poor performance.  Consider joining all columns at once using pd.concat(axis=1) instead.  To get a de-fragmented frame, use `newframe = frame.copy()`\n",
      "  df[total_col] = df[d].sum()\n"
     ]
    },
    {
     "name": "stdout",
     "output_type": "stream",
     "text": [
      "Enforcing minimum TPM\n",
      "Total # isos detected: 153398\n",
      "# isos >= 1 tpm: 142504\n",
      "Applying gene type and novelty subset\n",
      "Number of isos reported: 139335\n",
      "Calculating iso TPM values\n",
      "Subsetting for polya genes\n",
      "Enforcing minimum TPM\n",
      "Total # isos detected: 153398\n",
      "# isos >= 1 tpm: 142504\n",
      "Applying gene type and novelty subset\n",
      "Averaging over biosample\n",
      "Found 32 total samples\n",
      "Number of isos reported: 139335\n"
     ]
    }
   ],
   "source": [
    "ab_df = pd.read_csv(m_filt_ab, sep='\\t')\n",
    "ab_df, ic_ids = get_tpm_table(ab_df,\n",
    "               how='iso',\n",
    "                species='mouse',\n",
    "               gene_subset=gene_subset,\n",
    "               min_tpm=min_tpm,\n",
    "               groupby='library')\n",
    "\n",
    "lib_df = ab_df[[dataset]]\n",
    "lib_df = lib_df[lib_df[dataset]>=min_tpm]\n",
    "\n",
    "meta = pd.read_csv(m_lib_meta, sep='\\t')\n",
    "sample = meta.loc[meta.dataset == dataset, 'sample'].values[0]\n",
    "\n",
    "ab_df = pd.read_csv(m_filt_ab, sep='\\t')\n",
    "ab_df, ic_ids = get_tpm_table(ab_df,\n",
    "               how='iso',\n",
    "               species='mouse',\n",
    "               gene_subset=gene_subset,\n",
    "               min_tpm=min_tpm,\n",
    "               groupby='sample',\n",
    "               sample=sample)\n",
    "\n",
    "samp_df = ab_df[[sample]]\n",
    "samp_df = samp_df[samp_df[sample]>=min_tpm]\n",
    "\n",
    "lib_df = lib_df.reset_index().rename({'annot_transcript_id':'tid',\n",
    "                                       dataset: 'tpm'}, axis=1)\n",
    "samp_df = samp_df.reset_index().rename({'index':'tid',\n",
    "                                        sample: 'tpm'}, axis=1)\n",
    "\n",
    "lib_df['source'] = dataset \n",
    "samp_df['source'] = sample\n",
    "\n",
    "# which isoforms were added (ie weren't in the library-level quantification)\n",
    "new_tids = list(set(samp_df.tid.tolist())-set(lib_df.tid.tolist()))\n",
    "samp_df['t_in_lib'] = True\n",
    "samp_df.loc[samp_df.tid.isin(new_tids), 't_in_lib'] = False\n",
    "\n",
    "df = pd.concat([samp_df, lib_df], axis=0)\n",
    "df['gid'] = df.tid.str.split('[', expand=True)[0]\n",
    "df['log_tpm'] = np.log2(df.tpm)\n",
    "\n",
    "df = df.sort_values(by='tpm', ascending=False)\n",
    "df['iso_rank'] = df.groupby('gid').cumcount()+1"
   ]
  },
  {
   "cell_type": "code",
   "execution_count": 38,
   "id": "5dfa6c97-9254-4c32-bcfc-0d4c53e907ae",
   "metadata": {},
   "outputs": [],
   "source": [
    "df = df.loc[df.source==sample]"
   ]
  },
  {
   "cell_type": "code",
   "execution_count": 39,
   "id": "b3f90bbf-3e54-4358-870a-33c2d9cd2c97",
   "metadata": {},
   "outputs": [
    {
     "data": {
      "text/html": [
       "<div>\n",
       "<style scoped>\n",
       "    .dataframe tbody tr th:only-of-type {\n",
       "        vertical-align: middle;\n",
       "    }\n",
       "\n",
       "    .dataframe tbody tr th {\n",
       "        vertical-align: top;\n",
       "    }\n",
       "\n",
       "    .dataframe thead th {\n",
       "        text-align: right;\n",
       "    }\n",
       "</style>\n",
       "<table border=\"1\" class=\"dataframe\">\n",
       "  <thead>\n",
       "    <tr style=\"text-align: right;\">\n",
       "      <th></th>\n",
       "      <th>tid</th>\n",
       "      <th>tpm</th>\n",
       "      <th>source</th>\n",
       "      <th>t_in_lib</th>\n",
       "      <th>gid</th>\n",
       "      <th>log_tpm</th>\n",
       "      <th>iso_rank</th>\n",
       "    </tr>\n",
       "  </thead>\n",
       "  <tbody>\n",
       "    <tr>\n",
       "      <th>32846</th>\n",
       "      <td>ENSMUSG00000072235[1,1,1]</td>\n",
       "      <td>7387.936886</td>\n",
       "      <td>cortex_14d</td>\n",
       "      <td>True</td>\n",
       "      <td>ENSMUSG00000072235</td>\n",
       "      <td>12.850956</td>\n",
       "      <td>1</td>\n",
       "    </tr>\n",
       "    <tr>\n",
       "      <th>28902</th>\n",
       "      <td>ENSMUSG00000058672[1,1,1]</td>\n",
       "      <td>6877.168751</td>\n",
       "      <td>cortex_14d</td>\n",
       "      <td>True</td>\n",
       "      <td>ENSMUSG00000058672</td>\n",
       "      <td>12.747599</td>\n",
       "      <td>1</td>\n",
       "    </tr>\n",
       "    <tr>\n",
       "      <th>24988</th>\n",
       "      <td>ENSMUSG00000019505[3,1,1]</td>\n",
       "      <td>5304.408077</td>\n",
       "      <td>cortex_14d</td>\n",
       "      <td>True</td>\n",
       "      <td>ENSMUSG00000019505</td>\n",
       "      <td>12.372976</td>\n",
       "      <td>1</td>\n",
       "    </tr>\n",
       "    <tr>\n",
       "      <th>18235</th>\n",
       "      <td>ENSMUSG00000037852[1,1,1]</td>\n",
       "      <td>5058.501510</td>\n",
       "      <td>cortex_14d</td>\n",
       "      <td>True</td>\n",
       "      <td>ENSMUSG00000037852</td>\n",
       "      <td>12.304494</td>\n",
       "      <td>2</td>\n",
       "    </tr>\n",
       "    <tr>\n",
       "      <th>15070</th>\n",
       "      <td>ENSMUSG00000002985[2,3,2]</td>\n",
       "      <td>4813.191979</td>\n",
       "      <td>cortex_14d</td>\n",
       "      <td>True</td>\n",
       "      <td>ENSMUSG00000002985</td>\n",
       "      <td>12.232778</td>\n",
       "      <td>2</td>\n",
       "    </tr>\n",
       "  </tbody>\n",
       "</table>\n",
       "</div>"
      ],
      "text/plain": [
       "                             tid          tpm      source t_in_lib  \\\n",
       "32846  ENSMUSG00000072235[1,1,1]  7387.936886  cortex_14d     True   \n",
       "28902  ENSMUSG00000058672[1,1,1]  6877.168751  cortex_14d     True   \n",
       "24988  ENSMUSG00000019505[3,1,1]  5304.408077  cortex_14d     True   \n",
       "18235  ENSMUSG00000037852[1,1,1]  5058.501510  cortex_14d     True   \n",
       "15070  ENSMUSG00000002985[2,3,2]  4813.191979  cortex_14d     True   \n",
       "\n",
       "                      gid    log_tpm  iso_rank  \n",
       "32846  ENSMUSG00000072235  12.850956         1  \n",
       "28902  ENSMUSG00000058672  12.747599         1  \n",
       "24988  ENSMUSG00000019505  12.372976         1  \n",
       "18235  ENSMUSG00000037852  12.304494         2  \n",
       "15070  ENSMUSG00000002985  12.232778         2  "
      ]
     },
     "execution_count": 39,
     "metadata": {},
     "output_type": "execute_result"
    }
   ],
   "source": [
    "df.head()"
   ]
  },
  {
   "cell_type": "code",
   "execution_count": 40,
   "id": "b430e115-693f-4ca7-9b43-0a2bd4561940",
   "metadata": {},
   "outputs": [
    {
     "name": "stdout",
     "output_type": "stream",
     "text": [
      "836/40107 2.08% of transcripts detected in cortex_14d that are are not in cortex_14d_f_2 are predominant transcripts\n"
     ]
    }
   ],
   "source": [
    "n_num = len(df.loc[(df.t_in_lib==False)&\\\n",
    "                   (df.iso_rank==1)])\n",
    "n = len(df.index)\n",
    "print(f'{n_num}/{n} {perc(n_num,n):.2f}% of transcripts detected in {sample} that are are not in {dataset} are predominant transcripts')\n"
   ]
  },
  {
   "cell_type": "markdown",
   "id": "f0f2dedb-df45-4d83-860c-054b89e260a6",
   "metadata": {},
   "source": [
    "## Are we usually adding new ICs, TSSs, or TESs?"
   ]
  },
  {
   "cell_type": "code",
   "execution_count": 41,
   "id": "a84cd2c9-7b7a-408e-bf7c-7d81e17f2406",
   "metadata": {},
   "outputs": [
    {
     "name": "stdout",
     "output_type": "stream",
     "text": [
      "Calculating iso TPM values\n",
      "Subsetting for polya genes\n"
     ]
    },
    {
     "name": "stderr",
     "output_type": "stream",
     "text": [
      "/Users/fairliereese/Documents/programming/mortazavi_lab/data/paper_rnawg/proc_revisions/utils.py:2087: PerformanceWarning: DataFrame is highly fragmented.  This is usually the result of calling `frame.insert` many times, which has poor performance.  Consider joining all columns at once using pd.concat(axis=1) instead.  To get a de-fragmented frame, use `newframe = frame.copy()`\n",
      "  df[tpm_col] = (df[d]*1000000)/df[total_col]\n",
      "/Users/fairliereese/Documents/programming/mortazavi_lab/data/paper_rnawg/proc_revisions/utils.py:2086: PerformanceWarning: DataFrame is highly fragmented.  This is usually the result of calling `frame.insert` many times, which has poor performance.  Consider joining all columns at once using pd.concat(axis=1) instead.  To get a de-fragmented frame, use `newframe = frame.copy()`\n",
      "  df[total_col] = df[d].sum()\n"
     ]
    },
    {
     "name": "stdout",
     "output_type": "stream",
     "text": [
      "Enforcing minimum TPM\n",
      "Total # isos detected: 153398\n",
      "# isos >= 1 tpm: 142504\n",
      "Applying gene type and novelty subset\n",
      "Number of isos reported: 139335\n",
      "Calculating iso TPM values\n",
      "Subsetting for polya genes\n",
      "Enforcing minimum TPM\n",
      "Total # isos detected: 153398\n",
      "# isos >= 1 tpm: 142504\n",
      "Applying gene type and novelty subset\n",
      "Averaging over biosample\n",
      "Found 32 total samples\n",
      "Number of isos reported: 139335\n"
     ]
    }
   ],
   "source": [
    "ab_df = pd.read_csv(m_filt_ab, sep='\\t')\n",
    "ab_df, ic_ids = get_tpm_table(ab_df,\n",
    "               how='iso',\n",
    "                species='mouse',\n",
    "               gene_subset=gene_subset,\n",
    "               min_tpm=min_tpm,\n",
    "               groupby='library')\n",
    "\n",
    "lib_df = ab_df[[dataset]]\n",
    "lib_df = lib_df[lib_df[dataset]>=min_tpm]\n",
    "\n",
    "meta = pd.read_csv(m_lib_meta, sep='\\t')\n",
    "sample = meta.loc[meta.dataset == dataset, 'sample'].values[0]\n",
    "\n",
    "ab_df = pd.read_csv(m_filt_ab, sep='\\t')\n",
    "ab_df, ic_ids = get_tpm_table(ab_df,\n",
    "               how='iso',\n",
    "               species='mouse',\n",
    "               gene_subset=gene_subset,\n",
    "               min_tpm=min_tpm,\n",
    "               groupby='sample',\n",
    "               sample=sample)\n",
    "\n",
    "samp_df = ab_df[[sample]]\n",
    "samp_df = samp_df[samp_df[sample]>=min_tpm]\n",
    "\n",
    "lib_df = lib_df.reset_index().rename({'annot_transcript_id':'tid',\n",
    "                                       dataset: 'tpm'}, axis=1)\n",
    "samp_df = samp_df.reset_index().rename({'index':'tid',\n",
    "                                        sample: 'tpm'}, axis=1)\n",
    "\n",
    "lib_df['source'] = dataset \n",
    "samp_df['source'] = sample\n",
    "\n",
    "# which isoforms were added (ie weren't in the library-level quantification)\n",
    "new_tids = list(set(samp_df.tid.tolist())-set(lib_df.tid.tolist()))\n",
    "samp_df['t_in_lib'] = True\n",
    "samp_df.loc[samp_df.tid.isin(new_tids), 't_in_lib'] = False\n",
    "\n",
    "df = pd.concat([samp_df, lib_df], axis=0)\n",
    "df['gid'] = df.tid.str.split('[', expand=True)[0]\n",
    "df['log_tpm'] = np.log2(df.tpm)\n",
    "\n",
    "df = df.sort_values(by='tpm', ascending=False)\n",
    "df['iso_rank'] = df.groupby('gid').cumcount()+1"
   ]
  },
  {
   "cell_type": "code",
   "execution_count": 42,
   "id": "3f81f953-9fb3-42b1-83d0-f5bb64ba171d",
   "metadata": {},
   "outputs": [],
   "source": [
    "df = df.loc[(df.source==sample)&\\\n",
    "            (df.t_in_lib==False)].copy(deep=True)\n",
    "temp = pd.DataFrame()\n",
    "for feat in ['tss', 'tes', 'ic']:\n",
    "    df = add_feat(df, kind=feat, col='tid') \n",
    "    temp2 = df[[feat]].copy(deep=True)\n",
    "    temp2['feat_type'] = feat\n",
    "    temp2.rename({feat: 'feat'}, axis=1, inplace=True)\n",
    "    temp = pd.concat([temp, temp2], axis=0)"
   ]
  },
  {
   "cell_type": "code",
   "execution_count": 43,
   "id": "f6007734-2a0b-4081-9d4b-c709719866ec",
   "metadata": {},
   "outputs": [
    {
     "data": {
      "text/html": [
       "<div>\n",
       "<style scoped>\n",
       "    .dataframe tbody tr th:only-of-type {\n",
       "        vertical-align: middle;\n",
       "    }\n",
       "\n",
       "    .dataframe tbody tr th {\n",
       "        vertical-align: top;\n",
       "    }\n",
       "\n",
       "    .dataframe thead th {\n",
       "        text-align: right;\n",
       "    }\n",
       "</style>\n",
       "<table border=\"1\" class=\"dataframe\">\n",
       "  <thead>\n",
       "    <tr style=\"text-align: right;\">\n",
       "      <th></th>\n",
       "      <th>feat</th>\n",
       "      <th>feat_type</th>\n",
       "    </tr>\n",
       "  </thead>\n",
       "  <tbody>\n",
       "    <tr>\n",
       "      <th>8453</th>\n",
       "      <td>ENSMUSG00000095937_1</td>\n",
       "      <td>tss</td>\n",
       "    </tr>\n",
       "    <tr>\n",
       "      <th>39306</th>\n",
       "      <td>ENSMUSG00000082926_1</td>\n",
       "      <td>tss</td>\n",
       "    </tr>\n",
       "    <tr>\n",
       "      <th>24162</th>\n",
       "      <td>ENSMUSG00000078965_1</td>\n",
       "      <td>tss</td>\n",
       "    </tr>\n",
       "    <tr>\n",
       "      <th>20170</th>\n",
       "      <td>ENSMUSG00000079884_1</td>\n",
       "      <td>tss</td>\n",
       "    </tr>\n",
       "    <tr>\n",
       "      <th>25423</th>\n",
       "      <td>ENSMUSG00000081485_1</td>\n",
       "      <td>tss</td>\n",
       "    </tr>\n",
       "    <tr>\n",
       "      <th>...</th>\n",
       "      <td>...</td>\n",
       "      <td>...</td>\n",
       "    </tr>\n",
       "    <tr>\n",
       "      <th>9027</th>\n",
       "      <td>ENSMUSG00000028859_1</td>\n",
       "      <td>ic</td>\n",
       "    </tr>\n",
       "    <tr>\n",
       "      <th>286</th>\n",
       "      <td>ENSMUSG00000026112_4</td>\n",
       "      <td>ic</td>\n",
       "    </tr>\n",
       "    <tr>\n",
       "      <th>5283</th>\n",
       "      <td>ENSMUSG00000017667_2</td>\n",
       "      <td>ic</td>\n",
       "    </tr>\n",
       "    <tr>\n",
       "      <th>37824</th>\n",
       "      <td>ENSMUSG00000049562_2</td>\n",
       "      <td>ic</td>\n",
       "    </tr>\n",
       "    <tr>\n",
       "      <th>32281</th>\n",
       "      <td>ENSMUSG00000016554_15</td>\n",
       "      <td>ic</td>\n",
       "    </tr>\n",
       "  </tbody>\n",
       "</table>\n",
       "<p>20772 rows × 2 columns</p>\n",
       "</div>"
      ],
      "text/plain": [
       "                        feat feat_type\n",
       "8453    ENSMUSG00000095937_1       tss\n",
       "39306   ENSMUSG00000082926_1       tss\n",
       "24162   ENSMUSG00000078965_1       tss\n",
       "20170   ENSMUSG00000079884_1       tss\n",
       "25423   ENSMUSG00000081485_1       tss\n",
       "...                      ...       ...\n",
       "9027    ENSMUSG00000028859_1        ic\n",
       "286     ENSMUSG00000026112_4        ic\n",
       "5283    ENSMUSG00000017667_2        ic\n",
       "37824   ENSMUSG00000049562_2        ic\n",
       "32281  ENSMUSG00000016554_15        ic\n",
       "\n",
       "[20772 rows x 2 columns]"
      ]
     },
     "execution_count": 43,
     "metadata": {},
     "output_type": "execute_result"
    }
   ],
   "source": [
    "temp"
   ]
  },
  {
   "cell_type": "code",
   "execution_count": 44,
   "id": "e44d49cb-ab5f-4a24-ab9e-958b3fe0c21a",
   "metadata": {},
   "outputs": [],
   "source": [
    "df = temp.groupby('feat_type').nunique().reset_index()"
   ]
  },
  {
   "cell_type": "code",
   "execution_count": 45,
   "id": "e614eee8-8179-432f-849d-6e485cfd68a0",
   "metadata": {},
   "outputs": [],
   "source": [
    "c_dict, order = get_feat_triplet_colors(cats=temp.feat_type.unique().tolist())"
   ]
  },
  {
   "cell_type": "code",
   "execution_count": 46,
   "id": "68a0f04c-a4b4-4ea1-b7c8-039c969b29d9",
   "metadata": {},
   "outputs": [
    {
     "data": {
      "text/html": [
       "<div>\n",
       "<style scoped>\n",
       "    .dataframe tbody tr th:only-of-type {\n",
       "        vertical-align: middle;\n",
       "    }\n",
       "\n",
       "    .dataframe tbody tr th {\n",
       "        vertical-align: top;\n",
       "    }\n",
       "\n",
       "    .dataframe thead th {\n",
       "        text-align: right;\n",
       "    }\n",
       "</style>\n",
       "<table border=\"1\" class=\"dataframe\">\n",
       "  <thead>\n",
       "    <tr style=\"text-align: right;\">\n",
       "      <th></th>\n",
       "      <th>feat_type</th>\n",
       "      <th>feat</th>\n",
       "    </tr>\n",
       "  </thead>\n",
       "  <tbody>\n",
       "    <tr>\n",
       "      <th>0</th>\n",
       "      <td>ic</td>\n",
       "      <td>6598</td>\n",
       "    </tr>\n",
       "    <tr>\n",
       "      <th>1</th>\n",
       "      <td>tes</td>\n",
       "      <td>5773</td>\n",
       "    </tr>\n",
       "    <tr>\n",
       "      <th>2</th>\n",
       "      <td>tss</td>\n",
       "      <td>5586</td>\n",
       "    </tr>\n",
       "  </tbody>\n",
       "</table>\n",
       "</div>"
      ],
      "text/plain": [
       "  feat_type  feat\n",
       "0        ic  6598\n",
       "1       tes  5773\n",
       "2       tss  5586"
      ]
     },
     "execution_count": 46,
     "metadata": {},
     "output_type": "execute_result"
    }
   ],
   "source": [
    "df"
   ]
  },
  {
   "cell_type": "code",
   "execution_count": 47,
   "id": "5ff01fe4-7e9c-45d0-83dd-e488ce1bdf06",
   "metadata": {},
   "outputs": [
    {
     "data": {
      "image/png": "[encoded data removed]",
      "text/plain": [
       "<Figure size 432x288 with 1 Axes>"
      ]
     },
     "metadata": {
      "needs_background": "light"
     },
     "output_type": "display_data"
    }
   ],
   "source": [
    "ax = sns.barplot(data=df, y='feat', x='feat_type', palette=c_dict,\n",
    "                 saturation=1, order=order)\n",
    "ax.spines['top'].set_visible(False)\n",
    "ax.spines['right'].set_visible(False)\n",
    "_ = ax.set(xlabel='', ylabel='# features from transcripts\\nonly detected in sample * condition',\n",
    "       xticklabels=[t.upper() for t in order])"
   ]
  },
  {
   "cell_type": "markdown",
   "id": "82d1e4af-1f5a-420c-8d5d-fb49ebb369fe",
   "metadata": {},
   "source": [
    "## What about individual features uniquely detected, rather than those from the transcirpts?"
   ]
  },
  {
   "cell_type": "code",
   "execution_count": 48,
   "id": "b2ecbfb6-5538-4210-a047-04d7b1428086",
   "metadata": {},
   "outputs": [
    {
     "name": "stdout",
     "output_type": "stream",
     "text": [
      "Calculating tss TPM values\n",
      "Subsetting for polya genes\n"
     ]
    },
    {
     "name": "stderr",
     "output_type": "stream",
     "text": [
      "/Users/fairliereese/Documents/programming/mortazavi_lab/data/paper_rnawg/proc_revisions/utils.py:2087: PerformanceWarning: DataFrame is highly fragmented.  This is usually the result of calling `frame.insert` many times, which has poor performance.  Consider joining all columns at once using pd.concat(axis=1) instead.  To get a de-fragmented frame, use `newframe = frame.copy()`\n",
      "  df[tpm_col] = (df[d]*1000000)/df[total_col]\n",
      "/Users/fairliereese/Documents/programming/mortazavi_lab/data/paper_rnawg/proc_revisions/utils.py:2086: PerformanceWarning: DataFrame is highly fragmented.  This is usually the result of calling `frame.insert` many times, which has poor performance.  Consider joining all columns at once using pd.concat(axis=1) instead.  To get a de-fragmented frame, use `newframe = frame.copy()`\n",
      "  df[total_col] = df[d].sum()\n"
     ]
    },
    {
     "name": "stdout",
     "output_type": "stream",
     "text": [
      "Enforcing minimum TPM\n",
      "Total # tsss detected: 51152\n",
      "# tsss >= 1 tpm: 46899\n",
      "Applying gene type and novelty subset\n",
      "Number of tsss reported: 44087\n",
      "Calculating tss TPM values\n",
      "Subsetting for polya genes\n",
      "Enforcing minimum TPM\n",
      "Total # tsss detected: 51152\n",
      "# tsss >= 1 tpm: 46899\n",
      "Applying gene type and novelty subset\n",
      "Averaging over biosample\n",
      "Found 32 total samples\n",
      "Number of tsss reported: 44087\n",
      "Calculating ic TPM values\n",
      "Subsetting for polya genes\n",
      "Enforcing minimum TPM\n",
      "Total # ics detected: 93689\n",
      "# ics >= 1 tpm: 87225\n",
      "Applying gene type and novelty subset\n",
      "Number of ics reported: 84485\n",
      "Calculating ic TPM values\n",
      "Subsetting for polya genes\n",
      "Enforcing minimum TPM\n",
      "Total # ics detected: 93689\n",
      "# ics >= 1 tpm: 87225\n",
      "Applying gene type and novelty subset\n",
      "Averaging over biosample\n",
      "Found 32 total samples\n",
      "Number of ics reported: 84485\n",
      "Calculating tes TPM values\n",
      "Subsetting for polya genes\n",
      "Enforcing minimum TPM\n",
      "Total # tess detected: 64910\n",
      "# tess >= 1 tpm: 58765\n",
      "Applying gene type and novelty subset\n",
      "Number of tess reported: 55923\n",
      "Calculating tes TPM values\n",
      "Subsetting for polya genes\n",
      "Enforcing minimum TPM\n",
      "Total # tess detected: 64910\n",
      "# tess >= 1 tpm: 58765\n",
      "Applying gene type and novelty subset\n",
      "Averaging over biosample\n",
      "Found 32 total samples\n",
      "Number of tess reported: 55923\n"
     ]
    }
   ],
   "source": [
    "feats = ['tss', 'ic', 'tes']\n",
    "n_novel = []\n",
    "\n",
    "for feat in feats:\n",
    "    ab_df = pd.read_csv(m_filt_ab, sep='\\t')\n",
    "    ab_df, ic_ids = get_tpm_table(ab_df,\n",
    "                   how=feat,\n",
    "                    species='mouse',\n",
    "                   gene_subset=gene_subset,\n",
    "                   min_tpm=min_tpm,\n",
    "                   groupby='library')\n",
    "\n",
    "    lib_df = ab_df[[dataset]]\n",
    "    lib_df = lib_df[lib_df[dataset]>=min_tpm]\n",
    "\n",
    "    meta = pd.read_csv(m_lib_meta, sep='\\t')\n",
    "    sample = meta.loc[meta.dataset == dataset, 'sample'].values[0]\n",
    "\n",
    "    ab_df = pd.read_csv(m_filt_ab, sep='\\t')\n",
    "    ab_df, ic_ids = get_tpm_table(ab_df,\n",
    "                   how=feat,\n",
    "                   species='mouse',\n",
    "                   gene_subset=gene_subset,\n",
    "                   min_tpm=min_tpm,\n",
    "                   groupby='sample',\n",
    "                   sample=sample)\n",
    "\n",
    "    samp_df = ab_df[[sample]]\n",
    "    samp_df = samp_df[samp_df[sample]>=min_tpm]\n",
    "\n",
    "    lib_df = lib_df.reset_index().rename({feat:'id',\n",
    "                                           dataset: 'tpm'}, axis=1)\n",
    "    samp_df = samp_df.reset_index().rename({'index':'id',\n",
    "                                            sample: 'tpm'}, axis=1)\n",
    "\n",
    "    lib_df['source'] = dataset \n",
    "    samp_df['source'] = sample\n",
    "\n",
    "    # which isoforms were added (ie weren't in the library-level quantification)\n",
    "    new_tids = list(set(samp_df['id'].tolist())-set(lib_df['id'].tolist()))\n",
    "    samp_df['t_in_lib'] = True\n",
    "    samp_df.loc[samp_df['id'].isin(new_tids), 't_in_lib'] = False\n",
    "\n",
    "    df = pd.concat([samp_df, lib_df], axis=0)\n",
    "    df['gid'] = df['id'].str.split('_', expand=True)[0]\n",
    "    df['log_tpm'] = np.log2(df.tpm)\n",
    "\n",
    "    df = df.sort_values(by='tpm', ascending=False)\n",
    "    df['iso_rank'] = df.groupby('gid').cumcount()+1\n",
    "    \n",
    "    df = df.loc[(df.source==sample)&\\\n",
    "            (df.t_in_lib==False)].copy(deep=True)\n",
    "    n = len(df.index)\n",
    "    n_novel.append(n)\n",
    "df = pd.DataFrame()\n",
    "df['feat'] = feats\n",
    "df['n_novel'] = n_novel"
   ]
  },
  {
   "cell_type": "code",
   "execution_count": 49,
   "id": "d24418da-c889-4ab3-9790-90dfe0f17a25",
   "metadata": {},
   "outputs": [
    {
     "data": {
      "text/html": [
       "<div>\n",
       "<style scoped>\n",
       "    .dataframe tbody tr th:only-of-type {\n",
       "        vertical-align: middle;\n",
       "    }\n",
       "\n",
       "    .dataframe tbody tr th {\n",
       "        vertical-align: top;\n",
       "    }\n",
       "\n",
       "    .dataframe thead th {\n",
       "        text-align: right;\n",
       "    }\n",
       "</style>\n",
       "<table border=\"1\" class=\"dataframe\">\n",
       "  <thead>\n",
       "    <tr style=\"text-align: right;\">\n",
       "      <th></th>\n",
       "      <th>feat</th>\n",
       "      <th>n_novel</th>\n",
       "    </tr>\n",
       "  </thead>\n",
       "  <tbody>\n",
       "    <tr>\n",
       "      <th>0</th>\n",
       "      <td>tss</td>\n",
       "      <td>2042</td>\n",
       "    </tr>\n",
       "    <tr>\n",
       "      <th>1</th>\n",
       "      <td>ic</td>\n",
       "      <td>4838</td>\n",
       "    </tr>\n",
       "    <tr>\n",
       "      <th>2</th>\n",
       "      <td>tes</td>\n",
       "      <td>2386</td>\n",
       "    </tr>\n",
       "  </tbody>\n",
       "</table>\n",
       "</div>"
      ],
      "text/plain": [
       "  feat  n_novel\n",
       "0  tss     2042\n",
       "1   ic     4838\n",
       "2  tes     2386"
      ]
     },
     "execution_count": 49,
     "metadata": {},
     "output_type": "execute_result"
    }
   ],
   "source": [
    "df"
   ]
  },
  {
   "cell_type": "code",
   "execution_count": 50,
   "id": "ea0054c1-14ad-46de-affd-eb8bc18468ac",
   "metadata": {},
   "outputs": [
    {
     "data": {
      "image/png": "[encoded data removed]",
      "text/plain": [
       "<Figure size 432x288 with 1 Axes>"
      ]
     },
     "metadata": {
      "needs_background": "light"
     },
     "output_type": "display_data"
    }
   ],
   "source": [
    "ax = sns.barplot(data=df, y='n_novel', x='feat', palette=c_dict,\n",
    "                 saturation=1, order=order)\n",
    "ax.spines['top'].set_visible(False)\n",
    "ax.spines['right'].set_visible(False)\n",
    "_ = ax.set(xlabel='', ylabel='# features only detected\\n in sample * condition',\n",
    "       xticklabels=[t.upper() for t in order])"
   ]
  },
  {
   "cell_type": "code",
   "execution_count": null,
   "id": "9893bec9-799e-48a6-a4f7-c8df3ba0ac16",
   "metadata": {},
   "outputs": [],
   "source": []
  },
  {
   "cell_type": "code",
   "execution_count": null,
   "id": "7ee687ef-a815-42aa-914b-d26f65a0532c",
   "metadata": {},
   "outputs": [],
   "source": []
  },
  {
   "cell_type": "code",
   "execution_count": null,
   "id": "781af3c2-adcd-41b9-93f3-a690a32965c7",
   "metadata": {},
   "outputs": [],
   "source": []
  },
  {
   "cell_type": "code",
   "execution_count": null,
   "id": "8dadab48-dc47-4740-866a-d07dcb761fc0",
   "metadata": {},
   "outputs": [],
   "source": []
  },
  {
   "cell_type": "code",
   "execution_count": null,
   "id": "4459fe6d-4b9d-4450-bfe3-d9ec3edad5b9",
   "metadata": {},
   "outputs": [],
   "source": []
  },
  {
   "cell_type": "code",
   "execution_count": null,
   "id": "e8ebe538-a9e6-4486-a57a-cbf867c1d863",
   "metadata": {},
   "outputs": [],
   "source": []
  },
  {
   "cell_type": "code",
   "execution_count": null,
   "id": "f5cb714d-7315-4a4e-b3d8-e2a3bc8ebfa2",
   "metadata": {},
   "outputs": [],
   "source": []
  },
  {
   "cell_type": "code",
   "execution_count": null,
   "id": "92f7a3d4-ea7a-45a7-a8a0-9eaf4fc07a9e",
   "metadata": {},
   "outputs": [],
   "source": []
  },
  {
   "cell_type": "code",
   "execution_count": null,
   "id": "8f085c04-4728-4f1d-9a45-1a672dc213d1",
   "metadata": {},
   "outputs": [],
   "source": []
  }
 ],
 "metadata": {
  "kernelspec": {
   "display_name": "Python 3",
   "language": "python",
   "name": "python3"
  },
  "language_info": {
   "codemirror_mode": {
    "name": "ipython",
    "version": 3
   },
   "file_extension": ".py",
   "mimetype": "text/x-python",
   "name": "python",
   "nbconvert_exporter": "python",
   "pygments_lexer": "ipython3",
   "version": "3.7.12"
  }
 },
 "nbformat": 4,
 "nbformat_minor": 5
}
