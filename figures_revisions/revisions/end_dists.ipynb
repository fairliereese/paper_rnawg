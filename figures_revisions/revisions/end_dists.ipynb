{
 "cells": [
  {
   "cell_type": "code",
   "execution_count": null,
   "id": "4035081f-532b-48a9-bf4f-f41014b2fdb3",
   "metadata": {},
   "outputs": [],
   "source": [
    "# Avg. distance between adjacent PASs (probably within 2kb) for polyA atlas"
   ]
  },
  {
   "cell_type": "code",
   "execution_count": 1,
   "id": "e371f994-8dd8-40d9-a6b6-7dfe2b858d48",
   "metadata": {},
   "outputs": [],
   "source": [
    "import pandas as pd\n",
    "import numpy as np\n",
    "import scipy.stats as st\n",
    "import seaborn as sns\n",
    "import sys\n",
    "import os\n",
    "import gseapy as gp\n",
    "import matplotlib.pyplot as plt\n",
    "import swan_vis as swan\n",
    "import yaml\n",
    "from snakemake.io import expand\n",
    "\n",
    "p = os.path.dirname(os.path.dirname(os.getcwd()))\n",
    "sys.path.append(p)\n",
    "\n",
    "from proc_revisions.utils import *\n",
    "from proc_revisions.plotting import *"
   ]
  },
  {
   "cell_type": "code",
   "execution_count": 2,
   "id": "4406c03b-0ece-484a-a6a2-09563712ff25",
   "metadata": {},
   "outputs": [],
   "source": [
    "od = '../../proc_revisions/'\n",
    "config_file = f'{od}/config.yml'\n",
    "with open(config_file) as f:\n",
    "    config = yaml.safe_load(f)"
   ]
  },
  {
   "cell_type": "code",
   "execution_count": 3,
   "id": "c2304352-6f35-47cb-97fb-6237d56c1fc2",
   "metadata": {},
   "outputs": [],
   "source": [
    "pls_file = od+expand(config['ccre']['bed_format'], species='human', ccre_type='pls')[0]\n",
    "ca_h3_file = od+expand(config['ccre']['bed_format'], species='human', ccre_type='ca_h3k4me3')[0]\n",
    "cage_file = od+expand(config['cage']['merged'], species='human')[0]\n",
    "rampage_file = od+expand(config['rampage']['merged'], species='human')[0]\n",
    "lrgasp_cage_file = od+expand(config['lrgasp_cage']['merged'], species='human')[0]\n",
    "fantom_file = od+expand(config['fantom']['bed'], species='human')[0]\n",
    "\n",
    "pas_atlas_file = od+expand(config['polya_atlas']['bed_formatted'], species='human')[0]\n",
    "pas_file = od+expand(config['pas']['ends_formatted'], species='human', end_mode='tes')[0]\n",
    "\n",
    "filt_ab = od+expand(config['lr']['cerberus']['filt_ab'], species='human')[0]\n",
    "cerberus_h5 = od+expand(config['lr']['cerberus']['ca_triplets'], species='human', obs_col='sample')[0]\n",
    "\n",
    "min_tpm = 1\n",
    "gene_subset = 'polya'"
   ]
  },
  {
   "cell_type": "markdown",
   "id": "75ab7924-5887-452e-85e0-39662cdd8bbd",
   "metadata": {},
   "source": [
    "## How close are pas atlas things and pas-seq to each other?"
   ]
  },
  {
   "cell_type": "code",
   "execution_count": 15,
   "id": "741dc281-c6d4-4d74-915d-2bfb4dc87da9",
   "metadata": {},
   "outputs": [],
   "source": [
    "max_dist = 10000"
   ]
  },
  {
   "cell_type": "code",
   "execution_count": 25,
   "id": "18a3939b-7bca-4c7a-a013-f55cb3ad235c",
   "metadata": {},
   "outputs": [
    {
     "name": "stdout",
     "output_type": "stream",
     "text": [
      "1137216\n",
      "568608\n"
     ]
    },
    {
     "data": {
      "text/plain": [
       "<seaborn.axisgrid.FacetGrid at 0x7fc687a599d0>"
      ]
     },
     "execution_count": 25,
     "metadata": {},
     "output_type": "execute_result"
    },
    {
     "data": {
      "image/png": "[encoded data removed]",
      "text/plain": [
       "<Figure size 360x360 with 1 Axes>"
      ]
     },
     "metadata": {
      "needs_background": "light"
     },
     "output_type": "display_data"
    }
   ],
   "source": [
    "df = pr.read_bed(pas_atlas_file)\n",
    "df2 = pr.read_bed(pas_atlas_file)\n",
    "\n",
    "temp = df.k_nearest(df2, k=2,\n",
    "                    ties=None,\n",
    "                    strandedness='same',\n",
    "                    overlap=True,\n",
    "                    how=None,\n",
    "                    suffix='_b')\n",
    "\n",
    "# get the stuff that isn't the same\n",
    "temp = temp.df\n",
    "print(len(temp.index))\n",
    "temp = temp.loc[temp.Name!=temp.Name_b]\n",
    "print(len(temp.index))\n",
    "\n",
    "# limit to things w/i a certain number of kb\n",
    "temp['abs_dist'] = abs(temp.Distance)\n",
    "temp = temp.loc[temp.abs_dist <= max_dist]\n",
    "len(temp.index)\n",
    "\n",
    "ax = sns.displot(temp, kind='hist', x='abs_dist', binwidth=10)\n",
    "ax.set(xlim=(-10,200))"
   ]
  },
  {
   "cell_type": "code",
   "execution_count": 26,
   "id": "62989825-3df6-47cd-8aa8-3ff14c149e50",
   "metadata": {},
   "outputs": [
    {
     "name": "stdout",
     "output_type": "stream",
     "text": [
      "161127\n",
      "80676\n"
     ]
    },
    {
     "data": {
      "text/plain": [
       "<seaborn.axisgrid.FacetGrid at 0x7fc6b1eca450>"
      ]
     },
     "execution_count": 26,
     "metadata": {},
     "output_type": "execute_result"
    },
    {
     "data": {
      "image/png": "[encoded data removed]",
      "text/plain": [
       "<Figure size 360x360 with 1 Axes>"
      ]
     },
     "metadata": {
      "needs_background": "light"
     },
     "output_type": "display_data"
    }
   ],
   "source": [
    "df = pr.read_bed(pas_file)\n",
    "df2 = pr.read_bed(pas_file)\n",
    "\n",
    "temp = df.k_nearest(df2, k=2,\n",
    "                    ties=None,\n",
    "                    strandedness='same',\n",
    "                    overlap=True,\n",
    "                    how=None,\n",
    "                    suffix='_b')\n",
    "\n",
    "# get the stuff that isn't the same\n",
    "temp = temp.df\n",
    "print(len(temp.index))\n",
    "temp = temp.loc[temp.Name!=temp.Name_b]\n",
    "print(len(temp.index))\n",
    "\n",
    "# limit to things w/i a certain number of kb\n",
    "temp['abs_dist'] = abs(temp.Distance)\n",
    "temp = temp.loc[temp.abs_dist <= max_dist]\n",
    "len(temp.index)\n",
    "\n",
    "ax = sns.displot(temp, kind='hist', x='abs_dist', binwidth=10)\n",
    "ax.set(xlim=(-10,200))"
   ]
  },
  {
   "cell_type": "code",
   "execution_count": null,
   "id": "c55b82b8-4ffe-4acf-ac28-1bbf94526fa4",
   "metadata": {},
   "outputs": [],
   "source": []
  }
 ],
 "metadata": {
  "kernelspec": {
   "display_name": "Python 3",
   "language": "python",
   "name": "python3"
  },
  "language_info": {
   "codemirror_mode": {
    "name": "ipython",
    "version": 3
   },
   "file_extension": ".py",
   "mimetype": "text/x-python",
   "name": "python",
   "nbconvert_exporter": "python",
   "pygments_lexer": "ipython3",
   "version": "3.7.12"
  }
 },
 "nbformat": 4,
 "nbformat_minor": 5
}
