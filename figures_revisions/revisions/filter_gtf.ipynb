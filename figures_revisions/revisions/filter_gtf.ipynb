{
 "cells": [
  {
   "cell_type": "code",
   "execution_count": 1,
   "id": "16908dd9-2902-4e64-96f2-f72f59bc4750",
   "metadata": {},
   "outputs": [],
   "source": [
    "import pandas as pd\n",
    "import numpy as np\n",
    "import scipy.stats as st\n",
    "import seaborn as sns\n",
    "import sys\n",
    "import os\n",
    "import gseapy as gp\n",
    "import matplotlib.pyplot as plt\n",
    "import swan_vis as swan\n",
    "import yaml\n",
    "from snakemake.io import expand\n",
    "\n",
    "p = os.path.dirname(os.path.dirname(os.getcwd()))\n",
    "sys.path.append(p)\n",
    "\n",
    "from proc_revisions.utils import *\n",
    "from proc_revisions.plotting import *\n",
    "from proc_revisions.mane_utils import *"
   ]
  },
  {
   "cell_type": "code",
   "execution_count": 2,
   "id": "f9e8a40d-3725-4172-a000-1e8b9c44345f",
   "metadata": {},
   "outputs": [],
   "source": [
    "od = '../../proc_revisions/'\n",
    "config_file = f'{od}/config.yml'\n",
    "with open(config_file) as f:\n",
    "    config = yaml.safe_load(f)"
   ]
  },
  {
   "cell_type": "code",
   "execution_count": 23,
   "id": "607434d8-1057-45e3-8e0d-3c351d960d83",
   "metadata": {},
   "outputs": [],
   "source": [
    "ab = od+expand(config['lr']['talon']['fusion_fix']['ab'], species='human')[0]\n",
    "filt_ab = od+expand(config['lr']['cerberus']['filt_ab'], species='human')[0]\n",
    "read_annot = od+expand(config['lr']['talon']['full_annot'], species='human')[0]\n",
    "t_metadata = od+expand(config['ref']['cerberus']['new_gtf_t_info'], species='human')[0]\n",
    "gtf = od+expand(config['lr']['cerberus']['gtf'], species='human')[0]\n",
    "lib_meta = od+expand(config['lr']['meta'], species='human')[0]\n",
    "swan_file = od+expand(config['lr']['swan']['sg'], species='human')[0]\n",
    "cerberus_h5 = od+expand(config['lr']['cerberus']['ca_triplets'], species='human', obs_col='sample')[0]\n",
    "cerb_t_metadata = od+expand(config['lr']['cerberus']['gtf_t_info'], species='human')[0]\n",
    "major_isos = od+expand(config['lr']['analysis']['major_isos'], species='human', obs_col='sample')[0]\n",
    "pi_tpm_table = od+expand(config['lr']['mane']['pi_tpm']['triplet'], species='human', obs_col='sample')[0]\n",
    "pp_summary = od+expand(config['lr']['protein_pred']['summary'], species='human')[0]\n",
    "\n",
    "ref_t_metadata = od+expand(config['ref']['new_gtf_t_info'], species='human')[0]\n",
    "ref_g_metadata = od+expand(config['ref']['new_gtf_g_info'], species='human')[0]\n",
    "\n",
    "sr_ab = '../'+config['sr']['ab']\n",
    "\n",
    "\n",
    "ver = 'v40_cerberus'\n",
    "min_tpm = 1\n",
    "gene_subset = 'protein_coding'\n",
    "obs_col = 'sample'\n",
    "go_gene_subset = 'protein_coding'\n",
    "\n",
    "m_ab = od+expand(config['lr']['talon']['fusion_fix']['ab'], species='mouse')[0]\n",
    "m_filt_ab = od+expand(config['lr']['cerberus']['filt_ab'], species='mouse')[0]\n",
    "m_read_annot = od+expand(config['lr']['talon']['full_annot'], species='mouse')[0]\n",
    "m_t_metadata = od+expand(config['ref']['cerberus']['new_gtf_t_info'], species='mouse')[0]\n",
    "m_gtf = od+expand(config['lr']['cerberus']['gtf'], species='mouse')[0]\n",
    "m_lib_meta = od+expand(config['lr']['meta'], species='mouse')[0]\n",
    "m_swan_file = od+expand(config['lr']['swan']['sg'], species='mouse')[0]\n",
    "m_cerberus_h5 = od+expand(config['lr']['cerberus']['ca_triplets'], species='mouse', obs_col='sample')[0]\n",
    "cerb_t_metadata = od+expand(config['lr']['cerberus']['gtf_t_info'], species='mouse')[0]\n",
    "m_major_isos = od+expand(config['lr']['analysis']['major_isos'], species='mouse', obs_col='sample')[0]\n",
    "m_pi_tpm_table = od+expand(config['lr']['mane']['pi_tpm']['triplet'], species='mouse', obs_col='sample')[0]\n",
    "m_pp_summary = od+expand(config['lr']['protein_pred']['summary'], species='mouse')[0]\n",
    "\n",
    "\n",
    "m_ref_t_metadata = od+expand(config['ref']['new_gtf_t_info'], species='mouse')[0]\n",
    "m_ref_g_metadata = od+expand(config['ref']['new_gtf_g_info'], species='mouse')[0]\n",
    "\n",
    "\n",
    "orth_table = '../../proc_revisions/ref/biomart_human_to_mouse.tsv'\n",
    "\n",
    "\n",
    "mouse_ver = 'vM25_cerberus'"
   ]
  },
  {
   "cell_type": "code",
   "execution_count": 27,
   "id": "bd11678e-7e5f-43e4-af3a-25752802e22a",
   "metadata": {},
   "outputs": [],
   "source": [
    "def filt_gtf_on_exp(gtf, filt_ab, species, ofile):\n",
    "    df = pd.read_csv(filt_ab, sep='\\t')\n",
    "    df, tids = get_tpm_table(df, how='iso', groupby='sample', min_tpm=1, gene_subset=None, species=species)\n",
    "    df = pr.read_gtf(gtf, duplicate_attr=True)    \n",
    "    df = df.df    \n",
    "    \n",
    "    print(len(df.index))\n",
    "    df = df.loc[(df.Feature=='gene')|(df.transcript_id.isin(tids))]\n",
    "    print(len(df.index))\n",
    "    \n",
    "    print(len(df.transcript_id.unique().tolist()))   \n",
    "    \n",
    "    df = pr.PyRanges(df)\n",
    "    df.to_gtf(ofile)"
   ]
  },
  {
   "cell_type": "code",
   "execution_count": 31,
   "id": "56e7ec3b-24ca-4286-8a7d-e91244f72d69",
   "metadata": {},
   "outputs": [],
   "source": [
    "# filt_gtf_on_exp(gtf, filt_ab, 'human', 'human_filt.gtf')"
   ]
  },
  {
   "cell_type": "code",
   "execution_count": 30,
   "id": "82353ce1-9dda-49e8-ac0b-85a3852803b7",
   "metadata": {},
   "outputs": [],
   "source": [
    "# filt_gtf_on_exp(m_gtf, m_filt_ab, 'mouse', 'mouse_filt.gtf')"
   ]
  },
  {
   "cell_type": "code",
   "execution_count": 38,
   "id": "350d0f35-8506-48ff-80e8-60c0b6ec98c1",
   "metadata": {},
   "outputs": [
    {
     "name": "stdout",
     "output_type": "stream",
     "text": [
      "Calculating iso TPM values\n"
     ]
    },
    {
     "name": "stderr",
     "output_type": "stream",
     "text": [
      "/Users/fairliereese/Documents/programming/mortazavi_lab/data/paper_rnawg/proc_revisions/utils.py:2110: PerformanceWarning: DataFrame is highly fragmented.  This is usually the result of calling `frame.insert` many times, which has poor performance.  Consider joining all columns at once using pd.concat(axis=1) instead.  To get a de-fragmented frame, use `newframe = frame.copy()`\n",
      "  df[tpm_col] = (df[d]*1000000)/df[total_col]\n",
      "/Users/fairliereese/Documents/programming/mortazavi_lab/data/paper_rnawg/proc_revisions/utils.py:2109: PerformanceWarning: DataFrame is highly fragmented.  This is usually the result of calling `frame.insert` many times, which has poor performance.  Consider joining all columns at once using pd.concat(axis=1) instead.  To get a de-fragmented frame, use `newframe = frame.copy()`\n",
      "  df[total_col] = df[d].sum()\n"
     ]
    },
    {
     "name": "stdout",
     "output_type": "stream",
     "text": [
      "Averaging over biosample\n",
      "Found 32 total samples\n",
      "Number of isos reported: 153398\n"
     ]
    }
   ],
   "source": [
    "df = pd.read_csv(m_filt_ab, sep='\\t')\n",
    "df, tids = get_tpm_table(df, how='iso', groupby='sample', min_tpm=0, gene_subset=None, species='mouse')\n",
    "df.to_csv('filt_ab_tpm_mouse.tsv', sep='\\t')"
   ]
  },
  {
   "cell_type": "code",
   "execution_count": 40,
   "id": "4d0e309e-e09a-496c-b578-a94d217f47be",
   "metadata": {},
   "outputs": [
    {
     "name": "stdout",
     "output_type": "stream",
     "text": [
      "Calculating iso TPM values\n",
      "Averaging over biosample\n",
      "Found 51 total samples\n",
      "Number of isos reported: 236615\n"
     ]
    }
   ],
   "source": [
    "df = pd.read_csv(filt_ab, sep='\\t')\n",
    "df, tids = get_tpm_table(df, how='iso', groupby='sample', min_tpm=0, gene_subset=None, species='human')\n",
    "df.to_csv('filt_ab_tpm_human.tsv', sep='\\t')"
   ]
  },
  {
   "cell_type": "code",
   "execution_count": null,
   "id": "fa14aa2b-a851-4171-a77a-c9905f42fe12",
   "metadata": {},
   "outputs": [],
   "source": []
  }
 ],
 "metadata": {
  "kernelspec": {
   "display_name": "Python 3",
   "language": "python",
   "name": "python3"
  },
  "language_info": {
   "codemirror_mode": {
    "name": "ipython",
    "version": 3
   },
   "file_extension": ".py",
   "mimetype": "text/x-python",
   "name": "python",
   "nbconvert_exporter": "python",
   "pygments_lexer": "ipython3",
   "version": "3.7.12"
  }
 },
 "nbformat": 4,
 "nbformat_minor": 5
}
