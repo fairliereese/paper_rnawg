{
 "cells": [
  {
   "cell_type": "code",
   "execution_count": 1,
   "id": "4d91add3-9d76-40bf-b0f8-cb044b3e09c3",
   "metadata": {},
   "outputs": [],
   "source": [
    "import pandas as pd\n",
    "import numpy as np\n",
    "import scipy.stats as st\n",
    "import seaborn as sns\n",
    "import sys\n",
    "import os\n",
    "import gseapy as gp\n",
    "import matplotlib.pyplot as plt\n",
    "import swan_vis as swan\n",
    "import yaml\n",
    "from snakemake.io import expand\n",
    "import matplotlib as mpl\n",
    "\n",
    "p = os.path.dirname(os.path.dirname(os.getcwd()))\n",
    "sys.path.append(p)\n",
    "\n",
    "from proc_revisions.utils import *\n",
    "from proc_revisions.plotting import *"
   ]
  },
  {
   "cell_type": "code",
   "execution_count": 2,
   "id": "f017fbf8-dca0-4c16-bdc4-f1a4056ad008",
   "metadata": {},
   "outputs": [],
   "source": [
    "od = '../../proc_revisions/'\n",
    "config_file = f'{od}/config.yml'\n",
    "with open(config_file) as f:\n",
    "    config = yaml.safe_load(f)"
   ]
  },
  {
   "cell_type": "code",
   "execution_count": 3,
   "id": "3ee8aac6-5359-4b96-892e-b488f43d2da5",
   "metadata": {},
   "outputs": [],
   "source": [
    "filt_ab = od+expand(config['lr']['cerberus']['filt_ab'], species='human')[0]\n",
    "lib_meta = od+expand(config['lr']['meta'], species='human')[0]\n",
    "cerberus_h5 = od+expand(config['lr']['cerberus']['ca_triplets'], species='human', obs_col='sample')[0]\n",
    "swan_file = od+expand(config['lr']['swan']['sg'], species='human')[0]\n",
    "gene_subset = 'polya'\n",
    "\n",
    "# biosamp_name_map = '../'+expand(config['ref']['biosamp_map'])[0]\n",
    "\n",
    "# cage_meta = '../'+expand(config['cage']['meta'], species='human')[0]\n",
    "# rampage_meta = '../'+expand(config['rampage']['meta'], species='human')[0]\n",
    "\n",
    "min_tpm = 1\n",
    "gene_subset = 'polya'"
   ]
  },
  {
   "cell_type": "code",
   "execution_count": 4,
   "id": "21e1bd03-82b1-4d95-8079-fedb3cd2b855",
   "metadata": {},
   "outputs": [],
   "source": [
    "def filt_unsup_ism(filt_ab, cerberus_h5, wildcards, ofile):\n",
    "    species=wildcards['species']\n",
    "    feat = 'tss'\n",
    "    if species == 'human':\n",
    "        ref_sources = ['v29', 'v40']\n",
    "        support_sources = ['encode_cage', 'fantom_cage', 'encode_rampage', 'gtex', 'pls',\n",
    "                                            'encode_procap', 'lrgasp_cage', 'pol2', 'ca_h3k4me3']\n",
    "    elif species == 'mouse':\n",
    "        ref_sources = ['vM21', 'vM25']\n",
    "        support_sources = ['h3k4me3', 'fantom_cage', 'pls', 'pol2']\n",
    "        \n",
    "    tss_df = get_feat_support(filt_ab,\n",
    "                              cerberus_h5,\n",
    "                              feat,\n",
    "                              ref_sources,\n",
    "                              support_sources,\n",
    "                              min_tpm=0,\n",
    "                              how=feat,\n",
    "                              species=species)\n",
    "    feat = 'tes'\n",
    "    if species == 'human':\n",
    "        support_sources = ['gtex', 'pas', 'polya_atlas']\n",
    "    elif species == 'mouse':\n",
    "        support_sources = ['pas', 'polya_atlas']\n",
    "        \n",
    "    tes_df = get_feat_support(filt_ab,\n",
    "                            cerberus_h5,\n",
    "                            feat,\n",
    "                            ref_sources,\n",
    "                            support_sources,\n",
    "                            min_tpm=0,\n",
    "                            how=feat,\n",
    "                            species=species)\n",
    "\n",
    "    df = pd.read_csv(filt_ab, sep='\\t')\n",
    "    df = add_feat(df, 'annot_transcript_id', 'tss')\n",
    "    df = add_feat(df, 'annot_transcript_id', 'tes')\n",
    "    df = add_feat(df, 'annot_transcript_id', 'ic')\n",
    "    ca = cerberus.read(cerberus_h5)\n",
    "    temp_ic = ca.ic.drop('ic', axis=1).rename({'Name': 'ic'}, axis=1)\n",
    "    df = df.merge(temp_ic, on='ic', how='left')\n",
    "    rm_tids = []\n",
    "    rm_tids += df.loc[df.novelty=='Unspliced'].annot_transcript_id.tolist()\n",
    "    tss_df = tss_df.rename({'Name': 'tss', 'support':'tss_support'}, axis=1)\n",
    "    tes_df = tes_df.rename({'Name': 'tes', 'support':'tes_support'}, axis=1)\n",
    "    df = df.merge(tss_df, how='left', on='tss')\n",
    "    df = df.merge(tes_df, how='left', on='tes')\n",
    "\n",
    "    # unsupported at both\n",
    "    rm_tids += df.loc[(df.novelty=='ISM')&\\\n",
    "                      (df.tss_support=='Novel')&\\\n",
    "                      (df.tes_support=='Novel')].annot_transcript_id.tolist()\n",
    "    # unsupported at tss\n",
    "    rm_tids += df.loc[(df.novelty=='ISM')&\\\n",
    "                    (df.tss_support=='Novel')].annot_transcript_id.tolist()\n",
    "    # unsupported at tes\n",
    "    rm_tids += df.loc[(df.novelty=='ISM')&\\\n",
    "                      (df.tes_support=='Novel')].annot_transcript_id.tolist()\n",
    "    keep_tids = df.loc[~df.annot_transcript_id.isin(rm_tids)].annot_transcript_id.tolist()\n",
    "\n",
    "    # filter the abundance file\n",
    "    df = pd.read_csv(filt_ab, sep='\\t')\n",
    "    df = df.loc[df.annot_transcript_id.isin(keep_tids)]\n",
    "    df.to_csv(ofile, sep='\\t', index=False)"
   ]
  },
  {
   "cell_type": "code",
   "execution_count": 5,
   "id": "3141b025-d502-46ce-8947-65f1cab24faa",
   "metadata": {},
   "outputs": [
    {
     "name": "stdout",
     "output_type": "stream",
     "text": [
      "Calculating tss TPM values\n"
     ]
    },
    {
     "name": "stderr",
     "output_type": "stream",
     "text": [
      "/Users/fairliereese/Documents/programming/mortazavi_lab/data/paper_rnawg/proc_revisions/utils.py:2057: PerformanceWarning: DataFrame is highly fragmented.  This is usually the result of calling `frame.insert` many times, which has poor performance.  Consider joining all columns at once using pd.concat(axis=1) instead.  To get a de-fragmented frame, use `newframe = frame.copy()`\n",
      "  df[tpm_col] = (df[d]*1000000)/df[total_col]\n",
      "/Users/fairliereese/Documents/programming/mortazavi_lab/data/paper_rnawg/proc_revisions/utils.py:2056: PerformanceWarning: DataFrame is highly fragmented.  This is usually the result of calling `frame.insert` many times, which has poor performance.  Consider joining all columns at once using pd.concat(axis=1) instead.  To get a de-fragmented frame, use `newframe = frame.copy()`\n",
      "  df[total_col] = df[d].sum()\n"
     ]
    },
    {
     "name": "stdout",
     "output_type": "stream",
     "text": [
      "Number of tsss reported: 76501\n",
      "154251\n",
      "76501\n",
      "Calculating tes TPM values\n",
      "Number of tess reported: 85348\n",
      "184856\n",
      "85348\n"
     ]
    }
   ],
   "source": [
    "wildcards = {'species': 'human'}\n",
    "filt_unsup_ism(filt_ab, cerberus_h5, wildcards, 'test_out.tsv')"
   ]
  },
  {
   "cell_type": "code",
   "execution_count": 15,
   "id": "e7721cde-2501-49e2-ae15-577c49d22313",
   "metadata": {},
   "outputs": [
    {
     "name": "stdout",
     "output_type": "stream",
     "text": [
      "Calculating tss TPM values\n"
     ]
    },
    {
     "name": "stderr",
     "output_type": "stream",
     "text": [
      "/Users/fairliereese/Documents/programming/mortazavi_lab/data/paper_rnawg/proc_revisions/utils.py:2056: PerformanceWarning: DataFrame is highly fragmented.  This is usually the result of calling `frame.insert` many times, which has poor performance.  Consider joining all columns at once using pd.concat(axis=1) instead.  To get a de-fragmented frame, use `newframe = frame.copy()`\n",
      "  df[tpm_col] = (df[d]*1000000)/df[total_col]\n",
      "/Users/fairliereese/Documents/programming/mortazavi_lab/data/paper_rnawg/proc_revisions/utils.py:2055: PerformanceWarning: DataFrame is highly fragmented.  This is usually the result of calling `frame.insert` many times, which has poor performance.  Consider joining all columns at once using pd.concat(axis=1) instead.  To get a de-fragmented frame, use `newframe = frame.copy()`\n",
      "  df[total_col] = df[d].sum()\n"
     ]
    },
    {
     "name": "stdout",
     "output_type": "stream",
     "text": [
      "Enforcing minimum TPM\n",
      "Total # tsss detected: 76501\n",
      "# tsss >= 1 tpm: 67354\n",
      "Number of tsss reported: 67354\n",
      "154251\n",
      "67354\n"
     ]
    }
   ],
   "source": [
    "feat = 'tss'\n",
    "ref_sources = ['v29', 'v40']\n",
    "support_sources = ['encode_cage', 'fantom_cage', 'encode_rampage', 'gtex', 'pls',\n",
    "                                    'encode_procap', 'lrgasp_cage', 'pol2', 'ca_h3k4me3']\n",
    "\n",
    "tss_df = get_feat_support(filt_ab,\n",
    "                          cerberus_h5, \n",
    "                          feat, \n",
    "                          ref_sources,\n",
    "                          support_sources,\n",
    "                          min_tpm=min_tpm,\n",
    "                          how=feat)\n"
   ]
  },
  {
   "cell_type": "code",
   "execution_count": 16,
   "id": "c359f71b-8457-40c3-97f5-fed693430ebb",
   "metadata": {},
   "outputs": [
    {
     "name": "stdout",
     "output_type": "stream",
     "text": [
      "Calculating tes TPM values\n",
      "Enforcing minimum TPM\n",
      "Total # tess detected: 85348\n",
      "# tess >= 1 tpm: 74074\n",
      "Number of tess reported: 74074\n",
      "184856\n",
      "74074\n"
     ]
    }
   ],
   "source": [
    "feat = 'tes'\n",
    "ref_sources = ['v29', 'v40']\n",
    "support_sources = ['gtex', 'pas', 'polya_atlas']\n",
    "\n",
    "tes_df = get_feat_support(filt_ab,\n",
    "                          cerberus_h5, \n",
    "                          feat, \n",
    "                          ref_sources,\n",
    "                          support_sources,\n",
    "                          min_tpm=min_tpm,\n",
    "                          how=feat)"
   ]
  },
  {
   "cell_type": "code",
   "execution_count": null,
   "id": "89895444-1630-4246-bb8c-c0a1368629de",
   "metadata": {},
   "outputs": [],
   "source": []
  },
  {
   "cell_type": "code",
   "execution_count": 25,
   "id": "1ca4285b-af96-470c-b7f0-8676d818d4ee",
   "metadata": {},
   "outputs": [
    {
     "name": "stdout",
     "output_type": "stream",
     "text": [
      "236662\n"
     ]
    },
    {
     "data": {
      "text/html": [
       "<div>\n",
       "<style scoped>\n",
       "    .dataframe tbody tr th:only-of-type {\n",
       "        vertical-align: middle;\n",
       "    }\n",
       "\n",
       "    .dataframe tbody tr th {\n",
       "        vertical-align: top;\n",
       "    }\n",
       "\n",
       "    .dataframe thead th {\n",
       "        text-align: right;\n",
       "    }\n",
       "</style>\n",
       "<table border=\"1\" class=\"dataframe\">\n",
       "  <thead>\n",
       "    <tr style=\"text-align: right;\">\n",
       "      <th></th>\n",
       "      <th>gene_ID</th>\n",
       "      <th>transcript_ID</th>\n",
       "      <th>annot_gene_id</th>\n",
       "      <th>annot_transcript_id</th>\n",
       "      <th>annot_gene_name</th>\n",
       "      <th>annot_transcript_name</th>\n",
       "      <th>n_exons</th>\n",
       "      <th>length</th>\n",
       "      <th>gene_novelty</th>\n",
       "      <th>transcript_novelty</th>\n",
       "      <th>...</th>\n",
       "      <th>hl60_m1_24hr_1_1</th>\n",
       "      <th>k562_2_1</th>\n",
       "      <th>pgp1_endo_1_1</th>\n",
       "      <th>h1_de_1_1</th>\n",
       "      <th>pgp1_astro_1_2</th>\n",
       "      <th>hl60_1_2</th>\n",
       "      <th>psoas_muscle_2_1</th>\n",
       "      <th>tss</th>\n",
       "      <th>tes</th>\n",
       "      <th>ic</th>\n",
       "    </tr>\n",
       "  </thead>\n",
       "  <tbody>\n",
       "    <tr>\n",
       "      <th>0</th>\n",
       "      <td>57105</td>\n",
       "      <td>202958</td>\n",
       "      <td>ENSG00000000003.14</td>\n",
       "      <td>ENSG00000000003[1,1,1]</td>\n",
       "      <td>TSPAN6</td>\n",
       "      <td>TSPAN6[1,1,1]</td>\n",
       "      <td>8.0</td>\n",
       "      <td>2206.0</td>\n",
       "      <td>Known</td>\n",
       "      <td>Known</td>\n",
       "      <td>...</td>\n",
       "      <td>0</td>\n",
       "      <td>0</td>\n",
       "      <td>0</td>\n",
       "      <td>5</td>\n",
       "      <td>0</td>\n",
       "      <td>0</td>\n",
       "      <td>0</td>\n",
       "      <td>ENSG00000000003_1</td>\n",
       "      <td>ENSG00000000003_1</td>\n",
       "      <td>ENSG00000000003_1</td>\n",
       "    </tr>\n",
       "    <tr>\n",
       "      <th>1</th>\n",
       "      <td>57105</td>\n",
       "      <td>202958,202958</td>\n",
       "      <td>ENSG00000000003.14</td>\n",
       "      <td>ENSG00000000003[1,1,5]</td>\n",
       "      <td>TSPAN6</td>\n",
       "      <td>TSPAN6[1,1,5]</td>\n",
       "      <td>8.0</td>\n",
       "      <td>2206.0</td>\n",
       "      <td>Known</td>\n",
       "      <td>Known</td>\n",
       "      <td>...</td>\n",
       "      <td>0</td>\n",
       "      <td>0</td>\n",
       "      <td>13</td>\n",
       "      <td>31</td>\n",
       "      <td>6</td>\n",
       "      <td>0</td>\n",
       "      <td>0</td>\n",
       "      <td>ENSG00000000003_1</td>\n",
       "      <td>ENSG00000000003_5</td>\n",
       "      <td>ENSG00000000003_1</td>\n",
       "    </tr>\n",
       "    <tr>\n",
       "      <th>2</th>\n",
       "      <td>57105</td>\n",
       "      <td>202958,202958</td>\n",
       "      <td>ENSG00000000003.14</td>\n",
       "      <td>ENSG00000000003[1,1,6]</td>\n",
       "      <td>TSPAN6</td>\n",
       "      <td>TSPAN6[1,1,6]</td>\n",
       "      <td>8.0</td>\n",
       "      <td>2206.0</td>\n",
       "      <td>Known</td>\n",
       "      <td>Known</td>\n",
       "      <td>...</td>\n",
       "      <td>0</td>\n",
       "      <td>0</td>\n",
       "      <td>0</td>\n",
       "      <td>1</td>\n",
       "      <td>0</td>\n",
       "      <td>0</td>\n",
       "      <td>0</td>\n",
       "      <td>ENSG00000000003_1</td>\n",
       "      <td>ENSG00000000003_6</td>\n",
       "      <td>ENSG00000000003_1</td>\n",
       "    </tr>\n",
       "    <tr>\n",
       "      <th>3</th>\n",
       "      <td>57105</td>\n",
       "      <td>202958</td>\n",
       "      <td>ENSG00000000003.14</td>\n",
       "      <td>ENSG00000000003[1,1,7]</td>\n",
       "      <td>TSPAN6</td>\n",
       "      <td>TSPAN6[1,1,7]</td>\n",
       "      <td>8.0</td>\n",
       "      <td>2206.0</td>\n",
       "      <td>Known</td>\n",
       "      <td>Known</td>\n",
       "      <td>...</td>\n",
       "      <td>0</td>\n",
       "      <td>0</td>\n",
       "      <td>32</td>\n",
       "      <td>72</td>\n",
       "      <td>15</td>\n",
       "      <td>0</td>\n",
       "      <td>2</td>\n",
       "      <td>ENSG00000000003_1</td>\n",
       "      <td>ENSG00000000003_7</td>\n",
       "      <td>ENSG00000000003_1</td>\n",
       "    </tr>\n",
       "    <tr>\n",
       "      <th>4</th>\n",
       "      <td>57105</td>\n",
       "      <td>202958</td>\n",
       "      <td>ENSG00000000003.14</td>\n",
       "      <td>ENSG00000000003[1,1,8]</td>\n",
       "      <td>TSPAN6</td>\n",
       "      <td>TSPAN6[1,1,8]</td>\n",
       "      <td>8.0</td>\n",
       "      <td>2206.0</td>\n",
       "      <td>Known</td>\n",
       "      <td>Known</td>\n",
       "      <td>...</td>\n",
       "      <td>0</td>\n",
       "      <td>1</td>\n",
       "      <td>31</td>\n",
       "      <td>31</td>\n",
       "      <td>12</td>\n",
       "      <td>0</td>\n",
       "      <td>1</td>\n",
       "      <td>ENSG00000000003_1</td>\n",
       "      <td>ENSG00000000003_8</td>\n",
       "      <td>ENSG00000000003_1</td>\n",
       "    </tr>\n",
       "  </tbody>\n",
       "</table>\n",
       "<p>5 rows × 152 columns</p>\n",
       "</div>"
      ],
      "text/plain": [
       "   gene_ID  transcript_ID       annot_gene_id     annot_transcript_id  \\\n",
       "0    57105         202958  ENSG00000000003.14  ENSG00000000003[1,1,1]   \n",
       "1    57105  202958,202958  ENSG00000000003.14  ENSG00000000003[1,1,5]   \n",
       "2    57105  202958,202958  ENSG00000000003.14  ENSG00000000003[1,1,6]   \n",
       "3    57105         202958  ENSG00000000003.14  ENSG00000000003[1,1,7]   \n",
       "4    57105         202958  ENSG00000000003.14  ENSG00000000003[1,1,8]   \n",
       "\n",
       "  annot_gene_name annot_transcript_name  n_exons  length gene_novelty  \\\n",
       "0          TSPAN6         TSPAN6[1,1,1]      8.0  2206.0        Known   \n",
       "1          TSPAN6         TSPAN6[1,1,5]      8.0  2206.0        Known   \n",
       "2          TSPAN6         TSPAN6[1,1,6]      8.0  2206.0        Known   \n",
       "3          TSPAN6         TSPAN6[1,1,7]      8.0  2206.0        Known   \n",
       "4          TSPAN6         TSPAN6[1,1,8]      8.0  2206.0        Known   \n",
       "\n",
       "  transcript_novelty  ... hl60_m1_24hr_1_1  k562_2_1  pgp1_endo_1_1  \\\n",
       "0              Known  ...                0         0              0   \n",
       "1              Known  ...                0         0             13   \n",
       "2              Known  ...                0         0              0   \n",
       "3              Known  ...                0         0             32   \n",
       "4              Known  ...                0         1             31   \n",
       "\n",
       "   h1_de_1_1  pgp1_astro_1_2  hl60_1_2  psoas_muscle_2_1                tss  \\\n",
       "0          5               0         0                 0  ENSG00000000003_1   \n",
       "1         31               6         0                 0  ENSG00000000003_1   \n",
       "2          1               0         0                 0  ENSG00000000003_1   \n",
       "3         72              15         0                 2  ENSG00000000003_1   \n",
       "4         31              12         0                 1  ENSG00000000003_1   \n",
       "\n",
       "                 tes                 ic  \n",
       "0  ENSG00000000003_1  ENSG00000000003_1  \n",
       "1  ENSG00000000003_5  ENSG00000000003_1  \n",
       "2  ENSG00000000003_6  ENSG00000000003_1  \n",
       "3  ENSG00000000003_7  ENSG00000000003_1  \n",
       "4  ENSG00000000003_8  ENSG00000000003_1  \n",
       "\n",
       "[5 rows x 152 columns]"
      ]
     },
     "execution_count": 25,
     "metadata": {},
     "output_type": "execute_result"
    }
   ],
   "source": [
    "df = pd.read_csv(filt_ab, sep='\\t')\n",
    "print(len(df.index))\n",
    "df = add_feat(df, 'annot_transcript_id', 'tss')\n",
    "df = add_feat(df, 'annot_transcript_id', 'tes')\n",
    "df = add_feat(df, 'annot_transcript_id', 'ic')\n",
    "\n",
    "df.head()"
   ]
  },
  {
   "cell_type": "code",
   "execution_count": 27,
   "id": "0f41a71e-e80d-42ea-a31a-4d14e0432dfb",
   "metadata": {},
   "outputs": [],
   "source": [
    "ca = cerberus.read(cerberus_h5)"
   ]
  },
  {
   "cell_type": "code",
   "execution_count": 33,
   "id": "566c531d-9719-4f87-80ae-1824db9c1b58",
   "metadata": {},
   "outputs": [
    {
     "data": {
      "text/html": [
       "<div>\n",
       "<style scoped>\n",
       "    .dataframe tbody tr th:only-of-type {\n",
       "        vertical-align: middle;\n",
       "    }\n",
       "\n",
       "    .dataframe tbody tr th {\n",
       "        vertical-align: top;\n",
       "    }\n",
       "\n",
       "    .dataframe thead th {\n",
       "        text-align: right;\n",
       "    }\n",
       "</style>\n",
       "<table border=\"1\" class=\"dataframe\">\n",
       "  <thead>\n",
       "    <tr style=\"text-align: right;\">\n",
       "      <th></th>\n",
       "      <th>Chromosome</th>\n",
       "      <th>Strand</th>\n",
       "      <th>Coordinates</th>\n",
       "      <th>Name</th>\n",
       "      <th>source</th>\n",
       "      <th>novelty</th>\n",
       "      <th>gene_id</th>\n",
       "      <th>ic</th>\n",
       "    </tr>\n",
       "  </thead>\n",
       "  <tbody>\n",
       "    <tr>\n",
       "      <th>0</th>\n",
       "      <td>chr1</td>\n",
       "      <td>+</td>\n",
       "      <td>-</td>\n",
       "      <td>ENSG00000004487_18</td>\n",
       "      <td>v40,v29,lapa</td>\n",
       "      <td>Known</td>\n",
       "      <td>ENSG00000004487</td>\n",
       "      <td>18</td>\n",
       "    </tr>\n",
       "    <tr>\n",
       "      <th>1</th>\n",
       "      <td>chr1</td>\n",
       "      <td>+</td>\n",
       "      <td>-</td>\n",
       "      <td>ENSG00000033122_5</td>\n",
       "      <td>v40,v29,lapa</td>\n",
       "      <td>Known</td>\n",
       "      <td>ENSG00000033122</td>\n",
       "      <td>5</td>\n",
       "    </tr>\n",
       "    <tr>\n",
       "      <th>2</th>\n",
       "      <td>chr1</td>\n",
       "      <td>+</td>\n",
       "      <td>-</td>\n",
       "      <td>ENSG00000049246_6</td>\n",
       "      <td>v40,v29,lapa</td>\n",
       "      <td>Known</td>\n",
       "      <td>ENSG00000049246</td>\n",
       "      <td>6</td>\n",
       "    </tr>\n",
       "    <tr>\n",
       "      <th>3</th>\n",
       "      <td>chr1</td>\n",
       "      <td>+</td>\n",
       "      <td>-</td>\n",
       "      <td>ENSG00000077157_8</td>\n",
       "      <td>v40,v29,lapa</td>\n",
       "      <td>Known</td>\n",
       "      <td>ENSG00000077157</td>\n",
       "      <td>8</td>\n",
       "    </tr>\n",
       "    <tr>\n",
       "      <th>4</th>\n",
       "      <td>chr1</td>\n",
       "      <td>+</td>\n",
       "      <td>-</td>\n",
       "      <td>ENSG00000099260_3</td>\n",
       "      <td>v40,v29,lapa</td>\n",
       "      <td>Known</td>\n",
       "      <td>ENSG00000099260</td>\n",
       "      <td>3</td>\n",
       "    </tr>\n",
       "  </tbody>\n",
       "</table>\n",
       "</div>"
      ],
      "text/plain": [
       "  Chromosome Strand Coordinates                Name        source novelty  \\\n",
       "0       chr1      +           -  ENSG00000004487_18  v40,v29,lapa   Known   \n",
       "1       chr1      +           -   ENSG00000033122_5  v40,v29,lapa   Known   \n",
       "2       chr1      +           -   ENSG00000049246_6  v40,v29,lapa   Known   \n",
       "3       chr1      +           -   ENSG00000077157_8  v40,v29,lapa   Known   \n",
       "4       chr1      +           -   ENSG00000099260_3  v40,v29,lapa   Known   \n",
       "\n",
       "           gene_id  ic  \n",
       "0  ENSG00000004487  18  \n",
       "1  ENSG00000033122   5  \n",
       "2  ENSG00000049246   6  \n",
       "3  ENSG00000077157   8  \n",
       "4  ENSG00000099260   3  "
      ]
     },
     "execution_count": 33,
     "metadata": {},
     "output_type": "execute_result"
    }
   ],
   "source": [
    "ca.ic.head()\n"
   ]
  },
  {
   "cell_type": "code",
   "execution_count": 31,
   "id": "8dac96d3-3301-4c46-b90b-2ed621fb7bc6",
   "metadata": {},
   "outputs": [
    {
     "name": "stdout",
     "output_type": "stream",
     "text": [
      "236662\n"
     ]
    }
   ],
   "source": [
    "temp_ic = ca.ic.drop('ic', axis=1).rename({'Name': 'ic'}, axis=1)\n",
    "df = df.merge(temp_ic, on='ic', how='left')\n",
    "print(len(df.index))"
   ]
  },
  {
   "cell_type": "code",
   "execution_count": 36,
   "id": "76a366d9-e25c-472c-ae38-0f0a34de29e9",
   "metadata": {},
   "outputs": [
    {
     "name": "stdout",
     "output_type": "stream",
     "text": [
      "3369\n"
     ]
    }
   ],
   "source": [
    "rm_tids = []\n",
    "rm_tids += df.loc[df.novelty=='Unspliced'].annot_transcript_id.tolist()\n",
    "print(len(rm_tids))\n"
   ]
  },
  {
   "cell_type": "code",
   "execution_count": 39,
   "id": "a423774b-945f-4373-bdaa-498d0b2fb132",
   "metadata": {},
   "outputs": [
    {
     "data": {
      "text/html": [
       "<div>\n",
       "<style scoped>\n",
       "    .dataframe tbody tr th:only-of-type {\n",
       "        vertical-align: middle;\n",
       "    }\n",
       "\n",
       "    .dataframe tbody tr th {\n",
       "        vertical-align: top;\n",
       "    }\n",
       "\n",
       "    .dataframe thead th {\n",
       "        text-align: right;\n",
       "    }\n",
       "</style>\n",
       "<table border=\"1\" class=\"dataframe\">\n",
       "  <thead>\n",
       "    <tr style=\"text-align: right;\">\n",
       "      <th></th>\n",
       "      <th>tes</th>\n",
       "      <th>tes_support</th>\n",
       "    </tr>\n",
       "  </thead>\n",
       "  <tbody>\n",
       "    <tr>\n",
       "      <th>0</th>\n",
       "      <td>ENSG00000000460_1</td>\n",
       "      <td>Known</td>\n",
       "    </tr>\n",
       "    <tr>\n",
       "      <th>1</th>\n",
       "      <td>ENSG00000000460_2</td>\n",
       "      <td>Known</td>\n",
       "    </tr>\n",
       "    <tr>\n",
       "      <th>2</th>\n",
       "      <td>ENSG00000000460_3</td>\n",
       "      <td>Known</td>\n",
       "    </tr>\n",
       "    <tr>\n",
       "      <th>3</th>\n",
       "      <td>ENSG00000000460_6</td>\n",
       "      <td>Supported</td>\n",
       "    </tr>\n",
       "    <tr>\n",
       "      <th>4</th>\n",
       "      <td>ENSG00000000971_1</td>\n",
       "      <td>Known</td>\n",
       "    </tr>\n",
       "  </tbody>\n",
       "</table>\n",
       "</div>"
      ],
      "text/plain": [
       "                 tes tes_support\n",
       "0  ENSG00000000460_1       Known\n",
       "1  ENSG00000000460_2       Known\n",
       "2  ENSG00000000460_3       Known\n",
       "3  ENSG00000000460_6   Supported\n",
       "4  ENSG00000000971_1       Known"
      ]
     },
     "execution_count": 39,
     "metadata": {},
     "output_type": "execute_result"
    }
   ],
   "source": [
    "tss_df = tss_df.rename({'Name': 'tss', 'support':'tss_support'}, axis=1)\n",
    "tes_df = tes_df.rename({'Name': 'tes', 'support':'tes_support'}, axis=1)\n",
    "tes_df.head()"
   ]
  },
  {
   "cell_type": "code",
   "execution_count": 43,
   "id": "fc872539-585e-4f08-b3c1-914b0f119c28",
   "metadata": {},
   "outputs": [
    {
     "data": {
      "text/plain": [
       "array(['Known', 'Supported', 'Novel'], dtype=object)"
      ]
     },
     "execution_count": 43,
     "metadata": {},
     "output_type": "execute_result"
    }
   ],
   "source": [
    "tss_df.tss_support.unique()"
   ]
  },
  {
   "cell_type": "code",
   "execution_count": 41,
   "id": "615eee81-f039-4853-b594-b97476e1f18f",
   "metadata": {},
   "outputs": [
    {
     "data": {
      "text/plain": [
       "236662"
      ]
     },
     "execution_count": 41,
     "metadata": {},
     "output_type": "execute_result"
    }
   ],
   "source": [
    "df = df.merge(tss_df, how='left', on='tss')\n",
    "len(df.index)"
   ]
  },
  {
   "cell_type": "code",
   "execution_count": 42,
   "id": "c90c8d67-ad42-4277-9955-9b64a425a202",
   "metadata": {},
   "outputs": [
    {
     "data": {
      "text/plain": [
       "236662"
      ]
     },
     "execution_count": 42,
     "metadata": {},
     "output_type": "execute_result"
    }
   ],
   "source": [
    "df = df.merge(tes_df, how='left', on='tes')\n",
    "len(df.index)"
   ]
  },
  {
   "cell_type": "code",
   "execution_count": 45,
   "id": "363c105a-390f-4419-9b55-c43de7d60810",
   "metadata": {},
   "outputs": [
    {
     "name": "stdout",
     "output_type": "stream",
     "text": [
      "3474\n"
     ]
    }
   ],
   "source": [
    "# unsupported at both\n",
    "rm_tids += df.loc[(df.novelty=='ISM')&\\\n",
    "                  (df.tss_support=='Novel')&\\\n",
    "                  (df.tes_support=='Novel')].annot_transcript_id.tolist()\n",
    "print(len(rm_tids))"
   ]
  },
  {
   "cell_type": "code",
   "execution_count": 46,
   "id": "09fd6b64-c4c4-459c-80b0-76f16db1bbf8",
   "metadata": {},
   "outputs": [
    {
     "name": "stdout",
     "output_type": "stream",
     "text": [
      "7119\n"
     ]
    }
   ],
   "source": [
    "# unsupported at tss\n",
    "rm_tids += df.loc[(df.novelty=='ISM')&\\\n",
    "                  (df.tss_support=='Novel')].annot_transcript_id.tolist()\n",
    "print(len(rm_tids))"
   ]
  },
  {
   "cell_type": "code",
   "execution_count": 47,
   "id": "92238ff5-d1d8-4d87-91f6-650340521717",
   "metadata": {},
   "outputs": [
    {
     "name": "stdout",
     "output_type": "stream",
     "text": [
      "7993\n"
     ]
    }
   ],
   "source": [
    "# unsupported at tes\n",
    "rm_tids += df.loc[(df.novelty=='ISM')&\\\n",
    "                  (df.tes_support=='Novel')].annot_transcript_id.tolist()\n",
    "print(len(rm_tids))"
   ]
  },
  {
   "cell_type": "code",
   "execution_count": 49,
   "id": "e40af295-2223-48b9-bc2c-0d8078227f24",
   "metadata": {},
   "outputs": [
    {
     "data": {
      "text/plain": [
       "228879"
      ]
     },
     "execution_count": 49,
     "metadata": {},
     "output_type": "execute_result"
    }
   ],
   "source": [
    "keep_tids = df.loc[~df.annot_transcript_id.isin(rm_tids)].annot_transcript_id.tolist()\n",
    "len(keep_tids)"
   ]
  },
  {
   "cell_type": "code",
   "execution_count": 51,
   "id": "9fc7cf42-a8f9-405e-a0af-ccb752f9765e",
   "metadata": {},
   "outputs": [],
   "source": [
    "# filter the abundance file\n",
    "df = pd.read_csv(filt_ab, sep='\\t')\n",
    "df = df.loc[df.annot_transcript_id.isin(keep_tids)]\n",
    "# df.to_csv(ofile, sep='\\t', index=False)"
   ]
  },
  {
   "cell_type": "code",
   "execution_count": 52,
   "id": "b326fda3-a0e2-466b-97c7-5ad3e3d9ba83",
   "metadata": {},
   "outputs": [
    {
     "data": {
      "text/html": [
       "<div>\n",
       "<style scoped>\n",
       "    .dataframe tbody tr th:only-of-type {\n",
       "        vertical-align: middle;\n",
       "    }\n",
       "\n",
       "    .dataframe tbody tr th {\n",
       "        vertical-align: top;\n",
       "    }\n",
       "\n",
       "    .dataframe thead th {\n",
       "        text-align: right;\n",
       "    }\n",
       "</style>\n",
       "<table border=\"1\" class=\"dataframe\">\n",
       "  <thead>\n",
       "    <tr style=\"text-align: right;\">\n",
       "      <th></th>\n",
       "      <th>gene_ID</th>\n",
       "      <th>transcript_ID</th>\n",
       "      <th>annot_gene_id</th>\n",
       "      <th>annot_transcript_id</th>\n",
       "      <th>annot_gene_name</th>\n",
       "      <th>annot_transcript_name</th>\n",
       "      <th>n_exons</th>\n",
       "      <th>length</th>\n",
       "      <th>gene_novelty</th>\n",
       "      <th>transcript_novelty</th>\n",
       "      <th>...</th>\n",
       "      <th>aorta_2_1</th>\n",
       "      <th>brodmann_area_46_4_1</th>\n",
       "      <th>mucosa_of_descending_colon_1_1</th>\n",
       "      <th>hl60_m1_24hr_1_1</th>\n",
       "      <th>k562_2_1</th>\n",
       "      <th>pgp1_endo_1_1</th>\n",
       "      <th>h1_de_1_1</th>\n",
       "      <th>pgp1_astro_1_2</th>\n",
       "      <th>hl60_1_2</th>\n",
       "      <th>psoas_muscle_2_1</th>\n",
       "    </tr>\n",
       "  </thead>\n",
       "  <tbody>\n",
       "    <tr>\n",
       "      <th>0</th>\n",
       "      <td>57105</td>\n",
       "      <td>202958</td>\n",
       "      <td>ENSG00000000003.14</td>\n",
       "      <td>ENSG00000000003[1,1,1]</td>\n",
       "      <td>TSPAN6</td>\n",
       "      <td>TSPAN6[1,1,1]</td>\n",
       "      <td>8.0</td>\n",
       "      <td>2206.0</td>\n",
       "      <td>Known</td>\n",
       "      <td>Known</td>\n",
       "      <td>...</td>\n",
       "      <td>0</td>\n",
       "      <td>0</td>\n",
       "      <td>0</td>\n",
       "      <td>0</td>\n",
       "      <td>0</td>\n",
       "      <td>0</td>\n",
       "      <td>5</td>\n",
       "      <td>0</td>\n",
       "      <td>0</td>\n",
       "      <td>0</td>\n",
       "    </tr>\n",
       "    <tr>\n",
       "      <th>1</th>\n",
       "      <td>57105</td>\n",
       "      <td>202958,202958</td>\n",
       "      <td>ENSG00000000003.14</td>\n",
       "      <td>ENSG00000000003[1,1,5]</td>\n",
       "      <td>TSPAN6</td>\n",
       "      <td>TSPAN6[1,1,5]</td>\n",
       "      <td>8.0</td>\n",
       "      <td>2206.0</td>\n",
       "      <td>Known</td>\n",
       "      <td>Known</td>\n",
       "      <td>...</td>\n",
       "      <td>1</td>\n",
       "      <td>2</td>\n",
       "      <td>36</td>\n",
       "      <td>0</td>\n",
       "      <td>0</td>\n",
       "      <td>13</td>\n",
       "      <td>31</td>\n",
       "      <td>6</td>\n",
       "      <td>0</td>\n",
       "      <td>0</td>\n",
       "    </tr>\n",
       "    <tr>\n",
       "      <th>2</th>\n",
       "      <td>57105</td>\n",
       "      <td>202958,202958</td>\n",
       "      <td>ENSG00000000003.14</td>\n",
       "      <td>ENSG00000000003[1,1,6]</td>\n",
       "      <td>TSPAN6</td>\n",
       "      <td>TSPAN6[1,1,6]</td>\n",
       "      <td>8.0</td>\n",
       "      <td>2206.0</td>\n",
       "      <td>Known</td>\n",
       "      <td>Known</td>\n",
       "      <td>...</td>\n",
       "      <td>0</td>\n",
       "      <td>0</td>\n",
       "      <td>1</td>\n",
       "      <td>0</td>\n",
       "      <td>0</td>\n",
       "      <td>0</td>\n",
       "      <td>1</td>\n",
       "      <td>0</td>\n",
       "      <td>0</td>\n",
       "      <td>0</td>\n",
       "    </tr>\n",
       "    <tr>\n",
       "      <th>3</th>\n",
       "      <td>57105</td>\n",
       "      <td>202958</td>\n",
       "      <td>ENSG00000000003.14</td>\n",
       "      <td>ENSG00000000003[1,1,7]</td>\n",
       "      <td>TSPAN6</td>\n",
       "      <td>TSPAN6[1,1,7]</td>\n",
       "      <td>8.0</td>\n",
       "      <td>2206.0</td>\n",
       "      <td>Known</td>\n",
       "      <td>Known</td>\n",
       "      <td>...</td>\n",
       "      <td>4</td>\n",
       "      <td>4</td>\n",
       "      <td>60</td>\n",
       "      <td>0</td>\n",
       "      <td>0</td>\n",
       "      <td>32</td>\n",
       "      <td>72</td>\n",
       "      <td>15</td>\n",
       "      <td>0</td>\n",
       "      <td>2</td>\n",
       "    </tr>\n",
       "    <tr>\n",
       "      <th>4</th>\n",
       "      <td>57105</td>\n",
       "      <td>202958</td>\n",
       "      <td>ENSG00000000003.14</td>\n",
       "      <td>ENSG00000000003[1,1,8]</td>\n",
       "      <td>TSPAN6</td>\n",
       "      <td>TSPAN6[1,1,8]</td>\n",
       "      <td>8.0</td>\n",
       "      <td>2206.0</td>\n",
       "      <td>Known</td>\n",
       "      <td>Known</td>\n",
       "      <td>...</td>\n",
       "      <td>2</td>\n",
       "      <td>4</td>\n",
       "      <td>89</td>\n",
       "      <td>0</td>\n",
       "      <td>1</td>\n",
       "      <td>31</td>\n",
       "      <td>31</td>\n",
       "      <td>12</td>\n",
       "      <td>0</td>\n",
       "      <td>1</td>\n",
       "    </tr>\n",
       "  </tbody>\n",
       "</table>\n",
       "<p>5 rows × 149 columns</p>\n",
       "</div>"
      ],
      "text/plain": [
       "   gene_ID  transcript_ID       annot_gene_id     annot_transcript_id  \\\n",
       "0    57105         202958  ENSG00000000003.14  ENSG00000000003[1,1,1]   \n",
       "1    57105  202958,202958  ENSG00000000003.14  ENSG00000000003[1,1,5]   \n",
       "2    57105  202958,202958  ENSG00000000003.14  ENSG00000000003[1,1,6]   \n",
       "3    57105         202958  ENSG00000000003.14  ENSG00000000003[1,1,7]   \n",
       "4    57105         202958  ENSG00000000003.14  ENSG00000000003[1,1,8]   \n",
       "\n",
       "  annot_gene_name annot_transcript_name  n_exons  length gene_novelty  \\\n",
       "0          TSPAN6         TSPAN6[1,1,1]      8.0  2206.0        Known   \n",
       "1          TSPAN6         TSPAN6[1,1,5]      8.0  2206.0        Known   \n",
       "2          TSPAN6         TSPAN6[1,1,6]      8.0  2206.0        Known   \n",
       "3          TSPAN6         TSPAN6[1,1,7]      8.0  2206.0        Known   \n",
       "4          TSPAN6         TSPAN6[1,1,8]      8.0  2206.0        Known   \n",
       "\n",
       "  transcript_novelty  ... aorta_2_1  brodmann_area_46_4_1  \\\n",
       "0              Known  ...         0                     0   \n",
       "1              Known  ...         1                     2   \n",
       "2              Known  ...         0                     0   \n",
       "3              Known  ...         4                     4   \n",
       "4              Known  ...         2                     4   \n",
       "\n",
       "   mucosa_of_descending_colon_1_1  hl60_m1_24hr_1_1  k562_2_1  pgp1_endo_1_1  \\\n",
       "0                               0                 0         0              0   \n",
       "1                              36                 0         0             13   \n",
       "2                               1                 0         0              0   \n",
       "3                              60                 0         0             32   \n",
       "4                              89                 0         1             31   \n",
       "\n",
       "   h1_de_1_1  pgp1_astro_1_2  hl60_1_2  psoas_muscle_2_1  \n",
       "0          5               0         0                 0  \n",
       "1         31               6         0                 0  \n",
       "2          1               0         0                 0  \n",
       "3         72              15         0                 2  \n",
       "4         31              12         0                 1  \n",
       "\n",
       "[5 rows x 149 columns]"
      ]
     },
     "execution_count": 52,
     "metadata": {},
     "output_type": "execute_result"
    }
   ],
   "source": [
    "df.head()"
   ]
  },
  {
   "cell_type": "code",
   "execution_count": 53,
   "id": "46cd7936-4112-4fb1-bd8a-27d535c134b9",
   "metadata": {},
   "outputs": [
    {
     "name": "stdout",
     "output_type": "stream",
     "text": [
      "228879\n"
     ]
    }
   ],
   "source": [
    "print(len(df.index))"
   ]
  },
  {
   "cell_type": "code",
   "execution_count": null,
   "id": "63335dd0-6bab-4581-bfe7-1f151e738d51",
   "metadata": {},
   "outputs": [],
   "source": []
  }
 ],
 "metadata": {
  "kernelspec": {
   "display_name": "Python 3",
   "language": "python",
   "name": "python3"
  },
  "language_info": {
   "codemirror_mode": {
    "name": "ipython",
    "version": 3
   },
   "file_extension": ".py",
   "mimetype": "text/x-python",
   "name": "python",
   "nbconvert_exporter": "python",
   "pygments_lexer": "ipython3",
   "version": "3.7.12"
  }
 },
 "nbformat": 4,
 "nbformat_minor": 5
}
