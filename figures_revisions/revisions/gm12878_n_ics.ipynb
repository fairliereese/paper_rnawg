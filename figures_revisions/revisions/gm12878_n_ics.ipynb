{
 "cells": [
  {
   "cell_type": "code",
   "execution_count": 1,
   "id": "b76bab4c-9b25-497e-a3bc-0c3cc84f3fe1",
   "metadata": {},
   "outputs": [],
   "source": [
    "import pandas as pd\n",
    "import numpy as np\n",
    "import scipy.stats as st\n",
    "import seaborn as sns\n",
    "import sys\n",
    "import os\n",
    "# import gseapy as gp\n",
    "import matplotlib.pyplot as plt\n",
    "import swan_vis as swan\n",
    "import yaml\n",
    "from snakemake.io import expand\n",
    "import cerberus\n",
    "\n",
    "p = os.path.dirname(os.path.dirname(os.getcwd()))\n",
    "sys.path.append(p)\n",
    "\n",
    "from proc_revisions.utils import *\n",
    "from proc_revisions.plotting import *\n"
   ]
  },
  {
   "cell_type": "code",
   "execution_count": 2,
   "id": "9de1d1f9-349b-4497-a04e-39f4dd9cad66",
   "metadata": {},
   "outputs": [],
   "source": [
    "od = '../../proc_revisions/'\n",
    "config_file = f'{od}/config.yml'\n",
    "with open(config_file) as f:\n",
    "    config = yaml.safe_load(f)"
   ]
  },
  {
   "cell_type": "code",
   "execution_count": 46,
   "id": "108e6ea2-a12a-4370-9982-ec9ec07fefae",
   "metadata": {},
   "outputs": [],
   "source": [
    "ab = od+expand(config['lr']['talon']['fusion_fix']['ab'], species='human')[0]\n",
    "filt_ab = od+expand(config['lr']['cerberus']['filt_ab'], species='human')[0]\n",
    "read_annot = od+expand(config['lr']['talon']['full_annot'], species='human')[0]\n",
    "t_metadata = od+expand(config['ref']['cerberus']['new_gtf_t_info'], species='human')[0]\n",
    "lib_meta = od+expand(config['lr']['meta'], species='human')[0]\n",
    "swan_file = od+expand(config['lr']['swan']['sg'], species='human')[0]\n",
    "cerberus_h5 = od+expand(config['lr']['cerberus']['ca_triplets'], species='human', obs_col='sample')[0]\n",
    "cerb_t_metadata = od+expand(config['lr']['cerberus']['gtf_t_info'], species='human')[0]\n",
    "major_isos = od+expand(config['lr']['analysis']['major_isos'], species='human', obs_col='sample')[0]\n",
    "pi_tpm_table = od+expand(config['lr']['mane']['pi_tpm']['triplet'], species='human', obs_col='sample')[0]\n",
    "pp_summary = od+expand(config['lr']['protein_pred']['summary'], species='human')[0]\n",
    "human_mouse_sect_cons = '../fig5/human_mouse_sect_cons.tsv'\n",
    "\n",
    "\n",
    "ref_t_metadata = od+expand(config['ref']['new_gtf_t_info'], species='human')[0]\n",
    "ref_g_metadata = od+expand(config['ref']['new_gtf_g_info'], species='human')[0]\n",
    "\n",
    "m_lib_meta = od+expand(config['lr']['meta'], species='mouse')[0]\n",
    "\n",
    "ver = 'v40_cerberus'\n",
    "min_tpm = 1\n",
    "gene_subset = 'protein_coding'\n",
    "obs_col = 'sample'\n",
    "go_gene_subset = 'protein_coding'\n",
    "min_perc = 80"
   ]
  },
  {
   "cell_type": "markdown",
   "id": "c34792a9-e588-4074-837f-88a22d2b9d70",
   "metadata": {},
   "source": [
    "## How many transcript isoforms do we detect (filtered) from each GM12878 sample?"
   ]
  },
  {
   "cell_type": "code",
   "execution_count": 47,
   "id": "e8589dac-fe7f-44cc-b411-cd2cbf75773e",
   "metadata": {},
   "outputs": [
    {
     "name": "stdout",
     "output_type": "stream",
     "text": [
      "Calculating iso TPM values\n",
      "Subsetting for protein_coding genes\n"
     ]
    },
    {
     "name": "stderr",
     "output_type": "stream",
     "text": [
      "/Users/fairliereese/Documents/programming/mortazavi_lab/data/paper_rnawg/proc_revisions/utils.py:2110: PerformanceWarning: DataFrame is highly fragmented.  This is usually the result of calling `frame.insert` many times, which has poor performance.  Consider joining all columns at once using pd.concat(axis=1) instead.  To get a de-fragmented frame, use `newframe = frame.copy()`\n",
      "  df[tpm_col] = (df[d]*1000000)/df[total_col]\n",
      "/Users/fairliereese/Documents/programming/mortazavi_lab/data/paper_rnawg/proc_revisions/utils.py:2109: PerformanceWarning: DataFrame is highly fragmented.  This is usually the result of calling `frame.insert` many times, which has poor performance.  Consider joining all columns at once using pd.concat(axis=1) instead.  To get a de-fragmented frame, use `newframe = frame.copy()`\n",
      "  df[total_col] = df[d].sum()\n"
     ]
    },
    {
     "name": "stdout",
     "output_type": "stream",
     "text": [
      "Enforcing minimum TPM\n",
      "Total # isos detected: 236615\n",
      "# isos >= 1 tpm: 213476\n",
      "Applying gene type and novelty subset\n",
      "Number of isos reported: 191325\n"
     ]
    }
   ],
   "source": [
    "df = pd.read_csv(filt_ab, sep='\\t')\n",
    "df, tids = get_tpm_table(df,\n",
    "               how='iso',\n",
    "               min_tpm=min_tpm,\n",
    "               gene_subset=gene_subset)"
   ]
  },
  {
   "cell_type": "code",
   "execution_count": 48,
   "id": "ea05b6c8-3a95-457f-a1a1-efe77a5eca98",
   "metadata": {},
   "outputs": [],
   "source": [
    "# limit to gm libraries\n",
    "df = df[[c for c in df.columns if 'gm12878' in c]]\n",
    "df = df.transpose()\n",
    "\n",
    "# get # isoforms\n",
    "df['n_things'] = (df>min_tpm).sum(axis=1)\n",
    "df.reset_index(inplace=True)\n",
    "df.rename({'index':'library'}, axis=1, inplace=True)"
   ]
  },
  {
   "cell_type": "code",
   "execution_count": 49,
   "id": "f4c5ccba-6ddc-4278-a0f0-9b3e8dd5ca0f",
   "metadata": {},
   "outputs": [
    {
     "data": {
      "image/png": "[encoded data removed]",
      "text/plain": [
       "<Figure size 216x288 with 1 Axes>"
      ]
     },
     "metadata": {
      "needs_background": "light"
     },
     "output_type": "display_data"
    }
   ],
   "source": [
    "sns.set_context('paper', font_scale=1.8)\n",
    "mpl.rcParams['font.family'] = 'Arial'\n",
    "mpl.rcParams['pdf.fonttype'] = 42\n",
    "plt.figure(figsize=(3,4))\n",
    "c_dict, order = get_biosample_colors()\n",
    "c = c_dict['gm12878']\n",
    "\n",
    "ax = sns.barplot(df, y='n_things', x='library', color=c, saturation=1)\n",
    "ax.tick_params(axis=\"x\", rotation=90)\n",
    "ylabel = '# isoforms'\n",
    "ax.set(ylabel=ylabel)\n",
    "ax.spines['right'].set_visible(False)\n",
    "ax.spines['top'].set_visible(False)"
   ]
  },
  {
   "cell_type": "code",
   "execution_count": 50,
   "id": "a1069aa0-71f4-4183-b131-bc4942981dda",
   "metadata": {},
   "outputs": [
    {
     "data": {
      "image/png": "[encoded data removed]",
      "text/plain": [
       "<Figure size 288x288 with 1 Axes>"
      ]
     },
     "metadata": {
      "needs_background": "light"
     },
     "output_type": "display_data"
    }
   ],
   "source": [
    "# compare to number of reads \n",
    "meta = pd.read_csv(lib_meta, sep='\\t')\n",
    "meta = meta[['dataset', 'reads_post_talon']]\n",
    "df = df.merge(meta, how='left', left_on='library', right_on='dataset')\n",
    "df.head()\n",
    "\n",
    "\n",
    "sns.set_context('paper', font_scale=1.8)\n",
    "mpl.rcParams['font.family'] = 'Arial'\n",
    "mpl.rcParams['pdf.fonttype'] = 42\n",
    "plt.figure(figsize=(4,4))\n",
    "ax = sns.scatterplot(df, y='reads_post_talon', x='n_things', s=40, color=c)\n",
    "xlabel = '# isoforms'\n",
    "ylabel = '# reads post-TALON'\n",
    "ax.set(ylabel=ylabel, xlabel=xlabel)\n",
    "ax.spines['right'].set_visible(False)\n",
    "ax.spines['top'].set_visible(False)"
   ]
  },
  {
   "cell_type": "markdown",
   "id": "aa031331-9055-435a-b1ce-013359417de1",
   "metadata": {},
   "source": [
    "## What about ICs?"
   ]
  },
  {
   "cell_type": "code",
   "execution_count": 51,
   "id": "39d05444-984b-4424-8448-aa92dfb92274",
   "metadata": {},
   "outputs": [
    {
     "name": "stdout",
     "output_type": "stream",
     "text": [
      "Calculating ic TPM values\n",
      "Subsetting for protein_coding genes\n"
     ]
    },
    {
     "name": "stderr",
     "output_type": "stream",
     "text": [
      "/Users/fairliereese/Documents/programming/mortazavi_lab/data/paper_rnawg/proc_revisions/utils.py:2110: PerformanceWarning: DataFrame is highly fragmented.  This is usually the result of calling `frame.insert` many times, which has poor performance.  Consider joining all columns at once using pd.concat(axis=1) instead.  To get a de-fragmented frame, use `newframe = frame.copy()`\n",
      "  df[tpm_col] = (df[d]*1000000)/df[total_col]\n",
      "/Users/fairliereese/Documents/programming/mortazavi_lab/data/paper_rnawg/proc_revisions/utils.py:2109: PerformanceWarning: DataFrame is highly fragmented.  This is usually the result of calling `frame.insert` many times, which has poor performance.  Consider joining all columns at once using pd.concat(axis=1) instead.  To get a de-fragmented frame, use `newframe = frame.copy()`\n",
      "  df[total_col] = df[d].sum()\n"
     ]
    },
    {
     "name": "stdout",
     "output_type": "stream",
     "text": [
      "Enforcing minimum TPM\n",
      "Total # ics detected: 145392\n",
      "# ics >= 1 tpm: 131409\n",
      "Applying gene type and novelty subset\n",
      "Number of ics reported: 113956\n"
     ]
    }
   ],
   "source": [
    "df = pd.read_csv(filt_ab, sep='\\t')\n",
    "df, tids = get_tpm_table(df,\n",
    "               how='ic',\n",
    "               min_tpm=min_tpm,\n",
    "               gene_subset=gene_subset)"
   ]
  },
  {
   "cell_type": "code",
   "execution_count": 52,
   "id": "0eb94681-fe2d-4e30-bf7c-af107f2e8684",
   "metadata": {},
   "outputs": [],
   "source": [
    "# limit to gm libraries\n",
    "df = df[[c for c in df.columns if 'gm12878' in c]]\n",
    "df = df.transpose()\n",
    "\n",
    "# get # isoforms\n",
    "df['n_things'] = (df>min_tpm).sum(axis=1)\n",
    "df.reset_index(inplace=True)\n",
    "df.rename({'index':'library'}, axis=1, inplace=True)"
   ]
  },
  {
   "cell_type": "code",
   "execution_count": 53,
   "id": "46eeaae3-e7dc-4200-9c30-5e49352b6366",
   "metadata": {},
   "outputs": [
    {
     "data": {
      "image/png": "[encoded data removed]",
      "text/plain": [
       "<Figure size 216x288 with 1 Axes>"
      ]
     },
     "metadata": {
      "needs_background": "light"
     },
     "output_type": "display_data"
    }
   ],
   "source": [
    "sns.set_context('paper', font_scale=1.8)\n",
    "mpl.rcParams['font.family'] = 'Arial'\n",
    "mpl.rcParams['pdf.fonttype'] = 42\n",
    "plt.figure(figsize=(3,4))\n",
    "c_dict, order = get_biosample_colors()\n",
    "c = c_dict['gm12878']\n",
    "\n",
    "ax = sns.barplot(df, y='n_things', x='library', color=c, saturation=1)\n",
    "ax.tick_params(axis=\"x\", rotation=90)\n",
    "ylabel = '# intron chains'\n",
    "ax.set(ylabel=ylabel)\n",
    "ax.spines['right'].set_visible(False)\n",
    "ax.spines['top'].set_visible(False)"
   ]
  },
  {
   "cell_type": "code",
   "execution_count": 54,
   "id": "abc1341f-2752-4b39-9133-05ed7d385d8c",
   "metadata": {},
   "outputs": [
    {
     "data": {
      "image/png": "[encoded data removed]",
      "text/plain": [
       "<Figure size 288x288 with 1 Axes>"
      ]
     },
     "metadata": {
      "needs_background": "light"
     },
     "output_type": "display_data"
    }
   ],
   "source": [
    "# compare to number of reads \n",
    "meta = pd.read_csv(lib_meta, sep='\\t')\n",
    "meta = meta[['dataset', 'reads_post_talon']]\n",
    "df = df.merge(meta, how='left', left_on='library', right_on='dataset')\n",
    "df.head()\n",
    "\n",
    "\n",
    "sns.set_context('paper', font_scale=1.8)\n",
    "mpl.rcParams['font.family'] = 'Arial'\n",
    "mpl.rcParams['pdf.fonttype'] = 42\n",
    "plt.figure(figsize=(4,4))\n",
    "ax = sns.scatterplot(df, y='reads_post_talon', x='n_things', s=40, color=c)\n",
    "xlabel = '# intron chains'\n",
    "ylabel = '# reads post-TALON'\n",
    "ax.set(ylabel=ylabel, xlabel=xlabel)\n",
    "ax.spines['right'].set_visible(False)\n",
    "ax.spines['top'].set_visible(False)"
   ]
  },
  {
   "cell_type": "code",
   "execution_count": null,
   "id": "f3ddc2c6-3f9d-4fb6-bbda-fd65e497cc3e",
   "metadata": {},
   "outputs": [],
   "source": []
  },
  {
   "cell_type": "code",
   "execution_count": null,
   "id": "c2693b24-3b28-480a-bad4-82ec7080a15a",
   "metadata": {},
   "outputs": [],
   "source": []
  }
 ],
 "metadata": {
  "kernelspec": {
   "display_name": "Python 3",
   "language": "python",
   "name": "python3"
  },
  "language_info": {
   "codemirror_mode": {
    "name": "ipython",
    "version": 3
   },
   "file_extension": ".py",
   "mimetype": "text/x-python",
   "name": "python",
   "nbconvert_exporter": "python",
   "pygments_lexer": "ipython3",
   "version": "3.7.12"
  }
 },
 "nbformat": 4,
 "nbformat_minor": 5
}
