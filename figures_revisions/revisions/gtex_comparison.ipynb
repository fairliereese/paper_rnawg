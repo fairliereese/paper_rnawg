{
 "cells": [
  {
   "cell_type": "code",
   "execution_count": 2,
   "id": "548fb05a-afa5-4797-a0ff-71d6ff760dc8",
   "metadata": {},
   "outputs": [],
   "source": [
    "import pandas as pd\n",
    "import numpy as np\n",
    "import scipy.stats as st\n",
    "import seaborn as sns\n",
    "import sys\n",
    "import os\n",
    "import gseapy as gp\n",
    "import matplotlib.pyplot as plt\n",
    "import swan_vis as swan\n",
    "import yaml\n",
    "from snakemake.io import expand\n",
    "\n",
    "p = os.path.dirname(os.path.dirname(os.getcwd()))\n",
    "sys.path.append(p)\n",
    "\n",
    "from proc_revisions.utils import *\n",
    "from proc_revisions.plotting import *"
   ]
  },
  {
   "cell_type": "code",
   "execution_count": 3,
   "id": "51bb6ddf-130d-49b2-9283-d862843f8dcb",
   "metadata": {},
   "outputs": [],
   "source": [
    "od = '../../proc_revisions/'\n",
    "config_file = f'{od}/config.yml'\n",
    "with open(config_file) as f:\n",
    "    config = yaml.safe_load(f)"
   ]
  },
  {
   "cell_type": "code",
   "execution_count": 4,
   "id": "6609904b-605a-47e3-ad1c-a6a8a9944a0a",
   "metadata": {},
   "outputs": [],
   "source": [
    "ab = od+expand(config['lr']['talon']['fusion_fix']['ab'], species='human')[0]\n",
    "unfilt_ab = od+expand(config['lr']['cerberus']['ab'], species='human')[0] \n",
    "filt_ab = od+expand(config['lr']['cerberus']['filt_ab'], species='human')[0]\n",
    "read_annot = od+expand(config['lr']['talon']['full_annot'], species='human')[0]\n",
    "t_metadata = od+expand(config['ref']['cerberus']['new_gtf_t_info'], species='human')[0]\n",
    "lib_meta = od+expand(config['lr']['meta'], species='human')[0]\n",
    "swan_file = od+expand(config['lr']['swan']['sg'], species='human')[0]\n",
    "cerberus_h5 = od+expand(config['lr']['cerberus']['ca_triplets'], species='human', obs_col='sample')[0]\n",
    "cerb_t_metadata = od+expand(config['lr']['cerberus']['gtf_t_info'], species='human')[0]\n",
    "major_isos = od+expand(config['lr']['analysis']['major_isos'], species='human', obs_col='sample')[0]\n",
    "pi_tpm_table = od+expand(config['lr']['mane']['pi_tpm']['triplet'], species='human', obs_col='sample')[0]\n",
    "\n",
    "ref_t_metadata = od+expand(config['ref']['new_gtf_t_info'], species='human')[0]\n",
    "ref_g_metadata = od+expand(config['ref']['new_gtf_g_info'], species='human')[0]\n",
    "\n",
    "ver = 'v40_cerberus'\n",
    "min_tpm = 1\n",
    "gene_subset = 'polya'\n",
    "obs_col = 'sample'\n",
    "go_gene_subset = 'protein_coding'\n",
    "predom_iso_subset = 'protein_coding'\n",
    "\n",
    "m_lib_meta = od+expand(config['lr']['meta'], species='mouse')[0]\n",
    "\n",
    "gtex_cerb_gtf = od+expand(config['gtex']['cerberus']['gtf'], species='human')"
   ]
  },
  {
   "cell_type": "markdown",
   "id": "1e398583-1407-4f72-89f2-bf075b262774",
   "metadata": {},
   "source": [
    "## Compare how many unique intron chains are detected in GTEx (all) and in ENCODE (using 1 TPM filter)"
   ]
  },
  {
   "cell_type": "code",
   "execution_count": 8,
   "id": "74cb957f-0259-451c-8322-574964cc6ae8",
   "metadata": {},
   "outputs": [],
   "source": [
    "ca = cerberus.read(cerberus_h5)"
   ]
  },
  {
   "cell_type": "code",
   "execution_count": 17,
   "id": "f62cf2a8-40ff-4a18-a813-7f7c4f2a3194",
   "metadata": {},
   "outputs": [],
   "source": [
    "# limit to same samples from the gtex paper?\n",
    "def get_gtex_match_samples():\n",
    "    samples = ['adipose',\n",
    "               'brain',\n",
    "               'brain_ad',\n",
    "               'hmec',\n",
    "               'mcf10a',\n",
    "               'mcf7',\n",
    "               'heart',\n",
    "               'liver',\n",
    "               'lung',\n",
    "               'muscle',\n",
    "               'h9_panc_beta',\n",
    "               'h9_panc_progen',\n",
    "               'panc1']\n",
    "    return samples"
   ]
  },
  {
   "cell_type": "code",
   "execution_count": 24,
   "id": "b23d89c6-15c2-4b60-a78f-97493d24a8eb",
   "metadata": {},
   "outputs": [
    {
     "name": "stdout",
     "output_type": "stream",
     "text": [
      "Calculating ic TPM values\n",
      "Subsetting for ['adipose', 'brain', 'brain_ad', 'hmec', 'mcf10a', 'mcf7', 'heart', 'liver', 'lung', 'muscle', 'h9_panc_beta', 'h9_panc_progen', 'panc1'] samples\n",
      "Subsetting for polya genes\n",
      "Enforcing minimum TPM\n",
      "Total # ics detected: 145392\n",
      "# ics >= 1 tpm: 108624\n",
      "Applying gene type and novelty subset\n",
      "Number of ics reported: 106774\n"
     ]
    }
   ],
   "source": [
    "samples = get_gtex_match_samples()\n",
    "tl_df = pd.read_csv(filt_ab, sep='\\t')\n",
    "# tl_df, ids = get_tpm_table(tl_df, \n",
    "#                          how='ic',\n",
    "#                          min_tpm=min_tpm,\n",
    "#                          gene_subset=None,\n",
    "#                          sample=samples)\n",
    "tl_df, ids = get_tpm_table(tl_df, \n",
    "                         how='ic',\n",
    "                         min_tpm=min_tpm,\n",
    "                         gene_subset=gene_subset,\n",
    "                         sample=samples)"
   ]
  },
  {
   "cell_type": "code",
   "execution_count": 25,
   "id": "c61f20fd-3e83-49f8-8618-dd5e0c556d6b",
   "metadata": {},
   "outputs": [],
   "source": [
    "# get the gtex ICs\n",
    "df = ca.ic.loc[ca.ic.source.str.contains('gtex')].copy(deep=True)\n",
    "df['gtex'] = True\n",
    "\n",
    "df2 = ca.ic.loc[ca.ic.Name.isin(ids)].copy(deep=True)\n",
    "df2['tl'] = True\n",
    "\n",
    "merge_cols = ['Chromosome', 'Strand', 'Coordinates', 'source', 'novelty', 'gene_id', 'ic', 'Name']\n",
    "df = df.merge(df2, how='outer', on=merge_cols)\n",
    "df.gtex.fillna(False, inplace=True)\n",
    "df.tl.fillna(False, inplace=True)"
   ]
  },
  {
   "cell_type": "code",
   "execution_count": 28,
   "id": "99dd02f5-e5ae-475b-b99a-794abf264f12",
   "metadata": {},
   "outputs": [],
   "source": [
    "# get only ics that are spliced\n",
    "df = df.loc[df.Coordinates != '-']"
   ]
  },
  {
   "cell_type": "code",
   "execution_count": 29,
   "id": "2bef6153-a286-4516-a980-ba19b30635d0",
   "metadata": {},
   "outputs": [
    {
     "data": {
      "text/html": [
       "<div>\n",
       "<style scoped>\n",
       "    .dataframe tbody tr th:only-of-type {\n",
       "        vertical-align: middle;\n",
       "    }\n",
       "\n",
       "    .dataframe tbody tr th {\n",
       "        vertical-align: top;\n",
       "    }\n",
       "\n",
       "    .dataframe thead th {\n",
       "        text-align: right;\n",
       "    }\n",
       "</style>\n",
       "<table border=\"1\" class=\"dataframe\">\n",
       "  <thead>\n",
       "    <tr style=\"text-align: right;\">\n",
       "      <th></th>\n",
       "      <th>tl</th>\n",
       "      <th>gtex</th>\n",
       "      <th>Name</th>\n",
       "    </tr>\n",
       "  </thead>\n",
       "  <tbody>\n",
       "    <tr>\n",
       "      <th>0</th>\n",
       "      <td>False</td>\n",
       "      <td>True</td>\n",
       "      <td>59184</td>\n",
       "    </tr>\n",
       "    <tr>\n",
       "      <th>1</th>\n",
       "      <td>True</td>\n",
       "      <td>False</td>\n",
       "      <td>73415</td>\n",
       "    </tr>\n",
       "    <tr>\n",
       "      <th>2</th>\n",
       "      <td>True</td>\n",
       "      <td>True</td>\n",
       "      <td>28578</td>\n",
       "    </tr>\n",
       "  </tbody>\n",
       "</table>\n",
       "</div>"
      ],
      "text/plain": [
       "      tl   gtex   Name\n",
       "0  False   True  59184\n",
       "1   True  False  73415\n",
       "2   True   True  28578"
      ]
     },
     "execution_count": 29,
     "metadata": {},
     "output_type": "execute_result"
    }
   ],
   "source": [
    "df[['Name', 'tl', 'gtex']].groupby(['tl', 'gtex']).count().reset_index()"
   ]
  },
  {
   "cell_type": "code",
   "execution_count": 31,
   "id": "2924133f-800b-4067-b2bf-6f1816f2ed0f",
   "metadata": {},
   "outputs": [
    {
     "data": {
      "text/html": [
       "<div>\n",
       "<style scoped>\n",
       "    .dataframe tbody tr th:only-of-type {\n",
       "        vertical-align: middle;\n",
       "    }\n",
       "\n",
       "    .dataframe tbody tr th {\n",
       "        vertical-align: top;\n",
       "    }\n",
       "\n",
       "    .dataframe thead th {\n",
       "        text-align: right;\n",
       "    }\n",
       "</style>\n",
       "<table border=\"1\" class=\"dataframe\">\n",
       "  <thead>\n",
       "    <tr style=\"text-align: right;\">\n",
       "      <th></th>\n",
       "      <th>Chromosome</th>\n",
       "      <th>Strand</th>\n",
       "      <th>Coordinates</th>\n",
       "      <th>Name</th>\n",
       "      <th>source</th>\n",
       "      <th>novelty</th>\n",
       "      <th>gene_id</th>\n",
       "      <th>ic</th>\n",
       "      <th>gtex</th>\n",
       "      <th>tl</th>\n",
       "    </tr>\n",
       "  </thead>\n",
       "  <tbody>\n",
       "    <tr>\n",
       "      <th>61</th>\n",
       "      <td>chr1</td>\n",
       "      <td>+</td>\n",
       "      <td>11068713-11070658</td>\n",
       "      <td>ENSG00000226849_1</td>\n",
       "      <td>v40,v29,lapa,gtex</td>\n",
       "      <td>Known</td>\n",
       "      <td>ENSG00000226849</td>\n",
       "      <td>1</td>\n",
       "      <td>True</td>\n",
       "      <td>False</td>\n",
       "    </tr>\n",
       "    <tr>\n",
       "      <th>97</th>\n",
       "      <td>chr1</td>\n",
       "      <td>+</td>\n",
       "      <td>11610113-11611842-11611978-11612789</td>\n",
       "      <td>ENSG00000235643_1</td>\n",
       "      <td>v40,v29,lapa,gtex</td>\n",
       "      <td>Known</td>\n",
       "      <td>ENSG00000235643</td>\n",
       "      <td>1</td>\n",
       "      <td>True</td>\n",
       "      <td>False</td>\n",
       "    </tr>\n",
       "    <tr>\n",
       "      <th>136</th>\n",
       "      <td>chr1</td>\n",
       "      <td>+</td>\n",
       "      <td>13315658-13318391-13318700-13319371-13319953-1...</td>\n",
       "      <td>ENSG00000204501_1</td>\n",
       "      <td>v40,v29,gtex</td>\n",
       "      <td>Known</td>\n",
       "      <td>ENSG00000204501</td>\n",
       "      <td>1</td>\n",
       "      <td>True</td>\n",
       "      <td>False</td>\n",
       "    </tr>\n",
       "    <tr>\n",
       "      <th>138</th>\n",
       "      <td>chr1</td>\n",
       "      <td>+</td>\n",
       "      <td>143874823-143875218-143875239-143876051-143876...</td>\n",
       "      <td>ENSG00000265531_1</td>\n",
       "      <td>v40,v29,gtex</td>\n",
       "      <td>Known</td>\n",
       "      <td>ENSG00000265531</td>\n",
       "      <td>1</td>\n",
       "      <td>True</td>\n",
       "      <td>False</td>\n",
       "    </tr>\n",
       "    <tr>\n",
       "      <th>166</th>\n",
       "      <td>chr1</td>\n",
       "      <td>+</td>\n",
       "      <td>149782774-149783169-149783190-149784002-149784...</td>\n",
       "      <td>ENSG00000150337_1</td>\n",
       "      <td>v40,v29,gtex</td>\n",
       "      <td>Known</td>\n",
       "      <td>ENSG00000150337</td>\n",
       "      <td>1</td>\n",
       "      <td>True</td>\n",
       "      <td>False</td>\n",
       "    </tr>\n",
       "  </tbody>\n",
       "</table>\n",
       "</div>"
      ],
      "text/plain": [
       "    Chromosome Strand                                        Coordinates  \\\n",
       "61        chr1      +                                  11068713-11070658   \n",
       "97        chr1      +                11610113-11611842-11611978-11612789   \n",
       "136       chr1      +  13315658-13318391-13318700-13319371-13319953-1...   \n",
       "138       chr1      +  143874823-143875218-143875239-143876051-143876...   \n",
       "166       chr1      +  149782774-149783169-149783190-149784002-149784...   \n",
       "\n",
       "                  Name             source novelty          gene_id  ic  gtex  \\\n",
       "61   ENSG00000226849_1  v40,v29,lapa,gtex   Known  ENSG00000226849   1  True   \n",
       "97   ENSG00000235643_1  v40,v29,lapa,gtex   Known  ENSG00000235643   1  True   \n",
       "136  ENSG00000204501_1       v40,v29,gtex   Known  ENSG00000204501   1  True   \n",
       "138  ENSG00000265531_1       v40,v29,gtex   Known  ENSG00000265531   1  True   \n",
       "166  ENSG00000150337_1       v40,v29,gtex   Known  ENSG00000150337   1  True   \n",
       "\n",
       "        tl  \n",
       "61   False  \n",
       "97   False  \n",
       "136  False  \n",
       "138  False  \n",
       "166  False  "
      ]
     },
     "execution_count": 31,
     "metadata": {},
     "output_type": "execute_result"
    }
   ],
   "source": [
    "df.loc[(df.tl==False)&(df.gtex==True)&(df.ic==1)].head()"
   ]
  },
  {
   "cell_type": "code",
   "execution_count": null,
   "id": "2c055b4e-9eb6-412a-8762-dfa0135f577d",
   "metadata": {},
   "outputs": [],
   "source": []
  }
 ],
 "metadata": {
  "kernelspec": {
   "display_name": "Python 3",
   "language": "python",
   "name": "python3"
  },
  "language_info": {
   "codemirror_mode": {
    "name": "ipython",
    "version": 3
   },
   "file_extension": ".py",
   "mimetype": "text/x-python",
   "name": "python",
   "nbconvert_exporter": "python",
   "pygments_lexer": "ipython3",
   "version": "3.7.12"
  }
 },
 "nbformat": 4,
 "nbformat_minor": 5
}
