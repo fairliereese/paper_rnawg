{
 "cells": [
  {
   "cell_type": "code",
   "execution_count": 1,
   "id": "1c25c895-f060-482b-bfea-d12be873cabc",
   "metadata": {},
   "outputs": [],
   "source": [
    "import pandas as pd\n",
    "import numpy as np\n",
    "import scipy.stats as st\n",
    "import seaborn as sns\n",
    "import sys\n",
    "import os\n",
    "import gseapy as gp\n",
    "import matplotlib.pyplot as plt\n",
    "import swan_vis as swan\n",
    "import yaml\n",
    "from snakemake.io import expand\n",
    "\n",
    "p = os.path.dirname(os.path.dirname(os.getcwd()))\n",
    "sys.path.append(p)\n",
    "\n",
    "from proc_revisions.utils import *\n",
    "from proc_revisions.plotting import *"
   ]
  },
  {
   "cell_type": "code",
   "execution_count": 2,
   "id": "6ba0b9d7-f6d4-468a-8097-e7358350857b",
   "metadata": {},
   "outputs": [],
   "source": [
    "od = '../../proc_revisions/'\n",
    "config_file = f'{od}/config.yml'\n",
    "with open(config_file) as f:\n",
    "    config = yaml.safe_load(f)"
   ]
  },
  {
   "cell_type": "code",
   "execution_count": 3,
   "id": "6f935209-baa0-4ae4-ac2f-6730487ab0a8",
   "metadata": {},
   "outputs": [],
   "source": [
    "ab = od+expand(config['lr']['talon']['ab'], species='human')[0]\n",
    "unfilt_ab = od+expand(config['lr']['cerberus']['ab'], species='human')[0] \n",
    "filt_ab = od+expand(config['lr']['cerberus']['filt_ab'], species='human')[0]\n",
    "read_annot = od+expand(config['lr']['talon']['full_annot'], species='human')[0]\n",
    "t_metadata = od+expand(config['ref']['cerberus']['new_gtf_t_info'], species='human')[0]\n",
    "lib_meta = od+expand(config['lr']['meta'], species='human')[0]\n",
    "swan_file = od+expand(config['lr']['swan']['sg'], species='human')[0]\n",
    "cerberus_h5 = od+expand(config['lr']['cerberus']['ca_triplets'], species='human', obs_col='sample')[0]\n",
    "cerb_t_metadata = od+expand(config['lr']['cerberus']['gtf_t_info'], species='human')[0]\n",
    "major_isos = od+expand(config['lr']['analysis']['major_isos'], species='human', obs_col='sample')[0]\n",
    "pi_tpm_table = od+expand(config['lr']['mane']['pi_tpm']['triplet'], species='human', obs_col='sample')[0]\n",
    "\n",
    "ref_t_metadata = od+expand(config['ref']['new_gtf_t_info'], species='human')[0]\n",
    "ref_g_metadata = od+expand(config['ref']['new_gtf_g_info'], species='human')[0]\n",
    "\n",
    "# pp_summary = '../'+expand(config['data']['p_pred']['summary'], species='human')[0]\n",
    "iq_cerberus_h5 = od+expand(config['lr']['isoquant']['cerberus']['ca_annot'], species='human', obs_col='sample')[0]\n",
    "\n",
    "\n",
    "iq_gtf = od+expand(config['lr']['isoquant']['gtf'], species='human')[0]\n",
    "iq_ics = od+expand(config['lr']['isoquant']['cerberus']['ics'], species='human')[0]\n",
    "iq_ab = od+expand(config['lr']['isoquant']['novel_ab'], species='human')[0]\n",
    "iq_filt_ab = od+expand(config['lr']['isoquant']['cerberus']['ab'], species='human')[0]\n",
    "\n",
    "ver = 'v40_cerberus'\n",
    "min_tpm = 1\n",
    "gene_subset = 'polya'\n",
    "obs_col = 'sample'\n",
    "go_gene_subset = 'protein_coding'\n",
    "predom_iso_subset = 'protein_coding'\n",
    "\n",
    "m_lib_meta = od+expand(config['lr']['meta'], species='mouse')[0]"
   ]
  },
  {
   "cell_type": "code",
   "execution_count": 4,
   "id": "76167fa8-7ce0-43b2-bade-848aef59b91e",
   "metadata": {},
   "outputs": [],
   "source": [
    "# ca = cerberus.read(iq_cerberus_h5)"
   ]
  },
  {
   "cell_type": "code",
   "execution_count": 5,
   "id": "58da2df4-02ea-4f12-847e-d835413bcfec",
   "metadata": {},
   "outputs": [],
   "source": [
    "# ca.t_map.tail()"
   ]
  },
  {
   "cell_type": "code",
   "execution_count": 6,
   "id": "5a1dd989-e26f-4ef6-8843-04675afbf565",
   "metadata": {
    "tags": []
   },
   "outputs": [
    {
     "name": "stderr",
     "output_type": "stream",
     "text": [
      "1701889032.036182:INFO:Cerberus:cerberus:Adding Cerberus transcript ids\n"
     ]
    },
    {
     "name": "stdout",
     "output_type": "stream",
     "text": [
      "> \u001b[0;32m/Users/fairliereese/Documents/programming/mortazavi_lab/bin/cerberus/cerberus/cerberus.py\u001b[0m(2541)\u001b[0;36mreplace_gtf_ids\u001b[0;34m()\u001b[0m\n",
      "\u001b[0;32m   2539 \u001b[0;31m    \u001b[0;32mimport\u001b[0m \u001b[0mpdb\u001b[0m\u001b[0;34m;\u001b[0m \u001b[0mpdb\u001b[0m\u001b[0;34m.\u001b[0m\u001b[0mset_trace\u001b[0m\u001b[0;34m(\u001b[0m\u001b[0;34m)\u001b[0m\u001b[0;34m\u001b[0m\u001b[0;34m\u001b[0m\u001b[0m\n",
      "\u001b[0m\u001b[0;32m   2540 \u001b[0;31m\u001b[0;34m\u001b[0m\u001b[0m\n",
      "\u001b[0m\u001b[0;32m-> 2541 \u001b[0;31m    \u001b[0mdf\u001b[0m\u001b[0;34m.\u001b[0m\u001b[0mdrop\u001b[0m\u001b[0;34m(\u001b[0m\u001b[0;34m[\u001b[0m\u001b[0;34m'transcript_id'\u001b[0m\u001b[0;34m,\u001b[0m \u001b[0;34m'transcript_name'\u001b[0m\u001b[0;34m]\u001b[0m\u001b[0;34m,\u001b[0m \u001b[0maxis\u001b[0m\u001b[0;34m=\u001b[0m\u001b[0;36m1\u001b[0m\u001b[0;34m,\u001b[0m \u001b[0minplace\u001b[0m\u001b[0;34m=\u001b[0m\u001b[0;32mTrue\u001b[0m\u001b[0;34m)\u001b[0m\u001b[0;34m\u001b[0m\u001b[0;34m\u001b[0m\u001b[0m\n",
      "\u001b[0m\u001b[0;32m   2542 \u001b[0;31m    df.rename({'transcript_id_cerberus': 'transcript_id',\n",
      "\u001b[0m\u001b[0;32m   2543 \u001b[0;31m               'transcript_name_cerberus': 'transcript_name'},\n",
      "\u001b[0m\n"
     ]
    },
    {
     "name": "stdin",
     "output_type": "stream",
     "text": [
      "ipdb>  n\n"
     ]
    },
    {
     "name": "stdout",
     "output_type": "stream",
     "text": [
      "> \u001b[0;32m/Users/fairliereese/Documents/programming/mortazavi_lab/bin/cerberus/cerberus/cerberus.py\u001b[0m(2542)\u001b[0;36mreplace_gtf_ids\u001b[0;34m()\u001b[0m\n",
      "\u001b[0;32m   2540 \u001b[0;31m\u001b[0;34m\u001b[0m\u001b[0m\n",
      "\u001b[0m\u001b[0;32m   2541 \u001b[0;31m    \u001b[0mdf\u001b[0m\u001b[0;34m.\u001b[0m\u001b[0mdrop\u001b[0m\u001b[0;34m(\u001b[0m\u001b[0;34m[\u001b[0m\u001b[0;34m'transcript_id'\u001b[0m\u001b[0;34m,\u001b[0m \u001b[0;34m'transcript_name'\u001b[0m\u001b[0;34m]\u001b[0m\u001b[0;34m,\u001b[0m \u001b[0maxis\u001b[0m\u001b[0;34m=\u001b[0m\u001b[0;36m1\u001b[0m\u001b[0;34m,\u001b[0m \u001b[0minplace\u001b[0m\u001b[0;34m=\u001b[0m\u001b[0;32mTrue\u001b[0m\u001b[0;34m)\u001b[0m\u001b[0;34m\u001b[0m\u001b[0;34m\u001b[0m\u001b[0m\n",
      "\u001b[0m\u001b[0;32m-> 2542 \u001b[0;31m    df.rename({'transcript_id_cerberus': 'transcript_id',\n",
      "\u001b[0m\u001b[0;32m   2543 \u001b[0;31m               'transcript_name_cerberus': 'transcript_name'},\n",
      "\u001b[0m\u001b[0;32m   2544 \u001b[0;31m               axis=1, inplace=True)\n",
      "\u001b[0m\n"
     ]
    },
    {
     "name": "stdin",
     "output_type": "stream",
     "text": [
      "ipdb>  df.head()\n"
     ]
    },
    {
     "name": "stdout",
     "output_type": "stream",
     "text": [
      "  Chromosome    Source     Feature      Start        End Score Strand Frame  \\\n",
      "0       chrX  IsoQuant        gene  100584801  100599885     .      +     .   \n",
      "1       chrX  IsoQuant  transcript  100593577  100599885     .      +     .   \n",
      "2       chrX  IsoQuant        exon  100593577  100594035     .      +     .   \n",
      "3       chrX  IsoQuant        exon  100594260  100594362     .      +     .   \n",
      "4       chrX  IsoQuant        exon  100597503  100597657     .      +     .   \n",
      "\n",
      "             gene_id transcripts  ...             tss_id  tss  \\\n",
      "0  ENSG00000000005.5           1  ...                NaN  NaN   \n",
      "1  ENSG00000000005.5         NaN  ...  ENSG00000000005_2  2.0   \n",
      "2  ENSG00000000005.5         NaN  ...  ENSG00000000005_2  2.0   \n",
      "3  ENSG00000000005.5         NaN  ...  ENSG00000000005_2  2.0   \n",
      "4  ENSG00000000005.5         NaN  ...  ENSG00000000005_2  2.0   \n",
      "\n",
      "              tes_id  tes gene_name original_transcript_name  \\\n",
      "0                NaN  NaN       NaN                      NaN   \n",
      "1  ENSG00000000005_1  1.0      TNMD  transcript6232.chrX.nic   \n",
      "2  ENSG00000000005_1  1.0      TNMD  transcript6232.chrX.nic   \n",
      "3  ENSG00000000005_1  1.0      TNMD  transcript6232.chrX.nic   \n",
      "4  ENSG00000000005_1  1.0      TNMD  transcript6232.chrX.nic   \n",
      "\n",
      "   transcript_id_cerberus transcript_name_cerberus tss_first_sd_issue  \\\n",
      "0                     NaN                      NaN                NaN   \n",
      "1  ENSG00000000005[2,3,1]              TNMD[2,3,1]              False   \n",
      "2  ENSG00000000005[2,3,1]              TNMD[2,3,1]              False   \n",
      "3  ENSG00000000005[2,3,1]              TNMD[2,3,1]              False   \n",
      "4  ENSG00000000005[2,3,1]              TNMD[2,3,1]              False   \n",
      "\n",
      "  tes_last_sa_issue  \n",
      "0               NaN  \n",
      "1             False  \n",
      "2             False  \n",
      "3             False  \n",
      "4             False  \n",
      "\n",
      "[5 rows x 32 columns]\n"
     ]
    },
    {
     "name": "stdin",
     "output_type": "stream",
     "text": [
      "ipdb>  n\n"
     ]
    },
    {
     "name": "stdout",
     "output_type": "stream",
     "text": [
      "> \u001b[0;32m/Users/fairliereese/Documents/programming/mortazavi_lab/bin/cerberus/cerberus/cerberus.py\u001b[0m(2543)\u001b[0;36mreplace_gtf_ids\u001b[0;34m()\u001b[0m\n",
      "\u001b[0;32m   2541 \u001b[0;31m    \u001b[0mdf\u001b[0m\u001b[0;34m.\u001b[0m\u001b[0mdrop\u001b[0m\u001b[0;34m(\u001b[0m\u001b[0;34m[\u001b[0m\u001b[0;34m'transcript_id'\u001b[0m\u001b[0;34m,\u001b[0m \u001b[0;34m'transcript_name'\u001b[0m\u001b[0;34m]\u001b[0m\u001b[0;34m,\u001b[0m \u001b[0maxis\u001b[0m\u001b[0;34m=\u001b[0m\u001b[0;36m1\u001b[0m\u001b[0;34m,\u001b[0m \u001b[0minplace\u001b[0m\u001b[0;34m=\u001b[0m\u001b[0;32mTrue\u001b[0m\u001b[0;34m)\u001b[0m\u001b[0;34m\u001b[0m\u001b[0;34m\u001b[0m\u001b[0m\n",
      "\u001b[0m\u001b[0;32m   2542 \u001b[0;31m    df.rename({'transcript_id_cerberus': 'transcript_id',\n",
      "\u001b[0m\u001b[0;32m-> 2543 \u001b[0;31m               'transcript_name_cerberus': 'transcript_name'},\n",
      "\u001b[0m\u001b[0;32m   2544 \u001b[0;31m               axis=1, inplace=True)\n",
      "\u001b[0m\u001b[0;32m   2545 \u001b[0;31m\u001b[0;34m\u001b[0m\u001b[0m\n",
      "\u001b[0m\n"
     ]
    },
    {
     "name": "stdin",
     "output_type": "stream",
     "text": [
      "ipdb>  n\n"
     ]
    },
    {
     "name": "stdout",
     "output_type": "stream",
     "text": [
      "> \u001b[0;32m/Users/fairliereese/Documents/programming/mortazavi_lab/bin/cerberus/cerberus/cerberus.py\u001b[0m(2544)\u001b[0;36mreplace_gtf_ids\u001b[0;34m()\u001b[0m\n",
      "\u001b[0;32m   2542 \u001b[0;31m    df.rename({'transcript_id_cerberus': 'transcript_id',\n",
      "\u001b[0m\u001b[0;32m   2543 \u001b[0;31m               'transcript_name_cerberus': 'transcript_name'},\n",
      "\u001b[0m\u001b[0;32m-> 2544 \u001b[0;31m               axis=1, inplace=True)\n",
      "\u001b[0m\u001b[0;32m   2545 \u001b[0;31m\u001b[0;34m\u001b[0m\u001b[0m\n",
      "\u001b[0m\u001b[0;32m   2546 \u001b[0;31m    \u001b[0;31m# for the gene entries\u001b[0m\u001b[0;34m\u001b[0m\u001b[0;34m\u001b[0m\u001b[0;34m\u001b[0m\u001b[0m\n",
      "\u001b[0m\n"
     ]
    },
    {
     "name": "stdin",
     "output_type": "stream",
     "text": [
      "ipdb>  n\n"
     ]
    },
    {
     "name": "stdout",
     "output_type": "stream",
     "text": [
      "> \u001b[0;32m/Users/fairliereese/Documents/programming/mortazavi_lab/bin/cerberus/cerberus/cerberus.py\u001b[0m(2547)\u001b[0;36mreplace_gtf_ids\u001b[0;34m()\u001b[0m\n",
      "\u001b[0;32m   2545 \u001b[0;31m\u001b[0;34m\u001b[0m\u001b[0m\n",
      "\u001b[0m\u001b[0;32m   2546 \u001b[0;31m    \u001b[0;31m# for the gene entries\u001b[0m\u001b[0;34m\u001b[0m\u001b[0;34m\u001b[0m\u001b[0;34m\u001b[0m\u001b[0m\n",
      "\u001b[0m\u001b[0;32m-> 2547 \u001b[0;31m    \u001b[0mg_df\u001b[0m \u001b[0;34m=\u001b[0m \u001b[0mdf\u001b[0m\u001b[0;34m.\u001b[0m\u001b[0mloc\u001b[0m\u001b[0;34m[\u001b[0m\u001b[0mdf\u001b[0m\u001b[0;34m.\u001b[0m\u001b[0mFeature\u001b[0m\u001b[0;34m!=\u001b[0m\u001b[0;34m'gene'\u001b[0m\u001b[0;34m,\u001b[0m \u001b[0;34m[\u001b[0m\u001b[0;34m'gene_id'\u001b[0m\u001b[0;34m,\u001b[0m \u001b[0;34m'gene_name'\u001b[0m\u001b[0;34m]\u001b[0m\u001b[0;34m]\u001b[0m\u001b[0;34m.\u001b[0m\u001b[0mdrop_duplicates\u001b[0m\u001b[0;34m(\u001b[0m\u001b[0;34m)\u001b[0m\u001b[0;34m\u001b[0m\u001b[0;34m\u001b[0m\u001b[0m\n",
      "\u001b[0m\u001b[0;32m   2548 \u001b[0;31m    \u001b[0mdf\u001b[0m \u001b[0;34m=\u001b[0m \u001b[0mdf\u001b[0m\u001b[0;34m.\u001b[0m\u001b[0mmerge\u001b[0m\u001b[0;34m(\u001b[0m\u001b[0mg_df\u001b[0m\u001b[0;34m,\u001b[0m \u001b[0mhow\u001b[0m\u001b[0;34m=\u001b[0m\u001b[0;34m'left'\u001b[0m\u001b[0;34m,\u001b[0m \u001b[0mon\u001b[0m\u001b[0;34m=\u001b[0m\u001b[0;34m'gene_id'\u001b[0m\u001b[0;34m,\u001b[0m \u001b[0msuffixes\u001b[0m\u001b[0;34m=\u001b[0m\u001b[0;34m(\u001b[0m\u001b[0;34m'_old'\u001b[0m\u001b[0;34m,\u001b[0m \u001b[0;34m''\u001b[0m\u001b[0;34m)\u001b[0m\u001b[0;34m)\u001b[0m\u001b[0;34m\u001b[0m\u001b[0;34m\u001b[0m\u001b[0m\n",
      "\u001b[0m\u001b[0;32m   2549 \u001b[0;31m    \u001b[0mdf\u001b[0m\u001b[0;34m.\u001b[0m\u001b[0mdrop\u001b[0m\u001b[0;34m(\u001b[0m\u001b[0;34m'gene_name_old'\u001b[0m\u001b[0;34m,\u001b[0m \u001b[0maxis\u001b[0m\u001b[0;34m=\u001b[0m\u001b[0;36m1\u001b[0m\u001b[0;34m,\u001b[0m \u001b[0minplace\u001b[0m\u001b[0;34m=\u001b[0m\u001b[0;32mTrue\u001b[0m\u001b[0;34m)\u001b[0m\u001b[0;34m\u001b[0m\u001b[0;34m\u001b[0m\u001b[0m\n",
      "\u001b[0m\n"
     ]
    },
    {
     "name": "stdin",
     "output_type": "stream",
     "text": [
      "ipdb>  df.head()\n"
     ]
    },
    {
     "name": "stdout",
     "output_type": "stream",
     "text": [
      "  Chromosome    Source     Feature      Start        End Score Strand Frame  \\\n",
      "0       chrX  IsoQuant        gene  100584801  100599885     .      +     .   \n",
      "1       chrX  IsoQuant  transcript  100593577  100599885     .      +     .   \n",
      "2       chrX  IsoQuant        exon  100593577  100594035     .      +     .   \n",
      "3       chrX  IsoQuant        exon  100594260  100594362     .      +     .   \n",
      "4       chrX  IsoQuant        exon  100597503  100597657     .      +     .   \n",
      "\n",
      "             gene_id transcripts  ...             tss_id  tss  \\\n",
      "0  ENSG00000000005.5           1  ...                NaN  NaN   \n",
      "1  ENSG00000000005.5         NaN  ...  ENSG00000000005_2  2.0   \n",
      "2  ENSG00000000005.5         NaN  ...  ENSG00000000005_2  2.0   \n",
      "3  ENSG00000000005.5         NaN  ...  ENSG00000000005_2  2.0   \n",
      "4  ENSG00000000005.5         NaN  ...  ENSG00000000005_2  2.0   \n",
      "\n",
      "              tes_id  tes gene_name original_transcript_name  \\\n",
      "0                NaN  NaN       NaN                      NaN   \n",
      "1  ENSG00000000005_1  1.0      TNMD  transcript6232.chrX.nic   \n",
      "2  ENSG00000000005_1  1.0      TNMD  transcript6232.chrX.nic   \n",
      "3  ENSG00000000005_1  1.0      TNMD  transcript6232.chrX.nic   \n",
      "4  ENSG00000000005_1  1.0      TNMD  transcript6232.chrX.nic   \n",
      "\n",
      "            transcript_id transcript_name tss_first_sd_issue tes_last_sa_issue  \n",
      "0                     NaN             NaN                NaN               NaN  \n",
      "1  ENSG00000000005[2,3,1]     TNMD[2,3,1]              False             False  \n",
      "2  ENSG00000000005[2,3,1]     TNMD[2,3,1]              False             False  \n",
      "3  ENSG00000000005[2,3,1]     TNMD[2,3,1]              False             False  \n",
      "4  ENSG00000000005[2,3,1]     TNMD[2,3,1]              False             False  \n",
      "\n",
      "[5 rows x 32 columns]\n"
     ]
    },
    {
     "name": "stdin",
     "output_type": "stream",
     "text": [
      "ipdb>  n\n"
     ]
    },
    {
     "name": "stdout",
     "output_type": "stream",
     "text": [
      "> \u001b[0;32m/Users/fairliereese/Documents/programming/mortazavi_lab/bin/cerberus/cerberus/cerberus.py\u001b[0m(2548)\u001b[0;36mreplace_gtf_ids\u001b[0;34m()\u001b[0m\n",
      "\u001b[0;32m   2546 \u001b[0;31m    \u001b[0;31m# for the gene entries\u001b[0m\u001b[0;34m\u001b[0m\u001b[0;34m\u001b[0m\u001b[0;34m\u001b[0m\u001b[0m\n",
      "\u001b[0m\u001b[0;32m   2547 \u001b[0;31m    \u001b[0mg_df\u001b[0m \u001b[0;34m=\u001b[0m \u001b[0mdf\u001b[0m\u001b[0;34m.\u001b[0m\u001b[0mloc\u001b[0m\u001b[0;34m[\u001b[0m\u001b[0mdf\u001b[0m\u001b[0;34m.\u001b[0m\u001b[0mFeature\u001b[0m\u001b[0;34m!=\u001b[0m\u001b[0;34m'gene'\u001b[0m\u001b[0;34m,\u001b[0m \u001b[0;34m[\u001b[0m\u001b[0;34m'gene_id'\u001b[0m\u001b[0;34m,\u001b[0m \u001b[0;34m'gene_name'\u001b[0m\u001b[0;34m]\u001b[0m\u001b[0;34m]\u001b[0m\u001b[0;34m.\u001b[0m\u001b[0mdrop_duplicates\u001b[0m\u001b[0;34m(\u001b[0m\u001b[0;34m)\u001b[0m\u001b[0;34m\u001b[0m\u001b[0;34m\u001b[0m\u001b[0m\n",
      "\u001b[0m\u001b[0;32m-> 2548 \u001b[0;31m    \u001b[0mdf\u001b[0m \u001b[0;34m=\u001b[0m \u001b[0mdf\u001b[0m\u001b[0;34m.\u001b[0m\u001b[0mmerge\u001b[0m\u001b[0;34m(\u001b[0m\u001b[0mg_df\u001b[0m\u001b[0;34m,\u001b[0m \u001b[0mhow\u001b[0m\u001b[0;34m=\u001b[0m\u001b[0;34m'left'\u001b[0m\u001b[0;34m,\u001b[0m \u001b[0mon\u001b[0m\u001b[0;34m=\u001b[0m\u001b[0;34m'gene_id'\u001b[0m\u001b[0;34m,\u001b[0m \u001b[0msuffixes\u001b[0m\u001b[0;34m=\u001b[0m\u001b[0;34m(\u001b[0m\u001b[0;34m'_old'\u001b[0m\u001b[0;34m,\u001b[0m \u001b[0;34m''\u001b[0m\u001b[0;34m)\u001b[0m\u001b[0;34m)\u001b[0m\u001b[0;34m\u001b[0m\u001b[0;34m\u001b[0m\u001b[0m\n",
      "\u001b[0m\u001b[0;32m   2549 \u001b[0;31m    \u001b[0mdf\u001b[0m\u001b[0;34m.\u001b[0m\u001b[0mdrop\u001b[0m\u001b[0;34m(\u001b[0m\u001b[0;34m'gene_name_old'\u001b[0m\u001b[0;34m,\u001b[0m \u001b[0maxis\u001b[0m\u001b[0;34m=\u001b[0m\u001b[0;36m1\u001b[0m\u001b[0;34m,\u001b[0m \u001b[0minplace\u001b[0m\u001b[0;34m=\u001b[0m\u001b[0;32mTrue\u001b[0m\u001b[0;34m)\u001b[0m\u001b[0;34m\u001b[0m\u001b[0;34m\u001b[0m\u001b[0m\n",
      "\u001b[0m\u001b[0;32m   2550 \u001b[0;31m\u001b[0;34m\u001b[0m\u001b[0m\n",
      "\u001b[0m\n"
     ]
    },
    {
     "name": "stdin",
     "output_type": "stream",
     "text": [
      "ipdb>  n\n"
     ]
    },
    {
     "name": "stdout",
     "output_type": "stream",
     "text": [
      "> \u001b[0;32m/Users/fairliereese/Documents/programming/mortazavi_lab/bin/cerberus/cerberus/cerberus.py\u001b[0m(2549)\u001b[0;36mreplace_gtf_ids\u001b[0;34m()\u001b[0m\n",
      "\u001b[0;32m   2547 \u001b[0;31m    \u001b[0mg_df\u001b[0m \u001b[0;34m=\u001b[0m \u001b[0mdf\u001b[0m\u001b[0;34m.\u001b[0m\u001b[0mloc\u001b[0m\u001b[0;34m[\u001b[0m\u001b[0mdf\u001b[0m\u001b[0;34m.\u001b[0m\u001b[0mFeature\u001b[0m\u001b[0;34m!=\u001b[0m\u001b[0;34m'gene'\u001b[0m\u001b[0;34m,\u001b[0m \u001b[0;34m[\u001b[0m\u001b[0;34m'gene_id'\u001b[0m\u001b[0;34m,\u001b[0m \u001b[0;34m'gene_name'\u001b[0m\u001b[0;34m]\u001b[0m\u001b[0;34m]\u001b[0m\u001b[0;34m.\u001b[0m\u001b[0mdrop_duplicates\u001b[0m\u001b[0;34m(\u001b[0m\u001b[0;34m)\u001b[0m\u001b[0;34m\u001b[0m\u001b[0;34m\u001b[0m\u001b[0m\n",
      "\u001b[0m\u001b[0;32m   2548 \u001b[0;31m    \u001b[0mdf\u001b[0m \u001b[0;34m=\u001b[0m \u001b[0mdf\u001b[0m\u001b[0;34m.\u001b[0m\u001b[0mmerge\u001b[0m\u001b[0;34m(\u001b[0m\u001b[0mg_df\u001b[0m\u001b[0;34m,\u001b[0m \u001b[0mhow\u001b[0m\u001b[0;34m=\u001b[0m\u001b[0;34m'left'\u001b[0m\u001b[0;34m,\u001b[0m \u001b[0mon\u001b[0m\u001b[0;34m=\u001b[0m\u001b[0;34m'gene_id'\u001b[0m\u001b[0;34m,\u001b[0m \u001b[0msuffixes\u001b[0m\u001b[0;34m=\u001b[0m\u001b[0;34m(\u001b[0m\u001b[0;34m'_old'\u001b[0m\u001b[0;34m,\u001b[0m \u001b[0;34m''\u001b[0m\u001b[0;34m)\u001b[0m\u001b[0;34m)\u001b[0m\u001b[0;34m\u001b[0m\u001b[0;34m\u001b[0m\u001b[0m\n",
      "\u001b[0m\u001b[0;32m-> 2549 \u001b[0;31m    \u001b[0mdf\u001b[0m\u001b[0;34m.\u001b[0m\u001b[0mdrop\u001b[0m\u001b[0;34m(\u001b[0m\u001b[0;34m'gene_name_old'\u001b[0m\u001b[0;34m,\u001b[0m \u001b[0maxis\u001b[0m\u001b[0;34m=\u001b[0m\u001b[0;36m1\u001b[0m\u001b[0;34m,\u001b[0m \u001b[0minplace\u001b[0m\u001b[0;34m=\u001b[0m\u001b[0;32mTrue\u001b[0m\u001b[0;34m)\u001b[0m\u001b[0;34m\u001b[0m\u001b[0;34m\u001b[0m\u001b[0m\n",
      "\u001b[0m\u001b[0;32m   2550 \u001b[0;31m\u001b[0;34m\u001b[0m\u001b[0m\n",
      "\u001b[0m\u001b[0;32m   2551 \u001b[0;31m    \u001b[0;31m# update the ends of each transcript based on the end it was assigned to\u001b[0m\u001b[0;34m\u001b[0m\u001b[0;34m\u001b[0m\u001b[0;34m\u001b[0m\u001b[0m\n",
      "\u001b[0m\n"
     ]
    },
    {
     "name": "stdin",
     "output_type": "stream",
     "text": [
      "ipdb>  n\n"
     ]
    },
    {
     "name": "stdout",
     "output_type": "stream",
     "text": [
      "> \u001b[0;32m/Users/fairliereese/Documents/programming/mortazavi_lab/bin/cerberus/cerberus/cerberus.py\u001b[0m(2552)\u001b[0;36mreplace_gtf_ids\u001b[0;34m()\u001b[0m\n",
      "\u001b[0;32m   2550 \u001b[0;31m\u001b[0;34m\u001b[0m\u001b[0m\n",
      "\u001b[0m\u001b[0;32m   2551 \u001b[0;31m    \u001b[0;31m# update the ends of each transcript based on the end it was assigned to\u001b[0m\u001b[0;34m\u001b[0m\u001b[0;34m\u001b[0m\u001b[0;34m\u001b[0m\u001b[0m\n",
      "\u001b[0m\u001b[0;32m-> 2552 \u001b[0;31m    \u001b[0;32mif\u001b[0m \u001b[0mupdate_ends\u001b[0m\u001b[0;34m:\u001b[0m\u001b[0;34m\u001b[0m\u001b[0;34m\u001b[0m\u001b[0m\n",
      "\u001b[0m\u001b[0;32m   2553 \u001b[0;31m        \u001b[0m_logger\u001b[0m\u001b[0;34m.\u001b[0m\u001b[0minfo\u001b[0m\u001b[0;34m(\u001b[0m\u001b[0;34m'Updating ends of transcripts...'\u001b[0m\u001b[0;34m)\u001b[0m\u001b[0;34m\u001b[0m\u001b[0;34m\u001b[0m\u001b[0m\n",
      "\u001b[0m\u001b[0;32m   2554 \u001b[0;31m        \u001b[0mdf\u001b[0m \u001b[0;34m=\u001b[0m \u001b[0mupdate_gtf_ends\u001b[0m\u001b[0;34m(\u001b[0m\u001b[0mdf\u001b[0m\u001b[0;34m,\u001b[0m \u001b[0mtss\u001b[0m\u001b[0;34m,\u001b[0m \u001b[0mtes\u001b[0m\u001b[0;34m)\u001b[0m\u001b[0;34m\u001b[0m\u001b[0;34m\u001b[0m\u001b[0m\n",
      "\u001b[0m\n"
     ]
    },
    {
     "name": "stdin",
     "output_type": "stream",
     "text": [
      "ipdb>  df.head()\n"
     ]
    },
    {
     "name": "stdout",
     "output_type": "stream",
     "text": [
      "  Chromosome    Source     Feature      Start        End Score Strand Frame  \\\n",
      "0       chrX  IsoQuant        gene  100584801  100599885     .      +     .   \n",
      "1       chrX  IsoQuant  transcript  100593577  100599885     .      +     .   \n",
      "2       chrX  IsoQuant        exon  100593577  100594035     .      +     .   \n",
      "3       chrX  IsoQuant        exon  100594260  100594362     .      +     .   \n",
      "4       chrX  IsoQuant        exon  100597503  100597657     .      +     .   \n",
      "\n",
      "             gene_id transcripts  ...             tss_id  tss  \\\n",
      "0  ENSG00000000005.5           1  ...                NaN  NaN   \n",
      "1  ENSG00000000005.5         NaN  ...  ENSG00000000005_2  2.0   \n",
      "2  ENSG00000000005.5         NaN  ...  ENSG00000000005_2  2.0   \n",
      "3  ENSG00000000005.5         NaN  ...  ENSG00000000005_2  2.0   \n",
      "4  ENSG00000000005.5         NaN  ...  ENSG00000000005_2  2.0   \n",
      "\n",
      "              tes_id  tes original_transcript_name           transcript_id  \\\n",
      "0                NaN  NaN                      NaN                     NaN   \n",
      "1  ENSG00000000005_1  1.0  transcript6232.chrX.nic  ENSG00000000005[2,3,1]   \n",
      "2  ENSG00000000005_1  1.0  transcript6232.chrX.nic  ENSG00000000005[2,3,1]   \n",
      "3  ENSG00000000005_1  1.0  transcript6232.chrX.nic  ENSG00000000005[2,3,1]   \n",
      "4  ENSG00000000005_1  1.0  transcript6232.chrX.nic  ENSG00000000005[2,3,1]   \n",
      "\n",
      "  transcript_name tss_first_sd_issue tes_last_sa_issue gene_name  \n",
      "0             NaN                NaN               NaN      TNMD  \n",
      "1     TNMD[2,3,1]              False             False      TNMD  \n",
      "2     TNMD[2,3,1]              False             False      TNMD  \n",
      "3     TNMD[2,3,1]              False             False      TNMD  \n",
      "4     TNMD[2,3,1]              False             False      TNMD  \n",
      "\n",
      "[5 rows x 32 columns]\n"
     ]
    },
    {
     "name": "stdin",
     "output_type": "stream",
     "text": [
      "ipdb>  n\n"
     ]
    },
    {
     "name": "stdout",
     "output_type": "stream",
     "text": [
      "> \u001b[0;32m/Users/fairliereese/Documents/programming/mortazavi_lab/bin/cerberus/cerberus/cerberus.py\u001b[0m(2553)\u001b[0;36mreplace_gtf_ids\u001b[0;34m()\u001b[0m\n",
      "\u001b[0;32m   2551 \u001b[0;31m    \u001b[0;31m# update the ends of each transcript based on the end it was assigned to\u001b[0m\u001b[0;34m\u001b[0m\u001b[0;34m\u001b[0m\u001b[0;34m\u001b[0m\u001b[0m\n",
      "\u001b[0m\u001b[0;32m   2552 \u001b[0;31m    \u001b[0;32mif\u001b[0m \u001b[0mupdate_ends\u001b[0m\u001b[0;34m:\u001b[0m\u001b[0;34m\u001b[0m\u001b[0;34m\u001b[0m\u001b[0m\n",
      "\u001b[0m\u001b[0;32m-> 2553 \u001b[0;31m        \u001b[0m_logger\u001b[0m\u001b[0;34m.\u001b[0m\u001b[0minfo\u001b[0m\u001b[0;34m(\u001b[0m\u001b[0;34m'Updating ends of transcripts...'\u001b[0m\u001b[0;34m)\u001b[0m\u001b[0;34m\u001b[0m\u001b[0;34m\u001b[0m\u001b[0m\n",
      "\u001b[0m\u001b[0;32m   2554 \u001b[0;31m        \u001b[0mdf\u001b[0m \u001b[0;34m=\u001b[0m \u001b[0mupdate_gtf_ends\u001b[0m\u001b[0;34m(\u001b[0m\u001b[0mdf\u001b[0m\u001b[0;34m,\u001b[0m \u001b[0mtss\u001b[0m\u001b[0;34m,\u001b[0m \u001b[0mtes\u001b[0m\u001b[0;34m)\u001b[0m\u001b[0;34m\u001b[0m\u001b[0;34m\u001b[0m\u001b[0m\n",
      "\u001b[0m\u001b[0;32m   2555 \u001b[0;31m\u001b[0;34m\u001b[0m\u001b[0m\n",
      "\u001b[0m\n"
     ]
    },
    {
     "name": "stdin",
     "output_type": "stream",
     "text": [
      "ipdb>  n\n"
     ]
    },
    {
     "name": "stderr",
     "output_type": "stream",
     "text": [
      "1701893077.650987:INFO:Cerberus:cerberus:Updating ends of transcripts...\n"
     ]
    },
    {
     "name": "stdout",
     "output_type": "stream",
     "text": [
      "> \u001b[0;32m/Users/fairliereese/Documents/programming/mortazavi_lab/bin/cerberus/cerberus/cerberus.py\u001b[0m(2554)\u001b[0;36mreplace_gtf_ids\u001b[0;34m()\u001b[0m\n",
      "\u001b[0;32m   2552 \u001b[0;31m    \u001b[0;32mif\u001b[0m \u001b[0mupdate_ends\u001b[0m\u001b[0;34m:\u001b[0m\u001b[0;34m\u001b[0m\u001b[0;34m\u001b[0m\u001b[0m\n",
      "\u001b[0m\u001b[0;32m   2553 \u001b[0;31m        \u001b[0m_logger\u001b[0m\u001b[0;34m.\u001b[0m\u001b[0minfo\u001b[0m\u001b[0;34m(\u001b[0m\u001b[0;34m'Updating ends of transcripts...'\u001b[0m\u001b[0;34m)\u001b[0m\u001b[0;34m\u001b[0m\u001b[0;34m\u001b[0m\u001b[0m\n",
      "\u001b[0m\u001b[0;32m-> 2554 \u001b[0;31m        \u001b[0mdf\u001b[0m \u001b[0;34m=\u001b[0m \u001b[0mupdate_gtf_ends\u001b[0m\u001b[0;34m(\u001b[0m\u001b[0mdf\u001b[0m\u001b[0;34m,\u001b[0m \u001b[0mtss\u001b[0m\u001b[0;34m,\u001b[0m \u001b[0mtes\u001b[0m\u001b[0;34m)\u001b[0m\u001b[0;34m\u001b[0m\u001b[0;34m\u001b[0m\u001b[0m\n",
      "\u001b[0m\u001b[0;32m   2555 \u001b[0;31m\u001b[0;34m\u001b[0m\u001b[0m\n",
      "\u001b[0m\u001b[0;32m   2556 \u001b[0;31m    \u001b[0;31m# deduplicate transcripts with the same triplets\u001b[0m\u001b[0;34m\u001b[0m\u001b[0;34m\u001b[0m\u001b[0;34m\u001b[0m\u001b[0m\n",
      "\u001b[0m\n"
     ]
    },
    {
     "name": "stdin",
     "output_type": "stream",
     "text": [
      "ipdb>  n\n"
     ]
    },
    {
     "name": "stdout",
     "output_type": "stream",
     "text": [
      "> \u001b[0;32m/Users/fairliereese/Documents/programming/mortazavi_lab/bin/cerberus/cerberus/cerberus.py\u001b[0m(2557)\u001b[0;36mreplace_gtf_ids\u001b[0;34m()\u001b[0m\n",
      "\u001b[0;32m   2555 \u001b[0;31m\u001b[0;34m\u001b[0m\u001b[0m\n",
      "\u001b[0m\u001b[0;32m   2556 \u001b[0;31m    \u001b[0;31m# deduplicate transcripts with the same triplets\u001b[0m\u001b[0;34m\u001b[0m\u001b[0;34m\u001b[0m\u001b[0;34m\u001b[0m\u001b[0m\n",
      "\u001b[0m\u001b[0;32m-> 2557 \u001b[0;31m    \u001b[0;32mif\u001b[0m \u001b[0magg\u001b[0m\u001b[0;34m:\u001b[0m\u001b[0;34m\u001b[0m\u001b[0;34m\u001b[0m\u001b[0m\n",
      "\u001b[0m\u001b[0;32m   2558 \u001b[0;31m        \u001b[0m_logger\u001b[0m\u001b[0;34m.\u001b[0m\u001b[0minfo\u001b[0m\u001b[0;34m(\u001b[0m\u001b[0;34m'Deduplicating transcripts...'\u001b[0m\u001b[0;34m)\u001b[0m\u001b[0;34m\u001b[0m\u001b[0;34m\u001b[0m\u001b[0m\n",
      "\u001b[0m\u001b[0;32m   2559 \u001b[0;31m        \u001b[0mdf\u001b[0m \u001b[0;34m=\u001b[0m \u001b[0magg_gtf\u001b[0m\u001b[0;34m(\u001b[0m\u001b[0mdf\u001b[0m\u001b[0;34m)\u001b[0m\u001b[0;34m\u001b[0m\u001b[0;34m\u001b[0m\u001b[0m\n",
      "\u001b[0m\n"
     ]
    },
    {
     "name": "stdin",
     "output_type": "stream",
     "text": [
      "ipdb>  df.head()\n"
     ]
    },
    {
     "name": "stdout",
     "output_type": "stream",
     "text": [
      "  Chromosome    Source     Feature      Start        End Score Strand Frame  \\\n",
      "0       chrX  IsoQuant        gene  100593573  100599935     .      +     .   \n",
      "1       chrX  IsoQuant  transcript  100593573  100599935     .      +     .   \n",
      "2       chrX  IsoQuant        exon  100593573  100594035     .      +     .   \n",
      "3       chrX  IsoQuant        exon  100594260  100594362     .      +     .   \n",
      "4       chrX  IsoQuant        exon  100597503  100597657     .      +     .   \n",
      "\n",
      "             gene_id transcripts  ...             tss_id  tss  \\\n",
      "0  ENSG00000000005.5           1  ...                NaN  NaN   \n",
      "1  ENSG00000000005.5         NaN  ...  ENSG00000000005_2  2.0   \n",
      "2  ENSG00000000005.5         NaN  ...  ENSG00000000005_2  2.0   \n",
      "3  ENSG00000000005.5         NaN  ...  ENSG00000000005_2  2.0   \n",
      "4  ENSG00000000005.5         NaN  ...  ENSG00000000005_2  2.0   \n",
      "\n",
      "              tes_id  tes original_transcript_name           transcript_id  \\\n",
      "0                NaN  NaN                      NaN                     NaN   \n",
      "1  ENSG00000000005_1  1.0  transcript6232.chrX.nic  ENSG00000000005[2,3,1]   \n",
      "2  ENSG00000000005_1  1.0  transcript6232.chrX.nic  ENSG00000000005[2,3,1]   \n",
      "3  ENSG00000000005_1  1.0  transcript6232.chrX.nic  ENSG00000000005[2,3,1]   \n",
      "4  ENSG00000000005_1  1.0  transcript6232.chrX.nic  ENSG00000000005[2,3,1]   \n",
      "\n",
      "  transcript_name tss_first_sd_issue tes_last_sa_issue gene_name  \n",
      "0             NaN                NaN               NaN      TNMD  \n",
      "1     TNMD[2,3,1]              False             False      TNMD  \n",
      "2     TNMD[2,3,1]              False             False      TNMD  \n",
      "3     TNMD[2,3,1]              False             False      TNMD  \n",
      "4     TNMD[2,3,1]              False             False      TNMD  \n",
      "\n",
      "[5 rows x 32 columns]\n"
     ]
    },
    {
     "name": "stdin",
     "output_type": "stream",
     "text": [
      "ipdb>  n\n"
     ]
    },
    {
     "name": "stdout",
     "output_type": "stream",
     "text": [
      "> \u001b[0;32m/Users/fairliereese/Documents/programming/mortazavi_lab/bin/cerberus/cerberus/cerberus.py\u001b[0m(2558)\u001b[0;36mreplace_gtf_ids\u001b[0;34m()\u001b[0m\n",
      "\u001b[0;32m   2556 \u001b[0;31m    \u001b[0;31m# deduplicate transcripts with the same triplets\u001b[0m\u001b[0;34m\u001b[0m\u001b[0;34m\u001b[0m\u001b[0;34m\u001b[0m\u001b[0m\n",
      "\u001b[0m\u001b[0;32m   2557 \u001b[0;31m    \u001b[0;32mif\u001b[0m \u001b[0magg\u001b[0m\u001b[0;34m:\u001b[0m\u001b[0;34m\u001b[0m\u001b[0;34m\u001b[0m\u001b[0m\n",
      "\u001b[0m\u001b[0;32m-> 2558 \u001b[0;31m        \u001b[0m_logger\u001b[0m\u001b[0;34m.\u001b[0m\u001b[0minfo\u001b[0m\u001b[0;34m(\u001b[0m\u001b[0;34m'Deduplicating transcripts...'\u001b[0m\u001b[0;34m)\u001b[0m\u001b[0;34m\u001b[0m\u001b[0;34m\u001b[0m\u001b[0m\n",
      "\u001b[0m\u001b[0;32m   2559 \u001b[0;31m        \u001b[0mdf\u001b[0m \u001b[0;34m=\u001b[0m \u001b[0magg_gtf\u001b[0m\u001b[0;34m(\u001b[0m\u001b[0mdf\u001b[0m\u001b[0;34m)\u001b[0m\u001b[0;34m\u001b[0m\u001b[0;34m\u001b[0m\u001b[0m\n",
      "\u001b[0m\u001b[0;32m   2560 \u001b[0;31m\u001b[0;34m\u001b[0m\u001b[0m\n",
      "\u001b[0m\n"
     ]
    },
    {
     "name": "stdin",
     "output_type": "stream",
     "text": [
      "ipdb>  n\n"
     ]
    },
    {
     "name": "stderr",
     "output_type": "stream",
     "text": [
      "1701893134.156846:INFO:Cerberus:cerberus:Deduplicating transcripts...\n"
     ]
    },
    {
     "name": "stdout",
     "output_type": "stream",
     "text": [
      "> \u001b[0;32m/Users/fairliereese/Documents/programming/mortazavi_lab/bin/cerberus/cerberus/cerberus.py\u001b[0m(2559)\u001b[0;36mreplace_gtf_ids\u001b[0;34m()\u001b[0m\n",
      "\u001b[0;32m   2557 \u001b[0;31m    \u001b[0;32mif\u001b[0m \u001b[0magg\u001b[0m\u001b[0;34m:\u001b[0m\u001b[0;34m\u001b[0m\u001b[0;34m\u001b[0m\u001b[0m\n",
      "\u001b[0m\u001b[0;32m   2558 \u001b[0;31m        \u001b[0m_logger\u001b[0m\u001b[0;34m.\u001b[0m\u001b[0minfo\u001b[0m\u001b[0;34m(\u001b[0m\u001b[0;34m'Deduplicating transcripts...'\u001b[0m\u001b[0;34m)\u001b[0m\u001b[0;34m\u001b[0m\u001b[0;34m\u001b[0m\u001b[0m\n",
      "\u001b[0m\u001b[0;32m-> 2559 \u001b[0;31m        \u001b[0mdf\u001b[0m \u001b[0;34m=\u001b[0m \u001b[0magg_gtf\u001b[0m\u001b[0;34m(\u001b[0m\u001b[0mdf\u001b[0m\u001b[0;34m)\u001b[0m\u001b[0;34m\u001b[0m\u001b[0;34m\u001b[0m\u001b[0m\n",
      "\u001b[0m\u001b[0;32m   2560 \u001b[0;31m\u001b[0;34m\u001b[0m\u001b[0m\n",
      "\u001b[0m\u001b[0;32m   2561 \u001b[0;31m    \u001b[0;31m# df.drop(['transcript_id', 'transcript_name'], axis=1, inplace=True)\u001b[0m\u001b[0;34m\u001b[0m\u001b[0;34m\u001b[0m\u001b[0;34m\u001b[0m\u001b[0m\n",
      "\u001b[0m\n"
     ]
    },
    {
     "name": "stdin",
     "output_type": "stream",
     "text": [
      "ipdb>  n\n"
     ]
    },
    {
     "name": "stdout",
     "output_type": "stream",
     "text": [
      "> \u001b[0;32m/Users/fairliereese/Documents/programming/mortazavi_lab/bin/cerberus/cerberus/cerberus.py\u001b[0m(2567)\u001b[0;36mreplace_gtf_ids\u001b[0;34m()\u001b[0m\n",
      "\u001b[0;32m   2564 \u001b[0;31m    \u001b[0;31m#            axis=1, inplace=True)\u001b[0m\u001b[0;34m\u001b[0m\u001b[0;34m\u001b[0m\u001b[0;34m\u001b[0m\u001b[0m\n",
      "\u001b[0m\u001b[0;32m   2565 \u001b[0;31m\u001b[0;34m\u001b[0m\u001b[0m\n",
      "\u001b[0m\u001b[0;32m   2566 \u001b[0;31m    \u001b[0;31m# write gtf\u001b[0m\u001b[0;34m\u001b[0m\u001b[0;34m\u001b[0m\u001b[0;34m\u001b[0m\u001b[0m\n",
      "\u001b[0m\u001b[0;32m-> 2567 \u001b[0;31m    \u001b[0mdf\u001b[0m \u001b[0;34m=\u001b[0m \u001b[0mpr\u001b[0m\u001b[0;34m.\u001b[0m\u001b[0mPyRanges\u001b[0m\u001b[0;34m(\u001b[0m\u001b[0mdf\u001b[0m\u001b[0;34m)\u001b[0m\u001b[0;34m\u001b[0m\u001b[0;34m\u001b[0m\u001b[0m\n",
      "\u001b[0m\u001b[0;32m   2568 \u001b[0;31m    \u001b[0mdf\u001b[0m\u001b[0;34m.\u001b[0m\u001b[0mto_gtf\u001b[0m\u001b[0;34m(\u001b[0m\u001b[0mo\u001b[0m\u001b[0;34m)\u001b[0m\u001b[0;34m\u001b[0m\u001b[0;34m\u001b[0m\u001b[0m\n",
      "\u001b[0m\n"
     ]
    },
    {
     "name": "stdin",
     "output_type": "stream",
     "text": [
      "ipdb>  df.head()\n"
     ]
    },
    {
     "name": "stdout",
     "output_type": "stream",
     "text": [
      "  Chromosome     Feature      Start        End Score Strand Frame  \\\n",
      "0       chrX        gene  100593573  100599935     .      +     .   \n",
      "1       chrX  transcript  100593573  100599935     .      +     .   \n",
      "2       chrX        exon  100593573  100594035     .      +     .   \n",
      "3       chrX        exon  100594260  100594362     .      +     .   \n",
      "4       chrX        exon  100597503  100597657     .      +     .   \n",
      "\n",
      "             gene_id       gene_type   ic  ... original_transcript_id  \\\n",
      "0  ENSG00000000005.5  protein_coding  NaN  ...                    NaN   \n",
      "1  ENSG00000000005.5             NaN  3.0  ...                    NaN   \n",
      "2  ENSG00000000005.5             NaN  3.0  ...                    NaN   \n",
      "3  ENSG00000000005.5             NaN  3.0  ...                    NaN   \n",
      "4  ENSG00000000005.5             NaN  3.0  ...                    NaN   \n",
      "\n",
      "  original_transcript_name  exon_id alternatives  exons exon Source Canonical  \\\n",
      "0                      NaN      NaN          NaN    NaN  NaN    NaN       NaN   \n",
      "1                      NaN      NaN          NaN    NaN  NaN    NaN       NaN   \n",
      "2                      NaN      NaN          NaN    NaN  NaN    NaN       NaN   \n",
      "3                      NaN      NaN          NaN    NaN  NaN    NaN       NaN   \n",
      "4                      NaN      NaN          NaN    NaN  NaN    NaN       NaN   \n",
      "\n",
      "   tag transcripts  \n",
      "0  NaN         NaN  \n",
      "1  NaN         NaN  \n",
      "2  NaN         NaN  \n",
      "3  NaN         NaN  \n",
      "4  NaN         NaN  \n",
      "\n",
      "[5 rows x 32 columns]\n"
     ]
    },
    {
     "name": "stdin",
     "output_type": "stream",
     "text": [
      "ipdb>  df.columns\n"
     ]
    },
    {
     "name": "stdout",
     "output_type": "stream",
     "text": [
      "Index(['Chromosome', 'Feature', 'Start', 'End', 'Score', 'Strand', 'Frame',\n",
      "       'gene_id', 'gene_type', 'ic', 'ic_id', 'tss_id', 'tss', 'tes_id', 'tes',\n",
      "       'transcript_id', 'transcript_name', 'gene_name', 'similar_reference_id',\n",
      "       'tss_first_sd_issue', 'havana_gene', 'tes_last_sa_issue',\n",
      "       'original_transcript_id', 'original_transcript_name', 'exon_id',\n",
      "       'alternatives', 'exons', 'exon', 'Source', 'Canonical', 'tag',\n",
      "       'transcripts'],\n",
      "      dtype='object')\n"
     ]
    },
    {
     "name": "stdin",
     "output_type": "stream",
     "text": [
      "ipdb>  df[['Feature', 'transcript_id', 'transcript_name']].head()\n"
     ]
    },
    {
     "name": "stdout",
     "output_type": "stream",
     "text": [
      "      Feature           transcript_id transcript_name\n",
      "0        gene                     NaN             NaN\n",
      "1  transcript  ENSG00000000005[2,3,1]     TNMD[2,3,1]\n",
      "2        exon  ENSG00000000005[2,3,1]     TNMD[2,3,1]\n",
      "3        exon  ENSG00000000005[2,3,1]     TNMD[2,3,1]\n",
      "4        exon  ENSG00000000005[2,3,1]     TNMD[2,3,1]\n"
     ]
    },
    {
     "name": "stdin",
     "output_type": "stream",
     "text": [
      "ipdb>  c\n"
     ]
    }
   ],
   "source": [
    "cerberus.replace_gtf_ids(iq_cerberus_h5,\n",
    "                                iq_gtf,\n",
    "                                'isoquant_wtc11',\n",
    "                                True,\n",
    "                                True,\n",
    "                                'test_iq_replace_gtf_ids.gtf')"
   ]
  },
  {
   "cell_type": "code",
   "execution_count": null,
   "id": "c3be1941-8fef-4698-a17d-737129f1872b",
   "metadata": {},
   "outputs": [],
   "source": []
  }
 ],
 "metadata": {
  "kernelspec": {
   "display_name": "Python 3",
   "language": "python",
   "name": "python3"
  },
  "language_info": {
   "codemirror_mode": {
    "name": "ipython",
    "version": 3
   },
   "file_extension": ".py",
   "mimetype": "text/x-python",
   "name": "python",
   "nbconvert_exporter": "python",
   "pygments_lexer": "ipython3",
   "version": "3.7.12"
  }
 },
 "nbformat": 4,
 "nbformat_minor": 5
}
