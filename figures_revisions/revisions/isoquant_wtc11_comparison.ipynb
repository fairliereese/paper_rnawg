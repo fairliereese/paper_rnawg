{
 "cells": [
  {
   "cell_type": "code",
   "execution_count": 5,
   "id": "0d295450-344d-4bf0-9261-f460b1549b69",
   "metadata": {},
   "outputs": [],
   "source": [
    "# yunzhe and beatrice generated IsoQuant results from the WTC11 LRGASP data"
   ]
  },
  {
   "cell_type": "code",
   "execution_count": 2,
   "id": "7a2d140a-6976-4d5f-9da5-4798f13cd4bd",
   "metadata": {},
   "outputs": [],
   "source": [
    "import pandas as pd\n",
    "import numpy as np\n",
    "import scipy.stats as st\n",
    "import seaborn as sns\n",
    "import sys\n",
    "import os\n",
    "import gseapy as gp\n",
    "import matplotlib.pyplot as plt\n",
    "import swan_vis as swan\n",
    "import yaml\n",
    "from snakemake.io import expand\n",
    "\n",
    "p = os.path.dirname(os.path.dirname(os.getcwd()))\n",
    "sys.path.append(p)\n",
    "\n",
    "from proc_revisions.utils import *\n",
    "from proc_revisions.plotting import *"
   ]
  },
  {
   "cell_type": "code",
   "execution_count": 3,
   "id": "62341496-1b5a-4109-a615-3532b5d7ad6c",
   "metadata": {},
   "outputs": [],
   "source": [
    "od = '../../proc_revisions/'\n",
    "config_file = f'{od}/config.yml'\n",
    "with open(config_file) as f:\n",
    "    config = yaml.safe_load(f)"
   ]
  },
  {
   "cell_type": "code",
   "execution_count": 4,
   "id": "2c45c86e-3511-4e9c-a2db-e740f6025108",
   "metadata": {},
   "outputs": [],
   "source": [
    "ab = od+expand(config['lr']['talon']['ab'], species='human')[0]\n",
    "filt_ab = od+expand(config['lr']['cerberus']['filt_ab'], species='human')[0]\n",
    "read_annot = od+expand(config['lr']['talon']['full_annot'], species='human')[0]\n",
    "t_metadata = od+expand(config['ref']['cerberus']['new_gtf_t_info'], species='human')[0]\n",
    "lib_meta = od+expand(config['lr']['meta'], species='human')[0]\n",
    "swan_file = od+expand(config['lr']['swan']['sg'], species='human')[0]\n",
    "cerberus_h5 = od+expand(config['lr']['cerberus']['ca_triplets'], species='human', obs_col='sample')[0]\n",
    "cerb_t_metadata = od+expand(config['lr']['cerberus']['gtf_t_info'], species='human')[0]\n",
    "major_isos = od+expand(config['lr']['analysis']['major_isos'], species='human', obs_col='sample')[0]\n",
    "pi_tpm_table = od+expand(config['lr']['mane']['pi_tpm']['triplet'], species='human', obs_col='sample')[0]\n",
    "\n",
    "ref_t_metadata = od+expand(config['ref']['new_gtf_t_info'], species='human')[0]\n",
    "ref_g_metadata = od+expand(config['ref']['new_gtf_g_info'], species='human')[0]\n",
    "\n",
    "# pp_summary = '../'+expand(config['data']['p_pred']['summary'], species='human')[0]\n",
    "\n",
    "\n",
    "iq_gtf = od+expand(config['lr']['isoquant']['gtf'], species='human')[0]\n",
    "iq_ics = od+expand(config['lr']['isoquant']['cerberus']['ics'], species='human')[0]\n",
    "iq_ab = od+expand(config['lr']['isoquant']['novel_ab'], species='human')[0]\n",
    "\n",
    "ver = 'v40_cerberus'\n",
    "min_tpm = 1\n",
    "gene_subset = 'polya'\n",
    "obs_col = 'sample'\n",
    "go_gene_subset = 'protein_coding'\n",
    "predom_iso_subset = 'protein_coding'\n",
    "\n",
    "m_lib_meta = od+expand(config['lr']['meta'], species='mouse')[0]"
   ]
  },
  {
   "cell_type": "markdown",
   "id": "9bb3c715-6cdf-4d91-84ed-ed22b7e9d2ec",
   "metadata": {},
   "source": [
    "## Venn diagrams of transcripts we detect in IsoQuant+Cerberus vs. TALON+LAPA+Cerberus\n"
   ]
  },
  {
   "cell_type": "markdown",
   "id": "cf16fa7a-2e48-4477-ae18-dedac4edda42",
   "metadata": {},
   "source": [
    "## How many transcripts do we detect in WTC11?"
   ]
  },
  {
   "cell_type": "code",
   "execution_count": 4,
   "id": "8c63d1bb-d7b8-492a-9cf3-1537e4df34bd",
   "metadata": {},
   "outputs": [],
   "source": [
    "# df = pd.read_csv(filt_ab, sep='\\t')\n",
    "# df, tids = get_tpm_table(df, \n",
    "#                          how='iso',\n",
    "#                          min_tpm=1,\n",
    "#                          gene_subset=None,\n",
    "#                          sample=['wtc11'])"
   ]
  },
  {
   "cell_type": "markdown",
   "id": "949fe5ef-df24-4d5c-99d9-70760485817b",
   "metadata": {},
   "source": [
    "## Check out WTC11 GTF"
   ]
  },
  {
   "cell_type": "code",
   "execution_count": 5,
   "id": "5befcc14-e96c-4cf4-9ae8-deb893025cab",
   "metadata": {},
   "outputs": [],
   "source": [
    "# df = pr.read_gtf(isoquant_gtf)\n",
    "# df.head()"
   ]
  },
  {
   "cell_type": "code",
   "execution_count": 6,
   "id": "0f92637c-3368-4528-85ed-b33483547094",
   "metadata": {},
   "outputs": [],
   "source": [
    "# need to get cerberus version of GTF, abundance file\n",
    "# need to filter stuff in the same way ie remove unspliced\n",
    "# unsuppored ISMs\n"
   ]
  },
  {
   "cell_type": "code",
   "execution_count": 7,
   "id": "f8e8bb78-b41a-4249-b618-4189f21d8f19",
   "metadata": {},
   "outputs": [
    {
     "data": {
      "text/plain": [
       "['gtex', 'v29', 'v40', 'lapa']"
      ]
     },
     "execution_count": 7,
     "metadata": {},
     "output_type": "execute_result"
    }
   ],
   "source": [
    "ca = cerberus.read(cerberus_h5)\n",
    "ca.ic_sources"
   ]
  },
  {
   "cell_type": "code",
   "execution_count": 8,
   "id": "5fe5d682-f50c-4ed3-8172-612f72bd19c4",
   "metadata": {},
   "outputs": [],
   "source": [
    "# def add_ics(ca,\n",
    "#                 ic,\n",
    "#                 ref,\n",
    "#                 source):\n",
    "#         \"\"\"\n",
    "#         Add features or incorporate them as forms of support to an\n",
    "#         existing CerberusAnnotation.\n",
    "\n",
    "#         Parameters:\n",
    "#             ic (str): IC TSV file path\n",
    "#             ref (bool): Use regions from IC file as reference regions to define\n",
    "#                 region novelty\n",
    "#             source (str): Name of BED source\n",
    "#         \"\"\"\n",
    "\n",
    "#         df = ca.ic.copy(deep=True)\n",
    "#         sources = ca.ic_sources\n",
    "#         df['id'] = [i for i in range(len(df.index))]\n",
    "\n",
    "#         if source in sources:\n",
    "#             raise Exception(f'IC source {source} already in CerberusAnnotation.')\n",
    "\n",
    "#         if len(df) > 0:\n",
    "#             first_add = False\n",
    "#         else:\n",
    "#             first_add = True\n",
    "            \n",
    "#         temp = cerberus.read_ic_ref(ic)\n",
    "        \n",
    "#         # if we're dealing with a new ic file,\n",
    "#         # update the ic novelty and source name\n",
    "#         # otherwise, retain the labels already given\n",
    "#         # in the ics file\n",
    "#         if source != 'cerberus':\n",
    "#             temp['source'] = source\n",
    "#             if ref:\n",
    "#                 nov = 'Known'\n",
    "#             else:\n",
    "#                 nov = 'Novel'\n",
    "#             temp['novelty'] = nov\n",
    "        \n",
    "#         df = cerberus.agg_2_ics(df, temp)\n",
    "\n",
    "#         # determine ic novelty for novel ics\n",
    "#         # if source != 'cerberus':\n",
    "#         df = cerberus.get_ic_novelty(df)\n",
    "\n",
    "#         # drop gene id and ic number as they are captured in name\n",
    "#         df.drop(['gene_id', 'ic'], axis=1, inplace=True)\n",
    "        \n",
    "#         # update ics in ca\n",
    "#         ca.ic = df\n",
    "#         ca.ic_sources.append(source)\n"
   ]
  },
  {
   "cell_type": "code",
   "execution_count": 9,
   "id": "024e2e8a-6de7-4771-a047-b96a2483dcd0",
   "metadata": {},
   "outputs": [],
   "source": [
    "# new cerberus function to add ics to an existing thing\n",
    "ics = pd.read_csv(iq_ics, sep='\\t')"
   ]
  },
  {
   "cell_type": "code",
   "execution_count": 10,
   "id": "49dde5be-5d37-4b28-88ed-cd5ece471634",
   "metadata": {},
   "outputs": [],
   "source": [
    "add_ics(ca,\n",
    "                iq_ics,\n",
    "                False,\n",
    "                'isoquant_wtc11')"
   ]
  },
  {
   "cell_type": "code",
   "execution_count": 11,
   "id": "10bb34de-61da-4955-9228-7957c19e1488",
   "metadata": {},
   "outputs": [
    {
     "data": {
      "text/plain": [
       "['gtex', 'v29', 'v40', 'lapa', 'isoquant_wtc11']"
      ]
     },
     "execution_count": 11,
     "metadata": {},
     "output_type": "execute_result"
    }
   ],
   "source": [
    "ca.ic_sources"
   ]
  },
  {
   "cell_type": "code",
   "execution_count": 17,
   "id": "68b87135-6c69-4094-93c7-7bc8bd4fbf0a",
   "metadata": {},
   "outputs": [
    {
     "data": {
      "text/plain": [
       "<AxesSubplot:xlabel='novelty', ylabel='Name'>"
      ]
     },
     "execution_count": 17,
     "metadata": {},
     "output_type": "execute_result"
    },
    {
     "data": {
      "image/png": "[encoded data removed]",
      "text/plain": [
       "<Figure size 432x288 with 1 Axes>"
      ]
     },
     "metadata": {
      "needs_background": "light"
     },
     "output_type": "display_data"
    }
   ],
   "source": [
    "df = ca.ic.loc[ca.ic.source.str.contains('isoquant')].copy(deep=True)\n",
    "temp = df[['novelty', 'Name']].groupby('novelty').count().reset_index()\n",
    "sns.barplot(temp, y='Name', x='novelty')"
   ]
  },
  {
   "cell_type": "code",
   "execution_count": 18,
   "id": "b8ab5299-9c1c-4d30-8ff9-a30dde10b31d",
   "metadata": {},
   "outputs": [
    {
     "data": {
      "text/plain": [
       "<AxesSubplot:xlabel='novelty', ylabel='Name'>"
      ]
     },
     "execution_count": 18,
     "metadata": {},
     "output_type": "execute_result"
    },
    {
     "data": {
      "image/png": "[encoded data removed]",
      "text/plain": [
       "<Figure size 432x288 with 1 Axes>"
      ]
     },
     "metadata": {
      "needs_background": "light"
     },
     "output_type": "display_data"
    }
   ],
   "source": [
    "df = ca.ic.loc[ca.ic.source.str.contains('lapa')].copy(deep=True)\n",
    "temp = df[['novelty', 'Name']].groupby('novelty').count().reset_index()\n",
    "sns.barplot(temp, y='Name', x='novelty')"
   ]
  },
  {
   "cell_type": "markdown",
   "id": "6d6e2afb-d4e7-458d-af9d-29d4cfb1417f",
   "metadata": {},
   "source": [
    "## Format IsoQuant abundance file"
   ]
  },
  {
   "cell_type": "code",
   "execution_count": 20,
   "id": "5054406a-64e5-49e2-accd-ff746078ef12",
   "metadata": {},
   "outputs": [],
   "source": [
    "def format_isoquant_ab(ab, dataset, lib_meta, ofile):\n",
    "    \"\"\"\n",
    "    Format abundance file from isoquant GFF into a format\n",
    "    that Cerberus can deal with\n",
    "    \"\"\"\n",
    "    meta = pd.read_csv(lib_meta, sep='\\t')\n",
    "    df = pd.read_csv(ab, sep='\\t')\n",
    "    df.head()\n",
    "    df['annot_transcript_id'] = df['#feature_id']\n",
    "    df['annot_transcript_name'] = df['annot_transcript_id']\n",
    "    df['transcript_ID'] = df['annot_transcript_id']\n",
    "    df.columns = [c.split('.')[0] for c in df.columns]\n",
    "    df.drop('#feature_id', axis=1, inplace=True)\n",
    "    m = dict([(entry['ENCODE_alignments_id'], entry['dataset']) for ind, entry in meta[['dataset', 'ENCODE_alignments_id']].iterrows()])\n",
    "    df.columns = [m[c] if 'ENCFF' in c else c for c in df.columns]\n",
    "    \n",
    "    df.to_csv(ofile, sep='\\t', index=False)"
   ]
  },
  {
   "cell_type": "code",
   "execution_count": 48,
   "id": "44a0981b-8cbd-4002-8e16-7271eb897b0a",
   "metadata": {},
   "outputs": [
    {
     "data": {
      "text/html": [
       "<div>\n",
       "<style scoped>\n",
       "    .dataframe tbody tr th:only-of-type {\n",
       "        vertical-align: middle;\n",
       "    }\n",
       "\n",
       "    .dataframe tbody tr th {\n",
       "        vertical-align: top;\n",
       "    }\n",
       "\n",
       "    .dataframe thead th {\n",
       "        text-align: right;\n",
       "    }\n",
       "</style>\n",
       "<table border=\"1\" class=\"dataframe\">\n",
       "  <thead>\n",
       "    <tr style=\"text-align: right;\">\n",
       "      <th></th>\n",
       "      <th>wtc11_1_1</th>\n",
       "      <th>wtc11_1_3</th>\n",
       "      <th>wtc11_1_2</th>\n",
       "      <th>annot_transcript_id</th>\n",
       "      <th>annot_transcript_name</th>\n",
       "      <th>transcript_ID</th>\n",
       "    </tr>\n",
       "  </thead>\n",
       "  <tbody>\n",
       "    <tr>\n",
       "      <th>0</th>\n",
       "      <td>5.016551</td>\n",
       "      <td>4.130977</td>\n",
       "      <td>10.360410</td>\n",
       "      <td>ENST00000003583.12</td>\n",
       "      <td>ENST00000003583.12</td>\n",
       "      <td>ENST00000003583.12</td>\n",
       "    </tr>\n",
       "    <tr>\n",
       "      <th>1</th>\n",
       "      <td>2.315331</td>\n",
       "      <td>1.652391</td>\n",
       "      <td>6.906940</td>\n",
       "      <td>ENST00000003912.7</td>\n",
       "      <td>ENST00000003912.7</td>\n",
       "      <td>ENST00000003912.7</td>\n",
       "    </tr>\n",
       "    <tr>\n",
       "      <th>2</th>\n",
       "      <td>27.012200</td>\n",
       "      <td>16.523907</td>\n",
       "      <td>12.662723</td>\n",
       "      <td>ENST00000040877.1</td>\n",
       "      <td>ENST00000040877.1</td>\n",
       "      <td>ENST00000040877.1</td>\n",
       "    </tr>\n",
       "    <tr>\n",
       "      <th>3</th>\n",
       "      <td>12.348434</td>\n",
       "      <td>12.117532</td>\n",
       "      <td>18.418507</td>\n",
       "      <td>ENST00000054650.8</td>\n",
       "      <td>ENST00000054650.8</td>\n",
       "      <td>ENST00000054650.8</td>\n",
       "    </tr>\n",
       "    <tr>\n",
       "      <th>4</th>\n",
       "      <td>50.165515</td>\n",
       "      <td>40.758970</td>\n",
       "      <td>56.406677</td>\n",
       "      <td>ENST00000054666.10</td>\n",
       "      <td>ENST00000054666.10</td>\n",
       "      <td>ENST00000054666.10</td>\n",
       "    </tr>\n",
       "  </tbody>\n",
       "</table>\n",
       "</div>"
      ],
      "text/plain": [
       "   wtc11_1_1  wtc11_1_3  wtc11_1_2 annot_transcript_id annot_transcript_name  \\\n",
       "0   5.016551   4.130977  10.360410  ENST00000003583.12    ENST00000003583.12   \n",
       "1   2.315331   1.652391   6.906940   ENST00000003912.7     ENST00000003912.7   \n",
       "2  27.012200  16.523907  12.662723   ENST00000040877.1     ENST00000040877.1   \n",
       "3  12.348434  12.117532  18.418507   ENST00000054650.8     ENST00000054650.8   \n",
       "4  50.165515  40.758970  56.406677  ENST00000054666.10    ENST00000054666.10   \n",
       "\n",
       "        transcript_ID  \n",
       "0  ENST00000003583.12  \n",
       "1   ENST00000003912.7  \n",
       "2   ENST00000040877.1  \n",
       "3   ENST00000054650.8  \n",
       "4  ENST00000054666.10  "
      ]
     },
     "execution_count": 48,
     "metadata": {},
     "output_type": "execute_result"
    }
   ],
   "source": [
    "\n",
    "df.head()\n"
   ]
  },
  {
   "cell_type": "code",
   "execution_count": 34,
   "id": "9b9c11d5-6f2a-4beb-97f0-17621b7abe86",
   "metadata": {},
   "outputs": [
    {
     "data": {
      "text/html": [
       "<div>\n",
       "<style scoped>\n",
       "    .dataframe tbody tr th:only-of-type {\n",
       "        vertical-align: middle;\n",
       "    }\n",
       "\n",
       "    .dataframe tbody tr th {\n",
       "        vertical-align: top;\n",
       "    }\n",
       "\n",
       "    .dataframe thead th {\n",
       "        text-align: right;\n",
       "    }\n",
       "</style>\n",
       "<table border=\"1\" class=\"dataframe\">\n",
       "  <thead>\n",
       "    <tr style=\"text-align: right;\">\n",
       "      <th></th>\n",
       "      <th>ENCODE_experiment_id</th>\n",
       "      <th>dataset</th>\n",
       "      <th>sample</th>\n",
       "      <th>sample_display</th>\n",
       "      <th>general_tissue_cell_type</th>\n",
       "      <th>fig1_tissue_label</th>\n",
       "      <th>health_status</th>\n",
       "      <th>tissue_or_cell_line</th>\n",
       "      <th>sample_color_hex_code</th>\n",
       "      <th>matching_mouse_samples</th>\n",
       "      <th>reads_post_talon</th>\n",
       "      <th>ENCODE_alignments_id</th>\n",
       "      <th>ENCODE_reads_id</th>\n",
       "      <th>ENCODE_unfiltered_alignments_id</th>\n",
       "      <th>document_urls</th>\n",
       "      <th>document_labels</th>\n",
       "      <th>platform</th>\n",
       "      <th>RIN</th>\n",
       "      <th>spikeins</th>\n",
       "    </tr>\n",
       "  </thead>\n",
       "  <tbody>\n",
       "    <tr>\n",
       "      <th>0</th>\n",
       "      <td>ENCSR989ZYL</td>\n",
       "      <td>a673_1_1</td>\n",
       "      <td>a673</td>\n",
       "      <td>A673</td>\n",
       "      <td>a673</td>\n",
       "      <td>bone</td>\n",
       "      <td>NaN</td>\n",
       "      <td>cell_line</td>\n",
       "      <td>#de3700</td>\n",
       "      <td>NaN</td>\n",
       "      <td>1330194</td>\n",
       "      <td>ENCFF045ZQI</td>\n",
       "      <td>ENCFF168MIB</td>\n",
       "      <td>ENCFF440LXJ</td>\n",
       "      <td>https://www.encodeproject.org/documents/6d583a...</td>\n",
       "      <td>'ENCODE Long Read RNA-Seq Analysis Protocol fo...</td>\n",
       "      <td>Pacific Biosciences Sequel II</td>\n",
       "      <td>9.8</td>\n",
       "      <td>True</td>\n",
       "    </tr>\n",
       "    <tr>\n",
       "      <th>1</th>\n",
       "      <td>ENCSR989ZYL</td>\n",
       "      <td>a673_1_2</td>\n",
       "      <td>a673</td>\n",
       "      <td>A673</td>\n",
       "      <td>a673</td>\n",
       "      <td>bone</td>\n",
       "      <td>NaN</td>\n",
       "      <td>cell_line</td>\n",
       "      <td>#de3700</td>\n",
       "      <td>NaN</td>\n",
       "      <td>1707207</td>\n",
       "      <td>ENCFF320GCF</td>\n",
       "      <td>ENCFF861BKY</td>\n",
       "      <td>ENCFF240FZT</td>\n",
       "      <td>https://www.encodeproject.org/documents/6d583a...</td>\n",
       "      <td>'ENCODE Long Read RNA-Seq Analysis Protocol fo...</td>\n",
       "      <td>Pacific Biosciences Sequel II</td>\n",
       "      <td>9.8</td>\n",
       "      <td>True</td>\n",
       "    </tr>\n",
       "    <tr>\n",
       "      <th>2</th>\n",
       "      <td>ENCSR081NRO</td>\n",
       "      <td>adrenal_gland_1_1</td>\n",
       "      <td>adrenal_gland</td>\n",
       "      <td>Adrenal gland</td>\n",
       "      <td>adrenal gland</td>\n",
       "      <td>adrenal gland</td>\n",
       "      <td>NaN</td>\n",
       "      <td>tissue</td>\n",
       "      <td>#e69b00</td>\n",
       "      <td>adrenal_gland,adrenal_10d,adrenal_14d,adrenal_...</td>\n",
       "      <td>765655</td>\n",
       "      <td>ENCFF147OYL</td>\n",
       "      <td>ENCFF211SQY</td>\n",
       "      <td>ENCFF967OHL</td>\n",
       "      <td>https://www.encodeproject.org/documents/54012f...</td>\n",
       "      <td>'non-size selected cDNA libraries for use in P...</td>\n",
       "      <td>Pacific Biosciences Sequel</td>\n",
       "      <td>9.8</td>\n",
       "      <td>False</td>\n",
       "    </tr>\n",
       "    <tr>\n",
       "      <th>3</th>\n",
       "      <td>ENCSR563RLX</td>\n",
       "      <td>adrenal_gland_2_1</td>\n",
       "      <td>adrenal_gland</td>\n",
       "      <td>Adrenal gland</td>\n",
       "      <td>adrenal gland</td>\n",
       "      <td>adrenal gland</td>\n",
       "      <td>NaN</td>\n",
       "      <td>tissue</td>\n",
       "      <td>#e69b00</td>\n",
       "      <td>adrenal_gland,adrenal_10d,adrenal_14d,adrenal_...</td>\n",
       "      <td>1579294</td>\n",
       "      <td>ENCFF791WUV</td>\n",
       "      <td>ENCFF417ALN</td>\n",
       "      <td>ENCFF900XHI</td>\n",
       "      <td>https://www.encodeproject.org/documents/3baa46...</td>\n",
       "      <td>'PacBio libraries v3 (October, 2020) Protocol ...</td>\n",
       "      <td>Pacific Biosciences Sequel II</td>\n",
       "      <td>NaN</td>\n",
       "      <td>True</td>\n",
       "    </tr>\n",
       "    <tr>\n",
       "      <th>4</th>\n",
       "      <td>ENCSR995WKW</td>\n",
       "      <td>adrenal_gland_3_1</td>\n",
       "      <td>adrenal_gland</td>\n",
       "      <td>Adrenal gland</td>\n",
       "      <td>adrenal gland</td>\n",
       "      <td>adrenal gland</td>\n",
       "      <td>NaN</td>\n",
       "      <td>tissue</td>\n",
       "      <td>#e69b00</td>\n",
       "      <td>adrenal_gland,adrenal_10d,adrenal_14d,adrenal_...</td>\n",
       "      <td>577077</td>\n",
       "      <td>ENCFF243PFI</td>\n",
       "      <td>ENCFF912HPY</td>\n",
       "      <td>ENCFF020MWV</td>\n",
       "      <td>https://www.encodeproject.org/documents/54012f...</td>\n",
       "      <td>'non-size selected cDNA libraries for use in P...</td>\n",
       "      <td>Pacific Biosciences Sequel</td>\n",
       "      <td>9.4</td>\n",
       "      <td>False</td>\n",
       "    </tr>\n",
       "  </tbody>\n",
       "</table>\n",
       "</div>"
      ],
      "text/plain": [
       "  ENCODE_experiment_id            dataset         sample sample_display  \\\n",
       "0          ENCSR989ZYL           a673_1_1           a673           A673   \n",
       "1          ENCSR989ZYL           a673_1_2           a673           A673   \n",
       "2          ENCSR081NRO  adrenal_gland_1_1  adrenal_gland  Adrenal gland   \n",
       "3          ENCSR563RLX  adrenal_gland_2_1  adrenal_gland  Adrenal gland   \n",
       "4          ENCSR995WKW  adrenal_gland_3_1  adrenal_gland  Adrenal gland   \n",
       "\n",
       "  general_tissue_cell_type fig1_tissue_label health_status  \\\n",
       "0                     a673              bone           NaN   \n",
       "1                     a673              bone           NaN   \n",
       "2            adrenal gland     adrenal gland           NaN   \n",
       "3            adrenal gland     adrenal gland           NaN   \n",
       "4            adrenal gland     adrenal gland           NaN   \n",
       "\n",
       "  tissue_or_cell_line sample_color_hex_code  \\\n",
       "0           cell_line               #de3700   \n",
       "1           cell_line               #de3700   \n",
       "2              tissue               #e69b00   \n",
       "3              tissue               #e69b00   \n",
       "4              tissue               #e69b00   \n",
       "\n",
       "                              matching_mouse_samples  reads_post_talon  \\\n",
       "0                                                NaN           1330194   \n",
       "1                                                NaN           1707207   \n",
       "2  adrenal_gland,adrenal_10d,adrenal_14d,adrenal_...            765655   \n",
       "3  adrenal_gland,adrenal_10d,adrenal_14d,adrenal_...           1579294   \n",
       "4  adrenal_gland,adrenal_10d,adrenal_14d,adrenal_...            577077   \n",
       "\n",
       "  ENCODE_alignments_id ENCODE_reads_id ENCODE_unfiltered_alignments_id  \\\n",
       "0          ENCFF045ZQI     ENCFF168MIB                     ENCFF440LXJ   \n",
       "1          ENCFF320GCF     ENCFF861BKY                     ENCFF240FZT   \n",
       "2          ENCFF147OYL     ENCFF211SQY                     ENCFF967OHL   \n",
       "3          ENCFF791WUV     ENCFF417ALN                     ENCFF900XHI   \n",
       "4          ENCFF243PFI     ENCFF912HPY                     ENCFF020MWV   \n",
       "\n",
       "                                       document_urls  \\\n",
       "0  https://www.encodeproject.org/documents/6d583a...   \n",
       "1  https://www.encodeproject.org/documents/6d583a...   \n",
       "2  https://www.encodeproject.org/documents/54012f...   \n",
       "3  https://www.encodeproject.org/documents/3baa46...   \n",
       "4  https://www.encodeproject.org/documents/54012f...   \n",
       "\n",
       "                                     document_labels  \\\n",
       "0  'ENCODE Long Read RNA-Seq Analysis Protocol fo...   \n",
       "1  'ENCODE Long Read RNA-Seq Analysis Protocol fo...   \n",
       "2  'non-size selected cDNA libraries for use in P...   \n",
       "3  'PacBio libraries v3 (October, 2020) Protocol ...   \n",
       "4  'non-size selected cDNA libraries for use in P...   \n",
       "\n",
       "                        platform  RIN  spikeins  \n",
       "0  Pacific Biosciences Sequel II  9.8      True  \n",
       "1  Pacific Biosciences Sequel II  9.8      True  \n",
       "2     Pacific Biosciences Sequel  9.8     False  \n",
       "3  Pacific Biosciences Sequel II  NaN      True  \n",
       "4     Pacific Biosciences Sequel  9.4     False  "
      ]
     },
     "execution_count": 34,
     "metadata": {},
     "output_type": "execute_result"
    }
   ],
   "source": [
    "meta = pd.read_csv(lib_meta, sep='\\t')\n",
    "meta.head()"
   ]
  },
  {
   "cell_type": "code",
   "execution_count": null,
   "id": "cfbdc51d-0b2b-4390-9796-ec6ea44449d1",
   "metadata": {},
   "outputs": [],
   "source": []
  }
 ],
 "metadata": {
  "kernelspec": {
   "display_name": "Python 3",
   "language": "python",
   "name": "python3"
  },
  "language_info": {
   "codemirror_mode": {
    "name": "ipython",
    "version": 3
   },
   "file_extension": ".py",
   "mimetype": "text/x-python",
   "name": "python",
   "nbconvert_exporter": "python",
   "pygments_lexer": "ipython3",
   "version": "3.7.12"
  }
 },
 "nbformat": 4,
 "nbformat_minor": 5
}
