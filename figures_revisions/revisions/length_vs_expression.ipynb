{
 "cells": [
  {
   "cell_type": "code",
   "execution_count": 1,
   "id": "bde2456a-f0d9-4725-aa67-5d7f04571d37",
   "metadata": {},
   "outputs": [],
   "source": [
    "import pandas as pd\n",
    "import numpy as np\n",
    "import scipy.stats as st\n",
    "import seaborn as sns\n",
    "import sys\n",
    "import os\n",
    "import gseapy as gp\n",
    "import matplotlib.pyplot as plt\n",
    "import swan_vis as swan\n",
    "import yaml\n",
    "from snakemake.io import expand\n",
    "\n",
    "p = os.path.dirname(os.path.dirname(os.getcwd()))\n",
    "sys.path.append(p)\n",
    "\n",
    "from proc_revisions.utils import *\n",
    "from proc_revisions.plotting import *"
   ]
  },
  {
   "cell_type": "code",
   "execution_count": 2,
   "id": "314decaa-eb18-4e2b-8ed9-728c1eba5995",
   "metadata": {},
   "outputs": [],
   "source": [
    "od = '../../proc_revisions/'\n",
    "config_file = f'{od}/config.yml'\n",
    "with open(config_file) as f:\n",
    "    config = yaml.safe_load(f)"
   ]
  },
  {
   "cell_type": "code",
   "execution_count": 3,
   "id": "d3697f87-e0ec-497a-8ecc-75db38387f36",
   "metadata": {},
   "outputs": [],
   "source": [
    "ab = od+expand(config['lr']['talon']['fusion_fix']['ab'], species='human')[0]\n",
    "unfilt_ab = od+expand(config['lr']['cerberus']['ab'], species='human')[0] \n",
    "filt_ab = od+expand(config['lr']['cerberus']['filt_ab'], species='human')[0]\n",
    "read_annot = od+expand(config['lr']['talon']['full_annot'], species='human')[0]\n",
    "t_metadata = od+expand(config['ref']['cerberus']['new_gtf_t_info'], species='human')[0]\n",
    "lib_meta = od+expand(config['lr']['meta'], species='human')[0]\n",
    "swan_file = od+expand(config['lr']['swan']['sg'], species='human')[0]\n",
    "cerberus_h5 = od+expand(config['lr']['cerberus']['ca_triplets'], species='human', obs_col='sample')[0]\n",
    "cerb_t_metadata = od+expand(config['lr']['cerberus']['gtf_t_info'], species='human')[0]\n",
    "major_isos = od+expand(config['lr']['analysis']['major_isos'], species='human', obs_col='sample')[0]\n",
    "pi_tpm_table = od+expand(config['lr']['mane']['pi_tpm']['triplet'], species='human', obs_col='sample')[0]\n",
    "\n",
    "ref_t_metadata = od+expand(config['ref']['new_gtf_t_info'], species='human')[0]\n",
    "ref_g_metadata = od+expand(config['ref']['new_gtf_g_info'], species='human')[0]\n",
    "\n",
    "# pp_summary = '../'+expand(config['data']['p_pred']['summary'], species='human')[0]\n",
    "iq_cerberus_h5 = od+expand(config['lr']['isoquant']['cerberus']['ca_annot'], species='human', obs_col='sample')[0]\n",
    "\n",
    "\n",
    "iq_gtf = od+expand(config['lr']['isoquant']['gtf'], species='human')[0]\n",
    "iq_ics = od+expand(config['lr']['isoquant']['cerberus']['ics'], species='human')[0]\n",
    "iq_ab = od+expand(config['lr']['isoquant']['novel_ab'], species='human')[0]\n",
    "iq_filt_ab = od+expand(config['lr']['isoquant']['cerberus']['ab'], species='human')[0]\n",
    "\n",
    "ver = 'v40_cerberus'\n",
    "min_tpm = 1\n",
    "gene_subset = 'polya'\n",
    "obs_col = 'sample'\n",
    "go_gene_subset = 'protein_coding'\n",
    "predom_iso_subset = 'protein_coding'\n",
    "\n",
    "m_lib_meta = od+expand(config['lr']['meta'], species='mouse')[0]"
   ]
  },
  {
   "cell_type": "code",
   "execution_count": 60,
   "id": "01f734f2-afb9-4cdf-8952-d6918b7718aa",
   "metadata": {},
   "outputs": [
    {
     "name": "stdout",
     "output_type": "stream",
     "text": [
      "Calculating iso TPM values\n",
      "Subsetting for polya genes\n"
     ]
    },
    {
     "name": "stderr",
     "output_type": "stream",
     "text": [
      "/Users/fairliereese/Documents/programming/mortazavi_lab/data/paper_rnawg/proc_revisions/utils.py:2087: PerformanceWarning: DataFrame is highly fragmented.  This is usually the result of calling `frame.insert` many times, which has poor performance.  Consider joining all columns at once using pd.concat(axis=1) instead.  To get a de-fragmented frame, use `newframe = frame.copy()`\n",
      "  df[tpm_col] = (df[d]*1000000)/df[total_col]\n",
      "/Users/fairliereese/Documents/programming/mortazavi_lab/data/paper_rnawg/proc_revisions/utils.py:2086: PerformanceWarning: DataFrame is highly fragmented.  This is usually the result of calling `frame.insert` many times, which has poor performance.  Consider joining all columns at once using pd.concat(axis=1) instead.  To get a de-fragmented frame, use `newframe = frame.copy()`\n",
      "  df[total_col] = df[d].sum()\n"
     ]
    },
    {
     "name": "stdout",
     "output_type": "stream",
     "text": [
      "Enforcing minimum TPM\n",
      "Total # isos detected: 236615\n",
      "# isos >= 1 tpm: 213476\n",
      "Applying gene type and novelty subset\n",
      "Number of isos reported: 209819\n"
     ]
    }
   ],
   "source": [
    "df = pd.read_csv(filt_ab, sep='\\t')\n",
    "df, tids = get_tpm_table(df, \n",
    "                         how='iso',\n",
    "                         min_tpm=min_tpm,\n",
    "                         gene_subset='polya')"
   ]
  },
  {
   "cell_type": "code",
   "execution_count": 61,
   "id": "ab61c9d7-1cbc-4ee5-b88b-02185194a624",
   "metadata": {},
   "outputs": [],
   "source": [
    "# get max expression of isoform across libraries\n",
    "df = df.transpose()\n",
    "df = df.reset_index(drop=True)\n",
    "df.rename({'index':'dataset'}, axis=1, inplace=True)\n",
    "df = df.max(axis=0).to_frame()\n",
    "df.rename({0:'max_tpm'}, axis=1, inplace=True)\n",
    "df = df.reset_index()\n",
    "df.rename({'annot_transcript_id':'tid'}, axis=1, inplace=True)\n",
    "\n",
    "# get transcript lengths\n",
    "df2 = pd.read_csv(cerb_t_metadata, sep='\\t')\n",
    "df2 = df2[['tid', 't_len']]\n",
    "df = df.merge(df2, how='left', on='tid')\n",
    "df['gid'] = df.tid.str.split('[', expand=True)[0]"
   ]
  },
  {
   "cell_type": "code",
   "execution_count": 66,
   "id": "16cf164c-92f9-41d7-99e9-9ecdac3df479",
   "metadata": {},
   "outputs": [],
   "source": [
    "# get biotype metadata stuff\n",
    "df3, _, _ = get_gtf_info(how='gene', add_stable_gid=True, ver='v40_cerberus')\n",
    "df = df.merge(df3, how='left', left_on='gid', right_on='gid_stable')"
   ]
  },
  {
   "cell_type": "code",
   "execution_count": 68,
   "id": "30dc3077-b9ea-4e46-87be-ab7a0f7f89d2",
   "metadata": {},
   "outputs": [],
   "source": [
    "# log 2 the tpms\n",
    "df['log_tpm'] = np.log2(df.max_tpm)\n",
    "\n",
    "# split by biotype (ie the long ones are probably lncrnas)\n",
    "# bin by length and do boxplot / violinplot\n",
    "max_t_len = 15000\n",
    "bins = [i for i in range(0, max_t_len+1000, 1000)]\n",
    "bins += [df.t_len.max(axis=0)]\n",
    "df['len_bin'] = pd.cut(df.t_len, bins)\n",
    "\n",
    "# make nicer bin names\n",
    "hr_bin_dict = {}\n",
    "for b in df.len_bin.unique():\n",
    "    bmin = int(str(b)[1:].split(',')[0])\n",
    "    if bmin == max_t_len:\n",
    "        bmin = str(int(bmin/1000))\n",
    "        hr_bin_dict[b] = f'{bmin}+'\n",
    "    else:\n",
    "        bmin = str(int(bmin/1000))\n",
    "        bmax = str(int(int(str(b).split(', ')[1][0:-1])/1000))\n",
    "        hr_bin_dict[b] = f'{bmin}-{bmax}'\n",
    "           \n",
    "df['hr_len_bin'] = df['len_bin'].map(hr_bin_dict)"
   ]
  },
  {
   "cell_type": "code",
   "execution_count": 69,
   "id": "38a0ab30-c6a2-4d6a-94da-650ba1807cab",
   "metadata": {},
   "outputs": [
    {
     "data": {
      "text/html": [
       "<div>\n",
       "<style scoped>\n",
       "    .dataframe tbody tr th:only-of-type {\n",
       "        vertical-align: middle;\n",
       "    }\n",
       "\n",
       "    .dataframe tbody tr th {\n",
       "        vertical-align: top;\n",
       "    }\n",
       "\n",
       "    .dataframe thead th {\n",
       "        text-align: right;\n",
       "    }\n",
       "</style>\n",
       "<table border=\"1\" class=\"dataframe\">\n",
       "  <thead>\n",
       "    <tr style=\"text-align: right;\">\n",
       "      <th></th>\n",
       "      <th>tid</th>\n",
       "    </tr>\n",
       "    <tr>\n",
       "      <th>biotype_category</th>\n",
       "      <th></th>\n",
       "    </tr>\n",
       "  </thead>\n",
       "  <tbody>\n",
       "    <tr>\n",
       "      <th>lncRNA</th>\n",
       "      <td>12773</td>\n",
       "    </tr>\n",
       "    <tr>\n",
       "      <th>protein_coding</th>\n",
       "      <td>191325</td>\n",
       "    </tr>\n",
       "    <tr>\n",
       "      <th>pseudogene</th>\n",
       "      <td>5721</td>\n",
       "    </tr>\n",
       "  </tbody>\n",
       "</table>\n",
       "</div>"
      ],
      "text/plain": [
       "                     tid\n",
       "biotype_category        \n",
       "lncRNA             12773\n",
       "protein_coding    191325\n",
       "pseudogene          5721"
      ]
     },
     "execution_count": 69,
     "metadata": {},
     "output_type": "execute_result"
    }
   ],
   "source": [
    "df[['biotype_category', 'tid']].groupby('biotype_category').count()"
   ]
  },
  {
   "cell_type": "code",
   "execution_count": 84,
   "id": "47a92cfc-f1ea-47b3-b426-67e96a0c508c",
   "metadata": {},
   "outputs": [
    {
     "data": {
      "image/png": "[encoded data removed]",
      "text/plain": [
       "<Figure size 432x288 with 1 Axes>"
      ]
     },
     "metadata": {
      "needs_background": "light"
     },
     "output_type": "display_data"
    },
    {
     "data": {
      "image/png": "[encoded data removed]",
      "text/plain": [
       "<Figure size 432x288 with 1 Axes>"
      ]
     },
     "metadata": {
      "needs_background": "light"
     },
     "output_type": "display_data"
    },
    {
     "data": {
      "image/png": "[encoded data removed]",
      "text/plain": [
       "<Figure size 432x288 with 1 Axes>"
      ]
     },
     "metadata": {
      "needs_background": "light"
     },
     "output_type": "display_data"
    }
   ],
   "source": [
    "sns.set_context('paper', font_scale=2)\n",
    "mpl.rcParams['font.family'] = 'Arial'\n",
    "mpl.rcParams['pdf.fonttype'] = 42\n",
    "\n",
    "ic_colors, order = get_ic_nov_colors()\n",
    "c = ic_colors['Known']\n",
    "m = {'protein_coding': 'Protein coding',\n",
    "     'lncRNA': 'lncRNA', 'pseudogene': 'Pseudogene'}\n",
    "cats = ['Protein coding', 'lncRNA', 'Pseudogene']\n",
    "c_dict, order = get_shade_colors(c, cats)\n",
    "df['gene_subset_2'] = df.biotype_category.map(m)\n",
    "df['gene_subset_2'] = df['gene_subset_2'].astype('category')\n",
    "df['gene_subset_2'] = df['gene_subset_2'].cat.reorder_categories(cats, ordered=True)\n",
    "for c in df.gene_subset_2.unique().tolist():\n",
    "    temp = df.loc[df.gene_subset_2==c].copy(deep=True)\n",
    "    ax = sns.boxplot(temp, x='hr_len_bin', y='log_tpm', color=c_dict[c])\n",
    "    ax.tick_params(axis='x', rotation=45)\n",
    "    ax.spines['right'].set_visible(False)\n",
    "    ax.spines['top'].set_visible(False)\n",
    "    ax.set(title=c, xlabel='Transcript length (kb)', ylabel='Max. log2(TPM)',\n",
    "           ylim=(0,18))\n",
    "    plt.show()"
   ]
  },
  {
   "cell_type": "code",
   "execution_count": 98,
   "id": "41b94500-087d-44a4-aec9-ed1a3697128c",
   "metadata": {},
   "outputs": [
    {
     "data": {
      "text/html": [
       "<div>\n",
       "<style scoped>\n",
       "    .dataframe tbody tr th:only-of-type {\n",
       "        vertical-align: middle;\n",
       "    }\n",
       "\n",
       "    .dataframe tbody tr th {\n",
       "        vertical-align: top;\n",
       "    }\n",
       "\n",
       "    .dataframe thead th {\n",
       "        text-align: right;\n",
       "    }\n",
       "</style>\n",
       "<table border=\"1\" class=\"dataframe\">\n",
       "  <thead>\n",
       "    <tr style=\"text-align: right;\">\n",
       "      <th></th>\n",
       "      <th>tid</th>\n",
       "      <th>sample</th>\n",
       "      <th>triplet_tpm</th>\n",
       "      <th>triplet_pi</th>\n",
       "      <th>gid</th>\n",
       "      <th>gname</th>\n",
       "      <th>triplet_rank</th>\n",
       "    </tr>\n",
       "  </thead>\n",
       "  <tbody>\n",
       "    <tr>\n",
       "      <th>0</th>\n",
       "      <td>TALONG000443992[1,1,1]</td>\n",
       "      <td>lung</td>\n",
       "      <td>11.466427</td>\n",
       "      <td>100.0</td>\n",
       "      <td>TALONG000443992</td>\n",
       "      <td>TALONG000443992</td>\n",
       "      <td>1</td>\n",
       "    </tr>\n",
       "    <tr>\n",
       "      <th>1</th>\n",
       "      <td>TALONG000436164[1,1,1]</td>\n",
       "      <td>wtc11</td>\n",
       "      <td>0.529880</td>\n",
       "      <td>100.0</td>\n",
       "      <td>TALONG000436164</td>\n",
       "      <td>TALONG000436164</td>\n",
       "      <td>1</td>\n",
       "    </tr>\n",
       "    <tr>\n",
       "      <th>2</th>\n",
       "      <td>TALONG000436164[1,1,1]</td>\n",
       "      <td>h9</td>\n",
       "      <td>3.989210</td>\n",
       "      <td>100.0</td>\n",
       "      <td>TALONG000436164</td>\n",
       "      <td>TALONG000436164</td>\n",
       "      <td>1</td>\n",
       "    </tr>\n",
       "    <tr>\n",
       "      <th>3</th>\n",
       "      <td>TALONG000436039[1,1,1]</td>\n",
       "      <td>k562</td>\n",
       "      <td>1.053189</td>\n",
       "      <td>100.0</td>\n",
       "      <td>TALONG000436039</td>\n",
       "      <td>TALONG000436039</td>\n",
       "      <td>1</td>\n",
       "    </tr>\n",
       "    <tr>\n",
       "      <th>4</th>\n",
       "      <td>TALONG000418142[1,1,1]</td>\n",
       "      <td>k562</td>\n",
       "      <td>8.513330</td>\n",
       "      <td>100.0</td>\n",
       "      <td>TALONG000418142</td>\n",
       "      <td>TALONG000418142</td>\n",
       "      <td>1</td>\n",
       "    </tr>\n",
       "  </tbody>\n",
       "</table>\n",
       "</div>"
      ],
      "text/plain": [
       "                      tid sample  triplet_tpm  triplet_pi              gid  \\\n",
       "0  TALONG000443992[1,1,1]   lung    11.466427       100.0  TALONG000443992   \n",
       "1  TALONG000436164[1,1,1]  wtc11     0.529880       100.0  TALONG000436164   \n",
       "2  TALONG000436164[1,1,1]     h9     3.989210       100.0  TALONG000436164   \n",
       "3  TALONG000436039[1,1,1]   k562     1.053189       100.0  TALONG000436039   \n",
       "4  TALONG000418142[1,1,1]   k562     8.513330       100.0  TALONG000418142   \n",
       "\n",
       "             gname  triplet_rank  \n",
       "0  TALONG000443992             1  \n",
       "1  TALONG000436164             1  \n",
       "2  TALONG000436164             1  \n",
       "3  TALONG000436039             1  \n",
       "4  TALONG000418142             1  "
      ]
     },
     "execution_count": 98,
     "metadata": {},
     "output_type": "execute_result"
    }
   ],
   "source": [
    "# how long are predomiant isoforms? how often are they ISM isoforms? how much shorter are they than the known isoforms of a gene?\n",
    "df = pd.read_csv(pi_tpm_table, sep='\\t')\n",
    "\n",
    "# get only predominant\n",
    "df = df.loc[df.triplet_rank==1]\n",
    "df.head()"
   ]
  },
  {
   "cell_type": "code",
   "execution_count": 99,
   "id": "7c98ad4e-26e5-45c2-bb34-1ce9242430a2",
   "metadata": {},
   "outputs": [],
   "source": [
    "# get transcript lengths\n",
    "df2 = pd.read_csv(cerb_t_metadata, sep='\\t')\n",
    "df2 = df2[['tid', 't_len']]\n",
    "df = df.merge(df2, how='left', on='tid')"
   ]
  },
  {
   "cell_type": "code",
   "execution_count": 100,
   "id": "5a28c310-f2c3-4fe2-8f0f-99b2f98f02c3",
   "metadata": {},
   "outputs": [],
   "source": [
    "# get biotype metadata stuff\n",
    "df3, _, _ = get_gtf_info(how='gene', add_stable_gid=True, ver='v40_cerberus')\n",
    "df = df.merge(df3, how='left', left_on='gid', right_on='gid_stable')"
   ]
  },
  {
   "cell_type": "code",
   "execution_count": 104,
   "id": "c82afff1-5861-435b-9dfd-61d2682e84dd",
   "metadata": {},
   "outputs": [
    {
     "data": {
      "text/html": [
       "<div>\n",
       "<style scoped>\n",
       "    .dataframe tbody tr th:only-of-type {\n",
       "        vertical-align: middle;\n",
       "    }\n",
       "\n",
       "    .dataframe tbody tr th {\n",
       "        vertical-align: top;\n",
       "    }\n",
       "\n",
       "    .dataframe thead th {\n",
       "        text-align: right;\n",
       "    }\n",
       "</style>\n",
       "<table border=\"1\" class=\"dataframe\">\n",
       "  <thead>\n",
       "    <tr style=\"text-align: right;\">\n",
       "      <th></th>\n",
       "      <th>tid</th>\n",
       "      <th>sample</th>\n",
       "      <th>triplet_tpm</th>\n",
       "      <th>triplet_pi</th>\n",
       "      <th>gid_x</th>\n",
       "      <th>gname_x</th>\n",
       "      <th>triplet_rank</th>\n",
       "      <th>t_len</th>\n",
       "      <th>gid_y</th>\n",
       "      <th>gname_y</th>\n",
       "      <th>length</th>\n",
       "      <th>biotype</th>\n",
       "      <th>biotype_category</th>\n",
       "      <th>tf</th>\n",
       "      <th>MANE_Select</th>\n",
       "      <th>MANE_Plus_Clinical</th>\n",
       "      <th>gid_stable</th>\n",
       "    </tr>\n",
       "  </thead>\n",
       "  <tbody>\n",
       "    <tr>\n",
       "      <th>1278</th>\n",
       "      <td>ENSG00000285988[1,2,2]</td>\n",
       "      <td>pc9</td>\n",
       "      <td>2.074560</td>\n",
       "      <td>45.454548</td>\n",
       "      <td>ENSG00000285988</td>\n",
       "      <td>ENSG00000285988</td>\n",
       "      <td>1</td>\n",
       "      <td>3096</td>\n",
       "      <td>ENSG00000285988.1</td>\n",
       "      <td>ENSG00000285988</td>\n",
       "      <td>103395.0</td>\n",
       "      <td>lncRNA</td>\n",
       "      <td>lncRNA</td>\n",
       "      <td>False</td>\n",
       "      <td>False</td>\n",
       "      <td>False</td>\n",
       "      <td>ENSG00000285988</td>\n",
       "    </tr>\n",
       "    <tr>\n",
       "      <th>1279</th>\n",
       "      <td>ENSG00000285988[1,2,2]</td>\n",
       "      <td>mcf10a</td>\n",
       "      <td>1.064827</td>\n",
       "      <td>100.000000</td>\n",
       "      <td>ENSG00000285988</td>\n",
       "      <td>ENSG00000285988</td>\n",
       "      <td>1</td>\n",
       "      <td>3096</td>\n",
       "      <td>ENSG00000285988.1</td>\n",
       "      <td>ENSG00000285988</td>\n",
       "      <td>103395.0</td>\n",
       "      <td>lncRNA</td>\n",
       "      <td>lncRNA</td>\n",
       "      <td>False</td>\n",
       "      <td>False</td>\n",
       "      <td>False</td>\n",
       "      <td>ENSG00000285988</td>\n",
       "    </tr>\n",
       "    <tr>\n",
       "      <th>1280</th>\n",
       "      <td>ENSG00000285988[1,2,2]</td>\n",
       "      <td>calu3</td>\n",
       "      <td>3.561985</td>\n",
       "      <td>72.727270</td>\n",
       "      <td>ENSG00000285988</td>\n",
       "      <td>ENSG00000285988</td>\n",
       "      <td>1</td>\n",
       "      <td>3096</td>\n",
       "      <td>ENSG00000285988.1</td>\n",
       "      <td>ENSG00000285988</td>\n",
       "      <td>103395.0</td>\n",
       "      <td>lncRNA</td>\n",
       "      <td>lncRNA</td>\n",
       "      <td>False</td>\n",
       "      <td>False</td>\n",
       "      <td>False</td>\n",
       "      <td>ENSG00000285988</td>\n",
       "    </tr>\n",
       "    <tr>\n",
       "      <th>1281</th>\n",
       "      <td>ENSG00000285980[2,2,2]</td>\n",
       "      <td>brain_ad</td>\n",
       "      <td>0.145631</td>\n",
       "      <td>100.000000</td>\n",
       "      <td>ENSG00000285980</td>\n",
       "      <td>ENSG00000285980</td>\n",
       "      <td>1</td>\n",
       "      <td>2794</td>\n",
       "      <td>ENSG00000285980.2</td>\n",
       "      <td>ENSG00000285980</td>\n",
       "      <td>39216.0</td>\n",
       "      <td>lncRNA</td>\n",
       "      <td>lncRNA</td>\n",
       "      <td>False</td>\n",
       "      <td>False</td>\n",
       "      <td>False</td>\n",
       "      <td>ENSG00000285980</td>\n",
       "    </tr>\n",
       "    <tr>\n",
       "      <th>1282</th>\n",
       "      <td>ENSG00000285978[1,1,1]</td>\n",
       "      <td>brain_ad</td>\n",
       "      <td>0.127886</td>\n",
       "      <td>100.000000</td>\n",
       "      <td>ENSG00000285978</td>\n",
       "      <td>ENSG00000285978</td>\n",
       "      <td>1</td>\n",
       "      <td>1761</td>\n",
       "      <td>ENSG00000285978.1</td>\n",
       "      <td>ENSG00000285978</td>\n",
       "      <td>34831.0</td>\n",
       "      <td>protein_coding</td>\n",
       "      <td>protein_coding</td>\n",
       "      <td>False</td>\n",
       "      <td>False</td>\n",
       "      <td>False</td>\n",
       "      <td>ENSG00000285978</td>\n",
       "    </tr>\n",
       "  </tbody>\n",
       "</table>\n",
       "</div>"
      ],
      "text/plain": [
       "                         tid    sample  triplet_tpm  triplet_pi  \\\n",
       "1278  ENSG00000285988[1,2,2]       pc9     2.074560   45.454548   \n",
       "1279  ENSG00000285988[1,2,2]    mcf10a     1.064827  100.000000   \n",
       "1280  ENSG00000285988[1,2,2]     calu3     3.561985   72.727270   \n",
       "1281  ENSG00000285980[2,2,2]  brain_ad     0.145631  100.000000   \n",
       "1282  ENSG00000285978[1,1,1]  brain_ad     0.127886  100.000000   \n",
       "\n",
       "                gid_x          gname_x  triplet_rank  t_len  \\\n",
       "1278  ENSG00000285988  ENSG00000285988             1   3096   \n",
       "1279  ENSG00000285988  ENSG00000285988             1   3096   \n",
       "1280  ENSG00000285988  ENSG00000285988             1   3096   \n",
       "1281  ENSG00000285980  ENSG00000285980             1   2794   \n",
       "1282  ENSG00000285978  ENSG00000285978             1   1761   \n",
       "\n",
       "                  gid_y          gname_y    length         biotype  \\\n",
       "1278  ENSG00000285988.1  ENSG00000285988  103395.0          lncRNA   \n",
       "1279  ENSG00000285988.1  ENSG00000285988  103395.0          lncRNA   \n",
       "1280  ENSG00000285988.1  ENSG00000285988  103395.0          lncRNA   \n",
       "1281  ENSG00000285980.2  ENSG00000285980   39216.0          lncRNA   \n",
       "1282  ENSG00000285978.1  ENSG00000285978   34831.0  protein_coding   \n",
       "\n",
       "     biotype_category     tf MANE_Select MANE_Plus_Clinical       gid_stable  \n",
       "1278           lncRNA  False       False              False  ENSG00000285988  \n",
       "1279           lncRNA  False       False              False  ENSG00000285988  \n",
       "1280           lncRNA  False       False              False  ENSG00000285988  \n",
       "1281           lncRNA  False       False              False  ENSG00000285980  \n",
       "1282   protein_coding  False       False              False  ENSG00000285978  "
      ]
     },
     "execution_count": 104,
     "metadata": {},
     "output_type": "execute_result"
    }
   ],
   "source": [
    "# limit to polya genes\n",
    "cats = get_polya_cats()\n",
    "df = df.loc[df.biotype_category.isin(cats)]\n",
    "df.head()"
   ]
  },
  {
   "cell_type": "code",
   "execution_count": 112,
   "id": "861590f8-9db8-4aa0-835d-42ce5a20b132",
   "metadata": {},
   "outputs": [],
   "source": [
    "print(len(df.index))\n",
    "df = df[['tid', 't_len']].drop_duplicates()\n",
    "print(len(df.index))\n"
   ]
  },
  {
   "cell_type": "code",
   "execution_count": 110,
   "id": "036953b5-a8e9-4540-8004-5a05e31cced2",
   "metadata": {},
   "outputs": [
    {
     "data": {
      "text/plain": [
       "<seaborn.axisgrid.FacetGrid at 0x7fc0010a45d0>"
      ]
     },
     "execution_count": 110,
     "metadata": {},
     "output_type": "execute_result"
    },
    {
     "data": {
      "image/png": "[encoded data removed]",
      "text/plain": [
       "<Figure size 360x360 with 1 Axes>"
      ]
     },
     "metadata": {
      "needs_background": "light"
     },
     "output_type": "display_data"
    }
   ],
   "source": [
    "# distribution of lengths of predominant transcripts (most highly-expressed)\n",
    "ax = sns.displot(df, x='t_len', kind='kde', linewidth=3)\n",
    "ax.set(xlim=(0, 15000), xlabel='Predominant transcript length')"
   ]
  },
  {
   "cell_type": "code",
   "execution_count": null,
   "id": "97dbb065-2e10-48bd-b06a-ff1ec3dbbee9",
   "metadata": {},
   "outputs": [],
   "source": []
  }
 ],
 "metadata": {
  "kernelspec": {
   "display_name": "Python 3",
   "language": "python",
   "name": "python3"
  },
  "language_info": {
   "codemirror_mode": {
    "name": "ipython",
    "version": 3
   },
   "file_extension": ".py",
   "mimetype": "text/x-python",
   "name": "python",
   "nbconvert_exporter": "python",
   "pygments_lexer": "ipython3",
   "version": "3.7.12"
  }
 },
 "nbformat": 4,
 "nbformat_minor": 5
}
