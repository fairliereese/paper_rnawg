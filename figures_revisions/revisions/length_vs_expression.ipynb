{
 "cells": [
  {
   "cell_type": "code",
   "execution_count": 1,
   "id": "bde2456a-f0d9-4725-aa67-5d7f04571d37",
   "metadata": {},
   "outputs": [],
   "source": [
    "import pandas as pd\n",
    "import numpy as np\n",
    "import scipy.stats as st\n",
    "import seaborn as sns\n",
    "import sys\n",
    "import os\n",
    "import gseapy as gp\n",
    "import matplotlib.pyplot as plt\n",
    "import swan_vis as swan\n",
    "import yaml\n",
    "from snakemake.io import expand\n",
    "\n",
    "p = os.path.dirname(os.path.dirname(os.getcwd()))\n",
    "sys.path.append(p)\n",
    "\n",
    "from proc_revisions.utils import *\n",
    "from proc_revisions.plotting import *"
   ]
  },
  {
   "cell_type": "code",
   "execution_count": 2,
   "id": "314decaa-eb18-4e2b-8ed9-728c1eba5995",
   "metadata": {},
   "outputs": [],
   "source": [
    "od = '../../proc_revisions/'\n",
    "config_file = f'{od}/config.yml'\n",
    "with open(config_file) as f:\n",
    "    config = yaml.safe_load(f)"
   ]
  },
  {
   "cell_type": "code",
   "execution_count": 3,
   "id": "d3697f87-e0ec-497a-8ecc-75db38387f36",
   "metadata": {},
   "outputs": [],
   "source": [
    "ab = od+expand(config['lr']['talon']['fusion_fix']['ab'], species='human')[0]\n",
    "unfilt_ab = od+expand(config['lr']['cerberus']['ab'], species='human')[0] \n",
    "filt_ab = od+expand(config['lr']['cerberus']['filt_ab'], species='human')[0]\n",
    "read_annot = od+expand(config['lr']['talon']['full_annot'], species='human')[0]\n",
    "t_metadata = od+expand(config['ref']['cerberus']['new_gtf_t_info'], species='human')[0]\n",
    "lib_meta = od+expand(config['lr']['meta'], species='human')[0]\n",
    "swan_file = od+expand(config['lr']['swan']['sg'], species='human')[0]\n",
    "cerberus_h5 = od+expand(config['lr']['cerberus']['ca_triplets'], species='human', obs_col='sample')[0]\n",
    "cerb_t_metadata = od+expand(config['lr']['cerberus']['gtf_t_info'], species='human')[0]\n",
    "major_isos = od+expand(config['lr']['analysis']['major_isos'], species='human', obs_col='sample')[0]\n",
    "pi_tpm_table = od+expand(config['lr']['mane']['pi_tpm']['triplet'], species='human', obs_col='sample')[0]\n",
    "\n",
    "ref_t_metadata = od+expand(config['ref']['new_gtf_t_info'], species='human')[0]\n",
    "ref_g_metadata = od+expand(config['ref']['new_gtf_g_info'], species='human')[0]\n",
    "\n",
    "# pp_summary = '../'+expand(config['data']['p_pred']['summary'], species='human')[0]\n",
    "iq_cerberus_h5 = od+expand(config['lr']['isoquant']['cerberus']['ca_annot'], species='human', obs_col='sample')[0]\n",
    "\n",
    "\n",
    "iq_gtf = od+expand(config['lr']['isoquant']['gtf'], species='human')[0]\n",
    "iq_ics = od+expand(config['lr']['isoquant']['cerberus']['ics'], species='human')[0]\n",
    "iq_ab = od+expand(config['lr']['isoquant']['novel_ab'], species='human')[0]\n",
    "iq_filt_ab = od+expand(config['lr']['isoquant']['cerberus']['ab'], species='human')[0]\n",
    "\n",
    "ver = 'v40_cerberus'\n",
    "min_tpm = 1\n",
    "gene_subset = 'polya'\n",
    "obs_col = 'sample'\n",
    "go_gene_subset = 'protein_coding'\n",
    "predom_iso_subset = 'protein_coding'\n",
    "\n",
    "m_lib_meta = od+expand(config['lr']['meta'], species='mouse')[0]"
   ]
  },
  {
   "cell_type": "code",
   "execution_count": 20,
   "id": "01f734f2-afb9-4cdf-8952-d6918b7718aa",
   "metadata": {},
   "outputs": [
    {
     "name": "stdout",
     "output_type": "stream",
     "text": [
      "Calculating iso TPM values\n",
      "Subsetting for polya genes\n"
     ]
    },
    {
     "name": "stderr",
     "output_type": "stream",
     "text": [
      "/Users/fairliereese/Documents/programming/mortazavi_lab/data/paper_rnawg/proc_revisions/utils.py:2087: PerformanceWarning: DataFrame is highly fragmented.  This is usually the result of calling `frame.insert` many times, which has poor performance.  Consider joining all columns at once using pd.concat(axis=1) instead.  To get a de-fragmented frame, use `newframe = frame.copy()`\n",
      "  df[tpm_col] = (df[d]*1000000)/df[total_col]\n",
      "/Users/fairliereese/Documents/programming/mortazavi_lab/data/paper_rnawg/proc_revisions/utils.py:2086: PerformanceWarning: DataFrame is highly fragmented.  This is usually the result of calling `frame.insert` many times, which has poor performance.  Consider joining all columns at once using pd.concat(axis=1) instead.  To get a de-fragmented frame, use `newframe = frame.copy()`\n",
      "  df[total_col] = df[d].sum()\n"
     ]
    },
    {
     "name": "stdout",
     "output_type": "stream",
     "text": [
      "Enforcing minimum TPM\n",
      "Total # isos detected: 236615\n",
      "# isos >= 1 tpm: 213476\n",
      "Applying gene type and novelty subset\n",
      "Number of isos reported: 209819\n"
     ]
    }
   ],
   "source": [
    "df = pd.read_csv(filt_ab, sep='\\t')\n",
    "df, tids = get_tpm_table(df, \n",
    "                         how='iso',\n",
    "                         min_tpm=min_tpm,\n",
    "                         gene_subset='polya')"
   ]
  },
  {
   "cell_type": "code",
   "execution_count": 21,
   "id": "5bccae0a-2cd1-415e-a744-9320ece79fb0",
   "metadata": {},
   "outputs": [],
   "source": [
    "# get max expression of isoform across libraries\n",
    "df = df.transpose()\n",
    "df = df.reset_index(drop=True)\n",
    "df.rename({'index':'dataset'}, axis=1, inplace=True)\n",
    "df = df.max(axis=0).to_frame()\n",
    "df.rename({0:'max_tpm'}, axis=1, inplace=True)\n",
    "df = df.reset_index()\n",
    "df.rename({'annot_transcript_id':'tid'}, axis=1, inplace=True)\n"
   ]
  },
  {
   "cell_type": "code",
   "execution_count": 22,
   "id": "ab61c9d7-1cbc-4ee5-b88b-02185194a624",
   "metadata": {},
   "outputs": [
    {
     "data": {
      "text/html": [
       "<div>\n",
       "<style scoped>\n",
       "    .dataframe tbody tr th:only-of-type {\n",
       "        vertical-align: middle;\n",
       "    }\n",
       "\n",
       "    .dataframe tbody tr th {\n",
       "        vertical-align: top;\n",
       "    }\n",
       "\n",
       "    .dataframe thead th {\n",
       "        text-align: right;\n",
       "    }\n",
       "</style>\n",
       "<table border=\"1\" class=\"dataframe\">\n",
       "  <thead>\n",
       "    <tr style=\"text-align: right;\">\n",
       "      <th></th>\n",
       "      <th>tid</th>\n",
       "      <th>max_tpm</th>\n",
       "      <th>t_len</th>\n",
       "      <th>gid</th>\n",
       "      <th>gname</th>\n",
       "      <th>biotype</th>\n",
       "      <th>biotype_category</th>\n",
       "      <th>readthrough_transcript</th>\n",
       "      <th>MANE_Select</th>\n",
       "      <th>MANE_Plus_Clinical</th>\n",
       "      <th>tf</th>\n",
       "    </tr>\n",
       "  </thead>\n",
       "  <tbody>\n",
       "    <tr>\n",
       "      <th>0</th>\n",
       "      <td>ENSG00000000003[1,1,1]</td>\n",
       "      <td>10.657368</td>\n",
       "      <td>3876</td>\n",
       "      <td>ENSG00000000003.14</td>\n",
       "      <td>TSPAN6</td>\n",
       "      <td>protein_coding</td>\n",
       "      <td>protein_coding</td>\n",
       "      <td>False</td>\n",
       "      <td>False</td>\n",
       "      <td>False</td>\n",
       "      <td>False</td>\n",
       "    </tr>\n",
       "    <tr>\n",
       "      <th>1</th>\n",
       "      <td>ENSG00000000003[1,1,5]</td>\n",
       "      <td>304.456970</td>\n",
       "      <td>2314</td>\n",
       "      <td>ENSG00000000003.14</td>\n",
       "      <td>TSPAN6</td>\n",
       "      <td>protein_coding</td>\n",
       "      <td>protein_coding</td>\n",
       "      <td>False</td>\n",
       "      <td>False</td>\n",
       "      <td>False</td>\n",
       "      <td>False</td>\n",
       "    </tr>\n",
       "    <tr>\n",
       "      <th>2</th>\n",
       "      <td>ENSG00000000003[1,1,6]</td>\n",
       "      <td>26.218655</td>\n",
       "      <td>3233</td>\n",
       "      <td>ENSG00000000003.14</td>\n",
       "      <td>TSPAN6</td>\n",
       "      <td>protein_coding</td>\n",
       "      <td>protein_coding</td>\n",
       "      <td>False</td>\n",
       "      <td>False</td>\n",
       "      <td>False</td>\n",
       "      <td>False</td>\n",
       "    </tr>\n",
       "    <tr>\n",
       "      <th>3</th>\n",
       "      <td>ENSG00000000003[1,1,7]</td>\n",
       "      <td>696.401575</td>\n",
       "      <td>2104</td>\n",
       "      <td>ENSG00000000003.14</td>\n",
       "      <td>TSPAN6</td>\n",
       "      <td>protein_coding</td>\n",
       "      <td>protein_coding</td>\n",
       "      <td>False</td>\n",
       "      <td>False</td>\n",
       "      <td>False</td>\n",
       "      <td>False</td>\n",
       "    </tr>\n",
       "    <tr>\n",
       "      <th>4</th>\n",
       "      <td>ENSG00000000003[1,1,8]</td>\n",
       "      <td>203.213261</td>\n",
       "      <td>1290</td>\n",
       "      <td>ENSG00000000003.14</td>\n",
       "      <td>TSPAN6</td>\n",
       "      <td>protein_coding</td>\n",
       "      <td>protein_coding</td>\n",
       "      <td>False</td>\n",
       "      <td>False</td>\n",
       "      <td>False</td>\n",
       "      <td>False</td>\n",
       "    </tr>\n",
       "  </tbody>\n",
       "</table>\n",
       "</div>"
      ],
      "text/plain": [
       "                      tid     max_tpm  t_len                 gid   gname  \\\n",
       "0  ENSG00000000003[1,1,1]   10.657368   3876  ENSG00000000003.14  TSPAN6   \n",
       "1  ENSG00000000003[1,1,5]  304.456970   2314  ENSG00000000003.14  TSPAN6   \n",
       "2  ENSG00000000003[1,1,6]   26.218655   3233  ENSG00000000003.14  TSPAN6   \n",
       "3  ENSG00000000003[1,1,7]  696.401575   2104  ENSG00000000003.14  TSPAN6   \n",
       "4  ENSG00000000003[1,1,8]  203.213261   1290  ENSG00000000003.14  TSPAN6   \n",
       "\n",
       "          biotype biotype_category readthrough_transcript  MANE_Select  \\\n",
       "0  protein_coding   protein_coding                  False        False   \n",
       "1  protein_coding   protein_coding                  False        False   \n",
       "2  protein_coding   protein_coding                  False        False   \n",
       "3  protein_coding   protein_coding                  False        False   \n",
       "4  protein_coding   protein_coding                  False        False   \n",
       "\n",
       "   MANE_Plus_Clinical     tf  \n",
       "0               False  False  \n",
       "1               False  False  \n",
       "2               False  False  \n",
       "3               False  False  \n",
       "4               False  False  "
      ]
     },
     "execution_count": 22,
     "metadata": {},
     "output_type": "execute_result"
    }
   ],
   "source": [
    "# get transcript lengths\n",
    "df2 = pd.read_csv(cerb_t_metadata, sep='\\t')\n",
    "df = df.merge(df2, how='left', on='tid')\n",
    "df.head()"
   ]
  },
  {
   "cell_type": "code",
   "execution_count": 23,
   "id": "0adaf669-fbd1-44d7-a51b-647d8a9c1c9e",
   "metadata": {},
   "outputs": [
    {
     "data": {
      "text/plain": [
       "<seaborn.axisgrid.JointGrid at 0x7fc2f265e810>"
      ]
     },
     "execution_count": 23,
     "metadata": {},
     "output_type": "execute_result"
    },
    {
     "data": {
      "image/png": "[encoded data removed]",
      "text/plain": [
       "<Figure size 432x432 with 3 Axes>"
      ]
     },
     "metadata": {
      "needs_background": "light"
     },
     "output_type": "display_data"
    }
   ],
   "source": [
    "sns.jointplot(df, y='max_tpm', x='t_len')"
   ]
  },
  {
   "cell_type": "code",
   "execution_count": null,
   "id": "30dc3077-b9ea-4e46-87be-ab7a0f7f89d2",
   "metadata": {},
   "outputs": [],
   "source": [
    "# split by biotype (ie the long ones are probably lncrnas)\n",
    "# bin by length and do boxplot / violinplot"
   ]
  },
  {
   "cell_type": "code",
   "execution_count": 24,
   "id": "47a92cfc-f1ea-47b3-b426-67e96a0c508c",
   "metadata": {},
   "outputs": [
    {
     "data": {
      "text/plain": [
       "209819"
      ]
     },
     "execution_count": 24,
     "metadata": {},
     "output_type": "execute_result"
    }
   ],
   "source": [
    "len(df.index)"
   ]
  },
  {
   "cell_type": "code",
   "execution_count": null,
   "id": "41b94500-087d-44a4-aec9-ed1a3697128c",
   "metadata": {},
   "outputs": [],
   "source": [
    "# how long are predomiant isoforms? how often are they ISM isoforms? how much shorter are they than the known isoforms of a gene?"
   ]
  }
 ],
 "metadata": {
  "kernelspec": {
   "display_name": "Python 3",
   "language": "python",
   "name": "python3"
  },
  "language_info": {
   "codemirror_mode": {
    "name": "ipython",
    "version": 3
   },
   "file_extension": ".py",
   "mimetype": "text/x-python",
   "name": "python",
   "nbconvert_exporter": "python",
   "pygments_lexer": "ipython3",
   "version": "3.7.12"
  }
 },
 "nbformat": 4,
 "nbformat_minor": 5
}
