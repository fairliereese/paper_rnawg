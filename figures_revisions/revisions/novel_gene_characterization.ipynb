{
 "cells": [
  {
   "cell_type": "code",
   "execution_count": 1,
   "id": "9894fbb2-e753-48a8-ac2f-031d46f5fe14",
   "metadata": {},
   "outputs": [],
   "source": [
    "import pandas as pd\n",
    "import numpy as np\n",
    "import scipy.stats as st\n",
    "import seaborn as sns\n",
    "import sys\n",
    "import os\n",
    "import gseapy as gp\n",
    "import matplotlib.pyplot as plt\n",
    "import swan_vis as swan\n",
    "import yaml\n",
    "from snakemake.io import expand\n",
    "import pyranges as pr\n",
    "\n",
    "p = os.path.dirname(os.path.dirname(os.getcwd()))\n",
    "sys.path.append(p)\n",
    "\n",
    "from proc_revisions.utils import *\n",
    "from proc_revisions.plotting import *"
   ]
  },
  {
   "cell_type": "code",
   "execution_count": 2,
   "id": "8061f009-a65d-4eb7-9f10-cc1d08507926",
   "metadata": {},
   "outputs": [],
   "source": [
    "od = '../../proc_revisions/'\n",
    "config_file = f'{od}/config.yml'\n",
    "with open(config_file) as f:\n",
    "    config = yaml.safe_load(f)"
   ]
  },
  {
   "cell_type": "code",
   "execution_count": 3,
   "id": "e6463772-b68e-40d6-a102-e57376376607",
   "metadata": {},
   "outputs": [],
   "source": [
    "species = 'human'\n",
    "filt_ab = od+expand(config['lr']['cerberus']['filt_ab'], species=species)[0]\n",
    "gtf = od+expand(config['lr']['cerberus']['gtf'], species=species)[0]\n",
    "lib_meta = od+expand(config['lr']['meta'], species=species)[0]\n",
    "cerberus_h5 = od+expand(config['lr']['cerberus']['ca_triplets'], species=species, obs_col='sample')[0]\n",
    "swan_file = od+expand(config['lr']['swan']['sg'], species=species)[0]\n",
    "ref_gtf = od+expand(config['ref']['new_gtf'], species=species)[0]\n",
    "\n",
    "gene_subset = 'polya'\n",
    "min_tpm = 1\n",
    "\n",
    "species = 'mouse'\n",
    "m_filt_ab = od+expand(config['lr']['cerberus']['filt_ab'], species=species)[0]\n",
    "m_gtf = od+expand(config['lr']['cerberus']['gtf'], species=species)[0]\n",
    "m_lib_meta = od+expand(config['lr']['meta'], species=species)[0]\n",
    "m_cerberus_h5 = od+expand(config['lr']['cerberus']['ca_triplets'], species=species, obs_col='sample')[0]\n",
    "m_swan_file = od+expand(config['lr']['swan']['sg'], species=species)[0]\n",
    "m_ref_gtf = od+expand(config['ref']['new_gtf'], species=species)[0]\n"
   ]
  },
  {
   "cell_type": "markdown",
   "id": "de07d6bb-10ef-4ab0-b5ac-ed25f71c4365",
   "metadata": {},
   "source": [
    "## What do expression profiles of novel genes look like?"
   ]
  },
  {
   "cell_type": "code",
   "execution_count": 4,
   "id": "c49abdef-3d27-47a2-b348-16b7adaecf3b",
   "metadata": {},
   "outputs": [
    {
     "name": "stdout",
     "output_type": "stream",
     "text": [
      "Calculating iso TPM values\n"
     ]
    },
    {
     "name": "stderr",
     "output_type": "stream",
     "text": [
      "/Users/fairliereese/Documents/programming/mortazavi_lab/data/paper_rnawg/proc_revisions/utils.py:2087: PerformanceWarning: DataFrame is highly fragmented.  This is usually the result of calling `frame.insert` many times, which has poor performance.  Consider joining all columns at once using pd.concat(axis=1) instead.  To get a de-fragmented frame, use `newframe = frame.copy()`\n",
      "  df[tpm_col] = (df[d]*1000000)/df[total_col]\n",
      "/Users/fairliereese/Documents/programming/mortazavi_lab/data/paper_rnawg/proc_revisions/utils.py:2086: PerformanceWarning: DataFrame is highly fragmented.  This is usually the result of calling `frame.insert` many times, which has poor performance.  Consider joining all columns at once using pd.concat(axis=1) instead.  To get a de-fragmented frame, use `newframe = frame.copy()`\n",
      "  df[total_col] = df[d].sum()\n"
     ]
    },
    {
     "name": "stdout",
     "output_type": "stream",
     "text": [
      "Enforcing minimum TPM\n",
      "Total # isos detected: 236615\n",
      "# isos >= 1 tpm: 213476\n",
      "Number of isos reported: 213476\n"
     ]
    }
   ],
   "source": [
    "df = pd.read_csv(filt_ab, sep='\\t')\n",
    "df, tids = get_tpm_table(df, \n",
    "                         how='iso',\n",
    "                         min_tpm=1,\n",
    "                         gene_subset=None)"
   ]
  },
  {
   "cell_type": "code",
   "execution_count": 5,
   "id": "71ac289e-98ae-4065-9695-2e7e51d031e0",
   "metadata": {},
   "outputs": [
    {
     "data": {
      "text/html": [
       "<div>\n",
       "<style scoped>\n",
       "    .dataframe tbody tr th:only-of-type {\n",
       "        vertical-align: middle;\n",
       "    }\n",
       "\n",
       "    .dataframe tbody tr th {\n",
       "        vertical-align: top;\n",
       "    }\n",
       "\n",
       "    .dataframe thead th {\n",
       "        text-align: right;\n",
       "    }\n",
       "</style>\n",
       "<table border=\"1\" class=\"dataframe\">\n",
       "  <thead>\n",
       "    <tr style=\"text-align: right;\">\n",
       "      <th></th>\n",
       "      <th>annot_transcript_id</th>\n",
       "      <th>hffc6_1_2</th>\n",
       "      <th>mucosa_of_descending_colon_1_1</th>\n",
       "      <th>hl60_m1_12hr_1_2</th>\n",
       "      <th>ovary_3_1</th>\n",
       "      <th>hct116_1_1</th>\n",
       "      <th>hl60_m2_24hr_1_2</th>\n",
       "      <th>calu3_1_1</th>\n",
       "      <th>caco2_1_2</th>\n",
       "      <th>huvec_1_1</th>\n",
       "      <th>...</th>\n",
       "      <th>posterior_vena_cava_2_1</th>\n",
       "      <th>h1_1_3</th>\n",
       "      <th>ocily7_1_2</th>\n",
       "      <th>heart_left_ventricle_4_1</th>\n",
       "      <th>h9_chondro_1_1</th>\n",
       "      <th>pgp1_1_1</th>\n",
       "      <th>lower_lobe_of_right_lung_1_1</th>\n",
       "      <th>a673_1_2</th>\n",
       "      <th>hepg2_1_1</th>\n",
       "      <th>gid</th>\n",
       "    </tr>\n",
       "  </thead>\n",
       "  <tbody>\n",
       "    <tr>\n",
       "      <th>0</th>\n",
       "      <td>ENSG00000000003[1,1,1]</td>\n",
       "      <td>0.000000</td>\n",
       "      <td>0.000000</td>\n",
       "      <td>0.0</td>\n",
       "      <td>0.000000</td>\n",
       "      <td>1.078233</td>\n",
       "      <td>0.0</td>\n",
       "      <td>1.868680</td>\n",
       "      <td>10.064443</td>\n",
       "      <td>0.000000</td>\n",
       "      <td>...</td>\n",
       "      <td>0.000000</td>\n",
       "      <td>9.228966</td>\n",
       "      <td>0.0</td>\n",
       "      <td>0.000000</td>\n",
       "      <td>0.837785</td>\n",
       "      <td>0.000000</td>\n",
       "      <td>1.169899</td>\n",
       "      <td>2.510343</td>\n",
       "      <td>3.089794</td>\n",
       "      <td>ENSG00000000003</td>\n",
       "    </tr>\n",
       "    <tr>\n",
       "      <th>1</th>\n",
       "      <td>ENSG00000000003[1,1,5]</td>\n",
       "      <td>9.581481</td>\n",
       "      <td>68.713567</td>\n",
       "      <td>0.0</td>\n",
       "      <td>20.443209</td>\n",
       "      <td>8.625867</td>\n",
       "      <td>0.0</td>\n",
       "      <td>36.439267</td>\n",
       "      <td>84.541318</td>\n",
       "      <td>9.831176</td>\n",
       "      <td>...</td>\n",
       "      <td>4.368854</td>\n",
       "      <td>24.226036</td>\n",
       "      <td>0.0</td>\n",
       "      <td>4.362171</td>\n",
       "      <td>5.864493</td>\n",
       "      <td>25.636599</td>\n",
       "      <td>5.849493</td>\n",
       "      <td>33.471235</td>\n",
       "      <td>43.257112</td>\n",
       "      <td>ENSG00000000003</td>\n",
       "    </tr>\n",
       "    <tr>\n",
       "      <th>2</th>\n",
       "      <td>ENSG00000000003[1,1,6]</td>\n",
       "      <td>1.596913</td>\n",
       "      <td>1.908710</td>\n",
       "      <td>0.0</td>\n",
       "      <td>0.000000</td>\n",
       "      <td>3.234700</td>\n",
       "      <td>0.0</td>\n",
       "      <td>1.868680</td>\n",
       "      <td>8.051554</td>\n",
       "      <td>0.578304</td>\n",
       "      <td>...</td>\n",
       "      <td>0.000000</td>\n",
       "      <td>1.153621</td>\n",
       "      <td>0.0</td>\n",
       "      <td>0.000000</td>\n",
       "      <td>0.000000</td>\n",
       "      <td>0.000000</td>\n",
       "      <td>1.169899</td>\n",
       "      <td>0.836781</td>\n",
       "      <td>3.089794</td>\n",
       "      <td>ENSG00000000003</td>\n",
       "    </tr>\n",
       "    <tr>\n",
       "      <th>3</th>\n",
       "      <td>ENSG00000000003[1,1,7]</td>\n",
       "      <td>30.341356</td>\n",
       "      <td>114.522612</td>\n",
       "      <td>0.0</td>\n",
       "      <td>23.850410</td>\n",
       "      <td>26.955834</td>\n",
       "      <td>0.0</td>\n",
       "      <td>102.777420</td>\n",
       "      <td>168.076192</td>\n",
       "      <td>35.854876</td>\n",
       "      <td>...</td>\n",
       "      <td>17.475414</td>\n",
       "      <td>80.753453</td>\n",
       "      <td>0.0</td>\n",
       "      <td>5.816228</td>\n",
       "      <td>15.917910</td>\n",
       "      <td>51.273199</td>\n",
       "      <td>7.019391</td>\n",
       "      <td>46.022948</td>\n",
       "      <td>82.188513</td>\n",
       "      <td>ENSG00000000003</td>\n",
       "    </tr>\n",
       "    <tr>\n",
       "      <th>4</th>\n",
       "      <td>ENSG00000000003[1,1,8]</td>\n",
       "      <td>25.550616</td>\n",
       "      <td>169.875209</td>\n",
       "      <td>0.0</td>\n",
       "      <td>20.443209</td>\n",
       "      <td>17.251734</td>\n",
       "      <td>0.0</td>\n",
       "      <td>74.747214</td>\n",
       "      <td>181.159967</td>\n",
       "      <td>45.686051</td>\n",
       "      <td>...</td>\n",
       "      <td>4.368854</td>\n",
       "      <td>43.837589</td>\n",
       "      <td>0.0</td>\n",
       "      <td>4.362171</td>\n",
       "      <td>16.755695</td>\n",
       "      <td>34.182133</td>\n",
       "      <td>7.019391</td>\n",
       "      <td>27.613769</td>\n",
       "      <td>40.167319</td>\n",
       "      <td>ENSG00000000003</td>\n",
       "    </tr>\n",
       "  </tbody>\n",
       "</table>\n",
       "<p>5 rows × 140 columns</p>\n",
       "</div>"
      ],
      "text/plain": [
       "      annot_transcript_id  hffc6_1_2  mucosa_of_descending_colon_1_1  \\\n",
       "0  ENSG00000000003[1,1,1]   0.000000                        0.000000   \n",
       "1  ENSG00000000003[1,1,5]   9.581481                       68.713567   \n",
       "2  ENSG00000000003[1,1,6]   1.596913                        1.908710   \n",
       "3  ENSG00000000003[1,1,7]  30.341356                      114.522612   \n",
       "4  ENSG00000000003[1,1,8]  25.550616                      169.875209   \n",
       "\n",
       "   hl60_m1_12hr_1_2  ovary_3_1  hct116_1_1  hl60_m2_24hr_1_2   calu3_1_1  \\\n",
       "0               0.0   0.000000    1.078233               0.0    1.868680   \n",
       "1               0.0  20.443209    8.625867               0.0   36.439267   \n",
       "2               0.0   0.000000    3.234700               0.0    1.868680   \n",
       "3               0.0  23.850410   26.955834               0.0  102.777420   \n",
       "4               0.0  20.443209   17.251734               0.0   74.747214   \n",
       "\n",
       "    caco2_1_2  huvec_1_1  ...  posterior_vena_cava_2_1     h1_1_3  ocily7_1_2  \\\n",
       "0   10.064443   0.000000  ...                 0.000000   9.228966         0.0   \n",
       "1   84.541318   9.831176  ...                 4.368854  24.226036         0.0   \n",
       "2    8.051554   0.578304  ...                 0.000000   1.153621         0.0   \n",
       "3  168.076192  35.854876  ...                17.475414  80.753453         0.0   \n",
       "4  181.159967  45.686051  ...                 4.368854  43.837589         0.0   \n",
       "\n",
       "   heart_left_ventricle_4_1  h9_chondro_1_1   pgp1_1_1  \\\n",
       "0                  0.000000        0.837785   0.000000   \n",
       "1                  4.362171        5.864493  25.636599   \n",
       "2                  0.000000        0.000000   0.000000   \n",
       "3                  5.816228       15.917910  51.273199   \n",
       "4                  4.362171       16.755695  34.182133   \n",
       "\n",
       "   lower_lobe_of_right_lung_1_1   a673_1_2  hepg2_1_1              gid  \n",
       "0                      1.169899   2.510343   3.089794  ENSG00000000003  \n",
       "1                      5.849493  33.471235  43.257112  ENSG00000000003  \n",
       "2                      1.169899   0.836781   3.089794  ENSG00000000003  \n",
       "3                      7.019391  46.022948  82.188513  ENSG00000000003  \n",
       "4                      7.019391  27.613769  40.167319  ENSG00000000003  \n",
       "\n",
       "[5 rows x 140 columns]"
      ]
     },
     "execution_count": 5,
     "metadata": {},
     "output_type": "execute_result"
    }
   ],
   "source": [
    "df.reset_index(inplace=True)\n",
    "df['gid'] = df.annot_transcript_id.str.split('[', expand=True)[0]\n",
    "df.head()"
   ]
  },
  {
   "cell_type": "code",
   "execution_count": 6,
   "id": "59647390-3906-4833-afec-d504468a7987",
   "metadata": {},
   "outputs": [],
   "source": [
    "ab_df = pd.read_csv(filt_ab, sep='\\t')\n",
    "ab_df['gid'] = ab_df.annot_transcript_id.str.split('[', expand=True)[0]\n",
    "ab_df = ab_df[['gid', 'gene_novelty']].drop_duplicates()"
   ]
  },
  {
   "cell_type": "code",
   "execution_count": 7,
   "id": "5740a16c-36bc-4d5d-a380-ec62d3f6a679",
   "metadata": {},
   "outputs": [
    {
     "data": {
      "text/plain": [
       "80"
      ]
     },
     "execution_count": 7,
     "metadata": {},
     "output_type": "execute_result"
    }
   ],
   "source": [
    "len(ab_df.loc[ab_df.gene_novelty.str.contains('Fusion')].index)"
   ]
  },
  {
   "cell_type": "code",
   "execution_count": 8,
   "id": "f93a9095-d13b-490b-afe5-c90933ed6481",
   "metadata": {},
   "outputs": [],
   "source": [
    "ab_df.loc[ab_df.gid.duplicated(keep=False)].sort_values(by='gid')\n",
    "assert len(ab_df.loc[ab_df.gid.duplicated(keep=False)].index) == 0"
   ]
  },
  {
   "cell_type": "code",
   "execution_count": 9,
   "id": "41c4c45b-0cd6-4763-80e1-6cb92ac57e39",
   "metadata": {},
   "outputs": [],
   "source": [
    "df = df.merge(ab_df, how='left', on='gid')"
   ]
  },
  {
   "cell_type": "code",
   "execution_count": 10,
   "id": "a2426bc9-1315-42ee-a3f4-2d41e530c5e4",
   "metadata": {},
   "outputs": [
    {
     "data": {
      "text/plain": [
       "213476"
      ]
     },
     "execution_count": 10,
     "metadata": {},
     "output_type": "execute_result"
    }
   ],
   "source": [
    "len(df.index)"
   ]
  },
  {
   "cell_type": "code",
   "execution_count": 11,
   "id": "7559301a-b371-4f78-927f-37c9c662afc3",
   "metadata": {},
   "outputs": [],
   "source": [
    "datasets = get_datasets('human')\n",
    "df['max_tpm'] = df[datasets].max(axis=1)\n",
    "df.drop(datasets, axis=1, inplace=True)"
   ]
  },
  {
   "cell_type": "code",
   "execution_count": 12,
   "id": "1cf0cde3-9c25-46ae-b2c5-b5215d0d075d",
   "metadata": {},
   "outputs": [],
   "source": [
    "gtf_df, _, _ = get_gtf_info(ver='v40_cerberus', how='gene')"
   ]
  },
  {
   "cell_type": "code",
   "execution_count": 13,
   "id": "50122872-3656-4b00-b514-fd5dfb715e1c",
   "metadata": {},
   "outputs": [
    {
     "data": {
      "text/html": [
       "<div>\n",
       "<style scoped>\n",
       "    .dataframe tbody tr th:only-of-type {\n",
       "        vertical-align: middle;\n",
       "    }\n",
       "\n",
       "    .dataframe tbody tr th {\n",
       "        vertical-align: top;\n",
       "    }\n",
       "\n",
       "    .dataframe thead th {\n",
       "        text-align: right;\n",
       "    }\n",
       "</style>\n",
       "<table border=\"1\" class=\"dataframe\">\n",
       "  <thead>\n",
       "    <tr style=\"text-align: right;\">\n",
       "      <th></th>\n",
       "      <th>gid</th>\n",
       "      <th>gname</th>\n",
       "      <th>length</th>\n",
       "      <th>biotype</th>\n",
       "      <th>biotype_category</th>\n",
       "      <th>tf</th>\n",
       "      <th>MANE_Select</th>\n",
       "      <th>MANE_Plus_Clinical</th>\n",
       "      <th>gid_stable</th>\n",
       "    </tr>\n",
       "  </thead>\n",
       "  <tbody>\n",
       "    <tr>\n",
       "      <th>0</th>\n",
       "      <td>ENSG00000000460.17</td>\n",
       "      <td>C1orf112</td>\n",
       "      <td>192174</td>\n",
       "      <td>protein_coding</td>\n",
       "      <td>protein_coding</td>\n",
       "      <td>False</td>\n",
       "      <td>True</td>\n",
       "      <td>False</td>\n",
       "      <td>ENSG00000000460</td>\n",
       "    </tr>\n",
       "    <tr>\n",
       "      <th>1</th>\n",
       "      <td>ENSG00000000971.17</td>\n",
       "      <td>CFH</td>\n",
       "      <td>100823</td>\n",
       "      <td>protein_coding</td>\n",
       "      <td>protein_coding</td>\n",
       "      <td>False</td>\n",
       "      <td>True</td>\n",
       "      <td>False</td>\n",
       "      <td>ENSG00000000971</td>\n",
       "    </tr>\n",
       "    <tr>\n",
       "      <th>2</th>\n",
       "      <td>ENSG00000001461.17</td>\n",
       "      <td>NIPAL3</td>\n",
       "      <td>57275</td>\n",
       "      <td>protein_coding</td>\n",
       "      <td>protein_coding</td>\n",
       "      <td>False</td>\n",
       "      <td>True</td>\n",
       "      <td>False</td>\n",
       "      <td>ENSG00000001461</td>\n",
       "    </tr>\n",
       "    <tr>\n",
       "      <th>3</th>\n",
       "      <td>ENSG00000004487.18</td>\n",
       "      <td>KDM1A</td>\n",
       "      <td>64347</td>\n",
       "      <td>protein_coding</td>\n",
       "      <td>protein_coding</td>\n",
       "      <td>False</td>\n",
       "      <td>True</td>\n",
       "      <td>False</td>\n",
       "      <td>ENSG00000004487</td>\n",
       "    </tr>\n",
       "    <tr>\n",
       "      <th>4</th>\n",
       "      <td>ENSG00000007933.13</td>\n",
       "      <td>FMO3</td>\n",
       "      <td>27019</td>\n",
       "      <td>protein_coding</td>\n",
       "      <td>protein_coding</td>\n",
       "      <td>False</td>\n",
       "      <td>True</td>\n",
       "      <td>False</td>\n",
       "      <td>ENSG00000007933</td>\n",
       "    </tr>\n",
       "  </tbody>\n",
       "</table>\n",
       "</div>"
      ],
      "text/plain": [
       "                  gid     gname  length         biotype biotype_category  \\\n",
       "0  ENSG00000000460.17  C1orf112  192174  protein_coding   protein_coding   \n",
       "1  ENSG00000000971.17       CFH  100823  protein_coding   protein_coding   \n",
       "2  ENSG00000001461.17    NIPAL3   57275  protein_coding   protein_coding   \n",
       "3  ENSG00000004487.18     KDM1A   64347  protein_coding   protein_coding   \n",
       "4  ENSG00000007933.13      FMO3   27019  protein_coding   protein_coding   \n",
       "\n",
       "      tf  MANE_Select  MANE_Plus_Clinical       gid_stable  \n",
       "0  False         True               False  ENSG00000000460  \n",
       "1  False         True               False  ENSG00000000971  \n",
       "2  False         True               False  ENSG00000001461  \n",
       "3  False         True               False  ENSG00000004487  \n",
       "4  False         True               False  ENSG00000007933  "
      ]
     },
     "execution_count": 13,
     "metadata": {},
     "output_type": "execute_result"
    }
   ],
   "source": [
    "gtf_df['gid_stable'] = cerberus.get_stable_gid(gtf_df, col='gid')\n",
    "gtf_df.head()"
   ]
  },
  {
   "cell_type": "code",
   "execution_count": 14,
   "id": "3a1d24ae-b5c7-4bb6-8b96-239d88eadb01",
   "metadata": {},
   "outputs": [
    {
     "data": {
      "text/html": [
       "<div>\n",
       "<style scoped>\n",
       "    .dataframe tbody tr th:only-of-type {\n",
       "        vertical-align: middle;\n",
       "    }\n",
       "\n",
       "    .dataframe tbody tr th {\n",
       "        vertical-align: top;\n",
       "    }\n",
       "\n",
       "    .dataframe thead th {\n",
       "        text-align: right;\n",
       "    }\n",
       "</style>\n",
       "<table border=\"1\" class=\"dataframe\">\n",
       "  <thead>\n",
       "    <tr style=\"text-align: right;\">\n",
       "      <th></th>\n",
       "      <th>annot_transcript_id</th>\n",
       "      <th>gid</th>\n",
       "      <th>gene_novelty</th>\n",
       "      <th>max_tpm</th>\n",
       "      <th>gid_stable</th>\n",
       "      <th>biotype_category</th>\n",
       "    </tr>\n",
       "  </thead>\n",
       "  <tbody>\n",
       "    <tr>\n",
       "      <th>0</th>\n",
       "      <td>ENSG00000000003[1,1,1]</td>\n",
       "      <td>ENSG00000000003</td>\n",
       "      <td>Known</td>\n",
       "      <td>10.657368</td>\n",
       "      <td>ENSG00000000003</td>\n",
       "      <td>protein_coding</td>\n",
       "    </tr>\n",
       "    <tr>\n",
       "      <th>1</th>\n",
       "      <td>ENSG00000000003[1,1,5]</td>\n",
       "      <td>ENSG00000000003</td>\n",
       "      <td>Known</td>\n",
       "      <td>304.456970</td>\n",
       "      <td>ENSG00000000003</td>\n",
       "      <td>protein_coding</td>\n",
       "    </tr>\n",
       "    <tr>\n",
       "      <th>2</th>\n",
       "      <td>ENSG00000000003[1,1,6]</td>\n",
       "      <td>ENSG00000000003</td>\n",
       "      <td>Known</td>\n",
       "      <td>26.218655</td>\n",
       "      <td>ENSG00000000003</td>\n",
       "      <td>protein_coding</td>\n",
       "    </tr>\n",
       "    <tr>\n",
       "      <th>3</th>\n",
       "      <td>ENSG00000000003[1,1,7]</td>\n",
       "      <td>ENSG00000000003</td>\n",
       "      <td>Known</td>\n",
       "      <td>696.401575</td>\n",
       "      <td>ENSG00000000003</td>\n",
       "      <td>protein_coding</td>\n",
       "    </tr>\n",
       "    <tr>\n",
       "      <th>4</th>\n",
       "      <td>ENSG00000000003[1,1,8]</td>\n",
       "      <td>ENSG00000000003</td>\n",
       "      <td>Known</td>\n",
       "      <td>203.213261</td>\n",
       "      <td>ENSG00000000003</td>\n",
       "      <td>protein_coding</td>\n",
       "    </tr>\n",
       "  </tbody>\n",
       "</table>\n",
       "</div>"
      ],
      "text/plain": [
       "      annot_transcript_id              gid gene_novelty     max_tpm  \\\n",
       "0  ENSG00000000003[1,1,1]  ENSG00000000003        Known   10.657368   \n",
       "1  ENSG00000000003[1,1,5]  ENSG00000000003        Known  304.456970   \n",
       "2  ENSG00000000003[1,1,6]  ENSG00000000003        Known   26.218655   \n",
       "3  ENSG00000000003[1,1,7]  ENSG00000000003        Known  696.401575   \n",
       "4  ENSG00000000003[1,1,8]  ENSG00000000003        Known  203.213261   \n",
       "\n",
       "        gid_stable biotype_category  \n",
       "0  ENSG00000000003   protein_coding  \n",
       "1  ENSG00000000003   protein_coding  \n",
       "2  ENSG00000000003   protein_coding  \n",
       "3  ENSG00000000003   protein_coding  \n",
       "4  ENSG00000000003   protein_coding  "
      ]
     },
     "execution_count": 14,
     "metadata": {},
     "output_type": "execute_result"
    }
   ],
   "source": [
    "gtf_df = gtf_df[['gid_stable', 'biotype_category']]\n",
    "df = df.merge(gtf_df, how='left', left_on='gid', right_on='gid_stable')\n",
    "df.head()\n"
   ]
  },
  {
   "cell_type": "code",
   "execution_count": 15,
   "id": "4888d402-5243-4926-9b80-96f5dbf3b6f6",
   "metadata": {},
   "outputs": [],
   "source": [
    "polya_cats = ['protein_coding', 'lncRNA', 'pseudogene']\n",
    "df = df.loc[(df.biotype_category.isin(polya_cats))|(df.gene_novelty!='Known')]"
   ]
  },
  {
   "cell_type": "code",
   "execution_count": 16,
   "id": "11807d38-96fa-4459-af26-a43964d20b14",
   "metadata": {},
   "outputs": [],
   "source": [
    "df['gene_status'] = df['gene_novelty']\n",
    "df.loc[df.gene_novelty=='Known', 'gene_status'] = df.loc[df.gene_novelty=='Known', 'biotype_category']"
   ]
  },
  {
   "cell_type": "code",
   "execution_count": 17,
   "id": "ca332caa-6cbe-41bb-b875-48bcadae070f",
   "metadata": {},
   "outputs": [],
   "source": [
    "df['log2_max_tpm'] = np.log2(df.max_tpm)"
   ]
  },
  {
   "cell_type": "code",
   "execution_count": 18,
   "id": "95793672-eeb8-441d-b2d9-0c308e1c1d1c",
   "metadata": {},
   "outputs": [
    {
     "data": {
      "text/plain": [
       "<seaborn.axisgrid.FacetGrid at 0x7fc38ac00ed0>"
      ]
     },
     "execution_count": 18,
     "metadata": {},
     "output_type": "execute_result"
    },
    {
     "data": {
      "image/png": "[encoded data removed]",
      "text/plain": [
       "<Figure size 360x360 with 1 Axes>"
      ]
     },
     "metadata": {
      "needs_background": "light"
     },
     "output_type": "display_data"
    }
   ],
   "source": [
    "mpl.rcParams['font.family'] = 'Arial'\n",
    "mpl.rcParams['pdf.fonttype'] = 42\n",
    "sns.set_context('paper', font_scale=1.8)\n",
    "\n",
    "order = ['protein_coding', 'lncRNA', 'pseudogene', 'Intergenic', 'Fusion']\n",
    "labels = ['Protein\\ncoding', 'lncRNA', 'Pseudogene', 'Intergenic', 'Fusion']\n",
    "\n",
    "ax = sns.catplot(df, hue='gene_status', x='gene_status', y='log2_max_tpm',\n",
    "                 order=order, alpha=0.2)\n",
    "# ax.set(yscale='log', ylabel='Max. gene TPM across datasets', xlabel='')\n",
    "ax.set(ylabel='Max. log2(gene TPM) across datasets', xlabel='')\n",
    "# ax.legend.remove()\n",
    "# ax.get_legend().set_visible(False)\n",
    "# ax.spines['right'].set_visible(False)\n",
    "# ax.spines['top'].set_visible(False)\n",
    "ax.tick_params(axis=\"x\", rotation=45)\n",
    "ax.set_xticklabels(labels)"
   ]
  },
  {
   "cell_type": "code",
   "execution_count": 19,
   "id": "8706f117-e908-44cb-a9bd-0e7b130145da",
   "metadata": {},
   "outputs": [
    {
     "data": {
      "image/png": "[encoded data removed]",
      "text/plain": [
       "<Figure size 432x288 with 1 Axes>"
      ]
     },
     "metadata": {
      "needs_background": "light"
     },
     "output_type": "display_data"
    }
   ],
   "source": [
    "# violin\n",
    "mpl.rcParams['font.family'] = 'Arial'\n",
    "mpl.rcParams['pdf.fonttype'] = 42\n",
    "sns.set_context('paper', font_scale=1.8)\n",
    "\n",
    "order = ['protein_coding', 'lncRNA', 'pseudogene', 'Intergenic', 'Fusion']\n",
    "labels = ['Protein\\ncoding', 'lncRNA', 'Pseudogene', 'Intergenic', 'Fusion']\n",
    "\n",
    "ax = sns.violinplot(df, hue='gene_status', x='gene_status', y='log2_max_tpm',\n",
    "                 order=order)\n",
    "ax.set(ylabel='Max. log2(gene TPM) across datasets', xlabel='')\n",
    "# ax.legend.remove()\n",
    "ax.get_legend().set_visible(False)\n",
    "ax.spines['right'].set_visible(False)\n",
    "ax.spines['top'].set_visible(False)\n",
    "ax.tick_params(axis=\"x\", rotation=45)"
   ]
  },
  {
   "cell_type": "markdown",
   "id": "8696b157-6b06-438e-86c7-7add84a772e2",
   "metadata": {},
   "source": [
    "## How many novel readthrough loci do we detect?"
   ]
  },
  {
   "cell_type": "code",
   "execution_count": 20,
   "id": "7c782e94-216f-40ab-9171-998b708518eb",
   "metadata": {},
   "outputs": [
    {
     "name": "stdout",
     "output_type": "stream",
     "text": [
      "Calculating iso TPM values\n"
     ]
    },
    {
     "name": "stderr",
     "output_type": "stream",
     "text": [
      "/Users/fairliereese/Documents/programming/mortazavi_lab/data/paper_rnawg/proc_revisions/utils.py:2087: PerformanceWarning: DataFrame is highly fragmented.  This is usually the result of calling `frame.insert` many times, which has poor performance.  Consider joining all columns at once using pd.concat(axis=1) instead.  To get a de-fragmented frame, use `newframe = frame.copy()`\n",
      "  df[tpm_col] = (df[d]*1000000)/df[total_col]\n",
      "/Users/fairliereese/Documents/programming/mortazavi_lab/data/paper_rnawg/proc_revisions/utils.py:2086: PerformanceWarning: DataFrame is highly fragmented.  This is usually the result of calling `frame.insert` many times, which has poor performance.  Consider joining all columns at once using pd.concat(axis=1) instead.  To get a de-fragmented frame, use `newframe = frame.copy()`\n",
      "  df[total_col] = df[d].sum()\n"
     ]
    },
    {
     "name": "stdout",
     "output_type": "stream",
     "text": [
      "Enforcing minimum TPM\n",
      "Total # isos detected: 236615\n",
      "# isos >= 1 tpm: 213476\n",
      "Number of isos reported: 213476\n"
     ]
    }
   ],
   "source": [
    "df = pd.read_csv(filt_ab, sep='\\t')\n",
    "df, tids = get_tpm_table(df, \n",
    "                         how='iso',\n",
    "                         min_tpm=1,\n",
    "                         gene_subset=None)\n",
    "df.reset_index(inplace=True)\n",
    "df['gid'] = df.annot_transcript_id.str.split('[', expand=True)[0]\n",
    "ab_df = pd.read_csv(filt_ab, sep='\\t')\n",
    "ab_df['gid'] = ab_df.annot_transcript_id.str.split('[', expand=True)[0]\n",
    "ab_df = ab_df[['gid', 'gene_novelty']].drop_duplicates()\n",
    "df = df.merge(ab_df, how='left', on='gid')"
   ]
  },
  {
   "cell_type": "code",
   "execution_count": 21,
   "id": "6d48a4b4-686a-4d16-9917-23eeda1ff1a6",
   "metadata": {},
   "outputs": [
    {
     "name": "stdout",
     "output_type": "stream",
     "text": [
      "Found 79 fusion loci in human\n"
     ]
    }
   ],
   "source": [
    "n = len(df.loc[df.gene_novelty=='Fusion'].gid.unique())\n",
    "print(f'Found {n} fusion loci in human')"
   ]
  },
  {
   "cell_type": "markdown",
   "id": "72125f07-dcef-4928-ac8b-a432bb0c7696",
   "metadata": {},
   "source": [
    "## How many GENCODE genes engage in readthrough transcription?"
   ]
  },
  {
   "cell_type": "code",
   "execution_count": 22,
   "id": "6aa92980-0992-41b2-a5f5-38f88ef03093",
   "metadata": {},
   "outputs": [],
   "source": [
    "df = pr.read_gtf(ref_gtf, duplicate_attr=True)"
   ]
  },
  {
   "cell_type": "code",
   "execution_count": 23,
   "id": "4a5749de-9bd7-41c4-a618-ce923d5cabb5",
   "metadata": {},
   "outputs": [],
   "source": [
    "df = df.df\n",
    "df = df.loc[df.Feature=='transcript']"
   ]
  },
  {
   "cell_type": "code",
   "execution_count": 24,
   "id": "c8435594-e4b0-4417-8311-0e1e95b06ae1",
   "metadata": {},
   "outputs": [],
   "source": [
    "# is it possible that a not all transcripts from a given gene are called as readthrough? \n",
    "temp = df[['gene_id','transcript_id','tag']]\n",
    "temp['readthrough_transcript'] = temp.tag.str.contains('readthrough_transcript')\n",
    "temp.drop('tag', axis=1, inplace=True)\n",
    "\n",
    "gids = temp.loc[temp.readthrough_transcript==True]\n",
    "temp.loc[(temp.gene_id.isin(gids))&(temp.readthrough_transcript==False)]\n",
    "\n",
    "# nope\n",
    "assert len(temp.loc[(temp.gene_id.isin(gids))&(temp.readthrough_transcript==False)]) == 0"
   ]
  },
  {
   "cell_type": "code",
   "execution_count": 25,
   "id": "4b2267dc-a278-46e4-995f-bb87fb373e51",
   "metadata": {},
   "outputs": [
    {
     "name": "stdout",
     "output_type": "stream",
     "text": [
      "Gencode v40 has 981 genes w/ annotated readthrough transcription\n",
      "Gencode v40 has 2082 transcripts w/ annotated readthrough transcription\n"
     ]
    }
   ],
   "source": [
    "rt_df = df.loc[(df.tag.notnull())&(df.tag.str.contains('readthrough_transcript'))]\n",
    "rt_df = rt_df[['gene_id', 'transcript_id']].drop_duplicates()\n",
    "rt_df['gid_stable'] = cerberus.get_stable_gid(rt_df, 'gene_id')\n",
    "n = len(rt_df.gene_id.unique().tolist())\n",
    "print(f'Gencode v40 has {n} genes w/ annotated readthrough transcription')\n",
    "n = len(rt_df.transcript_id.unique().tolist())\n",
    "print(f'Gencode v40 has {n} transcripts w/ annotated readthrough transcription')"
   ]
  },
  {
   "cell_type": "code",
   "execution_count": 26,
   "id": "7fdac7db-86d3-4789-a5fb-345f0f973694",
   "metadata": {},
   "outputs": [
    {
     "data": {
      "text/html": [
       "<div>\n",
       "<style scoped>\n",
       "    .dataframe tbody tr th:only-of-type {\n",
       "        vertical-align: middle;\n",
       "    }\n",
       "\n",
       "    .dataframe tbody tr th {\n",
       "        vertical-align: top;\n",
       "    }\n",
       "\n",
       "    .dataframe thead th {\n",
       "        text-align: right;\n",
       "    }\n",
       "</style>\n",
       "<table border=\"1\" class=\"dataframe\">\n",
       "  <thead>\n",
       "    <tr style=\"text-align: right;\">\n",
       "      <th></th>\n",
       "      <th>gene_id</th>\n",
       "      <th>transcript_id</th>\n",
       "      <th>gid_stable</th>\n",
       "    </tr>\n",
       "  </thead>\n",
       "  <tbody>\n",
       "    <tr>\n",
       "      <th>10466</th>\n",
       "      <td>ENSG00000251503.8</td>\n",
       "      <td>ENST00000400900.6</td>\n",
       "      <td>ENSG00000251503</td>\n",
       "    </tr>\n",
       "    <tr>\n",
       "      <th>10481</th>\n",
       "      <td>ENSG00000251503.8</td>\n",
       "      <td>ENST00000470413.6</td>\n",
       "      <td>ENSG00000251503</td>\n",
       "    </tr>\n",
       "    <tr>\n",
       "      <th>10494</th>\n",
       "      <td>ENSG00000251503.8</td>\n",
       "      <td>ENST00000602787.6</td>\n",
       "      <td>ENSG00000251503</td>\n",
       "    </tr>\n",
       "    <tr>\n",
       "      <th>10511</th>\n",
       "      <td>ENSG00000251503.8</td>\n",
       "      <td>ENST00000602296.6</td>\n",
       "      <td>ENSG00000251503</td>\n",
       "    </tr>\n",
       "    <tr>\n",
       "      <th>10524</th>\n",
       "      <td>ENSG00000251503.8</td>\n",
       "      <td>ENST00000465026.1</td>\n",
       "      <td>ENSG00000251503</td>\n",
       "    </tr>\n",
       "  </tbody>\n",
       "</table>\n",
       "</div>"
      ],
      "text/plain": [
       "                 gene_id      transcript_id       gid_stable\n",
       "10466  ENSG00000251503.8  ENST00000400900.6  ENSG00000251503\n",
       "10481  ENSG00000251503.8  ENST00000470413.6  ENSG00000251503\n",
       "10494  ENSG00000251503.8  ENST00000602787.6  ENSG00000251503\n",
       "10511  ENSG00000251503.8  ENST00000602296.6  ENSG00000251503\n",
       "10524  ENSG00000251503.8  ENST00000465026.1  ENSG00000251503"
      ]
     },
     "execution_count": 26,
     "metadata": {},
     "output_type": "execute_result"
    }
   ],
   "source": [
    "rt_df.head()"
   ]
  },
  {
   "cell_type": "markdown",
   "id": "8ad6eb0c-a606-4204-be0f-9ad41b5bbe84",
   "metadata": {},
   "source": [
    "## How many transcripts w/ annotated readthrough transcription do we detect?"
   ]
  },
  {
   "cell_type": "code",
   "execution_count": 27,
   "id": "97c7bf8e-360d-4936-bf44-d358c9f1a738",
   "metadata": {},
   "outputs": [
    {
     "data": {
      "text/plain": [
       "2075"
      ]
     },
     "execution_count": 27,
     "metadata": {},
     "output_type": "execute_result"
    }
   ],
   "source": [
    "df, _, _ = get_gtf_info(ver='v40_cerberus', how='iso')\n",
    "rt_df = df.loc[df.readthrough_transcript==True]\n",
    "len(rt_df.index)"
   ]
  },
  {
   "cell_type": "code",
   "execution_count": 28,
   "id": "6fc7e5aa-66f9-4912-9e79-30e65f650054",
   "metadata": {},
   "outputs": [
    {
     "name": "stdout",
     "output_type": "stream",
     "text": [
      "Calculating iso TPM values\n"
     ]
    },
    {
     "name": "stderr",
     "output_type": "stream",
     "text": [
      "/Users/fairliereese/Documents/programming/mortazavi_lab/data/paper_rnawg/proc_revisions/utils.py:2087: PerformanceWarning: DataFrame is highly fragmented.  This is usually the result of calling `frame.insert` many times, which has poor performance.  Consider joining all columns at once using pd.concat(axis=1) instead.  To get a de-fragmented frame, use `newframe = frame.copy()`\n",
      "  df[tpm_col] = (df[d]*1000000)/df[total_col]\n",
      "/Users/fairliereese/Documents/programming/mortazavi_lab/data/paper_rnawg/proc_revisions/utils.py:2086: PerformanceWarning: DataFrame is highly fragmented.  This is usually the result of calling `frame.insert` many times, which has poor performance.  Consider joining all columns at once using pd.concat(axis=1) instead.  To get a de-fragmented frame, use `newframe = frame.copy()`\n",
      "  df[total_col] = df[d].sum()\n"
     ]
    },
    {
     "name": "stdout",
     "output_type": "stream",
     "text": [
      "Enforcing minimum TPM\n",
      "Total # isos detected: 236615\n",
      "# isos >= 1 tpm: 213476\n",
      "Number of isos reported: 213476\n"
     ]
    }
   ],
   "source": [
    "ab_df = pd.read_csv(filt_ab, sep='\\t')\n",
    "ab_df, tids = get_tpm_table(ab_df, \n",
    "                         how='iso',\n",
    "                         min_tpm=1,\n",
    "                         gene_subset=None)"
   ]
  },
  {
   "cell_type": "code",
   "execution_count": 29,
   "id": "e192af9b-570b-405d-ad6e-ff737b0afdf0",
   "metadata": {},
   "outputs": [],
   "source": [
    "ab_df = ab_df.reset_index()\n",
    "ab_df.rename({'annot_transcript_id':'tid'}, axis=1, inplace=True)"
   ]
  },
  {
   "cell_type": "code",
   "execution_count": 30,
   "id": "57777c13-5b49-4205-b692-3ab38eec6ea0",
   "metadata": {},
   "outputs": [
    {
     "name": "stdout",
     "output_type": "stream",
     "text": [
      "14.02% (291/2075) of GENCODE v40 readthrough transcripts were observed\n"
     ]
    }
   ],
   "source": [
    "# % of rt gencode transcripts\n",
    "n = len(rt_df.index)\n",
    "n_num = len(ab_df.loc[ab_df.tid.isin(rt_df.tid.tolist())].index)\n",
    "print('{:.2f}% ({}/{}) of GENCODE v40 readthrough transcripts were observed'.format((n_num/n)*100, n_num, n))"
   ]
  },
  {
   "cell_type": "code",
   "execution_count": 36,
   "id": "3e80277d-d4dc-41c4-9ee7-b0db4df2cace",
   "metadata": {},
   "outputs": [
    {
     "name": "stdout",
     "output_type": "stream",
     "text": [
      "30.68% (301/981) of GENCODE v40 readthrough genes were observed\n"
     ]
    }
   ],
   "source": [
    "# % of rt gencode genes\n",
    "rt_df['gid_stable'] = cerberus.get_stable_gid(rt_df, 'gid')\n",
    "ab_df['gid'] = ab_df.tid.str.split('[', expand=True)[0]\n",
    "n = len(rt_df.gid_stable.unique().tolist())\n",
    "n_num = len(ab_df.loc[ab_df.gid.isin(rt_df.gid_stable.tolist())].gid.unique().tolist())\n",
    "print('{:.2f}% ({}/{}) of GENCODE v40 readthrough genes were observed'.format((n_num/n)*100, n_num, n))"
   ]
  },
  {
   "cell_type": "markdown",
   "id": "19960371-5d30-4b35-8eca-cf120ebd5ca4",
   "metadata": {},
   "source": [
    "## What does the expression of known readthrough loci look like compared to novel?"
   ]
  },
  {
   "cell_type": "code",
   "execution_count": 37,
   "id": "beb52858-601c-48a0-86f0-8b083bf62bde",
   "metadata": {},
   "outputs": [
    {
     "data": {
      "text/plain": [
       "2075"
      ]
     },
     "execution_count": 37,
     "metadata": {},
     "output_type": "execute_result"
    }
   ],
   "source": [
    "df, _, _ = get_gtf_info(ver='v40_cerberus', how='iso')\n",
    "rt_df = df.loc[df.readthrough_transcript==True]\n",
    "len(rt_df.index)"
   ]
  },
  {
   "cell_type": "code",
   "execution_count": 38,
   "id": "25c98695-ac1f-4818-b34b-4185db487aa1",
   "metadata": {},
   "outputs": [
    {
     "name": "stdout",
     "output_type": "stream",
     "text": [
      "Calculating iso TPM values\n"
     ]
    },
    {
     "name": "stderr",
     "output_type": "stream",
     "text": [
      "/Users/fairliereese/Documents/programming/mortazavi_lab/data/paper_rnawg/proc_revisions/utils.py:2087: PerformanceWarning: DataFrame is highly fragmented.  This is usually the result of calling `frame.insert` many times, which has poor performance.  Consider joining all columns at once using pd.concat(axis=1) instead.  To get a de-fragmented frame, use `newframe = frame.copy()`\n",
      "  df[tpm_col] = (df[d]*1000000)/df[total_col]\n",
      "/Users/fairliereese/Documents/programming/mortazavi_lab/data/paper_rnawg/proc_revisions/utils.py:2086: PerformanceWarning: DataFrame is highly fragmented.  This is usually the result of calling `frame.insert` many times, which has poor performance.  Consider joining all columns at once using pd.concat(axis=1) instead.  To get a de-fragmented frame, use `newframe = frame.copy()`\n",
      "  df[total_col] = df[d].sum()\n"
     ]
    },
    {
     "name": "stdout",
     "output_type": "stream",
     "text": [
      "Enforcing minimum TPM\n",
      "Total # isos detected: 236615\n",
      "# isos >= 1 tpm: 213476\n",
      "Number of isos reported: 213476\n"
     ]
    }
   ],
   "source": [
    "ab_df = pd.read_csv(filt_ab, sep='\\t')\n",
    "ab_df, tids = get_tpm_table(ab_df, \n",
    "                         how='iso',\n",
    "                         min_tpm=1,\n",
    "                         gene_subset=None)\n",
    "ab_df = ab_df.reset_index()\n",
    "ab_df.rename({'annot_transcript_id':'tid'}, axis=1, inplace=True)\n",
    "ab_df['readthrough_novelty'] = ''\n",
    "ab_df.loc[ab_df.tid.isin(rt_df.tid.tolist()), 'readthrough_novelty'] = 'Known'\n",
    "ab_df['gid'] = ab_df.tid.str.split('[', expand=True)[0]"
   ]
  },
  {
   "cell_type": "code",
   "execution_count": 39,
   "id": "46a651d3-92e5-4e0d-b811-ab1612169f53",
   "metadata": {},
   "outputs": [],
   "source": [
    "df = pd.read_csv(filt_ab, sep='\\t')\n",
    "df['gid'] = df.annot_transcript_id.str.split('[', expand=True)[0]\n",
    "df = df[['gid', 'gene_novelty']].drop_duplicates()"
   ]
  },
  {
   "cell_type": "code",
   "execution_count": 40,
   "id": "570a49f4-72b7-4ba4-8a5d-a365496f325e",
   "metadata": {},
   "outputs": [
    {
     "data": {
      "text/plain": [
       "80"
      ]
     },
     "execution_count": 40,
     "metadata": {},
     "output_type": "execute_result"
    }
   ],
   "source": [
    "len(df.loc[df.gene_novelty.str.contains('Fusion')].index)"
   ]
  },
  {
   "cell_type": "code",
   "execution_count": 41,
   "id": "fbbdd2ff-76b3-41b5-a45b-f8653781b2e4",
   "metadata": {},
   "outputs": [],
   "source": [
    "df = df.loc[df.gene_novelty.str.contains('Fusion')]"
   ]
  },
  {
   "cell_type": "code",
   "execution_count": 42,
   "id": "e99fc939-a019-4844-9f85-7e56b26d8fc7",
   "metadata": {},
   "outputs": [],
   "source": [
    "ab_df.loc[ab_df.gid.isin(df.gid.tolist()), 'readthrough_novelty'] = 'Novel'"
   ]
  },
  {
   "cell_type": "code",
   "execution_count": 43,
   "id": "ee271d33-bd25-4913-a1cd-1cfae5055479",
   "metadata": {},
   "outputs": [],
   "source": [
    "ab_df = ab_df.loc[ab_df.readthrough_novelty!='']"
   ]
  },
  {
   "cell_type": "code",
   "execution_count": 44,
   "id": "7883524b-a2b0-4747-9588-e57659b78f2a",
   "metadata": {},
   "outputs": [
    {
     "data": {
      "text/html": [
       "<div>\n",
       "<style scoped>\n",
       "    .dataframe tbody tr th:only-of-type {\n",
       "        vertical-align: middle;\n",
       "    }\n",
       "\n",
       "    .dataframe tbody tr th {\n",
       "        vertical-align: top;\n",
       "    }\n",
       "\n",
       "    .dataframe thead th {\n",
       "        text-align: right;\n",
       "    }\n",
       "</style>\n",
       "<table border=\"1\" class=\"dataframe\">\n",
       "  <thead>\n",
       "    <tr style=\"text-align: right;\">\n",
       "      <th></th>\n",
       "      <th>readthrough_novelty</th>\n",
       "      <th>n_transcripts</th>\n",
       "    </tr>\n",
       "  </thead>\n",
       "  <tbody>\n",
       "    <tr>\n",
       "      <th>0</th>\n",
       "      <td>Known</td>\n",
       "      <td>291</td>\n",
       "    </tr>\n",
       "    <tr>\n",
       "      <th>1</th>\n",
       "      <td>Novel</td>\n",
       "      <td>184</td>\n",
       "    </tr>\n",
       "  </tbody>\n",
       "</table>\n",
       "</div>"
      ],
      "text/plain": [
       "  readthrough_novelty  n_transcripts\n",
       "0               Known            291\n",
       "1               Novel            184"
      ]
     },
     "execution_count": 44,
     "metadata": {},
     "output_type": "execute_result"
    }
   ],
   "source": [
    "ab_df[['tid', 'readthrough_novelty']].groupby('readthrough_novelty').count().reset_index().rename({'tid':'n_transcripts'}, axis=1)"
   ]
  },
  {
   "cell_type": "code",
   "execution_count": 45,
   "id": "ea19a493-9be0-423c-9a3a-d01b2130739f",
   "metadata": {},
   "outputs": [],
   "source": [
    "datasets = get_datasets('human')\n",
    "ab_df['max_tpm'] = ab_df[datasets].max(axis=1)\n",
    "ab_df.drop(datasets, axis=1, inplace=True)"
   ]
  },
  {
   "cell_type": "code",
   "execution_count": 46,
   "id": "ad12005a-2aaf-459d-be24-d61aaa4fca57",
   "metadata": {},
   "outputs": [
    {
     "data": {
      "text/html": [
       "<div>\n",
       "<style scoped>\n",
       "    .dataframe tbody tr th:only-of-type {\n",
       "        vertical-align: middle;\n",
       "    }\n",
       "\n",
       "    .dataframe tbody tr th {\n",
       "        vertical-align: top;\n",
       "    }\n",
       "\n",
       "    .dataframe thead th {\n",
       "        text-align: right;\n",
       "    }\n",
       "</style>\n",
       "<table border=\"1\" class=\"dataframe\">\n",
       "  <thead>\n",
       "    <tr style=\"text-align: right;\">\n",
       "      <th></th>\n",
       "      <th>tid</th>\n",
       "      <th>readthrough_novelty</th>\n",
       "      <th>gid</th>\n",
       "      <th>max_tpm</th>\n",
       "      <th>log2_max_tpm</th>\n",
       "    </tr>\n",
       "  </thead>\n",
       "  <tbody>\n",
       "    <tr>\n",
       "      <th>3382</th>\n",
       "      <td>ENSG00000011052[1,1,1]</td>\n",
       "      <td>Known</td>\n",
       "      <td>ENSG00000011052</td>\n",
       "      <td>59.771449</td>\n",
       "      <td>5.901385</td>\n",
       "    </tr>\n",
       "    <tr>\n",
       "      <th>3383</th>\n",
       "      <td>ENSG00000011052[1,2,1]</td>\n",
       "      <td>Known</td>\n",
       "      <td>ENSG00000011052</td>\n",
       "      <td>2.490477</td>\n",
       "      <td>1.316422</td>\n",
       "    </tr>\n",
       "    <tr>\n",
       "      <th>3384</th>\n",
       "      <td>ENSG00000011052[1,3,1]</td>\n",
       "      <td>Known</td>\n",
       "      <td>ENSG00000011052</td>\n",
       "      <td>3.382183</td>\n",
       "      <td>1.757955</td>\n",
       "    </tr>\n",
       "    <tr>\n",
       "      <th>11935</th>\n",
       "      <td>ENSG00000064489[1,1,1]</td>\n",
       "      <td>Known</td>\n",
       "      <td>ENSG00000064489</td>\n",
       "      <td>1.596913</td>\n",
       "      <td>0.675286</td>\n",
       "    </tr>\n",
       "    <tr>\n",
       "      <th>11937</th>\n",
       "      <td>ENSG00000064489[1,4,1]</td>\n",
       "      <td>Known</td>\n",
       "      <td>ENSG00000064489</td>\n",
       "      <td>2.044187</td>\n",
       "      <td>1.031527</td>\n",
       "    </tr>\n",
       "  </tbody>\n",
       "</table>\n",
       "</div>"
      ],
      "text/plain": [
       "                          tid readthrough_novelty              gid    max_tpm  \\\n",
       "3382   ENSG00000011052[1,1,1]               Known  ENSG00000011052  59.771449   \n",
       "3383   ENSG00000011052[1,2,1]               Known  ENSG00000011052   2.490477   \n",
       "3384   ENSG00000011052[1,3,1]               Known  ENSG00000011052   3.382183   \n",
       "11935  ENSG00000064489[1,1,1]               Known  ENSG00000064489   1.596913   \n",
       "11937  ENSG00000064489[1,4,1]               Known  ENSG00000064489   2.044187   \n",
       "\n",
       "       log2_max_tpm  \n",
       "3382       5.901385  \n",
       "3383       1.316422  \n",
       "3384       1.757955  \n",
       "11935      0.675286  \n",
       "11937      1.031527  "
      ]
     },
     "execution_count": 46,
     "metadata": {},
     "output_type": "execute_result"
    }
   ],
   "source": [
    "ab_df['log2_max_tpm'] = np.log2(ab_df.max_tpm)\n",
    "ab_df.head()"
   ]
  },
  {
   "cell_type": "code",
   "execution_count": 47,
   "id": "c94b1020-a3a1-486c-8ae9-7dd5aeb2123d",
   "metadata": {},
   "outputs": [
    {
     "data": {
      "image/png": "[encoded data removed]",
      "text/plain": [
       "<Figure size 432x288 with 1 Axes>"
      ]
     },
     "metadata": {
      "needs_background": "light"
     },
     "output_type": "display_data"
    }
   ],
   "source": [
    "mpl.rcParams['font.family'] = 'Arial'\n",
    "mpl.rcParams['pdf.fonttype'] = 42\n",
    "sns.set_context('paper', font_scale=1.8)\n",
    "\n",
    "order = ['Known', 'Novel']\n",
    "\n",
    "ax = sns.violinplot(ab_df, hue='readthrough_novelty', x='readthrough_novelty', y='log2_max_tpm',\n",
    "                 order=order, alpha=0.2)\n",
    "# ax.set(yscale='log', ylabel='Max. gene TPM across datasets', xlabel='')\n",
    "ax.set(ylabel='Max. log2(gene TPM) across datasets', xlabel='')\n",
    "# ax.legend.remove()\n",
    "ax.get_legend().set_visible(False)\n",
    "ax.spines['right'].set_visible(False)\n",
    "ax.spines['top'].set_visible(False)\n",
    "ax.tick_params(axis=\"x\", rotation=45)"
   ]
  },
  {
   "cell_type": "code",
   "execution_count": 48,
   "id": "8dad3ebb-17e1-429d-bada-a3236b96cdb1",
   "metadata": {},
   "outputs": [],
   "source": [
    "ab_df.head()\n",
    "ab_df.to_csv('human_known_novel_readthrough.tsv', sep='\\t', index=False)"
   ]
  },
  {
   "cell_type": "markdown",
   "id": "1516b038-ba27-45e0-9855-fa0c026f9367",
   "metadata": {},
   "source": [
    "## What does transcriptional diversity look like for known and novel readthrough guys?"
   ]
  },
  {
   "cell_type": "code",
   "execution_count": 49,
   "id": "b029c0bb-0d5e-4f78-bf55-f4cca8a60642",
   "metadata": {},
   "outputs": [
    {
     "data": {
      "text/html": [
       "<div>\n",
       "<style scoped>\n",
       "    .dataframe tbody tr th:only-of-type {\n",
       "        vertical-align: middle;\n",
       "    }\n",
       "\n",
       "    .dataframe tbody tr th {\n",
       "        vertical-align: top;\n",
       "    }\n",
       "\n",
       "    .dataframe thead th {\n",
       "        text-align: right;\n",
       "    }\n",
       "</style>\n",
       "<table border=\"1\" class=\"dataframe\">\n",
       "  <thead>\n",
       "    <tr style=\"text-align: right;\">\n",
       "      <th></th>\n",
       "      <th>tid</th>\n",
       "      <th>readthrough_novelty</th>\n",
       "      <th>gid</th>\n",
       "      <th>max_tpm</th>\n",
       "      <th>log2_max_tpm</th>\n",
       "    </tr>\n",
       "  </thead>\n",
       "  <tbody>\n",
       "    <tr>\n",
       "      <th>0</th>\n",
       "      <td>ENSG00000011052[1,1,1]</td>\n",
       "      <td>Known</td>\n",
       "      <td>ENSG00000011052</td>\n",
       "      <td>59.771449</td>\n",
       "      <td>5.901385</td>\n",
       "    </tr>\n",
       "    <tr>\n",
       "      <th>1</th>\n",
       "      <td>ENSG00000011052[1,2,1]</td>\n",
       "      <td>Known</td>\n",
       "      <td>ENSG00000011052</td>\n",
       "      <td>2.490477</td>\n",
       "      <td>1.316422</td>\n",
       "    </tr>\n",
       "    <tr>\n",
       "      <th>2</th>\n",
       "      <td>ENSG00000011052[1,3,1]</td>\n",
       "      <td>Known</td>\n",
       "      <td>ENSG00000011052</td>\n",
       "      <td>3.382183</td>\n",
       "      <td>1.757955</td>\n",
       "    </tr>\n",
       "    <tr>\n",
       "      <th>3</th>\n",
       "      <td>ENSG00000064489[1,1,1]</td>\n",
       "      <td>Known</td>\n",
       "      <td>ENSG00000064489</td>\n",
       "      <td>1.596913</td>\n",
       "      <td>0.675286</td>\n",
       "    </tr>\n",
       "    <tr>\n",
       "      <th>4</th>\n",
       "      <td>ENSG00000064489[1,4,1]</td>\n",
       "      <td>Known</td>\n",
       "      <td>ENSG00000064489</td>\n",
       "      <td>2.044187</td>\n",
       "      <td>1.031527</td>\n",
       "    </tr>\n",
       "  </tbody>\n",
       "</table>\n",
       "</div>"
      ],
      "text/plain": [
       "                      tid readthrough_novelty              gid    max_tpm  \\\n",
       "0  ENSG00000011052[1,1,1]               Known  ENSG00000011052  59.771449   \n",
       "1  ENSG00000011052[1,2,1]               Known  ENSG00000011052   2.490477   \n",
       "2  ENSG00000011052[1,3,1]               Known  ENSG00000011052   3.382183   \n",
       "3  ENSG00000064489[1,1,1]               Known  ENSG00000064489   1.596913   \n",
       "4  ENSG00000064489[1,4,1]               Known  ENSG00000064489   2.044187   \n",
       "\n",
       "   log2_max_tpm  \n",
       "0      5.901385  \n",
       "1      1.316422  \n",
       "2      1.757955  \n",
       "3      0.675286  \n",
       "4      1.031527  "
      ]
     },
     "execution_count": 49,
     "metadata": {},
     "output_type": "execute_result"
    }
   ],
   "source": [
    "df = pd.read_csv('human_known_novel_readthrough.tsv', sep='\\t')\n",
    "df.head()"
   ]
  },
  {
   "cell_type": "code",
   "execution_count": 50,
   "id": "4e2e1fe5-bc91-46cd-8d21-466e4dcd1eab",
   "metadata": {},
   "outputs": [],
   "source": [
    "tids = df.tid.tolist()"
   ]
  },
  {
   "cell_type": "code",
   "execution_count": 51,
   "id": "44b29158-f368-408c-beac-370d733a753b",
   "metadata": {},
   "outputs": [],
   "source": [
    "ca = cerberus.read(cerberus_h5)"
   ]
  },
  {
   "cell_type": "code",
   "execution_count": 52,
   "id": "09861b3d-f02d-4754-9243-ac47761406fd",
   "metadata": {},
   "outputs": [],
   "source": [
    "df = ca.get_subset_triplets(tids, source='obs_readthrough')\n"
   ]
  },
  {
   "cell_type": "code",
   "execution_count": null,
   "id": "750d168f-fc61-4c08-a8cf-a136fc3497e7",
   "metadata": {},
   "outputs": [],
   "source": []
  },
  {
   "cell_type": "code",
   "execution_count": null,
   "id": "40e9f40f-8a1d-4ade-ad0a-dd600740d5fe",
   "metadata": {},
   "outputs": [],
   "source": []
  },
  {
   "cell_type": "code",
   "execution_count": null,
   "id": "3ec5e710-9d6b-4bf6-b045-25e58d68f623",
   "metadata": {},
   "outputs": [],
   "source": []
  }
 ],
 "metadata": {
  "kernelspec": {
   "display_name": "Python 3",
   "language": "python",
   "name": "python3"
  },
  "language_info": {
   "codemirror_mode": {
    "name": "ipython",
    "version": 3
   },
   "file_extension": ".py",
   "mimetype": "text/x-python",
   "name": "python",
   "nbconvert_exporter": "python",
   "pygments_lexer": "ipython3",
   "version": "3.7.12"
  }
 },
 "nbformat": 4,
 "nbformat_minor": 5
}
