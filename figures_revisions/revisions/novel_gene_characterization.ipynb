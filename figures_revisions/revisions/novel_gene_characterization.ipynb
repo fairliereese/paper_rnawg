{
 "cells": [
  {
   "cell_type": "code",
   "execution_count": 2,
   "id": "9894fbb2-e753-48a8-ac2f-031d46f5fe14",
   "metadata": {},
   "outputs": [],
   "source": [
    "import pandas as pd\n",
    "import numpy as np\n",
    "import scipy.stats as st\n",
    "import seaborn as sns\n",
    "import sys\n",
    "import os\n",
    "import gseapy as gp\n",
    "import matplotlib.pyplot as plt\n",
    "import swan_vis as swan\n",
    "import yaml\n",
    "from snakemake.io import expand\n",
    "import pyranges as pr\n",
    "\n",
    "p = os.path.dirname(os.path.dirname(os.getcwd()))\n",
    "sys.path.append(p)\n",
    "\n",
    "from proc_revisions.utils import *\n",
    "from proc_revisions.plotting import *"
   ]
  },
  {
   "cell_type": "code",
   "execution_count": 3,
   "id": "8061f009-a65d-4eb7-9f10-cc1d08507926",
   "metadata": {},
   "outputs": [],
   "source": [
    "od = '../../proc_revisions/'\n",
    "config_file = f'{od}/config.yml'\n",
    "with open(config_file) as f:\n",
    "    config = yaml.safe_load(f)"
   ]
  },
  {
   "cell_type": "code",
   "execution_count": 5,
   "id": "e6463772-b68e-40d6-a102-e57376376607",
   "metadata": {},
   "outputs": [],
   "source": [
    "species = 'human'\n",
    "filt_ab = od+expand(config['lr']['cerberus']['filt_ab'], species=species)[0]\n",
    "gtf = od+expand(config['lr']['cerberus']['gtf'], species=species)[0]\n",
    "lib_meta = od+expand(config['lr']['meta'], species=species)[0]\n",
    "cerberus_h5 = od+expand(config['lr']['cerberus']['ca_triplets'], species=species, obs_col='sample')[0]\n",
    "swan_file = od+expand(config['lr']['swan']['sg'], species=species)[0]\n",
    "ref_gtf = od+expand(config['ref']['new_gtf'], species=species)[0]\n",
    "\n",
    "gene_subset = 'polya'\n",
    "min_tpm = 1\n",
    "\n",
    "species = 'mouse'\n",
    "m_filt_ab = od+expand(config['lr']['cerberus']['filt_ab'], species=species)[0]\n",
    "m_gtf = od+expand(config['lr']['cerberus']['gtf'], species=species)[0]\n",
    "m_lib_meta = od+expand(config['lr']['meta'], species=species)[0]\n",
    "m_cerberus_h5 = od+expand(config['lr']['cerberus']['ca_triplets'], species=species, obs_col='sample')[0]\n",
    "m_swan_file = od+expand(config['lr']['swan']['sg'], species=species)[0]\n",
    "m_ref_gtf = od+expand(config['ref']['new_gtf'], species=species)[0]\n"
   ]
  },
  {
   "cell_type": "markdown",
   "id": "de07d6bb-10ef-4ab0-b5ac-ed25f71c4365",
   "metadata": {},
   "source": [
    "## What do expression profiles of novel genes look like?"
   ]
  },
  {
   "cell_type": "code",
   "execution_count": 36,
   "id": "c49abdef-3d27-47a2-b348-16b7adaecf3b",
   "metadata": {},
   "outputs": [
    {
     "name": "stdout",
     "output_type": "stream",
     "text": [
      "Calculating iso TPM values\n"
     ]
    },
    {
     "name": "stderr",
     "output_type": "stream",
     "text": [
      "/Users/fairliereese/Documents/programming/mortazavi_lab/data/paper_rnawg/proc_revisions/utils.py:2053: PerformanceWarning: DataFrame is highly fragmented.  This is usually the result of calling `frame.insert` many times, which has poor performance.  Consider joining all columns at once using pd.concat(axis=1) instead.  To get a de-fragmented frame, use `newframe = frame.copy()`\n",
      "  df[tpm_col] = (df[d]*1000000)/df[total_col]\n",
      "/Users/fairliereese/Documents/programming/mortazavi_lab/data/paper_rnawg/proc_revisions/utils.py:2052: PerformanceWarning: DataFrame is highly fragmented.  This is usually the result of calling `frame.insert` many times, which has poor performance.  Consider joining all columns at once using pd.concat(axis=1) instead.  To get a de-fragmented frame, use `newframe = frame.copy()`\n",
      "  df[total_col] = df[d].sum()\n"
     ]
    },
    {
     "name": "stdout",
     "output_type": "stream",
     "text": [
      "Enforcing minimum TPM\n",
      "Total # isos detected: 228876\n",
      "# isos >= 1 tpm: 206731\n",
      "Number of isos reported: 206731\n"
     ]
    }
   ],
   "source": [
    "df = pd.read_csv(filt_ab, sep='\\t')\n",
    "df, tids = get_tpm_table(df, \n",
    "                         how='iso',\n",
    "                         min_tpm=1,\n",
    "                         gene_subset=None)"
   ]
  },
  {
   "cell_type": "code",
   "execution_count": 37,
   "id": "71ac289e-98ae-4065-9695-2e7e51d031e0",
   "metadata": {},
   "outputs": [
    {
     "data": {
      "text/html": [
       "<div>\n",
       "<style scoped>\n",
       "    .dataframe tbody tr th:only-of-type {\n",
       "        vertical-align: middle;\n",
       "    }\n",
       "\n",
       "    .dataframe tbody tr th {\n",
       "        vertical-align: top;\n",
       "    }\n",
       "\n",
       "    .dataframe thead th {\n",
       "        text-align: right;\n",
       "    }\n",
       "</style>\n",
       "<table border=\"1\" class=\"dataframe\">\n",
       "  <thead>\n",
       "    <tr style=\"text-align: right;\">\n",
       "      <th></th>\n",
       "      <th>annot_transcript_id</th>\n",
       "      <th>a673_1_1</th>\n",
       "      <th>a673_1_2</th>\n",
       "      <th>adrenal_gland_1_1</th>\n",
       "      <th>adrenal_gland_2_1</th>\n",
       "      <th>adrenal_gland_3_1</th>\n",
       "      <th>aorta_1_1</th>\n",
       "      <th>aorta_2_1</th>\n",
       "      <th>brodmann_area_46_1_1</th>\n",
       "      <th>brodmann_area_46_2_1</th>\n",
       "      <th>...</th>\n",
       "      <th>right_cardiac_atrium_4_1</th>\n",
       "      <th>right_lobe_of_liver_1_1</th>\n",
       "      <th>right_lobe_of_liver_2_1</th>\n",
       "      <th>right_ventricle_myocardium_inferior_1_1</th>\n",
       "      <th>right_ventricle_myocardium_superior_1_1</th>\n",
       "      <th>upper_lobe_of_right_lung_1_1</th>\n",
       "      <th>wtc11_1_1</th>\n",
       "      <th>wtc11_1_2</th>\n",
       "      <th>wtc11_1_3</th>\n",
       "      <th>gid</th>\n",
       "    </tr>\n",
       "  </thead>\n",
       "  <tbody>\n",
       "    <tr>\n",
       "      <th>0</th>\n",
       "      <td>ENSG00000121410[1,1,2]</td>\n",
       "      <td>0.000000</td>\n",
       "      <td>0.000000</td>\n",
       "      <td>0.000000</td>\n",
       "      <td>0.000000</td>\n",
       "      <td>0.000000</td>\n",
       "      <td>0.0</td>\n",
       "      <td>0.0</td>\n",
       "      <td>0.000000</td>\n",
       "      <td>0.000000</td>\n",
       "      <td>...</td>\n",
       "      <td>0.000000</td>\n",
       "      <td>468.971618</td>\n",
       "      <td>3654.548952</td>\n",
       "      <td>0.000000</td>\n",
       "      <td>0.000000</td>\n",
       "      <td>0.0</td>\n",
       "      <td>0.0</td>\n",
       "      <td>0.000000</td>\n",
       "      <td>0.000000</td>\n",
       "      <td>ENSG00000121410</td>\n",
       "    </tr>\n",
       "    <tr>\n",
       "      <th>1</th>\n",
       "      <td>ENSG00000121410[1,4,2]</td>\n",
       "      <td>0.000000</td>\n",
       "      <td>0.000000</td>\n",
       "      <td>0.000000</td>\n",
       "      <td>0.000000</td>\n",
       "      <td>0.000000</td>\n",
       "      <td>0.0</td>\n",
       "      <td>0.0</td>\n",
       "      <td>0.000000</td>\n",
       "      <td>0.000000</td>\n",
       "      <td>...</td>\n",
       "      <td>0.000000</td>\n",
       "      <td>0.000000</td>\n",
       "      <td>4.691334</td>\n",
       "      <td>0.000000</td>\n",
       "      <td>0.000000</td>\n",
       "      <td>0.0</td>\n",
       "      <td>0.0</td>\n",
       "      <td>0.000000</td>\n",
       "      <td>0.000000</td>\n",
       "      <td>ENSG00000121410</td>\n",
       "    </tr>\n",
       "    <tr>\n",
       "      <th>2</th>\n",
       "      <td>ENSG00000121410[1,5,2]</td>\n",
       "      <td>0.000000</td>\n",
       "      <td>0.000000</td>\n",
       "      <td>0.000000</td>\n",
       "      <td>0.000000</td>\n",
       "      <td>0.000000</td>\n",
       "      <td>0.0</td>\n",
       "      <td>0.0</td>\n",
       "      <td>0.000000</td>\n",
       "      <td>0.000000</td>\n",
       "      <td>...</td>\n",
       "      <td>0.000000</td>\n",
       "      <td>55.285272</td>\n",
       "      <td>236.912352</td>\n",
       "      <td>0.000000</td>\n",
       "      <td>0.000000</td>\n",
       "      <td>0.0</td>\n",
       "      <td>0.0</td>\n",
       "      <td>0.000000</td>\n",
       "      <td>0.000000</td>\n",
       "      <td>ENSG00000121410</td>\n",
       "    </tr>\n",
       "    <tr>\n",
       "      <th>3</th>\n",
       "      <td>ENSG00000121410[2,2,1]</td>\n",
       "      <td>1.069659</td>\n",
       "      <td>1.674039</td>\n",
       "      <td>0.000000</td>\n",
       "      <td>0.000000</td>\n",
       "      <td>0.000000</td>\n",
       "      <td>0.0</td>\n",
       "      <td>0.0</td>\n",
       "      <td>0.000000</td>\n",
       "      <td>1.011343</td>\n",
       "      <td>...</td>\n",
       "      <td>0.000000</td>\n",
       "      <td>0.000000</td>\n",
       "      <td>0.000000</td>\n",
       "      <td>0.000000</td>\n",
       "      <td>0.000000</td>\n",
       "      <td>0.0</td>\n",
       "      <td>0.0</td>\n",
       "      <td>0.963364</td>\n",
       "      <td>0.000000</td>\n",
       "      <td>ENSG00000121410</td>\n",
       "    </tr>\n",
       "    <tr>\n",
       "      <th>4</th>\n",
       "      <td>ENSG00000121410[2,2,2]</td>\n",
       "      <td>6.417957</td>\n",
       "      <td>8.370197</td>\n",
       "      <td>3.224064</td>\n",
       "      <td>7.061615</td>\n",
       "      <td>15.751362</td>\n",
       "      <td>0.0</td>\n",
       "      <td>0.0</td>\n",
       "      <td>21.330239</td>\n",
       "      <td>23.260894</td>\n",
       "      <td>...</td>\n",
       "      <td>4.847803</td>\n",
       "      <td>5.719166</td>\n",
       "      <td>0.000000</td>\n",
       "      <td>3.977511</td>\n",
       "      <td>0.811207</td>\n",
       "      <td>0.0</td>\n",
       "      <td>0.0</td>\n",
       "      <td>5.780185</td>\n",
       "      <td>1.830846</td>\n",
       "      <td>ENSG00000121410</td>\n",
       "    </tr>\n",
       "  </tbody>\n",
       "</table>\n",
       "<p>5 rows × 140 columns</p>\n",
       "</div>"
      ],
      "text/plain": [
       "      annot_transcript_id  a673_1_1  a673_1_2  adrenal_gland_1_1  \\\n",
       "0  ENSG00000121410[1,1,2]  0.000000  0.000000           0.000000   \n",
       "1  ENSG00000121410[1,4,2]  0.000000  0.000000           0.000000   \n",
       "2  ENSG00000121410[1,5,2]  0.000000  0.000000           0.000000   \n",
       "3  ENSG00000121410[2,2,1]  1.069659  1.674039           0.000000   \n",
       "4  ENSG00000121410[2,2,2]  6.417957  8.370197           3.224064   \n",
       "\n",
       "   adrenal_gland_2_1  adrenal_gland_3_1  aorta_1_1  aorta_2_1  \\\n",
       "0           0.000000           0.000000        0.0        0.0   \n",
       "1           0.000000           0.000000        0.0        0.0   \n",
       "2           0.000000           0.000000        0.0        0.0   \n",
       "3           0.000000           0.000000        0.0        0.0   \n",
       "4           7.061615          15.751362        0.0        0.0   \n",
       "\n",
       "   brodmann_area_46_1_1  brodmann_area_46_2_1  ...  right_cardiac_atrium_4_1  \\\n",
       "0              0.000000              0.000000  ...                  0.000000   \n",
       "1              0.000000              0.000000  ...                  0.000000   \n",
       "2              0.000000              0.000000  ...                  0.000000   \n",
       "3              0.000000              1.011343  ...                  0.000000   \n",
       "4             21.330239             23.260894  ...                  4.847803   \n",
       "\n",
       "   right_lobe_of_liver_1_1  right_lobe_of_liver_2_1  \\\n",
       "0               468.971618              3654.548952   \n",
       "1                 0.000000                 4.691334   \n",
       "2                55.285272               236.912352   \n",
       "3                 0.000000                 0.000000   \n",
       "4                 5.719166                 0.000000   \n",
       "\n",
       "   right_ventricle_myocardium_inferior_1_1  \\\n",
       "0                                 0.000000   \n",
       "1                                 0.000000   \n",
       "2                                 0.000000   \n",
       "3                                 0.000000   \n",
       "4                                 3.977511   \n",
       "\n",
       "   right_ventricle_myocardium_superior_1_1  upper_lobe_of_right_lung_1_1  \\\n",
       "0                                 0.000000                           0.0   \n",
       "1                                 0.000000                           0.0   \n",
       "2                                 0.000000                           0.0   \n",
       "3                                 0.000000                           0.0   \n",
       "4                                 0.811207                           0.0   \n",
       "\n",
       "   wtc11_1_1  wtc11_1_2  wtc11_1_3              gid  \n",
       "0        0.0   0.000000   0.000000  ENSG00000121410  \n",
       "1        0.0   0.000000   0.000000  ENSG00000121410  \n",
       "2        0.0   0.000000   0.000000  ENSG00000121410  \n",
       "3        0.0   0.963364   0.000000  ENSG00000121410  \n",
       "4        0.0   5.780185   1.830846  ENSG00000121410  \n",
       "\n",
       "[5 rows x 140 columns]"
      ]
     },
     "execution_count": 37,
     "metadata": {},
     "output_type": "execute_result"
    }
   ],
   "source": [
    "df.reset_index(inplace=True)\n",
    "df['gid'] = df.annot_transcript_id.str.split('[', expand=True)[0]\n",
    "df.head()"
   ]
  },
  {
   "cell_type": "code",
   "execution_count": 38,
   "id": "59647390-3906-4833-afec-d504468a7987",
   "metadata": {},
   "outputs": [],
   "source": [
    "ab_df = pd.read_csv(filt_ab, sep='\\t')\n",
    "ab_df['gid'] = ab_df.annot_transcript_id.str.split('[', expand=True)[0]\n",
    "ab_df = ab_df[['gid', 'gene_novelty']].drop_duplicates()"
   ]
  },
  {
   "cell_type": "code",
   "execution_count": 39,
   "id": "5740a16c-36bc-4d5d-a380-ec62d3f6a679",
   "metadata": {},
   "outputs": [
    {
     "data": {
      "text/plain": [
       "80"
      ]
     },
     "execution_count": 39,
     "metadata": {},
     "output_type": "execute_result"
    }
   ],
   "source": [
    "len(ab_df.loc[ab_df.gene_novelty.str.contains('Fusion')].index)"
   ]
  },
  {
   "cell_type": "code",
   "execution_count": 40,
   "id": "f93a9095-d13b-490b-afe5-c90933ed6481",
   "metadata": {},
   "outputs": [],
   "source": [
    "ab_df.loc[ab_df.gid.duplicated(keep=False)].sort_values(by='gid')\n",
    "assert len(ab_df.loc[ab_df.gid.duplicated(keep=False)].index) == 0"
   ]
  },
  {
   "cell_type": "code",
   "execution_count": 41,
   "id": "41c4c45b-0cd6-4763-80e1-6cb92ac57e39",
   "metadata": {},
   "outputs": [],
   "source": [
    "df = df.merge(ab_df, how='left', on='gid')"
   ]
  },
  {
   "cell_type": "code",
   "execution_count": 42,
   "id": "a2426bc9-1315-42ee-a3f4-2d41e530c5e4",
   "metadata": {},
   "outputs": [
    {
     "data": {
      "text/plain": [
       "206731"
      ]
     },
     "execution_count": 42,
     "metadata": {},
     "output_type": "execute_result"
    }
   ],
   "source": [
    "len(df.index)"
   ]
  },
  {
   "cell_type": "code",
   "execution_count": 43,
   "id": "7559301a-b371-4f78-927f-37c9c662afc3",
   "metadata": {},
   "outputs": [],
   "source": [
    "datasets = get_datasets('human')\n",
    "df['max_tpm'] = df[datasets].max(axis=1)"
   ]
  },
  {
   "cell_type": "code",
   "execution_count": 44,
   "id": "ec872817-42bf-4dcc-bbee-414b8da4518f",
   "metadata": {},
   "outputs": [],
   "source": [
    "df.drop(datasets, axis=1, inplace=True)"
   ]
  },
  {
   "cell_type": "code",
   "execution_count": 45,
   "id": "b1b4c048-9015-42a8-9d2a-8f6af62aed48",
   "metadata": {},
   "outputs": [
    {
     "data": {
      "text/html": [
       "<div>\n",
       "<style scoped>\n",
       "    .dataframe tbody tr th:only-of-type {\n",
       "        vertical-align: middle;\n",
       "    }\n",
       "\n",
       "    .dataframe tbody tr th {\n",
       "        vertical-align: top;\n",
       "    }\n",
       "\n",
       "    .dataframe thead th {\n",
       "        text-align: right;\n",
       "    }\n",
       "</style>\n",
       "<table border=\"1\" class=\"dataframe\">\n",
       "  <thead>\n",
       "    <tr style=\"text-align: right;\">\n",
       "      <th></th>\n",
       "      <th>annot_transcript_id</th>\n",
       "      <th>gid</th>\n",
       "      <th>gene_novelty</th>\n",
       "      <th>max_tpm</th>\n",
       "    </tr>\n",
       "  </thead>\n",
       "  <tbody>\n",
       "    <tr>\n",
       "      <th>0</th>\n",
       "      <td>ENSG00000121410[1,1,2]</td>\n",
       "      <td>ENSG00000121410</td>\n",
       "      <td>Known</td>\n",
       "      <td>3654.548952</td>\n",
       "    </tr>\n",
       "    <tr>\n",
       "      <th>1</th>\n",
       "      <td>ENSG00000121410[1,4,2]</td>\n",
       "      <td>ENSG00000121410</td>\n",
       "      <td>Known</td>\n",
       "      <td>4.691334</td>\n",
       "    </tr>\n",
       "    <tr>\n",
       "      <th>2</th>\n",
       "      <td>ENSG00000121410[1,5,2]</td>\n",
       "      <td>ENSG00000121410</td>\n",
       "      <td>Known</td>\n",
       "      <td>236.912352</td>\n",
       "    </tr>\n",
       "    <tr>\n",
       "      <th>3</th>\n",
       "      <td>ENSG00000121410[2,2,1]</td>\n",
       "      <td>ENSG00000121410</td>\n",
       "      <td>Known</td>\n",
       "      <td>3.601579</td>\n",
       "    </tr>\n",
       "    <tr>\n",
       "      <th>4</th>\n",
       "      <td>ENSG00000121410[2,2,2]</td>\n",
       "      <td>ENSG00000121410</td>\n",
       "      <td>Known</td>\n",
       "      <td>65.771607</td>\n",
       "    </tr>\n",
       "  </tbody>\n",
       "</table>\n",
       "</div>"
      ],
      "text/plain": [
       "      annot_transcript_id              gid gene_novelty      max_tpm\n",
       "0  ENSG00000121410[1,1,2]  ENSG00000121410        Known  3654.548952\n",
       "1  ENSG00000121410[1,4,2]  ENSG00000121410        Known     4.691334\n",
       "2  ENSG00000121410[1,5,2]  ENSG00000121410        Known   236.912352\n",
       "3  ENSG00000121410[2,2,1]  ENSG00000121410        Known     3.601579\n",
       "4  ENSG00000121410[2,2,2]  ENSG00000121410        Known    65.771607"
      ]
     },
     "execution_count": 45,
     "metadata": {},
     "output_type": "execute_result"
    }
   ],
   "source": [
    "df.head()"
   ]
  },
  {
   "cell_type": "code",
   "execution_count": 46,
   "id": "1cf0cde3-9c25-46ae-b2c5-b5215d0d075d",
   "metadata": {},
   "outputs": [],
   "source": [
    "gtf_df, _, _ = get_gtf_info(ver='v40_cerberus', how='gene')"
   ]
  },
  {
   "cell_type": "code",
   "execution_count": 47,
   "id": "50122872-3656-4b00-b514-fd5dfb715e1c",
   "metadata": {},
   "outputs": [
    {
     "data": {
      "text/html": [
       "<div>\n",
       "<style scoped>\n",
       "    .dataframe tbody tr th:only-of-type {\n",
       "        vertical-align: middle;\n",
       "    }\n",
       "\n",
       "    .dataframe tbody tr th {\n",
       "        vertical-align: top;\n",
       "    }\n",
       "\n",
       "    .dataframe thead th {\n",
       "        text-align: right;\n",
       "    }\n",
       "</style>\n",
       "<table border=\"1\" class=\"dataframe\">\n",
       "  <thead>\n",
       "    <tr style=\"text-align: right;\">\n",
       "      <th></th>\n",
       "      <th>gid</th>\n",
       "      <th>gname</th>\n",
       "      <th>length</th>\n",
       "      <th>biotype</th>\n",
       "      <th>biotype_category</th>\n",
       "      <th>tf</th>\n",
       "      <th>MANE_Select</th>\n",
       "      <th>MANE_Plus_Clinical</th>\n",
       "      <th>gid_stable</th>\n",
       "    </tr>\n",
       "  </thead>\n",
       "  <tbody>\n",
       "    <tr>\n",
       "      <th>0</th>\n",
       "      <td>ENSG00000000460.17</td>\n",
       "      <td>C1orf112</td>\n",
       "      <td>192174</td>\n",
       "      <td>protein_coding</td>\n",
       "      <td>protein_coding</td>\n",
       "      <td>False</td>\n",
       "      <td>True</td>\n",
       "      <td>False</td>\n",
       "      <td>ENSG00000000460</td>\n",
       "    </tr>\n",
       "    <tr>\n",
       "      <th>1</th>\n",
       "      <td>ENSG00000000971.17</td>\n",
       "      <td>CFH</td>\n",
       "      <td>100823</td>\n",
       "      <td>protein_coding</td>\n",
       "      <td>protein_coding</td>\n",
       "      <td>False</td>\n",
       "      <td>True</td>\n",
       "      <td>False</td>\n",
       "      <td>ENSG00000000971</td>\n",
       "    </tr>\n",
       "    <tr>\n",
       "      <th>2</th>\n",
       "      <td>ENSG00000001461.17</td>\n",
       "      <td>NIPAL3</td>\n",
       "      <td>57275</td>\n",
       "      <td>protein_coding</td>\n",
       "      <td>protein_coding</td>\n",
       "      <td>False</td>\n",
       "      <td>True</td>\n",
       "      <td>False</td>\n",
       "      <td>ENSG00000001461</td>\n",
       "    </tr>\n",
       "    <tr>\n",
       "      <th>3</th>\n",
       "      <td>ENSG00000004487.18</td>\n",
       "      <td>KDM1A</td>\n",
       "      <td>64347</td>\n",
       "      <td>protein_coding</td>\n",
       "      <td>protein_coding</td>\n",
       "      <td>False</td>\n",
       "      <td>True</td>\n",
       "      <td>False</td>\n",
       "      <td>ENSG00000004487</td>\n",
       "    </tr>\n",
       "    <tr>\n",
       "      <th>4</th>\n",
       "      <td>ENSG00000007933.13</td>\n",
       "      <td>FMO3</td>\n",
       "      <td>27019</td>\n",
       "      <td>protein_coding</td>\n",
       "      <td>protein_coding</td>\n",
       "      <td>False</td>\n",
       "      <td>True</td>\n",
       "      <td>False</td>\n",
       "      <td>ENSG00000007933</td>\n",
       "    </tr>\n",
       "  </tbody>\n",
       "</table>\n",
       "</div>"
      ],
      "text/plain": [
       "                  gid     gname  length         biotype biotype_category  \\\n",
       "0  ENSG00000000460.17  C1orf112  192174  protein_coding   protein_coding   \n",
       "1  ENSG00000000971.17       CFH  100823  protein_coding   protein_coding   \n",
       "2  ENSG00000001461.17    NIPAL3   57275  protein_coding   protein_coding   \n",
       "3  ENSG00000004487.18     KDM1A   64347  protein_coding   protein_coding   \n",
       "4  ENSG00000007933.13      FMO3   27019  protein_coding   protein_coding   \n",
       "\n",
       "      tf  MANE_Select  MANE_Plus_Clinical       gid_stable  \n",
       "0  False         True               False  ENSG00000000460  \n",
       "1  False         True               False  ENSG00000000971  \n",
       "2  False         True               False  ENSG00000001461  \n",
       "3  False         True               False  ENSG00000004487  \n",
       "4  False         True               False  ENSG00000007933  "
      ]
     },
     "execution_count": 47,
     "metadata": {},
     "output_type": "execute_result"
    }
   ],
   "source": [
    "gtf_df['gid_stable'] = cerberus.get_stable_gid(gtf_df, col='gid')\n",
    "gtf_df.head()"
   ]
  },
  {
   "cell_type": "code",
   "execution_count": 48,
   "id": "3a1d24ae-b5c7-4bb6-8b96-239d88eadb01",
   "metadata": {},
   "outputs": [
    {
     "data": {
      "text/html": [
       "<div>\n",
       "<style scoped>\n",
       "    .dataframe tbody tr th:only-of-type {\n",
       "        vertical-align: middle;\n",
       "    }\n",
       "\n",
       "    .dataframe tbody tr th {\n",
       "        vertical-align: top;\n",
       "    }\n",
       "\n",
       "    .dataframe thead th {\n",
       "        text-align: right;\n",
       "    }\n",
       "</style>\n",
       "<table border=\"1\" class=\"dataframe\">\n",
       "  <thead>\n",
       "    <tr style=\"text-align: right;\">\n",
       "      <th></th>\n",
       "      <th>annot_transcript_id</th>\n",
       "      <th>gid</th>\n",
       "      <th>gene_novelty</th>\n",
       "      <th>max_tpm</th>\n",
       "      <th>gid_stable</th>\n",
       "      <th>biotype_category</th>\n",
       "    </tr>\n",
       "  </thead>\n",
       "  <tbody>\n",
       "    <tr>\n",
       "      <th>0</th>\n",
       "      <td>ENSG00000121410[1,1,2]</td>\n",
       "      <td>ENSG00000121410</td>\n",
       "      <td>Known</td>\n",
       "      <td>3654.548952</td>\n",
       "      <td>ENSG00000121410</td>\n",
       "      <td>protein_coding</td>\n",
       "    </tr>\n",
       "    <tr>\n",
       "      <th>1</th>\n",
       "      <td>ENSG00000121410[1,4,2]</td>\n",
       "      <td>ENSG00000121410</td>\n",
       "      <td>Known</td>\n",
       "      <td>4.691334</td>\n",
       "      <td>ENSG00000121410</td>\n",
       "      <td>protein_coding</td>\n",
       "    </tr>\n",
       "    <tr>\n",
       "      <th>2</th>\n",
       "      <td>ENSG00000121410[1,5,2]</td>\n",
       "      <td>ENSG00000121410</td>\n",
       "      <td>Known</td>\n",
       "      <td>236.912352</td>\n",
       "      <td>ENSG00000121410</td>\n",
       "      <td>protein_coding</td>\n",
       "    </tr>\n",
       "    <tr>\n",
       "      <th>3</th>\n",
       "      <td>ENSG00000121410[2,2,1]</td>\n",
       "      <td>ENSG00000121410</td>\n",
       "      <td>Known</td>\n",
       "      <td>3.601579</td>\n",
       "      <td>ENSG00000121410</td>\n",
       "      <td>protein_coding</td>\n",
       "    </tr>\n",
       "    <tr>\n",
       "      <th>4</th>\n",
       "      <td>ENSG00000121410[2,2,2]</td>\n",
       "      <td>ENSG00000121410</td>\n",
       "      <td>Known</td>\n",
       "      <td>65.771607</td>\n",
       "      <td>ENSG00000121410</td>\n",
       "      <td>protein_coding</td>\n",
       "    </tr>\n",
       "  </tbody>\n",
       "</table>\n",
       "</div>"
      ],
      "text/plain": [
       "      annot_transcript_id              gid gene_novelty      max_tpm  \\\n",
       "0  ENSG00000121410[1,1,2]  ENSG00000121410        Known  3654.548952   \n",
       "1  ENSG00000121410[1,4,2]  ENSG00000121410        Known     4.691334   \n",
       "2  ENSG00000121410[1,5,2]  ENSG00000121410        Known   236.912352   \n",
       "3  ENSG00000121410[2,2,1]  ENSG00000121410        Known     3.601579   \n",
       "4  ENSG00000121410[2,2,2]  ENSG00000121410        Known    65.771607   \n",
       "\n",
       "        gid_stable biotype_category  \n",
       "0  ENSG00000121410   protein_coding  \n",
       "1  ENSG00000121410   protein_coding  \n",
       "2  ENSG00000121410   protein_coding  \n",
       "3  ENSG00000121410   protein_coding  \n",
       "4  ENSG00000121410   protein_coding  "
      ]
     },
     "execution_count": 48,
     "metadata": {},
     "output_type": "execute_result"
    }
   ],
   "source": [
    "gtf_df = gtf_df[['gid_stable', 'biotype_category']]\n",
    "df = df.merge(gtf_df, how='left', left_on='gid', right_on='gid_stable')\n",
    "df.head()\n"
   ]
  },
  {
   "cell_type": "code",
   "execution_count": 54,
   "id": "4888d402-5243-4926-9b80-96f5dbf3b6f6",
   "metadata": {},
   "outputs": [
    {
     "data": {
      "text/plain": [
       "array(['protein_coding', 'lncRNA', 'pseudogene', 'Intergenic', 'Fusion'],\n",
       "      dtype=object)"
      ]
     },
     "execution_count": 54,
     "metadata": {},
     "output_type": "execute_result"
    }
   ],
   "source": [
    "polya_cats = ['protein_coding', 'lncRNA', 'pseudogene']\n",
    "df = df.loc[(df.biotype_category.isin(polya_cats))|(df.gene_novelty!='Known')]\n",
    "df.gene_status.unique()"
   ]
  },
  {
   "cell_type": "code",
   "execution_count": 55,
   "id": "11807d38-96fa-4459-af26-a43964d20b14",
   "metadata": {},
   "outputs": [],
   "source": [
    "df['gene_status'] = df['gene_novelty']\n",
    "df.loc[df.gene_novelty=='Known', 'gene_status'] = df.loc[df.gene_novelty=='Known', 'biotype_category']"
   ]
  },
  {
   "cell_type": "code",
   "execution_count": 71,
   "id": "ca332caa-6cbe-41bb-b875-48bcadae070f",
   "metadata": {},
   "outputs": [],
   "source": [
    "df['log2_max_tpm'] = np.log2(df.max_tpm)"
   ]
  },
  {
   "cell_type": "code",
   "execution_count": 76,
   "id": "95793672-eeb8-441d-b2d9-0c308e1c1d1c",
   "metadata": {},
   "outputs": [
    {
     "data": {
      "text/plain": [
       "<seaborn.axisgrid.FacetGrid at 0x7fc3125179d0>"
      ]
     },
     "execution_count": 76,
     "metadata": {},
     "output_type": "execute_result"
    },
    {
     "data": {
      "image/png": "[encoded data removed]",
      "text/plain": [
       "<Figure size 360x360 with 1 Axes>"
      ]
     },
     "metadata": {
      "needs_background": "light"
     },
     "output_type": "display_data"
    }
   ],
   "source": [
    "mpl.rcParams['font.family'] = 'Arial'\n",
    "mpl.rcParams['pdf.fonttype'] = 42\n",
    "sns.set_context('paper', font_scale=1.8)\n",
    "\n",
    "order = ['protein_coding', 'lncRNA', 'pseudogene', 'Intergenic', 'Fusion']\n",
    "labels = ['Protein\\ncoding', 'lncRNA', 'Pseudogene', 'Intergenic', 'Fusion']\n",
    "\n",
    "ax = sns.catplot(df, hue='gene_status', x='gene_status', y='log2_max_tpm',\n",
    "                 order=order, alpha=0.2)\n",
    "# ax.set(yscale='log', ylabel='Max. gene TPM across datasets', xlabel='')\n",
    "ax.set(ylabel='Max. log2(gene TPM) across datasets', xlabel='')\n",
    "# ax.legend.remove()\n",
    "# ax.get_legend().set_visible(False)\n",
    "# ax.spines['right'].set_visible(False)\n",
    "# ax.spines['top'].set_visible(False)\n",
    "ax.tick_params(axis=\"x\", rotation=45)\n",
    "ax.set_xticklabels(labels)"
   ]
  },
  {
   "cell_type": "markdown",
   "id": "8696b157-6b06-438e-86c7-7add84a772e2",
   "metadata": {},
   "source": [
    "## How many novel readthrough loci do we detect?"
   ]
  },
  {
   "cell_type": "code",
   "execution_count": 77,
   "id": "7c782e94-216f-40ab-9171-998b708518eb",
   "metadata": {},
   "outputs": [
    {
     "name": "stdout",
     "output_type": "stream",
     "text": [
      "Calculating iso TPM values\n"
     ]
    },
    {
     "name": "stderr",
     "output_type": "stream",
     "text": [
      "/Users/fairliereese/Documents/programming/mortazavi_lab/data/paper_rnawg/proc_revisions/utils.py:2053: PerformanceWarning: DataFrame is highly fragmented.  This is usually the result of calling `frame.insert` many times, which has poor performance.  Consider joining all columns at once using pd.concat(axis=1) instead.  To get a de-fragmented frame, use `newframe = frame.copy()`\n",
      "  df[tpm_col] = (df[d]*1000000)/df[total_col]\n",
      "/Users/fairliereese/Documents/programming/mortazavi_lab/data/paper_rnawg/proc_revisions/utils.py:2052: PerformanceWarning: DataFrame is highly fragmented.  This is usually the result of calling `frame.insert` many times, which has poor performance.  Consider joining all columns at once using pd.concat(axis=1) instead.  To get a de-fragmented frame, use `newframe = frame.copy()`\n",
      "  df[total_col] = df[d].sum()\n"
     ]
    },
    {
     "name": "stdout",
     "output_type": "stream",
     "text": [
      "Enforcing minimum TPM\n",
      "Total # isos detected: 228876\n",
      "# isos >= 1 tpm: 206731\n",
      "Number of isos reported: 206731\n"
     ]
    }
   ],
   "source": [
    "df = pd.read_csv(filt_ab, sep='\\t')\n",
    "df, tids = get_tpm_table(df, \n",
    "                         how='iso',\n",
    "                         min_tpm=1,\n",
    "                         gene_subset=None)\n",
    "df.reset_index(inplace=True)\n",
    "df['gid'] = df.annot_transcript_id.str.split('[', expand=True)[0]\n",
    "ab_df = pd.read_csv(filt_ab, sep='\\t')\n",
    "ab_df['gid'] = ab_df.annot_transcript_id.str.split('[', expand=True)[0]\n",
    "ab_df = ab_df[['gid', 'gene_novelty']].drop_duplicates()\n",
    "df = df.merge(ab_df, how='left', on='gid')"
   ]
  },
  {
   "cell_type": "code",
   "execution_count": 80,
   "id": "6d48a4b4-686a-4d16-9917-23eeda1ff1a6",
   "metadata": {},
   "outputs": [
    {
     "name": "stdout",
     "output_type": "stream",
     "text": [
      "Found 79 fusion loci in human\n"
     ]
    }
   ],
   "source": [
    "n = len(df.loc[df.gene_novelty=='Fusion'].gid.unique())\n",
    "print(f'Found {n} fusion loci in human')"
   ]
  },
  {
   "cell_type": "code",
   "execution_count": null,
   "id": "97b74626-6399-4041-91de-3fb966c78fac",
   "metadata": {},
   "outputs": [],
   "source": []
  },
  {
   "cell_type": "markdown",
   "id": "72125f07-dcef-4928-ac8b-a432bb0c7696",
   "metadata": {},
   "source": [
    "## How many GENCODE genes engage in readthrough transcription?"
   ]
  },
  {
   "cell_type": "code",
   "execution_count": 87,
   "id": "6aa92980-0992-41b2-a5f5-38f88ef03093",
   "metadata": {},
   "outputs": [],
   "source": [
    "df = pr.read_gtf(ref_gtf, duplicate_attr=True)"
   ]
  },
  {
   "cell_type": "code",
   "execution_count": 88,
   "id": "4a5749de-9bd7-41c4-a618-ce923d5cabb5",
   "metadata": {},
   "outputs": [],
   "source": [
    "df = df.df\n",
    "df = df.loc[df.Feature=='transcript']"
   ]
  },
  {
   "cell_type": "code",
   "execution_count": 101,
   "id": "4b2267dc-a278-46e4-995f-bb87fb373e51",
   "metadata": {},
   "outputs": [
    {
     "name": "stdout",
     "output_type": "stream",
     "text": [
      "Gencode v40 has 981 genes w/ annotated readthrough transcription\n"
     ]
    }
   ],
   "source": [
    "rt_df = df.loc[(df.tag.notnull())&(df.tag.str.contains('readthrough_transcript'))]\n",
    "rt_df = rt_df[['gene_id', 'transcript_id']].drop_duplicates()\n",
    "rt_df['gid_stable'] = cerberus.get_stable_gid(rt_df, 'gene_id')\n",
    "n = len(rt_df.gene_id.unique().tolist())\n",
    "print(f'Gencode v40 has {n} genes w/ annotated readthrough transcription')"
   ]
  },
  {
   "cell_type": "code",
   "execution_count": 98,
   "id": "7fdac7db-86d3-4789-a5fb-345f0f973694",
   "metadata": {},
   "outputs": [
    {
     "data": {
      "text/html": [
       "<div>\n",
       "<style scoped>\n",
       "    .dataframe tbody tr th:only-of-type {\n",
       "        vertical-align: middle;\n",
       "    }\n",
       "\n",
       "    .dataframe tbody tr th {\n",
       "        vertical-align: top;\n",
       "    }\n",
       "\n",
       "    .dataframe thead th {\n",
       "        text-align: right;\n",
       "    }\n",
       "</style>\n",
       "<table border=\"1\" class=\"dataframe\">\n",
       "  <thead>\n",
       "    <tr style=\"text-align: right;\">\n",
       "      <th></th>\n",
       "      <th>gene_id</th>\n",
       "      <th>gid_stable</th>\n",
       "    </tr>\n",
       "  </thead>\n",
       "  <tbody>\n",
       "    <tr>\n",
       "      <th>10466</th>\n",
       "      <td>ENSG00000251503.8</td>\n",
       "      <td>ENSG00000251503</td>\n",
       "    </tr>\n",
       "    <tr>\n",
       "      <th>11013</th>\n",
       "      <td>ENSG00000120948.19</td>\n",
       "      <td>ENSG00000120948</td>\n",
       "    </tr>\n",
       "    <tr>\n",
       "      <th>17404</th>\n",
       "      <td>ENSG00000285853.1</td>\n",
       "      <td>ENSG00000285853</td>\n",
       "    </tr>\n",
       "    <tr>\n",
       "      <th>18782</th>\n",
       "      <td>ENSG00000270136.6</td>\n",
       "      <td>ENSG00000270136</td>\n",
       "    </tr>\n",
       "    <tr>\n",
       "      <th>19899</th>\n",
       "      <td>ENSG00000285959.1</td>\n",
       "      <td>ENSG00000285959</td>\n",
       "    </tr>\n",
       "  </tbody>\n",
       "</table>\n",
       "</div>"
      ],
      "text/plain": [
       "                  gene_id       gid_stable\n",
       "10466   ENSG00000251503.8  ENSG00000251503\n",
       "11013  ENSG00000120948.19  ENSG00000120948\n",
       "17404   ENSG00000285853.1  ENSG00000285853\n",
       "18782   ENSG00000270136.6  ENSG00000270136\n",
       "19899   ENSG00000285959.1  ENSG00000285959"
      ]
     },
     "execution_count": 98,
     "metadata": {},
     "output_type": "execute_result"
    }
   ],
   "source": [
    "rt_df.head()"
   ]
  },
  {
   "cell_type": "markdown",
   "id": "8ad6eb0c-a606-4204-be0f-9ad41b5bbe84",
   "metadata": {},
   "source": [
    "## How many transcripts w/ annotated readthrough transcription do we detect?"
   ]
  },
  {
   "cell_type": "code",
   "execution_count": null,
   "id": "97c7bf8e-360d-4936-bf44-d358c9f1a738",
   "metadata": {},
   "outputs": [],
   "source": []
  }
 ],
 "metadata": {
  "kernelspec": {
   "display_name": "Python 3",
   "language": "python",
   "name": "python3"
  },
  "language_info": {
   "codemirror_mode": {
    "name": "ipython",
    "version": 3
   },
   "file_extension": ".py",
   "mimetype": "text/x-python",
   "name": "python",
   "nbconvert_exporter": "python",
   "pygments_lexer": "ipython3",
   "version": "3.7.12"
  }
 },
 "nbformat": 4,
 "nbformat_minor": 5
}
