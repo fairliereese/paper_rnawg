{
 "cells": [
  {
   "cell_type": "code",
   "execution_count": 1,
   "id": "9894fbb2-e753-48a8-ac2f-031d46f5fe14",
   "metadata": {},
   "outputs": [],
   "source": [
    "import pandas as pd\n",
    "import numpy as np\n",
    "import scipy.stats as st\n",
    "import seaborn as sns\n",
    "import sys\n",
    "import os\n",
    "import gseapy as gp\n",
    "import matplotlib.pyplot as plt\n",
    "import swan_vis as swan\n",
    "import yaml\n",
    "from snakemake.io import expand\n",
    "import pyranges as pr\n",
    "\n",
    "p = os.path.dirname(os.path.dirname(os.getcwd()))\n",
    "sys.path.append(p)\n",
    "\n",
    "from proc_revisions.utils import *\n",
    "from proc_revisions.plotting import *"
   ]
  },
  {
   "cell_type": "code",
   "execution_count": 2,
   "id": "8061f009-a65d-4eb7-9f10-cc1d08507926",
   "metadata": {},
   "outputs": [],
   "source": [
    "od = '../../proc_revisions/'\n",
    "config_file = f'{od}/config.yml'\n",
    "with open(config_file) as f:\n",
    "    config = yaml.safe_load(f)"
   ]
  },
  {
   "cell_type": "code",
   "execution_count": 7,
   "id": "e6463772-b68e-40d6-a102-e57376376607",
   "metadata": {},
   "outputs": [],
   "source": [
    "species = 'human'\n",
    "ab = od+expand(config['lr']['talon']['fusion_fix']['ab'], species='human')[0]\n",
    "filt_ab = od+expand(config['lr']['cerberus']['filt_ab'], species=species)[0]\n",
    "gtf = od+expand(config['lr']['cerberus']['gtf'], species=species)[0]\n",
    "lib_meta = od+expand(config['lr']['meta'], species=species)[0]\n",
    "cerberus_h5 = od+expand(config['lr']['cerberus']['ca_triplets'], species=species, obs_col='sample')[0]\n",
    "swan_file = od+expand(config['lr']['swan']['sg'], species=species)[0]\n",
    "ref_gtf = od+expand(config['ref']['new_gtf'], species=species)[0]\n",
    "pp_summary = od+expand(config['lr']['protein_pred']['summary'], species='human')[0]\n",
    "\n",
    "gene_subset = 'polya'\n",
    "min_tpm = 1\n",
    "\n",
    "species = 'mouse'\n",
    "m_filt_ab = od+expand(config['lr']['cerberus']['filt_ab'], species=species)[0]\n",
    "m_gtf = od+expand(config['lr']['cerberus']['gtf'], species=species)[0]\n",
    "m_lib_meta = od+expand(config['lr']['meta'], species=species)[0]\n",
    "m_cerberus_h5 = od+expand(config['lr']['cerberus']['ca_triplets'], species=species, obs_col='sample')[0]\n",
    "m_swan_file = od+expand(config['lr']['swan']['sg'], species=species)[0]\n",
    "m_ref_gtf = od+expand(config['ref']['new_gtf'], species=species)[0]\n"
   ]
  },
  {
   "cell_type": "markdown",
   "id": "21c5c972-ff0e-4f54-898a-2dbcd5f5da49",
   "metadata": {},
   "source": [
    "## How many novel genes do we find?"
   ]
  },
  {
   "cell_type": "code",
   "execution_count": 142,
   "id": "a28a5c24-fc3d-4d0e-8f2e-49b061445387",
   "metadata": {},
   "outputs": [
    {
     "name": "stdout",
     "output_type": "stream",
     "text": [
      "Calculating iso TPM values\n"
     ]
    },
    {
     "name": "stderr",
     "output_type": "stream",
     "text": [
      "/Users/fairliereese/Documents/programming/mortazavi_lab/data/paper_rnawg/proc_revisions/utils.py:2088: PerformanceWarning: DataFrame is highly fragmented.  This is usually the result of calling `frame.insert` many times, which has poor performance.  Consider joining all columns at once using pd.concat(axis=1) instead.  To get a de-fragmented frame, use `newframe = frame.copy()`\n",
      "  df[tpm_col] = (df[d]*1000000)/df[total_col]\n",
      "/Users/fairliereese/Documents/programming/mortazavi_lab/data/paper_rnawg/proc_revisions/utils.py:2087: PerformanceWarning: DataFrame is highly fragmented.  This is usually the result of calling `frame.insert` many times, which has poor performance.  Consider joining all columns at once using pd.concat(axis=1) instead.  To get a de-fragmented frame, use `newframe = frame.copy()`\n",
      "  df[total_col] = df[d].sum()\n"
     ]
    },
    {
     "name": "stdout",
     "output_type": "stream",
     "text": [
      "Enforcing minimum TPM\n",
      "Total # isos detected: 236615\n",
      "# isos >= 1 tpm: 213476\n",
      "Number of isos reported: 213476\n"
     ]
    }
   ],
   "source": [
    "# get expressed novel genes\n",
    "df = pd.read_csv(filt_ab, sep='\\t')\n",
    "df, _ = get_tpm_table(df, \n",
    "                      how='iso',\n",
    "                      min_tpm=1,\n",
    "                      gene_subset=None)"
   ]
  },
  {
   "cell_type": "code",
   "execution_count": 143,
   "id": "2576ff48-b86d-478c-bf2a-99b6927dc3df",
   "metadata": {},
   "outputs": [],
   "source": [
    "df.reset_index(inplace=True)\n",
    "df['gid'] = df.annot_transcript_id.str.split('[', expand=True)[0]\n",
    "df.head()\n",
    "df.reset_index(inplace=True)\n",
    "df.rename({'gid_stable':'gid'}, axis=1, inplace=True)\n",
    "ab_df = pd.read_csv(filt_ab, sep='\\t')\n",
    "ab_df['gid'] = ab_df.annot_transcript_id.str.split('[', expand=True)[0]\n",
    "ab_df = ab_df[['gid', 'gene_novelty']].drop_duplicates()\n",
    "ab_df.loc[ab_df.gid.duplicated(keep=False)].sort_values(by='gid')\n",
    "assert len(ab_df.loc[ab_df.gid.duplicated(keep=False)].index) == 0\n",
    "df = df.merge(ab_df, how='left', on='gid')\n",
    "df.loc[df.gene_novelty=='Fusion', 'gene_novelty'] = 'Readthrough'"
   ]
  },
  {
   "cell_type": "code",
   "execution_count": 144,
   "id": "20b8f269-3b47-4ddf-9c91-5afd0d0d5fbe",
   "metadata": {},
   "outputs": [],
   "source": [
    "def get_gene_nov_colors(cats=None):\n",
    "    c_dict = {'Known': '#009E73',\n",
    "              'Intergenic': '#f49da3',\n",
    "              'Fusion': '#8697bb',\n",
    "              'Readthrough': '#8697bb'}\n",
    "    order = ['Known', 'Fusion', 'Readthrough', 'Intergenic']\n",
    "\n",
    "    c_dict, order = rm_color_cats(c_dict, order, cats)\n",
    "    return c_dict, order"
   ]
  },
  {
   "cell_type": "code",
   "execution_count": 145,
   "id": "b96e712e-5614-4cfd-98bd-54e7bc276a65",
   "metadata": {},
   "outputs": [
    {
     "data": {
      "text/html": [
       "<div>\n",
       "<style scoped>\n",
       "    .dataframe tbody tr th:only-of-type {\n",
       "        vertical-align: middle;\n",
       "    }\n",
       "\n",
       "    .dataframe tbody tr th {\n",
       "        vertical-align: top;\n",
       "    }\n",
       "\n",
       "    .dataframe thead th {\n",
       "        text-align: right;\n",
       "    }\n",
       "</style>\n",
       "<table border=\"1\" class=\"dataframe\">\n",
       "  <thead>\n",
       "    <tr style=\"text-align: right;\">\n",
       "      <th></th>\n",
       "      <th>gene_novelty</th>\n",
       "      <th>n_gid</th>\n",
       "    </tr>\n",
       "  </thead>\n",
       "  <tbody>\n",
       "    <tr>\n",
       "      <th>0</th>\n",
       "      <td>Intergenic</td>\n",
       "      <td>68</td>\n",
       "    </tr>\n",
       "    <tr>\n",
       "      <th>1</th>\n",
       "      <td>Known</td>\n",
       "      <td>29386</td>\n",
       "    </tr>\n",
       "    <tr>\n",
       "      <th>2</th>\n",
       "      <td>Readthrough</td>\n",
       "      <td>79</td>\n",
       "    </tr>\n",
       "  </tbody>\n",
       "</table>\n",
       "</div>"
      ],
      "text/plain": [
       "  gene_novelty  n_gid\n",
       "0   Intergenic     68\n",
       "1        Known  29386\n",
       "2  Readthrough     79"
      ]
     },
     "execution_count": 145,
     "metadata": {},
     "output_type": "execute_result"
    }
   ],
   "source": [
    "temp = df[['gid', 'gene_novelty']].groupby('gene_novelty').nunique().reset_index().rename({'gid':'n_gid'}, axis=1)\n",
    "temp"
   ]
  },
  {
   "cell_type": "code",
   "execution_count": 146,
   "id": "7c883316-9696-46f4-941f-bb529d99cc4f",
   "metadata": {},
   "outputs": [
    {
     "data": {
      "text/plain": [
       "147"
      ]
     },
     "execution_count": 146,
     "metadata": {},
     "output_type": "execute_result"
    }
   ],
   "source": [
    "79+68"
   ]
  },
  {
   "cell_type": "code",
   "execution_count": 148,
   "id": "a87b45cb-68f7-40d6-9ab7-4faf3cdf1ff0",
   "metadata": {},
   "outputs": [
    {
     "data": {
      "image/png": "[encoded data removed]",
      "text/plain": [
       "<Figure size 216x288 with 1 Axes>"
      ]
     },
     "metadata": {
      "needs_background": "light"
     },
     "output_type": "display_data"
    }
   ],
   "source": [
    "# bar plot for novel genes / category\n",
    "c_dict, order = get_gene_nov_colors(cats=temp.gene_novelty.unique().tolist())\n",
    "sns.set_context('paper', font_scale=2)\n",
    "mpl.rcParams['font.family'] = 'Arial'\n",
    "mpl.rcParams['pdf.fonttype'] = 42\n",
    "plt.figure(figsize=(3,4))\n",
    "ax = sns.barplot(data=temp, y='n_gid', x='gene_novelty',\n",
    "                     palette=c_dict, order=order,\n",
    "                     saturation=1)\n",
    "ax.spines['right'].set_visible(False)\n",
    "ax.spines['top'].set_visible(False)\n",
    "ylabel = '# genes with\\n>= 1 transcript'\n",
    "xlabel = ''\n",
    "_ = ax.set(xlabel=xlabel, ylabel=ylabel)\n",
    "ax.tick_params(axis=\"x\", rotation=45)\n",
    "ax.set_yscale('log')\n",
    "\n",
    "fname = 'figures/human_gene_nov_bar.pdf'\n",
    "fname = 'figures/human_gene_nov_bar.png'\n",
    "\n",
    "plt.savefig(fname, dpi=500, bbox_inches='tight')"
   ]
  },
  {
   "cell_type": "markdown",
   "id": "1732f7fa-67e5-43b8-ae8f-6a7b9a640807",
   "metadata": {},
   "source": [
    "## Do transcripts from novel genes have complete ORFs?"
   ]
  },
  {
   "cell_type": "code",
   "execution_count": 130,
   "id": "b21b1449-409a-4abd-b7bf-e66ffb8300df",
   "metadata": {},
   "outputs": [
    {
     "name": "stdout",
     "output_type": "stream",
     "text": [
      "Calculating iso TPM values\n"
     ]
    },
    {
     "name": "stderr",
     "output_type": "stream",
     "text": [
      "/Users/fairliereese/Documents/programming/mortazavi_lab/data/paper_rnawg/proc_revisions/utils.py:2088: PerformanceWarning: DataFrame is highly fragmented.  This is usually the result of calling `frame.insert` many times, which has poor performance.  Consider joining all columns at once using pd.concat(axis=1) instead.  To get a de-fragmented frame, use `newframe = frame.copy()`\n",
      "  df[tpm_col] = (df[d]*1000000)/df[total_col]\n",
      "/Users/fairliereese/Documents/programming/mortazavi_lab/data/paper_rnawg/proc_revisions/utils.py:2087: PerformanceWarning: DataFrame is highly fragmented.  This is usually the result of calling `frame.insert` many times, which has poor performance.  Consider joining all columns at once using pd.concat(axis=1) instead.  To get a de-fragmented frame, use `newframe = frame.copy()`\n",
      "  df[total_col] = df[d].sum()\n"
     ]
    },
    {
     "name": "stdout",
     "output_type": "stream",
     "text": [
      "Enforcing minimum TPM\n",
      "Total # isos detected: 236615\n",
      "# isos >= 1 tpm: 213476\n",
      "Number of isos reported: 213476\n"
     ]
    }
   ],
   "source": [
    "# get expressed novel genes\n",
    "df = pd.read_csv(filt_ab, sep='\\t')\n",
    "df, _ = get_tpm_table(df, \n",
    "                      how='iso',\n",
    "                      min_tpm=1,\n",
    "                      gene_subset=None)"
   ]
  },
  {
   "cell_type": "code",
   "execution_count": 131,
   "id": "c25ecb9a-5bd5-4f92-bf6d-176704018652",
   "metadata": {},
   "outputs": [],
   "source": [
    "df.reset_index(inplace=True)\n",
    "df['gid'] = df.annot_transcript_id.str.split('[', expand=True)[0]\n",
    "df.head()\n",
    "df.reset_index(inplace=True)\n",
    "df.rename({'gid_stable':'gid'}, axis=1, inplace=True)\n",
    "ab_df = pd.read_csv(filt_ab, sep='\\t')\n",
    "ab_df['gid'] = ab_df.annot_transcript_id.str.split('[', expand=True)[0]\n",
    "ab_df = ab_df[['gid', 'gene_novelty']].drop_duplicates()\n",
    "ab_df.loc[ab_df.gid.duplicated(keep=False)].sort_values(by='gid')\n",
    "assert len(ab_df.loc[ab_df.gid.duplicated(keep=False)].index) == 0\n",
    "df = df.merge(ab_df, how='left', on='gid')\n",
    "df.loc[df.gene_novelty=='Fusion', 'gene_novelty'] = 'Readthrough'"
   ]
  },
  {
   "cell_type": "code",
   "execution_count": 132,
   "id": "5e491c0d-2b14-404e-ab14-b9abcded4897",
   "metadata": {},
   "outputs": [
    {
     "name": "stdout",
     "output_type": "stream",
     "text": [
      "297\n",
      "297\n"
     ]
    }
   ],
   "source": [
    "nov_df = df.loc[df.gene_novelty!='Known']\n",
    "nov_df.rename({'annot_transcript_id':'tid'}, axis=1, inplace=True)\n",
    "pp_df = pd.read_csv(pp_summary, sep='\\t')\n",
    "print(len(nov_df))\n",
    "nov_df = nov_df.merge(pp_df, how='left', on='tid')\n",
    "print(len(nov_df))\n",
    "\n",
    "nov_df['full_orf'] = nov_df['full_orf'].fillna(False)"
   ]
  },
  {
   "cell_type": "code",
   "execution_count": 133,
   "id": "07f76b00-c210-4a76-9cfc-ba4b4f890740",
   "metadata": {},
   "outputs": [
    {
     "data": {
      "text/html": [
       "<div>\n",
       "<style scoped>\n",
       "    .dataframe tbody tr th:only-of-type {\n",
       "        vertical-align: middle;\n",
       "    }\n",
       "\n",
       "    .dataframe tbody tr th {\n",
       "        vertical-align: top;\n",
       "    }\n",
       "\n",
       "    .dataframe thead th {\n",
       "        text-align: right;\n",
       "    }\n",
       "</style>\n",
       "<table border=\"1\" class=\"dataframe\">\n",
       "  <thead>\n",
       "    <tr style=\"text-align: right;\">\n",
       "      <th></th>\n",
       "      <th>full_orf</th>\n",
       "      <th>gene_novelty</th>\n",
       "      <th>n_tids</th>\n",
       "    </tr>\n",
       "  </thead>\n",
       "  <tbody>\n",
       "    <tr>\n",
       "      <th>0</th>\n",
       "      <td>False</td>\n",
       "      <td>Intergenic</td>\n",
       "      <td>111</td>\n",
       "    </tr>\n",
       "    <tr>\n",
       "      <th>1</th>\n",
       "      <td>False</td>\n",
       "      <td>Readthrough</td>\n",
       "      <td>64</td>\n",
       "    </tr>\n",
       "    <tr>\n",
       "      <th>2</th>\n",
       "      <td>True</td>\n",
       "      <td>Intergenic</td>\n",
       "      <td>2</td>\n",
       "    </tr>\n",
       "    <tr>\n",
       "      <th>3</th>\n",
       "      <td>True</td>\n",
       "      <td>Readthrough</td>\n",
       "      <td>120</td>\n",
       "    </tr>\n",
       "  </tbody>\n",
       "</table>\n",
       "</div>"
      ],
      "text/plain": [
       "   full_orf gene_novelty  n_tids\n",
       "0     False   Intergenic     111\n",
       "1     False  Readthrough      64\n",
       "2      True   Intergenic       2\n",
       "3      True  Readthrough     120"
      ]
     },
     "execution_count": 133,
     "metadata": {},
     "output_type": "execute_result"
    }
   ],
   "source": [
    "# how many transcripts expressed from novel genes have a complete ORF? \n",
    "temp = nov_df[['tid', 'full_orf', 'gene_novelty']].copy(deep=True)\n",
    "temp = temp.groupby(['full_orf', 'gene_novelty']).nunique().reset_index().rename({'tid':'n_tids'}, axis=1)\n",
    "temp"
   ]
  },
  {
   "cell_type": "code",
   "execution_count": 134,
   "id": "9d311561-6f84-49cb-9a8d-3ac2cf281da6",
   "metadata": {},
   "outputs": [
    {
     "data": {
      "text/html": [
       "<div>\n",
       "<style scoped>\n",
       "    .dataframe tbody tr th:only-of-type {\n",
       "        vertical-align: middle;\n",
       "    }\n",
       "\n",
       "    .dataframe tbody tr th {\n",
       "        vertical-align: top;\n",
       "    }\n",
       "\n",
       "    .dataframe thead th {\n",
       "        text-align: right;\n",
       "    }\n",
       "</style>\n",
       "<table border=\"1\" class=\"dataframe\">\n",
       "  <thead>\n",
       "    <tr style=\"text-align: right;\">\n",
       "      <th></th>\n",
       "      <th>nmd</th>\n",
       "      <th>gene_novelty</th>\n",
       "      <th>n_tids</th>\n",
       "    </tr>\n",
       "  </thead>\n",
       "  <tbody>\n",
       "    <tr>\n",
       "      <th>0</th>\n",
       "      <td>False</td>\n",
       "      <td>Intergenic</td>\n",
       "      <td>2</td>\n",
       "    </tr>\n",
       "    <tr>\n",
       "      <th>1</th>\n",
       "      <td>False</td>\n",
       "      <td>Readthrough</td>\n",
       "      <td>101</td>\n",
       "    </tr>\n",
       "    <tr>\n",
       "      <th>2</th>\n",
       "      <td>True</td>\n",
       "      <td>Readthrough</td>\n",
       "      <td>19</td>\n",
       "    </tr>\n",
       "  </tbody>\n",
       "</table>\n",
       "</div>"
      ],
      "text/plain": [
       "     nmd gene_novelty  n_tids\n",
       "0  False   Intergenic       2\n",
       "1  False  Readthrough     101\n",
       "2   True  Readthrough      19"
      ]
     },
     "execution_count": 134,
     "metadata": {},
     "output_type": "execute_result"
    }
   ],
   "source": [
    "# how many transcripts expressed from novel genes have a complete ORF and no NMD?\n",
    "temp = nov_df[['tid', 'full_orf', 'nmd', 'gene_novelty']].copy(deep=True)\n",
    "temp = temp.loc[temp.full_orf==True]\n",
    "temp.drop('full_orf', axis=1, inplace=True)\n",
    "temp = temp.groupby(['nmd', 'gene_novelty']).nunique().reset_index().rename({'tid':'n_tids'}, axis=1)\n",
    "temp"
   ]
  },
  {
   "cell_type": "code",
   "execution_count": 135,
   "id": "8ccfb8c6-bf34-4654-abc3-63d4326ae290",
   "metadata": {},
   "outputs": [],
   "source": [
    "nov_df['gid'] = nov_df.tid.str.split('[', expand=True)[0]"
   ]
  },
  {
   "cell_type": "code",
   "execution_count": 136,
   "id": "547477a3-60cb-49f9-b9de-5902507fa529",
   "metadata": {},
   "outputs": [
    {
     "data": {
      "text/html": [
       "<div>\n",
       "<style scoped>\n",
       "    .dataframe tbody tr th:only-of-type {\n",
       "        vertical-align: middle;\n",
       "    }\n",
       "\n",
       "    .dataframe tbody tr th {\n",
       "        vertical-align: top;\n",
       "    }\n",
       "\n",
       "    .dataframe thead th {\n",
       "        text-align: right;\n",
       "    }\n",
       "</style>\n",
       "<table border=\"1\" class=\"dataframe\">\n",
       "  <thead>\n",
       "    <tr style=\"text-align: right;\">\n",
       "      <th></th>\n",
       "      <th>full_orf</th>\n",
       "      <th>gene_novelty</th>\n",
       "      <th>n_gids</th>\n",
       "      <th>n_total_gid</th>\n",
       "      <th>perc</th>\n",
       "      <th>status</th>\n",
       "    </tr>\n",
       "  </thead>\n",
       "  <tbody>\n",
       "    <tr>\n",
       "      <th>2</th>\n",
       "      <td>True</td>\n",
       "      <td>Intergenic</td>\n",
       "      <td>2</td>\n",
       "      <td>68</td>\n",
       "      <td>2.941176</td>\n",
       "      <td>full_orf</td>\n",
       "    </tr>\n",
       "    <tr>\n",
       "      <th>3</th>\n",
       "      <td>True</td>\n",
       "      <td>Readthrough</td>\n",
       "      <td>63</td>\n",
       "      <td>79</td>\n",
       "      <td>79.746835</td>\n",
       "      <td>full_orf</td>\n",
       "    </tr>\n",
       "  </tbody>\n",
       "</table>\n",
       "</div>"
      ],
      "text/plain": [
       "   full_orf gene_novelty  n_gids  n_total_gid       perc    status\n",
       "2      True   Intergenic       2           68   2.941176  full_orf\n",
       "3      True  Readthrough      63           79  79.746835  full_orf"
      ]
     },
     "execution_count": 136,
     "metadata": {},
     "output_type": "execute_result"
    }
   ],
   "source": [
    "# how many novel genes have at least one transcript w/ a full ORF?\n",
    "temp = nov_df[['gid', 'full_orf', 'gene_novelty']].copy(deep=True)\n",
    "temp = temp.groupby(['gid', 'full_orf', 'gene_novelty']).max().reset_index()\n",
    "temp = temp.groupby(['full_orf', 'gene_novelty']).nunique().reset_index().rename({'gid':'n_gids'}, axis=1)\n",
    "temp2 = nov_df[['gid', 'gene_novelty']].groupby('gene_novelty').nunique().reset_index().rename({'gid':'n_total_gid'}, axis=1)\n",
    "temp = temp.merge(temp2, how='left', on='gene_novelty')\n",
    "temp['perc'] = (temp.n_gids/temp.n_total_gid)*100\n",
    "\n",
    "temp3 = temp.copy(deep=True)\n",
    "temp3 = temp3.loc[temp3.full_orf==True]\n",
    "temp3['status'] = 'full_orf'\n",
    "temp3\n"
   ]
  },
  {
   "cell_type": "code",
   "execution_count": 137,
   "id": "992e50bf-f206-4900-8d1e-ffbfb8832216",
   "metadata": {},
   "outputs": [
    {
     "data": {
      "text/html": [
       "<div>\n",
       "<style scoped>\n",
       "    .dataframe tbody tr th:only-of-type {\n",
       "        vertical-align: middle;\n",
       "    }\n",
       "\n",
       "    .dataframe tbody tr th {\n",
       "        vertical-align: top;\n",
       "    }\n",
       "\n",
       "    .dataframe thead th {\n",
       "        text-align: right;\n",
       "    }\n",
       "</style>\n",
       "<table border=\"1\" class=\"dataframe\">\n",
       "  <thead>\n",
       "    <tr style=\"text-align: right;\">\n",
       "      <th></th>\n",
       "      <th>nmd</th>\n",
       "      <th>gene_novelty</th>\n",
       "      <th>n_gids</th>\n",
       "      <th>n_total_gid</th>\n",
       "      <th>perc</th>\n",
       "      <th>status</th>\n",
       "    </tr>\n",
       "  </thead>\n",
       "  <tbody>\n",
       "    <tr>\n",
       "      <th>0</th>\n",
       "      <td>False</td>\n",
       "      <td>Intergenic</td>\n",
       "      <td>2</td>\n",
       "      <td>68</td>\n",
       "      <td>2.941176</td>\n",
       "      <td>full_orf_no_nmd</td>\n",
       "    </tr>\n",
       "    <tr>\n",
       "      <th>1</th>\n",
       "      <td>False</td>\n",
       "      <td>Readthrough</td>\n",
       "      <td>52</td>\n",
       "      <td>79</td>\n",
       "      <td>65.822785</td>\n",
       "      <td>full_orf_no_nmd</td>\n",
       "    </tr>\n",
       "    <tr>\n",
       "      <th>2</th>\n",
       "      <td>True</td>\n",
       "      <td>Readthrough</td>\n",
       "      <td>12</td>\n",
       "      <td>79</td>\n",
       "      <td>15.189873</td>\n",
       "      <td>full_orf_no_nmd</td>\n",
       "    </tr>\n",
       "  </tbody>\n",
       "</table>\n",
       "</div>"
      ],
      "text/plain": [
       "     nmd gene_novelty  n_gids  n_total_gid       perc           status\n",
       "0  False   Intergenic       2           68   2.941176  full_orf_no_nmd\n",
       "1  False  Readthrough      52           79  65.822785  full_orf_no_nmd\n",
       "2   True  Readthrough      12           79  15.189873  full_orf_no_nmd"
      ]
     },
     "execution_count": 137,
     "metadata": {},
     "output_type": "execute_result"
    }
   ],
   "source": [
    "# how many novel genes have at least one transcript w/ a full ORF and no NMD?\n",
    "temp = nov_df[['gid', 'nmd', 'full_orf', 'gene_novelty']].copy(deep=True)\n",
    "temp = temp.loc[temp.full_orf==True]\n",
    "temp.drop('full_orf', axis=1, inplace=True)\n",
    "temp = temp.groupby(['gid', 'nmd', 'gene_novelty']).max().reset_index()\n",
    "temp = temp.groupby(['nmd', 'gene_novelty']).nunique().reset_index().rename({'gid':'n_gids'}, axis=1)\n",
    "temp2 = nov_df[['gid', 'gene_novelty']].groupby('gene_novelty').nunique().reset_index().rename({'gid':'n_total_gid'}, axis=1)\n",
    "temp = temp.merge(temp2, how='left', on='gene_novelty')\n",
    "temp['perc'] = (temp.n_gids/temp.n_total_gid)*100\n",
    "temp['status'] = 'full_orf_no_nmd'\n",
    "temp"
   ]
  },
  {
   "cell_type": "code",
   "execution_count": 138,
   "id": "8e06bcb4-7b54-49fe-9bbb-b8a07ae56ecd",
   "metadata": {},
   "outputs": [
    {
     "name": "stdout",
     "output_type": "stream",
     "text": [
      "2\n",
      "0\n",
      "0\n"
     ]
    }
   ],
   "source": [
    "print(len(nov_df.loc[(nov_df.full_orf==True)&(nov_df.nmd==False)&(nov_df.gene_novelty=='Intergenic')].gid.unique()))\n",
    "print(len(nov_df.loc[(nov_df.full_orf==True)&(nov_df.nmd==False)&(nov_df.gene_novelty=='Fusion')].gid.unique()))\n",
    "print(len(nov_df.loc[(nov_df.full_orf==True)&(nov_df.nmd==True)&(nov_df.gene_novelty=='Fusion')].gid.unique()))"
   ]
  },
  {
   "cell_type": "code",
   "execution_count": 139,
   "id": "9ceaffa0-9d84-468a-888e-d645c55c3c47",
   "metadata": {},
   "outputs": [
    {
     "data": {
      "text/html": [
       "<div>\n",
       "<style scoped>\n",
       "    .dataframe tbody tr th:only-of-type {\n",
       "        vertical-align: middle;\n",
       "    }\n",
       "\n",
       "    .dataframe tbody tr th {\n",
       "        vertical-align: top;\n",
       "    }\n",
       "\n",
       "    .dataframe thead th {\n",
       "        text-align: right;\n",
       "    }\n",
       "</style>\n",
       "<table border=\"1\" class=\"dataframe\">\n",
       "  <thead>\n",
       "    <tr style=\"text-align: right;\">\n",
       "      <th></th>\n",
       "      <th>nmd</th>\n",
       "      <th>gene_novelty</th>\n",
       "      <th>n_gids</th>\n",
       "      <th>n_total_gid</th>\n",
       "      <th>perc</th>\n",
       "      <th>status</th>\n",
       "      <th>full_orf</th>\n",
       "    </tr>\n",
       "  </thead>\n",
       "  <tbody>\n",
       "    <tr>\n",
       "      <th>0</th>\n",
       "      <td>False</td>\n",
       "      <td>Fusion</td>\n",
       "      <td>52</td>\n",
       "      <td>79</td>\n",
       "      <td>65.822785</td>\n",
       "      <td>full_orf_no_nmd</td>\n",
       "      <td>NaN</td>\n",
       "    </tr>\n",
       "    <tr>\n",
       "      <th>1</th>\n",
       "      <td>False</td>\n",
       "      <td>Intergenic</td>\n",
       "      <td>2</td>\n",
       "      <td>68</td>\n",
       "      <td>2.941176</td>\n",
       "      <td>full_orf_no_nmd</td>\n",
       "      <td>NaN</td>\n",
       "    </tr>\n",
       "    <tr>\n",
       "      <th>2</th>\n",
       "      <td>NaN</td>\n",
       "      <td>Fusion</td>\n",
       "      <td>63</td>\n",
       "      <td>79</td>\n",
       "      <td>79.746835</td>\n",
       "      <td>full_orf</td>\n",
       "      <td>True</td>\n",
       "    </tr>\n",
       "    <tr>\n",
       "      <th>3</th>\n",
       "      <td>NaN</td>\n",
       "      <td>Intergenic</td>\n",
       "      <td>2</td>\n",
       "      <td>68</td>\n",
       "      <td>2.941176</td>\n",
       "      <td>full_orf</td>\n",
       "      <td>True</td>\n",
       "    </tr>\n",
       "  </tbody>\n",
       "</table>\n",
       "</div>"
      ],
      "text/plain": [
       "     nmd gene_novelty  n_gids  n_total_gid       perc           status  \\\n",
       "0  False       Fusion      52           79  65.822785  full_orf_no_nmd   \n",
       "1  False   Intergenic       2           68   2.941176  full_orf_no_nmd   \n",
       "2    NaN       Fusion      63           79  79.746835         full_orf   \n",
       "3    NaN   Intergenic       2           68   2.941176         full_orf   \n",
       "\n",
       "  full_orf  \n",
       "0      NaN  \n",
       "1      NaN  \n",
       "2     True  \n",
       "3     True  "
      ]
     },
     "execution_count": 139,
     "metadata": {},
     "output_type": "execute_result"
    }
   ],
   "source": [
    "temp4"
   ]
  },
  {
   "cell_type": "code",
   "execution_count": 140,
   "id": "4f2e7031-943c-41c6-8d49-1477ff1a196c",
   "metadata": {},
   "outputs": [
    {
     "data": {
      "image/png": "[encoded data removed]",
      "text/plain": [
       "<Figure size 216x288 with 1 Axes>"
      ]
     },
     "metadata": {
      "needs_background": "light"
     },
     "output_type": "display_data"
    }
   ],
   "source": [
    "temp3_5 = temp.loc[temp.nmd==False].copy(deep=True)\n",
    "temp4 = pd.concat([temp3_5, temp3], axis=0)\n",
    "\n",
    "status_order = ['full_orf', 'full_orf_no_nmd']\n",
    "temp4['status'] = temp4['status'].astype(str).astype('category')\n",
    "temp4['status'] = temp4['status'].cat.reorder_categories(status_order, ordered=True)\n",
    "\n",
    "c_dict, order = get_gene_nov_colors(temp4.gene_novelty.unique().tolist())\n",
    "temp4['gene_novelty'] = temp4['gene_novelty'].astype(str).astype('category')\n",
    "temp4['gene_novelty'] = temp4['gene_novelty'].cat.reorder_categories(order, ordered=True)\n",
    "\n",
    "plt.figure(figsize=(3,4))\n",
    "ax = sns.barplot(temp4, y='perc', x='gene_novelty', hue='status')\n",
    "for bar_group, cat in zip(ax.containers, order):\n",
    "        for bar, cat2 in zip(bar_group, order):\n",
    "            c = c_dict[cat2]\n",
    "            c_dict_2, order_2 = get_shade_colors(c, order)\n",
    "            bar.set_facecolor(c_dict_2[cat])\n",
    "\n",
    "ax.spines['right'].set_visible(False)\n",
    "ax.spines['top'].set_visible(False)\n",
    "ylabel = '% of novel genes\\nby ORF status'\n",
    "xlabel = ''\n",
    "_ = ax.set(xlabel=xlabel, ylabel=ylabel)\n",
    "ax.tick_params(axis=\"x\", rotation=45)\n",
    "\n",
    "fname = 'figures/human_gene_nov_orf_bar.pdf'\n",
    "# fname = 'figures/human_gene_nov_bar.png'\n",
    "\n",
    "plt.savefig(fname, dpi=500, bbox_inches='tight')"
   ]
  },
  {
   "cell_type": "markdown",
   "id": "6d79cc94-3b65-4379-a492-7423556b6ba3",
   "metadata": {},
   "source": [
    "## What do expression profiles of novel genes vs. known genes look like?"
   ]
  },
  {
   "cell_type": "code",
   "execution_count": 178,
   "id": "7d75f8f0-b706-4083-a693-1980f26b0a36",
   "metadata": {},
   "outputs": [
    {
     "name": "stdout",
     "output_type": "stream",
     "text": [
      "Calculating iso TPM values\n"
     ]
    },
    {
     "name": "stderr",
     "output_type": "stream",
     "text": [
      "/Users/fairliereese/Documents/programming/mortazavi_lab/data/paper_rnawg/proc_revisions/utils.py:2088: PerformanceWarning: DataFrame is highly fragmented.  This is usually the result of calling `frame.insert` many times, which has poor performance.  Consider joining all columns at once using pd.concat(axis=1) instead.  To get a de-fragmented frame, use `newframe = frame.copy()`\n",
      "  df[tpm_col] = (df[d]*1000000)/df[total_col]\n",
      "/Users/fairliereese/Documents/programming/mortazavi_lab/data/paper_rnawg/proc_revisions/utils.py:2087: PerformanceWarning: DataFrame is highly fragmented.  This is usually the result of calling `frame.insert` many times, which has poor performance.  Consider joining all columns at once using pd.concat(axis=1) instead.  To get a de-fragmented frame, use `newframe = frame.copy()`\n",
      "  df[total_col] = df[d].sum()\n"
     ]
    },
    {
     "name": "stdout",
     "output_type": "stream",
     "text": [
      "Enforcing minimum TPM\n",
      "Total # isos detected: 236615\n",
      "# isos >= 1 tpm: 213476\n",
      "Number of isos reported: 213476\n"
     ]
    }
   ],
   "source": [
    "# get expressed novel genes\n",
    "df = pd.read_csv(filt_ab, sep='\\t')\n",
    "df, _ = get_tpm_table(df, \n",
    "                      how='iso',\n",
    "                      min_tpm=1,\n",
    "                      gene_subset=None)"
   ]
  },
  {
   "cell_type": "code",
   "execution_count": 179,
   "id": "7c0c60f9-dfd4-4b95-afc9-830a93812def",
   "metadata": {},
   "outputs": [
    {
     "data": {
      "text/html": [
       "<div>\n",
       "<style scoped>\n",
       "    .dataframe tbody tr th:only-of-type {\n",
       "        vertical-align: middle;\n",
       "    }\n",
       "\n",
       "    .dataframe tbody tr th {\n",
       "        vertical-align: top;\n",
       "    }\n",
       "\n",
       "    .dataframe thead th {\n",
       "        text-align: right;\n",
       "    }\n",
       "</style>\n",
       "<table border=\"1\" class=\"dataframe\">\n",
       "  <thead>\n",
       "    <tr style=\"text-align: right;\">\n",
       "      <th></th>\n",
       "      <th>gid</th>\n",
       "      <th>gene_novelty</th>\n",
       "      <th>max_tpm</th>\n",
       "      <th>gid_stable</th>\n",
       "      <th>biotype_category</th>\n",
       "    </tr>\n",
       "  </thead>\n",
       "  <tbody>\n",
       "    <tr>\n",
       "      <th>0</th>\n",
       "      <td>ENSG00000000003</td>\n",
       "      <td>Known</td>\n",
       "      <td>1232.992404</td>\n",
       "      <td>ENSG00000000003</td>\n",
       "      <td>protein_coding</td>\n",
       "    </tr>\n",
       "    <tr>\n",
       "      <th>1</th>\n",
       "      <td>ENSG00000000005</td>\n",
       "      <td>Known</td>\n",
       "      <td>4.925437</td>\n",
       "      <td>ENSG00000000005</td>\n",
       "      <td>protein_coding</td>\n",
       "    </tr>\n",
       "    <tr>\n",
       "      <th>2</th>\n",
       "      <td>ENSG00000000419</td>\n",
       "      <td>Known</td>\n",
       "      <td>229.887061</td>\n",
       "      <td>ENSG00000000419</td>\n",
       "      <td>protein_coding</td>\n",
       "    </tr>\n",
       "    <tr>\n",
       "      <th>3</th>\n",
       "      <td>ENSG00000000457</td>\n",
       "      <td>Known</td>\n",
       "      <td>32.773319</td>\n",
       "      <td>ENSG00000000457</td>\n",
       "      <td>protein_coding</td>\n",
       "    </tr>\n",
       "    <tr>\n",
       "      <th>4</th>\n",
       "      <td>ENSG00000000460</td>\n",
       "      <td>Known</td>\n",
       "      <td>105.361669</td>\n",
       "      <td>ENSG00000000460</td>\n",
       "      <td>protein_coding</td>\n",
       "    </tr>\n",
       "  </tbody>\n",
       "</table>\n",
       "</div>"
      ],
      "text/plain": [
       "               gid gene_novelty      max_tpm       gid_stable biotype_category\n",
       "0  ENSG00000000003        Known  1232.992404  ENSG00000000003   protein_coding\n",
       "1  ENSG00000000005        Known     4.925437  ENSG00000000005   protein_coding\n",
       "2  ENSG00000000419        Known   229.887061  ENSG00000000419   protein_coding\n",
       "3  ENSG00000000457        Known    32.773319  ENSG00000000457   protein_coding\n",
       "4  ENSG00000000460        Known   105.361669  ENSG00000000460   protein_coding"
      ]
     },
     "execution_count": 179,
     "metadata": {},
     "output_type": "execute_result"
    }
   ],
   "source": [
    "df.reset_index(inplace=True)\n",
    "df['gid'] = df.annot_transcript_id.str.split('[', expand=True)[0]\n",
    "df.head()\n",
    "df.reset_index(inplace=True)\n",
    "df.rename({'gid_stable':'gid'}, axis=1, inplace=True)\n",
    "ab_df = pd.read_csv(filt_ab, sep='\\t')\n",
    "ab_df['gid'] = ab_df.annot_transcript_id.str.split('[', expand=True)[0]\n",
    "ab_df = ab_df[['gid', 'gene_novelty']].drop_duplicates()\n",
    "ab_df.loc[ab_df.gid.duplicated(keep=False)].sort_values(by='gid')\n",
    "assert len(ab_df.loc[ab_df.gid.duplicated(keep=False)].index) == 0\n",
    "df = df.merge(ab_df, how='left', on='gid')\n",
    "df.loc[df.gene_novelty=='Fusion', 'gene_novelty'] = 'Readthrough'\n",
    "\n",
    "# sum up expression across gids\n",
    "df.drop('annot_transcript_id', axis=1, inplace=True)\n",
    "df = df.groupby(['gid', 'gene_novelty']).sum().reset_index()\n",
    "df.drop('index', axis=1, inplace=True)\n",
    "\n",
    "# get max tpm / gene\n",
    "datasets = get_datasets('human')\n",
    "df['max_tpm'] = df[datasets].max(axis=1)\n",
    "df.drop(datasets, axis=1, inplace=True)\n",
    "\n",
    "# add biotypes\n",
    "gtf_df, _, _ = get_gtf_info(ver='v40_cerberus', how='gene')\n",
    "gtf_df['gid_stable'] = cerberus.get_stable_gid(gtf_df, col='gid')\n",
    "gtf_df = gtf_df[['gid_stable', 'biotype_category']]\n",
    "df = df.merge(gtf_df, how='left', left_on='gid', right_on='gid_stable')\n",
    "df.head()"
   ]
  },
  {
   "cell_type": "code",
   "execution_count": 180,
   "id": "2865709e-e390-4756-9d04-9855e2e94dc1",
   "metadata": {},
   "outputs": [],
   "source": [
    "polya_cats = ['protein_coding', 'lncRNA', 'pseudogene']\n",
    "df = df.loc[(df.biotype_category.isin(polya_cats))|(df.gene_novelty!='Known')]\n",
    "df['gene_status'] = df['gene_novelty']\n",
    "df.loc[df.gene_novelty=='Known', 'gene_status'] = df.loc[df.gene_novelty=='Known', 'biotype_category']\n",
    "df['log2_max_tpm'] = np.log2(df.max_tpm)"
   ]
  },
  {
   "cell_type": "code",
   "execution_count": 181,
   "id": "5c34bb40-d1b0-431c-a7e3-f7b1ed4b48b6",
   "metadata": {},
   "outputs": [
    {
     "data": {
      "text/plain": [
       "array(['protein_coding', 'pseudogene', 'lncRNA', 'Intergenic',\n",
       "       'Readthrough'], dtype=object)"
      ]
     },
     "execution_count": 181,
     "metadata": {},
     "output_type": "execute_result"
    }
   ],
   "source": [
    "df.gene_status.unique()"
   ]
  },
  {
   "cell_type": "code",
   "execution_count": 199,
   "id": "1c8a2b28-b688-4cc1-a9ea-a3465190ef9f",
   "metadata": {},
   "outputs": [
    {
     "data": {
      "image/png": "[encoded data removed]",
      "text/plain": [
       "<Figure size 432x288 with 1 Axes>"
      ]
     },
     "metadata": {
      "needs_background": "light"
     },
     "output_type": "display_data"
    }
   ],
   "source": [
    "# violin\n",
    "mpl.rcParams['font.family'] = 'Arial'\n",
    "mpl.rcParams['pdf.fonttype'] = 42\n",
    "sns.set_context('paper', font_scale=2)\n",
    "\n",
    "ic_colors, _ = get_ic_nov_colors()\n",
    "c = ic_colors['Known']\n",
    "m = {'protein_coding': 'Protein coding',\n",
    "     'lncRNA': 'lncRNA', 'pseudogene': 'Pseudogene', 'Readthrough':'Readthrough',\n",
    "     'Intergenic': 'Intergenic'}\n",
    "df['gene_status_hr'] = df.gene_status.map(m)\n",
    "cats = ['Protein coding', 'lncRNA', 'Pseudogene']\n",
    "c_dict, order = get_shade_colors(c, cats)\n",
    "c_dict_2, order_2 = get_gene_nov_colors()\n",
    "c_dict['Readthrough'] = c_dict_2['Readthrough']\n",
    "c_dict['Intergenic'] = c_dict_2['Intergenic']\n",
    "\n",
    "order = ['Protein coding', 'lncRNA', 'Pseudogene', 'Readthrough', 'Intergenic']\n",
    "labels = ['Protein\\ncoding', 'lncRNA', 'Pseudogene', 'Readthrough', 'Intergenic', ]\n",
    "\n",
    "ax = sns.violinplot(df, x='gene_status_hr', y='log2_max_tpm',\n",
    "                 order=order, palette=c_dict, alpha=1)\n",
    "ax.set(ylabel='Max. log2(gene TPM)\\nacross libraries', xlabel='')\n",
    "# ax.legend.remove()\n",
    "# ax.get_legend().set_visible(False)\n",
    "ax.spines['right'].set_visible(False)\n",
    "ax.spines['top'].set_visible(False)\n",
    "ax.tick_params(axis=\"x\", rotation=45)\n",
    "ax.set_xticklabels(labels)\n",
    "\n",
    "fname = 'figures/max_gene_expression_by_gene_status.pdf'\n",
    "plt.savefig(fname, dpi=500)"
   ]
  },
  {
   "cell_type": "code",
   "execution_count": 200,
   "id": "b6ffdae0-f9b8-40c5-9f11-2626d8a4785c",
   "metadata": {},
   "outputs": [
    {
     "data": {
      "text/html": [
       "<div>\n",
       "<style scoped>\n",
       "    .dataframe tbody tr th:only-of-type {\n",
       "        vertical-align: middle;\n",
       "    }\n",
       "\n",
       "    .dataframe tbody tr th {\n",
       "        vertical-align: top;\n",
       "    }\n",
       "\n",
       "    .dataframe thead th {\n",
       "        text-align: right;\n",
       "    }\n",
       "</style>\n",
       "<table border=\"1\" class=\"dataframe\">\n",
       "  <thead>\n",
       "    <tr style=\"text-align: right;\">\n",
       "      <th></th>\n",
       "      <th>log2_max_tpm</th>\n",
       "    </tr>\n",
       "    <tr>\n",
       "      <th>gene_status</th>\n",
       "      <th></th>\n",
       "    </tr>\n",
       "  </thead>\n",
       "  <tbody>\n",
       "    <tr>\n",
       "      <th>Intergenic</th>\n",
       "      <td>3.842002</td>\n",
       "    </tr>\n",
       "    <tr>\n",
       "      <th>Readthrough</th>\n",
       "      <td>3.136414</td>\n",
       "    </tr>\n",
       "    <tr>\n",
       "      <th>lncRNA</th>\n",
       "      <td>2.092549</td>\n",
       "    </tr>\n",
       "    <tr>\n",
       "      <th>protein_coding</th>\n",
       "      <td>6.755006</td>\n",
       "    </tr>\n",
       "    <tr>\n",
       "      <th>pseudogene</th>\n",
       "      <td>1.180744</td>\n",
       "    </tr>\n",
       "  </tbody>\n",
       "</table>\n",
       "</div>"
      ],
      "text/plain": [
       "                log2_max_tpm\n",
       "gene_status                 \n",
       "Intergenic          3.842002\n",
       "Readthrough         3.136414\n",
       "lncRNA              2.092549\n",
       "protein_coding      6.755006\n",
       "pseudogene          1.180744"
      ]
     },
     "execution_count": 200,
     "metadata": {},
     "output_type": "execute_result"
    }
   ],
   "source": [
    "df[['gene_status', 'log2_max_tpm']].groupby('gene_status').median()"
   ]
  },
  {
   "cell_type": "code",
   "execution_count": 189,
   "id": "f280d8e1-9122-446f-889a-59aaa441fa2e",
   "metadata": {},
   "outputs": [
    {
     "data": {
      "text/plain": [
       "array(['Protein coding', 'Pseudogene', 'lncRNA', 'Intergenic',\n",
       "       'Readthrough'], dtype=object)"
      ]
     },
     "execution_count": 189,
     "metadata": {},
     "output_type": "execute_result"
    }
   ],
   "source": [
    "df.gene_status_hr.unique()"
   ]
  },
  {
   "cell_type": "code",
   "execution_count": 191,
   "id": "f9123b93-1532-48dc-869b-c004472e7126",
   "metadata": {},
   "outputs": [
    {
     "data": {
      "text/plain": [
       "array(['protein_coding', 'pseudogene', 'lncRNA', 'Intergenic',\n",
       "       'Readthrough'], dtype=object)"
      ]
     },
     "execution_count": 191,
     "metadata": {},
     "output_type": "execute_result"
    }
   ],
   "source": [
    "df.gene_status.unique()"
   ]
  },
  {
   "cell_type": "code",
   "execution_count": null,
   "id": "7426e626-c734-418e-8844-616d0ec3118e",
   "metadata": {},
   "outputs": [],
   "source": []
  },
  {
   "cell_type": "code",
   "execution_count": null,
   "id": "f96e9a6b-4938-4a6c-9e7f-586b0f67a14d",
   "metadata": {},
   "outputs": [],
   "source": []
  },
  {
   "cell_type": "code",
   "execution_count": null,
   "id": "41534fb7-dae5-465a-ab5f-868301f2c5c5",
   "metadata": {},
   "outputs": [],
   "source": []
  },
  {
   "cell_type": "code",
   "execution_count": null,
   "id": "2cfaa3e1-1f9c-4ab5-9c09-77dc1a2c84fc",
   "metadata": {},
   "outputs": [],
   "source": []
  },
  {
   "cell_type": "code",
   "execution_count": null,
   "id": "be4f0702-f37c-4846-81db-b2f25a54acf7",
   "metadata": {},
   "outputs": [],
   "source": []
  },
  {
   "cell_type": "markdown",
   "id": "de07d6bb-10ef-4ab0-b5ac-ed25f71c4365",
   "metadata": {},
   "source": [
    "## What do expression profiles of transcripts from novel genes look like?"
   ]
  },
  {
   "cell_type": "code",
   "execution_count": 10,
   "id": "c49abdef-3d27-47a2-b348-16b7adaecf3b",
   "metadata": {},
   "outputs": [
    {
     "name": "stdout",
     "output_type": "stream",
     "text": [
      "Calculating iso TPM values\n"
     ]
    },
    {
     "name": "stderr",
     "output_type": "stream",
     "text": [
      "/Users/fairliereese/Documents/programming/mortazavi_lab/data/paper_rnawg/proc_revisions/utils.py:2087: PerformanceWarning: DataFrame is highly fragmented.  This is usually the result of calling `frame.insert` many times, which has poor performance.  Consider joining all columns at once using pd.concat(axis=1) instead.  To get a de-fragmented frame, use `newframe = frame.copy()`\n",
      "  df[tpm_col] = (df[d]*1000000)/df[total_col]\n",
      "/Users/fairliereese/Documents/programming/mortazavi_lab/data/paper_rnawg/proc_revisions/utils.py:2086: PerformanceWarning: DataFrame is highly fragmented.  This is usually the result of calling `frame.insert` many times, which has poor performance.  Consider joining all columns at once using pd.concat(axis=1) instead.  To get a de-fragmented frame, use `newframe = frame.copy()`\n",
      "  df[total_col] = df[d].sum()\n"
     ]
    },
    {
     "name": "stdout",
     "output_type": "stream",
     "text": [
      "Enforcing minimum TPM\n",
      "Total # isos detected: 236615\n",
      "# isos >= 1 tpm: 213476\n",
      "Number of isos reported: 213476\n"
     ]
    }
   ],
   "source": [
    "df = pd.read_csv(filt_ab, sep='\\t')\n",
    "df, tids = get_tpm_table(df, \n",
    "                         how='iso',\n",
    "                         min_tpm=1,\n",
    "                         gene_subset=None)"
   ]
  },
  {
   "cell_type": "code",
   "execution_count": 11,
   "id": "71ac289e-98ae-4065-9695-2e7e51d031e0",
   "metadata": {},
   "outputs": [
    {
     "data": {
      "text/html": [
       "<div>\n",
       "<style scoped>\n",
       "    .dataframe tbody tr th:only-of-type {\n",
       "        vertical-align: middle;\n",
       "    }\n",
       "\n",
       "    .dataframe tbody tr th {\n",
       "        vertical-align: top;\n",
       "    }\n",
       "\n",
       "    .dataframe thead th {\n",
       "        text-align: right;\n",
       "    }\n",
       "</style>\n",
       "<table border=\"1\" class=\"dataframe\">\n",
       "  <thead>\n",
       "    <tr style=\"text-align: right;\">\n",
       "      <th></th>\n",
       "      <th>annot_transcript_id</th>\n",
       "      <th>hffc6_1_2</th>\n",
       "      <th>mucosa_of_descending_colon_1_1</th>\n",
       "      <th>hl60_m1_12hr_1_2</th>\n",
       "      <th>ovary_3_1</th>\n",
       "      <th>hct116_1_1</th>\n",
       "      <th>hl60_m2_24hr_1_2</th>\n",
       "      <th>calu3_1_1</th>\n",
       "      <th>caco2_1_2</th>\n",
       "      <th>huvec_1_1</th>\n",
       "      <th>...</th>\n",
       "      <th>posterior_vena_cava_2_1</th>\n",
       "      <th>h1_1_3</th>\n",
       "      <th>ocily7_1_2</th>\n",
       "      <th>heart_left_ventricle_4_1</th>\n",
       "      <th>h9_chondro_1_1</th>\n",
       "      <th>pgp1_1_1</th>\n",
       "      <th>lower_lobe_of_right_lung_1_1</th>\n",
       "      <th>a673_1_2</th>\n",
       "      <th>hepg2_1_1</th>\n",
       "      <th>gid</th>\n",
       "    </tr>\n",
       "  </thead>\n",
       "  <tbody>\n",
       "    <tr>\n",
       "      <th>0</th>\n",
       "      <td>ENSG00000000003[1,1,1]</td>\n",
       "      <td>0.000000</td>\n",
       "      <td>0.000000</td>\n",
       "      <td>0.0</td>\n",
       "      <td>0.000000</td>\n",
       "      <td>1.078233</td>\n",
       "      <td>0.0</td>\n",
       "      <td>1.868680</td>\n",
       "      <td>10.064443</td>\n",
       "      <td>0.000000</td>\n",
       "      <td>...</td>\n",
       "      <td>0.000000</td>\n",
       "      <td>9.228966</td>\n",
       "      <td>0.0</td>\n",
       "      <td>0.000000</td>\n",
       "      <td>0.837785</td>\n",
       "      <td>0.000000</td>\n",
       "      <td>1.169899</td>\n",
       "      <td>2.510343</td>\n",
       "      <td>3.089794</td>\n",
       "      <td>ENSG00000000003</td>\n",
       "    </tr>\n",
       "    <tr>\n",
       "      <th>1</th>\n",
       "      <td>ENSG00000000003[1,1,5]</td>\n",
       "      <td>9.581481</td>\n",
       "      <td>68.713567</td>\n",
       "      <td>0.0</td>\n",
       "      <td>20.443209</td>\n",
       "      <td>8.625867</td>\n",
       "      <td>0.0</td>\n",
       "      <td>36.439267</td>\n",
       "      <td>84.541318</td>\n",
       "      <td>9.831176</td>\n",
       "      <td>...</td>\n",
       "      <td>4.368854</td>\n",
       "      <td>24.226036</td>\n",
       "      <td>0.0</td>\n",
       "      <td>4.362171</td>\n",
       "      <td>5.864493</td>\n",
       "      <td>25.636599</td>\n",
       "      <td>5.849493</td>\n",
       "      <td>33.471235</td>\n",
       "      <td>43.257112</td>\n",
       "      <td>ENSG00000000003</td>\n",
       "    </tr>\n",
       "    <tr>\n",
       "      <th>2</th>\n",
       "      <td>ENSG00000000003[1,1,6]</td>\n",
       "      <td>1.596913</td>\n",
       "      <td>1.908710</td>\n",
       "      <td>0.0</td>\n",
       "      <td>0.000000</td>\n",
       "      <td>3.234700</td>\n",
       "      <td>0.0</td>\n",
       "      <td>1.868680</td>\n",
       "      <td>8.051554</td>\n",
       "      <td>0.578304</td>\n",
       "      <td>...</td>\n",
       "      <td>0.000000</td>\n",
       "      <td>1.153621</td>\n",
       "      <td>0.0</td>\n",
       "      <td>0.000000</td>\n",
       "      <td>0.000000</td>\n",
       "      <td>0.000000</td>\n",
       "      <td>1.169899</td>\n",
       "      <td>0.836781</td>\n",
       "      <td>3.089794</td>\n",
       "      <td>ENSG00000000003</td>\n",
       "    </tr>\n",
       "    <tr>\n",
       "      <th>3</th>\n",
       "      <td>ENSG00000000003[1,1,7]</td>\n",
       "      <td>30.341356</td>\n",
       "      <td>114.522612</td>\n",
       "      <td>0.0</td>\n",
       "      <td>23.850410</td>\n",
       "      <td>26.955834</td>\n",
       "      <td>0.0</td>\n",
       "      <td>102.777420</td>\n",
       "      <td>168.076192</td>\n",
       "      <td>35.854876</td>\n",
       "      <td>...</td>\n",
       "      <td>17.475414</td>\n",
       "      <td>80.753453</td>\n",
       "      <td>0.0</td>\n",
       "      <td>5.816228</td>\n",
       "      <td>15.917910</td>\n",
       "      <td>51.273199</td>\n",
       "      <td>7.019391</td>\n",
       "      <td>46.022948</td>\n",
       "      <td>82.188513</td>\n",
       "      <td>ENSG00000000003</td>\n",
       "    </tr>\n",
       "    <tr>\n",
       "      <th>4</th>\n",
       "      <td>ENSG00000000003[1,1,8]</td>\n",
       "      <td>25.550616</td>\n",
       "      <td>169.875209</td>\n",
       "      <td>0.0</td>\n",
       "      <td>20.443209</td>\n",
       "      <td>17.251734</td>\n",
       "      <td>0.0</td>\n",
       "      <td>74.747214</td>\n",
       "      <td>181.159967</td>\n",
       "      <td>45.686051</td>\n",
       "      <td>...</td>\n",
       "      <td>4.368854</td>\n",
       "      <td>43.837589</td>\n",
       "      <td>0.0</td>\n",
       "      <td>4.362171</td>\n",
       "      <td>16.755695</td>\n",
       "      <td>34.182133</td>\n",
       "      <td>7.019391</td>\n",
       "      <td>27.613769</td>\n",
       "      <td>40.167319</td>\n",
       "      <td>ENSG00000000003</td>\n",
       "    </tr>\n",
       "  </tbody>\n",
       "</table>\n",
       "<p>5 rows × 140 columns</p>\n",
       "</div>"
      ],
      "text/plain": [
       "      annot_transcript_id  hffc6_1_2  mucosa_of_descending_colon_1_1  \\\n",
       "0  ENSG00000000003[1,1,1]   0.000000                        0.000000   \n",
       "1  ENSG00000000003[1,1,5]   9.581481                       68.713567   \n",
       "2  ENSG00000000003[1,1,6]   1.596913                        1.908710   \n",
       "3  ENSG00000000003[1,1,7]  30.341356                      114.522612   \n",
       "4  ENSG00000000003[1,1,8]  25.550616                      169.875209   \n",
       "\n",
       "   hl60_m1_12hr_1_2  ovary_3_1  hct116_1_1  hl60_m2_24hr_1_2   calu3_1_1  \\\n",
       "0               0.0   0.000000    1.078233               0.0    1.868680   \n",
       "1               0.0  20.443209    8.625867               0.0   36.439267   \n",
       "2               0.0   0.000000    3.234700               0.0    1.868680   \n",
       "3               0.0  23.850410   26.955834               0.0  102.777420   \n",
       "4               0.0  20.443209   17.251734               0.0   74.747214   \n",
       "\n",
       "    caco2_1_2  huvec_1_1  ...  posterior_vena_cava_2_1     h1_1_3  ocily7_1_2  \\\n",
       "0   10.064443   0.000000  ...                 0.000000   9.228966         0.0   \n",
       "1   84.541318   9.831176  ...                 4.368854  24.226036         0.0   \n",
       "2    8.051554   0.578304  ...                 0.000000   1.153621         0.0   \n",
       "3  168.076192  35.854876  ...                17.475414  80.753453         0.0   \n",
       "4  181.159967  45.686051  ...                 4.368854  43.837589         0.0   \n",
       "\n",
       "   heart_left_ventricle_4_1  h9_chondro_1_1   pgp1_1_1  \\\n",
       "0                  0.000000        0.837785   0.000000   \n",
       "1                  4.362171        5.864493  25.636599   \n",
       "2                  0.000000        0.000000   0.000000   \n",
       "3                  5.816228       15.917910  51.273199   \n",
       "4                  4.362171       16.755695  34.182133   \n",
       "\n",
       "   lower_lobe_of_right_lung_1_1   a673_1_2  hepg2_1_1              gid  \n",
       "0                      1.169899   2.510343   3.089794  ENSG00000000003  \n",
       "1                      5.849493  33.471235  43.257112  ENSG00000000003  \n",
       "2                      1.169899   0.836781   3.089794  ENSG00000000003  \n",
       "3                      7.019391  46.022948  82.188513  ENSG00000000003  \n",
       "4                      7.019391  27.613769  40.167319  ENSG00000000003  \n",
       "\n",
       "[5 rows x 140 columns]"
      ]
     },
     "execution_count": 11,
     "metadata": {},
     "output_type": "execute_result"
    }
   ],
   "source": [
    "df.reset_index(inplace=True)\n",
    "df['gid'] = df.annot_transcript_id.str.split('[', expand=True)[0]\n",
    "df.head()"
   ]
  },
  {
   "cell_type": "code",
   "execution_count": 12,
   "id": "59647390-3906-4833-afec-d504468a7987",
   "metadata": {},
   "outputs": [],
   "source": [
    "ab_df = pd.read_csv(filt_ab, sep='\\t')\n",
    "ab_df['gid'] = ab_df.annot_transcript_id.str.split('[', expand=True)[0]\n",
    "ab_df = ab_df[['gid', 'gene_novelty']].drop_duplicates()"
   ]
  },
  {
   "cell_type": "code",
   "execution_count": 13,
   "id": "5740a16c-36bc-4d5d-a380-ec62d3f6a679",
   "metadata": {},
   "outputs": [
    {
     "data": {
      "text/plain": [
       "80"
      ]
     },
     "execution_count": 13,
     "metadata": {},
     "output_type": "execute_result"
    }
   ],
   "source": [
    "len(ab_df.loc[ab_df.gene_novelty.str.contains('Fusion')].index)"
   ]
  },
  {
   "cell_type": "code",
   "execution_count": 14,
   "id": "f93a9095-d13b-490b-afe5-c90933ed6481",
   "metadata": {},
   "outputs": [],
   "source": [
    "ab_df.loc[ab_df.gid.duplicated(keep=False)].sort_values(by='gid')\n",
    "assert len(ab_df.loc[ab_df.gid.duplicated(keep=False)].index) == 0"
   ]
  },
  {
   "cell_type": "code",
   "execution_count": 15,
   "id": "41c4c45b-0cd6-4763-80e1-6cb92ac57e39",
   "metadata": {},
   "outputs": [],
   "source": [
    "df = df.merge(ab_df, how='left', on='gid')"
   ]
  },
  {
   "cell_type": "code",
   "execution_count": 16,
   "id": "a2426bc9-1315-42ee-a3f4-2d41e530c5e4",
   "metadata": {},
   "outputs": [
    {
     "data": {
      "text/plain": [
       "213476"
      ]
     },
     "execution_count": 16,
     "metadata": {},
     "output_type": "execute_result"
    }
   ],
   "source": [
    "len(df.index)"
   ]
  },
  {
   "cell_type": "code",
   "execution_count": 17,
   "id": "7559301a-b371-4f78-927f-37c9c662afc3",
   "metadata": {},
   "outputs": [],
   "source": [
    "datasets = get_datasets('human')\n",
    "df['max_tpm'] = df[datasets].max(axis=1)\n",
    "df.drop(datasets, axis=1, inplace=True)"
   ]
  },
  {
   "cell_type": "code",
   "execution_count": 18,
   "id": "1cf0cde3-9c25-46ae-b2c5-b5215d0d075d",
   "metadata": {},
   "outputs": [],
   "source": [
    "gtf_df, _, _ = get_gtf_info(ver='v40_cerberus', how='gene')\n",
    "gtf_df['gid_stable'] = cerberus.get_stable_gid(gtf_df, col='gid')\n",
    "gtf_df.head()\n",
    "gtf_df = gtf_df[['gid_stable', 'biotype_category']]\n",
    "df = df.merge(gtf_df, how='left', left_on='gid', right_on='gid_stable')\n",
    "df.head()\n"
   ]
  },
  {
   "cell_type": "code",
   "execution_count": 19,
   "id": "50122872-3656-4b00-b514-fd5dfb715e1c",
   "metadata": {},
   "outputs": [
    {
     "data": {
      "text/html": [
       "<div>\n",
       "<style scoped>\n",
       "    .dataframe tbody tr th:only-of-type {\n",
       "        vertical-align: middle;\n",
       "    }\n",
       "\n",
       "    .dataframe tbody tr th {\n",
       "        vertical-align: top;\n",
       "    }\n",
       "\n",
       "    .dataframe thead th {\n",
       "        text-align: right;\n",
       "    }\n",
       "</style>\n",
       "<table border=\"1\" class=\"dataframe\">\n",
       "  <thead>\n",
       "    <tr style=\"text-align: right;\">\n",
       "      <th></th>\n",
       "      <th>gid</th>\n",
       "      <th>gname</th>\n",
       "      <th>length</th>\n",
       "      <th>biotype</th>\n",
       "      <th>biotype_category</th>\n",
       "      <th>tf</th>\n",
       "      <th>MANE_Select</th>\n",
       "      <th>MANE_Plus_Clinical</th>\n",
       "      <th>gid_stable</th>\n",
       "    </tr>\n",
       "  </thead>\n",
       "  <tbody>\n",
       "    <tr>\n",
       "      <th>0</th>\n",
       "      <td>ENSG00000000460.17</td>\n",
       "      <td>C1orf112</td>\n",
       "      <td>192174</td>\n",
       "      <td>protein_coding</td>\n",
       "      <td>protein_coding</td>\n",
       "      <td>False</td>\n",
       "      <td>True</td>\n",
       "      <td>False</td>\n",
       "      <td>ENSG00000000460</td>\n",
       "    </tr>\n",
       "    <tr>\n",
       "      <th>1</th>\n",
       "      <td>ENSG00000000971.17</td>\n",
       "      <td>CFH</td>\n",
       "      <td>100823</td>\n",
       "      <td>protein_coding</td>\n",
       "      <td>protein_coding</td>\n",
       "      <td>False</td>\n",
       "      <td>True</td>\n",
       "      <td>False</td>\n",
       "      <td>ENSG00000000971</td>\n",
       "    </tr>\n",
       "    <tr>\n",
       "      <th>2</th>\n",
       "      <td>ENSG00000001461.17</td>\n",
       "      <td>NIPAL3</td>\n",
       "      <td>57275</td>\n",
       "      <td>protein_coding</td>\n",
       "      <td>protein_coding</td>\n",
       "      <td>False</td>\n",
       "      <td>True</td>\n",
       "      <td>False</td>\n",
       "      <td>ENSG00000001461</td>\n",
       "    </tr>\n",
       "    <tr>\n",
       "      <th>3</th>\n",
       "      <td>ENSG00000004487.18</td>\n",
       "      <td>KDM1A</td>\n",
       "      <td>64347</td>\n",
       "      <td>protein_coding</td>\n",
       "      <td>protein_coding</td>\n",
       "      <td>False</td>\n",
       "      <td>True</td>\n",
       "      <td>False</td>\n",
       "      <td>ENSG00000004487</td>\n",
       "    </tr>\n",
       "    <tr>\n",
       "      <th>4</th>\n",
       "      <td>ENSG00000007933.13</td>\n",
       "      <td>FMO3</td>\n",
       "      <td>27019</td>\n",
       "      <td>protein_coding</td>\n",
       "      <td>protein_coding</td>\n",
       "      <td>False</td>\n",
       "      <td>True</td>\n",
       "      <td>False</td>\n",
       "      <td>ENSG00000007933</td>\n",
       "    </tr>\n",
       "  </tbody>\n",
       "</table>\n",
       "</div>"
      ],
      "text/plain": [
       "                  gid     gname  length         biotype biotype_category  \\\n",
       "0  ENSG00000000460.17  C1orf112  192174  protein_coding   protein_coding   \n",
       "1  ENSG00000000971.17       CFH  100823  protein_coding   protein_coding   \n",
       "2  ENSG00000001461.17    NIPAL3   57275  protein_coding   protein_coding   \n",
       "3  ENSG00000004487.18     KDM1A   64347  protein_coding   protein_coding   \n",
       "4  ENSG00000007933.13      FMO3   27019  protein_coding   protein_coding   \n",
       "\n",
       "      tf  MANE_Select  MANE_Plus_Clinical       gid_stable  \n",
       "0  False         True               False  ENSG00000000460  \n",
       "1  False         True               False  ENSG00000000971  \n",
       "2  False         True               False  ENSG00000001461  \n",
       "3  False         True               False  ENSG00000004487  \n",
       "4  False         True               False  ENSG00000007933  "
      ]
     },
     "execution_count": 19,
     "metadata": {},
     "output_type": "execute_result"
    }
   ],
   "source": []
  },
  {
   "cell_type": "code",
   "execution_count": 20,
   "id": "3a1d24ae-b5c7-4bb6-8b96-239d88eadb01",
   "metadata": {},
   "outputs": [
    {
     "data": {
      "text/html": [
       "<div>\n",
       "<style scoped>\n",
       "    .dataframe tbody tr th:only-of-type {\n",
       "        vertical-align: middle;\n",
       "    }\n",
       "\n",
       "    .dataframe tbody tr th {\n",
       "        vertical-align: top;\n",
       "    }\n",
       "\n",
       "    .dataframe thead th {\n",
       "        text-align: right;\n",
       "    }\n",
       "</style>\n",
       "<table border=\"1\" class=\"dataframe\">\n",
       "  <thead>\n",
       "    <tr style=\"text-align: right;\">\n",
       "      <th></th>\n",
       "      <th>annot_transcript_id</th>\n",
       "      <th>gid</th>\n",
       "      <th>gene_novelty</th>\n",
       "      <th>max_tpm</th>\n",
       "      <th>gid_stable</th>\n",
       "      <th>biotype_category</th>\n",
       "    </tr>\n",
       "  </thead>\n",
       "  <tbody>\n",
       "    <tr>\n",
       "      <th>0</th>\n",
       "      <td>ENSG00000000003[1,1,1]</td>\n",
       "      <td>ENSG00000000003</td>\n",
       "      <td>Known</td>\n",
       "      <td>10.657368</td>\n",
       "      <td>ENSG00000000003</td>\n",
       "      <td>protein_coding</td>\n",
       "    </tr>\n",
       "    <tr>\n",
       "      <th>1</th>\n",
       "      <td>ENSG00000000003[1,1,5]</td>\n",
       "      <td>ENSG00000000003</td>\n",
       "      <td>Known</td>\n",
       "      <td>304.456970</td>\n",
       "      <td>ENSG00000000003</td>\n",
       "      <td>protein_coding</td>\n",
       "    </tr>\n",
       "    <tr>\n",
       "      <th>2</th>\n",
       "      <td>ENSG00000000003[1,1,6]</td>\n",
       "      <td>ENSG00000000003</td>\n",
       "      <td>Known</td>\n",
       "      <td>26.218655</td>\n",
       "      <td>ENSG00000000003</td>\n",
       "      <td>protein_coding</td>\n",
       "    </tr>\n",
       "    <tr>\n",
       "      <th>3</th>\n",
       "      <td>ENSG00000000003[1,1,7]</td>\n",
       "      <td>ENSG00000000003</td>\n",
       "      <td>Known</td>\n",
       "      <td>696.401575</td>\n",
       "      <td>ENSG00000000003</td>\n",
       "      <td>protein_coding</td>\n",
       "    </tr>\n",
       "    <tr>\n",
       "      <th>4</th>\n",
       "      <td>ENSG00000000003[1,1,8]</td>\n",
       "      <td>ENSG00000000003</td>\n",
       "      <td>Known</td>\n",
       "      <td>203.213261</td>\n",
       "      <td>ENSG00000000003</td>\n",
       "      <td>protein_coding</td>\n",
       "    </tr>\n",
       "  </tbody>\n",
       "</table>\n",
       "</div>"
      ],
      "text/plain": [
       "      annot_transcript_id              gid gene_novelty     max_tpm  \\\n",
       "0  ENSG00000000003[1,1,1]  ENSG00000000003        Known   10.657368   \n",
       "1  ENSG00000000003[1,1,5]  ENSG00000000003        Known  304.456970   \n",
       "2  ENSG00000000003[1,1,6]  ENSG00000000003        Known   26.218655   \n",
       "3  ENSG00000000003[1,1,7]  ENSG00000000003        Known  696.401575   \n",
       "4  ENSG00000000003[1,1,8]  ENSG00000000003        Known  203.213261   \n",
       "\n",
       "        gid_stable biotype_category  \n",
       "0  ENSG00000000003   protein_coding  \n",
       "1  ENSG00000000003   protein_coding  \n",
       "2  ENSG00000000003   protein_coding  \n",
       "3  ENSG00000000003   protein_coding  \n",
       "4  ENSG00000000003   protein_coding  "
      ]
     },
     "execution_count": 20,
     "metadata": {},
     "output_type": "execute_result"
    }
   ],
   "source": []
  },
  {
   "cell_type": "code",
   "execution_count": 21,
   "id": "4888d402-5243-4926-9b80-96f5dbf3b6f6",
   "metadata": {},
   "outputs": [],
   "source": [
    "polya_cats = ['protein_coding', 'lncRNA', 'pseudogene']\n",
    "df = df.loc[(df.biotype_category.isin(polya_cats))|(df.gene_novelty!='Known')]\n",
    "df['gene_status'] = df['gene_novelty']\n",
    "df.loc[df.gene_novelty=='Known', 'gene_status'] = df.loc[df.gene_novelty=='Known', 'biotype_category']\n",
    "df['log2_max_tpm'] = np.log2(df.max_tpm)"
   ]
  },
  {
   "cell_type": "code",
   "execution_count": 22,
   "id": "11807d38-96fa-4459-af26-a43964d20b14",
   "metadata": {},
   "outputs": [],
   "source": []
  },
  {
   "cell_type": "code",
   "execution_count": 23,
   "id": "ca332caa-6cbe-41bb-b875-48bcadae070f",
   "metadata": {},
   "outputs": [],
   "source": []
  },
  {
   "cell_type": "code",
   "execution_count": 24,
   "id": "188454d1-239b-426b-a397-1be5dcf39c23",
   "metadata": {},
   "outputs": [
    {
     "name": "stdout",
     "output_type": "stream",
     "text": [
      "      annot_transcript_id              gid gene_novelty     max_tpm  \\\n",
      "0  ENSG00000000003[1,1,1]  ENSG00000000003        Known   10.657368   \n",
      "1  ENSG00000000003[1,1,5]  ENSG00000000003        Known  304.456970   \n",
      "2  ENSG00000000003[1,1,6]  ENSG00000000003        Known   26.218655   \n",
      "3  ENSG00000000003[1,1,7]  ENSG00000000003        Known  696.401575   \n",
      "4  ENSG00000000003[1,1,8]  ENSG00000000003        Known  203.213261   \n",
      "\n",
      "        gid_stable biotype_category     gene_status  log2_max_tpm  \n",
      "0  ENSG00000000003   protein_coding  protein_coding      3.413779  \n",
      "1  ENSG00000000003   protein_coding  protein_coding      8.250095  \n",
      "2  ENSG00000000003   protein_coding  protein_coding      4.712522  \n",
      "3  ENSG00000000003   protein_coding  protein_coding      9.443776  \n",
      "4  ENSG00000000003   protein_coding  protein_coding      7.666851  \n"
     ]
    }
   ],
   "source": [
    "print(df.head())"
   ]
  },
  {
   "cell_type": "code",
   "execution_count": 18,
   "id": "95793672-eeb8-441d-b2d9-0c308e1c1d1c",
   "metadata": {},
   "outputs": [
    {
     "data": {
      "text/plain": [
       "<seaborn.axisgrid.FacetGrid at 0x7fc38ac00ed0>"
      ]
     },
     "execution_count": 18,
     "metadata": {},
     "output_type": "execute_result"
    },
    {
     "data": {
      "image/png": "[encoded data removed]",
      "text/plain": [
       "<Figure size 360x360 with 1 Axes>"
      ]
     },
     "metadata": {
      "needs_background": "light"
     },
     "output_type": "display_data"
    }
   ],
   "source": [
    "mpl.rcParams['font.family'] = 'Arial'\n",
    "mpl.rcParams['pdf.fonttype'] = 42\n",
    "sns.set_context('paper', font_scale=1.8)\n",
    "\n",
    "order = ['protein_coding', 'lncRNA', 'pseudogene', 'Intergenic', 'Fusion']\n",
    "labels = ['Protein\\ncoding', 'lncRNA', 'Pseudogene', 'Intergenic', 'Fusion']\n",
    "\n",
    "ax = sns.catplot(df, hue='gene_status', x='gene_status', y='log2_max_tpm',\n",
    "                 order=order, alpha=0.2)\n",
    "# ax.set(yscale='log', ylabel='Max. gene TPM across datasets', xlabel='')\n",
    "ax.set(ylabel='Max. log2(gene TPM) across datasets', xlabel='')\n",
    "# ax.legend.remove()\n",
    "# ax.get_legend().set_visible(False)\n",
    "# ax.spines['right'].set_visible(False)\n",
    "# ax.spines['top'].set_visible(False)\n",
    "ax.tick_params(axis=\"x\", rotation=45)\n",
    "ax.set_xticklabels(labels)"
   ]
  },
  {
   "cell_type": "code",
   "execution_count": 19,
   "id": "8706f117-e908-44cb-a9bd-0e7b130145da",
   "metadata": {},
   "outputs": [
    {
     "data": {
      "image/png": "[encoded data removed]",
      "text/plain": [
       "<Figure size 432x288 with 1 Axes>"
      ]
     },
     "metadata": {
      "needs_background": "light"
     },
     "output_type": "display_data"
    }
   ],
   "source": [
    "# violin\n",
    "mpl.rcParams['font.family'] = 'Arial'\n",
    "mpl.rcParams['pdf.fonttype'] = 42\n",
    "sns.set_context('paper', font_scale=1.8)\n",
    "\n",
    "order = ['protein_coding', 'lncRNA', 'pseudogene', 'Intergenic', 'Fusion']\n",
    "labels = ['Protein\\ncoding', 'lncRNA', 'Pseudogene', 'Intergenic', 'Fusion']\n",
    "\n",
    "ax = sns.violinplot(df, hue='gene_status', x='gene_status', y='log2_max_tpm',\n",
    "                 order=order)\n",
    "ax.set(ylabel='Max. log2(gene TPM) across datasets', xlabel='')\n",
    "# ax.legend.remove()\n",
    "ax.get_legend().set_visible(False)\n",
    "ax.spines['right'].set_visible(False)\n",
    "ax.spines['top'].set_visible(False)\n",
    "ax.tick_params(axis=\"x\", rotation=45)"
   ]
  },
  {
   "cell_type": "markdown",
   "id": "8696b157-6b06-438e-86c7-7add84a772e2",
   "metadata": {},
   "source": [
    "## How many novel readthrough loci do we detect?"
   ]
  },
  {
   "cell_type": "code",
   "execution_count": 20,
   "id": "7c782e94-216f-40ab-9171-998b708518eb",
   "metadata": {},
   "outputs": [
    {
     "name": "stdout",
     "output_type": "stream",
     "text": [
      "Calculating iso TPM values\n"
     ]
    },
    {
     "name": "stderr",
     "output_type": "stream",
     "text": [
      "/Users/fairliereese/Documents/programming/mortazavi_lab/data/paper_rnawg/proc_revisions/utils.py:2087: PerformanceWarning: DataFrame is highly fragmented.  This is usually the result of calling `frame.insert` many times, which has poor performance.  Consider joining all columns at once using pd.concat(axis=1) instead.  To get a de-fragmented frame, use `newframe = frame.copy()`\n",
      "  df[tpm_col] = (df[d]*1000000)/df[total_col]\n",
      "/Users/fairliereese/Documents/programming/mortazavi_lab/data/paper_rnawg/proc_revisions/utils.py:2086: PerformanceWarning: DataFrame is highly fragmented.  This is usually the result of calling `frame.insert` many times, which has poor performance.  Consider joining all columns at once using pd.concat(axis=1) instead.  To get a de-fragmented frame, use `newframe = frame.copy()`\n",
      "  df[total_col] = df[d].sum()\n"
     ]
    },
    {
     "name": "stdout",
     "output_type": "stream",
     "text": [
      "Enforcing minimum TPM\n",
      "Total # isos detected: 236615\n",
      "# isos >= 1 tpm: 213476\n",
      "Number of isos reported: 213476\n"
     ]
    }
   ],
   "source": [
    "df = pd.read_csv(filt_ab, sep='\\t')\n",
    "df, tids = get_tpm_table(df, \n",
    "                         how='iso',\n",
    "                         min_tpm=1,\n",
    "                         gene_subset=None)\n",
    "df.reset_index(inplace=True)\n",
    "df['gid'] = df.annot_transcript_id.str.split('[', expand=True)[0]\n",
    "ab_df = pd.read_csv(filt_ab, sep='\\t')\n",
    "ab_df['gid'] = ab_df.annot_transcript_id.str.split('[', expand=True)[0]\n",
    "ab_df = ab_df[['gid', 'gene_novelty']].drop_duplicates()\n",
    "df = df.merge(ab_df, how='left', on='gid')"
   ]
  },
  {
   "cell_type": "code",
   "execution_count": 21,
   "id": "6d48a4b4-686a-4d16-9917-23eeda1ff1a6",
   "metadata": {},
   "outputs": [
    {
     "name": "stdout",
     "output_type": "stream",
     "text": [
      "Found 79 fusion loci in human\n"
     ]
    }
   ],
   "source": [
    "n = len(df.loc[df.gene_novelty=='Fusion'].gid.unique())\n",
    "print(f'Found {n} fusion loci in human')"
   ]
  },
  {
   "cell_type": "markdown",
   "id": "72125f07-dcef-4928-ac8b-a432bb0c7696",
   "metadata": {},
   "source": [
    "## How many GENCODE genes engage in readthrough transcription?"
   ]
  },
  {
   "cell_type": "code",
   "execution_count": 22,
   "id": "6aa92980-0992-41b2-a5f5-38f88ef03093",
   "metadata": {},
   "outputs": [],
   "source": [
    "df = pr.read_gtf(ref_gtf, duplicate_attr=True)"
   ]
  },
  {
   "cell_type": "code",
   "execution_count": 23,
   "id": "4a5749de-9bd7-41c4-a618-ce923d5cabb5",
   "metadata": {},
   "outputs": [],
   "source": [
    "df = df.df\n",
    "df = df.loc[df.Feature=='transcript']"
   ]
  },
  {
   "cell_type": "code",
   "execution_count": 24,
   "id": "c8435594-e4b0-4417-8311-0e1e95b06ae1",
   "metadata": {},
   "outputs": [],
   "source": [
    "# is it possible that a not all transcripts from a given gene are called as readthrough? \n",
    "temp = df[['gene_id','transcript_id','tag']]\n",
    "temp['readthrough_transcript'] = temp.tag.str.contains('readthrough_transcript')\n",
    "temp.drop('tag', axis=1, inplace=True)\n",
    "\n",
    "gids = temp.loc[temp.readthrough_transcript==True]\n",
    "temp.loc[(temp.gene_id.isin(gids))&(temp.readthrough_transcript==False)]\n",
    "\n",
    "# nope\n",
    "assert len(temp.loc[(temp.gene_id.isin(gids))&(temp.readthrough_transcript==False)]) == 0"
   ]
  },
  {
   "cell_type": "code",
   "execution_count": 25,
   "id": "4b2267dc-a278-46e4-995f-bb87fb373e51",
   "metadata": {},
   "outputs": [
    {
     "name": "stdout",
     "output_type": "stream",
     "text": [
      "Gencode v40 has 981 genes w/ annotated readthrough transcription\n",
      "Gencode v40 has 2082 transcripts w/ annotated readthrough transcription\n"
     ]
    }
   ],
   "source": [
    "rt_df = df.loc[(df.tag.notnull())&(df.tag.str.contains('readthrough_transcript'))]\n",
    "rt_df = rt_df[['gene_id', 'transcript_id']].drop_duplicates()\n",
    "rt_df['gid_stable'] = cerberus.get_stable_gid(rt_df, 'gene_id')\n",
    "n = len(rt_df.gene_id.unique().tolist())\n",
    "print(f'Gencode v40 has {n} genes w/ annotated readthrough transcription')\n",
    "n = len(rt_df.transcript_id.unique().tolist())\n",
    "print(f'Gencode v40 has {n} transcripts w/ annotated readthrough transcription')"
   ]
  },
  {
   "cell_type": "code",
   "execution_count": 26,
   "id": "7fdac7db-86d3-4789-a5fb-345f0f973694",
   "metadata": {},
   "outputs": [
    {
     "data": {
      "text/html": [
       "<div>\n",
       "<style scoped>\n",
       "    .dataframe tbody tr th:only-of-type {\n",
       "        vertical-align: middle;\n",
       "    }\n",
       "\n",
       "    .dataframe tbody tr th {\n",
       "        vertical-align: top;\n",
       "    }\n",
       "\n",
       "    .dataframe thead th {\n",
       "        text-align: right;\n",
       "    }\n",
       "</style>\n",
       "<table border=\"1\" class=\"dataframe\">\n",
       "  <thead>\n",
       "    <tr style=\"text-align: right;\">\n",
       "      <th></th>\n",
       "      <th>gene_id</th>\n",
       "      <th>transcript_id</th>\n",
       "      <th>gid_stable</th>\n",
       "    </tr>\n",
       "  </thead>\n",
       "  <tbody>\n",
       "    <tr>\n",
       "      <th>10466</th>\n",
       "      <td>ENSG00000251503.8</td>\n",
       "      <td>ENST00000400900.6</td>\n",
       "      <td>ENSG00000251503</td>\n",
       "    </tr>\n",
       "    <tr>\n",
       "      <th>10481</th>\n",
       "      <td>ENSG00000251503.8</td>\n",
       "      <td>ENST00000470413.6</td>\n",
       "      <td>ENSG00000251503</td>\n",
       "    </tr>\n",
       "    <tr>\n",
       "      <th>10494</th>\n",
       "      <td>ENSG00000251503.8</td>\n",
       "      <td>ENST00000602787.6</td>\n",
       "      <td>ENSG00000251503</td>\n",
       "    </tr>\n",
       "    <tr>\n",
       "      <th>10511</th>\n",
       "      <td>ENSG00000251503.8</td>\n",
       "      <td>ENST00000602296.6</td>\n",
       "      <td>ENSG00000251503</td>\n",
       "    </tr>\n",
       "    <tr>\n",
       "      <th>10524</th>\n",
       "      <td>ENSG00000251503.8</td>\n",
       "      <td>ENST00000465026.1</td>\n",
       "      <td>ENSG00000251503</td>\n",
       "    </tr>\n",
       "  </tbody>\n",
       "</table>\n",
       "</div>"
      ],
      "text/plain": [
       "                 gene_id      transcript_id       gid_stable\n",
       "10466  ENSG00000251503.8  ENST00000400900.6  ENSG00000251503\n",
       "10481  ENSG00000251503.8  ENST00000470413.6  ENSG00000251503\n",
       "10494  ENSG00000251503.8  ENST00000602787.6  ENSG00000251503\n",
       "10511  ENSG00000251503.8  ENST00000602296.6  ENSG00000251503\n",
       "10524  ENSG00000251503.8  ENST00000465026.1  ENSG00000251503"
      ]
     },
     "execution_count": 26,
     "metadata": {},
     "output_type": "execute_result"
    }
   ],
   "source": [
    "rt_df.head()"
   ]
  },
  {
   "cell_type": "markdown",
   "id": "8ad6eb0c-a606-4204-be0f-9ad41b5bbe84",
   "metadata": {},
   "source": [
    "## How many transcripts w/ annotated readthrough transcription do we detect?"
   ]
  },
  {
   "cell_type": "code",
   "execution_count": 27,
   "id": "97c7bf8e-360d-4936-bf44-d358c9f1a738",
   "metadata": {},
   "outputs": [
    {
     "data": {
      "text/plain": [
       "2075"
      ]
     },
     "execution_count": 27,
     "metadata": {},
     "output_type": "execute_result"
    }
   ],
   "source": [
    "df, _, _ = get_gtf_info(ver='v40_cerberus', how='iso')\n",
    "rt_df = df.loc[df.readthrough_transcript==True]\n",
    "len(rt_df.index)"
   ]
  },
  {
   "cell_type": "code",
   "execution_count": 28,
   "id": "6fc7e5aa-66f9-4912-9e79-30e65f650054",
   "metadata": {},
   "outputs": [
    {
     "name": "stdout",
     "output_type": "stream",
     "text": [
      "Calculating iso TPM values\n"
     ]
    },
    {
     "name": "stderr",
     "output_type": "stream",
     "text": [
      "/Users/fairliereese/Documents/programming/mortazavi_lab/data/paper_rnawg/proc_revisions/utils.py:2087: PerformanceWarning: DataFrame is highly fragmented.  This is usually the result of calling `frame.insert` many times, which has poor performance.  Consider joining all columns at once using pd.concat(axis=1) instead.  To get a de-fragmented frame, use `newframe = frame.copy()`\n",
      "  df[tpm_col] = (df[d]*1000000)/df[total_col]\n",
      "/Users/fairliereese/Documents/programming/mortazavi_lab/data/paper_rnawg/proc_revisions/utils.py:2086: PerformanceWarning: DataFrame is highly fragmented.  This is usually the result of calling `frame.insert` many times, which has poor performance.  Consider joining all columns at once using pd.concat(axis=1) instead.  To get a de-fragmented frame, use `newframe = frame.copy()`\n",
      "  df[total_col] = df[d].sum()\n"
     ]
    },
    {
     "name": "stdout",
     "output_type": "stream",
     "text": [
      "Enforcing minimum TPM\n",
      "Total # isos detected: 236615\n",
      "# isos >= 1 tpm: 213476\n",
      "Number of isos reported: 213476\n"
     ]
    }
   ],
   "source": [
    "ab_df = pd.read_csv(filt_ab, sep='\\t')\n",
    "ab_df, tids = get_tpm_table(ab_df, \n",
    "                         how='iso',\n",
    "                         min_tpm=1,\n",
    "                         gene_subset=None)"
   ]
  },
  {
   "cell_type": "code",
   "execution_count": 29,
   "id": "e192af9b-570b-405d-ad6e-ff737b0afdf0",
   "metadata": {},
   "outputs": [],
   "source": [
    "ab_df = ab_df.reset_index()\n",
    "ab_df.rename({'annot_transcript_id':'tid'}, axis=1, inplace=True)"
   ]
  },
  {
   "cell_type": "code",
   "execution_count": 30,
   "id": "57777c13-5b49-4205-b692-3ab38eec6ea0",
   "metadata": {},
   "outputs": [
    {
     "name": "stdout",
     "output_type": "stream",
     "text": [
      "14.02% (291/2075) of GENCODE v40 readthrough transcripts were observed\n"
     ]
    }
   ],
   "source": [
    "# % of rt gencode transcripts\n",
    "n = len(rt_df.index)\n",
    "n_num = len(ab_df.loc[ab_df.tid.isin(rt_df.tid.tolist())].index)\n",
    "print('{:.2f}% ({}/{}) of GENCODE v40 readthrough transcripts were observed'.format((n_num/n)*100, n_num, n))"
   ]
  },
  {
   "cell_type": "code",
   "execution_count": 36,
   "id": "3e80277d-d4dc-41c4-9ee7-b0db4df2cace",
   "metadata": {},
   "outputs": [
    {
     "name": "stdout",
     "output_type": "stream",
     "text": [
      "30.68% (301/981) of GENCODE v40 readthrough genes were observed\n"
     ]
    }
   ],
   "source": [
    "# % of rt gencode genes\n",
    "rt_df['gid_stable'] = cerberus.get_stable_gid(rt_df, 'gid')\n",
    "ab_df['gid'] = ab_df.tid.str.split('[', expand=True)[0]\n",
    "n = len(rt_df.gid_stable.unique().tolist())\n",
    "n_num = len(ab_df.loc[ab_df.gid.isin(rt_df.gid_stable.tolist())].gid.unique().tolist())\n",
    "print('{:.2f}% ({}/{}) of GENCODE v40 readthrough genes were observed'.format((n_num/n)*100, n_num, n))"
   ]
  },
  {
   "cell_type": "markdown",
   "id": "19960371-5d30-4b35-8eca-cf120ebd5ca4",
   "metadata": {},
   "source": [
    "## What does the expression of known readthrough loci look like compared to novel?"
   ]
  },
  {
   "cell_type": "code",
   "execution_count": 37,
   "id": "beb52858-601c-48a0-86f0-8b083bf62bde",
   "metadata": {},
   "outputs": [
    {
     "data": {
      "text/plain": [
       "2075"
      ]
     },
     "execution_count": 37,
     "metadata": {},
     "output_type": "execute_result"
    }
   ],
   "source": [
    "df, _, _ = get_gtf_info(ver='v40_cerberus', how='iso')\n",
    "rt_df = df.loc[df.readthrough_transcript==True]\n",
    "len(rt_df.index)"
   ]
  },
  {
   "cell_type": "code",
   "execution_count": 38,
   "id": "25c98695-ac1f-4818-b34b-4185db487aa1",
   "metadata": {},
   "outputs": [
    {
     "name": "stdout",
     "output_type": "stream",
     "text": [
      "Calculating iso TPM values\n"
     ]
    },
    {
     "name": "stderr",
     "output_type": "stream",
     "text": [
      "/Users/fairliereese/Documents/programming/mortazavi_lab/data/paper_rnawg/proc_revisions/utils.py:2087: PerformanceWarning: DataFrame is highly fragmented.  This is usually the result of calling `frame.insert` many times, which has poor performance.  Consider joining all columns at once using pd.concat(axis=1) instead.  To get a de-fragmented frame, use `newframe = frame.copy()`\n",
      "  df[tpm_col] = (df[d]*1000000)/df[total_col]\n",
      "/Users/fairliereese/Documents/programming/mortazavi_lab/data/paper_rnawg/proc_revisions/utils.py:2086: PerformanceWarning: DataFrame is highly fragmented.  This is usually the result of calling `frame.insert` many times, which has poor performance.  Consider joining all columns at once using pd.concat(axis=1) instead.  To get a de-fragmented frame, use `newframe = frame.copy()`\n",
      "  df[total_col] = df[d].sum()\n"
     ]
    },
    {
     "name": "stdout",
     "output_type": "stream",
     "text": [
      "Enforcing minimum TPM\n",
      "Total # isos detected: 236615\n",
      "# isos >= 1 tpm: 213476\n",
      "Number of isos reported: 213476\n"
     ]
    }
   ],
   "source": [
    "ab_df = pd.read_csv(filt_ab, sep='\\t')\n",
    "ab_df, tids = get_tpm_table(ab_df, \n",
    "                         how='iso',\n",
    "                         min_tpm=1,\n",
    "                         gene_subset=None)\n",
    "ab_df = ab_df.reset_index()\n",
    "ab_df.rename({'annot_transcript_id':'tid'}, axis=1, inplace=True)\n",
    "ab_df['readthrough_novelty'] = ''\n",
    "ab_df.loc[ab_df.tid.isin(rt_df.tid.tolist()), 'readthrough_novelty'] = 'Known'\n",
    "ab_df['gid'] = ab_df.tid.str.split('[', expand=True)[0]"
   ]
  },
  {
   "cell_type": "code",
   "execution_count": 39,
   "id": "46a651d3-92e5-4e0d-b811-ab1612169f53",
   "metadata": {},
   "outputs": [],
   "source": [
    "df = pd.read_csv(filt_ab, sep='\\t')\n",
    "df['gid'] = df.annot_transcript_id.str.split('[', expand=True)[0]\n",
    "df = df[['gid', 'gene_novelty']].drop_duplicates()"
   ]
  },
  {
   "cell_type": "code",
   "execution_count": 40,
   "id": "570a49f4-72b7-4ba4-8a5d-a365496f325e",
   "metadata": {},
   "outputs": [
    {
     "data": {
      "text/plain": [
       "80"
      ]
     },
     "execution_count": 40,
     "metadata": {},
     "output_type": "execute_result"
    }
   ],
   "source": [
    "len(df.loc[df.gene_novelty.str.contains('Fusion')].index)"
   ]
  },
  {
   "cell_type": "code",
   "execution_count": 41,
   "id": "fbbdd2ff-76b3-41b5-a45b-f8653781b2e4",
   "metadata": {},
   "outputs": [],
   "source": [
    "df = df.loc[df.gene_novelty.str.contains('Fusion')]"
   ]
  },
  {
   "cell_type": "code",
   "execution_count": 42,
   "id": "e99fc939-a019-4844-9f85-7e56b26d8fc7",
   "metadata": {},
   "outputs": [],
   "source": [
    "ab_df.loc[ab_df.gid.isin(df.gid.tolist()), 'readthrough_novelty'] = 'Novel'"
   ]
  },
  {
   "cell_type": "code",
   "execution_count": 43,
   "id": "ee271d33-bd25-4913-a1cd-1cfae5055479",
   "metadata": {},
   "outputs": [],
   "source": [
    "ab_df = ab_df.loc[ab_df.readthrough_novelty!='']"
   ]
  },
  {
   "cell_type": "code",
   "execution_count": 44,
   "id": "7883524b-a2b0-4747-9588-e57659b78f2a",
   "metadata": {},
   "outputs": [
    {
     "data": {
      "text/html": [
       "<div>\n",
       "<style scoped>\n",
       "    .dataframe tbody tr th:only-of-type {\n",
       "        vertical-align: middle;\n",
       "    }\n",
       "\n",
       "    .dataframe tbody tr th {\n",
       "        vertical-align: top;\n",
       "    }\n",
       "\n",
       "    .dataframe thead th {\n",
       "        text-align: right;\n",
       "    }\n",
       "</style>\n",
       "<table border=\"1\" class=\"dataframe\">\n",
       "  <thead>\n",
       "    <tr style=\"text-align: right;\">\n",
       "      <th></th>\n",
       "      <th>readthrough_novelty</th>\n",
       "      <th>n_transcripts</th>\n",
       "    </tr>\n",
       "  </thead>\n",
       "  <tbody>\n",
       "    <tr>\n",
       "      <th>0</th>\n",
       "      <td>Known</td>\n",
       "      <td>291</td>\n",
       "    </tr>\n",
       "    <tr>\n",
       "      <th>1</th>\n",
       "      <td>Novel</td>\n",
       "      <td>184</td>\n",
       "    </tr>\n",
       "  </tbody>\n",
       "</table>\n",
       "</div>"
      ],
      "text/plain": [
       "  readthrough_novelty  n_transcripts\n",
       "0               Known            291\n",
       "1               Novel            184"
      ]
     },
     "execution_count": 44,
     "metadata": {},
     "output_type": "execute_result"
    }
   ],
   "source": [
    "ab_df[['tid', 'readthrough_novelty']].groupby('readthrough_novelty').count().reset_index().rename({'tid':'n_transcripts'}, axis=1)"
   ]
  },
  {
   "cell_type": "code",
   "execution_count": 45,
   "id": "ea19a493-9be0-423c-9a3a-d01b2130739f",
   "metadata": {},
   "outputs": [],
   "source": [
    "datasets = get_datasets('human')\n",
    "ab_df['max_tpm'] = ab_df[datasets].max(axis=1)\n",
    "ab_df.drop(datasets, axis=1, inplace=True)"
   ]
  },
  {
   "cell_type": "code",
   "execution_count": 46,
   "id": "ad12005a-2aaf-459d-be24-d61aaa4fca57",
   "metadata": {},
   "outputs": [
    {
     "data": {
      "text/html": [
       "<div>\n",
       "<style scoped>\n",
       "    .dataframe tbody tr th:only-of-type {\n",
       "        vertical-align: middle;\n",
       "    }\n",
       "\n",
       "    .dataframe tbody tr th {\n",
       "        vertical-align: top;\n",
       "    }\n",
       "\n",
       "    .dataframe thead th {\n",
       "        text-align: right;\n",
       "    }\n",
       "</style>\n",
       "<table border=\"1\" class=\"dataframe\">\n",
       "  <thead>\n",
       "    <tr style=\"text-align: right;\">\n",
       "      <th></th>\n",
       "      <th>tid</th>\n",
       "      <th>readthrough_novelty</th>\n",
       "      <th>gid</th>\n",
       "      <th>max_tpm</th>\n",
       "      <th>log2_max_tpm</th>\n",
       "    </tr>\n",
       "  </thead>\n",
       "  <tbody>\n",
       "    <tr>\n",
       "      <th>3382</th>\n",
       "      <td>ENSG00000011052[1,1,1]</td>\n",
       "      <td>Known</td>\n",
       "      <td>ENSG00000011052</td>\n",
       "      <td>59.771449</td>\n",
       "      <td>5.901385</td>\n",
       "    </tr>\n",
       "    <tr>\n",
       "      <th>3383</th>\n",
       "      <td>ENSG00000011052[1,2,1]</td>\n",
       "      <td>Known</td>\n",
       "      <td>ENSG00000011052</td>\n",
       "      <td>2.490477</td>\n",
       "      <td>1.316422</td>\n",
       "    </tr>\n",
       "    <tr>\n",
       "      <th>3384</th>\n",
       "      <td>ENSG00000011052[1,3,1]</td>\n",
       "      <td>Known</td>\n",
       "      <td>ENSG00000011052</td>\n",
       "      <td>3.382183</td>\n",
       "      <td>1.757955</td>\n",
       "    </tr>\n",
       "    <tr>\n",
       "      <th>11935</th>\n",
       "      <td>ENSG00000064489[1,1,1]</td>\n",
       "      <td>Known</td>\n",
       "      <td>ENSG00000064489</td>\n",
       "      <td>1.596913</td>\n",
       "      <td>0.675286</td>\n",
       "    </tr>\n",
       "    <tr>\n",
       "      <th>11937</th>\n",
       "      <td>ENSG00000064489[1,4,1]</td>\n",
       "      <td>Known</td>\n",
       "      <td>ENSG00000064489</td>\n",
       "      <td>2.044187</td>\n",
       "      <td>1.031527</td>\n",
       "    </tr>\n",
       "  </tbody>\n",
       "</table>\n",
       "</div>"
      ],
      "text/plain": [
       "                          tid readthrough_novelty              gid    max_tpm  \\\n",
       "3382   ENSG00000011052[1,1,1]               Known  ENSG00000011052  59.771449   \n",
       "3383   ENSG00000011052[1,2,1]               Known  ENSG00000011052   2.490477   \n",
       "3384   ENSG00000011052[1,3,1]               Known  ENSG00000011052   3.382183   \n",
       "11935  ENSG00000064489[1,1,1]               Known  ENSG00000064489   1.596913   \n",
       "11937  ENSG00000064489[1,4,1]               Known  ENSG00000064489   2.044187   \n",
       "\n",
       "       log2_max_tpm  \n",
       "3382       5.901385  \n",
       "3383       1.316422  \n",
       "3384       1.757955  \n",
       "11935      0.675286  \n",
       "11937      1.031527  "
      ]
     },
     "execution_count": 46,
     "metadata": {},
     "output_type": "execute_result"
    }
   ],
   "source": [
    "ab_df['log2_max_tpm'] = np.log2(ab_df.max_tpm)\n",
    "ab_df.head()"
   ]
  },
  {
   "cell_type": "code",
   "execution_count": 47,
   "id": "c94b1020-a3a1-486c-8ae9-7dd5aeb2123d",
   "metadata": {},
   "outputs": [
    {
     "data": {
      "image/png": "[encoded data removed]",
      "text/plain": [
       "<Figure size 432x288 with 1 Axes>"
      ]
     },
     "metadata": {
      "needs_background": "light"
     },
     "output_type": "display_data"
    }
   ],
   "source": [
    "mpl.rcParams['font.family'] = 'Arial'\n",
    "mpl.rcParams['pdf.fonttype'] = 42\n",
    "sns.set_context('paper', font_scale=1.8)\n",
    "\n",
    "order = ['Known', 'Novel']\n",
    "\n",
    "ax = sns.violinplot(ab_df, hue='readthrough_novelty', x='readthrough_novelty', y='log2_max_tpm',\n",
    "                 order=order, alpha=0.2)\n",
    "# ax.set(yscale='log', ylabel='Max. gene TPM across datasets', xlabel='')\n",
    "ax.set(ylabel='Max. log2(gene TPM) across datasets', xlabel='')\n",
    "# ax.legend.remove()\n",
    "ax.get_legend().set_visible(False)\n",
    "ax.spines['right'].set_visible(False)\n",
    "ax.spines['top'].set_visible(False)\n",
    "ax.tick_params(axis=\"x\", rotation=45)"
   ]
  },
  {
   "cell_type": "code",
   "execution_count": 48,
   "id": "8dad3ebb-17e1-429d-bada-a3236b96cdb1",
   "metadata": {},
   "outputs": [],
   "source": [
    "ab_df.head()\n",
    "ab_df.to_csv('human_known_novel_readthrough.tsv', sep='\\t', index=False)"
   ]
  },
  {
   "cell_type": "markdown",
   "id": "1516b038-ba27-45e0-9855-fa0c026f9367",
   "metadata": {},
   "source": [
    "## What does transcriptional diversity look like for known and novel readthrough guys?"
   ]
  },
  {
   "cell_type": "code",
   "execution_count": 49,
   "id": "b029c0bb-0d5e-4f78-bf55-f4cca8a60642",
   "metadata": {},
   "outputs": [
    {
     "data": {
      "text/html": [
       "<div>\n",
       "<style scoped>\n",
       "    .dataframe tbody tr th:only-of-type {\n",
       "        vertical-align: middle;\n",
       "    }\n",
       "\n",
       "    .dataframe tbody tr th {\n",
       "        vertical-align: top;\n",
       "    }\n",
       "\n",
       "    .dataframe thead th {\n",
       "        text-align: right;\n",
       "    }\n",
       "</style>\n",
       "<table border=\"1\" class=\"dataframe\">\n",
       "  <thead>\n",
       "    <tr style=\"text-align: right;\">\n",
       "      <th></th>\n",
       "      <th>tid</th>\n",
       "      <th>readthrough_novelty</th>\n",
       "      <th>gid</th>\n",
       "      <th>max_tpm</th>\n",
       "      <th>log2_max_tpm</th>\n",
       "    </tr>\n",
       "  </thead>\n",
       "  <tbody>\n",
       "    <tr>\n",
       "      <th>0</th>\n",
       "      <td>ENSG00000011052[1,1,1]</td>\n",
       "      <td>Known</td>\n",
       "      <td>ENSG00000011052</td>\n",
       "      <td>59.771449</td>\n",
       "      <td>5.901385</td>\n",
       "    </tr>\n",
       "    <tr>\n",
       "      <th>1</th>\n",
       "      <td>ENSG00000011052[1,2,1]</td>\n",
       "      <td>Known</td>\n",
       "      <td>ENSG00000011052</td>\n",
       "      <td>2.490477</td>\n",
       "      <td>1.316422</td>\n",
       "    </tr>\n",
       "    <tr>\n",
       "      <th>2</th>\n",
       "      <td>ENSG00000011052[1,3,1]</td>\n",
       "      <td>Known</td>\n",
       "      <td>ENSG00000011052</td>\n",
       "      <td>3.382183</td>\n",
       "      <td>1.757955</td>\n",
       "    </tr>\n",
       "    <tr>\n",
       "      <th>3</th>\n",
       "      <td>ENSG00000064489[1,1,1]</td>\n",
       "      <td>Known</td>\n",
       "      <td>ENSG00000064489</td>\n",
       "      <td>1.596913</td>\n",
       "      <td>0.675286</td>\n",
       "    </tr>\n",
       "    <tr>\n",
       "      <th>4</th>\n",
       "      <td>ENSG00000064489[1,4,1]</td>\n",
       "      <td>Known</td>\n",
       "      <td>ENSG00000064489</td>\n",
       "      <td>2.044187</td>\n",
       "      <td>1.031527</td>\n",
       "    </tr>\n",
       "  </tbody>\n",
       "</table>\n",
       "</div>"
      ],
      "text/plain": [
       "                      tid readthrough_novelty              gid    max_tpm  \\\n",
       "0  ENSG00000011052[1,1,1]               Known  ENSG00000011052  59.771449   \n",
       "1  ENSG00000011052[1,2,1]               Known  ENSG00000011052   2.490477   \n",
       "2  ENSG00000011052[1,3,1]               Known  ENSG00000011052   3.382183   \n",
       "3  ENSG00000064489[1,1,1]               Known  ENSG00000064489   1.596913   \n",
       "4  ENSG00000064489[1,4,1]               Known  ENSG00000064489   2.044187   \n",
       "\n",
       "   log2_max_tpm  \n",
       "0      5.901385  \n",
       "1      1.316422  \n",
       "2      1.757955  \n",
       "3      0.675286  \n",
       "4      1.031527  "
      ]
     },
     "execution_count": 49,
     "metadata": {},
     "output_type": "execute_result"
    }
   ],
   "source": [
    "df = pd.read_csv('human_known_novel_readthrough.tsv', sep='\\t')\n",
    "df.head()"
   ]
  },
  {
   "cell_type": "code",
   "execution_count": 50,
   "id": "4e2e1fe5-bc91-46cd-8d21-466e4dcd1eab",
   "metadata": {},
   "outputs": [],
   "source": [
    "tids = df.tid.tolist()"
   ]
  },
  {
   "cell_type": "code",
   "execution_count": 51,
   "id": "44b29158-f368-408c-beac-370d733a753b",
   "metadata": {},
   "outputs": [],
   "source": [
    "ca = cerberus.read(cerberus_h5)"
   ]
  },
  {
   "cell_type": "code",
   "execution_count": 52,
   "id": "09861b3d-f02d-4754-9243-ac47761406fd",
   "metadata": {},
   "outputs": [],
   "source": [
    "df = ca.get_subset_triplets(tids, source='obs_readthrough')\n"
   ]
  },
  {
   "cell_type": "code",
   "execution_count": null,
   "id": "750d168f-fc61-4c08-a8cf-a136fc3497e7",
   "metadata": {},
   "outputs": [],
   "source": []
  },
  {
   "cell_type": "code",
   "execution_count": null,
   "id": "40e9f40f-8a1d-4ade-ad0a-dd600740d5fe",
   "metadata": {},
   "outputs": [],
   "source": []
  },
  {
   "cell_type": "code",
   "execution_count": null,
   "id": "3ec5e710-9d6b-4bf6-b045-25e58d68f623",
   "metadata": {},
   "outputs": [],
   "source": []
  }
 ],
 "metadata": {
  "kernelspec": {
   "display_name": "Python 3",
   "language": "python",
   "name": "python3"
  },
  "language_info": {
   "codemirror_mode": {
    "name": "ipython",
    "version": 3
   },
   "file_extension": ".py",
   "mimetype": "text/x-python",
   "name": "python",
   "nbconvert_exporter": "python",
   "pygments_lexer": "ipython3",
   "version": "3.7.12"
  }
 },
 "nbformat": 4,
 "nbformat_minor": 5
}
