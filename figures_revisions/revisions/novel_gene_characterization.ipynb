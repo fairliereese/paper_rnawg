{
 "cells": [
  {
   "cell_type": "code",
   "execution_count": 1,
   "id": "9894fbb2-e753-48a8-ac2f-031d46f5fe14",
   "metadata": {},
   "outputs": [],
   "source": [
    "import pandas as pd\n",
    "import numpy as np\n",
    "import scipy.stats as st\n",
    "import seaborn as sns\n",
    "import sys\n",
    "import os\n",
    "import gseapy as gp\n",
    "import matplotlib.pyplot as plt\n",
    "import swan_vis as swan\n",
    "import yaml\n",
    "from snakemake.io import expand\n",
    "import pyranges as pr\n",
    "\n",
    "p = os.path.dirname(os.path.dirname(os.getcwd()))\n",
    "sys.path.append(p)\n",
    "\n",
    "from proc_revisions.utils import *\n",
    "from proc_revisions.plotting import *"
   ]
  },
  {
   "cell_type": "code",
   "execution_count": 2,
   "id": "8061f009-a65d-4eb7-9f10-cc1d08507926",
   "metadata": {},
   "outputs": [],
   "source": [
    "od = '../../proc_revisions/'\n",
    "config_file = f'{od}/config.yml'\n",
    "with open(config_file) as f:\n",
    "    config = yaml.safe_load(f)"
   ]
  },
  {
   "cell_type": "code",
   "execution_count": 295,
   "id": "e6463772-b68e-40d6-a102-e57376376607",
   "metadata": {},
   "outputs": [],
   "source": [
    "species = 'human'\n",
    "ab = od+expand(config['lr']['talon']['fusion_fix']['ab'], species='human')[0]\n",
    "filt_ab = od+expand(config['lr']['cerberus']['filt_ab'], species=species)[0]\n",
    "gtf = od+expand(config['lr']['cerberus']['gtf'], species=species)[0]\n",
    "lib_meta = od+expand(config['lr']['meta'], species=species)[0]\n",
    "cerberus_h5 = od+expand(config['lr']['cerberus']['ca_triplets'], species=species, obs_col='sample')[0]\n",
    "swan_file = od+expand(config['lr']['swan']['sg'], species=species)[0]\n",
    "ref_gtf = od+expand(config['ref']['new_gtf'], species=species)[0]\n",
    "pp_summary = od+expand(config['lr']['protein_pred']['summary'], species='human')[0]\n",
    "gtf_file = od+expand(config['lr']['cerberus']['gtf'], species='human')[0]\n",
    "\n",
    "gtex_gtf_file = od+expand(config['gtex']['gtf'], species='human')[0]\n",
    "\n",
    "gene_subset = 'polya'\n",
    "min_tpm = 1\n",
    "\n",
    "species = 'mouse'\n",
    "m_filt_ab = od+expand(config['lr']['cerberus']['filt_ab'], species=species)[0]\n",
    "m_gtf = od+expand(config['lr']['cerberus']['gtf'], species=species)[0]\n",
    "m_lib_meta = od+expand(config['lr']['meta'], species=species)[0]\n",
    "m_cerberus_h5 = od+expand(config['lr']['cerberus']['ca_triplets'], species=species, obs_col='sample')[0]\n",
    "m_swan_file = od+expand(config['lr']['swan']['sg'], species=species)[0]\n",
    "m_ref_gtf = od+expand(config['ref']['new_gtf'], species=species)[0]\n"
   ]
  },
  {
   "cell_type": "markdown",
   "id": "21c5c972-ff0e-4f54-898a-2dbcd5f5da49",
   "metadata": {},
   "source": [
    "## How many novel genes do we find?"
   ]
  },
  {
   "cell_type": "code",
   "execution_count": 142,
   "id": "a28a5c24-fc3d-4d0e-8f2e-49b061445387",
   "metadata": {},
   "outputs": [
    {
     "name": "stdout",
     "output_type": "stream",
     "text": [
      "Calculating iso TPM values\n"
     ]
    },
    {
     "name": "stderr",
     "output_type": "stream",
     "text": [
      "/Users/fairliereese/Documents/programming/mortazavi_lab/data/paper_rnawg/proc_revisions/utils.py:2088: PerformanceWarning: DataFrame is highly fragmented.  This is usually the result of calling `frame.insert` many times, which has poor performance.  Consider joining all columns at once using pd.concat(axis=1) instead.  To get a de-fragmented frame, use `newframe = frame.copy()`\n",
      "  df[tpm_col] = (df[d]*1000000)/df[total_col]\n",
      "/Users/fairliereese/Documents/programming/mortazavi_lab/data/paper_rnawg/proc_revisions/utils.py:2087: PerformanceWarning: DataFrame is highly fragmented.  This is usually the result of calling `frame.insert` many times, which has poor performance.  Consider joining all columns at once using pd.concat(axis=1) instead.  To get a de-fragmented frame, use `newframe = frame.copy()`\n",
      "  df[total_col] = df[d].sum()\n"
     ]
    },
    {
     "name": "stdout",
     "output_type": "stream",
     "text": [
      "Enforcing minimum TPM\n",
      "Total # isos detected: 236615\n",
      "# isos >= 1 tpm: 213476\n",
      "Number of isos reported: 213476\n"
     ]
    }
   ],
   "source": [
    "# get expressed novel genes\n",
    "df = pd.read_csv(filt_ab, sep='\\t')\n",
    "df, _ = get_tpm_table(df, \n",
    "                      how='iso',\n",
    "                      min_tpm=1,\n",
    "                      gene_subset=None)"
   ]
  },
  {
   "cell_type": "code",
   "execution_count": 143,
   "id": "2576ff48-b86d-478c-bf2a-99b6927dc3df",
   "metadata": {},
   "outputs": [],
   "source": [
    "df.reset_index(inplace=True)\n",
    "df['gid'] = df.annot_transcript_id.str.split('[', expand=True)[0]\n",
    "df.head()\n",
    "df.reset_index(inplace=True)\n",
    "df.rename({'gid_stable':'gid'}, axis=1, inplace=True)\n",
    "ab_df = pd.read_csv(filt_ab, sep='\\t')\n",
    "ab_df['gid'] = ab_df.annot_transcript_id.str.split('[', expand=True)[0]\n",
    "ab_df = ab_df[['gid', 'gene_novelty']].drop_duplicates()\n",
    "ab_df.loc[ab_df.gid.duplicated(keep=False)].sort_values(by='gid')\n",
    "assert len(ab_df.loc[ab_df.gid.duplicated(keep=False)].index) == 0\n",
    "df = df.merge(ab_df, how='left', on='gid')\n",
    "df.loc[df.gene_novelty=='Fusion', 'gene_novelty'] = 'Readthrough'"
   ]
  },
  {
   "cell_type": "code",
   "execution_count": 144,
   "id": "20b8f269-3b47-4ddf-9c91-5afd0d0d5fbe",
   "metadata": {},
   "outputs": [],
   "source": [
    "def get_gene_nov_colors(cats=None):\n",
    "    c_dict = {'Known': '#009E73',\n",
    "              'Intergenic': '#f49da3',\n",
    "              'Fusion': '#8697bb',\n",
    "              'Readthrough': '#8697bb'}\n",
    "    order = ['Known', 'Fusion', 'Readthrough', 'Intergenic']\n",
    "\n",
    "    c_dict, order = rm_color_cats(c_dict, order, cats)\n",
    "    return c_dict, order"
   ]
  },
  {
   "cell_type": "code",
   "execution_count": 145,
   "id": "b96e712e-5614-4cfd-98bd-54e7bc276a65",
   "metadata": {},
   "outputs": [
    {
     "data": {
      "text/html": [
       "<div>\n",
       "<style scoped>\n",
       "    .dataframe tbody tr th:only-of-type {\n",
       "        vertical-align: middle;\n",
       "    }\n",
       "\n",
       "    .dataframe tbody tr th {\n",
       "        vertical-align: top;\n",
       "    }\n",
       "\n",
       "    .dataframe thead th {\n",
       "        text-align: right;\n",
       "    }\n",
       "</style>\n",
       "<table border=\"1\" class=\"dataframe\">\n",
       "  <thead>\n",
       "    <tr style=\"text-align: right;\">\n",
       "      <th></th>\n",
       "      <th>gene_novelty</th>\n",
       "      <th>n_gid</th>\n",
       "    </tr>\n",
       "  </thead>\n",
       "  <tbody>\n",
       "    <tr>\n",
       "      <th>0</th>\n",
       "      <td>Intergenic</td>\n",
       "      <td>68</td>\n",
       "    </tr>\n",
       "    <tr>\n",
       "      <th>1</th>\n",
       "      <td>Known</td>\n",
       "      <td>29386</td>\n",
       "    </tr>\n",
       "    <tr>\n",
       "      <th>2</th>\n",
       "      <td>Readthrough</td>\n",
       "      <td>79</td>\n",
       "    </tr>\n",
       "  </tbody>\n",
       "</table>\n",
       "</div>"
      ],
      "text/plain": [
       "  gene_novelty  n_gid\n",
       "0   Intergenic     68\n",
       "1        Known  29386\n",
       "2  Readthrough     79"
      ]
     },
     "execution_count": 145,
     "metadata": {},
     "output_type": "execute_result"
    }
   ],
   "source": [
    "temp = df[['gid', 'gene_novelty']].groupby('gene_novelty').nunique().reset_index().rename({'gid':'n_gid'}, axis=1)\n",
    "temp"
   ]
  },
  {
   "cell_type": "code",
   "execution_count": 146,
   "id": "7c883316-9696-46f4-941f-bb529d99cc4f",
   "metadata": {},
   "outputs": [
    {
     "data": {
      "text/plain": [
       "147"
      ]
     },
     "execution_count": 146,
     "metadata": {},
     "output_type": "execute_result"
    }
   ],
   "source": [
    "79+68"
   ]
  },
  {
   "cell_type": "code",
   "execution_count": 148,
   "id": "a87b45cb-68f7-40d6-9ab7-4faf3cdf1ff0",
   "metadata": {},
   "outputs": [
    {
     "data": {
      "image/png": "[encoded data removed]",
      "text/plain": [
       "<Figure size 216x288 with 1 Axes>"
      ]
     },
     "metadata": {
      "needs_background": "light"
     },
     "output_type": "display_data"
    }
   ],
   "source": [
    "# bar plot for novel genes / category\n",
    "c_dict, order = get_gene_nov_colors(cats=temp.gene_novelty.unique().tolist())\n",
    "sns.set_context('paper', font_scale=2)\n",
    "mpl.rcParams['font.family'] = 'Arial'\n",
    "mpl.rcParams['pdf.fonttype'] = 42\n",
    "plt.figure(figsize=(3,4))\n",
    "ax = sns.barplot(data=temp, y='n_gid', x='gene_novelty',\n",
    "                     palette=c_dict, order=order,\n",
    "                     saturation=1)\n",
    "ax.spines['right'].set_visible(False)\n",
    "ax.spines['top'].set_visible(False)\n",
    "ylabel = '# genes with\\n>= 1 transcript'\n",
    "xlabel = ''\n",
    "_ = ax.set(xlabel=xlabel, ylabel=ylabel)\n",
    "ax.tick_params(axis=\"x\", rotation=45)\n",
    "ax.set_yscale('log')\n",
    "\n",
    "fname = 'figures/human_gene_nov_bar.pdf'\n",
    "fname = 'figures/human_gene_nov_bar.png'\n",
    "\n",
    "plt.savefig(fname, dpi=500, bbox_inches='tight')"
   ]
  },
  {
   "cell_type": "markdown",
   "id": "1732f7fa-67e5-43b8-ae8f-6a7b9a640807",
   "metadata": {},
   "source": [
    "## Do transcripts from novel genes have complete ORFs?"
   ]
  },
  {
   "cell_type": "code",
   "execution_count": 130,
   "id": "b21b1449-409a-4abd-b7bf-e66ffb8300df",
   "metadata": {},
   "outputs": [
    {
     "name": "stdout",
     "output_type": "stream",
     "text": [
      "Calculating iso TPM values\n"
     ]
    },
    {
     "name": "stderr",
     "output_type": "stream",
     "text": [
      "/Users/fairliereese/Documents/programming/mortazavi_lab/data/paper_rnawg/proc_revisions/utils.py:2088: PerformanceWarning: DataFrame is highly fragmented.  This is usually the result of calling `frame.insert` many times, which has poor performance.  Consider joining all columns at once using pd.concat(axis=1) instead.  To get a de-fragmented frame, use `newframe = frame.copy()`\n",
      "  df[tpm_col] = (df[d]*1000000)/df[total_col]\n",
      "/Users/fairliereese/Documents/programming/mortazavi_lab/data/paper_rnawg/proc_revisions/utils.py:2087: PerformanceWarning: DataFrame is highly fragmented.  This is usually the result of calling `frame.insert` many times, which has poor performance.  Consider joining all columns at once using pd.concat(axis=1) instead.  To get a de-fragmented frame, use `newframe = frame.copy()`\n",
      "  df[total_col] = df[d].sum()\n"
     ]
    },
    {
     "name": "stdout",
     "output_type": "stream",
     "text": [
      "Enforcing minimum TPM\n",
      "Total # isos detected: 236615\n",
      "# isos >= 1 tpm: 213476\n",
      "Number of isos reported: 213476\n"
     ]
    }
   ],
   "source": [
    "# get expressed novel genes\n",
    "df = pd.read_csv(filt_ab, sep='\\t')\n",
    "df, _ = get_tpm_table(df, \n",
    "                      how='iso',\n",
    "                      min_tpm=1,\n",
    "                      gene_subset=None)"
   ]
  },
  {
   "cell_type": "code",
   "execution_count": 131,
   "id": "c25ecb9a-5bd5-4f92-bf6d-176704018652",
   "metadata": {},
   "outputs": [],
   "source": [
    "df.reset_index(inplace=True)\n",
    "df['gid'] = df.annot_transcript_id.str.split('[', expand=True)[0]\n",
    "df.head()\n",
    "df.reset_index(inplace=True)\n",
    "df.rename({'gid_stable':'gid'}, axis=1, inplace=True)\n",
    "ab_df = pd.read_csv(filt_ab, sep='\\t')\n",
    "ab_df['gid'] = ab_df.annot_transcript_id.str.split('[', expand=True)[0]\n",
    "ab_df = ab_df[['gid', 'gene_novelty']].drop_duplicates()\n",
    "ab_df.loc[ab_df.gid.duplicated(keep=False)].sort_values(by='gid')\n",
    "assert len(ab_df.loc[ab_df.gid.duplicated(keep=False)].index) == 0\n",
    "df = df.merge(ab_df, how='left', on='gid')\n",
    "df.loc[df.gene_novelty=='Fusion', 'gene_novelty'] = 'Readthrough'"
   ]
  },
  {
   "cell_type": "code",
   "execution_count": 132,
   "id": "5e491c0d-2b14-404e-ab14-b9abcded4897",
   "metadata": {},
   "outputs": [
    {
     "name": "stdout",
     "output_type": "stream",
     "text": [
      "297\n",
      "297\n"
     ]
    }
   ],
   "source": [
    "nov_df = df.loc[df.gene_novelty!='Known']\n",
    "nov_df.rename({'annot_transcript_id':'tid'}, axis=1, inplace=True)\n",
    "pp_df = pd.read_csv(pp_summary, sep='\\t')\n",
    "print(len(nov_df))\n",
    "nov_df = nov_df.merge(pp_df, how='left', on='tid')\n",
    "print(len(nov_df))\n",
    "\n",
    "nov_df['full_orf'] = nov_df['full_orf'].fillna(False)"
   ]
  },
  {
   "cell_type": "code",
   "execution_count": 133,
   "id": "07f76b00-c210-4a76-9cfc-ba4b4f890740",
   "metadata": {},
   "outputs": [
    {
     "data": {
      "text/html": [
       "<div>\n",
       "<style scoped>\n",
       "    .dataframe tbody tr th:only-of-type {\n",
       "        vertical-align: middle;\n",
       "    }\n",
       "\n",
       "    .dataframe tbody tr th {\n",
       "        vertical-align: top;\n",
       "    }\n",
       "\n",
       "    .dataframe thead th {\n",
       "        text-align: right;\n",
       "    }\n",
       "</style>\n",
       "<table border=\"1\" class=\"dataframe\">\n",
       "  <thead>\n",
       "    <tr style=\"text-align: right;\">\n",
       "      <th></th>\n",
       "      <th>full_orf</th>\n",
       "      <th>gene_novelty</th>\n",
       "      <th>n_tids</th>\n",
       "    </tr>\n",
       "  </thead>\n",
       "  <tbody>\n",
       "    <tr>\n",
       "      <th>0</th>\n",
       "      <td>False</td>\n",
       "      <td>Intergenic</td>\n",
       "      <td>111</td>\n",
       "    </tr>\n",
       "    <tr>\n",
       "      <th>1</th>\n",
       "      <td>False</td>\n",
       "      <td>Readthrough</td>\n",
       "      <td>64</td>\n",
       "    </tr>\n",
       "    <tr>\n",
       "      <th>2</th>\n",
       "      <td>True</td>\n",
       "      <td>Intergenic</td>\n",
       "      <td>2</td>\n",
       "    </tr>\n",
       "    <tr>\n",
       "      <th>3</th>\n",
       "      <td>True</td>\n",
       "      <td>Readthrough</td>\n",
       "      <td>120</td>\n",
       "    </tr>\n",
       "  </tbody>\n",
       "</table>\n",
       "</div>"
      ],
      "text/plain": [
       "   full_orf gene_novelty  n_tids\n",
       "0     False   Intergenic     111\n",
       "1     False  Readthrough      64\n",
       "2      True   Intergenic       2\n",
       "3      True  Readthrough     120"
      ]
     },
     "execution_count": 133,
     "metadata": {},
     "output_type": "execute_result"
    }
   ],
   "source": [
    "# how many transcripts expressed from novel genes have a complete ORF? \n",
    "temp = nov_df[['tid', 'full_orf', 'gene_novelty']].copy(deep=True)\n",
    "temp = temp.groupby(['full_orf', 'gene_novelty']).nunique().reset_index().rename({'tid':'n_tids'}, axis=1)\n",
    "temp"
   ]
  },
  {
   "cell_type": "code",
   "execution_count": 134,
   "id": "9d311561-6f84-49cb-9a8d-3ac2cf281da6",
   "metadata": {},
   "outputs": [
    {
     "data": {
      "text/html": [
       "<div>\n",
       "<style scoped>\n",
       "    .dataframe tbody tr th:only-of-type {\n",
       "        vertical-align: middle;\n",
       "    }\n",
       "\n",
       "    .dataframe tbody tr th {\n",
       "        vertical-align: top;\n",
       "    }\n",
       "\n",
       "    .dataframe thead th {\n",
       "        text-align: right;\n",
       "    }\n",
       "</style>\n",
       "<table border=\"1\" class=\"dataframe\">\n",
       "  <thead>\n",
       "    <tr style=\"text-align: right;\">\n",
       "      <th></th>\n",
       "      <th>nmd</th>\n",
       "      <th>gene_novelty</th>\n",
       "      <th>n_tids</th>\n",
       "    </tr>\n",
       "  </thead>\n",
       "  <tbody>\n",
       "    <tr>\n",
       "      <th>0</th>\n",
       "      <td>False</td>\n",
       "      <td>Intergenic</td>\n",
       "      <td>2</td>\n",
       "    </tr>\n",
       "    <tr>\n",
       "      <th>1</th>\n",
       "      <td>False</td>\n",
       "      <td>Readthrough</td>\n",
       "      <td>101</td>\n",
       "    </tr>\n",
       "    <tr>\n",
       "      <th>2</th>\n",
       "      <td>True</td>\n",
       "      <td>Readthrough</td>\n",
       "      <td>19</td>\n",
       "    </tr>\n",
       "  </tbody>\n",
       "</table>\n",
       "</div>"
      ],
      "text/plain": [
       "     nmd gene_novelty  n_tids\n",
       "0  False   Intergenic       2\n",
       "1  False  Readthrough     101\n",
       "2   True  Readthrough      19"
      ]
     },
     "execution_count": 134,
     "metadata": {},
     "output_type": "execute_result"
    }
   ],
   "source": [
    "# how many transcripts expressed from novel genes have a complete ORF and no NMD?\n",
    "temp = nov_df[['tid', 'full_orf', 'nmd', 'gene_novelty']].copy(deep=True)\n",
    "temp = temp.loc[temp.full_orf==True]\n",
    "temp.drop('full_orf', axis=1, inplace=True)\n",
    "temp = temp.groupby(['nmd', 'gene_novelty']).nunique().reset_index().rename({'tid':'n_tids'}, axis=1)\n",
    "temp"
   ]
  },
  {
   "cell_type": "code",
   "execution_count": 135,
   "id": "8ccfb8c6-bf34-4654-abc3-63d4326ae290",
   "metadata": {},
   "outputs": [],
   "source": [
    "nov_df['gid'] = nov_df.tid.str.split('[', expand=True)[0]"
   ]
  },
  {
   "cell_type": "code",
   "execution_count": 136,
   "id": "547477a3-60cb-49f9-b9de-5902507fa529",
   "metadata": {},
   "outputs": [
    {
     "data": {
      "text/html": [
       "<div>\n",
       "<style scoped>\n",
       "    .dataframe tbody tr th:only-of-type {\n",
       "        vertical-align: middle;\n",
       "    }\n",
       "\n",
       "    .dataframe tbody tr th {\n",
       "        vertical-align: top;\n",
       "    }\n",
       "\n",
       "    .dataframe thead th {\n",
       "        text-align: right;\n",
       "    }\n",
       "</style>\n",
       "<table border=\"1\" class=\"dataframe\">\n",
       "  <thead>\n",
       "    <tr style=\"text-align: right;\">\n",
       "      <th></th>\n",
       "      <th>full_orf</th>\n",
       "      <th>gene_novelty</th>\n",
       "      <th>n_gids</th>\n",
       "      <th>n_total_gid</th>\n",
       "      <th>perc</th>\n",
       "      <th>status</th>\n",
       "    </tr>\n",
       "  </thead>\n",
       "  <tbody>\n",
       "    <tr>\n",
       "      <th>2</th>\n",
       "      <td>True</td>\n",
       "      <td>Intergenic</td>\n",
       "      <td>2</td>\n",
       "      <td>68</td>\n",
       "      <td>2.941176</td>\n",
       "      <td>full_orf</td>\n",
       "    </tr>\n",
       "    <tr>\n",
       "      <th>3</th>\n",
       "      <td>True</td>\n",
       "      <td>Readthrough</td>\n",
       "      <td>63</td>\n",
       "      <td>79</td>\n",
       "      <td>79.746835</td>\n",
       "      <td>full_orf</td>\n",
       "    </tr>\n",
       "  </tbody>\n",
       "</table>\n",
       "</div>"
      ],
      "text/plain": [
       "   full_orf gene_novelty  n_gids  n_total_gid       perc    status\n",
       "2      True   Intergenic       2           68   2.941176  full_orf\n",
       "3      True  Readthrough      63           79  79.746835  full_orf"
      ]
     },
     "execution_count": 136,
     "metadata": {},
     "output_type": "execute_result"
    }
   ],
   "source": [
    "# how many novel genes have at least one transcript w/ a full ORF?\n",
    "temp = nov_df[['gid', 'full_orf', 'gene_novelty']].copy(deep=True)\n",
    "temp = temp.groupby(['gid', 'full_orf', 'gene_novelty']).max().reset_index()\n",
    "temp = temp.groupby(['full_orf', 'gene_novelty']).nunique().reset_index().rename({'gid':'n_gids'}, axis=1)\n",
    "temp2 = nov_df[['gid', 'gene_novelty']].groupby('gene_novelty').nunique().reset_index().rename({'gid':'n_total_gid'}, axis=1)\n",
    "temp = temp.merge(temp2, how='left', on='gene_novelty')\n",
    "temp['perc'] = (temp.n_gids/temp.n_total_gid)*100\n",
    "\n",
    "temp3 = temp.copy(deep=True)\n",
    "temp3 = temp3.loc[temp3.full_orf==True]\n",
    "temp3['status'] = 'full_orf'\n",
    "temp3\n"
   ]
  },
  {
   "cell_type": "code",
   "execution_count": 137,
   "id": "992e50bf-f206-4900-8d1e-ffbfb8832216",
   "metadata": {},
   "outputs": [
    {
     "data": {
      "text/html": [
       "<div>\n",
       "<style scoped>\n",
       "    .dataframe tbody tr th:only-of-type {\n",
       "        vertical-align: middle;\n",
       "    }\n",
       "\n",
       "    .dataframe tbody tr th {\n",
       "        vertical-align: top;\n",
       "    }\n",
       "\n",
       "    .dataframe thead th {\n",
       "        text-align: right;\n",
       "    }\n",
       "</style>\n",
       "<table border=\"1\" class=\"dataframe\">\n",
       "  <thead>\n",
       "    <tr style=\"text-align: right;\">\n",
       "      <th></th>\n",
       "      <th>nmd</th>\n",
       "      <th>gene_novelty</th>\n",
       "      <th>n_gids</th>\n",
       "      <th>n_total_gid</th>\n",
       "      <th>perc</th>\n",
       "      <th>status</th>\n",
       "    </tr>\n",
       "  </thead>\n",
       "  <tbody>\n",
       "    <tr>\n",
       "      <th>0</th>\n",
       "      <td>False</td>\n",
       "      <td>Intergenic</td>\n",
       "      <td>2</td>\n",
       "      <td>68</td>\n",
       "      <td>2.941176</td>\n",
       "      <td>full_orf_no_nmd</td>\n",
       "    </tr>\n",
       "    <tr>\n",
       "      <th>1</th>\n",
       "      <td>False</td>\n",
       "      <td>Readthrough</td>\n",
       "      <td>52</td>\n",
       "      <td>79</td>\n",
       "      <td>65.822785</td>\n",
       "      <td>full_orf_no_nmd</td>\n",
       "    </tr>\n",
       "    <tr>\n",
       "      <th>2</th>\n",
       "      <td>True</td>\n",
       "      <td>Readthrough</td>\n",
       "      <td>12</td>\n",
       "      <td>79</td>\n",
       "      <td>15.189873</td>\n",
       "      <td>full_orf_no_nmd</td>\n",
       "    </tr>\n",
       "  </tbody>\n",
       "</table>\n",
       "</div>"
      ],
      "text/plain": [
       "     nmd gene_novelty  n_gids  n_total_gid       perc           status\n",
       "0  False   Intergenic       2           68   2.941176  full_orf_no_nmd\n",
       "1  False  Readthrough      52           79  65.822785  full_orf_no_nmd\n",
       "2   True  Readthrough      12           79  15.189873  full_orf_no_nmd"
      ]
     },
     "execution_count": 137,
     "metadata": {},
     "output_type": "execute_result"
    }
   ],
   "source": [
    "# how many novel genes have at least one transcript w/ a full ORF and no NMD?\n",
    "temp = nov_df[['gid', 'nmd', 'full_orf', 'gene_novelty']].copy(deep=True)\n",
    "temp = temp.loc[temp.full_orf==True]\n",
    "temp.drop('full_orf', axis=1, inplace=True)\n",
    "temp = temp.groupby(['gid', 'nmd', 'gene_novelty']).max().reset_index()\n",
    "temp = temp.groupby(['nmd', 'gene_novelty']).nunique().reset_index().rename({'gid':'n_gids'}, axis=1)\n",
    "temp2 = nov_df[['gid', 'gene_novelty']].groupby('gene_novelty').nunique().reset_index().rename({'gid':'n_total_gid'}, axis=1)\n",
    "temp = temp.merge(temp2, how='left', on='gene_novelty')\n",
    "temp['perc'] = (temp.n_gids/temp.n_total_gid)*100\n",
    "temp['status'] = 'full_orf_no_nmd'\n",
    "temp"
   ]
  },
  {
   "cell_type": "code",
   "execution_count": 138,
   "id": "8e06bcb4-7b54-49fe-9bbb-b8a07ae56ecd",
   "metadata": {},
   "outputs": [
    {
     "name": "stdout",
     "output_type": "stream",
     "text": [
      "2\n",
      "0\n",
      "0\n"
     ]
    }
   ],
   "source": [
    "print(len(nov_df.loc[(nov_df.full_orf==True)&(nov_df.nmd==False)&(nov_df.gene_novelty=='Intergenic')].gid.unique()))\n",
    "print(len(nov_df.loc[(nov_df.full_orf==True)&(nov_df.nmd==False)&(nov_df.gene_novelty=='Fusion')].gid.unique()))\n",
    "print(len(nov_df.loc[(nov_df.full_orf==True)&(nov_df.nmd==True)&(nov_df.gene_novelty=='Fusion')].gid.unique()))"
   ]
  },
  {
   "cell_type": "code",
   "execution_count": 139,
   "id": "9ceaffa0-9d84-468a-888e-d645c55c3c47",
   "metadata": {},
   "outputs": [
    {
     "data": {
      "text/html": [
       "<div>\n",
       "<style scoped>\n",
       "    .dataframe tbody tr th:only-of-type {\n",
       "        vertical-align: middle;\n",
       "    }\n",
       "\n",
       "    .dataframe tbody tr th {\n",
       "        vertical-align: top;\n",
       "    }\n",
       "\n",
       "    .dataframe thead th {\n",
       "        text-align: right;\n",
       "    }\n",
       "</style>\n",
       "<table border=\"1\" class=\"dataframe\">\n",
       "  <thead>\n",
       "    <tr style=\"text-align: right;\">\n",
       "      <th></th>\n",
       "      <th>nmd</th>\n",
       "      <th>gene_novelty</th>\n",
       "      <th>n_gids</th>\n",
       "      <th>n_total_gid</th>\n",
       "      <th>perc</th>\n",
       "      <th>status</th>\n",
       "      <th>full_orf</th>\n",
       "    </tr>\n",
       "  </thead>\n",
       "  <tbody>\n",
       "    <tr>\n",
       "      <th>0</th>\n",
       "      <td>False</td>\n",
       "      <td>Fusion</td>\n",
       "      <td>52</td>\n",
       "      <td>79</td>\n",
       "      <td>65.822785</td>\n",
       "      <td>full_orf_no_nmd</td>\n",
       "      <td>NaN</td>\n",
       "    </tr>\n",
       "    <tr>\n",
       "      <th>1</th>\n",
       "      <td>False</td>\n",
       "      <td>Intergenic</td>\n",
       "      <td>2</td>\n",
       "      <td>68</td>\n",
       "      <td>2.941176</td>\n",
       "      <td>full_orf_no_nmd</td>\n",
       "      <td>NaN</td>\n",
       "    </tr>\n",
       "    <tr>\n",
       "      <th>2</th>\n",
       "      <td>NaN</td>\n",
       "      <td>Fusion</td>\n",
       "      <td>63</td>\n",
       "      <td>79</td>\n",
       "      <td>79.746835</td>\n",
       "      <td>full_orf</td>\n",
       "      <td>True</td>\n",
       "    </tr>\n",
       "    <tr>\n",
       "      <th>3</th>\n",
       "      <td>NaN</td>\n",
       "      <td>Intergenic</td>\n",
       "      <td>2</td>\n",
       "      <td>68</td>\n",
       "      <td>2.941176</td>\n",
       "      <td>full_orf</td>\n",
       "      <td>True</td>\n",
       "    </tr>\n",
       "  </tbody>\n",
       "</table>\n",
       "</div>"
      ],
      "text/plain": [
       "     nmd gene_novelty  n_gids  n_total_gid       perc           status  \\\n",
       "0  False       Fusion      52           79  65.822785  full_orf_no_nmd   \n",
       "1  False   Intergenic       2           68   2.941176  full_orf_no_nmd   \n",
       "2    NaN       Fusion      63           79  79.746835         full_orf   \n",
       "3    NaN   Intergenic       2           68   2.941176         full_orf   \n",
       "\n",
       "  full_orf  \n",
       "0      NaN  \n",
       "1      NaN  \n",
       "2     True  \n",
       "3     True  "
      ]
     },
     "execution_count": 139,
     "metadata": {},
     "output_type": "execute_result"
    }
   ],
   "source": [
    "temp4"
   ]
  },
  {
   "cell_type": "code",
   "execution_count": 140,
   "id": "4f2e7031-943c-41c6-8d49-1477ff1a196c",
   "metadata": {},
   "outputs": [
    {
     "data": {
      "image/png": "[encoded data removed]",
      "text/plain": [
       "<Figure size 216x288 with 1 Axes>"
      ]
     },
     "metadata": {
      "needs_background": "light"
     },
     "output_type": "display_data"
    }
   ],
   "source": [
    "temp3_5 = temp.loc[temp.nmd==False].copy(deep=True)\n",
    "temp4 = pd.concat([temp3_5, temp3], axis=0)\n",
    "\n",
    "status_order = ['full_orf', 'full_orf_no_nmd']\n",
    "temp4['status'] = temp4['status'].astype(str).astype('category')\n",
    "temp4['status'] = temp4['status'].cat.reorder_categories(status_order, ordered=True)\n",
    "\n",
    "c_dict, order = get_gene_nov_colors(temp4.gene_novelty.unique().tolist())\n",
    "temp4['gene_novelty'] = temp4['gene_novelty'].astype(str).astype('category')\n",
    "temp4['gene_novelty'] = temp4['gene_novelty'].cat.reorder_categories(order, ordered=True)\n",
    "\n",
    "plt.figure(figsize=(3,4))\n",
    "ax = sns.barplot(temp4, y='perc', x='gene_novelty', hue='status')\n",
    "for bar_group, cat in zip(ax.containers, order):\n",
    "        for bar, cat2 in zip(bar_group, order):\n",
    "            c = c_dict[cat2]\n",
    "            c_dict_2, order_2 = get_shade_colors(c, order)\n",
    "            bar.set_facecolor(c_dict_2[cat])\n",
    "\n",
    "ax.spines['right'].set_visible(False)\n",
    "ax.spines['top'].set_visible(False)\n",
    "ylabel = '% of novel genes\\nby ORF status'\n",
    "xlabel = ''\n",
    "_ = ax.set(xlabel=xlabel, ylabel=ylabel)\n",
    "ax.tick_params(axis=\"x\", rotation=45)\n",
    "\n",
    "fname = 'figures/human_gene_nov_orf_bar.pdf'\n",
    "# fname = 'figures/human_gene_nov_bar.png'\n",
    "\n",
    "plt.savefig(fname, dpi=500, bbox_inches='tight')"
   ]
  },
  {
   "cell_type": "markdown",
   "id": "6d79cc94-3b65-4379-a492-7423556b6ba3",
   "metadata": {},
   "source": [
    "## What do expression profiles of novel genes vs. known genes look like?"
   ]
  },
  {
   "cell_type": "code",
   "execution_count": 178,
   "id": "7d75f8f0-b706-4083-a693-1980f26b0a36",
   "metadata": {},
   "outputs": [
    {
     "name": "stdout",
     "output_type": "stream",
     "text": [
      "Calculating iso TPM values\n"
     ]
    },
    {
     "name": "stderr",
     "output_type": "stream",
     "text": [
      "/Users/fairliereese/Documents/programming/mortazavi_lab/data/paper_rnawg/proc_revisions/utils.py:2088: PerformanceWarning: DataFrame is highly fragmented.  This is usually the result of calling `frame.insert` many times, which has poor performance.  Consider joining all columns at once using pd.concat(axis=1) instead.  To get a de-fragmented frame, use `newframe = frame.copy()`\n",
      "  df[tpm_col] = (df[d]*1000000)/df[total_col]\n",
      "/Users/fairliereese/Documents/programming/mortazavi_lab/data/paper_rnawg/proc_revisions/utils.py:2087: PerformanceWarning: DataFrame is highly fragmented.  This is usually the result of calling `frame.insert` many times, which has poor performance.  Consider joining all columns at once using pd.concat(axis=1) instead.  To get a de-fragmented frame, use `newframe = frame.copy()`\n",
      "  df[total_col] = df[d].sum()\n"
     ]
    },
    {
     "name": "stdout",
     "output_type": "stream",
     "text": [
      "Enforcing minimum TPM\n",
      "Total # isos detected: 236615\n",
      "# isos >= 1 tpm: 213476\n",
      "Number of isos reported: 213476\n"
     ]
    }
   ],
   "source": [
    "# get expressed novel genes\n",
    "df = pd.read_csv(filt_ab, sep='\\t')\n",
    "df, _ = get_tpm_table(df, \n",
    "                      how='iso',\n",
    "                      min_tpm=1,\n",
    "                      gene_subset=None)"
   ]
  },
  {
   "cell_type": "code",
   "execution_count": 179,
   "id": "7c0c60f9-dfd4-4b95-afc9-830a93812def",
   "metadata": {},
   "outputs": [
    {
     "data": {
      "text/html": [
       "<div>\n",
       "<style scoped>\n",
       "    .dataframe tbody tr th:only-of-type {\n",
       "        vertical-align: middle;\n",
       "    }\n",
       "\n",
       "    .dataframe tbody tr th {\n",
       "        vertical-align: top;\n",
       "    }\n",
       "\n",
       "    .dataframe thead th {\n",
       "        text-align: right;\n",
       "    }\n",
       "</style>\n",
       "<table border=\"1\" class=\"dataframe\">\n",
       "  <thead>\n",
       "    <tr style=\"text-align: right;\">\n",
       "      <th></th>\n",
       "      <th>gid</th>\n",
       "      <th>gene_novelty</th>\n",
       "      <th>max_tpm</th>\n",
       "      <th>gid_stable</th>\n",
       "      <th>biotype_category</th>\n",
       "    </tr>\n",
       "  </thead>\n",
       "  <tbody>\n",
       "    <tr>\n",
       "      <th>0</th>\n",
       "      <td>ENSG00000000003</td>\n",
       "      <td>Known</td>\n",
       "      <td>1232.992404</td>\n",
       "      <td>ENSG00000000003</td>\n",
       "      <td>protein_coding</td>\n",
       "    </tr>\n",
       "    <tr>\n",
       "      <th>1</th>\n",
       "      <td>ENSG00000000005</td>\n",
       "      <td>Known</td>\n",
       "      <td>4.925437</td>\n",
       "      <td>ENSG00000000005</td>\n",
       "      <td>protein_coding</td>\n",
       "    </tr>\n",
       "    <tr>\n",
       "      <th>2</th>\n",
       "      <td>ENSG00000000419</td>\n",
       "      <td>Known</td>\n",
       "      <td>229.887061</td>\n",
       "      <td>ENSG00000000419</td>\n",
       "      <td>protein_coding</td>\n",
       "    </tr>\n",
       "    <tr>\n",
       "      <th>3</th>\n",
       "      <td>ENSG00000000457</td>\n",
       "      <td>Known</td>\n",
       "      <td>32.773319</td>\n",
       "      <td>ENSG00000000457</td>\n",
       "      <td>protein_coding</td>\n",
       "    </tr>\n",
       "    <tr>\n",
       "      <th>4</th>\n",
       "      <td>ENSG00000000460</td>\n",
       "      <td>Known</td>\n",
       "      <td>105.361669</td>\n",
       "      <td>ENSG00000000460</td>\n",
       "      <td>protein_coding</td>\n",
       "    </tr>\n",
       "  </tbody>\n",
       "</table>\n",
       "</div>"
      ],
      "text/plain": [
       "               gid gene_novelty      max_tpm       gid_stable biotype_category\n",
       "0  ENSG00000000003        Known  1232.992404  ENSG00000000003   protein_coding\n",
       "1  ENSG00000000005        Known     4.925437  ENSG00000000005   protein_coding\n",
       "2  ENSG00000000419        Known   229.887061  ENSG00000000419   protein_coding\n",
       "3  ENSG00000000457        Known    32.773319  ENSG00000000457   protein_coding\n",
       "4  ENSG00000000460        Known   105.361669  ENSG00000000460   protein_coding"
      ]
     },
     "execution_count": 179,
     "metadata": {},
     "output_type": "execute_result"
    }
   ],
   "source": [
    "df.reset_index(inplace=True)\n",
    "df['gid'] = df.annot_transcript_id.str.split('[', expand=True)[0]\n",
    "df.head()\n",
    "df.reset_index(inplace=True)\n",
    "df.rename({'gid_stable':'gid'}, axis=1, inplace=True)\n",
    "ab_df = pd.read_csv(filt_ab, sep='\\t')\n",
    "ab_df['gid'] = ab_df.annot_transcript_id.str.split('[', expand=True)[0]\n",
    "ab_df = ab_df[['gid', 'gene_novelty']].drop_duplicates()\n",
    "ab_df.loc[ab_df.gid.duplicated(keep=False)].sort_values(by='gid')\n",
    "assert len(ab_df.loc[ab_df.gid.duplicated(keep=False)].index) == 0\n",
    "df = df.merge(ab_df, how='left', on='gid')\n",
    "df.loc[df.gene_novelty=='Fusion', 'gene_novelty'] = 'Readthrough'\n",
    "\n",
    "# sum up expression across gids\n",
    "df.drop('annot_transcript_id', axis=1, inplace=True)\n",
    "df = df.groupby(['gid', 'gene_novelty']).sum().reset_index()\n",
    "df.drop('index', axis=1, inplace=True)\n",
    "\n",
    "# get max tpm / gene\n",
    "datasets = get_datasets('human')\n",
    "df['max_tpm'] = df[datasets].max(axis=1)\n",
    "df.drop(datasets, axis=1, inplace=True)\n",
    "\n",
    "# add biotypes\n",
    "gtf_df, _, _ = get_gtf_info(ver='v40_cerberus', how='gene')\n",
    "gtf_df['gid_stable'] = cerberus.get_stable_gid(gtf_df, col='gid')\n",
    "gtf_df = gtf_df[['gid_stable', 'biotype_category']]\n",
    "df = df.merge(gtf_df, how='left', left_on='gid', right_on='gid_stable')\n",
    "df.head()"
   ]
  },
  {
   "cell_type": "code",
   "execution_count": 180,
   "id": "2865709e-e390-4756-9d04-9855e2e94dc1",
   "metadata": {},
   "outputs": [],
   "source": [
    "polya_cats = ['protein_coding', 'lncRNA', 'pseudogene']\n",
    "df = df.loc[(df.biotype_category.isin(polya_cats))|(df.gene_novelty!='Known')]\n",
    "df['gene_status'] = df['gene_novelty']\n",
    "df.loc[df.gene_novelty=='Known', 'gene_status'] = df.loc[df.gene_novelty=='Known', 'biotype_category']\n",
    "df['log2_max_tpm'] = np.log2(df.max_tpm)"
   ]
  },
  {
   "cell_type": "code",
   "execution_count": 181,
   "id": "5c34bb40-d1b0-431c-a7e3-f7b1ed4b48b6",
   "metadata": {},
   "outputs": [
    {
     "data": {
      "text/plain": [
       "array(['protein_coding', 'pseudogene', 'lncRNA', 'Intergenic',\n",
       "       'Readthrough'], dtype=object)"
      ]
     },
     "execution_count": 181,
     "metadata": {},
     "output_type": "execute_result"
    }
   ],
   "source": [
    "df.gene_status.unique()"
   ]
  },
  {
   "cell_type": "code",
   "execution_count": 199,
   "id": "1c8a2b28-b688-4cc1-a9ea-a3465190ef9f",
   "metadata": {},
   "outputs": [
    {
     "data": {
      "image/png": "[encoded data removed]",
      "text/plain": [
       "<Figure size 432x288 with 1 Axes>"
      ]
     },
     "metadata": {
      "needs_background": "light"
     },
     "output_type": "display_data"
    }
   ],
   "source": [
    "# violin\n",
    "mpl.rcParams['font.family'] = 'Arial'\n",
    "mpl.rcParams['pdf.fonttype'] = 42\n",
    "sns.set_context('paper', font_scale=2)\n",
    "\n",
    "ic_colors, _ = get_ic_nov_colors()\n",
    "c = ic_colors['Known']\n",
    "m = {'protein_coding': 'Protein coding',\n",
    "     'lncRNA': 'lncRNA', 'pseudogene': 'Pseudogene', 'Readthrough':'Readthrough',\n",
    "     'Intergenic': 'Intergenic'}\n",
    "df['gene_status_hr'] = df.gene_status.map(m)\n",
    "cats = ['Protein coding', 'lncRNA', 'Pseudogene']\n",
    "c_dict, order = get_shade_colors(c, cats)\n",
    "c_dict_2, order_2 = get_gene_nov_colors()\n",
    "c_dict['Readthrough'] = c_dict_2['Readthrough']\n",
    "c_dict['Intergenic'] = c_dict_2['Intergenic']\n",
    "\n",
    "order = ['Protein coding', 'lncRNA', 'Pseudogene', 'Readthrough', 'Intergenic']\n",
    "labels = ['Protein\\ncoding', 'lncRNA', 'Pseudogene', 'Readthrough', 'Intergenic', ]\n",
    "\n",
    "ax = sns.violinplot(df, x='gene_status_hr', y='log2_max_tpm',\n",
    "                 order=order, palette=c_dict, alpha=1)\n",
    "ax.set(ylabel='Max. log2(gene TPM)\\nacross libraries', xlabel='')\n",
    "# ax.legend.remove()\n",
    "# ax.get_legend().set_visible(False)\n",
    "ax.spines['right'].set_visible(False)\n",
    "ax.spines['top'].set_visible(False)\n",
    "ax.tick_params(axis=\"x\", rotation=45)\n",
    "ax.set_xticklabels(labels)\n",
    "\n",
    "fname = 'figures/max_gene_expression_by_gene_status.pdf'\n",
    "plt.savefig(fname, dpi=500)"
   ]
  },
  {
   "cell_type": "code",
   "execution_count": 200,
   "id": "b6ffdae0-f9b8-40c5-9f11-2626d8a4785c",
   "metadata": {},
   "outputs": [
    {
     "data": {
      "text/html": [
       "<div>\n",
       "<style scoped>\n",
       "    .dataframe tbody tr th:only-of-type {\n",
       "        vertical-align: middle;\n",
       "    }\n",
       "\n",
       "    .dataframe tbody tr th {\n",
       "        vertical-align: top;\n",
       "    }\n",
       "\n",
       "    .dataframe thead th {\n",
       "        text-align: right;\n",
       "    }\n",
       "</style>\n",
       "<table border=\"1\" class=\"dataframe\">\n",
       "  <thead>\n",
       "    <tr style=\"text-align: right;\">\n",
       "      <th></th>\n",
       "      <th>log2_max_tpm</th>\n",
       "    </tr>\n",
       "    <tr>\n",
       "      <th>gene_status</th>\n",
       "      <th></th>\n",
       "    </tr>\n",
       "  </thead>\n",
       "  <tbody>\n",
       "    <tr>\n",
       "      <th>Intergenic</th>\n",
       "      <td>3.842002</td>\n",
       "    </tr>\n",
       "    <tr>\n",
       "      <th>Readthrough</th>\n",
       "      <td>3.136414</td>\n",
       "    </tr>\n",
       "    <tr>\n",
       "      <th>lncRNA</th>\n",
       "      <td>2.092549</td>\n",
       "    </tr>\n",
       "    <tr>\n",
       "      <th>protein_coding</th>\n",
       "      <td>6.755006</td>\n",
       "    </tr>\n",
       "    <tr>\n",
       "      <th>pseudogene</th>\n",
       "      <td>1.180744</td>\n",
       "    </tr>\n",
       "  </tbody>\n",
       "</table>\n",
       "</div>"
      ],
      "text/plain": [
       "                log2_max_tpm\n",
       "gene_status                 \n",
       "Intergenic          3.842002\n",
       "Readthrough         3.136414\n",
       "lncRNA              2.092549\n",
       "protein_coding      6.755006\n",
       "pseudogene          1.180744"
      ]
     },
     "execution_count": 200,
     "metadata": {},
     "output_type": "execute_result"
    }
   ],
   "source": [
    "df[['gene_status', 'log2_max_tpm']].groupby('gene_status').median()"
   ]
  },
  {
   "cell_type": "markdown",
   "id": "8e885a02-8854-4ad2-8b57-696f5e1149ba",
   "metadata": {},
   "source": [
    "## What does transcriptional diversity look like for known and novel readthrough guys?"
   ]
  },
  {
   "cell_type": "code",
   "execution_count": 214,
   "id": "2b7306ab-ba9b-42a6-a128-2c9157ca353c",
   "metadata": {},
   "outputs": [
    {
     "name": "stdout",
     "output_type": "stream",
     "text": [
      "Calculating iso TPM values\n"
     ]
    },
    {
     "name": "stderr",
     "output_type": "stream",
     "text": [
      "/Users/fairliereese/Documents/programming/mortazavi_lab/data/paper_rnawg/proc_revisions/utils.py:2088: PerformanceWarning: DataFrame is highly fragmented.  This is usually the result of calling `frame.insert` many times, which has poor performance.  Consider joining all columns at once using pd.concat(axis=1) instead.  To get a de-fragmented frame, use `newframe = frame.copy()`\n",
      "  df[tpm_col] = (df[d]*1000000)/df[total_col]\n",
      "/Users/fairliereese/Documents/programming/mortazavi_lab/data/paper_rnawg/proc_revisions/utils.py:2087: PerformanceWarning: DataFrame is highly fragmented.  This is usually the result of calling `frame.insert` many times, which has poor performance.  Consider joining all columns at once using pd.concat(axis=1) instead.  To get a de-fragmented frame, use `newframe = frame.copy()`\n",
      "  df[total_col] = df[d].sum()\n"
     ]
    },
    {
     "name": "stdout",
     "output_type": "stream",
     "text": [
      "Enforcing minimum TPM\n",
      "Total # isos detected: 236615\n",
      "# isos >= 1 tpm: 213476\n",
      "Number of isos reported: 213476\n"
     ]
    },
    {
     "data": {
      "text/html": [
       "<div>\n",
       "<style scoped>\n",
       "    .dataframe tbody tr th:only-of-type {\n",
       "        vertical-align: middle;\n",
       "    }\n",
       "\n",
       "    .dataframe tbody tr th {\n",
       "        vertical-align: top;\n",
       "    }\n",
       "\n",
       "    .dataframe thead th {\n",
       "        text-align: right;\n",
       "    }\n",
       "</style>\n",
       "<table border=\"1\" class=\"dataframe\">\n",
       "  <thead>\n",
       "    <tr style=\"text-align: right;\">\n",
       "      <th></th>\n",
       "      <th>index</th>\n",
       "      <th>annot_transcript_id</th>\n",
       "      <th>hffc6_1_2</th>\n",
       "      <th>mucosa_of_descending_colon_1_1</th>\n",
       "      <th>hl60_m1_12hr_1_2</th>\n",
       "      <th>ovary_3_1</th>\n",
       "      <th>hct116_1_1</th>\n",
       "      <th>hl60_m2_24hr_1_2</th>\n",
       "      <th>calu3_1_1</th>\n",
       "      <th>caco2_1_2</th>\n",
       "      <th>...</th>\n",
       "      <th>h1_1_3</th>\n",
       "      <th>ocily7_1_2</th>\n",
       "      <th>heart_left_ventricle_4_1</th>\n",
       "      <th>h9_chondro_1_1</th>\n",
       "      <th>pgp1_1_1</th>\n",
       "      <th>lower_lobe_of_right_lung_1_1</th>\n",
       "      <th>a673_1_2</th>\n",
       "      <th>hepg2_1_1</th>\n",
       "      <th>gid</th>\n",
       "      <th>gene_novelty</th>\n",
       "    </tr>\n",
       "  </thead>\n",
       "  <tbody>\n",
       "    <tr>\n",
       "      <th>0</th>\n",
       "      <td>0</td>\n",
       "      <td>ENSG00000000003[1,1,1]</td>\n",
       "      <td>0.000000</td>\n",
       "      <td>0.000000</td>\n",
       "      <td>0.0</td>\n",
       "      <td>0.000000</td>\n",
       "      <td>1.078233</td>\n",
       "      <td>0.0</td>\n",
       "      <td>1.868680</td>\n",
       "      <td>10.064443</td>\n",
       "      <td>...</td>\n",
       "      <td>9.228966</td>\n",
       "      <td>0.0</td>\n",
       "      <td>0.000000</td>\n",
       "      <td>0.837785</td>\n",
       "      <td>0.000000</td>\n",
       "      <td>1.169899</td>\n",
       "      <td>2.510343</td>\n",
       "      <td>3.089794</td>\n",
       "      <td>ENSG00000000003</td>\n",
       "      <td>Known</td>\n",
       "    </tr>\n",
       "    <tr>\n",
       "      <th>1</th>\n",
       "      <td>1</td>\n",
       "      <td>ENSG00000000003[1,1,5]</td>\n",
       "      <td>9.581481</td>\n",
       "      <td>68.713567</td>\n",
       "      <td>0.0</td>\n",
       "      <td>20.443209</td>\n",
       "      <td>8.625867</td>\n",
       "      <td>0.0</td>\n",
       "      <td>36.439267</td>\n",
       "      <td>84.541318</td>\n",
       "      <td>...</td>\n",
       "      <td>24.226036</td>\n",
       "      <td>0.0</td>\n",
       "      <td>4.362171</td>\n",
       "      <td>5.864493</td>\n",
       "      <td>25.636599</td>\n",
       "      <td>5.849493</td>\n",
       "      <td>33.471235</td>\n",
       "      <td>43.257112</td>\n",
       "      <td>ENSG00000000003</td>\n",
       "      <td>Known</td>\n",
       "    </tr>\n",
       "    <tr>\n",
       "      <th>2</th>\n",
       "      <td>2</td>\n",
       "      <td>ENSG00000000003[1,1,6]</td>\n",
       "      <td>1.596913</td>\n",
       "      <td>1.908710</td>\n",
       "      <td>0.0</td>\n",
       "      <td>0.000000</td>\n",
       "      <td>3.234700</td>\n",
       "      <td>0.0</td>\n",
       "      <td>1.868680</td>\n",
       "      <td>8.051554</td>\n",
       "      <td>...</td>\n",
       "      <td>1.153621</td>\n",
       "      <td>0.0</td>\n",
       "      <td>0.000000</td>\n",
       "      <td>0.000000</td>\n",
       "      <td>0.000000</td>\n",
       "      <td>1.169899</td>\n",
       "      <td>0.836781</td>\n",
       "      <td>3.089794</td>\n",
       "      <td>ENSG00000000003</td>\n",
       "      <td>Known</td>\n",
       "    </tr>\n",
       "    <tr>\n",
       "      <th>3</th>\n",
       "      <td>3</td>\n",
       "      <td>ENSG00000000003[1,1,7]</td>\n",
       "      <td>30.341356</td>\n",
       "      <td>114.522612</td>\n",
       "      <td>0.0</td>\n",
       "      <td>23.850410</td>\n",
       "      <td>26.955834</td>\n",
       "      <td>0.0</td>\n",
       "      <td>102.777420</td>\n",
       "      <td>168.076192</td>\n",
       "      <td>...</td>\n",
       "      <td>80.753453</td>\n",
       "      <td>0.0</td>\n",
       "      <td>5.816228</td>\n",
       "      <td>15.917910</td>\n",
       "      <td>51.273199</td>\n",
       "      <td>7.019391</td>\n",
       "      <td>46.022948</td>\n",
       "      <td>82.188513</td>\n",
       "      <td>ENSG00000000003</td>\n",
       "      <td>Known</td>\n",
       "    </tr>\n",
       "    <tr>\n",
       "      <th>4</th>\n",
       "      <td>4</td>\n",
       "      <td>ENSG00000000003[1,1,8]</td>\n",
       "      <td>25.550616</td>\n",
       "      <td>169.875209</td>\n",
       "      <td>0.0</td>\n",
       "      <td>20.443209</td>\n",
       "      <td>17.251734</td>\n",
       "      <td>0.0</td>\n",
       "      <td>74.747214</td>\n",
       "      <td>181.159967</td>\n",
       "      <td>...</td>\n",
       "      <td>43.837589</td>\n",
       "      <td>0.0</td>\n",
       "      <td>4.362171</td>\n",
       "      <td>16.755695</td>\n",
       "      <td>34.182133</td>\n",
       "      <td>7.019391</td>\n",
       "      <td>27.613769</td>\n",
       "      <td>40.167319</td>\n",
       "      <td>ENSG00000000003</td>\n",
       "      <td>Known</td>\n",
       "    </tr>\n",
       "  </tbody>\n",
       "</table>\n",
       "<p>5 rows × 142 columns</p>\n",
       "</div>"
      ],
      "text/plain": [
       "   index     annot_transcript_id  hffc6_1_2  mucosa_of_descending_colon_1_1  \\\n",
       "0      0  ENSG00000000003[1,1,1]   0.000000                        0.000000   \n",
       "1      1  ENSG00000000003[1,1,5]   9.581481                       68.713567   \n",
       "2      2  ENSG00000000003[1,1,6]   1.596913                        1.908710   \n",
       "3      3  ENSG00000000003[1,1,7]  30.341356                      114.522612   \n",
       "4      4  ENSG00000000003[1,1,8]  25.550616                      169.875209   \n",
       "\n",
       "   hl60_m1_12hr_1_2  ovary_3_1  hct116_1_1  hl60_m2_24hr_1_2   calu3_1_1  \\\n",
       "0               0.0   0.000000    1.078233               0.0    1.868680   \n",
       "1               0.0  20.443209    8.625867               0.0   36.439267   \n",
       "2               0.0   0.000000    3.234700               0.0    1.868680   \n",
       "3               0.0  23.850410   26.955834               0.0  102.777420   \n",
       "4               0.0  20.443209   17.251734               0.0   74.747214   \n",
       "\n",
       "    caco2_1_2  ...     h1_1_3  ocily7_1_2  heart_left_ventricle_4_1  \\\n",
       "0   10.064443  ...   9.228966         0.0                  0.000000   \n",
       "1   84.541318  ...  24.226036         0.0                  4.362171   \n",
       "2    8.051554  ...   1.153621         0.0                  0.000000   \n",
       "3  168.076192  ...  80.753453         0.0                  5.816228   \n",
       "4  181.159967  ...  43.837589         0.0                  4.362171   \n",
       "\n",
       "   h9_chondro_1_1   pgp1_1_1  lower_lobe_of_right_lung_1_1   a673_1_2  \\\n",
       "0        0.837785   0.000000                      1.169899   2.510343   \n",
       "1        5.864493  25.636599                      5.849493  33.471235   \n",
       "2        0.000000   0.000000                      1.169899   0.836781   \n",
       "3       15.917910  51.273199                      7.019391  46.022948   \n",
       "4       16.755695  34.182133                      7.019391  27.613769   \n",
       "\n",
       "   hepg2_1_1              gid  gene_novelty  \n",
       "0   3.089794  ENSG00000000003         Known  \n",
       "1  43.257112  ENSG00000000003         Known  \n",
       "2   3.089794  ENSG00000000003         Known  \n",
       "3  82.188513  ENSG00000000003         Known  \n",
       "4  40.167319  ENSG00000000003         Known  \n",
       "\n",
       "[5 rows x 142 columns]"
      ]
     },
     "execution_count": 214,
     "metadata": {},
     "output_type": "execute_result"
    }
   ],
   "source": [
    "# get expressed novel genes\n",
    "df = pd.read_csv(filt_ab, sep='\\t')\n",
    "df, _ = get_tpm_table(df, \n",
    "                      how='iso',\n",
    "                      min_tpm=1,\n",
    "                      gene_subset=None)\n",
    "\n",
    "df.reset_index(inplace=True)\n",
    "df['gid'] = df.annot_transcript_id.str.split('[', expand=True)[0]\n",
    "df.head()\n",
    "df.reset_index(inplace=True)\n",
    "df.rename({'gid_stable':'gid'}, axis=1, inplace=True)\n",
    "ab_df = pd.read_csv(filt_ab, sep='\\t')\n",
    "ab_df['gid'] = ab_df.annot_transcript_id.str.split('[', expand=True)[0]\n",
    "ab_df = ab_df[['gid', 'gene_novelty']].drop_duplicates()\n",
    "ab_df.loc[ab_df.gid.duplicated(keep=False)].sort_values(by='gid')\n",
    "assert len(ab_df.loc[ab_df.gid.duplicated(keep=False)].index) == 0\n",
    "df = df.merge(ab_df, how='left', on='gid')\n",
    "df.loc[df.gene_novelty=='Fusion', 'gene_novelty'] = 'Readthrough'\n",
    "df.head()"
   ]
  },
  {
   "cell_type": "code",
   "execution_count": 204,
   "id": "99ecee6e-17a3-47a1-8191-64f2fe7e387f",
   "metadata": {},
   "outputs": [
    {
     "data": {
      "text/html": [
       "<div>\n",
       "<style scoped>\n",
       "    .dataframe tbody tr th:only-of-type {\n",
       "        vertical-align: middle;\n",
       "    }\n",
       "\n",
       "    .dataframe tbody tr th {\n",
       "        vertical-align: top;\n",
       "    }\n",
       "\n",
       "    .dataframe thead th {\n",
       "        text-align: right;\n",
       "    }\n",
       "</style>\n",
       "<table border=\"1\" class=\"dataframe\">\n",
       "  <thead>\n",
       "    <tr style=\"text-align: right;\">\n",
       "      <th></th>\n",
       "      <th>gid</th>\n",
       "    </tr>\n",
       "    <tr>\n",
       "      <th>gene_novelty</th>\n",
       "      <th></th>\n",
       "    </tr>\n",
       "  </thead>\n",
       "  <tbody>\n",
       "    <tr>\n",
       "      <th>Intergenic</th>\n",
       "      <td>68</td>\n",
       "    </tr>\n",
       "    <tr>\n",
       "      <th>Known</th>\n",
       "      <td>29386</td>\n",
       "    </tr>\n",
       "    <tr>\n",
       "      <th>Readthrough</th>\n",
       "      <td>79</td>\n",
       "    </tr>\n",
       "  </tbody>\n",
       "</table>\n",
       "</div>"
      ],
      "text/plain": [
       "                gid\n",
       "gene_novelty       \n",
       "Intergenic       68\n",
       "Known         29386\n",
       "Readthrough      79"
      ]
     },
     "execution_count": 204,
     "metadata": {},
     "output_type": "execute_result"
    }
   ],
   "source": [
    "df[['gene_novelty', 'gid']].groupby('gene_novelty').nunique()"
   ]
  },
  {
   "cell_type": "code",
   "execution_count": 215,
   "id": "36ef8e62-bf8a-4d9f-ab50-954d1ed0fd45",
   "metadata": {},
   "outputs": [],
   "source": [
    "df_back = df.copy(deep=True)"
   ]
  },
  {
   "cell_type": "code",
   "execution_count": 206,
   "id": "65d9dd43-d538-4a07-b6c9-5bae3b06a1d9",
   "metadata": {},
   "outputs": [],
   "source": [
    "# get only transcripts from novel genes\n",
    "df = df.loc[df.gene_novelty!='Known']\n",
    "tids = df.annot_transcript_id.tolist()"
   ]
  },
  {
   "cell_type": "code",
   "execution_count": 207,
   "id": "9fe70e06-66b0-46ca-9ab3-8e0f2aecb1a0",
   "metadata": {},
   "outputs": [],
   "source": [
    "ca = cerberus.read(cerberus_h5)\n",
    "df = ca.get_subset_triplets(tids, source='obs_readthrough')"
   ]
  },
  {
   "cell_type": "code",
   "execution_count": 208,
   "id": "125679a4-3bf6-45bc-b646-8e5f3521c9c9",
   "metadata": {},
   "outputs": [],
   "source": [
    "df.to_csv('readthrough_triplets.tsv', sep='\\t')"
   ]
  },
  {
   "cell_type": "code",
   "execution_count": 262,
   "id": "13ae8fbd-d3e2-45a9-accf-586821d6b173",
   "metadata": {},
   "outputs": [],
   "source": [
    "trip_df = pd.read_csv('readthrough_triplets.tsv', sep='\\t')"
   ]
  },
  {
   "cell_type": "code",
   "execution_count": 263,
   "id": "95a9dcc7-7611-4f1d-9d46-64326c0a7f8e",
   "metadata": {},
   "outputs": [],
   "source": [
    "trip_df = trip_df.merge(df[['gid', 'gene_novelty']], \n",
    "                        how='left',\n",
    "                        left_on='gene_id',\n",
    "                        right_on='gid')"
   ]
  },
  {
   "cell_type": "code",
   "execution_count": 264,
   "id": "05f14f48-3f84-4d72-86b6-9470df54f3a7",
   "metadata": {},
   "outputs": [
    {
     "data": {
      "text/html": [
       "<div>\n",
       "<style scoped>\n",
       "    .dataframe tbody tr th:only-of-type {\n",
       "        vertical-align: middle;\n",
       "    }\n",
       "\n",
       "    .dataframe tbody tr th {\n",
       "        vertical-align: top;\n",
       "    }\n",
       "\n",
       "    .dataframe thead th {\n",
       "        text-align: right;\n",
       "    }\n",
       "</style>\n",
       "<table border=\"1\" class=\"dataframe\">\n",
       "  <thead>\n",
       "    <tr style=\"text-align: right;\">\n",
       "      <th></th>\n",
       "      <th>Unnamed: 0</th>\n",
       "      <th>gene_id</th>\n",
       "      <th>n_iso</th>\n",
       "      <th>n_tss</th>\n",
       "      <th>n_ic</th>\n",
       "      <th>n_tes</th>\n",
       "      <th>splicing_ratio</th>\n",
       "      <th>tss_ratio</th>\n",
       "      <th>tes_ratio</th>\n",
       "      <th>spl_ratio</th>\n",
       "      <th>sector</th>\n",
       "      <th>source</th>\n",
       "      <th>gid</th>\n",
       "      <th>gene_novelty</th>\n",
       "    </tr>\n",
       "  </thead>\n",
       "  <tbody>\n",
       "    <tr>\n",
       "      <th>0</th>\n",
       "      <td>0</td>\n",
       "      <td>TALONG000058996</td>\n",
       "      <td>2</td>\n",
       "      <td>1</td>\n",
       "      <td>2</td>\n",
       "      <td>2</td>\n",
       "      <td>1.333333</td>\n",
       "      <td>0.230769</td>\n",
       "      <td>0.461538</td>\n",
       "      <td>0.307692</td>\n",
       "      <td>mixed</td>\n",
       "      <td>obs_readthrough</td>\n",
       "      <td>TALONG000058996</td>\n",
       "      <td>Intergenic</td>\n",
       "    </tr>\n",
       "    <tr>\n",
       "      <th>1</th>\n",
       "      <td>0</td>\n",
       "      <td>TALONG000058996</td>\n",
       "      <td>2</td>\n",
       "      <td>1</td>\n",
       "      <td>2</td>\n",
       "      <td>2</td>\n",
       "      <td>1.333333</td>\n",
       "      <td>0.230769</td>\n",
       "      <td>0.461538</td>\n",
       "      <td>0.307692</td>\n",
       "      <td>mixed</td>\n",
       "      <td>obs_readthrough</td>\n",
       "      <td>TALONG000058996</td>\n",
       "      <td>Intergenic</td>\n",
       "    </tr>\n",
       "    <tr>\n",
       "      <th>2</th>\n",
       "      <td>1</td>\n",
       "      <td>TALONG000059039</td>\n",
       "      <td>1</td>\n",
       "      <td>1</td>\n",
       "      <td>1</td>\n",
       "      <td>1</td>\n",
       "      <td>1.000000</td>\n",
       "      <td>0.333333</td>\n",
       "      <td>0.333333</td>\n",
       "      <td>0.333333</td>\n",
       "      <td>simple</td>\n",
       "      <td>obs_readthrough</td>\n",
       "      <td>TALONG000059039</td>\n",
       "      <td>Intergenic</td>\n",
       "    </tr>\n",
       "    <tr>\n",
       "      <th>3</th>\n",
       "      <td>2</td>\n",
       "      <td>TALONG000059465</td>\n",
       "      <td>4</td>\n",
       "      <td>1</td>\n",
       "      <td>4</td>\n",
       "      <td>2</td>\n",
       "      <td>2.666667</td>\n",
       "      <td>0.176471</td>\n",
       "      <td>0.352941</td>\n",
       "      <td>0.470588</td>\n",
       "      <td>mixed</td>\n",
       "      <td>obs_readthrough</td>\n",
       "      <td>TALONG000059465</td>\n",
       "      <td>Intergenic</td>\n",
       "    </tr>\n",
       "    <tr>\n",
       "      <th>4</th>\n",
       "      <td>2</td>\n",
       "      <td>TALONG000059465</td>\n",
       "      <td>4</td>\n",
       "      <td>1</td>\n",
       "      <td>4</td>\n",
       "      <td>2</td>\n",
       "      <td>2.666667</td>\n",
       "      <td>0.176471</td>\n",
       "      <td>0.352941</td>\n",
       "      <td>0.470588</td>\n",
       "      <td>mixed</td>\n",
       "      <td>obs_readthrough</td>\n",
       "      <td>TALONG000059465</td>\n",
       "      <td>Intergenic</td>\n",
       "    </tr>\n",
       "  </tbody>\n",
       "</table>\n",
       "</div>"
      ],
      "text/plain": [
       "   Unnamed: 0          gene_id  n_iso  n_tss  n_ic  n_tes  splicing_ratio  \\\n",
       "0           0  TALONG000058996      2      1     2      2        1.333333   \n",
       "1           0  TALONG000058996      2      1     2      2        1.333333   \n",
       "2           1  TALONG000059039      1      1     1      1        1.000000   \n",
       "3           2  TALONG000059465      4      1     4      2        2.666667   \n",
       "4           2  TALONG000059465      4      1     4      2        2.666667   \n",
       "\n",
       "   tss_ratio  tes_ratio  spl_ratio  sector           source              gid  \\\n",
       "0   0.230769   0.461538   0.307692   mixed  obs_readthrough  TALONG000058996   \n",
       "1   0.230769   0.461538   0.307692   mixed  obs_readthrough  TALONG000058996   \n",
       "2   0.333333   0.333333   0.333333  simple  obs_readthrough  TALONG000059039   \n",
       "3   0.176471   0.352941   0.470588   mixed  obs_readthrough  TALONG000059465   \n",
       "4   0.176471   0.352941   0.470588   mixed  obs_readthrough  TALONG000059465   \n",
       "\n",
       "  gene_novelty  \n",
       "0   Intergenic  \n",
       "1   Intergenic  \n",
       "2   Intergenic  \n",
       "3   Intergenic  \n",
       "4   Intergenic  "
      ]
     },
     "execution_count": 264,
     "metadata": {},
     "output_type": "execute_result"
    }
   ],
   "source": [
    "trip_df.head()"
   ]
  },
  {
   "cell_type": "code",
   "execution_count": 275,
   "id": "ffc89ee6-b7eb-4da1-be00-9c44fbfa9a46",
   "metadata": {},
   "outputs": [
    {
     "data": {
      "text/plain": [
       "array(['mixed', 'simple', 'splicing'], dtype=object)"
      ]
     },
     "execution_count": 275,
     "metadata": {},
     "output_type": "execute_result"
    }
   ],
   "source": [
    "temp2.sector.unique()"
   ]
  },
  {
   "cell_type": "code",
   "execution_count": 285,
   "id": "da2909c1-ab71-400b-8af8-8e683389cc77",
   "metadata": {},
   "outputs": [
    {
     "data": {
      "image/png": "[encoded data removed]",
      "text/plain": [
       "<Figure size 432x288 with 1 Axes>"
      ]
     },
     "metadata": {
      "needs_background": "light"
     },
     "output_type": "display_data"
    },
    {
     "data": {
      "image/png": "[encoded data removed]",
      "text/plain": [
       "<Figure size 432x288 with 1 Axes>"
      ]
     },
     "metadata": {
      "needs_background": "light"
     },
     "output_type": "display_data"
    }
   ],
   "source": [
    "temp = trip_df[['gene_novelty', 'gid', 'sector']].groupby(['gene_novelty', 'sector']).count().reset_index().rename({'gid':'n_genes'}, axis=1)\n",
    "c_dict_2, order_2 = get_sector_colors()\n",
    "for n in temp.gene_novelty.unique().tolist():\n",
    "    temp2 = temp.loc[temp.gene_novelty==n].copy(deep=True)\n",
    "    ax = sns.barplot(data=temp2, x='sector', y='n_genes', saturation=1, order=order_2, palette=c_dict_2)\n",
    "    ax.spines['right'].set_visible(False)\n",
    "    ax.spines['top'].set_visible(False)\n",
    "    ax.set(ylabel='# genes', xlabel='', ylim=(0,50))\n",
    "    labels = []\n",
    "    for o in order_2:\n",
    "        if o == 'tss' or o == 'tes':\n",
    "            l = o.upper()\n",
    "        else:\n",
    "            l = o.capitalize()\n",
    "        labels.append(l)\n",
    "    ax.set_xticklabels(labels)\n",
    "    fname = f'figures/{n}_genes_per_sector.pdf'\n",
    "    plt.savefig(fname, dpi=500)\n",
    "    plt.show()\n",
    "    \n",
    "    # plt.clf()\n",
    "    "
   ]
  },
  {
   "cell_type": "code",
   "execution_count": 273,
   "id": "848a4e8a-74bb-44ed-87b9-9616c104aed2",
   "metadata": {},
   "outputs": [
    {
     "data": {
      "text/plain": [
       "{'tss': '#56B4E9',\n",
       " 'splicing': '#CC79A7',\n",
       " 'tes': '#E69F00',\n",
       " 'simple': '#000000',\n",
       " 'mixed': '#b7b7b7'}"
      ]
     },
     "execution_count": 273,
     "metadata": {},
     "output_type": "execute_result"
    }
   ],
   "source": [
    "c_dict_2"
   ]
  },
  {
   "cell_type": "code",
   "execution_count": 227,
   "id": "e6239336-c6f5-4aee-9c6d-65f9961897a4",
   "metadata": {},
   "outputs": [
    {
     "data": {
      "text/html": [
       "<div>\n",
       "<style scoped>\n",
       "    .dataframe tbody tr th:only-of-type {\n",
       "        vertical-align: middle;\n",
       "    }\n",
       "\n",
       "    .dataframe tbody tr th {\n",
       "        vertical-align: top;\n",
       "    }\n",
       "\n",
       "    .dataframe thead th {\n",
       "        text-align: right;\n",
       "    }\n",
       "</style>\n",
       "<table border=\"1\" class=\"dataframe\">\n",
       "  <thead>\n",
       "    <tr style=\"text-align: right;\">\n",
       "      <th></th>\n",
       "      <th>Unnamed: 0</th>\n",
       "      <th>gene_id</th>\n",
       "      <th>n_iso</th>\n",
       "      <th>n_tss</th>\n",
       "      <th>n_ic</th>\n",
       "      <th>n_tes</th>\n",
       "      <th>splicing_ratio</th>\n",
       "      <th>tss_ratio</th>\n",
       "      <th>tes_ratio</th>\n",
       "      <th>spl_ratio</th>\n",
       "      <th>sector</th>\n",
       "      <th>source</th>\n",
       "      <th>gid</th>\n",
       "      <th>gene_novelty</th>\n",
       "    </tr>\n",
       "  </thead>\n",
       "  <tbody>\n",
       "  </tbody>\n",
       "</table>\n",
       "</div>"
      ],
      "text/plain": [
       "Empty DataFrame\n",
       "Columns: [Unnamed: 0, gene_id, n_iso, n_tss, n_ic, n_tes, splicing_ratio, tss_ratio, tes_ratio, spl_ratio, sector, source, gid, gene_novelty]\n",
       "Index: []"
      ]
     },
     "execution_count": 227,
     "metadata": {},
     "output_type": "execute_result"
    }
   ],
   "source": [
    "trip_df.loc[(trip_df.gene_novelty=='Intergenic')&(trip_df.sector=='tss')]"
   ]
  },
  {
   "cell_type": "markdown",
   "id": "b72129a3-2668-4213-a47c-3f2469f96344",
   "metadata": {},
   "source": [
    "## What about just plain old number of transcripts detected / gene ? "
   ]
  },
  {
   "cell_type": "code",
   "execution_count": 229,
   "id": "6473f826-c1a6-496c-a654-777373d855af",
   "metadata": {},
   "outputs": [],
   "source": [
    "trip_df = pd.read_csv('readthrough_triplets.tsv', sep='\\t')"
   ]
  },
  {
   "cell_type": "code",
   "execution_count": 230,
   "id": "42342d7f-54e4-456f-9d0e-5266914b2fba",
   "metadata": {},
   "outputs": [],
   "source": [
    "trip_df = trip_df.merge(df[['gid', 'gene_novelty']], \n",
    "                        how='left',\n",
    "                        left_on='gene_id',\n",
    "                        right_on='gid')"
   ]
  },
  {
   "cell_type": "code",
   "execution_count": 261,
   "id": "9a3054ca-bc73-4987-9425-b0d7542ef9d0",
   "metadata": {},
   "outputs": [
    {
     "data": {
      "image/png": "[encoded data removed]",
      "text/plain": [
       "<Figure size 360x360 with 1 Axes>"
      ]
     },
     "metadata": {
      "needs_background": "light"
     },
     "output_type": "display_data"
    },
    {
     "data": {
      "image/png": "[encoded data removed]",
      "text/plain": [
       "<Figure size 360x360 with 1 Axes>"
      ]
     },
     "metadata": {
      "needs_background": "light"
     },
     "output_type": "display_data"
    }
   ],
   "source": [
    "c_dict, order = get_gene_nov_colors(cats=trip_df.gene_novelty.unique().tolist())\n",
    "\n",
    "for n in trip_df.gene_novelty.unique():\n",
    "    temp2 = trip_df.loc[trip_df.gene_novelty==n].copy(deep=True)\n",
    "    ax = sns.displot(temp2, x='n_iso', binwidth=1, alpha=1, linewidth=0, discrete=True,\n",
    "                     color=c_dict[n])\n",
    "    # temp2 = temp2[['gene_novelty', 'n_iso']].groupby('n_iso').count().reset_index()\n",
    "    # ax = sns.catplot(temp2, y='gene_novelty', x='n_iso', alpha=1, kind='bar', color=c_dict[n])\n",
    "    ax.set(ylabel='# genes', xlabel='# transcripts / gene', xlim=(0,26))\n",
    "    # plt.show()\n",
    "    # plt.clf()\n",
    "    fname = f'figures/{n}_transcripts_per_gene.pdf'\n",
    "    plt.savefig(fname, dpi=500)"
   ]
  },
  {
   "cell_type": "code",
   "execution_count": null,
   "id": "f6f346c6-a297-44da-92fc-eb9c18a5e1bd",
   "metadata": {},
   "outputs": [],
   "source": []
  },
  {
   "cell_type": "code",
   "execution_count": null,
   "id": "ddca6570-71ea-498b-8c2d-99681478a714",
   "metadata": {},
   "outputs": [],
   "source": []
  },
  {
   "cell_type": "code",
   "execution_count": null,
   "id": "74eaa2fc-1fb3-4da0-94a4-15fbc6ebfc11",
   "metadata": {},
   "outputs": [],
   "source": []
  },
  {
   "cell_type": "markdown",
   "id": "8696b157-6b06-438e-86c7-7add84a772e2",
   "metadata": {},
   "source": [
    "## How many novel readthrough loci do we detect?"
   ]
  },
  {
   "cell_type": "code",
   "execution_count": 20,
   "id": "7c782e94-216f-40ab-9171-998b708518eb",
   "metadata": {},
   "outputs": [
    {
     "name": "stdout",
     "output_type": "stream",
     "text": [
      "Calculating iso TPM values\n"
     ]
    },
    {
     "name": "stderr",
     "output_type": "stream",
     "text": [
      "/Users/fairliereese/Documents/programming/mortazavi_lab/data/paper_rnawg/proc_revisions/utils.py:2087: PerformanceWarning: DataFrame is highly fragmented.  This is usually the result of calling `frame.insert` many times, which has poor performance.  Consider joining all columns at once using pd.concat(axis=1) instead.  To get a de-fragmented frame, use `newframe = frame.copy()`\n",
      "  df[tpm_col] = (df[d]*1000000)/df[total_col]\n",
      "/Users/fairliereese/Documents/programming/mortazavi_lab/data/paper_rnawg/proc_revisions/utils.py:2086: PerformanceWarning: DataFrame is highly fragmented.  This is usually the result of calling `frame.insert` many times, which has poor performance.  Consider joining all columns at once using pd.concat(axis=1) instead.  To get a de-fragmented frame, use `newframe = frame.copy()`\n",
      "  df[total_col] = df[d].sum()\n"
     ]
    },
    {
     "name": "stdout",
     "output_type": "stream",
     "text": [
      "Enforcing minimum TPM\n",
      "Total # isos detected: 236615\n",
      "# isos >= 1 tpm: 213476\n",
      "Number of isos reported: 213476\n"
     ]
    }
   ],
   "source": [
    "df = pd.read_csv(filt_ab, sep='\\t')\n",
    "df, tids = get_tpm_table(df, \n",
    "                         how='iso',\n",
    "                         min_tpm=1,\n",
    "                         gene_subset=None)\n",
    "df.reset_index(inplace=True)\n",
    "df['gid'] = df.annot_transcript_id.str.split('[', expand=True)[0]\n",
    "ab_df = pd.read_csv(filt_ab, sep='\\t')\n",
    "ab_df['gid'] = ab_df.annot_transcript_id.str.split('[', expand=True)[0]\n",
    "ab_df = ab_df[['gid', 'gene_novelty']].drop_duplicates()\n",
    "df = df.merge(ab_df, how='left', on='gid')"
   ]
  },
  {
   "cell_type": "code",
   "execution_count": 21,
   "id": "6d48a4b4-686a-4d16-9917-23eeda1ff1a6",
   "metadata": {},
   "outputs": [
    {
     "name": "stdout",
     "output_type": "stream",
     "text": [
      "Found 79 fusion loci in human\n"
     ]
    }
   ],
   "source": [
    "n = len(df.loc[df.gene_novelty=='Fusion'].gid.unique())\n",
    "print(f'Found {n} fusion loci in human')"
   ]
  },
  {
   "cell_type": "markdown",
   "id": "bab9bfa6-20a9-4065-9c79-0ee0823d7d19",
   "metadata": {},
   "source": [
    "## How often do our novel gene bodies intersect with those found in GTEx?"
   ]
  },
  {
   "cell_type": "code",
   "execution_count": 290,
   "id": "8bbfe5cf-2e6b-4bcb-a189-e30153397039",
   "metadata": {},
   "outputs": [],
   "source": [
    "samples = get_gtex_match_samples()"
   ]
  },
  {
   "cell_type": "code",
   "execution_count": 291,
   "id": "7e82ab7f-2480-4ae9-9d40-41ed3b8a69c1",
   "metadata": {},
   "outputs": [
    {
     "name": "stdout",
     "output_type": "stream",
     "text": [
      "Calculating iso TPM values\n",
      "Subsetting for ['adipose', 'brain', 'brain_ad', 'hmec', 'mcf10a', 'mcf7', 'heart', 'liver', 'lung', 'muscle', 'h9_panc_beta', 'h9_panc_progen', 'panc1', 'k562'] samples\n"
     ]
    },
    {
     "name": "stderr",
     "output_type": "stream",
     "text": [
      "/Users/fairliereese/Documents/programming/mortazavi_lab/data/paper_rnawg/proc_revisions/utils.py:2088: PerformanceWarning: DataFrame is highly fragmented.  This is usually the result of calling `frame.insert` many times, which has poor performance.  Consider joining all columns at once using pd.concat(axis=1) instead.  To get a de-fragmented frame, use `newframe = frame.copy()`\n",
      "  df[tpm_col] = (df[d]*1000000)/df[total_col]\n",
      "/Users/fairliereese/Documents/programming/mortazavi_lab/data/paper_rnawg/proc_revisions/utils.py:2087: PerformanceWarning: DataFrame is highly fragmented.  This is usually the result of calling `frame.insert` many times, which has poor performance.  Consider joining all columns at once using pd.concat(axis=1) instead.  To get a de-fragmented frame, use `newframe = frame.copy()`\n",
      "  df[total_col] = df[d].sum()\n"
     ]
    },
    {
     "name": "stdout",
     "output_type": "stream",
     "text": [
      "Enforcing minimum TPM\n",
      "Total # isos detected: 236615\n",
      "# isos >= 1 tpm: 173776\n",
      "Number of isos reported: 173776\n"
     ]
    }
   ],
   "source": [
    "# get expressed novel genes\n",
    "df = pd.read_csv(filt_ab, sep='\\t')\n",
    "df, _ = get_tpm_table(df, \n",
    "                      how='iso',\n",
    "                      min_tpm=1,\n",
    "                      gene_subset=None,\n",
    "                      sample=samples)\n",
    "\n",
    "df.reset_index(inplace=True)\n",
    "df['gid'] = df.annot_transcript_id.str.split('[', expand=True)[0]\n",
    "df.head()\n",
    "df.reset_index(inplace=True)\n",
    "df.rename({'gid_stable':'gid'}, axis=1, inplace=True)\n",
    "ab_df = pd.read_csv(filt_ab, sep='\\t')\n",
    "ab_df['gid'] = ab_df.annot_transcript_id.str.split('[', expand=True)[0]\n",
    "ab_df = ab_df[['gid', 'gene_novelty']].drop_duplicates()\n",
    "ab_df.loc[ab_df.gid.duplicated(keep=False)].sort_values(by='gid')\n",
    "assert len(ab_df.loc[ab_df.gid.duplicated(keep=False)].index) == 0\n",
    "df = df.merge(ab_df, how='left', on='gid')\n",
    "df.loc[df.gene_novelty=='Fusion', 'gene_novelty'] = 'Readthrough'\n",
    "nov_df = df.loc[df.gene_novelty!='Known']\n",
    "nov_df.rename({'annot_transcript_id':'tid'}, axis=1, inplace=True)"
   ]
  },
  {
   "cell_type": "code",
   "execution_count": 293,
   "id": "3c690718-a5c6-4642-aa82-56c532726f0e",
   "metadata": {},
   "outputs": [
    {
     "data": {
      "text/html": [
       "<div>\n",
       "<style scoped>\n",
       "    .dataframe tbody tr th:only-of-type {\n",
       "        vertical-align: middle;\n",
       "    }\n",
       "\n",
       "    .dataframe tbody tr th {\n",
       "        vertical-align: top;\n",
       "    }\n",
       "\n",
       "    .dataframe thead th {\n",
       "        text-align: right;\n",
       "    }\n",
       "</style>\n",
       "<table border=\"1\" class=\"dataframe\">\n",
       "  <thead>\n",
       "    <tr style=\"text-align: right;\">\n",
       "      <th></th>\n",
       "      <th>gene_novelty</th>\n",
       "      <th>n_genes</th>\n",
       "    </tr>\n",
       "  </thead>\n",
       "  <tbody>\n",
       "    <tr>\n",
       "      <th>0</th>\n",
       "      <td>Intergenic</td>\n",
       "      <td>27</td>\n",
       "    </tr>\n",
       "    <tr>\n",
       "      <th>1</th>\n",
       "      <td>Readthrough</td>\n",
       "      <td>59</td>\n",
       "    </tr>\n",
       "  </tbody>\n",
       "</table>\n",
       "</div>"
      ],
      "text/plain": [
       "  gene_novelty  n_genes\n",
       "0   Intergenic       27\n",
       "1  Readthrough       59"
      ]
     },
     "execution_count": 293,
     "metadata": {},
     "output_type": "execute_result"
    }
   ],
   "source": [
    "nov_df[['gid', 'gene_novelty']].groupby('gene_novelty').nunique().reset_index().rename({'gid':'n_genes'}, axis=1)"
   ]
  },
  {
   "cell_type": "code",
   "execution_count": 296,
   "id": "644a192d-2e10-463c-b255-0bd92a24921a",
   "metadata": {},
   "outputs": [
    {
     "data": {
      "text/plain": [
       "173643    TALONG000058996\n",
       "173644    TALONG000058996\n",
       "173645    TALONG000059039\n",
       "173646    TALONG000059465\n",
       "173647    TALONG000059465\n",
       "Name: gid, dtype: object"
      ]
     },
     "execution_count": 296,
     "metadata": {},
     "output_type": "execute_result"
    }
   ],
   "source": [
    "nov_df['gid'].head()"
   ]
  },
  {
   "cell_type": "code",
   "execution_count": 297,
   "id": "56cb5d60-aacb-4780-ba92-ecfe59e65148",
   "metadata": {},
   "outputs": [],
   "source": [
    "# get the gene body coords for the novel genes in both cerberus and gtex\n",
    "gtf_df = pr.read_gtf(gtf_file, as_df=True)\n",
    "gtf_df = gtf_df.loc[gtf_df.Feature=='gene']\n",
    "gtf_df = gtf_df.loc[gtf_df.gene_id.isin(nov_df.gid.tolist())]\n",
    "\n",
    "gtex_df = pr.read_gtf(gtex_gtf_file, as_df=True)\n",
    "gtex_df = gtex_df.loc[gtex_df.Feature=='gene']"
   ]
  },
  {
   "cell_type": "code",
   "execution_count": 298,
   "id": "f36eae2e-c43c-4f56-a18a-7e1a3fd74776",
   "metadata": {},
   "outputs": [],
   "source": [
    "gtf_df = pr.PyRanges(gtf_df)\n",
    "gtex_df = pr.PyRanges(gtex_df)\n",
    "df = gtf_df.intersect(gtex_df, \n",
    "                      strandedness='same')"
   ]
  },
  {
   "cell_type": "code",
   "execution_count": null,
   "id": "dbc8360d-7630-4898-b822-66f1741271e2",
   "metadata": {},
   "outputs": [],
   "source": []
  },
  {
   "cell_type": "code",
   "execution_count": null,
   "id": "f8688d02-1d96-436f-8603-8356fe72b0ec",
   "metadata": {},
   "outputs": [],
   "source": []
  },
  {
   "cell_type": "code",
   "execution_count": null,
   "id": "05c1f326-f964-4234-812a-9fc2e5a19f03",
   "metadata": {},
   "outputs": [],
   "source": []
  },
  {
   "cell_type": "code",
   "execution_count": null,
   "id": "02c5f4d8-c5b0-40e2-9dc5-569eb8712bb2",
   "metadata": {},
   "outputs": [],
   "source": []
  },
  {
   "cell_type": "code",
   "execution_count": null,
   "id": "bf91da22-db94-46cc-a6ff-b6aa88cfaf44",
   "metadata": {},
   "outputs": [],
   "source": []
  },
  {
   "cell_type": "code",
   "execution_count": null,
   "id": "36159519-13e8-4497-a296-df9d6ad2c57c",
   "metadata": {},
   "outputs": [],
   "source": []
  },
  {
   "cell_type": "code",
   "execution_count": null,
   "id": "72b1f431-38d6-4ccb-86c6-2e9f087c2c1b",
   "metadata": {},
   "outputs": [],
   "source": []
  },
  {
   "cell_type": "code",
   "execution_count": null,
   "id": "73611768-2f3c-4a28-981b-c00507e0057b",
   "metadata": {},
   "outputs": [],
   "source": []
  },
  {
   "cell_type": "code",
   "execution_count": null,
   "id": "45b7bff3-b9d6-4ea4-a050-912684964c81",
   "metadata": {},
   "outputs": [],
   "source": []
  },
  {
   "cell_type": "code",
   "execution_count": null,
   "id": "7fe2d85c-2a98-421f-a241-ea91abe3b85c",
   "metadata": {},
   "outputs": [],
   "source": []
  },
  {
   "cell_type": "markdown",
   "id": "72125f07-dcef-4928-ac8b-a432bb0c7696",
   "metadata": {},
   "source": [
    "## How many GENCODE genes engage in readthrough transcription?"
   ]
  },
  {
   "cell_type": "code",
   "execution_count": 22,
   "id": "6aa92980-0992-41b2-a5f5-38f88ef03093",
   "metadata": {},
   "outputs": [],
   "source": [
    "df = pr.read_gtf(ref_gtf, duplicate_attr=True)"
   ]
  },
  {
   "cell_type": "code",
   "execution_count": 23,
   "id": "4a5749de-9bd7-41c4-a618-ce923d5cabb5",
   "metadata": {},
   "outputs": [],
   "source": [
    "df = df.df\n",
    "df = df.loc[df.Feature=='transcript']"
   ]
  },
  {
   "cell_type": "code",
   "execution_count": 24,
   "id": "c8435594-e4b0-4417-8311-0e1e95b06ae1",
   "metadata": {},
   "outputs": [],
   "source": [
    "# is it possible that a not all transcripts from a given gene are called as readthrough? \n",
    "temp = df[['gene_id','transcript_id','tag']]\n",
    "temp['readthrough_transcript'] = temp.tag.str.contains('readthrough_transcript')\n",
    "temp.drop('tag', axis=1, inplace=True)\n",
    "\n",
    "gids = temp.loc[temp.readthrough_transcript==True]\n",
    "temp.loc[(temp.gene_id.isin(gids))&(temp.readthrough_transcript==False)]\n",
    "\n",
    "# nope\n",
    "assert len(temp.loc[(temp.gene_id.isin(gids))&(temp.readthrough_transcript==False)]) == 0"
   ]
  },
  {
   "cell_type": "code",
   "execution_count": 25,
   "id": "4b2267dc-a278-46e4-995f-bb87fb373e51",
   "metadata": {},
   "outputs": [
    {
     "name": "stdout",
     "output_type": "stream",
     "text": [
      "Gencode v40 has 981 genes w/ annotated readthrough transcription\n",
      "Gencode v40 has 2082 transcripts w/ annotated readthrough transcription\n"
     ]
    }
   ],
   "source": [
    "rt_df = df.loc[(df.tag.notnull())&(df.tag.str.contains('readthrough_transcript'))]\n",
    "rt_df = rt_df[['gene_id', 'transcript_id']].drop_duplicates()\n",
    "rt_df['gid_stable'] = cerberus.get_stable_gid(rt_df, 'gene_id')\n",
    "n = len(rt_df.gene_id.unique().tolist())\n",
    "print(f'Gencode v40 has {n} genes w/ annotated readthrough transcription')\n",
    "n = len(rt_df.transcript_id.unique().tolist())\n",
    "print(f'Gencode v40 has {n} transcripts w/ annotated readthrough transcription')"
   ]
  },
  {
   "cell_type": "code",
   "execution_count": 26,
   "id": "7fdac7db-86d3-4789-a5fb-345f0f973694",
   "metadata": {},
   "outputs": [
    {
     "data": {
      "text/html": [
       "<div>\n",
       "<style scoped>\n",
       "    .dataframe tbody tr th:only-of-type {\n",
       "        vertical-align: middle;\n",
       "    }\n",
       "\n",
       "    .dataframe tbody tr th {\n",
       "        vertical-align: top;\n",
       "    }\n",
       "\n",
       "    .dataframe thead th {\n",
       "        text-align: right;\n",
       "    }\n",
       "</style>\n",
       "<table border=\"1\" class=\"dataframe\">\n",
       "  <thead>\n",
       "    <tr style=\"text-align: right;\">\n",
       "      <th></th>\n",
       "      <th>gene_id</th>\n",
       "      <th>transcript_id</th>\n",
       "      <th>gid_stable</th>\n",
       "    </tr>\n",
       "  </thead>\n",
       "  <tbody>\n",
       "    <tr>\n",
       "      <th>10466</th>\n",
       "      <td>ENSG00000251503.8</td>\n",
       "      <td>ENST00000400900.6</td>\n",
       "      <td>ENSG00000251503</td>\n",
       "    </tr>\n",
       "    <tr>\n",
       "      <th>10481</th>\n",
       "      <td>ENSG00000251503.8</td>\n",
       "      <td>ENST00000470413.6</td>\n",
       "      <td>ENSG00000251503</td>\n",
       "    </tr>\n",
       "    <tr>\n",
       "      <th>10494</th>\n",
       "      <td>ENSG00000251503.8</td>\n",
       "      <td>ENST00000602787.6</td>\n",
       "      <td>ENSG00000251503</td>\n",
       "    </tr>\n",
       "    <tr>\n",
       "      <th>10511</th>\n",
       "      <td>ENSG00000251503.8</td>\n",
       "      <td>ENST00000602296.6</td>\n",
       "      <td>ENSG00000251503</td>\n",
       "    </tr>\n",
       "    <tr>\n",
       "      <th>10524</th>\n",
       "      <td>ENSG00000251503.8</td>\n",
       "      <td>ENST00000465026.1</td>\n",
       "      <td>ENSG00000251503</td>\n",
       "    </tr>\n",
       "  </tbody>\n",
       "</table>\n",
       "</div>"
      ],
      "text/plain": [
       "                 gene_id      transcript_id       gid_stable\n",
       "10466  ENSG00000251503.8  ENST00000400900.6  ENSG00000251503\n",
       "10481  ENSG00000251503.8  ENST00000470413.6  ENSG00000251503\n",
       "10494  ENSG00000251503.8  ENST00000602787.6  ENSG00000251503\n",
       "10511  ENSG00000251503.8  ENST00000602296.6  ENSG00000251503\n",
       "10524  ENSG00000251503.8  ENST00000465026.1  ENSG00000251503"
      ]
     },
     "execution_count": 26,
     "metadata": {},
     "output_type": "execute_result"
    }
   ],
   "source": [
    "rt_df.head()"
   ]
  },
  {
   "cell_type": "markdown",
   "id": "8ad6eb0c-a606-4204-be0f-9ad41b5bbe84",
   "metadata": {},
   "source": [
    "## How many transcripts w/ annotated readthrough transcription do we detect?"
   ]
  },
  {
   "cell_type": "code",
   "execution_count": 27,
   "id": "97c7bf8e-360d-4936-bf44-d358c9f1a738",
   "metadata": {},
   "outputs": [
    {
     "data": {
      "text/plain": [
       "2075"
      ]
     },
     "execution_count": 27,
     "metadata": {},
     "output_type": "execute_result"
    }
   ],
   "source": [
    "df, _, _ = get_gtf_info(ver='v40_cerberus', how='iso')\n",
    "rt_df = df.loc[df.readthrough_transcript==True]\n",
    "len(rt_df.index)"
   ]
  },
  {
   "cell_type": "code",
   "execution_count": 28,
   "id": "6fc7e5aa-66f9-4912-9e79-30e65f650054",
   "metadata": {},
   "outputs": [
    {
     "name": "stdout",
     "output_type": "stream",
     "text": [
      "Calculating iso TPM values\n"
     ]
    },
    {
     "name": "stderr",
     "output_type": "stream",
     "text": [
      "/Users/fairliereese/Documents/programming/mortazavi_lab/data/paper_rnawg/proc_revisions/utils.py:2087: PerformanceWarning: DataFrame is highly fragmented.  This is usually the result of calling `frame.insert` many times, which has poor performance.  Consider joining all columns at once using pd.concat(axis=1) instead.  To get a de-fragmented frame, use `newframe = frame.copy()`\n",
      "  df[tpm_col] = (df[d]*1000000)/df[total_col]\n",
      "/Users/fairliereese/Documents/programming/mortazavi_lab/data/paper_rnawg/proc_revisions/utils.py:2086: PerformanceWarning: DataFrame is highly fragmented.  This is usually the result of calling `frame.insert` many times, which has poor performance.  Consider joining all columns at once using pd.concat(axis=1) instead.  To get a de-fragmented frame, use `newframe = frame.copy()`\n",
      "  df[total_col] = df[d].sum()\n"
     ]
    },
    {
     "name": "stdout",
     "output_type": "stream",
     "text": [
      "Enforcing minimum TPM\n",
      "Total # isos detected: 236615\n",
      "# isos >= 1 tpm: 213476\n",
      "Number of isos reported: 213476\n"
     ]
    }
   ],
   "source": [
    "ab_df = pd.read_csv(filt_ab, sep='\\t')\n",
    "ab_df, tids = get_tpm_table(ab_df, \n",
    "                         how='iso',\n",
    "                         min_tpm=1,\n",
    "                         gene_subset=None)"
   ]
  },
  {
   "cell_type": "code",
   "execution_count": 29,
   "id": "e192af9b-570b-405d-ad6e-ff737b0afdf0",
   "metadata": {},
   "outputs": [],
   "source": [
    "ab_df = ab_df.reset_index()\n",
    "ab_df.rename({'annot_transcript_id':'tid'}, axis=1, inplace=True)"
   ]
  },
  {
   "cell_type": "code",
   "execution_count": 30,
   "id": "57777c13-5b49-4205-b692-3ab38eec6ea0",
   "metadata": {},
   "outputs": [
    {
     "name": "stdout",
     "output_type": "stream",
     "text": [
      "14.02% (291/2075) of GENCODE v40 readthrough transcripts were observed\n"
     ]
    }
   ],
   "source": [
    "# % of rt gencode transcripts\n",
    "n = len(rt_df.index)\n",
    "n_num = len(ab_df.loc[ab_df.tid.isin(rt_df.tid.tolist())].index)\n",
    "print('{:.2f}% ({}/{}) of GENCODE v40 readthrough transcripts were observed'.format((n_num/n)*100, n_num, n))"
   ]
  },
  {
   "cell_type": "code",
   "execution_count": 36,
   "id": "3e80277d-d4dc-41c4-9ee7-b0db4df2cace",
   "metadata": {},
   "outputs": [
    {
     "name": "stdout",
     "output_type": "stream",
     "text": [
      "30.68% (301/981) of GENCODE v40 readthrough genes were observed\n"
     ]
    }
   ],
   "source": [
    "# % of rt gencode genes\n",
    "rt_df['gid_stable'] = cerberus.get_stable_gid(rt_df, 'gid')\n",
    "ab_df['gid'] = ab_df.tid.str.split('[', expand=True)[0]\n",
    "n = len(rt_df.gid_stable.unique().tolist())\n",
    "n_num = len(ab_df.loc[ab_df.gid.isin(rt_df.gid_stable.tolist())].gid.unique().tolist())\n",
    "print('{:.2f}% ({}/{}) of GENCODE v40 readthrough genes were observed'.format((n_num/n)*100, n_num, n))"
   ]
  },
  {
   "cell_type": "markdown",
   "id": "19960371-5d30-4b35-8eca-cf120ebd5ca4",
   "metadata": {},
   "source": [
    "## What does the expression of known readthrough loci look like compared to novel?"
   ]
  },
  {
   "cell_type": "code",
   "execution_count": 37,
   "id": "beb52858-601c-48a0-86f0-8b083bf62bde",
   "metadata": {},
   "outputs": [
    {
     "data": {
      "text/plain": [
       "2075"
      ]
     },
     "execution_count": 37,
     "metadata": {},
     "output_type": "execute_result"
    }
   ],
   "source": [
    "df, _, _ = get_gtf_info(ver='v40_cerberus', how='iso')\n",
    "rt_df = df.loc[df.readthrough_transcript==True]\n",
    "len(rt_df.index)"
   ]
  },
  {
   "cell_type": "code",
   "execution_count": 38,
   "id": "25c98695-ac1f-4818-b34b-4185db487aa1",
   "metadata": {},
   "outputs": [
    {
     "name": "stdout",
     "output_type": "stream",
     "text": [
      "Calculating iso TPM values\n"
     ]
    },
    {
     "name": "stderr",
     "output_type": "stream",
     "text": [
      "/Users/fairliereese/Documents/programming/mortazavi_lab/data/paper_rnawg/proc_revisions/utils.py:2087: PerformanceWarning: DataFrame is highly fragmented.  This is usually the result of calling `frame.insert` many times, which has poor performance.  Consider joining all columns at once using pd.concat(axis=1) instead.  To get a de-fragmented frame, use `newframe = frame.copy()`\n",
      "  df[tpm_col] = (df[d]*1000000)/df[total_col]\n",
      "/Users/fairliereese/Documents/programming/mortazavi_lab/data/paper_rnawg/proc_revisions/utils.py:2086: PerformanceWarning: DataFrame is highly fragmented.  This is usually the result of calling `frame.insert` many times, which has poor performance.  Consider joining all columns at once using pd.concat(axis=1) instead.  To get a de-fragmented frame, use `newframe = frame.copy()`\n",
      "  df[total_col] = df[d].sum()\n"
     ]
    },
    {
     "name": "stdout",
     "output_type": "stream",
     "text": [
      "Enforcing minimum TPM\n",
      "Total # isos detected: 236615\n",
      "# isos >= 1 tpm: 213476\n",
      "Number of isos reported: 213476\n"
     ]
    }
   ],
   "source": [
    "ab_df = pd.read_csv(filt_ab, sep='\\t')\n",
    "ab_df, tids = get_tpm_table(ab_df, \n",
    "                         how='iso',\n",
    "                         min_tpm=1,\n",
    "                         gene_subset=None)\n",
    "ab_df = ab_df.reset_index()\n",
    "ab_df.rename({'annot_transcript_id':'tid'}, axis=1, inplace=True)\n",
    "ab_df['readthrough_novelty'] = ''\n",
    "ab_df.loc[ab_df.tid.isin(rt_df.tid.tolist()), 'readthrough_novelty'] = 'Known'\n",
    "ab_df['gid'] = ab_df.tid.str.split('[', expand=True)[0]"
   ]
  },
  {
   "cell_type": "code",
   "execution_count": 39,
   "id": "46a651d3-92e5-4e0d-b811-ab1612169f53",
   "metadata": {},
   "outputs": [],
   "source": [
    "df = pd.read_csv(filt_ab, sep='\\t')\n",
    "df['gid'] = df.annot_transcript_id.str.split('[', expand=True)[0]\n",
    "df = df[['gid', 'gene_novelty']].drop_duplicates()"
   ]
  },
  {
   "cell_type": "code",
   "execution_count": 40,
   "id": "570a49f4-72b7-4ba4-8a5d-a365496f325e",
   "metadata": {},
   "outputs": [
    {
     "data": {
      "text/plain": [
       "80"
      ]
     },
     "execution_count": 40,
     "metadata": {},
     "output_type": "execute_result"
    }
   ],
   "source": [
    "len(df.loc[df.gene_novelty.str.contains('Fusion')].index)"
   ]
  },
  {
   "cell_type": "code",
   "execution_count": 41,
   "id": "fbbdd2ff-76b3-41b5-a45b-f8653781b2e4",
   "metadata": {},
   "outputs": [],
   "source": [
    "df = df.loc[df.gene_novelty.str.contains('Fusion')]"
   ]
  },
  {
   "cell_type": "code",
   "execution_count": 42,
   "id": "e99fc939-a019-4844-9f85-7e56b26d8fc7",
   "metadata": {},
   "outputs": [],
   "source": [
    "ab_df.loc[ab_df.gid.isin(df.gid.tolist()), 'readthrough_novelty'] = 'Novel'"
   ]
  },
  {
   "cell_type": "code",
   "execution_count": 43,
   "id": "ee271d33-bd25-4913-a1cd-1cfae5055479",
   "metadata": {},
   "outputs": [],
   "source": [
    "ab_df = ab_df.loc[ab_df.readthrough_novelty!='']"
   ]
  },
  {
   "cell_type": "code",
   "execution_count": 44,
   "id": "7883524b-a2b0-4747-9588-e57659b78f2a",
   "metadata": {},
   "outputs": [
    {
     "data": {
      "text/html": [
       "<div>\n",
       "<style scoped>\n",
       "    .dataframe tbody tr th:only-of-type {\n",
       "        vertical-align: middle;\n",
       "    }\n",
       "\n",
       "    .dataframe tbody tr th {\n",
       "        vertical-align: top;\n",
       "    }\n",
       "\n",
       "    .dataframe thead th {\n",
       "        text-align: right;\n",
       "    }\n",
       "</style>\n",
       "<table border=\"1\" class=\"dataframe\">\n",
       "  <thead>\n",
       "    <tr style=\"text-align: right;\">\n",
       "      <th></th>\n",
       "      <th>readthrough_novelty</th>\n",
       "      <th>n_transcripts</th>\n",
       "    </tr>\n",
       "  </thead>\n",
       "  <tbody>\n",
       "    <tr>\n",
       "      <th>0</th>\n",
       "      <td>Known</td>\n",
       "      <td>291</td>\n",
       "    </tr>\n",
       "    <tr>\n",
       "      <th>1</th>\n",
       "      <td>Novel</td>\n",
       "      <td>184</td>\n",
       "    </tr>\n",
       "  </tbody>\n",
       "</table>\n",
       "</div>"
      ],
      "text/plain": [
       "  readthrough_novelty  n_transcripts\n",
       "0               Known            291\n",
       "1               Novel            184"
      ]
     },
     "execution_count": 44,
     "metadata": {},
     "output_type": "execute_result"
    }
   ],
   "source": [
    "ab_df[['tid', 'readthrough_novelty']].groupby('readthrough_novelty').count().reset_index().rename({'tid':'n_transcripts'}, axis=1)"
   ]
  },
  {
   "cell_type": "code",
   "execution_count": 45,
   "id": "ea19a493-9be0-423c-9a3a-d01b2130739f",
   "metadata": {},
   "outputs": [],
   "source": [
    "datasets = get_datasets('human')\n",
    "ab_df['max_tpm'] = ab_df[datasets].max(axis=1)\n",
    "ab_df.drop(datasets, axis=1, inplace=True)"
   ]
  },
  {
   "cell_type": "code",
   "execution_count": 46,
   "id": "ad12005a-2aaf-459d-be24-d61aaa4fca57",
   "metadata": {},
   "outputs": [
    {
     "data": {
      "text/html": [
       "<div>\n",
       "<style scoped>\n",
       "    .dataframe tbody tr th:only-of-type {\n",
       "        vertical-align: middle;\n",
       "    }\n",
       "\n",
       "    .dataframe tbody tr th {\n",
       "        vertical-align: top;\n",
       "    }\n",
       "\n",
       "    .dataframe thead th {\n",
       "        text-align: right;\n",
       "    }\n",
       "</style>\n",
       "<table border=\"1\" class=\"dataframe\">\n",
       "  <thead>\n",
       "    <tr style=\"text-align: right;\">\n",
       "      <th></th>\n",
       "      <th>tid</th>\n",
       "      <th>readthrough_novelty</th>\n",
       "      <th>gid</th>\n",
       "      <th>max_tpm</th>\n",
       "      <th>log2_max_tpm</th>\n",
       "    </tr>\n",
       "  </thead>\n",
       "  <tbody>\n",
       "    <tr>\n",
       "      <th>3382</th>\n",
       "      <td>ENSG00000011052[1,1,1]</td>\n",
       "      <td>Known</td>\n",
       "      <td>ENSG00000011052</td>\n",
       "      <td>59.771449</td>\n",
       "      <td>5.901385</td>\n",
       "    </tr>\n",
       "    <tr>\n",
       "      <th>3383</th>\n",
       "      <td>ENSG00000011052[1,2,1]</td>\n",
       "      <td>Known</td>\n",
       "      <td>ENSG00000011052</td>\n",
       "      <td>2.490477</td>\n",
       "      <td>1.316422</td>\n",
       "    </tr>\n",
       "    <tr>\n",
       "      <th>3384</th>\n",
       "      <td>ENSG00000011052[1,3,1]</td>\n",
       "      <td>Known</td>\n",
       "      <td>ENSG00000011052</td>\n",
       "      <td>3.382183</td>\n",
       "      <td>1.757955</td>\n",
       "    </tr>\n",
       "    <tr>\n",
       "      <th>11935</th>\n",
       "      <td>ENSG00000064489[1,1,1]</td>\n",
       "      <td>Known</td>\n",
       "      <td>ENSG00000064489</td>\n",
       "      <td>1.596913</td>\n",
       "      <td>0.675286</td>\n",
       "    </tr>\n",
       "    <tr>\n",
       "      <th>11937</th>\n",
       "      <td>ENSG00000064489[1,4,1]</td>\n",
       "      <td>Known</td>\n",
       "      <td>ENSG00000064489</td>\n",
       "      <td>2.044187</td>\n",
       "      <td>1.031527</td>\n",
       "    </tr>\n",
       "  </tbody>\n",
       "</table>\n",
       "</div>"
      ],
      "text/plain": [
       "                          tid readthrough_novelty              gid    max_tpm  \\\n",
       "3382   ENSG00000011052[1,1,1]               Known  ENSG00000011052  59.771449   \n",
       "3383   ENSG00000011052[1,2,1]               Known  ENSG00000011052   2.490477   \n",
       "3384   ENSG00000011052[1,3,1]               Known  ENSG00000011052   3.382183   \n",
       "11935  ENSG00000064489[1,1,1]               Known  ENSG00000064489   1.596913   \n",
       "11937  ENSG00000064489[1,4,1]               Known  ENSG00000064489   2.044187   \n",
       "\n",
       "       log2_max_tpm  \n",
       "3382       5.901385  \n",
       "3383       1.316422  \n",
       "3384       1.757955  \n",
       "11935      0.675286  \n",
       "11937      1.031527  "
      ]
     },
     "execution_count": 46,
     "metadata": {},
     "output_type": "execute_result"
    }
   ],
   "source": [
    "ab_df['log2_max_tpm'] = np.log2(ab_df.max_tpm)\n",
    "ab_df.head()"
   ]
  },
  {
   "cell_type": "code",
   "execution_count": 47,
   "id": "c94b1020-a3a1-486c-8ae9-7dd5aeb2123d",
   "metadata": {},
   "outputs": [
    {
     "data": {
      "image/png": "[encoded data removed]",
      "text/plain": [
       "<Figure size 432x288 with 1 Axes>"
      ]
     },
     "metadata": {
      "needs_background": "light"
     },
     "output_type": "display_data"
    }
   ],
   "source": [
    "mpl.rcParams['font.family'] = 'Arial'\n",
    "mpl.rcParams['pdf.fonttype'] = 42\n",
    "sns.set_context('paper', font_scale=1.8)\n",
    "\n",
    "order = ['Known', 'Novel']\n",
    "\n",
    "ax = sns.violinplot(ab_df, hue='readthrough_novelty', x='readthrough_novelty', y='log2_max_tpm',\n",
    "                 order=order, alpha=0.2)\n",
    "# ax.set(yscale='log', ylabel='Max. gene TPM across datasets', xlabel='')\n",
    "ax.set(ylabel='Max. log2(gene TPM) across datasets', xlabel='')\n",
    "# ax.legend.remove()\n",
    "ax.get_legend().set_visible(False)\n",
    "ax.spines['right'].set_visible(False)\n",
    "ax.spines['top'].set_visible(False)\n",
    "ax.tick_params(axis=\"x\", rotation=45)"
   ]
  },
  {
   "cell_type": "code",
   "execution_count": 48,
   "id": "8dad3ebb-17e1-429d-bada-a3236b96cdb1",
   "metadata": {},
   "outputs": [],
   "source": [
    "ab_df.head()\n",
    "ab_df.to_csv('human_known_novel_readthrough.tsv', sep='\\t', index=False)"
   ]
  },
  {
   "cell_type": "markdown",
   "id": "1516b038-ba27-45e0-9855-fa0c026f9367",
   "metadata": {},
   "source": []
  },
  {
   "cell_type": "code",
   "execution_count": 201,
   "id": "b029c0bb-0d5e-4f78-bf55-f4cca8a60642",
   "metadata": {},
   "outputs": [],
   "source": [
    "# df = pd.read_csv('human_known_novel_readthrough.tsv', sep='\\t')\n",
    "# df.head()"
   ]
  },
  {
   "cell_type": "code",
   "execution_count": 202,
   "id": "4e2e1fe5-bc91-46cd-8d21-466e4dcd1eab",
   "metadata": {},
   "outputs": [],
   "source": [
    "# tids = df.tid.tolist()"
   ]
  },
  {
   "cell_type": "code",
   "execution_count": 51,
   "id": "44b29158-f368-408c-beac-370d733a753b",
   "metadata": {},
   "outputs": [],
   "source": []
  },
  {
   "cell_type": "code",
   "execution_count": 52,
   "id": "09861b3d-f02d-4754-9243-ac47761406fd",
   "metadata": {},
   "outputs": [],
   "source": []
  },
  {
   "cell_type": "code",
   "execution_count": null,
   "id": "750d168f-fc61-4c08-a8cf-a136fc3497e7",
   "metadata": {},
   "outputs": [],
   "source": []
  },
  {
   "cell_type": "code",
   "execution_count": null,
   "id": "40e9f40f-8a1d-4ade-ad0a-dd600740d5fe",
   "metadata": {},
   "outputs": [],
   "source": []
  },
  {
   "cell_type": "code",
   "execution_count": null,
   "id": "3ec5e710-9d6b-4bf6-b045-25e58d68f623",
   "metadata": {},
   "outputs": [],
   "source": []
  }
 ],
 "metadata": {
  "kernelspec": {
   "display_name": "Python 3",
   "language": "python",
   "name": "python3"
  },
  "language_info": {
   "codemirror_mode": {
    "name": "ipython",
    "version": 3
   },
   "file_extension": ".py",
   "mimetype": "text/x-python",
   "name": "python",
   "nbconvert_exporter": "python",
   "pygments_lexer": "ipython3",
   "version": "3.7.12"
  }
 },
 "nbformat": 4,
 "nbformat_minor": 5
}
