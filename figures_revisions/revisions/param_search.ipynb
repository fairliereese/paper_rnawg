{
 "cells": [
  {
   "cell_type": "code",
   "execution_count": 6,
   "id": "be6923cd-35d7-459a-a4c0-7104f2269316",
   "metadata": {},
   "outputs": [],
   "source": [
    "import pandas as pd\n",
    "import numpy as np\n",
    "import scipy.stats as st\n",
    "import seaborn as sns\n",
    "import sys\n",
    "import os\n",
    "import gseapy as gp\n",
    "import matplotlib.pyplot as plt\n",
    "import swan_vis as swan\n",
    "import yaml\n",
    "from snakemake.io import expand\n",
    "\n",
    "p = os.path.dirname(os.path.dirname(os.getcwd()))\n",
    "sys.path.append(p)\n",
    "\n",
    "from proc_revisions.utils import *\n",
    "from proc_revisions.plotting import *\n",
    "# from proc_revisions.mane_utils import *"
   ]
  },
  {
   "cell_type": "code",
   "execution_count": 7,
   "id": "a4316f85-2d9b-40ff-856d-514bd5261b4d",
   "metadata": {},
   "outputs": [],
   "source": [
    "od = '../../proc_revisions/'\n",
    "config_file = f'{od}/config.yml'\n",
    "with open(config_file) as f:\n",
    "    config = yaml.safe_load(f)"
   ]
  },
  {
   "cell_type": "code",
   "execution_count": 8,
   "id": "0d8dd70b-9a93-466e-b12d-9654756e4add",
   "metadata": {},
   "outputs": [],
   "source": [
    "ab = od+expand(config['lr']['talon']['fusion_fix']['ab'], species='human')[0]\n",
    "filt_ab = od+expand(config['lr']['cerberus']['filt_ab'], species='human')[0]\n",
    "read_annot = od+expand(config['lr']['talon']['full_annot'], species='human')[0]\n",
    "t_metadata = od+expand(config['ref']['cerberus']['new_gtf_t_info'], species='human')[0]\n",
    "lib_meta = od+expand(config['lr']['meta'], species='human')[0]\n",
    "swan_file = od+expand(config['lr']['swan']['sg'], species='human')[0]\n",
    "cerberus_h5 = od+expand(config['lr']['cerberus']['ca_triplets'], species='human', obs_col='sample')[0]\n",
    "cerb_t_metadata = od+expand(config['lr']['cerberus']['gtf_t_info'], species='human')[0]\n",
    "major_isos = od+expand(config['lr']['analysis']['major_isos'], species='human', obs_col='sample')[0]\n",
    "pi_tpm_table = od+expand(config['lr']['mane']['pi_tpm']['triplet'], species='human', obs_col='sample')[0]\n",
    "\n",
    "ref_t_metadata = od+expand(config['ref']['new_gtf_t_info'], species='human')[0]\n",
    "ref_g_metadata = od+expand(config['ref']['new_gtf_g_info'], species='human')[0]\n",
    "read_annot = od+expand(config['lr']['talon']['full_annot'], species='human')[0]\n",
    "\n",
    "talon_ref_gtf = od+expand(config['ref']['talon']['gtf'], species='human')[0]\n",
    "# pp_summary = '../'+expand(config['data']['p_pred']['summary'], species='human')[0]\n",
    "\n",
    "ver = 'v40_cerberus'\n",
    "min_tpm = 1\n",
    "gene_subset = 'polya'\n",
    "obs_col = 'sample'\n",
    "go_gene_subset = 'protein_coding'\n",
    "predom_iso_subset = 'protein_coding'\n",
    "dist_gene_subset = 'protein_coding'\n",
    "\n",
    "m_lib_meta = od+expand(config['lr']['meta'], species='mouse')[0]"
   ]
  },
  {
   "cell_type": "markdown",
   "id": "56d4a505-2fb7-4280-a98d-08e73c0eb8cb",
   "metadata": {},
   "source": [
    "## 240111 how frequently do the changes result in a change in sector?"
   ]
  },
  {
   "cell_type": "code",
   "execution_count": 4,
   "id": "18268689-12c6-4b55-8eb1-a11097025d15",
   "metadata": {},
   "outputs": [],
   "source": [
    "dist_summ_file = '/Users/fairliereese/Documents/programming/mortazavi_lab/data/paper_rnawg/proc_revisions/data/human/lr/param_search/dist_summary.tsv'"
   ]
  },
  {
   "cell_type": "code",
   "execution_count": 43,
   "id": "a8a4fb8a-f8b4-4083-b4c6-d160e68bb70b",
   "metadata": {},
   "outputs": [
    {
     "data": {
      "text/plain": [
       "31"
      ]
     },
     "execution_count": 43,
     "metadata": {},
     "output_type": "execute_result"
    }
   ],
   "source": [
    "column_names = [\n",
    "    'gid', 'n_tss', 'n_tes', 'n_ic', 'n_iso', 'splicing_ratio',\n",
    "    'tss_ratio', 'tes_ratio', 'spl_ratio', 'sector', 'tss_dist',\n",
    "    'tes_dist', 'tss_slack', 'tes_slack', 'tss_agg_dist', 'tes_agg_dist',\n",
    "    'gid_stable', 'source_obs', 'n_tss_obs', 'n_tes_obs', 'n_ic_obs',\n",
    "    'n_iso_obs', 'splicing_ratio_obs', 'tss_ratio_obs', 'tes_ratio_obs',\n",
    "    'spl_ratio_obs', 'sector_obs', 'dist', 'z_score', 'comparison',\n",
    "    'same_sect'\n",
    "]\n",
    "col_nums = [0, 10, 11, 12, 13, 14, 15, 27, 28, 29, 30]\n",
    "len(column_names)"
   ]
  },
  {
   "cell_type": "code",
   "execution_count": 44,
   "id": "85cb4fcc-dae9-4be2-9b49-25260f26ae4f",
   "metadata": {},
   "outputs": [
    {
     "data": {
      "text/plain": [
       "[0, 10, 11, 12, 13, 14, 15, 27, 28, 29, 30]"
      ]
     },
     "execution_count": 44,
     "metadata": {},
     "output_type": "execute_result"
    }
   ],
   "source": [
    "col_nums"
   ]
  },
  {
   "cell_type": "code",
   "execution_count": null,
   "id": "72c4664f-93a2-48bd-af27-952aa1e9fae6",
   "metadata": {},
   "outputs": [],
   "source": []
  },
  {
   "cell_type": "code",
   "execution_count": 95,
   "id": "2148aec2-5cf0-4fa5-84d7-ea438e912414",
   "metadata": {},
   "outputs": [
    {
     "data": {
      "text/html": [
       "<div>\n",
       "<style scoped>\n",
       "    .dataframe tbody tr th:only-of-type {\n",
       "        vertical-align: middle;\n",
       "    }\n",
       "\n",
       "    .dataframe tbody tr th {\n",
       "        vertical-align: top;\n",
       "    }\n",
       "\n",
       "    .dataframe thead th {\n",
       "        text-align: right;\n",
       "    }\n",
       "</style>\n",
       "<table border=\"1\" class=\"dataframe\">\n",
       "  <thead>\n",
       "    <tr style=\"text-align: right;\">\n",
       "      <th></th>\n",
       "      <th>gid</th>\n",
       "      <th>tss_dist</th>\n",
       "      <th>tes_dist</th>\n",
       "      <th>tss_slack</th>\n",
       "      <th>tes_slack</th>\n",
       "      <th>tss_agg_dist</th>\n",
       "      <th>tes_agg_dist</th>\n",
       "      <th>dist</th>\n",
       "      <th>z_score</th>\n",
       "      <th>comparison</th>\n",
       "      <th>same_sect</th>\n",
       "    </tr>\n",
       "  </thead>\n",
       "  <tbody>\n",
       "    <tr>\n",
       "      <th>0</th>\n",
       "      <td>ENSG00000000003</td>\n",
       "      <td>0</td>\n",
       "      <td>0</td>\n",
       "      <td>0</td>\n",
       "      <td>0</td>\n",
       "      <td>0</td>\n",
       "      <td>0</td>\n",
       "      <td>0.184642</td>\n",
       "      <td>0.524752</td>\n",
       "      <td>det</td>\n",
       "      <td>True</td>\n",
       "    </tr>\n",
       "    <tr>\n",
       "      <th>1</th>\n",
       "      <td>ENSG00000000005</td>\n",
       "      <td>0</td>\n",
       "      <td>0</td>\n",
       "      <td>0</td>\n",
       "      <td>0</td>\n",
       "      <td>0</td>\n",
       "      <td>0</td>\n",
       "      <td>0.000000</td>\n",
       "      <td>-1.587093</td>\n",
       "      <td>det</td>\n",
       "      <td>True</td>\n",
       "    </tr>\n",
       "    <tr>\n",
       "      <th>2</th>\n",
       "      <td>ENSG00000000419</td>\n",
       "      <td>0</td>\n",
       "      <td>0</td>\n",
       "      <td>0</td>\n",
       "      <td>0</td>\n",
       "      <td>0</td>\n",
       "      <td>0</td>\n",
       "      <td>0.243257</td>\n",
       "      <td>1.195151</td>\n",
       "      <td>det</td>\n",
       "      <td>True</td>\n",
       "    </tr>\n",
       "    <tr>\n",
       "      <th>3</th>\n",
       "      <td>ENSG00000000457</td>\n",
       "      <td>0</td>\n",
       "      <td>0</td>\n",
       "      <td>0</td>\n",
       "      <td>0</td>\n",
       "      <td>0</td>\n",
       "      <td>0</td>\n",
       "      <td>0.102889</td>\n",
       "      <td>-0.410303</td>\n",
       "      <td>det</td>\n",
       "      <td>False</td>\n",
       "    </tr>\n",
       "    <tr>\n",
       "      <th>4</th>\n",
       "      <td>ENSG00000000460</td>\n",
       "      <td>0</td>\n",
       "      <td>0</td>\n",
       "      <td>0</td>\n",
       "      <td>0</td>\n",
       "      <td>0</td>\n",
       "      <td>0</td>\n",
       "      <td>0.132749</td>\n",
       "      <td>-0.068773</td>\n",
       "      <td>det</td>\n",
       "      <td>True</td>\n",
       "    </tr>\n",
       "  </tbody>\n",
       "</table>\n",
       "</div>"
      ],
      "text/plain": [
       "               gid  tss_dist  tes_dist  tss_slack  tes_slack  tss_agg_dist  \\\n",
       "0  ENSG00000000003         0         0          0          0             0   \n",
       "1  ENSG00000000005         0         0          0          0             0   \n",
       "2  ENSG00000000419         0         0          0          0             0   \n",
       "3  ENSG00000000457         0         0          0          0             0   \n",
       "4  ENSG00000000460         0         0          0          0             0   \n",
       "\n",
       "   tes_agg_dist      dist   z_score comparison  same_sect  \n",
       "0             0  0.184642  0.524752        det       True  \n",
       "1             0  0.000000 -1.587093        det       True  \n",
       "2             0  0.243257  1.195151        det       True  \n",
       "3             0  0.102889 -0.410303        det      False  \n",
       "4             0  0.132749 -0.068773        det       True  "
      ]
     },
     "execution_count": 95,
     "metadata": {},
     "output_type": "execute_result"
    }
   ],
   "source": [
    "# df = pd.read_csv(dist_summ_file, usecols=col_nums, nrows=40000, sep='\\t')\n",
    "# df = pd.read_csv(dist_summ_file,usecols=[10,11,12,13,24,15,27,28,29,30],sep='\\t',nrows=40000)\n",
    "df = pd.read_csv(dist_summ_file,usecols=col_nums,sep='\\t')\n",
    "df.head()"
   ]
  },
  {
   "cell_type": "code",
   "execution_count": null,
   "id": "4516a44b-697d-4d08-9146-fe95704dfdd8",
   "metadata": {},
   "outputs": [],
   "source": [
    "p = 'tss_dist'\n",
    "temp = df[[p, 'same_sect', 'comparison', 'gid']].groupby([p, 'same_sect', 'comparison']).nunique().reset_index()"
   ]
  },
  {
   "cell_type": "code",
   "execution_count": null,
   "id": "2cb7f2e3-efc5-411e-bafb-544d60b9cd77",
   "metadata": {},
   "outputs": [],
   "source": [
    "#    tss_dist  same_sect comparison  n_genes\n",
    "# 0         0      False        det    11821"
   ]
  },
  {
   "cell_type": "code",
   "execution_count": 114,
   "id": "36b67be2-a9c8-4de3-b4ac-4a4a5dbff3a5",
   "metadata": {},
   "outputs": [],
   "source": [
    "temp = df[params+['same_sect', 'comparison', 'gid']].groupby(params+['same_sect', 'comparison']).count().reset_index()\n",
    "temp.rename({'gid':'n_genes'}, axis=1, inplace=True)\n",
    "temp = temp.merge(temp[params+['n_genes', 'comparison']].groupby(params+['comparison']).sum().reset_index().rename({'n_genes': 'n_genes_run_total'}, axis=1),\n",
    "                                                                 how='left',\n",
    "                                                                 on=params+['comparison'])\n",
    "temp['perc'] = (temp['n_genes']/temp['n_genes_run_total'])*100"
   ]
  },
  {
   "cell_type": "code",
   "execution_count": 116,
   "id": "52b6f685-05c7-4a30-95c7-1e62a75a4f07",
   "metadata": {},
   "outputs": [],
   "source": [
    "temp = temp.loc[temp.same_sect==True]"
   ]
  },
  {
   "cell_type": "code",
   "execution_count": null,
   "id": "1f923776-78bb-4949-8c42-45d956c5d426",
   "metadata": {},
   "outputs": [],
   "source": []
  },
  {
   "cell_type": "code",
   "execution_count": null,
   "id": "b0db2a85-2ae2-44b2-9b5e-c503ded78f27",
   "metadata": {},
   "outputs": [],
   "source": []
  },
  {
   "cell_type": "code",
   "execution_count": 105,
   "id": "3586690b-539f-4c3a-bf36-a3dec5b6f737",
   "metadata": {},
   "outputs": [
    {
     "name": "stdout",
     "output_type": "stream",
     "text": [
      "> \u001b[0;32m<ipython-input-105-da839265eb5c>\u001b[0m(8)\u001b[0;36m<module>\u001b[0;34m()\u001b[0m\n",
      "\u001b[0;32m      6 \u001b[0;31m    \u001b[0mtemp\u001b[0m\u001b[0;34m.\u001b[0m\u001b[0mrename\u001b[0m\u001b[0;34m(\u001b[0m\u001b[0;34m{\u001b[0m\u001b[0;34m'gid'\u001b[0m\u001b[0;34m:\u001b[0m\u001b[0;34m'n_genes'\u001b[0m\u001b[0;34m}\u001b[0m\u001b[0;34m,\u001b[0m \u001b[0maxis\u001b[0m\u001b[0;34m=\u001b[0m\u001b[0;36m1\u001b[0m\u001b[0;34m,\u001b[0m \u001b[0minplace\u001b[0m\u001b[0;34m=\u001b[0m\u001b[0;32mTrue\u001b[0m\u001b[0;34m)\u001b[0m\u001b[0;34m\u001b[0m\u001b[0;34m\u001b[0m\u001b[0m\n",
      "\u001b[0m\u001b[0;32m      7 \u001b[0;31m    \u001b[0;32mimport\u001b[0m \u001b[0mpdb\u001b[0m\u001b[0;34m;\u001b[0m \u001b[0mpdb\u001b[0m\u001b[0;34m.\u001b[0m\u001b[0mset_trace\u001b[0m\u001b[0;34m(\u001b[0m\u001b[0;34m)\u001b[0m\u001b[0;34m\u001b[0m\u001b[0;34m\u001b[0m\u001b[0m\n",
      "\u001b[0m\u001b[0;32m----> 8 \u001b[0;31m    temp = temp.merge(temp[['n_genes', p, 'comparison']].groupby([p, 'comparison']).sum().reset_index().rename({'n_genes':'n_genes_com'}, axis=1),\n",
      "\u001b[0m\u001b[0;32m      9 \u001b[0;31m                      \u001b[0mhow\u001b[0m\u001b[0;34m=\u001b[0m\u001b[0;34m'left'\u001b[0m\u001b[0;34m,\u001b[0m\u001b[0;34m\u001b[0m\u001b[0;34m\u001b[0m\u001b[0m\n",
      "\u001b[0m\u001b[0;32m     10 \u001b[0;31m                      on=[p, 'comparison'])\n",
      "\u001b[0m\n"
     ]
    },
    {
     "name": "stdin",
     "output_type": "stream",
     "text": [
      "ipdb>  temp.head()\n"
     ]
    },
    {
     "name": "stdout",
     "output_type": "stream",
     "text": [
      "   tss_dist  same_sect comparison  n_genes\n",
      "0         0      False        det    11821\n",
      "1         0      False      major    11058\n",
      "2         0       True        det    16777\n",
      "3         0       True      major    16696\n",
      "4        25      False        det     8742\n"
     ]
    },
    {
     "name": "stdin",
     "output_type": "stream",
     "text": [
      "ipdb>  q\n"
     ]
    },
    {
     "ename": "BdbQuit",
     "evalue": "",
     "output_type": "error",
     "traceback": [
      "\u001b[0;31m---------------------------------------------------------------------------\u001b[0m",
      "\u001b[0;31mBdbQuit\u001b[0m                                   Traceback (most recent call last)",
      "\u001b[0;32m<ipython-input-105-da839265eb5c>\u001b[0m in \u001b[0;36m<module>\u001b[0;34m\u001b[0m\n\u001b[1;32m      6\u001b[0m     \u001b[0mtemp\u001b[0m\u001b[0;34m.\u001b[0m\u001b[0mrename\u001b[0m\u001b[0;34m(\u001b[0m\u001b[0;34m{\u001b[0m\u001b[0;34m'gid'\u001b[0m\u001b[0;34m:\u001b[0m\u001b[0;34m'n_genes'\u001b[0m\u001b[0;34m}\u001b[0m\u001b[0;34m,\u001b[0m \u001b[0maxis\u001b[0m\u001b[0;34m=\u001b[0m\u001b[0;36m1\u001b[0m\u001b[0;34m,\u001b[0m \u001b[0minplace\u001b[0m\u001b[0;34m=\u001b[0m\u001b[0;32mTrue\u001b[0m\u001b[0;34m)\u001b[0m\u001b[0;34m\u001b[0m\u001b[0;34m\u001b[0m\u001b[0m\n\u001b[1;32m      7\u001b[0m     \u001b[0;32mimport\u001b[0m \u001b[0mpdb\u001b[0m\u001b[0;34m;\u001b[0m \u001b[0mpdb\u001b[0m\u001b[0;34m.\u001b[0m\u001b[0mset_trace\u001b[0m\u001b[0;34m(\u001b[0m\u001b[0;34m)\u001b[0m\u001b[0;34m\u001b[0m\u001b[0;34m\u001b[0m\u001b[0m\n\u001b[0;32m----> 8\u001b[0;31m     temp = temp.merge(temp[['n_genes', p, 'comparison']].groupby([p, 'comparison']).sum().reset_index().rename({'n_genes':'n_genes_com'}, axis=1),\n\u001b[0m\u001b[1;32m      9\u001b[0m                       \u001b[0mhow\u001b[0m\u001b[0;34m=\u001b[0m\u001b[0;34m'left'\u001b[0m\u001b[0;34m,\u001b[0m\u001b[0;34m\u001b[0m\u001b[0;34m\u001b[0m\u001b[0m\n\u001b[1;32m     10\u001b[0m                       on=[p, 'comparison'])\n",
      "\u001b[0;32m<ipython-input-105-da839265eb5c>\u001b[0m in \u001b[0;36m<module>\u001b[0;34m\u001b[0m\n\u001b[1;32m      6\u001b[0m     \u001b[0mtemp\u001b[0m\u001b[0;34m.\u001b[0m\u001b[0mrename\u001b[0m\u001b[0;34m(\u001b[0m\u001b[0;34m{\u001b[0m\u001b[0;34m'gid'\u001b[0m\u001b[0;34m:\u001b[0m\u001b[0;34m'n_genes'\u001b[0m\u001b[0;34m}\u001b[0m\u001b[0;34m,\u001b[0m \u001b[0maxis\u001b[0m\u001b[0;34m=\u001b[0m\u001b[0;36m1\u001b[0m\u001b[0;34m,\u001b[0m \u001b[0minplace\u001b[0m\u001b[0;34m=\u001b[0m\u001b[0;32mTrue\u001b[0m\u001b[0;34m)\u001b[0m\u001b[0;34m\u001b[0m\u001b[0;34m\u001b[0m\u001b[0m\n\u001b[1;32m      7\u001b[0m     \u001b[0;32mimport\u001b[0m \u001b[0mpdb\u001b[0m\u001b[0;34m;\u001b[0m \u001b[0mpdb\u001b[0m\u001b[0;34m.\u001b[0m\u001b[0mset_trace\u001b[0m\u001b[0;34m(\u001b[0m\u001b[0;34m)\u001b[0m\u001b[0;34m\u001b[0m\u001b[0;34m\u001b[0m\u001b[0m\n\u001b[0;32m----> 8\u001b[0;31m     temp = temp.merge(temp[['n_genes', p, 'comparison']].groupby([p, 'comparison']).sum().reset_index().rename({'n_genes':'n_genes_com'}, axis=1),\n\u001b[0m\u001b[1;32m      9\u001b[0m                       \u001b[0mhow\u001b[0m\u001b[0;34m=\u001b[0m\u001b[0;34m'left'\u001b[0m\u001b[0;34m,\u001b[0m\u001b[0;34m\u001b[0m\u001b[0;34m\u001b[0m\u001b[0m\n\u001b[1;32m     10\u001b[0m                       on=[p, 'comparison'])\n",
      "\u001b[0;32m~/miniconda3/lib/python3.7/bdb.py\u001b[0m in \u001b[0;36mtrace_dispatch\u001b[0;34m(self, frame, event, arg)\u001b[0m\n\u001b[1;32m     86\u001b[0m             \u001b[0;32mreturn\u001b[0m \u001b[0;31m# None\u001b[0m\u001b[0;34m\u001b[0m\u001b[0;34m\u001b[0m\u001b[0m\n\u001b[1;32m     87\u001b[0m         \u001b[0;32mif\u001b[0m \u001b[0mevent\u001b[0m \u001b[0;34m==\u001b[0m \u001b[0;34m'line'\u001b[0m\u001b[0;34m:\u001b[0m\u001b[0;34m\u001b[0m\u001b[0;34m\u001b[0m\u001b[0m\n\u001b[0;32m---> 88\u001b[0;31m             \u001b[0;32mreturn\u001b[0m \u001b[0mself\u001b[0m\u001b[0;34m.\u001b[0m\u001b[0mdispatch_line\u001b[0m\u001b[0;34m(\u001b[0m\u001b[0mframe\u001b[0m\u001b[0;34m)\u001b[0m\u001b[0;34m\u001b[0m\u001b[0;34m\u001b[0m\u001b[0m\n\u001b[0m\u001b[1;32m     89\u001b[0m         \u001b[0;32mif\u001b[0m \u001b[0mevent\u001b[0m \u001b[0;34m==\u001b[0m \u001b[0;34m'call'\u001b[0m\u001b[0;34m:\u001b[0m\u001b[0;34m\u001b[0m\u001b[0;34m\u001b[0m\u001b[0m\n\u001b[1;32m     90\u001b[0m             \u001b[0;32mreturn\u001b[0m \u001b[0mself\u001b[0m\u001b[0;34m.\u001b[0m\u001b[0mdispatch_call\u001b[0m\u001b[0;34m(\u001b[0m\u001b[0mframe\u001b[0m\u001b[0;34m,\u001b[0m \u001b[0marg\u001b[0m\u001b[0;34m)\u001b[0m\u001b[0;34m\u001b[0m\u001b[0;34m\u001b[0m\u001b[0m\n",
      "\u001b[0;32m~/miniconda3/lib/python3.7/bdb.py\u001b[0m in \u001b[0;36mdispatch_line\u001b[0;34m(self, frame)\u001b[0m\n\u001b[1;32m    111\u001b[0m         \u001b[0;32mif\u001b[0m \u001b[0mself\u001b[0m\u001b[0;34m.\u001b[0m\u001b[0mstop_here\u001b[0m\u001b[0;34m(\u001b[0m\u001b[0mframe\u001b[0m\u001b[0;34m)\u001b[0m \u001b[0;32mor\u001b[0m \u001b[0mself\u001b[0m\u001b[0;34m.\u001b[0m\u001b[0mbreak_here\u001b[0m\u001b[0;34m(\u001b[0m\u001b[0mframe\u001b[0m\u001b[0;34m)\u001b[0m\u001b[0;34m:\u001b[0m\u001b[0;34m\u001b[0m\u001b[0;34m\u001b[0m\u001b[0m\n\u001b[1;32m    112\u001b[0m             \u001b[0mself\u001b[0m\u001b[0;34m.\u001b[0m\u001b[0muser_line\u001b[0m\u001b[0;34m(\u001b[0m\u001b[0mframe\u001b[0m\u001b[0;34m)\u001b[0m\u001b[0;34m\u001b[0m\u001b[0;34m\u001b[0m\u001b[0m\n\u001b[0;32m--> 113\u001b[0;31m             \u001b[0;32mif\u001b[0m \u001b[0mself\u001b[0m\u001b[0;34m.\u001b[0m\u001b[0mquitting\u001b[0m\u001b[0;34m:\u001b[0m \u001b[0;32mraise\u001b[0m \u001b[0mBdbQuit\u001b[0m\u001b[0;34m\u001b[0m\u001b[0;34m\u001b[0m\u001b[0m\n\u001b[0m\u001b[1;32m    114\u001b[0m         \u001b[0;32mreturn\u001b[0m \u001b[0mself\u001b[0m\u001b[0;34m.\u001b[0m\u001b[0mtrace_dispatch\u001b[0m\u001b[0;34m\u001b[0m\u001b[0;34m\u001b[0m\u001b[0m\n\u001b[1;32m    115\u001b[0m \u001b[0;34m\u001b[0m\u001b[0m\n",
      "\u001b[0;31mBdbQuit\u001b[0m: "
     ]
    },
    {
     "data": {
      "image/png": "[encoded data removed]",
      "text/plain": [
       "<Figure size 510.236x481.89 with 12 Axes>"
      ]
     },
     "metadata": {
      "needs_background": "light"
     },
     "output_type": "display_data"
    }
   ],
   "source": [
    "mm = 0.0393701  # mm in inches\n",
    "fig, axs = plt.subplots(3,4, squeeze=True, figsize=(180*mm, 170*mm))\n",
    "params = ['tss_dist', 'tes_dist', 'tss_slack', 'tes_slack', 'tss_agg_dist', 'tes_agg_dist']\n",
    "for p in params:\n",
    "#     temp = df[[p, 'same_sect', 'comparison', 'gid']].groupby([p, 'same_sect', 'comparison']).nunique().reset_index()\n",
    "#     temp.rename({'gid':'n_genes'}, axis=1, inplace=True)\n",
    "#     temp = temp.merge(temp[['n_genes', p, 'comparison']].groupby([p, 'comparison']).sum().reset_index().rename({'n_genes':'n_genes_com'}, axis=1),\n",
    "#                       how='left',\n",
    "#                       on=[p, 'comparison'])\n",
    "#     temp['perc'] = (temp['n_genes']/temp['n_genes_com'])*100\n",
    "#     temp = temp.loc[temp.same_sect==True]\n",
    "    \n",
    "#     temp = temp.sort_values(by=p, ascending=True)\n",
    "    x_order = temp[p].unique().tolist()\n",
    "    \n",
    "    for comp in ['det', 'major']:\n",
    "        temp2 = temp.loc[temp.comparison==comp].copy(deep=True)\n",
    "        \n",
    "        # j coord ( col )\n",
    "        if 'tss' in p: j = 0\n",
    "        elif 'tes' in p: j = 2\n",
    "        if comp == 'major': j += 1\n",
    "        \n",
    "        # i coord ( row )\n",
    "        if 'dist' in p: i = 0\n",
    "        if 'slack' in p: i = 1\n",
    "        if 'agg_dist' in p: i = 2\n",
    "        \n",
    "        sns.barplot(temp2, x=p, y='perc',\n",
    "                 order=x_order, ax=axs[i][j])"
   ]
  },
  {
   "cell_type": "code",
   "execution_count": 82,
   "id": "ac6dd5f7-2f48-427f-a2ce-9b83da35d5d7",
   "metadata": {},
   "outputs": [],
   "source": []
  },
  {
   "cell_type": "code",
   "execution_count": 83,
   "id": "64afde41-45b8-414d-a226-924c28d85976",
   "metadata": {},
   "outputs": [
    {
     "data": {
      "text/html": [
       "<div>\n",
       "<style scoped>\n",
       "    .dataframe tbody tr th:only-of-type {\n",
       "        vertical-align: middle;\n",
       "    }\n",
       "\n",
       "    .dataframe tbody tr th {\n",
       "        vertical-align: top;\n",
       "    }\n",
       "\n",
       "    .dataframe thead th {\n",
       "        text-align: right;\n",
       "    }\n",
       "</style>\n",
       "<table border=\"1\" class=\"dataframe\">\n",
       "  <thead>\n",
       "    <tr style=\"text-align: right;\">\n",
       "      <th></th>\n",
       "      <th>tss_dist</th>\n",
       "      <th>same_sect</th>\n",
       "      <th>comparison</th>\n",
       "      <th>n_genes</th>\n",
       "      <th>n_genes_com</th>\n",
       "      <th>perc</th>\n",
       "    </tr>\n",
       "  </thead>\n",
       "  <tbody>\n",
       "    <tr>\n",
       "      <th>2</th>\n",
       "      <td>0</td>\n",
       "      <td>True</td>\n",
       "      <td>det</td>\n",
       "      <td>16777</td>\n",
       "      <td>28598</td>\n",
       "      <td>58.664942</td>\n",
       "    </tr>\n",
       "    <tr>\n",
       "      <th>3</th>\n",
       "      <td>0</td>\n",
       "      <td>True</td>\n",
       "      <td>major</td>\n",
       "      <td>16696</td>\n",
       "      <td>27754</td>\n",
       "      <td>60.157094</td>\n",
       "    </tr>\n",
       "    <tr>\n",
       "      <th>6</th>\n",
       "      <td>25</td>\n",
       "      <td>True</td>\n",
       "      <td>det</td>\n",
       "      <td>17313</td>\n",
       "      <td>26055</td>\n",
       "      <td>66.447899</td>\n",
       "    </tr>\n",
       "    <tr>\n",
       "      <th>7</th>\n",
       "      <td>25</td>\n",
       "      <td>True</td>\n",
       "      <td>major</td>\n",
       "      <td>17277</td>\n",
       "      <td>25767</td>\n",
       "      <td>67.050879</td>\n",
       "    </tr>\n",
       "    <tr>\n",
       "      <th>10</th>\n",
       "      <td>100</td>\n",
       "      <td>True</td>\n",
       "      <td>det</td>\n",
       "      <td>16935</td>\n",
       "      <td>24949</td>\n",
       "      <td>67.878472</td>\n",
       "    </tr>\n",
       "    <tr>\n",
       "      <th>11</th>\n",
       "      <td>100</td>\n",
       "      <td>True</td>\n",
       "      <td>major</td>\n",
       "      <td>16902</td>\n",
       "      <td>24681</td>\n",
       "      <td>68.481828</td>\n",
       "    </tr>\n",
       "  </tbody>\n",
       "</table>\n",
       "</div>"
      ],
      "text/plain": [
       "    tss_dist  same_sect comparison  n_genes  n_genes_com       perc\n",
       "2          0       True        det    16777        28598  58.664942\n",
       "3          0       True      major    16696        27754  60.157094\n",
       "6         25       True        det    17313        26055  66.447899\n",
       "7         25       True      major    17277        25767  67.050879\n",
       "10       100       True        det    16935        24949  67.878472\n",
       "11       100       True      major    16902        24681  68.481828"
      ]
     },
     "execution_count": 83,
     "metadata": {},
     "output_type": "execute_result"
    }
   ],
   "source": [
    "temp"
   ]
  },
  {
   "cell_type": "code",
   "execution_count": 94,
   "id": "3afb03b9-4e01-49b5-bc4a-34b1fe224bc1",
   "metadata": {},
   "outputs": [],
   "source": [
    "# from itertools import product\n",
    "\n",
    "# x = p\n",
    "# y = 'perc'\n",
    "# col = 'comparison'\n",
    "\n",
    "# col_order = ['det', 'major']\n",
    "# x_order = temp.sort_values(by=p, ascending=True)[p].unique().tolist()\n",
    "# bar_order = product(col_order, x_order)\n",
    "\n",
    "# ax = sns.catplot(temp, x=p, y=y, col=col, kind='bar',\n",
    "#                  col_order=col_order,\n",
    "#                  order=x_order)\n",
    "# pots = zip(ax.patches, bar_order)\n",
    "# for spot in spots:\n",
    "#     class_total = len(temp[temp[x]==spot[1][0]])\n",
    "#     class_who_total = len(temp[(titanic[x]==spot[1][0]) & \n",
    "#         (temp[col]==spot[1][1])])\n",
    "#     height = spot[0].get_height() \n",
    "#     catp.ax.text(spot[0].get_x(), height+3, '{:1.2f}'.format(class_who_total/class_total))"
   ]
  },
  {
   "cell_type": "code",
   "execution_count": 93,
   "id": "3dad8ed3-e30a-44e9-89d5-4c6a161cf690",
   "metadata": {},
   "outputs": [
    {
     "data": {
      "text/plain": [
       "<seaborn.axisgrid.FacetGrid at 0x7fd98cc796d0>"
      ]
     },
     "execution_count": 93,
     "metadata": {},
     "output_type": "execute_result"
    }
   ],
   "source": [
    "ax"
   ]
  },
  {
   "cell_type": "code",
   "execution_count": null,
   "id": "60085a0f-41f9-4df8-9dba-f6fc561ecadf",
   "metadata": {},
   "outputs": [],
   "source": []
  },
  {
   "cell_type": "code",
   "execution_count": null,
   "id": "0e1679b9-3430-4be4-937d-c08f9116c7af",
   "metadata": {},
   "outputs": [],
   "source": []
  },
  {
   "cell_type": "code",
   "execution_count": null,
   "id": "d52e2492-1426-44b9-b0b1-0809a5670032",
   "metadata": {},
   "outputs": [],
   "source": []
  },
  {
   "cell_type": "code",
   "execution_count": null,
   "id": "596cade3-aea0-4dbd-bcdf-ab0c613ce7ef",
   "metadata": {},
   "outputs": [],
   "source": []
  },
  {
   "cell_type": "code",
   "execution_count": null,
   "id": "2fc0a277-5f17-4a2d-b776-06bb2ef2e36d",
   "metadata": {},
   "outputs": [],
   "source": []
  },
  {
   "cell_type": "code",
   "execution_count": null,
   "id": "ba764662-2ede-4c00-9321-0953b19b93ed",
   "metadata": {},
   "outputs": [],
   "source": []
  },
  {
   "cell_type": "code",
   "execution_count": null,
   "id": "ab6616d5-6d17-4081-b052-7091e5559c7e",
   "metadata": {},
   "outputs": [],
   "source": []
  },
  {
   "cell_type": "code",
   "execution_count": null,
   "id": "f93f393f-c5c2-4f86-b47b-65f11d03ad25",
   "metadata": {},
   "outputs": [],
   "source": []
  },
  {
   "cell_type": "markdown",
   "id": "49bd2ea2-8409-4dce-af01-1d02f33065db",
   "metadata": {},
   "source": [
    "## 240109 dev"
   ]
  },
  {
   "cell_type": "code",
   "execution_count": 110,
   "id": "614f186a-de34-4b26-b05d-73b72ea45c5a",
   "metadata": {},
   "outputs": [],
   "source": [
    "trip_file = '~/mortazavi_lab/data/paper_rnawg/proc_revisions/data/human/lr/param_search/0_0_25_0_20_0/sample_triplets.tsv'\n",
    "ofile = '~/mortazavi_lab/data/paper_rnawg/proc_revisions/data/human/lr/param_search/0_0_25_0_20_0/triplet_dists.tsv'"
   ]
  },
  {
   "cell_type": "code",
   "execution_count": 105,
   "id": "484cb8ea-0b1b-4950-875f-40ccf76081e9",
   "metadata": {},
   "outputs": [
    {
     "name": "stdout",
     "output_type": "stream",
     "text": [
      "1559580\n",
      "53102\n"
     ]
    }
   ],
   "source": [
    "trip_df = pd.read_csv(trip_file, sep='\\t')\n",
    "# trip_df = pd.read_csv(input.trip_file, sep='\\t')\n",
    "\n",
    "# ca = cerberus.read(input.h5)\n",
    "ca = cerberus.read(cerberus_h5)\n",
    "ref_trip_back = ca.triplets.copy(deep=True)\n",
    "\n",
    "df = pd.DataFrame()\n",
    "df['file'] = [trip_file]\n",
    "# df['file'] = list(input.trip_file)\n",
    "\n",
    "df['temp'] = df.file.str.rsplit('/', n=2, expand=True)[1]\n",
    "temp2 = df.temp.str.split('_', expand=True)\n",
    "cols = ['tss_dist', 'tes_dist',\n",
    "        'tss_slack', 'tes_slack',\n",
    "        'tss_agg_dist', 'tes_agg_dist']\n",
    "temp2.columns = cols\n",
    "df.drop('temp', axis=1, inplace=True)\n",
    "df = pd.concat([df, temp2], axis=1)\n",
    "df['merge_col'] = 1\n",
    "\n",
    "# restrict to obs_det and obs_major\n",
    "print(len(trip_df.index))\n",
    "trip_df = trip_df.loc[trip_df.source.isin(['obs_det', 'obs_major'])]\n",
    "print(len(trip_df.index))\n",
    "trip_df['merge_col'] = 1\n",
    "\n",
    "# add the metadata\n",
    "trip_df = trip_df.merge(df, how='left', on='merge_col')\n",
    "\n",
    "# rename source\n",
    "param_combo = trip_df['tss_dist'].astype(str)+'_'+\\\n",
    "               trip_df['tes_dist'].astype(str)+'_'+\\\n",
    "               trip_df['tss_slack'].astype(str)+'_'+\\\n",
    "               trip_df['tes_slack'].astype(str)+'_'+\\\n",
    "               trip_df['tss_agg_dist'].astype(str)+'_'+\\\n",
    "               trip_df['tes_agg_dist'].astype(str)\n",
    "\n",
    "assert len(param_combo.unique().tolist()) == 1\n",
    "param_combo = param_combo.unique().tolist()[0]\n",
    "\n",
    "trip_df['source'] = trip_df['source']+'_'+param_combo\n",
    "               \n",
    "trip_df.drop('merge_col', axis=1, inplace=True)\n",
    "\n",
    "# loop through det and major\n",
    "all_dist_df = pd.DataFrame()\n",
    "for param_source in trip_df.source.unique():\n",
    "    if 'major' in param_source:\n",
    "        ref_source = 'obs_major'\n",
    "        comp = 'major'\n",
    "    else:\n",
    "        ref_source = 'obs_det'\n",
    "        comp = 'det'\n",
    "    ca.triplets = pd.concat([trip_df, ref_trip_back], axis=0)\n",
    "    dist_df = compute_dists([ca, ca],\n",
    "                   [param_source, \n",
    "                   ref_source],\n",
    "                   gene_subsets=[dist_gene_subset, dist_gene_subset],\n",
    "                   ver=[ver,  ver],\n",
    "                   gene_merge=['gid', 'gid'])\n",
    "    \n",
    "    # formatting\n",
    "    dist_df.drop('source_'+param_source, axis=1, inplace=True)\n",
    "    dist_df['source'] = param_source\n",
    "    dist_df['comparison'] = comp\n",
    "    new_cols = [c if param_combo not in c else c.split('_'+ref_source+'_'+param_combo)[0] for c in dist_df.columns]\n",
    "    dist_df.columns = new_cols\n",
    "    new_cols = [c if ref_source not in c else c.split('_'+ref_source)[0]+'_obs' for c in dist_df.columns]\n",
    "    dist_df.columns = new_cols\n",
    "    dist_df['same_sect'] = dist_df['sector'] == dist_df['sector_obs']\n",
    "    drop_cols = ['gname', 'sample', 'gene_tpm', 'file', 'biotype', 'gname_obs', \n",
    "                 'sample_obs', 'gene_tpm_obs', 'file_obs', 'tss_dist_obs',\n",
    "                 'tes_dist_obs', 'tss_slack_obs', 'tes_slack_obs', 'tss_agg_dist_obs',\n",
    "                 'tes_agg_dist_obs', 'gid_stable_obs', 'biotype_obs','source']\n",
    "    dist_df.drop(drop_cols, axis=1, inplace=True)\n",
    "    \n",
    "    \n",
    "    all_dist_df = pd.concat([all_dist_df, dist_df], axis=0)\n",
    "all_dist_df.to_csv(ofile, sep='\\t', index=False)"
   ]
  },
  {
   "cell_type": "code",
   "execution_count": 109,
   "id": "229bb015-3d0b-401e-82b9-106ef3c8ecd7",
   "metadata": {},
   "outputs": [
    {
     "data": {
      "text/html": [
       "<div>\n",
       "<style scoped>\n",
       "    .dataframe tbody tr th:only-of-type {\n",
       "        vertical-align: middle;\n",
       "    }\n",
       "\n",
       "    .dataframe tbody tr th {\n",
       "        vertical-align: top;\n",
       "    }\n",
       "\n",
       "    .dataframe thead th {\n",
       "        text-align: right;\n",
       "    }\n",
       "</style>\n",
       "<table border=\"1\" class=\"dataframe\">\n",
       "  <thead>\n",
       "    <tr style=\"text-align: right;\">\n",
       "      <th></th>\n",
       "      <th>comparison</th>\n",
       "      <th>same_sect</th>\n",
       "      <th>gid</th>\n",
       "    </tr>\n",
       "  </thead>\n",
       "  <tbody>\n",
       "    <tr>\n",
       "      <th>0</th>\n",
       "      <td>det</td>\n",
       "      <td>False</td>\n",
       "      <td>5610</td>\n",
       "    </tr>\n",
       "    <tr>\n",
       "      <th>1</th>\n",
       "      <td>det</td>\n",
       "      <td>True</td>\n",
       "      <td>11819</td>\n",
       "    </tr>\n",
       "    <tr>\n",
       "      <th>2</th>\n",
       "      <td>major</td>\n",
       "      <td>False</td>\n",
       "      <td>5440</td>\n",
       "    </tr>\n",
       "    <tr>\n",
       "      <th>3</th>\n",
       "      <td>major</td>\n",
       "      <td>True</td>\n",
       "      <td>11989</td>\n",
       "    </tr>\n",
       "  </tbody>\n",
       "</table>\n",
       "</div>"
      ],
      "text/plain": [
       "  comparison  same_sect    gid\n",
       "0        det      False   5610\n",
       "1        det       True  11819\n",
       "2      major      False   5440\n",
       "3      major       True  11989"
      ]
     },
     "execution_count": 109,
     "metadata": {},
     "output_type": "execute_result"
    }
   ],
   "source": [
    "all_dist_df[['comparison', 'gid', 'same_sect']].groupby(['comparison', 'same_sect']).count().reset_index()"
   ]
  },
  {
   "cell_type": "code",
   "execution_count": 103,
   "id": "7a9fece6-c46c-4543-bdd9-fb6d93146486",
   "metadata": {},
   "outputs": [],
   "source": [
    "drop_cols = ['gname', 'sample', 'gene_tpm', 'file', 'biotype', 'gname_obs', \n",
    "             'sample_obs', 'gene_tpm_obs', 'file_obs', 'tss_dist_obs',\n",
    "             'tes_dist_obs', 'tss_slack_obs', 'tes_slack_obs', 'tss_agg_dist_obs',\n",
    "             'tes_agg_dist_obs', 'gid_stable_obs', 'biotype_obs']\n",
    "dist_df.drop(drop_cols, axis=1, inplace=True)"
   ]
  },
  {
   "cell_type": "code",
   "execution_count": 104,
   "id": "26564686-e0b4-4a8c-8264-41203a20c2e8",
   "metadata": {},
   "outputs": [
    {
     "data": {
      "text/plain": [
       "Index(['gid', 'n_tss', 'n_tes', 'n_ic', 'n_iso', 'splicing_ratio', 'tss_ratio',\n",
       "       'tes_ratio', 'spl_ratio', 'sector', 'tss_dist', 'tes_dist', 'tss_slack',\n",
       "       'tes_slack', 'tss_agg_dist', 'tes_agg_dist', 'gid_stable', 'source_obs',\n",
       "       'n_tss_obs', 'n_tes_obs', 'n_ic_obs', 'n_iso_obs', 'splicing_ratio_obs',\n",
       "       'tss_ratio_obs', 'tes_ratio_obs', 'spl_ratio_obs', 'sector_obs', 'dist',\n",
       "       'z_score', 'source', 'comparison', 'same_sect'],\n",
       "      dtype='object')"
      ]
     },
     "execution_count": 104,
     "metadata": {},
     "output_type": "execute_result"
    }
   ],
   "source": [
    "dist_df.columns"
   ]
  },
  {
   "cell_type": "code",
   "execution_count": 100,
   "id": "0f64026c-8d8f-4cdf-a6d0-324eea288048",
   "metadata": {},
   "outputs": [],
   "source": [
    "new_cols = [c if ref_source not in c else c.split('_'+ref_source)[0]+'_obs' for c in dist_df.columns]\n",
    "dist_df.columns = new_cols"
   ]
  },
  {
   "cell_type": "code",
   "execution_count": 95,
   "id": "213c0c86-b147-4c77-9237-c585fc884581",
   "metadata": {},
   "outputs": [
    {
     "data": {
      "text/plain": [
       "['gid',\n",
       " 'n_tss',\n",
       " 'n_tes',\n",
       " 'n_ic',\n",
       " 'n_iso',\n",
       " 'splicing_ratio',\n",
       " 'tss_ratio',\n",
       " 'tes_ratio',\n",
       " 'spl_ratio',\n",
       " 'sector',\n",
       " 'gname',\n",
       " 'sample',\n",
       " 'gene_tpm',\n",
       " 'file',\n",
       " 'tss_dist',\n",
       " 'tes_dist',\n",
       " 'tss_slack',\n",
       " 'tes_slack',\n",
       " 'tss_agg_dist',\n",
       " 'tes_agg_dist',\n",
       " 'gid_stable',\n",
       " 'biotype',\n",
       " 'source_obs',\n",
       " 'n_tss_obs',\n",
       " 'n_tes_obs',\n",
       " 'n_ic_obs',\n",
       " 'n_iso_obs',\n",
       " 'splicing_ratio_obs',\n",
       " 'tss_ratio_obs',\n",
       " 'tes_ratio_obs',\n",
       " 'spl_ratio_obs',\n",
       " 'sector_obs',\n",
       " 'gname_obs',\n",
       " 'sample_obs',\n",
       " 'gene_tpm_obs',\n",
       " 'file_obs',\n",
       " 'tss_dist_obs',\n",
       " 'tes_dist_obs',\n",
       " 'tss_slack_obs',\n",
       " 'tes_slack_obs',\n",
       " 'tss_agg_dist_obs',\n",
       " 'tes_agg_dist_obs',\n",
       " 'gid_stable_obs',\n",
       " 'biotype_obs',\n",
       " 'dist',\n",
       " 'z_score',\n",
       " 'source',\n",
       " 'comparison',\n",
       " 'same_sect']"
      ]
     },
     "execution_count": 95,
     "metadata": {},
     "output_type": "execute_result"
    }
   ],
   "source": [
    "[c if ref_source not in c else c.split('_'+ref_source)[0]+'_obs' for c in dist_df.columns]\n",
    "# ref_source"
   ]
  },
  {
   "cell_type": "code",
   "execution_count": 87,
   "id": "5ef0f0b3-b55f-495b-9778-2c9ba286f910",
   "metadata": {},
   "outputs": [
    {
     "data": {
      "text/plain": [
       "Index(['gid', 'n_tss', 'n_tes', 'n_ic', 'n_iso', 'splicing_ratio', 'tss_ratio',\n",
       "       'tes_ratio', 'spl_ratio', 'sector', 'gname', 'sample', 'gene_tpm',\n",
       "       'file', 'tss_dist', 'tes_dist', 'tss_slack', 'tes_slack',\n",
       "       'tss_agg_dist', 'tes_agg_dist', 'gid_stable', 'biotype',\n",
       "       'source_obs_det', 'n_tss_obs_det', 'n_tes_obs_det', 'n_ic_obs_det',\n",
       "       'n_iso_obs_det', 'splicing_ratio_obs_det', 'tss_ratio_obs_det',\n",
       "       'tes_ratio_obs_det', 'spl_ratio_obs_det', 'sector_obs_det',\n",
       "       'gname_obs_det', 'sample_obs_det', 'gene_tpm_obs_det', 'file_obs_det',\n",
       "       'tss_dist_obs_det', 'tes_dist_obs_det', 'tss_slack_obs_det',\n",
       "       'tes_slack_obs_det', 'tss_agg_dist_obs_det', 'tes_agg_dist_obs_det',\n",
       "       'gid_stable_obs_det', 'biotype_obs_det', 'dist', 'z_score', 'source',\n",
       "       'comparison', 'same_sect'],\n",
       "      dtype='object')"
      ]
     },
     "execution_count": 87,
     "metadata": {},
     "output_type": "execute_result"
    }
   ],
   "source": [
    "all_dist_df.columns"
   ]
  },
  {
   "cell_type": "code",
   "execution_count": 90,
   "id": "aac48764-d194-43a0-b03f-c67d074b639a",
   "metadata": {},
   "outputs": [
    {
     "data": {
      "text/plain": [
       "'n_tss'"
      ]
     },
     "execution_count": 90,
     "metadata": {},
     "output_type": "execute_result"
    }
   ],
   "source": [
    "'n_tss_obs_det'.split('_obs_det')[0]"
   ]
  },
  {
   "cell_type": "code",
   "execution_count": 86,
   "id": "77239fa3-6a11-4653-8c48-d7fef4b407f1",
   "metadata": {},
   "outputs": [],
   "source": [
    "all_dist_df.to_csv('tempt_thing_param_search.tsv', sep='\\t')"
   ]
  },
  {
   "cell_type": "code",
   "execution_count": 79,
   "id": "7a116c13-9f87-4b11-addd-a71f753a3c8b",
   "metadata": {},
   "outputs": [
    {
     "data": {
      "text/html": [
       "<div>\n",
       "<style scoped>\n",
       "    .dataframe tbody tr th:only-of-type {\n",
       "        vertical-align: middle;\n",
       "    }\n",
       "\n",
       "    .dataframe tbody tr th {\n",
       "        vertical-align: top;\n",
       "    }\n",
       "\n",
       "    .dataframe thead th {\n",
       "        text-align: right;\n",
       "    }\n",
       "</style>\n",
       "<table border=\"1\" class=\"dataframe\">\n",
       "  <thead>\n",
       "    <tr style=\"text-align: right;\">\n",
       "      <th></th>\n",
       "      <th>same_sect</th>\n",
       "      <th>gid</th>\n",
       "    </tr>\n",
       "  </thead>\n",
       "  <tbody>\n",
       "    <tr>\n",
       "      <th>0</th>\n",
       "      <td>False</td>\n",
       "      <td>5610</td>\n",
       "    </tr>\n",
       "    <tr>\n",
       "      <th>1</th>\n",
       "      <td>True</td>\n",
       "      <td>11819</td>\n",
       "    </tr>\n",
       "  </tbody>\n",
       "</table>\n",
       "</div>"
      ],
      "text/plain": [
       "   same_sect    gid\n",
       "0      False   5610\n",
       "1       True  11819"
      ]
     },
     "execution_count": 79,
     "metadata": {},
     "output_type": "execute_result"
    }
   ],
   "source": [
    "dist_df[['gid', 'same_sect']].groupby('same_sect').nunique().reset_index()"
   ]
  },
  {
   "cell_type": "code",
   "execution_count": 77,
   "id": "f7398303-a622-47c5-b6d7-5fef1974ed5e",
   "metadata": {},
   "outputs": [
    {
     "data": {
      "text/plain": [
       "'obs_det'"
      ]
     },
     "execution_count": 77,
     "metadata": {},
     "output_type": "execute_result"
    }
   ],
   "source": [
    "ref_source"
   ]
  },
  {
   "cell_type": "code",
   "execution_count": 70,
   "id": "df8710e7-d84a-4b08-b730-786f9c0b1b81",
   "metadata": {},
   "outputs": [
    {
     "data": {
      "text/html": [
       "<div>\n",
       "<style scoped>\n",
       "    .dataframe tbody tr th:only-of-type {\n",
       "        vertical-align: middle;\n",
       "    }\n",
       "\n",
       "    .dataframe tbody tr th {\n",
       "        vertical-align: top;\n",
       "    }\n",
       "\n",
       "    .dataframe thead th {\n",
       "        text-align: right;\n",
       "    }\n",
       "</style>\n",
       "<table border=\"1\" class=\"dataframe\">\n",
       "  <thead>\n",
       "    <tr style=\"text-align: right;\">\n",
       "      <th></th>\n",
       "      <th>gid</th>\n",
       "      <th>n_tss_obs_det_0_0_25_0_20_0</th>\n",
       "      <th>n_tes_obs_det_0_0_25_0_20_0</th>\n",
       "      <th>n_ic_obs_det_0_0_25_0_20_0</th>\n",
       "      <th>n_iso_obs_det_0_0_25_0_20_0</th>\n",
       "      <th>splicing_ratio_obs_det_0_0_25_0_20_0</th>\n",
       "      <th>tss_ratio_obs_det_0_0_25_0_20_0</th>\n",
       "      <th>tes_ratio_obs_det_0_0_25_0_20_0</th>\n",
       "      <th>spl_ratio_obs_det_0_0_25_0_20_0</th>\n",
       "      <th>sector_obs_det_0_0_25_0_20_0</th>\n",
       "      <th>...</th>\n",
       "      <th>tes_dist_obs_det</th>\n",
       "      <th>tss_slack_obs_det</th>\n",
       "      <th>tes_slack_obs_det</th>\n",
       "      <th>tss_agg_dist_obs_det</th>\n",
       "      <th>tes_agg_dist_obs_det</th>\n",
       "      <th>gid_stable_obs_det</th>\n",
       "      <th>biotype_obs_det</th>\n",
       "      <th>dist</th>\n",
       "      <th>z_score</th>\n",
       "      <th>source</th>\n",
       "    </tr>\n",
       "  </thead>\n",
       "  <tbody>\n",
       "    <tr>\n",
       "      <th>0</th>\n",
       "      <td>ENSG00000000003</td>\n",
       "      <td>3.0</td>\n",
       "      <td>11.0</td>\n",
       "      <td>9.0</td>\n",
       "      <td>34.0</td>\n",
       "      <td>1.285714</td>\n",
       "      <td>0.196262</td>\n",
       "      <td>0.719626</td>\n",
       "      <td>0.084112</td>\n",
       "      <td>tes</td>\n",
       "      <td>...</td>\n",
       "      <td>NaN</td>\n",
       "      <td>NaN</td>\n",
       "      <td>NaN</td>\n",
       "      <td>NaN</td>\n",
       "      <td>NaN</td>\n",
       "      <td>ENSG00000000003</td>\n",
       "      <td>protein_coding</td>\n",
       "      <td>0.184642</td>\n",
       "      <td>1.031557</td>\n",
       "      <td>obs_det_0_0_25_0_20_0</td>\n",
       "    </tr>\n",
       "    <tr>\n",
       "      <th>1</th>\n",
       "      <td>ENSG00000000005</td>\n",
       "      <td>1.0</td>\n",
       "      <td>1.0</td>\n",
       "      <td>1.0</td>\n",
       "      <td>1.0</td>\n",
       "      <td>1.000000</td>\n",
       "      <td>0.333333</td>\n",
       "      <td>0.333333</td>\n",
       "      <td>0.333333</td>\n",
       "      <td>simple</td>\n",
       "      <td>...</td>\n",
       "      <td>NaN</td>\n",
       "      <td>NaN</td>\n",
       "      <td>NaN</td>\n",
       "      <td>NaN</td>\n",
       "      <td>NaN</td>\n",
       "      <td>ENSG00000000005</td>\n",
       "      <td>protein_coding</td>\n",
       "      <td>0.000000</td>\n",
       "      <td>-1.437935</td>\n",
       "      <td>obs_det_0_0_25_0_20_0</td>\n",
       "    </tr>\n",
       "    <tr>\n",
       "      <th>2</th>\n",
       "      <td>ENSG00000000419</td>\n",
       "      <td>2.0</td>\n",
       "      <td>5.0</td>\n",
       "      <td>8.0</td>\n",
       "      <td>15.0</td>\n",
       "      <td>2.285714</td>\n",
       "      <td>0.215385</td>\n",
       "      <td>0.538462</td>\n",
       "      <td>0.246154</td>\n",
       "      <td>tes</td>\n",
       "      <td>...</td>\n",
       "      <td>NaN</td>\n",
       "      <td>NaN</td>\n",
       "      <td>NaN</td>\n",
       "      <td>NaN</td>\n",
       "      <td>NaN</td>\n",
       "      <td>ENSG00000000419</td>\n",
       "      <td>protein_coding</td>\n",
       "      <td>0.130221</td>\n",
       "      <td>0.303694</td>\n",
       "      <td>obs_det_0_0_25_0_20_0</td>\n",
       "    </tr>\n",
       "    <tr>\n",
       "      <th>3</th>\n",
       "      <td>ENSG00000000457</td>\n",
       "      <td>3.0</td>\n",
       "      <td>6.0</td>\n",
       "      <td>5.0</td>\n",
       "      <td>10.0</td>\n",
       "      <td>1.111111</td>\n",
       "      <td>0.296703</td>\n",
       "      <td>0.593407</td>\n",
       "      <td>0.109890</td>\n",
       "      <td>tes</td>\n",
       "      <td>...</td>\n",
       "      <td>NaN</td>\n",
       "      <td>NaN</td>\n",
       "      <td>NaN</td>\n",
       "      <td>NaN</td>\n",
       "      <td>NaN</td>\n",
       "      <td>ENSG00000000457</td>\n",
       "      <td>protein_coding</td>\n",
       "      <td>0.088664</td>\n",
       "      <td>-0.252105</td>\n",
       "      <td>obs_det_0_0_25_0_20_0</td>\n",
       "    </tr>\n",
       "    <tr>\n",
       "      <th>4</th>\n",
       "      <td>ENSG00000000460</td>\n",
       "      <td>5.0</td>\n",
       "      <td>5.0</td>\n",
       "      <td>6.0</td>\n",
       "      <td>19.0</td>\n",
       "      <td>1.200000</td>\n",
       "      <td>0.446429</td>\n",
       "      <td>0.446429</td>\n",
       "      <td>0.107143</td>\n",
       "      <td>mixed</td>\n",
       "      <td>...</td>\n",
       "      <td>NaN</td>\n",
       "      <td>NaN</td>\n",
       "      <td>NaN</td>\n",
       "      <td>NaN</td>\n",
       "      <td>NaN</td>\n",
       "      <td>ENSG00000000460</td>\n",
       "      <td>protein_coding</td>\n",
       "      <td>0.100271</td>\n",
       "      <td>-0.096866</td>\n",
       "      <td>obs_det_0_0_25_0_20_0</td>\n",
       "    </tr>\n",
       "  </tbody>\n",
       "</table>\n",
       "<p>5 rows × 47 columns</p>\n",
       "</div>"
      ],
      "text/plain": [
       "               gid  n_tss_obs_det_0_0_25_0_20_0  n_tes_obs_det_0_0_25_0_20_0  \\\n",
       "0  ENSG00000000003                          3.0                         11.0   \n",
       "1  ENSG00000000005                          1.0                          1.0   \n",
       "2  ENSG00000000419                          2.0                          5.0   \n",
       "3  ENSG00000000457                          3.0                          6.0   \n",
       "4  ENSG00000000460                          5.0                          5.0   \n",
       "\n",
       "   n_ic_obs_det_0_0_25_0_20_0  n_iso_obs_det_0_0_25_0_20_0  \\\n",
       "0                         9.0                         34.0   \n",
       "1                         1.0                          1.0   \n",
       "2                         8.0                         15.0   \n",
       "3                         5.0                         10.0   \n",
       "4                         6.0                         19.0   \n",
       "\n",
       "   splicing_ratio_obs_det_0_0_25_0_20_0  tss_ratio_obs_det_0_0_25_0_20_0  \\\n",
       "0                              1.285714                         0.196262   \n",
       "1                              1.000000                         0.333333   \n",
       "2                              2.285714                         0.215385   \n",
       "3                              1.111111                         0.296703   \n",
       "4                              1.200000                         0.446429   \n",
       "\n",
       "   tes_ratio_obs_det_0_0_25_0_20_0  spl_ratio_obs_det_0_0_25_0_20_0  \\\n",
       "0                         0.719626                         0.084112   \n",
       "1                         0.333333                         0.333333   \n",
       "2                         0.538462                         0.246154   \n",
       "3                         0.593407                         0.109890   \n",
       "4                         0.446429                         0.107143   \n",
       "\n",
       "  sector_obs_det_0_0_25_0_20_0  ... tes_dist_obs_det tss_slack_obs_det  \\\n",
       "0                          tes  ...              NaN               NaN   \n",
       "1                       simple  ...              NaN               NaN   \n",
       "2                          tes  ...              NaN               NaN   \n",
       "3                          tes  ...              NaN               NaN   \n",
       "4                        mixed  ...              NaN               NaN   \n",
       "\n",
       "   tes_slack_obs_det tss_agg_dist_obs_det tes_agg_dist_obs_det  \\\n",
       "0                NaN                  NaN                  NaN   \n",
       "1                NaN                  NaN                  NaN   \n",
       "2                NaN                  NaN                  NaN   \n",
       "3                NaN                  NaN                  NaN   \n",
       "4                NaN                  NaN                  NaN   \n",
       "\n",
       "  gid_stable_obs_det biotype_obs_det      dist   z_score  \\\n",
       "0    ENSG00000000003  protein_coding  0.184642  1.031557   \n",
       "1    ENSG00000000005  protein_coding  0.000000 -1.437935   \n",
       "2    ENSG00000000419  protein_coding  0.130221  0.303694   \n",
       "3    ENSG00000000457  protein_coding  0.088664 -0.252105   \n",
       "4    ENSG00000000460  protein_coding  0.100271 -0.096866   \n",
       "\n",
       "                  source  \n",
       "0  obs_det_0_0_25_0_20_0  \n",
       "1  obs_det_0_0_25_0_20_0  \n",
       "2  obs_det_0_0_25_0_20_0  \n",
       "3  obs_det_0_0_25_0_20_0  \n",
       "4  obs_det_0_0_25_0_20_0  \n",
       "\n",
       "[5 rows x 47 columns]"
      ]
     },
     "execution_count": 70,
     "metadata": {},
     "output_type": "execute_result"
    }
   ],
   "source": [
    "dist_df.head()"
   ]
  },
  {
   "cell_type": "code",
   "execution_count": 72,
   "id": "06b0be61-cfd9-4d94-9677-0a3c92cf9d8b",
   "metadata": {},
   "outputs": [
    {
     "data": {
      "text/plain": [
       "'obs_det_0_0_25_0_20_0'"
      ]
     },
     "execution_count": 72,
     "metadata": {},
     "output_type": "execute_result"
    }
   ],
   "source": [
    "param_source"
   ]
  },
  {
   "cell_type": "code",
   "execution_count": 73,
   "id": "90f71f6a-5638-44d2-8df7-68a74ad9bb9d",
   "metadata": {},
   "outputs": [
    {
     "data": {
      "text/plain": [
       "Index(['gid', 'n_tss', 'n_tes', 'n_ic', 'n_iso', 'splicing_ratio', 'tss_ratio',\n",
       "       'tes_ratio', 'spl_ratio', 'sector', 'gname', 'sample', 'gene_tpm',\n",
       "       'file', 'tss_dist', 'tes_dist', 'tss_slack', 'tes_slack',\n",
       "       'tss_agg_dist', 'tes_agg_dist', 'gid_stable', 'biotype',\n",
       "       'source_obs_det', 'n_tss_obs_det', 'n_tes_obs_det', 'n_ic_obs_det',\n",
       "       'n_iso_obs_det', 'splicing_ratio_obs_det', 'tss_ratio_obs_det',\n",
       "       'tes_ratio_obs_det', 'spl_ratio_obs_det', 'sector_obs_det',\n",
       "       'gname_obs_det', 'sample_obs_det', 'gene_tpm_obs_det', 'file_obs_det',\n",
       "       'tss_dist_obs_det', 'tes_dist_obs_det', 'tss_slack_obs_det',\n",
       "       'tes_slack_obs_det', 'tss_agg_dist_obs_det', 'tes_agg_dist_obs_det',\n",
       "       'gid_stable_obs_det', 'biotype_obs_det', 'dist', 'z_score', 'source'],\n",
       "      dtype='object')"
      ]
     },
     "execution_count": 73,
     "metadata": {},
     "output_type": "execute_result"
    }
   ],
   "source": [
    "new_cols = [c if param_combo not in c else c.split('_'+ref_source+'_'+param_combo)[0] for c in dist_df.columns]\n",
    "dist_df.columns = new_cols\n",
    "dist_df.columns"
   ]
  },
  {
   "cell_type": "code",
   "execution_count": 76,
   "id": "1109f413-538a-4bac-9d21-48384ee0e822",
   "metadata": {},
   "outputs": [
    {
     "data": {
      "text/html": [
       "<div>\n",
       "<style scoped>\n",
       "    .dataframe tbody tr th:only-of-type {\n",
       "        vertical-align: middle;\n",
       "    }\n",
       "\n",
       "    .dataframe tbody tr th {\n",
       "        vertical-align: top;\n",
       "    }\n",
       "\n",
       "    .dataframe thead th {\n",
       "        text-align: right;\n",
       "    }\n",
       "</style>\n",
       "<table border=\"1\" class=\"dataframe\">\n",
       "  <thead>\n",
       "    <tr style=\"text-align: right;\">\n",
       "      <th></th>\n",
       "      <th>same_sect</th>\n",
       "      <th>gid</th>\n",
       "    </tr>\n",
       "  </thead>\n",
       "  <tbody>\n",
       "    <tr>\n",
       "      <th>0</th>\n",
       "      <td>False</td>\n",
       "      <td>5610</td>\n",
       "    </tr>\n",
       "    <tr>\n",
       "      <th>1</th>\n",
       "      <td>True</td>\n",
       "      <td>11819</td>\n",
       "    </tr>\n",
       "  </tbody>\n",
       "</table>\n",
       "</div>"
      ],
      "text/plain": [
       "   same_sect    gid\n",
       "0      False   5610\n",
       "1       True  11819"
      ]
     },
     "execution_count": 76,
     "metadata": {},
     "output_type": "execute_result"
    }
   ],
   "source": [
    "dist_df[['source', 'gid', 'n_tss', 'n_tes', 'n_ic', 'n_iso', 'splicing_ratio',\n",
    "         'tss_ratio', 'tes_ratio', 'spl_ratio', 'sector',\n",
    "         'n_tss_obs_det', 'n_tes_obs_det', 'n_ic_obs_det',\n",
    "         'n_iso_obs_det', 'splicing_ratio_obs_det', 'tss_ratio_obs_det',\n",
    "         'tes_ratio_obs_det', 'spl_ratio_obs_det', 'sector_obs_det', 'dist', 'z_score']]\n",
    "dist_df[['sector', 'sector_obs_det']]\n",
    "dist_df['same_sect'] = dist_df['sector'] == dist_df['sector_obs_det']\n",
    "dist_df[['gid', 'same_sect']].groupby('same_sect').nunique().reset_index()"
   ]
  },
  {
   "cell_type": "code",
   "execution_count": 50,
   "id": "dc7f26f3-21d1-4c39-bc26-18b745ee6d39",
   "metadata": {},
   "outputs": [
    {
     "data": {
      "text/plain": [
       "Index(['source_obs_det_0_0_25_0_20_0', 'gid', 'n_tss_obs_det_0_0_25_0_20_0',\n",
       "       'n_tes_obs_det_0_0_25_0_20_0', 'n_ic_obs_det_0_0_25_0_20_0',\n",
       "       'n_iso_obs_det_0_0_25_0_20_0', 'splicing_ratio_obs_det_0_0_25_0_20_0',\n",
       "       'tss_ratio_obs_det_0_0_25_0_20_0', 'tes_ratio_obs_det_0_0_25_0_20_0',\n",
       "       'spl_ratio_obs_det_0_0_25_0_20_0', 'sector_obs_det_0_0_25_0_20_0',\n",
       "       'gname_obs_det_0_0_25_0_20_0', 'sample_obs_det_0_0_25_0_20_0',\n",
       "       'gene_tpm_obs_det_0_0_25_0_20_0', 'file_obs_det_0_0_25_0_20_0',\n",
       "       'tss_dist_obs_det_0_0_25_0_20_0', 'tes_dist_obs_det_0_0_25_0_20_0',\n",
       "       'tss_slack_obs_det_0_0_25_0_20_0', 'tes_slack_obs_det_0_0_25_0_20_0',\n",
       "       'tss_agg_dist_obs_det_0_0_25_0_20_0',\n",
       "       'tes_agg_dist_obs_det_0_0_25_0_20_0',\n",
       "       'gid_stable_obs_det_0_0_25_0_20_0', 'biotype_obs_det_0_0_25_0_20_0',\n",
       "       'source_obs_det', 'n_tss_obs_det', 'n_tes_obs_det', 'n_ic_obs_det',\n",
       "       'n_iso_obs_det', 'splicing_ratio_obs_det', 'tss_ratio_obs_det',\n",
       "       'tes_ratio_obs_det', 'spl_ratio_obs_det', 'sector_obs_det',\n",
       "       'gname_obs_det', 'sample_obs_det', 'gene_tpm_obs_det', 'file_obs_det',\n",
       "       'tss_dist_obs_det', 'tes_dist_obs_det', 'tss_slack_obs_det',\n",
       "       'tes_slack_obs_det', 'tss_agg_dist_obs_det', 'tes_agg_dist_obs_det',\n",
       "       'gid_stable_obs_det', 'biotype_obs_det', 'dist', 'z_score', 'source'],\n",
       "      dtype='object')"
      ]
     },
     "execution_count": 50,
     "metadata": {},
     "output_type": "execute_result"
    }
   ],
   "source": [
    "all_dist_df.columns\n",
    "cols = ['source_obs_det_0_0_25_0_20_0', 'gid', 'n_tss_obs_det_0_0_25_0_20_0',\n",
    "       'n_tes_obs_det_0_0_25_0_20_0', 'n_ic_obs_det_0_0_25_0_20_0',\n",
    "       'n_iso_obs_det_0_0_25_0_20_0', 'splicing_ratio_obs_det_0_0_25_0_20_0',\n",
    "       'tss_ratio_obs_det_0_0_25_0_20_0', 'tes_ratio_obs_det_0_0_25_0_20_0',\n",
    "       'spl_ratio_obs_det_0_0_25_0_20_0', 'sector_obs_det_0_0_25_0_20_0', 'dist', 'z_score', 'source']"
   ]
  },
  {
   "cell_type": "code",
   "execution_count": 1,
   "id": "3ff2d91d-e6bb-44ac-b888-7ce0dbfb73b3",
   "metadata": {},
   "outputs": [
    {
     "ename": "NameError",
     "evalue": "name 'all_dist_df' is not defined",
     "output_type": "error",
     "traceback": [
      "\u001b[0;31m---------------------------------------------------------------------------\u001b[0m",
      "\u001b[0;31mNameError\u001b[0m                                 Traceback (most recent call last)",
      "\u001b[0;32m<ipython-input-1-84b86b38569f>\u001b[0m in \u001b[0;36m<module>\u001b[0;34m\u001b[0m\n\u001b[0;32m----> 1\u001b[0;31m \u001b[0mall_dist_df\u001b[0m\u001b[0;34m.\u001b[0m\u001b[0mhead\u001b[0m\u001b[0;34m(\u001b[0m\u001b[0;34m)\u001b[0m\u001b[0;34m\u001b[0m\u001b[0;34m\u001b[0m\u001b[0m\n\u001b[0m",
      "\u001b[0;31mNameError\u001b[0m: name 'all_dist_df' is not defined"
     ]
    }
   ],
   "source": [
    "all_dist_df.head()"
   ]
  },
  {
   "cell_type": "code",
   "execution_count": null,
   "id": "c6e5f2d1-c0fd-43d7-ab49-74b6f6ebce99",
   "metadata": {},
   "outputs": [],
   "source": []
  },
  {
   "cell_type": "code",
   "execution_count": null,
   "id": "66bba1aa-6f1a-4354-bd60-22e28ef2b5da",
   "metadata": {},
   "outputs": [],
   "source": []
  },
  {
   "cell_type": "code",
   "execution_count": null,
   "id": "b73e4088-e043-44f7-82eb-5801f639dd8f",
   "metadata": {},
   "outputs": [],
   "source": []
  },
  {
   "cell_type": "code",
   "execution_count": null,
   "id": "ea2215fe-1224-440b-8d08-1320ae0f9660",
   "metadata": {},
   "outputs": [],
   "source": []
  },
  {
   "cell_type": "code",
   "execution_count": null,
   "id": "1645c1a5-9b6e-472c-b21c-becafd6b7ae8",
   "metadata": {},
   "outputs": [],
   "source": []
  },
  {
   "cell_type": "code",
   "execution_count": null,
   "id": "84b1f38f-8b01-46c5-9869-4c67c893e05a",
   "metadata": {},
   "outputs": [],
   "source": []
  },
  {
   "cell_type": "markdown",
   "id": "69863a65-21ce-4bd2-a0e4-c4ca28d220c1",
   "metadata": {},
   "source": [
    "## dev using summary -- don't think I'll go w/ this though"
   ]
  },
  {
   "cell_type": "code",
   "execution_count": 4,
   "id": "77526649-7f36-4d1f-aa78-2b330eb02060",
   "metadata": {},
   "outputs": [],
   "source": [
    "trip_summ = od+expand(config['lr']['param_search']['cerberus']['trip_summary'], species='human')[0]"
   ]
  },
  {
   "cell_type": "code",
   "execution_count": 9,
   "id": "de5e10eb-d03e-43fc-b75b-2c1f1d0710c1",
   "metadata": {},
   "outputs": [],
   "source": [
    "df = pd.read_csv(trip_summ, sep='\\t', nrows=400000)"
   ]
  },
  {
   "cell_type": "code",
   "execution_count": 10,
   "id": "41b41809-8676-4cce-9840-931390c7080b",
   "metadata": {},
   "outputs": [],
   "source": [
    "cols = ['source', 'gid', 'n_tss', 'n_tes', 'n_ic', 'n_iso', 'splicing_ratio',\n",
    "       'tss_ratio', 'tes_ratio', 'spl_ratio', 'sector', 'gname', 'sample',\n",
    "       'gene_tpm', 'file', 'tss_dist', 'tes_dist',\n",
    "        'tss_slack', 'tes_slack',\n",
    "        'tss_agg_dist', 'tes_agg_dist']\n",
    "df.columns = cols"
   ]
  },
  {
   "cell_type": "code",
   "execution_count": 11,
   "id": "74661efd-dd54-44da-918a-7f735ba56f93",
   "metadata": {},
   "outputs": [],
   "source": [
    "df['source'] = df['source']+'_'+\\\n",
    "               df['tss_dist'].astype(str)+'_'+\\\n",
    "               df['tes_dist'].astype(str)+'_'+\\\n",
    "               df['tss_slack'].astype(str)+'_'+\\\n",
    "               df['tes_slack'].astype(str)+'_'+\\\n",
    "               df['tss_agg_dist'].astype(str)+'_'+\\\n",
    "               df['tes_agg_dist'].astype(str)\n"
   ]
  },
  {
   "cell_type": "code",
   "execution_count": 13,
   "id": "1aaa42bf-7dea-4cb7-8a0c-4fd43176967e",
   "metadata": {},
   "outputs": [],
   "source": [
    "ca = cerberus.read(cerberus_h5)\n",
    "ca_trip_back = ca.triplets.copy(deep=True)"
   ]
  },
  {
   "cell_type": "code",
   "execution_count": 26,
   "id": "10f0d8a5-b0ea-4853-b38f-75a52c57e992",
   "metadata": {},
   "outputs": [
    {
     "data": {
      "text/html": [
       "<div>\n",
       "<style scoped>\n",
       "    .dataframe tbody tr th:only-of-type {\n",
       "        vertical-align: middle;\n",
       "    }\n",
       "\n",
       "    .dataframe tbody tr th {\n",
       "        vertical-align: top;\n",
       "    }\n",
       "\n",
       "    .dataframe thead th {\n",
       "        text-align: right;\n",
       "    }\n",
       "</style>\n",
       "<table border=\"1\" class=\"dataframe\">\n",
       "  <thead>\n",
       "    <tr style=\"text-align: right;\">\n",
       "      <th></th>\n",
       "      <th>source</th>\n",
       "      <th>gid</th>\n",
       "      <th>n_tss</th>\n",
       "      <th>n_tes</th>\n",
       "      <th>n_ic</th>\n",
       "      <th>n_iso</th>\n",
       "      <th>splicing_ratio</th>\n",
       "      <th>tss_ratio</th>\n",
       "      <th>tes_ratio</th>\n",
       "      <th>spl_ratio</th>\n",
       "      <th>...</th>\n",
       "      <th>gname</th>\n",
       "      <th>sample</th>\n",
       "      <th>gene_tpm</th>\n",
       "      <th>file</th>\n",
       "      <th>tss_dist</th>\n",
       "      <th>tes_dist</th>\n",
       "      <th>tss_slack</th>\n",
       "      <th>tes_slack</th>\n",
       "      <th>tss_agg_dist</th>\n",
       "      <th>tes_agg_dist</th>\n",
       "    </tr>\n",
       "  </thead>\n",
       "  <tbody>\n",
       "    <tr>\n",
       "      <th>0</th>\n",
       "      <td>obs_det_0_0_0_0_0_0</td>\n",
       "      <td>ENSG00000000003</td>\n",
       "      <td>3.0</td>\n",
       "      <td>11.0</td>\n",
       "      <td>9.0</td>\n",
       "      <td>34.0</td>\n",
       "      <td>1.285714</td>\n",
       "      <td>0.196262</td>\n",
       "      <td>0.719626</td>\n",
       "      <td>0.084112</td>\n",
       "      <td>...</td>\n",
       "      <td>TSPAN6</td>\n",
       "      <td>NaN</td>\n",
       "      <td>NaN</td>\n",
       "      <td>data/human/lr/param_search/0_0_0_0_0_0/sample_...</td>\n",
       "      <td>0</td>\n",
       "      <td>0</td>\n",
       "      <td>0</td>\n",
       "      <td>0</td>\n",
       "      <td>0</td>\n",
       "      <td>0</td>\n",
       "    </tr>\n",
       "    <tr>\n",
       "      <th>1</th>\n",
       "      <td>obs_det_0_0_0_0_0_0</td>\n",
       "      <td>ENSG00000000005</td>\n",
       "      <td>1.0</td>\n",
       "      <td>1.0</td>\n",
       "      <td>1.0</td>\n",
       "      <td>1.0</td>\n",
       "      <td>1.000000</td>\n",
       "      <td>0.333333</td>\n",
       "      <td>0.333333</td>\n",
       "      <td>0.333333</td>\n",
       "      <td>...</td>\n",
       "      <td>TNMD</td>\n",
       "      <td>NaN</td>\n",
       "      <td>NaN</td>\n",
       "      <td>data/human/lr/param_search/0_0_0_0_0_0/sample_...</td>\n",
       "      <td>0</td>\n",
       "      <td>0</td>\n",
       "      <td>0</td>\n",
       "      <td>0</td>\n",
       "      <td>0</td>\n",
       "      <td>0</td>\n",
       "    </tr>\n",
       "    <tr>\n",
       "      <th>2</th>\n",
       "      <td>obs_det_0_0_0_0_0_0</td>\n",
       "      <td>ENSG00000000419</td>\n",
       "      <td>6.0</td>\n",
       "      <td>5.0</td>\n",
       "      <td>8.0</td>\n",
       "      <td>15.0</td>\n",
       "      <td>1.454545</td>\n",
       "      <td>0.481752</td>\n",
       "      <td>0.401460</td>\n",
       "      <td>0.116788</td>\n",
       "      <td>...</td>\n",
       "      <td>DPM1</td>\n",
       "      <td>NaN</td>\n",
       "      <td>NaN</td>\n",
       "      <td>data/human/lr/param_search/0_0_0_0_0_0/sample_...</td>\n",
       "      <td>0</td>\n",
       "      <td>0</td>\n",
       "      <td>0</td>\n",
       "      <td>0</td>\n",
       "      <td>0</td>\n",
       "      <td>0</td>\n",
       "    </tr>\n",
       "    <tr>\n",
       "      <th>3</th>\n",
       "      <td>obs_det_0_0_0_0_0_0</td>\n",
       "      <td>ENSG00000000457</td>\n",
       "      <td>5.0</td>\n",
       "      <td>6.0</td>\n",
       "      <td>5.0</td>\n",
       "      <td>10.0</td>\n",
       "      <td>0.909091</td>\n",
       "      <td>0.419847</td>\n",
       "      <td>0.503817</td>\n",
       "      <td>0.076336</td>\n",
       "      <td>...</td>\n",
       "      <td>SCYL3</td>\n",
       "      <td>NaN</td>\n",
       "      <td>NaN</td>\n",
       "      <td>data/human/lr/param_search/0_0_0_0_0_0/sample_...</td>\n",
       "      <td>0</td>\n",
       "      <td>0</td>\n",
       "      <td>0</td>\n",
       "      <td>0</td>\n",
       "      <td>0</td>\n",
       "      <td>0</td>\n",
       "    </tr>\n",
       "    <tr>\n",
       "      <th>4</th>\n",
       "      <td>obs_det_0_0_0_0_0_0</td>\n",
       "      <td>ENSG00000000460</td>\n",
       "      <td>6.0</td>\n",
       "      <td>5.0</td>\n",
       "      <td>6.0</td>\n",
       "      <td>19.0</td>\n",
       "      <td>1.090909</td>\n",
       "      <td>0.496241</td>\n",
       "      <td>0.413534</td>\n",
       "      <td>0.090226</td>\n",
       "      <td>...</td>\n",
       "      <td>C1orf112</td>\n",
       "      <td>NaN</td>\n",
       "      <td>NaN</td>\n",
       "      <td>data/human/lr/param_search/0_0_0_0_0_0/sample_...</td>\n",
       "      <td>0</td>\n",
       "      <td>0</td>\n",
       "      <td>0</td>\n",
       "      <td>0</td>\n",
       "      <td>0</td>\n",
       "      <td>0</td>\n",
       "    </tr>\n",
       "  </tbody>\n",
       "</table>\n",
       "<p>5 rows × 21 columns</p>\n",
       "</div>"
      ],
      "text/plain": [
       "                source              gid  n_tss  n_tes  n_ic  n_iso  \\\n",
       "0  obs_det_0_0_0_0_0_0  ENSG00000000003    3.0   11.0   9.0   34.0   \n",
       "1  obs_det_0_0_0_0_0_0  ENSG00000000005    1.0    1.0   1.0    1.0   \n",
       "2  obs_det_0_0_0_0_0_0  ENSG00000000419    6.0    5.0   8.0   15.0   \n",
       "3  obs_det_0_0_0_0_0_0  ENSG00000000457    5.0    6.0   5.0   10.0   \n",
       "4  obs_det_0_0_0_0_0_0  ENSG00000000460    6.0    5.0   6.0   19.0   \n",
       "\n",
       "   splicing_ratio  tss_ratio  tes_ratio  spl_ratio  ...     gname sample  \\\n",
       "0        1.285714   0.196262   0.719626   0.084112  ...    TSPAN6    NaN   \n",
       "1        1.000000   0.333333   0.333333   0.333333  ...      TNMD    NaN   \n",
       "2        1.454545   0.481752   0.401460   0.116788  ...      DPM1    NaN   \n",
       "3        0.909091   0.419847   0.503817   0.076336  ...     SCYL3    NaN   \n",
       "4        1.090909   0.496241   0.413534   0.090226  ...  C1orf112    NaN   \n",
       "\n",
       "   gene_tpm                                               file tss_dist  \\\n",
       "0       NaN  data/human/lr/param_search/0_0_0_0_0_0/sample_...        0   \n",
       "1       NaN  data/human/lr/param_search/0_0_0_0_0_0/sample_...        0   \n",
       "2       NaN  data/human/lr/param_search/0_0_0_0_0_0/sample_...        0   \n",
       "3       NaN  data/human/lr/param_search/0_0_0_0_0_0/sample_...        0   \n",
       "4       NaN  data/human/lr/param_search/0_0_0_0_0_0/sample_...        0   \n",
       "\n",
       "   tes_dist  tss_slack  tes_slack  tss_agg_dist  tes_agg_dist  \n",
       "0         0          0          0             0             0  \n",
       "1         0          0          0             0             0  \n",
       "2         0          0          0             0             0  \n",
       "3         0          0          0             0             0  \n",
       "4         0          0          0             0             0  \n",
       "\n",
       "[5 rows x 21 columns]"
      ]
     },
     "execution_count": 26,
     "metadata": {},
     "output_type": "execute_result"
    }
   ],
   "source": [
    "for s in df.source.unique():\n",
    "    if 'major' in s:\n",
    "        comp_s = 'obs_major'\n",
    "    else:\n",
    "        comp_s = 'obs_det'\n",
    "    trip\n",
    "    \n",
    "    "
   ]
  },
  {
   "cell_type": "code",
   "execution_count": 12,
   "id": "ffe59b3d-1f5a-4597-9c0a-ff59e56f1cd5",
   "metadata": {},
   "outputs": [
    {
     "data": {
      "text/plain": [
       "array(['obs_det_0_0_0_0_0_0', 'obs_major_0_0_0_0_0_0',\n",
       "       'obs_det_0_0_0_0_0_20', 'obs_major_0_0_0_0_0_20',\n",
       "       'obs_det_0_0_0_0_20_0', 'obs_major_0_0_0_0_20_0',\n",
       "       'obs_det_0_0_0_0_20_20', 'obs_major_0_0_0_0_20_20',\n",
       "       'obs_det_0_0_0_25_0_0', 'obs_major_0_0_0_25_0_0',\n",
       "       'obs_det_0_0_0_25_0_20', 'obs_major_0_0_0_25_0_20',\n",
       "       'obs_det_0_0_0_25_20_0', 'obs_major_0_0_0_25_20_0',\n",
       "       'obs_det_0_0_0_25_20_20', 'obs_major_0_0_0_25_20_20'], dtype=object)"
      ]
     },
     "execution_count": 12,
     "metadata": {},
     "output_type": "execute_result"
    }
   ],
   "source": [
    "df.source.unique()"
   ]
  },
  {
   "cell_type": "code",
   "execution_count": null,
   "id": "021fae14-6955-4938-aeb6-618d511a5e72",
   "metadata": {},
   "outputs": [],
   "source": []
  }
 ],
 "metadata": {
  "kernelspec": {
   "display_name": "Python 3",
   "language": "python",
   "name": "python3"
  },
  "language_info": {
   "codemirror_mode": {
    "name": "ipython",
    "version": 3
   },
   "file_extension": ".py",
   "mimetype": "text/x-python",
   "name": "python",
   "nbconvert_exporter": "python",
   "pygments_lexer": "ipython3",
   "version": "3.7.12"
  }
 },
 "nbformat": 4,
 "nbformat_minor": 5
}
