{
 "cells": [
  {
   "cell_type": "code",
   "execution_count": 1,
   "id": "675d587b-f4a1-4a6d-bdb7-e7c489aeb967",
   "metadata": {},
   "outputs": [],
   "source": [
    "import pandas as pd\n",
    "import numpy as np\n",
    "import scipy.stats as st\n",
    "import seaborn as sns\n",
    "import sys\n",
    "import os\n",
    "# import gseapy as gp\n",
    "import matplotlib.pyplot as plt\n",
    "import swan_vis as swan\n",
    "import yaml\n",
    "from snakemake.io import expand\n",
    "import cerberus\n",
    "\n",
    "p = os.path.dirname(os.path.dirname(os.getcwd()))\n",
    "sys.path.append(p)\n",
    "\n",
    "from proc_revisions.utils import *\n",
    "from proc_revisions.plotting import *\n"
   ]
  },
  {
   "cell_type": "code",
   "execution_count": 2,
   "id": "4d58b7ae-8cac-4d63-b9f9-4fa5c636aacf",
   "metadata": {},
   "outputs": [],
   "source": [
    "od = '../../proc_revisions/'\n",
    "config_file = f'{od}/config.yml'\n",
    "with open(config_file) as f:\n",
    "    config = yaml.safe_load(f)"
   ]
  },
  {
   "cell_type": "code",
   "execution_count": 3,
   "id": "ff8d85d8-e9e6-4d1d-8bf7-b05402973c58",
   "metadata": {},
   "outputs": [],
   "source": [
    "ab = od+expand(config['lr']['talon']['fusion_fix']['ab'], species='human')[0]\n",
    "filt_ab = od+expand(config['lr']['cerberus']['filt_ab'], species='human')[0]\n",
    "read_annot = od+expand(config['lr']['talon']['full_annot'], species='human')[0]\n",
    "t_metadata = od+expand(config['ref']['cerberus']['new_gtf_t_info'], species='human')[0]\n",
    "lib_meta = od+expand(config['lr']['meta'], species='human')[0]\n",
    "swan_file = od+expand(config['lr']['swan']['sg'], species='human')[0]\n",
    "cerberus_h5 = od+expand(config['lr']['cerberus']['ca_triplets'], species='human', obs_col='sample')[0]\n",
    "cerb_t_metadata = od+expand(config['lr']['cerberus']['gtf_t_info'], species='human')[0]\n",
    "major_isos = od+expand(config['lr']['analysis']['major_isos'], species='human', obs_col='sample')[0]\n",
    "pi_tpm_table = od+expand(config['lr']['mane']['pi_tpm']['triplet'], species='human', obs_col='sample')[0]\n",
    "pp_summary = od+expand(config['lr']['protein_pred']['summary'], species='human')[0]\n",
    "\n",
    "ref_t_metadata = od+expand(config['ref']['new_gtf_t_info'], species='human')[0]\n",
    "ref_g_metadata = od+expand(config['ref']['new_gtf_g_info'], species='human')[0]\n",
    "\n",
    "m_lib_meta = od+expand(config['lr']['meta'], species='mouse')[0]\n",
    "\n",
    "ver = 'v40_cerberus'\n",
    "min_tpm = 1\n",
    "gene_subset = 'protein_coding'\n",
    "obs_col = 'sample'\n",
    "go_gene_subset = 'protein_coding'"
   ]
  },
  {
   "cell_type": "code",
   "execution_count": 35,
   "id": "de6f4509-c61f-4765-a871-b3ecce497b8a",
   "metadata": {},
   "outputs": [],
   "source": [
    "def assign_param_search_sector(df, kind, thresh):\n",
    "    \"\"\"\n",
    "    Assign each gene triplet a sector based on \n",
    "    altering one threshold\n",
    "\n",
    "    Parameters:\n",
    "        df (pandas DataFrame): DataFrame with simplex coordinates and n_iso\n",
    "        kind (str): 'tss', 'ic', 'tes'\n",
    "        thresh (float): Threshold to use\n",
    "\n",
    "    Returns:\n",
    "        df (pandas DataFrame): DataFrame with sector listed\n",
    "    \"\"\"\n",
    "    \n",
    "    if kind == 'tss':\n",
    "        thing = 'tss_ratio'\n",
    "        thing2 = 'tss'\n",
    "    elif kind == 'ic':\n",
    "        thing = 'spl_ratio'\n",
    "        thing2 = 'splicing'\n",
    "    elif kind == 'tes':\n",
    "        thing = 'tes_ratio'\n",
    "        thing2 = 'tes'\n",
    "\n",
    "    # df['sector'] = f'not_{thing2}'\n",
    "    df['sector'] = np.nan\n",
    "\n",
    "    df.loc[df[thing] > thresh, 'sector'] = thing2\n",
    "    \n",
    "    \n",
    "    return df"
   ]
  },
  {
   "cell_type": "code",
   "execution_count": 14,
   "id": "287a230a-7c19-4e82-9b57-68c87af92736",
   "metadata": {},
   "outputs": [],
   "source": [
    "ca = cerberus.read(cerberus_h5)\n",
    "df = ca.triplets.copy(deep=True)\n",
    "df = df.loc[df.source=='obs_det']"
   ]
  },
  {
   "cell_type": "code",
   "execution_count": 36,
   "id": "a444fb0a-d980-430c-9ede-9e2991918e22",
   "metadata": {},
   "outputs": [],
   "source": [
    "big_df = pd.DataFrame()\n",
    "for feat in ['tss', 'ic', 'tes']:\n",
    "    for i in range(0, 100):\n",
    "        thresh = i/100\n",
    "        temp = assign_param_search_sector(df, feat, thresh)\n",
    "        temp = temp[['gid', 'sector']].groupby('sector').count().reset_index().rename({'gid':'n_genes'}, axis=1)\n",
    "        temp['feat'] = feat\n",
    "        temp['thresh'] = thresh\n",
    "        big_df = pd.concat([big_df, temp], axis=0)    \n",
    "        # if i%10 == 0:\n",
    "        #     print(i)"
   ]
  },
  {
   "cell_type": "code",
   "execution_count": 37,
   "id": "f566d4d2-b4cf-47d2-890e-383a24000f4c",
   "metadata": {},
   "outputs": [
    {
     "data": {
      "text/html": [
       "<div>\n",
       "<style scoped>\n",
       "    .dataframe tbody tr th:only-of-type {\n",
       "        vertical-align: middle;\n",
       "    }\n",
       "\n",
       "    .dataframe tbody tr th {\n",
       "        vertical-align: top;\n",
       "    }\n",
       "\n",
       "    .dataframe thead th {\n",
       "        text-align: right;\n",
       "    }\n",
       "</style>\n",
       "<table border=\"1\" class=\"dataframe\">\n",
       "  <thead>\n",
       "    <tr style=\"text-align: right;\">\n",
       "      <th></th>\n",
       "      <th>sector</th>\n",
       "      <th>n_genes</th>\n",
       "      <th>feat</th>\n",
       "      <th>thresh</th>\n",
       "    </tr>\n",
       "  </thead>\n",
       "  <tbody>\n",
       "    <tr>\n",
       "      <th>0</th>\n",
       "      <td>tss</td>\n",
       "      <td>26544</td>\n",
       "      <td>tss</td>\n",
       "      <td>0.00</td>\n",
       "    </tr>\n",
       "    <tr>\n",
       "      <th>0</th>\n",
       "      <td>tss</td>\n",
       "      <td>26544</td>\n",
       "      <td>tss</td>\n",
       "      <td>0.01</td>\n",
       "    </tr>\n",
       "    <tr>\n",
       "      <th>0</th>\n",
       "      <td>tss</td>\n",
       "      <td>26544</td>\n",
       "      <td>tss</td>\n",
       "      <td>0.02</td>\n",
       "    </tr>\n",
       "    <tr>\n",
       "      <th>0</th>\n",
       "      <td>tss</td>\n",
       "      <td>26544</td>\n",
       "      <td>tss</td>\n",
       "      <td>0.03</td>\n",
       "    </tr>\n",
       "    <tr>\n",
       "      <th>0</th>\n",
       "      <td>tss</td>\n",
       "      <td>26542</td>\n",
       "      <td>tss</td>\n",
       "      <td>0.04</td>\n",
       "    </tr>\n",
       "  </tbody>\n",
       "</table>\n",
       "</div>"
      ],
      "text/plain": [
       "  sector  n_genes feat  thresh\n",
       "0    tss    26544  tss    0.00\n",
       "0    tss    26544  tss    0.01\n",
       "0    tss    26544  tss    0.02\n",
       "0    tss    26544  tss    0.03\n",
       "0    tss    26542  tss    0.04"
      ]
     },
     "execution_count": 37,
     "metadata": {},
     "output_type": "execute_result"
    }
   ],
   "source": [
    "big_df.head()"
   ]
  },
  {
   "cell_type": "code",
   "execution_count": 43,
   "id": "96a3aa61-3a99-4691-a840-d87865bae5c8",
   "metadata": {},
   "outputs": [
    {
     "data": {
      "image/png": "[encoded data removed]",
      "text/plain": [
       "<Figure size 432x288 with 1 Axes>"
      ]
     },
     "metadata": {
      "needs_background": "light"
     },
     "output_type": "display_data"
    }
   ],
   "source": [
    "sns.set_context('paper', font_scale=2)\n",
    "mpl.rcParams['font.family'] = 'Arial'\n",
    "mpl.rcParams['pdf.fonttype'] = 42\n",
    "c_dict, order = get_sector_colors()\n",
    "ax = sns.lineplot(big_df, hue='sector', y='n_genes', x='thresh', linewidth=3, palette=c_dict)\n",
    "ax.set(xlabel='Sector threshold', ylabel='# genes')\n",
    "ax.spines['right'].set_visible(False)\n",
    "ax.spines['top'].set_visible(False)"
   ]
  },
  {
   "cell_type": "code",
   "execution_count": null,
   "id": "4f6b0d36-b40a-4a71-a6b3-b9a6672e9ec1",
   "metadata": {},
   "outputs": [],
   "source": []
  }
 ],
 "metadata": {
  "kernelspec": {
   "display_name": "Python 3",
   "language": "python",
   "name": "python3"
  },
  "language_info": {
   "codemirror_mode": {
    "name": "ipython",
    "version": 3
   },
   "file_extension": ".py",
   "mimetype": "text/x-python",
   "name": "python",
   "nbconvert_exporter": "python",
   "pygments_lexer": "ipython3",
   "version": "3.7.12"
  }
 },
 "nbformat": 4,
 "nbformat_minor": 5
}
