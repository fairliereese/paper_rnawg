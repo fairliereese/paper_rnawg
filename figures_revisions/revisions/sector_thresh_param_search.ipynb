{
 "cells": [
  {
   "cell_type": "code",
   "execution_count": 1,
   "id": "675d587b-f4a1-4a6d-bdb7-e7c489aeb967",
   "metadata": {},
   "outputs": [],
   "source": [
    "import pandas as pd\n",
    "import numpy as np\n",
    "import scipy.stats as st\n",
    "import seaborn as sns\n",
    "import sys\n",
    "import os\n",
    "# import gseapy as gp\n",
    "import matplotlib.pyplot as plt\n",
    "import swan_vis as swan\n",
    "import yaml\n",
    "from snakemake.io import expand\n",
    "import cerberus\n",
    "\n",
    "p = os.path.dirname(os.path.dirname(os.getcwd()))\n",
    "sys.path.append(p)\n",
    "\n",
    "from proc_revisions.utils import *\n",
    "from proc_revisions.plotting import *\n"
   ]
  },
  {
   "cell_type": "code",
   "execution_count": 2,
   "id": "4d58b7ae-8cac-4d63-b9f9-4fa5c636aacf",
   "metadata": {},
   "outputs": [],
   "source": [
    "od = '../../proc_revisions/'\n",
    "config_file = f'{od}/config.yml'\n",
    "with open(config_file) as f:\n",
    "    config = yaml.safe_load(f)"
   ]
  },
  {
   "cell_type": "code",
   "execution_count": 3,
   "id": "ff8d85d8-e9e6-4d1d-8bf7-b05402973c58",
   "metadata": {},
   "outputs": [],
   "source": [
    "ab = od+expand(config['lr']['talon']['fusion_fix']['ab'], species='human')[0]\n",
    "filt_ab = od+expand(config['lr']['cerberus']['filt_ab'], species='human')[0]\n",
    "read_annot = od+expand(config['lr']['talon']['full_annot'], species='human')[0]\n",
    "t_metadata = od+expand(config['ref']['cerberus']['new_gtf_t_info'], species='human')[0]\n",
    "lib_meta = od+expand(config['lr']['meta'], species='human')[0]\n",
    "swan_file = od+expand(config['lr']['swan']['sg'], species='human')[0]\n",
    "cerberus_h5 = od+expand(config['lr']['cerberus']['ca_triplets'], species='human', obs_col='sample')[0]\n",
    "cerb_t_metadata = od+expand(config['lr']['cerberus']['gtf_t_info'], species='human')[0]\n",
    "major_isos = od+expand(config['lr']['analysis']['major_isos'], species='human', obs_col='sample')[0]\n",
    "pi_tpm_table = od+expand(config['lr']['mane']['pi_tpm']['triplet'], species='human', obs_col='sample')[0]\n",
    "pp_summary = od+expand(config['lr']['protein_pred']['summary'], species='human')[0]\n",
    "\n",
    "ref_t_metadata = od+expand(config['ref']['new_gtf_t_info'], species='human')[0]\n",
    "ref_g_metadata = od+expand(config['ref']['new_gtf_g_info'], species='human')[0]\n",
    "\n",
    "m_lib_meta = od+expand(config['lr']['meta'], species='mouse')[0]\n",
    "\n",
    "ver = 'v40_cerberus'\n",
    "min_tpm = 1\n",
    "gene_subset = 'protein_coding'\n",
    "obs_col = 'sample'\n",
    "go_gene_subset = 'protein_coding'"
   ]
  },
  {
   "cell_type": "code",
   "execution_count": 4,
   "id": "de6f4509-c61f-4765-a871-b3ecce497b8a",
   "metadata": {},
   "outputs": [],
   "source": [
    "def assign_param_search_sector(df, kind, thresh, top='splicing_ratio', rm_simple=False):\n",
    "    \"\"\"\n",
    "    Assign each gene triplet a sector based on \n",
    "    altering one threshold\n",
    "\n",
    "    Parameters:\n",
    "        df (pandas DataFrame): DataFrame with simplex coordinates and n_iso\n",
    "        kind (str): 'tss', 'ic', 'tes'\n",
    "        thresh (float): Threshold to use\n",
    "        top: (str): {'splicing_ratio', 'n_ic'}\n",
    "        rm_simple (bool): Whether to remove simple genes\n",
    "\n",
    "    Returns:\n",
    "        df (pandas DataFrame): DataFrame with sector listed\n",
    "    \"\"\"\n",
    "    temp = df.copy(deep=True)\n",
    "    \n",
    "    if kind == 'tss':\n",
    "        thing = 'tss_ratio'\n",
    "        thing2 = 'tss'\n",
    "    elif kind == 'ic':\n",
    "        thing = 'spl_ratio'\n",
    "        thing2 = 'splicing'\n",
    "    elif kind == 'tes':\n",
    "        thing = 'tes_ratio'\n",
    "        thing2 = 'tes'\n",
    "        \n",
    "    if top == 'n_ic':\n",
    "        # recalc\n",
    "        temp['tss_ratio'] = temp.n_tss/(temp.n_tss+temp.n_ic+temp.n_tes)\n",
    "        temp['spl_ratio'] = temp.n_ic/(temp.n_tss+temp.n_ic+temp.n_tes)\n",
    "        temp['tes_ratio'] = temp.n_tes/(temp.n_tss+temp.n_ic+temp.n_tes)\n",
    "        \n",
    "    # df['sector'] = f'not_{thing2}'\n",
    "    temp['sector'] = np.nan\n",
    "\n",
    "    temp.loc[temp[thing] > thresh, 'sector'] = thing2\n",
    "    \n",
    "    # remove single-isoform genes, if requested\n",
    "    if rm_simple:\n",
    "        temp = temp.loc[temp.n_iso != 1]\n",
    "    \n",
    "    return temp"
   ]
  },
  {
   "cell_type": "code",
   "execution_count": 18,
   "id": "287a230a-7c19-4e82-9b57-68c87af92736",
   "metadata": {},
   "outputs": [],
   "source": [
    "ca = cerberus.read(cerberus_h5)\n",
    "df = ca.triplets.copy(deep=True)\n",
    "df = df.loc[df.source=='obs_det']"
   ]
  },
  {
   "cell_type": "code",
   "execution_count": 25,
   "id": "690d2dee-fc5c-4709-8cff-e3990bf820fe",
   "metadata": {},
   "outputs": [],
   "source": [
    "gtf_df, _, _ = get_gtf_info(ver=ver, how='gene', add_stable_gid=True)\n",
    "df = df.merge(gtf_df[['gid_stable', 'biotype_category']],\n",
    "              how='left',\n",
    "              left_on='gid',\n",
    "              right_on='gid_stable')\n",
    "df = df.loc[df.biotype_category==gene_subset]"
   ]
  },
  {
   "cell_type": "code",
   "execution_count": 28,
   "id": "b01bdcb2-6604-4859-a117-86471ee792aa",
   "metadata": {},
   "outputs": [
    {
     "name": "stdout",
     "output_type": "stream",
     "text": [
      "           gid\n",
      "sector        \n",
      "mixed     7880\n",
      "simple    1896\n",
      "splicing  1113\n",
      "tes       4527\n",
      "tss       2017\n"
     ]
    }
   ],
   "source": [
    "print(df[['sector', 'gid']].groupby('sector').count())"
   ]
  },
  {
   "cell_type": "markdown",
   "id": "37ef958a-1012-41b7-a2f7-f915bfc09d4d",
   "metadata": {},
   "source": [
    "## w/o splicing ratio"
   ]
  },
  {
   "cell_type": "code",
   "execution_count": 8,
   "id": "19328d88-0adf-4fd1-a0c6-3610b2d40aba",
   "metadata": {},
   "outputs": [],
   "source": [
    "big_df = pd.DataFrame()\n",
    "for feat in ['tss', 'ic', 'tes']:\n",
    "    for i in range(0, 100):\n",
    "        thresh = i/100\n",
    "        temp = assign_param_search_sector(df, feat, thresh, top='n_ic')\n",
    "        temp = temp[['gid', 'sector']].groupby('sector').count().reset_index().rename({'gid':'n_genes'}, axis=1)\n",
    "        temp['feat'] = feat\n",
    "        temp['thresh'] = thresh\n",
    "        big_df = pd.concat([big_df, temp], axis=0)    \n",
    "        # if i%10 == 0:\n",
    "        #     print(i)"
   ]
  },
  {
   "cell_type": "code",
   "execution_count": 9,
   "id": "a444fb0a-d980-430c-9ede-9e2991918e22",
   "metadata": {},
   "outputs": [
    {
     "data": {
      "image/png": "[encoded data removed]",
      "text/plain": [
       "<Figure size 432x288 with 1 Axes>"
      ]
     },
     "metadata": {
      "needs_background": "light"
     },
     "output_type": "display_data"
    }
   ],
   "source": [
    "sns.set_context('paper', font_scale=2)\n",
    "mpl.rcParams['font.family'] = 'Arial'\n",
    "mpl.rcParams['pdf.fonttype'] = 42\n",
    "c_dict, order = get_sector_colors()\n",
    "ax = sns.lineplot(big_df, hue='sector', y='n_genes', x='thresh', linewidth=3, palette=c_dict)\n",
    "ax.set(xlabel='Sector threshold', ylabel='# genes')\n",
    "ylims = ax.get_ylim()\n",
    "xlims = ax.get_xlim()\n",
    "\n",
    "ax.vlines(0.5, ylims[0], ylims[1],\n",
    "                      colors='k', linestyles='dashed',\n",
    "                      linewidth=2, alpha=0.25)\n",
    "ax.hlines(0, xlims[0], xlims[1],\n",
    "                      colors='k', linestyles='dashed',\n",
    "                      linewidth=2, alpha=0.25)\n",
    "ax.spines['right'].set_visible(False)\n",
    "ax.spines['top'].set_visible(False)"
   ]
  },
  {
   "cell_type": "code",
   "execution_count": 10,
   "id": "f566d4d2-b4cf-47d2-890e-383a24000f4c",
   "metadata": {},
   "outputs": [
    {
     "data": {
      "text/html": [
       "<div>\n",
       "<style scoped>\n",
       "    .dataframe tbody tr th:only-of-type {\n",
       "        vertical-align: middle;\n",
       "    }\n",
       "\n",
       "    .dataframe tbody tr th {\n",
       "        vertical-align: top;\n",
       "    }\n",
       "\n",
       "    .dataframe thead th {\n",
       "        text-align: right;\n",
       "    }\n",
       "</style>\n",
       "<table border=\"1\" class=\"dataframe\">\n",
       "  <thead>\n",
       "    <tr style=\"text-align: right;\">\n",
       "      <th></th>\n",
       "      <th>sector</th>\n",
       "      <th>n_genes</th>\n",
       "      <th>feat</th>\n",
       "      <th>thresh</th>\n",
       "    </tr>\n",
       "  </thead>\n",
       "  <tbody>\n",
       "    <tr>\n",
       "      <th>0</th>\n",
       "      <td>tss</td>\n",
       "      <td>26544</td>\n",
       "      <td>tss</td>\n",
       "      <td>0.00</td>\n",
       "    </tr>\n",
       "    <tr>\n",
       "      <th>0</th>\n",
       "      <td>tss</td>\n",
       "      <td>26544</td>\n",
       "      <td>tss</td>\n",
       "      <td>0.01</td>\n",
       "    </tr>\n",
       "    <tr>\n",
       "      <th>0</th>\n",
       "      <td>tss</td>\n",
       "      <td>26543</td>\n",
       "      <td>tss</td>\n",
       "      <td>0.02</td>\n",
       "    </tr>\n",
       "    <tr>\n",
       "      <th>0</th>\n",
       "      <td>tss</td>\n",
       "      <td>26541</td>\n",
       "      <td>tss</td>\n",
       "      <td>0.03</td>\n",
       "    </tr>\n",
       "    <tr>\n",
       "      <th>0</th>\n",
       "      <td>tss</td>\n",
       "      <td>26515</td>\n",
       "      <td>tss</td>\n",
       "      <td>0.04</td>\n",
       "    </tr>\n",
       "  </tbody>\n",
       "</table>\n",
       "</div>"
      ],
      "text/plain": [
       "  sector  n_genes feat  thresh\n",
       "0    tss    26544  tss    0.00\n",
       "0    tss    26544  tss    0.01\n",
       "0    tss    26543  tss    0.02\n",
       "0    tss    26541  tss    0.03\n",
       "0    tss    26515  tss    0.04"
      ]
     },
     "execution_count": 10,
     "metadata": {},
     "output_type": "execute_result"
    }
   ],
   "source": [
    "big_df.head()"
   ]
  },
  {
   "cell_type": "code",
   "execution_count": 11,
   "id": "fdc08e84-93bb-4845-87d8-141fc87a62c8",
   "metadata": {},
   "outputs": [
    {
     "data": {
      "text/html": [
       "<div>\n",
       "<style scoped>\n",
       "    .dataframe tbody tr th:only-of-type {\n",
       "        vertical-align: middle;\n",
       "    }\n",
       "\n",
       "    .dataframe tbody tr th {\n",
       "        vertical-align: top;\n",
       "    }\n",
       "\n",
       "    .dataframe thead th {\n",
       "        text-align: right;\n",
       "    }\n",
       "</style>\n",
       "<table border=\"1\" class=\"dataframe\">\n",
       "  <thead>\n",
       "    <tr style=\"text-align: right;\">\n",
       "      <th></th>\n",
       "      <th>source</th>\n",
       "      <th>gid</th>\n",
       "      <th>n_tss</th>\n",
       "      <th>n_tes</th>\n",
       "      <th>n_ic</th>\n",
       "      <th>n_iso</th>\n",
       "      <th>splicing_ratio</th>\n",
       "      <th>tss_ratio</th>\n",
       "      <th>tes_ratio</th>\n",
       "      <th>spl_ratio</th>\n",
       "      <th>sector</th>\n",
       "      <th>gname</th>\n",
       "      <th>sample</th>\n",
       "      <th>gene_tpm</th>\n",
       "    </tr>\n",
       "  </thead>\n",
       "  <tbody>\n",
       "    <tr>\n",
       "      <th>0</th>\n",
       "      <td>obs_det</td>\n",
       "      <td>ENSG00000000003</td>\n",
       "      <td>1.0</td>\n",
       "      <td>6.0</td>\n",
       "      <td>9.0</td>\n",
       "      <td>29.0</td>\n",
       "      <td>2.571429</td>\n",
       "      <td>0.104478</td>\n",
       "      <td>0.626866</td>\n",
       "      <td>0.268657</td>\n",
       "      <td>tes</td>\n",
       "      <td>TSPAN6</td>\n",
       "      <td>NaN</td>\n",
       "      <td>NaN</td>\n",
       "    </tr>\n",
       "    <tr>\n",
       "      <th>1</th>\n",
       "      <td>obs_det</td>\n",
       "      <td>ENSG00000000005</td>\n",
       "      <td>1.0</td>\n",
       "      <td>1.0</td>\n",
       "      <td>1.0</td>\n",
       "      <td>1.0</td>\n",
       "      <td>1.000000</td>\n",
       "      <td>0.333333</td>\n",
       "      <td>0.333333</td>\n",
       "      <td>0.333333</td>\n",
       "      <td>simple</td>\n",
       "      <td>TNMD</td>\n",
       "      <td>NaN</td>\n",
       "      <td>NaN</td>\n",
       "    </tr>\n",
       "    <tr>\n",
       "      <th>2</th>\n",
       "      <td>obs_det</td>\n",
       "      <td>ENSG00000000419</td>\n",
       "      <td>2.0</td>\n",
       "      <td>3.0</td>\n",
       "      <td>8.0</td>\n",
       "      <td>10.0</td>\n",
       "      <td>3.200000</td>\n",
       "      <td>0.243902</td>\n",
       "      <td>0.365854</td>\n",
       "      <td>0.390244</td>\n",
       "      <td>mixed</td>\n",
       "      <td>DPM1</td>\n",
       "      <td>NaN</td>\n",
       "      <td>NaN</td>\n",
       "    </tr>\n",
       "    <tr>\n",
       "      <th>3</th>\n",
       "      <td>obs_det</td>\n",
       "      <td>ENSG00000000457</td>\n",
       "      <td>3.0</td>\n",
       "      <td>4.0</td>\n",
       "      <td>5.0</td>\n",
       "      <td>7.0</td>\n",
       "      <td>1.428571</td>\n",
       "      <td>0.355932</td>\n",
       "      <td>0.474576</td>\n",
       "      <td>0.169492</td>\n",
       "      <td>mixed</td>\n",
       "      <td>SCYL3</td>\n",
       "      <td>NaN</td>\n",
       "      <td>NaN</td>\n",
       "    </tr>\n",
       "    <tr>\n",
       "      <th>4</th>\n",
       "      <td>obs_det</td>\n",
       "      <td>ENSG00000000460</td>\n",
       "      <td>3.0</td>\n",
       "      <td>4.0</td>\n",
       "      <td>6.0</td>\n",
       "      <td>17.0</td>\n",
       "      <td>1.714286</td>\n",
       "      <td>0.344262</td>\n",
       "      <td>0.459016</td>\n",
       "      <td>0.196721</td>\n",
       "      <td>mixed</td>\n",
       "      <td>C1orf112</td>\n",
       "      <td>NaN</td>\n",
       "      <td>NaN</td>\n",
       "    </tr>\n",
       "  </tbody>\n",
       "</table>\n",
       "</div>"
      ],
      "text/plain": [
       "    source              gid  n_tss  n_tes  n_ic  n_iso  splicing_ratio  \\\n",
       "0  obs_det  ENSG00000000003    1.0    6.0   9.0   29.0        2.571429   \n",
       "1  obs_det  ENSG00000000005    1.0    1.0   1.0    1.0        1.000000   \n",
       "2  obs_det  ENSG00000000419    2.0    3.0   8.0   10.0        3.200000   \n",
       "3  obs_det  ENSG00000000457    3.0    4.0   5.0    7.0        1.428571   \n",
       "4  obs_det  ENSG00000000460    3.0    4.0   6.0   17.0        1.714286   \n",
       "\n",
       "   tss_ratio  tes_ratio  spl_ratio  sector     gname sample  gene_tpm  \n",
       "0   0.104478   0.626866   0.268657     tes    TSPAN6    NaN       NaN  \n",
       "1   0.333333   0.333333   0.333333  simple      TNMD    NaN       NaN  \n",
       "2   0.243902   0.365854   0.390244   mixed      DPM1    NaN       NaN  \n",
       "3   0.355932   0.474576   0.169492   mixed     SCYL3    NaN       NaN  \n",
       "4   0.344262   0.459016   0.196721   mixed  C1orf112    NaN       NaN  "
      ]
     },
     "execution_count": 11,
     "metadata": {},
     "output_type": "execute_result"
    }
   ],
   "source": [
    "df.head()"
   ]
  },
  {
   "cell_type": "markdown",
   "id": "6d1d8091-63e1-4ff9-9f81-a4297d4926f7",
   "metadata": {},
   "source": [
    "## w/ splicing ratio"
   ]
  },
  {
   "cell_type": "code",
   "execution_count": 12,
   "id": "55cf15a8-e330-4ed5-917c-9869b6fdc50e",
   "metadata": {},
   "outputs": [],
   "source": [
    "big_df = pd.DataFrame()\n",
    "for feat in ['tss', 'ic', 'tes']:\n",
    "    for i in range(0, 100):\n",
    "        thresh = i/100\n",
    "        temp = assign_param_search_sector(df, feat, thresh)\n",
    "        temp = temp[['gid', 'sector']].groupby('sector').count().reset_index().rename({'gid':'n_genes'}, axis=1)\n",
    "        temp['feat'] = feat\n",
    "        temp['thresh'] = thresh\n",
    "        big_df = pd.concat([big_df, temp], axis=0)    \n",
    "        # if i%10 == 0:\n",
    "        #     print(i)"
   ]
  },
  {
   "cell_type": "code",
   "execution_count": 13,
   "id": "96a3aa61-3a99-4691-a840-d87865bae5c8",
   "metadata": {},
   "outputs": [
    {
     "data": {
      "image/png": "[encoded data removed]",
      "text/plain": [
       "<Figure size 432x288 with 1 Axes>"
      ]
     },
     "metadata": {
      "needs_background": "light"
     },
     "output_type": "display_data"
    }
   ],
   "source": [
    "sns.set_context('paper', font_scale=2)\n",
    "mpl.rcParams['font.family'] = 'Arial'\n",
    "mpl.rcParams['pdf.fonttype'] = 42\n",
    "c_dict, order = get_sector_colors()\n",
    "ax = sns.lineplot(big_df, hue='sector', y='n_genes', x='thresh', linewidth=3, palette=c_dict)\n",
    "ax.set(xlabel='Sector threshold', ylabel='# genes', ylim=(0,27000))\n",
    "ylims = ax.get_ylim()\n",
    "xlims = ax.get_xlim()\n",
    "\n",
    "ax.vlines(0.5, ylims[0], ylims[1],\n",
    "                      colors='k', linestyles='dashed',\n",
    "                      linewidth=2, alpha=0.25)\n",
    "# ax.hlines(0, xlims[0], xlims[1],\n",
    "#                       colors='k', linestyles='dashed',\n",
    "#                       linewidth=2, alpha=0.25)\n",
    "ax.spines['right'].set_visible(False)\n",
    "ax.spines['top'].set_visible(False)"
   ]
  },
  {
   "cell_type": "code",
   "execution_count": 14,
   "id": "4f6b0d36-b40a-4a71-a6b3-b9a6672e9ec1",
   "metadata": {},
   "outputs": [
    {
     "data": {
      "text/html": [
       "<div>\n",
       "<style scoped>\n",
       "    .dataframe tbody tr th:only-of-type {\n",
       "        vertical-align: middle;\n",
       "    }\n",
       "\n",
       "    .dataframe tbody tr th {\n",
       "        vertical-align: top;\n",
       "    }\n",
       "\n",
       "    .dataframe thead th {\n",
       "        text-align: right;\n",
       "    }\n",
       "</style>\n",
       "<table border=\"1\" class=\"dataframe\">\n",
       "  <thead>\n",
       "    <tr style=\"text-align: right;\">\n",
       "      <th></th>\n",
       "      <th>sector</th>\n",
       "      <th>n_genes</th>\n",
       "      <th>feat</th>\n",
       "      <th>thresh</th>\n",
       "    </tr>\n",
       "  </thead>\n",
       "  <tbody>\n",
       "    <tr>\n",
       "      <th>0</th>\n",
       "      <td>tss</td>\n",
       "      <td>26544</td>\n",
       "      <td>tss</td>\n",
       "      <td>0.00</td>\n",
       "    </tr>\n",
       "    <tr>\n",
       "      <th>0</th>\n",
       "      <td>tss</td>\n",
       "      <td>26544</td>\n",
       "      <td>tss</td>\n",
       "      <td>0.01</td>\n",
       "    </tr>\n",
       "    <tr>\n",
       "      <th>0</th>\n",
       "      <td>tss</td>\n",
       "      <td>26544</td>\n",
       "      <td>tss</td>\n",
       "      <td>0.02</td>\n",
       "    </tr>\n",
       "    <tr>\n",
       "      <th>0</th>\n",
       "      <td>tss</td>\n",
       "      <td>26544</td>\n",
       "      <td>tss</td>\n",
       "      <td>0.03</td>\n",
       "    </tr>\n",
       "    <tr>\n",
       "      <th>0</th>\n",
       "      <td>tss</td>\n",
       "      <td>26542</td>\n",
       "      <td>tss</td>\n",
       "      <td>0.04</td>\n",
       "    </tr>\n",
       "  </tbody>\n",
       "</table>\n",
       "</div>"
      ],
      "text/plain": [
       "  sector  n_genes feat  thresh\n",
       "0    tss    26544  tss    0.00\n",
       "0    tss    26544  tss    0.01\n",
       "0    tss    26544  tss    0.02\n",
       "0    tss    26544  tss    0.03\n",
       "0    tss    26542  tss    0.04"
      ]
     },
     "execution_count": 14,
     "metadata": {},
     "output_type": "execute_result"
    }
   ],
   "source": [
    "big_df.head()"
   ]
  },
  {
   "cell_type": "markdown",
   "id": "aff136dc-3913-48ca-8c6a-84702464330a",
   "metadata": {},
   "source": [
    "## w/ splicing ratio and w/o simple genes"
   ]
  },
  {
   "cell_type": "code",
   "execution_count": 34,
   "id": "8ce402ca-1bc4-42af-b1f9-b18a6a9c3da9",
   "metadata": {},
   "outputs": [],
   "source": [
    "n_non_simple = len(df.loc[df.sector!='simple'].index)"
   ]
  },
  {
   "cell_type": "code",
   "execution_count": 36,
   "id": "6b44ddd9-2336-479f-aa83-dc8ca1786916",
   "metadata": {},
   "outputs": [],
   "source": [
    "big_df = pd.DataFrame()\n",
    "for feat in ['tss', 'ic', 'tes']:\n",
    "    for i in range(0, 100):\n",
    "        thresh = i/100\n",
    "        temp = assign_param_search_sector(df, feat, thresh, rm_simple=True)\n",
    "        temp = temp[['gid', 'sector']].groupby('sector').count().reset_index().rename({'gid':'n_genes'}, axis=1)\n",
    "        temp['feat'] = feat\n",
    "        temp['thresh'] = thresh\n",
    "        big_df = pd.concat([big_df, temp], axis=0)    \n",
    "        # if i%10 == 0:\n",
    "        #     print(i)\n",
    "big_df['total_genes'] = n_non_simple"
   ]
  },
  {
   "cell_type": "code",
   "execution_count": 38,
   "id": "b5cc5571-add6-4f70-bf54-4b2bb2e1528d",
   "metadata": {},
   "outputs": [
    {
     "data": {
      "text/html": [
       "<div>\n",
       "<style scoped>\n",
       "    .dataframe tbody tr th:only-of-type {\n",
       "        vertical-align: middle;\n",
       "    }\n",
       "\n",
       "    .dataframe tbody tr th {\n",
       "        vertical-align: top;\n",
       "    }\n",
       "\n",
       "    .dataframe thead th {\n",
       "        text-align: right;\n",
       "    }\n",
       "</style>\n",
       "<table border=\"1\" class=\"dataframe\">\n",
       "  <thead>\n",
       "    <tr style=\"text-align: right;\">\n",
       "      <th></th>\n",
       "      <th>sector</th>\n",
       "      <th>n_genes</th>\n",
       "      <th>feat</th>\n",
       "      <th>thresh</th>\n",
       "      <th>total_genes</th>\n",
       "      <th>perc</th>\n",
       "    </tr>\n",
       "  </thead>\n",
       "  <tbody>\n",
       "    <tr>\n",
       "      <th>0</th>\n",
       "      <td>tss</td>\n",
       "      <td>15537</td>\n",
       "      <td>tss</td>\n",
       "      <td>0.00</td>\n",
       "      <td>15537</td>\n",
       "      <td>100.000000</td>\n",
       "    </tr>\n",
       "    <tr>\n",
       "      <th>0</th>\n",
       "      <td>tss</td>\n",
       "      <td>15537</td>\n",
       "      <td>tss</td>\n",
       "      <td>0.01</td>\n",
       "      <td>15537</td>\n",
       "      <td>100.000000</td>\n",
       "    </tr>\n",
       "    <tr>\n",
       "      <th>0</th>\n",
       "      <td>tss</td>\n",
       "      <td>15537</td>\n",
       "      <td>tss</td>\n",
       "      <td>0.02</td>\n",
       "      <td>15537</td>\n",
       "      <td>100.000000</td>\n",
       "    </tr>\n",
       "    <tr>\n",
       "      <th>0</th>\n",
       "      <td>tss</td>\n",
       "      <td>15537</td>\n",
       "      <td>tss</td>\n",
       "      <td>0.03</td>\n",
       "      <td>15537</td>\n",
       "      <td>100.000000</td>\n",
       "    </tr>\n",
       "    <tr>\n",
       "      <th>0</th>\n",
       "      <td>tss</td>\n",
       "      <td>15535</td>\n",
       "      <td>tss</td>\n",
       "      <td>0.04</td>\n",
       "      <td>15537</td>\n",
       "      <td>99.987128</td>\n",
       "    </tr>\n",
       "  </tbody>\n",
       "</table>\n",
       "</div>"
      ],
      "text/plain": [
       "  sector  n_genes feat  thresh  total_genes        perc\n",
       "0    tss    15537  tss    0.00        15537  100.000000\n",
       "0    tss    15537  tss    0.01        15537  100.000000\n",
       "0    tss    15537  tss    0.02        15537  100.000000\n",
       "0    tss    15537  tss    0.03        15537  100.000000\n",
       "0    tss    15535  tss    0.04        15537   99.987128"
      ]
     },
     "execution_count": 38,
     "metadata": {},
     "output_type": "execute_result"
    }
   ],
   "source": [
    "big_df.head()\n",
    "big_df['perc'] = (big_df.n_genes/big_df.total_genes)*100\n",
    "big_df.head()"
   ]
  },
  {
   "cell_type": "code",
   "execution_count": 47,
   "id": "145ed971-fa49-41c5-ae0f-e78fb87d9a5e",
   "metadata": {},
   "outputs": [
    {
     "data": {
      "image/png": "[encoded data removed]",
      "text/plain": [
       "<Figure size 432x288 with 2 Axes>"
      ]
     },
     "metadata": {
      "needs_background": "light"
     },
     "output_type": "display_data"
    }
   ],
   "source": [
    "sns.set_context('paper', font_scale=2)\n",
    "mpl.rcParams['font.family'] = 'Arial'\n",
    "mpl.rcParams['pdf.fonttype'] = 42\n",
    "c_dict, order = get_sector_colors()\n",
    "\n",
    "fig, ax1 = plt.subplots()\n",
    "ax2 = ax1.twinx()\n",
    "\n",
    "ax1 = sns.lineplot(big_df, hue='sector',\n",
    "                  y='n_genes', x='thresh', linewidth=3,\n",
    "                  palette=c_dict, ax=ax1)\n",
    "ax2 = sns.lineplot(big_df, hue='sector',\n",
    "                  y='perc', x='thresh', linewidth=3,\n",
    "                  palette=c_dict, ax=ax2)\n",
    "\n",
    "max_1 = 20000\n",
    "max_2 = (100*20000)/big_df.total_genes.tolist()[0]\n",
    "ax1.set(xlabel='Sector threshold', ylabel='# genes', ylim=(0,max_1))\n",
    "ax2.set(xlabel='Sector threshold', ylabel='% non-simple genes', ylim=(0,max_2))\n",
    "ylims = ax1.get_ylim()\n",
    "xlims = ax1.get_xlim()\n",
    "\n",
    "ax1.vlines(0.50, ylims[0], ylims[1],\n",
    "                      colors='k', linestyles='dashed',\n",
    "                      linewidth=2, alpha=0.25)\n",
    "# ax.hlines(0, xlims[0], xlims[1],\n",
    "#                       colors='k', linestyles='dashed',\n",
    "#                       linewidth=2, alpha=0.25)\n",
    "# ax.spines['right'].set_visible(False)\n",
    "ax1.spines['top'].set_visible(False)\n",
    "ax2.spines['top'].set_visible(False)"
   ]
  },
  {
   "cell_type": "code",
   "execution_count": 14,
   "id": "7b339df2-c309-42de-b152-51c30594d27a",
   "metadata": {},
   "outputs": [
    {
     "name": "stdout",
     "output_type": "stream",
     "text": [
      "     sector  n_genes feat  thresh\n",
      "0       tss     9966  tss     0.3\n",
      "0  splicing     5710   ic     0.3\n",
      "0       tes    12539  tes     0.3\n",
      "\n",
      "     sector  n_genes feat  thresh\n",
      "0       tss     5387  tss     0.4\n",
      "0  splicing     2643   ic     0.4\n",
      "0       tes     8766  tes     0.4\n",
      "\n",
      "     sector  n_genes feat  thresh\n",
      "0       tss     2328  tss     0.5\n",
      "0  splicing     1182   ic     0.5\n",
      "0       tes     5174  tes     0.5\n",
      "\n",
      "     sector  n_genes feat  thresh\n",
      "0       tss      630  tss     0.6\n",
      "0  splicing      517   ic     0.6\n",
      "0       tes     2346  tes     0.6\n",
      "\n",
      "     sector  n_genes feat  thresh\n",
      "0       tss      124  tss     0.7\n",
      "0  splicing      206   ic     0.7\n",
      "0       tes      820  tes     0.7\n",
      "\n"
     ]
    }
   ],
   "source": [
    "# get numbers at 0.3 and 0.7?\n",
    "big_df.head()\n",
    "nums = [0.3, 0.4, 0.5, 0.6, 0.7]\n",
    "for num in nums:\n",
    "    print(big_df.loc[big_df.thresh.isin([num])])\n",
    "    print()"
   ]
  },
  {
   "cell_type": "code",
   "execution_count": null,
   "id": "2a30cf53-02f2-43cb-beb4-d57034695c57",
   "metadata": {},
   "outputs": [],
   "source": []
  },
  {
   "cell_type": "code",
   "execution_count": null,
   "id": "ea908ad8-aa7e-489f-902f-ccf7dafb437b",
   "metadata": {},
   "outputs": [],
   "source": []
  },
  {
   "cell_type": "code",
   "execution_count": null,
   "id": "fde29233-c947-4fc9-a3aa-00c89a0e715f",
   "metadata": {},
   "outputs": [],
   "source": []
  },
  {
   "cell_type": "code",
   "execution_count": null,
   "id": "3567681a-2aaf-4071-b1cf-ad443f11890f",
   "metadata": {},
   "outputs": [],
   "source": []
  },
  {
   "cell_type": "markdown",
   "id": "eab9a9d7-c1e6-44b8-acf0-585a45e86585",
   "metadata": {},
   "source": [
    "## w/o splicing ratio and w/o simple genes"
   ]
  },
  {
   "cell_type": "code",
   "execution_count": 18,
   "id": "291936f6-bb36-4d1b-a572-6f526446dd13",
   "metadata": {},
   "outputs": [],
   "source": [
    "big_df = pd.DataFrame()\n",
    "for feat in ['tss', 'ic', 'tes']:\n",
    "    for i in range(0, 100):\n",
    "        thresh = i/100\n",
    "        temp = assign_param_search_sector(df, feat, thresh, rm_simple=True, top='n_ic')\n",
    "        temp = temp[['gid', 'sector']].groupby('sector').count().reset_index().rename({'gid':'n_genes'}, axis=1)\n",
    "        temp['feat'] = feat\n",
    "        temp['thresh'] = thresh\n",
    "        big_df = pd.concat([big_df, temp], axis=0)    \n",
    "        # if i%10 == 0:\n",
    "        #     print(i)"
   ]
  },
  {
   "cell_type": "code",
   "execution_count": 19,
   "id": "bfb0b52f-77a4-4463-90a8-f7db1a347386",
   "metadata": {},
   "outputs": [
    {
     "data": {
      "image/png": "[encoded data removed]",
      "text/plain": [
       "<Figure size 432x288 with 1 Axes>"
      ]
     },
     "metadata": {
      "needs_background": "light"
     },
     "output_type": "display_data"
    }
   ],
   "source": [
    "sns.set_context('paper', font_scale=2)\n",
    "mpl.rcParams['font.family'] = 'Arial'\n",
    "mpl.rcParams['pdf.fonttype'] = 42\n",
    "c_dict, order = get_sector_colors()\n",
    "ax = sns.lineplot(big_df, hue='sector', y='n_genes', x='thresh', linewidth=3, palette=c_dict)\n",
    "ax.set(xlabel='Sector threshold', ylabel='# genes', ylim=(0,20000))\n",
    "ylims = ax.get_ylim()\n",
    "xlims = ax.get_xlim()\n",
    "\n",
    "ax.vlines(0.50, ylims[0], ylims[1],\n",
    "                      colors='k', linestyles='dashed',\n",
    "                      linewidth=2, alpha=0.25)\n",
    "# ax.hlines(0, xlims[0], xlims[1],\n",
    "#                       colors='k', linestyles='dashed',\n",
    "#                       linewidth=2, alpha=0.25)\n",
    "ax.spines['right'].set_visible(False)\n",
    "ax.spines['top'].set_visible(False)"
   ]
  },
  {
   "cell_type": "code",
   "execution_count": null,
   "id": "8346aca2-0824-48fc-a266-37b0bc6aeaaf",
   "metadata": {},
   "outputs": [],
   "source": []
  }
 ],
 "metadata": {
  "kernelspec": {
   "display_name": "Python 3",
   "language": "python",
   "name": "python3"
  },
  "language_info": {
   "codemirror_mode": {
    "name": "ipython",
    "version": 3
   },
   "file_extension": ".py",
   "mimetype": "text/x-python",
   "name": "python",
   "nbconvert_exporter": "python",
   "pygments_lexer": "ipython3",
   "version": "3.7.12"
  }
 },
 "nbformat": 4,
 "nbformat_minor": 5
}
