{
 "cells": [
  {
   "cell_type": "code",
   "execution_count": 1,
   "id": "7eccf291-7192-42ff-b300-77e46fd6800a",
   "metadata": {},
   "outputs": [],
   "source": [
    "import pandas as pd\n",
    "import numpy as np\n",
    "import scipy.stats as st\n",
    "import seaborn as sns\n",
    "import sys\n",
    "import os\n",
    "import gseapy as gp\n",
    "import matplotlib.pyplot as plt\n",
    "import swan_vis as swan\n",
    "import yaml\n",
    "from snakemake.io import expand\n",
    "import matplotlib as mpl\n",
    "\n",
    "p = os.path.dirname(os.path.dirname(os.getcwd()))\n",
    "sys.path.append(p)\n",
    "\n",
    "from proc_revisions.utils import *\n",
    "from proc_revisions.plotting import *"
   ]
  },
  {
   "cell_type": "code",
   "execution_count": 2,
   "id": "5c641e10-4450-48ae-bf26-6a6fa7c932e6",
   "metadata": {},
   "outputs": [],
   "source": [
    "od = '../../proc_revisions/'\n",
    "config_file = f'{od}/config.yml'\n",
    "with open(config_file) as f:\n",
    "    config = yaml.safe_load(f)"
   ]
  },
  {
   "cell_type": "code",
   "execution_count": 3,
   "id": "0714133f-f614-41e2-ae77-1a83b7a42203",
   "metadata": {},
   "outputs": [],
   "source": [
    "filt_ab = od+expand(config['lr']['cerberus']['filt_ab'], species='human')[0]\n",
    "lib_meta = od+expand(config['lr']['meta'], species='human')[0]\n",
    "cerberus_h5 = od+expand(config['lr']['cerberus']['ca_triplets'], species='human', obs_col='sample')[0]\n",
    "swan_file = od+expand(config['lr']['swan']['sg'], species='human')[0]\n",
    "read_lens = od+expand(config['lr']['read_len_meta'], species='human')[0]\n",
    "introp_bed = od+expand(config['intropolis']['bed'], species='human')[0]\n",
    "\n",
    "gene_subset = 'polya'\n",
    "ref_sources = ['v29', 'v40']\n",
    "min_tpm = 1\n",
    "\n",
    "m_lib_meta = od+expand(config['lr']['meta'], species='mouse')[0]\n",
    "m_read_lens = od+expand(config['lr']['read_len_meta'], species='mouse')[0]\n",
    "m_ref_sources = ['vM21', 'vM25']"
   ]
  },
  {
   "cell_type": "markdown",
   "id": "d080e782-89be-4da7-a8be-60107cfdb2d6",
   "metadata": {},
   "source": [
    "## How well supported are splice junctions? "
   ]
  },
  {
   "cell_type": "code",
   "execution_count": 6,
   "id": "26af1170-3d8c-4ce7-9e52-d5f2b69b7053",
   "metadata": {},
   "outputs": [],
   "source": [
    "ca = cerberus.read(cerberus_h5)"
   ]
  },
  {
   "cell_type": "code",
   "execution_count": 12,
   "id": "dea068d9-51b6-4943-87de-f38428f24339",
   "metadata": {},
   "outputs": [],
   "source": [
    "sj_df, sj_ic_df = get_sj_from_ic(ca.ic, ref_sources)"
   ]
  },
  {
   "cell_type": "code",
   "execution_count": 15,
   "id": "fbd242a1-c12d-4be0-867d-2067573486bf",
   "metadata": {},
   "outputs": [],
   "source": [
    "# read intropolis \n",
    "i_df = pr.read_bed(introp_bed).df\n",
    "source = 'intropolis'\n",
    "i_df['source'] = source\n",
    "i_df = i_df.loc[i_df.Start.notnull()]\n",
    "i_df[source] = True\n",
    "\n",
    "keep_cols = ['Chromosome', 'Start', 'End', 'Strand', 'intropolis']\n",
    "i_df = i_df[keep_cols].drop_duplicates()"
   ]
  },
  {
   "cell_type": "code",
   "execution_count": 16,
   "id": "cef03597-d3b4-452c-b3c9-1f98eaadeaaf",
   "metadata": {},
   "outputs": [
    {
     "data": {
      "text/html": [
       "<div>\n",
       "<style scoped>\n",
       "    .dataframe tbody tr th:only-of-type {\n",
       "        vertical-align: middle;\n",
       "    }\n",
       "\n",
       "    .dataframe tbody tr th {\n",
       "        vertical-align: top;\n",
       "    }\n",
       "\n",
       "    .dataframe thead th {\n",
       "        text-align: right;\n",
       "    }\n",
       "</style>\n",
       "<table border=\"1\" class=\"dataframe\">\n",
       "  <thead>\n",
       "    <tr style=\"text-align: right;\">\n",
       "      <th></th>\n",
       "      <th>Start</th>\n",
       "    </tr>\n",
       "    <tr>\n",
       "      <th>intropolis</th>\n",
       "      <th></th>\n",
       "    </tr>\n",
       "  </thead>\n",
       "  <tbody>\n",
       "    <tr>\n",
       "      <th>False</th>\n",
       "      <td>29712</td>\n",
       "    </tr>\n",
       "    <tr>\n",
       "      <th>True</th>\n",
       "      <td>423356</td>\n",
       "    </tr>\n",
       "  </tbody>\n",
       "</table>\n",
       "</div>"
      ],
      "text/plain": [
       "             Start\n",
       "intropolis        \n",
       "False        29712\n",
       "True        423356"
      ]
     },
     "execution_count": 16,
     "metadata": {},
     "output_type": "execute_result"
    }
   ],
   "source": [
    "# merge in\n",
    "df = sj_df.merge(i_df[keep_cols],\n",
    "                how='left',\n",
    "                on=['Chromosome', 'Start', 'End', 'Strand'])\n",
    "df[source] = df[source].fillna(False)\n",
    "df[['Start', 'intropolis']].groupby('intropolis').count()"
   ]
  },
  {
   "cell_type": "code",
   "execution_count": 17,
   "id": "3faba1a3-c3e7-43ae-8d90-644120ea7be7",
   "metadata": {},
   "outputs": [
    {
     "data": {
      "text/html": [
       "<div>\n",
       "<style scoped>\n",
       "    .dataframe tbody tr th:only-of-type {\n",
       "        vertical-align: middle;\n",
       "    }\n",
       "\n",
       "    .dataframe tbody tr th {\n",
       "        vertical-align: top;\n",
       "    }\n",
       "\n",
       "    .dataframe thead th {\n",
       "        text-align: right;\n",
       "    }\n",
       "</style>\n",
       "<table border=\"1\" class=\"dataframe\">\n",
       "  <thead>\n",
       "    <tr style=\"text-align: right;\">\n",
       "      <th></th>\n",
       "      <th></th>\n",
       "      <th>Start</th>\n",
       "    </tr>\n",
       "    <tr>\n",
       "      <th>novelty</th>\n",
       "      <th>intropolis</th>\n",
       "      <th></th>\n",
       "    </tr>\n",
       "  </thead>\n",
       "  <tbody>\n",
       "    <tr>\n",
       "      <th rowspan=\"2\" valign=\"top\">Known</th>\n",
       "      <th>False</th>\n",
       "      <td>24897</td>\n",
       "    </tr>\n",
       "    <tr>\n",
       "      <th>True</th>\n",
       "      <td>383883</td>\n",
       "    </tr>\n",
       "    <tr>\n",
       "      <th rowspan=\"2\" valign=\"top\">Novel</th>\n",
       "      <th>False</th>\n",
       "      <td>4815</td>\n",
       "    </tr>\n",
       "    <tr>\n",
       "      <th>True</th>\n",
       "      <td>39473</td>\n",
       "    </tr>\n",
       "  </tbody>\n",
       "</table>\n",
       "</div>"
      ],
      "text/plain": [
       "                     Start\n",
       "novelty intropolis        \n",
       "Known   False        24897\n",
       "        True        383883\n",
       "Novel   False         4815\n",
       "        True         39473"
      ]
     },
     "execution_count": 17,
     "metadata": {},
     "output_type": "execute_result"
    }
   ],
   "source": [
    "df[['novelty', 'intropolis', 'Start']].groupby(['novelty', 'intropolis']).count()"
   ]
  },
  {
   "cell_type": "markdown",
   "id": "903d8564-fe04-4dda-95ea-64b5e39c8834",
   "metadata": {},
   "source": [
    "## Determine % of splice junctions supported per IC\n"
   ]
  },
  {
   "cell_type": "code",
   "execution_count": 18,
   "id": "ec4c5063-bcc3-4f1d-89f3-e5c326dde85c",
   "metadata": {},
   "outputs": [],
   "source": [
    "keep_cols = ['Chromosome', 'Strand', 'Start', 'End', 'intropolis']\n",
    "temp = sj_ic_df.merge(df[keep_cols], \n",
    "                    how='left',\n",
    "                    on=['Chromosome', 'Start', 'End', 'Strand'])"
   ]
  },
  {
   "cell_type": "code",
   "execution_count": 20,
   "id": "4f3cfe8e-1151-4e2d-881c-26227e5b89c2",
   "metadata": {},
   "outputs": [],
   "source": [
    "# how many sjs / intron chain\n",
    "temp2 = temp[['Name', 'Start']].groupby(['Name']).count().reset_index().rename({'Start':'n_sjs'}, axis=1)"
   ]
  },
  {
   "cell_type": "code",
   "execution_count": 21,
   "id": "322f542b-bafc-4c62-8491-0887fc073eb1",
   "metadata": {},
   "outputs": [],
   "source": [
    "# how many intropolis supported sjs / intron chain\n",
    "temp3 = temp.loc[temp.intropolis == True]\n",
    "temp3 = temp3[['Name', 'intropolis']].groupby(['Name']).count().reset_index().rename({'intropolis':'n_sjs_supported'}, axis=1)"
   ]
  },
  {
   "cell_type": "code",
   "execution_count": 22,
   "id": "134a6f3c-4388-45ad-b836-158ef40b8690",
   "metadata": {},
   "outputs": [],
   "source": [
    "ic = ca.ic.copy(deep=True)\n",
    "ic = ic.merge(temp2, how='left', on='Name')\n",
    "ic = ic.merge(temp3, how='left', on='Name')"
   ]
  },
  {
   "cell_type": "code",
   "execution_count": 27,
   "id": "5a8f1e31-8daf-472f-a7f4-2022237df1d4",
   "metadata": {},
   "outputs": [],
   "source": [
    "ic['perc_supported'] = (ic['n_sjs_supported']/ic['n_sjs'])*100"
   ]
  },
  {
   "cell_type": "code",
   "execution_count": 28,
   "id": "3f04a0d4-9a76-4509-83a8-746ff6ead629",
   "metadata": {},
   "outputs": [
    {
     "name": "stdout",
     "output_type": "stream",
     "text": [
      "Calculating ic TPM values\n",
      "Subsetting for polya genes\n",
      "Enforcing minimum TPM\n",
      "Total # ics detected: 145107\n",
      "# ics >= 1 tpm: 131129\n",
      "Applying gene type and novelty subset\n",
      "Number of ics reported: 127879\n"
     ]
    }
   ],
   "source": [
    "# what does % sj support by intropolis look like for \n",
    "# detected ics by novelty category\n",
    "ab_df = pd.read_csv(filt_ab, sep='\\t')\n",
    "ab_df, ic_ids = get_tpm_table(ab_df,\n",
    "               how='ic',\n",
    "               gene_subset=gene_subset,\n",
    "               min_tpm=min_tpm)"
   ]
  },
  {
   "cell_type": "code",
   "execution_count": 29,
   "id": "a84f7984-d1bc-4013-a6b8-08cdd5a1a48f",
   "metadata": {},
   "outputs": [
    {
     "data": {
      "text/html": [
       "<div>\n",
       "<style scoped>\n",
       "    .dataframe tbody tr th:only-of-type {\n",
       "        vertical-align: middle;\n",
       "    }\n",
       "\n",
       "    .dataframe tbody tr th {\n",
       "        vertical-align: top;\n",
       "    }\n",
       "\n",
       "    .dataframe thead th {\n",
       "        text-align: right;\n",
       "    }\n",
       "</style>\n",
       "<table border=\"1\" class=\"dataframe\">\n",
       "  <thead>\n",
       "    <tr style=\"text-align: right;\">\n",
       "      <th></th>\n",
       "      <th>Chromosome</th>\n",
       "      <th>Strand</th>\n",
       "      <th>Coordinates</th>\n",
       "      <th>Name</th>\n",
       "      <th>source</th>\n",
       "      <th>novelty</th>\n",
       "      <th>gene_id</th>\n",
       "      <th>ic</th>\n",
       "      <th>n_sjs</th>\n",
       "      <th>n_sjs_supported</th>\n",
       "      <th>fully_supported</th>\n",
       "      <th>perc_supported</th>\n",
       "    </tr>\n",
       "  </thead>\n",
       "  <tbody>\n",
       "    <tr>\n",
       "      <th>356441</th>\n",
       "      <td>chrY</td>\n",
       "      <td>-</td>\n",
       "      <td>19744670-19744553-19744384-19743239-19743161-1...</td>\n",
       "      <td>ENSG00000012817_12</td>\n",
       "      <td>gtex</td>\n",
       "      <td>NIC</td>\n",
       "      <td>ENSG00000012817</td>\n",
       "      <td>12</td>\n",
       "      <td>25.0</td>\n",
       "      <td>25.0</td>\n",
       "      <td>True</td>\n",
       "      <td>100.0</td>\n",
       "    </tr>\n",
       "    <tr>\n",
       "      <th>356442</th>\n",
       "      <td>chrY</td>\n",
       "      <td>-</td>\n",
       "      <td>19744670-19744553-19744384-19743239-19743161-1...</td>\n",
       "      <td>ENSG00000012817_13</td>\n",
       "      <td>gtex</td>\n",
       "      <td>NIC</td>\n",
       "      <td>ENSG00000012817</td>\n",
       "      <td>13</td>\n",
       "      <td>24.0</td>\n",
       "      <td>24.0</td>\n",
       "      <td>True</td>\n",
       "      <td>100.0</td>\n",
       "    </tr>\n",
       "    <tr>\n",
       "      <th>356443</th>\n",
       "      <td>chrY</td>\n",
       "      <td>-</td>\n",
       "      <td>19744670-19744553-19744384-19743239-19743161-1...</td>\n",
       "      <td>ENSG00000012817_14</td>\n",
       "      <td>gtex</td>\n",
       "      <td>ISM</td>\n",
       "      <td>ENSG00000012817</td>\n",
       "      <td>14</td>\n",
       "      <td>16.0</td>\n",
       "      <td>16.0</td>\n",
       "      <td>True</td>\n",
       "      <td>100.0</td>\n",
       "    </tr>\n",
       "    <tr>\n",
       "      <th>356444</th>\n",
       "      <td>chrY</td>\n",
       "      <td>-</td>\n",
       "      <td>19744670-19744553-19744384-19743239-19743161-1...</td>\n",
       "      <td>ENSG00000012817_15</td>\n",
       "      <td>gtex</td>\n",
       "      <td>NIC</td>\n",
       "      <td>ENSG00000012817</td>\n",
       "      <td>15</td>\n",
       "      <td>25.0</td>\n",
       "      <td>25.0</td>\n",
       "      <td>True</td>\n",
       "      <td>100.0</td>\n",
       "    </tr>\n",
       "    <tr>\n",
       "      <th>356445</th>\n",
       "      <td>chrY</td>\n",
       "      <td>-</td>\n",
       "      <td>19744670-19744553-19744384-19743239-19743161-1...</td>\n",
       "      <td>ENSG00000012817_16</td>\n",
       "      <td>gtex</td>\n",
       "      <td>NIC</td>\n",
       "      <td>ENSG00000012817</td>\n",
       "      <td>16</td>\n",
       "      <td>26.0</td>\n",
       "      <td>26.0</td>\n",
       "      <td>True</td>\n",
       "      <td>100.0</td>\n",
       "    </tr>\n",
       "  </tbody>\n",
       "</table>\n",
       "</div>"
      ],
      "text/plain": [
       "       Chromosome Strand                                        Coordinates  \\\n",
       "356441       chrY      -  19744670-19744553-19744384-19743239-19743161-1...   \n",
       "356442       chrY      -  19744670-19744553-19744384-19743239-19743161-1...   \n",
       "356443       chrY      -  19744670-19744553-19744384-19743239-19743161-1...   \n",
       "356444       chrY      -  19744670-19744553-19744384-19743239-19743161-1...   \n",
       "356445       chrY      -  19744670-19744553-19744384-19743239-19743161-1...   \n",
       "\n",
       "                      Name source novelty          gene_id  ic  n_sjs  \\\n",
       "356441  ENSG00000012817_12   gtex     NIC  ENSG00000012817  12   25.0   \n",
       "356442  ENSG00000012817_13   gtex     NIC  ENSG00000012817  13   24.0   \n",
       "356443  ENSG00000012817_14   gtex     ISM  ENSG00000012817  14   16.0   \n",
       "356444  ENSG00000012817_15   gtex     NIC  ENSG00000012817  15   25.0   \n",
       "356445  ENSG00000012817_16   gtex     NIC  ENSG00000012817  16   26.0   \n",
       "\n",
       "        n_sjs_supported  fully_supported  perc_supported  \n",
       "356441             25.0             True           100.0  \n",
       "356442             24.0             True           100.0  \n",
       "356443             16.0             True           100.0  \n",
       "356444             25.0             True           100.0  \n",
       "356445             26.0             True           100.0  "
      ]
     },
     "execution_count": 29,
     "metadata": {},
     "output_type": "execute_result"
    }
   ],
   "source": [
    "# percent of ics w/ 100% support per novelty category\n",
    "ic['fully_supported'] = False\n",
    "ic.loc[ic.perc_supported==100, 'fully_supported'] = True\n",
    "ic.tail()"
   ]
  },
  {
   "cell_type": "code",
   "execution_count": 30,
   "id": "33475b2d-f276-4aa4-a3a7-480807aaffa6",
   "metadata": {},
   "outputs": [],
   "source": [
    "temp = ic[['fully_supported', 'novelty', 'Name']].groupby(['fully_supported', 'novelty']).count().reset_index().rename({'Name': 'n_ic'}, axis=1)\n",
    "temp2 = ic[['Name', 'novelty']].groupby('novelty').count().reset_index().rename({'Name':'n_total_ic'}, axis=1)"
   ]
  },
  {
   "cell_type": "code",
   "execution_count": 31,
   "id": "c57b2152-4c36-40c9-b4fd-6ab032d27f0d",
   "metadata": {},
   "outputs": [
    {
     "data": {
      "text/html": [
       "<div>\n",
       "<style scoped>\n",
       "    .dataframe tbody tr th:only-of-type {\n",
       "        vertical-align: middle;\n",
       "    }\n",
       "\n",
       "    .dataframe tbody tr th {\n",
       "        vertical-align: top;\n",
       "    }\n",
       "\n",
       "    .dataframe thead th {\n",
       "        text-align: right;\n",
       "    }\n",
       "</style>\n",
       "<table border=\"1\" class=\"dataframe\">\n",
       "  <thead>\n",
       "    <tr style=\"text-align: right;\">\n",
       "      <th></th>\n",
       "      <th>fully_supported</th>\n",
       "      <th>novelty</th>\n",
       "      <th>n_ic</th>\n",
       "      <th>n_total_ic</th>\n",
       "      <th>perc_fully_supported</th>\n",
       "    </tr>\n",
       "  </thead>\n",
       "  <tbody>\n",
       "    <tr>\n",
       "      <th>0</th>\n",
       "      <td>True</td>\n",
       "      <td>ISM</td>\n",
       "      <td>15051</td>\n",
       "      <td>15230</td>\n",
       "      <td>98.824688</td>\n",
       "    </tr>\n",
       "    <tr>\n",
       "      <th>1</th>\n",
       "      <td>True</td>\n",
       "      <td>Known</td>\n",
       "      <td>205944</td>\n",
       "      <td>250272</td>\n",
       "      <td>82.288071</td>\n",
       "    </tr>\n",
       "    <tr>\n",
       "      <th>2</th>\n",
       "      <td>True</td>\n",
       "      <td>NIC</td>\n",
       "      <td>67835</td>\n",
       "      <td>72470</td>\n",
       "      <td>93.604250</td>\n",
       "    </tr>\n",
       "    <tr>\n",
       "      <th>3</th>\n",
       "      <td>True</td>\n",
       "      <td>NNC</td>\n",
       "      <td>14883</td>\n",
       "      <td>16895</td>\n",
       "      <td>88.091151</td>\n",
       "    </tr>\n",
       "  </tbody>\n",
       "</table>\n",
       "</div>"
      ],
      "text/plain": [
       "   fully_supported novelty    n_ic  n_total_ic  perc_fully_supported\n",
       "0             True     ISM   15051       15230             98.824688\n",
       "1             True   Known  205944      250272             82.288071\n",
       "2             True     NIC   67835       72470             93.604250\n",
       "3             True     NNC   14883       16895             88.091151"
      ]
     },
     "execution_count": 31,
     "metadata": {},
     "output_type": "execute_result"
    }
   ],
   "source": [
    "# only fully supported\n",
    "temp = temp.loc[temp.fully_supported==True]\n",
    "temp = temp.merge(temp2, how='left', on='novelty')\n",
    "temp['perc_fully_supported'] = (temp.n_ic/temp.n_total_ic)*100\n",
    "temp"
   ]
  },
  {
   "cell_type": "code",
   "execution_count": 32,
   "id": "495ce8c0-c1bf-4ce2-a21e-d7b04142f46f",
   "metadata": {},
   "outputs": [
    {
     "data": {
      "text/plain": [
       "<AxesSubplot:xlabel='novelty', ylabel='perc_fully_supported'>"
      ]
     },
     "execution_count": 32,
     "metadata": {},
     "output_type": "execute_result"
    },
    {
     "data": {
      "image/png": "[encoded data removed]",
      "text/plain": [
       "<Figure size 432x288 with 1 Axes>"
      ]
     },
     "metadata": {
      "needs_background": "light"
     },
     "output_type": "display_data"
    }
   ],
   "source": [
    "sns.barplot(temp, x='novelty', y='perc_fully_supported')"
   ]
  },
  {
   "cell_type": "markdown",
   "id": "74b9d584-1d94-46c0-868f-c2778a399a62",
   "metadata": {},
   "source": [
    "## What % of novel splice junctions from detected ics that we call are supported by intropolis?"
   ]
  },
  {
   "cell_type": "code",
   "execution_count": 33,
   "id": "f1df5155-fffb-471a-b780-171a13005438",
   "metadata": {},
   "outputs": [
    {
     "name": "stdout",
     "output_type": "stream",
     "text": [
      "955591\n",
      "955591\n"
     ]
    }
   ],
   "source": [
    "det_sjs = sj_ic_df.loc[sj_ic_df.Name.isin(ic_ids)]\n",
    "\n",
    "# whether these sjs were detected in intropolis\n",
    "print(len(det_sjs))\n",
    "det_sjs = det_sjs.merge(df[['gene_id', 'Chromosome', 'Start', 'End', 'Strand', 'intropolis']], \n",
    "                               on=['gene_id', 'Chromosome', 'Start', 'End', 'Strand'],\n",
    "                               how='left')\n",
    "print(len(det_sjs))"
   ]
  },
  {
   "cell_type": "code",
   "execution_count": 34,
   "id": "6e5ec382-48f0-49a7-b8d4-7af84ea2566d",
   "metadata": {},
   "outputs": [
    {
     "data": {
      "text/plain": [
       "<AxesSubplot:xlabel='novelty', ylabel='count'>"
      ]
     },
     "execution_count": 34,
     "metadata": {},
     "output_type": "execute_result"
    },
    {
     "data": {
      "image/png": "[encoded data removed]",
      "text/plain": [
       "<Figure size 432x288 with 1 Axes>"
      ]
     },
     "metadata": {
      "needs_background": "light"
     },
     "output_type": "display_data"
    }
   ],
   "source": [
    "temp = det_sjs[['intropolis', 'novelty', 'Start']].groupby(['intropolis', 'novelty']).count().reset_index().rename({'Start':'count'}, axis=1)\n",
    "sns.barplot(data=temp, \n",
    "            x='novelty',\n",
    "            hue='intropolis',\n",
    "            y='count')"
   ]
  },
  {
   "cell_type": "markdown",
   "id": "2e2c26c9-c9d3-4bfe-94bf-6c45c4fb7ead",
   "metadata": {},
   "source": [
    "## What % of novel SJs are supported by intropolis?"
   ]
  },
  {
   "cell_type": "code",
   "execution_count": 7,
   "id": "e575f627-8278-44dc-b889-b08928738248",
   "metadata": {},
   "outputs": [],
   "source": [
    "sj_df, sj_ic_df = get_sj_from_ic(ca.ic, ref_sources)"
   ]
  },
  {
   "cell_type": "code",
   "execution_count": 8,
   "id": "e7b4c05c-1f9c-464c-884d-4976e8b9a363",
   "metadata": {},
   "outputs": [
    {
     "data": {
      "text/html": [
       "<div>\n",
       "<style scoped>\n",
       "    .dataframe tbody tr th:only-of-type {\n",
       "        vertical-align: middle;\n",
       "    }\n",
       "\n",
       "    .dataframe tbody tr th {\n",
       "        vertical-align: top;\n",
       "    }\n",
       "\n",
       "    .dataframe thead th {\n",
       "        text-align: right;\n",
       "    }\n",
       "</style>\n",
       "<table border=\"1\" class=\"dataframe\">\n",
       "  <thead>\n",
       "    <tr style=\"text-align: right;\">\n",
       "      <th></th>\n",
       "      <th>Chromosome</th>\n",
       "      <th>Strand</th>\n",
       "      <th>Coordinates</th>\n",
       "      <th>Name</th>\n",
       "      <th>source</th>\n",
       "      <th>novelty</th>\n",
       "      <th>gene_id</th>\n",
       "      <th>ic</th>\n",
       "    </tr>\n",
       "  </thead>\n",
       "  <tbody>\n",
       "    <tr>\n",
       "      <th>0</th>\n",
       "      <td>chr1</td>\n",
       "      <td>+</td>\n",
       "      <td>-</td>\n",
       "      <td>ENSG00000004487_18</td>\n",
       "      <td>v40,v29,lapa</td>\n",
       "      <td>Known</td>\n",
       "      <td>ENSG00000004487</td>\n",
       "      <td>18</td>\n",
       "    </tr>\n",
       "    <tr>\n",
       "      <th>1</th>\n",
       "      <td>chr1</td>\n",
       "      <td>+</td>\n",
       "      <td>-</td>\n",
       "      <td>ENSG00000033122_5</td>\n",
       "      <td>v40,v29,lapa</td>\n",
       "      <td>Known</td>\n",
       "      <td>ENSG00000033122</td>\n",
       "      <td>5</td>\n",
       "    </tr>\n",
       "    <tr>\n",
       "      <th>2</th>\n",
       "      <td>chr1</td>\n",
       "      <td>+</td>\n",
       "      <td>-</td>\n",
       "      <td>ENSG00000049246_6</td>\n",
       "      <td>v40,v29,lapa</td>\n",
       "      <td>Known</td>\n",
       "      <td>ENSG00000049246</td>\n",
       "      <td>6</td>\n",
       "    </tr>\n",
       "    <tr>\n",
       "      <th>3</th>\n",
       "      <td>chr1</td>\n",
       "      <td>+</td>\n",
       "      <td>-</td>\n",
       "      <td>ENSG00000077157_8</td>\n",
       "      <td>v40,v29,lapa</td>\n",
       "      <td>Known</td>\n",
       "      <td>ENSG00000077157</td>\n",
       "      <td>8</td>\n",
       "    </tr>\n",
       "    <tr>\n",
       "      <th>4</th>\n",
       "      <td>chr1</td>\n",
       "      <td>+</td>\n",
       "      <td>-</td>\n",
       "      <td>ENSG00000099260_3</td>\n",
       "      <td>v40,v29,lapa</td>\n",
       "      <td>Known</td>\n",
       "      <td>ENSG00000099260</td>\n",
       "      <td>3</td>\n",
       "    </tr>\n",
       "  </tbody>\n",
       "</table>\n",
       "</div>"
      ],
      "text/plain": [
       "  Chromosome Strand Coordinates                Name        source novelty  \\\n",
       "0       chr1      +           -  ENSG00000004487_18  v40,v29,lapa   Known   \n",
       "1       chr1      +           -   ENSG00000033122_5  v40,v29,lapa   Known   \n",
       "2       chr1      +           -   ENSG00000049246_6  v40,v29,lapa   Known   \n",
       "3       chr1      +           -   ENSG00000077157_8  v40,v29,lapa   Known   \n",
       "4       chr1      +           -   ENSG00000099260_3  v40,v29,lapa   Known   \n",
       "\n",
       "           gene_id  ic  \n",
       "0  ENSG00000004487  18  \n",
       "1  ENSG00000033122   5  \n",
       "2  ENSG00000049246   6  \n",
       "3  ENSG00000077157   8  \n",
       "4  ENSG00000099260   3  "
      ]
     },
     "execution_count": 8,
     "metadata": {},
     "output_type": "execute_result"
    }
   ],
   "source": [
    "ca.ic.head()"
   ]
  },
  {
   "cell_type": "code",
   "execution_count": 9,
   "id": "1c9efa53-ba9a-4e49-85b1-2b2de36ccd0e",
   "metadata": {},
   "outputs": [],
   "source": [
    "# read intropolis \n",
    "i_df = pr.read_bed(introp_bed).df\n",
    "source = 'intropolis'\n",
    "i_df['source'] = source\n",
    "i_df = i_df.loc[i_df.Start.notnull()]\n",
    "i_df[source] = True\n",
    "\n",
    "keep_cols = ['Chromosome', 'Start', 'End', 'Strand', 'intropolis']\n",
    "i_df = i_df[keep_cols].drop_duplicates()"
   ]
  },
  {
   "cell_type": "code",
   "execution_count": 10,
   "id": "1abddd87-9aaf-4242-af60-3cbe3f6460f8",
   "metadata": {},
   "outputs": [
    {
     "data": {
      "text/html": [
       "<div>\n",
       "<style scoped>\n",
       "    .dataframe tbody tr th:only-of-type {\n",
       "        vertical-align: middle;\n",
       "    }\n",
       "\n",
       "    .dataframe tbody tr th {\n",
       "        vertical-align: top;\n",
       "    }\n",
       "\n",
       "    .dataframe thead th {\n",
       "        text-align: right;\n",
       "    }\n",
       "</style>\n",
       "<table border=\"1\" class=\"dataframe\">\n",
       "  <thead>\n",
       "    <tr style=\"text-align: right;\">\n",
       "      <th></th>\n",
       "      <th>Start</th>\n",
       "    </tr>\n",
       "    <tr>\n",
       "      <th>intropolis</th>\n",
       "      <th></th>\n",
       "    </tr>\n",
       "  </thead>\n",
       "  <tbody>\n",
       "    <tr>\n",
       "      <th>False</th>\n",
       "      <td>29598</td>\n",
       "    </tr>\n",
       "    <tr>\n",
       "      <th>True</th>\n",
       "      <td>423356</td>\n",
       "    </tr>\n",
       "  </tbody>\n",
       "</table>\n",
       "</div>"
      ],
      "text/plain": [
       "             Start\n",
       "intropolis        \n",
       "False        29598\n",
       "True        423356"
      ]
     },
     "execution_count": 10,
     "metadata": {},
     "output_type": "execute_result"
    }
   ],
   "source": [
    "# merge in\n",
    "df = sj_df.merge(i_df[keep_cols],\n",
    "                how='left',\n",
    "                on=['Chromosome', 'Start', 'End', 'Strand'])\n",
    "df[source] = df[source].fillna(False)"
   ]
  },
  {
   "cell_type": "code",
   "execution_count": 15,
   "id": "f68d16c3-5eac-4720-ac9c-1d384e7385cd",
   "metadata": {},
   "outputs": [],
   "source": [
    "df.head()\n",
    "df['sj'] = df.Chromosome+df.Strand+df.Start.astype(str)+df.End.astype(str)\n",
    "df = df[['novelty','intropolis','sj']].groupby(['novelty', 'intropolis']).count()\n",
    "df = df.reset_index()"
   ]
  },
  {
   "cell_type": "code",
   "execution_count": 29,
   "id": "8c1ec66a-20f3-4fb0-b66e-fde47da9053f",
   "metadata": {},
   "outputs": [
    {
     "data": {
      "text/html": [
       "<div>\n",
       "<style scoped>\n",
       "    .dataframe tbody tr th:only-of-type {\n",
       "        vertical-align: middle;\n",
       "    }\n",
       "\n",
       "    .dataframe tbody tr th {\n",
       "        vertical-align: top;\n",
       "    }\n",
       "\n",
       "    .dataframe thead th {\n",
       "        text-align: right;\n",
       "    }\n",
       "</style>\n",
       "<table border=\"1\" class=\"dataframe\">\n",
       "  <thead>\n",
       "    <tr style=\"text-align: right;\">\n",
       "      <th></th>\n",
       "      <th>novelty</th>\n",
       "      <th>intropolis</th>\n",
       "      <th>sj</th>\n",
       "      <th>total_x</th>\n",
       "      <th>total_y</th>\n",
       "      <th>total_x</th>\n",
       "      <th>total_y</th>\n",
       "      <th>total</th>\n",
       "      <th>perc</th>\n",
       "    </tr>\n",
       "  </thead>\n",
       "  <tbody>\n",
       "    <tr>\n",
       "      <th>0</th>\n",
       "      <td>Known</td>\n",
       "      <td>False</td>\n",
       "      <td>24783</td>\n",
       "      <td>408666</td>\n",
       "      <td>408666</td>\n",
       "      <td>408666</td>\n",
       "      <td>408666</td>\n",
       "      <td>408666</td>\n",
       "      <td>6.064366</td>\n",
       "    </tr>\n",
       "    <tr>\n",
       "      <th>1</th>\n",
       "      <td>Known</td>\n",
       "      <td>True</td>\n",
       "      <td>383883</td>\n",
       "      <td>408666</td>\n",
       "      <td>408666</td>\n",
       "      <td>408666</td>\n",
       "      <td>408666</td>\n",
       "      <td>408666</td>\n",
       "      <td>93.935634</td>\n",
       "    </tr>\n",
       "    <tr>\n",
       "      <th>2</th>\n",
       "      <td>Novel</td>\n",
       "      <td>False</td>\n",
       "      <td>4815</td>\n",
       "      <td>44288</td>\n",
       "      <td>44288</td>\n",
       "      <td>44288</td>\n",
       "      <td>44288</td>\n",
       "      <td>44288</td>\n",
       "      <td>10.872020</td>\n",
       "    </tr>\n",
       "    <tr>\n",
       "      <th>3</th>\n",
       "      <td>Novel</td>\n",
       "      <td>True</td>\n",
       "      <td>39473</td>\n",
       "      <td>44288</td>\n",
       "      <td>44288</td>\n",
       "      <td>44288</td>\n",
       "      <td>44288</td>\n",
       "      <td>44288</td>\n",
       "      <td>89.127980</td>\n",
       "    </tr>\n",
       "  </tbody>\n",
       "</table>\n",
       "</div>"
      ],
      "text/plain": [
       "  novelty  intropolis      sj  total_x  total_y  total_x  total_y   total  \\\n",
       "0   Known       False   24783   408666   408666   408666   408666  408666   \n",
       "1   Known        True  383883   408666   408666   408666   408666  408666   \n",
       "2   Novel       False    4815    44288    44288    44288    44288   44288   \n",
       "3   Novel        True   39473    44288    44288    44288    44288   44288   \n",
       "\n",
       "        perc  \n",
       "0   6.064366  \n",
       "1  93.935634  \n",
       "2  10.872020  \n",
       "3  89.127980  "
      ]
     },
     "execution_count": 29,
     "metadata": {},
     "output_type": "execute_result"
    }
   ],
   "source": [
    "df.head()\n",
    "temp = df[['novelty', 'sj']].groupby('novelty').sum().reset_index()\n",
    "temp.rename({'sj': 'total'}, axis=1, inplace=True)\n",
    "df = df.merge(temp, on='novelty', how='left')\n",
    "df['perc'] = (df['sj']/df['total'])*100\n",
    "df"
   ]
  },
  {
   "cell_type": "code",
   "execution_count": 30,
   "id": "cc8c6f63-75ec-4f42-827d-c17d5981ae8a",
   "metadata": {},
   "outputs": [
    {
     "data": {
      "text/plain": [
       "<AxesSubplot:xlabel='novelty', ylabel='sj'>"
      ]
     },
     "execution_count": 30,
     "metadata": {},
     "output_type": "execute_result"
    },
    {
     "data": {
      "image/png": "[encoded data removed]",
      "text/plain": [
       "<Figure size 432x288 with 1 Axes>"
      ]
     },
     "metadata": {
      "needs_background": "light"
     },
     "output_type": "display_data"
    }
   ],
   "source": [
    "df\n",
    "sns.barplot(df, x='novelty', y='sj', hue='intropolis')"
   ]
  },
  {
   "cell_type": "code",
   "execution_count": 31,
   "id": "53d70e37-31a1-48ae-99d1-5fcc006481fe",
   "metadata": {},
   "outputs": [
    {
     "data": {
      "text/plain": [
       "<AxesSubplot:xlabel='novelty', ylabel='perc'>"
      ]
     },
     "execution_count": 31,
     "metadata": {},
     "output_type": "execute_result"
    },
    {
     "data": {
      "image/png": "[encoded data removed]",
      "text/plain": [
       "<Figure size 432x288 with 1 Axes>"
      ]
     },
     "metadata": {
      "needs_background": "light"
     },
     "output_type": "display_data"
    }
   ],
   "source": [
    "df\n",
    "sns.barplot(df, x='novelty', y='perc', hue='intropolis')"
   ]
  },
  {
   "cell_type": "code",
   "execution_count": null,
   "id": "7fcb81b0-c2c0-40f3-9184-23c290564368",
   "metadata": {},
   "outputs": [],
   "source": []
  }
 ],
 "metadata": {
  "kernelspec": {
   "display_name": "Python 3",
   "language": "python",
   "name": "python3"
  },
  "language_info": {
   "codemirror_mode": {
    "name": "ipython",
    "version": 3
   },
   "file_extension": ".py",
   "mimetype": "text/x-python",
   "name": "python",
   "nbconvert_exporter": "python",
   "pygments_lexer": "ipython3",
   "version": "3.7.12"
  }
 },
 "nbformat": 4,
 "nbformat_minor": 5
}
