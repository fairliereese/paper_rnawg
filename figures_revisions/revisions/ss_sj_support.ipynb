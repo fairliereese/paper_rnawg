{
 "cells": [
  {
   "cell_type": "code",
   "execution_count": 52,
   "id": "7eccf291-7192-42ff-b300-77e46fd6800a",
   "metadata": {},
   "outputs": [],
   "source": [
    "import pandas as pd\n",
    "import numpy as np\n",
    "import scipy.stats as st\n",
    "import seaborn as sns\n",
    "import sys\n",
    "import os\n",
    "import gseapy as gp\n",
    "import matplotlib.pyplot as plt\n",
    "import swan_vis as swan\n",
    "import yaml\n",
    "from snakemake.io import expand\n",
    "import matplotlib as mpl\n",
    "\n",
    "p = os.path.dirname(os.path.dirname(os.getcwd()))\n",
    "sys.path.append(p)\n",
    "\n",
    "from proc_revisions.utils import *\n",
    "from proc_revisions.plotting import *\n",
    "from proc_revisions.ss_sj_utils import *"
   ]
  },
  {
   "cell_type": "code",
   "execution_count": 53,
   "id": "5c641e10-4450-48ae-bf26-6a6fa7c932e6",
   "metadata": {},
   "outputs": [],
   "source": [
    "od = '../../proc_revisions/'\n",
    "config_file = f'{od}/config.yml'\n",
    "with open(config_file) as f:\n",
    "    config = yaml.safe_load(f)"
   ]
  },
  {
   "cell_type": "code",
   "execution_count": 54,
   "id": "0714133f-f614-41e2-ae77-1a83b7a42203",
   "metadata": {},
   "outputs": [],
   "source": [
    "filt_ab = od+expand(config['lr']['cerberus']['filt_ab'], species='human')[0]\n",
    "lib_meta = od+expand(config['lr']['meta'], species='human')[0]\n",
    "cerberus_h5 = od+expand(config['lr']['cerberus']['ca_triplets'], species='human', obs_col='sample')[0]\n",
    "swan_file = od+expand(config['lr']['swan']['sg'], species='human')[0]\n",
    "read_lens = od+expand(config['lr']['read_len_meta'], species='human')[0]\n",
    "introp_bed = od+expand(config['intropolis']['bed'], species='human')[0]\n",
    "\n",
    "gene_subset = 'polya'\n",
    "ref_sources = ['v29', 'v40']\n",
    "min_tpm = 1\n",
    "\n",
    "m_lib_meta = od+expand(config['lr']['meta'], species='mouse')[0]\n",
    "m_read_lens = od+expand(config['lr']['read_len_meta'], species='mouse')[0]\n",
    "m_ref_sources = ['vM21', 'vM25']"
   ]
  },
  {
   "cell_type": "markdown",
   "id": "d080e782-89be-4da7-a8be-60107cfdb2d6",
   "metadata": {},
   "source": [
    "## How well supported are splice junctions? "
   ]
  },
  {
   "cell_type": "code",
   "execution_count": 55,
   "id": "26af1170-3d8c-4ce7-9e52-d5f2b69b7053",
   "metadata": {},
   "outputs": [],
   "source": [
    "ca = cerberus.read(cerberus_h5)"
   ]
  },
  {
   "cell_type": "code",
   "execution_count": 56,
   "id": "dea068d9-51b6-4943-87de-f38428f24339",
   "metadata": {},
   "outputs": [],
   "source": [
    "sj_df, sj_ic_df = get_sj_from_ic(ca.ic, ref_sources)"
   ]
  },
  {
   "cell_type": "code",
   "execution_count": 57,
   "id": "fbd242a1-c12d-4be0-867d-2067573486bf",
   "metadata": {},
   "outputs": [],
   "source": [
    "# read intropolis \n",
    "i_df = pr.read_bed(introp_bed).df\n",
    "source = 'intropolis'\n",
    "i_df['source'] = source\n",
    "i_df = i_df.loc[i_df.Start.notnull()]\n",
    "i_df[source] = True\n",
    "\n",
    "keep_cols = ['Chromosome', 'Start', 'End', 'Strand', 'intropolis']\n",
    "i_df = i_df[keep_cols].drop_duplicates()"
   ]
  },
  {
   "cell_type": "code",
   "execution_count": 58,
   "id": "cef03597-d3b4-452c-b3c9-1f98eaadeaaf",
   "metadata": {},
   "outputs": [
    {
     "data": {
      "text/html": [
       "<div>\n",
       "<style scoped>\n",
       "    .dataframe tbody tr th:only-of-type {\n",
       "        vertical-align: middle;\n",
       "    }\n",
       "\n",
       "    .dataframe tbody tr th {\n",
       "        vertical-align: top;\n",
       "    }\n",
       "\n",
       "    .dataframe thead th {\n",
       "        text-align: right;\n",
       "    }\n",
       "</style>\n",
       "<table border=\"1\" class=\"dataframe\">\n",
       "  <thead>\n",
       "    <tr style=\"text-align: right;\">\n",
       "      <th></th>\n",
       "      <th>Start</th>\n",
       "    </tr>\n",
       "    <tr>\n",
       "      <th>intropolis</th>\n",
       "      <th></th>\n",
       "    </tr>\n",
       "  </thead>\n",
       "  <tbody>\n",
       "    <tr>\n",
       "      <th>False</th>\n",
       "      <td>29712</td>\n",
       "    </tr>\n",
       "    <tr>\n",
       "      <th>True</th>\n",
       "      <td>423291</td>\n",
       "    </tr>\n",
       "  </tbody>\n",
       "</table>\n",
       "</div>"
      ],
      "text/plain": [
       "             Start\n",
       "intropolis        \n",
       "False        29712\n",
       "True        423291"
      ]
     },
     "execution_count": 58,
     "metadata": {},
     "output_type": "execute_result"
    }
   ],
   "source": [
    "# merge in\n",
    "df = sj_df.merge(i_df[keep_cols],\n",
    "                how='left',\n",
    "                on=['Chromosome', 'Start', 'End', 'Strand'])\n",
    "df[source] = df[source].fillna(False)\n",
    "df[['Start', 'intropolis']].groupby('intropolis').count()"
   ]
  },
  {
   "cell_type": "code",
   "execution_count": 59,
   "id": "3faba1a3-c3e7-43ae-8d90-644120ea7be7",
   "metadata": {},
   "outputs": [
    {
     "data": {
      "text/html": [
       "<div>\n",
       "<style scoped>\n",
       "    .dataframe tbody tr th:only-of-type {\n",
       "        vertical-align: middle;\n",
       "    }\n",
       "\n",
       "    .dataframe tbody tr th {\n",
       "        vertical-align: top;\n",
       "    }\n",
       "\n",
       "    .dataframe thead th {\n",
       "        text-align: right;\n",
       "    }\n",
       "</style>\n",
       "<table border=\"1\" class=\"dataframe\">\n",
       "  <thead>\n",
       "    <tr style=\"text-align: right;\">\n",
       "      <th></th>\n",
       "      <th></th>\n",
       "      <th>Start</th>\n",
       "    </tr>\n",
       "    <tr>\n",
       "      <th>novelty</th>\n",
       "      <th>intropolis</th>\n",
       "      <th></th>\n",
       "    </tr>\n",
       "  </thead>\n",
       "  <tbody>\n",
       "    <tr>\n",
       "      <th rowspan=\"2\" valign=\"top\">Known</th>\n",
       "      <th>False</th>\n",
       "      <td>24897</td>\n",
       "    </tr>\n",
       "    <tr>\n",
       "      <th>True</th>\n",
       "      <td>383883</td>\n",
       "    </tr>\n",
       "    <tr>\n",
       "      <th rowspan=\"2\" valign=\"top\">Novel</th>\n",
       "      <th>False</th>\n",
       "      <td>4815</td>\n",
       "    </tr>\n",
       "    <tr>\n",
       "      <th>True</th>\n",
       "      <td>39408</td>\n",
       "    </tr>\n",
       "  </tbody>\n",
       "</table>\n",
       "</div>"
      ],
      "text/plain": [
       "                     Start\n",
       "novelty intropolis        \n",
       "Known   False        24897\n",
       "        True        383883\n",
       "Novel   False         4815\n",
       "        True         39408"
      ]
     },
     "execution_count": 59,
     "metadata": {},
     "output_type": "execute_result"
    }
   ],
   "source": [
    "df[['novelty', 'intropolis', 'Start']].groupby(['novelty', 'intropolis']).count()"
   ]
  },
  {
   "cell_type": "markdown",
   "id": "903d8564-fe04-4dda-95ea-64b5e39c8834",
   "metadata": {},
   "source": [
    "## Determine % of splice junctions supported per IC\n"
   ]
  },
  {
   "cell_type": "code",
   "execution_count": 60,
   "id": "ec4c5063-bcc3-4f1d-89f3-e5c326dde85c",
   "metadata": {},
   "outputs": [],
   "source": [
    "keep_cols = ['Chromosome', 'Strand', 'Start', 'End', 'intropolis']\n",
    "temp = sj_ic_df.merge(df[keep_cols], \n",
    "                    how='left',\n",
    "                    on=['Chromosome', 'Start', 'End', 'Strand'])"
   ]
  },
  {
   "cell_type": "code",
   "execution_count": 61,
   "id": "4f3cfe8e-1151-4e2d-881c-26227e5b89c2",
   "metadata": {},
   "outputs": [],
   "source": [
    "# how many sjs / intron chain\n",
    "temp2 = temp[['Name', 'Start']].groupby(['Name']).count().reset_index().rename({'Start':'n_sjs'}, axis=1)"
   ]
  },
  {
   "cell_type": "code",
   "execution_count": 62,
   "id": "322f542b-bafc-4c62-8491-0887fc073eb1",
   "metadata": {},
   "outputs": [],
   "source": [
    "# how many intropolis supported sjs / intron chain\n",
    "temp3 = temp.loc[temp.intropolis == True]\n",
    "temp3 = temp3[['Name', 'intropolis']].groupby(['Name']).count().reset_index().rename({'intropolis':'n_sjs_supported'}, axis=1)"
   ]
  },
  {
   "cell_type": "code",
   "execution_count": 63,
   "id": "134a6f3c-4388-45ad-b836-158ef40b8690",
   "metadata": {},
   "outputs": [],
   "source": [
    "ic = ca.ic.copy(deep=True)\n",
    "ic = ic.loc[ic.Coordinates != '-'] # remove monoexonic\n",
    "ic = ic.merge(temp2, how='left', on='Name')\n",
    "ic = ic.merge(temp3, how='left', on='Name')"
   ]
  },
  {
   "cell_type": "code",
   "execution_count": 64,
   "id": "9b19b6da-baa1-45a0-8c97-5a0987e271f3",
   "metadata": {},
   "outputs": [],
   "source": [
    "# make sure that ICs w/o support are added too\n",
    "ic.n_sjs_supported.fillna(0, inplace=True)\n",
    "ic['perc_supported'] = (ic['n_sjs_supported']/ic['n_sjs'])*100"
   ]
  },
  {
   "cell_type": "code",
   "execution_count": 65,
   "id": "3f04a0d4-9a76-4509-83a8-746ff6ead629",
   "metadata": {},
   "outputs": [
    {
     "name": "stdout",
     "output_type": "stream",
     "text": [
      "Calculating ic TPM values\n",
      "Subsetting for polya genes\n"
     ]
    },
    {
     "name": "stderr",
     "output_type": "stream",
     "text": [
      "/Users/fairliereese/Documents/programming/mortazavi_lab/data/paper_rnawg/proc_revisions/utils.py:2087: PerformanceWarning: DataFrame is highly fragmented.  This is usually the result of calling `frame.insert` many times, which has poor performance.  Consider joining all columns at once using pd.concat(axis=1) instead.  To get a de-fragmented frame, use `newframe = frame.copy()`\n",
      "  df[tpm_col] = (df[d]*1000000)/df[total_col]\n",
      "/Users/fairliereese/Documents/programming/mortazavi_lab/data/paper_rnawg/proc_revisions/utils.py:2086: PerformanceWarning: DataFrame is highly fragmented.  This is usually the result of calling `frame.insert` many times, which has poor performance.  Consider joining all columns at once using pd.concat(axis=1) instead.  To get a de-fragmented frame, use `newframe = frame.copy()`\n",
      "  df[total_col] = df[d].sum()\n"
     ]
    },
    {
     "name": "stdout",
     "output_type": "stream",
     "text": [
      "Enforcing minimum TPM\n",
      "Total # ics detected: 145392\n",
      "# ics >= 1 tpm: 131409\n",
      "Applying gene type and novelty subset\n",
      "Number of ics reported: 128159\n"
     ]
    }
   ],
   "source": [
    "# what does % sj support by intropolis look like for \n",
    "# detected ics by novelty category\n",
    "ab_df = pd.read_csv(filt_ab, sep='\\t')\n",
    "ab_df, ic_ids = get_tpm_table(ab_df,\n",
    "               how='ic',\n",
    "               gene_subset=gene_subset,\n",
    "               min_tpm=min_tpm)"
   ]
  },
  {
   "cell_type": "code",
   "execution_count": 66,
   "id": "3df1217c-d37b-43ff-a3c8-bfac6a5f596f",
   "metadata": {},
   "outputs": [
    {
     "name": "stdout",
     "output_type": "stream",
     "text": [
      "['ENSG00000000003_1', 'ENSG00000000003_10', 'ENSG00000000003_11', 'ENSG00000000003_12', 'ENSG00000000003_4']\n"
     ]
    },
    {
     "data": {
      "text/plain": [
       "121400"
      ]
     },
     "execution_count": 66,
     "metadata": {},
     "output_type": "execute_result"
    }
   ],
   "source": [
    "# limit to detected ics\n",
    "print(ic_ids[:5])\n",
    "ic.head()\n",
    "ic = ic.loc[ic.Name.isin(ic_ids)]\n",
    "len(ic.index)"
   ]
  },
  {
   "cell_type": "code",
   "execution_count": 67,
   "id": "a84f7984-d1bc-4013-a6b8-08cdd5a1a48f",
   "metadata": {},
   "outputs": [
    {
     "data": {
      "text/html": [
       "<div>\n",
       "<style scoped>\n",
       "    .dataframe tbody tr th:only-of-type {\n",
       "        vertical-align: middle;\n",
       "    }\n",
       "\n",
       "    .dataframe tbody tr th {\n",
       "        vertical-align: top;\n",
       "    }\n",
       "\n",
       "    .dataframe thead th {\n",
       "        text-align: right;\n",
       "    }\n",
       "</style>\n",
       "<table border=\"1\" class=\"dataframe\">\n",
       "  <thead>\n",
       "    <tr style=\"text-align: right;\">\n",
       "      <th></th>\n",
       "      <th>Chromosome</th>\n",
       "      <th>Strand</th>\n",
       "      <th>Coordinates</th>\n",
       "      <th>Name</th>\n",
       "      <th>source</th>\n",
       "      <th>novelty</th>\n",
       "      <th>gene_id</th>\n",
       "      <th>ic</th>\n",
       "      <th>n_sjs</th>\n",
       "      <th>n_sjs_supported</th>\n",
       "      <th>perc_supported</th>\n",
       "      <th>fully_supported</th>\n",
       "    </tr>\n",
       "  </thead>\n",
       "  <tbody>\n",
       "    <tr>\n",
       "      <th>273368</th>\n",
       "      <td>chrY</td>\n",
       "      <td>+</td>\n",
       "      <td>14522941-14622008-14622591-14723116-14723269-1...</td>\n",
       "      <td>ENSG00000165246_12</td>\n",
       "      <td>lapa</td>\n",
       "      <td>NIC</td>\n",
       "      <td>ENSG00000165246</td>\n",
       "      <td>12</td>\n",
       "      <td>5</td>\n",
       "      <td>5.0</td>\n",
       "      <td>100.0</td>\n",
       "      <td>True</td>\n",
       "    </tr>\n",
       "    <tr>\n",
       "      <th>273371</th>\n",
       "      <td>chrY</td>\n",
       "      <td>+</td>\n",
       "      <td>2935446-2961073-2961646-2975094-2975244-297551...</td>\n",
       "      <td>ENSG00000067646_8</td>\n",
       "      <td>lapa</td>\n",
       "      <td>NIC</td>\n",
       "      <td>ENSG00000067646</td>\n",
       "      <td>8</td>\n",
       "      <td>6</td>\n",
       "      <td>6.0</td>\n",
       "      <td>100.0</td>\n",
       "      <td>True</td>\n",
       "    </tr>\n",
       "    <tr>\n",
       "      <th>273372</th>\n",
       "      <td>chrY</td>\n",
       "      <td>+</td>\n",
       "      <td>5000605-5002687</td>\n",
       "      <td>ENSG00000099715_8</td>\n",
       "      <td>lapa</td>\n",
       "      <td>ISM</td>\n",
       "      <td>ENSG00000099715</td>\n",
       "      <td>8</td>\n",
       "      <td>1</td>\n",
       "      <td>1.0</td>\n",
       "      <td>100.0</td>\n",
       "      <td>True</td>\n",
       "    </tr>\n",
       "    <tr>\n",
       "      <th>273373</th>\n",
       "      <td>chrY</td>\n",
       "      <td>-</td>\n",
       "      <td>13479513-13479317-13479253-13470229-13470120-1...</td>\n",
       "      <td>ENSG00000183878_23</td>\n",
       "      <td>lapa</td>\n",
       "      <td>NIC</td>\n",
       "      <td>ENSG00000183878</td>\n",
       "      <td>23</td>\n",
       "      <td>28</td>\n",
       "      <td>28.0</td>\n",
       "      <td>100.0</td>\n",
       "      <td>True</td>\n",
       "    </tr>\n",
       "    <tr>\n",
       "      <th>273375</th>\n",
       "      <td>chrY</td>\n",
       "      <td>-</td>\n",
       "      <td>19744670-19744553-19744384-19743239-19743161-1...</td>\n",
       "      <td>ENSG00000012817_11</td>\n",
       "      <td>lapa</td>\n",
       "      <td>NNC</td>\n",
       "      <td>ENSG00000012817</td>\n",
       "      <td>11</td>\n",
       "      <td>26</td>\n",
       "      <td>26.0</td>\n",
       "      <td>100.0</td>\n",
       "      <td>True</td>\n",
       "    </tr>\n",
       "  </tbody>\n",
       "</table>\n",
       "</div>"
      ],
      "text/plain": [
       "       Chromosome Strand                                        Coordinates  \\\n",
       "273368       chrY      +  14522941-14622008-14622591-14723116-14723269-1...   \n",
       "273371       chrY      +  2935446-2961073-2961646-2975094-2975244-297551...   \n",
       "273372       chrY      +                                    5000605-5002687   \n",
       "273373       chrY      -  13479513-13479317-13479253-13470229-13470120-1...   \n",
       "273375       chrY      -  19744670-19744553-19744384-19743239-19743161-1...   \n",
       "\n",
       "                      Name source novelty          gene_id  ic  n_sjs  \\\n",
       "273368  ENSG00000165246_12   lapa     NIC  ENSG00000165246  12      5   \n",
       "273371   ENSG00000067646_8   lapa     NIC  ENSG00000067646   8      6   \n",
       "273372   ENSG00000099715_8   lapa     ISM  ENSG00000099715   8      1   \n",
       "273373  ENSG00000183878_23   lapa     NIC  ENSG00000183878  23     28   \n",
       "273375  ENSG00000012817_11   lapa     NNC  ENSG00000012817  11     26   \n",
       "\n",
       "        n_sjs_supported  perc_supported  fully_supported  \n",
       "273368              5.0           100.0             True  \n",
       "273371              6.0           100.0             True  \n",
       "273372              1.0           100.0             True  \n",
       "273373             28.0           100.0             True  \n",
       "273375             26.0           100.0             True  "
      ]
     },
     "execution_count": 67,
     "metadata": {},
     "output_type": "execute_result"
    }
   ],
   "source": [
    "# percent of ics w/ 100% support per novelty category\n",
    "ic['fully_supported'] = False\n",
    "ic.loc[ic.perc_supported==100, 'fully_supported'] = True\n",
    "ic.tail()"
   ]
  },
  {
   "cell_type": "code",
   "execution_count": 68,
   "id": "db1f32c8-f21c-46e1-8fff-a0e1b97c4885",
   "metadata": {},
   "outputs": [
    {
     "data": {
      "text/html": [
       "<div>\n",
       "<style scoped>\n",
       "    .dataframe tbody tr th:only-of-type {\n",
       "        vertical-align: middle;\n",
       "    }\n",
       "\n",
       "    .dataframe tbody tr th {\n",
       "        vertical-align: top;\n",
       "    }\n",
       "\n",
       "    .dataframe thead th {\n",
       "        text-align: right;\n",
       "    }\n",
       "</style>\n",
       "<table border=\"1\" class=\"dataframe\">\n",
       "  <thead>\n",
       "    <tr style=\"text-align: right;\">\n",
       "      <th></th>\n",
       "      <th>Chromosome</th>\n",
       "      <th>Strand</th>\n",
       "      <th>Coordinates</th>\n",
       "      <th>Name</th>\n",
       "      <th>source</th>\n",
       "      <th>novelty</th>\n",
       "      <th>gene_id</th>\n",
       "      <th>ic</th>\n",
       "      <th>n_sjs</th>\n",
       "      <th>n_sjs_supported</th>\n",
       "      <th>perc_supported</th>\n",
       "      <th>fully_supported</th>\n",
       "    </tr>\n",
       "  </thead>\n",
       "  <tbody>\n",
       "    <tr>\n",
       "      <th>0</th>\n",
       "      <td>chr1</td>\n",
       "      <td>+</td>\n",
       "      <td>100038316-100049908-100050004-100058665-100058...</td>\n",
       "      <td>ENSG00000156875_1</td>\n",
       "      <td>v40,v29,lapa,gtex</td>\n",
       "      <td>Known</td>\n",
       "      <td>ENSG00000156875</td>\n",
       "      <td>1</td>\n",
       "      <td>21</td>\n",
       "      <td>21.0</td>\n",
       "      <td>100.0</td>\n",
       "      <td>True</td>\n",
       "    </tr>\n",
       "    <tr>\n",
       "      <th>2</th>\n",
       "      <td>chr1</td>\n",
       "      <td>+</td>\n",
       "      <td>1001263-1008193-1008279-1013983</td>\n",
       "      <td>ENSG00000187608_3</td>\n",
       "      <td>v40,v29,lapa,gtex</td>\n",
       "      <td>Known</td>\n",
       "      <td>ENSG00000187608</td>\n",
       "      <td>3</td>\n",
       "      <td>2</td>\n",
       "      <td>2.0</td>\n",
       "      <td>100.0</td>\n",
       "      <td>True</td>\n",
       "    </tr>\n",
       "    <tr>\n",
       "      <th>3</th>\n",
       "      <td>chr1</td>\n",
       "      <td>+</td>\n",
       "      <td>1001281-1008193-1008279-1013983</td>\n",
       "      <td>ENSG00000187608_2</td>\n",
       "      <td>v40,v29,lapa</td>\n",
       "      <td>Known</td>\n",
       "      <td>ENSG00000187608</td>\n",
       "      <td>2</td>\n",
       "      <td>2</td>\n",
       "      <td>2.0</td>\n",
       "      <td>100.0</td>\n",
       "      <td>True</td>\n",
       "    </tr>\n",
       "    <tr>\n",
       "      <th>4</th>\n",
       "      <td>chr1</td>\n",
       "      <td>+</td>\n",
       "      <td>100133315-100136881-100136928-100137018-100137...</td>\n",
       "      <td>ENSG00000122435_1</td>\n",
       "      <td>v40,v29,lapa</td>\n",
       "      <td>Known</td>\n",
       "      <td>ENSG00000122435</td>\n",
       "      <td>1</td>\n",
       "      <td>10</td>\n",
       "      <td>10.0</td>\n",
       "      <td>100.0</td>\n",
       "      <td>True</td>\n",
       "    </tr>\n",
       "    <tr>\n",
       "      <th>5</th>\n",
       "      <td>chr1</td>\n",
       "      <td>+</td>\n",
       "      <td>100133315-100136881-100136928-100137018-100137...</td>\n",
       "      <td>ENSG00000122435_4</td>\n",
       "      <td>v40,v29,lapa</td>\n",
       "      <td>Known</td>\n",
       "      <td>ENSG00000122435</td>\n",
       "      <td>4</td>\n",
       "      <td>7</td>\n",
       "      <td>7.0</td>\n",
       "      <td>100.0</td>\n",
       "      <td>True</td>\n",
       "    </tr>\n",
       "  </tbody>\n",
       "</table>\n",
       "</div>"
      ],
      "text/plain": [
       "  Chromosome Strand                                        Coordinates  \\\n",
       "0       chr1      +  100038316-100049908-100050004-100058665-100058...   \n",
       "2       chr1      +                    1001263-1008193-1008279-1013983   \n",
       "3       chr1      +                    1001281-1008193-1008279-1013983   \n",
       "4       chr1      +  100133315-100136881-100136928-100137018-100137...   \n",
       "5       chr1      +  100133315-100136881-100136928-100137018-100137...   \n",
       "\n",
       "                Name             source novelty          gene_id  ic  n_sjs  \\\n",
       "0  ENSG00000156875_1  v40,v29,lapa,gtex   Known  ENSG00000156875   1     21   \n",
       "2  ENSG00000187608_3  v40,v29,lapa,gtex   Known  ENSG00000187608   3      2   \n",
       "3  ENSG00000187608_2       v40,v29,lapa   Known  ENSG00000187608   2      2   \n",
       "4  ENSG00000122435_1       v40,v29,lapa   Known  ENSG00000122435   1     10   \n",
       "5  ENSG00000122435_4       v40,v29,lapa   Known  ENSG00000122435   4      7   \n",
       "\n",
       "   n_sjs_supported  perc_supported  fully_supported  \n",
       "0             21.0           100.0             True  \n",
       "2              2.0           100.0             True  \n",
       "3              2.0           100.0             True  \n",
       "4             10.0           100.0             True  \n",
       "5              7.0           100.0             True  "
      ]
     },
     "execution_count": 68,
     "metadata": {},
     "output_type": "execute_result"
    }
   ],
   "source": [
    "ic.loc[ic.perc_supported.notnull()].head()"
   ]
  },
  {
   "cell_type": "code",
   "execution_count": 69,
   "id": "fd9e3052-a2cd-45c7-ac40-852444c7d88f",
   "metadata": {},
   "outputs": [
    {
     "data": {
      "image/png": "[encoded data removed]",
      "text/plain": [
       "<Figure size 432x288 with 1 Axes>"
      ]
     },
     "metadata": {
      "needs_background": "light"
     },
     "output_type": "display_data"
    }
   ],
   "source": [
    "# for the ics that are not 100% supported, what does the support like\n",
    "ic_temp = ic.loc[ic.perc_supported!=100]\n",
    "c_dict, order = get_ic_nov_colors(cats=ic_temp.novelty.unique().tolist())\n",
    "sns.set_context('paper', font_scale=2)\n",
    "            \n",
    "ax = sns.violinplot(ic_temp, x='novelty', y='perc_supported',\n",
    "            palette=c_dict, saturation=1, order=order)\n",
    "ax.spines['right'].set_visible(False)\n",
    "ax.spines['top'].set_visible(False)\n",
    "ylabel = f'% SJs / EC\\nsupported by Intropolis'\n",
    "_ = ax.set(ylabel=ylabel, xlabel='')\n",
    "# for i, c in enumerate(order):\n",
    "#     temp2 = temp.loc[temp.novelty==c]\n",
    "#     n = temp2.n_ic.values[0]\n",
    "#     add_n(ax, n, i)"
   ]
  },
  {
   "cell_type": "code",
   "execution_count": 70,
   "id": "33475b2d-f276-4aa4-a3a7-480807aaffa6",
   "metadata": {},
   "outputs": [],
   "source": [
    "temp = ic[['fully_supported', 'novelty', 'Name']].groupby(['fully_supported', 'novelty']).count().reset_index().rename({'Name': 'n_ic'}, axis=1)\n",
    "temp2 = ic[['Name', 'novelty']].groupby('novelty').count().reset_index().rename({'Name':'n_total_ic'}, axis=1)"
   ]
  },
  {
   "cell_type": "code",
   "execution_count": 71,
   "id": "c57b2152-4c36-40c9-b4fd-6ab032d27f0d",
   "metadata": {},
   "outputs": [
    {
     "data": {
      "text/html": [
       "<div>\n",
       "<style scoped>\n",
       "    .dataframe tbody tr th:only-of-type {\n",
       "        vertical-align: middle;\n",
       "    }\n",
       "\n",
       "    .dataframe tbody tr th {\n",
       "        vertical-align: top;\n",
       "    }\n",
       "\n",
       "    .dataframe thead th {\n",
       "        text-align: right;\n",
       "    }\n",
       "</style>\n",
       "<table border=\"1\" class=\"dataframe\">\n",
       "  <thead>\n",
       "    <tr style=\"text-align: right;\">\n",
       "      <th></th>\n",
       "      <th>fully_supported</th>\n",
       "      <th>novelty</th>\n",
       "      <th>n_ic</th>\n",
       "      <th>n_total_ic</th>\n",
       "      <th>perc_fully_supported</th>\n",
       "    </tr>\n",
       "  </thead>\n",
       "  <tbody>\n",
       "    <tr>\n",
       "      <th>0</th>\n",
       "      <td>True</td>\n",
       "      <td>ISM</td>\n",
       "      <td>9950</td>\n",
       "      <td>10030</td>\n",
       "      <td>99.202393</td>\n",
       "    </tr>\n",
       "    <tr>\n",
       "      <th>1</th>\n",
       "      <td>True</td>\n",
       "      <td>Known</td>\n",
       "      <td>74749</td>\n",
       "      <td>75796</td>\n",
       "      <td>98.618661</td>\n",
       "    </tr>\n",
       "    <tr>\n",
       "      <th>2</th>\n",
       "      <td>True</td>\n",
       "      <td>NIC</td>\n",
       "      <td>20903</td>\n",
       "      <td>21324</td>\n",
       "      <td>98.025699</td>\n",
       "    </tr>\n",
       "    <tr>\n",
       "      <th>3</th>\n",
       "      <td>True</td>\n",
       "      <td>NNC</td>\n",
       "      <td>12596</td>\n",
       "      <td>14250</td>\n",
       "      <td>88.392982</td>\n",
       "    </tr>\n",
       "  </tbody>\n",
       "</table>\n",
       "</div>"
      ],
      "text/plain": [
       "   fully_supported novelty   n_ic  n_total_ic  perc_fully_supported\n",
       "0             True     ISM   9950       10030             99.202393\n",
       "1             True   Known  74749       75796             98.618661\n",
       "2             True     NIC  20903       21324             98.025699\n",
       "3             True     NNC  12596       14250             88.392982"
      ]
     },
     "execution_count": 71,
     "metadata": {},
     "output_type": "execute_result"
    }
   ],
   "source": [
    "# only fully supported\n",
    "temp = temp.loc[temp.fully_supported==True]\n",
    "temp = temp.merge(temp2, how='left', on='novelty')\n",
    "temp['perc_fully_supported'] = (temp.n_ic/temp.n_total_ic)*100\n",
    "temp"
   ]
  },
  {
   "cell_type": "code",
   "execution_count": 72,
   "id": "495ce8c0-c1bf-4ce2-a21e-d7b04142f46f",
   "metadata": {},
   "outputs": [
    {
     "data": {
      "image/png": "[encoded data removed]",
      "text/plain": [
       "<Figure size 432x288 with 1 Axes>"
      ]
     },
     "metadata": {
      "needs_background": "light"
     },
     "output_type": "display_data"
    }
   ],
   "source": [
    "c_dict, order = get_ic_nov_colors(cats=temp.novelty.unique().tolist())\n",
    "sns.set_context('paper', font_scale=2)\n",
    "mpl.rcParams['font.family'] = 'Arial'\n",
    "mpl.rcParams['pdf.fonttype'] = 42\n",
    "\n",
    "def add_n(ax, n, i):\n",
    "    ylim = ax.get_ylim()[1]\n",
    "    n_cats = len(ax.patches)\n",
    "    for j, p in enumerate(ax.patches):\n",
    "        if i != j:\n",
    "            continue\n",
    "        label = f'n={n:,}'\n",
    "        perc = p.get_height()\n",
    "        x = p.get_x() + p.get_width() / 2 - (0.1)*n_cats\n",
    "        # y = p.get_y() + p.get_height() + ylim*0.04\n",
    "        y = ylim\n",
    "        ax.annotate(label, (x, y), size = 14)\n",
    "            \n",
    "ax = sns.barplot(temp, x='novelty', y='perc_fully_supported',\n",
    "            palette=c_dict, saturation=1, order=order)\n",
    "ax.spines['right'].set_visible(False)\n",
    "ax.spines['top'].set_visible(False)\n",
    "ylabel = f'% of ECs with SJs fully\\nsupported by Intropolis'\n",
    "_ = ax.set(ylabel=ylabel, xlabel='')\n",
    "for i, c in enumerate(order):\n",
    "    temp2 = temp.loc[temp.novelty==c]\n",
    "    n = temp2.n_ic.values[0]\n",
    "    add_n(ax, n, i)"
   ]
  },
  {
   "cell_type": "markdown",
   "id": "74b9d584-1d94-46c0-868f-c2778a399a62",
   "metadata": {},
   "source": [
    "## What % of novel splice junctions from detected ics that we call are supported by intropolis?"
   ]
  },
  {
   "cell_type": "code",
   "execution_count": 73,
   "id": "f1df5155-fffb-471a-b780-171a13005438",
   "metadata": {},
   "outputs": [
    {
     "name": "stdout",
     "output_type": "stream",
     "text": [
      "957965\n",
      "957965\n"
     ]
    }
   ],
   "source": [
    "det_sjs = sj_ic_df.loc[sj_ic_df.Name.isin(ic_ids)]\n",
    "\n",
    "# whether these sjs were detected in intropolis\n",
    "print(len(det_sjs))\n",
    "det_sjs = det_sjs.merge(df[['gene_id', 'Chromosome', 'Start', 'End', 'Strand', 'intropolis']], \n",
    "                               on=['gene_id', 'Chromosome', 'Start', 'End', 'Strand'],\n",
    "                               how='left')\n",
    "print(len(det_sjs))"
   ]
  },
  {
   "cell_type": "code",
   "execution_count": 74,
   "id": "f82ceece-7c33-438d-8abd-c282cb06c225",
   "metadata": {},
   "outputs": [
    {
     "data": {
      "text/html": [
       "<div>\n",
       "<style scoped>\n",
       "    .dataframe tbody tr th:only-of-type {\n",
       "        vertical-align: middle;\n",
       "    }\n",
       "\n",
       "    .dataframe tbody tr th {\n",
       "        vertical-align: top;\n",
       "    }\n",
       "\n",
       "    .dataframe thead th {\n",
       "        text-align: right;\n",
       "    }\n",
       "</style>\n",
       "<table border=\"1\" class=\"dataframe\">\n",
       "  <thead>\n",
       "    <tr style=\"text-align: right;\">\n",
       "      <th></th>\n",
       "      <th>fully_supported</th>\n",
       "      <th>novelty</th>\n",
       "      <th>n_ic</th>\n",
       "      <th>n_total_ic</th>\n",
       "      <th>perc_fully_supported</th>\n",
       "    </tr>\n",
       "  </thead>\n",
       "  <tbody>\n",
       "    <tr>\n",
       "      <th>0</th>\n",
       "      <td>True</td>\n",
       "      <td>ISM</td>\n",
       "      <td>9950</td>\n",
       "      <td>10030</td>\n",
       "      <td>99.202393</td>\n",
       "    </tr>\n",
       "    <tr>\n",
       "      <th>1</th>\n",
       "      <td>True</td>\n",
       "      <td>Known</td>\n",
       "      <td>74749</td>\n",
       "      <td>75796</td>\n",
       "      <td>98.618661</td>\n",
       "    </tr>\n",
       "    <tr>\n",
       "      <th>2</th>\n",
       "      <td>True</td>\n",
       "      <td>NIC</td>\n",
       "      <td>20903</td>\n",
       "      <td>21324</td>\n",
       "      <td>98.025699</td>\n",
       "    </tr>\n",
       "    <tr>\n",
       "      <th>3</th>\n",
       "      <td>True</td>\n",
       "      <td>NNC</td>\n",
       "      <td>12596</td>\n",
       "      <td>14250</td>\n",
       "      <td>88.392982</td>\n",
       "    </tr>\n",
       "  </tbody>\n",
       "</table>\n",
       "</div>"
      ],
      "text/plain": [
       "   fully_supported novelty   n_ic  n_total_ic  perc_fully_supported\n",
       "0             True     ISM   9950       10030             99.202393\n",
       "1             True   Known  74749       75796             98.618661\n",
       "2             True     NIC  20903       21324             98.025699\n",
       "3             True     NNC  12596       14250             88.392982"
      ]
     },
     "execution_count": 74,
     "metadata": {},
     "output_type": "execute_result"
    }
   ],
   "source": [
    "temp"
   ]
  },
  {
   "cell_type": "code",
   "execution_count": 75,
   "id": "6e5ec382-48f0-49a7-b8d4-7af84ea2566d",
   "metadata": {},
   "outputs": [
    {
     "data": {
      "image/png": "[encoded data removed]",
      "text/plain": [
       "<Figure size 432x288 with 1 Axes>"
      ]
     },
     "metadata": {
      "needs_background": "light"
     },
     "output_type": "display_data"
    }
   ],
   "source": [
    "temp = det_sjs[['intropolis', 'novelty', 'Start']].groupby(['intropolis', 'novelty']).count().reset_index().rename({'Start':'count'}, axis=1)\n",
    "sns.set_context('paper', font_scale=2)\n",
    "\n",
    "def get_nov_colors(cats=None):\n",
    "    c_dict = {'Known': '#009E73',\n",
    "              'Novel': '#D55E00'}\n",
    "    order = ['Known', 'Novel']\n",
    "\n",
    "    c_dict, order = rm_color_cats(c_dict, order, cats)\n",
    "    return c_dict, order\n",
    "\n",
    "c_dict, order = get_nov_colors(cats=temp.novelty.unique().tolist())\n",
    "temp['novelty'] = temp['novelty'].astype('category')\n",
    "temp['novelty'] = temp['novelty'].cat.reorder_categories(order, ordered=True)\n",
    "cats = [True, False]\n",
    "temp['intropolis'] = temp['intropolis'].astype('category')\n",
    "temp['intropolis'] = temp['intropolis'].cat.reorder_categories(cats, ordered=True)\n",
    "\n",
    "ax = sns.barplot(data=temp, \n",
    "            x='novelty',\n",
    "            hue='intropolis',\n",
    "            y='count',\n",
    "            hue_order=[True, False],\n",
    "            saturation=1)\n",
    "ax.spines['right'].set_visible(False)\n",
    "ax.spines['top'].set_visible(False)\n",
    "ax.set_yscale('log')\n",
    "ax.legend().set_title('Supported by Intropolis')\n",
    "ax.set(ylabel='# SJs', xlabel='')\n",
    "\n",
    "for bar_group, cat in zip(ax.containers, cats):\n",
    "    for bar, cat2 in zip(bar_group, order):\n",
    "        c = c_dict[cat2]\n",
    "        c_dict_2, order_2 = get_shade_colors(c, cats)\n",
    "        bar.set_facecolor(c_dict_2[cat])"
   ]
  },
  {
   "cell_type": "markdown",
   "id": "fa9d9be6-9ea3-4503-8575-0cca9de54ed1",
   "metadata": {},
   "source": [
    "## How well supported are splice sites? "
   ]
  },
  {
   "cell_type": "code",
   "execution_count": 76,
   "id": "e724076b-a1cd-4ee2-97e2-b779b17faca6",
   "metadata": {},
   "outputs": [],
   "source": [
    "ca = cerberus.read(cerberus_h5)"
   ]
  },
  {
   "cell_type": "code",
   "execution_count": 77,
   "id": "1e075a8d-7285-425d-a8a0-8c53365cdefb",
   "metadata": {},
   "outputs": [
    {
     "data": {
      "text/plain": [
       "['v29', 'v40']"
      ]
     },
     "execution_count": 77,
     "metadata": {},
     "output_type": "execute_result"
    }
   ],
   "source": [
    "ref_sources"
   ]
  },
  {
   "cell_type": "code",
   "execution_count": 78,
   "id": "fb563b20-ea56-4bbe-b01e-de3057cc07c8",
   "metadata": {},
   "outputs": [],
   "source": [
    "ss_df, ss_ic_df = get_ss_from_ic(ca.ic, ref_sources)"
   ]
  },
  {
   "cell_type": "code",
   "execution_count": 79,
   "id": "a222947e-3f03-45df-892f-9818bb45b832",
   "metadata": {},
   "outputs": [],
   "source": [
    "# read intropolis \n",
    "i_df = pr.read_bed(introp_bed).df\n",
    "source = 'intropolis'\n",
    "i_df['source'] = source\n",
    "i_df = i_df.loc[i_df.Start.notnull()]\n",
    "i_df[source] = True\n",
    "\n",
    "keep_cols = ['Chromosome', 'Start', 'End', 'Strand', 'intropolis']\n",
    "i_df = i_df[keep_cols].drop_duplicates()"
   ]
  },
  {
   "cell_type": "code",
   "execution_count": 80,
   "id": "690f481d-e993-4f70-ae2c-3e347d427957",
   "metadata": {},
   "outputs": [
    {
     "data": {
      "text/html": [
       "<div>\n",
       "<style scoped>\n",
       "    .dataframe tbody tr th:only-of-type {\n",
       "        vertical-align: middle;\n",
       "    }\n",
       "\n",
       "    .dataframe tbody tr th {\n",
       "        vertical-align: top;\n",
       "    }\n",
       "\n",
       "    .dataframe thead th {\n",
       "        text-align: right;\n",
       "    }\n",
       "</style>\n",
       "<table border=\"1\" class=\"dataframe\">\n",
       "  <thead>\n",
       "    <tr style=\"text-align: right;\">\n",
       "      <th></th>\n",
       "      <th>Chromosome</th>\n",
       "      <th>Strand</th>\n",
       "      <th>intropolis</th>\n",
       "      <th>ss_5</th>\n",
       "      <th>ss_3</th>\n",
       "    </tr>\n",
       "  </thead>\n",
       "  <tbody>\n",
       "    <tr>\n",
       "      <th>0</th>\n",
       "      <td>chr1</td>\n",
       "      <td>+</td>\n",
       "      <td>True</td>\n",
       "      <td>10580.0</td>\n",
       "      <td>12009.0</td>\n",
       "    </tr>\n",
       "    <tr>\n",
       "      <th>1</th>\n",
       "      <td>chr1</td>\n",
       "      <td>+</td>\n",
       "      <td>True</td>\n",
       "      <td>10591.0</td>\n",
       "      <td>12009.0</td>\n",
       "    </tr>\n",
       "    <tr>\n",
       "      <th>2</th>\n",
       "      <td>chr1</td>\n",
       "      <td>+</td>\n",
       "      <td>True</td>\n",
       "      <td>10774.0</td>\n",
       "      <td>10846.0</td>\n",
       "    </tr>\n",
       "    <tr>\n",
       "      <th>3</th>\n",
       "      <td>chr1</td>\n",
       "      <td>+</td>\n",
       "      <td>True</td>\n",
       "      <td>10803.0</td>\n",
       "      <td>10953.0</td>\n",
       "    </tr>\n",
       "    <tr>\n",
       "      <th>4</th>\n",
       "      <td>chr1</td>\n",
       "      <td>+</td>\n",
       "      <td>True</td>\n",
       "      <td>10865.0</td>\n",
       "      <td>10941.0</td>\n",
       "    </tr>\n",
       "  </tbody>\n",
       "</table>\n",
       "</div>"
      ],
      "text/plain": [
       "  Chromosome Strand  intropolis     ss_5     ss_3\n",
       "0       chr1      +        True  10580.0  12009.0\n",
       "1       chr1      +        True  10591.0  12009.0\n",
       "2       chr1      +        True  10774.0  10846.0\n",
       "3       chr1      +        True  10803.0  10953.0\n",
       "4       chr1      +        True  10865.0  10941.0"
      ]
     },
     "execution_count": 80,
     "metadata": {},
     "output_type": "execute_result"
    }
   ],
   "source": [
    "i_df['ss_5'] = np.nan\n",
    "i_df['ss_3'] = np.nan\n",
    "i_df.loc[i_df.Strand == '+', 'ss_5'] = i_df.loc[i_df.Strand == '+', 'Start']\n",
    "i_df.loc[i_df.Strand == '+', 'ss_3'] = i_df.loc[i_df.Strand == '+', 'End']\n",
    "\n",
    "i_df.loc[i_df.Strand == '-', 'ss_5'] = i_df.loc[i_df.Strand == '-', 'End']\n",
    "i_df.loc[i_df.Strand == '-', 'ss_3'] = i_df.loc[i_df.Strand == '-', 'Start']\n",
    "i_df.loc[i_df.Strand == '+']\n",
    "i_df = i_df[['Chromosome', 'Strand', 'intropolis', 'ss_5', 'ss_3']]\n",
    "i_df.head()"
   ]
  },
  {
   "cell_type": "code",
   "execution_count": 81,
   "id": "414897e8-5839-4951-9d4a-4b267082afb3",
   "metadata": {},
   "outputs": [],
   "source": [
    "i_df = i_df.melt(id_vars=['Chromosome', 'Strand', 'intropolis'],value_vars=['ss_5', 'ss_3'], var_name='ss_type', value_name='coord')"
   ]
  },
  {
   "cell_type": "code",
   "execution_count": 82,
   "id": "59b7d9cb-fea3-43cc-875d-508b1d498bf0",
   "metadata": {},
   "outputs": [
    {
     "data": {
      "text/html": [
       "<div>\n",
       "<style scoped>\n",
       "    .dataframe tbody tr th:only-of-type {\n",
       "        vertical-align: middle;\n",
       "    }\n",
       "\n",
       "    .dataframe tbody tr th {\n",
       "        vertical-align: top;\n",
       "    }\n",
       "\n",
       "    .dataframe thead th {\n",
       "        text-align: right;\n",
       "    }\n",
       "</style>\n",
       "<table border=\"1\" class=\"dataframe\">\n",
       "  <thead>\n",
       "    <tr style=\"text-align: right;\">\n",
       "      <th></th>\n",
       "      <th>Chromosome</th>\n",
       "      <th>Strand</th>\n",
       "      <th>intropolis</th>\n",
       "      <th>ss_type</th>\n",
       "      <th>Start</th>\n",
       "    </tr>\n",
       "  </thead>\n",
       "  <tbody>\n",
       "    <tr>\n",
       "      <th>0</th>\n",
       "      <td>chr1</td>\n",
       "      <td>+</td>\n",
       "      <td>True</td>\n",
       "      <td>ss_5</td>\n",
       "      <td>10580.0</td>\n",
       "    </tr>\n",
       "    <tr>\n",
       "      <th>1</th>\n",
       "      <td>chr1</td>\n",
       "      <td>+</td>\n",
       "      <td>True</td>\n",
       "      <td>ss_5</td>\n",
       "      <td>10591.0</td>\n",
       "    </tr>\n",
       "    <tr>\n",
       "      <th>2</th>\n",
       "      <td>chr1</td>\n",
       "      <td>+</td>\n",
       "      <td>True</td>\n",
       "      <td>ss_5</td>\n",
       "      <td>10774.0</td>\n",
       "    </tr>\n",
       "    <tr>\n",
       "      <th>3</th>\n",
       "      <td>chr1</td>\n",
       "      <td>+</td>\n",
       "      <td>True</td>\n",
       "      <td>ss_5</td>\n",
       "      <td>10803.0</td>\n",
       "    </tr>\n",
       "    <tr>\n",
       "      <th>4</th>\n",
       "      <td>chr1</td>\n",
       "      <td>+</td>\n",
       "      <td>True</td>\n",
       "      <td>ss_5</td>\n",
       "      <td>10865.0</td>\n",
       "    </tr>\n",
       "  </tbody>\n",
       "</table>\n",
       "</div>"
      ],
      "text/plain": [
       "  Chromosome Strand  intropolis ss_type    Start\n",
       "0       chr1      +        True    ss_5  10580.0\n",
       "1       chr1      +        True    ss_5  10591.0\n",
       "2       chr1      +        True    ss_5  10774.0\n",
       "3       chr1      +        True    ss_5  10803.0\n",
       "4       chr1      +        True    ss_5  10865.0"
      ]
     },
     "execution_count": 82,
     "metadata": {},
     "output_type": "execute_result"
    }
   ],
   "source": [
    "i_df.rename({'coord': 'Start'}, axis=1, inplace=True)\n",
    "i_df.head()"
   ]
  },
  {
   "cell_type": "code",
   "execution_count": 83,
   "id": "bc6df7d5-29d6-4755-b06d-1898b2dbcea7",
   "metadata": {},
   "outputs": [
    {
     "data": {
      "text/html": [
       "<div>\n",
       "<style scoped>\n",
       "    .dataframe tbody tr th:only-of-type {\n",
       "        vertical-align: middle;\n",
       "    }\n",
       "\n",
       "    .dataframe tbody tr th {\n",
       "        vertical-align: top;\n",
       "    }\n",
       "\n",
       "    .dataframe thead th {\n",
       "        text-align: right;\n",
       "    }\n",
       "</style>\n",
       "<table border=\"1\" class=\"dataframe\">\n",
       "  <thead>\n",
       "    <tr style=\"text-align: right;\">\n",
       "      <th></th>\n",
       "      <th>Start</th>\n",
       "    </tr>\n",
       "    <tr>\n",
       "      <th>intropolis</th>\n",
       "      <th></th>\n",
       "    </tr>\n",
       "  </thead>\n",
       "  <tbody>\n",
       "    <tr>\n",
       "      <th>False</th>\n",
       "      <td>30192</td>\n",
       "    </tr>\n",
       "    <tr>\n",
       "      <th>True</th>\n",
       "      <td>7635854</td>\n",
       "    </tr>\n",
       "  </tbody>\n",
       "</table>\n",
       "</div>"
      ],
      "text/plain": [
       "              Start\n",
       "intropolis         \n",
       "False         30192\n",
       "True        7635854"
      ]
     },
     "execution_count": 83,
     "metadata": {},
     "output_type": "execute_result"
    }
   ],
   "source": [
    "# merge in\n",
    "merge_cols = ['Chromosome', 'Strand', 'ss_type', 'Start', 'intropolis']\n",
    "\n",
    "df = ss_df.merge(i_df[merge_cols],\n",
    "                how='left',\n",
    "                on=['Chromosome', 'Start', 'Strand', 'ss_type'])\n",
    "df[source] = df[source].fillna(False)\n",
    "df[['Start', 'intropolis']].groupby('intropolis').count()"
   ]
  },
  {
   "cell_type": "code",
   "execution_count": 84,
   "id": "c4990d39-289a-4185-be23-07f3d8f5a986",
   "metadata": {},
   "outputs": [
    {
     "data": {
      "text/html": [
       "<div>\n",
       "<style scoped>\n",
       "    .dataframe tbody tr th:only-of-type {\n",
       "        vertical-align: middle;\n",
       "    }\n",
       "\n",
       "    .dataframe tbody tr th {\n",
       "        vertical-align: top;\n",
       "    }\n",
       "\n",
       "    .dataframe thead th {\n",
       "        text-align: right;\n",
       "    }\n",
       "</style>\n",
       "<table border=\"1\" class=\"dataframe\">\n",
       "  <thead>\n",
       "    <tr style=\"text-align: right;\">\n",
       "      <th></th>\n",
       "      <th></th>\n",
       "      <th>Start</th>\n",
       "    </tr>\n",
       "    <tr>\n",
       "      <th>novelty</th>\n",
       "      <th>intropolis</th>\n",
       "      <th></th>\n",
       "    </tr>\n",
       "  </thead>\n",
       "  <tbody>\n",
       "    <tr>\n",
       "      <th rowspan=\"2\" valign=\"top\">Known</th>\n",
       "      <th>False</th>\n",
       "      <td>29159</td>\n",
       "    </tr>\n",
       "    <tr>\n",
       "      <th>True</th>\n",
       "      <td>7372058</td>\n",
       "    </tr>\n",
       "    <tr>\n",
       "      <th rowspan=\"2\" valign=\"top\">Novel</th>\n",
       "      <th>False</th>\n",
       "      <td>1033</td>\n",
       "    </tr>\n",
       "    <tr>\n",
       "      <th>True</th>\n",
       "      <td>263796</td>\n",
       "    </tr>\n",
       "  </tbody>\n",
       "</table>\n",
       "</div>"
      ],
      "text/plain": [
       "                      Start\n",
       "novelty intropolis         \n",
       "Known   False         29159\n",
       "        True        7372058\n",
       "Novel   False          1033\n",
       "        True         263796"
      ]
     },
     "execution_count": 84,
     "metadata": {},
     "output_type": "execute_result"
    }
   ],
   "source": [
    "df[['novelty', 'intropolis', 'Start']].groupby(['novelty', 'intropolis']).count()"
   ]
  },
  {
   "cell_type": "markdown",
   "id": "e4fcf318-88ff-45b5-aa45-4863af33fce9",
   "metadata": {},
   "source": [
    "## Determine % of splice sites supported per IC\n"
   ]
  },
  {
   "cell_type": "code",
   "execution_count": 94,
   "id": "04ed0933-870a-4d1b-93b4-23610bb0f898",
   "metadata": {},
   "outputs": [],
   "source": [
    "keep_cols = ['Chromosome', 'Strand', 'Start', 'ss_type', 'intropolis']\n",
    "temp = ss_ic_df.merge(df[keep_cols], \n",
    "                    how='left',\n",
    "                    on=['Chromosome', 'Start', 'ss_type', 'Strand'])"
   ]
  },
  {
   "cell_type": "code",
   "execution_count": 95,
   "id": "c6b06cc4-3099-4b3a-927e-faf82b20db33",
   "metadata": {},
   "outputs": [],
   "source": [
    "# how many sss / intron chain\n",
    "temp2 = temp[['Name', 'Start']].groupby(['Name']).count().reset_index().rename({'Start':'n_sss'}, axis=1)"
   ]
  },
  {
   "cell_type": "code",
   "execution_count": 96,
   "id": "f1db5613-de54-48e4-8264-a579f7485ec3",
   "metadata": {},
   "outputs": [],
   "source": [
    "# how many intropolis supported sss / intron chain\n",
    "temp3 = temp.loc[temp.intropolis == True]\n",
    "temp3 = temp3[['Name', 'intropolis']].groupby(['Name']).count().reset_index().rename({'intropolis':'n_sss_supported'}, axis=1)"
   ]
  },
  {
   "cell_type": "code",
   "execution_count": 97,
   "id": "14a319cc-2ea1-425a-b088-ffca8dd9bf14",
   "metadata": {},
   "outputs": [],
   "source": [
    "ic = ca.ic.copy(deep=True)\n",
    "ic = ic.loc[ic.Coordinates != '-'] # remove monoexonic\n",
    "ic = ic.merge(temp2, how='left', on='Name')\n",
    "ic = ic.merge(temp3, how='left', on='Name')"
   ]
  },
  {
   "cell_type": "code",
   "execution_count": 98,
   "id": "a7ebe035-0ea6-4b12-87bd-1944aae6bdd0",
   "metadata": {},
   "outputs": [],
   "source": [
    "# make sure that ICs w/o support are added too\n",
    "ic.n_sss_supported.fillna(0, inplace=True)\n",
    "ic['perc_supported'] = (ic['n_sss_supported']/ic['n_sss'])*100"
   ]
  },
  {
   "cell_type": "code",
   "execution_count": 99,
   "id": "78ee1706-59de-4a6c-a51d-a6563b70d301",
   "metadata": {},
   "outputs": [
    {
     "name": "stdout",
     "output_type": "stream",
     "text": [
      "Calculating ic TPM values\n",
      "Subsetting for polya genes\n"
     ]
    },
    {
     "name": "stderr",
     "output_type": "stream",
     "text": [
      "/Users/fairliereese/Documents/programming/mortazavi_lab/data/paper_rnawg/proc_revisions/utils.py:2087: PerformanceWarning: DataFrame is highly fragmented.  This is usually the result of calling `frame.insert` many times, which has poor performance.  Consider joining all columns at once using pd.concat(axis=1) instead.  To get a de-fragmented frame, use `newframe = frame.copy()`\n",
      "  df[tpm_col] = (df[d]*1000000)/df[total_col]\n",
      "/Users/fairliereese/Documents/programming/mortazavi_lab/data/paper_rnawg/proc_revisions/utils.py:2086: PerformanceWarning: DataFrame is highly fragmented.  This is usually the result of calling `frame.insert` many times, which has poor performance.  Consider joining all columns at once using pd.concat(axis=1) instead.  To get a de-fragmented frame, use `newframe = frame.copy()`\n",
      "  df[total_col] = df[d].sum()\n"
     ]
    },
    {
     "name": "stdout",
     "output_type": "stream",
     "text": [
      "Enforcing minimum TPM\n",
      "Total # ics detected: 145392\n",
      "# ics >= 1 tpm: 131409\n",
      "Applying gene type and novelty subset\n",
      "Number of ics reported: 128159\n"
     ]
    }
   ],
   "source": [
    "# what does % ss support by intropolis look like for \n",
    "# detected ics by novelty category\n",
    "ab_df = pd.read_csv(filt_ab, sep='\\t')\n",
    "ab_df, ic_ids = get_tpm_table(ab_df,\n",
    "               how='ic',\n",
    "               gene_subset=gene_subset,\n",
    "               min_tpm=min_tpm)"
   ]
  },
  {
   "cell_type": "code",
   "execution_count": 100,
   "id": "a5396c8b-7cce-477a-94e7-11871c49c220",
   "metadata": {},
   "outputs": [
    {
     "name": "stdout",
     "output_type": "stream",
     "text": [
      "['ENSG00000000003_1', 'ENSG00000000003_10', 'ENSG00000000003_11', 'ENSG00000000003_12', 'ENSG00000000003_4']\n"
     ]
    },
    {
     "data": {
      "text/plain": [
       "121400"
      ]
     },
     "execution_count": 100,
     "metadata": {},
     "output_type": "execute_result"
    }
   ],
   "source": [
    "# limit to detected ics\n",
    "print(ic_ids[:5])\n",
    "ic.head()\n",
    "ic = ic.loc[ic.Name.isin(ic_ids)]\n",
    "len(ic.index)"
   ]
  },
  {
   "cell_type": "code",
   "execution_count": 101,
   "id": "1740e830-d281-4423-9c9c-2646114c5054",
   "metadata": {},
   "outputs": [
    {
     "data": {
      "text/html": [
       "<div>\n",
       "<style scoped>\n",
       "    .dataframe tbody tr th:only-of-type {\n",
       "        vertical-align: middle;\n",
       "    }\n",
       "\n",
       "    .dataframe tbody tr th {\n",
       "        vertical-align: top;\n",
       "    }\n",
       "\n",
       "    .dataframe thead th {\n",
       "        text-align: right;\n",
       "    }\n",
       "</style>\n",
       "<table border=\"1\" class=\"dataframe\">\n",
       "  <thead>\n",
       "    <tr style=\"text-align: right;\">\n",
       "      <th></th>\n",
       "      <th>Chromosome</th>\n",
       "      <th>Strand</th>\n",
       "      <th>Coordinates</th>\n",
       "      <th>Name</th>\n",
       "      <th>source</th>\n",
       "      <th>novelty</th>\n",
       "      <th>gene_id</th>\n",
       "      <th>ic</th>\n",
       "      <th>n_sss</th>\n",
       "      <th>n_sss_supported</th>\n",
       "      <th>perc_supported</th>\n",
       "      <th>fully_supported</th>\n",
       "    </tr>\n",
       "  </thead>\n",
       "  <tbody>\n",
       "    <tr>\n",
       "      <th>273368</th>\n",
       "      <td>chrY</td>\n",
       "      <td>+</td>\n",
       "      <td>14522941-14622008-14622591-14723116-14723269-1...</td>\n",
       "      <td>ENSG00000165246_12</td>\n",
       "      <td>lapa</td>\n",
       "      <td>NIC</td>\n",
       "      <td>ENSG00000165246</td>\n",
       "      <td>12</td>\n",
       "      <td>218</td>\n",
       "      <td>218.0</td>\n",
       "      <td>100.0</td>\n",
       "      <td>True</td>\n",
       "    </tr>\n",
       "    <tr>\n",
       "      <th>273371</th>\n",
       "      <td>chrY</td>\n",
       "      <td>+</td>\n",
       "      <td>2935446-2961073-2961646-2975094-2975244-297551...</td>\n",
       "      <td>ENSG00000067646_8</td>\n",
       "      <td>lapa</td>\n",
       "      <td>NIC</td>\n",
       "      <td>ENSG00000067646</td>\n",
       "      <td>8</td>\n",
       "      <td>106</td>\n",
       "      <td>106.0</td>\n",
       "      <td>100.0</td>\n",
       "      <td>True</td>\n",
       "    </tr>\n",
       "    <tr>\n",
       "      <th>273372</th>\n",
       "      <td>chrY</td>\n",
       "      <td>+</td>\n",
       "      <td>5000605-5002687</td>\n",
       "      <td>ENSG00000099715_8</td>\n",
       "      <td>lapa</td>\n",
       "      <td>ISM</td>\n",
       "      <td>ENSG00000099715</td>\n",
       "      <td>8</td>\n",
       "      <td>10</td>\n",
       "      <td>10.0</td>\n",
       "      <td>100.0</td>\n",
       "      <td>True</td>\n",
       "    </tr>\n",
       "    <tr>\n",
       "      <th>273373</th>\n",
       "      <td>chrY</td>\n",
       "      <td>-</td>\n",
       "      <td>13479513-13479317-13479253-13470229-13470120-1...</td>\n",
       "      <td>ENSG00000183878_23</td>\n",
       "      <td>lapa</td>\n",
       "      <td>NIC</td>\n",
       "      <td>ENSG00000183878</td>\n",
       "      <td>23</td>\n",
       "      <td>821</td>\n",
       "      <td>821.0</td>\n",
       "      <td>100.0</td>\n",
       "      <td>True</td>\n",
       "    </tr>\n",
       "    <tr>\n",
       "      <th>273375</th>\n",
       "      <td>chrY</td>\n",
       "      <td>-</td>\n",
       "      <td>19744670-19744553-19744384-19743239-19743161-1...</td>\n",
       "      <td>ENSG00000012817_11</td>\n",
       "      <td>lapa</td>\n",
       "      <td>NNC</td>\n",
       "      <td>ENSG00000012817</td>\n",
       "      <td>11</td>\n",
       "      <td>435</td>\n",
       "      <td>435.0</td>\n",
       "      <td>100.0</td>\n",
       "      <td>True</td>\n",
       "    </tr>\n",
       "  </tbody>\n",
       "</table>\n",
       "</div>"
      ],
      "text/plain": [
       "       Chromosome Strand                                        Coordinates  \\\n",
       "273368       chrY      +  14522941-14622008-14622591-14723116-14723269-1...   \n",
       "273371       chrY      +  2935446-2961073-2961646-2975094-2975244-297551...   \n",
       "273372       chrY      +                                    5000605-5002687   \n",
       "273373       chrY      -  13479513-13479317-13479253-13470229-13470120-1...   \n",
       "273375       chrY      -  19744670-19744553-19744384-19743239-19743161-1...   \n",
       "\n",
       "                      Name source novelty          gene_id  ic  n_sss  \\\n",
       "273368  ENSG00000165246_12   lapa     NIC  ENSG00000165246  12    218   \n",
       "273371   ENSG00000067646_8   lapa     NIC  ENSG00000067646   8    106   \n",
       "273372   ENSG00000099715_8   lapa     ISM  ENSG00000099715   8     10   \n",
       "273373  ENSG00000183878_23   lapa     NIC  ENSG00000183878  23    821   \n",
       "273375  ENSG00000012817_11   lapa     NNC  ENSG00000012817  11    435   \n",
       "\n",
       "        n_sss_supported  perc_supported  fully_supported  \n",
       "273368            218.0           100.0             True  \n",
       "273371            106.0           100.0             True  \n",
       "273372             10.0           100.0             True  \n",
       "273373            821.0           100.0             True  \n",
       "273375            435.0           100.0             True  "
      ]
     },
     "execution_count": 101,
     "metadata": {},
     "output_type": "execute_result"
    }
   ],
   "source": [
    "# percent of ics w/ 100% support per novelty category\n",
    "ic['fully_supported'] = False\n",
    "ic.loc[ic.perc_supported==100, 'fully_supported'] = True\n",
    "ic.tail()"
   ]
  },
  {
   "cell_type": "code",
   "execution_count": 102,
   "id": "7c00e547-950f-44ef-a789-81c31379bd00",
   "metadata": {},
   "outputs": [
    {
     "data": {
      "image/png": "[encoded data removed]",
      "text/plain": [
       "<Figure size 432x288 with 1 Axes>"
      ]
     },
     "metadata": {
      "needs_background": "light"
     },
     "output_type": "display_data"
    }
   ],
   "source": [
    "# for the ics that are not 100% supported, what does the support like\n",
    "ic_temp = ic.loc[ic.perc_supported!=100]\n",
    "c_dict, order = get_ic_nov_colors(cats=ic_temp.novelty.unique().tolist())\n",
    "sns.set_context('paper', font_scale=2)\n",
    "\n",
    "def add_n(ax, n, i):\n",
    "    ylim = ax.get_ylim()[1]\n",
    "    n_cats = len(ax.patches)\n",
    "    for j, p in enumerate(ax.patches):\n",
    "        if i != j:\n",
    "            continue\n",
    "        label = f'n={n:,}'\n",
    "        perc = p.get_height()\n",
    "        x = p.get_x() + p.get_width() / 2 - (0.1)*n_cats\n",
    "        # y = p.get_y() + p.get_height() + ylim*0.04\n",
    "        y = ylim\n",
    "        ax.annotate(label, (x, y), size = 14)\n",
    "            \n",
    "ax = sns.violinplot(ic_temp, x='novelty', y='perc_supported',\n",
    "            palette=c_dict, saturation=1, order=order)\n",
    "ax.spines['right'].set_visible(False)\n",
    "ax.spines['top'].set_visible(False)\n",
    "ylabel = f'% SSs'\n",
    "_ = ax.set(ylabel=ylabel, xlabel='')\n",
    "# for i, c in enumerate(order):\n",
    "#     temp2 = temp.loc[temp.novelty==c]\n",
    "#     n = temp2.n_ic.values[0]\n",
    "#     add_n(ax, n, i)"
   ]
  },
  {
   "cell_type": "code",
   "execution_count": 103,
   "id": "786f2f3e-efb8-4721-b1c8-09a03d140de6",
   "metadata": {},
   "outputs": [],
   "source": [
    "temp = ic[['fully_supported', 'novelty', 'Name']].groupby(['fully_supported', 'novelty']).count().reset_index().rename({'Name': 'n_ic'}, axis=1)\n",
    "temp2 = ic[['Name', 'novelty']].groupby('novelty').count().reset_index().rename({'Name':'n_total_ic'}, axis=1)"
   ]
  },
  {
   "cell_type": "code",
   "execution_count": 104,
   "id": "860cc4dc-db96-4b7f-901a-f6cac4999543",
   "metadata": {},
   "outputs": [
    {
     "data": {
      "text/html": [
       "<div>\n",
       "<style scoped>\n",
       "    .dataframe tbody tr th:only-of-type {\n",
       "        vertical-align: middle;\n",
       "    }\n",
       "\n",
       "    .dataframe tbody tr th {\n",
       "        vertical-align: top;\n",
       "    }\n",
       "\n",
       "    .dataframe thead th {\n",
       "        text-align: right;\n",
       "    }\n",
       "</style>\n",
       "<table border=\"1\" class=\"dataframe\">\n",
       "  <thead>\n",
       "    <tr style=\"text-align: right;\">\n",
       "      <th></th>\n",
       "      <th>fully_supported</th>\n",
       "      <th>novelty</th>\n",
       "      <th>n_ic</th>\n",
       "      <th>n_total_ic</th>\n",
       "      <th>perc_fully_supported</th>\n",
       "    </tr>\n",
       "  </thead>\n",
       "  <tbody>\n",
       "    <tr>\n",
       "      <th>0</th>\n",
       "      <td>True</td>\n",
       "      <td>ISM</td>\n",
       "      <td>9954</td>\n",
       "      <td>10030</td>\n",
       "      <td>99.242273</td>\n",
       "    </tr>\n",
       "    <tr>\n",
       "      <th>1</th>\n",
       "      <td>True</td>\n",
       "      <td>Known</td>\n",
       "      <td>74885</td>\n",
       "      <td>75796</td>\n",
       "      <td>98.798090</td>\n",
       "    </tr>\n",
       "    <tr>\n",
       "      <th>2</th>\n",
       "      <td>True</td>\n",
       "      <td>NIC</td>\n",
       "      <td>20961</td>\n",
       "      <td>21324</td>\n",
       "      <td>98.297693</td>\n",
       "    </tr>\n",
       "    <tr>\n",
       "      <th>3</th>\n",
       "      <td>True</td>\n",
       "      <td>NNC</td>\n",
       "      <td>13254</td>\n",
       "      <td>14250</td>\n",
       "      <td>93.010526</td>\n",
       "    </tr>\n",
       "  </tbody>\n",
       "</table>\n",
       "</div>"
      ],
      "text/plain": [
       "   fully_supported novelty   n_ic  n_total_ic  perc_fully_supported\n",
       "0             True     ISM   9954       10030             99.242273\n",
       "1             True   Known  74885       75796             98.798090\n",
       "2             True     NIC  20961       21324             98.297693\n",
       "3             True     NNC  13254       14250             93.010526"
      ]
     },
     "execution_count": 104,
     "metadata": {},
     "output_type": "execute_result"
    }
   ],
   "source": [
    "# only fully supported\n",
    "temp = temp.loc[temp.fully_supported==True]\n",
    "temp = temp.merge(temp2, how='left', on='novelty')\n",
    "temp['perc_fully_supported'] = (temp.n_ic/temp.n_total_ic)*100\n",
    "temp"
   ]
  },
  {
   "cell_type": "code",
   "execution_count": 105,
   "id": "415127af-4cdc-4407-971a-028fa0f6ee67",
   "metadata": {},
   "outputs": [
    {
     "data": {
      "image/png": "[encoded data removed]",
      "text/plain": [
       "<Figure size 432x288 with 1 Axes>"
      ]
     },
     "metadata": {
      "needs_background": "light"
     },
     "output_type": "display_data"
    }
   ],
   "source": [
    "c_dict, order = get_ic_nov_colors(cats=temp.novelty.unique().tolist())\n",
    "sns.set_context('paper', font_scale=2)\n",
    "\n",
    "def add_n(ax, n, i):\n",
    "    ylim = ax.get_ylim()[1]\n",
    "    n_cats = len(ax.patches)\n",
    "    for j, p in enumerate(ax.patches):\n",
    "        if i != j:\n",
    "            continue\n",
    "        label = f'n={n:,}'\n",
    "        perc = p.get_height()\n",
    "        x = p.get_x() + p.get_width() / 2 - (0.1)*n_cats\n",
    "        # y = p.get_y() + p.get_height() + ylim*0.04\n",
    "        y = ylim\n",
    "        ax.annotate(label, (x, y), size = 14)\n",
    "            \n",
    "ax = sns.barplot(temp, x='novelty', y='perc_fully_supported',\n",
    "            palette=c_dict, saturation=1, order=order)\n",
    "ax.spines['right'].set_visible(False)\n",
    "ax.spines['top'].set_visible(False)\n",
    "ylabel = f'% of ECs with SSs fully\\nsupported by Intropolis'\n",
    "_ = ax.set(ylabel=ylabel, xlabel='')c\n",
    "for i, c in enumerate(order):\n",
    "    temp2 = temp.loc[temp.novelty==c]\n",
    "    n = temp2.n_ic.values[0]\n",
    "    add_n(ax, n, i)"
   ]
  },
  {
   "cell_type": "markdown",
   "id": "093b150b-c4ad-40a2-9b2f-dabc9256aa37",
   "metadata": {},
   "source": [
    "## What % of novel splice sites from detected ics that we call are supported by intropolis?"
   ]
  },
  {
   "cell_type": "code",
   "execution_count": 106,
   "id": "821dd74f-d539-4132-a103-3dd0f99a5d1a",
   "metadata": {},
   "outputs": [
    {
     "name": "stdout",
     "output_type": "stream",
     "text": [
      "1915930\n",
      "32361795\n"
     ]
    }
   ],
   "source": [
    "det_sss = ss_ic_df.loc[ss_ic_df.Name.isin(ic_ids)]\n",
    "\n",
    "# whether these sjs were detected in intropolis\n",
    "print(len(det_sss))\n",
    "det_sss = det_sss.merge(df[['gene_id', 'Chromosome', 'Start', 'ss_type', 'Strand', 'intropolis']], \n",
    "                               on=['gene_id', 'Chromosome', 'Start', 'ss_type', 'Strand'],\n",
    "                               how='left')\n",
    "print(len(det_sss))"
   ]
  },
  {
   "cell_type": "code",
   "execution_count": 107,
   "id": "5274127f-644b-4507-91d5-e81b819c0e76",
   "metadata": {},
   "outputs": [
    {
     "data": {
      "text/html": [
       "<div>\n",
       "<style scoped>\n",
       "    .dataframe tbody tr th:only-of-type {\n",
       "        vertical-align: middle;\n",
       "    }\n",
       "\n",
       "    .dataframe tbody tr th {\n",
       "        vertical-align: top;\n",
       "    }\n",
       "\n",
       "    .dataframe thead th {\n",
       "        text-align: right;\n",
       "    }\n",
       "</style>\n",
       "<table border=\"1\" class=\"dataframe\">\n",
       "  <thead>\n",
       "    <tr style=\"text-align: right;\">\n",
       "      <th></th>\n",
       "      <th>fully_supported</th>\n",
       "      <th>novelty</th>\n",
       "      <th>n_ic</th>\n",
       "      <th>n_total_ic</th>\n",
       "      <th>perc_fully_supported</th>\n",
       "    </tr>\n",
       "  </thead>\n",
       "  <tbody>\n",
       "    <tr>\n",
       "      <th>0</th>\n",
       "      <td>True</td>\n",
       "      <td>ISM</td>\n",
       "      <td>9954</td>\n",
       "      <td>10030</td>\n",
       "      <td>99.242273</td>\n",
       "    </tr>\n",
       "    <tr>\n",
       "      <th>1</th>\n",
       "      <td>True</td>\n",
       "      <td>Known</td>\n",
       "      <td>74885</td>\n",
       "      <td>75796</td>\n",
       "      <td>98.798090</td>\n",
       "    </tr>\n",
       "    <tr>\n",
       "      <th>2</th>\n",
       "      <td>True</td>\n",
       "      <td>NIC</td>\n",
       "      <td>20961</td>\n",
       "      <td>21324</td>\n",
       "      <td>98.297693</td>\n",
       "    </tr>\n",
       "    <tr>\n",
       "      <th>3</th>\n",
       "      <td>True</td>\n",
       "      <td>NNC</td>\n",
       "      <td>13254</td>\n",
       "      <td>14250</td>\n",
       "      <td>93.010526</td>\n",
       "    </tr>\n",
       "  </tbody>\n",
       "</table>\n",
       "</div>"
      ],
      "text/plain": [
       "   fully_supported novelty   n_ic  n_total_ic  perc_fully_supported\n",
       "0             True     ISM   9954       10030             99.242273\n",
       "1             True   Known  74885       75796             98.798090\n",
       "2             True     NIC  20961       21324             98.297693\n",
       "3             True     NNC  13254       14250             93.010526"
      ]
     },
     "execution_count": 107,
     "metadata": {},
     "output_type": "execute_result"
    }
   ],
   "source": [
    "temp"
   ]
  },
  {
   "cell_type": "code",
   "execution_count": 108,
   "id": "ed20b0be-4f88-489f-952d-c68bd7b444ac",
   "metadata": {},
   "outputs": [
    {
     "data": {
      "image/png": "[encoded data removed]",
      "text/plain": [
       "<Figure size 432x288 with 1 Axes>"
      ]
     },
     "metadata": {
      "needs_background": "light"
     },
     "output_type": "display_data"
    }
   ],
   "source": [
    "temp = det_sss[['intropolis', 'novelty', 'Start']].groupby(['intropolis', 'novelty']).count().reset_index().rename({'Start':'count'}, axis=1)\n",
    "sns.set_context('paper', font_scale=2)\n",
    "\n",
    "def get_nov_colors(cats=None):\n",
    "    c_dict = {'Known': '#009E73',\n",
    "              'Novel': '#D55E00'}\n",
    "    order = ['Known', 'Novel']\n",
    "\n",
    "    c_dict, order = rm_color_cats(c_dict, order, cats)\n",
    "    return c_dict, order\n",
    "\n",
    "c_dict, order = get_nov_colors(cats=temp.novelty.unique().tolist())\n",
    "temp['novelty'] = temp['novelty'].astype('category')\n",
    "temp['novelty'] = temp['novelty'].cat.reorder_categories(order, ordered=True)\n",
    "cats = [True, False]\n",
    "temp['intropolis'] = temp['intropolis'].astype('category')\n",
    "temp['intropolis'] = temp['intropolis'].cat.reorder_categories(cats, ordered=True)\n",
    "\n",
    "ax = sns.barplot(data=temp, \n",
    "            x='novelty',\n",
    "            hue='intropolis',\n",
    "            y='count',\n",
    "            hue_order=cats,\n",
    "            saturation=1)\n",
    "ax.spines['right'].set_visible(False)\n",
    "ax.spines['top'].set_visible(False)\n",
    "ax.set_yscale('log')\n",
    "ax.legend().set_title('Supported by Intropolis')\n",
    "ax.set(ylabel='# SSs', xlabel='')\n",
    "\n",
    "for bar_group, cat in zip(ax.containers, cats):\n",
    "    for bar, cat2 in zip(bar_group, order):\n",
    "        c = c_dict[cat2]\n",
    "        c_dict_2, order_2 = get_shade_colors(c, cats)\n",
    "        bar.set_facecolor(c_dict_2[cat])"
   ]
  },
  {
   "cell_type": "code",
   "execution_count": null,
   "id": "bf65be6c-5653-4d8a-aaed-622c93879f83",
   "metadata": {},
   "outputs": [],
   "source": []
  },
  {
   "cell_type": "code",
   "execution_count": null,
   "id": "30b0e6ff-6c8a-4a5c-b63e-ec1b093ca99f",
   "metadata": {},
   "outputs": [],
   "source": []
  }
 ],
 "metadata": {
  "kernelspec": {
   "display_name": "Python 3",
   "language": "python",
   "name": "python3"
  },
  "language_info": {
   "codemirror_mode": {
    "name": "ipython",
    "version": 3
   },
   "file_extension": ".py",
   "mimetype": "text/x-python",
   "name": "python",
   "nbconvert_exporter": "python",
   "pygments_lexer": "ipython3",
   "version": "3.7.12"
  }
 },
 "nbformat": 4,
 "nbformat_minor": 5
}
