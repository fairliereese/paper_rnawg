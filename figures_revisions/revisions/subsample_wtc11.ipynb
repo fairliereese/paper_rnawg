{
 "cells": [
  {
   "cell_type": "code",
   "execution_count": 1,
   "id": "54bf5536-274d-44e7-b184-6bb9f9dd87ce",
   "metadata": {},
   "outputs": [],
   "source": [
    "import pandas as pd\n",
    "import numpy as np\n",
    "import scipy.stats as st\n",
    "import seaborn as sns\n",
    "import sys\n",
    "import os\n",
    "import gseapy as gp\n",
    "import matplotlib.pyplot as plt\n",
    "import swan_vis as swan\n",
    "import yaml\n",
    "from snakemake.io import expand\n",
    "\n",
    "p = os.path.dirname(os.path.dirname(os.getcwd()))\n",
    "sys.path.append(p)\n",
    "\n",
    "from proc_revisions.utils import *\n",
    "from proc_revisions.plotting import *"
   ]
  },
  {
   "cell_type": "code",
   "execution_count": 2,
   "id": "289dea75-0c08-44fb-a713-9eed822e3ad2",
   "metadata": {},
   "outputs": [],
   "source": [
    "od = '../../proc_revisions/'\n",
    "config_file = f'{od}/config.yml'\n",
    "with open(config_file) as f:\n",
    "    config = yaml.safe_load(f)"
   ]
  },
  {
   "cell_type": "code",
   "execution_count": 3,
   "id": "2d4f0a63-793e-4e6c-be94-409108411627",
   "metadata": {},
   "outputs": [],
   "source": [
    "ab = od+expand(config['lr']['talon']['fusion_fix']['ab'], species='human')[0]\n",
    "filt_ab = od+expand(config['lr']['cerberus']['filt_ab'], species='human')[0]\n",
    "read_annot = od+expand(config['lr']['talon']['full_annot'], species='human')[0]\n",
    "t_metadata = od+expand(config['ref']['cerberus']['new_gtf_t_info'], species='human')[0]\n",
    "lib_meta = od+expand(config['lr']['meta'], species='human')[0]\n",
    "swan_file = od+expand(config['lr']['swan']['sg'], species='human')[0]\n",
    "cerberus_h5 = od+expand(config['lr']['cerberus']['ca_triplets'], species='human', obs_col='sample')[0]\n",
    "cerb_t_metadata = od+expand(config['lr']['cerberus']['gtf_t_info'], species='human')[0]\n",
    "major_isos = od+expand(config['lr']['analysis']['major_isos'], species='human', obs_col='sample')[0]\n",
    "pi_tpm_table = od+expand(config['lr']['mane']['pi_tpm']['triplet'], species='human', obs_col='sample')[0]\n",
    "\n",
    "ref_t_metadata = od+expand(config['ref']['new_gtf_t_info'], species='human')[0]\n",
    "ref_g_metadata = od+expand(config['ref']['new_gtf_g_info'], species='human')[0]\n",
    "read_annot = od+expand(config['lr']['talon']['full_annot'], species='human')[0]\n",
    "\n",
    "# pp_summary = '../'+expand(config['data']['p_pred']['summary'], species='human')[0]\n",
    "\n",
    "ver = 'v40_cerberus'\n",
    "min_tpm = 1\n",
    "gene_subset = 'polya'\n",
    "obs_col = 'sample'\n",
    "go_gene_subset = 'protein_coding'\n",
    "predom_iso_subset = 'protein_coding'\n",
    "\n",
    "m_lib_meta = od+expand(config['lr']['meta'], species='mouse')[0]"
   ]
  },
  {
   "cell_type": "markdown",
   "id": "344357bf-327e-4461-a454-b332889ca45a",
   "metadata": {},
   "source": [
    "## some "
   ]
  },
  {
   "cell_type": "code",
   "execution_count": null,
   "id": "84e00c5c-e668-4248-8c33-92d69c025004",
   "metadata": {},
   "outputs": [],
   "source": [
    "subsample_depths = [.1, .15, .2, .4, .6, .8, .9, 1]\n",
    "fake_"
   ]
  },
  {
   "cell_type": "code",
   "execution_count": 54,
   "id": "2ef4f2d3-ef69-4ac8-aa3c-37e811f76dc8",
   "metadata": {},
   "outputs": [
    {
     "data": {
      "text/plain": [
       "1.0"
      ]
     },
     "execution_count": 54,
     "metadata": {},
     "output_type": "execute_result"
    }
   ],
   "source": [
    "5000000/5000000"
   ]
  },
  {
   "cell_type": "code",
   "execution_count": null,
   "id": "45aa1449-572d-4ffc-993f-b28923295894",
   "metadata": {},
   "outputs": [],
   "source": []
  },
  {
   "cell_type": "code",
   "execution_count": null,
   "id": "fa6a6d61-b942-4e77-b753-bc8aea3ff179",
   "metadata": {},
   "outputs": [],
   "source": []
  },
  {
   "cell_type": "code",
   "execution_count": null,
   "id": "8b6bc812-a852-43e9-a442-dd9f40d4427a",
   "metadata": {},
   "outputs": [],
   "source": []
  },
  {
   "cell_type": "markdown",
   "id": "68409d29-137a-4e45-8792-faf63becb078",
   "metadata": {},
   "source": [
    "## also dev for transcript (filtered) level"
   ]
  },
  {
   "cell_type": "code",
   "execution_count": 28,
   "id": "8409c883-85d6-4ff8-a7d1-387cd0bcae49",
   "metadata": {},
   "outputs": [],
   "source": [
    "sample_depth = .5"
   ]
  },
  {
   "cell_type": "code",
   "execution_count": 4,
   "id": "9f2d06aa-57d1-4343-82ea-dbc5d8f41dd6",
   "metadata": {},
   "outputs": [],
   "source": [
    "df = pd.read_csv(filt_ab, sep='\\t')"
   ]
  },
  {
   "cell_type": "code",
   "execution_count": 6,
   "id": "4e0a9cf9-31af-4ca3-b55b-b9d384200d2f",
   "metadata": {},
   "outputs": [
    {
     "data": {
      "text/html": [
       "<div>\n",
       "<style scoped>\n",
       "    .dataframe tbody tr th:only-of-type {\n",
       "        vertical-align: middle;\n",
       "    }\n",
       "\n",
       "    .dataframe tbody tr th {\n",
       "        vertical-align: top;\n",
       "    }\n",
       "\n",
       "    .dataframe thead th {\n",
       "        text-align: right;\n",
       "    }\n",
       "</style>\n",
       "<table border=\"1\" class=\"dataframe\">\n",
       "  <thead>\n",
       "    <tr style=\"text-align: right;\">\n",
       "      <th></th>\n",
       "      <th>annot_transcript_id</th>\n",
       "      <th>wtc11_1_3</th>\n",
       "      <th>wtc11_1_2</th>\n",
       "      <th>wtc11_1_1</th>\n",
       "    </tr>\n",
       "  </thead>\n",
       "  <tbody>\n",
       "    <tr>\n",
       "      <th>0</th>\n",
       "      <td>ENSG00000000003[1,1,1]</td>\n",
       "      <td>6</td>\n",
       "      <td>0</td>\n",
       "      <td>8</td>\n",
       "    </tr>\n",
       "    <tr>\n",
       "      <th>1</th>\n",
       "      <td>ENSG00000000003[1,1,5]</td>\n",
       "      <td>47</td>\n",
       "      <td>26</td>\n",
       "      <td>38</td>\n",
       "    </tr>\n",
       "    <tr>\n",
       "      <th>2</th>\n",
       "      <td>ENSG00000000003[1,1,6]</td>\n",
       "      <td>0</td>\n",
       "      <td>2</td>\n",
       "      <td>1</td>\n",
       "    </tr>\n",
       "    <tr>\n",
       "      <th>3</th>\n",
       "      <td>ENSG00000000003[1,1,7]</td>\n",
       "      <td>173</td>\n",
       "      <td>67</td>\n",
       "      <td>112</td>\n",
       "    </tr>\n",
       "    <tr>\n",
       "      <th>4</th>\n",
       "      <td>ENSG00000000003[1,1,8]</td>\n",
       "      <td>72</td>\n",
       "      <td>51</td>\n",
       "      <td>47</td>\n",
       "    </tr>\n",
       "  </tbody>\n",
       "</table>\n",
       "</div>"
      ],
      "text/plain": [
       "      annot_transcript_id  wtc11_1_3  wtc11_1_2  wtc11_1_1\n",
       "0  ENSG00000000003[1,1,1]          6          0          8\n",
       "1  ENSG00000000003[1,1,5]         47         26         38\n",
       "2  ENSG00000000003[1,1,6]          0          2          1\n",
       "3  ENSG00000000003[1,1,7]        173         67        112\n",
       "4  ENSG00000000003[1,1,8]         72         51         47"
      ]
     },
     "execution_count": 6,
     "metadata": {},
     "output_type": "execute_result"
    }
   ],
   "source": [
    "# limit to just wtc11 \n",
    "wtc11_cols = ['wtc11_1_3', 'wtc11_1_2', 'wtc11_1_1']\n",
    "df = df[['annot_transcript_id']+wtc11_cols]\n",
    "df.head()"
   ]
  },
  {
   "cell_type": "code",
   "execution_count": 7,
   "id": "72236858-1b11-4ff8-98e3-ffc5dc45d52a",
   "metadata": {},
   "outputs": [
    {
     "data": {
      "text/plain": [
       "4990973"
      ]
     },
     "execution_count": 7,
     "metadata": {},
     "output_type": "execute_result"
    }
   ],
   "source": [
    "df.set_index('annot_transcript_id').sum(axis=1).sum(axis=0)"
   ]
  },
  {
   "cell_type": "code",
   "execution_count": 11,
   "id": "a8010c9a-c653-46e1-b3f4-3d5a4cd4ec7f",
   "metadata": {},
   "outputs": [
    {
     "data": {
      "text/html": [
       "<div>\n",
       "<style scoped>\n",
       "    .dataframe tbody tr th:only-of-type {\n",
       "        vertical-align: middle;\n",
       "    }\n",
       "\n",
       "    .dataframe tbody tr th {\n",
       "        vertical-align: top;\n",
       "    }\n",
       "\n",
       "    .dataframe thead th {\n",
       "        text-align: right;\n",
       "    }\n",
       "</style>\n",
       "<table border=\"1\" class=\"dataframe\">\n",
       "  <thead>\n",
       "    <tr style=\"text-align: right;\">\n",
       "      <th></th>\n",
       "      <th>annot_transcript_id</th>\n",
       "      <th>dataset</th>\n",
       "      <th>counts</th>\n",
       "    </tr>\n",
       "  </thead>\n",
       "  <tbody>\n",
       "    <tr>\n",
       "      <th>0</th>\n",
       "      <td>ENSG00000000003[1,1,1]</td>\n",
       "      <td>wtc11_1_3</td>\n",
       "      <td>6</td>\n",
       "    </tr>\n",
       "    <tr>\n",
       "      <th>1</th>\n",
       "      <td>ENSG00000000003[1,1,5]</td>\n",
       "      <td>wtc11_1_3</td>\n",
       "      <td>47</td>\n",
       "    </tr>\n",
       "    <tr>\n",
       "      <th>2</th>\n",
       "      <td>ENSG00000000003[1,1,6]</td>\n",
       "      <td>wtc11_1_3</td>\n",
       "      <td>0</td>\n",
       "    </tr>\n",
       "    <tr>\n",
       "      <th>3</th>\n",
       "      <td>ENSG00000000003[1,1,7]</td>\n",
       "      <td>wtc11_1_3</td>\n",
       "      <td>173</td>\n",
       "    </tr>\n",
       "    <tr>\n",
       "      <th>4</th>\n",
       "      <td>ENSG00000000003[1,1,8]</td>\n",
       "      <td>wtc11_1_3</td>\n",
       "      <td>72</td>\n",
       "    </tr>\n",
       "  </tbody>\n",
       "</table>\n",
       "</div>"
      ],
      "text/plain": [
       "      annot_transcript_id    dataset  counts\n",
       "0  ENSG00000000003[1,1,1]  wtc11_1_3       6\n",
       "1  ENSG00000000003[1,1,5]  wtc11_1_3      47\n",
       "2  ENSG00000000003[1,1,6]  wtc11_1_3       0\n",
       "3  ENSG00000000003[1,1,7]  wtc11_1_3     173\n",
       "4  ENSG00000000003[1,1,8]  wtc11_1_3      72"
      ]
     },
     "execution_count": 11,
     "metadata": {},
     "output_type": "execute_result"
    }
   ],
   "source": [
    "df = pd.melt(df, id_vars='annot_transcript_id', var_name='dataset', value_name='counts')\n",
    "df.head()"
   ]
  },
  {
   "cell_type": "code",
   "execution_count": 21,
   "id": "5b7e9a13-796e-4eae-912c-7c24c47a2f93",
   "metadata": {},
   "outputs": [],
   "source": [
    "reads = []\n",
    "tids = []\n",
    "datasets = []\n",
    "for ind, entry in df.iterrows():\n",
    "    counts = entry.counts\n",
    "    \n",
    "    tid = [entry.annot_transcript_id for i in range(counts)]\n",
    "    dataset = [entry.dataset for i in range(counts)]\n",
    "    \n",
    "    tids += tid\n",
    "    datasets += dataset"
   ]
  },
  {
   "cell_type": "code",
   "execution_count": 26,
   "id": "145b8085-638e-4bcd-a485-115a442a4d13",
   "metadata": {},
   "outputs": [],
   "source": [
    "temp = pd.DataFrame()\n",
    "temp['annot_transcript_id'] = tids\n",
    "temp['dataset'] = datasets"
   ]
  },
  {
   "cell_type": "code",
   "execution_count": 27,
   "id": "21daaba5-0d19-4eb6-87ea-9cd7fd09c3f3",
   "metadata": {},
   "outputs": [
    {
     "data": {
      "text/plain": [
       "4990973"
      ]
     },
     "execution_count": 27,
     "metadata": {},
     "output_type": "execute_result"
    }
   ],
   "source": [
    "len(temp.index)"
   ]
  },
  {
   "cell_type": "code",
   "execution_count": 29,
   "id": "e2c0749b-8477-450b-a4c4-0fa1ea45a93d",
   "metadata": {},
   "outputs": [],
   "source": [
    "# sample to target depth\n",
    "sample_df = temp.sample(frac=sample_depth,\n",
    "                      replace=False)"
   ]
  },
  {
   "cell_type": "code",
   "execution_count": 36,
   "id": "7d422953-dae1-4945-a7c9-11373fb24517",
   "metadata": {},
   "outputs": [],
   "source": [
    "len(sample_df.index)\n",
    "sample_df['read_name'] = sample_df.index"
   ]
  },
  {
   "cell_type": "code",
   "execution_count": 40,
   "id": "50ee6b1f-7e56-4412-8a42-0327f0b828db",
   "metadata": {},
   "outputs": [],
   "source": [
    "def read_annot_to_counts(df):\n",
    "    \"\"\"\n",
    "    Convert a long-form (one row = one read)\n",
    "    read_annot style dataframe to a counts matrix \n",
    "    \"\"\"\n",
    "    # compute transcript counts from the sampled df\n",
    "    temp = df.copy(deep=True)\n",
    "    temp = temp.groupby(['dataset', 'annot_transcript_id']).count().reset_index()\n",
    "    temp.set_index('annot_transcript_id', inplace=True)\n",
    "    temp = temp.pivot(columns='dataset', values='read_name') \n",
    "    temp.columns.name = ''\n",
    "    temp.fillna(0, inplace=True)\n",
    "    temp.reset_index(inplace=True)\n",
    "    return temp"
   ]
  },
  {
   "cell_type": "code",
   "execution_count": 45,
   "id": "fe684fb2-fa34-4c7a-8751-549484b1fa1b",
   "metadata": {},
   "outputs": [
    {
     "data": {
      "text/html": [
       "<div>\n",
       "<style scoped>\n",
       "    .dataframe tbody tr th:only-of-type {\n",
       "        vertical-align: middle;\n",
       "    }\n",
       "\n",
       "    .dataframe tbody tr th {\n",
       "        vertical-align: top;\n",
       "    }\n",
       "\n",
       "    .dataframe thead th {\n",
       "        text-align: right;\n",
       "    }\n",
       "</style>\n",
       "<table border=\"1\" class=\"dataframe\">\n",
       "  <thead>\n",
       "    <tr style=\"text-align: right;\">\n",
       "      <th></th>\n",
       "      <th>annot_transcript_id</th>\n",
       "      <th>wtc11_1_1</th>\n",
       "      <th>wtc11_1_2</th>\n",
       "      <th>wtc11_1_3</th>\n",
       "    </tr>\n",
       "  </thead>\n",
       "  <tbody>\n",
       "    <tr>\n",
       "      <th>0</th>\n",
       "      <td>ENSG00000000003[1,1,1]</td>\n",
       "      <td>2.0</td>\n",
       "      <td>0.0</td>\n",
       "      <td>3.0</td>\n",
       "    </tr>\n",
       "    <tr>\n",
       "      <th>1</th>\n",
       "      <td>ENSG00000000003[1,1,5]</td>\n",
       "      <td>29.0</td>\n",
       "      <td>11.0</td>\n",
       "      <td>21.0</td>\n",
       "    </tr>\n",
       "    <tr>\n",
       "      <th>2</th>\n",
       "      <td>ENSG00000000003[1,1,7]</td>\n",
       "      <td>53.0</td>\n",
       "      <td>41.0</td>\n",
       "      <td>98.0</td>\n",
       "    </tr>\n",
       "    <tr>\n",
       "      <th>3</th>\n",
       "      <td>ENSG00000000003[1,1,8]</td>\n",
       "      <td>25.0</td>\n",
       "      <td>33.0</td>\n",
       "      <td>37.0</td>\n",
       "    </tr>\n",
       "    <tr>\n",
       "      <th>4</th>\n",
       "      <td>ENSG00000000003[1,10,5]</td>\n",
       "      <td>3.0</td>\n",
       "      <td>0.0</td>\n",
       "      <td>1.0</td>\n",
       "    </tr>\n",
       "  </tbody>\n",
       "</table>\n",
       "</div>"
      ],
      "text/plain": [
       "       annot_transcript_id  wtc11_1_1  wtc11_1_2  wtc11_1_3\n",
       "0   ENSG00000000003[1,1,1]        2.0        0.0        3.0\n",
       "1   ENSG00000000003[1,1,5]       29.0       11.0       21.0\n",
       "2   ENSG00000000003[1,1,7]       53.0       41.0       98.0\n",
       "3   ENSG00000000003[1,1,8]       25.0       33.0       37.0\n",
       "4  ENSG00000000003[1,10,5]        3.0        0.0        1.0"
      ]
     },
     "execution_count": 45,
     "metadata": {},
     "output_type": "execute_result"
    }
   ],
   "source": [
    "df = read_annot_to_counts(sample_df)\n",
    "df.head()\n"
   ]
  },
  {
   "cell_type": "code",
   "execution_count": 46,
   "id": "669a8902-a8a3-4faf-b0ad-54b38c060746",
   "metadata": {},
   "outputs": [],
   "source": [
    "def add_ab_metdata(df, \n",
    "                   ab):\n",
    "    \"\"\"\n",
    "    Add in gene and transcript metadata from a talon-style \n",
    "    abundance matrix\n",
    "    \"\"\"\n",
    "    # merge in the transcript / gene info from the abundance file\n",
    "    ab_df = pd.read_csv(ab, sep='\\t')\n",
    "    non_dataset_columns = ['gene_ID', 'transcript_ID', 'annot_gene_id',\n",
    "                       'annot_transcript_id', 'annot_gene_name',\n",
    "                       'annot_transcript_name', 'n_exons', 'length',\n",
    "                       'gene_novelty', 'transcript_novelty', 'ISM_subtype']\n",
    "    ab_df = ab_df[non_dataset_columns]\n",
    "    df = df.merge(ab_df, how='left', on='annot_transcript_id')\n",
    "    return df"
   ]
  },
  {
   "cell_type": "code",
   "execution_count": 47,
   "id": "693fc3e6-b562-417b-b8b9-962b577837a4",
   "metadata": {},
   "outputs": [],
   "source": [
    "df = add_ab_metdata(df, filt_ab)\n"
   ]
  },
  {
   "cell_type": "code",
   "execution_count": 48,
   "id": "78a21b28-be23-4113-b81f-3a10f5097710",
   "metadata": {},
   "outputs": [
    {
     "data": {
      "text/html": [
       "<div>\n",
       "<style scoped>\n",
       "    .dataframe tbody tr th:only-of-type {\n",
       "        vertical-align: middle;\n",
       "    }\n",
       "\n",
       "    .dataframe tbody tr th {\n",
       "        vertical-align: top;\n",
       "    }\n",
       "\n",
       "    .dataframe thead th {\n",
       "        text-align: right;\n",
       "    }\n",
       "</style>\n",
       "<table border=\"1\" class=\"dataframe\">\n",
       "  <thead>\n",
       "    <tr style=\"text-align: right;\">\n",
       "      <th></th>\n",
       "      <th>annot_transcript_id</th>\n",
       "      <th>wtc11_1_1</th>\n",
       "      <th>wtc11_1_2</th>\n",
       "      <th>wtc11_1_3</th>\n",
       "      <th>gene_ID</th>\n",
       "      <th>transcript_ID</th>\n",
       "      <th>annot_gene_id</th>\n",
       "      <th>annot_gene_name</th>\n",
       "      <th>annot_transcript_name</th>\n",
       "      <th>n_exons</th>\n",
       "      <th>length</th>\n",
       "      <th>gene_novelty</th>\n",
       "      <th>transcript_novelty</th>\n",
       "      <th>ISM_subtype</th>\n",
       "    </tr>\n",
       "  </thead>\n",
       "  <tbody>\n",
       "    <tr>\n",
       "      <th>0</th>\n",
       "      <td>ENSG00000000003[1,1,1]</td>\n",
       "      <td>2.0</td>\n",
       "      <td>0.0</td>\n",
       "      <td>3.0</td>\n",
       "      <td>57105</td>\n",
       "      <td>202958</td>\n",
       "      <td>ENSG00000000003.14</td>\n",
       "      <td>TSPAN6</td>\n",
       "      <td>TSPAN6[1,1,1]</td>\n",
       "      <td>8.0</td>\n",
       "      <td>2206.0</td>\n",
       "      <td>Known</td>\n",
       "      <td>Known</td>\n",
       "      <td>NaN</td>\n",
       "    </tr>\n",
       "    <tr>\n",
       "      <th>1</th>\n",
       "      <td>ENSG00000000003[1,1,5]</td>\n",
       "      <td>29.0</td>\n",
       "      <td>11.0</td>\n",
       "      <td>21.0</td>\n",
       "      <td>57105</td>\n",
       "      <td>202958,202958</td>\n",
       "      <td>ENSG00000000003.14</td>\n",
       "      <td>TSPAN6</td>\n",
       "      <td>TSPAN6[1,1,5]</td>\n",
       "      <td>8.0</td>\n",
       "      <td>2206.0</td>\n",
       "      <td>Known</td>\n",
       "      <td>Known</td>\n",
       "      <td>NaN</td>\n",
       "    </tr>\n",
       "    <tr>\n",
       "      <th>2</th>\n",
       "      <td>ENSG00000000003[1,1,7]</td>\n",
       "      <td>53.0</td>\n",
       "      <td>41.0</td>\n",
       "      <td>98.0</td>\n",
       "      <td>57105</td>\n",
       "      <td>202958</td>\n",
       "      <td>ENSG00000000003.14</td>\n",
       "      <td>TSPAN6</td>\n",
       "      <td>TSPAN6[1,1,7]</td>\n",
       "      <td>8.0</td>\n",
       "      <td>2206.0</td>\n",
       "      <td>Known</td>\n",
       "      <td>Known</td>\n",
       "      <td>NaN</td>\n",
       "    </tr>\n",
       "    <tr>\n",
       "      <th>3</th>\n",
       "      <td>ENSG00000000003[1,1,8]</td>\n",
       "      <td>25.0</td>\n",
       "      <td>33.0</td>\n",
       "      <td>37.0</td>\n",
       "      <td>57105</td>\n",
       "      <td>202958</td>\n",
       "      <td>ENSG00000000003.14</td>\n",
       "      <td>TSPAN6</td>\n",
       "      <td>TSPAN6[1,1,8]</td>\n",
       "      <td>8.0</td>\n",
       "      <td>2206.0</td>\n",
       "      <td>Known</td>\n",
       "      <td>Known</td>\n",
       "      <td>NaN</td>\n",
       "    </tr>\n",
       "    <tr>\n",
       "      <th>4</th>\n",
       "      <td>ENSG00000000003[1,10,5]</td>\n",
       "      <td>3.0</td>\n",
       "      <td>0.0</td>\n",
       "      <td>1.0</td>\n",
       "      <td>57105</td>\n",
       "      <td>490452</td>\n",
       "      <td>ENSG00000000003.14</td>\n",
       "      <td>TSPAN6</td>\n",
       "      <td>TSPAN6[1,10,5]</td>\n",
       "      <td>7.0</td>\n",
       "      <td>3542.0</td>\n",
       "      <td>Known</td>\n",
       "      <td>NIC</td>\n",
       "      <td>NaN</td>\n",
       "    </tr>\n",
       "  </tbody>\n",
       "</table>\n",
       "</div>"
      ],
      "text/plain": [
       "       annot_transcript_id  wtc11_1_1  wtc11_1_2  wtc11_1_3  gene_ID  \\\n",
       "0   ENSG00000000003[1,1,1]        2.0        0.0        3.0    57105   \n",
       "1   ENSG00000000003[1,1,5]       29.0       11.0       21.0    57105   \n",
       "2   ENSG00000000003[1,1,7]       53.0       41.0       98.0    57105   \n",
       "3   ENSG00000000003[1,1,8]       25.0       33.0       37.0    57105   \n",
       "4  ENSG00000000003[1,10,5]        3.0        0.0        1.0    57105   \n",
       "\n",
       "   transcript_ID       annot_gene_id annot_gene_name annot_transcript_name  \\\n",
       "0         202958  ENSG00000000003.14          TSPAN6         TSPAN6[1,1,1]   \n",
       "1  202958,202958  ENSG00000000003.14          TSPAN6         TSPAN6[1,1,5]   \n",
       "2         202958  ENSG00000000003.14          TSPAN6         TSPAN6[1,1,7]   \n",
       "3         202958  ENSG00000000003.14          TSPAN6         TSPAN6[1,1,8]   \n",
       "4         490452  ENSG00000000003.14          TSPAN6        TSPAN6[1,10,5]   \n",
       "\n",
       "   n_exons  length gene_novelty transcript_novelty ISM_subtype  \n",
       "0      8.0  2206.0        Known              Known         NaN  \n",
       "1      8.0  2206.0        Known              Known         NaN  \n",
       "2      8.0  2206.0        Known              Known         NaN  \n",
       "3      8.0  2206.0        Known              Known         NaN  \n",
       "4      7.0  3542.0        Known                NIC         NaN  "
      ]
     },
     "execution_count": 48,
     "metadata": {},
     "output_type": "execute_result"
    }
   ],
   "source": [
    "df.head()"
   ]
  },
  {
   "cell_type": "code",
   "execution_count": 32,
   "id": "151a15a7-6be4-4900-8058-511679e40116",
   "metadata": {},
   "outputs": [],
   "source": [
    "# # compute transcript counts from the read annot\n",
    "# temp = sample_df.copy(deep=True)\n",
    "# temp = temp.groupby(['dataset', 'annot_transcript_id']).count().reset_index()\n",
    "# temp.set_index('annot_transcript_id', inplace=True)\n",
    "# temp = temp.pivot(columns='dataset', values='read_name') \n",
    "# temp.columns.name = ''\n",
    "# temp.reset_index(inplace=True)"
   ]
  },
  {
   "cell_type": "code",
   "execution_count": null,
   "id": "0384b3fb-cf41-4bad-841f-a75fce1c0f7e",
   "metadata": {},
   "outputs": [],
   "source": []
  },
  {
   "cell_type": "code",
   "execution_count": null,
   "id": "cbe368f7-0ed1-4424-a64b-e254f60b32b2",
   "metadata": {},
   "outputs": [],
   "source": []
  },
  {
   "cell_type": "code",
   "execution_count": null,
   "id": "ec99bbbc-677a-4d5d-86c9-52a7f7b1e767",
   "metadata": {},
   "outputs": [],
   "source": []
  },
  {
   "cell_type": "code",
   "execution_count": null,
   "id": "98c6872c-c36b-48f6-b8aa-1968a33d3938",
   "metadata": {},
   "outputs": [],
   "source": []
  },
  {
   "cell_type": "code",
   "execution_count": 4,
   "id": "607046c6-1149-4071-8ba0-a64e986d55e8",
   "metadata": {},
   "outputs": [
    {
     "name": "stdout",
     "output_type": "stream",
     "text": [
      "[500000, 750000.0, 1000000, 2000000, 3000000, 4000000, 5000000, 5000000, 6542794]\n"
     ]
    }
   ],
   "source": [
    "sample_depths = [5*10**5, 7.5*10**5, 10**6,\n",
    "                 2*10**6, 3*10**6, 4*10**6, 5*10**6,\n",
    "                 5*10**6, 6542794]\n",
    "print(sample_depths)\n",
    "depth = sample_depths[0]\n",
    "depth\n",
    "min_tpm = 1"
   ]
  },
  {
   "cell_type": "code",
   "execution_count": 14,
   "id": "5b402f4c-957f-4907-8749-2effcfef7a11",
   "metadata": {},
   "outputs": [],
   "source": [
    "# read in the gene id, transcript id, dataset, and the read name from the read annot\n",
    "df = pd.read_csv(read_annot, sep='\\t', \n",
    "                 usecols=[0,1,11,12])"
   ]
  },
  {
   "cell_type": "code",
   "execution_count": 17,
   "id": "ea68652e-cc9f-42ca-9cca-e5dea727ddb0",
   "metadata": {},
   "outputs": [],
   "source": [
    "# limit to just the wtc11 datasets\n",
    "wtc11_cols = ['wtc11_1_3', 'wtc11_1_2', 'wtc11_1_1']\n",
    "df = df.loc[df.dataset.isin(wtc11_cols)]"
   ]
  },
  {
   "cell_type": "code",
   "execution_count": 18,
   "id": "2412a214-f817-4310-a1cd-b36165ab8143",
   "metadata": {},
   "outputs": [
    {
     "data": {
      "text/plain": [
       "6542794"
      ]
     },
     "execution_count": 18,
     "metadata": {},
     "output_type": "execute_result"
    }
   ],
   "source": [
    "len(df.index)"
   ]
  },
  {
   "cell_type": "code",
   "execution_count": 24,
   "id": "2b0244df-c498-4c2d-a892-6f8cf2ebeb55",
   "metadata": {},
   "outputs": [
    {
     "data": {
      "text/html": [
       "<div>\n",
       "<style scoped>\n",
       "    .dataframe tbody tr th:only-of-type {\n",
       "        vertical-align: middle;\n",
       "    }\n",
       "\n",
       "    .dataframe tbody tr th {\n",
       "        vertical-align: top;\n",
       "    }\n",
       "\n",
       "    .dataframe thead th {\n",
       "        text-align: right;\n",
       "    }\n",
       "</style>\n",
       "<table border=\"1\" class=\"dataframe\">\n",
       "  <thead>\n",
       "    <tr style=\"text-align: right;\">\n",
       "      <th></th>\n",
       "      <th>read_name</th>\n",
       "      <th>dataset</th>\n",
       "      <th>annot_gene_id</th>\n",
       "      <th>annot_transcript_id</th>\n",
       "    </tr>\n",
       "  </thead>\n",
       "  <tbody>\n",
       "    <tr>\n",
       "      <th>121410981</th>\n",
       "      <td>m54284U_201023_135811/131728109/ccs</td>\n",
       "      <td>wtc11_1_1</td>\n",
       "      <td>ENSG00000140632.16</td>\n",
       "      <td>ENST00000321919.13</td>\n",
       "    </tr>\n",
       "    <tr>\n",
       "      <th>177328831</th>\n",
       "      <td>m54284U_201123_202240/92800770/ccs</td>\n",
       "      <td>wtc11_1_3</td>\n",
       "      <td>ENSG00000117859.18</td>\n",
       "      <td>ENST00000531828.5</td>\n",
       "    </tr>\n",
       "    <tr>\n",
       "      <th>136845067</th>\n",
       "      <td>m54284U_201121_072510/105120006/ccs</td>\n",
       "      <td>wtc11_1_1</td>\n",
       "      <td>ENSG00000079246.15</td>\n",
       "      <td>ENST00000392132.6</td>\n",
       "    </tr>\n",
       "    <tr>\n",
       "      <th>143753985</th>\n",
       "      <td>m54284U_201122_135349/150406883/ccs</td>\n",
       "      <td>wtc11_1_2</td>\n",
       "      <td>ENSG00000059804.15</td>\n",
       "      <td>ENST00000075120.11</td>\n",
       "    </tr>\n",
       "    <tr>\n",
       "      <th>127317051</th>\n",
       "      <td>m54284U_201121_072510/40370379/ccs</td>\n",
       "      <td>wtc11_1_1</td>\n",
       "      <td>ENSG00000080824.18</td>\n",
       "      <td>ENST00000216281.12</td>\n",
       "    </tr>\n",
       "  </tbody>\n",
       "</table>\n",
       "</div>"
      ],
      "text/plain": [
       "                                     read_name    dataset       annot_gene_id  \\\n",
       "121410981  m54284U_201023_135811/131728109/ccs  wtc11_1_1  ENSG00000140632.16   \n",
       "177328831   m54284U_201123_202240/92800770/ccs  wtc11_1_3  ENSG00000117859.18   \n",
       "136845067  m54284U_201121_072510/105120006/ccs  wtc11_1_1  ENSG00000079246.15   \n",
       "143753985  m54284U_201122_135349/150406883/ccs  wtc11_1_2  ENSG00000059804.15   \n",
       "127317051   m54284U_201121_072510/40370379/ccs  wtc11_1_1  ENSG00000080824.18   \n",
       "\n",
       "          annot_transcript_id  \n",
       "121410981  ENST00000321919.13  \n",
       "177328831   ENST00000531828.5  \n",
       "136845067   ENST00000392132.6  \n",
       "143753985  ENST00000075120.11  \n",
       "127317051  ENST00000216281.12  "
      ]
     },
     "execution_count": 24,
     "metadata": {},
     "output_type": "execute_result"
    }
   ],
   "source": [
    "sample_df = df.sample(n=depth,\n",
    "                      replace=False)\n",
    "sample_df.head()"
   ]
  },
  {
   "cell_type": "code",
   "execution_count": 34,
   "id": "78622c53-f5a5-48ef-996c-d2e801241c6c",
   "metadata": {},
   "outputs": [],
   "source": [
    "# def compute_t_counts_from_read_annot(df):\n",
    "temp = sample_df.copy(deep=True)\n",
    "temp = temp.groupby(['dataset', 'annot_gene_id', 'annot_transcript_id']).count().reset_index()\n",
    "temp.drop('annot_gene_id', axis=1, inplace=True)\n",
    "temp.set_index('annot_transcript_id', inplace=True)"
   ]
  },
  {
   "cell_type": "code",
   "execution_count": 35,
   "id": "6781a9b5-ef48-4c10-a08b-676e7a1a782b",
   "metadata": {},
   "outputs": [
    {
     "data": {
      "text/html": [
       "<div>\n",
       "<style scoped>\n",
       "    .dataframe tbody tr th:only-of-type {\n",
       "        vertical-align: middle;\n",
       "    }\n",
       "\n",
       "    .dataframe tbody tr th {\n",
       "        vertical-align: top;\n",
       "    }\n",
       "\n",
       "    .dataframe thead th {\n",
       "        text-align: right;\n",
       "    }\n",
       "</style>\n",
       "<table border=\"1\" class=\"dataframe\">\n",
       "  <thead>\n",
       "    <tr style=\"text-align: right;\">\n",
       "      <th></th>\n",
       "      <th>dataset</th>\n",
       "      <th>read_name</th>\n",
       "    </tr>\n",
       "    <tr>\n",
       "      <th>annot_transcript_id</th>\n",
       "      <th></th>\n",
       "      <th></th>\n",
       "    </tr>\n",
       "  </thead>\n",
       "  <tbody>\n",
       "    <tr>\n",
       "      <th>ENST00000373020.8</th>\n",
       "      <td>wtc11_1_1</td>\n",
       "      <td>16</td>\n",
       "    </tr>\n",
       "    <tr>\n",
       "      <th>TALONT000490488</th>\n",
       "      <td>wtc11_1_1</td>\n",
       "      <td>1</td>\n",
       "    </tr>\n",
       "    <tr>\n",
       "      <th>TALONT000490420</th>\n",
       "      <td>wtc11_1_1</td>\n",
       "      <td>1</td>\n",
       "    </tr>\n",
       "    <tr>\n",
       "      <th>ENST00000371588.9</th>\n",
       "      <td>wtc11_1_1</td>\n",
       "      <td>2</td>\n",
       "    </tr>\n",
       "    <tr>\n",
       "      <th>TALONT001142797</th>\n",
       "      <td>wtc11_1_1</td>\n",
       "      <td>6</td>\n",
       "    </tr>\n",
       "  </tbody>\n",
       "</table>\n",
       "</div>"
      ],
      "text/plain": [
       "                       dataset  read_name\n",
       "annot_transcript_id                      \n",
       "ENST00000373020.8    wtc11_1_1         16\n",
       "TALONT000490488      wtc11_1_1          1\n",
       "TALONT000490420      wtc11_1_1          1\n",
       "ENST00000371588.9    wtc11_1_1          2\n",
       "TALONT001142797      wtc11_1_1          6"
      ]
     },
     "execution_count": 35,
     "metadata": {},
     "output_type": "execute_result"
    }
   ],
   "source": [
    "temp.head()"
   ]
  },
  {
   "cell_type": "code",
   "execution_count": 37,
   "id": "c12f2166-b866-4584-ab86-fec06529469d",
   "metadata": {},
   "outputs": [],
   "source": [
    "temp = temp.pivot(columns='dataset', values='read_name')"
   ]
  },
  {
   "cell_type": "code",
   "execution_count": 40,
   "id": "95e758e5-7745-4ec9-bc84-d562ad4d51d9",
   "metadata": {},
   "outputs": [],
   "source": [
    "temp.columns.name = ''\n",
    "temp.reset_index(inplace=True)"
   ]
  },
  {
   "cell_type": "code",
   "execution_count": 41,
   "id": "e31656c7-2d1b-4eac-a120-e07b09112fde",
   "metadata": {},
   "outputs": [
    {
     "data": {
      "text/html": [
       "<div>\n",
       "<style scoped>\n",
       "    .dataframe tbody tr th:only-of-type {\n",
       "        vertical-align: middle;\n",
       "    }\n",
       "\n",
       "    .dataframe tbody tr th {\n",
       "        vertical-align: top;\n",
       "    }\n",
       "\n",
       "    .dataframe thead th {\n",
       "        text-align: right;\n",
       "    }\n",
       "</style>\n",
       "<table border=\"1\" class=\"dataframe\">\n",
       "  <thead>\n",
       "    <tr style=\"text-align: right;\">\n",
       "      <th></th>\n",
       "      <th>annot_transcript_id</th>\n",
       "      <th>wtc11_1_1</th>\n",
       "      <th>wtc11_1_2</th>\n",
       "      <th>wtc11_1_3</th>\n",
       "    </tr>\n",
       "  </thead>\n",
       "  <tbody>\n",
       "    <tr>\n",
       "      <th>0</th>\n",
       "      <td>ENST00000000233.9</td>\n",
       "      <td>21.0</td>\n",
       "      <td>17.0</td>\n",
       "      <td>18.0</td>\n",
       "    </tr>\n",
       "    <tr>\n",
       "      <th>1</th>\n",
       "      <td>ENST00000000412.7</td>\n",
       "      <td>17.0</td>\n",
       "      <td>15.0</td>\n",
       "      <td>34.0</td>\n",
       "    </tr>\n",
       "    <tr>\n",
       "      <th>2</th>\n",
       "      <td>ENST00000000442.10</td>\n",
       "      <td>9.0</td>\n",
       "      <td>4.0</td>\n",
       "      <td>8.0</td>\n",
       "    </tr>\n",
       "    <tr>\n",
       "      <th>3</th>\n",
       "      <td>ENST00000001008.5</td>\n",
       "      <td>51.0</td>\n",
       "      <td>30.0</td>\n",
       "      <td>73.0</td>\n",
       "    </tr>\n",
       "    <tr>\n",
       "      <th>4</th>\n",
       "      <td>ENST00000002125.8</td>\n",
       "      <td>3.0</td>\n",
       "      <td>6.0</td>\n",
       "      <td>6.0</td>\n",
       "    </tr>\n",
       "  </tbody>\n",
       "</table>\n",
       "</div>"
      ],
      "text/plain": [
       "  annot_transcript_id  wtc11_1_1  wtc11_1_2  wtc11_1_3\n",
       "0   ENST00000000233.9       21.0       17.0       18.0\n",
       "1   ENST00000000412.7       17.0       15.0       34.0\n",
       "2  ENST00000000442.10        9.0        4.0        8.0\n",
       "3   ENST00000001008.5       51.0       30.0       73.0\n",
       "4   ENST00000002125.8        3.0        6.0        6.0"
      ]
     },
     "execution_count": 41,
     "metadata": {},
     "output_type": "execute_result"
    }
   ],
   "source": [
    "temp.head()"
   ]
  },
  {
   "cell_type": "code",
   "execution_count": 43,
   "id": "8f0a1f78-8219-4a79-ad47-2a6c523d9906",
   "metadata": {},
   "outputs": [],
   "source": [
    "# todo -- merge in the new gene ids from the fusion-fixed files abundance files!\n",
    "ab_df = pd.read_csv(ab, sep='\\t')\n"
   ]
  },
  {
   "cell_type": "code",
   "execution_count": 46,
   "id": "32f664b1-5352-46a5-9f51-25b6dfb2030e",
   "metadata": {},
   "outputs": [
    {
     "name": "stdout",
     "output_type": "stream",
     "text": [
      "108119\n",
      "108119\n"
     ]
    }
   ],
   "source": [
    "non_dataset_columns = ['gene_ID', 'transcript_ID', 'annot_gene_id',\n",
    "                       'annot_transcript_id', 'annot_gene_name',\n",
    "                       'annot_transcript_name', 'n_exons', 'length',\n",
    "                       'gene_novelty', 'transcript_novelty', 'ISM_subtype']\n",
    "ab_df = ab_df[non_dataset_columns]\n",
    "print(len(temp.index))\n",
    "temp = temp.merge(ab_df, how='left', on='annot_transcript_id')\n",
    "print(len(temp.index))     "
   ]
  },
  {
   "cell_type": "code",
   "execution_count": 47,
   "id": "f527f3c0-7690-470d-8c12-a1ca1db88a78",
   "metadata": {},
   "outputs": [
    {
     "data": {
      "text/plain": [
       "500000.0"
      ]
     },
     "execution_count": 47,
     "metadata": {},
     "output_type": "execute_result"
    }
   ],
   "source": [
    "temp.set_index(non_dataset_columns).sum(axis=1).sum(axis=0)"
   ]
  },
  {
   "cell_type": "code",
   "execution_count": 1,
   "id": "31cdf641-8df7-402d-aa42-89f7ca59168a",
   "metadata": {},
   "outputs": [
    {
     "name": "stdout",
     "output_type": "stream",
     "text": [
      "[500000, 750000.0, 1000000, 2000000, 3000000, 4000000, 5000000, 5000000, 6542794]\n"
     ]
    }
   ],
   "source": [
    "import pandas as pd\n",
    "import numpy as np\n",
    "import scipy.stats as st\n",
    "import seaborn as sns\n",
    "import sys\n",
    "import os\n",
    "import gseapy as gp\n",
    "import matplotlib.pyplot as plt\n",
    "import swan_vis as swan\n",
    "import yaml\n",
    "from snakemake.io import expand\n",
    "\n",
    "p = os.path.dirname(os.path.dirname(os.getcwd()))\n",
    "sys.path.append(p)\n",
    "\n",
    "from proc_revisions.utils import *\n",
    "from proc_revisions.plotting import *\n",
    "\n",
    "od = '../../proc_revisions/'\n",
    "config_file = f'{od}/config.yml'\n",
    "with open(config_file) as f:\n",
    "    config = yaml.safe_load(f)\n",
    "    \n",
    "ab = od+expand(config['lr']['talon']['fusion_fix']['ab'], species='human')[0]\n",
    "filt_ab = od+expand(config['lr']['cerberus']['filt_ab'], species='human')[0]\n",
    "read_annot = od+expand(config['lr']['talon']['full_annot'], species='human')[0]\n",
    "t_metadata = od+expand(config['ref']['cerberus']['new_gtf_t_info'], species='human')[0]\n",
    "lib_meta = od+expand(config['lr']['meta'], species='human')[0]\n",
    "swan_file = od+expand(config['lr']['swan']['sg'], species='human')[0]\n",
    "cerberus_h5 = od+expand(config['lr']['cerberus']['ca_triplets'], species='human', obs_col='sample')[0]\n",
    "cerb_t_metadata = od+expand(config['lr']['cerberus']['gtf_t_info'], species='human')[0]\n",
    "major_isos = od+expand(config['lr']['analysis']['major_isos'], species='human', obs_col='sample')[0]\n",
    "pi_tpm_table = od+expand(config['lr']['mane']['pi_tpm']['triplet'], species='human', obs_col='sample')[0]\n",
    "\n",
    "ref_t_metadata = od+expand(config['ref']['new_gtf_t_info'], species='human')[0]\n",
    "ref_g_metadata = od+expand(config['ref']['new_gtf_g_info'], species='human')[0]\n",
    "read_annot = od+expand(config['lr']['talon']['full_annot'], species='human')[0]\n",
    "\n",
    "# pp_summary = '../'+expand(config['data']['p_pred']['summary'], species='human')[0]\n",
    "\n",
    "ver = 'v40_cerberus'\n",
    "min_tpm = 1\n",
    "gene_subset = 'polya'\n",
    "obs_col = 'sample'\n",
    "go_gene_subset = 'protein_coding'\n",
    "predom_iso_subset = 'protein_coding'\n",
    "\n",
    "m_lib_meta = od+expand(config['lr']['meta'], species='mouse')[0]\n",
    "\n",
    "sample_depths = [5*10**5, 7.5*10**5, 10**6,\n",
    "                 2*10**6, 3*10**6, 4*10**6, 5*10**6,\n",
    "                 5*10**6, 6542794]\n",
    "print(sample_depths)\n",
    "depth = sample_depths[0]\n",
    "depth\n",
    "min_tpm = 1"
   ]
  },
  {
   "cell_type": "code",
   "execution_count": 2,
   "id": "af951fe8-fd45-41a1-b314-94d802574383",
   "metadata": {},
   "outputs": [],
   "source": [
    "# temp.to_csv('temp_subsample_wtc11.tsv', sep='\\t', index=False)\n",
    "temp = pd.read_csv('temp_subsample_wtc11.tsv', sep='\\t')"
   ]
  },
  {
   "cell_type": "code",
   "execution_count": 3,
   "id": "b5829985-0cfa-4e0b-8b54-095c028bcbaa",
   "metadata": {},
   "outputs": [
    {
     "name": "stdout",
     "output_type": "stream",
     "text": [
      "Calculating gene TPM values\n",
      "Subsetting for novelty categories ['Known']\n",
      "Subsetting for polya genes\n",
      "Enforcing minimum TPM\n",
      "Total # genes detected: 20595\n",
      "# genes >= 1 tpm: 20595\n",
      "Applying gene type and novelty subset\n",
      "Number of genes reported: 15380\n"
     ]
    }
   ],
   "source": [
    "df, inds = get_tpm_table(temp,\n",
    "                    how='gene',\n",
    "                    gene_subset='polya',\n",
    "                    min_tpm=min_tpm)"
   ]
  },
  {
   "cell_type": "code",
   "execution_count": null,
   "id": "dc8623d7-ab95-4d33-b4e0-ceb5b9fde046",
   "metadata": {},
   "outputs": [],
   "source": []
  },
  {
   "cell_type": "code",
   "execution_count": null,
   "id": "523e382b-cbc5-4253-a4ea-81cd03d87d53",
   "metadata": {},
   "outputs": [],
   "source": []
  },
  {
   "cell_type": "code",
   "execution_count": null,
   "id": "0398c2d3-2503-4c52-8c30-fa6583df0e13",
   "metadata": {},
   "outputs": [],
   "source": []
  },
  {
   "cell_type": "code",
   "execution_count": null,
   "id": "7a32d43c-9294-4beb-aa1e-6341be8ad121",
   "metadata": {},
   "outputs": [],
   "source": [
    "# merge w/ the non-dataset info from the abundance file"
   ]
  },
  {
   "cell_type": "code",
   "execution_count": null,
   "id": "17a3974d-bd3b-458b-a8de-540fb2f5ac91",
   "metadata": {},
   "outputs": [],
   "source": []
  },
  {
   "cell_type": "markdown",
   "id": "bade1cff-940c-4011-a5dc-3ee9d1972547",
   "metadata": {},
   "source": [
    "## 18/12/23 from abundance? (idk if this will work...)"
   ]
  },
  {
   "cell_type": "code",
   "execution_count": 4,
   "id": "d104d066-9a2d-44de-843e-482ba739ee1a",
   "metadata": {},
   "outputs": [],
   "source": [
    "ab = od+expand(config['lr']['talon']['ab'], species='human')[0]"
   ]
  },
  {
   "cell_type": "code",
   "execution_count": 5,
   "id": "45db4f7d-21b7-4468-a972-a83708a12350",
   "metadata": {},
   "outputs": [],
   "source": [
    "df = pd.read_csv(ab, sep='\\t')"
   ]
  },
  {
   "cell_type": "code",
   "execution_count": 6,
   "id": "79880e45-10af-4114-8b28-68497abad513",
   "metadata": {},
   "outputs": [
    {
     "data": {
      "text/plain": [
       "5395598"
      ]
     },
     "execution_count": 6,
     "metadata": {},
     "output_type": "execute_result"
    }
   ],
   "source": [
    "len(df.index)"
   ]
  },
  {
   "cell_type": "code",
   "execution_count": 7,
   "id": "52fbdf59-10bd-4c21-a219-af879e5f7266",
   "metadata": {},
   "outputs": [],
   "source": [
    "non_dataset_columns = ['gene_ID', 'transcript_ID', 'annot_gene_id',\n",
    "                       'annot_transcript_id', 'annot_gene_name',\n",
    "                       'annot_transcript_name', 'n_exons', 'length',\n",
    "                       'gene_novelty', 'transcript_novelty', 'ISM_subtype']\n",
    "df.set_index(non_dataset_columns, inplace=True)"
   ]
  },
  {
   "cell_type": "code",
   "execution_count": 8,
   "id": "c132de6c-6039-4cd4-ae6a-1b9c9fb90336",
   "metadata": {},
   "outputs": [],
   "source": []
  },
  {
   "cell_type": "code",
   "execution_count": 10,
   "id": "f71a3b3d-1e11-46d4-86f4-170924ffaff5",
   "metadata": {},
   "outputs": [],
   "source": [
    "# limit to just wtc11 \n",
    "wtc11_cols = ['wtc11_1_3', 'wtc11_1_2', 'wtc11_1_1']\n",
    "df = df[wtc11_cols]"
   ]
  },
  {
   "cell_type": "code",
   "execution_count": 11,
   "id": "8d12a141-c309-4a45-81ed-7347dc4e4b53",
   "metadata": {},
   "outputs": [
    {
     "data": {
      "text/plain": [
       "6542794"
      ]
     },
     "execution_count": 11,
     "metadata": {},
     "output_type": "execute_result"
    }
   ],
   "source": [
    "df.sum(axis=1).sum(axis=0)"
   ]
  },
  {
   "cell_type": "code",
   "execution_count": null,
   "id": "788c0025-87a1-463f-9186-b7db6945d6db",
   "metadata": {},
   "outputs": [],
   "source": []
  }
 ],
 "metadata": {
  "kernelspec": {
   "display_name": "Python 3",
   "language": "python",
   "name": "python3"
  },
  "language_info": {
   "codemirror_mode": {
    "name": "ipython",
    "version": 3
   },
   "file_extension": ".py",
   "mimetype": "text/x-python",
   "name": "python",
   "nbconvert_exporter": "python",
   "pygments_lexer": "ipython3",
   "version": "3.7.12"
  }
 },
 "nbformat": 4,
 "nbformat_minor": 5
}
