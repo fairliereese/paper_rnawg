{
 "cells": [
  {
   "cell_type": "code",
   "execution_count": 1,
   "id": "481400d3-e643-4418-9724-4da812328027",
   "metadata": {},
   "outputs": [],
   "source": [
    "import pandas as pd\n",
    "import numpy as np\n",
    "import scipy.stats as st\n",
    "import seaborn as sns\n",
    "import sys\n",
    "import os\n",
    "import gseapy as gp\n",
    "import matplotlib.pyplot as plt\n",
    "import swan_vis as swan\n",
    "import yaml\n",
    "from snakemake.io import expand\n",
    "\n",
    "p = os.path.dirname(os.path.dirname(os.getcwd()))\n",
    "sys.path.append(p)\n",
    "\n",
    "from proc_revisions.utils import *\n",
    "from proc_revisions.plotting import *"
   ]
  },
  {
   "cell_type": "code",
   "execution_count": 2,
   "id": "90754abb-4ed9-4913-bea3-da606f425cca",
   "metadata": {},
   "outputs": [],
   "source": [
    "od = '../../proc_revisions/'\n",
    "config_file = f'{od}/config.yml'\n",
    "with open(config_file) as f:\n",
    "    config = yaml.safe_load(f)"
   ]
  },
  {
   "cell_type": "code",
   "execution_count": 3,
   "id": "24dc3951-4057-4743-a738-5992f08b4cd2",
   "metadata": {},
   "outputs": [],
   "source": [
    "ab = od+expand(config['lr']['talon']['fusion_fix']['ab'], species='human')[0]\n",
    "filt_ab = od+expand(config['lr']['cerberus']['filt_ab'], species='human')[0]\n",
    "read_annot = od+expand(config['lr']['talon']['full_annot'], species='human')[0]\n",
    "t_metadata = od+expand(config['ref']['cerberus']['new_gtf_t_info'], species='human')[0]\n",
    "lib_meta = od+expand(config['lr']['meta'], species='human')[0]\n",
    "swan_file = od+expand(config['lr']['swan']['sg'], species='human')[0]\n",
    "cerberus_h5 = od+expand(config['lr']['cerberus']['ca_triplets'], species='human', obs_col='sample')[0]\n",
    "cerb_t_metadata = od+expand(config['lr']['cerberus']['gtf_t_info'], species='human')[0]\n",
    "major_isos = od+expand(config['lr']['analysis']['major_isos'], species='human', obs_col='sample')[0]\n",
    "pi_tpm_table = od+expand(config['lr']['mane']['pi_tpm']['triplet'], species='human', obs_col='sample')[0]\n",
    "\n",
    "ref_t_metadata = od+expand(config['ref']['new_gtf_t_info'], species='human')[0]\n",
    "ref_g_metadata = od+expand(config['ref']['new_gtf_g_info'], species='human')[0]\n",
    "read_annot = od+expand(config['lr']['talon']['full_annot'], species='human')[0]\n",
    "\n",
    "# pp_summary = '../'+expand(config['data']['p_pred']['summary'], species='human')[0]\n",
    "\n",
    "ver = 'v40_cerberus'\n",
    "min_tpm = 1\n",
    "gene_subset = 'polya'\n",
    "obs_col = 'sample'\n",
    "go_gene_subset = 'protein_coding'\n",
    "predom_iso_subset = 'protein_coding'\n",
    "\n",
    "m_lib_meta = od+expand(config['lr']['meta'], species='mouse')[0]"
   ]
  },
  {
   "cell_type": "code",
   "execution_count": 4,
   "id": "af4e8bf3-1866-455d-8426-0425506f6d32",
   "metadata": {},
   "outputs": [],
   "source": [
    "# https://academic.oup.com/bib/article/18/2/205/2562739"
   ]
  },
  {
   "cell_type": "code",
   "execution_count": 82,
   "id": "6fa4f403-1bf0-4206-97ce-4da4aed642a7",
   "metadata": {},
   "outputs": [],
   "source": [
    "def compute_tau(df):\n",
    "    \"\"\"\n",
    "    Compute tissue-specificity index for an abundance matrix output\n",
    "    from `get_tpm_table`.\n",
    "    \"\"\"\n",
    "    # number of samples \n",
    "    n = len(df.columns)\n",
    "    print(f'Found {n} samples')\n",
    "    \n",
    "    # log-transform data and add 1 pseudocount to data\n",
    "    df = np.log2(df+1)\n",
    "    # df.replace([np.inf, -np.inf], np.nan, inplace=True)\n",
    "    \n",
    "    # get max of TPM for transcript across tissues\n",
    "    temp = df.max(axis=1)\n",
    "    temp_ind = temp.index.tolist()\n",
    "\n",
    "    df = df.transpose()\n",
    "    df_ind = df.columns.tolist()\n",
    "    assert df_ind==temp_ind\n",
    "\n",
    "    # compute x-hat (TPM / max TPM across tissues)\n",
    "    x_hat = df/temp\n",
    "    \n",
    "    # compute (1-x-hat) \n",
    "    x_hat = 1-x_hat\n",
    "\n",
    "    # compute sum across tissues\n",
    "    x_hat = x_hat.transpose()\n",
    "    x_hat['sum'] = x_hat.sum(axis=1)\n",
    "    \n",
    "    # compute tau for each transcript\n",
    "    x_hat['tau'] = x_hat['sum']/n\n",
    "    tau_df = x_hat[['tau']]\n",
    "    \n",
    "    return tau_df"
   ]
  },
  {
   "cell_type": "code",
   "execution_count": 83,
   "id": "8b3cc35d-e7bd-4b50-968d-3ab7b8c8bf2f",
   "metadata": {},
   "outputs": [
    {
     "data": {
      "text/plain": [
       "array(['adrenal gland', 'vessels', 'cortex', 'heart', 'kidney', 'colon',\n",
       "       'lung', 'adipose', 'ovary', 'muscle', 'liver'], dtype=object)"
      ]
     },
     "execution_count": 83,
     "metadata": {},
     "output_type": "execute_result"
    }
   ],
   "source": [
    "meta = pd.read_csv(lib_meta, sep='\\t')\n",
    "meta.loc[meta.tissue_or_cell_line == 'tissue', 'general_tissue_cell_type'].unique()"
   ]
  },
  {
   "cell_type": "code",
   "execution_count": 90,
   "id": "2d0d2ab8-13de-4e20-a16e-8ed7606e4a3e",
   "metadata": {
    "tags": []
   },
   "outputs": [
    {
     "name": "stdout",
     "output_type": "stream",
     "text": [
      "Calculating iso TPM values\n",
      "Subsetting for protein_coding genes\n"
     ]
    },
    {
     "name": "stderr",
     "output_type": "stream",
     "text": [
      "/Users/fairliereese/Documents/programming/mortazavi_lab/data/paper_rnawg/proc_revisions/utils.py:2110: PerformanceWarning: DataFrame is highly fragmented.  This is usually the result of calling `frame.insert` many times, which has poor performance.  Consider joining all columns at once using pd.concat(axis=1) instead.  To get a de-fragmented frame, use `newframe = frame.copy()`\n",
      "  df[tpm_col] = (df[d]*1000000)/df[total_col]\n",
      "/Users/fairliereese/Documents/programming/mortazavi_lab/data/paper_rnawg/proc_revisions/utils.py:2109: PerformanceWarning: DataFrame is highly fragmented.  This is usually the result of calling `frame.insert` many times, which has poor performance.  Consider joining all columns at once using pd.concat(axis=1) instead.  To get a de-fragmented frame, use `newframe = frame.copy()`\n",
      "  df[total_col] = df[d].sum()\n"
     ]
    },
    {
     "name": "stdout",
     "output_type": "stream",
     "text": [
      "Enforcing minimum TPM\n",
      "Total # isos detected: 236615\n",
      "# isos >= 1 tpm: 213476\n",
      "Applying gene type and novelty subset\n",
      "Averaging over general_tissue_cell_type\n",
      "Number of isos reported: 191325\n",
      "Found 11 samples\n",
      "general_tissue_cell_type       tau\n",
      "ENSG00000000003[1,1,1]    0.703886\n",
      "ENSG00000000003[1,1,5]    0.445206\n",
      "ENSG00000000003[1,1,6]    0.701237\n",
      "ENSG00000000003[1,1,7]    0.346632\n",
      "ENSG00000000003[1,1,8]    0.434952\n",
      "Calculating tss TPM values\n",
      "Subsetting for protein_coding genes\n"
     ]
    },
    {
     "name": "stderr",
     "output_type": "stream",
     "text": [
      "/Users/fairliereese/Documents/programming/mortazavi_lab/data/paper_rnawg/proc_revisions/utils.py:2110: PerformanceWarning: DataFrame is highly fragmented.  This is usually the result of calling `frame.insert` many times, which has poor performance.  Consider joining all columns at once using pd.concat(axis=1) instead.  To get a de-fragmented frame, use `newframe = frame.copy()`\n",
      "  df[tpm_col] = (df[d]*1000000)/df[total_col]\n",
      "/Users/fairliereese/Documents/programming/mortazavi_lab/data/paper_rnawg/proc_revisions/utils.py:2109: PerformanceWarning: DataFrame is highly fragmented.  This is usually the result of calling `frame.insert` many times, which has poor performance.  Consider joining all columns at once using pd.concat(axis=1) instead.  To get a de-fragmented frame, use `newframe = frame.copy()`\n",
      "  df[total_col] = df[d].sum()\n"
     ]
    },
    {
     "name": "stdout",
     "output_type": "stream",
     "text": [
      "Enforcing minimum TPM\n",
      "Total # tsss detected: 73812\n",
      "# tsss >= 1 tpm: 64913\n",
      "Applying gene type and novelty subset\n",
      "Averaging over general_tissue_cell_type\n",
      "Number of tsss reported: 50292\n",
      "Found 11 samples\n",
      "general_tissue_cell_type       tau\n",
      "ENSG00000000003_1         0.321574\n",
      "ENSG00000000005_3         0.842936\n",
      "ENSG00000000419_1         0.191810\n",
      "ENSG00000000419_8         0.813744\n",
      "ENSG00000000457_1         0.339817\n",
      "Calculating ic TPM values\n",
      "Subsetting for protein_coding genes\n"
     ]
    },
    {
     "name": "stderr",
     "output_type": "stream",
     "text": [
      "/Users/fairliereese/Documents/programming/mortazavi_lab/data/paper_rnawg/proc_revisions/utils.py:2110: PerformanceWarning: DataFrame is highly fragmented.  This is usually the result of calling `frame.insert` many times, which has poor performance.  Consider joining all columns at once using pd.concat(axis=1) instead.  To get a de-fragmented frame, use `newframe = frame.copy()`\n",
      "  df[tpm_col] = (df[d]*1000000)/df[total_col]\n",
      "/Users/fairliereese/Documents/programming/mortazavi_lab/data/paper_rnawg/proc_revisions/utils.py:2109: PerformanceWarning: DataFrame is highly fragmented.  This is usually the result of calling `frame.insert` many times, which has poor performance.  Consider joining all columns at once using pd.concat(axis=1) instead.  To get a de-fragmented frame, use `newframe = frame.copy()`\n",
      "  df[total_col] = df[d].sum()\n"
     ]
    },
    {
     "name": "stdout",
     "output_type": "stream",
     "text": [
      "Enforcing minimum TPM\n",
      "Total # ics detected: 145392\n",
      "# ics >= 1 tpm: 131409\n",
      "Applying gene type and novelty subset\n",
      "Averaging over general_tissue_cell_type\n",
      "Number of ics reported: 113956\n",
      "Found 11 samples\n",
      "general_tissue_cell_type       tau\n",
      "ENSG00000000003_1         0.332042\n",
      "ENSG00000000003_10        0.758590\n",
      "ENSG00000000003_11        0.853510\n",
      "ENSG00000000003_12        0.832334\n",
      "ENSG00000000003_4         0.909091\n",
      "Calculating tes TPM values\n",
      "Subsetting for protein_coding genes\n"
     ]
    },
    {
     "name": "stderr",
     "output_type": "stream",
     "text": [
      "/Users/fairliereese/Documents/programming/mortazavi_lab/data/paper_rnawg/proc_revisions/utils.py:2110: PerformanceWarning: DataFrame is highly fragmented.  This is usually the result of calling `frame.insert` many times, which has poor performance.  Consider joining all columns at once using pd.concat(axis=1) instead.  To get a de-fragmented frame, use `newframe = frame.copy()`\n",
      "  df[tpm_col] = (df[d]*1000000)/df[total_col]\n",
      "/Users/fairliereese/Documents/programming/mortazavi_lab/data/paper_rnawg/proc_revisions/utils.py:2109: PerformanceWarning: DataFrame is highly fragmented.  This is usually the result of calling `frame.insert` many times, which has poor performance.  Consider joining all columns at once using pd.concat(axis=1) instead.  To get a de-fragmented frame, use `newframe = frame.copy()`\n",
      "  df[total_col] = df[d].sum()\n"
     ]
    },
    {
     "name": "stdout",
     "output_type": "stream",
     "text": [
      "Enforcing minimum TPM\n",
      "Total # tess detected: 87189\n",
      "# tess >= 1 tpm: 76035\n",
      "Applying gene type and novelty subset\n",
      "Averaging over general_tissue_cell_type\n",
      "Number of tess reported: 59903\n",
      "Found 11 samples\n",
      "general_tissue_cell_type       tau\n",
      "ENSG00000000003_1         0.652372\n",
      "ENSG00000000003_3         0.909091\n",
      "ENSG00000000003_5         0.436653\n",
      "ENSG00000000003_6         0.583603\n",
      "ENSG00000000003_7         0.340480\n"
     ]
    }
   ],
   "source": [
    "meta = pd.read_csv(lib_meta, sep='\\t')\n",
    "samples = meta.loc[meta.tissue_or_cell_line == 'tissue', 'general_tissue_cell_type'].unique().tolist()\n",
    "# samples = meta.loc[meta.tissue_or_cell_line == 'tissue', 'sample'].unique().tolist()\n",
    "\n",
    "tau_df = pd.DataFrame()\n",
    "for feat in ['iso', 'tss', 'ic', 'tes']:\n",
    "    df = pd.read_csv(filt_ab, sep='\\t')\n",
    "    df, tids = get_tpm_table(df,\n",
    "                       how=feat,\n",
    "                       min_tpm=min_tpm,\n",
    "                       gene_subset='protein_coding',\n",
    "                       groupby='general_tissue_cell_type',\n",
    "                       samples=samples)\n",
    "    df = df[samples]\n",
    "    temp = compute_tau(df) \n",
    "    print(temp.head())\n",
    "    temp['feat'] = feat\n",
    "    temp['temp'] = temp.index.tolist()\n",
    "    if feat == 'iso':\n",
    "        temp['gid'] = temp.temp.str.split('[', expand=True)[0]\n",
    "    else:\n",
    "        temp['gid'] = temp.temp.str.split('_', expand=True)[0]\n",
    "    temp.drop('temp', axis=1, inplace=True)\n",
    "    tau_df = pd.concat([tau_df, temp], axis=0)\n",
    "tau_df.reset_index(inplace=True)"
   ]
  },
  {
   "cell_type": "code",
   "execution_count": 74,
   "id": "807961cc-b675-47da-bbdd-acb52ed624e7",
   "metadata": {},
   "outputs": [],
   "source": [
    "spec_cutoff=0.75"
   ]
  },
  {
   "cell_type": "code",
   "execution_count": 93,
   "id": "f5415898-f0d0-485b-9011-5ea4a69d9374",
   "metadata": {},
   "outputs": [
    {
     "name": "stdout",
     "output_type": "stream",
     "text": [
      "{'tss': '#56B4E9', 'ic': '#CC79A7', 'tes': '#E69F00', 'iso': '#009E73'}\n"
     ]
    },
    {
     "data": {
      "image/png": "[encoded data removed]",
      "text/plain": [
       "<Figure size 360x360 with 1 Axes>"
      ]
     },
     "metadata": {
      "needs_background": "light"
     },
     "output_type": "display_data"
    }
   ],
   "source": [
    "sns.set_context('paper', font_scale=2)\n",
    "mpl.rcParams['font.family'] = 'Arial'\n",
    "mpl.rcParams['pdf.fonttype'] = 42\n",
    "\n",
    "c_dict, order = get_feat_triplet_colors_2()\n",
    "# c_dict['iso'] = c_dict.pop('triplet')\n",
    "print(c_dict)\n",
    "\n",
    "ax = sns.displot(data=tau_df, x='tau', kind='kde',\n",
    "                 hue='feat', common_norm=False, palette=c_dict,\n",
    "                 hue_order=order[::-1],\n",
    "                 legend=False, linewidth=3, alpha=0.75)\n",
    "ax.set(xlabel='Tau tissue specificity score')\n",
    "ylims = plt.gca().get_ylim()\n",
    "color = '#5c5c5c'\n",
    "plt.gca().vlines(spec_cutoff, ylims[0], ylims[1],\n",
    "                      colors=color, linestyles='dashed',\n",
    "                      linewidth=3, alpha=0.75)\n",
    "\n",
    "fig = plt.gcf()\n",
    "fig.legend(['Transcript', 'TSS','EC', 'TES'], bbox_to_anchor=(0.7, 0.9))\n",
    "\n",
    "\n",
    "plt.savefig('figures/tau_dists_protein_coding_tissues.pdf', bbox_inches='tight', dpi=500)"
   ]
  },
  {
   "cell_type": "code",
   "execution_count": 94,
   "id": "b980c290-b930-46d5-bc53-ca2d00136c9e",
   "metadata": {},
   "outputs": [
    {
     "name": "stdout",
     "output_type": "stream",
     "text": [
      "{'tss': '#56B4E9', 'ic': '#CC79A7', 'tes': '#E69F00', 'iso': '#009E73'}\n"
     ]
    },
    {
     "data": {
      "image/png": "[encoded data removed]",
      "text/plain": [
       "<Figure size 360x360 with 1 Axes>"
      ]
     },
     "metadata": {
      "needs_background": "light"
     },
     "output_type": "display_data"
    }
   ],
   "source": [
    "# ecdf version of the plot\n",
    "sns.set_context('paper', font_scale=2)\n",
    "mpl.rcParams['font.family'] = 'Arial'\n",
    "mpl.rcParams['pdf.fonttype'] = 42\n",
    "\n",
    "c_dict, order = get_feat_triplet_colors_2()\n",
    "# c_dict['iso'] = c_dict.pop('triplet')\n",
    "print(c_dict)\n",
    "\n",
    "ax = sns.displot(data=tau_df, x='tau', kind='ecdf',\n",
    "                 hue='feat', palette=c_dict,\n",
    "                 hue_order=order[::-1],\n",
    "                 legend=False, linewidth=3, alpha=0.5)\n",
    "ax.set(xlabel='Tau tissue specificity score')\n",
    "ylims = plt.gca().get_ylim()\n",
    "color = '#5c5c5c'\n",
    "plt.gca().vlines(spec_cutoff, ylims[0], ylims[1],\n",
    "                      colors=color, linestyles='dashed',\n",
    "                      linewidth=3, alpha=0.75)\n",
    "\n",
    "\n",
    "fig = plt.gcf()\n",
    "fig.legend(['Transcript', 'TSS','EC', 'TES'], bbox_to_anchor=(0.7, 0.9))\n",
    "\n",
    "\n",
    "plt.savefig('figures/tau_ecdf_protein_coding_tissues.pdf', bbox_inches='tight', dpi=500)"
   ]
  },
  {
   "cell_type": "code",
   "execution_count": 95,
   "id": "126a9b32-28a8-4ff1-891a-04b18c4e9086",
   "metadata": {},
   "outputs": [
    {
     "name": "stdout",
     "output_type": "stream",
     "text": [
      "90.63% of protein coding genes have >= 1 iso w/ tau >= 0.75\n",
      "65.18% of protein coding genes have >= 1 tss w/ tau >= 0.75\n",
      "83.93% of protein coding genes have >= 1 ic w/ tau >= 0.75\n",
      "71.24% of protein coding genes have >= 1 tes w/ tau >= 0.75\n"
     ]
    }
   ],
   "source": [
    "# what % of genes have tissue-specific usage of each feat?\n",
    "feats = ['iso', 'tss', 'ic', 'tes']\n",
    "for f in feats:\n",
    "    temp = tau_df.loc[tau_df.feat==f].copy(deep=True)\n",
    "    temp = temp[['gid', 'tau']]\n",
    "    temp['tissue_specific'] = temp['tau'] >= spec_cutoff\n",
    "    temp = temp[['gid', 'tissue_specific']]\n",
    "    temp['n_tot_genes'] = len(temp.gid.unique().tolist())\n",
    "    temp = temp.groupby(['tissue_specific', 'n_tot_genes']).nunique().reset_index()\n",
    "    temp.rename({'gid':'n_genes'}, axis=1, inplace=True)\n",
    "    temp['perc'] = (temp['n_genes']/temp['n_tot_genes'])*100\n",
    "    thing = temp.loc[temp.tissue_specific==True]['perc'].values[0]\n",
    "    print(f'{thing:.2f}% of protein coding genes have >= 1 {f} w/ tau >= {spec_cutoff}')"
   ]
  },
  {
   "cell_type": "code",
   "execution_count": 125,
   "id": "dd0ac178-433a-4193-8a24-e8351bf64234",
   "metadata": {},
   "outputs": [
    {
     "name": "stdout",
     "output_type": "stream",
     "text": [
      "Original labels: ['iso', 'tss', 'ic', 'tes']\n"
     ]
    },
    {
     "data": {
      "text/plain": [
       "<matplotlib.legend.Legend at 0x7f9010fc2490>"
      ]
     },
     "execution_count": 125,
     "metadata": {},
     "output_type": "execute_result"
    },
    {
     "data": {
      "image/png": "[encoded data removed]",
      "text/plain": [
       "<Figure size 432x288 with 1 Axes>"
      ]
     },
     "metadata": {
      "needs_background": "light"
     },
     "output_type": "display_data"
    }
   ],
   "source": [
    "# how many tissue specific features does each gene have?\n",
    "temp = tau_df.copy(deep=True)\n",
    "temp['tissue_specific'] = temp['tau'] >= spec_cutoff\n",
    "temp.drop(['tau'], axis=1, inplace=True)\n",
    "\n",
    "temp.columns.name = ''\n",
    "temp = temp.groupby(['feat', 'gid', 'tissue_specific']).nunique().reset_index().rename({'index':'n_feats'}, axis=1)\n",
    "temp.loc[temp.n_feats>=10, 'n_feats'] = 10\n",
    "temp = temp.loc[temp.tissue_specific==True]\n",
    "temp.head()\n",
    "ax = sns.countplot(temp, x='n_feats', hue='feat',\n",
    "                   palette=c_dict,\n",
    "                   hue_order=order,\n",
    "                   saturation=1)\n",
    "ylabel = '# genes'\n",
    "xlabel = '# tissue-specific features'\n",
    "ax.set(xlabel=xlabel,\n",
    "       ylabel=ylabel)\n",
    "ax.spines['right'].set_visible(False)\n",
    "ax.spines['top'].set_visible(False)\n",
    "\n",
    "labels = [item.get_text() for item in ax.get_xticklabels()]\n",
    "labels[-1] = '10+'\n",
    "\n",
    "_ = ax.set_xticklabels(labels)\n",
    "\n",
    "handles, labels = ax.get_legend_handles_labels()\n",
    "print(\"Original labels:\", labels)\n",
    "new_labels = ['Transcript', 'TSS', 'EC', 'TES']\n",
    "ax.legend(handles, new_labels, title='', bbox_to_anchor=(0.5, 0.5))"
   ]
  },
  {
   "cell_type": "code",
   "execution_count": 128,
   "id": "cd462a05-4f60-43f4-8261-402037ec19f4",
   "metadata": {},
   "outputs": [
    {
     "data": {
      "text/plain": [
       "<seaborn.axisgrid.FacetGrid at 0x7f90d1472fd0>"
      ]
     },
     "execution_count": 128,
     "metadata": {},
     "output_type": "execute_result"
    },
    {
     "data": {
      "image/png": "[encoded data removed]",
      "text/plain": [
       "<Figure size 446.735x360 with 1 Axes>"
      ]
     },
     "metadata": {
      "needs_background": "light"
     },
     "output_type": "display_data"
    }
   ],
   "source": [
    "ax = sns.displot(data=temp, x='n_feats', kind='ecdf',\n",
    "                 hue='feat', palette=c_dict,\n",
    "                 hue_order=order, linewidth=3, alpha=0.5)\n",
    "xlabel = '# of tissue-specific features'\n",
    "ylabel = 'Proportion of genes'\n",
    "ax.set(xlabel=xlabel, ylabel=ylabel)"
   ]
  },
  {
   "cell_type": "code",
   "execution_count": null,
   "id": "2dc6307c-b9a7-4acc-aa4b-e006f9c200df",
   "metadata": {},
   "outputs": [],
   "source": []
  },
  {
   "cell_type": "code",
   "execution_count": null,
   "id": "2383bbcd-6c01-4e91-9b68-3544c78e3de8",
   "metadata": {},
   "outputs": [],
   "source": []
  },
  {
   "cell_type": "code",
   "execution_count": null,
   "id": "fae958a4-4ad4-4a46-a95c-721de853b3aa",
   "metadata": {},
   "outputs": [],
   "source": []
  },
  {
   "cell_type": "code",
   "execution_count": 28,
   "id": "11cd04e1-a233-47eb-9033-1596158131f6",
   "metadata": {},
   "outputs": [
    {
     "name": "stdout",
     "output_type": "stream",
     "text": [
      "Calculating iso TPM values\n",
      "Subsetting for polya genes\n"
     ]
    },
    {
     "name": "stderr",
     "output_type": "stream",
     "text": [
      "/Users/fairliereese/Documents/programming/mortazavi_lab/data/paper_rnawg/proc_revisions/utils.py:2110: PerformanceWarning: DataFrame is highly fragmented.  This is usually the result of calling `frame.insert` many times, which has poor performance.  Consider joining all columns at once using pd.concat(axis=1) instead.  To get a de-fragmented frame, use `newframe = frame.copy()`\n",
      "  df[tpm_col] = (df[d]*1000000)/df[total_col]\n",
      "/Users/fairliereese/Documents/programming/mortazavi_lab/data/paper_rnawg/proc_revisions/utils.py:2109: PerformanceWarning: DataFrame is highly fragmented.  This is usually the result of calling `frame.insert` many times, which has poor performance.  Consider joining all columns at once using pd.concat(axis=1) instead.  To get a de-fragmented frame, use `newframe = frame.copy()`\n",
      "  df[total_col] = df[d].sum()\n"
     ]
    },
    {
     "name": "stdout",
     "output_type": "stream",
     "text": [
      "Enforcing minimum TPM\n",
      "Total # isos detected: 236615\n",
      "# isos >= 1 tpm: 213476\n",
      "Applying gene type and novelty subset\n",
      "Averaging over biosample\n",
      "Found 51 total samples\n",
      "Number of isos reported: 209819\n",
      "Found 51 samples\n",
      "biosample                    tau\n",
      "ENSG00000000003[1,1,1]  0.789429\n",
      "ENSG00000000003[1,1,5]  0.593311\n",
      "ENSG00000000003[1,1,6]  0.801993\n",
      "ENSG00000000003[1,1,7]  0.546595\n",
      "ENSG00000000003[1,1,8]  0.503875\n",
      "Calculating tss TPM values\n",
      "Subsetting for polya genes\n"
     ]
    },
    {
     "name": "stderr",
     "output_type": "stream",
     "text": [
      "/Users/fairliereese/Documents/programming/mortazavi_lab/data/paper_rnawg/proc_revisions/utils.py:2110: PerformanceWarning: DataFrame is highly fragmented.  This is usually the result of calling `frame.insert` many times, which has poor performance.  Consider joining all columns at once using pd.concat(axis=1) instead.  To get a de-fragmented frame, use `newframe = frame.copy()`\n",
      "  df[tpm_col] = (df[d]*1000000)/df[total_col]\n",
      "/Users/fairliereese/Documents/programming/mortazavi_lab/data/paper_rnawg/proc_revisions/utils.py:2109: PerformanceWarning: DataFrame is highly fragmented.  This is usually the result of calling `frame.insert` many times, which has poor performance.  Consider joining all columns at once using pd.concat(axis=1) instead.  To get a de-fragmented frame, use `newframe = frame.copy()`\n",
      "  df[total_col] = df[d].sum()\n"
     ]
    },
    {
     "name": "stdout",
     "output_type": "stream",
     "text": [
      "Enforcing minimum TPM\n",
      "Total # tsss detected: 73812\n",
      "# tsss >= 1 tpm: 64913\n",
      "Applying gene type and novelty subset\n",
      "Averaging over biosample\n",
      "Found 51 total samples\n",
      "Number of tsss reported: 61664\n",
      "Found 51 samples\n",
      "biosample               tau\n",
      "ENSG00000000003_1  0.490305\n",
      "ENSG00000000005_3  0.971963\n",
      "ENSG00000000419_1  0.276564\n",
      "ENSG00000000419_8  0.852418\n",
      "ENSG00000000457_1  0.487450\n",
      "Calculating ic TPM values\n",
      "Subsetting for polya genes\n"
     ]
    },
    {
     "name": "stderr",
     "output_type": "stream",
     "text": [
      "/Users/fairliereese/Documents/programming/mortazavi_lab/data/paper_rnawg/proc_revisions/utils.py:2110: PerformanceWarning: DataFrame is highly fragmented.  This is usually the result of calling `frame.insert` many times, which has poor performance.  Consider joining all columns at once using pd.concat(axis=1) instead.  To get a de-fragmented frame, use `newframe = frame.copy()`\n",
      "  df[tpm_col] = (df[d]*1000000)/df[total_col]\n",
      "/Users/fairliereese/Documents/programming/mortazavi_lab/data/paper_rnawg/proc_revisions/utils.py:2109: PerformanceWarning: DataFrame is highly fragmented.  This is usually the result of calling `frame.insert` many times, which has poor performance.  Consider joining all columns at once using pd.concat(axis=1) instead.  To get a de-fragmented frame, use `newframe = frame.copy()`\n",
      "  df[total_col] = df[d].sum()\n"
     ]
    },
    {
     "name": "stdout",
     "output_type": "stream",
     "text": [
      "Enforcing minimum TPM\n",
      "Total # ics detected: 145392\n",
      "# ics >= 1 tpm: 131409\n",
      "Applying gene type and novelty subset\n",
      "Averaging over biosample\n",
      "Found 51 total samples\n",
      "Number of ics reported: 128159\n",
      "Found 51 samples\n",
      "biosample                tau\n",
      "ENSG00000000003_1   0.495843\n",
      "ENSG00000000003_10  0.741649\n",
      "ENSG00000000003_11  0.854999\n",
      "ENSG00000000003_12  0.857591\n",
      "ENSG00000000003_4   0.980392\n",
      "Calculating tes TPM values\n",
      "Subsetting for polya genes\n"
     ]
    },
    {
     "name": "stderr",
     "output_type": "stream",
     "text": [
      "/Users/fairliereese/Documents/programming/mortazavi_lab/data/paper_rnawg/proc_revisions/utils.py:2110: PerformanceWarning: DataFrame is highly fragmented.  This is usually the result of calling `frame.insert` many times, which has poor performance.  Consider joining all columns at once using pd.concat(axis=1) instead.  To get a de-fragmented frame, use `newframe = frame.copy()`\n",
      "  df[tpm_col] = (df[d]*1000000)/df[total_col]\n",
      "/Users/fairliereese/Documents/programming/mortazavi_lab/data/paper_rnawg/proc_revisions/utils.py:2109: PerformanceWarning: DataFrame is highly fragmented.  This is usually the result of calling `frame.insert` many times, which has poor performance.  Consider joining all columns at once using pd.concat(axis=1) instead.  To get a de-fragmented frame, use `newframe = frame.copy()`\n",
      "  df[total_col] = df[d].sum()\n"
     ]
    },
    {
     "name": "stdout",
     "output_type": "stream",
     "text": [
      "Enforcing minimum TPM\n",
      "Total # tess detected: 87189\n",
      "# tess >= 1 tpm: 76035\n",
      "Applying gene type and novelty subset\n",
      "Averaging over biosample\n",
      "Found 51 total samples\n",
      "Number of tess reported: 72806\n",
      "Found 51 samples\n",
      "biosample               tau\n",
      "ENSG00000000003_1  0.748463\n",
      "ENSG00000000003_3  0.980392\n",
      "ENSG00000000003_5  0.587896\n",
      "ENSG00000000003_6  0.746722\n",
      "ENSG00000000003_7  0.540710\n"
     ]
    }
   ],
   "source": [
    "tau_df = pd.DataFrame()\n",
    "for feat in ['iso', 'tss', 'ic', 'tes']:\n",
    "    df = pd.read_csv(filt_ab, sep='\\t')\n",
    "    df, tids = get_tpm_table(df,\n",
    "                       how=feat,\n",
    "                       min_tpm=min_tpm,\n",
    "                       gene_subset=gene_subset,\n",
    "                       groupby='sample')\n",
    "    temp = compute_tau(df) \n",
    "    print(temp.head())\n",
    "    temp['feat'] = feat\n",
    "    tau_df = pd.concat([tau_df, temp], axis=0)\n",
    "    "
   ]
  },
  {
   "cell_type": "code",
   "execution_count": 33,
   "id": "1ef45c64-880b-46fe-923a-1f39e726db1a",
   "metadata": {},
   "outputs": [
    {
     "data": {
      "text/plain": [
       "{'tss': '#56B4E9', 'ic': '#CC79A7', 'tes': '#E69F00', 'iso': '#009E73'}"
      ]
     },
     "execution_count": 33,
     "metadata": {},
     "output_type": "execute_result"
    }
   ],
   "source": [
    "c_dict, order = get_feat_triplet_colors()\n",
    "c_dict['iso'] = c_dict.pop('triplet')\n",
    "c_dict"
   ]
  },
  {
   "cell_type": "code",
   "execution_count": 34,
   "id": "935ceae6-61e8-4d44-8943-e2343c24b6db",
   "metadata": {},
   "outputs": [],
   "source": [
    "spec_cutoff=0.85"
   ]
  },
  {
   "cell_type": "code",
   "execution_count": 35,
   "id": "6725fdce-e192-47d1-a62c-92fd424a1d26",
   "metadata": {},
   "outputs": [
    {
     "data": {
      "image/png": "[encoded data removed]",
      "text/plain": [
       "<Figure size 446.735x360 with 1 Axes>"
      ]
     },
     "metadata": {
      "needs_background": "light"
     },
     "output_type": "display_data"
    }
   ],
   "source": [
    "sns.set_context('paper', font_scale=2)\n",
    "mpl.rcParams['font.family'] = 'Arial'\n",
    "mpl.rcParams['pdf.fonttype'] = 42\n",
    "ax = sns.displot(data=tau_df, x='tau', kind='kde', hue='feat', common_norm=False, palette=c_dict)\n",
    "ax.set(xlabel='Tau sample * condition specificity')\n",
    "ylims = plt.gca().get_ylim()\n",
    "color = '#5c5c5c'\n",
    "plt.gca().vlines(spec_cutoff, ylims[0], ylims[1],\n",
    "                      colors=color, linestyles='dashed',\n",
    "                      linewidth=1)\n",
    "plt.savefig('figures/tau_dists.pdf', bbox_inches='tight', dpi=500)"
   ]
  },
  {
   "cell_type": "code",
   "execution_count": 273,
   "id": "b4a7d409-728f-4067-b011-93d63c0427b2",
   "metadata": {},
   "outputs": [],
   "source": [
    "tau_df.reset_index(inplace=True)\n"
   ]
  },
  {
   "cell_type": "code",
   "execution_count": 274,
   "id": "7eab0ddb-5a48-45cb-bc85-7bbc32198322",
   "metadata": {},
   "outputs": [
    {
     "data": {
      "text/html": [
       "<div>\n",
       "<style scoped>\n",
       "    .dataframe tbody tr th:only-of-type {\n",
       "        vertical-align: middle;\n",
       "    }\n",
       "\n",
       "    .dataframe tbody tr th {\n",
       "        vertical-align: top;\n",
       "    }\n",
       "\n",
       "    .dataframe thead th {\n",
       "        text-align: right;\n",
       "    }\n",
       "</style>\n",
       "<table border=\"1\" class=\"dataframe\">\n",
       "  <thead>\n",
       "    <tr style=\"text-align: right;\">\n",
       "      <th>biosample</th>\n",
       "      <th>index</th>\n",
       "      <th>tau</th>\n",
       "      <th>feat</th>\n",
       "      <th>specific</th>\n",
       "    </tr>\n",
       "  </thead>\n",
       "  <tbody>\n",
       "    <tr>\n",
       "      <th>0</th>\n",
       "      <td>ENSG00000000003[1,1,1]</td>\n",
       "      <td>0.789429</td>\n",
       "      <td>iso</td>\n",
       "      <td>False</td>\n",
       "    </tr>\n",
       "    <tr>\n",
       "      <th>1</th>\n",
       "      <td>ENSG00000000003[1,1,5]</td>\n",
       "      <td>0.593311</td>\n",
       "      <td>iso</td>\n",
       "      <td>False</td>\n",
       "    </tr>\n",
       "    <tr>\n",
       "      <th>2</th>\n",
       "      <td>ENSG00000000003[1,1,6]</td>\n",
       "      <td>0.801993</td>\n",
       "      <td>iso</td>\n",
       "      <td>False</td>\n",
       "    </tr>\n",
       "    <tr>\n",
       "      <th>3</th>\n",
       "      <td>ENSG00000000003[1,1,7]</td>\n",
       "      <td>0.546595</td>\n",
       "      <td>iso</td>\n",
       "      <td>False</td>\n",
       "    </tr>\n",
       "    <tr>\n",
       "      <th>4</th>\n",
       "      <td>ENSG00000000003[1,1,8]</td>\n",
       "      <td>0.503875</td>\n",
       "      <td>iso</td>\n",
       "      <td>False</td>\n",
       "    </tr>\n",
       "    <tr>\n",
       "      <th>...</th>\n",
       "      <td>...</td>\n",
       "      <td>...</td>\n",
       "      <td>...</td>\n",
       "      <td>...</td>\n",
       "    </tr>\n",
       "    <tr>\n",
       "      <th>472443</th>\n",
       "      <td>ENSG00000285976_1</td>\n",
       "      <td>0.281481</td>\n",
       "      <td>tes</td>\n",
       "      <td>False</td>\n",
       "    </tr>\n",
       "    <tr>\n",
       "      <th>472444</th>\n",
       "      <td>ENSG00000285976_2</td>\n",
       "      <td>0.343918</td>\n",
       "      <td>tes</td>\n",
       "      <td>False</td>\n",
       "    </tr>\n",
       "    <tr>\n",
       "      <th>472445</th>\n",
       "      <td>ENSG00000285976_3</td>\n",
       "      <td>0.832833</td>\n",
       "      <td>tes</td>\n",
       "      <td>False</td>\n",
       "    </tr>\n",
       "    <tr>\n",
       "      <th>472446</th>\n",
       "      <td>ENSG00000285976_4</td>\n",
       "      <td>0.581714</td>\n",
       "      <td>tes</td>\n",
       "      <td>False</td>\n",
       "    </tr>\n",
       "    <tr>\n",
       "      <th>472447</th>\n",
       "      <td>ENSG00000285988_2</td>\n",
       "      <td>0.954021</td>\n",
       "      <td>tes</td>\n",
       "      <td>True</td>\n",
       "    </tr>\n",
       "  </tbody>\n",
       "</table>\n",
       "<p>472448 rows × 4 columns</p>\n",
       "</div>"
      ],
      "text/plain": [
       "biosample                   index       tau feat  specific\n",
       "0          ENSG00000000003[1,1,1]  0.789429  iso     False\n",
       "1          ENSG00000000003[1,1,5]  0.593311  iso     False\n",
       "2          ENSG00000000003[1,1,6]  0.801993  iso     False\n",
       "3          ENSG00000000003[1,1,7]  0.546595  iso     False\n",
       "4          ENSG00000000003[1,1,8]  0.503875  iso     False\n",
       "...                           ...       ...  ...       ...\n",
       "472443          ENSG00000285976_1  0.281481  tes     False\n",
       "472444          ENSG00000285976_2  0.343918  tes     False\n",
       "472445          ENSG00000285976_3  0.832833  tes     False\n",
       "472446          ENSG00000285976_4  0.581714  tes     False\n",
       "472447          ENSG00000285988_2  0.954021  tes      True\n",
       "\n",
       "[472448 rows x 4 columns]"
      ]
     },
     "execution_count": 274,
     "metadata": {},
     "output_type": "execute_result"
    }
   ],
   "source": [
    "tau_df"
   ]
  },
  {
   "cell_type": "code",
   "execution_count": 285,
   "id": "1e8b889d-72e9-40dc-80eb-2b6a2569d57a",
   "metadata": {},
   "outputs": [],
   "source": [
    "tau_df['specific'] = tau_df.tau>=spec_cutoff\n",
    "temp = tau_df[['index', 'feat', 'specific']].groupby(['feat', 'specific']).count().rename({'index':'n_spec_feat'}, axis=1).reset_index()\n",
    "temp2 = tau_df[['index', 'feat']].groupby('feat').count().rename({'index':'n_total_feat'}, axis=1).reset_index()"
   ]
  },
  {
   "cell_type": "code",
   "execution_count": 290,
   "id": "1154702c-654f-4adc-940e-88bfde5356de",
   "metadata": {},
   "outputs": [
    {
     "data": {
      "text/html": [
       "<div>\n",
       "<style scoped>\n",
       "    .dataframe tbody tr th:only-of-type {\n",
       "        vertical-align: middle;\n",
       "    }\n",
       "\n",
       "    .dataframe tbody tr th {\n",
       "        vertical-align: top;\n",
       "    }\n",
       "\n",
       "    .dataframe thead th {\n",
       "        text-align: right;\n",
       "    }\n",
       "</style>\n",
       "<table border=\"1\" class=\"dataframe\">\n",
       "  <thead>\n",
       "    <tr style=\"text-align: right;\">\n",
       "      <th>biosample</th>\n",
       "      <th>feat</th>\n",
       "      <th>specific</th>\n",
       "      <th>n_spec_feat</th>\n",
       "      <th>n_total_feat</th>\n",
       "    </tr>\n",
       "  </thead>\n",
       "  <tbody>\n",
       "    <tr>\n",
       "      <th>0</th>\n",
       "      <td>ic</td>\n",
       "      <td>False</td>\n",
       "      <td>57653</td>\n",
       "      <td>128159</td>\n",
       "    </tr>\n",
       "    <tr>\n",
       "      <th>1</th>\n",
       "      <td>ic</td>\n",
       "      <td>True</td>\n",
       "      <td>70506</td>\n",
       "      <td>128159</td>\n",
       "    </tr>\n",
       "    <tr>\n",
       "      <th>2</th>\n",
       "      <td>iso</td>\n",
       "      <td>False</td>\n",
       "      <td>77433</td>\n",
       "      <td>209819</td>\n",
       "    </tr>\n",
       "    <tr>\n",
       "      <th>3</th>\n",
       "      <td>iso</td>\n",
       "      <td>True</td>\n",
       "      <td>132386</td>\n",
       "      <td>209819</td>\n",
       "    </tr>\n",
       "    <tr>\n",
       "      <th>4</th>\n",
       "      <td>tes</td>\n",
       "      <td>False</td>\n",
       "      <td>31954</td>\n",
       "      <td>72806</td>\n",
       "    </tr>\n",
       "    <tr>\n",
       "      <th>5</th>\n",
       "      <td>tes</td>\n",
       "      <td>True</td>\n",
       "      <td>40852</td>\n",
       "      <td>72806</td>\n",
       "    </tr>\n",
       "    <tr>\n",
       "      <th>6</th>\n",
       "      <td>tss</td>\n",
       "      <td>False</td>\n",
       "      <td>26327</td>\n",
       "      <td>61664</td>\n",
       "    </tr>\n",
       "    <tr>\n",
       "      <th>7</th>\n",
       "      <td>tss</td>\n",
       "      <td>True</td>\n",
       "      <td>35337</td>\n",
       "      <td>61664</td>\n",
       "    </tr>\n",
       "  </tbody>\n",
       "</table>\n",
       "</div>"
      ],
      "text/plain": [
       "biosample feat  specific  n_spec_feat  n_total_feat\n",
       "0           ic     False        57653        128159\n",
       "1           ic      True        70506        128159\n",
       "2          iso     False        77433        209819\n",
       "3          iso      True       132386        209819\n",
       "4          tes     False        31954         72806\n",
       "5          tes      True        40852         72806\n",
       "6          tss     False        26327         61664\n",
       "7          tss      True        35337         61664"
      ]
     },
     "execution_count": 290,
     "metadata": {},
     "output_type": "execute_result"
    }
   ],
   "source": [
    "temp = temp.merge(temp2, how='left', on=['feat'])\n",
    "temp"
   ]
  },
  {
   "cell_type": "code",
   "execution_count": 292,
   "id": "aa3d56b8-1cc8-4cba-bc14-1f108539b27b",
   "metadata": {},
   "outputs": [
    {
     "data": {
      "text/html": [
       "<div>\n",
       "<style scoped>\n",
       "    .dataframe tbody tr th:only-of-type {\n",
       "        vertical-align: middle;\n",
       "    }\n",
       "\n",
       "    .dataframe tbody tr th {\n",
       "        vertical-align: top;\n",
       "    }\n",
       "\n",
       "    .dataframe thead th {\n",
       "        text-align: right;\n",
       "    }\n",
       "</style>\n",
       "<table border=\"1\" class=\"dataframe\">\n",
       "  <thead>\n",
       "    <tr style=\"text-align: right;\">\n",
       "      <th>biosample</th>\n",
       "      <th>feat</th>\n",
       "      <th>specific</th>\n",
       "      <th>n_spec_feat</th>\n",
       "      <th>n_total_feat</th>\n",
       "      <th>perc</th>\n",
       "    </tr>\n",
       "  </thead>\n",
       "  <tbody>\n",
       "    <tr>\n",
       "      <th>0</th>\n",
       "      <td>ic</td>\n",
       "      <td>False</td>\n",
       "      <td>57653</td>\n",
       "      <td>128159</td>\n",
       "      <td>44.985526</td>\n",
       "    </tr>\n",
       "    <tr>\n",
       "      <th>1</th>\n",
       "      <td>ic</td>\n",
       "      <td>True</td>\n",
       "      <td>70506</td>\n",
       "      <td>128159</td>\n",
       "      <td>55.014474</td>\n",
       "    </tr>\n",
       "    <tr>\n",
       "      <th>2</th>\n",
       "      <td>iso</td>\n",
       "      <td>False</td>\n",
       "      <td>77433</td>\n",
       "      <td>209819</td>\n",
       "      <td>36.904665</td>\n",
       "    </tr>\n",
       "    <tr>\n",
       "      <th>3</th>\n",
       "      <td>iso</td>\n",
       "      <td>True</td>\n",
       "      <td>132386</td>\n",
       "      <td>209819</td>\n",
       "      <td>63.095335</td>\n",
       "    </tr>\n",
       "    <tr>\n",
       "      <th>4</th>\n",
       "      <td>tes</td>\n",
       "      <td>False</td>\n",
       "      <td>31954</td>\n",
       "      <td>72806</td>\n",
       "      <td>43.889240</td>\n",
       "    </tr>\n",
       "    <tr>\n",
       "      <th>5</th>\n",
       "      <td>tes</td>\n",
       "      <td>True</td>\n",
       "      <td>40852</td>\n",
       "      <td>72806</td>\n",
       "      <td>56.110760</td>\n",
       "    </tr>\n",
       "    <tr>\n",
       "      <th>6</th>\n",
       "      <td>tss</td>\n",
       "      <td>False</td>\n",
       "      <td>26327</td>\n",
       "      <td>61664</td>\n",
       "      <td>42.694279</td>\n",
       "    </tr>\n",
       "    <tr>\n",
       "      <th>7</th>\n",
       "      <td>tss</td>\n",
       "      <td>True</td>\n",
       "      <td>35337</td>\n",
       "      <td>61664</td>\n",
       "      <td>57.305721</td>\n",
       "    </tr>\n",
       "  </tbody>\n",
       "</table>\n",
       "</div>"
      ],
      "text/plain": [
       "biosample feat  specific  n_spec_feat  n_total_feat       perc\n",
       "0           ic     False        57653        128159  44.985526\n",
       "1           ic      True        70506        128159  55.014474\n",
       "2          iso     False        77433        209819  36.904665\n",
       "3          iso      True       132386        209819  63.095335\n",
       "4          tes     False        31954         72806  43.889240\n",
       "5          tes      True        40852         72806  56.110760\n",
       "6          tss     False        26327         61664  42.694279\n",
       "7          tss      True        35337         61664  57.305721"
      ]
     },
     "execution_count": 292,
     "metadata": {},
     "output_type": "execute_result"
    }
   ],
   "source": [
    "temp['perc'] = (temp.n_spec_feat/temp.n_total_feat)*100\n",
    "temp"
   ]
  },
  {
   "cell_type": "code",
   "execution_count": 226,
   "id": "546e6d84-a549-4050-933e-669f876d3948",
   "metadata": {},
   "outputs": [
    {
     "data": {
      "text/html": [
       "<div>\n",
       "<style scoped>\n",
       "    .dataframe tbody tr th:only-of-type {\n",
       "        vertical-align: middle;\n",
       "    }\n",
       "\n",
       "    .dataframe tbody tr th {\n",
       "        vertical-align: top;\n",
       "    }\n",
       "\n",
       "    .dataframe thead th {\n",
       "        text-align: right;\n",
       "    }\n",
       "</style>\n",
       "<table border=\"1\" class=\"dataframe\">\n",
       "  <thead>\n",
       "    <tr style=\"text-align: right;\">\n",
       "      <th>biosample</th>\n",
       "      <th>tau</th>\n",
       "      <th>feat</th>\n",
       "    </tr>\n",
       "  </thead>\n",
       "  <tbody>\n",
       "    <tr>\n",
       "      <th>ENSG00000000003[1,10,1]</th>\n",
       "      <td>0.862173</td>\n",
       "      <td>iso</td>\n",
       "    </tr>\n",
       "    <tr>\n",
       "      <th>ENSG00000000003[1,10,5]</th>\n",
       "      <td>0.854099</td>\n",
       "      <td>iso</td>\n",
       "    </tr>\n",
       "    <tr>\n",
       "      <th>ENSG00000000003[1,10,6]</th>\n",
       "      <td>0.967408</td>\n",
       "      <td>iso</td>\n",
       "    </tr>\n",
       "    <tr>\n",
       "      <th>ENSG00000000003[1,10,8]</th>\n",
       "      <td>0.872658</td>\n",
       "      <td>iso</td>\n",
       "    </tr>\n",
       "    <tr>\n",
       "      <th>ENSG00000000003[1,11,5]</th>\n",
       "      <td>0.961213</td>\n",
       "      <td>iso</td>\n",
       "    </tr>\n",
       "  </tbody>\n",
       "</table>\n",
       "</div>"
      ],
      "text/plain": [
       "biosample                     tau feat\n",
       "ENSG00000000003[1,10,1]  0.862173  iso\n",
       "ENSG00000000003[1,10,5]  0.854099  iso\n",
       "ENSG00000000003[1,10,6]  0.967408  iso\n",
       "ENSG00000000003[1,10,8]  0.872658  iso\n",
       "ENSG00000000003[1,11,5]  0.961213  iso"
      ]
     },
     "execution_count": 226,
     "metadata": {},
     "output_type": "execute_result"
    }
   ],
   "source": [
    "# get tissue-specific bois\n",
    "df = tau_df.loc[(tau_df.tau>=spec_cutoff)&(tau_df.feat=='iso')]\n",
    "df.head()"
   ]
  },
  {
   "cell_type": "code",
   "execution_count": 227,
   "id": "51dd9db0-20b0-465d-8367-b2b9830c1735",
   "metadata": {},
   "outputs": [],
   "source": [
    "# what does diversity look like between these guys? \n",
    "ca = cerberus.read(cerberus_h5)\n",
    "gtf_df,_,_ = get_gtf_info(ver='v40_cerberus', add_stable_gid=True)\n",
    "tids = df.index.tolist() \n",
    "df = ca.get_subset_triplets(tids, source='specific_isos')\n",
    "df.rename({'gene_id':'gid'}, axis=1, inplace=True)\n",
    "df = df.merge(gtf_df[['gid_stable', 'gname', 'biotype_category']], how='left', left_on='gid', right_on='gid_stable')\n",
    "ca.add_triplets(df)"
   ]
  },
  {
   "cell_type": "code",
   "execution_count": 228,
   "id": "97605001-82ce-472c-b528-3d2e9b095363",
   "metadata": {},
   "outputs": [
    {
     "data": {
      "text/html": [
       "<div>\n",
       "<style scoped>\n",
       "    .dataframe tbody tr th:only-of-type {\n",
       "        vertical-align: middle;\n",
       "    }\n",
       "\n",
       "    .dataframe tbody tr th {\n",
       "        vertical-align: top;\n",
       "    }\n",
       "\n",
       "    .dataframe thead th {\n",
       "        text-align: right;\n",
       "    }\n",
       "</style>\n",
       "<table border=\"1\" class=\"dataframe\">\n",
       "  <thead>\n",
       "    <tr style=\"text-align: right;\">\n",
       "      <th></th>\n",
       "      <th>gid</th>\n",
       "      <th>n_iso</th>\n",
       "      <th>n_tss</th>\n",
       "      <th>n_ic</th>\n",
       "      <th>n_tes</th>\n",
       "      <th>splicing_ratio</th>\n",
       "      <th>tss_ratio</th>\n",
       "      <th>tes_ratio</th>\n",
       "      <th>spl_ratio</th>\n",
       "      <th>sector</th>\n",
       "      <th>source</th>\n",
       "      <th>gid_stable</th>\n",
       "      <th>gname</th>\n",
       "      <th>biotype_category</th>\n",
       "    </tr>\n",
       "  </thead>\n",
       "  <tbody>\n",
       "    <tr>\n",
       "      <th>0</th>\n",
       "      <td>ENSG00000000003</td>\n",
       "      <td>19</td>\n",
       "      <td>1</td>\n",
       "      <td>8</td>\n",
       "      <td>6</td>\n",
       "      <td>2.285714</td>\n",
       "      <td>0.107692</td>\n",
       "      <td>0.646154</td>\n",
       "      <td>0.246154</td>\n",
       "      <td>tes</td>\n",
       "      <td>specific_isos</td>\n",
       "      <td>ENSG00000000003</td>\n",
       "      <td>TSPAN6</td>\n",
       "      <td>protein_coding</td>\n",
       "    </tr>\n",
       "    <tr>\n",
       "      <th>1</th>\n",
       "      <td>ENSG00000000005</td>\n",
       "      <td>1</td>\n",
       "      <td>1</td>\n",
       "      <td>1</td>\n",
       "      <td>1</td>\n",
       "      <td>1.000000</td>\n",
       "      <td>0.333333</td>\n",
       "      <td>0.333333</td>\n",
       "      <td>0.333333</td>\n",
       "      <td>simple</td>\n",
       "      <td>specific_isos</td>\n",
       "      <td>ENSG00000000005</td>\n",
       "      <td>TNMD</td>\n",
       "      <td>protein_coding</td>\n",
       "    </tr>\n",
       "    <tr>\n",
       "      <th>2</th>\n",
       "      <td>ENSG00000000419</td>\n",
       "      <td>2</td>\n",
       "      <td>2</td>\n",
       "      <td>2</td>\n",
       "      <td>2</td>\n",
       "      <td>1.000000</td>\n",
       "      <td>0.400000</td>\n",
       "      <td>0.400000</td>\n",
       "      <td>0.200000</td>\n",
       "      <td>mixed</td>\n",
       "      <td>specific_isos</td>\n",
       "      <td>ENSG00000000419</td>\n",
       "      <td>DPM1</td>\n",
       "      <td>protein_coding</td>\n",
       "    </tr>\n",
       "    <tr>\n",
       "      <th>3</th>\n",
       "      <td>ENSG00000000457</td>\n",
       "      <td>4</td>\n",
       "      <td>3</td>\n",
       "      <td>3</td>\n",
       "      <td>4</td>\n",
       "      <td>0.857143</td>\n",
       "      <td>0.381818</td>\n",
       "      <td>0.509091</td>\n",
       "      <td>0.109091</td>\n",
       "      <td>tes</td>\n",
       "      <td>specific_isos</td>\n",
       "      <td>ENSG00000000457</td>\n",
       "      <td>SCYL3</td>\n",
       "      <td>protein_coding</td>\n",
       "    </tr>\n",
       "    <tr>\n",
       "      <th>4</th>\n",
       "      <td>ENSG00000000460</td>\n",
       "      <td>12</td>\n",
       "      <td>3</td>\n",
       "      <td>6</td>\n",
       "      <td>4</td>\n",
       "      <td>1.714286</td>\n",
       "      <td>0.344262</td>\n",
       "      <td>0.459016</td>\n",
       "      <td>0.196721</td>\n",
       "      <td>mixed</td>\n",
       "      <td>specific_isos</td>\n",
       "      <td>ENSG00000000460</td>\n",
       "      <td>C1orf112</td>\n",
       "      <td>protein_coding</td>\n",
       "    </tr>\n",
       "  </tbody>\n",
       "</table>\n",
       "</div>"
      ],
      "text/plain": [
       "               gid  n_iso  n_tss  n_ic  n_tes  splicing_ratio  tss_ratio  \\\n",
       "0  ENSG00000000003     19      1     8      6        2.285714   0.107692   \n",
       "1  ENSG00000000005      1      1     1      1        1.000000   0.333333   \n",
       "2  ENSG00000000419      2      2     2      2        1.000000   0.400000   \n",
       "3  ENSG00000000457      4      3     3      4        0.857143   0.381818   \n",
       "4  ENSG00000000460     12      3     6      4        1.714286   0.344262   \n",
       "\n",
       "   tes_ratio  spl_ratio  sector         source       gid_stable     gname  \\\n",
       "0   0.646154   0.246154     tes  specific_isos  ENSG00000000003    TSPAN6   \n",
       "1   0.333333   0.333333  simple  specific_isos  ENSG00000000005      TNMD   \n",
       "2   0.400000   0.200000   mixed  specific_isos  ENSG00000000419      DPM1   \n",
       "3   0.509091   0.109091     tes  specific_isos  ENSG00000000457     SCYL3   \n",
       "4   0.459016   0.196721   mixed  specific_isos  ENSG00000000460  C1orf112   \n",
       "\n",
       "  biotype_category  \n",
       "0   protein_coding  \n",
       "1   protein_coding  \n",
       "2   protein_coding  \n",
       "3   protein_coding  \n",
       "4   protein_coding  "
      ]
     },
     "execution_count": 228,
     "metadata": {},
     "output_type": "execute_result"
    }
   ],
   "source": [
    "df.head()"
   ]
  },
  {
   "cell_type": "code",
   "execution_count": 230,
   "id": "4810ace9-4762-4caa-88ec-3c0d3e260580",
   "metadata": {},
   "outputs": [
    {
     "data": {
      "image/png": "[encoded data removed]",
      "text/plain": [
       "<Figure size 462.931x432 with 1 Axes>"
      ]
     },
     "metadata": {},
     "output_type": "display_data"
    },
    {
     "data": {
      "text/plain": [
       "<Figure size 432x288 with 0 Axes>"
      ]
     },
     "metadata": {},
     "output_type": "display_data"
    },
    {
     "data": {
      "image/png": "[encoded data removed]",
      "text/plain": [
       "<Figure size 360x360 with 1 Axes>"
      ]
     },
     "metadata": {
      "needs_background": "light"
     },
     "output_type": "display_data"
    },
    {
     "data": {
      "text/plain": [
       "<Figure size 432x288 with 0 Axes>"
      ]
     },
     "metadata": {},
     "output_type": "display_data"
    }
   ],
   "source": [
    "c_dict, order = get_sector_colors()\n",
    "species='human'\n",
    "\n",
    "fname = f'figures/{species}_tissue_specific_simplex.pdf'\n",
    "subset = {'source': 'specific_isos'}\n",
    "title = species\n",
    "\n",
    "temp = ca.plot_simplex(top='splicing_ratio',\n",
    "        subset=subset,\n",
    "        density=True,\n",
    "        density_scale=100,\n",
    "        density_cmap='Purples',\n",
    "        log_density=True,\n",
    "        sectors=True,\n",
    "        scatter=False,\n",
    "        legend=False,\n",
    "        title=title,\n",
    "        size_scale=0.6,\n",
    "        density_cbar=False,\n",
    "        fname=fname)\n",
    "\n",
    "plt.show()\n",
    "plt.clf()\n",
    "\n",
    "\n",
    "temp = temp[['gid', 'sector']].groupby('sector').count().reset_index().rename({'gid': 'n_genes'}, axis=1)\n",
    "temp['total'] = temp.n_genes.sum()\n",
    "temp['perc'] = (temp['n_genes']/temp['total'])*100\n",
    "\n",
    "sns.set_context('paper', font_scale=2)\n",
    "mpl.rcParams['font.family'] = 'Arial'\n",
    "mpl.rcParams['pdf.fonttype'] = 42\n",
    "plt.figure(figsize=(5,5))\n",
    "\n",
    "ax = sns.barplot(data=temp, y='perc', x='sector',\n",
    "                 palette=c_dict, order=order,\n",
    "                 saturation=1)\n",
    "                 # , height=3, aspect=1.2)\n",
    "ax.spines['right'].set_visible(False)\n",
    "ax.spines['top'].set_visible(False)\n",
    "ax.set_ylabel('% genes in sector')\n",
    "ax.set_xlabel('')\n",
    "\n",
    "def add_perc_2(ax):\n",
    "    ylim = ax.get_ylim()[1]\n",
    "    n_cats = len(ax.patches)\n",
    "    for p in ax.patches:\n",
    "        percentage = '{:.1f}%'.format(p.get_height())\n",
    "        x = p.get_x() + p.get_width() / 2\n",
    "        y = p.get_y() + p.get_height() + ylim*0.01\n",
    "        ax.annotate(percentage, (x, y), size=16, horizontalalignment='center')\n",
    "\n",
    "add_perc_2(ax)\n",
    "fname = f'figures/{species}_specific_isos_genes_per_sector.pdf'\n",
    "plt.savefig(fname, dpi=500)\n",
    "plt.show()\n",
    "plt.clf()"
   ]
  },
  {
   "cell_type": "code",
   "execution_count": 231,
   "id": "962d8557-ce1d-41a8-aa19-463c13414d90",
   "metadata": {},
   "outputs": [
    {
     "data": {
      "text/html": [
       "<div>\n",
       "<style scoped>\n",
       "    .dataframe tbody tr th:only-of-type {\n",
       "        vertical-align: middle;\n",
       "    }\n",
       "\n",
       "    .dataframe tbody tr th {\n",
       "        vertical-align: top;\n",
       "    }\n",
       "\n",
       "    .dataframe thead th {\n",
       "        text-align: right;\n",
       "    }\n",
       "</style>\n",
       "<table border=\"1\" class=\"dataframe\">\n",
       "  <thead>\n",
       "    <tr style=\"text-align: right;\">\n",
       "      <th></th>\n",
       "      <th>gid</th>\n",
       "      <th>n_iso</th>\n",
       "      <th>n_tss</th>\n",
       "      <th>n_ic</th>\n",
       "      <th>n_tes</th>\n",
       "      <th>splicing_ratio</th>\n",
       "      <th>tss_ratio</th>\n",
       "      <th>tes_ratio</th>\n",
       "      <th>spl_ratio</th>\n",
       "      <th>sector</th>\n",
       "      <th>source</th>\n",
       "      <th>gid_stable</th>\n",
       "      <th>gname</th>\n",
       "      <th>biotype_category</th>\n",
       "    </tr>\n",
       "  </thead>\n",
       "  <tbody>\n",
       "    <tr>\n",
       "      <th>0</th>\n",
       "      <td>ENSG00000000003</td>\n",
       "      <td>19</td>\n",
       "      <td>1</td>\n",
       "      <td>8</td>\n",
       "      <td>6</td>\n",
       "      <td>2.285714</td>\n",
       "      <td>0.107692</td>\n",
       "      <td>0.646154</td>\n",
       "      <td>0.246154</td>\n",
       "      <td>tes</td>\n",
       "      <td>specific_isos</td>\n",
       "      <td>ENSG00000000003</td>\n",
       "      <td>TSPAN6</td>\n",
       "      <td>protein_coding</td>\n",
       "    </tr>\n",
       "    <tr>\n",
       "      <th>1</th>\n",
       "      <td>ENSG00000000005</td>\n",
       "      <td>1</td>\n",
       "      <td>1</td>\n",
       "      <td>1</td>\n",
       "      <td>1</td>\n",
       "      <td>1.000000</td>\n",
       "      <td>0.333333</td>\n",
       "      <td>0.333333</td>\n",
       "      <td>0.333333</td>\n",
       "      <td>simple</td>\n",
       "      <td>specific_isos</td>\n",
       "      <td>ENSG00000000005</td>\n",
       "      <td>TNMD</td>\n",
       "      <td>protein_coding</td>\n",
       "    </tr>\n",
       "    <tr>\n",
       "      <th>2</th>\n",
       "      <td>ENSG00000000419</td>\n",
       "      <td>2</td>\n",
       "      <td>2</td>\n",
       "      <td>2</td>\n",
       "      <td>2</td>\n",
       "      <td>1.000000</td>\n",
       "      <td>0.400000</td>\n",
       "      <td>0.400000</td>\n",
       "      <td>0.200000</td>\n",
       "      <td>mixed</td>\n",
       "      <td>specific_isos</td>\n",
       "      <td>ENSG00000000419</td>\n",
       "      <td>DPM1</td>\n",
       "      <td>protein_coding</td>\n",
       "    </tr>\n",
       "    <tr>\n",
       "      <th>3</th>\n",
       "      <td>ENSG00000000457</td>\n",
       "      <td>4</td>\n",
       "      <td>3</td>\n",
       "      <td>3</td>\n",
       "      <td>4</td>\n",
       "      <td>0.857143</td>\n",
       "      <td>0.381818</td>\n",
       "      <td>0.509091</td>\n",
       "      <td>0.109091</td>\n",
       "      <td>tes</td>\n",
       "      <td>specific_isos</td>\n",
       "      <td>ENSG00000000457</td>\n",
       "      <td>SCYL3</td>\n",
       "      <td>protein_coding</td>\n",
       "    </tr>\n",
       "    <tr>\n",
       "      <th>4</th>\n",
       "      <td>ENSG00000000460</td>\n",
       "      <td>12</td>\n",
       "      <td>3</td>\n",
       "      <td>6</td>\n",
       "      <td>4</td>\n",
       "      <td>1.714286</td>\n",
       "      <td>0.344262</td>\n",
       "      <td>0.459016</td>\n",
       "      <td>0.196721</td>\n",
       "      <td>mixed</td>\n",
       "      <td>specific_isos</td>\n",
       "      <td>ENSG00000000460</td>\n",
       "      <td>C1orf112</td>\n",
       "      <td>protein_coding</td>\n",
       "    </tr>\n",
       "  </tbody>\n",
       "</table>\n",
       "</div>"
      ],
      "text/plain": [
       "               gid  n_iso  n_tss  n_ic  n_tes  splicing_ratio  tss_ratio  \\\n",
       "0  ENSG00000000003     19      1     8      6        2.285714   0.107692   \n",
       "1  ENSG00000000005      1      1     1      1        1.000000   0.333333   \n",
       "2  ENSG00000000419      2      2     2      2        1.000000   0.400000   \n",
       "3  ENSG00000000457      4      3     3      4        0.857143   0.381818   \n",
       "4  ENSG00000000460     12      3     6      4        1.714286   0.344262   \n",
       "\n",
       "   tes_ratio  spl_ratio  sector         source       gid_stable     gname  \\\n",
       "0   0.646154   0.246154     tes  specific_isos  ENSG00000000003    TSPAN6   \n",
       "1   0.333333   0.333333  simple  specific_isos  ENSG00000000005      TNMD   \n",
       "2   0.400000   0.200000   mixed  specific_isos  ENSG00000000419      DPM1   \n",
       "3   0.509091   0.109091     tes  specific_isos  ENSG00000000457     SCYL3   \n",
       "4   0.459016   0.196721   mixed  specific_isos  ENSG00000000460  C1orf112   \n",
       "\n",
       "  biotype_category  \n",
       "0   protein_coding  \n",
       "1   protein_coding  \n",
       "2   protein_coding  \n",
       "3   protein_coding  \n",
       "4   protein_coding  "
      ]
     },
     "execution_count": 231,
     "metadata": {},
     "output_type": "execute_result"
    }
   ],
   "source": [
    "df.head()"
   ]
  },
  {
   "cell_type": "code",
   "execution_count": 234,
   "id": "6605f350-01e5-421b-b81f-cb1d9ec5bdad",
   "metadata": {},
   "outputs": [
    {
     "data": {
      "text/html": [
       "<div>\n",
       "<style scoped>\n",
       "    .dataframe tbody tr th:only-of-type {\n",
       "        vertical-align: middle;\n",
       "    }\n",
       "\n",
       "    .dataframe tbody tr th {\n",
       "        vertical-align: top;\n",
       "    }\n",
       "\n",
       "    .dataframe thead th {\n",
       "        text-align: right;\n",
       "    }\n",
       "</style>\n",
       "<table border=\"1\" class=\"dataframe\">\n",
       "  <thead>\n",
       "    <tr style=\"text-align: right;\">\n",
       "      <th></th>\n",
       "      <th>gid</th>\n",
       "      <th>n_iso</th>\n",
       "      <th>n_tss</th>\n",
       "      <th>n_ic</th>\n",
       "      <th>n_tes</th>\n",
       "      <th>splicing_ratio</th>\n",
       "      <th>tss_ratio</th>\n",
       "      <th>tes_ratio</th>\n",
       "      <th>spl_ratio</th>\n",
       "      <th>sector</th>\n",
       "      <th>source</th>\n",
       "      <th>gid_stable</th>\n",
       "      <th>gname</th>\n",
       "      <th>biotype_category</th>\n",
       "      <th>n_genes</th>\n",
       "    </tr>\n",
       "  </thead>\n",
       "  <tbody>\n",
       "    <tr>\n",
       "      <th>0</th>\n",
       "      <td>ENSG00000000003</td>\n",
       "      <td>19</td>\n",
       "      <td>1</td>\n",
       "      <td>8</td>\n",
       "      <td>6</td>\n",
       "      <td>2.285714</td>\n",
       "      <td>0.107692</td>\n",
       "      <td>0.646154</td>\n",
       "      <td>0.246154</td>\n",
       "      <td>tes</td>\n",
       "      <td>specific_isos</td>\n",
       "      <td>ENSG00000000003</td>\n",
       "      <td>TSPAN6</td>\n",
       "      <td>protein_coding</td>\n",
       "      <td>24944</td>\n",
       "    </tr>\n",
       "    <tr>\n",
       "      <th>1</th>\n",
       "      <td>ENSG00000000005</td>\n",
       "      <td>1</td>\n",
       "      <td>1</td>\n",
       "      <td>1</td>\n",
       "      <td>1</td>\n",
       "      <td>1.000000</td>\n",
       "      <td>0.333333</td>\n",
       "      <td>0.333333</td>\n",
       "      <td>0.333333</td>\n",
       "      <td>simple</td>\n",
       "      <td>specific_isos</td>\n",
       "      <td>ENSG00000000005</td>\n",
       "      <td>TNMD</td>\n",
       "      <td>protein_coding</td>\n",
       "      <td>24944</td>\n",
       "    </tr>\n",
       "    <tr>\n",
       "      <th>2</th>\n",
       "      <td>ENSG00000000419</td>\n",
       "      <td>2</td>\n",
       "      <td>2</td>\n",
       "      <td>2</td>\n",
       "      <td>2</td>\n",
       "      <td>1.000000</td>\n",
       "      <td>0.400000</td>\n",
       "      <td>0.400000</td>\n",
       "      <td>0.200000</td>\n",
       "      <td>mixed</td>\n",
       "      <td>specific_isos</td>\n",
       "      <td>ENSG00000000419</td>\n",
       "      <td>DPM1</td>\n",
       "      <td>protein_coding</td>\n",
       "      <td>24944</td>\n",
       "    </tr>\n",
       "    <tr>\n",
       "      <th>3</th>\n",
       "      <td>ENSG00000000457</td>\n",
       "      <td>4</td>\n",
       "      <td>3</td>\n",
       "      <td>3</td>\n",
       "      <td>4</td>\n",
       "      <td>0.857143</td>\n",
       "      <td>0.381818</td>\n",
       "      <td>0.509091</td>\n",
       "      <td>0.109091</td>\n",
       "      <td>tes</td>\n",
       "      <td>specific_isos</td>\n",
       "      <td>ENSG00000000457</td>\n",
       "      <td>SCYL3</td>\n",
       "      <td>protein_coding</td>\n",
       "      <td>24944</td>\n",
       "    </tr>\n",
       "    <tr>\n",
       "      <th>4</th>\n",
       "      <td>ENSG00000000460</td>\n",
       "      <td>12</td>\n",
       "      <td>3</td>\n",
       "      <td>6</td>\n",
       "      <td>4</td>\n",
       "      <td>1.714286</td>\n",
       "      <td>0.344262</td>\n",
       "      <td>0.459016</td>\n",
       "      <td>0.196721</td>\n",
       "      <td>mixed</td>\n",
       "      <td>specific_isos</td>\n",
       "      <td>ENSG00000000460</td>\n",
       "      <td>C1orf112</td>\n",
       "      <td>protein_coding</td>\n",
       "      <td>24944</td>\n",
       "    </tr>\n",
       "  </tbody>\n",
       "</table>\n",
       "</div>"
      ],
      "text/plain": [
       "               gid  n_iso  n_tss  n_ic  n_tes  splicing_ratio  tss_ratio  \\\n",
       "0  ENSG00000000003     19      1     8      6        2.285714   0.107692   \n",
       "1  ENSG00000000005      1      1     1      1        1.000000   0.333333   \n",
       "2  ENSG00000000419      2      2     2      2        1.000000   0.400000   \n",
       "3  ENSG00000000457      4      3     3      4        0.857143   0.381818   \n",
       "4  ENSG00000000460     12      3     6      4        1.714286   0.344262   \n",
       "\n",
       "   tes_ratio  spl_ratio  sector         source       gid_stable     gname  \\\n",
       "0   0.646154   0.246154     tes  specific_isos  ENSG00000000003    TSPAN6   \n",
       "1   0.333333   0.333333  simple  specific_isos  ENSG00000000005      TNMD   \n",
       "2   0.400000   0.200000   mixed  specific_isos  ENSG00000000419      DPM1   \n",
       "3   0.509091   0.109091     tes  specific_isos  ENSG00000000457     SCYL3   \n",
       "4   0.459016   0.196721   mixed  specific_isos  ENSG00000000460  C1orf112   \n",
       "\n",
       "  biotype_category  n_genes  \n",
       "0   protein_coding    24944  \n",
       "1   protein_coding    24944  \n",
       "2   protein_coding    24944  \n",
       "3   protein_coding    24944  \n",
       "4   protein_coding    24944  "
      ]
     },
     "execution_count": 234,
     "metadata": {},
     "output_type": "execute_result"
    }
   ],
   "source": [
    "df['n_genes'] = len(df.gid.unique().tolist())\n",
    "df.head()"
   ]
  },
  {
   "cell_type": "code",
   "execution_count": 244,
   "id": "42c6d0a7-f800-42bd-b29c-be788fcd6016",
   "metadata": {},
   "outputs": [
    {
     "data": {
      "text/html": [
       "<div>\n",
       "<style scoped>\n",
       "    .dataframe tbody tr th:only-of-type {\n",
       "        vertical-align: middle;\n",
       "    }\n",
       "\n",
       "    .dataframe tbody tr th {\n",
       "        vertical-align: top;\n",
       "    }\n",
       "\n",
       "    .dataframe thead th {\n",
       "        text-align: right;\n",
       "    }\n",
       "</style>\n",
       "<table border=\"1\" class=\"dataframe\">\n",
       "  <thead>\n",
       "    <tr style=\"text-align: right;\">\n",
       "      <th></th>\n",
       "      <th>gid</th>\n",
       "      <th>feat</th>\n",
       "      <th>count</th>\n",
       "    </tr>\n",
       "  </thead>\n",
       "  <tbody>\n",
       "    <tr>\n",
       "      <th>0</th>\n",
       "      <td>ENSG00000000003</td>\n",
       "      <td>tss</td>\n",
       "      <td>1</td>\n",
       "    </tr>\n",
       "    <tr>\n",
       "      <th>1</th>\n",
       "      <td>ENSG00000000005</td>\n",
       "      <td>tss</td>\n",
       "      <td>1</td>\n",
       "    </tr>\n",
       "    <tr>\n",
       "      <th>2</th>\n",
       "      <td>ENSG00000000419</td>\n",
       "      <td>tss</td>\n",
       "      <td>2</td>\n",
       "    </tr>\n",
       "    <tr>\n",
       "      <th>3</th>\n",
       "      <td>ENSG00000000457</td>\n",
       "      <td>tss</td>\n",
       "      <td>3</td>\n",
       "    </tr>\n",
       "    <tr>\n",
       "      <th>4</th>\n",
       "      <td>ENSG00000000460</td>\n",
       "      <td>tss</td>\n",
       "      <td>3</td>\n",
       "    </tr>\n",
       "  </tbody>\n",
       "</table>\n",
       "</div>"
      ],
      "text/plain": [
       "               gid feat  count\n",
       "0  ENSG00000000003  tss      1\n",
       "1  ENSG00000000005  tss      1\n",
       "2  ENSG00000000419  tss      2\n",
       "3  ENSG00000000457  tss      3\n",
       "4  ENSG00000000460  tss      3"
      ]
     },
     "execution_count": 244,
     "metadata": {},
     "output_type": "execute_result"
    }
   ],
   "source": [
    "temp = df[['gid', 'n_tss', 'n_ic', 'n_tes']].set_index('gid').melt(ignore_index=False).rename({'variable':'feat', 'value':'count'}, axis=1)\n",
    "temp['feat'] = temp.feat.str.split('n_', expand=True)[1]\n",
    "temp.reset_index(inplace=True)\n",
    "temp.head()"
   ]
  },
  {
   "cell_type": "code",
   "execution_count": 247,
   "id": "22a2fa60-06cb-4b03-a429-7e46f352cfb5",
   "metadata": {},
   "outputs": [
    {
     "data": {
      "text/plain": [
       "{'tss': '#56B4E9', 'ic': '#CC79A7', 'tes': '#E69F00', 'triplet': '#009E73'}"
      ]
     },
     "execution_count": 247,
     "metadata": {},
     "output_type": "execute_result"
    }
   ],
   "source": [
    "c_dict, order = get_feat_triplet_colors()\n",
    "c_dict"
   ]
  },
  {
   "cell_type": "code",
   "execution_count": 263,
   "id": "2dbf6ff9-250f-4f73-88c7-11aa3011c131",
   "metadata": {},
   "outputs": [
    {
     "data": {
      "image/png": "[encoded data removed]",
      "text/plain": [
       "<Figure size 432x288 with 1 Axes>"
      ]
     },
     "metadata": {
      "needs_background": "light"
     },
     "output_type": "display_data"
    }
   ],
   "source": [
    "ax = sns.boxplot(temp, y='count', x='feat', palette=c_dict, saturation=1)\n",
    "ax.spines['right'].set_visible(False)\n",
    "ax.spines['top'].set_visible(False)\n",
    "_ = ax.set(xlabel='', ylabel='# triplet features / gene', title='Triplet features from sample * condition\\nspecific transcripts', yscale='log')\n",
    "plt.savefig('figures/boxplot_triplet_feat_in_sample_specific.png', bbox_inches='tight', dpi=500)"
   ]
  },
  {
   "cell_type": "code",
   "execution_count": 262,
   "id": "21091b51-e42b-4b92-8270-5a3ea3ff9a1d",
   "metadata": {},
   "outputs": [
    {
     "name": "stdout",
     "output_type": "stream",
     "text": [
      "median # tsss from tissue-specific transcripts: 1.0\n",
      "median # tess from tissue-specific transcripts: 2.0\n",
      "median # ics from tissue-specific transcripts: 2.0\n"
     ]
    }
   ],
   "source": [
    "print(f'median # tsss from tissue-specific transcripts: {df.n_tss.median()}')\n",
    "print(f'median # tess from tissue-specific transcripts: {df.n_tes.median()}')\n",
    "print(f'median # ics from tissue-specific transcripts: {df.n_ic.median()}')"
   ]
  },
  {
   "cell_type": "code",
   "execution_count": null,
   "id": "ad869bb7-ffcf-4ef0-ba1e-79a106b62694",
   "metadata": {},
   "outputs": [],
   "source": []
  }
 ],
 "metadata": {
  "kernelspec": {
   "display_name": "Python 3",
   "language": "python",
   "name": "python3"
  },
  "language_info": {
   "codemirror_mode": {
    "name": "ipython",
    "version": 3
   },
   "file_extension": ".py",
   "mimetype": "text/x-python",
   "name": "python",
   "nbconvert_exporter": "python",
   "pygments_lexer": "ipython3",
   "version": "3.7.12"
  }
 },
 "nbformat": 4,
 "nbformat_minor": 5
}
