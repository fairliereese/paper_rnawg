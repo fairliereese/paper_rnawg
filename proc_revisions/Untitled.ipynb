{
 "cells": [
  {
   "cell_type": "code",
   "execution_count": null,
   "id": "d2773510-70d1-431c-9b2c-f521554a8d40",
   "metadata": {},
   "outputs": [],
   "source": [
    "import pyranges as pr\n",
    "fname = 'my_file.gff3'\n",
    "ofile = 'out_file.gtf'\n",
    "df = pr.read_gff3(fname)\n",
    "df.to_gtf(ofile)"
   ]
  }
 ],
 "metadata": {
  "kernelspec": {
   "display_name": "Python 3",
   "language": "python",
   "name": "python3"
  },
  "language_info": {
   "codemirror_mode": {
    "name": "ipython",
    "version": 3
   },
   "file_extension": ".py",
   "mimetype": "text/x-python",
   "name": "python",
   "nbconvert_exporter": "python",
   "pygments_lexer": "ipython3",
   "version": "3.7.12"
  }
 },
 "nbformat": 4,
 "nbformat_minor": 5
}
